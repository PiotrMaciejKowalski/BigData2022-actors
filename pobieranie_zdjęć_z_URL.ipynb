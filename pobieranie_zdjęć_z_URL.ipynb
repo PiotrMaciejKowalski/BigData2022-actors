{
  "nbformat": 4,
  "nbformat_minor": 0,
  "metadata": {
    "colab": {
      "provenance": [],
      "toc_visible": true,
      "authorship_tag": "ABX9TyMy3ZoEtAxISMQoPsPlwNNN",
      "include_colab_link": true
    },
    "kernelspec": {
      "name": "python3",
      "display_name": "Python 3"
    },
    "language_info": {
      "name": "python"
    }
  },
  "cells": [
    {
      "cell_type": "markdown",
      "metadata": {
        "id": "view-in-github",
        "colab_type": "text"
      },
      "source": [
        "<a href=\"https://colab.research.google.com/github/PiotrMaciejKowalski/BigData2022-actors/blob/pobieranie_zdj%C4%99%C4%87/pobieranie_zdj%C4%99%C4%87_z_URL.ipynb\" target=\"_parent\"><img src=\"https://colab.research.google.com/assets/colab-badge.svg\" alt=\"Open In Colab\"/></a>"
      ]
    },
    {
      "cell_type": "code",
      "source": [
        "from google.colab import drive\n",
        "drive.mount('/content/gdrive')"
      ],
      "metadata": {
        "id": "3jvD4dUeSPFN"
      },
      "execution_count": null,
      "outputs": []
    },
    {
      "cell_type": "code",
      "source": [
        "!git clone https://github.com/PiotrMaciejKowalski/BigData2022-actors.git\n",
        "!mv /content/BigData2022-actors/* .\n",
        "!mv /content/BigData2022-actors/.* .\n",
        "!rmdir /content/BigData2022-actors/"
      ],
      "metadata": {
        "id": "TJ2XniTm_Imu"
      },
      "execution_count": null,
      "outputs": []
    },
    {
      "cell_type": "code",
      "source": [
        "!chmod +x setup_sparka.sh\n",
        "!./setup_sparka.sh"
      ],
      "metadata": {
        "id": "g1jJlgp0_Mc1"
      },
      "execution_count": null,
      "outputs": []
    },
    {
      "cell_type": "code",
      "execution_count": null,
      "metadata": {
        "id": "8Vr3rumQ_t9i"
      },
      "outputs": [],
      "source": [
        "!pip install requests"
      ]
    },
    {
      "cell_type": "code",
      "source": [
        "from pyspark.sql.types import StructType, StructField, StringType, IntegerType\n",
        "import requests\n",
        "import numpy as np\n",
        "import cv2\n",
        "from lib.pyspark_init import create_spark_context\n",
        "from lib.saving_img import save_download, df_save_download"
      ],
      "metadata": {
        "id": "0pDRD8D-QNAc"
      },
      "execution_count": null,
      "outputs": []
    },
    {
      "cell_type": "code",
      "source": [
        "spark = create_spark_context()"
      ],
      "metadata": {
        "id": "0CA-6YyzR1Hw"
      },
      "execution_count": null,
      "outputs": []
    },
    {
      "cell_type": "markdown",
      "source": [
        "test:"
      ],
      "metadata": {
        "id": "aTfThpRkG1D4"
      }
    },
    {
      "cell_type": "code",
      "source": [
        "dataframe = [(\"Lucas\",\"https://images.unsplash.com/photo-1508921912186-1d1a45ebb3c1?ixlib=rb-4.0.3&ixid=MnwxMjA3fDB8MHxzZWFyY2h8Mnx8cGhvdG98ZW58MHx8MHx8&w=1000&q=80\",\"Smith\",\"36636\",\"M\",3000),\n",
        "    (\"Elijah\",\"https://www.paperlessmovement.com/wp-content/uploads/2019/09/o2dvsv2pnhe.jpg\",\"\",\"40288\",\"M\",4000),\n",
        "    (\"Emma\",\"https://mymodernmet.com/wp/wp-content/uploads/2019/12/photos-of-indonesia-rarindra-prakarsa-4.jpg\",\"Williams\",\"42114\",\"F\",4000),\n",
        "    (\"Sophia\",\"https://live-production.wcms.abc-cdn.net.au/50749be1153e1907d7e1208fc96432f8?impolicy=wcms_crop_resize&cropH=844&cropW=1500&xPos=0&yPos=0&width=862&height=485\",\"Jones\",\"39192\",\"F\",4000),\n",
        "    (\"Mia\",\"https://media.wired.com/photos/62ccbecc4847c5414f1e3dc9/3:2/w_1280%2Cc_limit/Light-Photo-Video-Like-a-Pro-Gear-GettyImages-142009824.jpg\",\"Brown\",\"\",\"F\",-1)\n",
        "  ]\n",
        "\n",
        "schema = StructType([ \\\n",
        "    StructField(\"name\",StringType(),True), \\\n",
        "    StructField(\"url\",StringType(),True), \\\n",
        "    StructField(\"lastname\",StringType(),True), \\\n",
        "    StructField(\"id\", StringType(), True), \\\n",
        "    StructField(\"gender\", StringType(), True), \\\n",
        "    StructField(\"salary\", IntegerType(), True) \\\n",
        "  ])\n",
        " \n",
        "df = spark.createDataFrame(data=dataframe,schema=schema)"
      ],
      "metadata": {
        "id": "gB-0gIYCQy2H"
      },
      "execution_count": null,
      "outputs": []
    },
    {
      "cell_type": "code",
      "source": [
        "df_save_download(df, 1, 0, '/content/gdrive/MyDrive/bigdataaktorzy/ImgData')"
      ],
      "metadata": {
        "id": "PhCcri8KHBXM"
      },
      "execution_count": null,
      "outputs": []
    }
  ]
}