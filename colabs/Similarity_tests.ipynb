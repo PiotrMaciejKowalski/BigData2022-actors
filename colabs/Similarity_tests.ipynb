{
  "nbformat": 4,
  "nbformat_minor": 0,
  "metadata": {
    "colab": {
      "provenance": [],
      "authorship_tag": "ABX9TyOox8jPZ+kvSsHU6AFH0kR7",
      "include_colab_link": true
    },
    "kernelspec": {
      "name": "python3",
      "display_name": "Python 3"
    },
    "language_info": {
      "name": "python"
    }
  },
  "cells": [
    {
      "cell_type": "markdown",
      "metadata": {
        "id": "view-in-github",
        "colab_type": "text"
      },
      "source": [
        "<a href=\"https://colab.research.google.com/github/PiotrMaciejKowalski/BigData2022-actors/blob/Wyjanienie-modelu---analiza-bdw/colabs/Similarity_tests.ipynb\" target=\"_parent\"><img src=\"https://colab.research.google.com/assets/colab-badge.svg\" alt=\"Open In Colab\"/></a>"
      ]
    },
    {
      "cell_type": "code",
      "execution_count": 1,
      "metadata": {
        "colab": {
          "base_uri": "https://localhost:8080/"
        },
        "id": "DUjhhU73FnVz",
        "outputId": "7eb1b182-827d-49f6-d237-82b3cefd9a2d"
      },
      "outputs": [
        {
          "output_type": "stream",
          "name": "stdout",
          "text": [
            "Mounted at /content/gdrive\n"
          ]
        }
      ],
      "source": [
        "from google.colab import drive\n",
        "drive.mount('/content/gdrive')"
      ]
    },
    {
      "cell_type": "code",
      "source": [
        "!git clone https://github.com/PiotrMaciejKowalski/BigData2022-actors.git\n",
        "!mv /content/BigData2022-actors/* .\n",
        "!mv /content/BigData2022-actors/.* .\n",
        "!rmdir /content/BigData2022-actors/"
      ],
      "metadata": {
        "colab": {
          "base_uri": "https://localhost:8080/"
        },
        "id": "RsNaC_WnFtrT",
        "outputId": "f92eaf3f-c619-481e-d90e-14c03e53267e"
      },
      "execution_count": 2,
      "outputs": [
        {
          "output_type": "stream",
          "name": "stdout",
          "text": [
            "Cloning into 'BigData2022-actors'...\n",
            "remote: Enumerating objects: 1926, done.\u001b[K\n",
            "remote: Counting objects: 100% (547/547), done.\u001b[K\n",
            "remote: Compressing objects: 100% (179/179), done.\u001b[K\n",
            "remote: Total 1926 (delta 469), reused 415 (delta 368), pack-reused 1379\u001b[K\n",
            "Receiving objects: 100% (1926/1926), 6.11 MiB | 12.33 MiB/s, done.\n",
            "Resolving deltas: 100% (1201/1201), done.\n",
            "mv: cannot move '/content/BigData2022-actors/.' to './.': Device or resource busy\n",
            "mv: cannot move '/content/BigData2022-actors/..' to './..': Device or resource busy\n"
          ]
        }
      ]
    },
    {
      "cell_type": "code",
      "source": [
        "# !git checkout Wyjanienie-modelu---analiza-bdw"
      ],
      "metadata": {
        "colab": {
          "base_uri": "https://localhost:8080/"
        },
        "id": "pUQ7CPOuFtoc",
        "outputId": "e5f1ed26-d65c-4a35-891f-0c5c8d6eb707"
      },
      "execution_count": 3,
      "outputs": [
        {
          "output_type": "stream",
          "name": "stdout",
          "text": [
            "Branch 'Wyjanienie-modelu---analiza-bdw' set up to track remote branch 'Wyjanienie-modelu---analiza-bdw' from 'origin'.\n",
            "Switched to a new branch 'Wyjanienie-modelu---analiza-bdw'\n"
          ]
        }
      ]
    },
    {
      "cell_type": "code",
      "source": [
        "!chmod +x setup_sparka.sh\n",
        "!./setup_sparka.sh"
      ],
      "metadata": {
        "colab": {
          "base_uri": "https://localhost:8080/"
        },
        "id": "SXoA0zhxFtl3",
        "outputId": "9f94f12b-04dd-4e26-b925-a55928644249"
      },
      "execution_count": 4,
      "outputs": [
        {
          "output_type": "stream",
          "name": "stdout",
          "text": [
            "Looking in indexes: https://pypi.org/simple, https://us-python.pkg.dev/colab-wheels/public/simple/\n",
            "Collecting pyspark\n",
            "  Downloading pyspark-3.3.1.tar.gz (281.4 MB)\n",
            "\u001b[2K     \u001b[90m━━━━━━━━━━━━━━━━━━━━━━━━━━━━━━━━━━━━━━━\u001b[0m \u001b[32m281.4/281.4 MB\u001b[0m \u001b[31m4.8 MB/s\u001b[0m eta \u001b[36m0:00:00\u001b[0m\n",
            "\u001b[?25h  Preparing metadata (setup.py) ... \u001b[?25l\u001b[?25hdone\n",
            "Collecting py4j\n",
            "  Downloading py4j-0.10.9.7-py2.py3-none-any.whl (200 kB)\n",
            "\u001b[2K     \u001b[90m━━━━━━━━━━━━━━━━━━━━━━━━━━━━━━━━━━━━━━\u001b[0m \u001b[32m200.5/200.5 KB\u001b[0m \u001b[31m24.4 MB/s\u001b[0m eta \u001b[36m0:00:00\u001b[0m\n",
            "\u001b[?25h  Downloading py4j-0.10.9.5-py2.py3-none-any.whl (199 kB)\n",
            "\u001b[2K     \u001b[90m━━━━━━━━━━━━━━━━━━━━━━━━━━━━━━━━━━━━━━\u001b[0m \u001b[32m199.7/199.7 KB\u001b[0m \u001b[31m26.9 MB/s\u001b[0m eta \u001b[36m0:00:00\u001b[0m\n",
            "\u001b[?25hBuilding wheels for collected packages: pyspark\n",
            "  Building wheel for pyspark (setup.py) ... \u001b[?25l\u001b[?25hdone\n",
            "  Created wheel for pyspark: filename=pyspark-3.3.1-py2.py3-none-any.whl size=281845512 sha256=e4475a7968c05310831c6752bdab23cc32493d85acd5a5c57ccc5df0f25fdcf5\n",
            "  Stored in directory: /root/.cache/pip/wheels/43/dc/11/ec201cd671da62fa9c5cc77078235e40722170ceba231d7598\n",
            "Successfully built pyspark\n",
            "Installing collected packages: py4j, pyspark\n",
            "Successfully installed py4j-0.10.9.5 pyspark-3.3.1\n",
            "--2023-01-22 21:55:40--  https://dlcdn.apache.org/spark/spark-3.3.1/spark-3.3.1-bin-hadoop2.tgz\n",
            "Resolving dlcdn.apache.org (dlcdn.apache.org)... 151.101.2.132, 2a04:4e42::644\n",
            "Connecting to dlcdn.apache.org (dlcdn.apache.org)|151.101.2.132|:443... connected.\n",
            "HTTP request sent, awaiting response... 200 OK\n",
            "Length: 274099817 (261M) [application/x-gzip]\n",
            "Saving to: ‘spark-3.3.1-bin-hadoop2.tgz’\n",
            "\n",
            "spark-3.3.1-bin-had 100%[===================>] 261.40M   273MB/s    in 1.0s    \n",
            "\n",
            "2023-01-22 21:55:50 (273 MB/s) - ‘spark-3.3.1-bin-hadoop2.tgz’ saved [274099817/274099817]\n",
            "\n"
          ]
        }
      ]
    },
    {
      "cell_type": "code",
      "source": [
        "import pandas as pd\n",
        "from lib.pyspark_init import create_spark_context\n",
        "from lib.similarity_utils import *\n",
        "from lib.const import TRAIN_DATA, VALIDATE_DATA, SIMILARITY_VALUES, RANKINGS"
      ],
      "metadata": {
        "id": "N_8U8CC6FtjZ"
      },
      "execution_count": 5,
      "outputs": []
    },
    {
      "cell_type": "code",
      "source": [
        "spark = create_spark_context()\n",
        "spark"
      ],
      "metadata": {
        "colab": {
          "base_uri": "https://localhost:8080/",
          "height": 219
        },
        "id": "lcVIAEWVFtgS",
        "outputId": "0d9f3ff8-4cad-4d58-eddb-c9ef16297820"
      },
      "execution_count": 6,
      "outputs": [
        {
          "output_type": "execute_result",
          "data": {
            "text/plain": [
              "<pyspark.sql.session.SparkSession at 0x7fe51120bf40>"
            ],
            "text/html": [
              "\n",
              "            <div>\n",
              "                <p><b>SparkSession - in-memory</b></p>\n",
              "                \n",
              "        <div>\n",
              "            <p><b>SparkContext</b></p>\n",
              "\n",
              "            <p><a href=\"http://508820f2d671:4040\">Spark UI</a></p>\n",
              "\n",
              "            <dl>\n",
              "              <dt>Version</dt>\n",
              "                <dd><code>v3.3.1</code></dd>\n",
              "              <dt>Master</dt>\n",
              "                <dd><code>local[*]</code></dd>\n",
              "              <dt>AppName</dt>\n",
              "                <dd><code>Colab</code></dd>\n",
              "            </dl>\n",
              "        </div>\n",
              "        \n",
              "            </div>\n",
              "        "
            ]
          },
          "metadata": {},
          "execution_count": 6
        }
      ]
    },
    {
      "cell_type": "code",
      "source": [
        "%%time\n",
        "train_data = pd.read_parquet(TRAIN_DATA, columns=[\"nconst\", \"tconst\", \"category\", \"primaryName\", \"knownForTitles\",\n",
        "                                                  \"no_nominations_oscars_norm\", \"no_nominations_globes_norm\",\n",
        "                                                  \"no_nominations_emmy_norm\", \"no_films_norm\",\n",
        "                                                  \"average_films_rating_norm\", \"genres_code\", \"types_code\"])\n",
        "validate_data = pd.read_parquet(VALIDATE_DATA, columns=[\"nconst\", \"tconst\", \"category\", \"primaryName\", \"knownForTitles\",\n",
        "                                                  \"no_nominations_oscars_norm\", \"no_nominations_globes_norm\",\n",
        "                                                  \"no_nominations_emmy_norm\", \"no_films_norm\",\n",
        "                                                  \"average_films_rating_norm\", \"genres_code\", \"types_code\"])"
      ],
      "metadata": {
        "colab": {
          "base_uri": "https://localhost:8080/"
        },
        "id": "AMzXW0oIGAqT",
        "outputId": "e3c12643-f3e5-4c3d-e754-5a677c31b2d3"
      },
      "execution_count": 7,
      "outputs": [
        {
          "output_type": "stream",
          "name": "stdout",
          "text": [
            "CPU times: user 33.3 s, sys: 7.24 s, total: 40.5 s\n",
            "Wall time: 53.3 s\n"
          ]
        }
      ]
    },
    {
      "cell_type": "markdown",
      "source": [
        "# Porównywanie dwóch aktorów"
      ],
      "metadata": {
        "id": "r8q5uNEDV57T"
      }
    },
    {
      "cell_type": "markdown",
      "source": [
        "Wyciągnięcie pierwszego aktora"
      ],
      "metadata": {
        "id": "Oum5fGAmGpzt"
      }
    },
    {
      "cell_type": "markdown",
      "source": [
        "Weź id aktora ze strony imdb. Wpisujemy imię i nazwisko aktora w wyszukiwarkę na imdb i kopiujemy jego id z linku, np. dla Natalie Portman id bierzemy z linku: https://www.imdb.com/name/nm0000204/?ref_=nv_sr_srsg_0"
      ],
      "metadata": {
        "id": "qfBx7BfWcUdR"
      }
    },
    {
      "cell_type": "code",
      "source": [
        "actor1_id = \"nm0000204\""
      ],
      "metadata": {
        "id": "4E_wuUsfIfVM"
      },
      "execution_count": 8,
      "outputs": []
    },
    {
      "cell_type": "code",
      "source": [
        "if (train_data['nconst'] == actor1_id).any():\n",
        "    actor1_data = find_actor(train_data,  actor1_id)\n",
        "    display(pd.DataFrame(actor1_data))\n",
        "    actor1_data = prepare_pandas_row(actor1_data)\n",
        "elif (validate_data['nconst'] == actor1_id).any():\n",
        "    actor1_data = find_actor(validate_data,  actor1_id)\n",
        "    display(pd.DataFrame(actor1_data))\n",
        "    actor1_data = prepare_pandas_row(actor1_data)\n",
        "else:\n",
        "    print(\"Aktora nie ma w danych treningowych i walidacyjnych. Wybierz innego aktora.\")"
      ],
      "metadata": {
        "colab": {
          "base_uri": "https://localhost:8080/",
          "height": 425
        },
        "id": "_-6MnsD1GpOl",
        "outputId": "66813d8b-61d5-4a22-850d-240dbc6f0556"
      },
      "execution_count": 9,
      "outputs": [
        {
          "output_type": "display_data",
          "data": {
            "text/plain": [
              "                                                                       337799\n",
              "nconst                                                              nm0000204\n",
              "tconst                      [tt0121766, tt1032825, tt8918080, tt1094249, t...\n",
              "category                                                              actress\n",
              "primaryName                                                   Natalie Portman\n",
              "knownForTitles                   [tt0947798, tt0376541, tt0110413, tt0434409]\n",
              "no_nominations_oscars_norm                                              0.068\n",
              "no_nominations_globes_norm                                              0.174\n",
              "no_nominations_emmy_norm                                                  0.5\n",
              "no_films_norm                                                           0.006\n",
              "average_films_rating_norm                                               0.666\n",
              "genres_code                 [1, 1, 1, 1, 1, 1, 1, 0, 1, 1, 0, 0, 1, 1, 0, ...\n",
              "types_code                                  [0, 1, 0, 1, 1, 0, 1, 0, 0, 1, 0]"
            ],
            "text/html": [
              "\n",
              "  <div id=\"df-75ae79cc-8d1f-4e2d-a697-64cc4a833f3b\">\n",
              "    <div class=\"colab-df-container\">\n",
              "      <div>\n",
              "<style scoped>\n",
              "    .dataframe tbody tr th:only-of-type {\n",
              "        vertical-align: middle;\n",
              "    }\n",
              "\n",
              "    .dataframe tbody tr th {\n",
              "        vertical-align: top;\n",
              "    }\n",
              "\n",
              "    .dataframe thead th {\n",
              "        text-align: right;\n",
              "    }\n",
              "</style>\n",
              "<table border=\"1\" class=\"dataframe\">\n",
              "  <thead>\n",
              "    <tr style=\"text-align: right;\">\n",
              "      <th></th>\n",
              "      <th>337799</th>\n",
              "    </tr>\n",
              "  </thead>\n",
              "  <tbody>\n",
              "    <tr>\n",
              "      <th>nconst</th>\n",
              "      <td>nm0000204</td>\n",
              "    </tr>\n",
              "    <tr>\n",
              "      <th>tconst</th>\n",
              "      <td>[tt0121766, tt1032825, tt8918080, tt1094249, t...</td>\n",
              "    </tr>\n",
              "    <tr>\n",
              "      <th>category</th>\n",
              "      <td>actress</td>\n",
              "    </tr>\n",
              "    <tr>\n",
              "      <th>primaryName</th>\n",
              "      <td>Natalie Portman</td>\n",
              "    </tr>\n",
              "    <tr>\n",
              "      <th>knownForTitles</th>\n",
              "      <td>[tt0947798, tt0376541, tt0110413, tt0434409]</td>\n",
              "    </tr>\n",
              "    <tr>\n",
              "      <th>no_nominations_oscars_norm</th>\n",
              "      <td>0.068</td>\n",
              "    </tr>\n",
              "    <tr>\n",
              "      <th>no_nominations_globes_norm</th>\n",
              "      <td>0.174</td>\n",
              "    </tr>\n",
              "    <tr>\n",
              "      <th>no_nominations_emmy_norm</th>\n",
              "      <td>0.5</td>\n",
              "    </tr>\n",
              "    <tr>\n",
              "      <th>no_films_norm</th>\n",
              "      <td>0.006</td>\n",
              "    </tr>\n",
              "    <tr>\n",
              "      <th>average_films_rating_norm</th>\n",
              "      <td>0.666</td>\n",
              "    </tr>\n",
              "    <tr>\n",
              "      <th>genres_code</th>\n",
              "      <td>[1, 1, 1, 1, 1, 1, 1, 0, 1, 1, 0, 0, 1, 1, 0, ...</td>\n",
              "    </tr>\n",
              "    <tr>\n",
              "      <th>types_code</th>\n",
              "      <td>[0, 1, 0, 1, 1, 0, 1, 0, 0, 1, 0]</td>\n",
              "    </tr>\n",
              "  </tbody>\n",
              "</table>\n",
              "</div>\n",
              "      <button class=\"colab-df-convert\" onclick=\"convertToInteractive('df-75ae79cc-8d1f-4e2d-a697-64cc4a833f3b')\"\n",
              "              title=\"Convert this dataframe to an interactive table.\"\n",
              "              style=\"display:none;\">\n",
              "        \n",
              "  <svg xmlns=\"http://www.w3.org/2000/svg\" height=\"24px\"viewBox=\"0 0 24 24\"\n",
              "       width=\"24px\">\n",
              "    <path d=\"M0 0h24v24H0V0z\" fill=\"none\"/>\n",
              "    <path d=\"M18.56 5.44l.94 2.06.94-2.06 2.06-.94-2.06-.94-.94-2.06-.94 2.06-2.06.94zm-11 1L8.5 8.5l.94-2.06 2.06-.94-2.06-.94L8.5 2.5l-.94 2.06-2.06.94zm10 10l.94 2.06.94-2.06 2.06-.94-2.06-.94-.94-2.06-.94 2.06-2.06.94z\"/><path d=\"M17.41 7.96l-1.37-1.37c-.4-.4-.92-.59-1.43-.59-.52 0-1.04.2-1.43.59L10.3 9.45l-7.72 7.72c-.78.78-.78 2.05 0 2.83L4 21.41c.39.39.9.59 1.41.59.51 0 1.02-.2 1.41-.59l7.78-7.78 2.81-2.81c.8-.78.8-2.07 0-2.86zM5.41 20L4 18.59l7.72-7.72 1.47 1.35L5.41 20z\"/>\n",
              "  </svg>\n",
              "      </button>\n",
              "      \n",
              "  <style>\n",
              "    .colab-df-container {\n",
              "      display:flex;\n",
              "      flex-wrap:wrap;\n",
              "      gap: 12px;\n",
              "    }\n",
              "\n",
              "    .colab-df-convert {\n",
              "      background-color: #E8F0FE;\n",
              "      border: none;\n",
              "      border-radius: 50%;\n",
              "      cursor: pointer;\n",
              "      display: none;\n",
              "      fill: #1967D2;\n",
              "      height: 32px;\n",
              "      padding: 0 0 0 0;\n",
              "      width: 32px;\n",
              "    }\n",
              "\n",
              "    .colab-df-convert:hover {\n",
              "      background-color: #E2EBFA;\n",
              "      box-shadow: 0px 1px 2px rgba(60, 64, 67, 0.3), 0px 1px 3px 1px rgba(60, 64, 67, 0.15);\n",
              "      fill: #174EA6;\n",
              "    }\n",
              "\n",
              "    [theme=dark] .colab-df-convert {\n",
              "      background-color: #3B4455;\n",
              "      fill: #D2E3FC;\n",
              "    }\n",
              "\n",
              "    [theme=dark] .colab-df-convert:hover {\n",
              "      background-color: #434B5C;\n",
              "      box-shadow: 0px 1px 3px 1px rgba(0, 0, 0, 0.15);\n",
              "      filter: drop-shadow(0px 1px 2px rgba(0, 0, 0, 0.3));\n",
              "      fill: #FFFFFF;\n",
              "    }\n",
              "  </style>\n",
              "\n",
              "      <script>\n",
              "        const buttonEl =\n",
              "          document.querySelector('#df-75ae79cc-8d1f-4e2d-a697-64cc4a833f3b button.colab-df-convert');\n",
              "        buttonEl.style.display =\n",
              "          google.colab.kernel.accessAllowed ? 'block' : 'none';\n",
              "\n",
              "        async function convertToInteractive(key) {\n",
              "          const element = document.querySelector('#df-75ae79cc-8d1f-4e2d-a697-64cc4a833f3b');\n",
              "          const dataTable =\n",
              "            await google.colab.kernel.invokeFunction('convertToInteractive',\n",
              "                                                     [key], {});\n",
              "          if (!dataTable) return;\n",
              "\n",
              "          const docLinkHtml = 'Like what you see? Visit the ' +\n",
              "            '<a target=\"_blank\" href=https://colab.research.google.com/notebooks/data_table.ipynb>data table notebook</a>'\n",
              "            + ' to learn more about interactive tables.';\n",
              "          element.innerHTML = '';\n",
              "          dataTable['output_type'] = 'display_data';\n",
              "          await google.colab.output.renderOutput(dataTable, element);\n",
              "          const docLink = document.createElement('div');\n",
              "          docLink.innerHTML = docLinkHtml;\n",
              "          element.appendChild(docLink);\n",
              "        }\n",
              "      </script>\n",
              "    </div>\n",
              "  </div>\n",
              "  "
            ]
          },
          "metadata": {}
        }
      ]
    },
    {
      "cell_type": "markdown",
      "source": [
        "Wyciągnięcie drugiego aktora"
      ],
      "metadata": {
        "id": "1dQlAEbFGtx6"
      }
    },
    {
      "cell_type": "code",
      "source": [
        "actor2_id = \"nm0461136\""
      ],
      "metadata": {
        "id": "dklhZoNLIjtS"
      },
      "execution_count": 10,
      "outputs": []
    },
    {
      "cell_type": "code",
      "source": [
        "if (train_data['nconst'] == actor2_id).any():\n",
        "    actor2_data = find_actor(train_data,  actor2_id)\n",
        "    display(pd.DataFrame(actor2_data))\n",
        "    actor2_data = prepare_pandas_row(actor2_data)\n",
        "elif (validate_data['nconst'] == actor2_id).any():\n",
        "    actor2_data = find_actor(validate_data,  actor2_id)\n",
        "    display(pd.DataFrame(actor2_data))\n",
        "    actor2_data = prepare_pandas_row(actor2_data)\n",
        "else:\n",
        "    print(\"Aktora nie ma w danych treningowych i walidacyjnych. Wybierz innego aktora.\")"
      ],
      "metadata": {
        "colab": {
          "base_uri": "https://localhost:8080/",
          "height": 425
        },
        "id": "7aTh_u8jGAnf",
        "outputId": "4468da19-ee1f-4846-a70e-94225b4c0de2"
      },
      "execution_count": 11,
      "outputs": [
        {
          "output_type": "display_data",
          "data": {
            "text/plain": [
              "                                                                       993366\n",
              "nconst                                                              nm0461136\n",
              "tconst                      [tt0368925, tt0366627, tt0409997, tt1307068, t...\n",
              "category                                                              actress\n",
              "primaryName                                                   Keira Knightley\n",
              "knownForTitles                   [tt0325980, tt2084970, tt0783233, tt0414387]\n",
              "no_nominations_oscars_norm                                              0.045\n",
              "no_nominations_globes_norm                                               0.13\n",
              "no_nominations_emmy_norm                                                  0.5\n",
              "no_films_norm                                                           0.005\n",
              "average_films_rating_norm                                               0.648\n",
              "genres_code                 [1, 1, 1, 1, 1, 1, 1, 0, 1, 1, 0, 0, 1, 1, 0, ...\n",
              "types_code                                  [1, 1, 1, 1, 1, 0, 1, 1, 1, 1, 0]"
            ],
            "text/html": [
              "\n",
              "  <div id=\"df-fdf50fa3-2041-4e3b-b72e-85587a3ce346\">\n",
              "    <div class=\"colab-df-container\">\n",
              "      <div>\n",
              "<style scoped>\n",
              "    .dataframe tbody tr th:only-of-type {\n",
              "        vertical-align: middle;\n",
              "    }\n",
              "\n",
              "    .dataframe tbody tr th {\n",
              "        vertical-align: top;\n",
              "    }\n",
              "\n",
              "    .dataframe thead th {\n",
              "        text-align: right;\n",
              "    }\n",
              "</style>\n",
              "<table border=\"1\" class=\"dataframe\">\n",
              "  <thead>\n",
              "    <tr style=\"text-align: right;\">\n",
              "      <th></th>\n",
              "      <th>993366</th>\n",
              "    </tr>\n",
              "  </thead>\n",
              "  <tbody>\n",
              "    <tr>\n",
              "      <th>nconst</th>\n",
              "      <td>nm0461136</td>\n",
              "    </tr>\n",
              "    <tr>\n",
              "      <th>tconst</th>\n",
              "      <td>[tt0368925, tt0366627, tt0409997, tt1307068, t...</td>\n",
              "    </tr>\n",
              "    <tr>\n",
              "      <th>category</th>\n",
              "      <td>actress</td>\n",
              "    </tr>\n",
              "    <tr>\n",
              "      <th>primaryName</th>\n",
              "      <td>Keira Knightley</td>\n",
              "    </tr>\n",
              "    <tr>\n",
              "      <th>knownForTitles</th>\n",
              "      <td>[tt0325980, tt2084970, tt0783233, tt0414387]</td>\n",
              "    </tr>\n",
              "    <tr>\n",
              "      <th>no_nominations_oscars_norm</th>\n",
              "      <td>0.045</td>\n",
              "    </tr>\n",
              "    <tr>\n",
              "      <th>no_nominations_globes_norm</th>\n",
              "      <td>0.13</td>\n",
              "    </tr>\n",
              "    <tr>\n",
              "      <th>no_nominations_emmy_norm</th>\n",
              "      <td>0.5</td>\n",
              "    </tr>\n",
              "    <tr>\n",
              "      <th>no_films_norm</th>\n",
              "      <td>0.005</td>\n",
              "    </tr>\n",
              "    <tr>\n",
              "      <th>average_films_rating_norm</th>\n",
              "      <td>0.648</td>\n",
              "    </tr>\n",
              "    <tr>\n",
              "      <th>genres_code</th>\n",
              "      <td>[1, 1, 1, 1, 1, 1, 1, 0, 1, 1, 0, 0, 1, 1, 0, ...</td>\n",
              "    </tr>\n",
              "    <tr>\n",
              "      <th>types_code</th>\n",
              "      <td>[1, 1, 1, 1, 1, 0, 1, 1, 1, 1, 0]</td>\n",
              "    </tr>\n",
              "  </tbody>\n",
              "</table>\n",
              "</div>\n",
              "      <button class=\"colab-df-convert\" onclick=\"convertToInteractive('df-fdf50fa3-2041-4e3b-b72e-85587a3ce346')\"\n",
              "              title=\"Convert this dataframe to an interactive table.\"\n",
              "              style=\"display:none;\">\n",
              "        \n",
              "  <svg xmlns=\"http://www.w3.org/2000/svg\" height=\"24px\"viewBox=\"0 0 24 24\"\n",
              "       width=\"24px\">\n",
              "    <path d=\"M0 0h24v24H0V0z\" fill=\"none\"/>\n",
              "    <path d=\"M18.56 5.44l.94 2.06.94-2.06 2.06-.94-2.06-.94-.94-2.06-.94 2.06-2.06.94zm-11 1L8.5 8.5l.94-2.06 2.06-.94-2.06-.94L8.5 2.5l-.94 2.06-2.06.94zm10 10l.94 2.06.94-2.06 2.06-.94-2.06-.94-.94-2.06-.94 2.06-2.06.94z\"/><path d=\"M17.41 7.96l-1.37-1.37c-.4-.4-.92-.59-1.43-.59-.52 0-1.04.2-1.43.59L10.3 9.45l-7.72 7.72c-.78.78-.78 2.05 0 2.83L4 21.41c.39.39.9.59 1.41.59.51 0 1.02-.2 1.41-.59l7.78-7.78 2.81-2.81c.8-.78.8-2.07 0-2.86zM5.41 20L4 18.59l7.72-7.72 1.47 1.35L5.41 20z\"/>\n",
              "  </svg>\n",
              "      </button>\n",
              "      \n",
              "  <style>\n",
              "    .colab-df-container {\n",
              "      display:flex;\n",
              "      flex-wrap:wrap;\n",
              "      gap: 12px;\n",
              "    }\n",
              "\n",
              "    .colab-df-convert {\n",
              "      background-color: #E8F0FE;\n",
              "      border: none;\n",
              "      border-radius: 50%;\n",
              "      cursor: pointer;\n",
              "      display: none;\n",
              "      fill: #1967D2;\n",
              "      height: 32px;\n",
              "      padding: 0 0 0 0;\n",
              "      width: 32px;\n",
              "    }\n",
              "\n",
              "    .colab-df-convert:hover {\n",
              "      background-color: #E2EBFA;\n",
              "      box-shadow: 0px 1px 2px rgba(60, 64, 67, 0.3), 0px 1px 3px 1px rgba(60, 64, 67, 0.15);\n",
              "      fill: #174EA6;\n",
              "    }\n",
              "\n",
              "    [theme=dark] .colab-df-convert {\n",
              "      background-color: #3B4455;\n",
              "      fill: #D2E3FC;\n",
              "    }\n",
              "\n",
              "    [theme=dark] .colab-df-convert:hover {\n",
              "      background-color: #434B5C;\n",
              "      box-shadow: 0px 1px 3px 1px rgba(0, 0, 0, 0.15);\n",
              "      filter: drop-shadow(0px 1px 2px rgba(0, 0, 0, 0.3));\n",
              "      fill: #FFFFFF;\n",
              "    }\n",
              "  </style>\n",
              "\n",
              "      <script>\n",
              "        const buttonEl =\n",
              "          document.querySelector('#df-fdf50fa3-2041-4e3b-b72e-85587a3ce346 button.colab-df-convert');\n",
              "        buttonEl.style.display =\n",
              "          google.colab.kernel.accessAllowed ? 'block' : 'none';\n",
              "\n",
              "        async function convertToInteractive(key) {\n",
              "          const element = document.querySelector('#df-fdf50fa3-2041-4e3b-b72e-85587a3ce346');\n",
              "          const dataTable =\n",
              "            await google.colab.kernel.invokeFunction('convertToInteractive',\n",
              "                                                     [key], {});\n",
              "          if (!dataTable) return;\n",
              "\n",
              "          const docLinkHtml = 'Like what you see? Visit the ' +\n",
              "            '<a target=\"_blank\" href=https://colab.research.google.com/notebooks/data_table.ipynb>data table notebook</a>'\n",
              "            + ' to learn more about interactive tables.';\n",
              "          element.innerHTML = '';\n",
              "          dataTable['output_type'] = 'display_data';\n",
              "          await google.colab.output.renderOutput(dataTable, element);\n",
              "          const docLink = document.createElement('div');\n",
              "          docLink.innerHTML = docLinkHtml;\n",
              "          element.appendChild(docLink);\n",
              "        }\n",
              "      </script>\n",
              "    </div>\n",
              "  </div>\n",
              "  "
            ]
          },
          "metadata": {}
        }
      ]
    },
    {
      "cell_type": "markdown",
      "source": [
        "Wyniki similarity dla tych dwóch aktorów"
      ],
      "metadata": {
        "id": "LeI3mWFKG3g2"
      }
    },
    {
      "cell_type": "code",
      "source": [
        "similarity_value = similarity_new(actor1_data, actor2_data, True)\n",
        "print(\"Wartość similarity dla \", actor1_data[3], \" i \", actor2_data[3], \" wynosi: \", similarity_value)"
      ],
      "metadata": {
        "colab": {
          "base_uri": "https://localhost:8080/"
        },
        "id": "aNvJ9tJ7G3Vm",
        "outputId": "d6056e42-35e6-4b81-b430-37a05f37e4df"
      },
      "execution_count": 13,
      "outputs": [
        {
          "output_type": "stream",
          "name": "stdout",
          "text": [
            "Wartość similarity dla  Natalie Portman  i  Keira Knightley  wynosi:  0.20127943573667717\n"
          ]
        }
      ]
    },
    {
      "cell_type": "markdown",
      "source": [
        "Zapisanie porównywanych par aktorów wraz wartością similarity do pliku na Google Drive."
      ],
      "metadata": {
        "id": "e54O__BxMmIL"
      }
    },
    {
      "cell_type": "code",
      "source": [
        "file_object = open(SIMILARITY_VALUES, 'a')\n",
        "text = \"{}, {}, similarity value: {}\\n\".format(actor1_data[3], actor2_data[3], similarity_value)\n",
        "file_object.write(text)\n",
        "file_object.close()"
      ],
      "metadata": {
        "id": "1kiDzvZKLj3R"
      },
      "execution_count": 15,
      "outputs": []
    },
    {
      "cell_type": "markdown",
      "source": [
        "Zapisanie wniosków, jeśli wyszło coś ciekawego"
      ],
      "metadata": {
        "id": "DrpSBC63Gxcu"
      }
    },
    {
      "cell_type": "markdown",
      "source": [],
      "metadata": {
        "id": "vcI8pg7TMkS4"
      }
    },
    {
      "cell_type": "markdown",
      "source": [
        "# Ranking najbardziej podobnych aktorów do podanego"
      ],
      "metadata": {
        "id": "izniBDUMV4Qj"
      }
    },
    {
      "cell_type": "markdown",
      "source": [
        "Wyciągnięcie aktora"
      ],
      "metadata": {
        "id": "u7xVnBSMWBPy"
      }
    },
    {
      "cell_type": "markdown",
      "source": [
        "Weź id aktora ze strony imdb. Wpisujemy imię i nazwisko aktora w wyszukiwarkę na imdb i kopiujemy jego id z linku, np. dla Natalie Portman id bierzemy z linku: https://www.imdb.com/name/nm0000204/?ref_=nv_sr_srsg_0"
      ],
      "metadata": {
        "id": "WKuPVVOqd3ot"
      }
    },
    {
      "cell_type": "code",
      "source": [
        "actor_id = \"nm0000204\""
      ],
      "metadata": {
        "id": "V5aRg8HNWAZu"
      },
      "execution_count": 16,
      "outputs": []
    },
    {
      "cell_type": "code",
      "source": [
        "if (train_data['nconst'] == actor_id).any():\n",
        "    actor_data = find_actor(train_data,  actor_id)\n",
        "    display(pd.DataFrame(actor_data))\n",
        "    actor_data = prepare_pandas_row(actor_data)\n",
        "elif (validate_data['nconst'] == actor_id).any():\n",
        "    actor_data = find_actor(validate_data,  actor_id)\n",
        "    display(pd.DataFrame(actor_data))\n",
        "    actor_data = prepare_pandas_row(actor_data)\n",
        "else:\n",
        "    print(\"Aktora nie ma w danych treningowych i walidacyjnych. Wybierz innego aktora.\")"
      ],
      "metadata": {
        "colab": {
          "base_uri": "https://localhost:8080/",
          "height": 425
        },
        "id": "jXtCIWWnWJbb",
        "outputId": "e986ea9f-c8d6-4bd4-ee8b-a0e9c290971a"
      },
      "execution_count": 17,
      "outputs": [
        {
          "output_type": "display_data",
          "data": {
            "text/plain": [
              "                                                                       337799\n",
              "nconst                                                              nm0000204\n",
              "tconst                      [tt0121766, tt1032825, tt8918080, tt1094249, t...\n",
              "category                                                              actress\n",
              "primaryName                                                   Natalie Portman\n",
              "knownForTitles                   [tt0947798, tt0376541, tt0110413, tt0434409]\n",
              "no_nominations_oscars_norm                                              0.068\n",
              "no_nominations_globes_norm                                              0.174\n",
              "no_nominations_emmy_norm                                                  0.5\n",
              "no_films_norm                                                           0.006\n",
              "average_films_rating_norm                                               0.666\n",
              "genres_code                 [1, 1, 1, 1, 1, 1, 1, 0, 1, 1, 0, 0, 1, 1, 0, ...\n",
              "types_code                                  [0, 1, 0, 1, 1, 0, 1, 0, 0, 1, 0]"
            ],
            "text/html": [
              "\n",
              "  <div id=\"df-cef0bd8a-1d72-4dc8-8e1b-1e780d341dc7\">\n",
              "    <div class=\"colab-df-container\">\n",
              "      <div>\n",
              "<style scoped>\n",
              "    .dataframe tbody tr th:only-of-type {\n",
              "        vertical-align: middle;\n",
              "    }\n",
              "\n",
              "    .dataframe tbody tr th {\n",
              "        vertical-align: top;\n",
              "    }\n",
              "\n",
              "    .dataframe thead th {\n",
              "        text-align: right;\n",
              "    }\n",
              "</style>\n",
              "<table border=\"1\" class=\"dataframe\">\n",
              "  <thead>\n",
              "    <tr style=\"text-align: right;\">\n",
              "      <th></th>\n",
              "      <th>337799</th>\n",
              "    </tr>\n",
              "  </thead>\n",
              "  <tbody>\n",
              "    <tr>\n",
              "      <th>nconst</th>\n",
              "      <td>nm0000204</td>\n",
              "    </tr>\n",
              "    <tr>\n",
              "      <th>tconst</th>\n",
              "      <td>[tt0121766, tt1032825, tt8918080, tt1094249, t...</td>\n",
              "    </tr>\n",
              "    <tr>\n",
              "      <th>category</th>\n",
              "      <td>actress</td>\n",
              "    </tr>\n",
              "    <tr>\n",
              "      <th>primaryName</th>\n",
              "      <td>Natalie Portman</td>\n",
              "    </tr>\n",
              "    <tr>\n",
              "      <th>knownForTitles</th>\n",
              "      <td>[tt0947798, tt0376541, tt0110413, tt0434409]</td>\n",
              "    </tr>\n",
              "    <tr>\n",
              "      <th>no_nominations_oscars_norm</th>\n",
              "      <td>0.068</td>\n",
              "    </tr>\n",
              "    <tr>\n",
              "      <th>no_nominations_globes_norm</th>\n",
              "      <td>0.174</td>\n",
              "    </tr>\n",
              "    <tr>\n",
              "      <th>no_nominations_emmy_norm</th>\n",
              "      <td>0.5</td>\n",
              "    </tr>\n",
              "    <tr>\n",
              "      <th>no_films_norm</th>\n",
              "      <td>0.006</td>\n",
              "    </tr>\n",
              "    <tr>\n",
              "      <th>average_films_rating_norm</th>\n",
              "      <td>0.666</td>\n",
              "    </tr>\n",
              "    <tr>\n",
              "      <th>genres_code</th>\n",
              "      <td>[1, 1, 1, 1, 1, 1, 1, 0, 1, 1, 0, 0, 1, 1, 0, ...</td>\n",
              "    </tr>\n",
              "    <tr>\n",
              "      <th>types_code</th>\n",
              "      <td>[0, 1, 0, 1, 1, 0, 1, 0, 0, 1, 0]</td>\n",
              "    </tr>\n",
              "  </tbody>\n",
              "</table>\n",
              "</div>\n",
              "      <button class=\"colab-df-convert\" onclick=\"convertToInteractive('df-cef0bd8a-1d72-4dc8-8e1b-1e780d341dc7')\"\n",
              "              title=\"Convert this dataframe to an interactive table.\"\n",
              "              style=\"display:none;\">\n",
              "        \n",
              "  <svg xmlns=\"http://www.w3.org/2000/svg\" height=\"24px\"viewBox=\"0 0 24 24\"\n",
              "       width=\"24px\">\n",
              "    <path d=\"M0 0h24v24H0V0z\" fill=\"none\"/>\n",
              "    <path d=\"M18.56 5.44l.94 2.06.94-2.06 2.06-.94-2.06-.94-.94-2.06-.94 2.06-2.06.94zm-11 1L8.5 8.5l.94-2.06 2.06-.94-2.06-.94L8.5 2.5l-.94 2.06-2.06.94zm10 10l.94 2.06.94-2.06 2.06-.94-2.06-.94-.94-2.06-.94 2.06-2.06.94z\"/><path d=\"M17.41 7.96l-1.37-1.37c-.4-.4-.92-.59-1.43-.59-.52 0-1.04.2-1.43.59L10.3 9.45l-7.72 7.72c-.78.78-.78 2.05 0 2.83L4 21.41c.39.39.9.59 1.41.59.51 0 1.02-.2 1.41-.59l7.78-7.78 2.81-2.81c.8-.78.8-2.07 0-2.86zM5.41 20L4 18.59l7.72-7.72 1.47 1.35L5.41 20z\"/>\n",
              "  </svg>\n",
              "      </button>\n",
              "      \n",
              "  <style>\n",
              "    .colab-df-container {\n",
              "      display:flex;\n",
              "      flex-wrap:wrap;\n",
              "      gap: 12px;\n",
              "    }\n",
              "\n",
              "    .colab-df-convert {\n",
              "      background-color: #E8F0FE;\n",
              "      border: none;\n",
              "      border-radius: 50%;\n",
              "      cursor: pointer;\n",
              "      display: none;\n",
              "      fill: #1967D2;\n",
              "      height: 32px;\n",
              "      padding: 0 0 0 0;\n",
              "      width: 32px;\n",
              "    }\n",
              "\n",
              "    .colab-df-convert:hover {\n",
              "      background-color: #E2EBFA;\n",
              "      box-shadow: 0px 1px 2px rgba(60, 64, 67, 0.3), 0px 1px 3px 1px rgba(60, 64, 67, 0.15);\n",
              "      fill: #174EA6;\n",
              "    }\n",
              "\n",
              "    [theme=dark] .colab-df-convert {\n",
              "      background-color: #3B4455;\n",
              "      fill: #D2E3FC;\n",
              "    }\n",
              "\n",
              "    [theme=dark] .colab-df-convert:hover {\n",
              "      background-color: #434B5C;\n",
              "      box-shadow: 0px 1px 3px 1px rgba(0, 0, 0, 0.15);\n",
              "      filter: drop-shadow(0px 1px 2px rgba(0, 0, 0, 0.3));\n",
              "      fill: #FFFFFF;\n",
              "    }\n",
              "  </style>\n",
              "\n",
              "      <script>\n",
              "        const buttonEl =\n",
              "          document.querySelector('#df-cef0bd8a-1d72-4dc8-8e1b-1e780d341dc7 button.colab-df-convert');\n",
              "        buttonEl.style.display =\n",
              "          google.colab.kernel.accessAllowed ? 'block' : 'none';\n",
              "\n",
              "        async function convertToInteractive(key) {\n",
              "          const element = document.querySelector('#df-cef0bd8a-1d72-4dc8-8e1b-1e780d341dc7');\n",
              "          const dataTable =\n",
              "            await google.colab.kernel.invokeFunction('convertToInteractive',\n",
              "                                                     [key], {});\n",
              "          if (!dataTable) return;\n",
              "\n",
              "          const docLinkHtml = 'Like what you see? Visit the ' +\n",
              "            '<a target=\"_blank\" href=https://colab.research.google.com/notebooks/data_table.ipynb>data table notebook</a>'\n",
              "            + ' to learn more about interactive tables.';\n",
              "          element.innerHTML = '';\n",
              "          dataTable['output_type'] = 'display_data';\n",
              "          await google.colab.output.renderOutput(dataTable, element);\n",
              "          const docLink = document.createElement('div');\n",
              "          docLink.innerHTML = docLinkHtml;\n",
              "          element.appendChild(docLink);\n",
              "        }\n",
              "      </script>\n",
              "    </div>\n",
              "  </div>\n",
              "  "
            ]
          },
          "metadata": {}
        }
      ]
    },
    {
      "cell_type": "markdown",
      "source": [
        "Ranking 3 najbardziej podobnych aktorów do podanego powyżej"
      ],
      "metadata": {
        "id": "Bd56WluvWTXD"
      }
    },
    {
      "cell_type": "code",
      "source": [
        "if (train_data['nconst'] == actor_id).any():\n",
        "    ids, values = similarity_one_vs_all_new(train_data, actor_data, True)\n",
        "    ids, values = select_top_similiar(ids, values, 3)\n",
        "    names = replace_ids_with_names(train_data, ids, 3)\n",
        "elif (validate_data['nconst'] == actor_id).any():\n",
        "    ids, values = similarity_one_vs_all_new(validate_data, actor_data, True)\n",
        "    ids, values = select_top_similiar(ids, values, 3)\n",
        "    names = replace_ids_with_names(validate_data, ids, 3)\n",
        "ranking = print_top_similiar(actor_data[3], names, values)"
      ],
      "metadata": {
        "colab": {
          "base_uri": "https://localhost:8080/"
        },
        "id": "esrraEQAWYlC",
        "outputId": "2dcdad75-4921-4353-b276-25d5d2fa0960"
      },
      "execution_count": 19,
      "outputs": [
        {
          "output_type": "stream",
          "name": "stdout",
          "text": [
            "Najbardziej podobnymi do Natalie Portman aktorami/aktorkami są w kolejności:\n",
            "  - Penélope Cruz z similarity równym: 0.284\n",
            "  - Alicia Vikander z similarity równym: 0.283\n",
            "  - Liv Ullmann z similarity równym: 0.281\n"
          ]
        }
      ]
    },
    {
      "cell_type": "markdown",
      "source": [
        "Zapisanie do pliku"
      ],
      "metadata": {
        "id": "qto0Fzp5fRqy"
      }
    },
    {
      "cell_type": "code",
      "source": [
        "file_object = open(RANKINGS, 'a')\n",
        "text = \"Najbardziej podobni do {}:\\n- {}, similarity: {}\\n- {}, similarity: {}\\n- {}, similarity: {}\\n\".format(actor_data[3], names[0], values[0], names[1], values[1], names[2], values[2])\n",
        "file_object.write(text)\n",
        "file_object.close()"
      ],
      "metadata": {
        "id": "CoyrUJHkfRY1"
      },
      "execution_count": 20,
      "outputs": []
    },
    {
      "cell_type": "markdown",
      "source": [
        "Zapisanie wniosków, jeśli wyszło coś ciekawego"
      ],
      "metadata": {
        "id": "1gCIKBXTlMcJ"
      }
    },
    {
      "cell_type": "markdown",
      "source": [],
      "metadata": {
        "id": "nnlJMW81lNJJ"
      }
    }
  ]
}