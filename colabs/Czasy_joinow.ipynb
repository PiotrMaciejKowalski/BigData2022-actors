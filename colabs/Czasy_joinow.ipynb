{
  "nbformat": 4,
  "nbformat_minor": 0,
  "metadata": {
    "colab": {
      "provenance": [],
      "collapsed_sections": [
        "kgYZYlTutA0O",
        "or9x68JxXc10",
        "pPWxy5j_aEvo",
        "s-hzkKehxgnQ",
        "snoopt7lY71j"
      ],
      "include_colab_link": true
    },
    "kernelspec": {
      "name": "python3",
      "display_name": "Python 3"
    },
    "language_info": {
      "name": "python"
    }
  },
  "cells": [
    {
      "cell_type": "markdown",
      "metadata": {
        "id": "view-in-github",
        "colab_type": "text"
      },
      "source": [
        "<a href=\"https://colab.research.google.com/github/PiotrMaciejKowalski/BigData2022-actors/blob/czasy-joinow/colabs/Czasy_joinow.ipynb\" target=\"_parent\"><img src=\"https://colab.research.google.com/assets/colab-badge.svg\" alt=\"Open In Colab\"/></a>"
      ]
    },
    {
      "cell_type": "markdown",
      "source": [
        "#Setup sparka"
      ],
      "metadata": {
        "id": "Vzb444kPW31g"
      }
    },
    {
      "cell_type": "markdown",
      "source": [
        "##Setup sparka"
      ],
      "metadata": {
        "id": "Ny5PYKNbsHju"
      }
    },
    {
      "cell_type": "code",
      "source": [
        "!pip install pyspark py4j\n",
        "!pip install -q findspark\n",
        "!apt-get install openjdk-8-jdk-headless -qq > /dev/null\n",
        "!wget ftp://ftp.ps.pl/pub/apache/spark/spark-3.3.1/spark-3.3.1-bin-hadoop2.tgz\n",
        "!tar xf spark-3.3.1-bin-hadoop2.tgz"
      ],
      "metadata": {
        "colab": {
          "base_uri": "https://localhost:8080/"
        },
        "id": "UxTbMYkeLrk6",
        "outputId": "b2b603d6-b13e-4a6c-8638-5621ba17772f"
      },
      "execution_count": 1,
      "outputs": [
        {
          "output_type": "stream",
          "name": "stdout",
          "text": [
            "Looking in indexes: https://pypi.org/simple, https://us-python.pkg.dev/colab-wheels/public/simple/\n",
            "Collecting pyspark\n",
            "  Downloading pyspark-3.3.1.tar.gz (281.4 MB)\n",
            "\u001b[K     |████████████████████████████████| 281.4 MB 43 kB/s \n",
            "\u001b[?25hCollecting py4j\n",
            "  Downloading py4j-0.10.9.7-py2.py3-none-any.whl (200 kB)\n",
            "\u001b[K     |████████████████████████████████| 200 kB 57.8 MB/s \n",
            "\u001b[?25h  Downloading py4j-0.10.9.5-py2.py3-none-any.whl (199 kB)\n",
            "\u001b[K     |████████████████████████████████| 199 kB 50.7 MB/s \n",
            "\u001b[?25hBuilding wheels for collected packages: pyspark\n",
            "  Building wheel for pyspark (setup.py) ... \u001b[?25l\u001b[?25hdone\n",
            "  Created wheel for pyspark: filename=pyspark-3.3.1-py2.py3-none-any.whl size=281845514 sha256=1cd97730fe2e49d25af717e9923946f41868ffd31881de2ac8cee03dc78185d5\n",
            "  Stored in directory: /root/.cache/pip/wheels/42/59/f5/79a5bf931714dcd201b26025347785f087370a10a3329a899c\n",
            "Successfully built pyspark\n",
            "Installing collected packages: py4j, pyspark\n",
            "Successfully installed py4j-0.10.9.5 pyspark-3.3.1\n",
            "--2022-11-16 20:55:40--  ftp://ftp.ps.pl/pub/apache/spark/spark-3.3.1/spark-3.3.1-bin-hadoop2.tgz\n",
            "           => ‘spark-3.3.1-bin-hadoop2.tgz’\n",
            "Resolving ftp.ps.pl (ftp.ps.pl)... 212.14.28.36, 2001:4c58:62:2::36\n",
            "Connecting to ftp.ps.pl (ftp.ps.pl)|212.14.28.36|:21... connected.\n",
            "Logging in as anonymous ... Logged in!\n",
            "==> SYST ... done.    ==> PWD ... done.\n",
            "==> TYPE I ... done.  ==> CWD (1) /pub/apache/spark/spark-3.3.1 ... done.\n",
            "==> SIZE spark-3.3.1-bin-hadoop2.tgz ... 274099817\n",
            "==> PASV ... done.    ==> RETR spark-3.3.1-bin-hadoop2.tgz ... done.\n",
            "Length: 274099817 (261M) (unauthoritative)\n",
            "\n",
            "spark-3.3.1-bin-had 100%[===================>] 261.40M  22.2MB/s    in 13s     \n",
            "\n",
            "2022-11-16 20:55:55 (20.7 MB/s) - ‘spark-3.3.1-bin-hadoop2.tgz’ saved [274099817]\n",
            "\n"
          ]
        }
      ]
    },
    {
      "cell_type": "code",
      "source": [
        "import pyspark\n",
        "import findspark\n",
        "from pyspark.sql import SparkSession\n",
        "import os"
      ],
      "metadata": {
        "id": "g_c507iBLsSW"
      },
      "execution_count": 2,
      "outputs": []
    },
    {
      "cell_type": "code",
      "source": [
        "os.environ[\"JAVA_HOME\"] = \"/usr/lib/jvm/java-8-openjdk-amd64\"\n",
        "os.environ[\"SPARK_HOME\"] = \"/content/spark-3.3.1-bin-hadoop2\"\n",
        "spark=SparkSession.builder.appName('Colab').getOrCreate()\n",
        "spark"
      ],
      "metadata": {
        "id": "1rwBnBMwW88n",
        "outputId": "d8658274-5bda-4a7e-ceab-48ac966513b1",
        "colab": {
          "base_uri": "https://localhost:8080/",
          "height": 219
        }
      },
      "execution_count": 3,
      "outputs": [
        {
          "output_type": "execute_result",
          "data": {
            "text/plain": [
              "<pyspark.sql.session.SparkSession at 0x7f9981033290>"
            ],
            "text/html": [
              "\n",
              "            <div>\n",
              "                <p><b>SparkSession - in-memory</b></p>\n",
              "                \n",
              "        <div>\n",
              "            <p><b>SparkContext</b></p>\n",
              "\n",
              "            <p><a href=\"http://bd4987070a94:4040\">Spark UI</a></p>\n",
              "\n",
              "            <dl>\n",
              "              <dt>Version</dt>\n",
              "                <dd><code>v3.3.1</code></dd>\n",
              "              <dt>Master</dt>\n",
              "                <dd><code>local[*]</code></dd>\n",
              "              <dt>AppName</dt>\n",
              "                <dd><code>Colab</code></dd>\n",
              "            </dl>\n",
              "        </div>\n",
              "        \n",
              "            </div>\n",
              "        "
            ]
          },
          "metadata": {},
          "execution_count": 3
        }
      ]
    },
    {
      "cell_type": "markdown",
      "source": [
        "#Pobranie danych"
      ],
      "metadata": {
        "id": "p0l3OAblXJ2w"
      }
    },
    {
      "cell_type": "markdown",
      "source": [
        "##Import danych"
      ],
      "metadata": {
        "id": "kgYZYlTutA0O"
      }
    },
    {
      "cell_type": "code",
      "source": [
        "!wget https://datasets.imdbws.com/name.basics.tsv.gz\n",
        "!wget https://datasets.imdbws.com/title.akas.tsv.gz\n",
        "!wget https://datasets.imdbws.com/title.basics.tsv.gz\n",
        "!wget https://datasets.imdbws.com/title.crew.tsv.gz\n",
        "!wget https://datasets.imdbws.com/title.episode.tsv.gz\n",
        "!wget https://datasets.imdbws.com/title.principals.tsv.gz\n",
        "!wget https://datasets.imdbws.com/title.ratings.tsv.gz"
      ],
      "metadata": {
        "id": "SciXhN5JXONa",
        "colab": {
          "base_uri": "https://localhost:8080/"
        },
        "outputId": "fd0217ab-bebf-4cc0-a40d-c11d64a6127c"
      },
      "execution_count": 4,
      "outputs": [
        {
          "output_type": "stream",
          "name": "stdout",
          "text": [
            "--2022-11-16 20:56:06--  https://datasets.imdbws.com/name.basics.tsv.gz\n",
            "Resolving datasets.imdbws.com (datasets.imdbws.com)... 13.249.98.91, 13.249.98.61, 13.249.98.73, ...\n",
            "Connecting to datasets.imdbws.com (datasets.imdbws.com)|13.249.98.91|:443... connected.\n",
            "HTTP request sent, awaiting response... 200 OK\n",
            "Length: 236436122 (225M) [binary/octet-stream]\n",
            "Saving to: ‘name.basics.tsv.gz’\n",
            "\n",
            "name.basics.tsv.gz  100%[===================>] 225.48M   117MB/s    in 1.9s    \n",
            "\n",
            "2022-11-16 20:56:09 (117 MB/s) - ‘name.basics.tsv.gz’ saved [236436122/236436122]\n",
            "\n",
            "--2022-11-16 20:56:09--  https://datasets.imdbws.com/title.akas.tsv.gz\n",
            "Resolving datasets.imdbws.com (datasets.imdbws.com)... 13.249.98.91, 13.249.98.61, 13.249.98.73, ...\n",
            "Connecting to datasets.imdbws.com (datasets.imdbws.com)|13.249.98.91|:443... connected.\n",
            "HTTP request sent, awaiting response... 200 OK\n",
            "Length: 287493068 (274M) [binary/octet-stream]\n",
            "Saving to: ‘title.akas.tsv.gz’\n",
            "\n",
            "title.akas.tsv.gz   100%[===================>] 274.17M   130MB/s    in 2.1s    \n",
            "\n",
            "2022-11-16 20:56:11 (130 MB/s) - ‘title.akas.tsv.gz’ saved [287493068/287493068]\n",
            "\n",
            "--2022-11-16 20:56:11--  https://datasets.imdbws.com/title.basics.tsv.gz\n",
            "Resolving datasets.imdbws.com (datasets.imdbws.com)... 13.249.98.91, 13.249.98.61, 13.249.98.73, ...\n",
            "Connecting to datasets.imdbws.com (datasets.imdbws.com)|13.249.98.91|:443... connected.\n",
            "HTTP request sent, awaiting response... 200 OK\n",
            "Length: 163866839 (156M) [binary/octet-stream]\n",
            "Saving to: ‘title.basics.tsv.gz’\n",
            "\n",
            "title.basics.tsv.gz 100%[===================>] 156.28M   126MB/s    in 1.2s    \n",
            "\n",
            "2022-11-16 20:56:12 (126 MB/s) - ‘title.basics.tsv.gz’ saved [163866839/163866839]\n",
            "\n",
            "--2022-11-16 20:56:12--  https://datasets.imdbws.com/title.crew.tsv.gz\n",
            "Resolving datasets.imdbws.com (datasets.imdbws.com)... 13.249.98.91, 13.249.98.61, 13.249.98.73, ...\n",
            "Connecting to datasets.imdbws.com (datasets.imdbws.com)|13.249.98.91|:443... connected.\n",
            "HTTP request sent, awaiting response... 200 OK\n",
            "Length: 62908732 (60M) [binary/octet-stream]\n",
            "Saving to: ‘title.crew.tsv.gz’\n",
            "\n",
            "title.crew.tsv.gz   100%[===================>]  59.99M   109MB/s    in 0.6s    \n",
            "\n",
            "2022-11-16 20:56:13 (109 MB/s) - ‘title.crew.tsv.gz’ saved [62908732/62908732]\n",
            "\n",
            "--2022-11-16 20:56:13--  https://datasets.imdbws.com/title.episode.tsv.gz\n",
            "Resolving datasets.imdbws.com (datasets.imdbws.com)... 13.249.98.91, 13.249.98.61, 13.249.98.73, ...\n",
            "Connecting to datasets.imdbws.com (datasets.imdbws.com)|13.249.98.91|:443... connected.\n",
            "HTTP request sent, awaiting response... 200 OK\n",
            "Length: 38543860 (37M) [binary/octet-stream]\n",
            "Saving to: ‘title.episode.tsv.gz’\n",
            "\n",
            "title.episode.tsv.g 100%[===================>]  36.76M  87.4MB/s    in 0.4s    \n",
            "\n",
            "2022-11-16 20:56:14 (87.4 MB/s) - ‘title.episode.tsv.gz’ saved [38543860/38543860]\n",
            "\n",
            "--2022-11-16 20:56:14--  https://datasets.imdbws.com/title.principals.tsv.gz\n",
            "Resolving datasets.imdbws.com (datasets.imdbws.com)... 13.249.98.91, 13.249.98.61, 13.249.98.73, ...\n",
            "Connecting to datasets.imdbws.com (datasets.imdbws.com)|13.249.98.91|:443... connected.\n",
            "HTTP request sent, awaiting response... 200 OK\n",
            "Length: 417299685 (398M) [binary/octet-stream]\n",
            "Saving to: ‘title.principals.tsv.gz’\n",
            "\n",
            "title.principals.ts 100%[===================>] 397.97M   101MB/s    in 4.0s    \n",
            "\n",
            "2022-11-16 20:56:18 (98.6 MB/s) - ‘title.principals.tsv.gz’ saved [417299685/417299685]\n",
            "\n",
            "--2022-11-16 20:56:18--  https://datasets.imdbws.com/title.ratings.tsv.gz\n",
            "Resolving datasets.imdbws.com (datasets.imdbws.com)... 13.249.98.91, 13.249.98.61, 13.249.98.73, ...\n",
            "Connecting to datasets.imdbws.com (datasets.imdbws.com)|13.249.98.91|:443... connected.\n",
            "HTTP request sent, awaiting response... 200 OK\n",
            "Length: 6266640 (6.0M) [binary/octet-stream]\n",
            "Saving to: ‘title.ratings.tsv.gz’\n",
            "\n",
            "title.ratings.tsv.g 100%[===================>]   5.98M  35.9MB/s    in 0.2s    \n",
            "\n",
            "2022-11-16 20:56:18 (35.9 MB/s) - ‘title.ratings.tsv.gz’ saved [6266640/6266640]\n",
            "\n"
          ]
        }
      ]
    },
    {
      "cell_type": "markdown",
      "source": [
        "##Rozpakowanie danych"
      ],
      "metadata": {
        "id": "or9x68JxXc10"
      }
    },
    {
      "cell_type": "code",
      "source": [
        "!gzip -dc /content/name.basics.tsv.gz > name.basics.csv\n",
        "!gzip -dc /content/title.akas.tsv.gz > title.akas.csv\n",
        "!gzip -dc /content/title.basics.tsv.gz > title.basic.csv\n",
        "!gzip -dc /content/title.crew.tsv.gz > title.crew.csv\n",
        "!gzip -dc /content/title.episode.tsv.gz > title.episode.csv\n",
        "!gzip -dc /content/title.principals.tsv.gz > title.principals.csv\n",
        "!gzip -dc /content/title.ratings.tsv.gz > title.ratings.csv"
      ],
      "metadata": {
        "id": "IpXAjtV4XeKx"
      },
      "execution_count": 5,
      "outputs": []
    },
    {
      "cell_type": "markdown",
      "source": [
        "#Wczytanie danych"
      ],
      "metadata": {
        "id": "pPWxy5j_aEvo"
      }
    },
    {
      "cell_type": "markdown",
      "source": [
        "##Wczytajmy dane z rozpakowanych plików"
      ],
      "metadata": {
        "id": "s-hzkKehxgnQ"
      }
    },
    {
      "cell_type": "code",
      "source": [
        "df_name_basics=spark.read.option(\"header\", \"true\").option(\"delimiter\", \"\\t\").csv('name.basics.csv' ) \n",
        "df_title_akas=spark.read.option(\"header\",\"true\").option(\"delimiter\", \"\\t\").csv('title.akas.csv')\n",
        "df_title_basic=spark.read.option(\"header\",\"true\").option(\"delimiter\", \"\\t\").csv('title.basic.csv')\n",
        "df_title_crew=spark.read.option(\"header\",\"true\").option(\"delimiter\", \"\\t\").csv('title.crew.csv')\n",
        "df_title_episode=spark.read.option(\"header\",\"true\").option(\"delimiter\",\"\\t\").csv('title.episode.csv')\n",
        "df_title_principals=spark.read.option(\"header\",\"true\").option(\"delimiter\",\"\\t\").csv('title.principals.csv')\n",
        "df_title_ratings=spark.read.option(\"header\",\"true\").option(\"delimiter\",\"\\t\").csv('title.ratings.csv')"
      ],
      "metadata": {
        "id": "skegmFMQXpcA"
      },
      "execution_count": 6,
      "outputs": []
    },
    {
      "cell_type": "markdown",
      "source": [
        "##Wyświetlmy dane"
      ],
      "metadata": {
        "id": "snoopt7lY71j"
      }
    },
    {
      "cell_type": "code",
      "source": [
        "df_name_basics.show(3)\n",
        "df_title_akas.show(3)\n",
        "df_title_basic.show(3)\n",
        "df_title_crew.show(3)\n",
        "df_title_episode.show(3)\n",
        "df_title_principals.show(3)\n",
        "df_title_ratings.show(3)"
      ],
      "metadata": {
        "id": "BQItTCh9ZBht",
        "colab": {
          "base_uri": "https://localhost:8080/"
        },
        "outputId": "e89c8d82-94de-412d-fa29-47b871183aa1"
      },
      "execution_count": 7,
      "outputs": [
        {
          "output_type": "stream",
          "name": "stdout",
          "text": [
            "+---------+---------------+---------+---------+--------------------+--------------------+\n",
            "|   nconst|    primaryName|birthYear|deathYear|   primaryProfession|      knownForTitles|\n",
            "+---------+---------------+---------+---------+--------------------+--------------------+\n",
            "|nm0000001|   Fred Astaire|     1899|     1987|soundtrack,actor,...|tt0050419,tt00531...|\n",
            "|nm0000002|  Lauren Bacall|     1924|     2014|  actress,soundtrack|tt0117057,tt00718...|\n",
            "|nm0000003|Brigitte Bardot|     1934|       \\N|actress,soundtrac...|tt0049189,tt00564...|\n",
            "+---------+---------------+---------+---------+--------------------+--------------------+\n",
            "only showing top 3 rows\n",
            "\n",
            "+---------+--------+--------------------+------+--------+-----------+-------------+---------------+\n",
            "|  titleId|ordering|               title|region|language|      types|   attributes|isOriginalTitle|\n",
            "+---------+--------+--------------------+------+--------+-----------+-------------+---------------+\n",
            "|tt0000001|       1|          Карменсіта|    UA|      \\N|imdbDisplay|           \\N|              0|\n",
            "|tt0000001|       2|          Carmencita|    DE|      \\N|         \\N|literal title|              0|\n",
            "|tt0000001|       3|Carmencita - span...|    HU|      \\N|imdbDisplay|           \\N|              0|\n",
            "+---------+--------+--------------------+------+--------+-----------+-------------+---------------+\n",
            "only showing top 3 rows\n",
            "\n",
            "+---------+---------+--------------------+--------------------+-------+---------+-------+--------------+--------------------+\n",
            "|   tconst|titleType|        primaryTitle|       originalTitle|isAdult|startYear|endYear|runtimeMinutes|              genres|\n",
            "+---------+---------+--------------------+--------------------+-------+---------+-------+--------------+--------------------+\n",
            "|tt0000001|    short|          Carmencita|          Carmencita|      0|     1894|     \\N|             1|   Documentary,Short|\n",
            "|tt0000002|    short|Le clown et ses c...|Le clown et ses c...|      0|     1892|     \\N|             5|     Animation,Short|\n",
            "|tt0000003|    short|      Pauvre Pierrot|      Pauvre Pierrot|      0|     1892|     \\N|             4|Animation,Comedy,...|\n",
            "+---------+---------+--------------------+--------------------+-------+---------+-------+--------------+--------------------+\n",
            "only showing top 3 rows\n",
            "\n",
            "+---------+---------+-------+\n",
            "|   tconst|directors|writers|\n",
            "+---------+---------+-------+\n",
            "|tt0000001|nm0005690|     \\N|\n",
            "|tt0000002|nm0721526|     \\N|\n",
            "|tt0000003|nm0721526|     \\N|\n",
            "+---------+---------+-------+\n",
            "only showing top 3 rows\n",
            "\n",
            "+---------+------------+------------+-------------+\n",
            "|   tconst|parentTconst|seasonNumber|episodeNumber|\n",
            "+---------+------------+------------+-------------+\n",
            "|tt0041951|   tt0041038|           1|            9|\n",
            "|tt0042816|   tt0989125|           1|           17|\n",
            "|tt0042889|   tt0989125|          \\N|           \\N|\n",
            "+---------+------------+------------+-------------+\n",
            "only showing top 3 rows\n",
            "\n",
            "+---------+--------+---------+---------------+--------------------+----------+\n",
            "|   tconst|ordering|   nconst|       category|                 job|characters|\n",
            "+---------+--------+---------+---------------+--------------------+----------+\n",
            "|tt0000001|       1|nm1588970|           self|                  \\N|  [\"Self\"]|\n",
            "|tt0000001|       2|nm0005690|       director|                  \\N|        \\N|\n",
            "|tt0000001|       3|nm0374658|cinematographer|director of photo...|        \\N|\n",
            "+---------+--------+---------+---------------+--------------------+----------+\n",
            "only showing top 3 rows\n",
            "\n",
            "+---------+-------------+--------+\n",
            "|   tconst|averageRating|numVotes|\n",
            "+---------+-------------+--------+\n",
            "|tt0000001|          5.7|    1922|\n",
            "|tt0000002|          5.8|     259|\n",
            "|tt0000003|          6.5|    1736|\n",
            "+---------+-------------+--------+\n",
            "only showing top 3 rows\n",
            "\n"
          ]
        }
      ]
    },
    {
      "cell_type": "markdown",
      "source": [
        "# Złączenie istotnych kolumn"
      ],
      "metadata": {
        "id": "ZZb5i_RrA-yP"
      }
    },
    {
      "cell_type": "markdown",
      "source": [
        "## Wybierzmy następujące kolumny z tabel:\n",
        "- df_title_basic:\n",
        "  - tconst (unikalny numer tytułu - potrzebne do złączenia tabel)\n",
        "  - titleType (rodzaj tytułu, np. film, serial - można porównywać podobieństwo aktorów na podstawie tego w jakich typach produkcji grali)\n",
        "  - originalTitle (tytuł produkcji - być może przyda się do analizy podobnych filmów)\n",
        "  - isAdult (czy produkcja jest dla dorosłych - można wykorzystać do porównywania aktorów na podstawie tego czy grają głównie w produkcjach dla dorosłych)\n",
        "  - genres (gatunki - może posłużyć do porównania aktorów na podstawie tego, że grali w produkcjach o podobnych gatunkach)\n",
        "\n",
        "- df_title_principals:\n",
        "  - tconst (unikalny numer tytułu - potrzebne do złączenia tabel)\n",
        "  - nconst (unikalny numer aktora - potrzebne do złączenia tabel)\n",
        "  - category (kategoria pracy (actor/actress) - może posłużyć do porównania aktorów na podstawie takiej samej płci)\n",
        "  - characters (postacie zagrane w produkcji - może posłużyć do porównania aktorów na podstawie podobnych granych postaci)\n",
        "\n",
        "- df_name_basics:\n",
        "  - nconst(unikalny numer aktora - potrzebne do złączenia tabel)\n",
        "  - primaryName (imię i nazwisko aktora - potrzebne do wyświetlania aktora lub do odnajdywania go w bazie po imieniu i nazwisku)\n",
        "  - birthYear (rok urodzenia aktora - może posłużyć do porównania aktorów na podstawie podobnych okresów, w których żyli i grali)\n",
        "  - deathYear ( rok śmierci aktora - może posłużyć do porównania aktorów na podstawie podobnych okresów, w których żyli i grali)\n",
        "  - knownForTitles (tytuły produkcji, z których znany jets aktor - może posłużyć do porównania aktorów na podstawie tych samych lub podobnych produkcji, z których są znani)"
      ],
      "metadata": {
        "id": "MGd5Hi-VBF9h"
      }
    },
    {
      "cell_type": "code",
      "source": [
        "df_title_basic_selected = df_title_basic.select([\"tconst\", \"titleType\", \"originalTitle\", \"isAdult\", \"genres\"])\n",
        "df_title_principals_selected = df_title_principals.select([\"tconst\", \"nconst\", \"category\", \"characters\"])\n",
        "df_name_basics_selected = df_name_basics.select([\"nconst\", \"primaryName\", \"birthYear\", \"deathYear\", \"knownForTitles\"])"
      ],
      "metadata": {
        "id": "OKWe9JSKBC5q"
      },
      "execution_count": 8,
      "outputs": []
    },
    {
      "cell_type": "markdown",
      "source": [
        "## Wybierzmy z tabeli df_title_principals_selected tylko aktorów i aktorki"
      ],
      "metadata": {
        "id": "Dv9_BSnFVFa3"
      }
    },
    {
      "cell_type": "code",
      "source": [
        "df_title_principals_selected = df_title_principals_selected.filter((df_title_principals_selected.category == \"actor\") | (df_title_principals_selected.category == \"actress\"))"
      ],
      "metadata": {
        "id": "3vOtn_OxVAQa"
      },
      "execution_count": 9,
      "outputs": []
    },
    {
      "cell_type": "markdown",
      "source": [
        "# Złączmy tabele df_name_basics, df_title_principals i df_title_basic"
      ],
      "metadata": {
        "id": "eMIHo59PBNtx"
      }
    },
    {
      "cell_type": "markdown",
      "source": [
        "## Sprawdźmy czasy joinowania dla różnych kombinacji tabel"
      ],
      "metadata": {
        "id": "0cd69uOmz-E9"
      }
    },
    {
      "cell_type": "markdown",
      "source": [
        "Sprawdzimy najpierw różnicę w różnych typach łączenia tabel df_name_basics_selected i df_title_principals_selected:"
      ],
      "metadata": {
        "id": "19O-f-nBUprz"
      }
    },
    {
      "cell_type": "code",
      "source": [
        "from timeit import default_timer as timer\n",
        "\n",
        "start = timer()\n",
        "data1 = df_name_basics_selected.join(df_title_principals_selected, \"nconst\", \"inner\")\n",
        "end = timer()\n",
        "print(\"df_name_basics_selected and df_title_principals_selected joined table size: \", (data1.count(), len(data1.columns)), \"time of joining tables: \", end-start)"
      ],
      "metadata": {
        "id": "bXWAMvJtz9Rc",
        "colab": {
          "base_uri": "https://localhost:8080/"
        },
        "outputId": "73482367-4e7a-4cbe-a907-ff965b9b2ed0"
      },
      "execution_count": 10,
      "outputs": [
        {
          "output_type": "stream",
          "name": "stdout",
          "text": [
            "df_name_basics_selected and df_title_principals_selected joined table size:  (20762844, 8) time of joining tables:  0.05420917100002498\n"
          ]
        }
      ]
    },
    {
      "cell_type": "code",
      "source": [
        "start = timer()\n",
        "data2 = df_name_basics_selected.join(df_title_principals_selected, \"nconst\", \"left\")\n",
        "end = timer()\n",
        "print(\"df_name_basics_selected and df_title_principals_selected joined table size: \", (data2.count(), len(data2.columns)), \"time of joining tables: \", end-start)"
      ],
      "metadata": {
        "id": "MJSCPvhY1x_4",
        "colab": {
          "base_uri": "https://localhost:8080/"
        },
        "outputId": "838343ea-214a-43ea-de28-bea95ed565a5"
      },
      "execution_count": 11,
      "outputs": [
        {
          "output_type": "stream",
          "name": "stdout",
          "text": [
            "df_name_basics_selected and df_title_principals_selected joined table size:  (30547803, 8) time of joining tables:  0.04266498800001273\n"
          ]
        }
      ]
    },
    {
      "cell_type": "code",
      "source": [
        "start = timer()\n",
        "data3 = df_name_basics_selected.join(df_title_principals_selected, \"nconst\", \"outer\")\n",
        "end = timer()\n",
        "print(\"df_name_basics_selected and df_title_principals_selected joined table size: \", (data3.count(), len(data3.columns)), \"time of joining tables: \", end-start)"
      ],
      "metadata": {
        "id": "m1FwLnHu3UyL",
        "colab": {
          "base_uri": "https://localhost:8080/"
        },
        "outputId": "d19daa14-50fa-4228-8c88-b573a5167c66"
      },
      "execution_count": 12,
      "outputs": [
        {
          "output_type": "stream",
          "name": "stdout",
          "text": [
            "df_name_basics_selected and df_title_principals_selected joined table size:  (30551431, 8) time of joining tables:  0.02677053000002161\n"
          ]
        }
      ]
    },
    {
      "cell_type": "code",
      "source": [
        "start = timer()\n",
        "data4 = df_name_basics_selected.join(df_title_principals_selected, \"nconst\", \"right\")\n",
        "end = timer()\n",
        "print(\"df_name_basics_selected and df_title_principals_selected joined table size: \", (data4.count(), len(data4.columns)), \"time of joining tables: \", end-start)"
      ],
      "metadata": {
        "id": "qOiMjG5H3X8S",
        "colab": {
          "base_uri": "https://localhost:8080/"
        },
        "outputId": "45fadd04-9894-46e2-9a9c-bcb563058d2d"
      },
      "execution_count": 13,
      "outputs": [
        {
          "output_type": "stream",
          "name": "stdout",
          "text": [
            "df_name_basics_selected and df_title_principals_selected joined table size:  (20766472, 8) time of joining tables:  0.04621110300001874\n"
          ]
        }
      ]
    },
    {
      "cell_type": "code",
      "source": [
        "data1.filter(data1.primaryName.isNull()).show()\n",
        "data2.filter(data2.primaryName.isNull()).show()\n",
        "data3.filter(data3.primaryName.isNull()).show()\n",
        "data4.filter(data4.primaryName.isNull()).show()\n",
        "\n",
        "data1.filter(data1.tconst.isNull()).show()\n",
        "data2.filter(data2.tconst.isNull()).show()\n",
        "data3.filter(data3.tconst.isNull()).show()\n",
        "data4.filter(data4.tconst.isNull()).show()"
      ],
      "metadata": {
        "colab": {
          "base_uri": "https://localhost:8080/"
        },
        "id": "BBPVxE53fNcn",
        "outputId": "4cd1a881-ca9a-4aaf-9a06-01e3696791c7"
      },
      "execution_count": 14,
      "outputs": [
        {
          "output_type": "stream",
          "name": "stdout",
          "text": [
            "+------+-----------+---------+---------+--------------+------+--------+----------+\n",
            "|nconst|primaryName|birthYear|deathYear|knownForTitles|tconst|category|characters|\n",
            "+------+-----------+---------+---------+--------------+------+--------+----------+\n",
            "+------+-----------+---------+---------+--------------+------+--------+----------+\n",
            "\n",
            "+------+-----------+---------+---------+--------------+------+--------+----------+\n",
            "|nconst|primaryName|birthYear|deathYear|knownForTitles|tconst|category|characters|\n",
            "+------+-----------+---------+---------+--------------+------+--------+----------+\n",
            "+------+-----------+---------+---------+--------------+------+--------+----------+\n",
            "\n",
            "+---------+-----------+---------+---------+--------------+----------+--------+--------------------+\n",
            "|   nconst|primaryName|birthYear|deathYear|knownForTitles|    tconst|category|          characters|\n",
            "+---------+-----------+---------+---------+--------------+----------+--------+--------------------+\n",
            "|nm0635557|       null|     null|     null|          null|tt10980430| actress|     [\"Chase's Mom\"]|\n",
            "|nm0645200|       null|     null|     null|          null| tt0069058| actress|           [\"Panny\"]|\n",
            "|nm0645200|       null|     null|     null|          null| tt0069576| actress|         [\"Sewashi\"]|\n",
            "|nm0645200|       null|     null|     null|          null| tt0070505| actress|       [\"Tora-chan\"]|\n",
            "|nm0645200|       null|     null|     null|          null| tt0086683| actress|           [\"Peebo\"]|\n",
            "|nm0645200|       null|     null|     null|          null| tt0121655| actress|         [\"Saphire\"]|\n",
            "|nm0645200|       null|     null|     null|          null| tt0288961| actress|[\"Atsuko 'Akko' K...|\n",
            "|nm0645200|       null|     null|     null|          null| tt0288962| actress|   [\"Akko's mother\"]|\n",
            "|nm0645200|       null|     null|     null|          null| tt0315022| actress|  [\"Oh-hara Hoshio\"]|\n",
            "|nm0645200|       null|     null|     null|          null| tt0480861| actress|     [\"Antonio Jr.\"]|\n",
            "|nm0645200|       null|     null|     null|          null| tt0488470| actress|          [\"Tanpei\"]|\n",
            "|nm0645200|       null|     null|     null|          null| tt0856156| actress|        [\"Gan-chan\"]|\n",
            "|nm0645200|       null|     null|     null|          null| tt0980566| actress|          [\"Urasue\"]|\n",
            "|nm0645200|       null|     null|     null|          null| tt0980569| actress|          [\"Urasue\"]|\n",
            "|nm0645200|       null|     null|     null|          null|tt10240466| actress|         [\"Sewashi\"]|\n",
            "|nm0645200|       null|     null|     null|          null|tt10241620| actress|         [\"Sewashi\"]|\n",
            "|nm0645200|       null|     null|     null|          null| tt1032831| actress|          [\"Nobita\"]|\n",
            "|nm0645200|       null|     null|     null|          null| tt1038939| actress|           [\"Shota\"]|\n",
            "|nm0645200|       null|     null|     null|          null|tt10753556| actress|         [\"Yoshiko\"]|\n",
            "|nm0645200|       null|     null|     null|          null| tt1147700| actress|[\"Takora\",\"Chonbo...|\n",
            "+---------+-----------+---------+---------+--------------+----------+--------+--------------------+\n",
            "only showing top 20 rows\n",
            "\n",
            "+---------+-----------+---------+---------+--------------+----------+--------+--------------------+\n",
            "|   nconst|primaryName|birthYear|deathYear|knownForTitles|    tconst|category|          characters|\n",
            "+---------+-----------+---------+---------+--------------+----------+--------+--------------------+\n",
            "|nm0635557|       null|     null|     null|          null|tt10980430| actress|     [\"Chase's Mom\"]|\n",
            "|nm0645200|       null|     null|     null|          null| tt0069058| actress|           [\"Panny\"]|\n",
            "|nm0645200|       null|     null|     null|          null| tt0069576| actress|         [\"Sewashi\"]|\n",
            "|nm0645200|       null|     null|     null|          null| tt0070505| actress|       [\"Tora-chan\"]|\n",
            "|nm0645200|       null|     null|     null|          null| tt0086683| actress|           [\"Peebo\"]|\n",
            "|nm0645200|       null|     null|     null|          null| tt0121655| actress|         [\"Saphire\"]|\n",
            "|nm0645200|       null|     null|     null|          null| tt0288961| actress|[\"Atsuko 'Akko' K...|\n",
            "|nm0645200|       null|     null|     null|          null| tt0288962| actress|   [\"Akko's mother\"]|\n",
            "|nm0645200|       null|     null|     null|          null| tt0315022| actress|  [\"Oh-hara Hoshio\"]|\n",
            "|nm0645200|       null|     null|     null|          null| tt0480861| actress|     [\"Antonio Jr.\"]|\n",
            "|nm0645200|       null|     null|     null|          null| tt0488470| actress|          [\"Tanpei\"]|\n",
            "|nm0645200|       null|     null|     null|          null| tt0856156| actress|        [\"Gan-chan\"]|\n",
            "|nm0645200|       null|     null|     null|          null| tt0980566| actress|          [\"Urasue\"]|\n",
            "|nm0645200|       null|     null|     null|          null| tt0980569| actress|          [\"Urasue\"]|\n",
            "|nm0645200|       null|     null|     null|          null|tt10240466| actress|         [\"Sewashi\"]|\n",
            "|nm0645200|       null|     null|     null|          null|tt10241620| actress|         [\"Sewashi\"]|\n",
            "|nm0645200|       null|     null|     null|          null| tt1032831| actress|          [\"Nobita\"]|\n",
            "|nm0645200|       null|     null|     null|          null| tt1038939| actress|           [\"Shota\"]|\n",
            "|nm0645200|       null|     null|     null|          null|tt10753556| actress|         [\"Yoshiko\"]|\n",
            "|nm0645200|       null|     null|     null|          null| tt1147700| actress|[\"Takora\",\"Chonbo...|\n",
            "+---------+-----------+---------+---------+--------------+----------+--------+--------------------+\n",
            "only showing top 20 rows\n",
            "\n",
            "+------+-----------+---------+---------+--------------+------+--------+----------+\n",
            "|nconst|primaryName|birthYear|deathYear|knownForTitles|tconst|category|characters|\n",
            "+------+-----------+---------+---------+--------------+------+--------+----------+\n",
            "+------+-----------+---------+---------+--------------+------+--------+----------+\n",
            "\n",
            "+---------+-------------------+---------+---------+--------------------+------+--------+----------+\n",
            "|   nconst|        primaryName|birthYear|deathYear|      knownForTitles|tconst|category|characters|\n",
            "+---------+-------------------+---------+---------+--------------------+------+--------+----------+\n",
            "|nm0000736|     Robert Aldrich|     1918|     1983|tt0061578,tt00717...|  null|    null|      null|\n",
            "|nm0000881|        Michael Bay|     1965|       \\N|tt1055369,tt21092...|  null|    null|      null|\n",
            "|nm0000975|     Robert Bresson|     1901|     1999|tt0049902,tt00619...|  null|    null|      null|\n",
            "|nm0001203|   William Faulkner|     1897|     1962|tt0037382,tt00383...|  null|    null|      null|\n",
            "|nm0001460|         Mimi Leder|     1952|       \\N|tt0119874,tt46697...|  null|    null|      null|\n",
            "|nm0001700|       Nancy Savoca|     1959|       \\N|tt0138279,tt03591...|  null|    null|      null|\n",
            "|nm0001994|Michael Caton-Jones|     1957|       \\N|tt0100133,tt02690...|  null|    null|      null|\n",
            "|nm0002152|        Jörg Widmer|       \\N|       \\N|tt0317919,tt09938...|  null|    null|      null|\n",
            "|nm0002155|   Edward M. Abroms|     1935|     2018|tt0085255,tt00893...|  null|    null|      null|\n",
            "|nm0002220|  Alexander Scherer|       \\N|       \\N| tt2879912,tt0110275|  null|    null|      null|\n",
            "|nm0002226|        Misha Segal|     1943|       \\N|tt0093744,tt00980...|  null|    null|      null|\n",
            "|nm0002260|    Melissa Moseley|       \\N|       \\N|tt0166924,tt04330...|  null|    null|      null|\n",
            "|nm0002281|      Lisa Janowski|       \\N|       \\N|tt0119217,tt01156...|  null|    null|      null|\n",
            "|nm0002306|  Boris Paval Conen|     1968|       \\N|tt0486185,tt62422...|  null|    null|      null|\n",
            "|nm0002308|        Ayesa Adams|       \\N|       \\N|tt0118886,tt03237...|  null|    null|      null|\n",
            "|nm0002334|    Douglas C. Hart|       \\N|       \\N|tt0089853,tt00977...|  null|    null|      null|\n",
            "|nm0002337|    Roger Christian|     1944|       \\N|tt0084658,tt01106...|  null|    null|      null|\n",
            "|nm0002359|        Katy Wallin|       \\N|       \\N|tt0143344,tt01927...|  null|    null|      null|\n",
            "|nm0002384|      Samuel Vartek|     1969|       \\N|tt5628870,tt11374...|  null|    null|      null|\n",
            "|nm0002401|David Max Steinberg|     1958|       \\N|tt0122106,tt94593...|  null|    null|      null|\n",
            "+---------+-------------------+---------+---------+--------------------+------+--------+----------+\n",
            "only showing top 20 rows\n",
            "\n",
            "+---------+-------------------+---------+---------+--------------------+------+--------+----------+\n",
            "|   nconst|        primaryName|birthYear|deathYear|      knownForTitles|tconst|category|characters|\n",
            "+---------+-------------------+---------+---------+--------------------+------+--------+----------+\n",
            "|nm0000736|     Robert Aldrich|     1918|     1983|tt0061578,tt00717...|  null|    null|      null|\n",
            "|nm0000881|        Michael Bay|     1965|       \\N|tt1055369,tt21092...|  null|    null|      null|\n",
            "|nm0000975|     Robert Bresson|     1901|     1999|tt0049902,tt00619...|  null|    null|      null|\n",
            "|nm0001203|   William Faulkner|     1897|     1962|tt0037382,tt00383...|  null|    null|      null|\n",
            "|nm0001460|         Mimi Leder|     1952|       \\N|tt0119874,tt46697...|  null|    null|      null|\n",
            "|nm0001700|       Nancy Savoca|     1959|       \\N|tt0138279,tt03591...|  null|    null|      null|\n",
            "|nm0001994|Michael Caton-Jones|     1957|       \\N|tt0100133,tt02690...|  null|    null|      null|\n",
            "|nm0002152|        Jörg Widmer|       \\N|       \\N|tt0317919,tt09938...|  null|    null|      null|\n",
            "|nm0002155|   Edward M. Abroms|     1935|     2018|tt0085255,tt00893...|  null|    null|      null|\n",
            "|nm0002220|  Alexander Scherer|       \\N|       \\N| tt2879912,tt0110275|  null|    null|      null|\n",
            "|nm0002226|        Misha Segal|     1943|       \\N|tt0093744,tt00980...|  null|    null|      null|\n",
            "|nm0002260|    Melissa Moseley|       \\N|       \\N|tt0166924,tt04330...|  null|    null|      null|\n",
            "|nm0002281|      Lisa Janowski|       \\N|       \\N|tt0119217,tt01156...|  null|    null|      null|\n",
            "|nm0002306|  Boris Paval Conen|     1968|       \\N|tt0486185,tt62422...|  null|    null|      null|\n",
            "|nm0002308|        Ayesa Adams|       \\N|       \\N|tt0118886,tt03237...|  null|    null|      null|\n",
            "|nm0002334|    Douglas C. Hart|       \\N|       \\N|tt0089853,tt00977...|  null|    null|      null|\n",
            "|nm0002337|    Roger Christian|     1944|       \\N|tt0084658,tt01106...|  null|    null|      null|\n",
            "|nm0002359|        Katy Wallin|       \\N|       \\N|tt0143344,tt01927...|  null|    null|      null|\n",
            "|nm0002384|      Samuel Vartek|     1969|       \\N|tt5628870,tt11374...|  null|    null|      null|\n",
            "|nm0002401|David Max Steinberg|     1958|       \\N|tt0122106,tt94593...|  null|    null|      null|\n",
            "+---------+-------------------+---------+---------+--------------------+------+--------+----------+\n",
            "only showing top 20 rows\n",
            "\n",
            "+------+-----------+---------+---------+--------------+------+--------+----------+\n",
            "|nconst|primaryName|birthYear|deathYear|knownForTitles|tconst|category|characters|\n",
            "+------+-----------+---------+---------+--------------+------+--------+----------+\n",
            "+------+-----------+---------+---------+--------------+------+--------+----------+\n",
            "\n"
          ]
        }
      ]
    },
    {
      "cell_type": "markdown",
      "source": [
        "Tutaj za każdym razem wychodzą różne wyniki, dlatego ciężko stwierdzić, który sposób łączenia danych jest najszybszy, jednak zauważamy, że jedynie dwa sposoby (\"inner\" i \"left\") dają odpowiednie dane, gdyż otrzymujemy wtedy dane o aktorach z pełnymi danymi personalnymi bez zbędnych wierszy nieprzypisanych do żadnego imienia i nazwiska."
      ],
      "metadata": {
        "id": "ZIR-r7kX9z9T"
      }
    },
    {
      "cell_type": "markdown",
      "source": [
        "Teraz zobaczymy, czy dołączając tabelę df_name_basics_selected do tabeli df_title_principals_selected dostaniemy lepszy wynik niż powyżej."
      ],
      "metadata": {
        "id": "xuTgxGz9VFCm"
      }
    },
    {
      "cell_type": "code",
      "source": [
        "start = timer()\n",
        "data5 = df_title_principals_selected.join(df_name_basics_selected, \"nconst\", \"inner\")\n",
        "end = timer()\n",
        "print(\"df_title_principals_selected and df_name_basics_selected joined table size: \", (data5.count(), len(data5.columns)), \"time of joining tables: \", end-start)"
      ],
      "metadata": {
        "id": "Q6ffjkmS27Ok",
        "colab": {
          "base_uri": "https://localhost:8080/"
        },
        "outputId": "819db5d3-27ce-43c7-8623-c2d3e7727032"
      },
      "execution_count": 15,
      "outputs": [
        {
          "metadata": {
            "tags": null
          },
          "name": "stdout",
          "output_type": "stream",
          "text": [
            "df_title_principals_selected and df_name_basics_selected joined table size:  (20762844, 8) time of joining tables:  0.0338074300000244\n"
          ]
        }
      ]
    },
    {
      "cell_type": "code",
      "source": [
        "start = timer()\n",
        "data6 = df_title_principals_selected.join(df_name_basics_selected, \"nconst\", \"left\")\n",
        "end = timer()\n",
        "print(\"df_title_principals_selected and df_name_basics_selected joined table size: \", (data6.count(), len(data6.columns)), \"time of joining tables: \", end-start)"
      ],
      "metadata": {
        "colab": {
          "base_uri": "https://localhost:8080/"
        },
        "id": "U4mSQXppAItM",
        "outputId": "4818bec9-4587-40e7-eda3-771a4b649d1e"
      },
      "execution_count": 16,
      "outputs": [
        {
          "output_type": "stream",
          "name": "stdout",
          "text": [
            "df_title_principals_selected and df_name_basics_selected joined table size:  (20766472, 8) time of joining tables:  0.021475560999988375\n"
          ]
        }
      ]
    },
    {
      "cell_type": "code",
      "source": [
        "start = timer()\n",
        "data7 = df_title_principals_selected.join(df_name_basics_selected, \"nconst\", \"outer\")\n",
        "end = timer()\n",
        "print(\"df_title_principals_selected and df_name_basics_selected joined table size: \", (data7.count(), len(data7.columns)), \"time of joining tables: \", end-start)"
      ],
      "metadata": {
        "colab": {
          "base_uri": "https://localhost:8080/"
        },
        "id": "51S9GcRUF0A1",
        "outputId": "283f19da-21c9-463a-e261-0ab50720db53"
      },
      "execution_count": 17,
      "outputs": [
        {
          "metadata": {
            "tags": null
          },
          "name": "stdout",
          "output_type": "stream",
          "text": [
            "df_title_principals_selected and df_name_basics_selected joined table size:  (30551431, 8) time of joining tables:  0.033828437000011036\n"
          ]
        }
      ]
    },
    {
      "cell_type": "code",
      "source": [
        "start = timer()\n",
        "data8 = df_title_principals_selected.join(df_name_basics_selected, \"nconst\", \"right\")\n",
        "end = timer()\n",
        "print(\"df_title_principals_selected and df_name_basics_selected joined table size: \", (data8.count(), len(data8.columns)), \"time of joining tables: \", end-start)"
      ],
      "metadata": {
        "colab": {
          "base_uri": "https://localhost:8080/"
        },
        "id": "vN_tO74zF1qM",
        "outputId": "966cc14c-7250-45fd-f6d3-a8ed89ab5724"
      },
      "execution_count": 18,
      "outputs": [
        {
          "metadata": {
            "tags": null
          },
          "name": "stdout",
          "output_type": "stream",
          "text": [
            "df_title_principals_selected and df_name_basics_selected joined table size:  (30547803, 8) time of joining tables:  0.027800171000308183\n"
          ]
        }
      ]
    },
    {
      "cell_type": "markdown",
      "source": [],
      "metadata": {
        "id": "0v7pV7AVVjup"
      }
    },
    {
      "cell_type": "code",
      "source": [
        "print(\"df_name_basics_selected dataframe size: \", (df_name_basics_selected.count(), len(df_name_basics_selected.columns)))\n",
        "print(\"df_title_principals_selected dataframe size: \", (df_title_principals_selected.count(), len(df_title_principals_selected.columns)))\n",
        "print(\"df_title_basic_selected dataframe size: \", (df_title_basic_selected.count(), len(df_title_basic_selected.columns)))\n",
        "data = df_name_basics_selected.join(df_title_principals_selected, \"nconst\", \"inner\")\n",
        "print(\"joined dataframe size: \", (data.count(), len(data.columns)))\n",
        "data = data.join(df_title_basic_selected, \"tconst\", \"left\")\n",
        "print(\"joined dataframe size: \", (data.count(), len(data.columns)))"
      ],
      "metadata": {
        "id": "zMqqAJ7zBJWL",
        "outputId": "e052f213-9dc7-48e6-fd9f-9f579946bf5a",
        "colab": {
          "base_uri": "https://localhost:8080/"
        }
      },
      "execution_count": 19,
      "outputs": [
        {
          "metadata": {
            "tags": null
          },
          "name": "stdout",
          "output_type": "stream",
          "text": [
            "df_name_basics_selected dataframe size:  (12080176, 5)\n",
            "df_title_principals_selected dataframe size:  (20766472, 4)\n",
            "df_title_basic_selected dataframe size:  (9374820, 5)\n",
            "joined dataframe size:  (20762844, 8)\n",
            "joined dataframe size:  (20762844, 12)\n"
          ]
        }
      ]
    },
    {
      "cell_type": "markdown",
      "source": [
        "# Wybierzmy przykładowe wiersze z końcowego dataframe'u"
      ],
      "metadata": {
        "id": "hKXuX-JdE9ED"
      }
    },
    {
      "cell_type": "code",
      "source": [
        "sample = data.rdd.takeSample(False, 5)"
      ],
      "metadata": {
        "id": "bH43D49EE84F"
      },
      "execution_count": 20,
      "outputs": []
    },
    {
      "cell_type": "code",
      "source": [
        "import pandas as pd\n",
        "sample = pd.DataFrame(sample, columns = data.columns)\n",
        "sample"
      ],
      "metadata": {
        "id": "kW8-_TXYLo10",
        "outputId": "9b48019b-0c71-4d36-c19e-306e4abfbc02",
        "colab": {
          "base_uri": "https://localhost:8080/",
          "height": 302
        }
      },
      "execution_count": 21,
      "outputs": [
        {
          "output_type": "execute_result",
          "data": {
            "text/plain": [
              "       tconst     nconst        primaryName birthYear deathYear  \\\n",
              "0   tt1251565  nm0076241      Hilda Bernard      1920      2022   \n",
              "1   tt7876008  nm0900076  Emmanuil Vitorgan      1939        \\N   \n",
              "2   tt8935892  nm0735868  Gustavo Rodríguez      1947      2014   \n",
              "3  tt14300224  nm5310931         Joe Munroe        \\N        \\N   \n",
              "4  tt13534754  nm3496716       Niyati Joshi      1949        \\N   \n",
              "\n",
              "                              knownForTitles category  \\\n",
              "0    tt0227898,tt0328789,tt0154063,tt0199182  actress   \n",
              "1    tt0425176,tt0262062,tt6333028,tt0102682    actor   \n",
              "2    tt0103924,tt0354292,tt0319980,tt0314492    actor   \n",
              "3  tt2817246,tt13496236,tt9077530,tt21435436    actor   \n",
              "4   tt10042110,tt6416306,tt4157510,tt5752458  actress   \n",
              "\n",
              "                       characters  titleType            originalTitle isAdult  \\\n",
              "0                [\"Carmen Morán\"]  tvEpisode            Episode #1.82       0   \n",
              "1                              \\N      short  Vyhod - Potop soznaniya       0   \n",
              "2  [\"Juan Carlos Guzmán Barreto\"]  tvEpisode             Episode #1.8       0   \n",
              "3                        [\"Mark\"]      short                Sanctuary       0   \n",
              "4        [\"Swarna Manish Goenka\"]  tvEpisode      Gayu Loses Her Cool       0   \n",
              "\n",
              "                genres  \n",
              "0  Comedy,Drama,Family  \n",
              "1      Animation,Short  \n",
              "2        Drama,Romance  \n",
              "3       Short,Thriller  \n",
              "4                Drama  "
            ],
            "text/html": [
              "\n",
              "  <div id=\"df-c7718c8a-d66f-40d1-8aca-21ee1a212259\">\n",
              "    <div class=\"colab-df-container\">\n",
              "      <div>\n",
              "<style scoped>\n",
              "    .dataframe tbody tr th:only-of-type {\n",
              "        vertical-align: middle;\n",
              "    }\n",
              "\n",
              "    .dataframe tbody tr th {\n",
              "        vertical-align: top;\n",
              "    }\n",
              "\n",
              "    .dataframe thead th {\n",
              "        text-align: right;\n",
              "    }\n",
              "</style>\n",
              "<table border=\"1\" class=\"dataframe\">\n",
              "  <thead>\n",
              "    <tr style=\"text-align: right;\">\n",
              "      <th></th>\n",
              "      <th>tconst</th>\n",
              "      <th>nconst</th>\n",
              "      <th>primaryName</th>\n",
              "      <th>birthYear</th>\n",
              "      <th>deathYear</th>\n",
              "      <th>knownForTitles</th>\n",
              "      <th>category</th>\n",
              "      <th>characters</th>\n",
              "      <th>titleType</th>\n",
              "      <th>originalTitle</th>\n",
              "      <th>isAdult</th>\n",
              "      <th>genres</th>\n",
              "    </tr>\n",
              "  </thead>\n",
              "  <tbody>\n",
              "    <tr>\n",
              "      <th>0</th>\n",
              "      <td>tt1251565</td>\n",
              "      <td>nm0076241</td>\n",
              "      <td>Hilda Bernard</td>\n",
              "      <td>1920</td>\n",
              "      <td>2022</td>\n",
              "      <td>tt0227898,tt0328789,tt0154063,tt0199182</td>\n",
              "      <td>actress</td>\n",
              "      <td>[\"Carmen Morán\"]</td>\n",
              "      <td>tvEpisode</td>\n",
              "      <td>Episode #1.82</td>\n",
              "      <td>0</td>\n",
              "      <td>Comedy,Drama,Family</td>\n",
              "    </tr>\n",
              "    <tr>\n",
              "      <th>1</th>\n",
              "      <td>tt7876008</td>\n",
              "      <td>nm0900076</td>\n",
              "      <td>Emmanuil Vitorgan</td>\n",
              "      <td>1939</td>\n",
              "      <td>\\N</td>\n",
              "      <td>tt0425176,tt0262062,tt6333028,tt0102682</td>\n",
              "      <td>actor</td>\n",
              "      <td>\\N</td>\n",
              "      <td>short</td>\n",
              "      <td>Vyhod - Potop soznaniya</td>\n",
              "      <td>0</td>\n",
              "      <td>Animation,Short</td>\n",
              "    </tr>\n",
              "    <tr>\n",
              "      <th>2</th>\n",
              "      <td>tt8935892</td>\n",
              "      <td>nm0735868</td>\n",
              "      <td>Gustavo Rodríguez</td>\n",
              "      <td>1947</td>\n",
              "      <td>2014</td>\n",
              "      <td>tt0103924,tt0354292,tt0319980,tt0314492</td>\n",
              "      <td>actor</td>\n",
              "      <td>[\"Juan Carlos Guzmán Barreto\"]</td>\n",
              "      <td>tvEpisode</td>\n",
              "      <td>Episode #1.8</td>\n",
              "      <td>0</td>\n",
              "      <td>Drama,Romance</td>\n",
              "    </tr>\n",
              "    <tr>\n",
              "      <th>3</th>\n",
              "      <td>tt14300224</td>\n",
              "      <td>nm5310931</td>\n",
              "      <td>Joe Munroe</td>\n",
              "      <td>\\N</td>\n",
              "      <td>\\N</td>\n",
              "      <td>tt2817246,tt13496236,tt9077530,tt21435436</td>\n",
              "      <td>actor</td>\n",
              "      <td>[\"Mark\"]</td>\n",
              "      <td>short</td>\n",
              "      <td>Sanctuary</td>\n",
              "      <td>0</td>\n",
              "      <td>Short,Thriller</td>\n",
              "    </tr>\n",
              "    <tr>\n",
              "      <th>4</th>\n",
              "      <td>tt13534754</td>\n",
              "      <td>nm3496716</td>\n",
              "      <td>Niyati Joshi</td>\n",
              "      <td>1949</td>\n",
              "      <td>\\N</td>\n",
              "      <td>tt10042110,tt6416306,tt4157510,tt5752458</td>\n",
              "      <td>actress</td>\n",
              "      <td>[\"Swarna Manish Goenka\"]</td>\n",
              "      <td>tvEpisode</td>\n",
              "      <td>Gayu Loses Her Cool</td>\n",
              "      <td>0</td>\n",
              "      <td>Drama</td>\n",
              "    </tr>\n",
              "  </tbody>\n",
              "</table>\n",
              "</div>\n",
              "      <button class=\"colab-df-convert\" onclick=\"convertToInteractive('df-c7718c8a-d66f-40d1-8aca-21ee1a212259')\"\n",
              "              title=\"Convert this dataframe to an interactive table.\"\n",
              "              style=\"display:none;\">\n",
              "        \n",
              "  <svg xmlns=\"http://www.w3.org/2000/svg\" height=\"24px\"viewBox=\"0 0 24 24\"\n",
              "       width=\"24px\">\n",
              "    <path d=\"M0 0h24v24H0V0z\" fill=\"none\"/>\n",
              "    <path d=\"M18.56 5.44l.94 2.06.94-2.06 2.06-.94-2.06-.94-.94-2.06-.94 2.06-2.06.94zm-11 1L8.5 8.5l.94-2.06 2.06-.94-2.06-.94L8.5 2.5l-.94 2.06-2.06.94zm10 10l.94 2.06.94-2.06 2.06-.94-2.06-.94-.94-2.06-.94 2.06-2.06.94z\"/><path d=\"M17.41 7.96l-1.37-1.37c-.4-.4-.92-.59-1.43-.59-.52 0-1.04.2-1.43.59L10.3 9.45l-7.72 7.72c-.78.78-.78 2.05 0 2.83L4 21.41c.39.39.9.59 1.41.59.51 0 1.02-.2 1.41-.59l7.78-7.78 2.81-2.81c.8-.78.8-2.07 0-2.86zM5.41 20L4 18.59l7.72-7.72 1.47 1.35L5.41 20z\"/>\n",
              "  </svg>\n",
              "      </button>\n",
              "      \n",
              "  <style>\n",
              "    .colab-df-container {\n",
              "      display:flex;\n",
              "      flex-wrap:wrap;\n",
              "      gap: 12px;\n",
              "    }\n",
              "\n",
              "    .colab-df-convert {\n",
              "      background-color: #E8F0FE;\n",
              "      border: none;\n",
              "      border-radius: 50%;\n",
              "      cursor: pointer;\n",
              "      display: none;\n",
              "      fill: #1967D2;\n",
              "      height: 32px;\n",
              "      padding: 0 0 0 0;\n",
              "      width: 32px;\n",
              "    }\n",
              "\n",
              "    .colab-df-convert:hover {\n",
              "      background-color: #E2EBFA;\n",
              "      box-shadow: 0px 1px 2px rgba(60, 64, 67, 0.3), 0px 1px 3px 1px rgba(60, 64, 67, 0.15);\n",
              "      fill: #174EA6;\n",
              "    }\n",
              "\n",
              "    [theme=dark] .colab-df-convert {\n",
              "      background-color: #3B4455;\n",
              "      fill: #D2E3FC;\n",
              "    }\n",
              "\n",
              "    [theme=dark] .colab-df-convert:hover {\n",
              "      background-color: #434B5C;\n",
              "      box-shadow: 0px 1px 3px 1px rgba(0, 0, 0, 0.15);\n",
              "      filter: drop-shadow(0px 1px 2px rgba(0, 0, 0, 0.3));\n",
              "      fill: #FFFFFF;\n",
              "    }\n",
              "  </style>\n",
              "\n",
              "      <script>\n",
              "        const buttonEl =\n",
              "          document.querySelector('#df-c7718c8a-d66f-40d1-8aca-21ee1a212259 button.colab-df-convert');\n",
              "        buttonEl.style.display =\n",
              "          google.colab.kernel.accessAllowed ? 'block' : 'none';\n",
              "\n",
              "        async function convertToInteractive(key) {\n",
              "          const element = document.querySelector('#df-c7718c8a-d66f-40d1-8aca-21ee1a212259');\n",
              "          const dataTable =\n",
              "            await google.colab.kernel.invokeFunction('convertToInteractive',\n",
              "                                                     [key], {});\n",
              "          if (!dataTable) return;\n",
              "\n",
              "          const docLinkHtml = 'Like what you see? Visit the ' +\n",
              "            '<a target=\"_blank\" href=https://colab.research.google.com/notebooks/data_table.ipynb>data table notebook</a>'\n",
              "            + ' to learn more about interactive tables.';\n",
              "          element.innerHTML = '';\n",
              "          dataTable['output_type'] = 'display_data';\n",
              "          await google.colab.output.renderOutput(dataTable, element);\n",
              "          const docLink = document.createElement('div');\n",
              "          docLink.innerHTML = docLinkHtml;\n",
              "          element.appendChild(docLink);\n",
              "        }\n",
              "      </script>\n",
              "    </div>\n",
              "  </div>\n",
              "  "
            ]
          },
          "metadata": {},
          "execution_count": 21
        }
      ]
    }
  ]
}