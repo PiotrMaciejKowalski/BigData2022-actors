{
  "nbformat": 4,
  "nbformat_minor": 0,
  "metadata": {
    "colab": {
      "provenance": [],
      "collapsed_sections": [
        "kgYZYlTutA0O",
        "or9x68JxXc10",
        "pPWxy5j_aEvo",
        "s-hzkKehxgnQ",
        "snoopt7lY71j"
      ],
      "include_colab_link": true
    },
    "kernelspec": {
      "name": "python3",
      "display_name": "Python 3"
    },
    "language_info": {
      "name": "python"
    }
  },
  "cells": [
    {
      "cell_type": "markdown",
      "metadata": {
        "id": "view-in-github",
        "colab_type": "text"
      },
      "source": [
        "<a href=\"https://colab.research.google.com/github/PiotrMaciejKowalski/BigData2022-actors/blob/czasy-joinow/colabs/Czasy_joinow.ipynb\" target=\"_parent\"><img src=\"https://colab.research.google.com/assets/colab-badge.svg\" alt=\"Open In Colab\"/></a>"
      ]
    },
    {
      "cell_type": "markdown",
      "source": [
        "#Setup sparka"
      ],
      "metadata": {
        "id": "Vzb444kPW31g"
      }
    },
    {
      "cell_type": "markdown",
      "source": [
        "##Setup sparka"
      ],
      "metadata": {
        "id": "Ny5PYKNbsHju"
      }
    },
    {
      "cell_type": "code",
      "source": [
        "!pip install pyspark py4j\n",
        "!pip install -q findspark\n",
        "!apt-get install openjdk-8-jdk-headless -qq > /dev/null\n",
        "!wget ftp://ftp.ps.pl/pub/apache/spark/spark-3.3.1/spark-3.3.1-bin-hadoop2.tgz\n",
        "!tar xf spark-3.3.1-bin-hadoop2.tgz"
      ],
      "metadata": {
        "colab": {
          "base_uri": "https://localhost:8080/"
        },
        "id": "UxTbMYkeLrk6",
        "outputId": "aaee69f4-b14b-4424-bc66-ab561fb2bad3"
      },
      "execution_count": 41,
      "outputs": [
        {
          "output_type": "stream",
          "name": "stdout",
          "text": [
            "Looking in indexes: https://pypi.org/simple, https://us-python.pkg.dev/colab-wheels/public/simple/\n",
            "Requirement already satisfied: pyspark in /usr/local/lib/python3.7/dist-packages (3.3.1)\n",
            "Requirement already satisfied: py4j in /usr/local/lib/python3.7/dist-packages (0.10.9.5)\n",
            "--2022-11-16 20:28:48--  ftp://ftp.ps.pl/pub/apache/spark/spark-3.3.1/spark-3.3.1-bin-hadoop2.tgz\n",
            "           => ‘spark-3.3.1-bin-hadoop2.tgz.2’\n",
            "Resolving ftp.ps.pl (ftp.ps.pl)... 212.14.28.36, 2001:4c58:62:2::36\n",
            "Connecting to ftp.ps.pl (ftp.ps.pl)|212.14.28.36|:21... connected.\n",
            "Logging in as anonymous ... Logged in!\n",
            "==> SYST ... done.    ==> PWD ... done.\n",
            "==> TYPE I ... done.  ==> CWD (1) /pub/apache/spark/spark-3.3.1 ... done.\n",
            "==> SIZE spark-3.3.1-bin-hadoop2.tgz ... 274099817\n",
            "==> PASV ... done.    ==> RETR spark-3.3.1-bin-hadoop2.tgz ... done.\n",
            "Length: 274099817 (261M) (unauthoritative)\n",
            "\n",
            "spark-3.3.1-bin-had 100%[===================>] 261.40M  21.3MB/s    in 13s     \n",
            "\n",
            "2022-11-16 20:29:02 (20.7 MB/s) - ‘spark-3.3.1-bin-hadoop2.tgz.2’ saved [274099817]\n",
            "\n"
          ]
        }
      ]
    },
    {
      "cell_type": "code",
      "source": [
        "import pyspark\n",
        "import findspark\n",
        "from pyspark.sql import SparkSession\n",
        "import os"
      ],
      "metadata": {
        "id": "g_c507iBLsSW"
      },
      "execution_count": 42,
      "outputs": []
    },
    {
      "cell_type": "code",
      "source": [
        "os.environ[\"JAVA_HOME\"] = \"/usr/lib/jvm/java-8-openjdk-amd64\"\n",
        "os.environ[\"SPARK_HOME\"] = \"/content/spark-3.3.1-bin-hadoop2\"\n",
        "spark=SparkSession.builder.appName('Colab').getOrCreate()\n",
        "spark"
      ],
      "metadata": {
        "id": "1rwBnBMwW88n",
        "outputId": "bfe01f17-7d06-420a-80e8-781fc10e5a7d",
        "colab": {
          "base_uri": "https://localhost:8080/",
          "height": 219
        }
      },
      "execution_count": 43,
      "outputs": [
        {
          "output_type": "execute_result",
          "data": {
            "text/plain": [
              "<pyspark.sql.session.SparkSession at 0x7fc9bb9717d0>"
            ],
            "text/html": [
              "\n",
              "            <div>\n",
              "                <p><b>SparkSession - in-memory</b></p>\n",
              "                \n",
              "        <div>\n",
              "            <p><b>SparkContext</b></p>\n",
              "\n",
              "            <p><a href=\"http://58a5cfe010c5:4040\">Spark UI</a></p>\n",
              "\n",
              "            <dl>\n",
              "              <dt>Version</dt>\n",
              "                <dd><code>v3.3.1</code></dd>\n",
              "              <dt>Master</dt>\n",
              "                <dd><code>local[*]</code></dd>\n",
              "              <dt>AppName</dt>\n",
              "                <dd><code>Colab</code></dd>\n",
              "            </dl>\n",
              "        </div>\n",
              "        \n",
              "            </div>\n",
              "        "
            ]
          },
          "metadata": {},
          "execution_count": 43
        }
      ]
    },
    {
      "cell_type": "markdown",
      "source": [
        "#Pobranie danych"
      ],
      "metadata": {
        "id": "p0l3OAblXJ2w"
      }
    },
    {
      "cell_type": "markdown",
      "source": [
        "##Import danych"
      ],
      "metadata": {
        "id": "kgYZYlTutA0O"
      }
    },
    {
      "cell_type": "code",
      "source": [
        "!wget https://datasets.imdbws.com/name.basics.tsv.gz\n",
        "!wget https://datasets.imdbws.com/title.akas.tsv.gz\n",
        "!wget https://datasets.imdbws.com/title.basics.tsv.gz\n",
        "!wget https://datasets.imdbws.com/title.crew.tsv.gz\n",
        "!wget https://datasets.imdbws.com/title.episode.tsv.gz\n",
        "!wget https://datasets.imdbws.com/title.principals.tsv.gz\n",
        "!wget https://datasets.imdbws.com/title.ratings.tsv.gz"
      ],
      "metadata": {
        "id": "SciXhN5JXONa",
        "colab": {
          "base_uri": "https://localhost:8080/"
        },
        "outputId": "afc0ff56-1cf0-47f9-e69e-881e42fcf6e0"
      },
      "execution_count": 44,
      "outputs": [
        {
          "output_type": "stream",
          "name": "stdout",
          "text": [
            "--2022-11-16 20:29:07--  https://datasets.imdbws.com/name.basics.tsv.gz\n",
            "Resolving datasets.imdbws.com (datasets.imdbws.com)... 54.230.18.35, 54.230.18.48, 54.230.18.84, ...\n",
            "Connecting to datasets.imdbws.com (datasets.imdbws.com)|54.230.18.35|:443... connected.\n",
            "HTTP request sent, awaiting response... 200 OK\n",
            "Length: 236436122 (225M) [binary/octet-stream]\n",
            "Saving to: ‘name.basics.tsv.gz.2’\n",
            "\n",
            "name.basics.tsv.gz. 100%[===================>] 225.48M  75.7MB/s    in 3.0s    \n",
            "\n",
            "2022-11-16 20:29:10 (75.7 MB/s) - ‘name.basics.tsv.gz.2’ saved [236436122/236436122]\n",
            "\n",
            "--2022-11-16 20:29:10--  https://datasets.imdbws.com/title.akas.tsv.gz\n",
            "Resolving datasets.imdbws.com (datasets.imdbws.com)... 54.230.18.35, 54.230.18.48, 54.230.18.84, ...\n",
            "Connecting to datasets.imdbws.com (datasets.imdbws.com)|54.230.18.35|:443... connected.\n",
            "HTTP request sent, awaiting response... 200 OK\n",
            "Length: 287598573 (274M) [binary/octet-stream]\n",
            "Saving to: ‘title.akas.tsv.gz.2’\n",
            "\n",
            "title.akas.tsv.gz.2 100%[===================>] 274.27M  82.8MB/s    in 3.7s    \n",
            "\n",
            "2022-11-16 20:29:14 (73.7 MB/s) - ‘title.akas.tsv.gz.2’ saved [287598573/287598573]\n",
            "\n",
            "--2022-11-16 20:29:14--  https://datasets.imdbws.com/title.basics.tsv.gz\n",
            "Resolving datasets.imdbws.com (datasets.imdbws.com)... 54.230.18.35, 54.230.18.48, 54.230.18.84, ...\n",
            "Connecting to datasets.imdbws.com (datasets.imdbws.com)|54.230.18.35|:443... connected.\n",
            "HTTP request sent, awaiting response... 200 OK\n",
            "Length: 163866839 (156M) [binary/octet-stream]\n",
            "Saving to: ‘title.basics.tsv.gz.2’\n",
            "\n",
            "title.basics.tsv.gz 100%[===================>] 156.28M  72.8MB/s    in 2.1s    \n",
            "\n",
            "2022-11-16 20:29:17 (72.8 MB/s) - ‘title.basics.tsv.gz.2’ saved [163866839/163866839]\n",
            "\n",
            "--2022-11-16 20:29:17--  https://datasets.imdbws.com/title.crew.tsv.gz\n",
            "Resolving datasets.imdbws.com (datasets.imdbws.com)... 54.230.18.35, 54.230.18.48, 54.230.18.84, ...\n",
            "Connecting to datasets.imdbws.com (datasets.imdbws.com)|54.230.18.35|:443... connected.\n",
            "HTTP request sent, awaiting response... 200 OK\n",
            "Length: 62908732 (60M) [binary/octet-stream]\n",
            "Saving to: ‘title.crew.tsv.gz.2’\n",
            "\n",
            "title.crew.tsv.gz.2 100%[===================>]  59.99M  67.6MB/s    in 0.9s    \n",
            "\n",
            "2022-11-16 20:29:17 (67.6 MB/s) - ‘title.crew.tsv.gz.2’ saved [62908732/62908732]\n",
            "\n",
            "--2022-11-16 20:29:18--  https://datasets.imdbws.com/title.episode.tsv.gz\n",
            "Resolving datasets.imdbws.com (datasets.imdbws.com)... 54.230.18.35, 54.230.18.48, 54.230.18.84, ...\n",
            "Connecting to datasets.imdbws.com (datasets.imdbws.com)|54.230.18.35|:443... connected.\n",
            "HTTP request sent, awaiting response... 200 OK\n",
            "Length: 38533775 (37M) [binary/octet-stream]\n",
            "Saving to: ‘title.episode.tsv.gz.2’\n",
            "\n",
            "title.episode.tsv.g 100%[===================>]  36.75M  72.0MB/s    in 0.5s    \n",
            "\n",
            "2022-11-16 20:29:18 (72.0 MB/s) - ‘title.episode.tsv.gz.2’ saved [38533775/38533775]\n",
            "\n",
            "--2022-11-16 20:29:18--  https://datasets.imdbws.com/title.principals.tsv.gz\n",
            "Resolving datasets.imdbws.com (datasets.imdbws.com)... 54.230.18.35, 54.230.18.48, 54.230.18.84, ...\n",
            "Connecting to datasets.imdbws.com (datasets.imdbws.com)|54.230.18.35|:443... connected.\n",
            "HTTP request sent, awaiting response... 200 OK\n",
            "Length: 417299685 (398M) [binary/octet-stream]\n",
            "Saving to: ‘title.principals.tsv.gz.2’\n",
            "\n",
            "title.principals.ts 100%[===================>] 397.97M  75.2MB/s    in 5.4s    \n",
            "\n",
            "2022-11-16 20:29:24 (73.3 MB/s) - ‘title.principals.tsv.gz.2’ saved [417299685/417299685]\n",
            "\n",
            "--2022-11-16 20:29:24--  https://datasets.imdbws.com/title.ratings.tsv.gz\n",
            "Resolving datasets.imdbws.com (datasets.imdbws.com)... 54.230.18.35, 54.230.18.48, 54.230.18.84, ...\n",
            "Connecting to datasets.imdbws.com (datasets.imdbws.com)|54.230.18.35|:443... connected.\n",
            "HTTP request sent, awaiting response... 200 OK\n",
            "Length: 6266640 (6.0M) [binary/octet-stream]\n",
            "Saving to: ‘title.ratings.tsv.gz.2’\n",
            "\n",
            "title.ratings.tsv.g 100%[===================>]   5.98M  --.-KB/s    in 0.08s   \n",
            "\n",
            "2022-11-16 20:29:24 (70.8 MB/s) - ‘title.ratings.tsv.gz.2’ saved [6266640/6266640]\n",
            "\n"
          ]
        }
      ]
    },
    {
      "cell_type": "markdown",
      "source": [
        "##Rozpakowanie danych"
      ],
      "metadata": {
        "id": "or9x68JxXc10"
      }
    },
    {
      "cell_type": "code",
      "source": [
        "!gzip -dc /content/name.basics.tsv.gz > name.basics.csv\n",
        "!gzip -dc /content/title.akas.tsv.gz > title.akas.csv\n",
        "!gzip -dc /content/title.basics.tsv.gz > title.basic.csv\n",
        "!gzip -dc /content/title.crew.tsv.gz > title.crew.csv\n",
        "!gzip -dc /content/title.episode.tsv.gz > title.episode.csv\n",
        "!gzip -dc /content/title.principals.tsv.gz > title.principals.csv\n",
        "!gzip -dc /content/title.ratings.tsv.gz > title.ratings.csv"
      ],
      "metadata": {
        "id": "IpXAjtV4XeKx"
      },
      "execution_count": 45,
      "outputs": []
    },
    {
      "cell_type": "markdown",
      "source": [
        "#Wczytanie danych"
      ],
      "metadata": {
        "id": "pPWxy5j_aEvo"
      }
    },
    {
      "cell_type": "markdown",
      "source": [
        "##Wczytajmy dane z rozpakowanych plików"
      ],
      "metadata": {
        "id": "s-hzkKehxgnQ"
      }
    },
    {
      "cell_type": "code",
      "source": [
        "df_name_basics=spark.read.option(\"header\", \"true\").option(\"delimiter\", \"\\t\").csv('name.basics.csv' ) \n",
        "df_title_akas=spark.read.option(\"header\",\"true\").option(\"delimiter\", \"\\t\").csv('title.akas.csv')\n",
        "df_title_basic=spark.read.option(\"header\",\"true\").option(\"delimiter\", \"\\t\").csv('title.basic.csv')\n",
        "df_title_crew=spark.read.option(\"header\",\"true\").option(\"delimiter\", \"\\t\").csv('title.crew.csv')\n",
        "df_title_episode=spark.read.option(\"header\",\"true\").option(\"delimiter\",\"\\t\").csv('title.episode.csv')\n",
        "df_title_principals=spark.read.option(\"header\",\"true\").option(\"delimiter\",\"\\t\").csv('title.principals.csv')\n",
        "df_title_ratings=spark.read.option(\"header\",\"true\").option(\"delimiter\",\"\\t\").csv('title.ratings.csv')"
      ],
      "metadata": {
        "id": "skegmFMQXpcA"
      },
      "execution_count": 46,
      "outputs": []
    },
    {
      "cell_type": "markdown",
      "source": [
        "##Wyświetlmy dane"
      ],
      "metadata": {
        "id": "snoopt7lY71j"
      }
    },
    {
      "cell_type": "code",
      "source": [
        "df_name_basics.show(3)\n",
        "df_title_akas.show(3)\n",
        "df_title_basic.show(3)\n",
        "df_title_crew.show(3)\n",
        "df_title_episode.show(3)\n",
        "df_title_principals.show(3)\n",
        "df_title_ratings.show(3)"
      ],
      "metadata": {
        "id": "BQItTCh9ZBht",
        "colab": {
          "base_uri": "https://localhost:8080/"
        },
        "outputId": "a4fd4087-0afc-48c2-d8d6-e17758fed6b3"
      },
      "execution_count": 47,
      "outputs": [
        {
          "output_type": "stream",
          "name": "stdout",
          "text": [
            "+---------+---------------+---------+---------+--------------------+--------------------+\n",
            "|   nconst|    primaryName|birthYear|deathYear|   primaryProfession|      knownForTitles|\n",
            "+---------+---------------+---------+---------+--------------------+--------------------+\n",
            "|nm0000001|   Fred Astaire|     1899|     1987|soundtrack,actor,...|tt0050419,tt00531...|\n",
            "|nm0000002|  Lauren Bacall|     1924|     2014|  actress,soundtrack|tt0117057,tt00718...|\n",
            "|nm0000003|Brigitte Bardot|     1934|       \\N|actress,soundtrac...|tt0049189,tt00564...|\n",
            "+---------+---------------+---------+---------+--------------------+--------------------+\n",
            "only showing top 3 rows\n",
            "\n",
            "+---------+--------+--------------------+------+--------+-----------+-------------+---------------+\n",
            "|  titleId|ordering|               title|region|language|      types|   attributes|isOriginalTitle|\n",
            "+---------+--------+--------------------+------+--------+-----------+-------------+---------------+\n",
            "|tt0000001|       1|          Карменсіта|    UA|      \\N|imdbDisplay|           \\N|              0|\n",
            "|tt0000001|       2|          Carmencita|    DE|      \\N|         \\N|literal title|              0|\n",
            "|tt0000001|       3|Carmencita - span...|    HU|      \\N|imdbDisplay|           \\N|              0|\n",
            "+---------+--------+--------------------+------+--------+-----------+-------------+---------------+\n",
            "only showing top 3 rows\n",
            "\n",
            "+---------+---------+--------------------+--------------------+-------+---------+-------+--------------+--------------------+\n",
            "|   tconst|titleType|        primaryTitle|       originalTitle|isAdult|startYear|endYear|runtimeMinutes|              genres|\n",
            "+---------+---------+--------------------+--------------------+-------+---------+-------+--------------+--------------------+\n",
            "|tt0000001|    short|          Carmencita|          Carmencita|      0|     1894|     \\N|             1|   Documentary,Short|\n",
            "|tt0000002|    short|Le clown et ses c...|Le clown et ses c...|      0|     1892|     \\N|             5|     Animation,Short|\n",
            "|tt0000003|    short|      Pauvre Pierrot|      Pauvre Pierrot|      0|     1892|     \\N|             4|Animation,Comedy,...|\n",
            "+---------+---------+--------------------+--------------------+-------+---------+-------+--------------+--------------------+\n",
            "only showing top 3 rows\n",
            "\n",
            "+---------+---------+-------+\n",
            "|   tconst|directors|writers|\n",
            "+---------+---------+-------+\n",
            "|tt0000001|nm0005690|     \\N|\n",
            "|tt0000002|nm0721526|     \\N|\n",
            "|tt0000003|nm0721526|     \\N|\n",
            "+---------+---------+-------+\n",
            "only showing top 3 rows\n",
            "\n",
            "+---------+------------+------------+-------------+\n",
            "|   tconst|parentTconst|seasonNumber|episodeNumber|\n",
            "+---------+------------+------------+-------------+\n",
            "|tt0041951|   tt0041038|           1|            9|\n",
            "|tt0042816|   tt0989125|           1|           17|\n",
            "|tt0042889|   tt0989125|          \\N|           \\N|\n",
            "+---------+------------+------------+-------------+\n",
            "only showing top 3 rows\n",
            "\n",
            "+---------+--------+---------+---------------+--------------------+----------+\n",
            "|   tconst|ordering|   nconst|       category|                 job|characters|\n",
            "+---------+--------+---------+---------------+--------------------+----------+\n",
            "|tt0000001|       1|nm1588970|           self|                  \\N|  [\"Self\"]|\n",
            "|tt0000001|       2|nm0005690|       director|                  \\N|        \\N|\n",
            "|tt0000001|       3|nm0374658|cinematographer|director of photo...|        \\N|\n",
            "+---------+--------+---------+---------------+--------------------+----------+\n",
            "only showing top 3 rows\n",
            "\n",
            "+---------+-------------+--------+\n",
            "|   tconst|averageRating|numVotes|\n",
            "+---------+-------------+--------+\n",
            "|tt0000001|          5.7|    1922|\n",
            "|tt0000002|          5.8|     259|\n",
            "|tt0000003|          6.5|    1736|\n",
            "+---------+-------------+--------+\n",
            "only showing top 3 rows\n",
            "\n"
          ]
        }
      ]
    },
    {
      "cell_type": "markdown",
      "source": [
        "# Złączenie istotnych kolumn"
      ],
      "metadata": {
        "id": "ZZb5i_RrA-yP"
      }
    },
    {
      "cell_type": "markdown",
      "source": [
        "## Wybierzmy następujące kolumny z tabel:\n",
        "- df_title_basic:\n",
        "  - tconst (unikalny numer tytułu - potrzebne do złączenia tabel)\n",
        "  - titleType (rodzaj tytułu, np. film, serial - można porównywać podobieństwo aktorów na podstawie tego w jakich typach produkcji grali)\n",
        "  - originalTitle (tytuł produkcji - być może przyda się do analizy podobnych filmów)\n",
        "  - isAdult (czy produkcja jest dla dorosłych - można wykorzystać do porównywania aktorów na podstawie tego czy grają głównie w produkcjach dla dorosłych)\n",
        "  - genres (gatunki - może posłużyć do porównania aktorów na podstawie tego, że grali w produkcjach o podobnych gatunkach)\n",
        "\n",
        "- df_title_principals:\n",
        "  - tconst (unikalny numer tytułu - potrzebne do złączenia tabel)\n",
        "  - nconst (unikalny numer aktora - potrzebne do złączenia tabel)\n",
        "  - category (kategoria pracy (actor/actress) - może posłużyć do porównania aktorów na podstawie takiej samej płci)\n",
        "  - characters (postacie zagrane w produkcji - może posłużyć do porównania aktorów na podstawie podobnych granych postaci)\n",
        "\n",
        "- df_name_basics:\n",
        "  - nconst(unikalny numer aktora - potrzebne do złączenia tabel)\n",
        "  - primaryName (imię i nazwisko aktora - potrzebne do wyświetlania aktora lub do odnajdywania go w bazie po imieniu i nazwisku)\n",
        "  - birthYear (rok urodzenia aktora - może posłużyć do porównania aktorów na podstawie podobnych okresów, w których żyli i grali)\n",
        "  - deathYear ( rok śmierci aktora - może posłużyć do porównania aktorów na podstawie podobnych okresów, w których żyli i grali)\n",
        "  - knownForTitles (tytuły produkcji, z których znany jets aktor - może posłużyć do porównania aktorów na podstawie tych samych lub podobnych produkcji, z których są znani)"
      ],
      "metadata": {
        "id": "MGd5Hi-VBF9h"
      }
    },
    {
      "cell_type": "code",
      "source": [
        "df_title_basic_selected = df_title_basic.select([\"tconst\", \"titleType\", \"originalTitle\", \"isAdult\", \"genres\"])\n",
        "df_title_principals_selected = df_title_principals.select([\"tconst\", \"nconst\", \"category\", \"characters\"])\n",
        "df_name_basics_selected = df_name_basics.select([\"nconst\", \"primaryName\", \"birthYear\", \"deathYear\", \"knownForTitles\"])"
      ],
      "metadata": {
        "id": "OKWe9JSKBC5q"
      },
      "execution_count": 48,
      "outputs": []
    },
    {
      "cell_type": "markdown",
      "source": [
        "## Wybierzmy z tabeli df_title_principals_selected tylko aktorów i aktorki"
      ],
      "metadata": {
        "id": "Dv9_BSnFVFa3"
      }
    },
    {
      "cell_type": "code",
      "source": [
        "df_title_principals_selected = df_title_principals_selected.filter((df_title_principals_selected.category == \"actor\") | (df_title_principals_selected.category == \"actress\"))"
      ],
      "metadata": {
        "id": "3vOtn_OxVAQa"
      },
      "execution_count": 49,
      "outputs": []
    },
    {
      "cell_type": "markdown",
      "source": [
        "# Złączmy tabele df_name_basics, df_title_principals i df_title_basic"
      ],
      "metadata": {
        "id": "eMIHo59PBNtx"
      }
    },
    {
      "cell_type": "markdown",
      "source": [
        "## Sprawdźmy czasy joinowania dla różnych kombinacji tabel"
      ],
      "metadata": {
        "id": "0cd69uOmz-E9"
      }
    },
    {
      "cell_type": "markdown",
      "source": [
        "Sprawdzimy najpierw różnicę w różnych typach łączenia tabel df_name_basics_selected i df_title_principals_selected:"
      ],
      "metadata": {
        "id": "19O-f-nBUprz"
      }
    },
    {
      "cell_type": "code",
      "source": [
        "from timeit import default_timer as timer\n",
        "\n",
        "start = timer()\n",
        "data1 = df_name_basics_selected.join(df_title_principals_selected, \"nconst\", \"inner\")\n",
        "end = timer()\n",
        "print(\"df_name_basics_selected and df_title_principals_selected joined table size: \", (data1.count(), len(data1.columns)), \"time of joining tables: \", end-start)"
      ],
      "metadata": {
        "id": "bXWAMvJtz9Rc",
        "outputId": "1f1045ce-54a2-4b7d-c6f6-240835c3a997",
        "colab": {
          "base_uri": "https://localhost:8080/"
        }
      },
      "execution_count": 50,
      "outputs": [
        {
          "output_type": "stream",
          "name": "stdout",
          "text": [
            "df_name_basics_selected and df_title_principals_selected joined table size:  (20762844, 8) time of joining tables:  0.019199426998966374\n"
          ]
        }
      ]
    },
    {
      "cell_type": "code",
      "source": [
        "start = timer()\n",
        "data2 = df_name_basics_selected.join(df_title_principals_selected, \"nconst\", \"left\")\n",
        "end = timer()\n",
        "print(\"df_name_basics_selected and df_title_principals_selected joined table size: \", (data2.count(), len(data2.columns)), \"time of joining tables: \", end-start)"
      ],
      "metadata": {
        "id": "MJSCPvhY1x_4",
        "outputId": "07f6d91e-29fc-457f-dfad-878c5a4f326d",
        "colab": {
          "base_uri": "https://localhost:8080/"
        }
      },
      "execution_count": 51,
      "outputs": [
        {
          "output_type": "stream",
          "name": "stdout",
          "text": [
            "df_name_basics_selected and df_title_principals_selected joined table size:  (30547803, 8) time of joining tables:  0.02596094799991988\n"
          ]
        }
      ]
    },
    {
      "cell_type": "code",
      "source": [
        "start = timer()\n",
        "data3 = df_name_basics_selected.join(df_title_principals_selected, \"nconst\", \"outer\")\n",
        "end = timer()\n",
        "print(\"df_name_basics_selected and df_title_principals_selected joined table size: \", (data3.count(), len(data3.columns)), \"time of joining tables: \", end-start)"
      ],
      "metadata": {
        "id": "m1FwLnHu3UyL",
        "outputId": "e61e485a-fd18-42b8-bf3c-c34dc04528be",
        "colab": {
          "base_uri": "https://localhost:8080/"
        }
      },
      "execution_count": 52,
      "outputs": [
        {
          "output_type": "stream",
          "name": "stdout",
          "text": [
            "df_name_basics_selected and df_title_principals_selected joined table size:  (30551431, 8) time of joining tables:  0.016509987000972615\n"
          ]
        }
      ]
    },
    {
      "cell_type": "code",
      "source": [
        "start = timer()\n",
        "data4 = df_name_basics_selected.join(df_title_principals_selected, \"nconst\", \"right\")\n",
        "end = timer()\n",
        "print(\"df_name_basics_selected and df_title_principals_selected joined table size: \", (data4.count(), len(data4.columns)), \"time of joining tables: \", end-start)"
      ],
      "metadata": {
        "id": "qOiMjG5H3X8S",
        "outputId": "3ed95c63-2dc7-42e5-b696-55138720016e",
        "colab": {
          "base_uri": "https://localhost:8080/"
        }
      },
      "execution_count": 53,
      "outputs": [
        {
          "output_type": "stream",
          "name": "stdout",
          "text": [
            "df_name_basics_selected and df_title_principals_selected joined table size:  (20766472, 8) time of joining tables:  0.018478152000170667\n"
          ]
        }
      ]
    },
    {
      "cell_type": "code",
      "source": [
        "data1.filter(data1.primaryName.isNull()).show()\n",
        "data2.filter(data2.primaryName.isNull()).show()\n",
        "data3.filter(data3.primaryName.isNull()).show()\n",
        "data4.filter(data4.primaryName.isNull()).show()\n",
        "\n",
        "data1.filter(data1.tconst.isNull()).show()\n",
        "data2.filter(data2.tconst.isNull()).show()\n",
        "data3.filter(data3.tconst.isNull()).show()\n",
        "data4.filter(data4.tconst.isNull()).show()"
      ],
      "metadata": {
        "id": "BBPVxE53fNcn",
        "outputId": "c65cabdb-4fd6-41c8-804d-361fcb97e42b",
        "colab": {
          "base_uri": "https://localhost:8080/"
        }
      },
      "execution_count": null,
      "outputs": [
        {
          "output_type": "stream",
          "name": "stdout",
          "text": [
            "+------+-----------+---------+---------+--------------+------+--------+----------+\n",
            "|nconst|primaryName|birthYear|deathYear|knownForTitles|tconst|category|characters|\n",
            "+------+-----------+---------+---------+--------------+------+--------+----------+\n",
            "+------+-----------+---------+---------+--------------+------+--------+----------+\n",
            "\n",
            "+------+-----------+---------+---------+--------------+------+--------+----------+\n",
            "|nconst|primaryName|birthYear|deathYear|knownForTitles|tconst|category|characters|\n",
            "+------+-----------+---------+---------+--------------+------+--------+----------+\n",
            "+------+-----------+---------+---------+--------------+------+--------+----------+\n",
            "\n",
            "+---------+-----------+---------+---------+--------------+----------+--------+--------------------+\n",
            "|   nconst|primaryName|birthYear|deathYear|knownForTitles|    tconst|category|          characters|\n",
            "+---------+-----------+---------+---------+--------------+----------+--------+--------------------+\n",
            "|nm0635557|       null|     null|     null|          null|tt10980430| actress|     [\"Chase's Mom\"]|\n",
            "|nm0645200|       null|     null|     null|          null| tt0069058| actress|           [\"Panny\"]|\n",
            "|nm0645200|       null|     null|     null|          null| tt0069576| actress|         [\"Sewashi\"]|\n",
            "|nm0645200|       null|     null|     null|          null| tt0070505| actress|       [\"Tora-chan\"]|\n",
            "|nm0645200|       null|     null|     null|          null| tt0086683| actress|           [\"Peebo\"]|\n",
            "|nm0645200|       null|     null|     null|          null| tt0121655| actress|         [\"Saphire\"]|\n",
            "|nm0645200|       null|     null|     null|          null| tt0288961| actress|[\"Atsuko 'Akko' K...|\n",
            "|nm0645200|       null|     null|     null|          null| tt0288962| actress|   [\"Akko's mother\"]|\n",
            "|nm0645200|       null|     null|     null|          null| tt0315022| actress|  [\"Oh-hara Hoshio\"]|\n",
            "|nm0645200|       null|     null|     null|          null| tt0480861| actress|     [\"Antonio Jr.\"]|\n",
            "|nm0645200|       null|     null|     null|          null| tt0488470| actress|          [\"Tanpei\"]|\n",
            "|nm0645200|       null|     null|     null|          null| tt0856156| actress|        [\"Gan-chan\"]|\n",
            "|nm0645200|       null|     null|     null|          null| tt0980566| actress|          [\"Urasue\"]|\n",
            "|nm0645200|       null|     null|     null|          null| tt0980569| actress|          [\"Urasue\"]|\n",
            "|nm0645200|       null|     null|     null|          null|tt10240466| actress|         [\"Sewashi\"]|\n",
            "|nm0645200|       null|     null|     null|          null|tt10241620| actress|         [\"Sewashi\"]|\n",
            "|nm0645200|       null|     null|     null|          null| tt1032831| actress|          [\"Nobita\"]|\n",
            "|nm0645200|       null|     null|     null|          null| tt1038939| actress|           [\"Shota\"]|\n",
            "|nm0645200|       null|     null|     null|          null|tt10753556| actress|         [\"Yoshiko\"]|\n",
            "|nm0645200|       null|     null|     null|          null| tt1147700| actress|[\"Takora\",\"Chonbo...|\n",
            "+---------+-----------+---------+---------+--------------+----------+--------+--------------------+\n",
            "only showing top 20 rows\n",
            "\n",
            "+---------+-----------+---------+---------+--------------+----------+--------+--------------------+\n",
            "|   nconst|primaryName|birthYear|deathYear|knownForTitles|    tconst|category|          characters|\n",
            "+---------+-----------+---------+---------+--------------+----------+--------+--------------------+\n",
            "|nm0635557|       null|     null|     null|          null|tt10980430| actress|     [\"Chase's Mom\"]|\n",
            "|nm0645200|       null|     null|     null|          null| tt0069058| actress|           [\"Panny\"]|\n",
            "|nm0645200|       null|     null|     null|          null| tt0069576| actress|         [\"Sewashi\"]|\n",
            "|nm0645200|       null|     null|     null|          null| tt0070505| actress|       [\"Tora-chan\"]|\n",
            "|nm0645200|       null|     null|     null|          null| tt0086683| actress|           [\"Peebo\"]|\n",
            "|nm0645200|       null|     null|     null|          null| tt0121655| actress|         [\"Saphire\"]|\n",
            "|nm0645200|       null|     null|     null|          null| tt0288961| actress|[\"Atsuko 'Akko' K...|\n",
            "|nm0645200|       null|     null|     null|          null| tt0288962| actress|   [\"Akko's mother\"]|\n",
            "|nm0645200|       null|     null|     null|          null| tt0315022| actress|  [\"Oh-hara Hoshio\"]|\n",
            "|nm0645200|       null|     null|     null|          null| tt0480861| actress|     [\"Antonio Jr.\"]|\n",
            "|nm0645200|       null|     null|     null|          null| tt0488470| actress|          [\"Tanpei\"]|\n",
            "|nm0645200|       null|     null|     null|          null| tt0856156| actress|        [\"Gan-chan\"]|\n",
            "|nm0645200|       null|     null|     null|          null| tt0980566| actress|          [\"Urasue\"]|\n",
            "|nm0645200|       null|     null|     null|          null| tt0980569| actress|          [\"Urasue\"]|\n",
            "|nm0645200|       null|     null|     null|          null|tt10240466| actress|         [\"Sewashi\"]|\n",
            "|nm0645200|       null|     null|     null|          null|tt10241620| actress|         [\"Sewashi\"]|\n",
            "|nm0645200|       null|     null|     null|          null| tt1032831| actress|          [\"Nobita\"]|\n",
            "|nm0645200|       null|     null|     null|          null| tt1038939| actress|           [\"Shota\"]|\n",
            "|nm0645200|       null|     null|     null|          null|tt10753556| actress|         [\"Yoshiko\"]|\n",
            "|nm0645200|       null|     null|     null|          null| tt1147700| actress|[\"Takora\",\"Chonbo...|\n",
            "+---------+-----------+---------+---------+--------------+----------+--------+--------------------+\n",
            "only showing top 20 rows\n",
            "\n",
            "+------+-----------+---------+---------+--------------+------+--------+----------+\n",
            "|nconst|primaryName|birthYear|deathYear|knownForTitles|tconst|category|characters|\n",
            "+------+-----------+---------+---------+--------------+------+--------+----------+\n",
            "+------+-----------+---------+---------+--------------+------+--------+----------+\n",
            "\n",
            "+---------+-------------------+---------+---------+--------------------+------+--------+----------+\n",
            "|   nconst|        primaryName|birthYear|deathYear|      knownForTitles|tconst|category|characters|\n",
            "+---------+-------------------+---------+---------+--------------------+------+--------+----------+\n",
            "|nm0000736|     Robert Aldrich|     1918|     1983|tt0061578,tt00717...|  null|    null|      null|\n",
            "|nm0000881|        Michael Bay|     1965|       \\N|tt1055369,tt21092...|  null|    null|      null|\n",
            "|nm0000975|     Robert Bresson|     1901|     1999|tt0049902,tt00619...|  null|    null|      null|\n",
            "|nm0001203|   William Faulkner|     1897|     1962|tt0037382,tt00383...|  null|    null|      null|\n",
            "|nm0001460|         Mimi Leder|     1952|       \\N|tt0119874,tt46697...|  null|    null|      null|\n",
            "|nm0001700|       Nancy Savoca|     1959|       \\N|tt0138279,tt03591...|  null|    null|      null|\n",
            "|nm0001994|Michael Caton-Jones|     1957|       \\N|tt0100133,tt02690...|  null|    null|      null|\n",
            "|nm0002152|        Jörg Widmer|       \\N|       \\N|tt0317919,tt09938...|  null|    null|      null|\n",
            "|nm0002155|   Edward M. Abroms|     1935|     2018|tt0085255,tt00893...|  null|    null|      null|\n",
            "|nm0002220|  Alexander Scherer|       \\N|       \\N| tt2879912,tt0110275|  null|    null|      null|\n",
            "|nm0002226|        Misha Segal|     1943|       \\N|tt0093744,tt00980...|  null|    null|      null|\n",
            "|nm0002260|    Melissa Moseley|       \\N|       \\N|tt0166924,tt04330...|  null|    null|      null|\n",
            "|nm0002281|      Lisa Janowski|       \\N|       \\N|tt0119217,tt01156...|  null|    null|      null|\n",
            "|nm0002306|  Boris Paval Conen|     1968|       \\N|tt0486185,tt62422...|  null|    null|      null|\n",
            "|nm0002308|        Ayesa Adams|       \\N|       \\N|tt0118886,tt03237...|  null|    null|      null|\n",
            "|nm0002334|    Douglas C. Hart|       \\N|       \\N|tt0089853,tt00977...|  null|    null|      null|\n",
            "|nm0002337|    Roger Christian|     1944|       \\N|tt0084658,tt01106...|  null|    null|      null|\n",
            "|nm0002359|        Katy Wallin|       \\N|       \\N|tt0143344,tt01927...|  null|    null|      null|\n",
            "|nm0002384|      Samuel Vartek|     1969|       \\N|tt5628870,tt11374...|  null|    null|      null|\n",
            "|nm0002401|David Max Steinberg|     1958|       \\N|tt0122106,tt94593...|  null|    null|      null|\n",
            "+---------+-------------------+---------+---------+--------------------+------+--------+----------+\n",
            "only showing top 20 rows\n",
            "\n",
            "+---------+-------------------+---------+---------+--------------------+------+--------+----------+\n",
            "|   nconst|        primaryName|birthYear|deathYear|      knownForTitles|tconst|category|characters|\n",
            "+---------+-------------------+---------+---------+--------------------+------+--------+----------+\n",
            "|nm0000736|     Robert Aldrich|     1918|     1983|tt0061578,tt00717...|  null|    null|      null|\n",
            "|nm0000881|        Michael Bay|     1965|       \\N|tt1055369,tt21092...|  null|    null|      null|\n",
            "|nm0000975|     Robert Bresson|     1901|     1999|tt0049902,tt00619...|  null|    null|      null|\n",
            "|nm0001203|   William Faulkner|     1897|     1962|tt0037382,tt00383...|  null|    null|      null|\n",
            "|nm0001460|         Mimi Leder|     1952|       \\N|tt0119874,tt46697...|  null|    null|      null|\n",
            "|nm0001700|       Nancy Savoca|     1959|       \\N|tt0138279,tt03591...|  null|    null|      null|\n",
            "|nm0001994|Michael Caton-Jones|     1957|       \\N|tt0100133,tt02690...|  null|    null|      null|\n",
            "|nm0002152|        Jörg Widmer|       \\N|       \\N|tt0317919,tt09938...|  null|    null|      null|\n",
            "|nm0002155|   Edward M. Abroms|     1935|     2018|tt0085255,tt00893...|  null|    null|      null|\n",
            "|nm0002220|  Alexander Scherer|       \\N|       \\N| tt2879912,tt0110275|  null|    null|      null|\n",
            "|nm0002226|        Misha Segal|     1943|       \\N|tt0093744,tt00980...|  null|    null|      null|\n",
            "|nm0002260|    Melissa Moseley|       \\N|       \\N|tt0166924,tt04330...|  null|    null|      null|\n",
            "|nm0002281|      Lisa Janowski|       \\N|       \\N|tt0119217,tt01156...|  null|    null|      null|\n",
            "|nm0002306|  Boris Paval Conen|     1968|       \\N|tt0486185,tt62422...|  null|    null|      null|\n",
            "|nm0002308|        Ayesa Adams|       \\N|       \\N|tt0118886,tt03237...|  null|    null|      null|\n",
            "|nm0002334|    Douglas C. Hart|       \\N|       \\N|tt0089853,tt00977...|  null|    null|      null|\n",
            "|nm0002337|    Roger Christian|     1944|       \\N|tt0084658,tt01106...|  null|    null|      null|\n",
            "|nm0002359|        Katy Wallin|       \\N|       \\N|tt0143344,tt01927...|  null|    null|      null|\n",
            "|nm0002384|      Samuel Vartek|     1969|       \\N|tt5628870,tt11374...|  null|    null|      null|\n",
            "|nm0002401|David Max Steinberg|     1958|       \\N|tt0122106,tt94593...|  null|    null|      null|\n",
            "+---------+-------------------+---------+---------+--------------------+------+--------+----------+\n",
            "only showing top 20 rows\n",
            "\n"
          ]
        }
      ]
    },
    {
      "cell_type": "markdown",
      "source": [
        "Widzimy, że najszybszy rodzaj łączenia tabel to w tym przypadku \"inner\". Wiemy, że ten rodzaj łączenia nie gubi istotnych dla nas wierszy, gdyż osoby zawarte w takiej tabeli na pewno istnieją w tabeli df_name_basics_selected, czyli są znane z imienia i nazwiska oraz są aktorami i grali w jakimś filmie, co wynika z tabeli df_title_principals_selected."
      ],
      "metadata": {
        "id": "ZIR-r7kX9z9T"
      }
    },
    {
      "cell_type": "markdown",
      "source": [
        "Teraz zobaczymy, czy dołączając tabelę df_name_basics_selected do tabeli df_title_principals_selected dostaniemy lepszy wynik niż powyżej."
      ],
      "metadata": {
        "id": "xuTgxGz9VFCm"
      }
    },
    {
      "cell_type": "code",
      "source": [
        "start = timer()\n",
        "data5 = df_title_principals_selected.join(df_name_basics_selected, \"nconst\", \"inner\")\n",
        "end = timer()\n",
        "print(\"df_title_principals_selected and df_name_basics_selected joined table size: \", (data5.count(), len(data5.columns)), \"time of joining tables: \", end-start)"
      ],
      "metadata": {
        "id": "Q6ffjkmS27Ok"
      },
      "execution_count": null,
      "outputs": []
    },
    {
      "cell_type": "code",
      "source": [
        "start = timer()\n",
        "data6 = df_title_principals_selected.join(df_name_basics_selected, \"nconst\", \"left\")\n",
        "end = timer()\n",
        "print(\"df_title_principals_selected and df_name_basics_selected joined table size: \", (data6.count(), len(data6.columns)), \"time of joining tables: \", end-start)"
      ],
      "metadata": {
        "id": "U4mSQXppAItM"
      },
      "execution_count": null,
      "outputs": []
    },
    {
      "cell_type": "code",
      "source": [
        "start = timer()\n",
        "data7 = df_title_principals_selected.join(df_name_basics_selected, \"nconst\", \"outer\")\n",
        "end = timer()\n",
        "print(\"df_title_principals_selected and df_name_basics_selected joined table size: \", (data7.count(), len(data7.columns)), \"time of joining tables: \", end-start)"
      ],
      "metadata": {
        "id": "51S9GcRUF0A1"
      },
      "execution_count": null,
      "outputs": []
    },
    {
      "cell_type": "code",
      "source": [
        "start = timer()\n",
        "data8 = df_title_principals_selected.join(df_name_basics_selected, \"nconst\", \"right\")\n",
        "end = timer()\n",
        "print(\"df_title_principals_selected and df_name_basics_selected joined table size: \", (data8.count(), len(data8.columns)), \"time of joining tables: \", end-start)"
      ],
      "metadata": {
        "id": "vN_tO74zF1qM"
      },
      "execution_count": null,
      "outputs": []
    },
    {
      "cell_type": "markdown",
      "source": [],
      "metadata": {
        "id": "0v7pV7AVVjup"
      }
    },
    {
      "cell_type": "code",
      "source": [
        "print(\"df_name_basics_selected dataframe size: \", (df_name_basics_selected.count(), len(df_name_basics_selected.columns)))\n",
        "print(\"df_title_principals_selected dataframe size: \", (df_title_principals_selected.count(), len(df_title_principals_selected.columns)))\n",
        "print(\"df_title_basic_selected dataframe size: \", (df_title_basic_selected.count(), len(df_title_basic_selected.columns)))\n",
        "data = df_name_basics_selected.join(df_title_principals_selected, \"nconst\", \"inner\")\n",
        "print(\"joined dataframe size: \", (data.count(), len(data.columns)))\n",
        "data = data.join(df_title_basic_selected, \"tconst\", \"left\")\n",
        "print(\"joined dataframe size: \", (data.count(), len(data.columns)))"
      ],
      "metadata": {
        "id": "zMqqAJ7zBJWL"
      },
      "execution_count": null,
      "outputs": []
    },
    {
      "cell_type": "markdown",
      "source": [
        "# Wybierzmy przykładowe wiersze z końcowego dataframe'u"
      ],
      "metadata": {
        "id": "hKXuX-JdE9ED"
      }
    },
    {
      "cell_type": "code",
      "source": [
        "sample = data.rdd.takeSample(False, 5)"
      ],
      "metadata": {
        "id": "bH43D49EE84F"
      },
      "execution_count": null,
      "outputs": []
    },
    {
      "cell_type": "code",
      "source": [
        "import pandas as pd\n",
        "sample = pd.DataFrame(sample, columns = data.columns)\n",
        "sample"
      ],
      "metadata": {
        "id": "kW8-_TXYLo10"
      },
      "execution_count": null,
      "outputs": []
    }
  ]
}