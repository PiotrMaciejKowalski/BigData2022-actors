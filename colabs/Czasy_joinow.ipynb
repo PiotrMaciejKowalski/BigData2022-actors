{
  "nbformat": 4,
  "nbformat_minor": 0,
  "metadata": {
    "colab": {
      "provenance": [],
      "collapsed_sections": [
        "kgYZYlTutA0O",
        "or9x68JxXc10",
        "pPWxy5j_aEvo",
        "s-hzkKehxgnQ",
        "snoopt7lY71j"
      ],
      "include_colab_link": true
    },
    "kernelspec": {
      "name": "python3",
      "display_name": "Python 3"
    },
    "language_info": {
      "name": "python"
    }
  },
  "cells": [
    {
      "cell_type": "markdown",
      "metadata": {
        "id": "view-in-github",
        "colab_type": "text"
      },
      "source": [
        "<a href=\"https://colab.research.google.com/github/PiotrMaciejKowalski/BigData2022-actors/blob/czasy-joinow/colabs/Czasy_joinow.ipynb\" target=\"_parent\"><img src=\"https://colab.research.google.com/assets/colab-badge.svg\" alt=\"Open In Colab\"/></a>"
      ]
    },
    {
      "cell_type": "markdown",
      "source": [
        "#Setup sparka"
      ],
      "metadata": {
        "id": "Vzb444kPW31g"
      }
    },
    {
      "cell_type": "markdown",
      "source": [
        "##Setup sparka"
      ],
      "metadata": {
        "id": "Ny5PYKNbsHju"
      }
    },
    {
      "cell_type": "code",
      "source": [
        "!pip install pyspark py4j\n",
        "!pip install -q findspark\n",
        "!apt-get install openjdk-8-jdk-headless -qq > /dev/null\n",
        "!wget ftp://ftp.ps.pl/pub/apache/spark/spark-3.3.1/spark-3.3.1-bin-hadoop2.tgz\n",
        "!tar xf spark-3.3.1-bin-hadoop2.tgz"
      ],
      "metadata": {
        "colab": {
          "base_uri": "https://localhost:8080/"
        },
        "id": "UxTbMYkeLrk6",
        "outputId": "56eb740d-c516-4c99-c5ec-94129f272652"
      },
      "execution_count": 1,
      "outputs": [
        {
          "output_type": "stream",
          "name": "stdout",
          "text": [
            "Looking in indexes: https://pypi.org/simple, https://us-python.pkg.dev/colab-wheels/public/simple/\n",
            "Collecting pyspark\n",
            "  Downloading pyspark-3.3.1.tar.gz (281.4 MB)\n",
            "\u001b[K     |████████████████████████████████| 281.4 MB 47 kB/s \n",
            "\u001b[?25hCollecting py4j\n",
            "  Downloading py4j-0.10.9.7-py2.py3-none-any.whl (200 kB)\n",
            "\u001b[K     |████████████████████████████████| 200 kB 44.6 MB/s \n",
            "\u001b[?25h  Downloading py4j-0.10.9.5-py2.py3-none-any.whl (199 kB)\n",
            "\u001b[K     |████████████████████████████████| 199 kB 64.1 MB/s \n",
            "\u001b[?25hBuilding wheels for collected packages: pyspark\n",
            "  Building wheel for pyspark (setup.py) ... \u001b[?25l\u001b[?25hdone\n",
            "  Created wheel for pyspark: filename=pyspark-3.3.1-py2.py3-none-any.whl size=281845512 sha256=5e4a431ccaa40943a0c9ac57ae7d3d93b2262264176569693a46a1a09e8dcb84\n",
            "  Stored in directory: /root/.cache/pip/wheels/42/59/f5/79a5bf931714dcd201b26025347785f087370a10a3329a899c\n",
            "Successfully built pyspark\n",
            "Installing collected packages: py4j, pyspark\n",
            "Successfully installed py4j-0.10.9.5 pyspark-3.3.1\n",
            "--2022-11-22 20:31:17--  ftp://ftp.ps.pl/pub/apache/spark/spark-3.3.1/spark-3.3.1-bin-hadoop2.tgz\n",
            "           => ‘spark-3.3.1-bin-hadoop2.tgz’\n",
            "Resolving ftp.ps.pl (ftp.ps.pl)... 212.14.28.36, 2001:4c58:62:2::36\n",
            "Connecting to ftp.ps.pl (ftp.ps.pl)|212.14.28.36|:21... connected.\n",
            "Logging in as anonymous ... Logged in!\n",
            "==> SYST ... done.    ==> PWD ... done.\n",
            "==> TYPE I ... done.  ==> CWD (1) /pub/apache/spark/spark-3.3.1 ... done.\n",
            "==> SIZE spark-3.3.1-bin-hadoop2.tgz ... 274099817\n",
            "==> PASV ... done.    ==> RETR spark-3.3.1-bin-hadoop2.tgz ... done.\n",
            "Length: 274099817 (261M) (unauthoritative)\n",
            "\n",
            "spark-3.3.1-bin-had 100%[===================>] 261.40M  22.4MB/s    in 12s     \n",
            "\n",
            "2022-11-22 20:31:32 (21.1 MB/s) - ‘spark-3.3.1-bin-hadoop2.tgz’ saved [274099817]\n",
            "\n"
          ]
        }
      ]
    },
    {
      "cell_type": "code",
      "source": [
        "import pyspark\n",
        "import findspark\n",
        "from pyspark.sql import SparkSession\n",
        "import os"
      ],
      "metadata": {
        "id": "g_c507iBLsSW"
      },
      "execution_count": 2,
      "outputs": []
    },
    {
      "cell_type": "code",
      "source": [
        "os.environ[\"JAVA_HOME\"] = \"/usr/lib/jvm/java-8-openjdk-amd64\"\n",
        "os.environ[\"SPARK_HOME\"] = \"/content/spark-3.3.1-bin-hadoop2\"\n",
        "spark=SparkSession.builder.appName('Colab').getOrCreate()\n",
        "spark"
      ],
      "metadata": {
        "id": "1rwBnBMwW88n",
        "outputId": "7cd27d3b-c39f-416b-c89d-7dcf7ccb9d90",
        "colab": {
          "base_uri": "https://localhost:8080/",
          "height": 219
        }
      },
      "execution_count": 3,
      "outputs": [
        {
          "output_type": "execute_result",
          "data": {
            "text/plain": [
              "<pyspark.sql.session.SparkSession at 0x7ff12180bed0>"
            ],
            "text/html": [
              "\n",
              "            <div>\n",
              "                <p><b>SparkSession - in-memory</b></p>\n",
              "                \n",
              "        <div>\n",
              "            <p><b>SparkContext</b></p>\n",
              "\n",
              "            <p><a href=\"http://ea9bd8d610ee:4040\">Spark UI</a></p>\n",
              "\n",
              "            <dl>\n",
              "              <dt>Version</dt>\n",
              "                <dd><code>v3.3.1</code></dd>\n",
              "              <dt>Master</dt>\n",
              "                <dd><code>local[*]</code></dd>\n",
              "              <dt>AppName</dt>\n",
              "                <dd><code>Colab</code></dd>\n",
              "            </dl>\n",
              "        </div>\n",
              "        \n",
              "            </div>\n",
              "        "
            ]
          },
          "metadata": {},
          "execution_count": 3
        }
      ]
    },
    {
      "cell_type": "markdown",
      "source": [
        "#Pobranie danych"
      ],
      "metadata": {
        "id": "p0l3OAblXJ2w"
      }
    },
    {
      "cell_type": "markdown",
      "source": [
        "##Import danych"
      ],
      "metadata": {
        "id": "kgYZYlTutA0O"
      }
    },
    {
      "cell_type": "code",
      "source": [
        "!wget https://datasets.imdbws.com/name.basics.tsv.gz\n",
        "!wget https://datasets.imdbws.com/title.akas.tsv.gz\n",
        "!wget https://datasets.imdbws.com/title.basics.tsv.gz\n",
        "!wget https://datasets.imdbws.com/title.crew.tsv.gz\n",
        "!wget https://datasets.imdbws.com/title.episode.tsv.gz\n",
        "!wget https://datasets.imdbws.com/title.principals.tsv.gz\n",
        "!wget https://datasets.imdbws.com/title.ratings.tsv.gz"
      ],
      "metadata": {
        "id": "SciXhN5JXONa",
        "colab": {
          "base_uri": "https://localhost:8080/"
        },
        "outputId": "069b35c9-b772-45a5-a0e6-25eaf522afa6"
      },
      "execution_count": 4,
      "outputs": [
        {
          "output_type": "stream",
          "name": "stdout",
          "text": [
            "--2022-11-22 20:31:47--  https://datasets.imdbws.com/name.basics.tsv.gz\n",
            "Resolving datasets.imdbws.com (datasets.imdbws.com)... 13.249.98.91, 13.249.98.73, 13.249.98.35, ...\n",
            "Connecting to datasets.imdbws.com (datasets.imdbws.com)|13.249.98.91|:443... connected.\n",
            "HTTP request sent, awaiting response... 200 OK\n",
            "Length: 236745635 (226M) [binary/octet-stream]\n",
            "Saving to: ‘name.basics.tsv.gz’\n",
            "\n",
            "name.basics.tsv.gz  100%[===================>] 225.78M  87.4MB/s    in 2.6s    \n",
            "\n",
            "2022-11-22 20:31:49 (87.4 MB/s) - ‘name.basics.tsv.gz’ saved [236745635/236745635]\n",
            "\n",
            "--2022-11-22 20:31:49--  https://datasets.imdbws.com/title.akas.tsv.gz\n",
            "Resolving datasets.imdbws.com (datasets.imdbws.com)... 13.249.98.91, 13.249.98.73, 13.249.98.35, ...\n",
            "Connecting to datasets.imdbws.com (datasets.imdbws.com)|13.249.98.91|:443... connected.\n",
            "HTTP request sent, awaiting response... 200 OK\n",
            "Length: 288222028 (275M) [binary/octet-stream]\n",
            "Saving to: ‘title.akas.tsv.gz’\n",
            "\n",
            "title.akas.tsv.gz   100%[===================>] 274.87M  31.2MB/s    in 8.8s    \n",
            "\n",
            "2022-11-22 20:31:59 (31.1 MB/s) - ‘title.akas.tsv.gz’ saved [288222028/288222028]\n",
            "\n",
            "--2022-11-22 20:31:59--  https://datasets.imdbws.com/title.basics.tsv.gz\n",
            "Resolving datasets.imdbws.com (datasets.imdbws.com)... 13.249.98.91, 13.249.98.73, 13.249.98.35, ...\n",
            "Connecting to datasets.imdbws.com (datasets.imdbws.com)|13.249.98.91|:443... connected.\n",
            "HTTP request sent, awaiting response... 200 OK\n",
            "Length: 164130653 (157M) [binary/octet-stream]\n",
            "Saving to: ‘title.basics.tsv.gz’\n",
            "\n",
            "title.basics.tsv.gz 100%[===================>] 156.53M  34.4MB/s    in 5.0s    \n",
            "\n",
            "2022-11-22 20:32:04 (31.3 MB/s) - ‘title.basics.tsv.gz’ saved [164130653/164130653]\n",
            "\n",
            "--2022-11-22 20:32:04--  https://datasets.imdbws.com/title.crew.tsv.gz\n",
            "Resolving datasets.imdbws.com (datasets.imdbws.com)... 13.249.98.91, 13.249.98.73, 13.249.98.35, ...\n",
            "Connecting to datasets.imdbws.com (datasets.imdbws.com)|13.249.98.91|:443... connected.\n",
            "HTTP request sent, awaiting response... 200 OK\n",
            "Length: 62993529 (60M) [binary/octet-stream]\n",
            "Saving to: ‘title.crew.tsv.gz’\n",
            "\n",
            "title.crew.tsv.gz   100%[===================>]  60.08M  44.2MB/s    in 1.4s    \n",
            "\n",
            "2022-11-22 20:32:06 (44.2 MB/s) - ‘title.crew.tsv.gz’ saved [62993529/62993529]\n",
            "\n",
            "--2022-11-22 20:32:06--  https://datasets.imdbws.com/title.episode.tsv.gz\n",
            "Resolving datasets.imdbws.com (datasets.imdbws.com)... 13.249.98.91, 13.249.98.73, 13.249.98.35, ...\n",
            "Connecting to datasets.imdbws.com (datasets.imdbws.com)|13.249.98.91|:443... connected.\n",
            "HTTP request sent, awaiting response... 200 OK\n",
            "Length: 38604682 (37M) [binary/octet-stream]\n",
            "Saving to: ‘title.episode.tsv.gz’\n",
            "\n",
            "title.episode.tsv.g 100%[===================>]  36.82M  38.2MB/s    in 1.0s    \n",
            "\n",
            "2022-11-22 20:32:07 (38.2 MB/s) - ‘title.episode.tsv.gz’ saved [38604682/38604682]\n",
            "\n",
            "--2022-11-22 20:32:07--  https://datasets.imdbws.com/title.principals.tsv.gz\n",
            "Resolving datasets.imdbws.com (datasets.imdbws.com)... 13.249.98.91, 13.249.98.73, 13.249.98.35, ...\n",
            "Connecting to datasets.imdbws.com (datasets.imdbws.com)|13.249.98.91|:443... connected.\n",
            "HTTP request sent, awaiting response... 200 OK\n",
            "Length: 418023433 (399M) [binary/octet-stream]\n",
            "Saving to: ‘title.principals.tsv.gz’\n",
            "\n",
            "title.principals.ts 100%[===================>] 398.66M  35.1MB/s    in 12s     \n",
            "\n",
            "2022-11-22 20:32:19 (32.7 MB/s) - ‘title.principals.tsv.gz’ saved [418023433/418023433]\n",
            "\n",
            "--2022-11-22 20:32:20--  https://datasets.imdbws.com/title.ratings.tsv.gz\n",
            "Resolving datasets.imdbws.com (datasets.imdbws.com)... 13.249.98.73, 13.249.98.91, 13.249.98.61, ...\n",
            "Connecting to datasets.imdbws.com (datasets.imdbws.com)|13.249.98.73|:443... connected.\n",
            "HTTP request sent, awaiting response... 200 OK\n",
            "Length: 6276744 (6.0M) [binary/octet-stream]\n",
            "Saving to: ‘title.ratings.tsv.gz’\n",
            "\n",
            "title.ratings.tsv.g 100%[===================>]   5.99M  --.-KB/s    in 0.1s    \n",
            "\n",
            "2022-11-22 20:32:20 (41.9 MB/s) - ‘title.ratings.tsv.gz’ saved [6276744/6276744]\n",
            "\n"
          ]
        }
      ]
    },
    {
      "cell_type": "markdown",
      "source": [
        "##Rozpakowanie danych"
      ],
      "metadata": {
        "id": "or9x68JxXc10"
      }
    },
    {
      "cell_type": "code",
      "source": [
        "!gzip -dc /content/name.basics.tsv.gz > name.basics.csv\n",
        "!gzip -dc /content/title.akas.tsv.gz > title.akas.csv\n",
        "!gzip -dc /content/title.basics.tsv.gz > title.basic.csv\n",
        "!gzip -dc /content/title.crew.tsv.gz > title.crew.csv\n",
        "!gzip -dc /content/title.episode.tsv.gz > title.episode.csv\n",
        "!gzip -dc /content/title.principals.tsv.gz > title.principals.csv\n",
        "!gzip -dc /content/title.ratings.tsv.gz > title.ratings.csv"
      ],
      "metadata": {
        "id": "IpXAjtV4XeKx"
      },
      "execution_count": 5,
      "outputs": []
    },
    {
      "cell_type": "markdown",
      "source": [
        "#Wczytanie danych"
      ],
      "metadata": {
        "id": "pPWxy5j_aEvo"
      }
    },
    {
      "cell_type": "markdown",
      "source": [
        "##Wczytajmy dane z rozpakowanych plików"
      ],
      "metadata": {
        "id": "s-hzkKehxgnQ"
      }
    },
    {
      "cell_type": "code",
      "source": [
        "df_name_basics=spark.read.option(\"header\", \"true\").option(\"delimiter\", \"\\t\").csv('name.basics.csv' ) \n",
        "df_title_akas=spark.read.option(\"header\",\"true\").option(\"delimiter\", \"\\t\").csv('title.akas.csv')\n",
        "df_title_basic=spark.read.option(\"header\",\"true\").option(\"delimiter\", \"\\t\").csv('title.basic.csv')\n",
        "df_title_crew=spark.read.option(\"header\",\"true\").option(\"delimiter\", \"\\t\").csv('title.crew.csv')\n",
        "df_title_episode=spark.read.option(\"header\",\"true\").option(\"delimiter\",\"\\t\").csv('title.episode.csv')\n",
        "df_title_principals=spark.read.option(\"header\",\"true\").option(\"delimiter\",\"\\t\").csv('title.principals.csv')\n",
        "df_title_ratings=spark.read.option(\"header\",\"true\").option(\"delimiter\",\"\\t\").csv('title.ratings.csv')"
      ],
      "metadata": {
        "id": "skegmFMQXpcA"
      },
      "execution_count": 6,
      "outputs": []
    },
    {
      "cell_type": "markdown",
      "source": [
        "##Wyświetlmy dane"
      ],
      "metadata": {
        "id": "snoopt7lY71j"
      }
    },
    {
      "cell_type": "code",
      "source": [
        "df_name_basics.show(3)\n",
        "df_title_akas.show(3)\n",
        "df_title_basic.show(3)\n",
        "df_title_crew.show(3)\n",
        "df_title_episode.show(3)\n",
        "df_title_principals.show(3)\n",
        "df_title_ratings.show(3)"
      ],
      "metadata": {
        "id": "BQItTCh9ZBht",
        "colab": {
          "base_uri": "https://localhost:8080/"
        },
        "outputId": "21330a11-fa8b-4335-cdc1-dff532c00648"
      },
      "execution_count": 7,
      "outputs": [
        {
          "output_type": "stream",
          "name": "stdout",
          "text": [
            "+---------+---------------+---------+---------+--------------------+--------------------+\n",
            "|   nconst|    primaryName|birthYear|deathYear|   primaryProfession|      knownForTitles|\n",
            "+---------+---------------+---------+---------+--------------------+--------------------+\n",
            "|nm0000001|   Fred Astaire|     1899|     1987|soundtrack,actor,...|tt0072308,tt00531...|\n",
            "|nm0000002|  Lauren Bacall|     1924|     2014|  actress,soundtrack|tt0117057,tt00383...|\n",
            "|nm0000003|Brigitte Bardot|     1934|       \\N|actress,soundtrac...|tt0056404,tt00573...|\n",
            "+---------+---------------+---------+---------+--------------------+--------------------+\n",
            "only showing top 3 rows\n",
            "\n",
            "+---------+--------+--------------------+------+--------+-----------+-------------+---------------+\n",
            "|  titleId|ordering|               title|region|language|      types|   attributes|isOriginalTitle|\n",
            "+---------+--------+--------------------+------+--------+-----------+-------------+---------------+\n",
            "|tt0000001|       1|          Карменсіта|    UA|      \\N|imdbDisplay|           \\N|              0|\n",
            "|tt0000001|       2|          Carmencita|    DE|      \\N|         \\N|literal title|              0|\n",
            "|tt0000001|       3|Carmencita - span...|    HU|      \\N|imdbDisplay|           \\N|              0|\n",
            "+---------+--------+--------------------+------+--------+-----------+-------------+---------------+\n",
            "only showing top 3 rows\n",
            "\n",
            "+---------+---------+--------------------+--------------------+-------+---------+-------+--------------+--------------------+\n",
            "|   tconst|titleType|        primaryTitle|       originalTitle|isAdult|startYear|endYear|runtimeMinutes|              genres|\n",
            "+---------+---------+--------------------+--------------------+-------+---------+-------+--------------+--------------------+\n",
            "|tt0000001|    short|          Carmencita|          Carmencita|      0|     1894|     \\N|             1|   Documentary,Short|\n",
            "|tt0000002|    short|Le clown et ses c...|Le clown et ses c...|      0|     1892|     \\N|             5|     Animation,Short|\n",
            "|tt0000003|    short|      Pauvre Pierrot|      Pauvre Pierrot|      0|     1892|     \\N|             4|Animation,Comedy,...|\n",
            "+---------+---------+--------------------+--------------------+-------+---------+-------+--------------+--------------------+\n",
            "only showing top 3 rows\n",
            "\n",
            "+---------+---------+-------+\n",
            "|   tconst|directors|writers|\n",
            "+---------+---------+-------+\n",
            "|tt0000001|nm0005690|     \\N|\n",
            "|tt0000002|nm0721526|     \\N|\n",
            "|tt0000003|nm0721526|     \\N|\n",
            "+---------+---------+-------+\n",
            "only showing top 3 rows\n",
            "\n",
            "+---------+------------+------------+-------------+\n",
            "|   tconst|parentTconst|seasonNumber|episodeNumber|\n",
            "+---------+------------+------------+-------------+\n",
            "|tt0041951|   tt0041038|           1|            9|\n",
            "|tt0042816|   tt0989125|           1|           17|\n",
            "|tt0042889|   tt0989125|          \\N|           \\N|\n",
            "+---------+------------+------------+-------------+\n",
            "only showing top 3 rows\n",
            "\n",
            "+---------+--------+---------+---------------+--------------------+----------+\n",
            "|   tconst|ordering|   nconst|       category|                 job|characters|\n",
            "+---------+--------+---------+---------------+--------------------+----------+\n",
            "|tt0000001|       1|nm1588970|           self|                  \\N|  [\"Self\"]|\n",
            "|tt0000001|       2|nm0005690|       director|                  \\N|        \\N|\n",
            "|tt0000001|       3|nm0374658|cinematographer|director of photo...|        \\N|\n",
            "+---------+--------+---------+---------------+--------------------+----------+\n",
            "only showing top 3 rows\n",
            "\n",
            "+---------+-------------+--------+\n",
            "|   tconst|averageRating|numVotes|\n",
            "+---------+-------------+--------+\n",
            "|tt0000001|          5.7|    1923|\n",
            "|tt0000002|          5.8|     259|\n",
            "|tt0000003|          6.5|    1737|\n",
            "+---------+-------------+--------+\n",
            "only showing top 3 rows\n",
            "\n"
          ]
        }
      ]
    },
    {
      "cell_type": "markdown",
      "source": [
        "# Złączenie istotnych kolumn"
      ],
      "metadata": {
        "id": "ZZb5i_RrA-yP"
      }
    },
    {
      "cell_type": "markdown",
      "source": [
        "## Wybierzmy następujące kolumny z tabel:\n",
        "- df_title_basic:\n",
        "  - tconst (unikalny numer tytułu - potrzebne do złączenia tabel)\n",
        "  - titleType (rodzaj tytułu, np. film, serial - można porównywać podobieństwo aktorów na podstawie tego w jakich typach produkcji grali)\n",
        "  - originalTitle (tytuł produkcji - być może przyda się do analizy podobnych filmów)\n",
        "  - isAdult (czy produkcja jest dla dorosłych - można wykorzystać do porównywania aktorów na podstawie tego czy grają głównie w produkcjach dla dorosłych)\n",
        "  - genres (gatunki - może posłużyć do porównania aktorów na podstawie tego, że grali w produkcjach o podobnych gatunkach)\n",
        "\n",
        "- df_title_principals:\n",
        "  - tconst (unikalny numer tytułu - potrzebne do złączenia tabel)\n",
        "  - nconst (unikalny numer aktora - potrzebne do złączenia tabel)\n",
        "  - category (kategoria pracy (actor/actress) - może posłużyć do porównania aktorów na podstawie takiej samej płci)\n",
        "  - characters (postacie zagrane w produkcji - może posłużyć do porównania aktorów na podstawie podobnych granych postaci)\n",
        "\n",
        "- df_name_basics:\n",
        "  - nconst(unikalny numer aktora - potrzebne do złączenia tabel)\n",
        "  - primaryName (imię i nazwisko aktora - potrzebne do wyświetlania aktora lub do odnajdywania go w bazie po imieniu i nazwisku)\n",
        "  - birthYear (rok urodzenia aktora - może posłużyć do porównania aktorów na podstawie podobnych okresów, w których żyli i grali)\n",
        "  - deathYear ( rok śmierci aktora - może posłużyć do porównania aktorów na podstawie podobnych okresów, w których żyli i grali)\n",
        "  - knownForTitles (tytuły produkcji, z których znany jets aktor - może posłużyć do porównania aktorów na podstawie tych samych lub podobnych produkcji, z których są znani)"
      ],
      "metadata": {
        "id": "MGd5Hi-VBF9h"
      }
    },
    {
      "cell_type": "code",
      "source": [
        "df_title_basic_selected = df_title_basic.select([\"tconst\", \"titleType\", \"originalTitle\", \"isAdult\", \"genres\"])\n",
        "df_title_principals_selected = df_title_principals.select([\"tconst\", \"nconst\", \"category\", \"characters\"])\n",
        "df_name_basics_selected = df_name_basics.select([\"nconst\", \"primaryName\", \"birthYear\", \"deathYear\", \"knownForTitles\"])"
      ],
      "metadata": {
        "id": "OKWe9JSKBC5q"
      },
      "execution_count": 8,
      "outputs": []
    },
    {
      "cell_type": "markdown",
      "source": [
        "## Wybierzmy z tabeli df_title_principals_selected tylko aktorów i aktorki"
      ],
      "metadata": {
        "id": "Dv9_BSnFVFa3"
      }
    },
    {
      "cell_type": "code",
      "source": [
        "#df_title_principals_selected = df_title_principals_selected.filter((df_title_principals_selected.category == \"actor\") | (df_title_principals_selected.category == \"actress\"))"
      ],
      "metadata": {
        "id": "3vOtn_OxVAQa"
      },
      "execution_count": 9,
      "outputs": []
    },
    {
      "cell_type": "markdown",
      "source": [
        "# Złączmy tabele df_name_basics, df_title_principals i df_title_basic"
      ],
      "metadata": {
        "id": "eMIHo59PBNtx"
      }
    },
    {
      "cell_type": "markdown",
      "source": [
        "## Sprawdźmy czasy joinowania dla różnych kombinacji tabel"
      ],
      "metadata": {
        "id": "0cd69uOmz-E9"
      }
    },
    {
      "cell_type": "markdown",
      "source": [
        "Sprawdzimy najpierw jak długo zajmuje łączenie tabel bez usuniętych niepotrzebnych rekordów. Rozważmy różne kombinacje łączeń, gdzie tabele są łączone w następujący sposób:\n",
        "* df_name_basics_selected i df_title_principals_selected, typ łączenia \"inner\",\n",
        "* df_name_basics_selected i df_title_principals_selected, typ łączenia \"right\",\n",
        "* dane wcześniej złączone i df_title_basic_selected, typ łączenia \"inner\",\n",
        "* dane wcześniej złączone i df_title_basic_selected, typ łączenia \"left\",\n",
        "* df_title_principals_selected i df_name_basics_selected, typ łączenia \"inner\",\n",
        "* df_title_principals_selected i df_name_basics_selected, typ łączenia \"left\",\n",
        "* df_title_basic_selected i df_title_principals_selected, typ łączenia \"inner\",\n",
        "* df_title_basic_selected i df_title_principals_selected, typ łączenia \"right\",\n",
        "* dane wcześniej złączone i df_name_basics_selected, typ łączenia \"inner\",\n",
        "* dane wcześniej złączone i df_name_basics_selected, typ łączenia \"right\",\n",
        "* df_title_principals_selected i df_title_basic_selected, typ łączenia \"inner\",\n",
        "* df_title_principals_selected i df_title_basic_selected, typ łączenia \"left\"."
      ],
      "metadata": {
        "id": "19O-f-nBUprz"
      }
    },
    {
      "cell_type": "code",
      "source": [
        "%%time\n",
        "data1 = df_name_basics_selected.join(df_title_principals_selected, \"nconst\", \"inner\")\n",
        "print(\"df_name_basics_selected and df_title_principals_selected joined table size: \", (data1.count(), len(data1.columns)))\n",
        "data1 = data1.join(df_title_basic_selected, \"tconst\", \"inner\")\n",
        "print(\"joined table size: \", (data1.count(), len(data1.columns)))"
      ],
      "metadata": {
        "id": "bXWAMvJtz9Rc",
        "colab": {
          "base_uri": "https://localhost:8080/"
        },
        "outputId": "4527e719-0631-4bd9-d485-cf8602aa971c"
      },
      "execution_count": 10,
      "outputs": [
        {
          "metadata": {
            "tags": null
          },
          "name": "stdout",
          "output_type": "stream",
          "text": [
            "df_name_basics_selected and df_title_principals_selected joined table size:  (53163680, 8)\n",
            "joined table size:  (53157572, 12)\n",
            "CPU times: user 1.91 s, sys: 241 ms, total: 2.15 s\n",
            "Wall time: 7min 30s\n"
          ]
        }
      ]
    },
    {
      "cell_type": "code",
      "source": [
        "%%time\n",
        "data2 = df_name_basics_selected.join(df_title_principals_selected, \"nconst\", \"inner\")\n",
        "print(\"df_name_basics_selected and df_title_principals_selected joined table size: \", (data2.count(), len(data2.columns)))\n",
        "data2 = data2.join(df_title_basic_selected, \"tconst\", \"left\")\n",
        "print(\"joined table size: \", (data2.count(), len(data2.columns)))"
      ],
      "metadata": {
        "id": "qOiMjG5H3X8S",
        "colab": {
          "base_uri": "https://localhost:8080/"
        },
        "outputId": "5025d58c-eb01-42fb-824d-ccb563b47a47"
      },
      "execution_count": 11,
      "outputs": [
        {
          "metadata": {
            "tags": null
          },
          "name": "stdout",
          "output_type": "stream",
          "text": [
            "df_name_basics_selected and df_title_principals_selected joined table size:  (53163680, 8)\n",
            "joined table size:  (53163680, 12)\n",
            "CPU times: user 1.19 s, sys: 113 ms, total: 1.3 s\n",
            "Wall time: 7min 14s\n"
          ]
        }
      ]
    },
    {
      "cell_type": "code",
      "source": [
        "%%time\n",
        "data3 = df_name_basics_selected.join(df_title_principals_selected, \"nconst\", \"right\")\n",
        "print(\"df_name_basics_selected and df_title_principals_selected joined table size: \", (data3.count(), len(data3.columns)))\n",
        "data3 = data3.join(df_title_basic_selected, \"tconst\", \"inner\")\n",
        "print(\"joined table size: \", (data3.count(), len(data3.columns)))"
      ],
      "metadata": {
        "colab": {
          "base_uri": "https://localhost:8080/"
        },
        "id": "tw7iwQNeLp7T",
        "outputId": "bf4e9528-74b1-4040-fb59-0e8c5b2acf43"
      },
      "execution_count": 12,
      "outputs": [
        {
          "metadata": {
            "tags": null
          },
          "name": "stdout",
          "output_type": "stream",
          "text": [
            "df_name_basics_selected and df_title_principals_selected joined table size:  (53173247, 8)\n",
            "joined table size:  (53167105, 12)\n",
            "CPU times: user 1.22 s, sys: 153 ms, total: 1.37 s\n",
            "Wall time: 7min 12s\n"
          ]
        }
      ]
    },
    {
      "cell_type": "code",
      "source": [
        "%%time\n",
        "data4 = df_name_basics_selected.join(df_title_principals_selected, \"nconst\", \"right\")\n",
        "print(\"df_name_basics_selected and df_title_principals_selected joined table size: \", (data4.count(), len(data4.columns)))\n",
        "data4 = data4.join(df_title_basic_selected, \"tconst\", \"left\")\n",
        "print(\"joined table size: \", (data4.count(), len(data4.columns)))"
      ],
      "metadata": {
        "colab": {
          "base_uri": "https://localhost:8080/"
        },
        "id": "eW22PuBpL4mV",
        "outputId": "270c48e9-2af8-4627-f887-8a2fa29ce776"
      },
      "execution_count": 13,
      "outputs": [
        {
          "metadata": {
            "tags": null
          },
          "name": "stdout",
          "output_type": "stream",
          "text": [
            "df_name_basics_selected and df_title_principals_selected joined table size:  (53173247, 8)\n",
            "joined table size:  (53173247, 12)\n",
            "CPU times: user 1.25 s, sys: 125 ms, total: 1.38 s\n",
            "Wall time: 7min 8s\n"
          ]
        }
      ]
    },
    {
      "cell_type": "code",
      "source": [
        "%%time\n",
        "data5 = df_title_principals_selected.join(df_name_basics_selected, \"nconst\", \"inner\")\n",
        "print(\"df_title_principals_selected and df_name_basics_selected joined table size: \", (data5.count(), len(data5.columns)))\n",
        "data5 = data5.join(df_title_basic_selected, \"tconst\", \"inner\")\n",
        "print(\"joined table size: \", (data5.count(), len(data5.columns)))"
      ],
      "metadata": {
        "colab": {
          "base_uri": "https://localhost:8080/",
          "height": 588
        },
        "id": "8HJWyohyMai8",
        "outputId": "683f2d6e-acf5-4f53-a45b-f9d81d9df0dc"
      },
      "execution_count": 14,
      "outputs": [
        {
          "metadata": {
            "tags": null
          },
          "name": "stdout",
          "output_type": "stream",
          "text": [
            "df_title_principals_selected and df_name_basics_selected joined table size:  (53163680, 8)\n"
          ]
        },
        {
          "metadata": {
            "tags": null
          },
          "name": "stderr",
          "output_type": "stream",
          "text": [
            "ERROR:root:KeyboardInterrupt while sending command.\n",
            "Traceback (most recent call last):\n",
            "  File \"/usr/local/lib/python3.7/dist-packages/py4j/java_gateway.py\", line 1038, in send_command\n",
            "    response = connection.send_command(command)\n",
            "  File \"/usr/local/lib/python3.7/dist-packages/py4j/clientserver.py\", line 511, in send_command\n",
            "    answer = smart_decode(self.stream.readline()[:-1])\n",
            "  File \"/usr/lib/python3.7/socket.py\", line 589, in readinto\n",
            "    return self._sock.recv_into(b)\n",
            "KeyboardInterrupt\n"
          ]
        },
        {
          "ename": "KeyboardInterrupt",
          "evalue": "ignored",
          "output_type": "error",
          "traceback": [
            "\u001b[0;31m---------------------------------------------------------------------------\u001b[0m",
            "\u001b[0;31mKeyboardInterrupt\u001b[0m                         Traceback (most recent call last)",
            "\u001b[0;32m<timed exec>\u001b[0m in \u001b[0;36m<module>\u001b[0;34m\u001b[0m\n",
            "\u001b[0;32m/usr/local/lib/python3.7/dist-packages/pyspark/sql/dataframe.py\u001b[0m in \u001b[0;36mcount\u001b[0;34m(self)\u001b[0m\n\u001b[1;32m    802\u001b[0m         \u001b[0;36m2\u001b[0m\u001b[0;34m\u001b[0m\u001b[0;34m\u001b[0m\u001b[0m\n\u001b[1;32m    803\u001b[0m         \"\"\"\n\u001b[0;32m--> 804\u001b[0;31m         \u001b[0;32mreturn\u001b[0m \u001b[0mint\u001b[0m\u001b[0;34m(\u001b[0m\u001b[0mself\u001b[0m\u001b[0;34m.\u001b[0m\u001b[0m_jdf\u001b[0m\u001b[0;34m.\u001b[0m\u001b[0mcount\u001b[0m\u001b[0;34m(\u001b[0m\u001b[0;34m)\u001b[0m\u001b[0;34m)\u001b[0m\u001b[0;34m\u001b[0m\u001b[0;34m\u001b[0m\u001b[0m\n\u001b[0m\u001b[1;32m    805\u001b[0m \u001b[0;34m\u001b[0m\u001b[0m\n\u001b[1;32m    806\u001b[0m     \u001b[0;32mdef\u001b[0m \u001b[0mcollect\u001b[0m\u001b[0;34m(\u001b[0m\u001b[0mself\u001b[0m\u001b[0;34m)\u001b[0m \u001b[0;34m->\u001b[0m \u001b[0mList\u001b[0m\u001b[0;34m[\u001b[0m\u001b[0mRow\u001b[0m\u001b[0;34m]\u001b[0m\u001b[0;34m:\u001b[0m\u001b[0;34m\u001b[0m\u001b[0;34m\u001b[0m\u001b[0m\n",
            "\u001b[0;32m/usr/local/lib/python3.7/dist-packages/py4j/java_gateway.py\u001b[0m in \u001b[0;36m__call__\u001b[0;34m(self, *args)\u001b[0m\n\u001b[1;32m   1318\u001b[0m             \u001b[0mproto\u001b[0m\u001b[0;34m.\u001b[0m\u001b[0mEND_COMMAND_PART\u001b[0m\u001b[0;34m\u001b[0m\u001b[0;34m\u001b[0m\u001b[0m\n\u001b[1;32m   1319\u001b[0m \u001b[0;34m\u001b[0m\u001b[0m\n\u001b[0;32m-> 1320\u001b[0;31m         \u001b[0manswer\u001b[0m \u001b[0;34m=\u001b[0m \u001b[0mself\u001b[0m\u001b[0;34m.\u001b[0m\u001b[0mgateway_client\u001b[0m\u001b[0;34m.\u001b[0m\u001b[0msend_command\u001b[0m\u001b[0;34m(\u001b[0m\u001b[0mcommand\u001b[0m\u001b[0;34m)\u001b[0m\u001b[0;34m\u001b[0m\u001b[0;34m\u001b[0m\u001b[0m\n\u001b[0m\u001b[1;32m   1321\u001b[0m         return_value = get_return_value(\n\u001b[1;32m   1322\u001b[0m             answer, self.gateway_client, self.target_id, self.name)\n",
            "\u001b[0;32m/usr/local/lib/python3.7/dist-packages/py4j/java_gateway.py\u001b[0m in \u001b[0;36msend_command\u001b[0;34m(self, command, retry, binary)\u001b[0m\n\u001b[1;32m   1036\u001b[0m         \u001b[0mconnection\u001b[0m \u001b[0;34m=\u001b[0m \u001b[0mself\u001b[0m\u001b[0;34m.\u001b[0m\u001b[0m_get_connection\u001b[0m\u001b[0;34m(\u001b[0m\u001b[0;34m)\u001b[0m\u001b[0;34m\u001b[0m\u001b[0;34m\u001b[0m\u001b[0m\n\u001b[1;32m   1037\u001b[0m         \u001b[0;32mtry\u001b[0m\u001b[0;34m:\u001b[0m\u001b[0;34m\u001b[0m\u001b[0;34m\u001b[0m\u001b[0m\n\u001b[0;32m-> 1038\u001b[0;31m             \u001b[0mresponse\u001b[0m \u001b[0;34m=\u001b[0m \u001b[0mconnection\u001b[0m\u001b[0;34m.\u001b[0m\u001b[0msend_command\u001b[0m\u001b[0;34m(\u001b[0m\u001b[0mcommand\u001b[0m\u001b[0;34m)\u001b[0m\u001b[0;34m\u001b[0m\u001b[0;34m\u001b[0m\u001b[0m\n\u001b[0m\u001b[1;32m   1039\u001b[0m             \u001b[0;32mif\u001b[0m \u001b[0mbinary\u001b[0m\u001b[0;34m:\u001b[0m\u001b[0;34m\u001b[0m\u001b[0;34m\u001b[0m\u001b[0m\n\u001b[1;32m   1040\u001b[0m                 \u001b[0;32mreturn\u001b[0m \u001b[0mresponse\u001b[0m\u001b[0;34m,\u001b[0m \u001b[0mself\u001b[0m\u001b[0;34m.\u001b[0m\u001b[0m_create_connection_guard\u001b[0m\u001b[0;34m(\u001b[0m\u001b[0mconnection\u001b[0m\u001b[0;34m)\u001b[0m\u001b[0;34m\u001b[0m\u001b[0;34m\u001b[0m\u001b[0m\n",
            "\u001b[0;32m/usr/local/lib/python3.7/dist-packages/py4j/clientserver.py\u001b[0m in \u001b[0;36msend_command\u001b[0;34m(self, command)\u001b[0m\n\u001b[1;32m    509\u001b[0m         \u001b[0;32mtry\u001b[0m\u001b[0;34m:\u001b[0m\u001b[0;34m\u001b[0m\u001b[0;34m\u001b[0m\u001b[0m\n\u001b[1;32m    510\u001b[0m             \u001b[0;32mwhile\u001b[0m \u001b[0;32mTrue\u001b[0m\u001b[0;34m:\u001b[0m\u001b[0;34m\u001b[0m\u001b[0;34m\u001b[0m\u001b[0m\n\u001b[0;32m--> 511\u001b[0;31m                 \u001b[0manswer\u001b[0m \u001b[0;34m=\u001b[0m \u001b[0msmart_decode\u001b[0m\u001b[0;34m(\u001b[0m\u001b[0mself\u001b[0m\u001b[0;34m.\u001b[0m\u001b[0mstream\u001b[0m\u001b[0;34m.\u001b[0m\u001b[0mreadline\u001b[0m\u001b[0;34m(\u001b[0m\u001b[0;34m)\u001b[0m\u001b[0;34m[\u001b[0m\u001b[0;34m:\u001b[0m\u001b[0;34m-\u001b[0m\u001b[0;36m1\u001b[0m\u001b[0;34m]\u001b[0m\u001b[0;34m)\u001b[0m\u001b[0;34m\u001b[0m\u001b[0;34m\u001b[0m\u001b[0m\n\u001b[0m\u001b[1;32m    512\u001b[0m                 \u001b[0mlogger\u001b[0m\u001b[0;34m.\u001b[0m\u001b[0mdebug\u001b[0m\u001b[0;34m(\u001b[0m\u001b[0;34m\"Answer received: {0}\"\u001b[0m\u001b[0;34m.\u001b[0m\u001b[0mformat\u001b[0m\u001b[0;34m(\u001b[0m\u001b[0manswer\u001b[0m\u001b[0;34m)\u001b[0m\u001b[0;34m)\u001b[0m\u001b[0;34m\u001b[0m\u001b[0;34m\u001b[0m\u001b[0m\n\u001b[1;32m    513\u001b[0m                 \u001b[0;31m# Happens when a the other end is dead. There might be an empty\u001b[0m\u001b[0;34m\u001b[0m\u001b[0;34m\u001b[0m\u001b[0;34m\u001b[0m\u001b[0m\n",
            "\u001b[0;32m/usr/lib/python3.7/socket.py\u001b[0m in \u001b[0;36mreadinto\u001b[0;34m(self, b)\u001b[0m\n\u001b[1;32m    587\u001b[0m         \u001b[0;32mwhile\u001b[0m \u001b[0;32mTrue\u001b[0m\u001b[0;34m:\u001b[0m\u001b[0;34m\u001b[0m\u001b[0;34m\u001b[0m\u001b[0m\n\u001b[1;32m    588\u001b[0m             \u001b[0;32mtry\u001b[0m\u001b[0;34m:\u001b[0m\u001b[0;34m\u001b[0m\u001b[0;34m\u001b[0m\u001b[0m\n\u001b[0;32m--> 589\u001b[0;31m                 \u001b[0;32mreturn\u001b[0m \u001b[0mself\u001b[0m\u001b[0;34m.\u001b[0m\u001b[0m_sock\u001b[0m\u001b[0;34m.\u001b[0m\u001b[0mrecv_into\u001b[0m\u001b[0;34m(\u001b[0m\u001b[0mb\u001b[0m\u001b[0;34m)\u001b[0m\u001b[0;34m\u001b[0m\u001b[0;34m\u001b[0m\u001b[0m\n\u001b[0m\u001b[1;32m    590\u001b[0m             \u001b[0;32mexcept\u001b[0m \u001b[0mtimeout\u001b[0m\u001b[0;34m:\u001b[0m\u001b[0;34m\u001b[0m\u001b[0;34m\u001b[0m\u001b[0m\n\u001b[1;32m    591\u001b[0m                 \u001b[0mself\u001b[0m\u001b[0;34m.\u001b[0m\u001b[0m_timeout_occurred\u001b[0m \u001b[0;34m=\u001b[0m \u001b[0;32mTrue\u001b[0m\u001b[0;34m\u001b[0m\u001b[0;34m\u001b[0m\u001b[0m\n",
            "\u001b[0;31mKeyboardInterrupt\u001b[0m: "
          ]
        }
      ]
    },
    {
      "cell_type": "code",
      "source": [
        "%%time\n",
        "data6 = df_title_principals_selected.join(df_name_basics_selected, \"nconst\", \"inner\")\n",
        "print(\"df_title_principals_selected and df_name_basics_selected joined table size: \", (data6.count(), len(data6.columns)))\n",
        "data6 = data6.join(df_title_basic_selected, \"tconst\", \"left\")\n",
        "print(\"joined table size: \", (data6.count(), len(data6.columns)))"
      ],
      "metadata": {
        "colab": {
          "base_uri": "https://localhost:8080/"
        },
        "id": "1ws31f_zMy46",
        "outputId": "f7264f8a-c8e5-473d-ecaa-fbe324928330"
      },
      "execution_count": 15,
      "outputs": [
        {
          "metadata": {
            "tags": null
          },
          "name": "stdout",
          "output_type": "stream",
          "text": [
            "df_title_principals_selected and df_name_basics_selected joined table size:  (53163680, 8)\n",
            "joined table size:  (53163680, 12)\n",
            "CPU times: user 1.38 s, sys: 124 ms, total: 1.51 s\n",
            "Wall time: 8min 1s\n"
          ]
        }
      ]
    },
    {
      "cell_type": "code",
      "source": [
        "%%time\n",
        "data7 = df_title_principals_selected.join(df_name_basics_selected, \"nconst\", \"left\")\n",
        "print(\"df_title_principals_selected and df_name_basics_selected joined table size: \", (data7.count(), len(data7.columns)))\n",
        "data7 = data7.join(df_title_basic_selected, \"tconst\", \"inner\")\n",
        "print(\"joined table size: \", (data7.count(), len(data7.columns)))"
      ],
      "metadata": {
        "colab": {
          "base_uri": "https://localhost:8080/"
        },
        "id": "PpJvsSrSM8TH",
        "outputId": "878fc44d-7358-4790-c428-40b7dddfc105"
      },
      "execution_count": 16,
      "outputs": [
        {
          "metadata": {
            "tags": null
          },
          "name": "stdout",
          "output_type": "stream",
          "text": [
            "df_title_principals_selected and df_name_basics_selected joined table size:  (53173247, 8)\n",
            "joined table size:  (53167105, 12)\n",
            "CPU times: user 1.23 s, sys: 120 ms, total: 1.35 s\n",
            "Wall time: 7min 12s\n"
          ]
        }
      ]
    },
    {
      "cell_type": "code",
      "source": [
        "%%time\n",
        "data8 = df_title_principals_selected.join(df_name_basics_selected, \"nconst\", \"left\")\n",
        "print(\"df_title_principals_selected and df_name_basics_selected joined table size: \", (data8.count(), len(data8.columns)))\n",
        "data8 = data8.join(df_title_basic_selected, \"tconst\", \"left\")\n",
        "print(\"joined table size: \", (data8.count(), len(data8.columns)))"
      ],
      "metadata": {
        "colab": {
          "base_uri": "https://localhost:8080/"
        },
        "id": "sIlahZLsM9yT",
        "outputId": "c9050004-3467-46ec-fb3d-07ba7f5e52fc"
      },
      "execution_count": 17,
      "outputs": [
        {
          "metadata": {
            "tags": null
          },
          "name": "stdout",
          "output_type": "stream",
          "text": [
            "df_title_principals_selected and df_name_basics_selected joined table size:  (53173247, 8)\n",
            "joined table size:  (53173247, 12)\n",
            "CPU times: user 1.22 s, sys: 105 ms, total: 1.32 s\n",
            "Wall time: 7min 6s\n"
          ]
        }
      ]
    },
    {
      "cell_type": "code",
      "source": [
        "%%time\n",
        "data9 = df_title_basic_selected.join(df_title_principals_selected, \"tconst\", \"inner\")\n",
        "print(\"df_title_basic_selected and df_title_principals_selected joined table size: \", (data9.count(), len(data9.columns)))\n",
        "data9 = data9.join(df_name_basics_selected, \"nconst\", \"inner\")\n",
        "print(\"joined table size: \", (data9.count(), len(data9.columns)))"
      ],
      "metadata": {
        "colab": {
          "base_uri": "https://localhost:8080/"
        },
        "id": "DRnYC4nlNgKU",
        "outputId": "8616e993-c5f3-40ce-e89d-025b2af4cb9e"
      },
      "execution_count": 18,
      "outputs": [
        {
          "metadata": {
            "tags": null
          },
          "name": "stdout",
          "output_type": "stream",
          "text": [
            "df_title_basic_selected and df_title_principals_selected joined table size:  (53167105, 8)\n",
            "joined table size:  (53157572, 12)\n",
            "CPU times: user 1.07 s, sys: 90.6 ms, total: 1.16 s\n",
            "Wall time: 6min 20s\n"
          ]
        }
      ]
    },
    {
      "cell_type": "code",
      "source": [
        "%%time\n",
        "data10 = df_title_basic_selected.join(df_title_principals_selected, \"tconst\", \"inner\")\n",
        "print(\"df_title_basic_selected and df_title_principals_selected joined table size: \", (data10.count(), len(data10.columns)))\n",
        "data10 = data10.join(df_name_basics_selected, \"nconst\", \"left\")\n",
        "print(\"joined table size: \", (data10.count(), len(data10.columns)))"
      ],
      "metadata": {
        "colab": {
          "base_uri": "https://localhost:8080/"
        },
        "id": "n-bQnvlvOvom",
        "outputId": "b48da72c-b890-4209-d30a-776736a7428d"
      },
      "execution_count": 19,
      "outputs": [
        {
          "metadata": {
            "tags": null
          },
          "name": "stdout",
          "output_type": "stream",
          "text": [
            "df_title_basic_selected and df_title_principals_selected joined table size:  (53167105, 8)\n",
            "joined table size:  (53167105, 12)\n",
            "CPU times: user 1.1 s, sys: 113 ms, total: 1.21 s\n",
            "Wall time: 6min 41s\n"
          ]
        }
      ]
    },
    {
      "cell_type": "code",
      "source": [
        "%%time\n",
        "data11 = df_title_basic_selected.join(df_title_principals_selected, \"tconst\", \"right\")\n",
        "print(\"df_title_basic_selected and df_title_principals_selected joined table size: \", (data11.count(), len(data11.columns)))\n",
        "data11 = data11.join(df_name_basics_selected, \"nconst\", \"inner\")\n",
        "print(\"joined table size: \", (data11.count(), len(data11.columns)))"
      ],
      "metadata": {
        "colab": {
          "base_uri": "https://localhost:8080/"
        },
        "id": "Xqr9ecljO14b",
        "outputId": "8b30b900-850e-4710-9e06-17c3215a4ee5"
      },
      "execution_count": 20,
      "outputs": [
        {
          "metadata": {
            "tags": null
          },
          "name": "stdout",
          "output_type": "stream",
          "text": [
            "df_title_basic_selected and df_title_principals_selected joined table size:  (53173247, 8)\n",
            "joined table size:  (53163680, 12)\n",
            "CPU times: user 1.02 s, sys: 87.7 ms, total: 1.11 s\n",
            "Wall time: 6min 23s\n"
          ]
        }
      ]
    },
    {
      "cell_type": "code",
      "source": [
        "%%time\n",
        "data12 = df_title_basic_selected.join(df_title_principals_selected, \"tconst\", \"right\")\n",
        "print(\"df_title_basic_selected and df_title_principals_selected joined table size: \", (data12.count(), len(data12.columns)))\n",
        "data12 = data12.join(df_name_basics_selected, \"nconst\", \"left\")\n",
        "print(\"joined table size: \", (data12.count(), len(data12.columns)))"
      ],
      "metadata": {
        "colab": {
          "base_uri": "https://localhost:8080/"
        },
        "id": "79J3h9UPPEqY",
        "outputId": "f681746c-7a2e-4db5-d225-50636010640d"
      },
      "execution_count": 21,
      "outputs": [
        {
          "metadata": {
            "tags": null
          },
          "name": "stdout",
          "output_type": "stream",
          "text": [
            "df_title_basic_selected and df_title_principals_selected joined table size:  (53173247, 8)\n",
            "joined table size:  (53173247, 12)\n",
            "CPU times: user 1.05 s, sys: 79.7 ms, total: 1.13 s\n",
            "Wall time: 6min 14s\n"
          ]
        }
      ]
    },
    {
      "cell_type": "code",
      "source": [
        "%%time\n",
        "data13 = df_title_principals_selected.join(df_title_basic_selected, \"tconst\", \"inner\")\n",
        "print(\"df_title_principals_selected and df_title_basic_selected joined table size: \", (data13.count(), len(data13.columns)))\n",
        "data13 = data13.join(df_name_basics_selected, \"nconst\", \"inner\")\n",
        "print(\"joined table size: \", (data13.count(), len(data13.columns)))"
      ],
      "metadata": {
        "colab": {
          "base_uri": "https://localhost:8080/"
        },
        "id": "8BKljYgKPta_",
        "outputId": "41057a0f-f6ea-4a7c-d791-79091dc6832c"
      },
      "execution_count": 22,
      "outputs": [
        {
          "output_type": "stream",
          "name": "stdout",
          "text": [
            "df_title_principals_selected and df_title_basic_selected joined table size:  (53167105, 8)\n",
            "joined table size:  (53157572, 12)\n",
            "CPU times: user 1.12 s, sys: 79.5 ms, total: 1.2 s\n",
            "Wall time: 6min 25s\n"
          ]
        }
      ]
    },
    {
      "cell_type": "code",
      "source": [
        "%%time\n",
        "data14 = df_title_principals_selected.join(df_title_basic_selected, \"tconst\", \"inner\")\n",
        "print(\"df_title_principals_selected and df_title_basic_selected joined table size: \", (data14.count(), len(data14.columns)))\n",
        "data14 = data14.join(df_name_basics_selected, \"nconst\", \"left\")\n",
        "print(\"joined table size: \", (data14.count(), len(data14.columns)))"
      ],
      "metadata": {
        "colab": {
          "base_uri": "https://localhost:8080/"
        },
        "id": "XT3hWjCEP2ES",
        "outputId": "5182e8f0-60e8-4bb2-8005-266d09d528ad"
      },
      "execution_count": 23,
      "outputs": [
        {
          "output_type": "stream",
          "name": "stdout",
          "text": [
            "df_title_principals_selected and df_title_basic_selected joined table size:  (53167105, 8)\n",
            "joined table size:  (53167105, 12)\n",
            "CPU times: user 1.03 s, sys: 87.1 ms, total: 1.11 s\n",
            "Wall time: 6min 15s\n"
          ]
        }
      ]
    },
    {
      "cell_type": "code",
      "source": [
        "%%time\n",
        "data15 = df_title_principals_selected.join(df_title_basic_selected, \"tconst\", \"left\")\n",
        "print(\"df_title_principals_selected and df_title_basic_selected joined table size: \", (data15.count(), len(data15.columns)))\n",
        "data15 = data15.join(df_name_basics_selected, \"nconst\", \"inner\")\n",
        "print(\"joined table size: \", (data15.count(), len(data15.columns)))"
      ],
      "metadata": {
        "colab": {
          "base_uri": "https://localhost:8080/"
        },
        "id": "sy7gKBrHP4W-",
        "outputId": "6b774fd2-b54a-417e-dca6-b1782c84341b"
      },
      "execution_count": 24,
      "outputs": [
        {
          "output_type": "stream",
          "name": "stdout",
          "text": [
            "df_title_principals_selected and df_title_basic_selected joined table size:  (53173247, 8)\n",
            "joined table size:  (53163680, 12)\n",
            "CPU times: user 1.25 s, sys: 122 ms, total: 1.37 s\n",
            "Wall time: 6min 44s\n"
          ]
        }
      ]
    },
    {
      "cell_type": "code",
      "source": [
        "%%time\n",
        "data16 = df_title_principals_selected.join(df_title_basic_selected, \"tconst\", \"left\")\n",
        "print(\"df_title_principals_selected and df_title_basic_selected joined table size: \", (data16.count(), len(data16.columns)))\n",
        "data16 = data16.join(df_name_basics_selected, \"nconst\", \"left\")\n",
        "print(\"joined table size: \", (data16.count(), len(data16.columns)))"
      ],
      "metadata": {
        "colab": {
          "base_uri": "https://localhost:8080/"
        },
        "id": "eS5DUliMP7Ht",
        "outputId": "8734902a-d5de-42ed-b22e-b0cba6d61065"
      },
      "execution_count": 25,
      "outputs": [
        {
          "output_type": "stream",
          "name": "stdout",
          "text": [
            "df_title_principals_selected and df_title_basic_selected joined table size:  (53173247, 8)\n",
            "joined table size:  (53173247, 12)\n",
            "CPU times: user 1.11 s, sys: 113 ms, total: 1.22 s\n",
            "Wall time: 6min 24s\n"
          ]
        }
      ]
    },
    {
      "cell_type": "markdown",
      "source": [
        "Teraz zmierzymy czasy tych samych złączeń, jednak po usunięciu z tabel niepotrzebnych rekordów."
      ],
      "metadata": {
        "id": "GV4TDbUCRg4B"
      }
    },
    {
      "cell_type": "code",
      "source": [
        "df_name_basics = df_name_basics.filter(\"primaryProfession like '%actor%' or primaryProfession like '%actress%'\")\n",
        "df_name_basics_selected = df_name_basics.select([\"nconst\", \"primaryName\", \"birthYear\", \"deathYear\", \"knownForTitles\"])\n",
        "df_title_principals_selected = df_title_principals_selected.filter((df_title_principals_selected.category == \"actor\") | (df_title_principals_selected.category == \"actress\"))"
      ],
      "metadata": {
        "id": "nuhNQ3YAOh6u"
      },
      "execution_count": 26,
      "outputs": []
    },
    {
      "cell_type": "code",
      "source": [
        "%%time\n",
        "data1 = df_name_basics_selected.join(df_title_principals_selected, \"nconst\", \"inner\")\n",
        "print(\"df_name_basics_selected and df_title_principals_selected joined table size: \", (data1.count(), len(data1.columns)))\n",
        "data1 = data1.join(df_title_basic_selected, \"tconst\", \"inner\")\n",
        "print(\"joined table size: \", (data1.count(), len(data1.columns)))"
      ],
      "metadata": {
        "colab": {
          "base_uri": "https://localhost:8080/"
        },
        "id": "QcXxZ58gReWa",
        "outputId": "20ad1e4d-1605-4f3c-bced-2df766c1563e"
      },
      "execution_count": 27,
      "outputs": [
        {
          "output_type": "stream",
          "name": "stdout",
          "text": [
            "df_name_basics_selected and df_title_principals_selected joined table size:  (20190998, 8)\n",
            "joined table size:  (20187521, 12)\n",
            "CPU times: user 838 ms, sys: 59.1 ms, total: 897 ms\n",
            "Wall time: 4min 51s\n"
          ]
        }
      ]
    },
    {
      "cell_type": "code",
      "source": [
        "%%time\n",
        "data2 = df_name_basics_selected.join(df_title_principals_selected, \"nconst\", \"inner\")\n",
        "print(\"df_name_basics_selected and df_title_principals_selected joined table size: \", (data2.count(), len(data2.columns)))\n",
        "data2 = data2.join(df_title_basic_selected, \"tconst\", \"left\")\n",
        "print(\"joined table size: \", (data2.count(), len(data2.columns)))"
      ],
      "metadata": {
        "colab": {
          "base_uri": "https://localhost:8080/"
        },
        "id": "L2KmnzMWRoFK",
        "outputId": "5b945011-7892-47d8-c201-8ac4b0321079"
      },
      "execution_count": 28,
      "outputs": [
        {
          "metadata": {
            "tags": null
          },
          "name": "stdout",
          "output_type": "stream",
          "text": [
            "df_name_basics_selected and df_title_principals_selected joined table size:  (20190998, 8)\n",
            "joined table size:  (20190998, 12)\n",
            "CPU times: user 903 ms, sys: 92.7 ms, total: 996 ms\n",
            "Wall time: 5min 2s\n"
          ]
        }
      ]
    },
    {
      "cell_type": "code",
      "source": [
        "%%time\n",
        "data3 = df_name_basics_selected.join(df_title_principals_selected, \"nconst\", \"right\")\n",
        "print(\"df_name_basics_selected and df_title_principals_selected joined table size: \", (data3.count(), len(data3.columns)))\n",
        "data3 = data3.join(df_title_basic_selected, \"tconst\", \"inner\")\n",
        "print(\"joined table size: \", (data3.count(), len(data3.columns)))"
      ],
      "metadata": {
        "colab": {
          "base_uri": "https://localhost:8080/"
        },
        "id": "NeuNdK8zRrQd",
        "outputId": "b497a60b-a1cf-4324-ed4c-4cdd685d74bd"
      },
      "execution_count": 29,
      "outputs": [
        {
          "metadata": {
            "tags": null
          },
          "name": "stdout",
          "output_type": "stream",
          "text": [
            "df_name_basics_selected and df_title_principals_selected joined table size:  (20815083, 8)\n",
            "joined table size:  (20811538, 12)\n",
            "CPU times: user 827 ms, sys: 71.8 ms, total: 899 ms\n",
            "Wall time: 4min 48s\n"
          ]
        }
      ]
    },
    {
      "cell_type": "code",
      "source": [
        "%%time\n",
        "data4 = df_name_basics_selected.join(df_title_principals_selected, \"nconst\", \"right\")\n",
        "print(\"df_name_basics_selected and df_title_principals_selected joined table size: \", (data4.count(), len(data4.columns)))\n",
        "data4 = data4.join(df_title_basic_selected, \"tconst\", \"left\")\n",
        "print(\"joined table size: \", (data4.count(), len(data4.columns)))"
      ],
      "metadata": {
        "colab": {
          "base_uri": "https://localhost:8080/"
        },
        "id": "UgoaQREvRuao",
        "outputId": "1ceac328-6c31-4c56-8e02-1e9d6da6744c"
      },
      "execution_count": 30,
      "outputs": [
        {
          "metadata": {
            "tags": null
          },
          "name": "stdout",
          "output_type": "stream",
          "text": [
            "df_name_basics_selected and df_title_principals_selected joined table size:  (20815083, 8)\n",
            "joined table size:  (20815083, 12)\n",
            "CPU times: user 803 ms, sys: 77 ms, total: 880 ms\n",
            "Wall time: 4min 54s\n"
          ]
        }
      ]
    },
    {
      "cell_type": "code",
      "source": [
        "%%time\n",
        "data5 = df_title_principals_selected.join(df_name_basics_selected, \"nconst\", \"inner\")\n",
        "print(\"df_title_principals_selected and df_name_basics_selected joined table size: \", (data5.count(), len(data5.columns)))\n",
        "data5 = data5.join(df_title_basic_selected, \"tconst\", \"inner\")\n",
        "print(\"joined table size: \", (data5.count(), len(data5.columns)))"
      ],
      "metadata": {
        "colab": {
          "base_uri": "https://localhost:8080/"
        },
        "id": "L1tj0bvbRxAa",
        "outputId": "0a3d9bd8-5e56-4126-f6fa-2c44c61a29fe"
      },
      "execution_count": 31,
      "outputs": [
        {
          "metadata": {
            "tags": null
          },
          "name": "stdout",
          "output_type": "stream",
          "text": [
            "df_title_principals_selected and df_name_basics_selected joined table size:  (20190998, 8)\n",
            "joined table size:  (20187521, 12)\n",
            "CPU times: user 825 ms, sys: 84.7 ms, total: 909 ms\n",
            "Wall time: 4min 52s\n"
          ]
        }
      ]
    },
    {
      "cell_type": "code",
      "source": [
        "%%time\n",
        "data6 = df_title_principals_selected.join(df_name_basics_selected, \"nconst\", \"inner\")\n",
        "print(\"df_title_principals_selected and df_name_basics_selected joined table size: \", (data6.count(), len(data6.columns)))\n",
        "data6 = data6.join(df_title_basic_selected, \"tconst\", \"left\")\n",
        "print(\"joined table size: \", (data6.count(), len(data6.columns)))"
      ],
      "metadata": {
        "colab": {
          "base_uri": "https://localhost:8080/"
        },
        "id": "OnZqhsRdR0Ht",
        "outputId": "71bdbe56-3793-4d76-8bc9-5835b876002d"
      },
      "execution_count": 32,
      "outputs": [
        {
          "metadata": {
            "tags": null
          },
          "name": "stdout",
          "output_type": "stream",
          "text": [
            "df_title_principals_selected and df_name_basics_selected joined table size:  (20190998, 8)\n",
            "joined table size:  (20190998, 12)\n",
            "CPU times: user 857 ms, sys: 101 ms, total: 958 ms\n",
            "Wall time: 4min 54s\n"
          ]
        }
      ]
    },
    {
      "cell_type": "code",
      "source": [
        "%%time\n",
        "data7 = df_title_principals_selected.join(df_name_basics_selected, \"nconst\", \"left\")\n",
        "print(\"df_title_principals_selected and df_name_basics_selected joined table size: \", (data7.count(), len(data7.columns)))\n",
        "data7 = data7.join(df_title_basic_selected, \"tconst\", \"inner\")\n",
        "print(\"joined table size: \", (data7.count(), len(data7.columns)))"
      ],
      "metadata": {
        "colab": {
          "base_uri": "https://localhost:8080/"
        },
        "id": "gCmSaja_R3sa",
        "outputId": "1d63316a-3c02-4088-d305-86bbad191af3"
      },
      "execution_count": 33,
      "outputs": [
        {
          "metadata": {
            "tags": null
          },
          "name": "stdout",
          "output_type": "stream",
          "text": [
            "df_title_principals_selected and df_name_basics_selected joined table size:  (20815083, 8)\n",
            "joined table size:  (20811538, 12)\n",
            "CPU times: user 834 ms, sys: 86 ms, total: 920 ms\n",
            "Wall time: 4min 52s\n"
          ]
        }
      ]
    },
    {
      "cell_type": "code",
      "source": [
        "%%time\n",
        "data8 = df_title_principals_selected.join(df_name_basics_selected, \"nconst\", \"left\")\n",
        "print(\"df_title_principals_selected and df_name_basics_selected joined table size: \", (data8.count(), len(data8.columns)))\n",
        "data8 = data8.join(df_title_basic_selected, \"tconst\", \"left\")\n",
        "print(\"joined table size: \", (data8.count(), len(data8.columns)))"
      ],
      "metadata": {
        "colab": {
          "base_uri": "https://localhost:8080/",
          "height": 588
        },
        "id": "TrwLLFcrR7OG",
        "outputId": "565fc5d8-46e9-48d7-eacc-ad04a9ae7f40"
      },
      "execution_count": 34,
      "outputs": [
        {
          "output_type": "stream",
          "name": "stdout",
          "text": [
            "df_title_principals_selected and df_name_basics_selected joined table size:  (20815083, 8)\n"
          ]
        },
        {
          "output_type": "stream",
          "name": "stderr",
          "text": [
            "ERROR:root:KeyboardInterrupt while sending command.\n",
            "Traceback (most recent call last):\n",
            "  File \"/usr/local/lib/python3.7/dist-packages/py4j/java_gateway.py\", line 1038, in send_command\n",
            "    response = connection.send_command(command)\n",
            "  File \"/usr/local/lib/python3.7/dist-packages/py4j/clientserver.py\", line 511, in send_command\n",
            "    answer = smart_decode(self.stream.readline()[:-1])\n",
            "  File \"/usr/lib/python3.7/socket.py\", line 589, in readinto\n",
            "    return self._sock.recv_into(b)\n",
            "KeyboardInterrupt\n"
          ]
        },
        {
          "output_type": "error",
          "ename": "KeyboardInterrupt",
          "evalue": "ignored",
          "traceback": [
            "\u001b[0;31m---------------------------------------------------------------------------\u001b[0m",
            "\u001b[0;31mKeyboardInterrupt\u001b[0m                         Traceback (most recent call last)",
            "\u001b[0;32m<timed exec>\u001b[0m in \u001b[0;36m<module>\u001b[0;34m\u001b[0m\n",
            "\u001b[0;32m/usr/local/lib/python3.7/dist-packages/pyspark/sql/dataframe.py\u001b[0m in \u001b[0;36mcount\u001b[0;34m(self)\u001b[0m\n\u001b[1;32m    802\u001b[0m         \u001b[0;36m2\u001b[0m\u001b[0;34m\u001b[0m\u001b[0;34m\u001b[0m\u001b[0m\n\u001b[1;32m    803\u001b[0m         \"\"\"\n\u001b[0;32m--> 804\u001b[0;31m         \u001b[0;32mreturn\u001b[0m \u001b[0mint\u001b[0m\u001b[0;34m(\u001b[0m\u001b[0mself\u001b[0m\u001b[0;34m.\u001b[0m\u001b[0m_jdf\u001b[0m\u001b[0;34m.\u001b[0m\u001b[0mcount\u001b[0m\u001b[0;34m(\u001b[0m\u001b[0;34m)\u001b[0m\u001b[0;34m)\u001b[0m\u001b[0;34m\u001b[0m\u001b[0;34m\u001b[0m\u001b[0m\n\u001b[0m\u001b[1;32m    805\u001b[0m \u001b[0;34m\u001b[0m\u001b[0m\n\u001b[1;32m    806\u001b[0m     \u001b[0;32mdef\u001b[0m \u001b[0mcollect\u001b[0m\u001b[0;34m(\u001b[0m\u001b[0mself\u001b[0m\u001b[0;34m)\u001b[0m \u001b[0;34m->\u001b[0m \u001b[0mList\u001b[0m\u001b[0;34m[\u001b[0m\u001b[0mRow\u001b[0m\u001b[0;34m]\u001b[0m\u001b[0;34m:\u001b[0m\u001b[0;34m\u001b[0m\u001b[0;34m\u001b[0m\u001b[0m\n",
            "\u001b[0;32m/usr/local/lib/python3.7/dist-packages/py4j/java_gateway.py\u001b[0m in \u001b[0;36m__call__\u001b[0;34m(self, *args)\u001b[0m\n\u001b[1;32m   1318\u001b[0m             \u001b[0mproto\u001b[0m\u001b[0;34m.\u001b[0m\u001b[0mEND_COMMAND_PART\u001b[0m\u001b[0;34m\u001b[0m\u001b[0;34m\u001b[0m\u001b[0m\n\u001b[1;32m   1319\u001b[0m \u001b[0;34m\u001b[0m\u001b[0m\n\u001b[0;32m-> 1320\u001b[0;31m         \u001b[0manswer\u001b[0m \u001b[0;34m=\u001b[0m \u001b[0mself\u001b[0m\u001b[0;34m.\u001b[0m\u001b[0mgateway_client\u001b[0m\u001b[0;34m.\u001b[0m\u001b[0msend_command\u001b[0m\u001b[0;34m(\u001b[0m\u001b[0mcommand\u001b[0m\u001b[0;34m)\u001b[0m\u001b[0;34m\u001b[0m\u001b[0;34m\u001b[0m\u001b[0m\n\u001b[0m\u001b[1;32m   1321\u001b[0m         return_value = get_return_value(\n\u001b[1;32m   1322\u001b[0m             answer, self.gateway_client, self.target_id, self.name)\n",
            "\u001b[0;32m/usr/local/lib/python3.7/dist-packages/py4j/java_gateway.py\u001b[0m in \u001b[0;36msend_command\u001b[0;34m(self, command, retry, binary)\u001b[0m\n\u001b[1;32m   1036\u001b[0m         \u001b[0mconnection\u001b[0m \u001b[0;34m=\u001b[0m \u001b[0mself\u001b[0m\u001b[0;34m.\u001b[0m\u001b[0m_get_connection\u001b[0m\u001b[0;34m(\u001b[0m\u001b[0;34m)\u001b[0m\u001b[0;34m\u001b[0m\u001b[0;34m\u001b[0m\u001b[0m\n\u001b[1;32m   1037\u001b[0m         \u001b[0;32mtry\u001b[0m\u001b[0;34m:\u001b[0m\u001b[0;34m\u001b[0m\u001b[0;34m\u001b[0m\u001b[0m\n\u001b[0;32m-> 1038\u001b[0;31m             \u001b[0mresponse\u001b[0m \u001b[0;34m=\u001b[0m \u001b[0mconnection\u001b[0m\u001b[0;34m.\u001b[0m\u001b[0msend_command\u001b[0m\u001b[0;34m(\u001b[0m\u001b[0mcommand\u001b[0m\u001b[0;34m)\u001b[0m\u001b[0;34m\u001b[0m\u001b[0;34m\u001b[0m\u001b[0m\n\u001b[0m\u001b[1;32m   1039\u001b[0m             \u001b[0;32mif\u001b[0m \u001b[0mbinary\u001b[0m\u001b[0;34m:\u001b[0m\u001b[0;34m\u001b[0m\u001b[0;34m\u001b[0m\u001b[0m\n\u001b[1;32m   1040\u001b[0m                 \u001b[0;32mreturn\u001b[0m \u001b[0mresponse\u001b[0m\u001b[0;34m,\u001b[0m \u001b[0mself\u001b[0m\u001b[0;34m.\u001b[0m\u001b[0m_create_connection_guard\u001b[0m\u001b[0;34m(\u001b[0m\u001b[0mconnection\u001b[0m\u001b[0;34m)\u001b[0m\u001b[0;34m\u001b[0m\u001b[0;34m\u001b[0m\u001b[0m\n",
            "\u001b[0;32m/usr/local/lib/python3.7/dist-packages/py4j/clientserver.py\u001b[0m in \u001b[0;36msend_command\u001b[0;34m(self, command)\u001b[0m\n\u001b[1;32m    509\u001b[0m         \u001b[0;32mtry\u001b[0m\u001b[0;34m:\u001b[0m\u001b[0;34m\u001b[0m\u001b[0;34m\u001b[0m\u001b[0m\n\u001b[1;32m    510\u001b[0m             \u001b[0;32mwhile\u001b[0m \u001b[0;32mTrue\u001b[0m\u001b[0;34m:\u001b[0m\u001b[0;34m\u001b[0m\u001b[0;34m\u001b[0m\u001b[0m\n\u001b[0;32m--> 511\u001b[0;31m                 \u001b[0manswer\u001b[0m \u001b[0;34m=\u001b[0m \u001b[0msmart_decode\u001b[0m\u001b[0;34m(\u001b[0m\u001b[0mself\u001b[0m\u001b[0;34m.\u001b[0m\u001b[0mstream\u001b[0m\u001b[0;34m.\u001b[0m\u001b[0mreadline\u001b[0m\u001b[0;34m(\u001b[0m\u001b[0;34m)\u001b[0m\u001b[0;34m[\u001b[0m\u001b[0;34m:\u001b[0m\u001b[0;34m-\u001b[0m\u001b[0;36m1\u001b[0m\u001b[0;34m]\u001b[0m\u001b[0;34m)\u001b[0m\u001b[0;34m\u001b[0m\u001b[0;34m\u001b[0m\u001b[0m\n\u001b[0m\u001b[1;32m    512\u001b[0m                 \u001b[0mlogger\u001b[0m\u001b[0;34m.\u001b[0m\u001b[0mdebug\u001b[0m\u001b[0;34m(\u001b[0m\u001b[0;34m\"Answer received: {0}\"\u001b[0m\u001b[0;34m.\u001b[0m\u001b[0mformat\u001b[0m\u001b[0;34m(\u001b[0m\u001b[0manswer\u001b[0m\u001b[0;34m)\u001b[0m\u001b[0;34m)\u001b[0m\u001b[0;34m\u001b[0m\u001b[0;34m\u001b[0m\u001b[0m\n\u001b[1;32m    513\u001b[0m                 \u001b[0;31m# Happens when a the other end is dead. There might be an empty\u001b[0m\u001b[0;34m\u001b[0m\u001b[0;34m\u001b[0m\u001b[0;34m\u001b[0m\u001b[0m\n",
            "\u001b[0;32m/usr/lib/python3.7/socket.py\u001b[0m in \u001b[0;36mreadinto\u001b[0;34m(self, b)\u001b[0m\n\u001b[1;32m    587\u001b[0m         \u001b[0;32mwhile\u001b[0m \u001b[0;32mTrue\u001b[0m\u001b[0;34m:\u001b[0m\u001b[0;34m\u001b[0m\u001b[0;34m\u001b[0m\u001b[0m\n\u001b[1;32m    588\u001b[0m             \u001b[0;32mtry\u001b[0m\u001b[0;34m:\u001b[0m\u001b[0;34m\u001b[0m\u001b[0;34m\u001b[0m\u001b[0m\n\u001b[0;32m--> 589\u001b[0;31m                 \u001b[0;32mreturn\u001b[0m \u001b[0mself\u001b[0m\u001b[0;34m.\u001b[0m\u001b[0m_sock\u001b[0m\u001b[0;34m.\u001b[0m\u001b[0mrecv_into\u001b[0m\u001b[0;34m(\u001b[0m\u001b[0mb\u001b[0m\u001b[0;34m)\u001b[0m\u001b[0;34m\u001b[0m\u001b[0;34m\u001b[0m\u001b[0m\n\u001b[0m\u001b[1;32m    590\u001b[0m             \u001b[0;32mexcept\u001b[0m \u001b[0mtimeout\u001b[0m\u001b[0;34m:\u001b[0m\u001b[0;34m\u001b[0m\u001b[0;34m\u001b[0m\u001b[0m\n\u001b[1;32m    591\u001b[0m                 \u001b[0mself\u001b[0m\u001b[0;34m.\u001b[0m\u001b[0m_timeout_occurred\u001b[0m \u001b[0;34m=\u001b[0m \u001b[0;32mTrue\u001b[0m\u001b[0;34m\u001b[0m\u001b[0;34m\u001b[0m\u001b[0m\n",
            "\u001b[0;31mKeyboardInterrupt\u001b[0m: "
          ]
        }
      ]
    },
    {
      "cell_type": "code",
      "source": [
        "%%time\n",
        "data9 = df_title_basic_selected.join(df_title_principals_selected, \"tconst\", \"inner\")\n",
        "print(\"df_title_basic_selected and df_title_principals_selected joined table size: \", (data9.count(), len(data9.columns)))\n",
        "data9 = data9.join(df_name_basics_selected, \"nconst\", \"inner\")\n",
        "print(\"joined table size: \", (data9.count(), len(data9.columns)))"
      ],
      "metadata": {
        "id": "Yxv527kQR-a_"
      },
      "execution_count": null,
      "outputs": []
    },
    {
      "cell_type": "code",
      "source": [
        "%%time\n",
        "data10 = df_title_basic_selected.join(df_title_principals_selected, \"tconst\", \"inner\")\n",
        "print(\"df_title_basic_selected and df_title_principals_selected joined table size: \", (data10.count(), len(data10.columns)))\n",
        "data10 = data10.join(df_name_basics_selected, \"nconst\", \"right\")\n",
        "print(\"joined table size: \", (data10.count(), len(data10.columns)))"
      ],
      "metadata": {
        "id": "3DXbwEw7SBhw"
      },
      "execution_count": null,
      "outputs": []
    },
    {
      "cell_type": "code",
      "source": [
        "%%time\n",
        "data11 = df_title_basic_selected.join(df_title_principals_selected, \"tconst\", \"right\")\n",
        "print(\"df_title_basic_selected and df_title_principals_selected joined table size: \", (data11.count(), len(data11.columns)))\n",
        "data11 = data11.join(df_name_basics_selected, \"nconst\", \"inner\")\n",
        "print(\"joined table size: \", (data11.count(), len(data11.columns)))"
      ],
      "metadata": {
        "id": "vHyGoIQ6SE9Y"
      },
      "execution_count": null,
      "outputs": []
    },
    {
      "cell_type": "code",
      "source": [
        "%%time\n",
        "data12 = df_title_basic_selected.join(df_title_principals_selected, \"tconst\", \"right\")\n",
        "print(\"df_title_basic_selected and df_title_principals_selected joined table size: \", (data12.count(), len(data12.columns)))\n",
        "data12 = data12.join(df_name_basics_selected, \"nconst\", \"right\")\n",
        "print(\"joined table size: \", (data12.count(), len(data12.columns)))"
      ],
      "metadata": {
        "id": "SyunVzUySHve"
      },
      "execution_count": null,
      "outputs": []
    },
    {
      "cell_type": "code",
      "source": [
        "%%time\n",
        "data13 = df_title_principals_selected.join(df_title_basic_selected, \"tconst\", \"inner\")\n",
        "print(\"df_title_principals_selected and df_title_basic_selected joined table size: \", (data13.count(), len(data13.columns)))\n",
        "data13 = data13.join(df_name_basics_selected, \"nconst\", \"inner\")\n",
        "print(\"joined table size: \", (data13.count(), len(data13.columns)))"
      ],
      "metadata": {
        "id": "uGlaI6jUSKXZ"
      },
      "execution_count": null,
      "outputs": []
    },
    {
      "cell_type": "code",
      "source": [
        "%%time\n",
        "data14 = df_title_principals_selected.join(df_title_basic_selected, \"tconst\", \"inner\")\n",
        "print(\"df_title_principals_selected and df_title_basic_selected joined table size: \", (data14.count(), len(data14.columns)))\n",
        "data14 = data14.join(df_name_basics_selected, \"nconst\", \"right\")\n",
        "print(\"joined table size: \", (data14.count(), len(data14.columns)))"
      ],
      "metadata": {
        "id": "QFl-nEfMSNKO"
      },
      "execution_count": null,
      "outputs": []
    },
    {
      "cell_type": "code",
      "source": [
        "%%time\n",
        "data15 = df_title_principals_selected.join(df_title_basic_selected, \"tconst\", \"left\")\n",
        "print(\"df_title_principals_selected and df_title_basic_selected joined table size: \", (data15.count(), len(data15.columns)))\n",
        "data15 = data15.join(df_name_basics_selected, \"nconst\", \"inner\")\n",
        "print(\"joined table size: \", (data15.count(), len(data15.columns)))"
      ],
      "metadata": {
        "id": "TyuoSVXrSP6u"
      },
      "execution_count": null,
      "outputs": []
    },
    {
      "cell_type": "code",
      "source": [
        "%%time\n",
        "data16 = df_title_principals_selected.join(df_title_basic_selected, \"tconst\", \"left\")\n",
        "print(\"df_title_principals_selected and df_title_basic_selected joined table size: \", (data16.count(), len(data16.columns)))\n",
        "data16 = data16.join(df_name_basics_selected, \"nconst\", \"right\")\n",
        "print(\"joined table size: \", (data16.count(), len(data16.columns)))"
      ],
      "metadata": {
        "id": "_PI46FTBSSt8"
      },
      "execution_count": null,
      "outputs": []
    },
    {
      "cell_type": "markdown",
      "source": [
        "Sprawdzimy jakie braki mają nasze dane."
      ],
      "metadata": {
        "id": "VTHMpn8vQKLE"
      }
    },
    {
      "cell_type": "code",
      "source": [
        "print(data11.filter(data11.primaryName.isNull()).count())\n",
        "print(data11.filter(data11.category.isNull()).count())\n",
        "print(data11.filter(data11.genres.isNull()).count())"
      ],
      "metadata": {
        "colab": {
          "base_uri": "https://localhost:8080/"
        },
        "id": "YFBmjRqdTucp",
        "outputId": "0849cd60-ffd3-4d4d-d250-95cfbd05d7fc"
      },
      "execution_count": null,
      "outputs": [
        {
          "metadata": {
            "tags": null
          },
          "name": "stdout",
          "output_type": "stream",
          "text": [
            "0\n",
            "0\n",
            "3484\n"
          ]
        }
      ]
    },
    {
      "cell_type": "markdown",
      "source": [
        "Po kilku uruchomieniach kodu, za każdym razem wychodzą różne wyniki, dlatego ciężko stwierdzić, który sposób łączenia danych jest najszybszy, jednak na pewno widać, że łączenie tabel bez zbędnych rekordów jest szybsze niż łączenie pełnych tabel. W ostatecznym rozrachunku, najlepiej wypada sposób łaczenia:\n",
        "* df_title_basic_selected i df_title_principals_selected, typ łączenia \"right\"\n",
        "* wcześniej złączone dane i df_name_basics_selected, typ łączenia \"inner\".\n",
        "\n",
        "W danch tych nie ma żadnych nadmiarowych aktorów, pojawiają się jedynie braki co do filmów, gdyż nie wszystkie filmy, w których grali aktorzy pojawiają się w bazie.\n",
        "\n",
        "Ten sposób łączenia danych zostanie zastosowany w notatniku głównym.\n"
      ],
      "metadata": {
        "id": "ZIR-r7kX9z9T"
      }
    },
    {
      "cell_type": "code",
      "source": [
        "print(\"df_name_basics_selected dataframe size: \", (df_name_basics_selected.count(), len(df_name_basics_selected.columns)))\n",
        "print(\"df_title_principals_selected dataframe size: \", (df_title_principals_selected.count(), len(df_title_principals_selected.columns)))\n",
        "print(\"df_title_basic_selected dataframe size: \", (df_title_basic_selected.count(), len(df_title_basic_selected.columns)))\n",
        "data = df_title_basic_selected.join(df_title_principals_selected, \"tconst\", \"right\")\n",
        "print(\"joined dataframe size: \", (data.count(), len(data.columns)))\n",
        "data = data.join(df_name_basics_selected, \"nconst\", \"inner\")\n",
        "print(\"joined dataframe size: \", (data.count(), len(data.columns)))"
      ],
      "metadata": {
        "id": "zMqqAJ7zBJWL",
        "outputId": "38d02cea-a45a-497b-bc60-ebda045cb1c5",
        "colab": {
          "base_uri": "https://localhost:8080/"
        }
      },
      "execution_count": null,
      "outputs": [
        {
          "output_type": "stream",
          "name": "stdout",
          "text": [
            "df_name_basics_selected dataframe size:  (4426315, 5)\n",
            "df_title_principals_selected dataframe size:  (20798916, 4)\n",
            "df_title_basic_selected dataframe size:  (9386465, 5)\n",
            "joined dataframe size:  (20798916, 8)\n",
            "joined dataframe size:  (20175420, 12)\n"
          ]
        }
      ]
    },
    {
      "cell_type": "markdown",
      "source": [
        "# Wybierzmy przykładowe wiersze z końcowego dataframe'u"
      ],
      "metadata": {
        "id": "hKXuX-JdE9ED"
      }
    },
    {
      "cell_type": "code",
      "source": [
        "sample = data.rdd.takeSample(False, 5)"
      ],
      "metadata": {
        "id": "bH43D49EE84F"
      },
      "execution_count": null,
      "outputs": []
    },
    {
      "cell_type": "code",
      "source": [
        "import pandas as pd\n",
        "sample = pd.DataFrame(sample, columns = data.columns)\n",
        "sample"
      ],
      "metadata": {
        "id": "kW8-_TXYLo10",
        "outputId": "367ffc05-0264-451d-e247-16009ade42ba",
        "colab": {
          "base_uri": "https://localhost:8080/",
          "height": 206
        }
      },
      "execution_count": null,
      "outputs": [
        {
          "output_type": "execute_result",
          "data": {
            "text/plain": [
              "      nconst      tconst  titleType     originalTitle isAdult  genres  \\\n",
              "0  nm0467502   tt1199515    tvMovie            Precek       0   Drama   \n",
              "1  nm0862117   tt1729191    tvMovie  Familienanschluß       0  Comedy   \n",
              "2  nm0681566   tt0252262      short   Le bateau de Lu       0   Short   \n",
              "3  nm5379363  tt16254088  tvEpisode     Episode #1.64       0   Drama   \n",
              "4  nm4049315   tt4359146  tvEpisode     Episode #1.28       0      \\N   \n",
              "\n",
              "  category              characters      primaryName birthYear deathYear  \\\n",
              "0    actor              [\"Martin\"]  Dragi Kostovski      1930      1980   \n",
              "1    actor  [\"Gerichtsvollzieher\"]     Hanno Thurau      1939      1992   \n",
              "2    actor           [\"Un client\"]   Michel Piccoli      1925      2020   \n",
              "3  actress        [\"Ivie\",\"Alero\"]     Ivie Okujaye        \\N        \\N   \n",
              "4  actress           [\"Anastasia\"]    Marina Shtoda      1982        \\N   \n",
              "\n",
              "                             knownForTitles  \n",
              "0   tt1247355,tt0182313,tt1369730,tt0182367  \n",
              "1   tt0108574,tt0080612,tt0806910,tt0131686  \n",
              "2   tt0118613,tt1456472,tt0057345,tt0061395  \n",
              "3  tt6911110,tt18182222,tt2526570,tt4452274  \n",
              "4  tt6461726,tt2105514,tt4353482,tt12099306  "
            ],
            "text/html": [
              "\n",
              "  <div id=\"df-a26134ad-ed08-418a-8c18-69ddaaed890a\">\n",
              "    <div class=\"colab-df-container\">\n",
              "      <div>\n",
              "<style scoped>\n",
              "    .dataframe tbody tr th:only-of-type {\n",
              "        vertical-align: middle;\n",
              "    }\n",
              "\n",
              "    .dataframe tbody tr th {\n",
              "        vertical-align: top;\n",
              "    }\n",
              "\n",
              "    .dataframe thead th {\n",
              "        text-align: right;\n",
              "    }\n",
              "</style>\n",
              "<table border=\"1\" class=\"dataframe\">\n",
              "  <thead>\n",
              "    <tr style=\"text-align: right;\">\n",
              "      <th></th>\n",
              "      <th>nconst</th>\n",
              "      <th>tconst</th>\n",
              "      <th>titleType</th>\n",
              "      <th>originalTitle</th>\n",
              "      <th>isAdult</th>\n",
              "      <th>genres</th>\n",
              "      <th>category</th>\n",
              "      <th>characters</th>\n",
              "      <th>primaryName</th>\n",
              "      <th>birthYear</th>\n",
              "      <th>deathYear</th>\n",
              "      <th>knownForTitles</th>\n",
              "    </tr>\n",
              "  </thead>\n",
              "  <tbody>\n",
              "    <tr>\n",
              "      <th>0</th>\n",
              "      <td>nm0467502</td>\n",
              "      <td>tt1199515</td>\n",
              "      <td>tvMovie</td>\n",
              "      <td>Precek</td>\n",
              "      <td>0</td>\n",
              "      <td>Drama</td>\n",
              "      <td>actor</td>\n",
              "      <td>[\"Martin\"]</td>\n",
              "      <td>Dragi Kostovski</td>\n",
              "      <td>1930</td>\n",
              "      <td>1980</td>\n",
              "      <td>tt1247355,tt0182313,tt1369730,tt0182367</td>\n",
              "    </tr>\n",
              "    <tr>\n",
              "      <th>1</th>\n",
              "      <td>nm0862117</td>\n",
              "      <td>tt1729191</td>\n",
              "      <td>tvMovie</td>\n",
              "      <td>Familienanschluß</td>\n",
              "      <td>0</td>\n",
              "      <td>Comedy</td>\n",
              "      <td>actor</td>\n",
              "      <td>[\"Gerichtsvollzieher\"]</td>\n",
              "      <td>Hanno Thurau</td>\n",
              "      <td>1939</td>\n",
              "      <td>1992</td>\n",
              "      <td>tt0108574,tt0080612,tt0806910,tt0131686</td>\n",
              "    </tr>\n",
              "    <tr>\n",
              "      <th>2</th>\n",
              "      <td>nm0681566</td>\n",
              "      <td>tt0252262</td>\n",
              "      <td>short</td>\n",
              "      <td>Le bateau de Lu</td>\n",
              "      <td>0</td>\n",
              "      <td>Short</td>\n",
              "      <td>actor</td>\n",
              "      <td>[\"Un client\"]</td>\n",
              "      <td>Michel Piccoli</td>\n",
              "      <td>1925</td>\n",
              "      <td>2020</td>\n",
              "      <td>tt0118613,tt1456472,tt0057345,tt0061395</td>\n",
              "    </tr>\n",
              "    <tr>\n",
              "      <th>3</th>\n",
              "      <td>nm5379363</td>\n",
              "      <td>tt16254088</td>\n",
              "      <td>tvEpisode</td>\n",
              "      <td>Episode #1.64</td>\n",
              "      <td>0</td>\n",
              "      <td>Drama</td>\n",
              "      <td>actress</td>\n",
              "      <td>[\"Ivie\",\"Alero\"]</td>\n",
              "      <td>Ivie Okujaye</td>\n",
              "      <td>\\N</td>\n",
              "      <td>\\N</td>\n",
              "      <td>tt6911110,tt18182222,tt2526570,tt4452274</td>\n",
              "    </tr>\n",
              "    <tr>\n",
              "      <th>4</th>\n",
              "      <td>nm4049315</td>\n",
              "      <td>tt4359146</td>\n",
              "      <td>tvEpisode</td>\n",
              "      <td>Episode #1.28</td>\n",
              "      <td>0</td>\n",
              "      <td>\\N</td>\n",
              "      <td>actress</td>\n",
              "      <td>[\"Anastasia\"]</td>\n",
              "      <td>Marina Shtoda</td>\n",
              "      <td>1982</td>\n",
              "      <td>\\N</td>\n",
              "      <td>tt6461726,tt2105514,tt4353482,tt12099306</td>\n",
              "    </tr>\n",
              "  </tbody>\n",
              "</table>\n",
              "</div>\n",
              "      <button class=\"colab-df-convert\" onclick=\"convertToInteractive('df-a26134ad-ed08-418a-8c18-69ddaaed890a')\"\n",
              "              title=\"Convert this dataframe to an interactive table.\"\n",
              "              style=\"display:none;\">\n",
              "        \n",
              "  <svg xmlns=\"http://www.w3.org/2000/svg\" height=\"24px\"viewBox=\"0 0 24 24\"\n",
              "       width=\"24px\">\n",
              "    <path d=\"M0 0h24v24H0V0z\" fill=\"none\"/>\n",
              "    <path d=\"M18.56 5.44l.94 2.06.94-2.06 2.06-.94-2.06-.94-.94-2.06-.94 2.06-2.06.94zm-11 1L8.5 8.5l.94-2.06 2.06-.94-2.06-.94L8.5 2.5l-.94 2.06-2.06.94zm10 10l.94 2.06.94-2.06 2.06-.94-2.06-.94-.94-2.06-.94 2.06-2.06.94z\"/><path d=\"M17.41 7.96l-1.37-1.37c-.4-.4-.92-.59-1.43-.59-.52 0-1.04.2-1.43.59L10.3 9.45l-7.72 7.72c-.78.78-.78 2.05 0 2.83L4 21.41c.39.39.9.59 1.41.59.51 0 1.02-.2 1.41-.59l7.78-7.78 2.81-2.81c.8-.78.8-2.07 0-2.86zM5.41 20L4 18.59l7.72-7.72 1.47 1.35L5.41 20z\"/>\n",
              "  </svg>\n",
              "      </button>\n",
              "      \n",
              "  <style>\n",
              "    .colab-df-container {\n",
              "      display:flex;\n",
              "      flex-wrap:wrap;\n",
              "      gap: 12px;\n",
              "    }\n",
              "\n",
              "    .colab-df-convert {\n",
              "      background-color: #E8F0FE;\n",
              "      border: none;\n",
              "      border-radius: 50%;\n",
              "      cursor: pointer;\n",
              "      display: none;\n",
              "      fill: #1967D2;\n",
              "      height: 32px;\n",
              "      padding: 0 0 0 0;\n",
              "      width: 32px;\n",
              "    }\n",
              "\n",
              "    .colab-df-convert:hover {\n",
              "      background-color: #E2EBFA;\n",
              "      box-shadow: 0px 1px 2px rgba(60, 64, 67, 0.3), 0px 1px 3px 1px rgba(60, 64, 67, 0.15);\n",
              "      fill: #174EA6;\n",
              "    }\n",
              "\n",
              "    [theme=dark] .colab-df-convert {\n",
              "      background-color: #3B4455;\n",
              "      fill: #D2E3FC;\n",
              "    }\n",
              "\n",
              "    [theme=dark] .colab-df-convert:hover {\n",
              "      background-color: #434B5C;\n",
              "      box-shadow: 0px 1px 3px 1px rgba(0, 0, 0, 0.15);\n",
              "      filter: drop-shadow(0px 1px 2px rgba(0, 0, 0, 0.3));\n",
              "      fill: #FFFFFF;\n",
              "    }\n",
              "  </style>\n",
              "\n",
              "      <script>\n",
              "        const buttonEl =\n",
              "          document.querySelector('#df-a26134ad-ed08-418a-8c18-69ddaaed890a button.colab-df-convert');\n",
              "        buttonEl.style.display =\n",
              "          google.colab.kernel.accessAllowed ? 'block' : 'none';\n",
              "\n",
              "        async function convertToInteractive(key) {\n",
              "          const element = document.querySelector('#df-a26134ad-ed08-418a-8c18-69ddaaed890a');\n",
              "          const dataTable =\n",
              "            await google.colab.kernel.invokeFunction('convertToInteractive',\n",
              "                                                     [key], {});\n",
              "          if (!dataTable) return;\n",
              "\n",
              "          const docLinkHtml = 'Like what you see? Visit the ' +\n",
              "            '<a target=\"_blank\" href=https://colab.research.google.com/notebooks/data_table.ipynb>data table notebook</a>'\n",
              "            + ' to learn more about interactive tables.';\n",
              "          element.innerHTML = '';\n",
              "          dataTable['output_type'] = 'display_data';\n",
              "          await google.colab.output.renderOutput(dataTable, element);\n",
              "          const docLink = document.createElement('div');\n",
              "          docLink.innerHTML = docLinkHtml;\n",
              "          element.appendChild(docLink);\n",
              "        }\n",
              "      </script>\n",
              "    </div>\n",
              "  </div>\n",
              "  "
            ]
          },
          "metadata": {},
          "execution_count": 14
        }
      ]
    }
  ]
}