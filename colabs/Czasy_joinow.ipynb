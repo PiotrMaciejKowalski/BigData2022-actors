{
  "nbformat": 4,
  "nbformat_minor": 0,
  "metadata": {
    "colab": {
      "provenance": [],
      "collapsed_sections": [
        "kgYZYlTutA0O",
        "or9x68JxXc10",
        "pPWxy5j_aEvo",
        "s-hzkKehxgnQ",
        "snoopt7lY71j"
      ],
      "include_colab_link": true
    },
    "kernelspec": {
      "name": "python3",
      "display_name": "Python 3"
    },
    "language_info": {
      "name": "python"
    }
  },
  "cells": [
    {
      "cell_type": "markdown",
      "metadata": {
        "id": "view-in-github",
        "colab_type": "text"
      },
      "source": [
        "<a href=\"https://colab.research.google.com/github/PiotrMaciejKowalski/BigData2022-actors/blob/czasy-joinow/colabs/Czasy_joinow.ipynb\" target=\"_parent\"><img src=\"https://colab.research.google.com/assets/colab-badge.svg\" alt=\"Open In Colab\"/></a>"
      ]
    },
    {
      "cell_type": "markdown",
      "source": [
        "#Setup sparka"
      ],
      "metadata": {
        "id": "Vzb444kPW31g"
      }
    },
    {
      "cell_type": "markdown",
      "source": [
        "##Setup sparka"
      ],
      "metadata": {
        "id": "Ny5PYKNbsHju"
      }
    },
    {
      "cell_type": "code",
      "source": [
        "!pip install pyspark py4j\n",
        "!pip install -q findspark\n",
        "!apt-get install openjdk-8-jdk-headless -qq > /dev/null\n",
        "!wget ftp://ftp.ps.pl/pub/apache/spark/spark-3.3.1/spark-3.3.1-bin-hadoop2.tgz\n",
        "!tar xf spark-3.3.1-bin-hadoop2.tgz"
      ],
      "metadata": {
        "colab": {
          "base_uri": "https://localhost:8080/"
        },
        "id": "UxTbMYkeLrk6",
        "outputId": "16c265e9-77f6-4305-8c4d-f7ddc08176dd"
      },
      "execution_count": 2,
      "outputs": [
        {
          "output_type": "stream",
          "name": "stdout",
          "text": [
            "Looking in indexes: https://pypi.org/simple, https://us-python.pkg.dev/colab-wheels/public/simple/\n",
            "Collecting pyspark\n",
            "  Downloading pyspark-3.3.1.tar.gz (281.4 MB)\n",
            "\u001b[K     |████████████████████████████████| 281.4 MB 58 kB/s \n",
            "\u001b[?25hCollecting py4j\n",
            "  Downloading py4j-0.10.9.7-py2.py3-none-any.whl (200 kB)\n",
            "\u001b[K     |████████████████████████████████| 200 kB 66.4 MB/s \n",
            "\u001b[?25h  Downloading py4j-0.10.9.5-py2.py3-none-any.whl (199 kB)\n",
            "\u001b[K     |████████████████████████████████| 199 kB 73.0 MB/s \n",
            "\u001b[?25hBuilding wheels for collected packages: pyspark\n",
            "  Building wheel for pyspark (setup.py) ... \u001b[?25l\u001b[?25hdone\n",
            "  Created wheel for pyspark: filename=pyspark-3.3.1-py2.py3-none-any.whl size=281845514 sha256=345ad7e475220430f1e014f80019ebb160cca26b5ad7af1230021f54c2ed9b24\n",
            "  Stored in directory: /root/.cache/pip/wheels/42/59/f5/79a5bf931714dcd201b26025347785f087370a10a3329a899c\n",
            "Successfully built pyspark\n",
            "Installing collected packages: py4j, pyspark\n",
            "Successfully installed py4j-0.10.9.5 pyspark-3.3.1\n",
            "--2022-11-19 10:00:41--  ftp://ftp.ps.pl/pub/apache/spark/spark-3.3.1/spark-3.3.1-bin-hadoop2.tgz\n",
            "           => ‘spark-3.3.1-bin-hadoop2.tgz’\n",
            "Resolving ftp.ps.pl (ftp.ps.pl)... 212.14.28.36, 2001:4c58:62:2::36\n",
            "Connecting to ftp.ps.pl (ftp.ps.pl)|212.14.28.36|:21... connected.\n",
            "Logging in as anonymous ... Logged in!\n",
            "==> SYST ... done.    ==> PWD ... done.\n",
            "==> TYPE I ... done.  ==> CWD (1) /pub/apache/spark/spark-3.3.1 ... done.\n",
            "==> SIZE spark-3.3.1-bin-hadoop2.tgz ... 274099817\n",
            "==> PASV ... done.    ==> RETR spark-3.3.1-bin-hadoop2.tgz ... done.\n",
            "Length: 274099817 (261M) (unauthoritative)\n",
            "\n",
            "spark-3.3.1-bin-had 100%[===================>] 261.40M  26.1MB/s    in 11s     \n",
            "\n",
            "2022-11-19 10:00:53 (24.3 MB/s) - ‘spark-3.3.1-bin-hadoop2.tgz’ saved [274099817]\n",
            "\n"
          ]
        }
      ]
    },
    {
      "cell_type": "code",
      "source": [
        "import pyspark\n",
        "import findspark\n",
        "from pyspark.sql import SparkSession\n",
        "import os"
      ],
      "metadata": {
        "id": "g_c507iBLsSW"
      },
      "execution_count": 3,
      "outputs": []
    },
    {
      "cell_type": "code",
      "source": [
        "os.environ[\"JAVA_HOME\"] = \"/usr/lib/jvm/java-8-openjdk-amd64\"\n",
        "os.environ[\"SPARK_HOME\"] = \"/content/spark-3.3.1-bin-hadoop2\"\n",
        "spark=SparkSession.builder.appName('Colab').getOrCreate()\n",
        "spark"
      ],
      "metadata": {
        "id": "1rwBnBMwW88n",
        "outputId": "5af7d3a2-6fe0-440a-cb5a-0f9712c4ccdb",
        "colab": {
          "base_uri": "https://localhost:8080/",
          "height": 219
        }
      },
      "execution_count": 4,
      "outputs": [
        {
          "output_type": "execute_result",
          "data": {
            "text/plain": [
              "<pyspark.sql.session.SparkSession at 0x7f33785da6d0>"
            ],
            "text/html": [
              "\n",
              "            <div>\n",
              "                <p><b>SparkSession - in-memory</b></p>\n",
              "                \n",
              "        <div>\n",
              "            <p><b>SparkContext</b></p>\n",
              "\n",
              "            <p><a href=\"http://c8b0d9f2d0e4:4040\">Spark UI</a></p>\n",
              "\n",
              "            <dl>\n",
              "              <dt>Version</dt>\n",
              "                <dd><code>v3.3.1</code></dd>\n",
              "              <dt>Master</dt>\n",
              "                <dd><code>local[*]</code></dd>\n",
              "              <dt>AppName</dt>\n",
              "                <dd><code>Colab</code></dd>\n",
              "            </dl>\n",
              "        </div>\n",
              "        \n",
              "            </div>\n",
              "        "
            ]
          },
          "metadata": {},
          "execution_count": 4
        }
      ]
    },
    {
      "cell_type": "markdown",
      "source": [
        "#Pobranie danych"
      ],
      "metadata": {
        "id": "p0l3OAblXJ2w"
      }
    },
    {
      "cell_type": "markdown",
      "source": [
        "##Import danych"
      ],
      "metadata": {
        "id": "kgYZYlTutA0O"
      }
    },
    {
      "cell_type": "code",
      "source": [
        "!wget https://datasets.imdbws.com/name.basics.tsv.gz\n",
        "!wget https://datasets.imdbws.com/title.akas.tsv.gz\n",
        "!wget https://datasets.imdbws.com/title.basics.tsv.gz\n",
        "!wget https://datasets.imdbws.com/title.crew.tsv.gz\n",
        "!wget https://datasets.imdbws.com/title.episode.tsv.gz\n",
        "!wget https://datasets.imdbws.com/title.principals.tsv.gz\n",
        "!wget https://datasets.imdbws.com/title.ratings.tsv.gz"
      ],
      "metadata": {
        "id": "SciXhN5JXONa",
        "colab": {
          "base_uri": "https://localhost:8080/"
        },
        "outputId": "ae725f4c-5e52-4f02-b16c-ed710e58f3fa"
      },
      "execution_count": 5,
      "outputs": [
        {
          "output_type": "stream",
          "name": "stdout",
          "text": [
            "--2022-11-19 10:01:04--  https://datasets.imdbws.com/name.basics.tsv.gz\n",
            "Resolving datasets.imdbws.com (datasets.imdbws.com)... 108.139.29.105, 108.139.29.7, 108.139.29.58, ...\n",
            "Connecting to datasets.imdbws.com (datasets.imdbws.com)|108.139.29.105|:443... connected.\n",
            "HTTP request sent, awaiting response... 200 OK\n",
            "Length: 236526966 (226M) [binary/octet-stream]\n",
            "Saving to: ‘name.basics.tsv.gz’\n",
            "\n",
            "name.basics.tsv.gz  100%[===================>] 225.57M   148MB/s    in 1.5s    \n",
            "\n",
            "2022-11-19 10:01:05 (148 MB/s) - ‘name.basics.tsv.gz’ saved [236526966/236526966]\n",
            "\n",
            "--2022-11-19 10:01:05--  https://datasets.imdbws.com/title.akas.tsv.gz\n",
            "Resolving datasets.imdbws.com (datasets.imdbws.com)... 108.139.29.105, 108.139.29.7, 108.139.29.58, ...\n",
            "Connecting to datasets.imdbws.com (datasets.imdbws.com)|108.139.29.105|:443... connected.\n",
            "HTTP request sent, awaiting response... 200 OK\n",
            "Length: 287698034 (274M) [binary/octet-stream]\n",
            "Saving to: ‘title.akas.tsv.gz’\n",
            "\n",
            "title.akas.tsv.gz   100%[===================>] 274.37M   187MB/s    in 1.5s    \n",
            "\n",
            "2022-11-19 10:01:07 (187 MB/s) - ‘title.akas.tsv.gz’ saved [287698034/287698034]\n",
            "\n",
            "--2022-11-19 10:01:07--  https://datasets.imdbws.com/title.basics.tsv.gz\n",
            "Resolving datasets.imdbws.com (datasets.imdbws.com)... 108.139.29.105, 108.139.29.7, 108.139.29.58, ...\n",
            "Connecting to datasets.imdbws.com (datasets.imdbws.com)|108.139.29.105|:443... connected.\n",
            "HTTP request sent, awaiting response... 200 OK\n",
            "Length: 163994680 (156M) [binary/octet-stream]\n",
            "Saving to: ‘title.basics.tsv.gz’\n",
            "\n",
            "title.basics.tsv.gz 100%[===================>] 156.40M   104MB/s    in 1.5s    \n",
            "\n",
            "2022-11-19 10:01:09 (104 MB/s) - ‘title.basics.tsv.gz’ saved [163994680/163994680]\n",
            "\n",
            "--2022-11-19 10:01:09--  https://datasets.imdbws.com/title.crew.tsv.gz\n",
            "Resolving datasets.imdbws.com (datasets.imdbws.com)... 108.139.29.105, 108.139.29.7, 108.139.29.58, ...\n",
            "Connecting to datasets.imdbws.com (datasets.imdbws.com)|108.139.29.105|:443... connected.\n",
            "HTTP request sent, awaiting response... 200 OK\n",
            "Length: 62926968 (60M) [binary/octet-stream]\n",
            "Saving to: ‘title.crew.tsv.gz’\n",
            "\n",
            "title.crew.tsv.gz   100%[===================>]  60.01M  80.8MB/s    in 0.7s    \n",
            "\n",
            "2022-11-19 10:01:09 (80.8 MB/s) - ‘title.crew.tsv.gz’ saved [62926968/62926968]\n",
            "\n",
            "--2022-11-19 10:01:09--  https://datasets.imdbws.com/title.episode.tsv.gz\n",
            "Resolving datasets.imdbws.com (datasets.imdbws.com)... 108.139.29.105, 108.139.29.7, 108.139.29.58, ...\n",
            "Connecting to datasets.imdbws.com (datasets.imdbws.com)|108.139.29.105|:443... connected.\n",
            "HTTP request sent, awaiting response... 200 OK\n",
            "Length: 38570207 (37M) [binary/octet-stream]\n",
            "Saving to: ‘title.episode.tsv.gz’\n",
            "\n",
            "title.episode.tsv.g 100%[===================>]  36.78M  81.3MB/s    in 0.5s    \n",
            "\n",
            "2022-11-19 10:01:10 (81.3 MB/s) - ‘title.episode.tsv.gz’ saved [38570207/38570207]\n",
            "\n",
            "--2022-11-19 10:01:10--  https://datasets.imdbws.com/title.principals.tsv.gz\n",
            "Resolving datasets.imdbws.com (datasets.imdbws.com)... 108.139.29.105, 108.139.29.7, 108.139.29.58, ...\n",
            "Connecting to datasets.imdbws.com (datasets.imdbws.com)|108.139.29.105|:443... connected.\n",
            "HTTP request sent, awaiting response... 200 OK\n",
            "Length: 417524652 (398M) [binary/octet-stream]\n",
            "Saving to: ‘title.principals.tsv.gz’\n",
            "\n",
            "title.principals.ts 100%[===================>] 398.18M   147MB/s    in 2.7s    \n",
            "\n",
            "2022-11-19 10:01:13 (147 MB/s) - ‘title.principals.tsv.gz’ saved [417524652/417524652]\n",
            "\n",
            "--2022-11-19 10:01:13--  https://datasets.imdbws.com/title.ratings.tsv.gz\n",
            "Resolving datasets.imdbws.com (datasets.imdbws.com)... 108.139.29.105, 108.139.29.7, 108.139.29.58, ...\n",
            "Connecting to datasets.imdbws.com (datasets.imdbws.com)|108.139.29.105|:443... connected.\n",
            "HTTP request sent, awaiting response... 200 OK\n",
            "Length: 6269771 (6.0M) [binary/octet-stream]\n",
            "Saving to: ‘title.ratings.tsv.gz’\n",
            "\n",
            "title.ratings.tsv.g 100%[===================>]   5.98M  --.-KB/s    in 0.1s    \n",
            "\n",
            "2022-11-19 10:01:13 (51.6 MB/s) - ‘title.ratings.tsv.gz’ saved [6269771/6269771]\n",
            "\n"
          ]
        }
      ]
    },
    {
      "cell_type": "markdown",
      "source": [
        "##Rozpakowanie danych"
      ],
      "metadata": {
        "id": "or9x68JxXc10"
      }
    },
    {
      "cell_type": "code",
      "source": [
        "!gzip -dc /content/name.basics.tsv.gz > name.basics.csv\n",
        "!gzip -dc /content/title.akas.tsv.gz > title.akas.csv\n",
        "!gzip -dc /content/title.basics.tsv.gz > title.basic.csv\n",
        "!gzip -dc /content/title.crew.tsv.gz > title.crew.csv\n",
        "!gzip -dc /content/title.episode.tsv.gz > title.episode.csv\n",
        "!gzip -dc /content/title.principals.tsv.gz > title.principals.csv\n",
        "!gzip -dc /content/title.ratings.tsv.gz > title.ratings.csv"
      ],
      "metadata": {
        "id": "IpXAjtV4XeKx"
      },
      "execution_count": 6,
      "outputs": []
    },
    {
      "cell_type": "markdown",
      "source": [
        "#Wczytanie danych"
      ],
      "metadata": {
        "id": "pPWxy5j_aEvo"
      }
    },
    {
      "cell_type": "markdown",
      "source": [
        "##Wczytajmy dane z rozpakowanych plików"
      ],
      "metadata": {
        "id": "s-hzkKehxgnQ"
      }
    },
    {
      "cell_type": "code",
      "source": [
        "df_name_basics=spark.read.option(\"header\", \"true\").option(\"delimiter\", \"\\t\").csv('name.basics.csv' ) \n",
        "df_title_akas=spark.read.option(\"header\",\"true\").option(\"delimiter\", \"\\t\").csv('title.akas.csv')\n",
        "df_title_basic=spark.read.option(\"header\",\"true\").option(\"delimiter\", \"\\t\").csv('title.basic.csv')\n",
        "df_title_crew=spark.read.option(\"header\",\"true\").option(\"delimiter\", \"\\t\").csv('title.crew.csv')\n",
        "df_title_episode=spark.read.option(\"header\",\"true\").option(\"delimiter\",\"\\t\").csv('title.episode.csv')\n",
        "df_title_principals=spark.read.option(\"header\",\"true\").option(\"delimiter\",\"\\t\").csv('title.principals.csv')\n",
        "df_title_ratings=spark.read.option(\"header\",\"true\").option(\"delimiter\",\"\\t\").csv('title.ratings.csv')"
      ],
      "metadata": {
        "id": "skegmFMQXpcA"
      },
      "execution_count": 7,
      "outputs": []
    },
    {
      "cell_type": "markdown",
      "source": [
        "##Wyświetlmy dane"
      ],
      "metadata": {
        "id": "snoopt7lY71j"
      }
    },
    {
      "cell_type": "code",
      "source": [
        "df_name_basics.show(3)\n",
        "df_title_akas.show(3)\n",
        "df_title_basic.show(3)\n",
        "df_title_crew.show(3)\n",
        "df_title_episode.show(3)\n",
        "df_title_principals.show(3)\n",
        "df_title_ratings.show(3)"
      ],
      "metadata": {
        "id": "BQItTCh9ZBht",
        "colab": {
          "base_uri": "https://localhost:8080/"
        },
        "outputId": "74d173a1-f133-4c66-bb7b-69c55118f893"
      },
      "execution_count": 8,
      "outputs": [
        {
          "output_type": "stream",
          "name": "stdout",
          "text": [
            "+---------+---------------+---------+---------+--------------------+--------------------+\n",
            "|   nconst|    primaryName|birthYear|deathYear|   primaryProfession|      knownForTitles|\n",
            "+---------+---------------+---------+---------+--------------------+--------------------+\n",
            "|nm0000001|   Fred Astaire|     1899|     1987|soundtrack,actor,...|tt0050419,tt00531...|\n",
            "|nm0000002|  Lauren Bacall|     1924|     2014|  actress,soundtrack|tt0117057,tt00718...|\n",
            "|nm0000003|Brigitte Bardot|     1934|       \\N|actress,soundtrac...|tt0057345,tt00491...|\n",
            "+---------+---------------+---------+---------+--------------------+--------------------+\n",
            "only showing top 3 rows\n",
            "\n",
            "+---------+--------+--------------------+------+--------+-----------+-------------+---------------+\n",
            "|  titleId|ordering|               title|region|language|      types|   attributes|isOriginalTitle|\n",
            "+---------+--------+--------------------+------+--------+-----------+-------------+---------------+\n",
            "|tt0000001|       1|          Карменсіта|    UA|      \\N|imdbDisplay|           \\N|              0|\n",
            "|tt0000001|       2|          Carmencita|    DE|      \\N|         \\N|literal title|              0|\n",
            "|tt0000001|       3|Carmencita - span...|    HU|      \\N|imdbDisplay|           \\N|              0|\n",
            "+---------+--------+--------------------+------+--------+-----------+-------------+---------------+\n",
            "only showing top 3 rows\n",
            "\n",
            "+---------+---------+--------------------+--------------------+-------+---------+-------+--------------+--------------------+\n",
            "|   tconst|titleType|        primaryTitle|       originalTitle|isAdult|startYear|endYear|runtimeMinutes|              genres|\n",
            "+---------+---------+--------------------+--------------------+-------+---------+-------+--------------+--------------------+\n",
            "|tt0000001|    short|          Carmencita|          Carmencita|      0|     1894|     \\N|             1|   Documentary,Short|\n",
            "|tt0000002|    short|Le clown et ses c...|Le clown et ses c...|      0|     1892|     \\N|             5|     Animation,Short|\n",
            "|tt0000003|    short|      Pauvre Pierrot|      Pauvre Pierrot|      0|     1892|     \\N|             4|Animation,Comedy,...|\n",
            "+---------+---------+--------------------+--------------------+-------+---------+-------+--------------+--------------------+\n",
            "only showing top 3 rows\n",
            "\n",
            "+---------+---------+-------+\n",
            "|   tconst|directors|writers|\n",
            "+---------+---------+-------+\n",
            "|tt0000001|nm0005690|     \\N|\n",
            "|tt0000002|nm0721526|     \\N|\n",
            "|tt0000003|nm0721526|     \\N|\n",
            "+---------+---------+-------+\n",
            "only showing top 3 rows\n",
            "\n",
            "+---------+------------+------------+-------------+\n",
            "|   tconst|parentTconst|seasonNumber|episodeNumber|\n",
            "+---------+------------+------------+-------------+\n",
            "|tt0041951|   tt0041038|           1|            9|\n",
            "|tt0042816|   tt0989125|           1|           17|\n",
            "|tt0042889|   tt0989125|          \\N|           \\N|\n",
            "+---------+------------+------------+-------------+\n",
            "only showing top 3 rows\n",
            "\n",
            "+---------+--------+---------+---------------+--------------------+----------+\n",
            "|   tconst|ordering|   nconst|       category|                 job|characters|\n",
            "+---------+--------+---------+---------------+--------------------+----------+\n",
            "|tt0000001|       1|nm1588970|           self|                  \\N|  [\"Self\"]|\n",
            "|tt0000001|       2|nm0005690|       director|                  \\N|        \\N|\n",
            "|tt0000001|       3|nm0374658|cinematographer|director of photo...|        \\N|\n",
            "+---------+--------+---------+---------------+--------------------+----------+\n",
            "only showing top 3 rows\n",
            "\n",
            "+---------+-------------+--------+\n",
            "|   tconst|averageRating|numVotes|\n",
            "+---------+-------------+--------+\n",
            "|tt0000001|          5.7|    1922|\n",
            "|tt0000002|          5.8|     259|\n",
            "|tt0000003|          6.5|    1736|\n",
            "+---------+-------------+--------+\n",
            "only showing top 3 rows\n",
            "\n"
          ]
        }
      ]
    },
    {
      "cell_type": "markdown",
      "source": [
        "# Złączenie istotnych kolumn"
      ],
      "metadata": {
        "id": "ZZb5i_RrA-yP"
      }
    },
    {
      "cell_type": "markdown",
      "source": [
        "## Wybierzmy następujące kolumny z tabel:\n",
        "- df_title_basic:\n",
        "  - tconst (unikalny numer tytułu - potrzebne do złączenia tabel)\n",
        "  - titleType (rodzaj tytułu, np. film, serial - można porównywać podobieństwo aktorów na podstawie tego w jakich typach produkcji grali)\n",
        "  - originalTitle (tytuł produkcji - być może przyda się do analizy podobnych filmów)\n",
        "  - isAdult (czy produkcja jest dla dorosłych - można wykorzystać do porównywania aktorów na podstawie tego czy grają głównie w produkcjach dla dorosłych)\n",
        "  - genres (gatunki - może posłużyć do porównania aktorów na podstawie tego, że grali w produkcjach o podobnych gatunkach)\n",
        "\n",
        "- df_title_principals:\n",
        "  - tconst (unikalny numer tytułu - potrzebne do złączenia tabel)\n",
        "  - nconst (unikalny numer aktora - potrzebne do złączenia tabel)\n",
        "  - category (kategoria pracy (actor/actress) - może posłużyć do porównania aktorów na podstawie takiej samej płci)\n",
        "  - characters (postacie zagrane w produkcji - może posłużyć do porównania aktorów na podstawie podobnych granych postaci)\n",
        "\n",
        "- df_name_basics:\n",
        "  - nconst(unikalny numer aktora - potrzebne do złączenia tabel)\n",
        "  - primaryName (imię i nazwisko aktora - potrzebne do wyświetlania aktora lub do odnajdywania go w bazie po imieniu i nazwisku)\n",
        "  - birthYear (rok urodzenia aktora - może posłużyć do porównania aktorów na podstawie podobnych okresów, w których żyli i grali)\n",
        "  - deathYear ( rok śmierci aktora - może posłużyć do porównania aktorów na podstawie podobnych okresów, w których żyli i grali)\n",
        "  - knownForTitles (tytuły produkcji, z których znany jets aktor - może posłużyć do porównania aktorów na podstawie tych samych lub podobnych produkcji, z których są znani)"
      ],
      "metadata": {
        "id": "MGd5Hi-VBF9h"
      }
    },
    {
      "cell_type": "code",
      "source": [
        "df_title_basic_selected = df_title_basic.select([\"tconst\", \"titleType\", \"originalTitle\", \"isAdult\", \"genres\"])\n",
        "df_title_principals_selected = df_title_principals.select([\"tconst\", \"nconst\", \"category\", \"characters\"])\n",
        "df_name_basics_selected = df_name_basics.select([\"nconst\", \"primaryName\", \"birthYear\", \"deathYear\", \"knownForTitles\"])"
      ],
      "metadata": {
        "id": "OKWe9JSKBC5q"
      },
      "execution_count": 9,
      "outputs": []
    },
    {
      "cell_type": "markdown",
      "source": [
        "## Wybierzmy z tabeli df_title_principals_selected tylko aktorów i aktorki"
      ],
      "metadata": {
        "id": "Dv9_BSnFVFa3"
      }
    },
    {
      "cell_type": "code",
      "source": [
        "#df_title_principals_selected = df_title_principals_selected.filter((df_title_principals_selected.category == \"actor\") | (df_title_principals_selected.category == \"actress\"))"
      ],
      "metadata": {
        "id": "3vOtn_OxVAQa"
      },
      "execution_count": 10,
      "outputs": []
    },
    {
      "cell_type": "markdown",
      "source": [
        "# Złączmy tabele df_name_basics, df_title_principals i df_title_basic"
      ],
      "metadata": {
        "id": "eMIHo59PBNtx"
      }
    },
    {
      "cell_type": "markdown",
      "source": [
        "## Sprawdźmy czasy joinowania dla różnych kombinacji tabel"
      ],
      "metadata": {
        "id": "0cd69uOmz-E9"
      }
    },
    {
      "cell_type": "markdown",
      "source": [
        "Sprawdzimy najpierw różnicę w różnych typach łączenia tabel df_name_basics_selected i df_title_principals_selected:"
      ],
      "metadata": {
        "id": "19O-f-nBUprz"
      }
    },
    {
      "cell_type": "code",
      "source": [
        "from timeit import default_timer as timer\n",
        "\n",
        "start = timer()\n",
        "data1 = df_name_basics_selected.join(df_title_principals_selected, \"nconst\", \"inner\")\n",
        "print(\"df_name_basics_selected and df_title_principals_selected joined table size: \", (data1.count(), len(data1.columns)))\n",
        "data1 = data1.join(df_title_basic_selected, \"tconst\", \"inner\")\n",
        "end = timer()\n",
        "print(\"joined table size: \", (data1.count(), len(data1.columns)), \"time of joining tables: \", end-start)"
      ],
      "metadata": {
        "id": "bXWAMvJtz9Rc",
        "colab": {
          "base_uri": "https://localhost:8080/"
        },
        "outputId": "4475f66d-ede5-4391-fee0-06e369a7b52c"
      },
      "execution_count": 11,
      "outputs": [
        {
          "output_type": "stream",
          "name": "stdout",
          "text": [
            "df_name_basics_selected and df_title_principals_selected joined table size:  (53092579, 8)\n",
            "joined table size:  (53086246, 12) time of joining tables:  102.31950027199991\n"
          ]
        }
      ]
    },
    {
      "cell_type": "code",
      "source": [
        "start = timer()\n",
        "data2 = df_name_basics_selected.join(df_title_principals_selected, \"nconst\", \"inner\")\n",
        "print(\"df_name_basics_selected and df_title_principals_selected joined table size: \", (data2.count(), len(data2.columns)))\n",
        "data2 = data2.join(df_title_basic_selected, \"tconst\", \"left\")\n",
        "end = timer()\n",
        "print(\"joined table size: \", (data2.count(), len(data2.columns)), \"time of joining tables: \", end-start)"
      ],
      "metadata": {
        "id": "qOiMjG5H3X8S",
        "colab": {
          "base_uri": "https://localhost:8080/"
        },
        "outputId": "139ee338-9f6e-44cf-d021-69ed9c7193a2"
      },
      "execution_count": 12,
      "outputs": [
        {
          "output_type": "stream",
          "name": "stdout",
          "text": [
            "df_name_basics_selected and df_title_principals_selected joined table size:  (53092579, 8)\n",
            "joined table size:  (53092579, 12) time of joining tables:  95.3393988769999\n"
          ]
        }
      ]
    },
    {
      "cell_type": "code",
      "source": [
        "start = timer()\n",
        "data3 = df_name_basics_selected.join(df_title_principals_selected, \"nconst\", \"right\")\n",
        "print(\"df_name_basics_selected and df_title_principals_selected joined table size: \", (data3.count(), len(data3.columns)))\n",
        "data3 = data3.join(df_title_basic_selected, \"tconst\", \"inner\")\n",
        "end = timer()\n",
        "print(\"joined table size: \", (data3.count(), len(data3.columns)), \"time of joining tables: \", end-start)"
      ],
      "metadata": {
        "colab": {
          "base_uri": "https://localhost:8080/"
        },
        "id": "tw7iwQNeLp7T",
        "outputId": "90035fcd-35de-4dc1-f6b9-4cc12ab3f827"
      },
      "execution_count": 13,
      "outputs": [
        {
          "output_type": "stream",
          "name": "stdout",
          "text": [
            "df_name_basics_selected and df_title_principals_selected joined table size:  (53100409, 8)\n",
            "joined table size:  (53094038, 12) time of joining tables:  93.49155305000022\n"
          ]
        }
      ]
    },
    {
      "cell_type": "code",
      "source": [
        "start = timer()\n",
        "data4 = df_name_basics_selected.join(df_title_principals_selected, \"nconst\", \"right\")\n",
        "print(\"df_name_basics_selected and df_title_principals_selected joined table size: \", (data4.count(), len(data4.columns)))\n",
        "data4 = data4.join(df_title_basic_selected, \"tconst\", \"left\")\n",
        "end = timer()\n",
        "print(\"joined table size: \", (data4.count(), len(data4.columns)), \"time of joining tables: \", end-start)"
      ],
      "metadata": {
        "colab": {
          "base_uri": "https://localhost:8080/"
        },
        "id": "eW22PuBpL4mV",
        "outputId": "b4776003-9980-47c4-a7f6-fa0d958e5787"
      },
      "execution_count": 14,
      "outputs": [
        {
          "output_type": "stream",
          "name": "stdout",
          "text": [
            "df_name_basics_selected and df_title_principals_selected joined table size:  (53100409, 8)\n",
            "joined table size:  (53100409, 12) time of joining tables:  91.08722057499972\n"
          ]
        }
      ]
    },
    {
      "cell_type": "code",
      "source": [
        "start = timer()\n",
        "data5 = df_title_principals_selected.join(df_name_basics_selected, \"nconst\", \"inner\")\n",
        "print(\"df_title_principals_selected and df_name_basics_selected joined table size: \", (data5.count(), len(data5.columns)))\n",
        "data5 = data5.join(df_title_basic_selected, \"tconst\", \"inner\")\n",
        "end = timer()\n",
        "print(\"joined table size: \", (data5.count(), len(data5.columns)), \"time of joining tables: \", end-start)"
      ],
      "metadata": {
        "colab": {
          "base_uri": "https://localhost:8080/"
        },
        "id": "8HJWyohyMai8",
        "outputId": "a1b5de3b-aa8d-42ae-d1e0-7d54e44ed2c6"
      },
      "execution_count": 15,
      "outputs": [
        {
          "output_type": "stream",
          "name": "stdout",
          "text": [
            "df_title_principals_selected and df_name_basics_selected joined table size:  (53092579, 8)\n",
            "joined table size:  (53086246, 12) time of joining tables:  102.11611766800024\n"
          ]
        }
      ]
    },
    {
      "cell_type": "code",
      "source": [
        "start = timer()\n",
        "data6 = df_title_principals_selected.join(df_name_basics_selected, \"nconst\", \"inner\")\n",
        "print(\"df_title_principals_selected and df_name_basics_selected joined table size: \", (data6.count(), len(data6.columns)))\n",
        "data6 = data6.join(df_title_basic_selected, \"tconst\", \"left\")\n",
        "end = timer()\n",
        "print(\"joined table size: \", (data6.count(), len(data6.columns)), \"time of joining tables: \", end-start)"
      ],
      "metadata": {
        "colab": {
          "base_uri": "https://localhost:8080/"
        },
        "id": "1ws31f_zMy46",
        "outputId": "1aced137-e811-4e58-f1dd-e4a1ce3e4d4a"
      },
      "execution_count": 16,
      "outputs": [
        {
          "output_type": "stream",
          "name": "stdout",
          "text": [
            "df_title_principals_selected and df_name_basics_selected joined table size:  (53092579, 8)\n",
            "joined table size:  (53092579, 12) time of joining tables:  92.30456612099988\n"
          ]
        }
      ]
    },
    {
      "cell_type": "code",
      "source": [
        "start = timer()\n",
        "data7 = df_title_principals_selected.join(df_name_basics_selected, \"nconst\", \"left\")\n",
        "print(\"df_title_principals_selected and df_name_basics_selected joined table size: \", (data7.count(), len(data7.columns)))\n",
        "data7 = data7.join(df_title_basic_selected, \"tconst\", \"inner\")\n",
        "end = timer()\n",
        "print(\"joined table size: \", (data7.count(), len(data7.columns)), \"time of joining tables: \", end-start)"
      ],
      "metadata": {
        "colab": {
          "base_uri": "https://localhost:8080/"
        },
        "id": "PpJvsSrSM8TH",
        "outputId": "e8827093-e457-4808-8771-b782a7b18932"
      },
      "execution_count": 17,
      "outputs": [
        {
          "output_type": "stream",
          "name": "stdout",
          "text": [
            "df_title_principals_selected and df_name_basics_selected joined table size:  (53100409, 8)\n",
            "joined table size:  (53094038, 12) time of joining tables:  92.0158353959996\n"
          ]
        }
      ]
    },
    {
      "cell_type": "code",
      "source": [
        "start = timer()\n",
        "data8 = df_title_principals_selected.join(df_name_basics_selected, \"nconst\", \"left\")\n",
        "print(\"df_title_principals_selected and df_name_basics_selected joined table size: \", (data8.count(), len(data8.columns)))\n",
        "data8 = data8.join(df_title_basic_selected, \"tconst\", \"left\")\n",
        "end = timer()\n",
        "print(\"joined table size: \", (data8.count(), len(data8.columns)), \"time of joining tables: \", end-start)"
      ],
      "metadata": {
        "colab": {
          "base_uri": "https://localhost:8080/"
        },
        "id": "sIlahZLsM9yT",
        "outputId": "6fe920f8-e81d-4689-b16e-996e925d5be1"
      },
      "execution_count": 18,
      "outputs": [
        {
          "output_type": "stream",
          "name": "stdout",
          "text": [
            "df_title_principals_selected and df_name_basics_selected joined table size:  (53100409, 8)\n",
            "joined table size:  (53100409, 12) time of joining tables:  89.841880855\n"
          ]
        }
      ]
    },
    {
      "cell_type": "code",
      "source": [
        "start = timer()\n",
        "data9 = df_title_basic_selected.join(df_title_principals_selected, \"tconst\", \"inner\")\n",
        "print(\"df_title_basic_selected and df_title_principals_selected joined table size: \", (data9.count(), len(data9.columns)))\n",
        "data9 = data9.join(df_name_basics_selected, \"nconst\", \"inner\")\n",
        "end = timer()\n",
        "print(\"joined table size: \", (data9.count(), len(data9.columns)), \"time of joining tables: \", end-start)"
      ],
      "metadata": {
        "colab": {
          "base_uri": "https://localhost:8080/"
        },
        "id": "DRnYC4nlNgKU",
        "outputId": "d7571c86-3b68-4c2b-e4d6-867e52ce92d3"
      },
      "execution_count": 19,
      "outputs": [
        {
          "output_type": "stream",
          "name": "stdout",
          "text": [
            "df_title_basic_selected and df_title_principals_selected joined table size:  (53094038, 8)\n",
            "joined table size:  (53086246, 12) time of joining tables:  80.33504936500003\n"
          ]
        }
      ]
    },
    {
      "cell_type": "code",
      "source": [
        "start = timer()\n",
        "data10 = df_title_basic_selected.join(df_title_principals_selected, \"tconst\", \"inner\")\n",
        "print(\"df_title_basic_selected and df_title_principals_selected joined table size: \", (data10.count(), len(data10.columns)))\n",
        "data10 = data10.join(df_name_basics_selected, \"nconst\", \"left\")\n",
        "end = timer()\n",
        "print(\"joined table size: \", (data10.count(), len(data10.columns)), \"time of joining tables: \", end-start)"
      ],
      "metadata": {
        "colab": {
          "base_uri": "https://localhost:8080/"
        },
        "id": "n-bQnvlvOvom",
        "outputId": "d81c1039-6fe9-4981-b609-20e3d7713ccc"
      },
      "execution_count": 20,
      "outputs": [
        {
          "output_type": "stream",
          "name": "stdout",
          "text": [
            "df_title_basic_selected and df_title_principals_selected joined table size:  (53094038, 8)\n",
            "joined table size:  (53094038, 12) time of joining tables:  79.50506735700037\n"
          ]
        }
      ]
    },
    {
      "cell_type": "code",
      "source": [
        "start = timer()\n",
        "data11 = df_title_basic_selected.join(df_title_principals_selected, \"tconst\", \"right\")\n",
        "print(\"df_title_basic_selected and df_title_principals_selected joined table size: \", (data11.count(), len(data11.columns)))\n",
        "data11 = data11.join(df_name_basics_selected, \"nconst\", \"inner\")\n",
        "end = timer()\n",
        "print(\"joined table size: \", (data11.count(), len(data11.columns)), \"time of joining tables: \", end-start)"
      ],
      "metadata": {
        "colab": {
          "base_uri": "https://localhost:8080/"
        },
        "id": "Xqr9ecljO14b",
        "outputId": "972397b4-6c93-4666-89ae-945c1a4214e2"
      },
      "execution_count": 21,
      "outputs": [
        {
          "output_type": "stream",
          "name": "stdout",
          "text": [
            "df_title_basic_selected and df_title_principals_selected joined table size:  (53100409, 8)\n",
            "joined table size:  (53092579, 12) time of joining tables:  78.15886678799961\n"
          ]
        }
      ]
    },
    {
      "cell_type": "code",
      "source": [
        "start = timer()\n",
        "data12 = df_title_basic_selected.join(df_title_principals_selected, \"tconst\", \"right\")\n",
        "print(\"df_title_basic_selected and df_title_principals_selected joined table size: \", (data12.count(), len(data12.columns)))\n",
        "data12 = data12.join(df_name_basics_selected, \"nconst\", \"left\")\n",
        "end = timer()\n",
        "print(\"joined table size: \", (data12.count(), len(data12.columns)), \"time of joining tables: \", end-start)"
      ],
      "metadata": {
        "colab": {
          "base_uri": "https://localhost:8080/"
        },
        "id": "79J3h9UPPEqY",
        "outputId": "68efe3e7-4282-4a1f-ac97-86f820a7ecfb"
      },
      "execution_count": 22,
      "outputs": [
        {
          "output_type": "stream",
          "name": "stdout",
          "text": [
            "df_title_basic_selected and df_title_principals_selected joined table size:  (53100409, 8)\n",
            "joined table size:  (53100409, 12) time of joining tables:  79.75223640900003\n"
          ]
        }
      ]
    },
    {
      "cell_type": "code",
      "source": [
        "start = timer()\n",
        "data13 = df_title_principals_selected.join(df_title_basic_selected, \"tconst\", \"inner\")\n",
        "print(\"df_title_principals_selected and df_title_basic_selected joined table size: \", (data13.count(), len(data13.columns)))\n",
        "data13 = data13.join(df_name_basics_selected, \"nconst\", \"inner\")\n",
        "end = timer()\n",
        "print(\"joined table size: \", (data13.count(), len(data13.columns)), \"time of joining tables: \", end-start)"
      ],
      "metadata": {
        "colab": {
          "base_uri": "https://localhost:8080/"
        },
        "id": "8BKljYgKPta_",
        "outputId": "46b9b21f-dbc5-4c36-de1d-ab7a31ce7844"
      },
      "execution_count": 23,
      "outputs": [
        {
          "output_type": "stream",
          "name": "stdout",
          "text": [
            "df_title_principals_selected and df_title_basic_selected joined table size:  (53094038, 8)\n",
            "joined table size:  (53086246, 12) time of joining tables:  77.75515627999994\n"
          ]
        }
      ]
    },
    {
      "cell_type": "code",
      "source": [
        "start = timer()\n",
        "data14 = df_title_principals_selected.join(df_title_basic_selected, \"tconst\", \"inner\")\n",
        "print(\"df_title_principals_selected and df_title_basic_selected joined table size: \", (data14.count(), len(data14.columns)))\n",
        "data14 = data14.join(df_name_basics_selected, \"nconst\", \"left\")\n",
        "end = timer()\n",
        "print(\"joined table size: \", (data14.count(), len(data14.columns)), \"time of joining tables: \", end-start)"
      ],
      "metadata": {
        "colab": {
          "base_uri": "https://localhost:8080/"
        },
        "id": "XT3hWjCEP2ES",
        "outputId": "026e068c-0a2e-4c14-bae3-0c63e3fa3406"
      },
      "execution_count": 24,
      "outputs": [
        {
          "output_type": "stream",
          "name": "stdout",
          "text": [
            "df_title_principals_selected and df_title_basic_selected joined table size:  (53094038, 8)\n",
            "joined table size:  (53094038, 12) time of joining tables:  77.19903446900025\n"
          ]
        }
      ]
    },
    {
      "cell_type": "code",
      "source": [
        "start = timer()\n",
        "data15 = df_title_principals_selected.join(df_title_basic_selected, \"tconst\", \"left\")\n",
        "print(\"df_title_principals_selected and df_title_basic_selected joined table size: \", (data15.count(), len(data15.columns)))\n",
        "data15 = data15.join(df_name_basics_selected, \"nconst\", \"inner\")\n",
        "end = timer()\n",
        "print(\"joined table size: \", (data15.count(), len(data15.columns)), \"time of joining tables: \", end-start)"
      ],
      "metadata": {
        "colab": {
          "base_uri": "https://localhost:8080/"
        },
        "id": "sy7gKBrHP4W-",
        "outputId": "bcfb6d26-4b9e-4319-b227-269a963ba147"
      },
      "execution_count": 25,
      "outputs": [
        {
          "output_type": "stream",
          "name": "stdout",
          "text": [
            "df_title_principals_selected and df_title_basic_selected joined table size:  (53100409, 8)\n",
            "joined table size:  (53092579, 12) time of joining tables:  83.26864368799943\n"
          ]
        }
      ]
    },
    {
      "cell_type": "code",
      "source": [
        "start = timer()\n",
        "data16 = df_title_principals_selected.join(df_title_basic_selected, \"tconst\", \"left\")\n",
        "print(\"df_title_principals_selected and df_title_basic_selected joined table size: \", (data16.count(), len(data16.columns)))\n",
        "data16 = data16.join(df_name_basics_selected, \"nconst\", \"left\")\n",
        "end = timer()\n",
        "print(\"joined table size: \", (data16.count(), len(data16.columns)), \"time of joining tables: \", end-start)"
      ],
      "metadata": {
        "colab": {
          "base_uri": "https://localhost:8080/"
        },
        "id": "eS5DUliMP7Ht",
        "outputId": "c470abbd-be75-40d0-c090-0c14f63d57e3"
      },
      "execution_count": 26,
      "outputs": [
        {
          "output_type": "stream",
          "name": "stdout",
          "text": [
            "df_title_principals_selected and df_title_basic_selected joined table size:  (53100409, 8)\n",
            "joined table size:  (53100409, 12) time of joining tables:  79.86181255200063\n"
          ]
        }
      ]
    },
    {
      "cell_type": "markdown",
      "source": [
        "---------------------------------------------------------------------------------------------------"
      ],
      "metadata": {
        "id": "GV4TDbUCRg4B"
      }
    },
    {
      "cell_type": "code",
      "source": [
        "df_name_basics = df_name_basics.filter(\"primaryProfession like '%actor%' or primaryProfession like '%actress%'\")\n",
        "df_name_basics_selected = df_name_basics.select([\"nconst\", \"primaryName\", \"birthYear\", \"deathYear\", \"knownForTitles\"])\n",
        "df_title_principals_selected = df_title_principals_selected.filter((df_title_principals_selected.category == \"actor\") | (df_title_principals_selected.category == \"actress\"))"
      ],
      "metadata": {
        "id": "nuhNQ3YAOh6u"
      },
      "execution_count": 27,
      "outputs": []
    },
    {
      "cell_type": "code",
      "source": [
        "start = timer()\n",
        "data1 = df_name_basics_selected.join(df_title_principals_selected, \"nconst\", \"inner\")\n",
        "print(\"df_name_basics_selected and df_title_principals_selected joined table size: \", (data1.count(), len(data1.columns)))\n",
        "data1 = data1.join(df_title_basic_selected, \"tconst\", \"inner\")\n",
        "end = timer()\n",
        "print(\"joined table size: \", (data1.count(), len(data1.columns)), \"time of joining tables: \", end-start)"
      ],
      "metadata": {
        "colab": {
          "base_uri": "https://localhost:8080/"
        },
        "id": "QcXxZ58gReWa",
        "outputId": "f7dfff18-adb6-48dc-c4e3-d4e8026d2250"
      },
      "execution_count": 28,
      "outputs": [
        {
          "output_type": "stream",
          "name": "stdout",
          "text": [
            "df_name_basics_selected and df_title_principals_selected joined table size:  (20160298, 8)\n",
            "joined table size:  (20156715, 12) time of joining tables:  69.4937123210002\n"
          ]
        }
      ]
    },
    {
      "cell_type": "code",
      "source": [
        "start = timer()\n",
        "data2 = df_name_basics_selected.join(df_title_principals_selected, \"nconst\", \"inner\")\n",
        "print(\"df_name_basics_selected and df_title_principals_selected joined table size: \", (data2.count(), len(data2.columns)))\n",
        "data2 = data2.join(df_title_basic_selected, \"tconst\", \"left\")\n",
        "end = timer()\n",
        "print(\"joined table size: \", (data2.count(), len(data2.columns)), \"time of joining tables: \", end-start)"
      ],
      "metadata": {
        "colab": {
          "base_uri": "https://localhost:8080/"
        },
        "id": "L2KmnzMWRoFK",
        "outputId": "2a2bcb14-9bd4-4ea7-f3d8-a3ffb5bb61db"
      },
      "execution_count": 29,
      "outputs": [
        {
          "output_type": "stream",
          "name": "stdout",
          "text": [
            "df_name_basics_selected and df_title_principals_selected joined table size:  (20160298, 8)\n",
            "joined table size:  (20160298, 12) time of joining tables:  69.72700742399957\n"
          ]
        }
      ]
    },
    {
      "cell_type": "code",
      "source": [
        "start = timer()\n",
        "data3 = df_name_basics_selected.join(df_title_principals_selected, \"nconst\", \"right\")\n",
        "print(\"df_name_basics_selected and df_title_principals_selected joined table size: \", (data3.count(), len(data3.columns)))\n",
        "data3 = data3.join(df_title_basic_selected, \"tconst\", \"inner\")\n",
        "end = timer()\n",
        "print(\"joined table size: \", (data3.count(), len(data3.columns)), \"time of joining tables: \", end-start)"
      ],
      "metadata": {
        "colab": {
          "base_uri": "https://localhost:8080/"
        },
        "id": "NeuNdK8zRrQd",
        "outputId": "2c779a27-2f48-401c-f89e-e434751f5a3b"
      },
      "execution_count": null,
      "outputs": [
        {
          "output_type": "stream",
          "name": "stdout",
          "text": [
            "df_name_basics_selected and df_title_principals_selected joined table size:  (20783276, 8)\n"
          ]
        }
      ]
    },
    {
      "cell_type": "code",
      "source": [
        "start = timer()\n",
        "data4 = df_name_basics_selected.join(df_title_principals_selected, \"nconst\", \"right\")\n",
        "print(\"df_name_basics_selected and df_title_principals_selected joined table size: \", (data4.count(), len(data4.columns)))\n",
        "data4 = data4.join(df_title_basic_selected, \"tconst\", \"left\")\n",
        "end = timer()\n",
        "print(\"joined table size: \", (data4.count(), len(data4.columns)), \"time of joining tables: \", end-start)"
      ],
      "metadata": {
        "id": "UgoaQREvRuao"
      },
      "execution_count": null,
      "outputs": []
    },
    {
      "cell_type": "code",
      "source": [
        "start = timer()\n",
        "data5 = df_title_principals_selected.join(df_name_basics_selected, \"nconst\", \"inner\")\n",
        "print(\"df_title_principals_selected and df_name_basics_selected joined table size: \", (data5.count(), len(data5.columns)))\n",
        "data5 = data5.join(df_title_basic_selected, \"tconst\", \"inner\")\n",
        "end = timer()\n",
        "print(\"joined table size: \", (data5.count(), len(data5.columns)), \"time of joining tables: \", end-start)"
      ],
      "metadata": {
        "id": "L1tj0bvbRxAa"
      },
      "execution_count": null,
      "outputs": []
    },
    {
      "cell_type": "code",
      "source": [
        "start = timer()\n",
        "data6 = df_title_principals_selected.join(df_name_basics_selected, \"nconst\", \"inner\")\n",
        "print(\"df_title_principals_selected and df_name_basics_selected joined table size: \", (data6.count(), len(data6.columns)))\n",
        "data6 = data6.join(df_title_basic_selected, \"tconst\", \"left\")\n",
        "end = timer()\n",
        "print(\"joined table size: \", (data6.count(), len(data6.columns)), \"time of joining tables: \", end-start)"
      ],
      "metadata": {
        "id": "OnZqhsRdR0Ht"
      },
      "execution_count": null,
      "outputs": []
    },
    {
      "cell_type": "code",
      "source": [
        "start = timer()\n",
        "data7 = df_title_principals_selected.join(df_name_basics_selected, \"nconst\", \"left\")\n",
        "print(\"df_title_principals_selected and df_name_basics_selected joined table size: \", (data7.count(), len(data7.columns)))\n",
        "data7 = data7.join(df_title_basic_selected, \"tconst\", \"inner\")\n",
        "end = timer()\n",
        "print(\"joined table size: \", (data7.count(), len(data7.columns)), \"time of joining tables: \", end-start)"
      ],
      "metadata": {
        "id": "gCmSaja_R3sa"
      },
      "execution_count": null,
      "outputs": []
    },
    {
      "cell_type": "code",
      "source": [
        "start = timer()\n",
        "data8 = df_title_principals_selected.join(df_name_basics_selected, \"nconst\", \"left\")\n",
        "print(\"df_title_principals_selected and df_name_basics_selected joined table size: \", (data8.count(), len(data8.columns)))\n",
        "data8 = data8.join(df_title_basic_selected, \"tconst\", \"left\")\n",
        "end = timer()\n",
        "print(\"joined table size: \", (data8.count(), len(data8.columns)), \"time of joining tables: \", end-start)"
      ],
      "metadata": {
        "id": "TrwLLFcrR7OG"
      },
      "execution_count": null,
      "outputs": []
    },
    {
      "cell_type": "code",
      "source": [
        "start = timer()\n",
        "data9 = df_title_basic_selected.join(df_title_principals_selected, \"tconst\", \"inner\")\n",
        "print(\"df_title_basic_selected and df_title_principals_selected joined table size: \", (data9.count(), len(data9.columns)))\n",
        "data9 = data9.join(df_name_basics_selected, \"nconst\", \"inner\")\n",
        "end = timer()\n",
        "print(\"joined table size: \", (data9.count(), len(data9.columns)), \"time of joining tables: \", end-start)"
      ],
      "metadata": {
        "id": "Yxv527kQR-a_"
      },
      "execution_count": null,
      "outputs": []
    },
    {
      "cell_type": "code",
      "source": [
        "start = timer()\n",
        "data10 = df_title_basic_selected.join(df_title_principals_selected, \"tconst\", \"inner\")\n",
        "print(\"df_title_basic_selected and df_title_principals_selected joined table size: \", (data10.count(), len(data10.columns)))\n",
        "data10 = data10.join(df_name_basics_selected, \"nconst\", \"left\")\n",
        "end = timer()\n",
        "print(\"joined table size: \", (data10.count(), len(data10.columns)), \"time of joining tables: \", end-start)"
      ],
      "metadata": {
        "id": "3DXbwEw7SBhw"
      },
      "execution_count": null,
      "outputs": []
    },
    {
      "cell_type": "code",
      "source": [
        "start = timer()\n",
        "data11 = df_title_basic_selected.join(df_title_principals_selected, \"tconst\", \"right\")\n",
        "print(\"df_title_basic_selected and df_title_principals_selected joined table size: \", (data11.count(), len(data11.columns)))\n",
        "data11 = data11.join(df_name_basics_selected, \"nconst\", \"inner\")\n",
        "end = timer()\n",
        "print(\"joined table size: \", (data11.count(), len(data11.columns)), \"time of joining tables: \", end-start)"
      ],
      "metadata": {
        "id": "vHyGoIQ6SE9Y"
      },
      "execution_count": null,
      "outputs": []
    },
    {
      "cell_type": "code",
      "source": [
        "start = timer()\n",
        "data12 = df_title_basic_selected.join(df_title_principals_selected, \"tconst\", \"right\")\n",
        "print(\"df_title_basic_selected and df_title_principals_selected joined table size: \", (data12.count(), len(data12.columns)))\n",
        "data12 = data12.join(df_name_basics_selected, \"nconst\", \"left\")\n",
        "end = timer()\n",
        "print(\"joined table size: \", (data12.count(), len(data12.columns)), \"time of joining tables: \", end-start)"
      ],
      "metadata": {
        "id": "SyunVzUySHve"
      },
      "execution_count": null,
      "outputs": []
    },
    {
      "cell_type": "code",
      "source": [
        "start = timer()\n",
        "data13 = df_title_principals_selected.join(df_title_basic_selected, \"tconst\", \"inner\")\n",
        "print(\"df_title_principals_selected and df_title_basic_selected joined table size: \", (data13.count(), len(data13.columns)))\n",
        "data13 = data13.join(df_name_basics_selected, \"nconst\", \"inner\")\n",
        "end = timer()\n",
        "print(\"joined table size: \", (data13.count(), len(data13.columns)), \"time of joining tables: \", end-start)"
      ],
      "metadata": {
        "id": "uGlaI6jUSKXZ"
      },
      "execution_count": null,
      "outputs": []
    },
    {
      "cell_type": "code",
      "source": [
        "start = timer()\n",
        "data14 = df_title_principals_selected.join(df_title_basic_selected, \"tconst\", \"inner\")\n",
        "print(\"df_title_principals_selected and df_title_basic_selected joined table size: \", (data14.count(), len(data14.columns)))\n",
        "data14 = data14.join(df_name_basics_selected, \"nconst\", \"left\")\n",
        "end = timer()\n",
        "print(\"joined table size: \", (data14.count(), len(data14.columns)), \"time of joining tables: \", end-start)"
      ],
      "metadata": {
        "id": "QFl-nEfMSNKO"
      },
      "execution_count": null,
      "outputs": []
    },
    {
      "cell_type": "code",
      "source": [
        "start = timer()\n",
        "data15 = df_title_principals_selected.join(df_title_basic_selected, \"tconst\", \"left\")\n",
        "print(\"df_title_principals_selected and df_title_basic_selected joined table size: \", (data15.count(), len(data15.columns)))\n",
        "data15 = data15.join(df_name_basics_selected, \"nconst\", \"inner\")\n",
        "end = timer()\n",
        "print(\"joined table size: \", (data15.count(), len(data15.columns)), \"time of joining tables: \", end-start)"
      ],
      "metadata": {
        "id": "TyuoSVXrSP6u"
      },
      "execution_count": null,
      "outputs": []
    },
    {
      "cell_type": "code",
      "source": [
        "start = timer()\n",
        "data16 = df_title_principals_selected.join(df_title_basic_selected, \"tconst\", \"left\")\n",
        "print(\"df_title_principals_selected and df_title_basic_selected joined table size: \", (data16.count(), len(data16.columns)))\n",
        "data16 = data16.join(df_name_basics_selected, \"nconst\", \"left\")\n",
        "end = timer()\n",
        "print(\"joined table size: \", (data16.count(), len(data16.columns)), \"time of joining tables: \", end-start)"
      ],
      "metadata": {
        "id": "_PI46FTBSSt8"
      },
      "execution_count": null,
      "outputs": []
    },
    {
      "cell_type": "markdown",
      "source": [
        "------------------------------------------------------------------------------------------------"
      ],
      "metadata": {
        "id": "VTHMpn8vQKLE"
      }
    },
    {
      "cell_type": "code",
      "source": [
        "print(data9.filter(data9.primaryName.isNull()).count())\n",
        "print(data9.filter(data9.category.isNull()).count())\n",
        "print(data9.filter(data9.genres.isNull()).count())"
      ],
      "metadata": {
        "id": "1mMpJLYwQL7d"
      },
      "execution_count": null,
      "outputs": []
    },
    {
      "cell_type": "code",
      "source": [
        "print(data11.filter(data11.primaryName.isNull()).count())\n",
        "print(data11.filter(data11.category.isNull()).count())\n",
        "print(data11.filter(data11.genres.isNull()).count())"
      ],
      "metadata": {
        "id": "YFBmjRqdTucp"
      },
      "execution_count": null,
      "outputs": []
    },
    {
      "cell_type": "code",
      "source": [
        "print(data12.filter(data12.primaryName.isNull()).count())\n",
        "print(data12.filter(data12.category.isNull()).count())\n",
        "print(data12.filter(data12.genres.isNull()).count())"
      ],
      "metadata": {
        "id": "trV817EpTOEz"
      },
      "execution_count": null,
      "outputs": []
    },
    {
      "cell_type": "code",
      "source": [
        "print(data13.filter(data13.primaryName.isNull()).count())\n",
        "print(data13.filter(data13.category.isNull()).count())\n",
        "print(data13.filter(data13.genres.isNull()).count())"
      ],
      "metadata": {
        "id": "bzPRakvsTVx9"
      },
      "execution_count": null,
      "outputs": []
    },
    {
      "cell_type": "code",
      "source": [
        "print(data14.filter(data14.primaryName.isNull()).count())\n",
        "print(data14.filter(data14.category.isNull()).count())\n",
        "print(data14.filter(data14.genres.isNull()).count())"
      ],
      "metadata": {
        "id": "RlDgwFVcT2WX"
      },
      "execution_count": null,
      "outputs": []
    },
    {
      "cell_type": "code",
      "source": [
        "print(data15.filter(data15.primaryName.isNull()).count())\n",
        "print(data15.filter(data15.category.isNull()).count())\n",
        "print(data15.filter(data15.genres.isNull()).count())"
      ],
      "metadata": {
        "id": "xhw7OJ6UTdKE"
      },
      "execution_count": null,
      "outputs": []
    },
    {
      "cell_type": "code",
      "source": [
        "print(data16.filter(data16.primaryName.isNull()).count())\n",
        "print(data16.filter(data16.category.isNull()).count())\n",
        "print(data16.filter(data16.genres.isNull()).count())"
      ],
      "metadata": {
        "id": "RAzJjQchTjI4"
      },
      "execution_count": null,
      "outputs": []
    },
    {
      "cell_type": "markdown",
      "source": [
        "Tutaj za każdym razem wychodzą różne wyniki, dlatego ciężko stwierdzić, który sposób łączenia danych jest najszybszy, jednak zauważamy, że jedynie dwa sposoby (\"inner\" i \"left\") dają odpowiednie dane, gdyż otrzymujemy wtedy dane o aktorach z pełnymi danymi personalnymi bez zbędnych wierszy nieprzypisanych do żadnego imienia i nazwiska."
      ],
      "metadata": {
        "id": "ZIR-r7kX9z9T"
      }
    },
    {
      "cell_type": "code",
      "source": [
        "print(\"df_name_basics_selected dataframe size: \", (df_name_basics_selected.count(), len(df_name_basics_selected.columns)))\n",
        "print(\"df_title_principals_selected dataframe size: \", (df_title_principals_selected.count(), len(df_title_principals_selected.columns)))\n",
        "print(\"df_title_basic_selected dataframe size: \", (df_title_basic_selected.count(), len(df_title_basic_selected.columns)))\n",
        "data = df_name_basics_selected.join(df_title_principals_selected, \"nconst\", \"inner\")\n",
        "print(\"joined dataframe size: \", (data.count(), len(data.columns)))\n",
        "data = data.join(df_title_basic_selected, \"tconst\", \"left\")\n",
        "print(\"joined dataframe size: \", (data.count(), len(data.columns)))"
      ],
      "metadata": {
        "id": "zMqqAJ7zBJWL"
      },
      "execution_count": null,
      "outputs": []
    },
    {
      "cell_type": "markdown",
      "source": [
        "# Wybierzmy przykładowe wiersze z końcowego dataframe'u"
      ],
      "metadata": {
        "id": "hKXuX-JdE9ED"
      }
    },
    {
      "cell_type": "code",
      "source": [
        "sample = data.rdd.takeSample(False, 5)"
      ],
      "metadata": {
        "id": "bH43D49EE84F"
      },
      "execution_count": null,
      "outputs": []
    },
    {
      "cell_type": "code",
      "source": [
        "import pandas as pd\n",
        "sample = pd.DataFrame(sample, columns = data.columns)\n",
        "sample"
      ],
      "metadata": {
        "id": "kW8-_TXYLo10"
      },
      "execution_count": null,
      "outputs": []
    }
  ]
}