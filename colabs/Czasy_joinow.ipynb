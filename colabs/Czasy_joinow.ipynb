{
  "nbformat": 4,
  "nbformat_minor": 0,
  "metadata": {
    "colab": {
      "provenance": [],
      "collapsed_sections": [
        "kgYZYlTutA0O",
        "or9x68JxXc10",
        "pPWxy5j_aEvo",
        "s-hzkKehxgnQ",
        "snoopt7lY71j"
      ],
      "include_colab_link": true
    },
    "kernelspec": {
      "name": "python3",
      "display_name": "Python 3"
    },
    "language_info": {
      "name": "python"
    }
  },
  "cells": [
    {
      "cell_type": "markdown",
      "metadata": {
        "id": "view-in-github",
        "colab_type": "text"
      },
      "source": [
        "<a href=\"https://colab.research.google.com/github/PiotrMaciejKowalski/BigData2022-actors/blob/czasy-joinow/colabs/Czasy_joinow.ipynb\" target=\"_parent\"><img src=\"https://colab.research.google.com/assets/colab-badge.svg\" alt=\"Open In Colab\"/></a>"
      ]
    },
    {
      "cell_type": "markdown",
      "source": [
        "#Setup sparka"
      ],
      "metadata": {
        "id": "Vzb444kPW31g"
      }
    },
    {
      "cell_type": "markdown",
      "source": [
        "##Setup sparka"
      ],
      "metadata": {
        "id": "Ny5PYKNbsHju"
      }
    },
    {
      "cell_type": "code",
      "source": [
        "!pip install pyspark py4j\n",
        "!pip install -q findspark\n",
        "!apt-get install openjdk-8-jdk-headless -qq > /dev/null\n",
        "!wget ftp://ftp.ps.pl/pub/apache/spark/spark-3.3.1/spark-3.3.1-bin-hadoop2.tgz\n",
        "!tar xf spark-3.3.1-bin-hadoop2.tgz"
      ],
      "metadata": {
        "colab": {
          "base_uri": "https://localhost:8080/"
        },
        "id": "UxTbMYkeLrk6",
        "outputId": "0eaa88be-c184-4a45-fcab-6cb66256f6c1"
      },
      "execution_count": 1,
      "outputs": [
        {
          "output_type": "stream",
          "name": "stdout",
          "text": [
            "Looking in indexes: https://pypi.org/simple, https://us-python.pkg.dev/colab-wheels/public/simple/\n",
            "Requirement already satisfied: pyspark in /usr/local/lib/python3.7/dist-packages (3.3.1)\n",
            "Requirement already satisfied: py4j in /usr/local/lib/python3.7/dist-packages (0.10.9.5)\n",
            "--2022-11-22 23:16:49--  ftp://ftp.ps.pl/pub/apache/spark/spark-3.3.1/spark-3.3.1-bin-hadoop2.tgz\n",
            "           => ‘spark-3.3.1-bin-hadoop2.tgz.1’\n",
            "Resolving ftp.ps.pl (ftp.ps.pl)... 212.14.28.36, 2001:4c58:62:2::36\n",
            "Connecting to ftp.ps.pl (ftp.ps.pl)|212.14.28.36|:21... connected.\n",
            "Logging in as anonymous ... Logged in!\n",
            "==> SYST ... done.    ==> PWD ... done.\n",
            "==> TYPE I ... done.  ==> CWD (1) /pub/apache/spark/spark-3.3.1 ... done.\n",
            "==> SIZE spark-3.3.1-bin-hadoop2.tgz ... 274099817\n",
            "==> PASV ... done.    ==> RETR spark-3.3.1-bin-hadoop2.tgz ... done.\n",
            "Length: 274099817 (261M) (unauthoritative)\n",
            "\n",
            "spark-3.3.1-bin-had 100%[===================>] 261.40M  22.0MB/s    in 12s     \n",
            "\n",
            "2022-11-22 23:17:06 (21.0 MB/s) - ‘spark-3.3.1-bin-hadoop2.tgz.1’ saved [274099817]\n",
            "\n"
          ]
        }
      ]
    },
    {
      "cell_type": "code",
      "source": [
        "import pyspark\n",
        "import findspark\n",
        "from pyspark.sql import SparkSession\n",
        "import os"
      ],
      "metadata": {
        "id": "g_c507iBLsSW"
      },
      "execution_count": 2,
      "outputs": []
    },
    {
      "cell_type": "code",
      "source": [
        "os.environ[\"JAVA_HOME\"] = \"/usr/lib/jvm/java-8-openjdk-amd64\"\n",
        "os.environ[\"SPARK_HOME\"] = \"/content/spark-3.3.1-bin-hadoop2\"\n",
        "spark=SparkSession.builder.appName('Colab').getOrCreate()\n",
        "spark"
      ],
      "metadata": {
        "id": "1rwBnBMwW88n",
        "outputId": "dacadf2e-5edb-46cc-cf22-7e994f9d2def",
        "colab": {
          "base_uri": "https://localhost:8080/",
          "height": 219
        }
      },
      "execution_count": 3,
      "outputs": [
        {
          "output_type": "execute_result",
          "data": {
            "text/plain": [
              "<pyspark.sql.session.SparkSession at 0x7f15f2e6a710>"
            ],
            "text/html": [
              "\n",
              "            <div>\n",
              "                <p><b>SparkSession - in-memory</b></p>\n",
              "                \n",
              "        <div>\n",
              "            <p><b>SparkContext</b></p>\n",
              "\n",
              "            <p><a href=\"http://ea9bd8d610ee:4040\">Spark UI</a></p>\n",
              "\n",
              "            <dl>\n",
              "              <dt>Version</dt>\n",
              "                <dd><code>v3.3.1</code></dd>\n",
              "              <dt>Master</dt>\n",
              "                <dd><code>local[*]</code></dd>\n",
              "              <dt>AppName</dt>\n",
              "                <dd><code>Colab</code></dd>\n",
              "            </dl>\n",
              "        </div>\n",
              "        \n",
              "            </div>\n",
              "        "
            ]
          },
          "metadata": {},
          "execution_count": 3
        }
      ]
    },
    {
      "cell_type": "markdown",
      "source": [
        "#Pobranie danych"
      ],
      "metadata": {
        "id": "p0l3OAblXJ2w"
      }
    },
    {
      "cell_type": "markdown",
      "source": [
        "##Import danych"
      ],
      "metadata": {
        "id": "kgYZYlTutA0O"
      }
    },
    {
      "cell_type": "code",
      "source": [
        "!wget https://datasets.imdbws.com/name.basics.tsv.gz\n",
        "!wget https://datasets.imdbws.com/title.akas.tsv.gz\n",
        "!wget https://datasets.imdbws.com/title.basics.tsv.gz\n",
        "!wget https://datasets.imdbws.com/title.crew.tsv.gz\n",
        "!wget https://datasets.imdbws.com/title.episode.tsv.gz\n",
        "!wget https://datasets.imdbws.com/title.principals.tsv.gz\n",
        "!wget https://datasets.imdbws.com/title.ratings.tsv.gz"
      ],
      "metadata": {
        "id": "SciXhN5JXONa",
        "colab": {
          "base_uri": "https://localhost:8080/"
        },
        "outputId": "560bc6e2-4c1e-4296-d830-0bf2a24cdcdb"
      },
      "execution_count": 4,
      "outputs": [
        {
          "output_type": "stream",
          "name": "stdout",
          "text": [
            "--2022-11-22 23:17:43--  https://datasets.imdbws.com/name.basics.tsv.gz\n",
            "Resolving datasets.imdbws.com (datasets.imdbws.com)... 13.249.98.35, 13.249.98.61, 13.249.98.73, ...\n",
            "Connecting to datasets.imdbws.com (datasets.imdbws.com)|13.249.98.35|:443... connected.\n",
            "HTTP request sent, awaiting response... 200 OK\n",
            "Length: 236745635 (226M) [binary/octet-stream]\n",
            "Saving to: ‘name.basics.tsv.gz.1’\n",
            "\n",
            "name.basics.tsv.gz. 100%[===================>] 225.78M  71.7MB/s    in 3.5s    \n",
            "\n",
            "2022-11-22 23:17:47 (63.7 MB/s) - ‘name.basics.tsv.gz.1’ saved [236745635/236745635]\n",
            "\n",
            "--2022-11-22 23:17:47--  https://datasets.imdbws.com/title.akas.tsv.gz\n",
            "Resolving datasets.imdbws.com (datasets.imdbws.com)... 13.249.98.35, 13.249.98.61, 13.249.98.73, ...\n",
            "Connecting to datasets.imdbws.com (datasets.imdbws.com)|13.249.98.35|:443... connected.\n",
            "HTTP request sent, awaiting response... 200 OK\n",
            "Length: 288222028 (275M) [binary/octet-stream]\n",
            "Saving to: ‘title.akas.tsv.gz.1’\n",
            "\n",
            "title.akas.tsv.gz.1 100%[===================>] 274.87M  69.8MB/s    in 4.7s    \n",
            "\n",
            "2022-11-22 23:17:52 (58.2 MB/s) - ‘title.akas.tsv.gz.1’ saved [288222028/288222028]\n",
            "\n",
            "--2022-11-22 23:17:52--  https://datasets.imdbws.com/title.basics.tsv.gz\n",
            "Resolving datasets.imdbws.com (datasets.imdbws.com)... 13.249.98.35, 13.249.98.61, 13.249.98.73, ...\n",
            "Connecting to datasets.imdbws.com (datasets.imdbws.com)|13.249.98.35|:443... connected.\n",
            "HTTP request sent, awaiting response... 200 OK\n",
            "Length: 164130653 (157M) [binary/octet-stream]\n",
            "Saving to: ‘title.basics.tsv.gz.1’\n",
            "\n",
            "title.basics.tsv.gz 100%[===================>] 156.53M  52.6MB/s    in 3.0s    \n",
            "\n",
            "2022-11-22 23:17:55 (52.6 MB/s) - ‘title.basics.tsv.gz.1’ saved [164130653/164130653]\n",
            "\n",
            "--2022-11-22 23:17:55--  https://datasets.imdbws.com/title.crew.tsv.gz\n",
            "Resolving datasets.imdbws.com (datasets.imdbws.com)... 13.249.98.35, 13.249.98.61, 13.249.98.73, ...\n",
            "Connecting to datasets.imdbws.com (datasets.imdbws.com)|13.249.98.35|:443... connected.\n",
            "HTTP request sent, awaiting response... 200 OK\n",
            "Length: 62993529 (60M) [binary/octet-stream]\n",
            "Saving to: ‘title.crew.tsv.gz.1’\n",
            "\n",
            "title.crew.tsv.gz.1 100%[===================>]  60.08M  29.7MB/s    in 2.0s    \n",
            "\n",
            "2022-11-22 23:17:57 (29.7 MB/s) - ‘title.crew.tsv.gz.1’ saved [62993529/62993529]\n",
            "\n",
            "--2022-11-22 23:17:57--  https://datasets.imdbws.com/title.episode.tsv.gz\n",
            "Resolving datasets.imdbws.com (datasets.imdbws.com)... 13.249.98.35, 13.249.98.61, 13.249.98.73, ...\n",
            "Connecting to datasets.imdbws.com (datasets.imdbws.com)|13.249.98.35|:443... connected.\n",
            "HTTP request sent, awaiting response... 200 OK\n",
            "Length: 38604682 (37M) [binary/octet-stream]\n",
            "Saving to: ‘title.episode.tsv.gz.1’\n",
            "\n",
            "title.episode.tsv.g 100%[===================>]  36.82M  51.8MB/s    in 0.7s    \n",
            "\n",
            "2022-11-22 23:17:58 (51.8 MB/s) - ‘title.episode.tsv.gz.1’ saved [38604682/38604682]\n",
            "\n",
            "--2022-11-22 23:17:59--  https://datasets.imdbws.com/title.principals.tsv.gz\n",
            "Resolving datasets.imdbws.com (datasets.imdbws.com)... 13.249.98.35, 13.249.98.61, 13.249.98.73, ...\n",
            "Connecting to datasets.imdbws.com (datasets.imdbws.com)|13.249.98.35|:443... connected.\n",
            "HTTP request sent, awaiting response... 200 OK\n",
            "Length: 418023433 (399M) [binary/octet-stream]\n",
            "Saving to: ‘title.principals.tsv.gz.1’\n",
            "\n",
            "title.principals.ts 100%[===================>] 398.66M  82.2MB/s    in 7.3s    \n",
            "\n",
            "2022-11-22 23:18:06 (54.7 MB/s) - ‘title.principals.tsv.gz.1’ saved [418023433/418023433]\n",
            "\n",
            "--2022-11-22 23:18:06--  https://datasets.imdbws.com/title.ratings.tsv.gz\n",
            "Resolving datasets.imdbws.com (datasets.imdbws.com)... 13.249.98.35, 13.249.98.61, 13.249.98.73, ...\n",
            "Connecting to datasets.imdbws.com (datasets.imdbws.com)|13.249.98.35|:443... connected.\n",
            "HTTP request sent, awaiting response... 200 OK\n",
            "Length: 6276744 (6.0M) [binary/octet-stream]\n",
            "Saving to: ‘title.ratings.tsv.gz.1’\n",
            "\n",
            "title.ratings.tsv.g 100%[===================>]   5.99M  11.0MB/s    in 0.5s    \n",
            "\n",
            "2022-11-22 23:18:07 (11.0 MB/s) - ‘title.ratings.tsv.gz.1’ saved [6276744/6276744]\n",
            "\n"
          ]
        }
      ]
    },
    {
      "cell_type": "markdown",
      "source": [
        "##Rozpakowanie danych"
      ],
      "metadata": {
        "id": "or9x68JxXc10"
      }
    },
    {
      "cell_type": "code",
      "source": [
        "!gzip -dc /content/name.basics.tsv.gz > name.basics.csv\n",
        "!gzip -dc /content/title.akas.tsv.gz > title.akas.csv\n",
        "!gzip -dc /content/title.basics.tsv.gz > title.basic.csv\n",
        "!gzip -dc /content/title.crew.tsv.gz > title.crew.csv\n",
        "!gzip -dc /content/title.episode.tsv.gz > title.episode.csv\n",
        "!gzip -dc /content/title.principals.tsv.gz > title.principals.csv\n",
        "!gzip -dc /content/title.ratings.tsv.gz > title.ratings.csv"
      ],
      "metadata": {
        "id": "IpXAjtV4XeKx"
      },
      "execution_count": 5,
      "outputs": []
    },
    {
      "cell_type": "markdown",
      "source": [
        "#Wczytanie danych"
      ],
      "metadata": {
        "id": "pPWxy5j_aEvo"
      }
    },
    {
      "cell_type": "markdown",
      "source": [
        "##Wczytajmy dane z rozpakowanych plików"
      ],
      "metadata": {
        "id": "s-hzkKehxgnQ"
      }
    },
    {
      "cell_type": "code",
      "source": [
        "df_name_basics=spark.read.option(\"header\", \"true\").option(\"delimiter\", \"\\t\").csv('name.basics.csv' ) \n",
        "df_title_akas=spark.read.option(\"header\",\"true\").option(\"delimiter\", \"\\t\").csv('title.akas.csv')\n",
        "df_title_basic=spark.read.option(\"header\",\"true\").option(\"delimiter\", \"\\t\").csv('title.basic.csv')\n",
        "df_title_crew=spark.read.option(\"header\",\"true\").option(\"delimiter\", \"\\t\").csv('title.crew.csv')\n",
        "df_title_episode=spark.read.option(\"header\",\"true\").option(\"delimiter\",\"\\t\").csv('title.episode.csv')\n",
        "df_title_principals=spark.read.option(\"header\",\"true\").option(\"delimiter\",\"\\t\").csv('title.principals.csv')\n",
        "df_title_ratings=spark.read.option(\"header\",\"true\").option(\"delimiter\",\"\\t\").csv('title.ratings.csv')"
      ],
      "metadata": {
        "id": "skegmFMQXpcA"
      },
      "execution_count": 6,
      "outputs": []
    },
    {
      "cell_type": "markdown",
      "source": [
        "##Wyświetlmy dane"
      ],
      "metadata": {
        "id": "snoopt7lY71j"
      }
    },
    {
      "cell_type": "code",
      "source": [
        "df_name_basics.show(3)\n",
        "df_title_akas.show(3)\n",
        "df_title_basic.show(3)\n",
        "df_title_crew.show(3)\n",
        "df_title_episode.show(3)\n",
        "df_title_principals.show(3)\n",
        "df_title_ratings.show(3)"
      ],
      "metadata": {
        "id": "BQItTCh9ZBht",
        "colab": {
          "base_uri": "https://localhost:8080/"
        },
        "outputId": "2a149b31-e585-4bb0-a51c-b553c2f0945a"
      },
      "execution_count": 7,
      "outputs": [
        {
          "output_type": "stream",
          "name": "stdout",
          "text": [
            "+---------+---------------+---------+---------+--------------------+--------------------+\n",
            "|   nconst|    primaryName|birthYear|deathYear|   primaryProfession|      knownForTitles|\n",
            "+---------+---------------+---------+---------+--------------------+--------------------+\n",
            "|nm0000001|   Fred Astaire|     1899|     1987|soundtrack,actor,...|tt0072308,tt00531...|\n",
            "|nm0000002|  Lauren Bacall|     1924|     2014|  actress,soundtrack|tt0117057,tt00383...|\n",
            "|nm0000003|Brigitte Bardot|     1934|       \\N|actress,soundtrac...|tt0056404,tt00573...|\n",
            "+---------+---------------+---------+---------+--------------------+--------------------+\n",
            "only showing top 3 rows\n",
            "\n",
            "+---------+--------+--------------------+------+--------+-----------+-------------+---------------+\n",
            "|  titleId|ordering|               title|region|language|      types|   attributes|isOriginalTitle|\n",
            "+---------+--------+--------------------+------+--------+-----------+-------------+---------------+\n",
            "|tt0000001|       1|          Карменсіта|    UA|      \\N|imdbDisplay|           \\N|              0|\n",
            "|tt0000001|       2|          Carmencita|    DE|      \\N|         \\N|literal title|              0|\n",
            "|tt0000001|       3|Carmencita - span...|    HU|      \\N|imdbDisplay|           \\N|              0|\n",
            "+---------+--------+--------------------+------+--------+-----------+-------------+---------------+\n",
            "only showing top 3 rows\n",
            "\n",
            "+---------+---------+--------------------+--------------------+-------+---------+-------+--------------+--------------------+\n",
            "|   tconst|titleType|        primaryTitle|       originalTitle|isAdult|startYear|endYear|runtimeMinutes|              genres|\n",
            "+---------+---------+--------------------+--------------------+-------+---------+-------+--------------+--------------------+\n",
            "|tt0000001|    short|          Carmencita|          Carmencita|      0|     1894|     \\N|             1|   Documentary,Short|\n",
            "|tt0000002|    short|Le clown et ses c...|Le clown et ses c...|      0|     1892|     \\N|             5|     Animation,Short|\n",
            "|tt0000003|    short|      Pauvre Pierrot|      Pauvre Pierrot|      0|     1892|     \\N|             4|Animation,Comedy,...|\n",
            "+---------+---------+--------------------+--------------------+-------+---------+-------+--------------+--------------------+\n",
            "only showing top 3 rows\n",
            "\n",
            "+---------+---------+-------+\n",
            "|   tconst|directors|writers|\n",
            "+---------+---------+-------+\n",
            "|tt0000001|nm0005690|     \\N|\n",
            "|tt0000002|nm0721526|     \\N|\n",
            "|tt0000003|nm0721526|     \\N|\n",
            "+---------+---------+-------+\n",
            "only showing top 3 rows\n",
            "\n",
            "+---------+------------+------------+-------------+\n",
            "|   tconst|parentTconst|seasonNumber|episodeNumber|\n",
            "+---------+------------+------------+-------------+\n",
            "|tt0041951|   tt0041038|           1|            9|\n",
            "|tt0042816|   tt0989125|           1|           17|\n",
            "|tt0042889|   tt0989125|          \\N|           \\N|\n",
            "+---------+------------+------------+-------------+\n",
            "only showing top 3 rows\n",
            "\n",
            "+---------+--------+---------+---------------+--------------------+----------+\n",
            "|   tconst|ordering|   nconst|       category|                 job|characters|\n",
            "+---------+--------+---------+---------------+--------------------+----------+\n",
            "|tt0000001|       1|nm1588970|           self|                  \\N|  [\"Self\"]|\n",
            "|tt0000001|       2|nm0005690|       director|                  \\N|        \\N|\n",
            "|tt0000001|       3|nm0374658|cinematographer|director of photo...|        \\N|\n",
            "+---------+--------+---------+---------------+--------------------+----------+\n",
            "only showing top 3 rows\n",
            "\n",
            "+---------+-------------+--------+\n",
            "|   tconst|averageRating|numVotes|\n",
            "+---------+-------------+--------+\n",
            "|tt0000001|          5.7|    1923|\n",
            "|tt0000002|          5.8|     259|\n",
            "|tt0000003|          6.5|    1737|\n",
            "+---------+-------------+--------+\n",
            "only showing top 3 rows\n",
            "\n"
          ]
        }
      ]
    },
    {
      "cell_type": "markdown",
      "source": [
        "# Złączenie istotnych kolumn"
      ],
      "metadata": {
        "id": "ZZb5i_RrA-yP"
      }
    },
    {
      "cell_type": "markdown",
      "source": [
        "## Wybierzmy następujące kolumny z tabel:\n",
        "- df_title_basic:\n",
        "  - tconst (unikalny numer tytułu - potrzebne do złączenia tabel)\n",
        "  - titleType (rodzaj tytułu, np. film, serial - można porównywać podobieństwo aktorów na podstawie tego w jakich typach produkcji grali)\n",
        "  - originalTitle (tytuł produkcji - być może przyda się do analizy podobnych filmów)\n",
        "  - isAdult (czy produkcja jest dla dorosłych - można wykorzystać do porównywania aktorów na podstawie tego czy grają głównie w produkcjach dla dorosłych)\n",
        "  - genres (gatunki - może posłużyć do porównania aktorów na podstawie tego, że grali w produkcjach o podobnych gatunkach)\n",
        "\n",
        "- df_title_principals:\n",
        "  - tconst (unikalny numer tytułu - potrzebne do złączenia tabel)\n",
        "  - nconst (unikalny numer aktora - potrzebne do złączenia tabel)\n",
        "  - category (kategoria pracy (actor/actress) - może posłużyć do porównania aktorów na podstawie takiej samej płci)\n",
        "  - characters (postacie zagrane w produkcji - może posłużyć do porównania aktorów na podstawie podobnych granych postaci)\n",
        "\n",
        "- df_name_basics:\n",
        "  - nconst(unikalny numer aktora - potrzebne do złączenia tabel)\n",
        "  - primaryName (imię i nazwisko aktora - potrzebne do wyświetlania aktora lub do odnajdywania go w bazie po imieniu i nazwisku)\n",
        "  - birthYear (rok urodzenia aktora - może posłużyć do porównania aktorów na podstawie podobnych okresów, w których żyli i grali)\n",
        "  - deathYear ( rok śmierci aktora - może posłużyć do porównania aktorów na podstawie podobnych okresów, w których żyli i grali)\n",
        "  - knownForTitles (tytuły produkcji, z których znany jets aktor - może posłużyć do porównania aktorów na podstawie tych samych lub podobnych produkcji, z których są znani)"
      ],
      "metadata": {
        "id": "MGd5Hi-VBF9h"
      }
    },
    {
      "cell_type": "code",
      "source": [
        "df_title_basic_selected = df_title_basic.select([\"tconst\", \"titleType\", \"originalTitle\", \"isAdult\", \"genres\"])\n",
        "df_title_principals_selected = df_title_principals.select([\"tconst\", \"nconst\", \"category\", \"characters\"])\n",
        "df_name_basics_selected = df_name_basics.select([\"nconst\", \"primaryName\", \"birthYear\", \"deathYear\", \"knownForTitles\"])"
      ],
      "metadata": {
        "id": "OKWe9JSKBC5q"
      },
      "execution_count": 8,
      "outputs": []
    },
    {
      "cell_type": "markdown",
      "source": [
        "## Wybierzmy z tabeli df_title_principals_selected tylko aktorów i aktorki"
      ],
      "metadata": {
        "id": "Dv9_BSnFVFa3"
      }
    },
    {
      "cell_type": "code",
      "source": [
        "#df_title_principals_selected = df_title_principals_selected.filter((df_title_principals_selected.category == \"actor\") | (df_title_principals_selected.category == \"actress\"))"
      ],
      "metadata": {
        "id": "3vOtn_OxVAQa"
      },
      "execution_count": 9,
      "outputs": []
    },
    {
      "cell_type": "markdown",
      "source": [
        "# Złączmy tabele df_name_basics, df_title_principals i df_title_basic"
      ],
      "metadata": {
        "id": "eMIHo59PBNtx"
      }
    },
    {
      "cell_type": "markdown",
      "source": [
        "## Sprawdźmy czasy joinowania dla różnych kombinacji tabel"
      ],
      "metadata": {
        "id": "0cd69uOmz-E9"
      }
    },
    {
      "cell_type": "markdown",
      "source": [
        "Sprawdzimy najpierw jak długo zajmuje łączenie tabel bez usuniętych niepotrzebnych rekordów. Rozważmy różne kombinacje łączeń, gdzie tabele są łączone w następujący sposób:\n",
        "* df_name_basics_selected i df_title_principals_selected, typ łączenia \"inner\",\n",
        "* df_name_basics_selected i df_title_principals_selected, typ łączenia \"right\",\n",
        "* dane wcześniej złączone i df_title_basic_selected, typ łączenia \"inner\",\n",
        "* dane wcześniej złączone i df_title_basic_selected, typ łączenia \"left\",\n",
        "* df_title_principals_selected i df_name_basics_selected, typ łączenia \"inner\",\n",
        "* df_title_principals_selected i df_name_basics_selected, typ łączenia \"left\",\n",
        "* df_title_basic_selected i df_title_principals_selected, typ łączenia \"inner\",\n",
        "* df_title_basic_selected i df_title_principals_selected, typ łączenia \"right\",\n",
        "* dane wcześniej złączone i df_name_basics_selected, typ łączenia \"inner\",\n",
        "* dane wcześniej złączone i df_name_basics_selected, typ łączenia \"right\",\n",
        "* df_title_principals_selected i df_title_basic_selected, typ łączenia \"inner\",\n",
        "* df_title_principals_selected i df_title_basic_selected, typ łączenia \"left\"."
      ],
      "metadata": {
        "id": "19O-f-nBUprz"
      }
    },
    {
      "cell_type": "code",
      "source": [
        "%%time\n",
        "data1 = df_name_basics_selected.join(df_title_principals_selected, \"nconst\", \"inner\")\n",
        "print(\"df_name_basics_selected and df_title_principals_selected joined table size: \", (data1.count(), len(data1.columns)))\n",
        "data1 = data1.join(df_title_basic_selected, \"tconst\", \"inner\")\n",
        "print(\"joined table size: \", (data1.count(), len(data1.columns)))"
      ],
      "metadata": {
        "id": "bXWAMvJtz9Rc",
        "colab": {
          "base_uri": "https://localhost:8080/"
        },
        "outputId": "2f50c93a-ccc3-4ce1-fac5-913f31ab2a1c"
      },
      "execution_count": 10,
      "outputs": [
        {
          "metadata": {
            "tags": null
          },
          "name": "stdout",
          "output_type": "stream",
          "text": [
            "df_name_basics_selected and df_title_principals_selected joined table size:  (53163680, 8)\n",
            "joined table size:  (53157572, 12)\n",
            "CPU times: user 3.39 s, sys: 486 ms, total: 3.88 s\n",
            "Wall time: 10min 54s\n"
          ]
        }
      ]
    },
    {
      "cell_type": "code",
      "source": [
        "%%time\n",
        "data2 = df_name_basics_selected.join(df_title_principals_selected, \"nconst\", \"inner\")\n",
        "print(\"df_name_basics_selected and df_title_principals_selected joined table size: \", (data2.count(), len(data2.columns)))\n",
        "data2 = data2.join(df_title_basic_selected, \"tconst\", \"left\")\n",
        "print(\"joined table size: \", (data2.count(), len(data2.columns)))"
      ],
      "metadata": {
        "id": "qOiMjG5H3X8S",
        "colab": {
          "base_uri": "https://localhost:8080/"
        },
        "outputId": "b99580a5-d0d3-4bee-ec2d-2c8392c90ac3"
      },
      "execution_count": 11,
      "outputs": [
        {
          "metadata": {
            "tags": null
          },
          "name": "stdout",
          "output_type": "stream",
          "text": [
            "df_name_basics_selected and df_title_principals_selected joined table size:  (53163680, 8)\n",
            "joined table size:  (53163680, 12)\n",
            "CPU times: user 2.09 s, sys: 261 ms, total: 2.35 s\n",
            "Wall time: 10min 25s\n"
          ]
        }
      ]
    },
    {
      "cell_type": "code",
      "source": [
        "%%time\n",
        "data3 = df_name_basics_selected.join(df_title_principals_selected, \"nconst\", \"right\")\n",
        "print(\"df_name_basics_selected and df_title_principals_selected joined table size: \", (data3.count(), len(data3.columns)))\n",
        "data3 = data3.join(df_title_basic_selected, \"tconst\", \"inner\")\n",
        "print(\"joined table size: \", (data3.count(), len(data3.columns)))"
      ],
      "metadata": {
        "colab": {
          "base_uri": "https://localhost:8080/"
        },
        "id": "tw7iwQNeLp7T",
        "outputId": "c2628ce6-3e3e-4c64-cc3a-7c18e9d7c124"
      },
      "execution_count": 12,
      "outputs": [
        {
          "metadata": {
            "tags": null
          },
          "name": "stdout",
          "output_type": "stream",
          "text": [
            "df_name_basics_selected and df_title_principals_selected joined table size:  (53173247, 8)\n",
            "joined table size:  (53167105, 12)\n",
            "CPU times: user 1.53 s, sys: 191 ms, total: 1.72 s\n",
            "Wall time: 8min 43s\n"
          ]
        }
      ]
    },
    {
      "cell_type": "code",
      "source": [
        "%%time\n",
        "data4 = df_name_basics_selected.join(df_title_principals_selected, \"nconst\", \"right\")\n",
        "print(\"df_name_basics_selected and df_title_principals_selected joined table size: \", (data4.count(), len(data4.columns)))\n",
        "data4 = data4.join(df_title_basic_selected, \"tconst\", \"left\")\n",
        "print(\"joined table size: \", (data4.count(), len(data4.columns)))"
      ],
      "metadata": {
        "colab": {
          "base_uri": "https://localhost:8080/"
        },
        "id": "eW22PuBpL4mV",
        "outputId": "ab9004cf-8dcb-416a-bc96-23b08bffb3f8"
      },
      "execution_count": 13,
      "outputs": [
        {
          "metadata": {
            "tags": null
          },
          "name": "stdout",
          "output_type": "stream",
          "text": [
            "df_name_basics_selected and df_title_principals_selected joined table size:  (53173247, 8)\n",
            "joined table size:  (53173247, 12)\n",
            "CPU times: user 1.18 s, sys: 111 ms, total: 1.29 s\n",
            "Wall time: 7min 14s\n"
          ]
        }
      ]
    },
    {
      "cell_type": "code",
      "source": [
        "%%time\n",
        "data5 = df_title_principals_selected.join(df_name_basics_selected, \"nconst\", \"inner\")\n",
        "print(\"df_title_principals_selected and df_name_basics_selected joined table size: \", (data5.count(), len(data5.columns)))\n",
        "data5 = data5.join(df_title_basic_selected, \"tconst\", \"inner\")\n",
        "print(\"joined table size: \", (data5.count(), len(data5.columns)))"
      ],
      "metadata": {
        "colab": {
          "base_uri": "https://localhost:8080/"
        },
        "id": "8HJWyohyMai8",
        "outputId": "c6e7fa45-3119-4075-8b8c-9f63c7996b59"
      },
      "execution_count": 14,
      "outputs": [
        {
          "metadata": {
            "tags": null
          },
          "name": "stdout",
          "output_type": "stream",
          "text": [
            "df_title_principals_selected and df_name_basics_selected joined table size:  (53163680, 8)\n",
            "joined table size:  (53157572, 12)\n",
            "CPU times: user 1.24 s, sys: 108 ms, total: 1.35 s\n",
            "Wall time: 7min 18s\n"
          ]
        }
      ]
    },
    {
      "cell_type": "code",
      "source": [
        "%%time\n",
        "data6 = df_title_principals_selected.join(df_name_basics_selected, \"nconst\", \"inner\")\n",
        "print(\"df_title_principals_selected and df_name_basics_selected joined table size: \", (data6.count(), len(data6.columns)))\n",
        "data6 = data6.join(df_title_basic_selected, \"tconst\", \"left\")\n",
        "print(\"joined table size: \", (data6.count(), len(data6.columns)))"
      ],
      "metadata": {
        "colab": {
          "base_uri": "https://localhost:8080/"
        },
        "id": "1ws31f_zMy46",
        "outputId": "de718095-003b-425b-ee69-454776da5ca3"
      },
      "execution_count": 15,
      "outputs": [
        {
          "metadata": {
            "tags": null
          },
          "name": "stdout",
          "output_type": "stream",
          "text": [
            "df_title_principals_selected and df_name_basics_selected joined table size:  (53163680, 8)\n",
            "joined table size:  (53163680, 12)\n",
            "CPU times: user 1.18 s, sys: 110 ms, total: 1.29 s\n",
            "Wall time: 7min 10s\n"
          ]
        }
      ]
    },
    {
      "cell_type": "code",
      "source": [
        "%%time\n",
        "data7 = df_title_principals_selected.join(df_name_basics_selected, \"nconst\", \"left\")\n",
        "print(\"df_title_principals_selected and df_name_basics_selected joined table size: \", (data7.count(), len(data7.columns)))\n",
        "data7 = data7.join(df_title_basic_selected, \"tconst\", \"inner\")\n",
        "print(\"joined table size: \", (data7.count(), len(data7.columns)))"
      ],
      "metadata": {
        "colab": {
          "base_uri": "https://localhost:8080/"
        },
        "id": "PpJvsSrSM8TH",
        "outputId": "766ab543-a09f-46c6-94d9-b5320b4ef2ba"
      },
      "execution_count": 16,
      "outputs": [
        {
          "metadata": {
            "tags": null
          },
          "name": "stdout",
          "output_type": "stream",
          "text": [
            "df_title_principals_selected and df_name_basics_selected joined table size:  (53173247, 8)\n",
            "joined table size:  (53167105, 12)\n",
            "CPU times: user 1.27 s, sys: 133 ms, total: 1.4 s\n",
            "Wall time: 7min 20s\n"
          ]
        }
      ]
    },
    {
      "cell_type": "code",
      "source": [
        "%%time\n",
        "data8 = df_title_principals_selected.join(df_name_basics_selected, \"nconst\", \"left\")\n",
        "print(\"df_title_principals_selected and df_name_basics_selected joined table size: \", (data8.count(), len(data8.columns)))\n",
        "data8 = data8.join(df_title_basic_selected, \"tconst\", \"left\")\n",
        "print(\"joined table size: \", (data8.count(), len(data8.columns)))"
      ],
      "metadata": {
        "colab": {
          "base_uri": "https://localhost:8080/"
        },
        "id": "sIlahZLsM9yT",
        "outputId": "1f426e27-5a82-4945-dbc7-1200628a4aff"
      },
      "execution_count": 17,
      "outputs": [
        {
          "metadata": {
            "tags": null
          },
          "name": "stdout",
          "output_type": "stream",
          "text": [
            "df_title_principals_selected and df_name_basics_selected joined table size:  (53173247, 8)\n",
            "joined table size:  (53173247, 12)\n",
            "CPU times: user 1.22 s, sys: 110 ms, total: 1.33 s\n",
            "Wall time: 7min\n"
          ]
        }
      ]
    },
    {
      "cell_type": "code",
      "source": [
        "%%time\n",
        "data9 = df_title_basic_selected.join(df_title_principals_selected, \"tconst\", \"inner\")\n",
        "print(\"df_title_basic_selected and df_title_principals_selected joined table size: \", (data9.count(), len(data9.columns)))\n",
        "data9 = data9.join(df_name_basics_selected, \"nconst\", \"inner\")\n",
        "print(\"joined table size: \", (data9.count(), len(data9.columns)))"
      ],
      "metadata": {
        "colab": {
          "base_uri": "https://localhost:8080/"
        },
        "id": "DRnYC4nlNgKU",
        "outputId": "4ed64574-de00-43ec-e758-89dbccc70a09"
      },
      "execution_count": 18,
      "outputs": [
        {
          "metadata": {
            "tags": null
          },
          "name": "stdout",
          "output_type": "stream",
          "text": [
            "df_title_basic_selected and df_title_principals_selected joined table size:  (53167105, 8)\n",
            "joined table size:  (53157572, 12)\n",
            "CPU times: user 1.01 s, sys: 109 ms, total: 1.11 s\n",
            "Wall time: 6min 9s\n"
          ]
        }
      ]
    },
    {
      "cell_type": "code",
      "source": [
        "%%time\n",
        "data10 = df_title_basic_selected.join(df_title_principals_selected, \"tconst\", \"inner\")\n",
        "print(\"df_title_basic_selected and df_title_principals_selected joined table size: \", (data10.count(), len(data10.columns)))\n",
        "data10 = data10.join(df_name_basics_selected, \"nconst\", \"left\")\n",
        "print(\"joined table size: \", (data10.count(), len(data10.columns)))"
      ],
      "metadata": {
        "colab": {
          "base_uri": "https://localhost:8080/"
        },
        "id": "n-bQnvlvOvom",
        "outputId": "a642335d-f66e-48cd-8626-67ffe2f95378"
      },
      "execution_count": 19,
      "outputs": [
        {
          "metadata": {
            "tags": null
          },
          "name": "stdout",
          "output_type": "stream",
          "text": [
            "df_title_basic_selected and df_title_principals_selected joined table size:  (53167105, 8)\n",
            "joined table size:  (53167105, 12)\n",
            "CPU times: user 1.15 s, sys: 94.6 ms, total: 1.25 s\n",
            "Wall time: 6min 23s\n"
          ]
        }
      ]
    },
    {
      "cell_type": "code",
      "source": [
        "%%time\n",
        "data11 = df_title_basic_selected.join(df_title_principals_selected, \"tconst\", \"right\")\n",
        "print(\"df_title_basic_selected and df_title_principals_selected joined table size: \", (data11.count(), len(data11.columns)))\n",
        "data11 = data11.join(df_name_basics_selected, \"nconst\", \"inner\")\n",
        "print(\"joined table size: \", (data11.count(), len(data11.columns)))"
      ],
      "metadata": {
        "colab": {
          "base_uri": "https://localhost:8080/"
        },
        "id": "Xqr9ecljO14b",
        "outputId": "3bb141a7-b969-41b0-952b-a818ba26a39f"
      },
      "execution_count": 20,
      "outputs": [
        {
          "metadata": {
            "tags": null
          },
          "name": "stdout",
          "output_type": "stream",
          "text": [
            "df_title_basic_selected and df_title_principals_selected joined table size:  (53173247, 8)\n",
            "joined table size:  (53163680, 12)\n",
            "CPU times: user 1.03 s, sys: 99.1 ms, total: 1.13 s\n",
            "Wall time: 6min 7s\n"
          ]
        }
      ]
    },
    {
      "cell_type": "code",
      "source": [
        "%%time\n",
        "data12 = df_title_basic_selected.join(df_title_principals_selected, \"tconst\", \"right\")\n",
        "print(\"df_title_basic_selected and df_title_principals_selected joined table size: \", (data12.count(), len(data12.columns)))\n",
        "data12 = data12.join(df_name_basics_selected, \"nconst\", \"left\")\n",
        "print(\"joined table size: \", (data12.count(), len(data12.columns)))"
      ],
      "metadata": {
        "colab": {
          "base_uri": "https://localhost:8080/"
        },
        "id": "79J3h9UPPEqY",
        "outputId": "bda5c95d-2044-4775-e416-fc4b77cbb5d5"
      },
      "execution_count": 21,
      "outputs": [
        {
          "metadata": {
            "tags": null
          },
          "name": "stdout",
          "output_type": "stream",
          "text": [
            "df_title_basic_selected and df_title_principals_selected joined table size:  (53173247, 8)\n",
            "joined table size:  (53173247, 12)\n",
            "CPU times: user 1.01 s, sys: 92.8 ms, total: 1.1 s\n",
            "Wall time: 6min\n"
          ]
        }
      ]
    },
    {
      "cell_type": "code",
      "source": [
        "%%time\n",
        "data13 = df_title_principals_selected.join(df_title_basic_selected, \"tconst\", \"inner\")\n",
        "print(\"df_title_principals_selected and df_title_basic_selected joined table size: \", (data13.count(), len(data13.columns)))\n",
        "data13 = data13.join(df_name_basics_selected, \"nconst\", \"inner\")\n",
        "print(\"joined table size: \", (data13.count(), len(data13.columns)))"
      ],
      "metadata": {
        "colab": {
          "base_uri": "https://localhost:8080/"
        },
        "id": "8BKljYgKPta_",
        "outputId": "7c1279aa-c153-42d7-ab21-d10613dc7fef"
      },
      "execution_count": 22,
      "outputs": [
        {
          "metadata": {
            "tags": null
          },
          "name": "stdout",
          "output_type": "stream",
          "text": [
            "df_title_principals_selected and df_title_basic_selected joined table size:  (53167105, 8)\n",
            "joined table size:  (53157572, 12)\n",
            "CPU times: user 1.08 s, sys: 98.6 ms, total: 1.17 s\n",
            "Wall time: 6min 14s\n"
          ]
        }
      ]
    },
    {
      "cell_type": "code",
      "source": [
        "%%time\n",
        "data14 = df_title_principals_selected.join(df_title_basic_selected, \"tconst\", \"inner\")\n",
        "print(\"df_title_principals_selected and df_title_basic_selected joined table size: \", (data14.count(), len(data14.columns)))\n",
        "data14 = data14.join(df_name_basics_selected, \"nconst\", \"left\")\n",
        "print(\"joined table size: \", (data14.count(), len(data14.columns)))"
      ],
      "metadata": {
        "colab": {
          "base_uri": "https://localhost:8080/"
        },
        "id": "XT3hWjCEP2ES",
        "outputId": "bbf0cc46-340b-4e44-9dea-12681693c386"
      },
      "execution_count": 23,
      "outputs": [
        {
          "metadata": {
            "tags": null
          },
          "name": "stdout",
          "output_type": "stream",
          "text": [
            "df_title_principals_selected and df_title_basic_selected joined table size:  (53167105, 8)\n",
            "joined table size:  (53167105, 12)\n",
            "CPU times: user 922 ms, sys: 110 ms, total: 1.03 s\n",
            "Wall time: 6min 3s\n"
          ]
        }
      ]
    },
    {
      "cell_type": "code",
      "source": [
        "%%time\n",
        "data15 = df_title_principals_selected.join(df_title_basic_selected, \"tconst\", \"left\")\n",
        "print(\"df_title_principals_selected and df_title_basic_selected joined table size: \", (data15.count(), len(data15.columns)))\n",
        "data15 = data15.join(df_name_basics_selected, \"nconst\", \"inner\")\n",
        "print(\"joined table size: \", (data15.count(), len(data15.columns)))"
      ],
      "metadata": {
        "colab": {
          "base_uri": "https://localhost:8080/"
        },
        "id": "sy7gKBrHP4W-",
        "outputId": "71e78127-8571-4be6-eeca-284683e3fdfe"
      },
      "execution_count": 24,
      "outputs": [
        {
          "metadata": {
            "tags": null
          },
          "name": "stdout",
          "output_type": "stream",
          "text": [
            "df_title_principals_selected and df_title_basic_selected joined table size:  (53173247, 8)\n",
            "joined table size:  (53163680, 12)\n",
            "CPU times: user 1.12 s, sys: 102 ms, total: 1.22 s\n",
            "Wall time: 6min 17s\n"
          ]
        }
      ]
    },
    {
      "cell_type": "code",
      "source": [
        "%%time\n",
        "data16 = df_title_principals_selected.join(df_title_basic_selected, \"tconst\", \"left\")\n",
        "print(\"df_title_principals_selected and df_title_basic_selected joined table size: \", (data16.count(), len(data16.columns)))\n",
        "data16 = data16.join(df_name_basics_selected, \"nconst\", \"left\")\n",
        "print(\"joined table size: \", (data16.count(), len(data16.columns)))"
      ],
      "metadata": {
        "colab": {
          "base_uri": "https://localhost:8080/"
        },
        "id": "eS5DUliMP7Ht",
        "outputId": "bee1cca7-d0bf-4a9a-f878-ef3931304b22"
      },
      "execution_count": 25,
      "outputs": [
        {
          "metadata": {
            "tags": null
          },
          "name": "stdout",
          "output_type": "stream",
          "text": [
            "df_title_principals_selected and df_title_basic_selected joined table size:  (53173247, 8)\n",
            "joined table size:  (53173247, 12)\n",
            "CPU times: user 1.05 s, sys: 104 ms, total: 1.15 s\n",
            "Wall time: 6min 11s\n"
          ]
        }
      ]
    },
    {
      "cell_type": "markdown",
      "source": [
        "Teraz zmierzymy czasy tych samych złączeń, jednak po usunięciu z tabel niepotrzebnych rekordów."
      ],
      "metadata": {
        "id": "GV4TDbUCRg4B"
      }
    },
    {
      "cell_type": "code",
      "source": [
        "df_name_basics = df_name_basics.filter(\"primaryProfession like '%actor%' or primaryProfession like '%actress%'\")\n",
        "df_name_basics_selected = df_name_basics.select([\"nconst\", \"primaryName\", \"birthYear\", \"deathYear\", \"knownForTitles\"])\n",
        "df_title_principals_selected = df_title_principals_selected.filter((df_title_principals_selected.category == \"actor\") | (df_title_principals_selected.category == \"actress\"))"
      ],
      "metadata": {
        "id": "nuhNQ3YAOh6u"
      },
      "execution_count": 26,
      "outputs": []
    },
    {
      "cell_type": "code",
      "source": [
        "%%time\n",
        "data1 = df_name_basics_selected.join(df_title_principals_selected, \"nconst\", \"inner\")\n",
        "print(\"df_name_basics_selected and df_title_principals_selected joined table size: \", (data1.count(), len(data1.columns)))\n",
        "data1 = data1.join(df_title_basic_selected, \"tconst\", \"inner\")\n",
        "print(\"joined table size: \", (data1.count(), len(data1.columns)))"
      ],
      "metadata": {
        "colab": {
          "base_uri": "https://localhost:8080/"
        },
        "id": "QcXxZ58gReWa",
        "outputId": "51f14ac4-9505-4cd0-9911-466b54727f87"
      },
      "execution_count": 27,
      "outputs": [
        {
          "metadata": {
            "tags": null
          },
          "name": "stdout",
          "output_type": "stream",
          "text": [
            "df_name_basics_selected and df_title_principals_selected joined table size:  (20190998, 8)\n",
            "joined table size:  (20187521, 12)\n",
            "CPU times: user 805 ms, sys: 69.7 ms, total: 874 ms\n",
            "Wall time: 4min 48s\n"
          ]
        }
      ]
    },
    {
      "cell_type": "code",
      "source": [
        "%%time\n",
        "data2 = df_name_basics_selected.join(df_title_principals_selected, \"nconst\", \"inner\")\n",
        "print(\"df_name_basics_selected and df_title_principals_selected joined table size: \", (data2.count(), len(data2.columns)))\n",
        "data2 = data2.join(df_title_basic_selected, \"tconst\", \"left\")\n",
        "print(\"joined table size: \", (data2.count(), len(data2.columns)))"
      ],
      "metadata": {
        "colab": {
          "base_uri": "https://localhost:8080/"
        },
        "id": "L2KmnzMWRoFK",
        "outputId": "5b820a6f-7f63-43e4-e70e-4e6b7fdb98e8"
      },
      "execution_count": 28,
      "outputs": [
        {
          "metadata": {
            "tags": null
          },
          "name": "stdout",
          "output_type": "stream",
          "text": [
            "df_name_basics_selected and df_title_principals_selected joined table size:  (20190998, 8)\n",
            "joined table size:  (20190998, 12)\n",
            "CPU times: user 842 ms, sys: 65.2 ms, total: 907 ms\n",
            "Wall time: 4min 48s\n"
          ]
        }
      ]
    },
    {
      "cell_type": "code",
      "source": [
        "%%time\n",
        "data3 = df_name_basics_selected.join(df_title_principals_selected, \"nconst\", \"right\")\n",
        "print(\"df_name_basics_selected and df_title_principals_selected joined table size: \", (data3.count(), len(data3.columns)))\n",
        "data3 = data3.join(df_title_basic_selected, \"tconst\", \"inner\")\n",
        "print(\"joined table size: \", (data3.count(), len(data3.columns)))"
      ],
      "metadata": {
        "colab": {
          "base_uri": "https://localhost:8080/"
        },
        "id": "NeuNdK8zRrQd",
        "outputId": "1a01b54b-ec50-4f2d-f9f8-f0c3b64c91ff"
      },
      "execution_count": 29,
      "outputs": [
        {
          "metadata": {
            "tags": null
          },
          "name": "stdout",
          "output_type": "stream",
          "text": [
            "df_name_basics_selected and df_title_principals_selected joined table size:  (20815083, 8)\n",
            "joined table size:  (20811538, 12)\n",
            "CPU times: user 790 ms, sys: 90.8 ms, total: 881 ms\n",
            "Wall time: 4min 45s\n"
          ]
        }
      ]
    },
    {
      "cell_type": "code",
      "source": [
        "%%time\n",
        "data4 = df_name_basics_selected.join(df_title_principals_selected, \"nconst\", \"right\")\n",
        "print(\"df_name_basics_selected and df_title_principals_selected joined table size: \", (data4.count(), len(data4.columns)))\n",
        "data4 = data4.join(df_title_basic_selected, \"tconst\", \"left\")\n",
        "print(\"joined table size: \", (data4.count(), len(data4.columns)))"
      ],
      "metadata": {
        "colab": {
          "base_uri": "https://localhost:8080/"
        },
        "id": "UgoaQREvRuao",
        "outputId": "7d49e73d-04be-448e-9850-13aeaa674816"
      },
      "execution_count": 30,
      "outputs": [
        {
          "metadata": {
            "tags": null
          },
          "name": "stdout",
          "output_type": "stream",
          "text": [
            "df_name_basics_selected and df_title_principals_selected joined table size:  (20815083, 8)\n",
            "joined table size:  (20815083, 12)\n",
            "CPU times: user 838 ms, sys: 75.8 ms, total: 914 ms\n",
            "Wall time: 4min 50s\n"
          ]
        }
      ]
    },
    {
      "cell_type": "code",
      "source": [
        "%%time\n",
        "data5 = df_title_principals_selected.join(df_name_basics_selected, \"nconst\", \"inner\")\n",
        "print(\"df_title_principals_selected and df_name_basics_selected joined table size: \", (data5.count(), len(data5.columns)))\n",
        "data5 = data5.join(df_title_basic_selected, \"tconst\", \"inner\")\n",
        "print(\"joined table size: \", (data5.count(), len(data5.columns)))"
      ],
      "metadata": {
        "colab": {
          "base_uri": "https://localhost:8080/"
        },
        "id": "L1tj0bvbRxAa",
        "outputId": "21432ae1-a6b1-45d5-8b00-d1c0105afb1c"
      },
      "execution_count": 31,
      "outputs": [
        {
          "metadata": {
            "tags": null
          },
          "name": "stdout",
          "output_type": "stream",
          "text": [
            "df_title_principals_selected and df_name_basics_selected joined table size:  (20190998, 8)\n",
            "joined table size:  (20187521, 12)\n",
            "CPU times: user 781 ms, sys: 83.9 ms, total: 865 ms\n",
            "Wall time: 4min 47s\n"
          ]
        }
      ]
    },
    {
      "cell_type": "code",
      "source": [
        "%%time\n",
        "data6 = df_title_principals_selected.join(df_name_basics_selected, \"nconst\", \"inner\")\n",
        "print(\"df_title_principals_selected and df_name_basics_selected joined table size: \", (data6.count(), len(data6.columns)))\n",
        "data6 = data6.join(df_title_basic_selected, \"tconst\", \"left\")\n",
        "print(\"joined table size: \", (data6.count(), len(data6.columns)))"
      ],
      "metadata": {
        "colab": {
          "base_uri": "https://localhost:8080/"
        },
        "id": "OnZqhsRdR0Ht",
        "outputId": "d715c9b2-ffa9-4894-9a05-c9e5f8b75508"
      },
      "execution_count": 32,
      "outputs": [
        {
          "metadata": {
            "tags": null
          },
          "name": "stdout",
          "output_type": "stream",
          "text": [
            "df_title_principals_selected and df_name_basics_selected joined table size:  (20190998, 8)\n",
            "joined table size:  (20190998, 12)\n",
            "CPU times: user 866 ms, sys: 59.5 ms, total: 925 ms\n",
            "Wall time: 4min 55s\n"
          ]
        }
      ]
    },
    {
      "cell_type": "code",
      "source": [
        "%%time\n",
        "data7 = df_title_principals_selected.join(df_name_basics_selected, \"nconst\", \"left\")\n",
        "print(\"df_title_principals_selected and df_name_basics_selected joined table size: \", (data7.count(), len(data7.columns)))\n",
        "data7 = data7.join(df_title_basic_selected, \"tconst\", \"inner\")\n",
        "print(\"joined table size: \", (data7.count(), len(data7.columns)))"
      ],
      "metadata": {
        "colab": {
          "base_uri": "https://localhost:8080/"
        },
        "id": "gCmSaja_R3sa",
        "outputId": "f96b72f5-fe90-4842-c3b6-82eb92ac07ad"
      },
      "execution_count": 33,
      "outputs": [
        {
          "metadata": {
            "tags": null
          },
          "name": "stdout",
          "output_type": "stream",
          "text": [
            "df_title_principals_selected and df_name_basics_selected joined table size:  (20815083, 8)\n",
            "joined table size:  (20811538, 12)\n",
            "CPU times: user 797 ms, sys: 80.7 ms, total: 877 ms\n",
            "Wall time: 4min 50s\n"
          ]
        }
      ]
    },
    {
      "cell_type": "code",
      "source": [
        "%%time\n",
        "data8 = df_title_principals_selected.join(df_name_basics_selected, \"nconst\", \"left\")\n",
        "print(\"df_title_principals_selected and df_name_basics_selected joined table size: \", (data8.count(), len(data8.columns)))\n",
        "data8 = data8.join(df_title_basic_selected, \"tconst\", \"left\")\n",
        "print(\"joined table size: \", (data8.count(), len(data8.columns)))"
      ],
      "metadata": {
        "colab": {
          "base_uri": "https://localhost:8080/"
        },
        "id": "TrwLLFcrR7OG",
        "outputId": "f82cdb25-9ba4-420b-8318-1adeed2a5f63"
      },
      "execution_count": 34,
      "outputs": [
        {
          "metadata": {
            "tags": null
          },
          "name": "stdout",
          "output_type": "stream",
          "text": [
            "df_title_principals_selected and df_name_basics_selected joined table size:  (20815083, 8)\n",
            "joined table size:  (20815083, 12)\n",
            "CPU times: user 873 ms, sys: 78.3 ms, total: 951 ms\n",
            "Wall time: 4min 58s\n"
          ]
        }
      ]
    },
    {
      "cell_type": "code",
      "source": [
        "%%time\n",
        "data9 = df_title_basic_selected.join(df_title_principals_selected, \"tconst\", \"inner\")\n",
        "print(\"df_title_basic_selected and df_title_principals_selected joined table size: \", (data9.count(), len(data9.columns)))\n",
        "data9 = data9.join(df_name_basics_selected, \"nconst\", \"inner\")\n",
        "print(\"joined table size: \", (data9.count(), len(data9.columns)))"
      ],
      "metadata": {
        "colab": {
          "base_uri": "https://localhost:8080/"
        },
        "id": "Yxv527kQR-a_",
        "outputId": "908772fe-cbee-47fe-9577-f610337d0c71"
      },
      "execution_count": 35,
      "outputs": [
        {
          "metadata": {
            "tags": null
          },
          "name": "stdout",
          "output_type": "stream",
          "text": [
            "df_title_basic_selected and df_title_principals_selected joined table size:  (20811538, 8)\n",
            "joined table size:  (20187521, 12)\n",
            "CPU times: user 804 ms, sys: 69.1 ms, total: 873 ms\n",
            "Wall time: 4min 40s\n"
          ]
        }
      ]
    },
    {
      "cell_type": "code",
      "source": [
        "%%time\n",
        "data10 = df_title_basic_selected.join(df_title_principals_selected, \"tconst\", \"inner\")\n",
        "print(\"df_title_basic_selected and df_title_principals_selected joined table size: \", (data10.count(), len(data10.columns)))\n",
        "data10 = data10.join(df_name_basics_selected, \"nconst\", \"right\")\n",
        "print(\"joined table size: \", (data10.count(), len(data10.columns)))"
      ],
      "metadata": {
        "colab": {
          "base_uri": "https://localhost:8080/"
        },
        "id": "3DXbwEw7SBhw",
        "outputId": "0422ceb8-b3d3-46a3-ab56-b9c8cfc00972"
      },
      "execution_count": 36,
      "outputs": [
        {
          "metadata": {
            "tags": null
          },
          "name": "stdout",
          "output_type": "stream",
          "text": [
            "df_title_basic_selected and df_title_principals_selected joined table size:  (20811538, 8)\n",
            "joined table size:  (22559574, 12)\n",
            "CPU times: user 772 ms, sys: 69.8 ms, total: 842 ms\n",
            "Wall time: 4min 38s\n"
          ]
        }
      ]
    },
    {
      "cell_type": "code",
      "source": [
        "%%time\n",
        "data11 = df_title_basic_selected.join(df_title_principals_selected, \"tconst\", \"right\")\n",
        "print(\"df_title_basic_selected and df_title_principals_selected joined table size: \", (data11.count(), len(data11.columns)))\n",
        "data11 = data11.join(df_name_basics_selected, \"nconst\", \"inner\")\n",
        "print(\"joined table size: \", (data11.count(), len(data11.columns)))"
      ],
      "metadata": {
        "colab": {
          "base_uri": "https://localhost:8080/"
        },
        "id": "vHyGoIQ6SE9Y",
        "outputId": "6a1adafc-8afe-4ef4-c3eb-69a6bbe7a255"
      },
      "execution_count": 37,
      "outputs": [
        {
          "metadata": {
            "tags": null
          },
          "name": "stdout",
          "output_type": "stream",
          "text": [
            "df_title_basic_selected and df_title_principals_selected joined table size:  (20815083, 8)\n",
            "joined table size:  (20190998, 12)\n",
            "CPU times: user 783 ms, sys: 70.2 ms, total: 854 ms\n",
            "Wall time: 4min 38s\n"
          ]
        }
      ]
    },
    {
      "cell_type": "code",
      "source": [
        "%%time\n",
        "data12 = df_title_basic_selected.join(df_title_principals_selected, \"tconst\", \"right\")\n",
        "print(\"df_title_basic_selected and df_title_principals_selected joined table size: \", (data12.count(), len(data12.columns)))\n",
        "data12 = data12.join(df_name_basics_selected, \"nconst\", \"right\")\n",
        "print(\"joined table size: \", (data12.count(), len(data12.columns)))"
      ],
      "metadata": {
        "colab": {
          "base_uri": "https://localhost:8080/"
        },
        "id": "SyunVzUySHve",
        "outputId": "8e3e6525-121c-4b55-bd13-4e6c30cf67eb"
      },
      "execution_count": 38,
      "outputs": [
        {
          "metadata": {
            "tags": null
          },
          "name": "stdout",
          "output_type": "stream",
          "text": [
            "df_title_basic_selected and df_title_principals_selected joined table size:  (20815083, 8)\n",
            "joined table size:  (22562970, 12)\n",
            "CPU times: user 776 ms, sys: 76.1 ms, total: 852 ms\n",
            "Wall time: 4min 37s\n"
          ]
        }
      ]
    },
    {
      "cell_type": "code",
      "source": [
        "%%time\n",
        "data13 = df_title_principals_selected.join(df_title_basic_selected, \"tconst\", \"inner\")\n",
        "print(\"df_title_principals_selected and df_title_basic_selected joined table size: \", (data13.count(), len(data13.columns)))\n",
        "data13 = data13.join(df_name_basics_selected, \"nconst\", \"inner\")\n",
        "print(\"joined table size: \", (data13.count(), len(data13.columns)))"
      ],
      "metadata": {
        "colab": {
          "base_uri": "https://localhost:8080/"
        },
        "id": "uGlaI6jUSKXZ",
        "outputId": "f4eb44a5-2912-479e-de95-96038c5f0c87"
      },
      "execution_count": 39,
      "outputs": [
        {
          "metadata": {
            "tags": null
          },
          "name": "stdout",
          "output_type": "stream",
          "text": [
            "df_title_principals_selected and df_title_basic_selected joined table size:  (20811538, 8)\n",
            "joined table size:  (20187521, 12)\n",
            "CPU times: user 842 ms, sys: 113 ms, total: 955 ms\n",
            "Wall time: 4min 51s\n"
          ]
        }
      ]
    },
    {
      "cell_type": "code",
      "source": [
        "%%time\n",
        "data14 = df_title_principals_selected.join(df_title_basic_selected, \"tconst\", \"inner\")\n",
        "print(\"df_title_principals_selected and df_title_basic_selected joined table size: \", (data14.count(), len(data14.columns)))\n",
        "data14 = data14.join(df_name_basics_selected, \"nconst\", \"right\")\n",
        "print(\"joined table size: \", (data14.count(), len(data14.columns)))"
      ],
      "metadata": {
        "colab": {
          "base_uri": "https://localhost:8080/"
        },
        "id": "QFl-nEfMSNKO",
        "outputId": "c6694e51-b0d5-4ad9-ad3c-65a8f5100ae8"
      },
      "execution_count": 40,
      "outputs": [
        {
          "metadata": {
            "tags": null
          },
          "name": "stdout",
          "output_type": "stream",
          "text": [
            "df_title_principals_selected and df_title_basic_selected joined table size:  (20811538, 8)\n",
            "joined table size:  (22559574, 12)\n",
            "CPU times: user 795 ms, sys: 87.3 ms, total: 882 ms\n",
            "Wall time: 4min 40s\n"
          ]
        }
      ]
    },
    {
      "cell_type": "code",
      "source": [
        "%%time\n",
        "data15 = df_title_principals_selected.join(df_title_basic_selected, \"tconst\", \"left\")\n",
        "print(\"df_title_principals_selected and df_title_basic_selected joined table size: \", (data15.count(), len(data15.columns)))\n",
        "data15 = data15.join(df_name_basics_selected, \"nconst\", \"inner\")\n",
        "print(\"joined table size: \", (data15.count(), len(data15.columns)))"
      ],
      "metadata": {
        "colab": {
          "base_uri": "https://localhost:8080/"
        },
        "id": "TyuoSVXrSP6u",
        "outputId": "51f5388c-f2c8-4fb2-8f41-d90533af46ed"
      },
      "execution_count": 41,
      "outputs": [
        {
          "metadata": {
            "tags": null
          },
          "name": "stdout",
          "output_type": "stream",
          "text": [
            "df_title_principals_selected and df_title_basic_selected joined table size:  (20815083, 8)\n",
            "joined table size:  (20190998, 12)\n",
            "CPU times: user 826 ms, sys: 71.7 ms, total: 898 ms\n",
            "Wall time: 4min 39s\n"
          ]
        }
      ]
    },
    {
      "cell_type": "code",
      "source": [
        "%%time\n",
        "data16 = df_title_principals_selected.join(df_title_basic_selected, \"tconst\", \"left\")\n",
        "print(\"df_title_principals_selected and df_title_basic_selected joined table size: \", (data16.count(), len(data16.columns)))\n",
        "data16 = data16.join(df_name_basics_selected, \"nconst\", \"right\")\n",
        "print(\"joined table size: \", (data16.count(), len(data16.columns)))"
      ],
      "metadata": {
        "colab": {
          "base_uri": "https://localhost:8080/"
        },
        "id": "_PI46FTBSSt8",
        "outputId": "12ca0e1e-adc8-40d6-f25e-6d6149d5abe9"
      },
      "execution_count": 42,
      "outputs": [
        {
          "metadata": {
            "tags": null
          },
          "name": "stdout",
          "output_type": "stream",
          "text": [
            "df_title_principals_selected and df_title_basic_selected joined table size:  (20815083, 8)\n",
            "joined table size:  (22562970, 12)\n",
            "CPU times: user 768 ms, sys: 67.2 ms, total: 835 ms\n",
            "Wall time: 4min 33s\n"
          ]
        }
      ]
    },
    {
      "cell_type": "markdown",
      "source": [
        "Sprawdzimy jakie braki mają nasze dane."
      ],
      "metadata": {
        "id": "VTHMpn8vQKLE"
      }
    },
    {
      "cell_type": "code",
      "source": [
        "print(data11.filter(data11.primaryName.isNull()).count())\n",
        "print(data11.filter(data11.category.isNull()).count())\n",
        "print(data11.filter(data11.genres.isNull()).count())"
      ],
      "metadata": {
        "colab": {
          "base_uri": "https://localhost:8080/"
        },
        "id": "YFBmjRqdTucp",
        "outputId": "c536b9ef-ba70-4606-ff20-54dc4a2b84ea"
      },
      "execution_count": 43,
      "outputs": [
        {
          "metadata": {
            "tags": null
          },
          "name": "stdout",
          "output_type": "stream",
          "text": [
            "0\n",
            "0\n",
            "3477\n"
          ]
        }
      ]
    },
    {
      "cell_type": "markdown",
      "source": [
        "Wraźnie widać, że łączenie tabel bez zbędnych rekordów jest szybsze niż łączenie pełnych tabel. Po usunięciu zbędnych danych, różnice w czasach różnych kombinacji łączeń są już niewielkie. Ostatecznie wybieramy następujący sposób łączenia:\n",
        "* df_title_basic_selected i df_title_principals_selected, typ łączenia \"right\"\n",
        "* wcześniej złączone dane i df_name_basics_selected, typ łączenia \"inner\".\n",
        "\n",
        "W danch tych nie ma żadnych nadmiarowych aktorów, pojawiają się jedynie braki co do filmów, gdyż nie wszystkie filmy, w których grali aktorzy pojawiają się w bazie.\n",
        "\n",
        "Ten sposób łączenia danych zostanie zastosowany w notatniku głównym.\n"
      ],
      "metadata": {
        "id": "ZIR-r7kX9z9T"
      }
    },
    {
      "cell_type": "code",
      "source": [
        "print(\"df_name_basics_selected dataframe size: \", (df_name_basics_selected.count(), len(df_name_basics_selected.columns)))\n",
        "print(\"df_title_principals_selected dataframe size: \", (df_title_principals_selected.count(), len(df_title_principals_selected.columns)))\n",
        "print(\"df_title_basic_selected dataframe size: \", (df_title_basic_selected.count(), len(df_title_basic_selected.columns)))\n",
        "data = df_title_basic_selected.join(df_title_principals_selected, \"tconst\", \"right\")\n",
        "print(\"joined dataframe size: \", (data.count(), len(data.columns)))\n",
        "data = data.join(df_name_basics_selected, \"nconst\", \"inner\")\n",
        "print(\"joined dataframe size: \", (data.count(), len(data.columns)))"
      ],
      "metadata": {
        "id": "zMqqAJ7zBJWL",
        "outputId": "61d2aa1f-abe0-4aa1-f6a4-80658a2522e9",
        "colab": {
          "base_uri": "https://localhost:8080/"
        }
      },
      "execution_count": 44,
      "outputs": [
        {
          "metadata": {
            "tags": null
          },
          "name": "stdout",
          "output_type": "stream",
          "text": [
            "df_name_basics_selected dataframe size:  (4428079, 5)\n",
            "df_title_principals_selected dataframe size:  (20815083, 4)\n",
            "df_title_basic_selected dataframe size:  (9389356, 5)\n",
            "joined dataframe size:  (20815083, 8)\n",
            "joined dataframe size:  (20190998, 12)\n"
          ]
        }
      ]
    },
    {
      "cell_type": "markdown",
      "source": [
        "# Wybierzmy przykładowe wiersze z końcowego dataframe'u"
      ],
      "metadata": {
        "id": "hKXuX-JdE9ED"
      }
    },
    {
      "cell_type": "code",
      "source": [
        "sample = data.rdd.takeSample(False, 5)"
      ],
      "metadata": {
        "id": "bH43D49EE84F"
      },
      "execution_count": 45,
      "outputs": []
    },
    {
      "cell_type": "code",
      "source": [
        "import pandas as pd\n",
        "sample = pd.DataFrame(sample, columns = data.columns)\n",
        "sample"
      ],
      "metadata": {
        "id": "kW8-_TXYLo10",
        "outputId": "1fb4d7e4-a937-4662-967d-bc820b9afcb8",
        "colab": {
          "base_uri": "https://localhost:8080/",
          "height": 320
        }
      },
      "execution_count": 46,
      "outputs": [
        {
          "output_type": "execute_result",
          "data": {
            "text/plain": [
              "      nconst      tconst  titleType              originalTitle isAdult  \\\n",
              "0  nm2670451   tt6314350      video  Rocco's Perfect Slaves 10       1   \n",
              "1  nm3065113   tt9690628      short     My Friend At The House       0   \n",
              "2  nm0260008   tt5929960  tvEpisode           CGI Palz: CG-Rom       0   \n",
              "3  nm0001147   tt0522866  tvEpisode       Misery Loves Company       0   \n",
              "4  nm1271156  tt12021868  tvEpisode             Episode #1.531       0   \n",
              "\n",
              "                    genres category        characters        primaryName  \\\n",
              "0                    Adult    actor                \\N        Mike Angelo   \n",
              "1             Comedy,Short  actress        [\"Maggie\"]      Laura Maynard   \n",
              "2  Animation,Comedy,Family    actor         [\"Rooty\"]         John Erwin   \n",
              "3            Drama,Romance  actress  [\"Brenda Walsh\"]    Shannen Doherty   \n",
              "4                   Comedy    actor       [\"Various\"]  Antonio Aquitania   \n",
              "\n",
              "  birthYear deathYear                           knownForTitles  \n",
              "0      1981        \\N  tt1686037,tt2875866,tt5166618,tt2623476  \n",
              "1        \\N        \\N            tt1258223,tt1686907,tt9690628  \n",
              "2      1936        \\N  tt0089984,tt0276016,tt0112431,tt0126158  \n",
              "3      1971        \\N  tt0113749,tt0158552,tt0097493,tt0098749  \n",
              "4      1977        \\N  tt5807954,tt1129401,tt2995148,tt0372051  "
            ],
            "text/html": [
              "\n",
              "  <div id=\"df-23e08314-62bd-47d1-9273-45c7042de550\">\n",
              "    <div class=\"colab-df-container\">\n",
              "      <div>\n",
              "<style scoped>\n",
              "    .dataframe tbody tr th:only-of-type {\n",
              "        vertical-align: middle;\n",
              "    }\n",
              "\n",
              "    .dataframe tbody tr th {\n",
              "        vertical-align: top;\n",
              "    }\n",
              "\n",
              "    .dataframe thead th {\n",
              "        text-align: right;\n",
              "    }\n",
              "</style>\n",
              "<table border=\"1\" class=\"dataframe\">\n",
              "  <thead>\n",
              "    <tr style=\"text-align: right;\">\n",
              "      <th></th>\n",
              "      <th>nconst</th>\n",
              "      <th>tconst</th>\n",
              "      <th>titleType</th>\n",
              "      <th>originalTitle</th>\n",
              "      <th>isAdult</th>\n",
              "      <th>genres</th>\n",
              "      <th>category</th>\n",
              "      <th>characters</th>\n",
              "      <th>primaryName</th>\n",
              "      <th>birthYear</th>\n",
              "      <th>deathYear</th>\n",
              "      <th>knownForTitles</th>\n",
              "    </tr>\n",
              "  </thead>\n",
              "  <tbody>\n",
              "    <tr>\n",
              "      <th>0</th>\n",
              "      <td>nm2670451</td>\n",
              "      <td>tt6314350</td>\n",
              "      <td>video</td>\n",
              "      <td>Rocco's Perfect Slaves 10</td>\n",
              "      <td>1</td>\n",
              "      <td>Adult</td>\n",
              "      <td>actor</td>\n",
              "      <td>\\N</td>\n",
              "      <td>Mike Angelo</td>\n",
              "      <td>1981</td>\n",
              "      <td>\\N</td>\n",
              "      <td>tt1686037,tt2875866,tt5166618,tt2623476</td>\n",
              "    </tr>\n",
              "    <tr>\n",
              "      <th>1</th>\n",
              "      <td>nm3065113</td>\n",
              "      <td>tt9690628</td>\n",
              "      <td>short</td>\n",
              "      <td>My Friend At The House</td>\n",
              "      <td>0</td>\n",
              "      <td>Comedy,Short</td>\n",
              "      <td>actress</td>\n",
              "      <td>[\"Maggie\"]</td>\n",
              "      <td>Laura Maynard</td>\n",
              "      <td>\\N</td>\n",
              "      <td>\\N</td>\n",
              "      <td>tt1258223,tt1686907,tt9690628</td>\n",
              "    </tr>\n",
              "    <tr>\n",
              "      <th>2</th>\n",
              "      <td>nm0260008</td>\n",
              "      <td>tt5929960</td>\n",
              "      <td>tvEpisode</td>\n",
              "      <td>CGI Palz: CG-Rom</td>\n",
              "      <td>0</td>\n",
              "      <td>Animation,Comedy,Family</td>\n",
              "      <td>actor</td>\n",
              "      <td>[\"Rooty\"]</td>\n",
              "      <td>John Erwin</td>\n",
              "      <td>1936</td>\n",
              "      <td>\\N</td>\n",
              "      <td>tt0089984,tt0276016,tt0112431,tt0126158</td>\n",
              "    </tr>\n",
              "    <tr>\n",
              "      <th>3</th>\n",
              "      <td>nm0001147</td>\n",
              "      <td>tt0522866</td>\n",
              "      <td>tvEpisode</td>\n",
              "      <td>Misery Loves Company</td>\n",
              "      <td>0</td>\n",
              "      <td>Drama,Romance</td>\n",
              "      <td>actress</td>\n",
              "      <td>[\"Brenda Walsh\"]</td>\n",
              "      <td>Shannen Doherty</td>\n",
              "      <td>1971</td>\n",
              "      <td>\\N</td>\n",
              "      <td>tt0113749,tt0158552,tt0097493,tt0098749</td>\n",
              "    </tr>\n",
              "    <tr>\n",
              "      <th>4</th>\n",
              "      <td>nm1271156</td>\n",
              "      <td>tt12021868</td>\n",
              "      <td>tvEpisode</td>\n",
              "      <td>Episode #1.531</td>\n",
              "      <td>0</td>\n",
              "      <td>Comedy</td>\n",
              "      <td>actor</td>\n",
              "      <td>[\"Various\"]</td>\n",
              "      <td>Antonio Aquitania</td>\n",
              "      <td>1977</td>\n",
              "      <td>\\N</td>\n",
              "      <td>tt5807954,tt1129401,tt2995148,tt0372051</td>\n",
              "    </tr>\n",
              "  </tbody>\n",
              "</table>\n",
              "</div>\n",
              "      <button class=\"colab-df-convert\" onclick=\"convertToInteractive('df-23e08314-62bd-47d1-9273-45c7042de550')\"\n",
              "              title=\"Convert this dataframe to an interactive table.\"\n",
              "              style=\"display:none;\">\n",
              "        \n",
              "  <svg xmlns=\"http://www.w3.org/2000/svg\" height=\"24px\"viewBox=\"0 0 24 24\"\n",
              "       width=\"24px\">\n",
              "    <path d=\"M0 0h24v24H0V0z\" fill=\"none\"/>\n",
              "    <path d=\"M18.56 5.44l.94 2.06.94-2.06 2.06-.94-2.06-.94-.94-2.06-.94 2.06-2.06.94zm-11 1L8.5 8.5l.94-2.06 2.06-.94-2.06-.94L8.5 2.5l-.94 2.06-2.06.94zm10 10l.94 2.06.94-2.06 2.06-.94-2.06-.94-.94-2.06-.94 2.06-2.06.94z\"/><path d=\"M17.41 7.96l-1.37-1.37c-.4-.4-.92-.59-1.43-.59-.52 0-1.04.2-1.43.59L10.3 9.45l-7.72 7.72c-.78.78-.78 2.05 0 2.83L4 21.41c.39.39.9.59 1.41.59.51 0 1.02-.2 1.41-.59l7.78-7.78 2.81-2.81c.8-.78.8-2.07 0-2.86zM5.41 20L4 18.59l7.72-7.72 1.47 1.35L5.41 20z\"/>\n",
              "  </svg>\n",
              "      </button>\n",
              "      \n",
              "  <style>\n",
              "    .colab-df-container {\n",
              "      display:flex;\n",
              "      flex-wrap:wrap;\n",
              "      gap: 12px;\n",
              "    }\n",
              "\n",
              "    .colab-df-convert {\n",
              "      background-color: #E8F0FE;\n",
              "      border: none;\n",
              "      border-radius: 50%;\n",
              "      cursor: pointer;\n",
              "      display: none;\n",
              "      fill: #1967D2;\n",
              "      height: 32px;\n",
              "      padding: 0 0 0 0;\n",
              "      width: 32px;\n",
              "    }\n",
              "\n",
              "    .colab-df-convert:hover {\n",
              "      background-color: #E2EBFA;\n",
              "      box-shadow: 0px 1px 2px rgba(60, 64, 67, 0.3), 0px 1px 3px 1px rgba(60, 64, 67, 0.15);\n",
              "      fill: #174EA6;\n",
              "    }\n",
              "\n",
              "    [theme=dark] .colab-df-convert {\n",
              "      background-color: #3B4455;\n",
              "      fill: #D2E3FC;\n",
              "    }\n",
              "\n",
              "    [theme=dark] .colab-df-convert:hover {\n",
              "      background-color: #434B5C;\n",
              "      box-shadow: 0px 1px 3px 1px rgba(0, 0, 0, 0.15);\n",
              "      filter: drop-shadow(0px 1px 2px rgba(0, 0, 0, 0.3));\n",
              "      fill: #FFFFFF;\n",
              "    }\n",
              "  </style>\n",
              "\n",
              "      <script>\n",
              "        const buttonEl =\n",
              "          document.querySelector('#df-23e08314-62bd-47d1-9273-45c7042de550 button.colab-df-convert');\n",
              "        buttonEl.style.display =\n",
              "          google.colab.kernel.accessAllowed ? 'block' : 'none';\n",
              "\n",
              "        async function convertToInteractive(key) {\n",
              "          const element = document.querySelector('#df-23e08314-62bd-47d1-9273-45c7042de550');\n",
              "          const dataTable =\n",
              "            await google.colab.kernel.invokeFunction('convertToInteractive',\n",
              "                                                     [key], {});\n",
              "          if (!dataTable) return;\n",
              "\n",
              "          const docLinkHtml = 'Like what you see? Visit the ' +\n",
              "            '<a target=\"_blank\" href=https://colab.research.google.com/notebooks/data_table.ipynb>data table notebook</a>'\n",
              "            + ' to learn more about interactive tables.';\n",
              "          element.innerHTML = '';\n",
              "          dataTable['output_type'] = 'display_data';\n",
              "          await google.colab.output.renderOutput(dataTable, element);\n",
              "          const docLink = document.createElement('div');\n",
              "          docLink.innerHTML = docLinkHtml;\n",
              "          element.appendChild(docLink);\n",
              "        }\n",
              "      </script>\n",
              "    </div>\n",
              "  </div>\n",
              "  "
            ]
          },
          "metadata": {},
          "execution_count": 46
        }
      ]
    }
  ]
}