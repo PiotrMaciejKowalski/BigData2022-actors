{
  "nbformat": 4,
  "nbformat_minor": 0,
  "metadata": {
    "colab": {
      "provenance": [],
      "collapsed_sections": [
        "kgYZYlTutA0O",
        "or9x68JxXc10",
        "pPWxy5j_aEvo",
        "s-hzkKehxgnQ",
        "snoopt7lY71j"
      ],
      "include_colab_link": true
    },
    "kernelspec": {
      "name": "python3",
      "display_name": "Python 3"
    },
    "language_info": {
      "name": "python"
    }
  },
  "cells": [
    {
      "cell_type": "markdown",
      "metadata": {
        "id": "view-in-github",
        "colab_type": "text"
      },
      "source": [
        "<a href=\"https://colab.research.google.com/github/PiotrMaciejKowalski/BigData2022-actors/blob/czasy-joinow/colabs/Czasy_joinow.ipynb\" target=\"_parent\"><img src=\"https://colab.research.google.com/assets/colab-badge.svg\" alt=\"Open In Colab\"/></a>"
      ]
    },
    {
      "cell_type": "markdown",
      "source": [
        "#Setup sparka"
      ],
      "metadata": {
        "id": "Vzb444kPW31g"
      }
    },
    {
      "cell_type": "markdown",
      "source": [
        "##Setup sparka"
      ],
      "metadata": {
        "id": "Ny5PYKNbsHju"
      }
    },
    {
      "cell_type": "code",
      "source": [
        "!pip install pyspark py4j\n",
        "!pip install -q findspark\n",
        "!apt-get install openjdk-8-jdk-headless -qq > /dev/null\n",
        "!wget ftp://ftp.ps.pl/pub/apache/spark/spark-3.3.1/spark-3.3.1-bin-hadoop2.tgz\n",
        "!tar xf spark-3.3.1-bin-hadoop2.tgz"
      ],
      "metadata": {
        "colab": {
          "base_uri": "https://localhost:8080/"
        },
        "id": "UxTbMYkeLrk6",
        "outputId": "d784dfb2-2541-49ca-bb10-ee00f7aaf49a"
      },
      "execution_count": 3,
      "outputs": [
        {
          "output_type": "stream",
          "name": "stdout",
          "text": [
            "Looking in indexes: https://pypi.org/simple, https://us-python.pkg.dev/colab-wheels/public/simple/\n",
            "Collecting pyspark\n",
            "  Downloading pyspark-3.3.1.tar.gz (281.4 MB)\n",
            "\u001b[K     |████████████████████████████████| 281.4 MB 38 kB/s \n",
            "\u001b[?25hCollecting py4j\n",
            "  Downloading py4j-0.10.9.7-py2.py3-none-any.whl (200 kB)\n",
            "\u001b[K     |████████████████████████████████| 200 kB 52.4 MB/s \n",
            "\u001b[?25h  Downloading py4j-0.10.9.5-py2.py3-none-any.whl (199 kB)\n",
            "\u001b[K     |████████████████████████████████| 199 kB 55.8 MB/s \n",
            "\u001b[?25hBuilding wheels for collected packages: pyspark\n",
            "  Building wheel for pyspark (setup.py) ... \u001b[?25l\u001b[?25hdone\n",
            "  Created wheel for pyspark: filename=pyspark-3.3.1-py2.py3-none-any.whl size=281845514 sha256=f91307b57cef325e0227fff1957726e7195f3eb53fa551df87a3a0ff7f8eeea7\n",
            "  Stored in directory: /root/.cache/pip/wheels/42/59/f5/79a5bf931714dcd201b26025347785f087370a10a3329a899c\n",
            "Successfully built pyspark\n",
            "Installing collected packages: py4j, pyspark\n",
            "Successfully installed py4j-0.10.9.5 pyspark-3.3.1\n",
            "--2022-11-20 18:25:26--  ftp://ftp.ps.pl/pub/apache/spark/spark-3.3.1/spark-3.3.1-bin-hadoop2.tgz\n",
            "           => ‘spark-3.3.1-bin-hadoop2.tgz’\n",
            "Resolving ftp.ps.pl (ftp.ps.pl)... 212.14.28.36, 2001:4c58:62:2::36\n",
            "Connecting to ftp.ps.pl (ftp.ps.pl)|212.14.28.36|:21... connected.\n",
            "Logging in as anonymous ... Logged in!\n",
            "==> SYST ... done.    ==> PWD ... done.\n",
            "==> TYPE I ... done.  ==> CWD (1) /pub/apache/spark/spark-3.3.1 ... done.\n",
            "==> SIZE spark-3.3.1-bin-hadoop2.tgz ... 274099817\n",
            "==> PASV ... done.    ==> RETR spark-3.3.1-bin-hadoop2.tgz ... done.\n",
            "Length: 274099817 (261M) (unauthoritative)\n",
            "\n",
            "spark-3.3.1-bin-had 100%[===================>] 261.40M  22.8MB/s    in 12s     \n",
            "\n",
            "2022-11-20 18:25:41 (21.0 MB/s) - ‘spark-3.3.1-bin-hadoop2.tgz’ saved [274099817]\n",
            "\n"
          ]
        }
      ]
    },
    {
      "cell_type": "code",
      "source": [
        "import pyspark\n",
        "import findspark\n",
        "from pyspark.sql import SparkSession\n",
        "import os"
      ],
      "metadata": {
        "id": "g_c507iBLsSW"
      },
      "execution_count": 4,
      "outputs": []
    },
    {
      "cell_type": "code",
      "source": [
        "os.environ[\"JAVA_HOME\"] = \"/usr/lib/jvm/java-8-openjdk-amd64\"\n",
        "os.environ[\"SPARK_HOME\"] = \"/content/spark-3.3.1-bin-hadoop2\"\n",
        "spark=SparkSession.builder.appName('Colab').getOrCreate()\n",
        "spark"
      ],
      "metadata": {
        "id": "1rwBnBMwW88n",
        "outputId": "372a8446-59c5-4cba-99f1-0d4360c7aa23",
        "colab": {
          "base_uri": "https://localhost:8080/",
          "height": 219
        }
      },
      "execution_count": 5,
      "outputs": [
        {
          "output_type": "execute_result",
          "data": {
            "text/plain": [
              "<pyspark.sql.session.SparkSession at 0x7f9c45382a50>"
            ],
            "text/html": [
              "\n",
              "            <div>\n",
              "                <p><b>SparkSession - in-memory</b></p>\n",
              "                \n",
              "        <div>\n",
              "            <p><b>SparkContext</b></p>\n",
              "\n",
              "            <p><a href=\"http://f393f15dba8f:4040\">Spark UI</a></p>\n",
              "\n",
              "            <dl>\n",
              "              <dt>Version</dt>\n",
              "                <dd><code>v3.3.1</code></dd>\n",
              "              <dt>Master</dt>\n",
              "                <dd><code>local[*]</code></dd>\n",
              "              <dt>AppName</dt>\n",
              "                <dd><code>Colab</code></dd>\n",
              "            </dl>\n",
              "        </div>\n",
              "        \n",
              "            </div>\n",
              "        "
            ]
          },
          "metadata": {},
          "execution_count": 5
        }
      ]
    },
    {
      "cell_type": "markdown",
      "source": [
        "#Pobranie danych"
      ],
      "metadata": {
        "id": "p0l3OAblXJ2w"
      }
    },
    {
      "cell_type": "markdown",
      "source": [
        "##Import danych"
      ],
      "metadata": {
        "id": "kgYZYlTutA0O"
      }
    },
    {
      "cell_type": "code",
      "source": [
        "!wget https://datasets.imdbws.com/name.basics.tsv.gz\n",
        "!wget https://datasets.imdbws.com/title.akas.tsv.gz\n",
        "!wget https://datasets.imdbws.com/title.basics.tsv.gz\n",
        "!wget https://datasets.imdbws.com/title.crew.tsv.gz\n",
        "!wget https://datasets.imdbws.com/title.episode.tsv.gz\n",
        "!wget https://datasets.imdbws.com/title.principals.tsv.gz\n",
        "!wget https://datasets.imdbws.com/title.ratings.tsv.gz"
      ],
      "metadata": {
        "id": "SciXhN5JXONa",
        "colab": {
          "base_uri": "https://localhost:8080/"
        },
        "outputId": "8bbc63bb-4500-4cc8-e28b-2f1a55806c5c"
      },
      "execution_count": 6,
      "outputs": [
        {
          "output_type": "stream",
          "name": "stdout",
          "text": [
            "--2022-11-20 18:29:40--  https://datasets.imdbws.com/name.basics.tsv.gz\n",
            "Resolving datasets.imdbws.com (datasets.imdbws.com)... 13.249.98.73, 13.249.98.61, 13.249.98.91, ...\n",
            "Connecting to datasets.imdbws.com (datasets.imdbws.com)|13.249.98.73|:443... connected.\n",
            "HTTP request sent, awaiting response... 200 OK\n",
            "Length: 236619296 (226M) [binary/octet-stream]\n",
            "Saving to: ‘name.basics.tsv.gz’\n",
            "\n",
            "name.basics.tsv.gz  100%[===================>] 225.66M  90.6MB/s    in 2.5s    \n",
            "\n",
            "2022-11-20 18:29:42 (90.6 MB/s) - ‘name.basics.tsv.gz’ saved [236619296/236619296]\n",
            "\n",
            "--2022-11-20 18:29:43--  https://datasets.imdbws.com/title.akas.tsv.gz\n",
            "Resolving datasets.imdbws.com (datasets.imdbws.com)... 13.249.98.73, 13.249.98.61, 13.249.98.91, ...\n",
            "Connecting to datasets.imdbws.com (datasets.imdbws.com)|13.249.98.73|:443... connected.\n",
            "HTTP request sent, awaiting response... 200 OK\n",
            "Length: 287876715 (275M) [binary/octet-stream]\n",
            "Saving to: ‘title.akas.tsv.gz’\n",
            "\n",
            "title.akas.tsv.gz   100%[===================>] 274.54M  93.2MB/s    in 2.9s    \n",
            "\n",
            "2022-11-20 18:29:46 (93.2 MB/s) - ‘title.akas.tsv.gz’ saved [287876715/287876715]\n",
            "\n",
            "--2022-11-20 18:29:46--  https://datasets.imdbws.com/title.basics.tsv.gz\n",
            "Resolving datasets.imdbws.com (datasets.imdbws.com)... 13.249.98.73, 13.249.98.61, 13.249.98.91, ...\n",
            "Connecting to datasets.imdbws.com (datasets.imdbws.com)|13.249.98.73|:443... connected.\n",
            "HTTP request sent, awaiting response... 200 OK\n",
            "Length: 164075144 (156M) [binary/octet-stream]\n",
            "Saving to: ‘title.basics.tsv.gz’\n",
            "\n",
            "title.basics.tsv.gz 100%[===================>] 156.47M  74.7MB/s    in 2.1s    \n",
            "\n",
            "2022-11-20 18:29:48 (74.7 MB/s) - ‘title.basics.tsv.gz’ saved [164075144/164075144]\n",
            "\n",
            "--2022-11-20 18:29:48--  https://datasets.imdbws.com/title.crew.tsv.gz\n",
            "Resolving datasets.imdbws.com (datasets.imdbws.com)... 13.249.98.73, 13.249.98.61, 13.249.98.91, ...\n",
            "Connecting to datasets.imdbws.com (datasets.imdbws.com)|13.249.98.73|:443... connected.\n",
            "HTTP request sent, awaiting response... 200 OK\n",
            "Length: 62972838 (60M) [binary/octet-stream]\n",
            "Saving to: ‘title.crew.tsv.gz’\n",
            "\n",
            "title.crew.tsv.gz   100%[===================>]  60.05M  43.6MB/s    in 1.4s    \n",
            "\n",
            "2022-11-20 18:29:49 (43.6 MB/s) - ‘title.crew.tsv.gz’ saved [62972838/62972838]\n",
            "\n",
            "--2022-11-20 18:29:49--  https://datasets.imdbws.com/title.episode.tsv.gz\n",
            "Resolving datasets.imdbws.com (datasets.imdbws.com)... 13.249.98.73, 13.249.98.61, 13.249.98.91, ...\n",
            "Connecting to datasets.imdbws.com (datasets.imdbws.com)|13.249.98.73|:443... connected.\n",
            "HTTP request sent, awaiting response... 200 OK\n",
            "Length: 38580514 (37M) [binary/octet-stream]\n",
            "Saving to: ‘title.episode.tsv.gz’\n",
            "\n",
            "title.episode.tsv.g 100%[===================>]  36.79M  31.3MB/s    in 1.2s    \n",
            "\n",
            "2022-11-20 18:29:51 (31.3 MB/s) - ‘title.episode.tsv.gz’ saved [38580514/38580514]\n",
            "\n",
            "--2022-11-20 18:29:51--  https://datasets.imdbws.com/title.principals.tsv.gz\n",
            "Resolving datasets.imdbws.com (datasets.imdbws.com)... 13.249.98.73, 13.249.98.61, 13.249.98.91, ...\n",
            "Connecting to datasets.imdbws.com (datasets.imdbws.com)|13.249.98.73|:443... connected.\n",
            "HTTP request sent, awaiting response... 200 OK\n",
            "Length: 417775277 (398M) [binary/octet-stream]\n",
            "Saving to: ‘title.principals.tsv.gz’\n",
            "\n",
            "title.principals.ts 100%[===================>] 398.42M   131MB/s    in 3.0s    \n",
            "\n",
            "2022-11-20 18:29:54 (131 MB/s) - ‘title.principals.tsv.gz’ saved [417775277/417775277]\n",
            "\n",
            "--2022-11-20 18:29:54--  https://datasets.imdbws.com/title.ratings.tsv.gz\n",
            "Resolving datasets.imdbws.com (datasets.imdbws.com)... 13.249.98.73, 13.249.98.61, 13.249.98.91, ...\n",
            "Connecting to datasets.imdbws.com (datasets.imdbws.com)|13.249.98.73|:443... connected.\n",
            "HTTP request sent, awaiting response... 200 OK\n",
            "Length: 6272687 (6.0M) [binary/octet-stream]\n",
            "Saving to: ‘title.ratings.tsv.gz’\n",
            "\n",
            "title.ratings.tsv.g 100%[===================>]   5.98M  14.6MB/s    in 0.4s    \n",
            "\n",
            "2022-11-20 18:29:54 (14.6 MB/s) - ‘title.ratings.tsv.gz’ saved [6272687/6272687]\n",
            "\n"
          ]
        }
      ]
    },
    {
      "cell_type": "markdown",
      "source": [
        "##Rozpakowanie danych"
      ],
      "metadata": {
        "id": "or9x68JxXc10"
      }
    },
    {
      "cell_type": "code",
      "source": [
        "!gzip -dc /content/name.basics.tsv.gz > name.basics.csv\n",
        "!gzip -dc /content/title.akas.tsv.gz > title.akas.csv\n",
        "!gzip -dc /content/title.basics.tsv.gz > title.basic.csv\n",
        "!gzip -dc /content/title.crew.tsv.gz > title.crew.csv\n",
        "!gzip -dc /content/title.episode.tsv.gz > title.episode.csv\n",
        "!gzip -dc /content/title.principals.tsv.gz > title.principals.csv\n",
        "!gzip -dc /content/title.ratings.tsv.gz > title.ratings.csv"
      ],
      "metadata": {
        "id": "IpXAjtV4XeKx"
      },
      "execution_count": 7,
      "outputs": []
    },
    {
      "cell_type": "markdown",
      "source": [
        "#Wczytanie danych"
      ],
      "metadata": {
        "id": "pPWxy5j_aEvo"
      }
    },
    {
      "cell_type": "markdown",
      "source": [
        "##Wczytajmy dane z rozpakowanych plików"
      ],
      "metadata": {
        "id": "s-hzkKehxgnQ"
      }
    },
    {
      "cell_type": "code",
      "source": [
        "df_name_basics=spark.read.option(\"header\", \"true\").option(\"delimiter\", \"\\t\").csv('name.basics.csv' ) \n",
        "df_title_akas=spark.read.option(\"header\",\"true\").option(\"delimiter\", \"\\t\").csv('title.akas.csv')\n",
        "df_title_basic=spark.read.option(\"header\",\"true\").option(\"delimiter\", \"\\t\").csv('title.basic.csv')\n",
        "df_title_crew=spark.read.option(\"header\",\"true\").option(\"delimiter\", \"\\t\").csv('title.crew.csv')\n",
        "df_title_episode=spark.read.option(\"header\",\"true\").option(\"delimiter\",\"\\t\").csv('title.episode.csv')\n",
        "df_title_principals=spark.read.option(\"header\",\"true\").option(\"delimiter\",\"\\t\").csv('title.principals.csv')\n",
        "df_title_ratings=spark.read.option(\"header\",\"true\").option(\"delimiter\",\"\\t\").csv('title.ratings.csv')"
      ],
      "metadata": {
        "id": "skegmFMQXpcA"
      },
      "execution_count": 8,
      "outputs": []
    },
    {
      "cell_type": "markdown",
      "source": [
        "##Wyświetlmy dane"
      ],
      "metadata": {
        "id": "snoopt7lY71j"
      }
    },
    {
      "cell_type": "code",
      "source": [
        "df_name_basics.show(3)\n",
        "df_title_akas.show(3)\n",
        "df_title_basic.show(3)\n",
        "df_title_crew.show(3)\n",
        "df_title_episode.show(3)\n",
        "df_title_principals.show(3)\n",
        "df_title_ratings.show(3)"
      ],
      "metadata": {
        "id": "BQItTCh9ZBht",
        "colab": {
          "base_uri": "https://localhost:8080/"
        },
        "outputId": "9a3a7e53-c374-4f64-f85b-a8a93b2eab66"
      },
      "execution_count": 9,
      "outputs": [
        {
          "output_type": "stream",
          "name": "stdout",
          "text": [
            "+---------+---------------+---------+---------+--------------------+--------------------+\n",
            "|   nconst|    primaryName|birthYear|deathYear|   primaryProfession|      knownForTitles|\n",
            "+---------+---------------+---------+---------+--------------------+--------------------+\n",
            "|nm0000001|   Fred Astaire|     1899|     1987|soundtrack,actor,...|tt0031983,tt00504...|\n",
            "|nm0000002|  Lauren Bacall|     1924|     2014|  actress,soundtrack|tt0038355,tt01170...|\n",
            "|nm0000003|Brigitte Bardot|     1934|       \\N|actress,soundtrac...|tt0049189,tt00544...|\n",
            "+---------+---------------+---------+---------+--------------------+--------------------+\n",
            "only showing top 3 rows\n",
            "\n",
            "+---------+--------+--------------------+------+--------+-----------+-------------+---------------+\n",
            "|  titleId|ordering|               title|region|language|      types|   attributes|isOriginalTitle|\n",
            "+---------+--------+--------------------+------+--------+-----------+-------------+---------------+\n",
            "|tt0000001|       1|          Карменсіта|    UA|      \\N|imdbDisplay|           \\N|              0|\n",
            "|tt0000001|       2|          Carmencita|    DE|      \\N|         \\N|literal title|              0|\n",
            "|tt0000001|       3|Carmencita - span...|    HU|      \\N|imdbDisplay|           \\N|              0|\n",
            "+---------+--------+--------------------+------+--------+-----------+-------------+---------------+\n",
            "only showing top 3 rows\n",
            "\n",
            "+---------+---------+--------------------+--------------------+-------+---------+-------+--------------+--------------------+\n",
            "|   tconst|titleType|        primaryTitle|       originalTitle|isAdult|startYear|endYear|runtimeMinutes|              genres|\n",
            "+---------+---------+--------------------+--------------------+-------+---------+-------+--------------+--------------------+\n",
            "|tt0000001|    short|          Carmencita|          Carmencita|      0|     1894|     \\N|             1|   Documentary,Short|\n",
            "|tt0000002|    short|Le clown et ses c...|Le clown et ses c...|      0|     1892|     \\N|             5|     Animation,Short|\n",
            "|tt0000003|    short|      Pauvre Pierrot|      Pauvre Pierrot|      0|     1892|     \\N|             4|Animation,Comedy,...|\n",
            "+---------+---------+--------------------+--------------------+-------+---------+-------+--------------+--------------------+\n",
            "only showing top 3 rows\n",
            "\n",
            "+---------+---------+-------+\n",
            "|   tconst|directors|writers|\n",
            "+---------+---------+-------+\n",
            "|tt0000001|nm0005690|     \\N|\n",
            "|tt0000002|nm0721526|     \\N|\n",
            "|tt0000003|nm0721526|     \\N|\n",
            "+---------+---------+-------+\n",
            "only showing top 3 rows\n",
            "\n",
            "+---------+------------+------------+-------------+\n",
            "|   tconst|parentTconst|seasonNumber|episodeNumber|\n",
            "+---------+------------+------------+-------------+\n",
            "|tt0041951|   tt0041038|           1|            9|\n",
            "|tt0042816|   tt0989125|           1|           17|\n",
            "|tt0042889|   tt0989125|          \\N|           \\N|\n",
            "+---------+------------+------------+-------------+\n",
            "only showing top 3 rows\n",
            "\n",
            "+---------+--------+---------+---------------+--------------------+----------+\n",
            "|   tconst|ordering|   nconst|       category|                 job|characters|\n",
            "+---------+--------+---------+---------------+--------------------+----------+\n",
            "|tt0000001|       1|nm1588970|           self|                  \\N|  [\"Self\"]|\n",
            "|tt0000001|       2|nm0005690|       director|                  \\N|        \\N|\n",
            "|tt0000001|       3|nm0374658|cinematographer|director of photo...|        \\N|\n",
            "+---------+--------+---------+---------------+--------------------+----------+\n",
            "only showing top 3 rows\n",
            "\n",
            "+---------+-------------+--------+\n",
            "|   tconst|averageRating|numVotes|\n",
            "+---------+-------------+--------+\n",
            "|tt0000001|          5.7|    1923|\n",
            "|tt0000002|          5.8|     259|\n",
            "|tt0000003|          6.5|    1737|\n",
            "+---------+-------------+--------+\n",
            "only showing top 3 rows\n",
            "\n"
          ]
        }
      ]
    },
    {
      "cell_type": "markdown",
      "source": [
        "# Złączenie istotnych kolumn"
      ],
      "metadata": {
        "id": "ZZb5i_RrA-yP"
      }
    },
    {
      "cell_type": "markdown",
      "source": [
        "## Wybierzmy następujące kolumny z tabel:\n",
        "- df_title_basic:\n",
        "  - tconst (unikalny numer tytułu - potrzebne do złączenia tabel)\n",
        "  - titleType (rodzaj tytułu, np. film, serial - można porównywać podobieństwo aktorów na podstawie tego w jakich typach produkcji grali)\n",
        "  - originalTitle (tytuł produkcji - być może przyda się do analizy podobnych filmów)\n",
        "  - isAdult (czy produkcja jest dla dorosłych - można wykorzystać do porównywania aktorów na podstawie tego czy grają głównie w produkcjach dla dorosłych)\n",
        "  - genres (gatunki - może posłużyć do porównania aktorów na podstawie tego, że grali w produkcjach o podobnych gatunkach)\n",
        "\n",
        "- df_title_principals:\n",
        "  - tconst (unikalny numer tytułu - potrzebne do złączenia tabel)\n",
        "  - nconst (unikalny numer aktora - potrzebne do złączenia tabel)\n",
        "  - category (kategoria pracy (actor/actress) - może posłużyć do porównania aktorów na podstawie takiej samej płci)\n",
        "  - characters (postacie zagrane w produkcji - może posłużyć do porównania aktorów na podstawie podobnych granych postaci)\n",
        "\n",
        "- df_name_basics:\n",
        "  - nconst(unikalny numer aktora - potrzebne do złączenia tabel)\n",
        "  - primaryName (imię i nazwisko aktora - potrzebne do wyświetlania aktora lub do odnajdywania go w bazie po imieniu i nazwisku)\n",
        "  - birthYear (rok urodzenia aktora - może posłużyć do porównania aktorów na podstawie podobnych okresów, w których żyli i grali)\n",
        "  - deathYear ( rok śmierci aktora - może posłużyć do porównania aktorów na podstawie podobnych okresów, w których żyli i grali)\n",
        "  - knownForTitles (tytuły produkcji, z których znany jets aktor - może posłużyć do porównania aktorów na podstawie tych samych lub podobnych produkcji, z których są znani)"
      ],
      "metadata": {
        "id": "MGd5Hi-VBF9h"
      }
    },
    {
      "cell_type": "code",
      "source": [
        "df_title_basic_selected = df_title_basic.select([\"tconst\", \"titleType\", \"originalTitle\", \"isAdult\", \"genres\"])\n",
        "df_title_principals_selected = df_title_principals.select([\"tconst\", \"nconst\", \"category\", \"characters\"])\n",
        "df_name_basics_selected = df_name_basics.select([\"nconst\", \"primaryName\", \"birthYear\", \"deathYear\", \"knownForTitles\"])"
      ],
      "metadata": {
        "id": "OKWe9JSKBC5q"
      },
      "execution_count": 10,
      "outputs": []
    },
    {
      "cell_type": "markdown",
      "source": [
        "## Wybierzmy z tabeli df_title_principals_selected tylko aktorów i aktorki"
      ],
      "metadata": {
        "id": "Dv9_BSnFVFa3"
      }
    },
    {
      "cell_type": "code",
      "source": [
        "#df_title_principals_selected = df_title_principals_selected.filter((df_title_principals_selected.category == \"actor\") | (df_title_principals_selected.category == \"actress\"))"
      ],
      "metadata": {
        "id": "3vOtn_OxVAQa"
      },
      "execution_count": 9,
      "outputs": []
    },
    {
      "cell_type": "markdown",
      "source": [
        "# Złączmy tabele df_name_basics, df_title_principals i df_title_basic"
      ],
      "metadata": {
        "id": "eMIHo59PBNtx"
      }
    },
    {
      "cell_type": "markdown",
      "source": [
        "## Sprawdźmy czasy joinowania dla różnych kombinacji tabel"
      ],
      "metadata": {
        "id": "0cd69uOmz-E9"
      }
    },
    {
      "cell_type": "markdown",
      "source": [
        "Sprawdzimy najpierw jak długo zajmuje łączenie tabel bez usuniętych niepotrzebnych rekordów. Rozważmy różne kombinacje łączeń, gdzie tabele są łączone w następujący sposób:\n",
        "* df_name_basics_selected i df_title_principals_selected, typ łączenia \"inner\",\n",
        "* df_name_basics_selected i df_title_principals_selected, typ łączenia \"right\",\n",
        "* dane wcześniej złączone i df_title_basic_selected, typ łączenia \"inner\",\n",
        "* dane wcześniej złączone i df_title_basic_selected, typ łączenia \"left\",\n",
        "* df_title_principals_selected i df_name_basics_selected, typ łączenia \"inner\",\n",
        "* df_title_principals_selected i df_name_basics_selected, typ łączenia \"left\",\n",
        "* df_title_basic_selected i df_title_principals_selected, typ łączenia \"inner\",\n",
        "* df_title_basic_selected i df_title_principals_selected, typ łączenia \"right\",\n",
        "* dane wcześniej złączone i df_name_basics_selected, typ łączenia \"inner\",\n",
        "* dane wcześniej złączone i df_name_basics_selected, typ łączenia \"right\",\n",
        "* df_title_principals_selected i df_title_basic_selected, typ łączenia \"inner\",\n",
        "* df_title_principals_selected i df_title_basic_selected, typ łączenia \"left\"."
      ],
      "metadata": {
        "id": "19O-f-nBUprz"
      }
    },
    {
      "cell_type": "code",
      "source": [
        "from timeit import default_timer as timer\n",
        "\n",
        "start = timer()\n",
        "data1 = df_name_basics_selected.join(df_title_principals_selected, \"nconst\", \"inner\")\n",
        "print(\"df_name_basics_selected and df_title_principals_selected joined table size: \", (data1.count(), len(data1.columns)))\n",
        "data1 = data1.join(df_title_basic_selected, \"tconst\", \"inner\")\n",
        "end = timer()\n",
        "print(\"joined table size: \", (data1.count(), len(data1.columns)), \"time of joining tables: \", end-start)"
      ],
      "metadata": {
        "id": "bXWAMvJtz9Rc",
        "colab": {
          "base_uri": "https://localhost:8080/"
        },
        "outputId": "00766166-08f6-490c-909f-df4469702924"
      },
      "execution_count": 10,
      "outputs": [
        {
          "metadata": {
            "tags": null
          },
          "name": "stdout",
          "output_type": "stream",
          "text": [
            "df_name_basics_selected and df_title_principals_selected joined table size:  (53129560, 8)\n",
            "joined table size:  (53123422, 12) time of joining tables:  146.88740994900002\n"
          ]
        }
      ]
    },
    {
      "cell_type": "code",
      "source": [
        "start = timer()\n",
        "data2 = df_name_basics_selected.join(df_title_principals_selected, \"nconst\", \"inner\")\n",
        "print(\"df_name_basics_selected and df_title_principals_selected joined table size: \", (data2.count(), len(data2.columns)))\n",
        "data2 = data2.join(df_title_basic_selected, \"tconst\", \"left\")\n",
        "end = timer()\n",
        "print(\"joined table size: \", (data2.count(), len(data2.columns)), \"time of joining tables: \", end-start)"
      ],
      "metadata": {
        "id": "qOiMjG5H3X8S",
        "colab": {
          "base_uri": "https://localhost:8080/"
        },
        "outputId": "be0cc6b8-ce83-41fc-da0a-33397a832157"
      },
      "execution_count": 11,
      "outputs": [
        {
          "output_type": "stream",
          "name": "stdout",
          "text": [
            "df_name_basics_selected and df_title_principals_selected joined table size:  (53129560, 8)\n",
            "joined table size:  (53129560, 12) time of joining tables:  140.78069022199998\n"
          ]
        }
      ]
    },
    {
      "cell_type": "code",
      "source": [
        "start = timer()\n",
        "data3 = df_name_basics_selected.join(df_title_principals_selected, \"nconst\", \"right\")\n",
        "print(\"df_name_basics_selected and df_title_principals_selected joined table size: \", (data3.count(), len(data3.columns)))\n",
        "data3 = data3.join(df_title_basic_selected, \"tconst\", \"inner\")\n",
        "end = timer()\n",
        "print(\"joined table size: \", (data3.count(), len(data3.columns)), \"time of joining tables: \", end-start)"
      ],
      "metadata": {
        "colab": {
          "base_uri": "https://localhost:8080/"
        },
        "id": "tw7iwQNeLp7T",
        "outputId": "2f10a474-628f-4c43-afb1-55ca003b4092"
      },
      "execution_count": 12,
      "outputs": [
        {
          "metadata": {
            "tags": null
          },
          "name": "stdout",
          "output_type": "stream",
          "text": [
            "df_name_basics_selected and df_title_principals_selected joined table size:  (53137392, 8)\n",
            "joined table size:  (53131216, 12) time of joining tables:  133.27368778899995\n"
          ]
        }
      ]
    },
    {
      "cell_type": "code",
      "source": [
        "start = timer()\n",
        "data4 = df_name_basics_selected.join(df_title_principals_selected, \"nconst\", \"right\")\n",
        "print(\"df_name_basics_selected and df_title_principals_selected joined table size: \", (data4.count(), len(data4.columns)))\n",
        "data4 = data4.join(df_title_basic_selected, \"tconst\", \"left\")\n",
        "end = timer()\n",
        "print(\"joined table size: \", (data4.count(), len(data4.columns)), \"time of joining tables: \", end-start)"
      ],
      "metadata": {
        "colab": {
          "base_uri": "https://localhost:8080/"
        },
        "id": "eW22PuBpL4mV",
        "outputId": "1b032a9a-bbdd-4503-864a-2d29e136a0c9"
      },
      "execution_count": 13,
      "outputs": [
        {
          "output_type": "stream",
          "name": "stdout",
          "text": [
            "df_name_basics_selected and df_title_principals_selected joined table size:  (53137392, 8)\n",
            "joined table size:  (53137392, 12) time of joining tables:  136.10786328500012\n"
          ]
        }
      ]
    },
    {
      "cell_type": "code",
      "source": [
        "start = timer()\n",
        "data5 = df_title_principals_selected.join(df_name_basics_selected, \"nconst\", \"inner\")\n",
        "print(\"df_title_principals_selected and df_name_basics_selected joined table size: \", (data5.count(), len(data5.columns)))\n",
        "data5 = data5.join(df_title_basic_selected, \"tconst\", \"inner\")\n",
        "end = timer()\n",
        "print(\"joined table size: \", (data5.count(), len(data5.columns)), \"time of joining tables: \", end-start)"
      ],
      "metadata": {
        "colab": {
          "base_uri": "https://localhost:8080/"
        },
        "id": "8HJWyohyMai8",
        "outputId": "68105a5a-9cbb-408e-82e9-a558c0c52227"
      },
      "execution_count": 14,
      "outputs": [
        {
          "metadata": {
            "tags": null
          },
          "name": "stdout",
          "output_type": "stream",
          "text": [
            "df_title_principals_selected and df_name_basics_selected joined table size:  (53129560, 8)\n",
            "joined table size:  (53123422, 12) time of joining tables:  135.32172029000003\n"
          ]
        }
      ]
    },
    {
      "cell_type": "code",
      "source": [
        "start = timer()\n",
        "data6 = df_title_principals_selected.join(df_name_basics_selected, \"nconst\", \"inner\")\n",
        "print(\"df_title_principals_selected and df_name_basics_selected joined table size: \", (data6.count(), len(data6.columns)))\n",
        "data6 = data6.join(df_title_basic_selected, \"tconst\", \"left\")\n",
        "end = timer()\n",
        "print(\"joined table size: \", (data6.count(), len(data6.columns)), \"time of joining tables: \", end-start)"
      ],
      "metadata": {
        "colab": {
          "base_uri": "https://localhost:8080/"
        },
        "id": "1ws31f_zMy46",
        "outputId": "a380b521-943e-4287-c83c-13ba95436f54"
      },
      "execution_count": 15,
      "outputs": [
        {
          "output_type": "stream",
          "name": "stdout",
          "text": [
            "df_title_principals_selected and df_name_basics_selected joined table size:  (53129560, 8)\n",
            "joined table size:  (53129560, 12) time of joining tables:  134.1102023620001\n"
          ]
        }
      ]
    },
    {
      "cell_type": "code",
      "source": [
        "start = timer()\n",
        "data7 = df_title_principals_selected.join(df_name_basics_selected, \"nconst\", \"left\")\n",
        "print(\"df_title_principals_selected and df_name_basics_selected joined table size: \", (data7.count(), len(data7.columns)))\n",
        "data7 = data7.join(df_title_basic_selected, \"tconst\", \"inner\")\n",
        "end = timer()\n",
        "print(\"joined table size: \", (data7.count(), len(data7.columns)), \"time of joining tables: \", end-start)"
      ],
      "metadata": {
        "colab": {
          "base_uri": "https://localhost:8080/"
        },
        "id": "PpJvsSrSM8TH",
        "outputId": "2baaae74-6e8a-40d5-adb9-c9322de63387"
      },
      "execution_count": 16,
      "outputs": [
        {
          "metadata": {
            "tags": null
          },
          "name": "stdout",
          "output_type": "stream",
          "text": [
            "df_title_principals_selected and df_name_basics_selected joined table size:  (53137392, 8)\n",
            "joined table size:  (53131216, 12) time of joining tables:  134.41051492299994\n"
          ]
        }
      ]
    },
    {
      "cell_type": "code",
      "source": [
        "start = timer()\n",
        "data8 = df_title_principals_selected.join(df_name_basics_selected, \"nconst\", \"left\")\n",
        "print(\"df_title_principals_selected and df_name_basics_selected joined table size: \", (data8.count(), len(data8.columns)))\n",
        "data8 = data8.join(df_title_basic_selected, \"tconst\", \"left\")\n",
        "end = timer()\n",
        "print(\"joined table size: \", (data8.count(), len(data8.columns)), \"time of joining tables: \", end-start)"
      ],
      "metadata": {
        "colab": {
          "base_uri": "https://localhost:8080/"
        },
        "id": "sIlahZLsM9yT",
        "outputId": "d13750d3-c490-45d2-d851-0a0609b5cbcb"
      },
      "execution_count": 17,
      "outputs": [
        {
          "output_type": "stream",
          "name": "stdout",
          "text": [
            "df_title_principals_selected and df_name_basics_selected joined table size:  (53137392, 8)\n",
            "joined table size:  (53137392, 12) time of joining tables:  144.114738408\n"
          ]
        }
      ]
    },
    {
      "cell_type": "code",
      "source": [
        "start = timer()\n",
        "data9 = df_title_basic_selected.join(df_title_principals_selected, \"tconst\", \"inner\")\n",
        "print(\"df_title_basic_selected and df_title_principals_selected joined table size: \", (data9.count(), len(data9.columns)))\n",
        "data9 = data9.join(df_name_basics_selected, \"nconst\", \"inner\")\n",
        "end = timer()\n",
        "print(\"joined table size: \", (data9.count(), len(data9.columns)), \"time of joining tables: \", end-start)"
      ],
      "metadata": {
        "colab": {
          "base_uri": "https://localhost:8080/"
        },
        "id": "DRnYC4nlNgKU",
        "outputId": "0c9ab88c-7889-4185-fa0a-b57cb72f878d"
      },
      "execution_count": 18,
      "outputs": [
        {
          "metadata": {
            "tags": null
          },
          "name": "stdout",
          "output_type": "stream",
          "text": [
            "df_title_basic_selected and df_title_principals_selected joined table size:  (53131216, 8)\n",
            "joined table size:  (53123422, 12) time of joining tables:  119.14489808400003\n"
          ]
        }
      ]
    },
    {
      "cell_type": "code",
      "source": [
        "start = timer()\n",
        "data10 = df_title_basic_selected.join(df_title_principals_selected, \"tconst\", \"inner\")\n",
        "print(\"df_title_basic_selected and df_title_principals_selected joined table size: \", (data10.count(), len(data10.columns)))\n",
        "data10 = data10.join(df_name_basics_selected, \"nconst\", \"left\")\n",
        "end = timer()\n",
        "print(\"joined table size: \", (data10.count(), len(data10.columns)), \"time of joining tables: \", end-start)"
      ],
      "metadata": {
        "colab": {
          "base_uri": "https://localhost:8080/"
        },
        "id": "n-bQnvlvOvom",
        "outputId": "f9f53d9e-1757-406f-ce28-f363717268bc"
      },
      "execution_count": 19,
      "outputs": [
        {
          "metadata": {
            "tags": null
          },
          "name": "stdout",
          "output_type": "stream",
          "text": [
            "df_title_basic_selected and df_title_principals_selected joined table size:  (53131216, 8)\n",
            "joined table size:  (53131216, 12) time of joining tables:  119.46920445899968\n"
          ]
        }
      ]
    },
    {
      "cell_type": "code",
      "source": [
        "start = timer()\n",
        "data11 = df_title_basic_selected.join(df_title_principals_selected, \"tconst\", \"right\")\n",
        "print(\"df_title_basic_selected and df_title_principals_selected joined table size: \", (data11.count(), len(data11.columns)))\n",
        "data11 = data11.join(df_name_basics_selected, \"nconst\", \"inner\")\n",
        "end = timer()\n",
        "print(\"joined table size: \", (data11.count(), len(data11.columns)), \"time of joining tables: \", end-start)"
      ],
      "metadata": {
        "colab": {
          "base_uri": "https://localhost:8080/"
        },
        "id": "Xqr9ecljO14b",
        "outputId": "fe25e5f2-ecec-4b5b-fdca-0c63ac8398d5"
      },
      "execution_count": 20,
      "outputs": [
        {
          "metadata": {
            "tags": null
          },
          "name": "stdout",
          "output_type": "stream",
          "text": [
            "df_title_basic_selected and df_title_principals_selected joined table size:  (53137392, 8)\n",
            "joined table size:  (53129560, 12) time of joining tables:  117.28335163100019\n"
          ]
        }
      ]
    },
    {
      "cell_type": "code",
      "source": [
        "start = timer()\n",
        "data12 = df_title_basic_selected.join(df_title_principals_selected, \"tconst\", \"right\")\n",
        "print(\"df_title_basic_selected and df_title_principals_selected joined table size: \", (data12.count(), len(data12.columns)))\n",
        "data12 = data12.join(df_name_basics_selected, \"nconst\", \"left\")\n",
        "end = timer()\n",
        "print(\"joined table size: \", (data12.count(), len(data12.columns)), \"time of joining tables: \", end-start)"
      ],
      "metadata": {
        "colab": {
          "base_uri": "https://localhost:8080/"
        },
        "id": "79J3h9UPPEqY",
        "outputId": "cd5ef459-aa20-4446-a9d9-15a4c84d2af2"
      },
      "execution_count": 21,
      "outputs": [
        {
          "metadata": {
            "tags": null
          },
          "name": "stdout",
          "output_type": "stream",
          "text": [
            "df_title_basic_selected and df_title_principals_selected joined table size:  (53137392, 8)\n",
            "joined table size:  (53137392, 12) time of joining tables:  117.9556835229996\n"
          ]
        }
      ]
    },
    {
      "cell_type": "code",
      "source": [
        "start = timer()\n",
        "data13 = df_title_principals_selected.join(df_title_basic_selected, \"tconst\", \"inner\")\n",
        "print(\"df_title_principals_selected and df_title_basic_selected joined table size: \", (data13.count(), len(data13.columns)))\n",
        "data13 = data13.join(df_name_basics_selected, \"nconst\", \"inner\")\n",
        "end = timer()\n",
        "print(\"joined table size: \", (data13.count(), len(data13.columns)), \"time of joining tables: \", end-start)"
      ],
      "metadata": {
        "colab": {
          "base_uri": "https://localhost:8080/"
        },
        "id": "8BKljYgKPta_",
        "outputId": "c6040341-f19a-42d7-f7a7-40ae1ac7b778"
      },
      "execution_count": 22,
      "outputs": [
        {
          "metadata": {
            "tags": null
          },
          "name": "stdout",
          "output_type": "stream",
          "text": [
            "df_title_principals_selected and df_title_basic_selected joined table size:  (53131216, 8)\n",
            "joined table size:  (53123422, 12) time of joining tables:  128.463416349\n"
          ]
        }
      ]
    },
    {
      "cell_type": "code",
      "source": [
        "start = timer()\n",
        "data14 = df_title_principals_selected.join(df_title_basic_selected, \"tconst\", \"inner\")\n",
        "print(\"df_title_principals_selected and df_title_basic_selected joined table size: \", (data14.count(), len(data14.columns)))\n",
        "data14 = data14.join(df_name_basics_selected, \"nconst\", \"left\")\n",
        "end = timer()\n",
        "print(\"joined table size: \", (data14.count(), len(data14.columns)), \"time of joining tables: \", end-start)"
      ],
      "metadata": {
        "colab": {
          "base_uri": "https://localhost:8080/"
        },
        "id": "XT3hWjCEP2ES",
        "outputId": "d92720b5-c3ba-457f-a9ad-509ce6b30ae1"
      },
      "execution_count": 23,
      "outputs": [
        {
          "metadata": {
            "tags": null
          },
          "name": "stdout",
          "output_type": "stream",
          "text": [
            "df_title_principals_selected and df_title_basic_selected joined table size:  (53131216, 8)\n",
            "joined table size:  (53131216, 12) time of joining tables:  119.23630927600061\n"
          ]
        }
      ]
    },
    {
      "cell_type": "code",
      "source": [
        "start = timer()\n",
        "data15 = df_title_principals_selected.join(df_title_basic_selected, \"tconst\", \"left\")\n",
        "print(\"df_title_principals_selected and df_title_basic_selected joined table size: \", (data15.count(), len(data15.columns)))\n",
        "data15 = data15.join(df_name_basics_selected, \"nconst\", \"inner\")\n",
        "end = timer()\n",
        "print(\"joined table size: \", (data15.count(), len(data15.columns)), \"time of joining tables: \", end-start)"
      ],
      "metadata": {
        "colab": {
          "base_uri": "https://localhost:8080/"
        },
        "id": "sy7gKBrHP4W-",
        "outputId": "b6dbe00a-a144-41e8-891f-870acf64a093"
      },
      "execution_count": 24,
      "outputs": [
        {
          "metadata": {
            "tags": null
          },
          "name": "stdout",
          "output_type": "stream",
          "text": [
            "df_title_principals_selected and df_title_basic_selected joined table size:  (53137392, 8)\n",
            "joined table size:  (53129560, 12) time of joining tables:  114.516300968\n"
          ]
        }
      ]
    },
    {
      "cell_type": "code",
      "source": [
        "start = timer()\n",
        "data16 = df_title_principals_selected.join(df_title_basic_selected, \"tconst\", \"left\")\n",
        "print(\"df_title_principals_selected and df_title_basic_selected joined table size: \", (data16.count(), len(data16.columns)))\n",
        "data16 = data16.join(df_name_basics_selected, \"nconst\", \"left\")\n",
        "end = timer()\n",
        "print(\"joined table size: \", (data16.count(), len(data16.columns)), \"time of joining tables: \", end-start)"
      ],
      "metadata": {
        "colab": {
          "base_uri": "https://localhost:8080/"
        },
        "id": "eS5DUliMP7Ht",
        "outputId": "ca27929f-0878-46c4-f3e9-f55f06262aaf"
      },
      "execution_count": 25,
      "outputs": [
        {
          "output_type": "stream",
          "name": "stdout",
          "text": [
            "df_title_principals_selected and df_title_basic_selected joined table size:  (53137392, 8)\n",
            "joined table size:  (53137392, 12) time of joining tables:  118.9455270540002\n"
          ]
        }
      ]
    },
    {
      "cell_type": "markdown",
      "source": [
        "Teraz zmierzymy czasy tych samych złączeń, jednak po usunięciu z tabel niepotrzebnych rekordów."
      ],
      "metadata": {
        "id": "GV4TDbUCRg4B"
      }
    },
    {
      "cell_type": "code",
      "source": [
        "df_name_basics = df_name_basics.filter(\"primaryProfession like '%actor%' or primaryProfession like '%actress%'\")\n",
        "df_name_basics_selected = df_name_basics.select([\"nconst\", \"primaryName\", \"birthYear\", \"deathYear\", \"knownForTitles\"])\n",
        "df_title_principals_selected = df_title_principals_selected.filter((df_title_principals_selected.category == \"actor\") | (df_title_principals_selected.category == \"actress\"))"
      ],
      "metadata": {
        "id": "nuhNQ3YAOh6u"
      },
      "execution_count": 11,
      "outputs": []
    },
    {
      "cell_type": "code",
      "source": [
        "start = timer()\n",
        "data1 = df_name_basics_selected.join(df_title_principals_selected, \"nconst\", \"inner\")\n",
        "print(\"df_name_basics_selected and df_title_principals_selected joined table size: \", (data1.count(), len(data1.columns)))\n",
        "data1 = data1.join(df_title_basic_selected, \"tconst\", \"inner\")\n",
        "end = timer()\n",
        "print(\"joined table size: \", (data1.count(), len(data1.columns)), \"time of joining tables: \", end-start)"
      ],
      "metadata": {
        "colab": {
          "base_uri": "https://localhost:8080/"
        },
        "id": "QcXxZ58gReWa",
        "outputId": "0eb33632-ea44-471c-dc6e-dcbf86e05325"
      },
      "execution_count": 27,
      "outputs": [
        {
          "metadata": {
            "tags": null
          },
          "name": "stdout",
          "output_type": "stream",
          "text": [
            "df_name_basics_selected and df_title_principals_selected joined table size:  (20175420, 8)\n",
            "joined table size:  (20171936, 12) time of joining tables:  99.12242422700001\n"
          ]
        }
      ]
    },
    {
      "cell_type": "code",
      "source": [
        "start = timer()\n",
        "data2 = df_name_basics_selected.join(df_title_principals_selected, \"nconst\", \"inner\")\n",
        "print(\"df_name_basics_selected and df_title_principals_selected joined table size: \", (data2.count(), len(data2.columns)))\n",
        "data2 = data2.join(df_title_basic_selected, \"tconst\", \"left\")\n",
        "end = timer()\n",
        "print(\"joined table size: \", (data2.count(), len(data2.columns)), \"time of joining tables: \", end-start)"
      ],
      "metadata": {
        "colab": {
          "base_uri": "https://localhost:8080/"
        },
        "id": "L2KmnzMWRoFK",
        "outputId": "0b801720-ce4b-49bf-aeae-7416e5d3c9e0"
      },
      "execution_count": 28,
      "outputs": [
        {
          "output_type": "stream",
          "name": "stdout",
          "text": [
            "df_name_basics_selected and df_title_principals_selected joined table size:  (20175420, 8)\n",
            "joined table size:  (20175420, 12) time of joining tables:  100.22442791100002\n"
          ]
        }
      ]
    },
    {
      "cell_type": "code",
      "source": [
        "start = timer()\n",
        "data3 = df_name_basics_selected.join(df_title_principals_selected, \"nconst\", \"right\")\n",
        "print(\"df_name_basics_selected and df_title_principals_selected joined table size: \", (data3.count(), len(data3.columns)))\n",
        "data3 = data3.join(df_title_basic_selected, \"tconst\", \"inner\")\n",
        "end = timer()\n",
        "print(\"joined table size: \", (data3.count(), len(data3.columns)), \"time of joining tables: \", end-start)"
      ],
      "metadata": {
        "colab": {
          "base_uri": "https://localhost:8080/"
        },
        "id": "NeuNdK8zRrQd",
        "outputId": "60aeb126-ec21-49a1-cd38-5ecd820320f7"
      },
      "execution_count": 29,
      "outputs": [
        {
          "metadata": {
            "tags": null
          },
          "name": "stdout",
          "output_type": "stream",
          "text": [
            "df_name_basics_selected and df_title_principals_selected joined table size:  (20798916, 8)\n",
            "joined table size:  (20795363, 12) time of joining tables:  94.53604484700008\n"
          ]
        }
      ]
    },
    {
      "cell_type": "code",
      "source": [
        "start = timer()\n",
        "data4 = df_name_basics_selected.join(df_title_principals_selected, \"nconst\", \"right\")\n",
        "print(\"df_name_basics_selected and df_title_principals_selected joined table size: \", (data4.count(), len(data4.columns)))\n",
        "data4 = data4.join(df_title_basic_selected, \"tconst\", \"left\")\n",
        "end = timer()\n",
        "print(\"joined table size: \", (data4.count(), len(data4.columns)), \"time of joining tables: \", end-start)"
      ],
      "metadata": {
        "colab": {
          "base_uri": "https://localhost:8080/"
        },
        "id": "UgoaQREvRuao",
        "outputId": "6cb8045b-5aa4-4861-be52-8c7a67c85fb4"
      },
      "execution_count": 30,
      "outputs": [
        {
          "metadata": {
            "tags": null
          },
          "name": "stdout",
          "output_type": "stream",
          "text": [
            "df_name_basics_selected and df_title_principals_selected joined table size:  (20798916, 8)\n",
            "joined table size:  (20798916, 12) time of joining tables:  95.53096150900001\n"
          ]
        }
      ]
    },
    {
      "cell_type": "code",
      "source": [
        "start = timer()\n",
        "data5 = df_title_principals_selected.join(df_name_basics_selected, \"nconst\", \"inner\")\n",
        "print(\"df_title_principals_selected and df_name_basics_selected joined table size: \", (data5.count(), len(data5.columns)))\n",
        "data5 = data5.join(df_title_basic_selected, \"tconst\", \"inner\")\n",
        "end = timer()\n",
        "print(\"joined table size: \", (data5.count(), len(data5.columns)), \"time of joining tables: \", end-start)"
      ],
      "metadata": {
        "colab": {
          "base_uri": "https://localhost:8080/"
        },
        "id": "L1tj0bvbRxAa",
        "outputId": "ce86e7ef-774b-4685-c189-096e063649bb"
      },
      "execution_count": 31,
      "outputs": [
        {
          "metadata": {
            "tags": null
          },
          "name": "stdout",
          "output_type": "stream",
          "text": [
            "df_title_principals_selected and df_name_basics_selected joined table size:  (20175420, 8)\n",
            "joined table size:  (20171936, 12) time of joining tables:  96.12059715300074\n"
          ]
        }
      ]
    },
    {
      "cell_type": "code",
      "source": [
        "start = timer()\n",
        "data6 = df_title_principals_selected.join(df_name_basics_selected, \"nconst\", \"inner\")\n",
        "print(\"df_title_principals_selected and df_name_basics_selected joined table size: \", (data6.count(), len(data6.columns)))\n",
        "data6 = data6.join(df_title_basic_selected, \"tconst\", \"left\")\n",
        "end = timer()\n",
        "print(\"joined table size: \", (data6.count(), len(data6.columns)), \"time of joining tables: \", end-start)"
      ],
      "metadata": {
        "colab": {
          "base_uri": "https://localhost:8080/"
        },
        "id": "OnZqhsRdR0Ht",
        "outputId": "84e48f84-9256-4b57-e5d7-48ac0d6d478f"
      },
      "execution_count": 32,
      "outputs": [
        {
          "metadata": {
            "tags": null
          },
          "name": "stdout",
          "output_type": "stream",
          "text": [
            "df_title_principals_selected and df_name_basics_selected joined table size:  (20175420, 8)\n",
            "joined table size:  (20175420, 12) time of joining tables:  96.411182414\n"
          ]
        }
      ]
    },
    {
      "cell_type": "code",
      "source": [
        "start = timer()\n",
        "data7 = df_title_principals_selected.join(df_name_basics_selected, \"nconst\", \"left\")\n",
        "print(\"df_title_principals_selected and df_name_basics_selected joined table size: \", (data7.count(), len(data7.columns)))\n",
        "data7 = data7.join(df_title_basic_selected, \"tconst\", \"inner\")\n",
        "end = timer()\n",
        "print(\"joined table size: \", (data7.count(), len(data7.columns)), \"time of joining tables: \", end-start)"
      ],
      "metadata": {
        "colab": {
          "base_uri": "https://localhost:8080/"
        },
        "id": "gCmSaja_R3sa",
        "outputId": "7a99cfe4-f9ed-4f62-d7ce-b61190638a4b"
      },
      "execution_count": 33,
      "outputs": [
        {
          "metadata": {
            "tags": null
          },
          "name": "stdout",
          "output_type": "stream",
          "text": [
            "df_title_principals_selected and df_name_basics_selected joined table size:  (20798916, 8)\n",
            "joined table size:  (20795363, 12) time of joining tables:  96.13773970000057\n"
          ]
        }
      ]
    },
    {
      "cell_type": "code",
      "source": [
        "start = timer()\n",
        "data8 = df_title_principals_selected.join(df_name_basics_selected, \"nconst\", \"left\")\n",
        "print(\"df_title_principals_selected and df_name_basics_selected joined table size: \", (data8.count(), len(data8.columns)))\n",
        "data8 = data8.join(df_title_basic_selected, \"tconst\", \"left\")\n",
        "end = timer()\n",
        "print(\"joined table size: \", (data8.count(), len(data8.columns)), \"time of joining tables: \", end-start)"
      ],
      "metadata": {
        "colab": {
          "base_uri": "https://localhost:8080/"
        },
        "id": "TrwLLFcrR7OG",
        "outputId": "0dfb522f-9a6b-4d44-fe83-4e6036588aa1"
      },
      "execution_count": 34,
      "outputs": [
        {
          "metadata": {
            "tags": null
          },
          "name": "stdout",
          "output_type": "stream",
          "text": [
            "df_title_principals_selected and df_name_basics_selected joined table size:  (20798916, 8)\n",
            "joined table size:  (20798916, 12) time of joining tables:  95.82845264200023\n"
          ]
        }
      ]
    },
    {
      "cell_type": "code",
      "source": [
        "start = timer()\n",
        "data9 = df_title_basic_selected.join(df_title_principals_selected, \"tconst\", \"inner\")\n",
        "print(\"df_title_basic_selected and df_title_principals_selected joined table size: \", (data9.count(), len(data9.columns)))\n",
        "data9 = data9.join(df_name_basics_selected, \"nconst\", \"inner\")\n",
        "end = timer()\n",
        "print(\"joined table size: \", (data9.count(), len(data9.columns)), \"time of joining tables: \", end-start)"
      ],
      "metadata": {
        "colab": {
          "base_uri": "https://localhost:8080/"
        },
        "id": "Yxv527kQR-a_",
        "outputId": "e96a5add-15d2-41e8-b9e9-e81ca2d3bcc3"
      },
      "execution_count": 35,
      "outputs": [
        {
          "metadata": {
            "tags": null
          },
          "name": "stdout",
          "output_type": "stream",
          "text": [
            "df_title_basic_selected and df_title_principals_selected joined table size:  (20795363, 8)\n",
            "joined table size:  (20171936, 12) time of joining tables:  96.3941217419997\n"
          ]
        }
      ]
    },
    {
      "cell_type": "code",
      "source": [
        "start = timer()\n",
        "data10 = df_title_basic_selected.join(df_title_principals_selected, \"tconst\", \"inner\")\n",
        "print(\"df_title_basic_selected and df_title_principals_selected joined table size: \", (data10.count(), len(data10.columns)))\n",
        "data10 = data10.join(df_name_basics_selected, \"nconst\", \"right\")\n",
        "end = timer()\n",
        "print(\"joined table size: \", (data10.count(), len(data10.columns)), \"time of joining tables: \", end-start)"
      ],
      "metadata": {
        "colab": {
          "base_uri": "https://localhost:8080/"
        },
        "id": "3DXbwEw7SBhw",
        "outputId": "8e13f4f3-b101-4035-877d-b0c977325550"
      },
      "execution_count": 36,
      "outputs": [
        {
          "metadata": {
            "tags": null
          },
          "name": "stdout",
          "output_type": "stream",
          "text": [
            "df_title_basic_selected and df_title_principals_selected joined table size:  (20795363, 8)\n",
            "joined table size:  (22543035, 12) time of joining tables:  101.68330978599988\n"
          ]
        }
      ]
    },
    {
      "cell_type": "code",
      "source": [
        "start = timer()\n",
        "data11 = df_title_basic_selected.join(df_title_principals_selected, \"tconst\", \"right\")\n",
        "print(\"df_title_basic_selected and df_title_principals_selected joined table size: \", (data11.count(), len(data11.columns)))\n",
        "data11 = data11.join(df_name_basics_selected, \"nconst\", \"inner\")\n",
        "end = timer()\n",
        "print(\"joined table size: \", (data11.count(), len(data11.columns)), \"time of joining tables: \", end-start)"
      ],
      "metadata": {
        "colab": {
          "base_uri": "https://localhost:8080/"
        },
        "id": "vHyGoIQ6SE9Y",
        "outputId": "0dd694a1-d3bd-49d1-f674-b62069650c55"
      },
      "execution_count": 37,
      "outputs": [
        {
          "output_type": "stream",
          "name": "stdout",
          "text": [
            "df_title_basic_selected and df_title_principals_selected joined table size:  (20798916, 8)\n",
            "joined table size:  (20175420, 12) time of joining tables:  92.04867105800076\n"
          ]
        }
      ]
    },
    {
      "cell_type": "code",
      "source": [
        "start = timer()\n",
        "data12 = df_title_basic_selected.join(df_title_principals_selected, \"tconst\", \"right\")\n",
        "print(\"df_title_basic_selected and df_title_principals_selected joined table size: \", (data12.count(), len(data12.columns)))\n",
        "data12 = data12.join(df_name_basics_selected, \"nconst\", \"right\")\n",
        "end = timer()\n",
        "print(\"joined table size: \", (data12.count(), len(data12.columns)), \"time of joining tables: \", end-start)"
      ],
      "metadata": {
        "colab": {
          "base_uri": "https://localhost:8080/"
        },
        "id": "SyunVzUySHve",
        "outputId": "c25cec1c-9c29-4a4e-b24f-d81054163b21"
      },
      "execution_count": 38,
      "outputs": [
        {
          "metadata": {
            "tags": null
          },
          "name": "stdout",
          "output_type": "stream",
          "text": [
            "df_title_basic_selected and df_title_principals_selected joined table size:  (20798916, 8)\n",
            "joined table size:  (22546438, 12) time of joining tables:  93.66210862499975\n"
          ]
        }
      ]
    },
    {
      "cell_type": "code",
      "source": [
        "start = timer()\n",
        "data13 = df_title_principals_selected.join(df_title_basic_selected, \"tconst\", \"inner\")\n",
        "print(\"df_title_principals_selected and df_title_basic_selected joined table size: \", (data13.count(), len(data13.columns)))\n",
        "data13 = data13.join(df_name_basics_selected, \"nconst\", \"inner\")\n",
        "end = timer()\n",
        "print(\"joined table size: \", (data13.count(), len(data13.columns)), \"time of joining tables: \", end-start)"
      ],
      "metadata": {
        "colab": {
          "base_uri": "https://localhost:8080/"
        },
        "id": "uGlaI6jUSKXZ",
        "outputId": "fbc1fd46-e382-493a-effb-8454bed79147"
      },
      "execution_count": 39,
      "outputs": [
        {
          "metadata": {
            "tags": null
          },
          "name": "stdout",
          "output_type": "stream",
          "text": [
            "df_title_principals_selected and df_title_basic_selected joined table size:  (20795363, 8)\n",
            "joined table size:  (20171936, 12) time of joining tables:  95.18693754500055\n"
          ]
        }
      ]
    },
    {
      "cell_type": "code",
      "source": [
        "start = timer()\n",
        "data14 = df_title_principals_selected.join(df_title_basic_selected, \"tconst\", \"inner\")\n",
        "print(\"df_title_principals_selected and df_title_basic_selected joined table size: \", (data14.count(), len(data14.columns)))\n",
        "data14 = data14.join(df_name_basics_selected, \"nconst\", \"right\")\n",
        "end = timer()\n",
        "print(\"joined table size: \", (data14.count(), len(data14.columns)), \"time of joining tables: \", end-start)"
      ],
      "metadata": {
        "colab": {
          "base_uri": "https://localhost:8080/"
        },
        "id": "QFl-nEfMSNKO",
        "outputId": "b3018e54-f048-4393-b5b1-50591b38ad9d"
      },
      "execution_count": 40,
      "outputs": [
        {
          "metadata": {
            "tags": null
          },
          "name": "stdout",
          "output_type": "stream",
          "text": [
            "df_title_principals_selected and df_title_basic_selected joined table size:  (20795363, 8)\n",
            "joined table size:  (22543035, 12) time of joining tables:  95.27838813699964\n"
          ]
        }
      ]
    },
    {
      "cell_type": "code",
      "source": [
        "start = timer()\n",
        "data15 = df_title_principals_selected.join(df_title_basic_selected, \"tconst\", \"left\")\n",
        "print(\"df_title_principals_selected and df_title_basic_selected joined table size: \", (data15.count(), len(data15.columns)))\n",
        "data15 = data15.join(df_name_basics_selected, \"nconst\", \"inner\")\n",
        "end = timer()\n",
        "print(\"joined table size: \", (data15.count(), len(data15.columns)), \"time of joining tables: \", end-start)"
      ],
      "metadata": {
        "colab": {
          "base_uri": "https://localhost:8080/"
        },
        "id": "TyuoSVXrSP6u",
        "outputId": "cf719a52-fc38-4f0e-a768-13fd3a508391"
      },
      "execution_count": 41,
      "outputs": [
        {
          "metadata": {
            "tags": null
          },
          "name": "stdout",
          "output_type": "stream",
          "text": [
            "df_title_principals_selected and df_title_basic_selected joined table size:  (20798916, 8)\n",
            "joined table size:  (20175420, 12) time of joining tables:  102.57129950200033\n"
          ]
        }
      ]
    },
    {
      "cell_type": "code",
      "source": [
        "start = timer()\n",
        "data16 = df_title_principals_selected.join(df_title_basic_selected, \"tconst\", \"left\")\n",
        "print(\"df_title_principals_selected and df_title_basic_selected joined table size: \", (data16.count(), len(data16.columns)))\n",
        "data16 = data16.join(df_name_basics_selected, \"nconst\", \"right\")\n",
        "end = timer()\n",
        "print(\"joined table size: \", (data16.count(), len(data16.columns)), \"time of joining tables: \", end-start)"
      ],
      "metadata": {
        "colab": {
          "base_uri": "https://localhost:8080/"
        },
        "id": "_PI46FTBSSt8",
        "outputId": "60041924-a5a1-464a-fca6-67cb7df08d7a"
      },
      "execution_count": 42,
      "outputs": [
        {
          "metadata": {
            "tags": null
          },
          "name": "stdout",
          "output_type": "stream",
          "text": [
            "df_title_principals_selected and df_title_basic_selected joined table size:  (20798916, 8)\n",
            "joined table size:  (22546438, 12) time of joining tables:  107.62590241399994\n"
          ]
        }
      ]
    },
    {
      "cell_type": "markdown",
      "source": [
        "Sprawdzimy jakie braki mają nasze dane."
      ],
      "metadata": {
        "id": "VTHMpn8vQKLE"
      }
    },
    {
      "cell_type": "code",
      "source": [
        "print(data11.filter(data11.primaryName.isNull()).count())\n",
        "print(data11.filter(data11.category.isNull()).count())\n",
        "print(data11.filter(data11.genres.isNull()).count())"
      ],
      "metadata": {
        "colab": {
          "base_uri": "https://localhost:8080/"
        },
        "id": "YFBmjRqdTucp",
        "outputId": "0849cd60-ffd3-4d4d-d250-95cfbd05d7fc"
      },
      "execution_count": 44,
      "outputs": [
        {
          "metadata": {
            "tags": null
          },
          "name": "stdout",
          "output_type": "stream",
          "text": [
            "0\n",
            "0\n",
            "3484\n"
          ]
        }
      ]
    },
    {
      "cell_type": "markdown",
      "source": [
        "Po kilku uruchomieniach kodu, za każdym razem wychodzą różne wyniki, dlatego ciężko stwierdzić, który sposób łączenia danych jest najszybszy, jednak na pewno widać, że łączenie tabel bez zbędnych rekordów jest szybsze niż łączenie pełnych tabel. W ostatecznym rozrachunku, najlepiej wypada sposób łaczenia:\n",
        "* df_title_basic_selected i df_title_principals_selected, typ łączenia \"right\"\n",
        "* wcześniej złączone dane i df_name_basics_selected, typ łączenia \"inner\".\n",
        "\n",
        "W danch tych nie ma żadnych nadmiarowych aktorów, pojawiają się jedynie braki co do filmów, gdyż nie wszystkie filmy, w których grali aktorzy pojawiają się w bazie.\n",
        "\n",
        "Ten sposób łączenia danych zostanie zastosowany w notatniku głównym.\n"
      ],
      "metadata": {
        "id": "ZIR-r7kX9z9T"
      }
    },
    {
      "cell_type": "code",
      "source": [
        "print(\"df_name_basics_selected dataframe size: \", (df_name_basics_selected.count(), len(df_name_basics_selected.columns)))\n",
        "print(\"df_title_principals_selected dataframe size: \", (df_title_principals_selected.count(), len(df_title_principals_selected.columns)))\n",
        "print(\"df_title_basic_selected dataframe size: \", (df_title_basic_selected.count(), len(df_title_basic_selected.columns)))\n",
        "data = df_title_basic_selected.join(df_title_principals_selected, \"tconst\", \"right\")\n",
        "print(\"joined dataframe size: \", (data.count(), len(data.columns)))\n",
        "data = data.join(df_name_basics_selected, \"nconst\", \"inner\")\n",
        "print(\"joined dataframe size: \", (data.count(), len(data.columns)))"
      ],
      "metadata": {
        "id": "zMqqAJ7zBJWL",
        "outputId": "38d02cea-a45a-497b-bc60-ebda045cb1c5",
        "colab": {
          "base_uri": "https://localhost:8080/"
        }
      },
      "execution_count": 12,
      "outputs": [
        {
          "output_type": "stream",
          "name": "stdout",
          "text": [
            "df_name_basics_selected dataframe size:  (4426315, 5)\n",
            "df_title_principals_selected dataframe size:  (20798916, 4)\n",
            "df_title_basic_selected dataframe size:  (9386465, 5)\n",
            "joined dataframe size:  (20798916, 8)\n",
            "joined dataframe size:  (20175420, 12)\n"
          ]
        }
      ]
    },
    {
      "cell_type": "markdown",
      "source": [
        "# Wybierzmy przykładowe wiersze z końcowego dataframe'u"
      ],
      "metadata": {
        "id": "hKXuX-JdE9ED"
      }
    },
    {
      "cell_type": "code",
      "source": [
        "sample = data.rdd.takeSample(False, 5)"
      ],
      "metadata": {
        "id": "bH43D49EE84F"
      },
      "execution_count": 13,
      "outputs": []
    },
    {
      "cell_type": "code",
      "source": [
        "import pandas as pd\n",
        "sample = pd.DataFrame(sample, columns = data.columns)\n",
        "sample"
      ],
      "metadata": {
        "id": "kW8-_TXYLo10",
        "outputId": "367ffc05-0264-451d-e247-16009ade42ba",
        "colab": {
          "base_uri": "https://localhost:8080/",
          "height": 206
        }
      },
      "execution_count": 14,
      "outputs": [
        {
          "output_type": "execute_result",
          "data": {
            "text/plain": [
              "      nconst      tconst  titleType     originalTitle isAdult  genres  \\\n",
              "0  nm0467502   tt1199515    tvMovie            Precek       0   Drama   \n",
              "1  nm0862117   tt1729191    tvMovie  Familienanschluß       0  Comedy   \n",
              "2  nm0681566   tt0252262      short   Le bateau de Lu       0   Short   \n",
              "3  nm5379363  tt16254088  tvEpisode     Episode #1.64       0   Drama   \n",
              "4  nm4049315   tt4359146  tvEpisode     Episode #1.28       0      \\N   \n",
              "\n",
              "  category              characters      primaryName birthYear deathYear  \\\n",
              "0    actor              [\"Martin\"]  Dragi Kostovski      1930      1980   \n",
              "1    actor  [\"Gerichtsvollzieher\"]     Hanno Thurau      1939      1992   \n",
              "2    actor           [\"Un client\"]   Michel Piccoli      1925      2020   \n",
              "3  actress        [\"Ivie\",\"Alero\"]     Ivie Okujaye        \\N        \\N   \n",
              "4  actress           [\"Anastasia\"]    Marina Shtoda      1982        \\N   \n",
              "\n",
              "                             knownForTitles  \n",
              "0   tt1247355,tt0182313,tt1369730,tt0182367  \n",
              "1   tt0108574,tt0080612,tt0806910,tt0131686  \n",
              "2   tt0118613,tt1456472,tt0057345,tt0061395  \n",
              "3  tt6911110,tt18182222,tt2526570,tt4452274  \n",
              "4  tt6461726,tt2105514,tt4353482,tt12099306  "
            ],
            "text/html": [
              "\n",
              "  <div id=\"df-a26134ad-ed08-418a-8c18-69ddaaed890a\">\n",
              "    <div class=\"colab-df-container\">\n",
              "      <div>\n",
              "<style scoped>\n",
              "    .dataframe tbody tr th:only-of-type {\n",
              "        vertical-align: middle;\n",
              "    }\n",
              "\n",
              "    .dataframe tbody tr th {\n",
              "        vertical-align: top;\n",
              "    }\n",
              "\n",
              "    .dataframe thead th {\n",
              "        text-align: right;\n",
              "    }\n",
              "</style>\n",
              "<table border=\"1\" class=\"dataframe\">\n",
              "  <thead>\n",
              "    <tr style=\"text-align: right;\">\n",
              "      <th></th>\n",
              "      <th>nconst</th>\n",
              "      <th>tconst</th>\n",
              "      <th>titleType</th>\n",
              "      <th>originalTitle</th>\n",
              "      <th>isAdult</th>\n",
              "      <th>genres</th>\n",
              "      <th>category</th>\n",
              "      <th>characters</th>\n",
              "      <th>primaryName</th>\n",
              "      <th>birthYear</th>\n",
              "      <th>deathYear</th>\n",
              "      <th>knownForTitles</th>\n",
              "    </tr>\n",
              "  </thead>\n",
              "  <tbody>\n",
              "    <tr>\n",
              "      <th>0</th>\n",
              "      <td>nm0467502</td>\n",
              "      <td>tt1199515</td>\n",
              "      <td>tvMovie</td>\n",
              "      <td>Precek</td>\n",
              "      <td>0</td>\n",
              "      <td>Drama</td>\n",
              "      <td>actor</td>\n",
              "      <td>[\"Martin\"]</td>\n",
              "      <td>Dragi Kostovski</td>\n",
              "      <td>1930</td>\n",
              "      <td>1980</td>\n",
              "      <td>tt1247355,tt0182313,tt1369730,tt0182367</td>\n",
              "    </tr>\n",
              "    <tr>\n",
              "      <th>1</th>\n",
              "      <td>nm0862117</td>\n",
              "      <td>tt1729191</td>\n",
              "      <td>tvMovie</td>\n",
              "      <td>Familienanschluß</td>\n",
              "      <td>0</td>\n",
              "      <td>Comedy</td>\n",
              "      <td>actor</td>\n",
              "      <td>[\"Gerichtsvollzieher\"]</td>\n",
              "      <td>Hanno Thurau</td>\n",
              "      <td>1939</td>\n",
              "      <td>1992</td>\n",
              "      <td>tt0108574,tt0080612,tt0806910,tt0131686</td>\n",
              "    </tr>\n",
              "    <tr>\n",
              "      <th>2</th>\n",
              "      <td>nm0681566</td>\n",
              "      <td>tt0252262</td>\n",
              "      <td>short</td>\n",
              "      <td>Le bateau de Lu</td>\n",
              "      <td>0</td>\n",
              "      <td>Short</td>\n",
              "      <td>actor</td>\n",
              "      <td>[\"Un client\"]</td>\n",
              "      <td>Michel Piccoli</td>\n",
              "      <td>1925</td>\n",
              "      <td>2020</td>\n",
              "      <td>tt0118613,tt1456472,tt0057345,tt0061395</td>\n",
              "    </tr>\n",
              "    <tr>\n",
              "      <th>3</th>\n",
              "      <td>nm5379363</td>\n",
              "      <td>tt16254088</td>\n",
              "      <td>tvEpisode</td>\n",
              "      <td>Episode #1.64</td>\n",
              "      <td>0</td>\n",
              "      <td>Drama</td>\n",
              "      <td>actress</td>\n",
              "      <td>[\"Ivie\",\"Alero\"]</td>\n",
              "      <td>Ivie Okujaye</td>\n",
              "      <td>\\N</td>\n",
              "      <td>\\N</td>\n",
              "      <td>tt6911110,tt18182222,tt2526570,tt4452274</td>\n",
              "    </tr>\n",
              "    <tr>\n",
              "      <th>4</th>\n",
              "      <td>nm4049315</td>\n",
              "      <td>tt4359146</td>\n",
              "      <td>tvEpisode</td>\n",
              "      <td>Episode #1.28</td>\n",
              "      <td>0</td>\n",
              "      <td>\\N</td>\n",
              "      <td>actress</td>\n",
              "      <td>[\"Anastasia\"]</td>\n",
              "      <td>Marina Shtoda</td>\n",
              "      <td>1982</td>\n",
              "      <td>\\N</td>\n",
              "      <td>tt6461726,tt2105514,tt4353482,tt12099306</td>\n",
              "    </tr>\n",
              "  </tbody>\n",
              "</table>\n",
              "</div>\n",
              "      <button class=\"colab-df-convert\" onclick=\"convertToInteractive('df-a26134ad-ed08-418a-8c18-69ddaaed890a')\"\n",
              "              title=\"Convert this dataframe to an interactive table.\"\n",
              "              style=\"display:none;\">\n",
              "        \n",
              "  <svg xmlns=\"http://www.w3.org/2000/svg\" height=\"24px\"viewBox=\"0 0 24 24\"\n",
              "       width=\"24px\">\n",
              "    <path d=\"M0 0h24v24H0V0z\" fill=\"none\"/>\n",
              "    <path d=\"M18.56 5.44l.94 2.06.94-2.06 2.06-.94-2.06-.94-.94-2.06-.94 2.06-2.06.94zm-11 1L8.5 8.5l.94-2.06 2.06-.94-2.06-.94L8.5 2.5l-.94 2.06-2.06.94zm10 10l.94 2.06.94-2.06 2.06-.94-2.06-.94-.94-2.06-.94 2.06-2.06.94z\"/><path d=\"M17.41 7.96l-1.37-1.37c-.4-.4-.92-.59-1.43-.59-.52 0-1.04.2-1.43.59L10.3 9.45l-7.72 7.72c-.78.78-.78 2.05 0 2.83L4 21.41c.39.39.9.59 1.41.59.51 0 1.02-.2 1.41-.59l7.78-7.78 2.81-2.81c.8-.78.8-2.07 0-2.86zM5.41 20L4 18.59l7.72-7.72 1.47 1.35L5.41 20z\"/>\n",
              "  </svg>\n",
              "      </button>\n",
              "      \n",
              "  <style>\n",
              "    .colab-df-container {\n",
              "      display:flex;\n",
              "      flex-wrap:wrap;\n",
              "      gap: 12px;\n",
              "    }\n",
              "\n",
              "    .colab-df-convert {\n",
              "      background-color: #E8F0FE;\n",
              "      border: none;\n",
              "      border-radius: 50%;\n",
              "      cursor: pointer;\n",
              "      display: none;\n",
              "      fill: #1967D2;\n",
              "      height: 32px;\n",
              "      padding: 0 0 0 0;\n",
              "      width: 32px;\n",
              "    }\n",
              "\n",
              "    .colab-df-convert:hover {\n",
              "      background-color: #E2EBFA;\n",
              "      box-shadow: 0px 1px 2px rgba(60, 64, 67, 0.3), 0px 1px 3px 1px rgba(60, 64, 67, 0.15);\n",
              "      fill: #174EA6;\n",
              "    }\n",
              "\n",
              "    [theme=dark] .colab-df-convert {\n",
              "      background-color: #3B4455;\n",
              "      fill: #D2E3FC;\n",
              "    }\n",
              "\n",
              "    [theme=dark] .colab-df-convert:hover {\n",
              "      background-color: #434B5C;\n",
              "      box-shadow: 0px 1px 3px 1px rgba(0, 0, 0, 0.15);\n",
              "      filter: drop-shadow(0px 1px 2px rgba(0, 0, 0, 0.3));\n",
              "      fill: #FFFFFF;\n",
              "    }\n",
              "  </style>\n",
              "\n",
              "      <script>\n",
              "        const buttonEl =\n",
              "          document.querySelector('#df-a26134ad-ed08-418a-8c18-69ddaaed890a button.colab-df-convert');\n",
              "        buttonEl.style.display =\n",
              "          google.colab.kernel.accessAllowed ? 'block' : 'none';\n",
              "\n",
              "        async function convertToInteractive(key) {\n",
              "          const element = document.querySelector('#df-a26134ad-ed08-418a-8c18-69ddaaed890a');\n",
              "          const dataTable =\n",
              "            await google.colab.kernel.invokeFunction('convertToInteractive',\n",
              "                                                     [key], {});\n",
              "          if (!dataTable) return;\n",
              "\n",
              "          const docLinkHtml = 'Like what you see? Visit the ' +\n",
              "            '<a target=\"_blank\" href=https://colab.research.google.com/notebooks/data_table.ipynb>data table notebook</a>'\n",
              "            + ' to learn more about interactive tables.';\n",
              "          element.innerHTML = '';\n",
              "          dataTable['output_type'] = 'display_data';\n",
              "          await google.colab.output.renderOutput(dataTable, element);\n",
              "          const docLink = document.createElement('div');\n",
              "          docLink.innerHTML = docLinkHtml;\n",
              "          element.appendChild(docLink);\n",
              "        }\n",
              "      </script>\n",
              "    </div>\n",
              "  </div>\n",
              "  "
            ]
          },
          "metadata": {},
          "execution_count": 14
        }
      ]
    }
  ]
}