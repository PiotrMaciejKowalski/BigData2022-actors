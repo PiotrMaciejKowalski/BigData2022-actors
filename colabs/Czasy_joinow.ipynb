{
  "nbformat": 4,
  "nbformat_minor": 0,
  "metadata": {
    "colab": {
      "provenance": [],
      "collapsed_sections": [
        "kgYZYlTutA0O",
        "or9x68JxXc10",
        "pPWxy5j_aEvo",
        "s-hzkKehxgnQ",
        "snoopt7lY71j"
      ],
      "include_colab_link": true
    },
    "kernelspec": {
      "name": "python3",
      "display_name": "Python 3"
    },
    "language_info": {
      "name": "python"
    }
  },
  "cells": [
    {
      "cell_type": "markdown",
      "metadata": {
        "id": "view-in-github",
        "colab_type": "text"
      },
      "source": [
        "<a href=\"https://colab.research.google.com/github/PiotrMaciejKowalski/BigData2022-actors/blob/czasy-joinow/colabs/Czasy_joinow.ipynb\" target=\"_parent\"><img src=\"https://colab.research.google.com/assets/colab-badge.svg\" alt=\"Open In Colab\"/></a>"
      ]
    },
    {
      "cell_type": "markdown",
      "source": [
        "#Setup sparka"
      ],
      "metadata": {
        "id": "Vzb444kPW31g"
      }
    },
    {
      "cell_type": "markdown",
      "source": [
        "##Setup sparka"
      ],
      "metadata": {
        "id": "Ny5PYKNbsHju"
      }
    },
    {
      "cell_type": "code",
      "source": [
        "!pip install pyspark py4j\n",
        "!pip install -q findspark\n",
        "!apt-get install openjdk-8-jdk-headless -qq > /dev/null\n",
        "!wget ftp://ftp.ps.pl/pub/apache/spark/spark-3.3.1/spark-3.3.1-bin-hadoop2.tgz\n",
        "!tar xf spark-3.3.1-bin-hadoop2.tgz"
      ],
      "metadata": {
        "colab": {
          "base_uri": "https://localhost:8080/"
        },
        "id": "UxTbMYkeLrk6",
        "outputId": "d21a573e-d712-449e-ed1d-c1d5a9aacc97"
      },
      "execution_count": 1,
      "outputs": [
        {
          "output_type": "stream",
          "name": "stdout",
          "text": [
            "Looking in indexes: https://pypi.org/simple, https://us-python.pkg.dev/colab-wheels/public/simple/\n",
            "Collecting pyspark\n",
            "  Downloading pyspark-3.3.1.tar.gz (281.4 MB)\n",
            "\u001b[K     |████████████████████████████████| 281.4 MB 47 kB/s \n",
            "\u001b[?25hCollecting py4j\n",
            "  Downloading py4j-0.10.9.7-py2.py3-none-any.whl (200 kB)\n",
            "\u001b[K     |████████████████████████████████| 200 kB 47.6 MB/s \n",
            "\u001b[?25h  Downloading py4j-0.10.9.5-py2.py3-none-any.whl (199 kB)\n",
            "\u001b[K     |████████████████████████████████| 199 kB 49.4 MB/s \n",
            "\u001b[?25hBuilding wheels for collected packages: pyspark\n",
            "  Building wheel for pyspark (setup.py) ... \u001b[?25l\u001b[?25hdone\n",
            "  Created wheel for pyspark: filename=pyspark-3.3.1-py2.py3-none-any.whl size=281845514 sha256=efa8c0660641574285f850ce6cecbc556fe159c8271b62af5d363f4ba4c26fb0\n",
            "  Stored in directory: /root/.cache/pip/wheels/42/59/f5/79a5bf931714dcd201b26025347785f087370a10a3329a899c\n",
            "Successfully built pyspark\n",
            "Installing collected packages: py4j, pyspark\n",
            "Successfully installed py4j-0.10.9.5 pyspark-3.3.1\n",
            "--2022-11-17 20:31:56--  ftp://ftp.ps.pl/pub/apache/spark/spark-3.3.1/spark-3.3.1-bin-hadoop2.tgz\n",
            "           => ‘spark-3.3.1-bin-hadoop2.tgz’\n",
            "Resolving ftp.ps.pl (ftp.ps.pl)... 212.14.28.36, 2001:4c58:62:2::36\n",
            "Connecting to ftp.ps.pl (ftp.ps.pl)|212.14.28.36|:21... connected.\n",
            "Logging in as anonymous ... Logged in!\n",
            "==> SYST ... done.    ==> PWD ... done.\n",
            "==> TYPE I ... done.  ==> CWD (1) /pub/apache/spark/spark-3.3.1 ... done.\n",
            "==> SIZE spark-3.3.1-bin-hadoop2.tgz ... 274099817\n",
            "==> PASV ... done.    ==> RETR spark-3.3.1-bin-hadoop2.tgz ... done.\n",
            "Length: 274099817 (261M) (unauthoritative)\n",
            "\n",
            "spark-3.3.1-bin-had 100%[===================>] 261.40M  23.9MB/s    in 12s     \n",
            "\n",
            "2022-11-17 20:32:10 (22.4 MB/s) - ‘spark-3.3.1-bin-hadoop2.tgz’ saved [274099817]\n",
            "\n"
          ]
        }
      ]
    },
    {
      "cell_type": "code",
      "source": [
        "import pyspark\n",
        "import findspark\n",
        "from pyspark.sql import SparkSession\n",
        "import os"
      ],
      "metadata": {
        "id": "g_c507iBLsSW"
      },
      "execution_count": 2,
      "outputs": []
    },
    {
      "cell_type": "code",
      "source": [
        "os.environ[\"JAVA_HOME\"] = \"/usr/lib/jvm/java-8-openjdk-amd64\"\n",
        "os.environ[\"SPARK_HOME\"] = \"/content/spark-3.3.1-bin-hadoop2\"\n",
        "spark=SparkSession.builder.appName('Colab').getOrCreate()\n",
        "spark"
      ],
      "metadata": {
        "id": "1rwBnBMwW88n",
        "outputId": "2ca469ca-dbe5-4780-8e57-893027a16f17",
        "colab": {
          "base_uri": "https://localhost:8080/",
          "height": 219
        }
      },
      "execution_count": 3,
      "outputs": [
        {
          "output_type": "execute_result",
          "data": {
            "text/plain": [
              "<pyspark.sql.session.SparkSession at 0x7fa992f7f250>"
            ],
            "text/html": [
              "\n",
              "            <div>\n",
              "                <p><b>SparkSession - in-memory</b></p>\n",
              "                \n",
              "        <div>\n",
              "            <p><b>SparkContext</b></p>\n",
              "\n",
              "            <p><a href=\"http://c3c9481ff76d:4040\">Spark UI</a></p>\n",
              "\n",
              "            <dl>\n",
              "              <dt>Version</dt>\n",
              "                <dd><code>v3.3.1</code></dd>\n",
              "              <dt>Master</dt>\n",
              "                <dd><code>local[*]</code></dd>\n",
              "              <dt>AppName</dt>\n",
              "                <dd><code>Colab</code></dd>\n",
              "            </dl>\n",
              "        </div>\n",
              "        \n",
              "            </div>\n",
              "        "
            ]
          },
          "metadata": {},
          "execution_count": 3
        }
      ]
    },
    {
      "cell_type": "markdown",
      "source": [
        "#Pobranie danych"
      ],
      "metadata": {
        "id": "p0l3OAblXJ2w"
      }
    },
    {
      "cell_type": "markdown",
      "source": [
        "##Import danych"
      ],
      "metadata": {
        "id": "kgYZYlTutA0O"
      }
    },
    {
      "cell_type": "code",
      "source": [
        "!wget https://datasets.imdbws.com/name.basics.tsv.gz\n",
        "!wget https://datasets.imdbws.com/title.akas.tsv.gz\n",
        "!wget https://datasets.imdbws.com/title.basics.tsv.gz\n",
        "!wget https://datasets.imdbws.com/title.crew.tsv.gz\n",
        "!wget https://datasets.imdbws.com/title.episode.tsv.gz\n",
        "!wget https://datasets.imdbws.com/title.principals.tsv.gz\n",
        "!wget https://datasets.imdbws.com/title.ratings.tsv.gz"
      ],
      "metadata": {
        "id": "SciXhN5JXONa",
        "colab": {
          "base_uri": "https://localhost:8080/"
        },
        "outputId": "822eb52f-48f8-45a9-ff41-46693159aea7"
      },
      "execution_count": 4,
      "outputs": [
        {
          "output_type": "stream",
          "name": "stdout",
          "text": [
            "--2022-11-17 20:32:22--  https://datasets.imdbws.com/name.basics.tsv.gz\n",
            "Resolving datasets.imdbws.com (datasets.imdbws.com)... 99.84.160.94, 99.84.160.48, 99.84.160.41, ...\n",
            "Connecting to datasets.imdbws.com (datasets.imdbws.com)|99.84.160.94|:443... connected.\n",
            "HTTP request sent, awaiting response... 200 OK\n",
            "Length: 236472510 (226M) [binary/octet-stream]\n",
            "Saving to: ‘name.basics.tsv.gz’\n",
            "\n",
            "name.basics.tsv.gz  100%[===================>] 225.52M  83.3MB/s    in 2.7s    \n",
            "\n",
            "2022-11-17 20:32:25 (83.3 MB/s) - ‘name.basics.tsv.gz’ saved [236472510/236472510]\n",
            "\n",
            "--2022-11-17 20:32:25--  https://datasets.imdbws.com/title.akas.tsv.gz\n",
            "Resolving datasets.imdbws.com (datasets.imdbws.com)... 99.84.160.94, 99.84.160.48, 99.84.160.41, ...\n",
            "Connecting to datasets.imdbws.com (datasets.imdbws.com)|99.84.160.94|:443... connected.\n",
            "HTTP request sent, awaiting response... 200 OK\n",
            "Length: 287698034 (274M) [binary/octet-stream]\n",
            "Saving to: ‘title.akas.tsv.gz’\n",
            "\n",
            "title.akas.tsv.gz   100%[===================>] 274.37M  34.1MB/s    in 8.0s    \n",
            "\n",
            "2022-11-17 20:32:34 (34.4 MB/s) - ‘title.akas.tsv.gz’ saved [287698034/287698034]\n",
            "\n",
            "--2022-11-17 20:32:34--  https://datasets.imdbws.com/title.basics.tsv.gz\n",
            "Resolving datasets.imdbws.com (datasets.imdbws.com)... 99.84.160.94, 99.84.160.48, 99.84.160.41, ...\n",
            "Connecting to datasets.imdbws.com (datasets.imdbws.com)|99.84.160.94|:443... connected.\n",
            "HTTP request sent, awaiting response... 200 OK\n",
            "Length: 163905072 (156M) [binary/octet-stream]\n",
            "Saving to: ‘title.basics.tsv.gz’\n",
            "\n",
            "title.basics.tsv.gz 100%[===================>] 156.31M  75.2MB/s    in 2.1s    \n",
            "\n",
            "2022-11-17 20:32:36 (75.2 MB/s) - ‘title.basics.tsv.gz’ saved [163905072/163905072]\n",
            "\n",
            "--2022-11-17 20:32:36--  https://datasets.imdbws.com/title.crew.tsv.gz\n",
            "Resolving datasets.imdbws.com (datasets.imdbws.com)... 99.84.160.94, 99.84.160.48, 99.84.160.41, ...\n",
            "Connecting to datasets.imdbws.com (datasets.imdbws.com)|99.84.160.94|:443... connected.\n",
            "HTTP request sent, awaiting response... 200 OK\n",
            "Length: 62926968 (60M) [binary/octet-stream]\n",
            "Saving to: ‘title.crew.tsv.gz’\n",
            "\n",
            "title.crew.tsv.gz   100%[===================>]  60.01M   100MB/s    in 0.6s    \n",
            "\n",
            "2022-11-17 20:32:37 (100 MB/s) - ‘title.crew.tsv.gz’ saved [62926968/62926968]\n",
            "\n",
            "--2022-11-17 20:32:37--  https://datasets.imdbws.com/title.episode.tsv.gz\n",
            "Resolving datasets.imdbws.com (datasets.imdbws.com)... 99.84.160.94, 99.84.160.48, 99.84.160.41, ...\n",
            "Connecting to datasets.imdbws.com (datasets.imdbws.com)|99.84.160.94|:443... connected.\n",
            "HTTP request sent, awaiting response... 200 OK\n",
            "Length: 38543860 (37M) [binary/octet-stream]\n",
            "Saving to: ‘title.episode.tsv.gz’\n",
            "\n",
            "title.episode.tsv.g 100%[===================>]  36.76M  96.0MB/s    in 0.4s    \n",
            "\n",
            "2022-11-17 20:32:37 (96.0 MB/s) - ‘title.episode.tsv.gz’ saved [38543860/38543860]\n",
            "\n",
            "--2022-11-17 20:32:37--  https://datasets.imdbws.com/title.principals.tsv.gz\n",
            "Resolving datasets.imdbws.com (datasets.imdbws.com)... 99.84.160.94, 99.84.160.48, 99.84.160.41, ...\n",
            "Connecting to datasets.imdbws.com (datasets.imdbws.com)|99.84.160.94|:443... connected.\n",
            "HTTP request sent, awaiting response... 200 OK\n",
            "Length: 417407164 (398M) [binary/octet-stream]\n",
            "Saving to: ‘title.principals.tsv.gz’\n",
            "\n",
            "title.principals.ts 100%[===================>] 398.07M  97.7MB/s    in 3.9s    \n",
            "\n",
            "2022-11-17 20:32:41 (101 MB/s) - ‘title.principals.tsv.gz’ saved [417407164/417407164]\n",
            "\n",
            "--2022-11-17 20:32:41--  https://datasets.imdbws.com/title.ratings.tsv.gz\n",
            "Resolving datasets.imdbws.com (datasets.imdbws.com)... 99.84.160.94, 99.84.160.48, 99.84.160.41, ...\n",
            "Connecting to datasets.imdbws.com (datasets.imdbws.com)|99.84.160.94|:443... connected.\n",
            "HTTP request sent, awaiting response... 200 OK\n",
            "Length: 6268062 (6.0M) [binary/octet-stream]\n",
            "Saving to: ‘title.ratings.tsv.gz’\n",
            "\n",
            "title.ratings.tsv.g 100%[===================>]   5.98M  --.-KB/s    in 0.09s   \n",
            "\n",
            "2022-11-17 20:32:42 (68.3 MB/s) - ‘title.ratings.tsv.gz’ saved [6268062/6268062]\n",
            "\n"
          ]
        }
      ]
    },
    {
      "cell_type": "markdown",
      "source": [
        "##Rozpakowanie danych"
      ],
      "metadata": {
        "id": "or9x68JxXc10"
      }
    },
    {
      "cell_type": "code",
      "source": [
        "!gzip -dc /content/name.basics.tsv.gz > name.basics.csv\n",
        "!gzip -dc /content/title.akas.tsv.gz > title.akas.csv\n",
        "!gzip -dc /content/title.basics.tsv.gz > title.basic.csv\n",
        "!gzip -dc /content/title.crew.tsv.gz > title.crew.csv\n",
        "!gzip -dc /content/title.episode.tsv.gz > title.episode.csv\n",
        "!gzip -dc /content/title.principals.tsv.gz > title.principals.csv\n",
        "!gzip -dc /content/title.ratings.tsv.gz > title.ratings.csv"
      ],
      "metadata": {
        "id": "IpXAjtV4XeKx"
      },
      "execution_count": 5,
      "outputs": []
    },
    {
      "cell_type": "markdown",
      "source": [
        "#Wczytanie danych"
      ],
      "metadata": {
        "id": "pPWxy5j_aEvo"
      }
    },
    {
      "cell_type": "markdown",
      "source": [
        "##Wczytajmy dane z rozpakowanych plików"
      ],
      "metadata": {
        "id": "s-hzkKehxgnQ"
      }
    },
    {
      "cell_type": "code",
      "source": [
        "df_name_basics=spark.read.option(\"header\", \"true\").option(\"delimiter\", \"\\t\").csv('name.basics.csv' ) \n",
        "df_title_akas=spark.read.option(\"header\",\"true\").option(\"delimiter\", \"\\t\").csv('title.akas.csv')\n",
        "df_title_basic=spark.read.option(\"header\",\"true\").option(\"delimiter\", \"\\t\").csv('title.basic.csv')\n",
        "df_title_crew=spark.read.option(\"header\",\"true\").option(\"delimiter\", \"\\t\").csv('title.crew.csv')\n",
        "df_title_episode=spark.read.option(\"header\",\"true\").option(\"delimiter\",\"\\t\").csv('title.episode.csv')\n",
        "df_title_principals=spark.read.option(\"header\",\"true\").option(\"delimiter\",\"\\t\").csv('title.principals.csv')\n",
        "df_title_ratings=spark.read.option(\"header\",\"true\").option(\"delimiter\",\"\\t\").csv('title.ratings.csv')"
      ],
      "metadata": {
        "id": "skegmFMQXpcA"
      },
      "execution_count": 6,
      "outputs": []
    },
    {
      "cell_type": "markdown",
      "source": [
        "##Wyświetlmy dane"
      ],
      "metadata": {
        "id": "snoopt7lY71j"
      }
    },
    {
      "cell_type": "code",
      "source": [
        "df_name_basics.show(3)\n",
        "df_title_akas.show(3)\n",
        "df_title_basic.show(3)\n",
        "df_title_crew.show(3)\n",
        "df_title_episode.show(3)\n",
        "df_title_principals.show(3)\n",
        "df_title_ratings.show(3)"
      ],
      "metadata": {
        "id": "BQItTCh9ZBht",
        "colab": {
          "base_uri": "https://localhost:8080/"
        },
        "outputId": "7e2eda07-a7c3-4fb5-c361-a158c36eb761"
      },
      "execution_count": 7,
      "outputs": [
        {
          "output_type": "stream",
          "name": "stdout",
          "text": [
            "+---------+---------------+---------+---------+--------------------+--------------------+\n",
            "|   nconst|    primaryName|birthYear|deathYear|   primaryProfession|      knownForTitles|\n",
            "+---------+---------------+---------+---------+--------------------+--------------------+\n",
            "|nm0000001|   Fred Astaire|     1899|     1987|soundtrack,actor,...|tt0050419,tt00319...|\n",
            "|nm0000002|  Lauren Bacall|     1924|     2014|  actress,soundtrack|tt0071877,tt00373...|\n",
            "|nm0000003|Brigitte Bardot|     1934|       \\N|actress,soundtrac...|tt0049189,tt00564...|\n",
            "+---------+---------------+---------+---------+--------------------+--------------------+\n",
            "only showing top 3 rows\n",
            "\n",
            "+---------+--------+--------------------+------+--------+-----------+-------------+---------------+\n",
            "|  titleId|ordering|               title|region|language|      types|   attributes|isOriginalTitle|\n",
            "+---------+--------+--------------------+------+--------+-----------+-------------+---------------+\n",
            "|tt0000001|       1|          Карменсіта|    UA|      \\N|imdbDisplay|           \\N|              0|\n",
            "|tt0000001|       2|          Carmencita|    DE|      \\N|         \\N|literal title|              0|\n",
            "|tt0000001|       3|Carmencita - span...|    HU|      \\N|imdbDisplay|           \\N|              0|\n",
            "+---------+--------+--------------------+------+--------+-----------+-------------+---------------+\n",
            "only showing top 3 rows\n",
            "\n",
            "+---------+---------+--------------------+--------------------+-------+---------+-------+--------------+--------------------+\n",
            "|   tconst|titleType|        primaryTitle|       originalTitle|isAdult|startYear|endYear|runtimeMinutes|              genres|\n",
            "+---------+---------+--------------------+--------------------+-------+---------+-------+--------------+--------------------+\n",
            "|tt0000001|    short|          Carmencita|          Carmencita|      0|     1894|     \\N|             1|   Documentary,Short|\n",
            "|tt0000002|    short|Le clown et ses c...|Le clown et ses c...|      0|     1892|     \\N|             5|     Animation,Short|\n",
            "|tt0000003|    short|      Pauvre Pierrot|      Pauvre Pierrot|      0|     1892|     \\N|             4|Animation,Comedy,...|\n",
            "+---------+---------+--------------------+--------------------+-------+---------+-------+--------------+--------------------+\n",
            "only showing top 3 rows\n",
            "\n",
            "+---------+---------+-------+\n",
            "|   tconst|directors|writers|\n",
            "+---------+---------+-------+\n",
            "|tt0000001|nm0005690|     \\N|\n",
            "|tt0000002|nm0721526|     \\N|\n",
            "|tt0000003|nm0721526|     \\N|\n",
            "+---------+---------+-------+\n",
            "only showing top 3 rows\n",
            "\n",
            "+---------+------------+------------+-------------+\n",
            "|   tconst|parentTconst|seasonNumber|episodeNumber|\n",
            "+---------+------------+------------+-------------+\n",
            "|tt0041951|   tt0041038|           1|            9|\n",
            "|tt0042816|   tt0989125|           1|           17|\n",
            "|tt0042889|   tt0989125|          \\N|           \\N|\n",
            "+---------+------------+------------+-------------+\n",
            "only showing top 3 rows\n",
            "\n",
            "+---------+--------+---------+---------------+--------------------+----------+\n",
            "|   tconst|ordering|   nconst|       category|                 job|characters|\n",
            "+---------+--------+---------+---------------+--------------------+----------+\n",
            "|tt0000001|       1|nm1588970|           self|                  \\N|  [\"Self\"]|\n",
            "|tt0000001|       2|nm0005690|       director|                  \\N|        \\N|\n",
            "|tt0000001|       3|nm0374658|cinematographer|director of photo...|        \\N|\n",
            "+---------+--------+---------+---------------+--------------------+----------+\n",
            "only showing top 3 rows\n",
            "\n",
            "+---------+-------------+--------+\n",
            "|   tconst|averageRating|numVotes|\n",
            "+---------+-------------+--------+\n",
            "|tt0000001|          5.7|    1922|\n",
            "|tt0000002|          5.8|     259|\n",
            "|tt0000003|          6.5|    1736|\n",
            "+---------+-------------+--------+\n",
            "only showing top 3 rows\n",
            "\n"
          ]
        }
      ]
    },
    {
      "cell_type": "markdown",
      "source": [
        "# Złączenie istotnych kolumn"
      ],
      "metadata": {
        "id": "ZZb5i_RrA-yP"
      }
    },
    {
      "cell_type": "markdown",
      "source": [
        "## Wybierzmy następujące kolumny z tabel:\n",
        "- df_title_basic:\n",
        "  - tconst (unikalny numer tytułu - potrzebne do złączenia tabel)\n",
        "  - titleType (rodzaj tytułu, np. film, serial - można porównywać podobieństwo aktorów na podstawie tego w jakich typach produkcji grali)\n",
        "  - originalTitle (tytuł produkcji - być może przyda się do analizy podobnych filmów)\n",
        "  - isAdult (czy produkcja jest dla dorosłych - można wykorzystać do porównywania aktorów na podstawie tego czy grają głównie w produkcjach dla dorosłych)\n",
        "  - genres (gatunki - może posłużyć do porównania aktorów na podstawie tego, że grali w produkcjach o podobnych gatunkach)\n",
        "\n",
        "- df_title_principals:\n",
        "  - tconst (unikalny numer tytułu - potrzebne do złączenia tabel)\n",
        "  - nconst (unikalny numer aktora - potrzebne do złączenia tabel)\n",
        "  - category (kategoria pracy (actor/actress) - może posłużyć do porównania aktorów na podstawie takiej samej płci)\n",
        "  - characters (postacie zagrane w produkcji - może posłużyć do porównania aktorów na podstawie podobnych granych postaci)\n",
        "\n",
        "- df_name_basics:\n",
        "  - nconst(unikalny numer aktora - potrzebne do złączenia tabel)\n",
        "  - primaryName (imię i nazwisko aktora - potrzebne do wyświetlania aktora lub do odnajdywania go w bazie po imieniu i nazwisku)\n",
        "  - birthYear (rok urodzenia aktora - może posłużyć do porównania aktorów na podstawie podobnych okresów, w których żyli i grali)\n",
        "  - deathYear ( rok śmierci aktora - może posłużyć do porównania aktorów na podstawie podobnych okresów, w których żyli i grali)\n",
        "  - knownForTitles (tytuły produkcji, z których znany jets aktor - może posłużyć do porównania aktorów na podstawie tych samych lub podobnych produkcji, z których są znani)"
      ],
      "metadata": {
        "id": "MGd5Hi-VBF9h"
      }
    },
    {
      "cell_type": "code",
      "source": [
        "df_title_basic_selected = df_title_basic.select([\"tconst\", \"titleType\", \"originalTitle\", \"isAdult\", \"genres\"])\n",
        "df_title_principals_selected = df_title_principals.select([\"tconst\", \"nconst\", \"category\", \"characters\"])\n",
        "df_name_basics_selected = df_name_basics.select([\"nconst\", \"primaryName\", \"birthYear\", \"deathYear\", \"knownForTitles\"])"
      ],
      "metadata": {
        "id": "OKWe9JSKBC5q"
      },
      "execution_count": 8,
      "outputs": []
    },
    {
      "cell_type": "markdown",
      "source": [
        "## Wybierzmy z tabeli df_title_principals_selected tylko aktorów i aktorki"
      ],
      "metadata": {
        "id": "Dv9_BSnFVFa3"
      }
    },
    {
      "cell_type": "code",
      "source": [
        "#df_title_principals_selected = df_title_principals_selected.filter((df_title_principals_selected.category == \"actor\") | (df_title_principals_selected.category == \"actress\"))"
      ],
      "metadata": {
        "id": "3vOtn_OxVAQa"
      },
      "execution_count": 9,
      "outputs": []
    },
    {
      "cell_type": "markdown",
      "source": [
        "# Złączmy tabele df_name_basics, df_title_principals i df_title_basic"
      ],
      "metadata": {
        "id": "eMIHo59PBNtx"
      }
    },
    {
      "cell_type": "markdown",
      "source": [
        "## Sprawdźmy czasy joinowania dla różnych kombinacji tabel"
      ],
      "metadata": {
        "id": "0cd69uOmz-E9"
      }
    },
    {
      "cell_type": "markdown",
      "source": [
        "Sprawdzimy najpierw różnicę w różnych typach łączenia tabel df_name_basics_selected i df_title_principals_selected:"
      ],
      "metadata": {
        "id": "19O-f-nBUprz"
      }
    },
    {
      "cell_type": "code",
      "source": [
        "from timeit import default_timer as timer\n",
        "\n",
        "start = timer()\n",
        "data1 = df_name_basics_selected.join(df_title_principals_selected, \"nconst\", \"inner\")\n",
        "print(\"df_name_basics_selected and df_title_principals_selected joined table size: \", (data1.count(), len(data1.columns)))\n",
        "data1 = data1.join(df_title_basic_selected, \"tconst\", \"inner\")\n",
        "end = timer()\n",
        "print(\"joined table size: \", (data1.count(), len(data1.columns)), \"time of joining tables: \", end-start)"
      ],
      "metadata": {
        "id": "bXWAMvJtz9Rc",
        "colab": {
          "base_uri": "https://localhost:8080/"
        },
        "outputId": "b69d779a-3747-41e3-f823-43e970750a31"
      },
      "execution_count": 10,
      "outputs": [
        {
          "output_type": "stream",
          "name": "stdout",
          "text": [
            "df_name_basics_selected and df_title_principals_selected joined table size:  (53075170, 8)\n",
            "joined table size:  (53069043, 12) time of joining tables:  171.74063872999977\n"
          ]
        }
      ]
    },
    {
      "cell_type": "code",
      "source": [
        "start = timer()\n",
        "data2 = df_name_basics_selected.join(df_title_principals_selected, \"nconst\", \"inner\")\n",
        "print(\"df_name_basics_selected and df_title_principals_selected joined table size: \", (data2.count(), len(data2.columns)))\n",
        "data2 = data2.join(df_title_basic_selected, \"tconst\", \"left\")\n",
        "end = timer()\n",
        "print(\"joined table size: \", (data2.count(), len(data2.columns)), \"time of joining tables: \", end-start)"
      ],
      "metadata": {
        "id": "qOiMjG5H3X8S",
        "colab": {
          "base_uri": "https://localhost:8080/"
        },
        "outputId": "ef73d07f-2a60-4061-b600-66f63469ad59"
      },
      "execution_count": 11,
      "outputs": [
        {
          "metadata": {
            "tags": null
          },
          "name": "stdout",
          "output_type": "stream",
          "text": [
            "df_name_basics_selected and df_title_principals_selected joined table size:  (53075170, 8)\n",
            "joined table size:  (53075170, 12) time of joining tables:  159.076253448\n"
          ]
        }
      ]
    },
    {
      "cell_type": "code",
      "source": [
        "start = timer()\n",
        "data3 = df_name_basics_selected.join(df_title_principals_selected, \"nconst\", \"right\")\n",
        "print(\"df_name_basics_selected and df_title_principals_selected joined table size: \", (data3.count(), len(data3.columns)))\n",
        "data3 = data3.join(df_title_basic_selected, \"tconst\", \"inner\")\n",
        "end = timer()\n",
        "print(\"joined table size: \", (data3.count(), len(data3.columns)), \"time of joining tables: \", end-start)"
      ],
      "metadata": {
        "colab": {
          "base_uri": "https://localhost:8080/"
        },
        "id": "tw7iwQNeLp7T",
        "outputId": "e22f8693-47ca-4e21-8e13-20ea0ca96d9a"
      },
      "execution_count": 12,
      "outputs": [
        {
          "metadata": {
            "tags": null
          },
          "name": "stdout",
          "output_type": "stream",
          "text": [
            "df_name_basics_selected and df_title_principals_selected joined table size:  (53082998, 8)\n",
            "joined table size:  (53076833, 12) time of joining tables:  159.27779396899996\n"
          ]
        }
      ]
    },
    {
      "cell_type": "code",
      "source": [
        "start = timer()\n",
        "data4 = df_name_basics_selected.join(df_title_principals_selected, \"nconst\", \"right\")\n",
        "print(\"df_name_basics_selected and df_title_principals_selected joined table size: \", (data4.count(), len(data4.columns)))\n",
        "data4 = data4.join(df_title_basic_selected, \"tconst\", \"left\")\n",
        "end = timer()\n",
        "print(\"joined table size: \", (data4.count(), len(data4.columns)), \"time of joining tables: \", end-start)"
      ],
      "metadata": {
        "colab": {
          "base_uri": "https://localhost:8080/"
        },
        "id": "eW22PuBpL4mV",
        "outputId": "1ad868b2-4f69-49d0-d8ef-031ef5f987b6"
      },
      "execution_count": 13,
      "outputs": [
        {
          "metadata": {
            "tags": null
          },
          "name": "stdout",
          "output_type": "stream",
          "text": [
            "df_name_basics_selected and df_title_principals_selected joined table size:  (53082998, 8)\n",
            "joined table size:  (53082998, 12) time of joining tables:  150.63972218800018\n"
          ]
        }
      ]
    },
    {
      "cell_type": "code",
      "source": [
        "start = timer()\n",
        "data5 = df_title_principals_selected.join(df_name_basics_selected, \"nconst\", \"inner\")\n",
        "print(\"df_title_principals_selected and df_name_basics_selected joined table size: \", (data5.count(), len(data5.columns)))\n",
        "data5 = data5.join(df_title_basic_selected, \"tconst\", \"inner\")\n",
        "end = timer()\n",
        "print(\"joined table size: \", (data5.count(), len(data5.columns)), \"time of joining tables: \", end-start)"
      ],
      "metadata": {
        "colab": {
          "base_uri": "https://localhost:8080/"
        },
        "id": "8HJWyohyMai8",
        "outputId": "d9a75cc0-cf9d-4364-a661-33947b221090"
      },
      "execution_count": 14,
      "outputs": [
        {
          "metadata": {
            "tags": null
          },
          "name": "stdout",
          "output_type": "stream",
          "text": [
            "df_title_principals_selected and df_name_basics_selected joined table size:  (53075170, 8)\n",
            "joined table size:  (53069043, 12) time of joining tables:  152.7818813820004\n"
          ]
        }
      ]
    },
    {
      "cell_type": "code",
      "source": [
        "start = timer()\n",
        "data6 = df_title_principals_selected.join(df_name_basics_selected, \"nconst\", \"inner\")\n",
        "print(\"df_title_principals_selected and df_name_basics_selected joined table size: \", (data6.count(), len(data6.columns)))\n",
        "data6 = data6.join(df_title_basic_selected, \"tconst\", \"left\")\n",
        "end = timer()\n",
        "print(\"joined table size: \", (data6.count(), len(data6.columns)), \"time of joining tables: \", end-start)"
      ],
      "metadata": {
        "colab": {
          "base_uri": "https://localhost:8080/"
        },
        "id": "1ws31f_zMy46",
        "outputId": "f15f3ea1-c53e-4821-adcb-cd52ca6545c5"
      },
      "execution_count": 15,
      "outputs": [
        {
          "metadata": {
            "tags": null
          },
          "name": "stdout",
          "output_type": "stream",
          "text": [
            "df_title_principals_selected and df_name_basics_selected joined table size:  (53075170, 8)\n",
            "joined table size:  (53075170, 12) time of joining tables:  166.57404779100034\n"
          ]
        }
      ]
    },
    {
      "cell_type": "code",
      "source": [
        "start = timer()\n",
        "data7 = df_title_principals_selected.join(df_name_basics_selected, \"nconst\", \"left\")\n",
        "print(\"df_title_principals_selected and df_name_basics_selected joined table size: \", (data7.count(), len(data7.columns)))\n",
        "data7 = data7.join(df_title_basic_selected, \"tconst\", \"inner\")\n",
        "end = timer()\n",
        "print(\"joined table size: \", (data7.count(), len(data7.columns)), \"time of joining tables: \", end-start)"
      ],
      "metadata": {
        "colab": {
          "base_uri": "https://localhost:8080/"
        },
        "id": "PpJvsSrSM8TH",
        "outputId": "f1515df7-c349-49a6-b797-ab15b92a2bf6"
      },
      "execution_count": 16,
      "outputs": [
        {
          "metadata": {
            "tags": null
          },
          "name": "stdout",
          "output_type": "stream",
          "text": [
            "df_title_principals_selected and df_name_basics_selected joined table size:  (53082998, 8)\n",
            "joined table size:  (53076833, 12) time of joining tables:  151.34208891700018\n"
          ]
        }
      ]
    },
    {
      "cell_type": "code",
      "source": [
        "start = timer()\n",
        "data8 = df_title_principals_selected.join(df_name_basics_selected, \"nconst\", \"left\")\n",
        "print(\"df_title_principals_selected and df_name_basics_selected joined table size: \", (data8.count(), len(data8.columns)))\n",
        "data8 = data8.join(df_title_basic_selected, \"tconst\", \"left\")\n",
        "end = timer()\n",
        "print(\"joined table size: \", (data8.count(), len(data8.columns)), \"time of joining tables: \", end-start)"
      ],
      "metadata": {
        "colab": {
          "base_uri": "https://localhost:8080/"
        },
        "id": "sIlahZLsM9yT",
        "outputId": "89269f2c-b681-4820-d6a6-4839d8cee48f"
      },
      "execution_count": 17,
      "outputs": [
        {
          "metadata": {
            "tags": null
          },
          "name": "stdout",
          "output_type": "stream",
          "text": [
            "df_title_principals_selected and df_name_basics_selected joined table size:  (53082998, 8)\n",
            "joined table size:  (53082998, 12) time of joining tables:  149.55194459300037\n"
          ]
        }
      ]
    },
    {
      "cell_type": "code",
      "source": [
        "start = timer()\n",
        "data9 = df_title_basic_selected.join(df_title_principals_selected, \"tconst\", \"inner\")\n",
        "print(\"df_title_basic_selected and df_title_principals_selected joined table size: \", (data9.count(), len(data9.columns)))\n",
        "data9 = data9.join(df_name_basics_selected, \"nconst\", \"inner\")\n",
        "end = timer()\n",
        "print(\"joined table size: \", (data9.count(), len(data9.columns)), \"time of joining tables: \", end-start)"
      ],
      "metadata": {
        "colab": {
          "base_uri": "https://localhost:8080/",
          "height": 380
        },
        "id": "DRnYC4nlNgKU",
        "outputId": "d867b891-5972-4361-d80a-67625c6f554b"
      },
      "execution_count": 18,
      "outputs": [
        {
          "ename": "AnalysisException",
          "evalue": "ignored",
          "output_type": "error",
          "traceback": [
            "\u001b[0;31m---------------------------------------------------------------------------\u001b[0m",
            "\u001b[0;31mAnalysisException\u001b[0m                         Traceback (most recent call last)",
            "\u001b[0;32m<ipython-input-18-b77fd9502b47>\u001b[0m in \u001b[0;36m<module>\u001b[0;34m\u001b[0m\n\u001b[1;32m      1\u001b[0m \u001b[0mstart\u001b[0m \u001b[0;34m=\u001b[0m \u001b[0mtimer\u001b[0m\u001b[0;34m(\u001b[0m\u001b[0;34m)\u001b[0m\u001b[0;34m\u001b[0m\u001b[0;34m\u001b[0m\u001b[0m\n\u001b[0;32m----> 2\u001b[0;31m \u001b[0mdata9\u001b[0m \u001b[0;34m=\u001b[0m \u001b[0mdf_title_basic_selected\u001b[0m\u001b[0;34m.\u001b[0m\u001b[0mjoin\u001b[0m\u001b[0;34m(\u001b[0m\u001b[0mdf_title_principals_selected\u001b[0m\u001b[0;34m,\u001b[0m \u001b[0;34m\"nconst\"\u001b[0m\u001b[0;34m,\u001b[0m \u001b[0;34m\"inner\"\u001b[0m\u001b[0;34m)\u001b[0m\u001b[0;34m\u001b[0m\u001b[0;34m\u001b[0m\u001b[0m\n\u001b[0m\u001b[1;32m      3\u001b[0m \u001b[0mprint\u001b[0m\u001b[0;34m(\u001b[0m\u001b[0;34m\"df_title_basic_selected and df_title_principals_selected joined table size: \"\u001b[0m\u001b[0;34m,\u001b[0m \u001b[0;34m(\u001b[0m\u001b[0mdata9\u001b[0m\u001b[0;34m.\u001b[0m\u001b[0mcount\u001b[0m\u001b[0;34m(\u001b[0m\u001b[0;34m)\u001b[0m\u001b[0;34m,\u001b[0m \u001b[0mlen\u001b[0m\u001b[0;34m(\u001b[0m\u001b[0mdata9\u001b[0m\u001b[0;34m.\u001b[0m\u001b[0mcolumns\u001b[0m\u001b[0;34m)\u001b[0m\u001b[0;34m)\u001b[0m\u001b[0;34m)\u001b[0m\u001b[0;34m\u001b[0m\u001b[0;34m\u001b[0m\u001b[0m\n\u001b[1;32m      4\u001b[0m \u001b[0mdata9\u001b[0m \u001b[0;34m=\u001b[0m \u001b[0mdata9\u001b[0m\u001b[0;34m.\u001b[0m\u001b[0mjoin\u001b[0m\u001b[0;34m(\u001b[0m\u001b[0mdf_name_basics_selected\u001b[0m\u001b[0;34m,\u001b[0m \u001b[0;34m\"tconst\"\u001b[0m\u001b[0;34m,\u001b[0m \u001b[0;34m\"inner\"\u001b[0m\u001b[0;34m)\u001b[0m\u001b[0;34m\u001b[0m\u001b[0;34m\u001b[0m\u001b[0m\n\u001b[1;32m      5\u001b[0m \u001b[0mend\u001b[0m \u001b[0;34m=\u001b[0m \u001b[0mtimer\u001b[0m\u001b[0;34m(\u001b[0m\u001b[0;34m)\u001b[0m\u001b[0;34m\u001b[0m\u001b[0;34m\u001b[0m\u001b[0m\n",
            "\u001b[0;32m/usr/local/lib/python3.7/dist-packages/pyspark/sql/dataframe.py\u001b[0m in \u001b[0;36mjoin\u001b[0;34m(self, other, on, how)\u001b[0m\n\u001b[1;32m   1537\u001b[0m                 \u001b[0mon\u001b[0m \u001b[0;34m=\u001b[0m \u001b[0mself\u001b[0m\u001b[0;34m.\u001b[0m\u001b[0m_jseq\u001b[0m\u001b[0;34m(\u001b[0m\u001b[0;34m[\u001b[0m\u001b[0;34m]\u001b[0m\u001b[0;34m)\u001b[0m\u001b[0;34m\u001b[0m\u001b[0;34m\u001b[0m\u001b[0m\n\u001b[1;32m   1538\u001b[0m             \u001b[0;32massert\u001b[0m \u001b[0misinstance\u001b[0m\u001b[0;34m(\u001b[0m\u001b[0mhow\u001b[0m\u001b[0;34m,\u001b[0m \u001b[0mstr\u001b[0m\u001b[0;34m)\u001b[0m\u001b[0;34m,\u001b[0m \u001b[0;34m\"how should be a string\"\u001b[0m\u001b[0;34m\u001b[0m\u001b[0;34m\u001b[0m\u001b[0m\n\u001b[0;32m-> 1539\u001b[0;31m             \u001b[0mjdf\u001b[0m \u001b[0;34m=\u001b[0m \u001b[0mself\u001b[0m\u001b[0;34m.\u001b[0m\u001b[0m_jdf\u001b[0m\u001b[0;34m.\u001b[0m\u001b[0mjoin\u001b[0m\u001b[0;34m(\u001b[0m\u001b[0mother\u001b[0m\u001b[0;34m.\u001b[0m\u001b[0m_jdf\u001b[0m\u001b[0;34m,\u001b[0m \u001b[0mon\u001b[0m\u001b[0;34m,\u001b[0m \u001b[0mhow\u001b[0m\u001b[0;34m)\u001b[0m\u001b[0;34m\u001b[0m\u001b[0;34m\u001b[0m\u001b[0m\n\u001b[0m\u001b[1;32m   1540\u001b[0m         \u001b[0;32mreturn\u001b[0m \u001b[0mDataFrame\u001b[0m\u001b[0;34m(\u001b[0m\u001b[0mjdf\u001b[0m\u001b[0;34m,\u001b[0m \u001b[0mself\u001b[0m\u001b[0;34m.\u001b[0m\u001b[0msparkSession\u001b[0m\u001b[0;34m)\u001b[0m\u001b[0;34m\u001b[0m\u001b[0;34m\u001b[0m\u001b[0m\n\u001b[1;32m   1541\u001b[0m \u001b[0;34m\u001b[0m\u001b[0m\n",
            "\u001b[0;32m/usr/local/lib/python3.7/dist-packages/py4j/java_gateway.py\u001b[0m in \u001b[0;36m__call__\u001b[0;34m(self, *args)\u001b[0m\n\u001b[1;32m   1320\u001b[0m         \u001b[0manswer\u001b[0m \u001b[0;34m=\u001b[0m \u001b[0mself\u001b[0m\u001b[0;34m.\u001b[0m\u001b[0mgateway_client\u001b[0m\u001b[0;34m.\u001b[0m\u001b[0msend_command\u001b[0m\u001b[0;34m(\u001b[0m\u001b[0mcommand\u001b[0m\u001b[0;34m)\u001b[0m\u001b[0;34m\u001b[0m\u001b[0;34m\u001b[0m\u001b[0m\n\u001b[1;32m   1321\u001b[0m         return_value = get_return_value(\n\u001b[0;32m-> 1322\u001b[0;31m             answer, self.gateway_client, self.target_id, self.name)\n\u001b[0m\u001b[1;32m   1323\u001b[0m \u001b[0;34m\u001b[0m\u001b[0m\n\u001b[1;32m   1324\u001b[0m         \u001b[0;32mfor\u001b[0m \u001b[0mtemp_arg\u001b[0m \u001b[0;32min\u001b[0m \u001b[0mtemp_args\u001b[0m\u001b[0;34m:\u001b[0m\u001b[0;34m\u001b[0m\u001b[0;34m\u001b[0m\u001b[0m\n",
            "\u001b[0;32m/usr/local/lib/python3.7/dist-packages/pyspark/sql/utils.py\u001b[0m in \u001b[0;36mdeco\u001b[0;34m(*a, **kw)\u001b[0m\n\u001b[1;32m    194\u001b[0m                 \u001b[0;31m# Hide where the exception came from that shows a non-Pythonic\u001b[0m\u001b[0;34m\u001b[0m\u001b[0;34m\u001b[0m\u001b[0;34m\u001b[0m\u001b[0m\n\u001b[1;32m    195\u001b[0m                 \u001b[0;31m# JVM exception message.\u001b[0m\u001b[0;34m\u001b[0m\u001b[0;34m\u001b[0m\u001b[0;34m\u001b[0m\u001b[0m\n\u001b[0;32m--> 196\u001b[0;31m                 \u001b[0;32mraise\u001b[0m \u001b[0mconverted\u001b[0m \u001b[0;32mfrom\u001b[0m \u001b[0;32mNone\u001b[0m\u001b[0;34m\u001b[0m\u001b[0;34m\u001b[0m\u001b[0m\n\u001b[0m\u001b[1;32m    197\u001b[0m             \u001b[0;32melse\u001b[0m\u001b[0;34m:\u001b[0m\u001b[0;34m\u001b[0m\u001b[0;34m\u001b[0m\u001b[0m\n\u001b[1;32m    198\u001b[0m                 \u001b[0;32mraise\u001b[0m\u001b[0;34m\u001b[0m\u001b[0;34m\u001b[0m\u001b[0m\n",
            "\u001b[0;31mAnalysisException\u001b[0m: USING column `nconst` cannot be resolved on the left side of the join. The left-side columns: [tconst, titleType, originalTitle, isAdult, genres]"
          ]
        }
      ]
    },
    {
      "cell_type": "code",
      "source": [
        "start = timer()\n",
        "data10 = df_title_basic_selected.join(df_title_principals_selected, \"tconst\", \"inner\")\n",
        "print(\"df_title_basic_selected and df_title_principals_selected joined table size: \", (data10.count(), len(data10.columns)))\n",
        "data10 = data10.join(df_name_basics_selected, \"nconst\", \"left\")\n",
        "end = timer()\n",
        "print(\"joined table size: \", (data10.count(), len(data10.columns)), \"time of joining tables: \", end-start)"
      ],
      "metadata": {
        "id": "n-bQnvlvOvom"
      },
      "execution_count": null,
      "outputs": []
    },
    {
      "cell_type": "code",
      "source": [
        "start = timer()\n",
        "data11 = df_title_basic_selected.join(df_title_principals_selected, \"tconst\", \"right\")\n",
        "print(\"df_title_basic_selected and df_title_principals_selected joined table size: \", (data11.count(), len(data11.columns)))\n",
        "data11 = data11.join(df_name_basics_selected, \"nconst\", \"inner\")\n",
        "end = timer()\n",
        "print(\"joined table size: \", (data11.count(), len(data11.columns)), \"time of joining tables: \", end-start)"
      ],
      "metadata": {
        "id": "Xqr9ecljO14b"
      },
      "execution_count": null,
      "outputs": []
    },
    {
      "cell_type": "code",
      "source": [
        "start = timer()\n",
        "data12 = df_title_basic_selected.join(df_title_principals_selected, \"tconst\", \"right\")\n",
        "print(\"df_title_basic_selected and df_title_principals_selected joined table size: \", (data12.count(), len(data12.columns)))\n",
        "data12 = data12.join(df_name_basics_selected, \"nconst\", \"left\")\n",
        "end = timer()\n",
        "print(\"joined table size: \", (data12.count(), len(data12.columns)), \"time of joining tables: \", end-start)"
      ],
      "metadata": {
        "id": "79J3h9UPPEqY"
      },
      "execution_count": null,
      "outputs": []
    },
    {
      "cell_type": "code",
      "source": [
        "start = timer()\n",
        "data13 = df_title_principals_selected.join(df_title_basic_selected, \"tconst\", \"inner\")\n",
        "print(\"df_title_principals_selected and df_title_basic_selected joined table size: \", (data13.count(), len(data13.columns)))\n",
        "data13 = data13.join(df_name_basics_selected, \"nconst\", \"inner\")\n",
        "end = timer()\n",
        "print(\"joined table size: \", (data13.count(), len(data13.columns)), \"time of joining tables: \", end-start)"
      ],
      "metadata": {
        "id": "8BKljYgKPta_"
      },
      "execution_count": null,
      "outputs": []
    },
    {
      "cell_type": "code",
      "source": [
        "start = timer()\n",
        "data14 = df_title_principals_selected.join(df_title_basic_selected, \"tconst\", \"inner\")\n",
        "print(\"df_title_principals_selected and df_title_basic_selected joined table size: \", (data14.count(), len(data14.columns)))\n",
        "data14 = data14.join(df_name_basics_selected, \"nconst\", \"left\")\n",
        "end = timer()\n",
        "print(\"joined table size: \", (data14.count(), len(data14.columns)), \"time of joining tables: \", end-start)"
      ],
      "metadata": {
        "id": "XT3hWjCEP2ES"
      },
      "execution_count": null,
      "outputs": []
    },
    {
      "cell_type": "code",
      "source": [
        "start = timer()\n",
        "data15 = df_title_principals_selected.join(df_title_basic_selected, \"tconst\", \"left\")\n",
        "print(\"df_title_principals_selected and df_title_basic_selected joined table size: \", (data15.count(), len(data15.columns)))\n",
        "data15 = data15.join(df_name_basics_selected, \"nconst\", \"inner\")\n",
        "end = timer()\n",
        "print(\"joined table size: \", (data15.count(), len(data15.columns)), \"time of joining tables: \", end-start)"
      ],
      "metadata": {
        "id": "sy7gKBrHP4W-"
      },
      "execution_count": null,
      "outputs": []
    },
    {
      "cell_type": "code",
      "source": [
        "start = timer()\n",
        "data16 = df_title_principals_selected.join(df_title_basic_selected, \"tconst\", \"left\")\n",
        "print(\"df_title_principals_selected and df_title_basic_selected joined table size: \", (data16.count(), len(data16.columns)))\n",
        "data16 = data16.join(df_name_basics_selected, \"nconst\", \"left\")\n",
        "end = timer()\n",
        "print(\"joined table size: \", (data16.count(), len(data16.columns)), \"time of joining tables: \", end-start)"
      ],
      "metadata": {
        "id": "eS5DUliMP7Ht"
      },
      "execution_count": null,
      "outputs": []
    },
    {
      "cell_type": "markdown",
      "source": [
        "---------------------------------------------------------------------------------------------------"
      ],
      "metadata": {
        "id": "GV4TDbUCRg4B"
      }
    },
    {
      "cell_type": "code",
      "source": [
        "df_name_basics = df_name_basics.filter(\"primaryProfession like '%actor%' or primaryProfession like '%actress%'\")\n",
        "df_name_basics_selected = df_name_basics.select([\"nconst\", \"primaryName\", \"birthYear\", \"deathYear\", \"knownForTitles\"])\n",
        "df_title_principals_selected = df_title_principals_selected.filter((df_title_principals_selected.category == \"actor\") | (df_title_principals_selected.category == \"actress\"))"
      ],
      "metadata": {
        "id": "nuhNQ3YAOh6u"
      },
      "execution_count": null,
      "outputs": []
    },
    {
      "cell_type": "code",
      "source": [
        "start = timer()\n",
        "data1 = df_name_basics_selected.join(df_title_principals_selected, \"nconst\", \"inner\")\n",
        "print(\"df_name_basics_selected and df_title_principals_selected joined table size: \", (data1.count(), len(data1.columns)))\n",
        "data1 = data1.join(df_title_basic_selected, \"tconst\", \"inner\")\n",
        "end = timer()\n",
        "print(\"joined table size: \", (data1.count(), len(data1.columns)), \"time of joining tables: \", end-start)"
      ],
      "metadata": {
        "id": "QcXxZ58gReWa"
      },
      "execution_count": null,
      "outputs": []
    },
    {
      "cell_type": "code",
      "source": [
        "start = timer()\n",
        "data2 = df_name_basics_selected.join(df_title_principals_selected, \"nconst\", \"inner\")\n",
        "print(\"df_name_basics_selected and df_title_principals_selected joined table size: \", (data2.count(), len(data2.columns)))\n",
        "data2 = data2.join(df_title_basic_selected, \"tconst\", \"left\")\n",
        "end = timer()\n",
        "print(\"joined table size: \", (data2.count(), len(data2.columns)), \"time of joining tables: \", end-start)"
      ],
      "metadata": {
        "id": "L2KmnzMWRoFK"
      },
      "execution_count": null,
      "outputs": []
    },
    {
      "cell_type": "code",
      "source": [
        "start = timer()\n",
        "data3 = df_name_basics_selected.join(df_title_principals_selected, \"nconst\", \"right\")\n",
        "print(\"df_name_basics_selected and df_title_principals_selected joined table size: \", (data3.count(), len(data3.columns)))\n",
        "data3 = data3.join(df_title_basic_selected, \"tconst\", \"inner\")\n",
        "end = timer()\n",
        "print(\"joined table size: \", (data3.count(), len(data3.columns)), \"time of joining tables: \", end-start)"
      ],
      "metadata": {
        "id": "NeuNdK8zRrQd"
      },
      "execution_count": null,
      "outputs": []
    },
    {
      "cell_type": "code",
      "source": [
        "start = timer()\n",
        "data4 = df_name_basics_selected.join(df_title_principals_selected, \"nconst\", \"right\")\n",
        "print(\"df_name_basics_selected and df_title_principals_selected joined table size: \", (data4.count(), len(data4.columns)))\n",
        "data4 = data4.join(df_title_basic_selected, \"tconst\", \"left\")\n",
        "end = timer()\n",
        "print(\"joined table size: \", (data4.count(), len(data4.columns)), \"time of joining tables: \", end-start)"
      ],
      "metadata": {
        "id": "UgoaQREvRuao"
      },
      "execution_count": null,
      "outputs": []
    },
    {
      "cell_type": "code",
      "source": [
        "start = timer()\n",
        "data5 = df_title_principals_selected.join(df_name_basics_selected, \"nconst\", \"inner\")\n",
        "print(\"df_title_principals_selected and df_name_basics_selected joined table size: \", (data5.count(), len(data5.columns)))\n",
        "data5 = data5.join(df_title_basic_selected, \"tconst\", \"inner\")\n",
        "end = timer()\n",
        "print(\"joined table size: \", (data5.count(), len(data5.columns)), \"time of joining tables: \", end-start)"
      ],
      "metadata": {
        "id": "L1tj0bvbRxAa"
      },
      "execution_count": null,
      "outputs": []
    },
    {
      "cell_type": "code",
      "source": [
        "start = timer()\n",
        "data6 = df_title_principals_selected.join(df_name_basics_selected, \"nconst\", \"inner\")\n",
        "print(\"df_title_principals_selected and df_name_basics_selected joined table size: \", (data6.count(), len(data6.columns)))\n",
        "data6 = data6.join(df_title_basic_selected, \"tconst\", \"left\")\n",
        "end = timer()\n",
        "print(\"joined table size: \", (data6.count(), len(data6.columns)), \"time of joining tables: \", end-start)"
      ],
      "metadata": {
        "id": "OnZqhsRdR0Ht"
      },
      "execution_count": null,
      "outputs": []
    },
    {
      "cell_type": "code",
      "source": [
        "start = timer()\n",
        "data7 = df_title_principals_selected.join(df_name_basics_selected, \"nconst\", \"left\")\n",
        "print(\"df_title_principals_selected and df_name_basics_selected joined table size: \", (data7.count(), len(data7.columns)))\n",
        "data7 = data7.join(df_title_basic_selected, \"tconst\", \"inner\")\n",
        "end = timer()\n",
        "print(\"joined table size: \", (data7.count(), len(data7.columns)), \"time of joining tables: \", end-start)"
      ],
      "metadata": {
        "id": "gCmSaja_R3sa"
      },
      "execution_count": null,
      "outputs": []
    },
    {
      "cell_type": "code",
      "source": [
        "start = timer()\n",
        "data8 = df_title_principals_selected.join(df_name_basics_selected, \"nconst\", \"left\")\n",
        "print(\"df_title_principals_selected and df_name_basics_selected joined table size: \", (data8.count(), len(data8.columns)))\n",
        "data8 = data8.join(df_title_basic_selected, \"tconst\", \"left\")\n",
        "end = timer()\n",
        "print(\"joined table size: \", (data8.count(), len(data8.columns)), \"time of joining tables: \", end-start)"
      ],
      "metadata": {
        "id": "TrwLLFcrR7OG"
      },
      "execution_count": null,
      "outputs": []
    },
    {
      "cell_type": "code",
      "source": [
        "start = timer()\n",
        "data9 = df_title_basic_selected.join(df_title_principals_selected, \"tconst\", \"inner\")\n",
        "print(\"df_title_basic_selected and df_title_principals_selected joined table size: \", (data9.count(), len(data9.columns)))\n",
        "data9 = data9.join(df_name_basics_selected, \"nconst\", \"inner\")\n",
        "end = timer()\n",
        "print(\"joined table size: \", (data9.count(), len(data9.columns)), \"time of joining tables: \", end-start)"
      ],
      "metadata": {
        "id": "Yxv527kQR-a_"
      },
      "execution_count": null,
      "outputs": []
    },
    {
      "cell_type": "code",
      "source": [
        "start = timer()\n",
        "data10 = df_title_basic_selected.join(df_title_principals_selected, \"tconst\", \"inner\")\n",
        "print(\"df_title_basic_selected and df_title_principals_selected joined table size: \", (data10.count(), len(data10.columns)))\n",
        "data10 = data10.join(df_name_basics_selected, \"nconst\", \"left\")\n",
        "end = timer()\n",
        "print(\"joined table size: \", (data10.count(), len(data10.columns)), \"time of joining tables: \", end-start)"
      ],
      "metadata": {
        "id": "3DXbwEw7SBhw"
      },
      "execution_count": null,
      "outputs": []
    },
    {
      "cell_type": "code",
      "source": [
        "start = timer()\n",
        "data11 = df_title_basic_selected.join(df_title_principals_selected, \"tconst\", \"right\")\n",
        "print(\"df_title_basic_selected and df_title_principals_selected joined table size: \", (data11.count(), len(data11.columns)))\n",
        "data11 = data11.join(df_name_basics_selected, \"nconst\", \"inner\")\n",
        "end = timer()\n",
        "print(\"joined table size: \", (data11.count(), len(data11.columns)), \"time of joining tables: \", end-start)"
      ],
      "metadata": {
        "id": "vHyGoIQ6SE9Y"
      },
      "execution_count": null,
      "outputs": []
    },
    {
      "cell_type": "code",
      "source": [
        "start = timer()\n",
        "data12 = df_title_basic_selected.join(df_title_principals_selected, \"tconst\", \"right\")\n",
        "print(\"df_title_basic_selected and df_title_principals_selected joined table size: \", (data12.count(), len(data12.columns)))\n",
        "data12 = data12.join(df_name_basics_selected, \"nconst\", \"left\")\n",
        "end = timer()\n",
        "print(\"joined table size: \", (data12.count(), len(data12.columns)), \"time of joining tables: \", end-start)"
      ],
      "metadata": {
        "id": "SyunVzUySHve"
      },
      "execution_count": null,
      "outputs": []
    },
    {
      "cell_type": "code",
      "source": [
        "start = timer()\n",
        "data13 = df_title_principals_selected.join(df_title_basic_selected, \"tconst\", \"inner\")\n",
        "print(\"df_title_principals_selected and df_title_basic_selected joined table size: \", (data13.count(), len(data13.columns)))\n",
        "data13 = data13.join(df_name_basics_selected, \"nconst\", \"inner\")\n",
        "end = timer()\n",
        "print(\"joined table size: \", (data13.count(), len(data13.columns)), \"time of joining tables: \", end-start)"
      ],
      "metadata": {
        "id": "uGlaI6jUSKXZ"
      },
      "execution_count": null,
      "outputs": []
    },
    {
      "cell_type": "code",
      "source": [
        "start = timer()\n",
        "data14 = df_title_principals_selected.join(df_title_basic_selected, \"tconst\", \"inner\")\n",
        "print(\"df_title_principals_selected and df_title_basic_selected joined table size: \", (data14.count(), len(data14.columns)))\n",
        "data14 = data14.join(df_name_basics_selected, \"nconst\", \"left\")\n",
        "end = timer()\n",
        "print(\"joined table size: \", (data14.count(), len(data14.columns)), \"time of joining tables: \", end-start)"
      ],
      "metadata": {
        "id": "QFl-nEfMSNKO"
      },
      "execution_count": null,
      "outputs": []
    },
    {
      "cell_type": "code",
      "source": [
        "start = timer()\n",
        "data15 = df_title_principals_selected.join(df_title_basic_selected, \"tconst\", \"left\")\n",
        "print(\"df_title_principals_selected and df_title_basic_selected joined table size: \", (data15.count(), len(data15.columns)))\n",
        "data15 = data15.join(df_name_basics_selected, \"nconst\", \"inner\")\n",
        "end = timer()\n",
        "print(\"joined table size: \", (data15.count(), len(data15.columns)), \"time of joining tables: \", end-start)"
      ],
      "metadata": {
        "id": "TyuoSVXrSP6u"
      },
      "execution_count": null,
      "outputs": []
    },
    {
      "cell_type": "code",
      "source": [
        "start = timer()\n",
        "data16 = df_title_principals_selected.join(df_title_basic_selected, \"tconst\", \"left\")\n",
        "print(\"df_title_principals_selected and df_title_basic_selected joined table size: \", (data16.count(), len(data16.columns)))\n",
        "data16 = data16.join(df_name_basics_selected, \"nconst\", \"left\")\n",
        "end = timer()\n",
        "print(\"joined table size: \", (data16.count(), len(data16.columns)), \"time of joining tables: \", end-start)"
      ],
      "metadata": {
        "id": "_PI46FTBSSt8"
      },
      "execution_count": null,
      "outputs": []
    },
    {
      "cell_type": "markdown",
      "source": [
        "Tutaj za każdym razem wychodzą różne wyniki, dlatego ciężko stwierdzić, który sposób łączenia danych jest najszybszy, jednak zauważamy, że jedynie dwa sposoby (\"inner\" i \"left\") dają odpowiednie dane, gdyż otrzymujemy wtedy dane o aktorach z pełnymi danymi personalnymi bez zbędnych wierszy nieprzypisanych do żadnego imienia i nazwiska."
      ],
      "metadata": {
        "id": "ZIR-r7kX9z9T"
      }
    },
    {
      "cell_type": "code",
      "source": [
        "print(\"df_name_basics_selected dataframe size: \", (df_name_basics_selected.count(), len(df_name_basics_selected.columns)))\n",
        "print(\"df_title_principals_selected dataframe size: \", (df_title_principals_selected.count(), len(df_title_principals_selected.columns)))\n",
        "print(\"df_title_basic_selected dataframe size: \", (df_title_basic_selected.count(), len(df_title_basic_selected.columns)))\n",
        "data = df_name_basics_selected.join(df_title_principals_selected, \"nconst\", \"inner\")\n",
        "print(\"joined dataframe size: \", (data.count(), len(data.columns)))\n",
        "data = data.join(df_title_basic_selected, \"tconst\", \"left\")\n",
        "print(\"joined dataframe size: \", (data.count(), len(data.columns)))"
      ],
      "metadata": {
        "id": "zMqqAJ7zBJWL"
      },
      "execution_count": null,
      "outputs": []
    },
    {
      "cell_type": "markdown",
      "source": [
        "# Wybierzmy przykładowe wiersze z końcowego dataframe'u"
      ],
      "metadata": {
        "id": "hKXuX-JdE9ED"
      }
    },
    {
      "cell_type": "code",
      "source": [
        "sample = data.rdd.takeSample(False, 5)"
      ],
      "metadata": {
        "id": "bH43D49EE84F"
      },
      "execution_count": null,
      "outputs": []
    },
    {
      "cell_type": "code",
      "source": [
        "import pandas as pd\n",
        "sample = pd.DataFrame(sample, columns = data.columns)\n",
        "sample"
      ],
      "metadata": {
        "id": "kW8-_TXYLo10"
      },
      "execution_count": null,
      "outputs": []
    }
  ]
}