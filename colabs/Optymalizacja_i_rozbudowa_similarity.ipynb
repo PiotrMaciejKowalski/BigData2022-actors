{
  "cells": [
    {
      "cell_type": "markdown",
      "metadata": {
        "id": "view-in-github",
        "colab_type": "text"
      },
      "source": [
        "<a href=\"https://colab.research.google.com/github/PiotrMaciejKowalski/BigData2022-actors/blob/Rozbudowa-i-optymalizacja-similarity/colabs/Optymalizacja_i_rozbudowa_similarity.ipynb\" target=\"_parent\"><img src=\"https://colab.research.google.com/assets/colab-badge.svg\" alt=\"Open In Colab\"/></a>"
      ]
    },
    {
      "cell_type": "markdown",
      "source": [
        "# Wnioski"
      ],
      "metadata": {
        "id": "fw3jlwtj7XMr"
      }
    },
    {
      "cell_type": "markdown",
      "source": [
        "Przetestowane zostały dwa podejścia liczenia similarity:\n",
        "1.   podstawowe korzystające z pythonowego liczenia similarity na listach;\n",
        "2.   alternatywne korzystające z biblioteki Pandas.\n",
        "\n",
        "W trakcie testów podstawowe podejście okazało się znacznie szybsze ($\\sim 3$ razy szybsze). Czas wykonywania pierwszej metody to $3-3.5$ minuty, a drugiej metody to ponad $10$ minut.\n",
        "\n",
        "Wybrana (najszybsza) metoda `similarity_one_vs_all` została z kolei dodatkowo usprawniona i z czasu wykonywania wynoszącego od $3$ do $3.5$ minuty zdołaliśmy osiągnąć czas wykonywania w granicach od $1.3$ do $1.7$ minuty, co jest dużym (dwukrotnym) przyśpieszeniem szybkości działania metody.\n",
        "\n"
      ],
      "metadata": {
        "id": "dKZIU2R-7cZY"
      }
    },
    {
      "cell_type": "markdown",
      "source": [
        "# Uwagi"
      ],
      "metadata": {
        "id": "i8-DyI_H-3f2"
      }
    },
    {
      "cell_type": "markdown",
      "source": [
        "W trakcie ładowania danych możemy zaznaczyć które kolumny są importowane (patrz kod w podrozdziale \"Załadowanie danych z pliku o rozszerzeniu .parquet\"), co potencjalnie zaoszczędza wykorzystywaną pamięć RAM w środowisku wykonwczym.\n",
        "\n",
        "Metody liczące similairty korzystające z pythonowego podejścia do ich liczenia dostały opcję wpisania parametru `reduced_dataset` który domyślnie ustawiony jest na wartość `False`. Jeżeli decydujemy się na załadowanie jedynie niezbędnych do liczenia similarity kolumn, to parametr ten trzeba ustawić na wartość `True`. W przeciwnym przypadku funkcja licząca similarity będzie zwracała błąd i nie będzie się wykonywać."
      ],
      "metadata": {
        "id": "Bi7OHKLV-48r"
      }
    },
    {
      "cell_type": "markdown",
      "metadata": {
        "id": "-Q2R3HB0nBvO"
      },
      "source": [
        "# Przygotowanie notatnika"
      ]
    },
    {
      "cell_type": "code",
      "execution_count": 1,
      "metadata": {
        "colab": {
          "base_uri": "https://localhost:8080/"
        },
        "id": "V8-nE3oH58P6",
        "outputId": "8b1e9799-d125-4f59-f868-ec60bc2a544a"
      },
      "outputs": [
        {
          "output_type": "stream",
          "name": "stdout",
          "text": [
            "Mounted at /content/gdrive\n"
          ]
        }
      ],
      "source": [
        "from google.colab import drive\n",
        "drive.mount('/content/gdrive')\n",
        "import pandas as pd"
      ]
    },
    {
      "cell_type": "code",
      "execution_count": 2,
      "metadata": {
        "id": "CJDl9hKq623W",
        "colab": {
          "base_uri": "https://localhost:8080/"
        },
        "outputId": "2b3e4165-7c4d-4abd-f7e7-76b2650c975e"
      },
      "outputs": [
        {
          "output_type": "stream",
          "name": "stdout",
          "text": [
            "Cloning into 'BigData2022-actors'...\n",
            "remote: Enumerating objects: 1863, done.\u001b[K\n",
            "remote: Counting objects: 100% (1863/1863), done.\u001b[K\n",
            "remote: Compressing objects: 100% (830/830), done.\u001b[K\n",
            "remote: Total 1863 (delta 1162), reused 1671 (delta 1014), pack-reused 0\u001b[K\n",
            "Receiving objects: 100% (1863/1863), 6.09 MiB | 18.78 MiB/s, done.\n",
            "Resolving deltas: 100% (1162/1162), done.\n",
            "mv: cannot move '/content/BigData2022-actors/.' to './.': Device or resource busy\n",
            "mv: cannot move '/content/BigData2022-actors/..' to './..': Device or resource busy\n"
          ]
        }
      ],
      "source": [
        "!git clone https://github.com/PiotrMaciejKowalski/BigData2022-actors.git\n",
        "!mv /content/BigData2022-actors/* .\n",
        "!mv /content/BigData2022-actors/.* .\n",
        "!rmdir /content/BigData2022-actors/"
      ]
    },
    {
      "cell_type": "code",
      "source": [
        "!git checkout Rozbudowa-i-optymalizacja-similarity"
      ],
      "metadata": {
        "colab": {
          "base_uri": "https://localhost:8080/"
        },
        "id": "-xmnuJqb7Gk7",
        "outputId": "e8573022-e613-4eba-bbed-016434a994df"
      },
      "execution_count": 3,
      "outputs": [
        {
          "output_type": "stream",
          "name": "stdout",
          "text": [
            "Branch 'Rozbudowa-i-optymalizacja-similarity' set up to track remote branch 'Rozbudowa-i-optymalizacja-similarity' from 'origin'.\n",
            "Switched to a new branch 'Rozbudowa-i-optymalizacja-similarity'\n"
          ]
        }
      ]
    },
    {
      "cell_type": "code",
      "source": [
        "from lib.similarity_utils import *\n",
        "from lib.const import JOINED_DATA, TRAIN_DATA"
      ],
      "metadata": {
        "id": "usT_PRj6jpdy"
      },
      "execution_count": 4,
      "outputs": []
    },
    {
      "cell_type": "markdown",
      "metadata": {
        "id": "0x5DISomqmKS"
      },
      "source": [
        "## Załadowanie danych"
      ]
    },
    {
      "cell_type": "markdown",
      "metadata": {
        "id": "893peJwWw3bl"
      },
      "source": [
        "W poradniku \"Tworzenie skrotu do GDrive\" w folderze tutorials jest poradnik jak sprawić żeby poniższa lokalizacja się poprawnie ładowała.\n",
        "\n",
        "Za pomocą parametru `columns` możemy ustalić które kolumny mają zostać pobrane z naszego zbioru.\n"
      ]
    },
    {
      "cell_type": "markdown",
      "source": [
        "UWAGA! Aby metoy dobrze działały na pomniejszonym zbiorze danych, to lista kolumn musi wyglądać tak jak w kodzie poniżej."
      ],
      "metadata": {
        "id": "WJQ36GdYHNpu"
      }
    },
    {
      "cell_type": "code",
      "execution_count": 5,
      "metadata": {
        "id": "Hysa2iYFXe3J"
      },
      "outputs": [],
      "source": [
        "data = pd.read_parquet(JOINED_DATA, columns = [\"nconst\", \"tconst\", \"titleType\", \"genres\", \"category\", \"primaryName\"])"
      ]
    },
    {
      "cell_type": "code",
      "source": [
        "data.head(1)"
      ],
      "metadata": {
        "colab": {
          "base_uri": "https://localhost:8080/",
          "height": 142
        },
        "id": "ivFhFgV6sZPX",
        "outputId": "bc39bfd2-d3ed-431d-8259-132b03342b08"
      },
      "execution_count": 6,
      "outputs": [
        {
          "output_type": "execute_result",
          "data": {
            "text/plain": [
              "      nconst                                             tconst  \\\n",
              "0  nm0000004  [tt0694438, tt0694654, tt0694932, tt0694936, t...   \n",
              "\n",
              "                                           titleType  \\\n",
              "0  [tvEpisode, tvEpisode, tvEpisode, tvEpisode, t...   \n",
              "\n",
              "                                              genres category   primaryName  \n",
              "0  [Comedy, Music, Comedy, Music, Comedy, Music, ...    actor  John Belushi  "
            ],
            "text/html": [
              "\n",
              "  <div id=\"df-cb87f694-5c66-4c8c-9b0e-597d9cc3a4c5\">\n",
              "    <div class=\"colab-df-container\">\n",
              "      <div>\n",
              "<style scoped>\n",
              "    .dataframe tbody tr th:only-of-type {\n",
              "        vertical-align: middle;\n",
              "    }\n",
              "\n",
              "    .dataframe tbody tr th {\n",
              "        vertical-align: top;\n",
              "    }\n",
              "\n",
              "    .dataframe thead th {\n",
              "        text-align: right;\n",
              "    }\n",
              "</style>\n",
              "<table border=\"1\" class=\"dataframe\">\n",
              "  <thead>\n",
              "    <tr style=\"text-align: right;\">\n",
              "      <th></th>\n",
              "      <th>nconst</th>\n",
              "      <th>tconst</th>\n",
              "      <th>titleType</th>\n",
              "      <th>genres</th>\n",
              "      <th>category</th>\n",
              "      <th>primaryName</th>\n",
              "    </tr>\n",
              "  </thead>\n",
              "  <tbody>\n",
              "    <tr>\n",
              "      <th>0</th>\n",
              "      <td>nm0000004</td>\n",
              "      <td>[tt0694438, tt0694654, tt0694932, tt0694936, t...</td>\n",
              "      <td>[tvEpisode, tvEpisode, tvEpisode, tvEpisode, t...</td>\n",
              "      <td>[Comedy, Music, Comedy, Music, Comedy, Music, ...</td>\n",
              "      <td>actor</td>\n",
              "      <td>John Belushi</td>\n",
              "    </tr>\n",
              "  </tbody>\n",
              "</table>\n",
              "</div>\n",
              "      <button class=\"colab-df-convert\" onclick=\"convertToInteractive('df-cb87f694-5c66-4c8c-9b0e-597d9cc3a4c5')\"\n",
              "              title=\"Convert this dataframe to an interactive table.\"\n",
              "              style=\"display:none;\">\n",
              "        \n",
              "  <svg xmlns=\"http://www.w3.org/2000/svg\" height=\"24px\"viewBox=\"0 0 24 24\"\n",
              "       width=\"24px\">\n",
              "    <path d=\"M0 0h24v24H0V0z\" fill=\"none\"/>\n",
              "    <path d=\"M18.56 5.44l.94 2.06.94-2.06 2.06-.94-2.06-.94-.94-2.06-.94 2.06-2.06.94zm-11 1L8.5 8.5l.94-2.06 2.06-.94-2.06-.94L8.5 2.5l-.94 2.06-2.06.94zm10 10l.94 2.06.94-2.06 2.06-.94-2.06-.94-.94-2.06-.94 2.06-2.06.94z\"/><path d=\"M17.41 7.96l-1.37-1.37c-.4-.4-.92-.59-1.43-.59-.52 0-1.04.2-1.43.59L10.3 9.45l-7.72 7.72c-.78.78-.78 2.05 0 2.83L4 21.41c.39.39.9.59 1.41.59.51 0 1.02-.2 1.41-.59l7.78-7.78 2.81-2.81c.8-.78.8-2.07 0-2.86zM5.41 20L4 18.59l7.72-7.72 1.47 1.35L5.41 20z\"/>\n",
              "  </svg>\n",
              "      </button>\n",
              "      \n",
              "  <style>\n",
              "    .colab-df-container {\n",
              "      display:flex;\n",
              "      flex-wrap:wrap;\n",
              "      gap: 12px;\n",
              "    }\n",
              "\n",
              "    .colab-df-convert {\n",
              "      background-color: #E8F0FE;\n",
              "      border: none;\n",
              "      border-radius: 50%;\n",
              "      cursor: pointer;\n",
              "      display: none;\n",
              "      fill: #1967D2;\n",
              "      height: 32px;\n",
              "      padding: 0 0 0 0;\n",
              "      width: 32px;\n",
              "    }\n",
              "\n",
              "    .colab-df-convert:hover {\n",
              "      background-color: #E2EBFA;\n",
              "      box-shadow: 0px 1px 2px rgba(60, 64, 67, 0.3), 0px 1px 3px 1px rgba(60, 64, 67, 0.15);\n",
              "      fill: #174EA6;\n",
              "    }\n",
              "\n",
              "    [theme=dark] .colab-df-convert {\n",
              "      background-color: #3B4455;\n",
              "      fill: #D2E3FC;\n",
              "    }\n",
              "\n",
              "    [theme=dark] .colab-df-convert:hover {\n",
              "      background-color: #434B5C;\n",
              "      box-shadow: 0px 1px 3px 1px rgba(0, 0, 0, 0.15);\n",
              "      filter: drop-shadow(0px 1px 2px rgba(0, 0, 0, 0.3));\n",
              "      fill: #FFFFFF;\n",
              "    }\n",
              "  </style>\n",
              "\n",
              "      <script>\n",
              "        const buttonEl =\n",
              "          document.querySelector('#df-cb87f694-5c66-4c8c-9b0e-597d9cc3a4c5 button.colab-df-convert');\n",
              "        buttonEl.style.display =\n",
              "          google.colab.kernel.accessAllowed ? 'block' : 'none';\n",
              "\n",
              "        async function convertToInteractive(key) {\n",
              "          const element = document.querySelector('#df-cb87f694-5c66-4c8c-9b0e-597d9cc3a4c5');\n",
              "          const dataTable =\n",
              "            await google.colab.kernel.invokeFunction('convertToInteractive',\n",
              "                                                     [key], {});\n",
              "          if (!dataTable) return;\n",
              "\n",
              "          const docLinkHtml = 'Like what you see? Visit the ' +\n",
              "            '<a target=\"_blank\" href=https://colab.research.google.com/notebooks/data_table.ipynb>data table notebook</a>'\n",
              "            + ' to learn more about interactive tables.';\n",
              "          element.innerHTML = '';\n",
              "          dataTable['output_type'] = 'display_data';\n",
              "          await google.colab.output.renderOutput(dataTable, element);\n",
              "          const docLink = document.createElement('div');\n",
              "          docLink.innerHTML = docLinkHtml;\n",
              "          element.appendChild(docLink);\n",
              "        }\n",
              "      </script>\n",
              "    </div>\n",
              "  </div>\n",
              "  "
            ]
          },
          "metadata": {},
          "execution_count": 6
        }
      ]
    },
    {
      "cell_type": "code",
      "source": [
        "sample = data.sample(n = 10_000, random_state=1)"
      ],
      "metadata": {
        "id": "xTGBlDCTkUqY"
      },
      "execution_count": 7,
      "outputs": []
    },
    {
      "cell_type": "markdown",
      "source": [
        "# Metody liczenia similarity"
      ],
      "metadata": {
        "id": "IjrY9g3IN6m5"
      }
    },
    {
      "cell_type": "markdown",
      "metadata": {
        "id": "riisEZzzWMq6"
      },
      "source": [
        "## Podstawowa metoda"
      ]
    },
    {
      "cell_type": "markdown",
      "source": [
        "Wczytujemy dane o aktorze i zamieniamy je na odpowiedni format."
      ],
      "metadata": {
        "id": "o4SSAFQm9gHq"
      }
    },
    {
      "cell_type": "code",
      "source": [
        "Arnold_schwarzenegger = prepare_pandas_row(find_actor(data, 'nm0000216'))"
      ],
      "metadata": {
        "id": "p5G-dDJJcXCJ"
      },
      "execution_count": 10,
      "outputs": []
    },
    {
      "cell_type": "markdown",
      "source": [
        "Za pomocą metody `similarity_one_vs_all` liczymy podobieństwa pomiędzy jednym aktorem, a resztą aktorów z wybranego przez nas zbioru danych. Najpierw znajdziemy $3$ aktorów ze zbioru, którzy są najbardziej podobni do Arnolda Schwarzeneggera.\n",
        "\n",
        "Przy liczeniu similarity dla obciętego do niezbędnych kolumn zbioru danych, ustalamy parametr `reduced_dataset` w metodzie `similarity_one_vs_all` na `True`."
      ],
      "metadata": {
        "id": "YexG1GN7Bdf-"
      }
    },
    {
      "cell_type": "markdown",
      "source": [
        "Testujemy czy metoda działa na zbiorze próbkowym."
      ],
      "metadata": {
        "id": "76QgOaKk_PbW"
      }
    },
    {
      "cell_type": "code",
      "execution_count": 11,
      "metadata": {
        "id": "VFBGGA26Z-rF",
        "outputId": "02c7da67-76c0-4580-c959-8f8944473579",
        "colab": {
          "base_uri": "https://localhost:8080/"
        }
      },
      "outputs": [
        {
          "output_type": "stream",
          "name": "stdout",
          "text": [
            "CPU times: user 389 ms, sys: 4.76 ms, total: 393 ms\n",
            "Wall time: 396 ms\n"
          ]
        }
      ],
      "source": [
        "%%time\n",
        "ids, values = similarity_one_vs_all(sample, Arnold_schwarzenegger, reduced_dataset=True)"
      ]
    },
    {
      "cell_type": "markdown",
      "source": [
        "Szukamy $3$ najpodobniejszych aktorów z całego zbioru."
      ],
      "metadata": {
        "id": "eTedCaDb_TtI"
      }
    },
    {
      "cell_type": "code",
      "source": [
        "ranking = get_ranking(data, 'nm0000216', 3, reduced_dataset=True)\n",
        "print(ranking)"
      ],
      "metadata": {
        "colab": {
          "base_uri": "https://localhost:8080/"
        },
        "id": "U-g_2gW5vsFV",
        "outputId": "e16d2c2a-1fa1-40bf-9571-26e8becba3b8"
      },
      "execution_count": 12,
      "outputs": [
        {
          "output_type": "stream",
          "name": "stdout",
          "text": [
            "('nm0001598', 'nm0001592', 'nm0000665')\n"
          ]
        }
      ]
    },
    {
      "cell_type": "markdown",
      "source": [
        "Zamieniamy listę z `nconst` na imiona aktorów."
      ],
      "metadata": {
        "id": "k47fA-4hAESd"
      }
    },
    {
      "cell_type": "code",
      "source": [
        "ranking_imion = replace_ids_with_names(data, ranking, reduced_dataset=True)\n",
        "print(ranking_imion)"
      ],
      "metadata": {
        "colab": {
          "base_uri": "https://localhost:8080/"
        },
        "id": "r-fneJ9z_49d",
        "outputId": "a4242be8-cd80-44ca-850f-9daf09b9618e"
      },
      "execution_count": 13,
      "outputs": [
        {
          "output_type": "stream",
          "name": "stdout",
          "text": [
            "['Robert Patrick', 'Joe Pantoliano', 'D.B. Sweeney']\n"
          ]
        }
      ]
    },
    {
      "cell_type": "markdown",
      "source": [
        "## Alternatywna metoda"
      ],
      "metadata": {
        "id": "iSRwi7yIxGp6"
      }
    },
    {
      "cell_type": "markdown",
      "source": [
        "Znajdujemy aktora i zostawiamy jego dane w postaci `pd.DataFrame`."
      ],
      "metadata": {
        "id": "DsLunRJkFupX"
      }
    },
    {
      "cell_type": "code",
      "source": [
        "Arnold_schwarzenegger_pd = find_actor(data, 'nm0000216')"
      ],
      "metadata": {
        "id": "RKxqoxNkGw41"
      },
      "execution_count": 14,
      "outputs": []
    },
    {
      "cell_type": "code",
      "source": [
        "Arnold_schwarzenegger_pd"
      ],
      "metadata": {
        "id": "474C7TYPe9Cz",
        "colab": {
          "base_uri": "https://localhost:8080/"
        },
        "outputId": "36512f72-1f16-4007-9cb9-1366a6143bc8"
      },
      "execution_count": 15,
      "outputs": [
        {
          "output_type": "execute_result",
          "data": {
            "text/plain": [
              "nconst                                                 nm0000216\n",
              "tconst         [tt0233469, tt0364056, tt0711516, tt15739442, ...\n",
              "titleType      [movie, videoGame, tvEpisode, video, tvEpisode...\n",
              "genres         [Action, Drama, Thriller, Action, Adventure, S...\n",
              "category                                                   actor\n",
              "primaryName                                Arnold Schwarzenegger\n",
              "Name: 1651659, dtype: object"
            ]
          },
          "metadata": {},
          "execution_count": 15
        }
      ]
    },
    {
      "cell_type": "markdown",
      "source": [
        "## Test metody na próbce"
      ],
      "metadata": {
        "id": "uZJLZV-zhfFI"
      }
    },
    {
      "cell_type": "code",
      "source": [
        "%%time\n",
        "ids_pd, values_pd = similarity_one_vs_all_pandas(sample, Arnold_schwarzenegger_pd)"
      ],
      "metadata": {
        "colab": {
          "base_uri": "https://localhost:8080/"
        },
        "id": "w2WWIJtuA0qr",
        "outputId": "4df14bd3-3a56-4f29-cb19-b1aa03d0987f"
      },
      "execution_count": 16,
      "outputs": [
        {
          "output_type": "stream",
          "name": "stdout",
          "text": [
            "CPU times: user 2.81 s, sys: 16.7 ms, total: 2.83 s\n",
            "Wall time: 2.84 s\n"
          ]
        }
      ]
    },
    {
      "cell_type": "code",
      "source": [
        "values_pd[:3]"
      ],
      "metadata": {
        "colab": {
          "base_uri": "https://localhost:8080/"
        },
        "id": "uq2R1C39M-JY",
        "outputId": "3829a8f9-9bfb-47e0-fe64-81fc75952996"
      },
      "execution_count": 17,
      "outputs": [
        {
          "output_type": "execute_result",
          "data": {
            "text/plain": [
              "[-0.92, -0.45999999999999996, -0.47]"
            ]
          },
          "metadata": {},
          "execution_count": 17
        }
      ]
    },
    {
      "cell_type": "markdown",
      "source": [
        "## Testy i porównanie metod na podstawowych danych"
      ],
      "metadata": {
        "id": "xcINJp6kPBj3"
      }
    },
    {
      "cell_type": "code",
      "source": [
        "%%time\n",
        "ids1, val1 = similarity_one_vs_all(data, Arnold_schwarzenegger, reduced_dataset=True)"
      ],
      "metadata": {
        "colab": {
          "base_uri": "https://localhost:8080/"
        },
        "id": "fAruYqzlPEEC",
        "outputId": "2267ade7-f25d-445c-a105-8f0ace66da50"
      },
      "execution_count": 18,
      "outputs": [
        {
          "output_type": "stream",
          "name": "stdout",
          "text": [
            "CPU times: user 1min 20s, sys: 756 ms, total: 1min 21s\n",
            "Wall time: 1min 22s\n"
          ]
        }
      ]
    },
    {
      "cell_type": "code",
      "source": [
        "%%time\n",
        "ids2, val2 = similarity_one_vs_all_pandas(data, Arnold_schwarzenegger_pd)"
      ],
      "metadata": {
        "colab": {
          "base_uri": "https://localhost:8080/"
        },
        "id": "q9qPprX4PE3m",
        "outputId": "3b17aecb-8bbb-4e91-ee48-47f668979c38"
      },
      "execution_count": 19,
      "outputs": [
        {
          "output_type": "stream",
          "name": "stdout",
          "text": [
            "CPU times: user 10min 4s, sys: 2.25 s, total: 10min 7s\n",
            "Wall time: 10min 8s\n"
          ]
        }
      ]
    },
    {
      "cell_type": "markdown",
      "source": [
        "# Rozbudowane similarity"
      ],
      "metadata": {
        "id": "fCiA9tAT4oGu"
      }
    },
    {
      "cell_type": "markdown",
      "source": [
        "## Załadowanie rozbudowanych danych"
      ],
      "metadata": {
        "id": "0kfim_hT4vwp"
      }
    },
    {
      "cell_type": "code",
      "source": [
        "del data"
      ],
      "metadata": {
        "id": "KrBVM3y-E4DB"
      },
      "execution_count": 20,
      "outputs": []
    },
    {
      "cell_type": "code",
      "source": [
        "train_data = pd.read_parquet(TRAIN_DATA, columns=[\"nconst\", \"tconst\", \"category\", \"primaryName\", \"knownForTitles\",\n",
        "                                                  \"no_nominations_oscars_norm\", \"no_nominations_globes_norm\",\n",
        "                                                  \"no_nominations_emmy_norm\", \"no_films_norm\",\n",
        "                                                  \"average_films_rating_norm\", \"genres_code\", \"types_code\"])"
      ],
      "metadata": {
        "id": "yQlJaT0H5GAR"
      },
      "execution_count": 5,
      "outputs": []
    },
    {
      "cell_type": "markdown",
      "source": [
        "Rzućmy okiem na interesujące nas kolumny z nowych danych."
      ],
      "metadata": {
        "id": "ou-0HZ2hKNwg"
      }
    },
    {
      "cell_type": "code",
      "source": [
        "train_data.head(1)"
      ],
      "metadata": {
        "id": "C9BOFTI65JE4",
        "outputId": "03e82ff9-fc5c-4a40-ff96-22061dd983b4",
        "colab": {
          "base_uri": "https://localhost:8080/",
          "height": 214
        }
      },
      "execution_count": 7,
      "outputs": [
        {
          "output_type": "execute_result",
          "data": {
            "text/plain": [
              "      nconst                                             tconst category  \\\n",
              "0  nm0000086  [tt0043691, tt0057422, tt0058089, tt0062120, t...    actor   \n",
              "\n",
              "      primaryName                                knownForTitles  \\\n",
              "0  Louis de Funès  [tt0079200, tt0074103, tt0064425, tt0069747]   \n",
              "\n",
              "   no_nominations_oscars_norm  no_nominations_globes_norm  \\\n",
              "0                         0.0                         0.0   \n",
              "\n",
              "   no_nominations_emmy_norm  no_films_norm  average_films_rating_norm  \\\n",
              "0                       0.5          0.006                      0.642   \n",
              "\n",
              "                                         genres_code  \\\n",
              "0  [1, 1, 1, 1, 1, 1, 1, 0, 1, 1, 0, 0, 1, 0, 0, ...   \n",
              "\n",
              "                          types_code  \n",
              "0  [0, 0, 1, 0, 1, 0, 0, 0, 0, 1, 0]  "
            ],
            "text/html": [
              "\n",
              "  <div id=\"df-bcb5c7d4-fcfb-4ab5-a89e-2eeb7ad694f1\">\n",
              "    <div class=\"colab-df-container\">\n",
              "      <div>\n",
              "<style scoped>\n",
              "    .dataframe tbody tr th:only-of-type {\n",
              "        vertical-align: middle;\n",
              "    }\n",
              "\n",
              "    .dataframe tbody tr th {\n",
              "        vertical-align: top;\n",
              "    }\n",
              "\n",
              "    .dataframe thead th {\n",
              "        text-align: right;\n",
              "    }\n",
              "</style>\n",
              "<table border=\"1\" class=\"dataframe\">\n",
              "  <thead>\n",
              "    <tr style=\"text-align: right;\">\n",
              "      <th></th>\n",
              "      <th>nconst</th>\n",
              "      <th>tconst</th>\n",
              "      <th>category</th>\n",
              "      <th>primaryName</th>\n",
              "      <th>knownForTitles</th>\n",
              "      <th>no_nominations_oscars_norm</th>\n",
              "      <th>no_nominations_globes_norm</th>\n",
              "      <th>no_nominations_emmy_norm</th>\n",
              "      <th>no_films_norm</th>\n",
              "      <th>average_films_rating_norm</th>\n",
              "      <th>genres_code</th>\n",
              "      <th>types_code</th>\n",
              "    </tr>\n",
              "  </thead>\n",
              "  <tbody>\n",
              "    <tr>\n",
              "      <th>0</th>\n",
              "      <td>nm0000086</td>\n",
              "      <td>[tt0043691, tt0057422, tt0058089, tt0062120, t...</td>\n",
              "      <td>actor</td>\n",
              "      <td>Louis de Funès</td>\n",
              "      <td>[tt0079200, tt0074103, tt0064425, tt0069747]</td>\n",
              "      <td>0.0</td>\n",
              "      <td>0.0</td>\n",
              "      <td>0.5</td>\n",
              "      <td>0.006</td>\n",
              "      <td>0.642</td>\n",
              "      <td>[1, 1, 1, 1, 1, 1, 1, 0, 1, 1, 0, 0, 1, 0, 0, ...</td>\n",
              "      <td>[0, 0, 1, 0, 1, 0, 0, 0, 0, 1, 0]</td>\n",
              "    </tr>\n",
              "  </tbody>\n",
              "</table>\n",
              "</div>\n",
              "      <button class=\"colab-df-convert\" onclick=\"convertToInteractive('df-bcb5c7d4-fcfb-4ab5-a89e-2eeb7ad694f1')\"\n",
              "              title=\"Convert this dataframe to an interactive table.\"\n",
              "              style=\"display:none;\">\n",
              "        \n",
              "  <svg xmlns=\"http://www.w3.org/2000/svg\" height=\"24px\"viewBox=\"0 0 24 24\"\n",
              "       width=\"24px\">\n",
              "    <path d=\"M0 0h24v24H0V0z\" fill=\"none\"/>\n",
              "    <path d=\"M18.56 5.44l.94 2.06.94-2.06 2.06-.94-2.06-.94-.94-2.06-.94 2.06-2.06.94zm-11 1L8.5 8.5l.94-2.06 2.06-.94-2.06-.94L8.5 2.5l-.94 2.06-2.06.94zm10 10l.94 2.06.94-2.06 2.06-.94-2.06-.94-.94-2.06-.94 2.06-2.06.94z\"/><path d=\"M17.41 7.96l-1.37-1.37c-.4-.4-.92-.59-1.43-.59-.52 0-1.04.2-1.43.59L10.3 9.45l-7.72 7.72c-.78.78-.78 2.05 0 2.83L4 21.41c.39.39.9.59 1.41.59.51 0 1.02-.2 1.41-.59l7.78-7.78 2.81-2.81c.8-.78.8-2.07 0-2.86zM5.41 20L4 18.59l7.72-7.72 1.47 1.35L5.41 20z\"/>\n",
              "  </svg>\n",
              "      </button>\n",
              "      \n",
              "  <style>\n",
              "    .colab-df-container {\n",
              "      display:flex;\n",
              "      flex-wrap:wrap;\n",
              "      gap: 12px;\n",
              "    }\n",
              "\n",
              "    .colab-df-convert {\n",
              "      background-color: #E8F0FE;\n",
              "      border: none;\n",
              "      border-radius: 50%;\n",
              "      cursor: pointer;\n",
              "      display: none;\n",
              "      fill: #1967D2;\n",
              "      height: 32px;\n",
              "      padding: 0 0 0 0;\n",
              "      width: 32px;\n",
              "    }\n",
              "\n",
              "    .colab-df-convert:hover {\n",
              "      background-color: #E2EBFA;\n",
              "      box-shadow: 0px 1px 2px rgba(60, 64, 67, 0.3), 0px 1px 3px 1px rgba(60, 64, 67, 0.15);\n",
              "      fill: #174EA6;\n",
              "    }\n",
              "\n",
              "    [theme=dark] .colab-df-convert {\n",
              "      background-color: #3B4455;\n",
              "      fill: #D2E3FC;\n",
              "    }\n",
              "\n",
              "    [theme=dark] .colab-df-convert:hover {\n",
              "      background-color: #434B5C;\n",
              "      box-shadow: 0px 1px 3px 1px rgba(0, 0, 0, 0.15);\n",
              "      filter: drop-shadow(0px 1px 2px rgba(0, 0, 0, 0.3));\n",
              "      fill: #FFFFFF;\n",
              "    }\n",
              "  </style>\n",
              "\n",
              "      <script>\n",
              "        const buttonEl =\n",
              "          document.querySelector('#df-bcb5c7d4-fcfb-4ab5-a89e-2eeb7ad694f1 button.colab-df-convert');\n",
              "        buttonEl.style.display =\n",
              "          google.colab.kernel.accessAllowed ? 'block' : 'none';\n",
              "\n",
              "        async function convertToInteractive(key) {\n",
              "          const element = document.querySelector('#df-bcb5c7d4-fcfb-4ab5-a89e-2eeb7ad694f1');\n",
              "          const dataTable =\n",
              "            await google.colab.kernel.invokeFunction('convertToInteractive',\n",
              "                                                     [key], {});\n",
              "          if (!dataTable) return;\n",
              "\n",
              "          const docLinkHtml = 'Like what you see? Visit the ' +\n",
              "            '<a target=\"_blank\" href=https://colab.research.google.com/notebooks/data_table.ipynb>data table notebook</a>'\n",
              "            + ' to learn more about interactive tables.';\n",
              "          element.innerHTML = '';\n",
              "          dataTable['output_type'] = 'display_data';\n",
              "          await google.colab.output.renderOutput(dataTable, element);\n",
              "          const docLink = document.createElement('div');\n",
              "          docLink.innerHTML = docLinkHtml;\n",
              "          element.appendChild(docLink);\n",
              "        }\n",
              "      </script>\n",
              "    </div>\n",
              "  </div>\n",
              "  "
            ]
          },
          "metadata": {},
          "execution_count": 7
        }
      ]
    },
    {
      "cell_type": "markdown",
      "source": [
        "## Liczenie rozbudowanego similarity"
      ],
      "metadata": {
        "id": "gYfwjQvvaDYa"
      }
    },
    {
      "cell_type": "markdown",
      "source": [
        "Wybieramy aktora z testowego zbioru danych."
      ],
      "metadata": {
        "id": "0ZXp-XtWaLiX"
      }
    },
    {
      "cell_type": "code",
      "source": [
        "selected_actor = prepare_pandas_row(find_actor(train_data, 'nm0000216'))"
      ],
      "metadata": {
        "id": "JY34aff26aB9"
      },
      "execution_count": 19,
      "outputs": []
    },
    {
      "cell_type": "markdown",
      "source": [
        "Sprawdzamy czy metoda licząca similarity działa."
      ],
      "metadata": {
        "id": "tB06ZsfXaQoP"
      }
    },
    {
      "cell_type": "code",
      "source": [
        "%%time\n",
        "ids, values = similarity_one_vs_all(train_data, selected_actor, reduced_dataset=True)"
      ],
      "metadata": {
        "id": "J0e07SX9CzJj",
        "outputId": "7f90a6f6-6ab9-46a5-99cb-958792fe1201",
        "colab": {
          "base_uri": "https://localhost:8080/"
        }
      },
      "execution_count": 20,
      "outputs": [
        {
          "output_type": "stream",
          "name": "stdout",
          "text": [
            "CPU times: user 1min 23s, sys: 3.22 s, total: 1min 26s\n",
            "Wall time: 1min 26s\n"
          ]
        }
      ]
    },
    {
      "cell_type": "markdown",
      "source": [
        "Skoro metoda działa to znajdźmy 5 aktorów ze zbioru testowego, którzy są najpodobniejsi do Arnolda Schwarzeneggera."
      ],
      "metadata": {
        "id": "YkNf1kchaUUQ"
      }
    },
    {
      "cell_type": "code",
      "source": [
        "ids, values = select_top_similiar(ids, values)\n",
        "names = replace_ids_with_names(train_data, ids, 3)"
      ],
      "metadata": {
        "id": "sEBpfH55fOYT"
      },
      "execution_count": 21,
      "outputs": []
    },
    {
      "cell_type": "code",
      "source": [
        "print_top_similiar(selected_actor[3], names, values)"
      ],
      "metadata": {
        "id": "MDuK58lmDRZJ",
        "outputId": "cbcb56aa-37ba-47b2-ce94-a0faa2417f8a",
        "colab": {
          "base_uri": "https://localhost:8080/"
        }
      },
      "execution_count": 23,
      "outputs": [
        {
          "output_type": "stream",
          "name": "stdout",
          "text": [
            "Najbardziej podobnymi do Arnold Schwarzenegger aktorami/aktorkami są w kolejności:\n",
            "  - Arnold Schwarz z similarity równym: -0.08\n",
            "  - Angelo Schiraldi z similarity równym: -0.113\n",
            "  - Andrew Schouela z similarity równym: -0.113\n",
            "  - Alfrdo Sanchez z similarity równym: -0.113\n",
            "  - Andreas Scholz z similarity równym: -0.113\n"
          ]
        }
      ]
    }
  ],
  "metadata": {
    "colab": {
      "provenance": [],
      "toc_visible": true,
      "include_colab_link": true
    },
    "gpuClass": "standard",
    "kernelspec": {
      "display_name": "Python 3",
      "language": "python",
      "name": "python3"
    },
    "language_info": {
      "codemirror_mode": {
        "name": "ipython",
        "version": 3
      },
      "file_extension": ".py",
      "mimetype": "text/x-python",
      "name": "python",
      "nbconvert_exporter": "python",
      "pygments_lexer": "ipython3",
      "version": "3.11.0"
    },
    "vscode": {
      "interpreter": {
        "hash": "a995ee2689a86f51e9b6c8d486f5f37602c71c091cf2c9f4f00a2719ed505f52"
      }
    }
  },
  "nbformat": 4,
  "nbformat_minor": 0
}