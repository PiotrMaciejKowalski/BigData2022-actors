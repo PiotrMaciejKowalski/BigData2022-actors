{
  "nbformat": 4,
  "nbformat_minor": 0,
  "metadata": {
    "colab": {
      "provenance": [],
      "include_colab_link": true
    },
    "kernelspec": {
      "name": "python3",
      "display_name": "Python 3"
    },
    "language_info": {
      "name": "python"
    }
  },
  "cells": [
    {
      "cell_type": "markdown",
      "metadata": {
        "id": "view-in-github",
        "colab_type": "text"
      },
      "source": [
        "<a href=\"https://colab.research.google.com/github/PiotrMaciejKowalski/BigData2022-actors/blob/Ladowanie_danych_do_pandasDF/colabs/Liczenie_similarity.ipynb\" target=\"_parent\"><img src=\"https://colab.research.google.com/assets/colab-badge.svg\" alt=\"Open In Colab\"/></a>"
      ]
    },
    {
      "cell_type": "markdown",
      "source": [
        "# Przygotowanie notatnika"
      ],
      "metadata": {
        "id": "-Q2R3HB0nBvO"
      }
    },
    {
      "cell_type": "code",
      "execution_count": 1,
      "metadata": {
        "id": "V8-nE3oH58P6",
        "outputId": "965bd885-5c33-4648-fa0b-d5dd1704d26a",
        "colab": {
          "base_uri": "https://localhost:8080/"
        }
      },
      "outputs": [
        {
          "output_type": "stream",
          "name": "stdout",
          "text": [
            "Mounted at /content/gdrive\n"
          ]
        }
      ],
      "source": [
        "from google.colab import drive\n",
        "drive.mount('/content/gdrive')"
      ]
    },
    {
      "cell_type": "code",
      "source": [
        "!git clone https://github.com/PiotrMaciejKowalski/BigData2022-actors.git\n",
        "!mv /content/BigData2022-actors/* .\n",
        "!mv /content/BigData2022-actors/.* .\n",
        "!rmdir /content/BigData2022-actors/"
      ],
      "metadata": {
        "id": "CJDl9hKq623W",
        "colab": {
          "base_uri": "https://localhost:8080/"
        },
        "outputId": "e2f7368f-befa-4fab-a9db-a39eda9cf4dd"
      },
      "execution_count": 2,
      "outputs": [
        {
          "output_type": "stream",
          "name": "stdout",
          "text": [
            "Cloning into 'BigData2022-actors'...\n",
            "remote: Enumerating objects: 642, done.\u001b[K\n",
            "remote: Counting objects: 100% (336/336), done.\u001b[K\n",
            "remote: Compressing objects: 100% (231/231), done.\u001b[K\n",
            "remote: Total 642 (delta 193), reused 165 (delta 104), pack-reused 306\u001b[K\n",
            "Receiving objects: 100% (642/642), 5.28 MiB | 9.74 MiB/s, done.\n",
            "Resolving deltas: 100% (309/309), done.\n",
            "mv: cannot move '/content/BigData2022-actors/.' to './.': Device or resource busy\n",
            "mv: cannot move '/content/BigData2022-actors/..' to './..': Device or resource busy\n"
          ]
        }
      ]
    },
    {
      "cell_type": "markdown",
      "source": [
        "# Zaczytanie danych z pliku"
      ],
      "metadata": {
        "id": "-oJufIxpmjqe"
      }
    },
    {
      "cell_type": "markdown",
      "source": [
        "# Zapisanie pliku jako Pandas DataFrame"
      ],
      "metadata": {
        "id": "Rt0WEp8OmxI3"
      }
    },
    {
      "cell_type": "code",
      "source": [
        "import numpy as np\n",
        "import pandas as pd"
      ],
      "metadata": {
        "id": "lHFzBjGeXhVM"
      },
      "execution_count": 3,
      "outputs": []
    },
    {
      "cell_type": "markdown",
      "source": [
        "W poradniku \"Tworzenie skrotu do GDrive\" w folderze tutorials jest poradnik jak sprawić żeby poniższa lokalizacja się poprawnie pokazywała.\n"
      ],
      "metadata": {
        "id": "893peJwWw3bl"
      }
    },
    {
      "cell_type": "code",
      "source": [
        "dane = pd.read_parquet('/content/gdrive/MyDrive/bigdataaktorzy/data_with_awards.parquet')"
      ],
      "metadata": {
        "id": "Hysa2iYFXe3J"
      },
      "execution_count": 4,
      "outputs": []
    },
    {
      "cell_type": "markdown",
      "source": [
        "## Wyświetlamy załadowane dane"
      ],
      "metadata": {
        "id": "QK_ZD-dmmsD9"
      }
    },
    {
      "cell_type": "code",
      "source": [
        "dane.head(5)"
      ],
      "metadata": {
        "id": "7XzCFvNagk9h",
        "colab": {
          "base_uri": "https://localhost:8080/",
          "height": 751
        },
        "outputId": "e889ce58-9acd-424a-998e-ce858b8eef4a"
      },
      "execution_count": 5,
      "outputs": [
        {
          "output_type": "execute_result",
          "data": {
            "text/plain": [
              "      nconst                                             tconst  \\\n",
              "0  nm0000004  [tt0694438, tt0694654, tt0694932, tt0694936, t...   \n",
              "1  nm0000012  [tt0058413, tt0059496, tt0062671, tt0082360, t...   \n",
              "2  nm0000023  [tt0034415, tt0162376, tt0041507, tt0057168, t...   \n",
              "3  nm0000029  [tt0084786, tt0181770, tt0100141, tt0109656, t...   \n",
              "4  nm0000086  [tt0043691, tt0057422, tt0058089, tt0062120, t...   \n",
              "\n",
              "                                           titleType  \\\n",
              "0  [tvEpisode, tvEpisode, tvEpisode, tvEpisode, t...   \n",
              "1  [movie, movie, movie, tvMovie, tvMovie, tvEpis...   \n",
              "2  [movie, short, movie, movie, movie, movie, mov...   \n",
              "3  [movie, tvMovie, movie, movie, movie, movie, m...   \n",
              "4  [tvMovie, movie, movie, movie, movie, short, t...   \n",
              "\n",
              "                                       originalTitle  \\\n",
              "0  [Jill Clayburgh/Leon Redbone/The Singing Idler...   \n",
              "1  [La noia, The Nanny, The Anniversary, Family R...   \n",
              "2  [Ziegfeld Girl, A Holiday in Storyland, In the...   \n",
              "3  [They Call Me Bruce, Portami la luna, La messe...   \n",
              "4  [Les joueurs, Pouic-Pouic, Fantômas, Le petit ...   \n",
              "\n",
              "                                             isAdult startYear endYear  \\\n",
              "0  [0, 0, 0, 0, 0, 0, 0, 0, 0, 0, 0, 0, 0, 0, 0, ...      1973      \\N   \n",
              "1  [0, 0, 0, 0, 0, 0, 0, 0, 0, 0, 0, 0, 0, 0, 0, ...      1931      \\N   \n",
              "2  [0, 0, 0, 0, 0, 0, 0, 0, 0, 0, 0, 0, 0, 0, 0, ...      1929      \\N   \n",
              "3         [0, 0, 0, 0, 0, 0, 0, 0, 0, 0, 0, 0, 0, 0]      1976      \\N   \n",
              "4  [0, 0, 0, 0, 0, 0, 0, 0, 0, 0, 0, 0, 0, 0, 0, ...      1950      \\N   \n",
              "\n",
              "                                              genres category  \\\n",
              "0  [Comedy,Music, Comedy,Music, Comedy,Music, Com...    actor   \n",
              "1  [Drama, Mystery,Thriller, Comedy,Drama,Thrille...  actress   \n",
              "2  [Drama,Musical,Romance, Musical,Short, Comedy,...  actress   \n",
              "3  [Action,Comedy, Romance, Drama,Music,Romance, ...  actress   \n",
              "4  [Comedy, Comedy, Adventure,Comedy,Crime, Comed...    actor   \n",
              "\n",
              "                                          characters  ...  \\\n",
              "0  [[\"Jawaharlal Nehru\",\"Various\"], [\"Larry Farbe...  ...   \n",
              "1  [[\"Dino's mother\"], [\"Nanny\"], [\"Mrs. Taggart\"...  ...   \n",
              "2  [[\"Susan Gallagher\"], [\"Frances Gumm - One of ...  ...   \n",
              "3  [[\"Karmen\"], [\"Lynn\"], [\"Sophie\"], [\"Heather D...  ...   \n",
              "4  [[\"Piotr Petrovitch\"], [\"Léonard Monestier\"], ...  ...   \n",
              "\n",
              "                year_globes  \\\n",
              "0                        []   \n",
              "1  [1974, 1963, 1962, 1951]   \n",
              "2        [1962, 1962, 1955]   \n",
              "3                        []   \n",
              "4                        []   \n",
              "\n",
              "                                     category_globes  \\\n",
              "0                                                 []   \n",
              "1  [Cecil B. deMille Award, Best Performance by a...   \n",
              "2  [Cecil B. deMille Award, Best Performance by a...   \n",
              "3                                                 []   \n",
              "4                                                 []   \n",
              "\n",
              "                                         film_globes  \\\n",
              "0                                                 []   \n",
              "1  [What Ever Happened To Baby Jane?, Pocketful o...   \n",
              "2    [Judgment at Nuremberg, Star is Born, A (1954)]   \n",
              "3                                                 []   \n",
              "4                                                 []   \n",
              "\n",
              "                     win_globes year_emmy category_emmy nominee_emmy  \\\n",
              "0                            []        []            []           []   \n",
              "1  [False, False, False, False]        []            []           []   \n",
              "2          [False, False, True]        []            []           []   \n",
              "3                            []        []            []           []   \n",
              "4                            []        []            []           []   \n",
              "\n",
              "  company_emmy producer_emmy win_emmy  \n",
              "0           []            []       []  \n",
              "1           []            []       []  \n",
              "2           []            []       []  \n",
              "3           []            []       []  \n",
              "4           []            []       []  \n",
              "\n",
              "[5 rows x 26 columns]"
            ],
            "text/html": [
              "\n",
              "  <div id=\"df-3ed00b9c-3a7c-4005-8b5b-a8d486ae7ed7\">\n",
              "    <div class=\"colab-df-container\">\n",
              "      <div>\n",
              "<style scoped>\n",
              "    .dataframe tbody tr th:only-of-type {\n",
              "        vertical-align: middle;\n",
              "    }\n",
              "\n",
              "    .dataframe tbody tr th {\n",
              "        vertical-align: top;\n",
              "    }\n",
              "\n",
              "    .dataframe thead th {\n",
              "        text-align: right;\n",
              "    }\n",
              "</style>\n",
              "<table border=\"1\" class=\"dataframe\">\n",
              "  <thead>\n",
              "    <tr style=\"text-align: right;\">\n",
              "      <th></th>\n",
              "      <th>nconst</th>\n",
              "      <th>tconst</th>\n",
              "      <th>titleType</th>\n",
              "      <th>originalTitle</th>\n",
              "      <th>isAdult</th>\n",
              "      <th>startYear</th>\n",
              "      <th>endYear</th>\n",
              "      <th>genres</th>\n",
              "      <th>category</th>\n",
              "      <th>characters</th>\n",
              "      <th>...</th>\n",
              "      <th>year_globes</th>\n",
              "      <th>category_globes</th>\n",
              "      <th>film_globes</th>\n",
              "      <th>win_globes</th>\n",
              "      <th>year_emmy</th>\n",
              "      <th>category_emmy</th>\n",
              "      <th>nominee_emmy</th>\n",
              "      <th>company_emmy</th>\n",
              "      <th>producer_emmy</th>\n",
              "      <th>win_emmy</th>\n",
              "    </tr>\n",
              "  </thead>\n",
              "  <tbody>\n",
              "    <tr>\n",
              "      <th>0</th>\n",
              "      <td>nm0000004</td>\n",
              "      <td>[tt0694438, tt0694654, tt0694932, tt0694936, t...</td>\n",
              "      <td>[tvEpisode, tvEpisode, tvEpisode, tvEpisode, t...</td>\n",
              "      <td>[Jill Clayburgh/Leon Redbone/The Singing Idler...</td>\n",
              "      <td>[0, 0, 0, 0, 0, 0, 0, 0, 0, 0, 0, 0, 0, 0, 0, ...</td>\n",
              "      <td>1973</td>\n",
              "      <td>\\N</td>\n",
              "      <td>[Comedy,Music, Comedy,Music, Comedy,Music, Com...</td>\n",
              "      <td>actor</td>\n",
              "      <td>[[\"Jawaharlal Nehru\",\"Various\"], [\"Larry Farbe...</td>\n",
              "      <td>...</td>\n",
              "      <td>[]</td>\n",
              "      <td>[]</td>\n",
              "      <td>[]</td>\n",
              "      <td>[]</td>\n",
              "      <td>[]</td>\n",
              "      <td>[]</td>\n",
              "      <td>[]</td>\n",
              "      <td>[]</td>\n",
              "      <td>[]</td>\n",
              "      <td>[]</td>\n",
              "    </tr>\n",
              "    <tr>\n",
              "      <th>1</th>\n",
              "      <td>nm0000012</td>\n",
              "      <td>[tt0058413, tt0059496, tt0062671, tt0082360, t...</td>\n",
              "      <td>[movie, movie, movie, tvMovie, tvMovie, tvEpis...</td>\n",
              "      <td>[La noia, The Nanny, The Anniversary, Family R...</td>\n",
              "      <td>[0, 0, 0, 0, 0, 0, 0, 0, 0, 0, 0, 0, 0, 0, 0, ...</td>\n",
              "      <td>1931</td>\n",
              "      <td>\\N</td>\n",
              "      <td>[Drama, Mystery,Thriller, Comedy,Drama,Thrille...</td>\n",
              "      <td>actress</td>\n",
              "      <td>[[\"Dino's mother\"], [\"Nanny\"], [\"Mrs. Taggart\"...</td>\n",
              "      <td>...</td>\n",
              "      <td>[1974, 1963, 1962, 1951]</td>\n",
              "      <td>[Cecil B. deMille Award, Best Performance by a...</td>\n",
              "      <td>[What Ever Happened To Baby Jane?, Pocketful o...</td>\n",
              "      <td>[False, False, False, False]</td>\n",
              "      <td>[]</td>\n",
              "      <td>[]</td>\n",
              "      <td>[]</td>\n",
              "      <td>[]</td>\n",
              "      <td>[]</td>\n",
              "      <td>[]</td>\n",
              "    </tr>\n",
              "    <tr>\n",
              "      <th>2</th>\n",
              "      <td>nm0000023</td>\n",
              "      <td>[tt0034415, tt0162376, tt0041507, tt0057168, t...</td>\n",
              "      <td>[movie, short, movie, movie, movie, movie, mov...</td>\n",
              "      <td>[Ziegfeld Girl, A Holiday in Storyland, In the...</td>\n",
              "      <td>[0, 0, 0, 0, 0, 0, 0, 0, 0, 0, 0, 0, 0, 0, 0, ...</td>\n",
              "      <td>1929</td>\n",
              "      <td>\\N</td>\n",
              "      <td>[Drama,Musical,Romance, Musical,Short, Comedy,...</td>\n",
              "      <td>actress</td>\n",
              "      <td>[[\"Susan Gallagher\"], [\"Frances Gumm - One of ...</td>\n",
              "      <td>...</td>\n",
              "      <td>[1962, 1962, 1955]</td>\n",
              "      <td>[Cecil B. deMille Award, Best Performance by a...</td>\n",
              "      <td>[Judgment at Nuremberg, Star is Born, A (1954)]</td>\n",
              "      <td>[False, False, True]</td>\n",
              "      <td>[]</td>\n",
              "      <td>[]</td>\n",
              "      <td>[]</td>\n",
              "      <td>[]</td>\n",
              "      <td>[]</td>\n",
              "      <td>[]</td>\n",
              "    </tr>\n",
              "    <tr>\n",
              "      <th>3</th>\n",
              "      <td>nm0000029</td>\n",
              "      <td>[tt0084786, tt0181770, tt0100141, tt0109656, t...</td>\n",
              "      <td>[movie, tvMovie, movie, movie, movie, movie, m...</td>\n",
              "      <td>[They Call Me Bruce, Portami la luna, La messe...</td>\n",
              "      <td>[0, 0, 0, 0, 0, 0, 0, 0, 0, 0, 0, 0, 0, 0]</td>\n",
              "      <td>1976</td>\n",
              "      <td>\\N</td>\n",
              "      <td>[Action,Comedy, Romance, Drama,Music,Romance, ...</td>\n",
              "      <td>actress</td>\n",
              "      <td>[[\"Karmen\"], [\"Lynn\"], [\"Sophie\"], [\"Heather D...</td>\n",
              "      <td>...</td>\n",
              "      <td>[]</td>\n",
              "      <td>[]</td>\n",
              "      <td>[]</td>\n",
              "      <td>[]</td>\n",
              "      <td>[]</td>\n",
              "      <td>[]</td>\n",
              "      <td>[]</td>\n",
              "      <td>[]</td>\n",
              "      <td>[]</td>\n",
              "      <td>[]</td>\n",
              "    </tr>\n",
              "    <tr>\n",
              "      <th>4</th>\n",
              "      <td>nm0000086</td>\n",
              "      <td>[tt0043691, tt0057422, tt0058089, tt0062120, t...</td>\n",
              "      <td>[tvMovie, movie, movie, movie, movie, short, t...</td>\n",
              "      <td>[Les joueurs, Pouic-Pouic, Fantômas, Le petit ...</td>\n",
              "      <td>[0, 0, 0, 0, 0, 0, 0, 0, 0, 0, 0, 0, 0, 0, 0, ...</td>\n",
              "      <td>1950</td>\n",
              "      <td>\\N</td>\n",
              "      <td>[Comedy, Comedy, Adventure,Comedy,Crime, Comed...</td>\n",
              "      <td>actor</td>\n",
              "      <td>[[\"Piotr Petrovitch\"], [\"Léonard Monestier\"], ...</td>\n",
              "      <td>...</td>\n",
              "      <td>[]</td>\n",
              "      <td>[]</td>\n",
              "      <td>[]</td>\n",
              "      <td>[]</td>\n",
              "      <td>[]</td>\n",
              "      <td>[]</td>\n",
              "      <td>[]</td>\n",
              "      <td>[]</td>\n",
              "      <td>[]</td>\n",
              "      <td>[]</td>\n",
              "    </tr>\n",
              "  </tbody>\n",
              "</table>\n",
              "<p>5 rows × 26 columns</p>\n",
              "</div>\n",
              "      <button class=\"colab-df-convert\" onclick=\"convertToInteractive('df-3ed00b9c-3a7c-4005-8b5b-a8d486ae7ed7')\"\n",
              "              title=\"Convert this dataframe to an interactive table.\"\n",
              "              style=\"display:none;\">\n",
              "        \n",
              "  <svg xmlns=\"http://www.w3.org/2000/svg\" height=\"24px\"viewBox=\"0 0 24 24\"\n",
              "       width=\"24px\">\n",
              "    <path d=\"M0 0h24v24H0V0z\" fill=\"none\"/>\n",
              "    <path d=\"M18.56 5.44l.94 2.06.94-2.06 2.06-.94-2.06-.94-.94-2.06-.94 2.06-2.06.94zm-11 1L8.5 8.5l.94-2.06 2.06-.94-2.06-.94L8.5 2.5l-.94 2.06-2.06.94zm10 10l.94 2.06.94-2.06 2.06-.94-2.06-.94-.94-2.06-.94 2.06-2.06.94z\"/><path d=\"M17.41 7.96l-1.37-1.37c-.4-.4-.92-.59-1.43-.59-.52 0-1.04.2-1.43.59L10.3 9.45l-7.72 7.72c-.78.78-.78 2.05 0 2.83L4 21.41c.39.39.9.59 1.41.59.51 0 1.02-.2 1.41-.59l7.78-7.78 2.81-2.81c.8-.78.8-2.07 0-2.86zM5.41 20L4 18.59l7.72-7.72 1.47 1.35L5.41 20z\"/>\n",
              "  </svg>\n",
              "      </button>\n",
              "      \n",
              "  <style>\n",
              "    .colab-df-container {\n",
              "      display:flex;\n",
              "      flex-wrap:wrap;\n",
              "      gap: 12px;\n",
              "    }\n",
              "\n",
              "    .colab-df-convert {\n",
              "      background-color: #E8F0FE;\n",
              "      border: none;\n",
              "      border-radius: 50%;\n",
              "      cursor: pointer;\n",
              "      display: none;\n",
              "      fill: #1967D2;\n",
              "      height: 32px;\n",
              "      padding: 0 0 0 0;\n",
              "      width: 32px;\n",
              "    }\n",
              "\n",
              "    .colab-df-convert:hover {\n",
              "      background-color: #E2EBFA;\n",
              "      box-shadow: 0px 1px 2px rgba(60, 64, 67, 0.3), 0px 1px 3px 1px rgba(60, 64, 67, 0.15);\n",
              "      fill: #174EA6;\n",
              "    }\n",
              "\n",
              "    [theme=dark] .colab-df-convert {\n",
              "      background-color: #3B4455;\n",
              "      fill: #D2E3FC;\n",
              "    }\n",
              "\n",
              "    [theme=dark] .colab-df-convert:hover {\n",
              "      background-color: #434B5C;\n",
              "      box-shadow: 0px 1px 3px 1px rgba(0, 0, 0, 0.15);\n",
              "      filter: drop-shadow(0px 1px 2px rgba(0, 0, 0, 0.3));\n",
              "      fill: #FFFFFF;\n",
              "    }\n",
              "  </style>\n",
              "\n",
              "      <script>\n",
              "        const buttonEl =\n",
              "          document.querySelector('#df-3ed00b9c-3a7c-4005-8b5b-a8d486ae7ed7 button.colab-df-convert');\n",
              "        buttonEl.style.display =\n",
              "          google.colab.kernel.accessAllowed ? 'block' : 'none';\n",
              "\n",
              "        async function convertToInteractive(key) {\n",
              "          const element = document.querySelector('#df-3ed00b9c-3a7c-4005-8b5b-a8d486ae7ed7');\n",
              "          const dataTable =\n",
              "            await google.colab.kernel.invokeFunction('convertToInteractive',\n",
              "                                                     [key], {});\n",
              "          if (!dataTable) return;\n",
              "\n",
              "          const docLinkHtml = 'Like what you see? Visit the ' +\n",
              "            '<a target=\"_blank\" href=https://colab.research.google.com/notebooks/data_table.ipynb>data table notebook</a>'\n",
              "            + ' to learn more about interactive tables.';\n",
              "          element.innerHTML = '';\n",
              "          dataTable['output_type'] = 'display_data';\n",
              "          await google.colab.output.renderOutput(dataTable, element);\n",
              "          const docLink = document.createElement('div');\n",
              "          docLink.innerHTML = docLinkHtml;\n",
              "          element.appendChild(docLink);\n",
              "        }\n",
              "      </script>\n",
              "    </div>\n",
              "  </div>\n",
              "  "
            ]
          },
          "metadata": {},
          "execution_count": 5
        }
      ]
    }
  ]
}