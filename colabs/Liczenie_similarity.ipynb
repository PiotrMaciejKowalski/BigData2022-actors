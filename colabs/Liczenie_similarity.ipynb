{
  "cells": [
    {
      "cell_type": "markdown",
      "metadata": {
        "id": "view-in-github",
        "colab_type": "text"
      },
      "source": [
        "<a href=\"https://colab.research.google.com/github/PiotrMaciejKowalski/BigData2022-actors/blob/Policzenie-pierwszych-similarity/colabs/Liczenie_similarity.ipynb\" target=\"_parent\"><img src=\"https://colab.research.google.com/assets/colab-badge.svg\" alt=\"Open In Colab\"/></a>"
      ]
    },
    {
      "cell_type": "markdown",
      "metadata": {
        "id": "-Q2R3HB0nBvO"
      },
      "source": [
        "# Przygotowanie notatnika"
      ]
    },
    {
      "cell_type": "code",
      "execution_count": 1,
      "metadata": {
        "colab": {
          "base_uri": "https://localhost:8080/"
        },
        "id": "V8-nE3oH58P6",
        "outputId": "236036e7-c6e3-44a7-a5f5-a42e1e2f6761"
      },
      "outputs": [
        {
          "output_type": "stream",
          "name": "stdout",
          "text": [
            "Mounted at /content/gdrive\n"
          ]
        }
      ],
      "source": [
        "from google.colab import drive\n",
        "drive.mount('/content/gdrive')\n",
        "import pandas as pd"
      ]
    },
    {
      "cell_type": "code",
      "execution_count": 2,
      "metadata": {
        "colab": {
          "base_uri": "https://localhost:8080/"
        },
        "id": "CJDl9hKq623W",
        "outputId": "8ec6bf4b-660e-4194-8dfe-6e535ed2725d"
      },
      "outputs": [
        {
          "output_type": "stream",
          "name": "stdout",
          "text": [
            "Cloning into 'BigData2022-actors'...\n",
            "remote: Enumerating objects: 1182, done.\u001b[K\n",
            "remote: Counting objects: 100% (346/346), done.\u001b[K\n",
            "remote: Compressing objects: 100% (175/175), done.\u001b[K\n",
            "remote: Total 1182 (delta 264), reused 182 (delta 171), pack-reused 836\u001b[K\n",
            "Receiving objects: 100% (1182/1182), 5.88 MiB | 29.66 MiB/s, done.\n",
            "Resolving deltas: 100% (666/666), done.\n",
            "mv: cannot move '/content/BigData2022-actors/.' to './.': Device or resource busy\n",
            "mv: cannot move '/content/BigData2022-actors/..' to './..': Device or resource busy\n"
          ]
        }
      ],
      "source": [
        "!git clone https://github.com/PiotrMaciejKowalski/BigData2022-actors.git\n",
        "!mv /content/BigData2022-actors/* .\n",
        "!mv /content/BigData2022-actors/.* .\n",
        "!rmdir /content/BigData2022-actors/"
      ]
    },
    {
      "cell_type": "code",
      "source": [
        "!git checkout Policzenie-pierwszych-similarity"
      ],
      "metadata": {
        "id": "YB81hSoHs3Qy",
        "outputId": "482afd89-f647-4cda-9c80-3894e208c6f6",
        "colab": {
          "base_uri": "https://localhost:8080/"
        }
      },
      "execution_count": 3,
      "outputs": [
        {
          "output_type": "stream",
          "name": "stdout",
          "text": [
            "Branch 'Policzenie-pierwszych-similarity' set up to track remote branch 'Policzenie-pierwszych-similarity' from 'origin'.\n",
            "Switched to a new branch 'Policzenie-pierwszych-similarity'\n"
          ]
        }
      ]
    },
    {
      "cell_type": "markdown",
      "metadata": {
        "id": "0x5DISomqmKS"
      },
      "source": [
        "## Załadowanie danych z pliku o rozszerzeniu .parquet"
      ]
    },
    {
      "cell_type": "code",
      "execution_count": 4,
      "metadata": {
        "id": "9inUPaAjraSd"
      },
      "outputs": [],
      "source": [
        "from lib.const import JOINED_DATA, DATA_WITH_AWARDS"
      ]
    },
    {
      "cell_type": "markdown",
      "metadata": {
        "id": "893peJwWw3bl"
      },
      "source": [
        "W poradniku \"Tworzenie skrotu do GDrive\" w folderze tutorials jest poradnik jak sprawić żeby poniższa lokalizacja się poprawnie ładowała.\n"
      ]
    },
    {
      "cell_type": "code",
      "execution_count": 5,
      "metadata": {
        "id": "Hysa2iYFXe3J"
      },
      "outputs": [],
      "source": [
        "data = pd.read_parquet(JOINED_DATA)\n",
        "# TODO przepiąć się na nowszy plik gdy będzie on już zapisany na dysku"
      ]
    },
    {
      "cell_type": "markdown",
      "metadata": {
        "id": "riisEZzzWMq6"
      },
      "source": [
        "# Liczenie similarity"
      ]
    },
    {
      "cell_type": "code",
      "source": [
        "from lib.similarity_utils import *"
      ],
      "metadata": {
        "id": "t2HaCiJStPkc"
      },
      "execution_count": 6,
      "outputs": []
    },
    {
      "cell_type": "markdown",
      "metadata": {
        "id": "yXsnR3jzeB_D"
      },
      "source": [
        "## Szukanie aktorów na przykładzie Sylvestera Stallone i Arnolda Schwarzeneggera"
      ]
    },
    {
      "cell_type": "markdown",
      "source": [
        "Za pomocą zdefiniowanych metod jesteśmy w stanie odnaleźć wskazanego aktora w bazie danych na podstawie strony [IMDB](https://www.imdb.com/?ref_=nv_home). Wystarczy odnaleźć na stronie wybranego przez siebie aktora, a następnie z linku skopiować jego id. Id aktora składa się kolejno z liter \"nm\", a następnie $6$ lub $7$ cyfr. Przykładowe id aktora znajduje się w kodzie poniżej."
      ],
      "metadata": {
        "id": "f263vqTtB7y-"
      }
    },
    {
      "cell_type": "code",
      "source": [
        "Sylvester_Stallone = find_actor(data, 'nm0000230')"
      ],
      "metadata": {
        "id": "4W0oLPSTEjSZ"
      },
      "execution_count": 7,
      "outputs": []
    },
    {
      "cell_type": "code",
      "execution_count": 8,
      "metadata": {
        "colab": {
          "base_uri": "https://localhost:8080/"
        },
        "id": "4L8zYP5Rh_QB",
        "outputId": "b8fd973c-2b6d-430f-a28c-b220e9554235"
      },
      "outputs": [
        {
          "output_type": "execute_result",
          "data": {
            "text/plain": [
              "nconst                                                    nm0000230\n",
              "tconst            [tt0083284, tt0132245, tt0160184, tt1308729, t...\n",
              "titleType         [movie, movie, movie, movie, tvEpisode, tvEpis...\n",
              "originalTitle     [Victory, Driven, D-Tox, Bullet to the Head, C...\n",
              "isAdult           [0, 0, 0, 0, 0, 0, 0, 0, 0, 0, 1, 0, 0, 0, 0, ...\n",
              "startYear                                                      1969\n",
              "endYear                                                          \\N\n",
              "genres            [Drama,Sport,War, Action,Drama,Sport, Crime,Th...\n",
              "category                                                      actor\n",
              "characters        [[\"The Players: U.S.A. - Capt. Robert Hatch\"],...\n",
              "primaryName                                      Sylvester Stallone\n",
              "knownForTitles              tt0075148,tt3076658,tt0089927,tt0084602\n",
              "Name: 1949571, dtype: object"
            ]
          },
          "metadata": {},
          "execution_count": 8
        }
      ],
      "source": [
        "Sylvester_Stallone"
      ]
    },
    {
      "cell_type": "code",
      "source": [
        "Arnold_schwarzenegger = find_actor(data, 'nm0000216')"
      ],
      "metadata": {
        "id": "lzdRQoNi8nvf"
      },
      "execution_count": 9,
      "outputs": []
    },
    {
      "cell_type": "code",
      "source": [
        "Arnold_schwarzenegger"
      ],
      "metadata": {
        "id": "QZLYReYt8xV3",
        "outputId": "88274f2c-4dd0-46a9-ce26-8c9c6262b857",
        "colab": {
          "base_uri": "https://localhost:8080/"
        }
      },
      "execution_count": 10,
      "outputs": [
        {
          "output_type": "execute_result",
          "data": {
            "text/plain": [
              "nconst                                                    nm0000216\n",
              "tconst            [tt0233469, tt0364056, tt0711516, tt15739442, ...\n",
              "titleType         [movie, videoGame, tvEpisode, video, tvEpisode...\n",
              "originalTitle     [Collateral Damage, Terminator 3: Rise of the ...\n",
              "isAdult           [0, 0, 0, 0, 0, 0, 0, 0, 0, 0, 0, 0, 0, 0, 0, ...\n",
              "startYear                                                      1970\n",
              "endYear                                                          \\N\n",
              "genres            [Action,Drama,Thriller, Action,Adventure,Sci-F...\n",
              "category                                                      actor\n",
              "characters        [[\"Gordy Brewer\"], [\"The Terminator\"], [\"Josef...\n",
              "primaryName                                   Arnold Schwarzenegger\n",
              "knownForTitles              tt0088247,tt0107362,tt0216216,tt0103064\n",
              "Name: 1639999, dtype: object"
            ]
          },
          "metadata": {},
          "execution_count": 10
        }
      ]
    },
    {
      "cell_type": "markdown",
      "metadata": {
        "id": "XTrPVBOPcj6x"
      },
      "source": [
        "## Similarity dla pary aktorów"
      ]
    },
    {
      "cell_type": "markdown",
      "source": [
        "Za pomocą metody `similarity` jesteśmy w stanie policzyć podobieństwo dwóch wybranych aktorów. Przed przystąpieniem do jego liczenia, trzeba najpierw zamienić dane o aktorach w pythonowe listy.\n"
      ],
      "metadata": {
        "id": "0F5f43JBExVF"
      }
    },
    {
      "cell_type": "code",
      "source": [
        "Sylvester_Stallone = prepare_pandas_row(Sylvester_Stallone)\n",
        "Arnold_schwarzenegger = prepare_pandas_row(Arnold_schwarzenegger)"
      ],
      "metadata": {
        "id": "NWuZkIrvABGX"
      },
      "execution_count": 11,
      "outputs": []
    },
    {
      "cell_type": "markdown",
      "source": [
        "Z gotowymi listami przystepujemy do liczenia podobieństwa pomiędzy aktorami."
      ],
      "metadata": {
        "id": "wrHUVLseBVN8"
      }
    },
    {
      "cell_type": "code",
      "source": [
        "print(f\"Podobieństwo pomiędzy {Sylvester_Stallone[10]} i {Arnold_schwarzenegger[10]} wynosi\\\n",
        " {round(similarity(Sylvester_Stallone, Arnold_schwarzenegger), 3)}.\")"
      ],
      "metadata": {
        "id": "qUvpMafm_XJ4",
        "outputId": "07c1f5a1-7112-4025-df5a-87f03ab4a95e",
        "colab": {
          "base_uri": "https://localhost:8080/"
        }
      },
      "execution_count": 12,
      "outputs": [
        {
          "output_type": "stream",
          "name": "stdout",
          "text": [
            "Podobieństwo pomiędzy Sylvester Stallone i Arnold Schwarzenegger wynosi -0.199.\n"
          ]
        }
      ]
    },
    {
      "cell_type": "markdown",
      "metadata": {
        "id": "D4e6KmuccnVl"
      },
      "source": [
        "## Szukanie najbardziej podobnych aktorów"
      ]
    },
    {
      "cell_type": "markdown",
      "source": [
        "Za pomocą metody `similarity_one_vs_all` liczymy podobieństwa pomiędzy jednym aktorem, a resztą aktorów z całego naszego zbioru danych. Najpierw znajdziemy $3$ aktorów najpodobniejszych do Sylvestera Stallone.\n"
      ],
      "metadata": {
        "id": "YexG1GN7Bdf-"
      }
    },
    {
      "cell_type": "markdown",
      "source": [
        "### Sylvester Stallone"
      ],
      "metadata": {
        "id": "QK1mN-IXXheI"
      }
    },
    {
      "cell_type": "code",
      "execution_count": 13,
      "metadata": {
        "id": "VFBGGA26Z-rF"
      },
      "outputs": [],
      "source": [
        "ids1, values1 = similarity_one_vs_all(data, Sylvester_Stallone)\n",
        "values1, ids1 = sort_two_lists(values1, ids1, reverse=True)"
      ]
    },
    {
      "cell_type": "code",
      "execution_count": 14,
      "metadata": {
        "id": "Jdmgf6ZtgEur",
        "outputId": "3ad62506-18d3-473e-de93-4d87281020b8",
        "colab": {
          "base_uri": "https://localhost:8080/"
        }
      },
      "outputs": [
        {
          "output_type": "stream",
          "name": "stdout",
          "text": [
            "Najbardziej podobnymi do Sylvester Stallone aktorami/aktorkami są w kolejności:\n",
            "  - Bruce Willis z similarity równym: -0.126\n",
            "  - Logan Marshall-Green z similarity równym: -0.131\n",
            "  - Matthew Yang King z similarity równym: -0.136\n"
          ]
        }
      ],
      "source": [
        "print_most_similiar_actors(data, Sylvester_Stallone, ids1, values1)"
      ]
    },
    {
      "cell_type": "markdown",
      "source": [
        "W podobny sposób co poprzednio, teraz będziemy szukać $3$ aktorów najpodobniejszych do Arnolda Schwarzeneggera, Jennifer Lawerence oraz Natalie Portman."
      ],
      "metadata": {
        "id": "n08a2E8iF_gJ"
      }
    },
    {
      "cell_type": "markdown",
      "source": [
        "### Arnold Schwarzenegger"
      ],
      "metadata": {
        "id": "Yn_QAiC4XVkX"
      }
    },
    {
      "cell_type": "code",
      "source": [
        "ids2, values2 = similarity_one_vs_all(data, Arnold_schwarzenegger)\n",
        "values2, ids2 = sort_two_lists(values2, ids2, reverse=True)"
      ],
      "metadata": {
        "id": "aPhgvTd7A4rz"
      },
      "execution_count": 15,
      "outputs": []
    },
    {
      "cell_type": "code",
      "source": [
        "print_most_similiar_actors(data, Arnold_schwarzenegger, ids2, values2)"
      ],
      "metadata": {
        "id": "5NUf_VYbA6iE",
        "outputId": "076a222d-c113-4bf3-f304-3dda03d7004c",
        "colab": {
          "base_uri": "https://localhost:8080/"
        }
      },
      "execution_count": 16,
      "outputs": [
        {
          "output_type": "stream",
          "name": "stdout",
          "text": [
            "Najbardziej podobnymi do Arnold Schwarzenegger aktorami/aktorkami są w kolejności:\n",
            "  - Bill Paxton z similarity równym: -0.105\n",
            "  - Jeff Goldblum z similarity równym: -0.106\n",
            "  - Michael Keaton z similarity równym: -0.107\n"
          ]
        }
      ]
    },
    {
      "cell_type": "markdown",
      "source": [
        "### Jennifer Lawrence"
      ],
      "metadata": {
        "id": "6hwhHHyWTLx0"
      }
    },
    {
      "cell_type": "code",
      "source": [
        "Jennifer_Lawrence = prepare_pandas_row(find_actor(data, 'nm2225369'))"
      ],
      "metadata": {
        "id": "e1Jnb3EdUA0Y"
      },
      "execution_count": 17,
      "outputs": []
    },
    {
      "cell_type": "code",
      "source": [
        "ids3, values3 = similarity_one_vs_all(data, Jennifer_Lawrence)\n",
        "values3, ids3 = sort_two_lists(values3, ids3, reverse=True)"
      ],
      "metadata": {
        "id": "3JpJncc3Tfy6"
      },
      "execution_count": 18,
      "outputs": []
    },
    {
      "cell_type": "code",
      "source": [
        "print_most_similiar_actors(data, Jennifer_Lawrence, ids3, values3)"
      ],
      "metadata": {
        "id": "ycxUWzL7UXGR",
        "outputId": "dd181f5f-5552-4430-90cd-59c0697cd2ed",
        "colab": {
          "base_uri": "https://localhost:8080/"
        }
      },
      "execution_count": 19,
      "outputs": [
        {
          "output_type": "stream",
          "name": "stdout",
          "text": [
            "Najbardziej podobnymi do Jennifer Lawrence aktorami/aktorkami są w kolejności:\n",
            "  - Isabel Martínez 'La Tarabilla' z similarity równym: -0.096\n",
            "  - Angel Aviles z similarity równym: -0.1\n",
            "  - Gogo Antzoletaki z similarity równym: -0.104\n"
          ]
        }
      ]
    },
    {
      "cell_type": "markdown",
      "source": [
        "### Natalie Portman"
      ],
      "metadata": {
        "id": "hUyIyx3TTZwE"
      }
    },
    {
      "cell_type": "code",
      "source": [
        "Natalie_Portman = prepare_pandas_row(find_actor(data, 'nm0000204'))"
      ],
      "metadata": {
        "id": "_OlAibcmUN7N"
      },
      "execution_count": 20,
      "outputs": []
    },
    {
      "cell_type": "code",
      "source": [
        "ids4, values4 = similarity_one_vs_all(data, Natalie_Portman)\n",
        "values4, ids4 = sort_two_lists(values4, ids4, reverse=True)"
      ],
      "metadata": {
        "id": "_vyN2BWdTZJE"
      },
      "execution_count": 21,
      "outputs": []
    },
    {
      "cell_type": "code",
      "source": [
        "print_most_similiar_actors(data, Natalie_Portman, ids4, values4)"
      ],
      "metadata": {
        "id": "wpCQlV_lUXjH",
        "outputId": "ac0ffabf-8971-498d-d9b8-bb9d1684ba36",
        "colab": {
          "base_uri": "https://localhost:8080/"
        }
      },
      "execution_count": 22,
      "outputs": [
        {
          "output_type": "stream",
          "name": "stdout",
          "text": [
            "Najbardziej podobnymi do Natalie Portman aktorami/aktorkami są w kolejności:\n",
            "  - Heeba Shah z similarity równym: -0.129\n",
            "  - Aleksa Palladino z similarity równym: -0.13\n",
            "  - Madison Fitts z similarity równym: -0.131\n"
          ]
        }
      ]
    }
  ],
  "metadata": {
    "colab": {
      "provenance": [],
      "include_colab_link": true
    },
    "gpuClass": "standard",
    "kernelspec": {
      "display_name": "Python 3",
      "language": "python",
      "name": "python3"
    },
    "language_info": {
      "codemirror_mode": {
        "name": "ipython",
        "version": 3
      },
      "file_extension": ".py",
      "mimetype": "text/x-python",
      "name": "python",
      "nbconvert_exporter": "python",
      "pygments_lexer": "ipython3",
      "version": "3.11.0"
    },
    "vscode": {
      "interpreter": {
        "hash": "a995ee2689a86f51e9b6c8d486f5f37602c71c091cf2c9f4f00a2719ed505f52"
      }
    }
  },
  "nbformat": 4,
  "nbformat_minor": 0
}