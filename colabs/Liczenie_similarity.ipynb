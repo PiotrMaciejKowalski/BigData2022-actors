{
  "cells": [
    {
      "cell_type": "markdown",
      "metadata": {
        "colab_type": "text",
        "id": "view-in-github"
      },
      "source": [
        "<a href=\"https://colab.research.google.com/github/PiotrMaciejKowalski/BigData2022-actors/blob/Policzenie-pierwszych-similarity/colabs/Liczenie_similarity.ipynb\" target=\"_parent\"><img src=\"https://colab.research.google.com/assets/colab-badge.svg\" alt=\"Open In Colab\"/></a>"
      ]
    },
    {
      "cell_type": "markdown",
      "metadata": {
        "id": "-Q2R3HB0nBvO"
      },
      "source": [
        "# Przygotowanie notatnika"
      ]
    },
    {
      "cell_type": "code",
      "execution_count": 1,
      "metadata": {
        "colab": {
          "base_uri": "https://localhost:8080/"
        },
        "id": "V8-nE3oH58P6",
        "outputId": "4e2994b3-558b-4de7-b391-53ad9df15f41"
      },
      "outputs": [
        {
          "ename": "ModuleNotFoundError",
          "evalue": "No module named 'google'",
          "output_type": "error",
          "traceback": [
            "\u001b[1;31m---------------------------------------------------------------------------\u001b[0m",
            "\u001b[1;31mModuleNotFoundError\u001b[0m                       Traceback (most recent call last)",
            "Cell \u001b[1;32mIn[1], line 1\u001b[0m\n\u001b[1;32m----> 1\u001b[0m \u001b[39mfrom\u001b[39;00m \u001b[39mgoogle\u001b[39;00m\u001b[39m.\u001b[39;00m\u001b[39mcolab\u001b[39;00m \u001b[39mimport\u001b[39;00m drive\n\u001b[0;32m      2\u001b[0m drive\u001b[39m.\u001b[39mmount(\u001b[39m'\u001b[39m\u001b[39m/content/gdrive\u001b[39m\u001b[39m'\u001b[39m)\n\u001b[0;32m      3\u001b[0m \u001b[39mimport\u001b[39;00m \u001b[39mpandas\u001b[39;00m \u001b[39mas\u001b[39;00m \u001b[39mpd\u001b[39;00m\n",
            "\u001b[1;31mModuleNotFoundError\u001b[0m: No module named 'google'"
          ]
        }
      ],
      "source": [
        "from google.colab import drive\n",
        "drive.mount('/content/gdrive')\n",
        "import pandas as pd"
      ]
    },
    {
      "cell_type": "code",
      "execution_count": null,
      "metadata": {
        "colab": {
          "base_uri": "https://localhost:8080/"
        },
        "id": "CJDl9hKq623W",
        "outputId": "d25a635f-8d55-4664-eb91-7c56988a6258"
      },
      "outputs": [
        {
          "name": "stdout",
          "output_type": "stream",
          "text": [
            "Cloning into 'BigData2022-actors'...\n",
            "remote: Enumerating objects: 1128, done.\u001b[K\n",
            "remote: Counting objects: 100% (626/626), done.\u001b[K\n",
            "remote: Compressing objects: 100% (349/349), done.\u001b[K\n",
            "remote: Total 1128 (delta 388), reused 415 (delta 274), pack-reused 502\u001b[K\n",
            "Receiving objects: 100% (1128/1128), 5.87 MiB | 25.04 MiB/s, done.\n",
            "Resolving deltas: 100% (615/615), done.\n",
            "mv: cannot move '/content/BigData2022-actors/.' to './.': Device or resource busy\n",
            "mv: cannot move '/content/BigData2022-actors/..' to './..': Device or resource busy\n"
          ]
        }
      ],
      "source": [
        "!git clone https://github.com/PiotrMaciejKowalski/BigData2022-actors.git\n",
        "!mv /content/BigData2022-actors/* .\n",
        "!mv /content/BigData2022-actors/.* .\n",
        "!rmdir /content/BigData2022-actors/"
      ]
    },
    {
      "cell_type": "markdown",
      "metadata": {
        "id": "0x5DISomqmKS"
      },
      "source": [
        "## Załadowanie danych z pliku o rozszerzeniu .parquet"
      ]
    },
    {
      "cell_type": "code",
      "execution_count": null,
      "metadata": {
        "id": "9inUPaAjraSd"
      },
      "outputs": [],
      "source": [
        "from lib.const import JOINED_DATA, DATA_WITH_AWARDS"
      ]
    },
    {
      "cell_type": "markdown",
      "metadata": {
        "id": "893peJwWw3bl"
      },
      "source": [
        "W poradniku \"Tworzenie skrotu do GDrive\" w folderze tutorials jest poradnik jak sprawić żeby poniższa lokalizacja się poprawnie ładowała.\n"
      ]
    },
    {
      "cell_type": "code",
      "execution_count": null,
      "metadata": {
        "id": "Hysa2iYFXe3J"
      },
      "outputs": [],
      "source": [
        "data = pd.read_parquet(JOINED_DATA)\n",
        "# TODO przepiąć się na nowszy plik gdy będzie on już zapisany na dysku"
      ]
    },
    {
      "cell_type": "markdown",
      "metadata": {
        "id": "Uclt0mcPutkX"
      },
      "source": [
        "# Liczenie similarity"
      ]
    },
    {
      "cell_type": "code",
      "execution_count": null,
      "metadata": {
        "id": "Zn5ahfDajaiH"
      },
      "outputs": [],
      "source": [
        "from lib.similarity_utils import *"
      ]
    },
    {
      "cell_type": "markdown",
      "metadata": {
        "id": "yXsnR3jzeB_D"
      },
      "source": [
        "## Wyświetlenie danych na których pracujemy na przykładzie Julii Louis-Dreyfus"
      ]
    },
    {
      "cell_type": "code",
      "execution_count": null,
      "metadata": {
        "id": "xADwyr_QD_tC"
      },
      "outputs": [],
      "source": [
        "Julia_Louis_Dreyfus = data[data['primaryName']==\"Julia Louis-Dreyfus\"]"
      ]
    },
    {
      "cell_type": "code",
      "execution_count": null,
      "metadata": {
        "id": "tmtaopVnAfUp"
      },
      "outputs": [],
      "source": [
        "index = Julia_Louis_Dreyfus.index"
      ]
    },
    {
      "cell_type": "code",
      "execution_count": null,
      "metadata": {
        "colab": {
          "base_uri": "https://localhost:8080/",
          "height": 211
        },
        "id": "4L8zYP5Rh_QB",
        "outputId": "7e6ca4e9-e526-4239-b279-2ca2b4b46958"
      },
      "outputs": [
        {
          "data": {
            "text/html": [
              "\n",
              "  <div id=\"df-9e167dbe-01c0-4951-ae57-b42f1c5d90df\">\n",
              "    <div class=\"colab-df-container\">\n",
              "      <div>\n",
              "<style scoped>\n",
              "    .dataframe tbody tr th:only-of-type {\n",
              "        vertical-align: middle;\n",
              "    }\n",
              "\n",
              "    .dataframe tbody tr th {\n",
              "        vertical-align: top;\n",
              "    }\n",
              "\n",
              "    .dataframe thead th {\n",
              "        text-align: right;\n",
              "    }\n",
              "</style>\n",
              "<table border=\"1\" class=\"dataframe\">\n",
              "  <thead>\n",
              "    <tr style=\"text-align: right;\">\n",
              "      <th></th>\n",
              "      <th>nconst</th>\n",
              "      <th>tconst</th>\n",
              "      <th>titleType</th>\n",
              "      <th>originalTitle</th>\n",
              "      <th>isAdult</th>\n",
              "      <th>startYear</th>\n",
              "      <th>endYear</th>\n",
              "      <th>genres</th>\n",
              "      <th>category</th>\n",
              "      <th>characters</th>\n",
              "      <th>primaryName</th>\n",
              "      <th>knownForTitles</th>\n",
              "    </tr>\n",
              "  </thead>\n",
              "  <tbody>\n",
              "    <tr>\n",
              "      <th>1454708</th>\n",
              "      <td>nm0000506</td>\n",
              "      <td>[tt0462128, tt0697654, tt0697660, tt0697689, t...</td>\n",
              "      <td>[tvSeries, tvEpisode, tvEpisode, tvEpisode, tv...</td>\n",
              "      <td>[The New Adventures of Old Christine, The Bear...</td>\n",
              "      <td>[0, 0, 0, 0, 0, 0, 0, 0, 0, 0, 0, 0, 0, 0, 0, ...</td>\n",
              "      <td>1986</td>\n",
              "      <td>\\N</td>\n",
              "      <td>[Comedy, Comedy, Comedy, Comedy, Comedy, Comed...</td>\n",
              "      <td>actress</td>\n",
              "      <td>[[\"Christine Campbell\"], [\"Elaine Benes\"], [\"E...</td>\n",
              "      <td>Julia Louis-Dreyfus</td>\n",
              "      <td>tt0462128,tt2390361,tt0098904,tt1759761</td>\n",
              "    </tr>\n",
              "  </tbody>\n",
              "</table>\n",
              "</div>\n",
              "      <button class=\"colab-df-convert\" onclick=\"convertToInteractive('df-9e167dbe-01c0-4951-ae57-b42f1c5d90df')\"\n",
              "              title=\"Convert this dataframe to an interactive table.\"\n",
              "              style=\"display:none;\">\n",
              "        \n",
              "  <svg xmlns=\"http://www.w3.org/2000/svg\" height=\"24px\"viewBox=\"0 0 24 24\"\n",
              "       width=\"24px\">\n",
              "    <path d=\"M0 0h24v24H0V0z\" fill=\"none\"/>\n",
              "    <path d=\"M18.56 5.44l.94 2.06.94-2.06 2.06-.94-2.06-.94-.94-2.06-.94 2.06-2.06.94zm-11 1L8.5 8.5l.94-2.06 2.06-.94-2.06-.94L8.5 2.5l-.94 2.06-2.06.94zm10 10l.94 2.06.94-2.06 2.06-.94-2.06-.94-.94-2.06-.94 2.06-2.06.94z\"/><path d=\"M17.41 7.96l-1.37-1.37c-.4-.4-.92-.59-1.43-.59-.52 0-1.04.2-1.43.59L10.3 9.45l-7.72 7.72c-.78.78-.78 2.05 0 2.83L4 21.41c.39.39.9.59 1.41.59.51 0 1.02-.2 1.41-.59l7.78-7.78 2.81-2.81c.8-.78.8-2.07 0-2.86zM5.41 20L4 18.59l7.72-7.72 1.47 1.35L5.41 20z\"/>\n",
              "  </svg>\n",
              "      </button>\n",
              "      \n",
              "  <style>\n",
              "    .colab-df-container {\n",
              "      display:flex;\n",
              "      flex-wrap:wrap;\n",
              "      gap: 12px;\n",
              "    }\n",
              "\n",
              "    .colab-df-convert {\n",
              "      background-color: #E8F0FE;\n",
              "      border: none;\n",
              "      border-radius: 50%;\n",
              "      cursor: pointer;\n",
              "      display: none;\n",
              "      fill: #1967D2;\n",
              "      height: 32px;\n",
              "      padding: 0 0 0 0;\n",
              "      width: 32px;\n",
              "    }\n",
              "\n",
              "    .colab-df-convert:hover {\n",
              "      background-color: #E2EBFA;\n",
              "      box-shadow: 0px 1px 2px rgba(60, 64, 67, 0.3), 0px 1px 3px 1px rgba(60, 64, 67, 0.15);\n",
              "      fill: #174EA6;\n",
              "    }\n",
              "\n",
              "    [theme=dark] .colab-df-convert {\n",
              "      background-color: #3B4455;\n",
              "      fill: #D2E3FC;\n",
              "    }\n",
              "\n",
              "    [theme=dark] .colab-df-convert:hover {\n",
              "      background-color: #434B5C;\n",
              "      box-shadow: 0px 1px 3px 1px rgba(0, 0, 0, 0.15);\n",
              "      filter: drop-shadow(0px 1px 2px rgba(0, 0, 0, 0.3));\n",
              "      fill: #FFFFFF;\n",
              "    }\n",
              "  </style>\n",
              "\n",
              "      <script>\n",
              "        const buttonEl =\n",
              "          document.querySelector('#df-9e167dbe-01c0-4951-ae57-b42f1c5d90df button.colab-df-convert');\n",
              "        buttonEl.style.display =\n",
              "          google.colab.kernel.accessAllowed ? 'block' : 'none';\n",
              "\n",
              "        async function convertToInteractive(key) {\n",
              "          const element = document.querySelector('#df-9e167dbe-01c0-4951-ae57-b42f1c5d90df');\n",
              "          const dataTable =\n",
              "            await google.colab.kernel.invokeFunction('convertToInteractive',\n",
              "                                                     [key], {});\n",
              "          if (!dataTable) return;\n",
              "\n",
              "          const docLinkHtml = 'Like what you see? Visit the ' +\n",
              "            '<a target=\"_blank\" href=https://colab.research.google.com/notebooks/data_table.ipynb>data table notebook</a>'\n",
              "            + ' to learn more about interactive tables.';\n",
              "          element.innerHTML = '';\n",
              "          dataTable['output_type'] = 'display_data';\n",
              "          await google.colab.output.renderOutput(dataTable, element);\n",
              "          const docLink = document.createElement('div');\n",
              "          docLink.innerHTML = docLinkHtml;\n",
              "          element.appendChild(docLink);\n",
              "        }\n",
              "      </script>\n",
              "    </div>\n",
              "  </div>\n",
              "  "
            ],
            "text/plain": [
              "            nconst                                             tconst  \\\n",
              "1454708  nm0000506  [tt0462128, tt0697654, tt0697660, tt0697689, t...   \n",
              "\n",
              "                                                 titleType  \\\n",
              "1454708  [tvSeries, tvEpisode, tvEpisode, tvEpisode, tv...   \n",
              "\n",
              "                                             originalTitle  \\\n",
              "1454708  [The New Adventures of Old Christine, The Bear...   \n",
              "\n",
              "                                                   isAdult startYear endYear  \\\n",
              "1454708  [0, 0, 0, 0, 0, 0, 0, 0, 0, 0, 0, 0, 0, 0, 0, ...      1986      \\N   \n",
              "\n",
              "                                                    genres category  \\\n",
              "1454708  [Comedy, Comedy, Comedy, Comedy, Comedy, Comed...  actress   \n",
              "\n",
              "                                                characters  \\\n",
              "1454708  [[\"Christine Campbell\"], [\"Elaine Benes\"], [\"E...   \n",
              "\n",
              "                 primaryName                           knownForTitles  \n",
              "1454708  Julia Louis-Dreyfus  tt0462128,tt2390361,tt0098904,tt1759761  "
            ]
          },
          "execution_count": 8,
          "metadata": {},
          "output_type": "execute_result"
        }
      ],
      "source": [
        "data.iloc[index]"
      ]
    },
    {
      "cell_type": "markdown",
      "metadata": {
        "id": "ey0UW9s0uwWD"
      },
      "source": [
        "## Definicja metody liczącej similarity"
      ]
    },
    {
      "cell_type": "code",
      "execution_count": null,
      "metadata": {
        "id": "q0-wWMtWXwGq"
      },
      "outputs": [],
      "source": [
        "def prepare_pandas_row(pandas_row: pd.DataFrame) -> List:\n",
        "  p_list = []\n",
        "  for value in pandas_row:\n",
        "    try:\n",
        "      p_list.append(value.tolist())\n",
        "    except AttributeError:\n",
        "      p_list.append(value)\n",
        "  return p_list"
      ]
    },
    {
      "cell_type": "code",
      "execution_count": null,
      "metadata": {
        "id": "0YNNS4ePYuIe"
      },
      "outputs": [],
      "source": [
        "def similarity(actor1: List[Any], actor2: List[Any]) -> float:\n",
        "  \"\"\"metoda licząca similarity pomiędzy dwoma aktorami\n",
        "  jej argumentami są dwie listy, a wartością wyjściową wartość z przedziału [-1, 1]\n",
        "  metoda jest przygotowana pod dane ze zbioru JOINED_DATA\"\"\"\n",
        "  if actor1[0] == actor2[0]:\n",
        "    return -1\n",
        "  else:\n",
        "    weights = [0.6, 0.2, 0.2]\n",
        "    values = [\n",
        "        iou(actor1[1], actor2[1]),      # similarty ze względu na ilość wspólnych filmów\n",
        "        iou(actor1[2], actor2[2]),      # similarity ze względu na rodzaj granych produkcji\n",
        "        iou(actor1[7], actor2[7])       # similarity ze względu na gatunek granych produkcji\n",
        "    ]\n",
        "    # print(actor1[1])\n",
        "    # print(actor2[1])\n",
        "    no_of_columns = 3\n",
        "    return sum(weights[i] * values[i] for i in range(no_of_columns)) * 2 - 1"
      ]
    },
    {
      "cell_type": "code",
      "execution_count": null,
      "metadata": {
        "id": "-PX3HggvB0GB"
      },
      "outputs": [],
      "source": [
        "def similarity_1_vs_all(data: pd.DataFrame, main_actor: List[Any]) -> tuple[List[str], List[float]]:\n",
        "  ids = []\n",
        "  similarities = []\n",
        "  for i in range(len(data)):\n",
        "    actor = prepare_pandas_row(data.loc[i].values.tolist())\n",
        "    ids.append(actor[0])\n",
        "    similarities.append(similarity(main_actor, actor[0:]))\n",
        "  return ids, similarities"
      ]
    },
    {
      "cell_type": "code",
      "execution_count": null,
      "metadata": {
        "id": "Iqw2ksXpgu2x"
      },
      "outputs": [],
      "source": [
        "def sort_two_lists(list1: List[float], list2: List[Any], reverse=True) -> tuple[List[float], List[Any]]:\n",
        "  \"\"\"sorts two lists\n",
        "  reverse = True means descending order, while reverse = False means acending order\n",
        "  list2 is modified by following the sorting done on list1\"\"\"\n",
        "  zipped_lists = zip(list1, list2)\n",
        "  list1, list2 = zip(*sorted(zipped_lists, reverse=reverse))\n",
        "  return list1, list2"
      ]
    },
    {
      "cell_type": "markdown",
      "metadata": {
        "id": "riisEZzzWMq6"
      },
      "source": [
        "## Liczenie similarity"
      ]
    },
    {
      "cell_type": "markdown",
      "metadata": {
        "id": "XTrPVBOPcj6x"
      },
      "source": [
        "### Dla dwóch wybranych aktorów"
      ]
    },
    {
      "cell_type": "code",
      "execution_count": null,
      "metadata": {
        "id": "8DcCSHQb7c95"
      },
      "outputs": [],
      "source": [
        "actor1 = prepare_pandas_row(data.loc[1].values.tolist())\n",
        "actor2 = prepare_pandas_row(data.loc[2].values.tolist())"
      ]
    },
    {
      "cell_type": "code",
      "execution_count": null,
      "metadata": {
        "colab": {
          "base_uri": "https://localhost:8080/"
        },
        "id": "tZhWkXrPZGVc",
        "outputId": "32e820a7-4601-4ac0-a086-fbbd2ca6034f"
      },
      "outputs": [
        {
          "name": "stdout",
          "output_type": "stream",
          "text": [
            "similarity dla Bette Davis i Judy Garland: -0.763967363590005\n"
          ]
        }
      ],
      "source": [
        "print(f\"similarity dla {actor1[10]} i {actor2[10]}: {similarity(actor1, actor2)}\")"
      ]
    },
    {
      "cell_type": "code",
      "execution_count": null,
      "metadata": {
        "colab": {
          "base_uri": "https://localhost:8080/"
        },
        "id": "rq8wMHcsctDE",
        "outputId": "e8f7c175-358e-4bfa-aa4b-f3679c1e35bf"
      },
      "outputs": [
        {
          "name": "stdout",
          "output_type": "stream",
          "text": [
            "similarity dla Bette Davis i Bette Davis: -1\n"
          ]
        }
      ],
      "source": [
        "print(f\"similarity dla {actor1[10]} i {actor1[10]}: {similarity(actor1, actor1)}\")"
      ]
    },
    {
      "cell_type": "markdown",
      "metadata": {
        "id": "D4e6KmuccnVl"
      },
      "source": [
        "### Szukanie najbardziej podobnych aktorów"
      ]
    },
    {
      "cell_type": "code",
      "execution_count": null,
      "metadata": {
        "colab": {
          "base_uri": "https://localhost:8080/"
        },
        "id": "VFBGGA26Z-rF",
        "outputId": "27c57750-06a3-41ac-e36c-5cef0734f779"
      },
      "outputs": [
        {
          "name": "stdout",
          "output_type": "stream",
          "text": [
            "CPU times: user 3min 24s, sys: 628 ms, total: 3min 25s\n",
            "Wall time: 3min 26s\n"
          ]
        }
      ],
      "source": [
        "%%time\n",
        "ids, values = similarity_1_vs_all(data, actor1)"
      ]
    },
    {
      "cell_type": "code",
      "execution_count": null,
      "metadata": {
        "id": "Jdmgf6ZtgEur"
      },
      "outputs": [],
      "source": [
        "values, ids = sort_two_lists(values, ids, reverse=True)"
      ]
    },
    {
      "cell_type": "code",
      "execution_count": null,
      "metadata": {
        "colab": {
          "base_uri": "https://localhost:8080/"
        },
        "id": "fvIACkeziKr9",
        "outputId": "676046ce-d74e-4e62-ece0-49ae46837a8c"
      },
      "outputs": [
        {
          "name": "stdout",
          "output_type": "stream",
          "text": [
            "(-0.48571428571428565, -0.5017543859649123, -0.5018867924528302, -0.504, -0.5083333333333333, -0.5111111111111111, -0.5118644067796609, -0.512, -0.512, -0.512)\n",
            "('nm0807252', 'nm0000254', 'nm0000569', 'nm0004133', 'nm2056274', 'nm1670494', 'nm0000047', 'nm0220016', 'nm0219099', 'nm0001735')\n"
          ]
        }
      ],
      "source": [
        "print(values[:5])\n",
        "print(ids[:5])"
      ]
    }
  ],
  "metadata": {
    "colab": {
      "include_colab_link": true,
      "provenance": []
    },
    "gpuClass": "standard",
    "kernelspec": {
      "display_name": "Python 3",
      "language": "python",
      "name": "python3"
    },
    "language_info": {
      "codemirror_mode": {
        "name": "ipython",
        "version": 3
      },
      "file_extension": ".py",
      "mimetype": "text/x-python",
      "name": "python",
      "nbconvert_exporter": "python",
      "pygments_lexer": "ipython3",
      "version": "3.11.0 (main, Oct 24 2022, 18:26:48) [MSC v.1933 64 bit (AMD64)]"
    },
    "vscode": {
      "interpreter": {
        "hash": "a995ee2689a86f51e9b6c8d486f5f37602c71c091cf2c9f4f00a2719ed505f52"
      }
    }
  },
  "nbformat": 4,
  "nbformat_minor": 0
}
