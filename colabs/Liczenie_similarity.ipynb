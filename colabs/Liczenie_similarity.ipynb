{
  "cells": [
    {
      "cell_type": "markdown",
      "metadata": {
        "id": "view-in-github",
        "colab_type": "text"
      },
      "source": [
        "<a href=\"https://colab.research.google.com/github/PiotrMaciejKowalski/BigData2022-actors/blob/Policzenie-pierwszych-similarity/colabs/Liczenie_similarity.ipynb\" target=\"_parent\"><img src=\"https://colab.research.google.com/assets/colab-badge.svg\" alt=\"Open In Colab\"/></a>"
      ]
    },
    {
      "cell_type": "markdown",
      "metadata": {
        "id": "-Q2R3HB0nBvO"
      },
      "source": [
        "# Przygotowanie notatnika"
      ]
    },
    {
      "cell_type": "code",
      "execution_count": 1,
      "metadata": {
        "colab": {
          "base_uri": "https://localhost:8080/"
        },
        "id": "V8-nE3oH58P6",
        "outputId": "82f0692f-1d59-469f-e867-3acac96c4654"
      },
      "outputs": [
        {
          "output_type": "stream",
          "name": "stdout",
          "text": [
            "Mounted at /content/gdrive\n"
          ]
        }
      ],
      "source": [
        "from google.colab import drive\n",
        "drive.mount('/content/gdrive')\n",
        "import pandas as pd"
      ]
    },
    {
      "cell_type": "code",
      "execution_count": 2,
      "metadata": {
        "colab": {
          "base_uri": "https://localhost:8080/"
        },
        "id": "CJDl9hKq623W",
        "outputId": "8f25349b-a70e-4905-98d8-d513be4747fa"
      },
      "outputs": [
        {
          "output_type": "stream",
          "name": "stdout",
          "text": [
            "Cloning into 'BigData2022-actors'...\n",
            "remote: Enumerating objects: 1204, done.\u001b[K\n",
            "remote: Counting objects: 100% (423/423), done.\u001b[K\n",
            "remote: Compressing objects: 100% (188/188), done.\u001b[K\n",
            "remote: Total 1204 (delta 334), reused 250 (delta 235), pack-reused 781\u001b[K\n",
            "Receiving objects: 100% (1204/1204), 5.88 MiB | 23.72 MiB/s, done.\n",
            "Resolving deltas: 100% (682/682), done.\n",
            "mv: cannot move '/content/BigData2022-actors/.' to './.': Device or resource busy\n",
            "mv: cannot move '/content/BigData2022-actors/..' to './..': Device or resource busy\n"
          ]
        }
      ],
      "source": [
        "!git clone https://github.com/PiotrMaciejKowalski/BigData2022-actors.git\n",
        "!mv /content/BigData2022-actors/* .\n",
        "!mv /content/BigData2022-actors/.* .\n",
        "!rmdir /content/BigData2022-actors/"
      ]
    },
    {
      "cell_type": "code",
      "source": [
        "!git checkout Policzenie-pierwszych-similarity\n",
        "#TODO usunąć tego checkouta gdy dojdzie do mergowania brancha do maina"
      ],
      "metadata": {
        "id": "YB81hSoHs3Qy",
        "outputId": "6607f219-715a-456c-c350-f1184e03eaa7",
        "colab": {
          "base_uri": "https://localhost:8080/"
        }
      },
      "execution_count": 3,
      "outputs": [
        {
          "output_type": "stream",
          "name": "stdout",
          "text": [
            "Branch 'Policzenie-pierwszych-similarity' set up to track remote branch 'Policzenie-pierwszych-similarity' from 'origin'.\n",
            "Switched to a new branch 'Policzenie-pierwszych-similarity'\n"
          ]
        }
      ]
    },
    {
      "cell_type": "markdown",
      "metadata": {
        "id": "0x5DISomqmKS"
      },
      "source": [
        "## Załadowanie danych z pliku o rozszerzeniu .parquet"
      ]
    },
    {
      "cell_type": "code",
      "execution_count": 4,
      "metadata": {
        "id": "9inUPaAjraSd"
      },
      "outputs": [],
      "source": [
        "from lib.const import JOINED_DATA, DATA_WITH_AWARDS"
      ]
    },
    {
      "cell_type": "markdown",
      "metadata": {
        "id": "893peJwWw3bl"
      },
      "source": [
        "W poradniku \"Tworzenie skrotu do GDrive\" w folderze tutorials jest poradnik jak sprawić żeby poniższa lokalizacja się poprawnie ładowała.\n"
      ]
    },
    {
      "cell_type": "code",
      "execution_count": 5,
      "metadata": {
        "id": "Hysa2iYFXe3J"
      },
      "outputs": [],
      "source": [
        "data = pd.read_parquet(JOINED_DATA)\n",
        "# TODO przepiąć się na nowszy plik gdy będzie on już zapisany na dysku"
      ]
    },
    {
      "cell_type": "markdown",
      "metadata": {
        "id": "riisEZzzWMq6"
      },
      "source": [
        "# Liczenie similarity"
      ]
    },
    {
      "cell_type": "code",
      "source": [
        "from lib.similarity_utils import *"
      ],
      "metadata": {
        "id": "t2HaCiJStPkc"
      },
      "execution_count": 6,
      "outputs": []
    },
    {
      "cell_type": "markdown",
      "metadata": {
        "id": "yXsnR3jzeB_D"
      },
      "source": [
        "## Szukanie aktorów na przykładzie Sylvestera Stallone i Arnolda Schwarzeneggera"
      ]
    },
    {
      "cell_type": "markdown",
      "source": [
        "Za pomocą zdefiniowanych metod jesteśmy w stanie odnaleźć wskazanego aktora w bazie danych na podstawie strony [IMDB](https://www.imdb.com/?ref_=nv_home). Wystarczy odnaleźć na stronie wybranego przez siebie aktora, a następnie z linku skopiować jego id. Id aktora składa się kolejno z liter \"nm\", a następnie $6$ lub $7$ cyfr. Przykładowe id aktora znajduje się w kodzie poniżej."
      ],
      "metadata": {
        "id": "f263vqTtB7y-"
      }
    },
    {
      "cell_type": "code",
      "source": [
        "Sylvester_Stallone = find_actor(data, 'nm0000230')"
      ],
      "metadata": {
        "id": "4W0oLPSTEjSZ"
      },
      "execution_count": 7,
      "outputs": []
    },
    {
      "cell_type": "code",
      "execution_count": 8,
      "metadata": {
        "colab": {
          "base_uri": "https://localhost:8080/"
        },
        "id": "4L8zYP5Rh_QB",
        "outputId": "22f7c8e6-f1a7-45ce-df8e-ea705226e200"
      },
      "outputs": [
        {
          "output_type": "execute_result",
          "data": {
            "text/plain": [
              "nconst                                                    nm0000230\n",
              "tconst            [tt0083284, tt0132245, tt0160184, tt1308729, t...\n",
              "titleType         [movie, movie, movie, movie, tvEpisode, tvEpis...\n",
              "originalTitle     [Victory, Driven, D-Tox, Bullet to the Head, C...\n",
              "isAdult           [0, 0, 0, 0, 0, 0, 0, 0, 0, 0, 1, 0, 0, 0, 0, ...\n",
              "startYear                                                      1969\n",
              "endYear                                                          \\N\n",
              "genres            [Drama,Sport,War, Action,Drama,Sport, Crime,Th...\n",
              "category                                                      actor\n",
              "characters        [[\"The Players: U.S.A. - Capt. Robert Hatch\"],...\n",
              "primaryName                                      Sylvester Stallone\n",
              "knownForTitles              tt0075148,tt3076658,tt0089927,tt0084602\n",
              "Name: 1949571, dtype: object"
            ]
          },
          "metadata": {},
          "execution_count": 8
        }
      ],
      "source": [
        "Sylvester_Stallone"
      ]
    },
    {
      "cell_type": "code",
      "source": [
        "Arnold_schwarzenegger = find_actor(data, 'nm0000216')"
      ],
      "metadata": {
        "id": "lzdRQoNi8nvf"
      },
      "execution_count": 9,
      "outputs": []
    },
    {
      "cell_type": "code",
      "source": [
        "Arnold_schwarzenegger"
      ],
      "metadata": {
        "id": "QZLYReYt8xV3",
        "outputId": "3397b83f-3d69-4ef9-9b0d-f96b319ad5b8",
        "colab": {
          "base_uri": "https://localhost:8080/"
        }
      },
      "execution_count": 10,
      "outputs": [
        {
          "output_type": "execute_result",
          "data": {
            "text/plain": [
              "nconst                                                    nm0000216\n",
              "tconst            [tt0233469, tt0364056, tt0711516, tt15739442, ...\n",
              "titleType         [movie, videoGame, tvEpisode, video, tvEpisode...\n",
              "originalTitle     [Collateral Damage, Terminator 3: Rise of the ...\n",
              "isAdult           [0, 0, 0, 0, 0, 0, 0, 0, 0, 0, 0, 0, 0, 0, 0, ...\n",
              "startYear                                                      1970\n",
              "endYear                                                          \\N\n",
              "genres            [Action,Drama,Thriller, Action,Adventure,Sci-F...\n",
              "category                                                      actor\n",
              "characters        [[\"Gordy Brewer\"], [\"The Terminator\"], [\"Josef...\n",
              "primaryName                                   Arnold Schwarzenegger\n",
              "knownForTitles              tt0088247,tt0107362,tt0216216,tt0103064\n",
              "Name: 1639999, dtype: object"
            ]
          },
          "metadata": {},
          "execution_count": 10
        }
      ]
    },
    {
      "cell_type": "markdown",
      "metadata": {
        "id": "XTrPVBOPcj6x"
      },
      "source": [
        "## Similarity dla pary aktorów"
      ]
    },
    {
      "cell_type": "markdown",
      "source": [
        "Za pomocą metody `similarity` jesteśmy w stanie policzyć podobieństwo dwóch wybranych aktorów. Przed przystąpieniem do jego liczenia, trzeba najpierw zamienić dane o aktorach w pythonowe listy.\n"
      ],
      "metadata": {
        "id": "0F5f43JBExVF"
      }
    },
    {
      "cell_type": "code",
      "source": [
        "Sylvester_Stallone = prepare_pandas_row(Sylvester_Stallone)\n",
        "Arnold_schwarzenegger = prepare_pandas_row(Arnold_schwarzenegger)"
      ],
      "metadata": {
        "id": "NWuZkIrvABGX"
      },
      "execution_count": 11,
      "outputs": []
    },
    {
      "cell_type": "markdown",
      "source": [
        "Z gotowymi listami przystepujemy do liczenia podobieństwa pomiędzy aktorami."
      ],
      "metadata": {
        "id": "wrHUVLseBVN8"
      }
    },
    {
      "cell_type": "code",
      "source": [
        "print(f\"Podobieństwo pomiędzy {Sylvester_Stallone[10]} i {Arnold_schwarzenegger[10]} wynosi\\\n",
        " {round(similarity(Sylvester_Stallone, Arnold_schwarzenegger), 3)}.\")"
      ],
      "metadata": {
        "id": "qUvpMafm_XJ4",
        "outputId": "5b811177-c012-45db-c392-5486ec2676ce",
        "colab": {
          "base_uri": "https://localhost:8080/"
        }
      },
      "execution_count": 12,
      "outputs": [
        {
          "output_type": "stream",
          "name": "stdout",
          "text": [
            "Podobieństwo pomiędzy Sylvester Stallone i Arnold Schwarzenegger wynosi -0.151.\n"
          ]
        }
      ]
    },
    {
      "cell_type": "markdown",
      "metadata": {
        "id": "D4e6KmuccnVl"
      },
      "source": [
        "## Szukanie najbardziej podobnych aktorów"
      ]
    },
    {
      "cell_type": "markdown",
      "source": [
        "Za pomocą metody `similarity_one_vs_all` liczymy podobieństwa pomiędzy jednym aktorem, a resztą aktorów z całego naszego zbioru danych. Najpierw znajdziemy $3$ aktorów najpodobniejszych do Sylvestera Stallone.\n"
      ],
      "metadata": {
        "id": "YexG1GN7Bdf-"
      }
    },
    {
      "cell_type": "markdown",
      "source": [
        "### Sylvester Stallone"
      ],
      "metadata": {
        "id": "QK1mN-IXXheI"
      }
    },
    {
      "cell_type": "code",
      "execution_count": 13,
      "metadata": {
        "id": "VFBGGA26Z-rF"
      },
      "outputs": [],
      "source": [
        "ids1, values1 = similarity_one_vs_all(data, Sylvester_Stallone)\n",
        "values1, ids1 = sort_two_lists(values1, ids1, reverse=True)"
      ]
    },
    {
      "cell_type": "code",
      "execution_count": 14,
      "metadata": {
        "id": "Jdmgf6ZtgEur",
        "outputId": "d84bc1a8-7b20-4fbb-ce90-374108c50122",
        "colab": {
          "base_uri": "https://localhost:8080/"
        }
      },
      "outputs": [
        {
          "output_type": "stream",
          "name": "stdout",
          "text": [
            "Najbardziej podobnymi do Sylvester Stallone aktorami/aktorkami są w kolejności:\n",
            "  - Sylvester Stallone z similarity równym: 1.0\n",
            "  - Bruce Willis z similarity równym: -0.06\n",
            "  - Logan Marshall-Green z similarity równym: -0.096\n",
            "  - Matthew Yang King z similarity równym: -0.104\n",
            "  - Rus Blackwell z similarity równym: -0.104\n"
          ]
        }
      ],
      "source": [
        "print_most_similiar_actors(data, Sylvester_Stallone, ids1, values1, n = 5, show_self = True)"
      ]
    },
    {
      "cell_type": "markdown",
      "source": [
        "W podobny sposób co poprzednio, teraz będziemy szukać $3$ aktorów najpodobniejszych do Arnolda Schwarzeneggera, Jennifer Lawerence oraz Natalie Portman."
      ],
      "metadata": {
        "id": "n08a2E8iF_gJ"
      }
    },
    {
      "cell_type": "markdown",
      "source": [
        "### Arnold Schwarzenegger"
      ],
      "metadata": {
        "id": "Yn_QAiC4XVkX"
      }
    },
    {
      "cell_type": "code",
      "source": [
        "ids2, values2 = similarity_one_vs_all(data, Arnold_schwarzenegger)\n",
        "values2, ids2 = sort_two_lists(values2, ids2, reverse=True)"
      ],
      "metadata": {
        "id": "aPhgvTd7A4rz"
      },
      "execution_count": 15,
      "outputs": []
    },
    {
      "cell_type": "code",
      "source": [
        "print_most_similiar_actors(data, Arnold_schwarzenegger, ids2, values2)"
      ],
      "metadata": {
        "id": "5NUf_VYbA6iE",
        "outputId": "8391a3a5-b815-4ff0-e1e1-b0da85d43baa",
        "colab": {
          "base_uri": "https://localhost:8080/"
        }
      },
      "execution_count": 16,
      "outputs": [
        {
          "output_type": "stream",
          "name": "stdout",
          "text": [
            "Najbardziej podobnymi do Arnold Schwarzenegger aktorami/aktorkami są w kolejności:\n",
            "  - Jeff Goldblum z similarity równym: -0.059\n",
            "  - Bill Paxton z similarity równym: -0.06\n",
            "  - Michael Keaton z similarity równym: -0.061\n"
          ]
        }
      ]
    },
    {
      "cell_type": "markdown",
      "source": [
        "### Jennifer Lawrence"
      ],
      "metadata": {
        "id": "6hwhHHyWTLx0"
      }
    },
    {
      "cell_type": "code",
      "source": [
        "Jennifer_Lawrence = prepare_pandas_row(find_actor(data, 'nm2225369'))"
      ],
      "metadata": {
        "id": "e1Jnb3EdUA0Y"
      },
      "execution_count": 17,
      "outputs": []
    },
    {
      "cell_type": "code",
      "source": [
        "ids3, values3 = similarity_one_vs_all(data, Jennifer_Lawrence)\n",
        "values3, ids3 = sort_two_lists(values3, ids3, reverse=True)"
      ],
      "metadata": {
        "id": "3JpJncc3Tfy6"
      },
      "execution_count": 18,
      "outputs": []
    },
    {
      "cell_type": "code",
      "source": [
        "print_most_similiar_actors(data, Jennifer_Lawrence, ids3, values3)"
      ],
      "metadata": {
        "id": "ycxUWzL7UXGR",
        "outputId": "82341335-acb4-49f4-abdc-235f7a151a44",
        "colab": {
          "base_uri": "https://localhost:8080/"
        }
      },
      "execution_count": 19,
      "outputs": [
        {
          "output_type": "stream",
          "name": "stdout",
          "text": [
            "Najbardziej podobnymi do Jennifer Lawrence aktorami/aktorkami są w kolejności:\n",
            "  - Isabel Martínez 'La Tarabilla' z similarity równym: -0.043\n",
            "  - Angel Aviles z similarity równym: -0.05\n",
            "  - Gogo Antzoletaki z similarity równym: -0.056\n"
          ]
        }
      ]
    },
    {
      "cell_type": "markdown",
      "source": [
        "### Natalie Portman"
      ],
      "metadata": {
        "id": "hUyIyx3TTZwE"
      }
    },
    {
      "cell_type": "code",
      "source": [
        "Natalie_Portman = prepare_pandas_row(find_actor(data, 'nm0000204'))"
      ],
      "metadata": {
        "id": "_OlAibcmUN7N"
      },
      "execution_count": 20,
      "outputs": []
    },
    {
      "cell_type": "code",
      "source": [
        "ids4, values4 = similarity_one_vs_all(data, Natalie_Portman)\n",
        "values4, ids4 = sort_two_lists(values4, ids4, reverse=True)"
      ],
      "metadata": {
        "id": "_vyN2BWdTZJE"
      },
      "execution_count": 21,
      "outputs": []
    },
    {
      "cell_type": "code",
      "source": [
        "print_most_similiar_actors(data, Natalie_Portman, ids4, values4)"
      ],
      "metadata": {
        "id": "wpCQlV_lUXjH",
        "outputId": "456150c0-2a56-439b-8a36-68c650fde50f",
        "colab": {
          "base_uri": "https://localhost:8080/"
        }
      },
      "execution_count": 22,
      "outputs": [
        {
          "output_type": "stream",
          "name": "stdout",
          "text": [
            "Najbardziej podobnymi do Natalie Portman aktorami/aktorkami są w kolejności:\n",
            "  - Heeba Shah z similarity równym: -0.094\n",
            "  - Aleksa Palladino z similarity równym: -0.095\n",
            "  - Madison Fitts z similarity równym: -0.097\n"
          ]
        }
      ]
    }
  ],
  "metadata": {
    "colab": {
      "provenance": [],
      "include_colab_link": true
    },
    "gpuClass": "standard",
    "kernelspec": {
      "display_name": "Python 3",
      "language": "python",
      "name": "python3"
    },
    "language_info": {
      "codemirror_mode": {
        "name": "ipython",
        "version": 3
      },
      "file_extension": ".py",
      "mimetype": "text/x-python",
      "name": "python",
      "nbconvert_exporter": "python",
      "pygments_lexer": "ipython3",
      "version": "3.11.0"
    },
    "vscode": {
      "interpreter": {
        "hash": "a995ee2689a86f51e9b6c8d486f5f37602c71c091cf2c9f4f00a2719ed505f52"
      }
    }
  },
  "nbformat": 4,
  "nbformat_minor": 0
}