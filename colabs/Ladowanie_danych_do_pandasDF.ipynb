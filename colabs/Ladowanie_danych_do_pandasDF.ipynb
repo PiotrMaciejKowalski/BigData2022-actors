{
  "cells": [
    {
      "cell_type": "markdown",
      "metadata": {
        "colab_type": "text",
        "id": "view-in-github"
      },
      "source": [
        "<a href=\"https://colab.research.google.com/github/PiotrMaciejKowalski/BigData2022-actors/blob/Ladowanie_danych_do_pandasDF/colabs/Liczenie_similarity.ipynb\" target=\"_parent\"><img src=\"https://colab.research.google.com/assets/colab-badge.svg\" alt=\"Open In Colab\"/></a>"
      ]
    },
    {
      "cell_type": "markdown",
      "metadata": {
        "id": "-Q2R3HB0nBvO"
      },
      "source": [
        "# Przygotowanie notatnika"
      ]
    },
    {
      "cell_type": "code",
      "execution_count": 1,
      "metadata": {
        "colab": {
          "base_uri": "https://localhost:8080/"
        },
        "id": "V8-nE3oH58P6",
        "outputId": "a3b742cd-641e-4867-a515-37822b8f9a7a"
      },
      "outputs": [
        {
          "name": "stdout",
          "output_type": "stream",
          "text": [
            "Mounted at /content/gdrive\n"
          ]
        }
      ],
      "source": [
        "from google.colab import drive\n",
        "drive.mount('/content/gdrive')\n",
        "import pandas as pd"
      ]
    },
    {
      "cell_type": "code",
      "execution_count": 2,
      "metadata": {
        "colab": {
          "base_uri": "https://localhost:8080/"
        },
        "id": "CJDl9hKq623W",
        "outputId": "edee1870-9a2d-4db6-b0c3-fa46c6a78cc7"
      },
      "outputs": [
        {
          "name": "stdout",
          "output_type": "stream",
          "text": [
            "Cloning into 'BigData2022-actors'...\n",
            "remote: Enumerating objects: 658, done.\u001b[K\n",
            "remote: Counting objects: 100% (352/352), done.\u001b[K\n",
            "remote: Compressing objects: 100% (246/246), done.\u001b[K\n",
            "remote: Total 658 (delta 199), reused 171 (delta 105), pack-reused 306\u001b[K\n",
            "Receiving objects: 100% (658/658), 5.76 MiB | 18.78 MiB/s, done.\n",
            "Resolving deltas: 100% (315/315), done.\n",
            "mv: cannot move '/content/BigData2022-actors/.' to './.': Device or resource busy\n",
            "mv: cannot move '/content/BigData2022-actors/..' to './..': Device or resource busy\n"
          ]
        }
      ],
      "source": [
        "!git clone https://github.com/PiotrMaciejKowalski/BigData2022-actors.git\n",
        "!mv /content/BigData2022-actors/* .\n",
        "!mv /content/BigData2022-actors/.* .\n",
        "!rmdir /content/BigData2022-actors/"
      ]
    },
    {
      "attachments": {},
      "cell_type": "markdown",
      "metadata": {},
      "source": [
        "## Załadowanie danych z pliku o rozszerzeniu .parquet"
      ]
    },
    {
      "cell_type": "markdown",
      "metadata": {
        "id": "893peJwWw3bl"
      },
      "source": [
        "W poradniku \"Tworzenie skrotu do GDrive\" w folderze tutorials jest poradnik jak sprawić żeby poniższa lokalizacja się poprawnie pokazywała.\n"
      ]
    },
    {
      "cell_type": "code",
      "execution_count": 3,
      "metadata": {
        "id": "Hysa2iYFXe3J"
      },
      "outputs": [],
      "source": [
        "dane = pd.read_parquet('/content/gdrive/MyDrive/bigdataaktorzy/joined_data.parquet')\n",
        "# TODO przepiąć się na nowszy plik gdy będzie on już zapisany na dysku"
      ]
    }
  ],
  "metadata": {
    "colab": {
      "include_colab_link": true,
      "provenance": []
    },
    "kernelspec": {
      "display_name": "Python 3",
      "name": "python3"
    },
    "language_info": {
      "name": "python"
    }
  },
  "nbformat": 4,
  "nbformat_minor": 0
}
