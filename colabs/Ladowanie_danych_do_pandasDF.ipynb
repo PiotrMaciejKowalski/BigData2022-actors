{
  "cells": [
    {
      "cell_type": "markdown",
      "metadata": {
        "id": "view-in-github",
        "colab_type": "text"
      },
      "source": [
        "<a href=\"https://colab.research.google.com/github/PiotrMaciejKowalski/BigData2022-actors/blob/Ladowanie_danych_do_pandasDF/colabs/Ladowanie_danych_do_pandasDF.ipynb\" target=\"_parent\"><img src=\"https://colab.research.google.com/assets/colab-badge.svg\" alt=\"Open In Colab\"/></a>"
      ]
    },
    {
      "cell_type": "markdown",
      "metadata": {
        "id": "-Q2R3HB0nBvO"
      },
      "source": [
        "# Przygotowanie notatnika"
      ]
    },
    {
      "cell_type": "code",
      "execution_count": 1,
      "metadata": {
        "colab": {
          "base_uri": "https://localhost:8080/"
        },
        "id": "V8-nE3oH58P6",
        "outputId": "e6b7f488-2632-4e0c-ce0c-cf9c2ecfeeca"
      },
      "outputs": [
        {
          "output_type": "stream",
          "name": "stdout",
          "text": [
            "Mounted at /content/gdrive\n"
          ]
        }
      ],
      "source": [
        "from google.colab import drive\n",
        "drive.mount('/content/gdrive')\n",
        "import pandas as pd"
      ]
    },
    {
      "cell_type": "code",
      "execution_count": 2,
      "metadata": {
        "colab": {
          "base_uri": "https://localhost:8080/"
        },
        "id": "CJDl9hKq623W",
        "outputId": "60bf21cf-31c3-47a9-f27c-4eca825791ac"
      },
      "outputs": [
        {
          "output_type": "stream",
          "name": "stdout",
          "text": [
            "Cloning into 'BigData2022-actors'...\n",
            "remote: Enumerating objects: 754, done.\u001b[K\n",
            "remote: Counting objects: 100% (308/308), done.\u001b[K\n",
            "remote: Compressing objects: 100% (185/185), done.\u001b[K\n",
            "remote: Total 754 (delta 214), reused 144 (delta 123), pack-reused 446\u001b[K\n",
            "Receiving objects: 100% (754/754), 5.78 MiB | 15.14 MiB/s, done.\n",
            "Resolving deltas: 100% (385/385), done.\n",
            "mv: cannot move '/content/BigData2022-actors/.' to './.': Device or resource busy\n",
            "mv: cannot move '/content/BigData2022-actors/..' to './..': Device or resource busy\n"
          ]
        }
      ],
      "source": [
        "!git clone https://github.com/PiotrMaciejKowalski/BigData2022-actors.git\n",
        "!mv /content/BigData2022-actors/* .\n",
        "!mv /content/BigData2022-actors/.* .\n",
        "!rmdir /content/BigData2022-actors/"
      ]
    },
    {
      "cell_type": "markdown",
      "metadata": {
        "id": "0x5DISomqmKS"
      },
      "source": [
        "## Załadowanie danych z pliku o rozszerzeniu .parquet"
      ]
    },
    {
      "cell_type": "code",
      "source": [
        "from lib.const import JOINED_DATA, DATA_WITH_AWARDS"
      ],
      "metadata": {
        "id": "9inUPaAjraSd"
      },
      "execution_count": 3,
      "outputs": []
    },
    {
      "cell_type": "markdown",
      "metadata": {
        "id": "893peJwWw3bl"
      },
      "source": [
        "W poradniku \"Tworzenie skrotu do GDrive\" w folderze tutorials jest poradnik jak sprawić żeby poniższa lokalizacja się poprawnie pokazywała.\n"
      ]
    },
    {
      "cell_type": "code",
      "execution_count": 4,
      "metadata": {
        "id": "Hysa2iYFXe3J"
      },
      "outputs": [],
      "source": [
        "dane = pd.read_parquet(JOINED_DATA)\n",
        "# TODO przepiąć się na nowszy plik gdy będzie on już zapisany na dysku"
      ]
    }
  ],
  "metadata": {
    "colab": {
      "provenance": [],
      "include_colab_link": true
    },
    "kernelspec": {
      "display_name": "Python 3",
      "name": "python3"
    },
    "language_info": {
      "name": "python"
    }
  },
  "nbformat": 4,
  "nbformat_minor": 0
}