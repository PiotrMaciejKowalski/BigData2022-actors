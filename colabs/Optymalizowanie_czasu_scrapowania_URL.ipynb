{
  "cells": [
    {
      "cell_type": "markdown",
      "metadata": {
        "id": "view-in-github",
        "colab_type": "text"
      },
      "source": [
        "<a href=\"https://colab.research.google.com/github/PiotrMaciejKowalski/BigData2022-actors/blob/Optymalizacja-wybierania-URL/colabs/Optymalizowanie_czasu_scrapowania_URL.ipynb\" target=\"_parent\"><img src=\"https://colab.research.google.com/assets/colab-badge.svg\" alt=\"Open In Colab\"/></a>"
      ]
    },
    {
      "cell_type": "markdown",
      "source": [
        "# Metodyka testowania"
      ],
      "metadata": {
        "id": "6mGyTdAxfIpg"
      }
    },
    {
      "cell_type": "markdown",
      "source": [
        "Z całego zbior danych o aktorach została wybrana jedynie kolumna z id aktora, a stąd (przy ustalonym dziernie) wybrana została próbka wielkości $2\\%$ całego zbioru ($41259$ wierszy).\n",
        "\n",
        "Test prędkości pobierania linków URL dla id aktorów został przeprowadzony najpierw na bibliotece `BeautifoulSoup`. Następnie dla tej biblioteki zostały sprawdzone różne warianty wybierania linku ze strony. Dla najszybszego z tych wariantów, został przeprowadzone dodatkowe testy używające różnych dostępnych parserów, oraz dodatkowy test osobnej biblioteki `lxml`."
      ],
      "metadata": {
        "id": "Qii1PwYPfMbN"
      }
    },
    {
      "cell_type": "markdown",
      "source": [
        "# Wnioski"
      ],
      "metadata": {
        "id": "8dQ24CIZgPOz"
      }
    },
    {
      "cell_type": "markdown",
      "source": [
        "Z pierwotnie testowanych metod, najszybsza okazała się metoda używająca warunku `if` zamiast `try`, oraz wybierająca ze storny element `src`, a dopiero po jego wybraniu, docinająca uzyskany tekst (zeskalowany link do zdjęcia aktora).\n",
        "\n",
        "Spośród parserów `html`, `lxml` oraz `html5lib` najszybszy okazał sie parser `lxml`.\n",
        "\n",
        "Użycie osobnej biblioteki `lxml` zaowocowało jeszcze szybszym pobieraniem zdjęć aktorów. Dla wybranej próbki prędkość ta wynosiła $100$ linków na $1.7$ sekundy. Przeprowadzony został jednorazowy test na próbce wielkości $10\\%$ zbioru. Pyspark dla coraz większej próbki, coraz to bardziej paralelizuje wykonywanie kodu, dlatego wydobycie linków do zdjęć wszystkich aktorów ze zbioru powinno zająć nie więcej niż $10$ godzin.\n",
        "\n",
        "Przy sprawdzaniu dla jakiej części aktorów możemy zdobyć zdjęcia, okazało się, że spośród $41259$ aktorów, dla jedynie $5343$ byliśmy w stanie zdobyć ich zdjęcia, co stanowi $12.95\\%$ próbki."
      ],
      "metadata": {
        "id": "4GVYQbKngSHr"
      }
    },
    {
      "cell_type": "markdown",
      "source": [
        "# Uwagi"
      ],
      "metadata": {
        "id": "T-texwTQDpOi"
      }
    },
    {
      "cell_type": "markdown",
      "source": [
        "Testy zostały przeprowadzone w magicznym momencie, gdy czasy wykonywania odpowiednich metod były porównywalne, tj. najszybsza metoda była około $2$ razy szybsza niż najwolniejsza metoda. Jednak ze względu na obciążenie strony, połączenie internetowe oraz możliwie inne czynniki których nie znam i na które nie mamy wpływu. Bardzo często zdarza się że czas wykonywania testowanych metod wacha się (w przypadku najszybszej metody) od 11 minut do ponad godziny. Ponadto bardzo często po kilku godzinach pracy notatnika, zostaje zerwane połączenie z serwerem i praca ustaje.\n",
        "\n",
        "Biorąc pod uwagę te czynniki, można wnosić że nawet w bardzo optymistycznym scenariuszu gdzie obciążenie serwerów jest bardzo małe i metoda generująca linki URL dla id aktorów działa optymalnie, to nadal czas pracy nad tak dużym zbiorem uniemożliwi pozytywne zakończenie zadania w środowisku colab.\n",
        "\n",
        "Rozwiązaniem powyższego problemu mogłoby jednak być pracowanie na mniejszych fragmentach całego zbioru. Można np.:\n",
        "1.   stworzyć plik csv z kolumną z id aktorów, oraz pustą kolumną na linki URL do zdjęć aktorów;\n",
        "2.   generować linki, oraz co jakiś czas (np. co 1000 aktorów) zapisywać plik csv z wprowadzonymi zmianami na dysku Google;\n",
        "3.   w przypadku wznowienia pracy na pliku, rozpocząć pracę dla tych wierszy którę pole z linkiem URL mają puste oraz postepować jak w punkcie 2.;\n",
        "4.   powtarzać punkt 3. aż do momentu gdy linki do zdjęć (lub wartości NULL, w przypadku braku zdjęć) zostaną wygenerowane dla ostatniego aktora.\n",
        "\n",
        "Równoważnie można podzielić tabelę na mniejsze tabelki i kolejno dla nich generować kolumnę z linkami do zdjęć, a następnie je skleić i dołączyć do zbioru który jest aktualnie w użytku.\n",
        "\n",
        "\n",
        "\n"
      ],
      "metadata": {
        "id": "OcZ09O1vDq2O"
      }
    },
    {
      "cell_type": "markdown",
      "metadata": {
        "id": "-Q2R3HB0nBvO"
      },
      "source": [
        "# Przygotowanie notatnika"
      ]
    },
    {
      "cell_type": "code",
      "execution_count": null,
      "metadata": {
        "colab": {
          "base_uri": "https://localhost:8080/"
        },
        "id": "V8-nE3oH58P6",
        "outputId": "0f2cc0dc-ce46-460f-a41e-ae67b4afce7c"
      },
      "outputs": [
        {
          "output_type": "stream",
          "name": "stdout",
          "text": [
            "Mounted at /content/gdrive\n"
          ]
        }
      ],
      "source": [
        "from google.colab import drive\n",
        "drive.mount('/content/gdrive')\n",
        "import pandas as pd"
      ]
    },
    {
      "cell_type": "code",
      "execution_count": null,
      "metadata": {
        "id": "CJDl9hKq623W",
        "colab": {
          "base_uri": "https://localhost:8080/"
        },
        "outputId": "4837720b-dd73-4b20-f117-2b02091c9e73"
      },
      "outputs": [
        {
          "output_type": "stream",
          "name": "stdout",
          "text": [
            "Cloning into 'BigData2022-actors'...\n",
            "remote: Enumerating objects: 1509, done.\u001b[K\n",
            "remote: Counting objects: 100% (202/202), done.\u001b[K\n",
            "remote: Compressing objects: 100% (101/101), done.\u001b[K\n",
            "remote: Total 1509 (delta 141), reused 151 (delta 101), pack-reused 1307\u001b[K\n",
            "Receiving objects: 100% (1509/1509), 5.98 MiB | 12.67 MiB/s, done.\n",
            "Resolving deltas: 100% (910/910), done.\n",
            "mv: cannot move '/content/BigData2022-actors/.' to './.': Device or resource busy\n",
            "mv: cannot move '/content/BigData2022-actors/..' to './..': Device or resource busy\n"
          ]
        }
      ],
      "source": [
        "!git clone https://github.com/PiotrMaciejKowalski/BigData2022-actors.git\n",
        "!mv /content/BigData2022-actors/* .\n",
        "!mv /content/BigData2022-actors/.* .\n",
        "!rmdir /content/BigData2022-actors/"
      ]
    },
    {
      "cell_type": "code",
      "execution_count": null,
      "metadata": {
        "id": "n7OGu1Nd63zc",
        "colab": {
          "base_uri": "https://localhost:8080/"
        },
        "outputId": "c37f3ebc-fe63-423c-ff4e-e09a7067875f"
      },
      "outputs": [
        {
          "output_type": "stream",
          "name": "stdout",
          "text": [
            "Branch 'Optymalizacja-wybierania-URL' set up to track remote branch 'Optymalizacja-wybierania-URL' from 'origin'.\n",
            "Switched to a new branch 'Optymalizacja-wybierania-URL'\n"
          ]
        }
      ],
      "source": [
        "!git checkout Optymalizacja-wybierania-URL\n",
        "# TODO usunąć przy mergu do maina"
      ]
    },
    {
      "cell_type": "markdown",
      "metadata": {
        "id": "w_dC8ZCq7YW4"
      },
      "source": [
        "## Ładowanie Sparka"
      ]
    },
    {
      "cell_type": "code",
      "execution_count": null,
      "metadata": {
        "id": "4rY_5gMA7bSi",
        "colab": {
          "base_uri": "https://localhost:8080/"
        },
        "outputId": "ef5dc056-d4e2-41d2-a8d7-8a6031cc1502"
      },
      "outputs": [
        {
          "output_type": "stream",
          "name": "stdout",
          "text": [
            "Looking in indexes: https://pypi.org/simple, https://us-python.pkg.dev/colab-wheels/public/simple/\n",
            "Collecting pyspark\n",
            "  Downloading pyspark-3.3.1.tar.gz (281.4 MB)\n",
            "\u001b[2K     \u001b[90m━━━━━━━━━━━━━━━━━━━━━━━━━━━━━━━━━━━━━━━\u001b[0m \u001b[32m281.4/281.4 MB\u001b[0m \u001b[31m4.8 MB/s\u001b[0m eta \u001b[36m0:00:00\u001b[0m\n",
            "\u001b[?25h  Preparing metadata (setup.py) ... \u001b[?25l\u001b[?25hdone\n",
            "Collecting py4j\n",
            "  Downloading py4j-0.10.9.7-py2.py3-none-any.whl (200 kB)\n",
            "\u001b[2K     \u001b[90m━━━━━━━━━━━━━━━━━━━━━━━━━━━━━━━━━━━━━━\u001b[0m \u001b[32m200.5/200.5 KB\u001b[0m \u001b[31m18.8 MB/s\u001b[0m eta \u001b[36m0:00:00\u001b[0m\n",
            "\u001b[?25h  Downloading py4j-0.10.9.5-py2.py3-none-any.whl (199 kB)\n",
            "\u001b[2K     \u001b[90m━━━━━━━━━━━━━━━━━━━━━━━━━━━━━━━━━━━━━━\u001b[0m \u001b[32m199.7/199.7 KB\u001b[0m \u001b[31m22.6 MB/s\u001b[0m eta \u001b[36m0:00:00\u001b[0m\n",
            "\u001b[?25hBuilding wheels for collected packages: pyspark\n",
            "  Building wheel for pyspark (setup.py) ... \u001b[?25l\u001b[?25hdone\n",
            "  Created wheel for pyspark: filename=pyspark-3.3.1-py2.py3-none-any.whl size=281845512 sha256=2c5fd61e91173d12358b3d7668f1b4dce6723f888925bcaeb795550159e5508c\n",
            "  Stored in directory: /root/.cache/pip/wheels/43/dc/11/ec201cd671da62fa9c5cc77078235e40722170ceba231d7598\n",
            "Successfully built pyspark\n",
            "Installing collected packages: py4j, pyspark\n",
            "Successfully installed py4j-0.10.9.5 pyspark-3.3.1\n",
            "--2023-01-12 01:29:31--  https://dlcdn.apache.org/spark/spark-3.3.1/spark-3.3.1-bin-hadoop2.tgz\n",
            "Resolving dlcdn.apache.org (dlcdn.apache.org)... 151.101.2.132, 2a04:4e42::644\n",
            "Connecting to dlcdn.apache.org (dlcdn.apache.org)|151.101.2.132|:443... connected.\n",
            "HTTP request sent, awaiting response... 200 OK\n",
            "Length: 274099817 (261M) [application/x-gzip]\n",
            "Saving to: ‘spark-3.3.1-bin-hadoop2.tgz’\n",
            "\n",
            "spark-3.3.1-bin-had 100%[===================>] 261.40M   260MB/s    in 1.0s    \n",
            "\n",
            "2023-01-12 01:29:41 (260 MB/s) - ‘spark-3.3.1-bin-hadoop2.tgz’ saved [274099817/274099817]\n",
            "\n"
          ]
        }
      ],
      "source": [
        "!chmod +x setup_sparka.sh\n",
        "!./setup_sparka.sh"
      ]
    },
    {
      "cell_type": "code",
      "execution_count": null,
      "metadata": {
        "id": "0LJEf8er71m2"
      },
      "outputs": [],
      "source": [
        "from lib.pyspark_init import create_spark_context"
      ]
    },
    {
      "cell_type": "code",
      "execution_count": null,
      "metadata": {
        "id": "KLoSqY937bpe",
        "colab": {
          "base_uri": "https://localhost:8080/",
          "height": 219
        },
        "outputId": "aa529b63-df2b-4df5-ea8c-4e12662d9520"
      },
      "outputs": [
        {
          "output_type": "execute_result",
          "data": {
            "text/plain": [
              "<pyspark.sql.session.SparkSession at 0x7f79bbc1b670>"
            ],
            "text/html": [
              "\n",
              "            <div>\n",
              "                <p><b>SparkSession - in-memory</b></p>\n",
              "                \n",
              "        <div>\n",
              "            <p><b>SparkContext</b></p>\n",
              "\n",
              "            <p><a href=\"http://16bc8d8df122:4040\">Spark UI</a></p>\n",
              "\n",
              "            <dl>\n",
              "              <dt>Version</dt>\n",
              "                <dd><code>v3.3.1</code></dd>\n",
              "              <dt>Master</dt>\n",
              "                <dd><code>local[*]</code></dd>\n",
              "              <dt>AppName</dt>\n",
              "                <dd><code>Colab</code></dd>\n",
              "            </dl>\n",
              "        </div>\n",
              "        \n",
              "            </div>\n",
              "        "
            ]
          },
          "metadata": {},
          "execution_count": 8
        }
      ],
      "source": [
        "spark = create_spark_context()\n",
        "spark"
      ]
    },
    {
      "cell_type": "markdown",
      "metadata": {
        "id": "0x5DISomqmKS"
      },
      "source": [
        "## Załadowanie danych z pliku o rozszerzeniu .parquet"
      ]
    },
    {
      "cell_type": "code",
      "execution_count": null,
      "metadata": {
        "id": "9inUPaAjraSd"
      },
      "outputs": [],
      "source": [
        "from lib.const import JOINED_DATA, DATA_WITH_AWARDS"
      ]
    },
    {
      "cell_type": "markdown",
      "metadata": {
        "id": "893peJwWw3bl"
      },
      "source": [
        "W poradniku \"Tworzenie skrotu do GDrive\" w folderze tutorials jest poradnik jak sprawić żeby poniższa lokalizacja się poprawnie ładowała.\n"
      ]
    },
    {
      "cell_type": "code",
      "execution_count": null,
      "metadata": {
        "id": "Hysa2iYFXe3J"
      },
      "outputs": [],
      "source": [
        "data = spark.read.parquet(JOINED_DATA)\n",
        "# TODO przepiąć się na nowszy plik gdy będzie on już zapisany na dysku"
      ]
    },
    {
      "cell_type": "markdown",
      "metadata": {
        "id": "qVEyRjfr5r1I"
      },
      "source": [
        "# Testowanie metod pobierania URL ze strony IMDB"
      ]
    },
    {
      "cell_type": "code",
      "execution_count": null,
      "metadata": {
        "id": "IKLESGZ56Occ"
      },
      "outputs": [],
      "source": [
        "from lib.url_utils import *"
      ]
    },
    {
      "cell_type": "markdown",
      "metadata": {
        "id": "29vX3jz25x3p"
      },
      "source": [
        "## Wybranie próbki id aktorów"
      ]
    },
    {
      "cell_type": "code",
      "execution_count": null,
      "metadata": {
        "id": "XHjF-g1f6kvE"
      },
      "outputs": [],
      "source": [
        "data = data.select('nconst')"
      ]
    },
    {
      "cell_type": "code",
      "execution_count": null,
      "metadata": {
        "id": "qwWC2Kwq5vLj"
      },
      "outputs": [],
      "source": [
        "sample = data.sample(0.02, 2137)"
      ]
    },
    {
      "cell_type": "code",
      "execution_count": null,
      "metadata": {
        "id": "_Xui1u_u6KAB",
        "colab": {
          "base_uri": "https://localhost:8080/"
        },
        "outputId": "d2091c25-e4da-44bf-a55c-86389ebbfff4"
      },
      "outputs": [
        {
          "output_type": "execute_result",
          "data": {
            "text/plain": [
              "41259"
            ]
          },
          "metadata": {},
          "execution_count": 14
        }
      ],
      "source": [
        "ids_no = sample.count()\n",
        "ids_no"
      ]
    },
    {
      "cell_type": "code",
      "execution_count": null,
      "metadata": {
        "id": "f9ugqMgK5-Kl",
        "colab": {
          "base_uri": "https://localhost:8080/"
        },
        "outputId": "d8b84a3d-174b-4a35-a16f-9989d3e38fc1"
      },
      "outputs": [
        {
          "output_type": "execute_result",
          "data": {
            "text/plain": [
              "[Row(nconst='nm0004822'),\n",
              " Row(nconst='nm0007369'),\n",
              " Row(nconst='nm0015241'),\n",
              " Row(nconst='nm0029357'),\n",
              " Row(nconst='nm0031184')]"
            ]
          },
          "metadata": {},
          "execution_count": 15
        }
      ],
      "source": [
        "sample.head(5)"
      ]
    },
    {
      "cell_type": "markdown",
      "metadata": {
        "id": "0RuohAqM6V9S"
      },
      "source": [
        "## Czas pomiędzy metodą z `if`, a metodą z `try`"
      ]
    },
    {
      "cell_type": "code",
      "execution_count": null,
      "metadata": {
        "id": "G0NcwGGu6ci8",
        "colab": {
          "base_uri": "https://localhost:8080/"
        },
        "outputId": "b347870a-9b65-47f7-ee9e-94b5629991e2"
      },
      "outputs": [
        {
          "output_type": "stream",
          "name": "stdout",
          "text": [
            "CPU times: user 8.17 s, sys: 1.15 s, total: 9.31 s\n",
            "Wall time: 28min 17s\n"
          ]
        },
        {
          "output_type": "execute_result",
          "data": {
            "text/plain": [
              "[Row(nconst='nm0004822', URL='https://m.media-amazon.com/images/M/MV5BMjE2ODUwOTIxMl5BMl5BanBnXkFtZTYwMDcyOTU3'),\n",
              " Row(nconst='nm0007369', URL=None),\n",
              " Row(nconst='nm0015241', URL='https://m.media-amazon.com/images/M/MV5BMGFhNWZhOWEtZjVkNC00ZmIwLTg2NzItZTJhYTViMDIwOTRiXkEyXkFqcGdeQXVyNjg3MTIwODI@'),\n",
              " Row(nconst='nm0029357', URL='https://m.media-amazon.com/images/M/MV5BMTk4MTMyMjkwOF5BMl5BanBnXkFtZTgwNDcwNzQ0ODE@'),\n",
              " Row(nconst='nm0031184', URL=None)]"
            ]
          },
          "metadata": {},
          "execution_count": 16
        }
      ],
      "source": [
        "%%time\n",
        "sample_try = sample.withColumn(\"URL\", udf_try_get_link_to_imdb_image(\"nconst\"))\n",
        "sample_try.head(5)"
      ]
    },
    {
      "cell_type": "code",
      "execution_count": null,
      "metadata": {
        "id": "fSic865S-b2W",
        "colab": {
          "base_uri": "https://localhost:8080/"
        },
        "outputId": "18e9859d-c9fc-4044-d9f9-2ee0f9c3f4c9"
      },
      "outputs": [
        {
          "output_type": "stream",
          "name": "stdout",
          "text": [
            "CPU times: user 6.66 s, sys: 882 ms, total: 7.54 s\n",
            "Wall time: 22min 57s\n"
          ]
        },
        {
          "output_type": "execute_result",
          "data": {
            "text/plain": [
              "[Row(nconst='nm0004822', URL='https://m.media-amazon.com/images/M/MV5BMjE2ODUwOTIxMl5BMl5BanBnXkFtZTYwMDcyOTU3'),\n",
              " Row(nconst='nm0007369', URL=None),\n",
              " Row(nconst='nm0015241', URL='https://m.media-amazon.com/images/M/MV5BMGFhNWZhOWEtZjVkNC00ZmIwLTg2NzItZTJhYTViMDIwOTRiXkEyXkFqcGdeQXVyNjg3MTIwODI@'),\n",
              " Row(nconst='nm0029357', URL='https://m.media-amazon.com/images/M/MV5BMTk4MTMyMjkwOF5BMl5BanBnXkFtZTgwNDcwNzQ0ODE@'),\n",
              " Row(nconst='nm0031184', URL=None)]"
            ]
          },
          "metadata": {},
          "execution_count": 17
        }
      ],
      "source": [
        "%%time\n",
        "sample_if = sample.withColumn(\"URL\", udf_if_get_link_to_imdb_image(\"nconst\"))\n",
        "sample_if.head(5)"
      ]
    },
    {
      "cell_type": "markdown",
      "metadata": {
        "id": "W1VyjaRIAIZz"
      },
      "source": [
        "## Czas wykonania przy odwoływaniu się do elementu \"src\""
      ]
    },
    {
      "cell_type": "code",
      "execution_count": null,
      "metadata": {
        "id": "arEcIxxHAO07",
        "colab": {
          "base_uri": "https://localhost:8080/"
        },
        "outputId": "6f259c58-a793-4a86-c980-8764ba068274"
      },
      "outputs": [
        {
          "output_type": "stream",
          "name": "stdout",
          "text": [
            "CPU times: user 7.42 s, sys: 1.02 s, total: 8.44 s\n",
            "Wall time: 26min 45s\n"
          ]
        },
        {
          "output_type": "execute_result",
          "data": {
            "text/plain": [
              "[Row(nconst='nm0004822', URL='https://m.media-amazon.com/images/M/MV5BMjE2ODUwOTIxMl5BMl5BanBnXkFtZTYwMDcyOTU3'),\n",
              " Row(nconst='nm0007369', URL=None),\n",
              " Row(nconst='nm0015241', URL='https://m.media-amazon.com/images/M/MV5BMGFhNWZhOWEtZjVkNC00ZmIwLTg2NzItZTJhYTViMDIwOTRiXkEyXkFqcGdeQXVyNjg3MTIwODI@'),\n",
              " Row(nconst='nm0029357', URL='https://m.media-amazon.com/images/M/MV5BMTk4MTMyMjkwOF5BMl5BanBnXkFtZTgwNDcwNzQ0ODE@'),\n",
              " Row(nconst='nm0031184', URL=None)]"
            ]
          },
          "metadata": {},
          "execution_count": 19
        }
      ],
      "source": [
        "%%time\n",
        "sample_src_try = sample.withColumn(\"URL\", udf_try_get_link_to_imdb_image_src(\"nconst\"))\n",
        "sample_src_try.head(5)"
      ]
    },
    {
      "cell_type": "code",
      "execution_count": null,
      "metadata": {
        "id": "iArn05AMXJ8h",
        "colab": {
          "base_uri": "https://localhost:8080/"
        },
        "outputId": "33dd212c-2465-43c5-bb92-ce77e683c66a"
      },
      "outputs": [
        {
          "output_type": "stream",
          "name": "stdout",
          "text": [
            "CPU times: user 4.9 s, sys: 690 ms, total: 5.59 s\n",
            "Wall time: 17min 40s\n"
          ]
        },
        {
          "output_type": "execute_result",
          "data": {
            "text/plain": [
              "[Row(nconst='nm0004822', URL='https://m.media-amazon.com/images/M/MV5BMjE2ODUwOTIxMl5BMl5BanBnXkFtZTYwMDcyOTU3'),\n",
              " Row(nconst='nm0007369', URL=None),\n",
              " Row(nconst='nm0015241', URL='https://m.media-amazon.com/images/M/MV5BMGFhNWZhOWEtZjVkNC00ZmIwLTg2NzItZTJhYTViMDIwOTRiXkEyXkFqcGdeQXVyNjg3MTIwODI@'),\n",
              " Row(nconst='nm0029357', URL='https://m.media-amazon.com/images/M/MV5BMTk4MTMyMjkwOF5BMl5BanBnXkFtZTgwNDcwNzQ0ODE@'),\n",
              " Row(nconst='nm0031184', URL=None)]"
            ]
          },
          "metadata": {},
          "execution_count": 20
        }
      ],
      "source": [
        "%%time\n",
        "sample_src_if = sample.withColumn(\"URL\", udf_if_get_link_to_imdb_image_src(\"nconst\"))\n",
        "sample_src_if.head(5)"
      ]
    },
    {
      "cell_type": "markdown",
      "metadata": {
        "id": "Gpe6AMQ5BukU"
      },
      "source": [
        "Odwołując się do konkretnego elemntu, oraz ucinając końcówkę linku odpowiadającą za rozmiar zdjęcia, uzyskujemy jeszcze lepszy czas wykonywania na naszej próbce."
      ]
    },
    {
      "cell_type": "markdown",
      "metadata": {
        "id": "p68jxKJTBjq5"
      },
      "source": [
        "## Używanie innych parserów"
      ]
    },
    {
      "cell_type": "markdown",
      "metadata": {
        "id": "-D1DTwi6t-ZM"
      },
      "source": [
        "Parser html"
      ]
    },
    {
      "cell_type": "code",
      "execution_count": null,
      "metadata": {
        "id": "SVf9Byrjt59Y",
        "colab": {
          "base_uri": "https://localhost:8080/"
        },
        "outputId": "42001d51-01c8-4db7-96ec-9934e26f86c2"
      },
      "outputs": [
        {
          "output_type": "stream",
          "name": "stdout",
          "text": [
            "CPU times: user 7.83 s, sys: 1.05 s, total: 8.89 s\n",
            "Wall time: 28min 23s\n"
          ]
        },
        {
          "output_type": "execute_result",
          "data": {
            "text/plain": [
              "[Row(nconst='nm0004822', URL='https://m.media-amazon.com/images/M/MV5BMjE2ODUwOTIxMl5BMl5BanBnXkFtZTYwMDcyOTU3'),\n",
              " Row(nconst='nm0007369', URL=None),\n",
              " Row(nconst='nm0015241', URL='https://m.media-amazon.com/images/M/MV5BMGFhNWZhOWEtZjVkNC00ZmIwLTg2NzItZTJhYTViMDIwOTRiXkEyXkFqcGdeQXVyNjg3MTIwODI@'),\n",
              " Row(nconst='nm0029357', URL='https://m.media-amazon.com/images/M/MV5BMTk4MTMyMjkwOF5BMl5BanBnXkFtZTgwNDcwNzQ0ODE@'),\n",
              " Row(nconst='nm0031184', URL=None)]"
            ]
          },
          "metadata": {},
          "execution_count": 22
        }
      ],
      "source": [
        "%%time\n",
        "sample_html = sample.withColumn(\"URL\", udf_if_get_link_to_imdb_image_src(\"nconst\"))\n",
        "sample_html.head(5)"
      ]
    },
    {
      "cell_type": "markdown",
      "metadata": {
        "id": "JyS_xKTOuBYQ"
      },
      "source": [
        "Parser lxml"
      ]
    },
    {
      "cell_type": "code",
      "execution_count": null,
      "metadata": {
        "id": "DraXI1iPV6oc",
        "colab": {
          "base_uri": "https://localhost:8080/"
        },
        "outputId": "20390505-a31c-4d27-f7c0-1efd955b6163"
      },
      "outputs": [
        {
          "output_type": "stream",
          "name": "stdout",
          "text": [
            "CPU times: user 6.86 s, sys: 1 s, total: 7.86 s\n",
            "Wall time: 25min 28s\n"
          ]
        },
        {
          "output_type": "execute_result",
          "data": {
            "text/plain": [
              "[Row(nconst='nm0004822', URL='https://m.media-amazon.com/images/M/MV5BMjE2ODUwOTIxMl5BMl5BanBnXkFtZTYwMDcyOTU3'),\n",
              " Row(nconst='nm0007369', URL=None),\n",
              " Row(nconst='nm0015241', URL='https://m.media-amazon.com/images/M/MV5BMGFhNWZhOWEtZjVkNC00ZmIwLTg2NzItZTJhYTViMDIwOTRiXkEyXkFqcGdeQXVyNjg3MTIwODI@'),\n",
              " Row(nconst='nm0029357', URL='https://m.media-amazon.com/images/M/MV5BMTk4MTMyMjkwOF5BMl5BanBnXkFtZTgwNDcwNzQ0ODE@'),\n",
              " Row(nconst='nm0031184', URL=None)]"
            ]
          },
          "metadata": {},
          "execution_count": 23
        }
      ],
      "source": [
        "%%time\n",
        "sample_lxml = sample.withColumn(\"URL\", udf_if_get_link_to_imdb_image_lxml(\"nconst\"))\n",
        "sample_lxml.head(5)"
      ]
    },
    {
      "cell_type": "markdown",
      "metadata": {
        "id": "ZBtQ6R1ouDXK"
      },
      "source": [
        "Parser html5lib"
      ]
    },
    {
      "cell_type": "code",
      "execution_count": null,
      "metadata": {
        "id": "5x3ZdnSTV689",
        "colab": {
          "base_uri": "https://localhost:8080/"
        },
        "outputId": "cdab942a-02f4-45c1-f5af-89e74557caa8"
      },
      "outputs": [
        {
          "output_type": "stream",
          "name": "stdout",
          "text": [
            "CPU times: user 4.7 s, sys: 587 ms, total: 5.28 s\n",
            "Wall time: 16min 50s\n"
          ]
        },
        {
          "output_type": "execute_result",
          "data": {
            "text/plain": [
              "[Row(nconst='nm0004822', URL='https://m.media-amazon.com/images/M/MV5BMjE2ODUwOTIxMl5BMl5BanBnXkFtZTYwMDcyOTU3'),\n",
              " Row(nconst='nm0007369', URL=None),\n",
              " Row(nconst='nm0015241', URL='https://m.media-amazon.com/images/M/MV5BMGFhNWZhOWEtZjVkNC00ZmIwLTg2NzItZTJhYTViMDIwOTRiXkEyXkFqcGdeQXVyNjg3MTIwODI@'),\n",
              " Row(nconst='nm0029357', URL='https://m.media-amazon.com/images/M/MV5BMTk4MTMyMjkwOF5BMl5BanBnXkFtZTgwNDcwNzQ0ODE@'),\n",
              " Row(nconst='nm0031184', URL=None)]"
            ]
          },
          "metadata": {},
          "execution_count": 24
        }
      ],
      "source": [
        "%%time\n",
        "sample_html5lib = sample.withColumn(\"URL\", udf_if_get_link_to_imdb_image_html5lib(\"nconst\"))\n",
        "sample_html5lib.head(5)"
      ]
    },
    {
      "cell_type": "markdown",
      "metadata": {
        "id": "c3GqmDUpV3Ql"
      },
      "source": [
        "## bilbioteka xlml"
      ]
    },
    {
      "cell_type": "markdown",
      "source": [
        "Test działania metody opartej na osobnej bilbiotece `lxml` której parser był najszybszy dla metod opartych na bibliotece `BeautifulSoup`."
      ],
      "metadata": {
        "id": "HPnjann_ZN8x"
      }
    },
    {
      "cell_type": "code",
      "execution_count": null,
      "metadata": {
        "id": "UlRSckQXCFg0",
        "colab": {
          "base_uri": "https://localhost:8080/"
        },
        "outputId": "355b0037-9200-40d5-fda3-6c4229d015ff"
      },
      "outputs": [
        {
          "output_type": "stream",
          "name": "stdout",
          "text": [
            "Looking in indexes: https://pypi.org/simple, https://us-python.pkg.dev/colab-wheels/public/simple/\n",
            "Collecting cssselect\n",
            "  Downloading cssselect-1.2.0-py2.py3-none-any.whl (18 kB)\n",
            "Installing collected packages: cssselect\n",
            "Successfully installed cssselect-1.2.0\n"
          ]
        }
      ],
      "source": [
        "!pip3 install cssselect"
      ]
    },
    {
      "cell_type": "code",
      "execution_count": null,
      "metadata": {
        "id": "Xd_QMsr0BjZM",
        "colab": {
          "base_uri": "https://localhost:8080/"
        },
        "outputId": "c9d24df6-b5bd-4d8d-fda6-6d2162aca6b5"
      },
      "outputs": [
        {
          "output_type": "stream",
          "name": "stdout",
          "text": [
            "CPU times: user 10.1 s, sys: 1.4 s, total: 11.4 s\n",
            "Wall time: 32min 16s\n"
          ]
        },
        {
          "output_type": "execute_result",
          "data": {
            "text/plain": [
              "[Row(nconst='nm0004822', URL='https://m.media-amazon.com/images/M/MV5BMjE2ODUwOTIxMl5BMl5BanBnXkFtZTYwMDcyOTU3'),\n",
              " Row(nconst='nm0007369', URL=None),\n",
              " Row(nconst='nm0015241', URL='https://m.media-amazon.com/images/M/MV5BMGFhNWZhOWEtZjVkNC00ZmIwLTg2NzItZTJhYTViMDIwOTRiXkEyXkFqcGdeQXVyNjg3MTIwODI@'),\n",
              " Row(nconst='nm0029357', URL='https://m.media-amazon.com/images/M/MV5BMTk4MTMyMjkwOF5BMl5BanBnXkFtZTgwNDcwNzQ0ODE@'),\n",
              " Row(nconst='nm0031184', URL=None)]"
            ]
          },
          "metadata": {},
          "execution_count": 17
        }
      ],
      "source": [
        "%%time\n",
        "sample_lib_lxml = sample.withColumn(\"URL\", udf_lxml_get_link_to_image(\"nconst\"))\n",
        "sample_lib_lxml.head(5)"
      ]
    },
    {
      "cell_type": "markdown",
      "source": [
        "Metoda ta okazuje się być najszybsza spośród testowanych."
      ],
      "metadata": {
        "id": "0qIn2sp8Za3q"
      }
    },
    {
      "cell_type": "markdown",
      "source": [
        "## Ilość zdjęć"
      ],
      "metadata": {
        "id": "cjrV_6GSnp5F"
      }
    },
    {
      "cell_type": "markdown",
      "source": [
        "Sprawdzamy dla jak wielu spośród wszystkich aktorów z naszej próbki jesteśmy w stanie zdobyć link do zdjęcia z IMDB."
      ],
      "metadata": {
        "id": "UC0XqlUDZg7x"
      }
    },
    {
      "cell_type": "code",
      "source": [
        "from pyspark.sql.functions import col, when, count"
      ],
      "metadata": {
        "id": "SW9OiKRJiaBo"
      },
      "execution_count": null,
      "outputs": []
    },
    {
      "cell_type": "code",
      "source": [
        "data_no_nulls = sample_lib_lxml.filter(col(\"URL\").isNotNull())"
      ],
      "metadata": {
        "id": "0ip7eOWJwk3y"
      },
      "execution_count": null,
      "outputs": []
    },
    {
      "cell_type": "code",
      "source": [
        "%%time\n",
        "links_no = data_no_nulls.count()"
      ],
      "metadata": {
        "id": "uHdT-UB1w0H0",
        "colab": {
          "base_uri": "https://localhost:8080/"
        },
        "outputId": "47a14105-ecc1-42d5-9a64-b50aa2b95ef9"
      },
      "execution_count": null,
      "outputs": [
        {
          "output_type": "stream",
          "name": "stdout",
          "text": [
            "CPU times: user 55.9 s, sys: 7.7 s, total: 1min 3s\n",
            "Wall time: 3h 11min 9s\n"
          ]
        }
      ]
    },
    {
      "cell_type": "code",
      "source": [
        "links_no"
      ],
      "metadata": {
        "colab": {
          "base_uri": "https://localhost:8080/"
        },
        "id": "jzXuUQeWc7n-",
        "outputId": "a8bced89-5a71-42d5-f648-6b3fa029d5f6"
      },
      "execution_count": null,
      "outputs": [
        {
          "output_type": "execute_result",
          "data": {
            "text/plain": [
              "5343"
            ]
          },
          "metadata": {},
          "execution_count": 22
        }
      ]
    },
    {
      "cell_type": "code",
      "source": [
        "100 * links_no/ids_no"
      ],
      "metadata": {
        "id": "4iJEgh6uxVAJ",
        "colab": {
          "base_uri": "https://localhost:8080/"
        },
        "outputId": "7b29a196-42ab-4cfb-d5ae-63163e65bf21"
      },
      "execution_count": null,
      "outputs": [
        {
          "output_type": "execute_result",
          "data": {
            "text/plain": [
              "12.949901839598633"
            ]
          },
          "metadata": {},
          "execution_count": 21
        }
      ]
    }
  ],
  "metadata": {
    "colab": {
      "provenance": [],
      "include_colab_link": true
    },
    "kernelspec": {
      "display_name": "Python 3",
      "name": "python3"
    },
    "language_info": {
      "name": "python"
    },
    "gpuClass": "standard"
  },
  "nbformat": 4,
  "nbformat_minor": 0
}