{
  "nbformat": 4,
  "nbformat_minor": 0,
  "metadata": {
    "colab": {
      "provenance": [],
      "authorship_tag": "ABX9TyPoWQLh47lOegA0cWoWJhWo",
      "include_colab_link": true
    },
    "kernelspec": {
      "name": "python3",
      "display_name": "Python 3"
    },
    "language_info": {
      "name": "python"
    }
  },
  "cells": [
    {
      "cell_type": "markdown",
      "metadata": {
        "id": "view-in-github",
        "colab_type": "text"
      },
      "source": [
        "<a href=\"https://colab.research.google.com/github/PiotrMaciejKowalski/BigData2022-actors/blob/Podzia-zbioru-/colabs/Dane_z_dodatkowymi_kolumnami.ipynb\" target=\"_parent\"><img src=\"https://colab.research.google.com/assets/colab-badge.svg\" alt=\"Open In Colab\"/></a>"
      ]
    },
    {
      "cell_type": "code",
      "execution_count": null,
      "metadata": {
        "id": "za7DaCR3dgqt"
      },
      "outputs": [],
      "source": [
        "from google.colab import drive\n",
        "drive.mount('/content/gdrive')"
      ]
    },
    {
      "cell_type": "code",
      "source": [
        "!git clone https://github.com/PiotrMaciejKowalski/BigData2022-actors.git\n",
        "!mv /content/BigData2022-actors/* .\n",
        "!mv /content/BigData2022-actors/.* .\n",
        "!rmdir /content/BigData2022-actors/"
      ],
      "metadata": {
        "id": "K60BCiGbdtpW"
      },
      "execution_count": null,
      "outputs": []
    },
    {
      "cell_type": "code",
      "source": [
        "#!git checkout <nazwa_twojego_brancha>"
      ],
      "metadata": {
        "id": "TFzJKP4rdv65"
      },
      "execution_count": null,
      "outputs": []
    },
    {
      "cell_type": "code",
      "source": [
        "!chmod +x setup_sparka.sh\n",
        "!./setup_sparka.sh"
      ],
      "metadata": {
        "id": "O6ZQlPuhdxnb"
      },
      "execution_count": null,
      "outputs": []
    },
    {
      "cell_type": "code",
      "source": [
        "import pandas as pd\n",
        "from lib.pyspark_init import create_spark_context\n",
        "from lib.adding_columns import add_all_columns\n",
        "from lib.const import DATA_WITH_AWARDS, TRAIN_DATA, VALIDATE_DATA, TEST_DATA"
      ],
      "metadata": {
        "id": "7HTSohGrd0zi"
      },
      "execution_count": null,
      "outputs": []
    },
    {
      "cell_type": "code",
      "source": [
        "spark = create_spark_context()\n",
        "spark"
      ],
      "metadata": {
        "id": "F-LFEvOYd2tq"
      },
      "execution_count": null,
      "outputs": []
    },
    {
      "cell_type": "code",
      "source": [
        "%%time\n",
        "data = spark.read.parquet(DATA_WITH_AWARDS)\n",
        "data.show()"
      ],
      "metadata": {
        "id": "FyTzjNUKd3R5"
      },
      "execution_count": null,
      "outputs": []
    },
    {
      "cell_type": "code",
      "source": [
        "%%time\n",
        "data = add_all_columns(data)\n",
        "data.show()"
      ],
      "metadata": {
        "id": "WG3_684td3PR"
      },
      "execution_count": null,
      "outputs": []
    },
    {
      "cell_type": "code",
      "source": [
        "%%time\n",
        "data_splited = data.randomSplit([0.7, 0.1, 0.2], seed=1)"
      ],
      "metadata": {
        "id": "COSijsIZfAcN"
      },
      "execution_count": null,
      "outputs": []
    },
    {
      "cell_type": "code",
      "source": [
        "train_data = data_splited[0]\n",
        "validate_data = data_splited[1]\n",
        "test_data = data_splited[2]"
      ],
      "metadata": {
        "id": "7PeglY6PDd8H"
      },
      "execution_count": null,
      "outputs": []
    },
    {
      "cell_type": "code",
      "source": [
        "%%time\n",
        "data.write.parquet(TRAIN_DATA)\n",
        "data.write.parquet(VALIDATE_DATA)\n",
        "data.write.parquet(TEST_DATA)"
      ],
      "metadata": {
        "id": "4QqK732cDghy"
      },
      "execution_count": null,
      "outputs": []
    }
  ]
}