{
  "nbformat": 4,
  "nbformat_minor": 0,
  "metadata": {
    "colab": {
      "provenance": [],
      "include_colab_link": true
    },
    "kernelspec": {
      "name": "python3",
      "display_name": "Python 3"
    },
    "language_info": {
      "name": "python"
    }
  },
  "cells": [
    {
      "cell_type": "markdown",
      "metadata": {
        "id": "view-in-github",
        "colab_type": "text"
      },
      "source": [
        "<a href=\"https://colab.research.google.com/github/PiotrMaciejKowalski/BigData2022-actors/blob/Dodanie_top_typ_filmu/colabs/Dane_z_dodatkowymi_kolumnami.ipynb\" target=\"_parent\"><img src=\"https://colab.research.google.com/assets/colab-badge.svg\" alt=\"Open In Colab\"/></a>"
      ]
    },
    {
      "cell_type": "code",
      "execution_count": 1,
      "metadata": {
        "id": "za7DaCR3dgqt",
        "outputId": "9c0c3d99-ee24-40ff-864f-59ecd9db4088",
        "colab": {
          "base_uri": "https://localhost:8080/"
        }
      },
      "outputs": [
        {
          "output_type": "stream",
          "name": "stdout",
          "text": [
            "Mounted at /content/gdrive\n"
          ]
        }
      ],
      "source": [
        "from google.colab import drive\n",
        "drive.mount('/content/gdrive')"
      ]
    },
    {
      "cell_type": "code",
      "source": [
        "!git clone https://github.com/PiotrMaciejKowalski/BigData2022-actors.git\n",
        "!mv /content/BigData2022-actors/* .\n",
        "!mv /content/BigData2022-actors/.* .\n",
        "!rmdir /content/BigData2022-actors/"
      ],
      "metadata": {
        "id": "K60BCiGbdtpW",
        "outputId": "31a16e24-1cb0-4ba3-cd29-5e224dcc5741",
        "colab": {
          "base_uri": "https://localhost:8080/"
        }
      },
      "execution_count": 2,
      "outputs": [
        {
          "output_type": "stream",
          "name": "stdout",
          "text": [
            "Cloning into 'BigData2022-actors'...\n",
            "remote: Enumerating objects: 1293, done.\u001b[K\n",
            "remote: Counting objects: 100% (458/458), done.\u001b[K\n",
            "remote: Compressing objects: 100% (265/265), done.\u001b[K\n",
            "remote: Total 1293 (delta 341), reused 217 (delta 192), pack-reused 835\u001b[K\n",
            "Receiving objects: 100% (1293/1293), 5.94 MiB | 6.22 MiB/s, done.\n",
            "Resolving deltas: 100% (743/743), done.\n",
            "mv: cannot move '/content/BigData2022-actors/.' to './.': Device or resource busy\n",
            "mv: cannot move '/content/BigData2022-actors/..' to './..': Device or resource busy\n"
          ]
        }
      ]
    },
    {
      "cell_type": "code",
      "source": [
        "# !git checkout <nazwa_twojego_brancha>"
      ],
      "metadata": {
        "id": "TFzJKP4rdv65"
      },
      "execution_count": 3,
      "outputs": []
    },
    {
      "cell_type": "code",
      "source": [
        "!chmod +x setup_sparka.sh\n",
        "!./setup_sparka.sh"
      ],
      "metadata": {
        "id": "O6ZQlPuhdxnb",
        "outputId": "7721cbb3-d698-4ece-8463-c67ad1048ea3",
        "colab": {
          "base_uri": "https://localhost:8080/"
        }
      },
      "execution_count": 4,
      "outputs": [
        {
          "output_type": "stream",
          "name": "stdout",
          "text": [
            "Looking in indexes: https://pypi.org/simple, https://us-python.pkg.dev/colab-wheels/public/simple/\n",
            "Collecting pyspark\n",
            "  Downloading pyspark-3.3.1.tar.gz (281.4 MB)\n",
            "\u001b[K     |████████████████████████████████| 281.4 MB 37 kB/s \n",
            "\u001b[?25hCollecting py4j\n",
            "  Downloading py4j-0.10.9.7-py2.py3-none-any.whl (200 kB)\n",
            "\u001b[K     |████████████████████████████████| 200 kB 46.3 MB/s \n",
            "\u001b[?25h  Downloading py4j-0.10.9.5-py2.py3-none-any.whl (199 kB)\n",
            "\u001b[K     |████████████████████████████████| 199 kB 14.5 MB/s \n",
            "\u001b[?25hBuilding wheels for collected packages: pyspark\n",
            "  Building wheel for pyspark (setup.py) ... \u001b[?25l\u001b[?25hdone\n",
            "  Created wheel for pyspark: filename=pyspark-3.3.1-py2.py3-none-any.whl size=281845512 sha256=5c1e8602a33aa33b14c7d2db8da1f2ae96cc2be6080dbb36e1c7dc3f8338b9fe\n",
            "  Stored in directory: /root/.cache/pip/wheels/43/dc/11/ec201cd671da62fa9c5cc77078235e40722170ceba231d7598\n",
            "Successfully built pyspark\n",
            "Installing collected packages: py4j, pyspark\n",
            "Successfully installed py4j-0.10.9.5 pyspark-3.3.1\n",
            "--2022-12-29 17:41:37--  https://dlcdn.apache.org/spark/spark-3.3.1/spark-3.3.1-bin-hadoop2.tgz\n",
            "Resolving dlcdn.apache.org (dlcdn.apache.org)... 151.101.2.132, 2a04:4e42::644\n",
            "Connecting to dlcdn.apache.org (dlcdn.apache.org)|151.101.2.132|:443... connected.\n",
            "HTTP request sent, awaiting response... 200 OK\n",
            "Length: 274099817 (261M) [application/x-gzip]\n",
            "Saving to: ‘spark-3.3.1-bin-hadoop2.tgz’\n",
            "\n",
            "spark-3.3.1-bin-had 100%[===================>] 261.40M   179MB/s    in 1.5s    \n",
            "\n",
            "2022-12-29 17:41:39 (179 MB/s) - ‘spark-3.3.1-bin-hadoop2.tgz’ saved [274099817/274099817]\n",
            "\n"
          ]
        }
      ]
    },
    {
      "cell_type": "code",
      "source": [
        "import pandas as pd\n",
        "from lib.pyspark_init import create_spark_context\n",
        "from lib.adding_columns import add_all_columns\n",
        "from lib.const import DATA_WITH_AWARDS, TRAIN_DATA, VALIDATE_DATA, TEST_DATA"
      ],
      "metadata": {
        "id": "7HTSohGrd0zi"
      },
      "execution_count": 5,
      "outputs": []
    },
    {
      "cell_type": "code",
      "source": [
        "spark = create_spark_context()\n",
        "spark"
      ],
      "metadata": {
        "id": "F-LFEvOYd2tq",
        "outputId": "d73bb4eb-7fb4-4b61-ca66-2e60c011ed7b",
        "colab": {
          "base_uri": "https://localhost:8080/",
          "height": 222
        }
      },
      "execution_count": 6,
      "outputs": [
        {
          "output_type": "execute_result",
          "data": {
            "text/plain": [
              "<pyspark.sql.session.SparkSession at 0x7fa9c3821430>"
            ],
            "text/html": [
              "\n",
              "            <div>\n",
              "                <p><b>SparkSession - in-memory</b></p>\n",
              "                \n",
              "        <div>\n",
              "            <p><b>SparkContext</b></p>\n",
              "\n",
              "            <p><a href=\"http://2af7ba3d05c9:4040\">Spark UI</a></p>\n",
              "\n",
              "            <dl>\n",
              "              <dt>Version</dt>\n",
              "                <dd><code>v3.3.1</code></dd>\n",
              "              <dt>Master</dt>\n",
              "                <dd><code>local[*]</code></dd>\n",
              "              <dt>AppName</dt>\n",
              "                <dd><code>Colab</code></dd>\n",
              "            </dl>\n",
              "        </div>\n",
              "        \n",
              "            </div>\n",
              "        "
            ]
          },
          "metadata": {},
          "execution_count": 6
        }
      ]
    },
    {
      "cell_type": "code",
      "source": [
        "!chmod +x download_data.sh\n",
        "!./download_data.sh"
      ],
      "metadata": {
        "id": "34zE25loRVfR",
        "outputId": "48718454-c5e6-4274-db41-e86f32336640",
        "colab": {
          "base_uri": "https://localhost:8080/"
        }
      },
      "execution_count": 7,
      "outputs": [
        {
          "output_type": "stream",
          "name": "stdout",
          "text": [
            "--2022-12-29 17:41:54--  https://datasets.imdbws.com/name.basics.tsv.gz\n",
            "Resolving datasets.imdbws.com (datasets.imdbws.com)... 13.35.24.74, 13.35.24.122, 13.35.24.56, ...\n",
            "Connecting to datasets.imdbws.com (datasets.imdbws.com)|13.35.24.74|:443... connected.\n",
            "HTTP request sent, awaiting response... 200 OK\n",
            "Length: 238526258 (227M) [binary/octet-stream]\n",
            "Saving to: ‘name.basics.tsv.gz’\n",
            "\n",
            "name.basics.tsv.gz  100%[===================>] 227.48M  21.8MB/s    in 12s     \n",
            "\n",
            "2022-12-29 17:42:07 (19.1 MB/s) - ‘name.basics.tsv.gz’ saved [238526258/238526258]\n",
            "\n",
            "--2022-12-29 17:42:07--  https://datasets.imdbws.com/title.akas.tsv.gz\n",
            "Resolving datasets.imdbws.com (datasets.imdbws.com)... 13.35.24.74, 13.35.24.122, 13.35.24.56, ...\n",
            "Connecting to datasets.imdbws.com (datasets.imdbws.com)|13.35.24.74|:443... connected.\n",
            "HTTP request sent, awaiting response... 200 OK\n",
            "Length: 291823241 (278M) [binary/octet-stream]\n",
            "Saving to: ‘title.akas.tsv.gz’\n",
            "\n",
            "title.akas.tsv.gz   100%[===================>] 278.30M  22.0MB/s    in 14s     \n",
            "\n",
            "2022-12-29 17:42:22 (19.5 MB/s) - ‘title.akas.tsv.gz’ saved [291823241/291823241]\n",
            "\n",
            "--2022-12-29 17:42:22--  https://datasets.imdbws.com/title.basics.tsv.gz\n",
            "Resolving datasets.imdbws.com (datasets.imdbws.com)... 13.35.24.74, 13.35.24.122, 13.35.24.56, ...\n",
            "Connecting to datasets.imdbws.com (datasets.imdbws.com)|13.35.24.74|:443... connected.\n",
            "HTTP request sent, awaiting response... 200 OK\n",
            "Length: 165637435 (158M) [binary/octet-stream]\n",
            "Saving to: ‘title.basics.tsv.gz’\n",
            "\n",
            "title.basics.tsv.gz 100%[===================>] 157.96M  22.0MB/s    in 8.6s    \n",
            "\n",
            "2022-12-29 17:42:32 (18.4 MB/s) - ‘title.basics.tsv.gz’ saved [165637435/165637435]\n",
            "\n",
            "--2022-12-29 17:42:32--  https://datasets.imdbws.com/title.crew.tsv.gz\n",
            "Resolving datasets.imdbws.com (datasets.imdbws.com)... 13.35.24.74, 13.35.24.124, 13.35.24.122, ...\n",
            "Connecting to datasets.imdbws.com (datasets.imdbws.com)|13.35.24.74|:443... connected.\n",
            "HTTP request sent, awaiting response... 200 OK\n",
            "Length: 63549895 (61M) [binary/octet-stream]\n",
            "Saving to: ‘title.crew.tsv.gz’\n",
            "\n",
            "title.crew.tsv.gz   100%[===================>]  60.61M  17.3MB/s    in 4.0s    \n",
            "\n",
            "2022-12-29 17:42:37 (15.1 MB/s) - ‘title.crew.tsv.gz’ saved [63549895/63549895]\n",
            "\n",
            "--2022-12-29 17:42:37--  https://datasets.imdbws.com/title.episode.tsv.gz\n",
            "Resolving datasets.imdbws.com (datasets.imdbws.com)... 13.35.24.74, 13.35.24.124, 13.35.24.122, ...\n",
            "Connecting to datasets.imdbws.com (datasets.imdbws.com)|13.35.24.74|:443... connected.\n",
            "HTTP request sent, awaiting response... 200 OK\n",
            "Length: 39046529 (37M) [binary/octet-stream]\n",
            "Saving to: ‘title.episode.tsv.gz’\n",
            "\n",
            "title.episode.tsv.g 100%[===================>]  37.24M  13.1MB/s    in 2.8s    \n",
            "\n",
            "2022-12-29 17:42:41 (13.1 MB/s) - ‘title.episode.tsv.gz’ saved [39046529/39046529]\n",
            "\n",
            "--2022-12-29 17:42:41--  https://datasets.imdbws.com/title.principals.tsv.gz\n",
            "Resolving datasets.imdbws.com (datasets.imdbws.com)... 13.35.24.74, 13.35.24.124, 13.35.24.122, ...\n",
            "Connecting to datasets.imdbws.com (datasets.imdbws.com)|13.35.24.74|:443... connected.\n",
            "HTTP request sent, awaiting response... 200 OK\n",
            "Length: 422025474 (402M) [binary/octet-stream]\n",
            "Saving to: ‘title.principals.tsv.gz’\n",
            "\n",
            "title.principals.ts 100%[===================>] 402.47M  21.4MB/s    in 21s     \n",
            "\n",
            "2022-12-29 17:43:02 (19.2 MB/s) - ‘title.principals.tsv.gz’ saved [422025474/422025474]\n",
            "\n",
            "--2022-12-29 17:43:02--  https://datasets.imdbws.com/title.ratings.tsv.gz\n",
            "Resolving datasets.imdbws.com (datasets.imdbws.com)... 13.35.24.74, 13.35.24.124, 13.35.24.56, ...\n",
            "Connecting to datasets.imdbws.com (datasets.imdbws.com)|13.35.24.74|:443... connected.\n",
            "HTTP request sent, awaiting response... 200 OK\n",
            "Length: 6323075 (6.0M) [binary/octet-stream]\n",
            "Saving to: ‘title.ratings.tsv.gz’\n",
            "\n",
            "title.ratings.tsv.g 100%[===================>]   6.03M  --.-KB/s    in 0.07s   \n",
            "\n",
            "2022-12-29 17:43:03 (82.3 MB/s) - ‘title.ratings.tsv.gz’ saved [6323075/6323075]\n",
            "\n"
          ]
        }
      ]
    },
    {
      "cell_type": "code",
      "source": [
        "%%time\n",
        "data = spark.read.parquet(DATA_WITH_AWARDS)\n",
        "data.show()"
      ],
      "metadata": {
        "id": "FyTzjNUKd3R5",
        "outputId": "997b3813-b99e-4352-b395-e095b60b13d6",
        "colab": {
          "base_uri": "https://localhost:8080/"
        }
      },
      "execution_count": 8,
      "outputs": [
        {
          "output_type": "stream",
          "name": "stdout",
          "text": [
            "+---------+--------------------+--------------------+--------------------+--------------------+---------+-------+--------------------+--------+--------------------+-------------------+--------------------+--------------------+--------------------+--------------------+--------------------+--------------------+--------------------+--------------------+--------------------+---------+-------------+------------+------------+-------------+--------+\n",
            "|   nconst|              tconst|           titleType|       originalTitle|             isAdult|startYear|endYear|              genres|category|          characters|        primaryName|      knownForTitles|         year_oscars|     category_oscars|         film_oscars|       winner_oscars|         year_globes|     category_globes|         film_globes|          win_globes|year_emmy|category_emmy|nominee_emmy|company_emmy|producer_emmy|win_emmy|\n",
            "+---------+--------------------+--------------------+--------------------+--------------------+---------+-------+--------------------+--------+--------------------+-------------------+--------------------+--------------------+--------------------+--------------------+--------------------+--------------------+--------------------+--------------------+--------------------+---------+-------------+------------+------------+-------------+--------+\n",
            "|nm0000002|[tt0039302, tt033...|[movie, tvMiniSer...|[Dark Passage, CB...|[0, 0, 0, 0, 0, 0...|     1944|     \\N|[Film-Noir,Thrill...| actress|[[\"Irene Jansen\"]...|      Lauren Bacall|tt0038355,tt01170...|              [1997]|ACTRESS IN A SUPP...|[The Mirror Has T...|             [False]|        [1997, 1993]|[Best Performance...|[The Mirror Has T...|       [True, False]|       []|           []|          []|          []|           []|      []|\n",
            "|nm0000014|[tt0036277, tt003...|[movie, movie, mo...|[Princess O'Rourk...|[0, 0, 0, 0, 0, 0...|     1935|     \\N|[Comedy,Romance, ...| actress|[[\"Princess Maria...|Olivia de Havilland|tt0041452,tt00408...|[1950, 1949, 1947...|             ACTRESS|[The Heiress, The...|[True, False, Tru...|  [1987, 1953, 1950]|[Best Performance...|[Anastasia: The M...| [True, False, True]|       []|           []|          []|          []|           []|      []|\n",
            "|nm0000022|[tt0021885, tt002...|[movie, movie, mo...|[A Free Soul, Cai...|[0, 0, 0, 0, 0, 0...|     1924|     \\N|[Crime,Drama,Roma...|   actor|[[\"Ace Wilfong\"],...|        Clark Gable|tt0031381,tt00267...|  [1940, 1936, 1935]|               ACTOR|[Gone with the Wi...|[False, False, True]|        [1960, 1959]|[Best Performance...|[But Not For Me, ...|      [False, False]|       []|           []|          []|          []|           []|      []|\n",
            "|nm0000091|         [tt4417850]|         [tvEpisode]|[De la pauvreté d...|                 [0]|     1969|     \\N|[Documentary,Shor...|   actor|[[\"Un membre de l...|       Gérard Pirès|tt0421974,tt01529...|                  []|                null|                  []|                  []|                  []|                  []|                  []|                  []|       []|           []|          []|          []|           []|      []|\n",
            "|nm0000092|[tt0071853, tt008...|[movie, movie, vi...|[Monty Python and...|[0, 0, 0, 0, 0, 0...|     1966|     \\N|[Adventure,Comedy...|   actor|[[\"Second Swallow...|        John Cleese|tt0085959,tt00951...|                  []|                null|                  []|                  []|              [1989]|[Best Performance...|[Fish Called Wand...|             [False]|       []|           []|          []|          []|           []|      []|\n",
            "|nm0000105|[tt0536523, tt054...|[tvEpisode, tvEpi...|[Ingram, TX, Tear...|[0, 0, 0, 0, 0, 0...|     1972|     \\N|[Drama,Fantasy,My...| actress|[[\"Ruthie\"], [\"Ev...|   Adrienne Barbeau|tt0090685,tt00807...|                  []|                null|                  []|                  []|              [1977]|[Best Performance...|             [Maude]|             [False]|       []|           []|          []|          []|           []|      []|\n",
            "|nm0000137|[tt0086987, tt085...|[movie, tvEpisode...|[Bolero, A Shot H...|[0, 0, 0, 0, 0, 0...|     1977|     \\N|[Comedy,Drama,Rom...| actress|[[\"Lida MacGilliv...|           Bo Derek|tt0114694,tt00996...|                  []|                null|                  []|                  []|              [1980]|[New Star Of The ...|                [10]|             [False]|       []|           []|          []|          []|           []|      []|\n",
            "|nm0000146|[tt0110932, tt011...|[movie, movie, mo...|[Quiz Show, Onegi...|[0, 0, 0, 0, 0, 0...|     1992|     \\N|[Biography,Drama,...|   actor|[[\"Charles Van Do...|      Ralph Fiennes|tt0108052,tt22783...|        [1997, 1994]|ACTOR IN A LEADIN...|[The English Pati...|      [False, False]|[2015, 2009, 2009...|[Best Performance...|[Grand Budapest H...|[False, False, Fa...|       []|           []|          []|          []|           []|      []|\n",
            "|nm0000261|[tt0100568, tt019...|[tvMovie, movie, ...|[Secret Weapon, T...|[0, 0, 0, 0, 0, 0...|     1978|     \\N|[Biography,Drama,...| actress|[[\"Ruth\"], [\"Bess...|        Karen Allen|tt0088172,tt00779...|                  []|                null|                  []|                  []|                  []|                  []|                  []|                  []|       []|           []|          []|          []|           []|      []|\n",
            "|nm0000304|[tt0653561, tt123...|[tvEpisode, tvEpi...|[Murder Takes the...|[0, 0, 0, 0, 0, 0...|     1973|     \\N|[Crime,Drama,Myst...| actress|[[\"Jane Pascal\"],...|        Linda Blair|tt0082511,tt00880...|              [1974]|ACTRESS IN A SUPP...|      [The Exorcist]|             [False]|        [1974, 1974]|[New Star Of The ...|[Exorcist, The, E...|       [False, True]|       []|           []|          []|          []|           []|      []|\n",
            "|nm0000312|[tt0174121, tt061...|[tvEpisode, tvEpi...|[The Pig in the P...|[0, 0, 0, 0, 0, 0...|     1992|     \\N|[Drama, Drama, Dr...| actress|[[\"Blanche\"], [\"A...|      Amy Brenneman|tt0209069,tt01132...|                  []|                null|                  []|                  []|  [2002, 2001, 2000]|[Best Performance...|[Judging Amy, Jud...|[False, False, Fa...|       []|           []|          []|          []|           []|      []|\n",
            "|nm0000352|[tt0273453, tt062...|[movie, tvEpisode...|[Bark!, Consumed,...|[0, 0, 0, 0, 0, 0...|     1985|     \\N|[Comedy,Drama, Cr...|   actor|[[\"Malcolm\"], [\"D...|  Vincent D'Onofrio|tt0119654,tt00930...|                  []|                null|                  []|                  []|                  []|                  []|                  []|                  []|       []|           []|          []|          []|           []|      []|\n",
            "|nm0000378|[tt0301148, tt102...|[short, tvEpisode...|[D.C. Smalls, The...|[0, 0, 0, 0, 0, 0...|     1990|     \\N|[Comedy,Short, Co...| actress|[[\"Waitress\"], [\"...|      Minnie Driver|tt0496343,tt01192...|              [1998]|ACTRESS IN A SUPP...| [Good Will Hunting]|             [False]|              [2008]|[Best Performance...|       [Riches, The]|             [False]|       []|           []|          []|          []|           []|      []|\n",
            "|nm0000394|[tt0115697, tt069...|[movie, tvEpisode...|[Black Sheep, Jer...|[0, 0, 0, 0, 0, 0...|     1991|     \\N|[Comedy, Comedy,M...|   actor|[[\"Mike Donnelly\"...|       Chris Farley|tt0114694,tt01156...|                  []|                null|                  []|                  []|                  []|                  []|                  []|                  []|       []|           []|          []|          []|           []|      []|\n",
            "|nm0000413|[tt0110950, tt012...|[movie, movie, mo...|[Reality Bites, T...|[0, 0, 0, 0, 0, 0...|     1991|     \\N|[Comedy,Drama,Rom...| actress|[[\"Vickie Miner\"]...|   Janeane Garofalo|tt0243655,tt01179...|                  []|                null|                  []|                  []|                  []|                  []|                  []|                  []|       []|           []|          []|          []|           []|      []|\n",
            "|nm0000538|[tt1226271, tt151...|[movie, movie, tv...|[The Damned Unite...|[0, 0, 0, 0, 0, 0...|     1973|     \\N|[Biography,Drama,...|   actor|[[\"Don Revie\"], [...|        Colm Meaney|tt0118880,tt03759...|                  []|                null|                  []|                  []|              [1994]|[Best Performance...|      [Snapper, The]|             [False]|       []|           []|          []|          []|           []|      []|\n",
            "|nm0000545|[tt0074603, tt009...|[movie, movie, mo...|[Hamlet, The Mosq...|[0, 0, 0, 0, 0, 0...|     1967|     \\N|[Drama, Adventure...| actress|[[\"Ophelia\",\"Gert...|       Helen Mirren|tt1245526,tt02807...|[2010, 2007, 2002...|ACTRESS IN A LEAD...|[The Last Station...|[False, True, Fal...|[2020, 2018, 2016...|[Best Performance...|[Catherine the Gr...|[False, False, Fa...|       []|           []|          []|          []|           []|      []|\n",
            "|nm0000574|[tt5476568, tt012...|[tvEpisode, movie...|[Walcott Prep, Sp...|[0, 0, 0, 0, 0, 0...|     1985|     \\N|[Drama,Mystery,Sc...|   actor|[[\"Dr. Theo Yedli...|       Jason Patric|tt0117665,tt04802...|                  []|                null|                  []|                  []|                  []|                  []|                  []|                  []|       []|           []|          []|          []|           []|      []|\n",
            "|nm0000645|[tt0249305, tt075...|[tvSeries, movie,...|[N.Y.U.K, Illegal...|     [0, 0, 0, 0, 0]|     1995|     \\N|[\\N, Comedy,Sci-F...| actress|[[\"Dr. Anita Hugg...|  Anna Nicole Smith|tt0114467,tt07587...|                  []|                null|                  []|                  []|                  []|                  []|                  []|                  []|       []|           []|          []|          []|           []|      []|\n",
            "|nm0000675|[tt0524029, tt163...|[tvEpisode, tvEpi...|[The Ceremony, Th...|[0, 0, 0, 0, 0, 0...|     1992|     \\N|[Drama, Drama, Dr...| actress|[[\"Barb Henrickso...| Jeanne Tripplehorn|tt0103772,tt01201...|                  []|                null|                  []|                  []|                  []|                  []|                  []|                  []|       []|           []|          []|          []|           []|      []|\n",
            "+---------+--------------------+--------------------+--------------------+--------------------+---------+-------+--------------------+--------+--------------------+-------------------+--------------------+--------------------+--------------------+--------------------+--------------------+--------------------+--------------------+--------------------+--------------------+---------+-------------+------------+------------+-------------+--------+\n",
            "only showing top 20 rows\n",
            "\n",
            "CPU times: user 109 ms, sys: 13.6 ms, total: 122 ms\n",
            "Wall time: 18.4 s\n"
          ]
        }
      ]
    },
    {
      "cell_type": "code",
      "source": [
        "%%time\n",
        "data = add_all_columns(spark, data)\n",
        "#data.show()"
      ],
      "metadata": {
        "id": "WG3_684td3PR",
        "outputId": "c8f21147-59c2-4d61-8172-20145044b42f",
        "colab": {
          "base_uri": "https://localhost:8080/"
        }
      },
      "execution_count": 9,
      "outputs": [
        {
          "output_type": "stream",
          "name": "stdout",
          "text": [
            "CPU times: user 117 ms, sys: 20.9 ms, total: 138 ms\n",
            "Wall time: 4.84 s\n"
          ]
        }
      ]
    },
    {
      "cell_type": "markdown",
      "source": [
        "## Dodanie top type dla aktora"
      ],
      "metadata": {
        "id": "nQkBrIgfBADs"
      }
    },
    {
      "cell_type": "code",
      "source": [
        "from pyspark.sql.functions import explode, split\n",
        "from pyspark.sql import Window\n",
        "from pyspark.sql import Window\n",
        "from pyspark.sql.functions import count, row_number, desc, first"
      ],
      "metadata": {
        "id": "xjl6iiUwH3oo"
      },
      "execution_count": 10,
      "outputs": []
    },
    {
      "cell_type": "code",
      "source": [
        "df2 = data.select('nconst', explode(data.titleType).alias('titleType'))\n",
        "df3 = df2.select('nconst', explode(split(df2.titleType, ',')).alias('titleType'))\n",
        "\n",
        "w = Window.partitionBy('nconst', 'titleType')\n",
        "aggregated_table = df3.withColumn(\"count\",count(\"*\").over(w)).withColumn(\"rn\",\n",
        "                                                                 row_number().over(\n",
        "                                                                     w.orderBy(desc(\"count\")))).filter(\n",
        "                                                                         \"rn = 1\").groupBy('nconst').agg(\n",
        "                                                                             first('titleType').alias('top_type'))\n",
        "aggregated_table.show()"
      ],
      "metadata": {
        "id": "cFegip-rFoyC",
        "outputId": "8870282b-9d78-499a-c951-5022e7c0d0dd",
        "colab": {
          "base_uri": "https://localhost:8080/"
        }
      },
      "execution_count": 12,
      "outputs": [
        {
          "output_type": "stream",
          "name": "stdout",
          "text": [
            "+---------+--------+\n",
            "|   nconst|top_type|\n",
            "+---------+--------+\n",
            "|nm0000004|   movie|\n",
            "|nm0000012|   movie|\n",
            "|nm0000021|   movie|\n",
            "|nm0000023|   movie|\n",
            "|nm0000029|   movie|\n",
            "|nm0000086|   movie|\n",
            "|nm0000100|   movie|\n",
            "|nm0000113|   movie|\n",
            "|nm0000131|   movie|\n",
            "|nm0000161|   movie|\n",
            "|nm0000174|   movie|\n",
            "|nm0000179|   movie|\n",
            "|nm0000194|   movie|\n",
            "|nm0000198|   movie|\n",
            "|nm0000199|   movie|\n",
            "|nm0000237|   movie|\n",
            "|nm0000240|   movie|\n",
            "|nm0000301|   movie|\n",
            "|nm0000304|   movie|\n",
            "|nm0000339|   movie|\n",
            "+---------+--------+\n",
            "only showing top 20 rows\n",
            "\n"
          ]
        }
      ]
    },
    {
      "cell_type": "code",
      "source": [
        "data = data.join(aggregated_table, data.nconst==aggregated_table.nconst, 'left').drop(aggregated_table.nconst)\n",
        "data.show()"
      ],
      "metadata": {
        "id": "58YXKQVoA5tG",
        "outputId": "25f36212-2ad5-4774-f894-5e92155f7d8c",
        "colab": {
          "base_uri": "https://localhost:8080/"
        }
      },
      "execution_count": 13,
      "outputs": [
        {
          "output_type": "stream",
          "name": "stdout",
          "text": [
            "+--------------------+--------------------+--------------------+--------------------+---------+-------+--------------------+--------+--------------------+--------------------+--------------------+--------------------+--------------------+--------------------+--------------------+--------------------+--------------------+--------------------+--------------------+---------+-------------+------------+------------+-------------+--------+---------------------+---------+---------------------+---------+-------------------+-------+--------+--------------------+---------+---------+\n",
            "|              tconst|           titleType|       originalTitle|             isAdult|startYear|endYear|              genres|category|          characters|         primaryName|      knownForTitles|         year_oscars|     category_oscars|         film_oscars|       winner_oscars|         year_globes|     category_globes|         film_globes|          win_globes|year_emmy|category_emmy|nominee_emmy|company_emmy|producer_emmy|win_emmy|no_nominations_oscars|no_oscars|no_nominations_globes|no_globes|no_nominations_emmy|no_emmy|no_films|average_films_rating|   nconst| top_type|\n",
            "+--------------------+--------------------+--------------------+--------------------+---------+-------+--------------------+--------+--------------------+--------------------+--------------------+--------------------+--------------------+--------------------+--------------------+--------------------+--------------------+--------------------+--------------------+---------+-------------+------------+------------+-------------+--------+---------------------+---------+---------------------+---------+-------------------+-------+--------+--------------------+---------+---------+\n",
            "|[tt0043691, tt005...|[tvMovie, movie, ...|[Les joueurs, Pou...|[0, 0, 0, 0, 0, 0...|     1950|     \\N|[Comedy, Comedy, ...|   actor|[[\"Piotr Petrovit...|      Louis de Funès|tt0079200,tt00741...|                  []|                null|                  []|                  []|                  []|                  []|                  []|                  []|       []|           []|          []|          []|           []|      []|                 null|     null|                 null|     null|               null|   null|      61|   6.417307692307693|nm0000086|    movie|\n",
            "|[tt0653561, tt123...|[tvEpisode, tvEpi...|[Murder Takes the...|[0, 0, 0, 0, 0, 0...|     1973|     \\N|[Crime,Drama,Myst...| actress|[[\"Jane Pascal\"],...|         Linda Blair|tt0082511,tt00880...|              [1974]|ACTRESS IN A SUPP...|      [The Exorcist]|             [False]|        [1974, 1974]|[New Star Of The ...|[Exorcist, The, E...|       [False, True]|       []|           []|          []|          []|           []|      []|                    1|     null|                    2|        1|               null|   null|      66|   5.571186440677966|nm0000304|    movie|\n",
            "|[tt0301148, tt102...|[short, tvEpisode...|[D.C. Smalls, The...|[0, 0, 0, 0, 0, 0...|     1990|     \\N|[Comedy,Short, Co...| actress|[[\"Waitress\"], [\"...|       Minnie Driver|tt0496343,tt01192...|              [1998]|ACTRESS IN A SUPP...| [Good Will Hunting]|             [False]|              [2008]|[Best Performance...|       [Riches, The]|             [False]|       []|           []|          []|          []|           []|      []|                    1|     null|                    1|     null|               null|   null|     186|   7.277160493827161|nm0000378|    movie|\n",
            "|[tt0083472, tt008...|[tvSeries, movie,...|[Report to Murphy...|[0, 0, 0, 0, 0, 0...|     1974|     \\N|[Comedy, Comedy,C...|   actor|[[\"Murphy\"], [\"Jo...|      Michael Keaton|tt1895587,tt25622...|              [2015]|ACTOR IN A LEADIN...|[Birdman or (The ...|             [False]|        [2015, 2003]|[Best Performance...|[Birdman, Live fr...|       [True, False]|       []|           []|          []|          []|           []|      []|                    1|     null|                    2|        1|               null|   null|     107|                6.83|nm0000474|    movie|\n",
            "|[tt0108596, tt081...|[movie, tvEpisode...|[Wrestling Ernest...|[0, 0, 0, 0, 0, 0...|     1989|     \\N|[Drama,Romance, C...| actress|[[\"Elaine\"], [\"Te...|      Sandra Bullock|tt1454468,tt10418...|        [2014, 2010]|ACTRESS IN A LEAD...|[Gravity, The Bli...|       [False, True]|[2014, 2010, 2010...|[Best Performance...|[Gravity, Proposa...|[False, False, Tr...|       []|           []|          []|          []|           []|      []|                    2|        1|                    5|        1|               null|   null|      67|   6.203846153846153|nm0000113|    movie|\n",
            "|[tt0427968, tt044...|[movie, movie, tv...|[Trust the Man, T...|[0, 0, 0, 0, 0, 0...|     1989|     \\N|[Comedy,Drama,Rom...|   actor|[[\"Tom Pollack\"],...|      David Duchovny|tt0120902,tt04437...|                  []|                null|                  []|                  []|[2012, 2010, 2009...|[Best Performance...|[Californication,...|[False, False, Fa...|       []|           []|          []|          []|           []|      []|                 null|     null|                    8|        2|               null|   null|     397|   7.517480719794345|nm0000141|    movie|\n",
            "|[tt0102430, tt011...|[short, movie, mo...|[Memorial: Letter...|[0, 0, 0, 0, 0, 0...|     1984|     \\N|[Documentary,Shor...|   actor|[\\N, [\"Col. John ...|          Val Kilmer|tt0235737,tt03734...|                  []|                null|                  []|                  []|                  []|                  []|                  []|                  []|       []|           []|          []|          []|           []|      []|                 null|     null|                 null|     null|               null|   null|      75|   5.887671232876714|nm0000174|    movie|\n",
            "|[tt0096673, tt011...|[tvSeries, movie,...|[The Outsiders, L...|[0, 0, 0, 0, 0, 0...|     1990|     \\N|[Drama, Comedy, H...|   actor|[[\"Keith 'Two-Bit...|      David Arquette|tt0134084,tt01517...|                  []|                null|                  []|                  []|                  []|                  []|                  []|                  []|       []|           []|          []|          []|           []|      []|                 null|     null|                 null|     null|               null|   null|     262|   5.995555555555555|nm0000274|    movie|\n",
            "|[tt0115697, tt069...|[movie, tvEpisode...|[Black Sheep, Jer...|[0, 0, 0, 0, 0, 0...|     1991|     \\N|[Comedy, Comedy,M...|   actor|[[\"Mike Donnelly\"...|        Chris Farley|tt0114694,tt01156...|                  []|                null|                  []|                  []|                  []|                  []|                  []|                  []|       []|           []|          []|          []|           []|      []|                 null|     null|                 null|     null|               null|   null|      80|   6.563750000000001|nm0000394|    movie|\n",
            "|[tt0112178, tt070...|[tvSeries, tvEpis...|[Star Trek: Voyag...|[0, 0, 0, 0, 0, 0...|     1985|     \\N|[Action,Adventure...|   actor|[[\"Lt. Tom Paris\"...|Robert Duncan McN...|tt0387054,tt00935...|                  []|                null|                  []|                  []|                  []|                  []|                  []|                  []|       []|           []|          []|          []|           []|      []|                 null|     null|                 null|     null|               null|   null|     112|   7.368224299065419|nm0000536|tvEpisode|\n",
            "|[tt0074603, tt009...|[movie, movie, mo...|[Hamlet, The Mosq...|[0, 0, 0, 0, 0, 0...|     1967|     \\N|[Drama, Adventure...| actress|[[\"Ophelia\",\"Gert...|        Helen Mirren|tt1245526,tt02807...|[2010, 2007, 2002...|ACTRESS IN A LEAD...|[The Last Station...|[False, True, Fal...|[2020, 2018, 2016...|[Best Performance...|[Catherine the Gr...|[False, False, Fa...|       []|           []|          []|          []|           []|      []|                    4|        1|                   16|        3|               null|   null|     150|  6.9780303030303035|nm0000545|    movie|\n",
            "|[tt0021551, tt002...|[movie, movie, mo...|[The Widow from C...|[0, 0, 0, 0, 0, 0...|     1916|     \\N|[Crime,Drama,Roma...|   actor|[[\"Dominic\"], [\"D...|  Edward G. Robinson|tt0036775,tt00498...|                  []|                null|                  []|                  []|                  []|                  []|                  []|                  []|       []|           []|          []|          []|           []|      []|                 null|     null|                 null|     null|               null|   null|      94|   6.709756097560975|nm0000064|    movie|\n",
            "|[tt0094140, tt010...|[movie, movie, mo...|[Three for the Ro...|[0, 0, 0, 0, 0, 0...|     1983|     \\N|[Comedy,Drama, Ac...|   actor|[[\"Paul\"], [\"Aram...|       Charlie Sheen|tt0108333,tt03691...|                  []|                null|                  []|                  []|  [2006, 2005, 2002]|[Best Performance...|[Two and a Half M...|[False, False, True]|       []|           []|          []|          []|           []|      []|                 null|     null|                    3|        1|               null|   null|     386|   7.200265251989391|nm0000221|    movie|\n",
            "|[tt0089218, tt009...|[movie, movie, vi...|[The Goonies, Sta...|[0, 0, 0, 0, 0, 0...|     1981|     \\N|[Adventure,Comedy...|   actor|[[\"Mikey\"], [\"Dun...|          Sean Astin|tt0089218,tt01207...|                  []|                null|                  []|                  []|                  []|                  []|                  []|                  []|       []|           []|          []|          []|           []|      []|                 null|     null|                 null|     null|               null|   null|     452|  7.4508108108108075|nm0000276|    movie|\n",
            "|[tt0039297, tt004...|[movie, movie, tv...|[Dancing with Cri...|[0, 0, 0, 0, 0, 0...|     1943|     \\N|[Crime,Drama,Film...|   actor|[[\"Ted Peters\"], ...|Richard Attenborough|tt0107290,tt00571...|              [1983]|           DIRECTING|            [Gandhi]|              [True]|[1988, 1986, 1983...|[Best Director - ...|[Cry Freedom, Cho...|[False, False, Tr...|       []|           []|          []|          []|           []|      []|                    1|        1|                    5|        3|               null|   null|      97|   6.682456140350879|nm0000277|    movie|\n",
            "|[tt0067918, tt007...|[movie, movie, mo...|[Urlaubsreport - ...|[0, 0, 0, 0, 0, 0...|     1969|     \\N|[Comedy, Action,C...| actress|[[\"Ina, die Anhal...|       Sybil Danning|tt0373883,tt00804...|                  []|                null|                  []|                  []|                  []|                  []|                  []|                  []|       []|           []|          []|          []|           []|      []|                 null|     null|                 null|     null|               null|   null|      42|   4.720588235294118|nm0000356|    movie|\n",
            "|[tt0110950, tt012...|[movie, movie, mo...|[Reality Bites, T...|[0, 0, 0, 0, 0, 0...|     1991|     \\N|[Comedy,Drama,Rom...| actress|[[\"Vickie Miner\"]...|    Janeane Garofalo|tt0243655,tt01179...|                  []|                null|                  []|                  []|                  []|                  []|                  []|                  []|       []|           []|          []|          []|           []|      []|                 null|     null|                 null|     null|               null|   null|     155|  6.7037313432835814|nm0000413|    movie|\n",
            "|[tt0087094, tt011...|[tvMovie, videoGa...|[The Cowboy and t...|[0, 0, 0, 0, 0, 0...|     1978|     \\N|[Drama,Family,Rom...|   actor|[[\"Woody\"], [\"Dre...|   Christopher Lloyd|tt0101272,tt00964...|                  []|                null|                  []|                  []|                  []|                  []|                  []|                  []|       []|           []|          []|          []|           []|      []|                 null|     null|                 null|     null|               null|   null|     274|   7.006355932203391|nm0000502|    movie|\n",
            "|[tt0053804, tt005...|[movie, movie, mo...|[Exodus, The Outr...|[0, 0, 0, 0, 0, 0...|     1952|     \\N|[Action,Drama,War...|   actor|[[\"Ari Ben Canaan...|         Paul Newman|tt0110684,tt00848...|[2003, 1995, 1994...|ACTOR IN A SUPPOR...|[Road to Perditio...|[False, False, Tr...|[2006, 2003, 1995...|[Best Performance...|[Empire Falls, Ro...|[True, False, Fal...|       []|           []|          []|          []|           []|      []|                   10|        2|                   16|        6|               null|   null|      90|   6.715789473684211|nm0000056|    movie|\n",
            "|         [tt4417850]|         [tvEpisode]|[De la pauvreté d...|                 [0]|     1969|     \\N|[Documentary,Shor...|   actor|[[\"Un membre de l...|        Gérard Pirès|tt0421974,tt01529...|                  []|                null|                  []|                  []|                  []|                  []|                  []|                  []|       []|           []|          []|          []|           []|      []|                 null|     null|                 null|     null|               null|   null|       1|                null|nm0000091|tvEpisode|\n",
            "+--------------------+--------------------+--------------------+--------------------+---------+-------+--------------------+--------+--------------------+--------------------+--------------------+--------------------+--------------------+--------------------+--------------------+--------------------+--------------------+--------------------+--------------------+---------+-------------+------------+------------+-------------+--------+---------------------+---------+---------------------+---------+-------------------+-------+--------+--------------------+---------+---------+\n",
            "only showing top 20 rows\n",
            "\n"
          ]
        }
      ]
    },
    {
      "cell_type": "markdown",
      "source": [
        "## Podział zbioru"
      ],
      "metadata": {
        "id": "-fQGOydPBPcN"
      }
    },
    {
      "cell_type": "code",
      "source": [
        "%%time\n",
        "train_data, validate_data, test_data = data.randomSplit([0.7, 0.1, 0.2], seed=1)"
      ],
      "metadata": {
        "id": "COSijsIZfAcN"
      },
      "execution_count": null,
      "outputs": []
    },
    {
      "cell_type": "code",
      "source": [
        "%%time\n",
        "data.write.parquet(TRAIN_DATA)"
      ],
      "metadata": {
        "id": "4QqK732cDghy"
      },
      "execution_count": null,
      "outputs": []
    },
    {
      "cell_type": "code",
      "source": [
        "%%time\n",
        "data.write.parquet(VALIDATE_DATA)"
      ],
      "metadata": {
        "id": "159eAbKwukwJ"
      },
      "execution_count": null,
      "outputs": []
    },
    {
      "cell_type": "code",
      "source": [
        "%%time\n",
        "data.write.parquet(TEST_DATA)"
      ],
      "metadata": {
        "id": "MP_IdzkEukr4"
      },
      "execution_count": null,
      "outputs": []
    }
  ]
}