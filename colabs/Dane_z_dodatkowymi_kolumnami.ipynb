{
  "nbformat": 4,
  "nbformat_minor": 0,
  "metadata": {
    "colab": {
      "provenance": [],
      "include_colab_link": true
    },
    "kernelspec": {
      "name": "python3",
      "display_name": "Python 3"
    },
    "language_info": {
      "name": "python"
    }
  },
  "cells": [
    {
      "cell_type": "markdown",
      "metadata": {
        "id": "view-in-github",
        "colab_type": "text"
      },
      "source": [
        "<a href=\"https://colab.research.google.com/github/PiotrMaciejKowalski/BigData2022-actors/blob/Dodanie_top_typ_filmu/colabs/Dane_z_dodatkowymi_kolumnami.ipynb\" target=\"_parent\"><img src=\"https://colab.research.google.com/assets/colab-badge.svg\" alt=\"Open In Colab\"/></a>"
      ]
    },
    {
      "cell_type": "code",
      "execution_count": 2,
      "metadata": {
        "id": "za7DaCR3dgqt",
        "outputId": "48000938-b67b-4e69-94b6-db7260551fd0",
        "colab": {
          "base_uri": "https://localhost:8080/"
        }
      },
      "outputs": [
        {
          "output_type": "stream",
          "name": "stdout",
          "text": [
            "Mounted at /content/gdrive\n"
          ]
        }
      ],
      "source": [
        "from google.colab import drive\n",
        "drive.mount('/content/gdrive')"
      ]
    },
    {
      "cell_type": "code",
      "source": [
        "!git clone https://github.com/PiotrMaciejKowalski/BigData2022-actors.git\n",
        "!mv /content/BigData2022-actors/* .\n",
        "!mv /content/BigData2022-actors/.* .\n",
        "!rmdir /content/BigData2022-actors/"
      ],
      "metadata": {
        "id": "K60BCiGbdtpW",
        "outputId": "287a9b25-241a-4225-cdb0-9e7fc493ee51",
        "colab": {
          "base_uri": "https://localhost:8080/"
        }
      },
      "execution_count": 3,
      "outputs": [
        {
          "output_type": "stream",
          "name": "stdout",
          "text": [
            "Cloning into 'BigData2022-actors'...\n",
            "remote: Enumerating objects: 1297, done.\u001b[K\n",
            "remote: Counting objects: 100% (516/516), done.\u001b[K\n",
            "remote: Compressing objects: 100% (269/269), done.\u001b[K\n",
            "remote: Total 1297 (delta 399), reused 271 (delta 246), pack-reused 781\u001b[K\n",
            "Receiving objects: 100% (1297/1297), 5.94 MiB | 18.17 MiB/s, done.\n",
            "Resolving deltas: 100% (747/747), done.\n",
            "mv: cannot move '/content/BigData2022-actors/.' to './.': Device or resource busy\n",
            "mv: cannot move '/content/BigData2022-actors/..' to './..': Device or resource busy\n"
          ]
        }
      ]
    },
    {
      "cell_type": "code",
      "source": [
        "# !git checkout <nazwa_twojego_brancha>"
      ],
      "metadata": {
        "id": "TFzJKP4rdv65"
      },
      "execution_count": 4,
      "outputs": []
    },
    {
      "cell_type": "code",
      "source": [
        "!chmod +x setup_sparka.sh\n",
        "!./setup_sparka.sh"
      ],
      "metadata": {
        "id": "O6ZQlPuhdxnb",
        "outputId": "669da180-1c99-4cda-a53c-707a41f6a5d0",
        "colab": {
          "base_uri": "https://localhost:8080/"
        }
      },
      "execution_count": 5,
      "outputs": [
        {
          "output_type": "stream",
          "name": "stdout",
          "text": [
            "Looking in indexes: https://pypi.org/simple, https://us-python.pkg.dev/colab-wheels/public/simple/\n",
            "Collecting pyspark\n",
            "  Downloading pyspark-3.3.1.tar.gz (281.4 MB)\n",
            "\u001b[K     |████████████████████████████████| 281.4 MB 30 kB/s \n",
            "\u001b[?25hCollecting py4j\n",
            "  Downloading py4j-0.10.9.7-py2.py3-none-any.whl (200 kB)\n",
            "\u001b[K     |████████████████████████████████| 200 kB 47.4 MB/s \n",
            "\u001b[?25h  Downloading py4j-0.10.9.5-py2.py3-none-any.whl (199 kB)\n",
            "\u001b[K     |████████████████████████████████| 199 kB 13.4 MB/s \n",
            "\u001b[?25hBuilding wheels for collected packages: pyspark\n",
            "  Building wheel for pyspark (setup.py) ... \u001b[?25l\u001b[?25hdone\n",
            "  Created wheel for pyspark: filename=pyspark-3.3.1-py2.py3-none-any.whl size=281845512 sha256=92193c7c0f7a8b96eae8d0df1fa32db064ad5269ee4c9018d59ac9f1a0fe2f9e\n",
            "  Stored in directory: /root/.cache/pip/wheels/43/dc/11/ec201cd671da62fa9c5cc77078235e40722170ceba231d7598\n",
            "Successfully built pyspark\n",
            "Installing collected packages: py4j, pyspark\n",
            "Successfully installed py4j-0.10.9.5 pyspark-3.3.1\n",
            "--2022-12-29 19:09:59--  https://dlcdn.apache.org/spark/spark-3.3.1/spark-3.3.1-bin-hadoop2.tgz\n",
            "Resolving dlcdn.apache.org (dlcdn.apache.org)... 151.101.2.132, 2a04:4e42::644\n",
            "Connecting to dlcdn.apache.org (dlcdn.apache.org)|151.101.2.132|:443... connected.\n",
            "HTTP request sent, awaiting response... 200 OK\n",
            "Length: 274099817 (261M) [application/x-gzip]\n",
            "Saving to: ‘spark-3.3.1-bin-hadoop2.tgz’\n",
            "\n",
            "spark-3.3.1-bin-had 100%[===================>] 261.40M   254MB/s    in 1.0s    \n",
            "\n",
            "2022-12-29 19:10:11 (254 MB/s) - ‘spark-3.3.1-bin-hadoop2.tgz’ saved [274099817/274099817]\n",
            "\n"
          ]
        }
      ]
    },
    {
      "cell_type": "code",
      "source": [
        "import pandas as pd\n",
        "from lib.pyspark_init import create_spark_context\n",
        "from lib.adding_columns import add_all_columns\n",
        "from lib.const import DATA_WITH_AWARDS, TRAIN_DATA, VALIDATE_DATA, TEST_DATA"
      ],
      "metadata": {
        "id": "7HTSohGrd0zi"
      },
      "execution_count": 6,
      "outputs": []
    },
    {
      "cell_type": "code",
      "source": [
        "spark = create_spark_context()\n",
        "spark"
      ],
      "metadata": {
        "id": "F-LFEvOYd2tq",
        "outputId": "8a718182-01cb-4e62-d0f1-73f7c3664922",
        "colab": {
          "base_uri": "https://localhost:8080/",
          "height": 222
        }
      },
      "execution_count": 7,
      "outputs": [
        {
          "output_type": "execute_result",
          "data": {
            "text/plain": [
              "<pyspark.sql.session.SparkSession at 0x7fcfe498c7f0>"
            ],
            "text/html": [
              "\n",
              "            <div>\n",
              "                <p><b>SparkSession - in-memory</b></p>\n",
              "                \n",
              "        <div>\n",
              "            <p><b>SparkContext</b></p>\n",
              "\n",
              "            <p><a href=\"http://472273a230ad:4040\">Spark UI</a></p>\n",
              "\n",
              "            <dl>\n",
              "              <dt>Version</dt>\n",
              "                <dd><code>v3.3.1</code></dd>\n",
              "              <dt>Master</dt>\n",
              "                <dd><code>local[*]</code></dd>\n",
              "              <dt>AppName</dt>\n",
              "                <dd><code>Colab</code></dd>\n",
              "            </dl>\n",
              "        </div>\n",
              "        \n",
              "            </div>\n",
              "        "
            ]
          },
          "metadata": {},
          "execution_count": 7
        }
      ]
    },
    {
      "cell_type": "code",
      "source": [
        "!chmod +x download_data.sh\n",
        "!./download_data.sh"
      ],
      "metadata": {
        "id": "34zE25loRVfR",
        "outputId": "6aa49ada-519b-46a9-aec6-8c400ee70f11",
        "colab": {
          "base_uri": "https://localhost:8080/"
        }
      },
      "execution_count": 8,
      "outputs": [
        {
          "output_type": "stream",
          "name": "stdout",
          "text": [
            "--2022-12-29 19:10:29--  https://datasets.imdbws.com/name.basics.tsv.gz\n",
            "Resolving datasets.imdbws.com (datasets.imdbws.com)... 13.224.2.40, 13.224.2.93, 13.224.2.111, ...\n",
            "Connecting to datasets.imdbws.com (datasets.imdbws.com)|13.224.2.40|:443... connected.\n",
            "HTTP request sent, awaiting response... 200 OK\n",
            "Length: 238426506 (227M) [binary/octet-stream]\n",
            "Saving to: ‘name.basics.tsv.gz’\n",
            "\n",
            "name.basics.tsv.gz  100%[===================>] 227.38M  58.2MB/s    in 3.9s    \n",
            "\n",
            "2022-12-29 19:10:33 (57.6 MB/s) - ‘name.basics.tsv.gz’ saved [238426506/238426506]\n",
            "\n",
            "--2022-12-29 19:10:33--  https://datasets.imdbws.com/title.akas.tsv.gz\n",
            "Resolving datasets.imdbws.com (datasets.imdbws.com)... 13.224.2.40, 13.224.2.93, 13.224.2.111, ...\n",
            "Connecting to datasets.imdbws.com (datasets.imdbws.com)|13.224.2.40|:443... connected.\n",
            "HTTP request sent, awaiting response... 200 OK\n",
            "Length: 291823241 (278M) [binary/octet-stream]\n",
            "Saving to: ‘title.akas.tsv.gz’\n",
            "\n",
            "title.akas.tsv.gz   100%[===================>] 278.30M  58.8MB/s    in 4.8s    \n",
            "\n",
            "2022-12-29 19:10:38 (57.6 MB/s) - ‘title.akas.tsv.gz’ saved [291823241/291823241]\n",
            "\n",
            "--2022-12-29 19:10:38--  https://datasets.imdbws.com/title.basics.tsv.gz\n",
            "Resolving datasets.imdbws.com (datasets.imdbws.com)... 13.224.2.40, 13.224.2.93, 13.224.2.111, ...\n",
            "Connecting to datasets.imdbws.com (datasets.imdbws.com)|13.224.2.40|:443... connected.\n",
            "HTTP request sent, awaiting response... 200 OK\n",
            "Length: 165567143 (158M) [binary/octet-stream]\n",
            "Saving to: ‘title.basics.tsv.gz’\n",
            "\n",
            "title.basics.tsv.gz 100%[===================>] 157.90M  53.0MB/s    in 3.0s    \n",
            "\n",
            "2022-12-29 19:10:41 (53.0 MB/s) - ‘title.basics.tsv.gz’ saved [165567143/165567143]\n",
            "\n",
            "--2022-12-29 19:10:41--  https://datasets.imdbws.com/title.crew.tsv.gz\n",
            "Resolving datasets.imdbws.com (datasets.imdbws.com)... 13.224.2.40, 13.224.2.93, 13.224.2.111, ...\n",
            "Connecting to datasets.imdbws.com (datasets.imdbws.com)|13.224.2.40|:443... connected.\n",
            "HTTP request sent, awaiting response... 200 OK\n",
            "Length: 63525611 (61M) [binary/octet-stream]\n",
            "Saving to: ‘title.crew.tsv.gz’\n",
            "\n",
            "title.crew.tsv.gz   100%[===================>]  60.58M   123MB/s    in 0.5s    \n",
            "\n",
            "2022-12-29 19:10:42 (123 MB/s) - ‘title.crew.tsv.gz’ saved [63525611/63525611]\n",
            "\n",
            "--2022-12-29 19:10:42--  https://datasets.imdbws.com/title.episode.tsv.gz\n",
            "Resolving datasets.imdbws.com (datasets.imdbws.com)... 13.224.2.40, 13.224.2.93, 13.224.2.111, ...\n",
            "Connecting to datasets.imdbws.com (datasets.imdbws.com)|13.224.2.40|:443... connected.\n",
            "HTTP request sent, awaiting response... 200 OK\n",
            "Length: 39021549 (37M) [binary/octet-stream]\n",
            "Saving to: ‘title.episode.tsv.gz’\n",
            "\n",
            "title.episode.tsv.g 100%[===================>]  37.21M   137MB/s    in 0.3s    \n",
            "\n",
            "2022-12-29 19:10:42 (137 MB/s) - ‘title.episode.tsv.gz’ saved [39021549/39021549]\n",
            "\n",
            "--2022-12-29 19:10:42--  https://datasets.imdbws.com/title.principals.tsv.gz\n",
            "Resolving datasets.imdbws.com (datasets.imdbws.com)... 13.224.2.40, 13.224.2.93, 13.224.2.111, ...\n",
            "Connecting to datasets.imdbws.com (datasets.imdbws.com)|13.224.2.40|:443... connected.\n",
            "HTTP request sent, awaiting response... 200 OK\n",
            "Length: 421834929 (402M) [binary/octet-stream]\n",
            "Saving to: ‘title.principals.tsv.gz’\n",
            "\n",
            "title.principals.ts 100%[===================>] 402.29M   121MB/s    in 3.4s    \n",
            "\n",
            "2022-12-29 19:10:46 (119 MB/s) - ‘title.principals.tsv.gz’ saved [421834929/421834929]\n",
            "\n",
            "--2022-12-29 19:10:46--  https://datasets.imdbws.com/title.ratings.tsv.gz\n",
            "Resolving datasets.imdbws.com (datasets.imdbws.com)... 13.224.2.40, 13.224.2.93, 13.224.2.111, ...\n",
            "Connecting to datasets.imdbws.com (datasets.imdbws.com)|13.224.2.40|:443... connected.\n",
            "HTTP request sent, awaiting response... 200 OK\n",
            "Length: 6323075 (6.0M) [binary/octet-stream]\n",
            "Saving to: ‘title.ratings.tsv.gz’\n",
            "\n",
            "title.ratings.tsv.g 100%[===================>]   6.03M  --.-KB/s    in 0.08s   \n",
            "\n",
            "2022-12-29 19:10:46 (79.0 MB/s) - ‘title.ratings.tsv.gz’ saved [6323075/6323075]\n",
            "\n"
          ]
        }
      ]
    },
    {
      "cell_type": "code",
      "source": [
        "%%time\n",
        "data = spark.read.parquet(DATA_WITH_AWARDS)\n",
        "data.show()"
      ],
      "metadata": {
        "id": "FyTzjNUKd3R5",
        "outputId": "f7ec19e9-9a10-4403-ed78-d2a1be1e879b",
        "colab": {
          "base_uri": "https://localhost:8080/"
        }
      },
      "execution_count": 9,
      "outputs": [
        {
          "output_type": "stream",
          "name": "stdout",
          "text": [
            "CPU times: user 72.1 ms, sys: 7.49 ms, total: 79.6 ms\n",
            "Wall time: 10.3 s\n"
          ]
        }
      ]
    },
    {
      "cell_type": "code",
      "source": [
        "%%time\n",
        "data = add_all_columns(spark, data)\n",
        "data.show()"
      ],
      "metadata": {
        "id": "WG3_684td3PR",
        "outputId": "5a54f54f-7656-4ce5-a1b8-66e7cebcad18",
        "colab": {
          "base_uri": "https://localhost:8080/"
        }
      },
      "execution_count": 10,
      "outputs": [
        {
          "output_type": "stream",
          "name": "stdout",
          "text": [
            "CPU times: user 154 ms, sys: 28.6 ms, total: 183 ms\n",
            "Wall time: 6.92 s\n"
          ]
        }
      ]
    },
    {
      "cell_type": "markdown",
      "source": [
        "## Dodanie top type dla aktora"
      ],
      "metadata": {
        "id": "nQkBrIgfBADs"
      }
    },
    {
      "cell_type": "code",
      "source": [
        "from pyspark.sql.functions import explode, split\n",
        "from pyspark.sql import Window\n",
        "from pyspark.sql import Window\n",
        "from pyspark.sql.functions import count, row_number, desc, first"
      ],
      "metadata": {
        "id": "xjl6iiUwH3oo"
      },
      "execution_count": 11,
      "outputs": []
    },
    {
      "cell_type": "code",
      "source": [
        "df2 = data.select('nconst', explode(data.titleType).alias('titleType'))\n",
        "df3 = df2.select('nconst', explode(split(df2.titleType, ',')).alias('titleType'))\n",
        "\n",
        "w = Window.partitionBy('nconst', 'titleType')\n",
        "aggregated_table = df3.withColumn(\"count\",count(\"*\").over(w)).withColumn(\"rn\",\n",
        "                                                                 row_number().over(\n",
        "                                                                     w.orderBy(desc(\"count\")))).filter(\n",
        "                                                                         \"rn = 1\").groupBy('nconst').agg(\n",
        "                                                                             first('titleType').alias('top_type'))\n",
        "#aggregated_table.show()"
      ],
      "metadata": {
        "id": "cFegip-rFoyC"
      },
      "execution_count": 12,
      "outputs": []
    },
    {
      "cell_type": "code",
      "source": [
        "data = data.join(aggregated_table, data.nconst==aggregated_table.nconst, 'left').drop(aggregated_table.nconst)\n",
        "#data.show()"
      ],
      "metadata": {
        "id": "58YXKQVoA5tG"
      },
      "execution_count": 13,
      "outputs": []
    },
    {
      "cell_type": "markdown",
      "source": [
        "## Dodanie top gatunku"
      ],
      "metadata": {
        "id": "mmi7RbJJSA-W"
      }
    },
    {
      "cell_type": "code",
      "source": [
        "df4 = data.select('nconst', explode(data.genres).alias('genres'))\n",
        "df5 = df4.select('nconst', explode(split(df4.genres, ',')).alias('genres'))\n",
        "\n",
        "w_1 = Window.partitionBy('nconst', 'genres')\n",
        "aggregated_table_2 = df5.withColumn(\"count\",count(\"*\").over(w_1)).withColumn(\"rn\",\n",
        "                                                                 row_number().over(\n",
        "                                                                     w_1.orderBy(desc(\"count\")))).filter(\n",
        "                                                                         \"rn = 1\").groupBy('nconst').agg(\n",
        "                                                                             first('genres').alias('top_genres'))\n",
        "#aggregated_table_2.show()"
      ],
      "metadata": {
        "id": "zYyGRIIJSAkH"
      },
      "execution_count": 15,
      "outputs": []
    },
    {
      "cell_type": "code",
      "source": [
        "data = data.join(aggregated_table_2, data.nconst==aggregated_table_2.nconst, 'left').drop(aggregated_table_2.nconst)\n",
        "data.show()"
      ],
      "metadata": {
        "id": "WrRdoFnITxoM",
        "outputId": "fedaac6d-4b30-4088-f7f5-c1eda333dbc6",
        "colab": {
          "base_uri": "https://localhost:8080/"
        }
      },
      "execution_count": 17,
      "outputs": [
        {
          "output_type": "stream",
          "name": "stdout",
          "text": [
            "+--------------------+--------------------+--------------------+--------------------+---------+-------+--------------------+--------+--------------------+--------------------+--------------------+--------------------+--------------------+--------------------+--------------------+--------------------+--------------------+--------------------+--------------------+---------+-------------+------------+------------+-------------+--------+---------------------+---------+---------------------+---------+-------------------+-------+--------+--------------------+---------+---------+----------+\n",
            "|              tconst|           titleType|       originalTitle|             isAdult|startYear|endYear|              genres|category|          characters|         primaryName|      knownForTitles|         year_oscars|     category_oscars|         film_oscars|       winner_oscars|         year_globes|     category_globes|         film_globes|          win_globes|year_emmy|category_emmy|nominee_emmy|company_emmy|producer_emmy|win_emmy|no_nominations_oscars|no_oscars|no_nominations_globes|no_globes|no_nominations_emmy|no_emmy|no_films|average_films_rating| top_type|   nconst|top_genres|\n",
            "+--------------------+--------------------+--------------------+--------------------+---------+-------+--------------------+--------+--------------------+--------------------+--------------------+--------------------+--------------------+--------------------+--------------------+--------------------+--------------------+--------------------+--------------------+---------+-------------+------------+------------+-------------+--------+---------------------+---------+---------------------+---------+-------------------+-------+--------+--------------------+---------+---------+----------+\n",
            "|[tt0043691, tt005...|[tvMovie, movie, ...|[Les joueurs, Pou...|[0, 0, 0, 0, 0, 0...|     1950|     \\N|[Comedy, Comedy, ...|   actor|[[\"Piotr Petrovit...|      Louis de Funès|tt0079200,tt00741...|                  []|                null|                  []|                  []|                  []|                  []|                  []|                  []|       []|           []|          []|          []|           []|      []|                 null|     null|                 null|     null|               null|   null|      61|   6.417307692307693|    movie|nm0000086|    Action|\n",
            "|[tt0653561, tt123...|[tvEpisode, tvEpi...|[Murder Takes the...|[0, 0, 0, 0, 0, 0...|     1973|     \\N|[Crime,Drama,Myst...| actress|[[\"Jane Pascal\"],...|         Linda Blair|tt0082511,tt00880...|              [1974]|ACTRESS IN A SUPP...|      [The Exorcist]|             [False]|        [1974, 1974]|[New Star Of The ...|[Exorcist, The, E...|       [False, True]|       []|           []|          []|          []|           []|      []|                    1|     null|                    2|        1|               null|   null|      66|   5.571186440677966|    movie|nm0000304|    Action|\n",
            "|[tt0108596, tt081...|[movie, tvEpisode...|[Wrestling Ernest...|[0, 0, 0, 0, 0, 0...|     1989|     \\N|[Drama,Romance, C...| actress|[[\"Elaine\"], [\"Te...|      Sandra Bullock|tt1454468,tt10418...|        [2014, 2010]|ACTRESS IN A LEAD...|[Gravity, The Bli...|       [False, True]|[2014, 2010, 2010...|[Best Performance...|[Gravity, Proposa...|[False, False, Tr...|       []|           []|          []|          []|           []|      []|                    2|        1|                    5|        1|               null|   null|      67|   6.203846153846153|    movie|nm0000113|    Action|\n",
            "|[tt0102430, tt011...|[short, movie, mo...|[Memorial: Letter...|[0, 0, 0, 0, 0, 0...|     1984|     \\N|[Documentary,Shor...|   actor|[\\N, [\"Col. John ...|          Val Kilmer|tt0235737,tt03734...|                  []|                null|                  []|                  []|                  []|                  []|                  []|                  []|       []|           []|          []|          []|           []|      []|                 null|     null|                 null|     null|               null|   null|      75|   5.887671232876714|    movie|nm0000174|    Action|\n",
            "|[tt0301148, tt102...|[short, tvEpisode...|[D.C. Smalls, The...|[0, 0, 0, 0, 0, 0...|     1990|     \\N|[Comedy,Short, Co...| actress|[[\"Waitress\"], [\"...|       Minnie Driver|tt0496343,tt01192...|              [1998]|ACTRESS IN A SUPP...| [Good Will Hunting]|             [False]|              [2008]|[Best Performance...|       [Riches, The]|             [False]|       []|           []|          []|          []|           []|      []|                    1|     null|                    1|     null|               null|   null|     186|   7.277160493827161|    movie|nm0000378|    Action|\n",
            "|[tt0083472, tt008...|[tvSeries, movie,...|[Report to Murphy...|[0, 0, 0, 0, 0, 0...|     1974|     \\N|[Comedy, Comedy,C...|   actor|[[\"Murphy\"], [\"Jo...|      Michael Keaton|tt1895587,tt25622...|              [2015]|ACTOR IN A LEADIN...|[Birdman or (The ...|             [False]|        [2015, 2003]|[Best Performance...|[Birdman, Live fr...|       [True, False]|       []|           []|          []|          []|           []|      []|                    1|     null|                    2|        1|               null|   null|     107|                6.83|    movie|nm0000474|    Action|\n",
            "|[tt0112178, tt070...|[tvSeries, tvEpis...|[Star Trek: Voyag...|[0, 0, 0, 0, 0, 0...|     1985|     \\N|[Action,Adventure...|   actor|[[\"Lt. Tom Paris\"...|Robert Duncan McN...|tt0387054,tt00935...|                  []|                null|                  []|                  []|                  []|                  []|                  []|                  []|       []|           []|          []|          []|           []|      []|                 null|     null|                 null|     null|               null|   null|     112|   7.368224299065419|tvEpisode|nm0000536|    Action|\n",
            "|[tt0427968, tt044...|[movie, movie, tv...|[Trust the Man, T...|[0, 0, 0, 0, 0, 0...|     1989|     \\N|[Comedy,Drama,Rom...|   actor|[[\"Tom Pollack\"],...|      David Duchovny|tt0120902,tt04437...|                  []|                null|                  []|                  []|[2012, 2010, 2009...|[Best Performance...|[Californication,...|[False, False, Fa...|       []|           []|          []|          []|           []|      []|                 null|     null|                    8|        2|               null|   null|     397|   7.517480719794345|    movie|nm0000141|    Action|\n",
            "|[tt0115697, tt069...|[movie, tvEpisode...|[Black Sheep, Jer...|[0, 0, 0, 0, 0, 0...|     1991|     \\N|[Comedy, Comedy,M...|   actor|[[\"Mike Donnelly\"...|        Chris Farley|tt0114694,tt01156...|                  []|                null|                  []|                  []|                  []|                  []|                  []|                  []|       []|           []|          []|          []|           []|      []|                 null|     null|                 null|     null|               null|   null|      80|   6.563750000000001|    movie|nm0000394|    Action|\n",
            "|[tt0074603, tt009...|[movie, movie, mo...|[Hamlet, The Mosq...|[0, 0, 0, 0, 0, 0...|     1967|     \\N|[Drama, Adventure...| actress|[[\"Ophelia\",\"Gert...|        Helen Mirren|tt1245526,tt02807...|[2010, 2007, 2002...|ACTRESS IN A LEAD...|[The Last Station...|[False, True, Fal...|[2020, 2018, 2016...|[Best Performance...|[Catherine the Gr...|[False, False, Fa...|       []|           []|          []|          []|           []|      []|                    4|        1|                   16|        3|               null|   null|     150|  6.9780303030303035|    movie|nm0000545|    Action|\n",
            "|[tt0096673, tt011...|[tvSeries, movie,...|[The Outsiders, L...|[0, 0, 0, 0, 0, 0...|     1990|     \\N|[Drama, Comedy, H...|   actor|[[\"Keith 'Two-Bit...|      David Arquette|tt0134084,tt01517...|                  []|                null|                  []|                  []|                  []|                  []|                  []|                  []|       []|           []|          []|          []|           []|      []|                 null|     null|                 null|     null|               null|   null|     262|   5.995555555555555|    movie|nm0000274|    Action|\n",
            "|[tt0039297, tt004...|[movie, movie, tv...|[Dancing with Cri...|[0, 0, 0, 0, 0, 0...|     1943|     \\N|[Crime,Drama,Film...|   actor|[[\"Ted Peters\"], ...|Richard Attenborough|tt0107290,tt00571...|              [1983]|           DIRECTING|            [Gandhi]|              [True]|[1988, 1986, 1983...|[Best Director - ...|[Cry Freedom, Cho...|[False, False, Tr...|       []|           []|          []|          []|           []|      []|                    1|        1|                    5|        3|               null|   null|      97|   6.682456140350879|    movie|nm0000277|    Action|\n",
            "|[tt0110950, tt012...|[movie, movie, mo...|[Reality Bites, T...|[0, 0, 0, 0, 0, 0...|     1991|     \\N|[Comedy,Drama,Rom...| actress|[[\"Vickie Miner\"]...|    Janeane Garofalo|tt0243655,tt01179...|                  []|                null|                  []|                  []|                  []|                  []|                  []|                  []|       []|           []|          []|          []|           []|      []|                 null|     null|                 null|     null|               null|   null|     155|  6.7037313432835814|    movie|nm0000413|    Action|\n",
            "|[tt0053804, tt005...|[movie, movie, mo...|[Exodus, The Outr...|[0, 0, 0, 0, 0, 0...|     1952|     \\N|[Action,Drama,War...|   actor|[[\"Ari Ben Canaan...|         Paul Newman|tt0110684,tt00848...|[2003, 1995, 1994...|ACTOR IN A SUPPOR...|[Road to Perditio...|[False, False, Tr...|[2006, 2003, 1995...|[Best Performance...|[Empire Falls, Ro...|[True, False, Fal...|       []|           []|          []|          []|           []|      []|                   10|        2|                   16|        6|               null|   null|      90|   6.715789473684211|    movie|nm0000056|    Action|\n",
            "|[tt0021551, tt002...|[movie, movie, mo...|[The Widow from C...|[0, 0, 0, 0, 0, 0...|     1916|     \\N|[Crime,Drama,Roma...|   actor|[[\"Dominic\"], [\"D...|  Edward G. Robinson|tt0036775,tt00498...|                  []|                null|                  []|                  []|                  []|                  []|                  []|                  []|       []|           []|          []|          []|           []|      []|                 null|     null|                 null|     null|               null|   null|      94|   6.709756097560975|    movie|nm0000064|    Action|\n",
            "|[tt0094140, tt010...|[movie, movie, mo...|[Three for the Ro...|[0, 0, 0, 0, 0, 0...|     1983|     \\N|[Comedy,Drama, Ac...|   actor|[[\"Paul\"], [\"Aram...|       Charlie Sheen|tt0108333,tt03691...|                  []|                null|                  []|                  []|  [2006, 2005, 2002]|[Best Performance...|[Two and a Half M...|[False, False, True]|       []|           []|          []|          []|           []|      []|                 null|     null|                    3|        1|               null|   null|     386|   7.200265251989391|    movie|nm0000221|    Action|\n",
            "|[tt0089218, tt009...|[movie, movie, vi...|[The Goonies, Sta...|[0, 0, 0, 0, 0, 0...|     1981|     \\N|[Adventure,Comedy...|   actor|[[\"Mikey\"], [\"Dun...|          Sean Astin|tt0089218,tt01207...|                  []|                null|                  []|                  []|                  []|                  []|                  []|                  []|       []|           []|          []|          []|           []|      []|                 null|     null|                 null|     null|               null|   null|     452|  7.4508108108108075|    movie|nm0000276|    Action|\n",
            "|[tt0090934, tt481...|[movie, tvEpisode...|[Desert Bloom, Pi...|[0, 0, 0, 0, 0, 0...|     1981|     \\N|[Drama,Family,Rom...| actress|[[\"Aunt Starr\"], ...|        Ellen Barkin|tt0157503,tt01162...|                  []|                null|                  []|                  []|        [1998, 1992]|[Best Performance...|[Before Women Had...|      [False, False]|       []|           []|          []|          []|           []|      []|                 null|     null|                    2|     null|               null|   null|      88|   7.355952380952381|    movie|nm0000289|    Action|\n",
            "|[tt0067918, tt007...|[movie, movie, mo...|[Urlaubsreport - ...|[0, 0, 0, 0, 0, 0...|     1969|     \\N|[Comedy, Action,C...| actress|[[\"Ina, die Anhal...|       Sybil Danning|tt0373883,tt00804...|                  []|                null|                  []|                  []|                  []|                  []|                  []|                  []|       []|           []|          []|          []|           []|      []|                 null|     null|                 null|     null|               null|   null|      42|   4.720588235294118|    movie|nm0000356|    Action|\n",
            "|[tt0087094, tt011...|[tvMovie, videoGa...|[The Cowboy and t...|[0, 0, 0, 0, 0, 0...|     1978|     \\N|[Drama,Family,Rom...|   actor|[[\"Woody\"], [\"Dre...|   Christopher Lloyd|tt0101272,tt00964...|                  []|                null|                  []|                  []|                  []|                  []|                  []|                  []|       []|           []|          []|          []|           []|      []|                 null|     null|                 null|     null|               null|   null|     274|   7.006355932203391|    movie|nm0000502|    Action|\n",
            "+--------------------+--------------------+--------------------+--------------------+---------+-------+--------------------+--------+--------------------+--------------------+--------------------+--------------------+--------------------+--------------------+--------------------+--------------------+--------------------+--------------------+--------------------+---------+-------------+------------+------------+-------------+--------+---------------------+---------+---------------------+---------+-------------------+-------+--------+--------------------+---------+---------+----------+\n",
            "only showing top 20 rows\n",
            "\n"
          ]
        }
      ]
    },
    {
      "cell_type": "markdown",
      "source": [
        "## Podział zbioru"
      ],
      "metadata": {
        "id": "-fQGOydPBPcN"
      }
    },
    {
      "cell_type": "code",
      "source": [
        "%%time\n",
        "train_data, validate_data, test_data = data.randomSplit([0.7, 0.1, 0.2], seed=1)"
      ],
      "metadata": {
        "id": "COSijsIZfAcN"
      },
      "execution_count": null,
      "outputs": []
    },
    {
      "cell_type": "code",
      "source": [
        "%%time\n",
        "data.write.parquet(TRAIN_DATA)"
      ],
      "metadata": {
        "id": "4QqK732cDghy"
      },
      "execution_count": null,
      "outputs": []
    },
    {
      "cell_type": "code",
      "source": [
        "%%time\n",
        "data.write.parquet(VALIDATE_DATA)"
      ],
      "metadata": {
        "id": "159eAbKwukwJ"
      },
      "execution_count": null,
      "outputs": []
    },
    {
      "cell_type": "code",
      "source": [
        "%%time\n",
        "data.write.parquet(TEST_DATA)"
      ],
      "metadata": {
        "id": "MP_IdzkEukr4"
      },
      "execution_count": null,
      "outputs": []
    }
  ]
}