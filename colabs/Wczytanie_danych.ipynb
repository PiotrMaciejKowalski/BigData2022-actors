{
  "nbformat": 4,
  "nbformat_minor": 0,
  "metadata": {
    "colab": {
      "provenance": [],
      "collapsed_sections": [
        "kgYZYlTutA0O",
        "or9x68JxXc10",
        "pPWxy5j_aEvo",
        "s-hzkKehxgnQ",
        "snoopt7lY71j"
      ],
      "include_colab_link": true
    },
    "kernelspec": {
      "name": "python3",
      "display_name": "Python 3"
    },
    "language_info": {
      "name": "python"
    }
  },
  "cells": [
    {
      "cell_type": "markdown",
      "metadata": {
        "id": "view-in-github",
        "colab_type": "text"
      },
      "source": [
        "<a href=\"https://colab.research.google.com/github/PiotrMaciejKowalski/BigData2022-actors/blob/Doda-now-kolumn---ilo-nagrd-dla-danego-aktora/colabs/Wczytanie_danych.ipynb\" target=\"_parent\"><img src=\"https://colab.research.google.com/assets/colab-badge.svg\" alt=\"Open In Colab\"/></a>"
      ]
    },
    {
      "cell_type": "code",
      "source": [
        "from google.colab import drive\n",
        "drive.mount('/content/gdrive')"
      ],
      "metadata": {
        "id": "9vAUDEUf4X1S"
      },
      "execution_count": null,
      "outputs": []
    },
    {
      "cell_type": "code",
      "source": [
        "!git clone https://github.com/PiotrMaciejKowalski/BigData2022-actors.git\n",
        "!mv /content/BigData2022-actors/* .\n",
        "!mv /content/BigData2022-actors/.* .\n",
        "!rmdir /content/BigData2022-actors/"
      ],
      "metadata": {
        "id": "2FiaOxxnWubg"
      },
      "execution_count": null,
      "outputs": []
    },
    {
      "cell_type": "code",
      "source": [
        "#!git checkout"
      ],
      "metadata": {
        "id": "kqTxirLuW044"
      },
      "execution_count": null,
      "outputs": []
    },
    {
      "cell_type": "code",
      "source": [
        "!chmod +x setup_sparka.sh\n",
        "!./setup_sparka.sh"
      ],
      "metadata": {
        "id": "UxTbMYkeLrk6"
      },
      "execution_count": null,
      "outputs": []
    },
    {
      "cell_type": "code",
      "source": [
        "import pandas as pd\n",
        "from lib.pyspark_init import create_spark_context, load_data\n",
        "from lib.const import JOINED_DATA"
      ],
      "metadata": {
        "id": "g_c507iBLsSW"
      },
      "execution_count": null,
      "outputs": []
    },
    {
      "cell_type": "code",
      "source": [
        "spark = create_spark_context()\n",
        "spark"
      ],
      "metadata": {
        "id": "1rwBnBMwW88n"
      },
      "execution_count": null,
      "outputs": []
    },
    {
      "cell_type": "code",
      "source": [
        "!chmod +x download_data.sh\n",
        "!./download_data.sh"
      ],
      "metadata": {
        "id": "SciXhN5JXONa"
      },
      "execution_count": null,
      "outputs": []
    },
    {
      "cell_type": "code",
      "source": [
        "%%time\n",
        "data = load_data(spark)\n",
        "data.show(3)"
      ],
      "metadata": {
        "id": "skegmFMQXpcA"
      },
      "execution_count": null,
      "outputs": []
    },
    {
      "cell_type": "code",
      "source": [
        "%%time\n",
        "data.write.parquet(JOINED_DATA)"
      ],
      "metadata": {
        "id": "MclMJsdy5k8N"
      },
      "execution_count": null,
      "outputs": []
    },
    {
      "cell_type": "markdown",
      "source": [
        "# Dodanie kolumn z policzonymi zdobytymi nagrodami"
      ],
      "metadata": {
        "id": "WiRv3OHhYfsX"
      }
    },
    {
      "cell_type": "code",
      "source": [
        "oscars_nominations = data.select(\"*\", explode(\"winner_oscars\").alias(\"exploded\"))\\\n",
        "    .groupBy(\"nconst\", \"winner_oscars\")\\\n",
        "    .agg(count(\"exploded\").alias(\"no_nominations_oscars\"))\\\n",
        "    .select([\"nconst\", \"no_nominations_oscars\"])\n",
        "\n",
        "oscars_win = data.select(\"*\", explode(\"winner_oscars\").alias(\"exploded\"))\\\n",
        "    .where(col(\"exploded\") == True)\\\n",
        "    .groupBy(\"nconst\", \"winner_oscars\")\\\n",
        "    .agg(count(\"exploded\").alias(\"no_oscars\"))\\\n",
        "    .select([\"nconst\", \"no_oscars\"])\n",
        "\n",
        "data = data.join(oscars_nominations, on=\"nconst\", how=\"left\")\n",
        "data = data.join(oscars_win, on=\"nconst\", how=\"left\")"
      ],
      "metadata": {
        "id": "pm-vOCU2YfcY"
      },
      "execution_count": null,
      "outputs": []
    },
    {
      "cell_type": "code",
      "source": [
        "globes_nominations = data.select(\"*\", explode(\"win_globes\").alias(\"exploded\"))\\\n",
        "    .groupBy(\"nconst\", \"win_globes\")\\\n",
        "    .agg(count(\"exploded\").alias(\"no_nominations_globes\"))\\\n",
        "    .select([\"nconst\", \"no_nominations_globes\"])\n",
        "\n",
        "globes_win = data.select(\"*\", explode(\"win_globes\").alias(\"exploded\"))\\\n",
        "    .where(col(\"exploded\") == True)\\\n",
        "    .groupBy(\"nconst\", \"win_globes\")\\\n",
        "    .agg(count(\"exploded\").alias(\"no_globes\"))\\\n",
        "    .select([\"nconst\", \"no_globes\"])\n",
        "\n",
        "data = data.join(globes_nominations, on=\"nconst\", how=\"left\")    \n",
        "data = data.join(globes_win, on=\"nconst\", how=\"left\")"
      ],
      "metadata": {
        "id": "viwL8XINlnKD"
      },
      "execution_count": null,
      "outputs": []
    },
    {
      "cell_type": "code",
      "source": [
        "emmy_nominations = data.select(\"*\", explode(\"win_emmy\").alias(\"exploded\"))\\\n",
        "    .groupBy(\"nconst\", \"win_emmy\")\\\n",
        "    .agg(count(\"exploded\").alias(\"no_nominations_emmy\"))\\\n",
        "    .select([\"nconst\", \"no_nominations_emmy\"])\n",
        "\n",
        "emmy_win = data.select(\"*\", explode(\"win_emmy\").alias(\"exploded\"))\\\n",
        "    .where(col(\"exploded\") == True)\\\n",
        "    .groupBy(\"nconst\", \"win_emmy\")\\\n",
        "    .agg(count(\"exploded\").alias(\"no_emmy\"))\\\n",
        "    .select([\"nconst\", \"no_emmy\"])\n",
        "\n",
        "data = data.join(emmy_nominations, on=\"nconst\", how=\"left\")    \n",
        "data = data.join(emmy_win, on=\"nconst\", how=\"left\")"
      ],
      "metadata": {
        "id": "LcEWyx6tmaEd"
      },
      "execution_count": null,
      "outputs": []
    },
    {
      "cell_type": "code",
      "source": [
        "data.show(10)"
      ],
      "metadata": {
        "id": "LwWsxa7DamdC"
      },
      "execution_count": null,
      "outputs": []
    }
  ]
}