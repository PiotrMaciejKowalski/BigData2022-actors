{
  "nbformat": 4,
  "nbformat_minor": 0,
  "metadata": {
    "colab": {
      "provenance": [],
      "collapsed_sections": [
        "kgYZYlTutA0O",
        "or9x68JxXc10",
        "pPWxy5j_aEvo",
        "s-hzkKehxgnQ",
        "snoopt7lY71j"
      ],
      "include_colab_link": true
    },
    "kernelspec": {
      "name": "python3",
      "display_name": "Python 3"
    },
    "language_info": {
      "name": "python"
    }
  },
  "cells": [
    {
      "cell_type": "markdown",
      "metadata": {
        "id": "view-in-github",
        "colab_type": "text"
      },
      "source": [
        "<a href=\"https://colab.research.google.com/github/PiotrMaciejKowalski/BigData2022-actors/blob/Policzenie-pierwszych-similarity/colabs/Wczytanie_danych.ipynb\" target=\"_parent\"><img src=\"https://colab.research.google.com/assets/colab-badge.svg\" alt=\"Open In Colab\"/></a>"
      ]
    },
    {
      "cell_type": "markdown",
      "source": [
        "#Setup sparka"
      ],
      "metadata": {
        "id": "Vzb444kPW31g"
      }
    },
    {
      "cell_type": "markdown",
      "source": [
        "##Setup sparka"
      ],
      "metadata": {
        "id": "Ny5PYKNbsHju"
      }
    },
    {
      "cell_type": "code",
      "source": [
        "!pip install pyspark py4j\n",
        "!pip install -q findspark\n",
        "!apt-get install openjdk-8-jdk-headless -qq > /dev/null\n",
        "!wget ftp://ftp.ps.pl/pub/apache/spark/spark-3.3.1/spark-3.3.1-bin-hadoop2.tgz\n",
        "!tar xf spark-3.3.1-bin-hadoop2.tgz"
      ],
      "metadata": {
        "colab": {
          "base_uri": "https://localhost:8080/"
        },
        "id": "UxTbMYkeLrk6",
        "outputId": "392688ca-16af-49be-bafb-5e2b0a544aaa"
      },
      "execution_count": 1,
      "outputs": [
        {
          "output_type": "stream",
          "name": "stdout",
          "text": [
            "Looking in indexes: https://pypi.org/simple, https://us-python.pkg.dev/colab-wheels/public/simple/\n",
            "Collecting pyspark\n",
            "  Downloading pyspark-3.3.1.tar.gz (281.4 MB)\n",
            "\u001b[K     |████████████████████████████████| 281.4 MB 44 kB/s \n",
            "\u001b[?25hCollecting py4j\n",
            "  Downloading py4j-0.10.9.7-py2.py3-none-any.whl (200 kB)\n",
            "\u001b[K     |████████████████████████████████| 200 kB 51.3 MB/s \n",
            "\u001b[?25h  Downloading py4j-0.10.9.5-py2.py3-none-any.whl (199 kB)\n",
            "\u001b[K     |████████████████████████████████| 199 kB 48.6 MB/s \n",
            "\u001b[?25hBuilding wheels for collected packages: pyspark\n",
            "  Building wheel for pyspark (setup.py) ... \u001b[?25l\u001b[?25hdone\n",
            "  Created wheel for pyspark: filename=pyspark-3.3.1-py2.py3-none-any.whl size=281845514 sha256=7f0229ac31b7b7dad299a19b98412cb1052c92f6d77dba3d4abb3cd89f3900ec\n",
            "  Stored in directory: /root/.cache/pip/wheels/42/59/f5/79a5bf931714dcd201b26025347785f087370a10a3329a899c\n",
            "Successfully built pyspark\n",
            "Installing collected packages: py4j, pyspark\n",
            "Successfully installed py4j-0.10.9.5 pyspark-3.3.1\n",
            "--2022-11-21 15:33:49--  ftp://ftp.ps.pl/pub/apache/spark/spark-3.3.1/spark-3.3.1-bin-hadoop2.tgz\n",
            "           => ‘spark-3.3.1-bin-hadoop2.tgz’\n",
            "Resolving ftp.ps.pl (ftp.ps.pl)... 212.14.28.36, 2001:4c58:62:2::36\n",
            "Connecting to ftp.ps.pl (ftp.ps.pl)|212.14.28.36|:21... connected.\n",
            "Logging in as anonymous ... Logged in!\n",
            "==> SYST ... done.    ==> PWD ... done.\n",
            "==> TYPE I ... done.  ==> CWD (1) /pub/apache/spark/spark-3.3.1 ... done.\n",
            "==> SIZE spark-3.3.1-bin-hadoop2.tgz ... 274099817\n",
            "==> PASV ... done.    ==> RETR spark-3.3.1-bin-hadoop2.tgz ... done.\n",
            "Length: 274099817 (261M) (unauthoritative)\n",
            "\n",
            "spark-3.3.1-bin-had 100%[===================>] 261.40M  10.7MB/s    in 31s     \n",
            "\n",
            "2022-11-21 15:34:23 (8.47 MB/s) - ‘spark-3.3.1-bin-hadoop2.tgz’ saved [274099817]\n",
            "\n"
          ]
        }
      ]
    },
    {
      "cell_type": "code",
      "source": [
        "import pyspark\n",
        "import findspark\n",
        "from pyspark.sql import SparkSession\n",
        "import os"
      ],
      "metadata": {
        "id": "g_c507iBLsSW"
      },
      "execution_count": 2,
      "outputs": []
    },
    {
      "cell_type": "code",
      "source": [
        "os.environ[\"JAVA_HOME\"] = \"/usr/lib/jvm/java-8-openjdk-amd64\"\n",
        "os.environ[\"SPARK_HOME\"] = \"/content/spark-3.3.1-bin-hadoop2\"\n",
        "spark=SparkSession.builder.appName('Colab').getOrCreate()\n",
        "spark"
      ],
      "metadata": {
        "id": "1rwBnBMwW88n",
        "outputId": "d2555fb7-4b7f-40ec-b13c-ad21529443a1",
        "colab": {
          "base_uri": "https://localhost:8080/",
          "height": 219
        }
      },
      "execution_count": 3,
      "outputs": [
        {
          "output_type": "execute_result",
          "data": {
            "text/plain": [
              "<pyspark.sql.session.SparkSession at 0x7f99b4b2c5d0>"
            ],
            "text/html": [
              "\n",
              "            <div>\n",
              "                <p><b>SparkSession - in-memory</b></p>\n",
              "                \n",
              "        <div>\n",
              "            <p><b>SparkContext</b></p>\n",
              "\n",
              "            <p><a href=\"http://a4ddc2a65270:4040\">Spark UI</a></p>\n",
              "\n",
              "            <dl>\n",
              "              <dt>Version</dt>\n",
              "                <dd><code>v3.3.1</code></dd>\n",
              "              <dt>Master</dt>\n",
              "                <dd><code>local[*]</code></dd>\n",
              "              <dt>AppName</dt>\n",
              "                <dd><code>Colab</code></dd>\n",
              "            </dl>\n",
              "        </div>\n",
              "        \n",
              "            </div>\n",
              "        "
            ]
          },
          "metadata": {},
          "execution_count": 3
        }
      ]
    },
    {
      "cell_type": "markdown",
      "source": [
        "#Pobranie danych"
      ],
      "metadata": {
        "id": "p0l3OAblXJ2w"
      }
    },
    {
      "cell_type": "markdown",
      "source": [
        "##Import danych"
      ],
      "metadata": {
        "id": "kgYZYlTutA0O"
      }
    },
    {
      "cell_type": "code",
      "source": [
        "!wget https://datasets.imdbws.com/name.basics.tsv.gz\n",
        "!wget https://datasets.imdbws.com/title.akas.tsv.gz\n",
        "!wget https://datasets.imdbws.com/title.basics.tsv.gz\n",
        "!wget https://datasets.imdbws.com/title.crew.tsv.gz\n",
        "!wget https://datasets.imdbws.com/title.episode.tsv.gz\n",
        "!wget https://datasets.imdbws.com/title.principals.tsv.gz\n",
        "!wget https://datasets.imdbws.com/title.ratings.tsv.gz"
      ],
      "metadata": {
        "id": "SciXhN5JXONa",
        "colab": {
          "base_uri": "https://localhost:8080/"
        },
        "outputId": "5877d429-f937-4b31-cd51-1045961d3c7b"
      },
      "execution_count": 4,
      "outputs": [
        {
          "output_type": "stream",
          "name": "stdout",
          "text": [
            "--2022-11-21 15:34:37--  https://datasets.imdbws.com/name.basics.tsv.gz\n",
            "Resolving datasets.imdbws.com (datasets.imdbws.com)... 13.226.210.101, 13.226.210.117, 13.226.210.114, ...\n",
            "Connecting to datasets.imdbws.com (datasets.imdbws.com)|13.226.210.101|:443... connected.\n",
            "HTTP request sent, awaiting response... 200 OK\n",
            "Length: 236670295 (226M) [binary/octet-stream]\n",
            "Saving to: ‘name.basics.tsv.gz’\n",
            "\n",
            "name.basics.tsv.gz  100%[===================>] 225.71M  26.8MB/s    in 7.8s    \n",
            "\n",
            "2022-11-21 15:34:45 (29.1 MB/s) - ‘name.basics.tsv.gz’ saved [236670295/236670295]\n",
            "\n",
            "--2022-11-21 15:34:45--  https://datasets.imdbws.com/title.akas.tsv.gz\n",
            "Resolving datasets.imdbws.com (datasets.imdbws.com)... 13.226.210.101, 13.226.210.117, 13.226.210.114, ...\n",
            "Connecting to datasets.imdbws.com (datasets.imdbws.com)|13.226.210.101|:443... connected.\n",
            "HTTP request sent, awaiting response... 200 OK\n",
            "Length: 287964961 (275M) [binary/octet-stream]\n",
            "Saving to: ‘title.akas.tsv.gz’\n",
            "\n",
            "title.akas.tsv.gz   100%[===================>] 274.62M  49.7MB/s    in 5.8s    \n",
            "\n",
            "2022-11-21 15:34:51 (47.7 MB/s) - ‘title.akas.tsv.gz’ saved [287964961/287964961]\n",
            "\n",
            "--2022-11-21 15:34:51--  https://datasets.imdbws.com/title.basics.tsv.gz\n",
            "Resolving datasets.imdbws.com (datasets.imdbws.com)... 13.226.210.101, 13.226.210.117, 13.226.210.114, ...\n",
            "Connecting to datasets.imdbws.com (datasets.imdbws.com)|13.226.210.101|:443... connected.\n",
            "HTTP request sent, awaiting response... 200 OK\n",
            "Length: 164075144 (156M) [binary/octet-stream]\n",
            "Saving to: ‘title.basics.tsv.gz’\n",
            "\n",
            "title.basics.tsv.gz 100%[===================>] 156.47M   113MB/s    in 1.4s    \n",
            "\n",
            "2022-11-21 15:34:52 (113 MB/s) - ‘title.basics.tsv.gz’ saved [164075144/164075144]\n",
            "\n",
            "--2022-11-21 15:34:52--  https://datasets.imdbws.com/title.crew.tsv.gz\n",
            "Resolving datasets.imdbws.com (datasets.imdbws.com)... 13.226.210.101, 13.226.210.117, 13.226.210.114, ...\n",
            "Connecting to datasets.imdbws.com (datasets.imdbws.com)|13.226.210.101|:443... connected.\n",
            "HTTP request sent, awaiting response... 200 OK\n",
            "Length: 62972838 (60M) [binary/octet-stream]\n",
            "Saving to: ‘title.crew.tsv.gz’\n",
            "\n",
            "title.crew.tsv.gz   100%[===================>]  60.05M  43.3MB/s    in 1.4s    \n",
            "\n",
            "2022-11-21 15:34:54 (43.3 MB/s) - ‘title.crew.tsv.gz’ saved [62972838/62972838]\n",
            "\n",
            "--2022-11-21 15:34:54--  https://datasets.imdbws.com/title.episode.tsv.gz\n",
            "Resolving datasets.imdbws.com (datasets.imdbws.com)... 13.226.210.101, 13.226.210.117, 13.226.210.114, ...\n",
            "Connecting to datasets.imdbws.com (datasets.imdbws.com)|13.226.210.101|:443... connected.\n",
            "HTTP request sent, awaiting response... 200 OK\n",
            "Length: 38591324 (37M) [binary/octet-stream]\n",
            "Saving to: ‘title.episode.tsv.gz’\n",
            "\n",
            "title.episode.tsv.g 100%[===================>]  36.80M  51.9MB/s    in 0.7s    \n",
            "\n",
            "2022-11-21 15:34:55 (51.9 MB/s) - ‘title.episode.tsv.gz’ saved [38591324/38591324]\n",
            "\n",
            "--2022-11-21 15:34:55--  https://datasets.imdbws.com/title.principals.tsv.gz\n",
            "Resolving datasets.imdbws.com (datasets.imdbws.com)... 13.226.210.101, 13.226.210.117, 13.226.210.114, ...\n",
            "Connecting to datasets.imdbws.com (datasets.imdbws.com)|13.226.210.101|:443... connected.\n",
            "HTTP request sent, awaiting response... 200 OK\n",
            "Length: 417894123 (399M) [binary/octet-stream]\n",
            "Saving to: ‘title.principals.tsv.gz’\n",
            "\n",
            "title.principals.ts 100%[===================>] 398.53M  70.0MB/s    in 6.2s    \n",
            "\n",
            "2022-11-21 15:35:01 (64.1 MB/s) - ‘title.principals.tsv.gz’ saved [417894123/417894123]\n",
            "\n",
            "--2022-11-21 15:35:01--  https://datasets.imdbws.com/title.ratings.tsv.gz\n",
            "Resolving datasets.imdbws.com (datasets.imdbws.com)... 13.226.210.101, 13.226.210.117, 13.226.210.114, ...\n",
            "Connecting to datasets.imdbws.com (datasets.imdbws.com)|13.226.210.101|:443... connected.\n",
            "HTTP request sent, awaiting response... 200 OK\n",
            "Length: 6276744 (6.0M) [binary/octet-stream]\n",
            "Saving to: ‘title.ratings.tsv.gz’\n",
            "\n",
            "title.ratings.tsv.g 100%[===================>]   5.99M  29.6MB/s    in 0.2s    \n",
            "\n",
            "2022-11-21 15:35:01 (29.6 MB/s) - ‘title.ratings.tsv.gz’ saved [6276744/6276744]\n",
            "\n"
          ]
        }
      ]
    },
    {
      "cell_type": "markdown",
      "source": [
        "##Rozpakowanie danych"
      ],
      "metadata": {
        "id": "or9x68JxXc10"
      }
    },
    {
      "cell_type": "code",
      "source": [
        "!gzip -dc /content/name.basics.tsv.gz > name.basics.csv\n",
        "!gzip -dc /content/title.akas.tsv.gz > title.akas.csv\n",
        "!gzip -dc /content/title.basics.tsv.gz > title.basic.csv\n",
        "!gzip -dc /content/title.crew.tsv.gz > title.crew.csv\n",
        "!gzip -dc /content/title.episode.tsv.gz > title.episode.csv\n",
        "!gzip -dc /content/title.principals.tsv.gz > title.principals.csv\n",
        "!gzip -dc /content/title.ratings.tsv.gz > title.ratings.csv"
      ],
      "metadata": {
        "id": "IpXAjtV4XeKx"
      },
      "execution_count": 5,
      "outputs": []
    },
    {
      "cell_type": "markdown",
      "source": [
        "#Wczytanie danych"
      ],
      "metadata": {
        "id": "pPWxy5j_aEvo"
      }
    },
    {
      "cell_type": "markdown",
      "source": [
        "##Wczytajmy dane z rozpakowanych plików"
      ],
      "metadata": {
        "id": "s-hzkKehxgnQ"
      }
    },
    {
      "cell_type": "code",
      "source": [
        "df_name_basics=spark.read.option(\"header\", \"true\").option(\"delimiter\", \"\\t\").csv('name.basics.csv' ) \n",
        "df_title_akas=spark.read.option(\"header\",\"true\").option(\"delimiter\", \"\\t\").csv('title.akas.csv')\n",
        "df_title_basic=spark.read.option(\"header\",\"true\").option(\"delimiter\", \"\\t\").csv('title.basic.csv')\n",
        "df_title_crew=spark.read.option(\"header\",\"true\").option(\"delimiter\", \"\\t\").csv('title.crew.csv')\n",
        "df_title_episode=spark.read.option(\"header\",\"true\").option(\"delimiter\",\"\\t\").csv('title.episode.csv')\n",
        "df_title_principals=spark.read.option(\"header\",\"true\").option(\"delimiter\",\"\\t\").csv('title.principals.csv')\n",
        "df_title_ratings=spark.read.option(\"header\",\"true\").option(\"delimiter\",\"\\t\").csv('title.ratings.csv')"
      ],
      "metadata": {
        "id": "skegmFMQXpcA"
      },
      "execution_count": 6,
      "outputs": []
    },
    {
      "cell_type": "markdown",
      "source": [
        "##Wyświetlmy dane"
      ],
      "metadata": {
        "id": "snoopt7lY71j"
      }
    },
    {
      "cell_type": "code",
      "source": [
        "df_name_basics.show(3)\n",
        "df_title_akas.show(3)\n",
        "df_title_basic.show(3)\n",
        "df_title_crew.show(3)\n",
        "df_title_episode.show(3)\n",
        "df_title_principals.show(3)\n",
        "df_title_ratings.show(3)"
      ],
      "metadata": {
        "id": "BQItTCh9ZBht",
        "colab": {
          "base_uri": "https://localhost:8080/"
        },
        "outputId": "c29fb4d7-375e-46a6-a8ae-8668b7652f91"
      },
      "execution_count": 7,
      "outputs": [
        {
          "output_type": "stream",
          "name": "stdout",
          "text": [
            "+---------+---------------+---------+---------+--------------------+--------------------+\n",
            "|   nconst|    primaryName|birthYear|deathYear|   primaryProfession|      knownForTitles|\n",
            "+---------+---------------+---------+---------+--------------------+--------------------+\n",
            "|nm0000001|   Fred Astaire|     1899|     1987|soundtrack,actor,...|tt0072308,tt00531...|\n",
            "|nm0000002|  Lauren Bacall|     1924|     2014|  actress,soundtrack|tt0071877,tt00373...|\n",
            "|nm0000003|Brigitte Bardot|     1934|       \\N|actress,soundtrac...|tt0056404,tt00573...|\n",
            "+---------+---------------+---------+---------+--------------------+--------------------+\n",
            "only showing top 3 rows\n",
            "\n",
            "+---------+--------+--------------------+------+--------+-----------+-------------+---------------+\n",
            "|  titleId|ordering|               title|region|language|      types|   attributes|isOriginalTitle|\n",
            "+---------+--------+--------------------+------+--------+-----------+-------------+---------------+\n",
            "|tt0000001|       1|          Карменсіта|    UA|      \\N|imdbDisplay|           \\N|              0|\n",
            "|tt0000001|       2|          Carmencita|    DE|      \\N|         \\N|literal title|              0|\n",
            "|tt0000001|       3|Carmencita - span...|    HU|      \\N|imdbDisplay|           \\N|              0|\n",
            "+---------+--------+--------------------+------+--------+-----------+-------------+---------------+\n",
            "only showing top 3 rows\n",
            "\n",
            "+---------+---------+--------------------+--------------------+-------+---------+-------+--------------+--------------------+\n",
            "|   tconst|titleType|        primaryTitle|       originalTitle|isAdult|startYear|endYear|runtimeMinutes|              genres|\n",
            "+---------+---------+--------------------+--------------------+-------+---------+-------+--------------+--------------------+\n",
            "|tt0000001|    short|          Carmencita|          Carmencita|      0|     1894|     \\N|             1|   Documentary,Short|\n",
            "|tt0000002|    short|Le clown et ses c...|Le clown et ses c...|      0|     1892|     \\N|             5|     Animation,Short|\n",
            "|tt0000003|    short|      Pauvre Pierrot|      Pauvre Pierrot|      0|     1892|     \\N|             4|Animation,Comedy,...|\n",
            "+---------+---------+--------------------+--------------------+-------+---------+-------+--------------+--------------------+\n",
            "only showing top 3 rows\n",
            "\n",
            "+---------+---------+-------+\n",
            "|   tconst|directors|writers|\n",
            "+---------+---------+-------+\n",
            "|tt0000001|nm0005690|     \\N|\n",
            "|tt0000002|nm0721526|     \\N|\n",
            "|tt0000003|nm0721526|     \\N|\n",
            "+---------+---------+-------+\n",
            "only showing top 3 rows\n",
            "\n",
            "+---------+------------+------------+-------------+\n",
            "|   tconst|parentTconst|seasonNumber|episodeNumber|\n",
            "+---------+------------+------------+-------------+\n",
            "|tt0041951|   tt0041038|           1|            9|\n",
            "|tt0042816|   tt0989125|           1|           17|\n",
            "|tt0042889|   tt0989125|          \\N|           \\N|\n",
            "+---------+------------+------------+-------------+\n",
            "only showing top 3 rows\n",
            "\n",
            "+---------+--------+---------+---------------+--------------------+----------+\n",
            "|   tconst|ordering|   nconst|       category|                 job|characters|\n",
            "+---------+--------+---------+---------------+--------------------+----------+\n",
            "|tt0000001|       1|nm1588970|           self|                  \\N|  [\"Self\"]|\n",
            "|tt0000001|       2|nm0005690|       director|                  \\N|        \\N|\n",
            "|tt0000001|       3|nm0374658|cinematographer|director of photo...|        \\N|\n",
            "+---------+--------+---------+---------------+--------------------+----------+\n",
            "only showing top 3 rows\n",
            "\n",
            "+---------+-------------+--------+\n",
            "|   tconst|averageRating|numVotes|\n",
            "+---------+-------------+--------+\n",
            "|tt0000001|          5.7|    1923|\n",
            "|tt0000002|          5.8|     259|\n",
            "|tt0000003|          6.5|    1737|\n",
            "+---------+-------------+--------+\n",
            "only showing top 3 rows\n",
            "\n"
          ]
        }
      ]
    },
    {
      "cell_type": "markdown",
      "source": [
        "# Złączenie istotnych kolumn"
      ],
      "metadata": {
        "id": "ZZb5i_RrA-yP"
      }
    },
    {
      "cell_type": "markdown",
      "source": [
        "## Wybierzmy następujące kolumny z tabel:\n",
        "- df_title_basic:\n",
        "  - tconst (unikalny numer tytułu - potrzebne do złączenia tabel)\n",
        "  - titleType (rodzaj tytułu, np. film, serial - można porównywać podobieństwo aktorów na podstawie tego w jakich typach produkcji grali)\n",
        "  - originalTitle (tytuł produkcji - być może przyda się do analizy podobnych filmów)\n",
        "  - isAdult (czy produkcja jest dla dorosłych - można wykorzystać do porównywania aktorów na podstawie tego czy grają głównie w produkcjach dla dorosłych)\n",
        "  - genres (gatunki - może posłużyć do porównania aktorów na podstawie tego, że grali w produkcjach o podobnych gatunkach)\n",
        "\n",
        "- df_title_principals:\n",
        "  - tconst (unikalny numer tytułu - potrzebne do złączenia tabel)\n",
        "  - nconst (unikalny numer aktora - potrzebne do złączenia tabel)\n",
        "  - category (kategoria pracy (actor/actress) - może posłużyć do porównania aktorów na podstawie takiej samej płci)\n",
        "  - characters (postacie zagrane w produkcji - może posłużyć do porównania aktorów na podstawie podobnych granych postaci)\n",
        "\n",
        "- df_name_basics:\n",
        "  - nconst(unikalny numer aktora - potrzebne do złączenia tabel)\n",
        "  - primaryName (imię i nazwisko aktora - potrzebne do wyświetlania aktora lub do odnajdywania go w bazie po imieniu i nazwisku)\n",
        "  - birthYear (rok urodzenia aktora - może posłużyć do porównania aktorów na podstawie podobnych okresów, w których żyli i grali)\n",
        "  - deathYear ( rok śmierci aktora - może posłużyć do porównania aktorów na podstawie podobnych okresów, w których żyli i grali)\n",
        "  - knownForTitles (tytuły produkcji, z których znany jets aktor - może posłużyć do porównania aktorów na podstawie tych samych lub podobnych produkcji, z których są znani)"
      ],
      "metadata": {
        "id": "MGd5Hi-VBF9h"
      }
    },
    {
      "cell_type": "code",
      "source": [
        "df_title_basic_selected = df_title_basic.select([\"tconst\", \"titleType\", \"originalTitle\", \"isAdult\", \"genres\"])\n",
        "df_title_principals_selected = df_title_principals.select([\"tconst\", \"nconst\", \"category\", \"characters\"])\n",
        "df_name_basics_selected = df_name_basics.select([\"nconst\", \"primaryName\", \"birthYear\", \"deathYear\", \"knownForTitles\"])"
      ],
      "metadata": {
        "id": "OKWe9JSKBC5q"
      },
      "execution_count": 8,
      "outputs": []
    },
    {
      "cell_type": "markdown",
      "source": [
        "## Wybierzmy z tabeli df_title_principals_selected tylko aktorów i aktorki"
      ],
      "metadata": {
        "id": "Dv9_BSnFVFa3"
      }
    },
    {
      "cell_type": "code",
      "source": [
        "df_title_principals_selected = df_title_principals_selected.filter((df_title_principals_selected.category == \"actor\") | (df_title_principals_selected.category == \"actress\"))"
      ],
      "metadata": {
        "id": "3vOtn_OxVAQa"
      },
      "execution_count": 9,
      "outputs": []
    },
    {
      "cell_type": "markdown",
      "source": [
        "# Złączmy tabele df_name_basics, df_title_principals i df_title_basic"
      ],
      "metadata": {
        "id": "eMIHo59PBNtx"
      }
    },
    {
      "cell_type": "code",
      "source": [
        "print(\"df_name_basics_selected dataframe size: \", (df_name_basics_selected.count(), len(df_name_basics_selected.columns)))\n",
        "print(\"df_title_principals_selected dataframe size: \", (df_title_principals_selected.count(), len(df_title_principals_selected.columns)))\n",
        "print(\"df_title_basic_selected dataframe size: \", (df_title_basic_selected.count(), len(df_title_basic_selected.columns)))\n",
        "data = df_name_basics_selected.join(df_title_principals_selected, \"nconst\", \"inner\")\n",
        "print(\"joined dataframe size: \", (data.count(), len(data.columns)))\n",
        "data = data.join(df_title_basic_selected, \"tconst\", \"left\")\n",
        "print(\"joined dataframe size: \", (data.count(), len(data.columns)))"
      ],
      "metadata": {
        "id": "zMqqAJ7zBJWL",
        "outputId": "4a07d665-1309-4583-815a-ebe86223b616",
        "colab": {
          "base_uri": "https://localhost:8080/"
        }
      },
      "execution_count": 10,
      "outputs": [
        {
          "output_type": "stream",
          "name": "stdout",
          "text": [
            "df_name_basics_selected dataframe size:  (12091560, 5)\n",
            "df_title_principals_selected dataframe size:  (20807550, 4)\n",
            "df_title_basic_selected dataframe size:  (9386465, 5)\n",
            "joined dataframe size:  (20803919, 8)\n",
            "joined dataframe size:  (20803919, 12)\n"
          ]
        }
      ]
    },
    {
      "cell_type": "markdown",
      "source": [
        "# Wybierzmy przykładowe wiersze z końcowego dataframe'u"
      ],
      "metadata": {
        "id": "hKXuX-JdE9ED"
      }
    },
    {
      "cell_type": "code",
      "source": [
        "sample = data.rdd.takeSample(False, 5)"
      ],
      "metadata": {
        "id": "bH43D49EE84F"
      },
      "execution_count": 11,
      "outputs": []
    },
    {
      "cell_type": "code",
      "source": [
        "import pandas as pd\n",
        "sample = pd.DataFrame(sample, columns = data.columns)\n",
        "sample"
      ],
      "metadata": {
        "id": "kW8-_TXYLo10",
        "outputId": "5eea951b-ead2-4bdd-fdcc-2b1d084d5b36",
        "colab": {
          "base_uri": "https://localhost:8080/",
          "height": 319
        }
      },
      "execution_count": 12,
      "outputs": [
        {
          "output_type": "execute_result",
          "data": {
            "text/plain": [
              "       tconst      nconst        primaryName birthYear deathYear  \\\n",
              "0  tt16653766  nm12193060     Mirna Mihelcic        \\N        \\N   \n",
              "1  tt16391860  nm13205161  Roberto Ambrosini        \\N        \\N   \n",
              "2   tt1801021   nm0033312        Taís Araújo      1978        \\N   \n",
              "3  tt15418100   nm0032122      Cayito Aponte      1938      2018   \n",
              "4   tt0648757   nm2086729      Isa Gonçalves        \\N        \\N   \n",
              "\n",
              "                                knownForTitles category  \\\n",
              "0  tt11944922,tt13749650,tt16526150,tt16636212  actress   \n",
              "1                                   tt16391860    actor   \n",
              "2      tt0809665,tt2372755,tt0407377,tt0138277  actress   \n",
              "3      tt0092981,tt0084615,tt1772630,tt4603738    actor   \n",
              "4      tt1435193,tt0411665,tt0407418,tt1542802  actress   \n",
              "\n",
              "               characters  titleType         originalTitle isAdult  \\\n",
              "0              [\"Marusa\"]  tvEpisode    Mrkomir i blagdani       0   \n",
              "1  [\"Ambrosini, Roberto\"]      short  Montagne di plastica       0   \n",
              "2       [\"Helena Toledo\"]  tvEpisode        Episode #1.116       0   \n",
              "3                      \\N  tvEpisode       Episode #1.1651       0   \n",
              "4                [\"Rita\"]  tvEpisode   Neco Quer Ser Actor       0   \n",
              "\n",
              "                 genres  \n",
              "0        Comedy,History  \n",
              "1     Documentary,Short  \n",
              "2  Comedy,Drama,Romance  \n",
              "3                Comedy  \n",
              "4             Adventure  "
            ],
            "text/html": [
              "\n",
              "  <div id=\"df-6adfad45-4aab-473e-8df0-e6be46e2c4b0\">\n",
              "    <div class=\"colab-df-container\">\n",
              "      <div>\n",
              "<style scoped>\n",
              "    .dataframe tbody tr th:only-of-type {\n",
              "        vertical-align: middle;\n",
              "    }\n",
              "\n",
              "    .dataframe tbody tr th {\n",
              "        vertical-align: top;\n",
              "    }\n",
              "\n",
              "    .dataframe thead th {\n",
              "        text-align: right;\n",
              "    }\n",
              "</style>\n",
              "<table border=\"1\" class=\"dataframe\">\n",
              "  <thead>\n",
              "    <tr style=\"text-align: right;\">\n",
              "      <th></th>\n",
              "      <th>tconst</th>\n",
              "      <th>nconst</th>\n",
              "      <th>primaryName</th>\n",
              "      <th>birthYear</th>\n",
              "      <th>deathYear</th>\n",
              "      <th>knownForTitles</th>\n",
              "      <th>category</th>\n",
              "      <th>characters</th>\n",
              "      <th>titleType</th>\n",
              "      <th>originalTitle</th>\n",
              "      <th>isAdult</th>\n",
              "      <th>genres</th>\n",
              "    </tr>\n",
              "  </thead>\n",
              "  <tbody>\n",
              "    <tr>\n",
              "      <th>0</th>\n",
              "      <td>tt16653766</td>\n",
              "      <td>nm12193060</td>\n",
              "      <td>Mirna Mihelcic</td>\n",
              "      <td>\\N</td>\n",
              "      <td>\\N</td>\n",
              "      <td>tt11944922,tt13749650,tt16526150,tt16636212</td>\n",
              "      <td>actress</td>\n",
              "      <td>[\"Marusa\"]</td>\n",
              "      <td>tvEpisode</td>\n",
              "      <td>Mrkomir i blagdani</td>\n",
              "      <td>0</td>\n",
              "      <td>Comedy,History</td>\n",
              "    </tr>\n",
              "    <tr>\n",
              "      <th>1</th>\n",
              "      <td>tt16391860</td>\n",
              "      <td>nm13205161</td>\n",
              "      <td>Roberto Ambrosini</td>\n",
              "      <td>\\N</td>\n",
              "      <td>\\N</td>\n",
              "      <td>tt16391860</td>\n",
              "      <td>actor</td>\n",
              "      <td>[\"Ambrosini, Roberto\"]</td>\n",
              "      <td>short</td>\n",
              "      <td>Montagne di plastica</td>\n",
              "      <td>0</td>\n",
              "      <td>Documentary,Short</td>\n",
              "    </tr>\n",
              "    <tr>\n",
              "      <th>2</th>\n",
              "      <td>tt1801021</td>\n",
              "      <td>nm0033312</td>\n",
              "      <td>Taís Araújo</td>\n",
              "      <td>1978</td>\n",
              "      <td>\\N</td>\n",
              "      <td>tt0809665,tt2372755,tt0407377,tt0138277</td>\n",
              "      <td>actress</td>\n",
              "      <td>[\"Helena Toledo\"]</td>\n",
              "      <td>tvEpisode</td>\n",
              "      <td>Episode #1.116</td>\n",
              "      <td>0</td>\n",
              "      <td>Comedy,Drama,Romance</td>\n",
              "    </tr>\n",
              "    <tr>\n",
              "      <th>3</th>\n",
              "      <td>tt15418100</td>\n",
              "      <td>nm0032122</td>\n",
              "      <td>Cayito Aponte</td>\n",
              "      <td>1938</td>\n",
              "      <td>2018</td>\n",
              "      <td>tt0092981,tt0084615,tt1772630,tt4603738</td>\n",
              "      <td>actor</td>\n",
              "      <td>\\N</td>\n",
              "      <td>tvEpisode</td>\n",
              "      <td>Episode #1.1651</td>\n",
              "      <td>0</td>\n",
              "      <td>Comedy</td>\n",
              "    </tr>\n",
              "    <tr>\n",
              "      <th>4</th>\n",
              "      <td>tt0648757</td>\n",
              "      <td>nm2086729</td>\n",
              "      <td>Isa Gonçalves</td>\n",
              "      <td>\\N</td>\n",
              "      <td>\\N</td>\n",
              "      <td>tt1435193,tt0411665,tt0407418,tt1542802</td>\n",
              "      <td>actress</td>\n",
              "      <td>[\"Rita\"]</td>\n",
              "      <td>tvEpisode</td>\n",
              "      <td>Neco Quer Ser Actor</td>\n",
              "      <td>0</td>\n",
              "      <td>Adventure</td>\n",
              "    </tr>\n",
              "  </tbody>\n",
              "</table>\n",
              "</div>\n",
              "      <button class=\"colab-df-convert\" onclick=\"convertToInteractive('df-6adfad45-4aab-473e-8df0-e6be46e2c4b0')\"\n",
              "              title=\"Convert this dataframe to an interactive table.\"\n",
              "              style=\"display:none;\">\n",
              "        \n",
              "  <svg xmlns=\"http://www.w3.org/2000/svg\" height=\"24px\"viewBox=\"0 0 24 24\"\n",
              "       width=\"24px\">\n",
              "    <path d=\"M0 0h24v24H0V0z\" fill=\"none\"/>\n",
              "    <path d=\"M18.56 5.44l.94 2.06.94-2.06 2.06-.94-2.06-.94-.94-2.06-.94 2.06-2.06.94zm-11 1L8.5 8.5l.94-2.06 2.06-.94-2.06-.94L8.5 2.5l-.94 2.06-2.06.94zm10 10l.94 2.06.94-2.06 2.06-.94-2.06-.94-.94-2.06-.94 2.06-2.06.94z\"/><path d=\"M17.41 7.96l-1.37-1.37c-.4-.4-.92-.59-1.43-.59-.52 0-1.04.2-1.43.59L10.3 9.45l-7.72 7.72c-.78.78-.78 2.05 0 2.83L4 21.41c.39.39.9.59 1.41.59.51 0 1.02-.2 1.41-.59l7.78-7.78 2.81-2.81c.8-.78.8-2.07 0-2.86zM5.41 20L4 18.59l7.72-7.72 1.47 1.35L5.41 20z\"/>\n",
              "  </svg>\n",
              "      </button>\n",
              "      \n",
              "  <style>\n",
              "    .colab-df-container {\n",
              "      display:flex;\n",
              "      flex-wrap:wrap;\n",
              "      gap: 12px;\n",
              "    }\n",
              "\n",
              "    .colab-df-convert {\n",
              "      background-color: #E8F0FE;\n",
              "      border: none;\n",
              "      border-radius: 50%;\n",
              "      cursor: pointer;\n",
              "      display: none;\n",
              "      fill: #1967D2;\n",
              "      height: 32px;\n",
              "      padding: 0 0 0 0;\n",
              "      width: 32px;\n",
              "    }\n",
              "\n",
              "    .colab-df-convert:hover {\n",
              "      background-color: #E2EBFA;\n",
              "      box-shadow: 0px 1px 2px rgba(60, 64, 67, 0.3), 0px 1px 3px 1px rgba(60, 64, 67, 0.15);\n",
              "      fill: #174EA6;\n",
              "    }\n",
              "\n",
              "    [theme=dark] .colab-df-convert {\n",
              "      background-color: #3B4455;\n",
              "      fill: #D2E3FC;\n",
              "    }\n",
              "\n",
              "    [theme=dark] .colab-df-convert:hover {\n",
              "      background-color: #434B5C;\n",
              "      box-shadow: 0px 1px 3px 1px rgba(0, 0, 0, 0.15);\n",
              "      filter: drop-shadow(0px 1px 2px rgba(0, 0, 0, 0.3));\n",
              "      fill: #FFFFFF;\n",
              "    }\n",
              "  </style>\n",
              "\n",
              "      <script>\n",
              "        const buttonEl =\n",
              "          document.querySelector('#df-6adfad45-4aab-473e-8df0-e6be46e2c4b0 button.colab-df-convert');\n",
              "        buttonEl.style.display =\n",
              "          google.colab.kernel.accessAllowed ? 'block' : 'none';\n",
              "\n",
              "        async function convertToInteractive(key) {\n",
              "          const element = document.querySelector('#df-6adfad45-4aab-473e-8df0-e6be46e2c4b0');\n",
              "          const dataTable =\n",
              "            await google.colab.kernel.invokeFunction('convertToInteractive',\n",
              "                                                     [key], {});\n",
              "          if (!dataTable) return;\n",
              "\n",
              "          const docLinkHtml = 'Like what you see? Visit the ' +\n",
              "            '<a target=\"_blank\" href=https://colab.research.google.com/notebooks/data_table.ipynb>data table notebook</a>'\n",
              "            + ' to learn more about interactive tables.';\n",
              "          element.innerHTML = '';\n",
              "          dataTable['output_type'] = 'display_data';\n",
              "          await google.colab.output.renderOutput(dataTable, element);\n",
              "          const docLink = document.createElement('div');\n",
              "          docLink.innerHTML = docLinkHtml;\n",
              "          element.appendChild(docLink);\n",
              "        }\n",
              "      </script>\n",
              "    </div>\n",
              "  </div>\n",
              "  "
            ]
          },
          "metadata": {},
          "execution_count": 12
        }
      ]
    },
    {
      "cell_type": "markdown",
      "source": [
        "# Similarity"
      ],
      "metadata": {
        "id": "GpjI5kzQl430"
      }
    },
    {
      "cell_type": "markdown",
      "source": [
        "## Deifniujemy metodę liczącą podobieństwo dwóch aktorów"
      ],
      "metadata": {
        "id": "FhQGzHfgl5mF"
      }
    },
    {
      "cell_type": "code",
      "source": [
        "def similarity(actor_1_id, actor_2_id):\n",
        "  # tworzymy słownik i zmienną similarity\n",
        "  actors_dict = [{'actor_id': actor_1_id}, {'actor_id': actor_2_id}]\n",
        "  similarity = 0\n",
        "\n",
        "  # załadowanie danych o aktorach do odpowiednich tabel\n",
        "  data_1_2 = data.filter((data.nconst == actor_1_id) | (data.nconst == actor_2_id))\n",
        "  actor_1_data = data.filter(data_1_2.nconst == actor_1_id)\n",
        "  actor_2_data = data.filter(data_1_2.nconst == actor_2_id)\n",
        "  actor_firsts = [actor_1_data.first(), actor_2_data.first()]\n",
        "  \n",
        "  # załadowanie danych do odpowiednich słowników\n",
        "  for i in [0, 1]:    \n",
        "    actors_dict[i]['knownForTiles'] = actor_firsts[i].knownForTitles.split(\",\")\n",
        "    # gdyby brakowało informacji o dacie urodzenia\n",
        "    try:\n",
        "      bYear = int(actor_firsts[i].birthYear)\n",
        "      dYear = int(actor_firsts[i].deathYear)\n",
        "      # TO DO usunąć funkcję int(), gdy typ danych w kolumnach birthYear i deathYear zostanie zmieniony na poprawny\n",
        "      # trzeba będzie wtedy też zmienić metodę radzenia sobie z brakującymi wartościami\n",
        "    except ValueError:\n",
        "      bYear = 0\n",
        "      dYear = 0\n",
        "    actors_dict[i]['yearsActivity'] = [bYear, dYear]\n",
        "    \n",
        "  actors_dict[0]['titles_id'] = actor_1_data.select('tconst').rdd.flatMap(lambda x: x).collect()\n",
        "  actors_dict[1]['titles_id'] = actor_2_data.select('tconst').rdd.flatMap(lambda x: x).collect()\n",
        "  \n",
        "  # similairty na podstawie występowania w tych samych tytułach\n",
        "  for title in actors_dict[0]['titles_id']:\n",
        "    if title in actors_dict[1]['titles_id']:\n",
        "      similarity += 0.25\n",
        "  \n",
        "  # similairty na podstawie bycia znanym z tych samych tytułów\n",
        "  for title in actors_dict[0]['knownForTiles']:\n",
        "    if title in actors_dict[1]['knownForTiles']:\n",
        "      similarity += 3\n",
        "\n",
        "  # similairty na podstawie życia w tym samym okresie czasu\n",
        "  years_overlap = max(0, min(actors_dict[0]['yearsActivity'][1], actors_dict[1]['yearsActivity'][1])- max(actors_dict[0]['yearsActivity'][0], actors_dict[1]['yearsActivity'][0]))\n",
        "  similarity += years_overlap * 0.02\n",
        "  # TO DO zoptymalizować przechodzenie przez listę lat\n",
        "  \n",
        "  return similarity\n",
        "  # TO DO zestandaryzować wartośc zwracaną przez metodę do wartości z przedziału [-1, 1]"
      ],
      "metadata": {
        "id": "SVaufpxzl8Pg"
      },
      "execution_count": 54,
      "outputs": []
    },
    {
      "cell_type": "markdown",
      "source": [
        "## Liczymy pierwsze similarity dla trzech par aktorów"
      ],
      "metadata": {
        "id": "QYy2l98yl-kb"
      }
    },
    {
      "cell_type": "code",
      "source": [
        "aktor1 = \"nm0000010\"\n",
        "aktor2 = \"nm0000011\"\n",
        "print(f\"Podobieństwo dla aktorów {aktor1} i {aktor2} wynosi {round(similarity(aktor1, aktor2), 3)}\")"
      ],
      "metadata": {
        "id": "d6WJluZ3mAeC",
        "outputId": "43611f7b-9e3e-4853-a692-8941338462b6",
        "colab": {
          "base_uri": "https://localhost:8080/"
        }
      },
      "execution_count": 55,
      "outputs": [
        {
          "output_type": "stream",
          "name": "stdout",
          "text": [
            "Podobieństwo dla aktorów nm0000010 i nm0000011 wynosi 1.2\n"
          ]
        }
      ]
    },
    {
      "cell_type": "code",
      "source": [
        "aktor3 = \"nm0000012\"\n",
        "aktor4 = \"nm0000034\"\n",
        "print(f\"Podobieństwo dla aktorów {aktor3} i {aktor4} wynosi {round(similarity(aktor3, aktor4), 3)}\")"
      ],
      "metadata": {
        "id": "PgqlqfgTmCc7",
        "outputId": "9c44e836-59b3-404d-abc7-136cb9b5efad",
        "colab": {
          "base_uri": "https://localhost:8080/"
        }
      },
      "execution_count": 56,
      "outputs": [
        {
          "output_type": "stream",
          "name": "stdout",
          "text": [
            "Podobieństwo dla aktorów nm0000012 i nm0000034 wynosi 1.26\n"
          ]
        }
      ]
    },
    {
      "cell_type": "code",
      "source": [
        "aktor5 = \"nm12193060\"\n",
        "aktor6 = \"nm0032122\"\n",
        "print(f\"Podobieństwo dla aktorów {aktor5} i {aktor6} wynosi {round(similarity(aktor5, aktor6), 3)}\")"
      ],
      "metadata": {
        "id": "v5iUSUL9H5vd",
        "outputId": "03be4a5f-7a3e-4ec7-d9ea-a17a87bce51f",
        "colab": {
          "base_uri": "https://localhost:8080/"
        }
      },
      "execution_count": 57,
      "outputs": [
        {
          "output_type": "stream",
          "name": "stdout",
          "text": [
            "Podobieństwo dla aktorów nm12193060 i nm0032122 wynosi 0.0\n"
          ]
        }
      ]
    }
  ]
}