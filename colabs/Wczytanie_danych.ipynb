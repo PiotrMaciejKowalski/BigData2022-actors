{
  "nbformat": 4,
  "nbformat_minor": 0,
  "metadata": {
    "colab": {
      "provenance": [],
      "collapsed_sections": [
        "kgYZYlTutA0O",
        "or9x68JxXc10",
        "pPWxy5j_aEvo",
        "s-hzkKehxgnQ",
        "snoopt7lY71j"
      ],
      "include_colab_link": true
    },
    "kernelspec": {
      "name": "python3",
      "display_name": "Python 3"
    },
    "language_info": {
      "name": "python"
    }
  },
  "cells": [
    {
      "cell_type": "markdown",
      "metadata": {
        "id": "view-in-github",
        "colab_type": "text"
      },
      "source": [
        "<a href=\"https://colab.research.google.com/github/PiotrMaciejKowalski/BigData2022-actors/blob/Poczenie-baz-danych-nagrd-z-main-data/colabs/Wczytanie_danych.ipynb\" target=\"_parent\"><img src=\"https://colab.research.google.com/assets/colab-badge.svg\" alt=\"Open In Colab\"/></a>"
      ]
    },
    {
      "cell_type": "markdown",
      "source": [
        "#Setup sparka"
      ],
      "metadata": {
        "id": "Vzb444kPW31g"
      }
    },
    {
      "cell_type": "markdown",
      "source": [
        "# Załadowanie nowych baz"
      ],
      "metadata": {
        "id": "tiwX_DUahRps"
      }
    },
    {
      "cell_type": "markdown",
      "source": [
        "##Setup sparka"
      ],
      "metadata": {
        "id": "Ny5PYKNbsHju"
      }
    },
    {
      "cell_type": "code",
      "source": [
        "!pip install pyspark py4j\n",
        "!pip install -q findspark\n",
        "!apt-get install openjdk-8-jdk-headless -qq > /dev/null\n",
        "!wget ftp://ftp.ps.pl/pub/apache/spark/spark-3.3.1/spark-3.3.1-bin-hadoop2.tgz\n",
        "!tar xf spark-3.3.1-bin-hadoop2.tgz"
      ],
      "metadata": {
        "colab": {
          "base_uri": "https://localhost:8080/"
        },
        "id": "UxTbMYkeLrk6",
        "outputId": "ca6a0c0d-683e-417e-a241-53b112acfed8"
      },
      "execution_count": 1,
      "outputs": [
        {
          "output_type": "stream",
          "name": "stdout",
          "text": [
            "Looking in indexes: https://pypi.org/simple, https://us-python.pkg.dev/colab-wheels/public/simple/\n",
            "Collecting pyspark\n",
            "  Downloading pyspark-3.3.1.tar.gz (281.4 MB)\n",
            "\u001b[K     |████████████████████████████████| 281.4 MB 33 kB/s \n",
            "\u001b[?25hCollecting py4j\n",
            "  Downloading py4j-0.10.9.7-py2.py3-none-any.whl (200 kB)\n",
            "\u001b[K     |████████████████████████████████| 200 kB 36.9 MB/s \n",
            "\u001b[?25h  Downloading py4j-0.10.9.5-py2.py3-none-any.whl (199 kB)\n",
            "\u001b[K     |████████████████████████████████| 199 kB 34.1 MB/s \n",
            "\u001b[?25hBuilding wheels for collected packages: pyspark\n",
            "  Building wheel for pyspark (setup.py) ... \u001b[?25l\u001b[?25hdone\n",
            "  Created wheel for pyspark: filename=pyspark-3.3.1-py2.py3-none-any.whl size=281845512 sha256=d82bca0704cd612a856f6da8e7fdf49c1e891ce3e9ebb1bcc20f7aab5b94a749\n",
            "  Stored in directory: /root/.cache/pip/wheels/42/59/f5/79a5bf931714dcd201b26025347785f087370a10a3329a899c\n",
            "Successfully built pyspark\n",
            "Installing collected packages: py4j, pyspark\n",
            "Successfully installed py4j-0.10.9.5 pyspark-3.3.1\n",
            "--2022-11-28 07:33:29--  ftp://ftp.ps.pl/pub/apache/spark/spark-3.3.1/spark-3.3.1-bin-hadoop2.tgz\n",
            "           => ‘spark-3.3.1-bin-hadoop2.tgz’\n",
            "Resolving ftp.ps.pl (ftp.ps.pl)... 212.14.28.36, 2001:4c58:62:2::36\n",
            "Connecting to ftp.ps.pl (ftp.ps.pl)|212.14.28.36|:21... connected.\n",
            "Logging in as anonymous ... Logged in!\n",
            "==> SYST ... done.    ==> PWD ... done.\n",
            "==> TYPE I ... done.  ==> CWD (1) /pub/apache/spark/spark-3.3.1 ... done.\n",
            "==> SIZE spark-3.3.1-bin-hadoop2.tgz ... 274099817\n",
            "==> PASV ... done.    ==> RETR spark-3.3.1-bin-hadoop2.tgz ... done.\n",
            "Length: 274099817 (261M) (unauthoritative)\n",
            "\n",
            "spark-3.3.1-bin-had 100%[===================>] 261.40M  24.9MB/s    in 11s     \n",
            "\n",
            "2022-11-28 07:33:42 (23.3 MB/s) - ‘spark-3.3.1-bin-hadoop2.tgz’ saved [274099817]\n",
            "\n"
          ]
        }
      ]
    },
    {
      "cell_type": "code",
      "source": [
        "import pyspark\n",
        "import findspark\n",
        "from pyspark.sql import SparkSession\n",
        "import os"
      ],
      "metadata": {
        "id": "g_c507iBLsSW"
      },
      "execution_count": 2,
      "outputs": []
    },
    {
      "cell_type": "code",
      "source": [
        "os.environ[\"JAVA_HOME\"] = \"/usr/lib/jvm/java-8-openjdk-amd64\"\n",
        "os.environ[\"SPARK_HOME\"] = \"/content/spark-3.3.1-bin-hadoop2\"\n",
        "spark=SparkSession.builder.appName('Colab').getOrCreate()\n",
        "spark"
      ],
      "metadata": {
        "id": "1rwBnBMwW88n",
        "outputId": "6f7bc187-3d77-40cc-9b46-bb775857e5fe",
        "colab": {
          "base_uri": "https://localhost:8080/",
          "height": 219
        }
      },
      "execution_count": 3,
      "outputs": [
        {
          "output_type": "execute_result",
          "data": {
            "text/plain": [
              "<pyspark.sql.session.SparkSession at 0x7f2643b17410>"
            ],
            "text/html": [
              "\n",
              "            <div>\n",
              "                <p><b>SparkSession - in-memory</b></p>\n",
              "                \n",
              "        <div>\n",
              "            <p><b>SparkContext</b></p>\n",
              "\n",
              "            <p><a href=\"http://bb8adf5b50b2:4040\">Spark UI</a></p>\n",
              "\n",
              "            <dl>\n",
              "              <dt>Version</dt>\n",
              "                <dd><code>v3.3.1</code></dd>\n",
              "              <dt>Master</dt>\n",
              "                <dd><code>local[*]</code></dd>\n",
              "              <dt>AppName</dt>\n",
              "                <dd><code>Colab</code></dd>\n",
              "            </dl>\n",
              "        </div>\n",
              "        \n",
              "            </div>\n",
              "        "
            ]
          },
          "metadata": {},
          "execution_count": 3
        }
      ]
    },
    {
      "cell_type": "markdown",
      "source": [
        "#Pobranie danych"
      ],
      "metadata": {
        "id": "p0l3OAblXJ2w"
      }
    },
    {
      "cell_type": "markdown",
      "source": [
        "##Import danych"
      ],
      "metadata": {
        "id": "kgYZYlTutA0O"
      }
    },
    {
      "cell_type": "code",
      "source": [
        "!wget https://datasets.imdbws.com/name.basics.tsv.gz\n",
        "!wget https://datasets.imdbws.com/title.akas.tsv.gz\n",
        "!wget https://datasets.imdbws.com/title.basics.tsv.gz\n",
        "!wget https://datasets.imdbws.com/title.crew.tsv.gz\n",
        "!wget https://datasets.imdbws.com/title.episode.tsv.gz\n",
        "!wget https://datasets.imdbws.com/title.principals.tsv.gz\n",
        "!wget https://datasets.imdbws.com/title.ratings.tsv.gz"
      ],
      "metadata": {
        "id": "SciXhN5JXONa",
        "colab": {
          "base_uri": "https://localhost:8080/"
        },
        "outputId": "edc0dc8b-bf59-4390-a049-48120869a7d7"
      },
      "execution_count": 4,
      "outputs": [
        {
          "output_type": "stream",
          "name": "stdout",
          "text": [
            "--2022-11-28 07:33:58--  https://datasets.imdbws.com/name.basics.tsv.gz\n",
            "Resolving datasets.imdbws.com (datasets.imdbws.com)... 18.160.46.123, 18.160.46.120, 18.160.46.19, ...\n",
            "Connecting to datasets.imdbws.com (datasets.imdbws.com)|18.160.46.123|:443... connected.\n",
            "HTTP request sent, awaiting response... 200 OK\n",
            "Length: 236951880 (226M) [binary/octet-stream]\n",
            "Saving to: ‘name.basics.tsv.gz’\n",
            "\n",
            "name.basics.tsv.gz  100%[===================>] 225.97M   163MB/s    in 1.4s    \n",
            "\n",
            "2022-11-28 07:33:59 (163 MB/s) - ‘name.basics.tsv.gz’ saved [236951880/236951880]\n",
            "\n",
            "--2022-11-28 07:33:59--  https://datasets.imdbws.com/title.akas.tsv.gz\n",
            "Resolving datasets.imdbws.com (datasets.imdbws.com)... 18.160.46.123, 18.160.46.120, 18.160.46.19, ...\n",
            "Connecting to datasets.imdbws.com (datasets.imdbws.com)|18.160.46.123|:443... connected.\n",
            "HTTP request sent, awaiting response... 200 OK\n",
            "Length: 288688343 (275M) [binary/octet-stream]\n",
            "Saving to: ‘title.akas.tsv.gz’\n",
            "\n",
            "title.akas.tsv.gz   100%[===================>] 275.31M   213MB/s    in 1.3s    \n",
            "\n",
            "2022-11-28 07:34:01 (213 MB/s) - ‘title.akas.tsv.gz’ saved [288688343/288688343]\n",
            "\n",
            "--2022-11-28 07:34:01--  https://datasets.imdbws.com/title.basics.tsv.gz\n",
            "Resolving datasets.imdbws.com (datasets.imdbws.com)... 18.160.46.123, 18.160.46.120, 18.160.46.19, ...\n",
            "Connecting to datasets.imdbws.com (datasets.imdbws.com)|18.160.46.123|:443... connected.\n",
            "HTTP request sent, awaiting response... 200 OK\n",
            "Length: 164346648 (157M) [binary/octet-stream]\n",
            "Saving to: ‘title.basics.tsv.gz’\n",
            "\n",
            "title.basics.tsv.gz 100%[===================>] 156.73M   213MB/s    in 0.7s    \n",
            "\n",
            "2022-11-28 07:34:01 (213 MB/s) - ‘title.basics.tsv.gz’ saved [164346648/164346648]\n",
            "\n",
            "--2022-11-28 07:34:01--  https://datasets.imdbws.com/title.crew.tsv.gz\n",
            "Resolving datasets.imdbws.com (datasets.imdbws.com)... 18.160.46.123, 18.160.46.120, 18.160.46.19, ...\n",
            "Connecting to datasets.imdbws.com (datasets.imdbws.com)|18.160.46.123|:443... connected.\n",
            "HTTP request sent, awaiting response... 200 OK\n",
            "Length: 63069885 (60M) [binary/octet-stream]\n",
            "Saving to: ‘title.crew.tsv.gz’\n",
            "\n",
            "title.crew.tsv.gz   100%[===================>]  60.15M   192MB/s    in 0.3s    \n",
            "\n",
            "2022-11-28 07:34:02 (192 MB/s) - ‘title.crew.tsv.gz’ saved [63069885/63069885]\n",
            "\n",
            "--2022-11-28 07:34:02--  https://datasets.imdbws.com/title.episode.tsv.gz\n",
            "Resolving datasets.imdbws.com (datasets.imdbws.com)... 18.160.46.123, 18.160.46.120, 18.160.46.19, ...\n",
            "Connecting to datasets.imdbws.com (datasets.imdbws.com)|18.160.46.123|:443... connected.\n",
            "HTTP request sent, awaiting response... 200 OK\n",
            "Length: 38652153 (37M) [binary/octet-stream]\n",
            "Saving to: ‘title.episode.tsv.gz’\n",
            "\n",
            "title.episode.tsv.g 100%[===================>]  36.86M   166MB/s    in 0.2s    \n",
            "\n",
            "2022-11-28 07:34:02 (166 MB/s) - ‘title.episode.tsv.gz’ saved [38652153/38652153]\n",
            "\n",
            "--2022-11-28 07:34:02--  https://datasets.imdbws.com/title.principals.tsv.gz\n",
            "Resolving datasets.imdbws.com (datasets.imdbws.com)... 18.160.46.123, 18.160.46.120, 18.160.46.19, ...\n",
            "Connecting to datasets.imdbws.com (datasets.imdbws.com)|18.160.46.123|:443... connected.\n",
            "HTTP request sent, awaiting response... 200 OK\n",
            "Length: 418597014 (399M) [binary/octet-stream]\n",
            "Saving to: ‘title.principals.tsv.gz’\n",
            "\n",
            "title.principals.ts 100%[===================>] 399.21M   198MB/s    in 2.0s    \n",
            "\n",
            "2022-11-28 07:34:04 (198 MB/s) - ‘title.principals.tsv.gz’ saved [418597014/418597014]\n",
            "\n",
            "--2022-11-28 07:34:04--  https://datasets.imdbws.com/title.ratings.tsv.gz\n",
            "Resolving datasets.imdbws.com (datasets.imdbws.com)... 18.160.46.123, 18.160.46.120, 18.160.46.19, ...\n",
            "Connecting to datasets.imdbws.com (datasets.imdbws.com)|18.160.46.123|:443... connected.\n",
            "HTTP request sent, awaiting response... 200 OK\n",
            "Length: 6281932 (6.0M) [binary/octet-stream]\n",
            "Saving to: ‘title.ratings.tsv.gz’\n",
            "\n",
            "title.ratings.tsv.g 100%[===================>]   5.99M  --.-KB/s    in 0.07s   \n",
            "\n",
            "2022-11-28 07:34:04 (83.6 MB/s) - ‘title.ratings.tsv.gz’ saved [6281932/6281932]\n",
            "\n"
          ]
        }
      ]
    },
    {
      "cell_type": "markdown",
      "source": [
        "##Rozpakowanie danych"
      ],
      "metadata": {
        "id": "or9x68JxXc10"
      }
    },
    {
      "cell_type": "code",
      "source": [
        "!gzip -dc /content/name.basics.tsv.gz > name.basics.csv\n",
        "!gzip -dc /content/title.akas.tsv.gz > title.akas.csv\n",
        "!gzip -dc /content/title.basics.tsv.gz > title.basic.csv\n",
        "!gzip -dc /content/title.crew.tsv.gz > title.crew.csv\n",
        "!gzip -dc /content/title.episode.tsv.gz > title.episode.csv\n",
        "!gzip -dc /content/title.principals.tsv.gz > title.principals.csv\n",
        "!gzip -dc /content/title.ratings.tsv.gz > title.ratings.csv"
      ],
      "metadata": {
        "id": "IpXAjtV4XeKx"
      },
      "execution_count": 5,
      "outputs": []
    },
    {
      "cell_type": "markdown",
      "source": [
        "#Wczytanie danych"
      ],
      "metadata": {
        "id": "pPWxy5j_aEvo"
      }
    },
    {
      "cell_type": "markdown",
      "source": [
        "##Wczytajmy dane z rozpakowanych plików"
      ],
      "metadata": {
        "id": "s-hzkKehxgnQ"
      }
    },
    {
      "cell_type": "code",
      "source": [
        "df_name_basics=spark.read.option(\"header\", \"true\").option(\"delimiter\", \"\\t\").csv('name.basics.csv' ) \n",
        "df_title_akas=spark.read.option(\"header\",\"true\").option(\"delimiter\", \"\\t\").csv('title.akas.csv')\n",
        "df_title_basic=spark.read.option(\"header\",\"true\").option(\"delimiter\", \"\\t\").csv('title.basic.csv')\n",
        "df_title_crew=spark.read.option(\"header\",\"true\").option(\"delimiter\", \"\\t\").csv('title.crew.csv')\n",
        "df_title_episode=spark.read.option(\"header\",\"true\").option(\"delimiter\",\"\\t\").csv('title.episode.csv')\n",
        "df_title_principals=spark.read.option(\"header\",\"true\").option(\"delimiter\",\"\\t\").csv('title.principals.csv')\n",
        "df_title_ratings=spark.read.option(\"header\",\"true\").option(\"delimiter\",\"\\t\").csv('title.ratings.csv')"
      ],
      "metadata": {
        "id": "skegmFMQXpcA"
      },
      "execution_count": 6,
      "outputs": []
    },
    {
      "cell_type": "markdown",
      "source": [
        "##Wyświetlmy dane"
      ],
      "metadata": {
        "id": "snoopt7lY71j"
      }
    },
    {
      "cell_type": "code",
      "source": [
        "df_name_basics.show(3)\n",
        "df_title_akas.show(3)\n",
        "df_title_basic.show(3)\n",
        "df_title_crew.show(3)\n",
        "df_title_episode.show(3)\n",
        "df_title_principals.show(3)\n",
        "df_title_ratings.show(3)"
      ],
      "metadata": {
        "id": "BQItTCh9ZBht",
        "colab": {
          "base_uri": "https://localhost:8080/"
        },
        "outputId": "00b964db-7fc1-47d2-db49-c00d4bece8c9"
      },
      "execution_count": 7,
      "outputs": [
        {
          "output_type": "stream",
          "name": "stdout",
          "text": [
            "+---------+---------------+---------+---------+--------------------+--------------------+\n",
            "|   nconst|    primaryName|birthYear|deathYear|   primaryProfession|      knownForTitles|\n",
            "+---------+---------------+---------+---------+--------------------+--------------------+\n",
            "|nm0000001|   Fred Astaire|     1899|     1987|soundtrack,actor,...|tt0031983,tt00504...|\n",
            "|nm0000002|  Lauren Bacall|     1924|     2014|  actress,soundtrack|tt0038355,tt00373...|\n",
            "|nm0000003|Brigitte Bardot|     1934|       \\N|actress,soundtrac...|tt0054452,tt00573...|\n",
            "+---------+---------------+---------+---------+--------------------+--------------------+\n",
            "only showing top 3 rows\n",
            "\n",
            "+---------+--------+--------------------+------+--------+-----------+-------------+---------------+\n",
            "|  titleId|ordering|               title|region|language|      types|   attributes|isOriginalTitle|\n",
            "+---------+--------+--------------------+------+--------+-----------+-------------+---------------+\n",
            "|tt0000001|       1|          Карменсіта|    UA|      \\N|imdbDisplay|           \\N|              0|\n",
            "|tt0000001|       2|          Carmencita|    DE|      \\N|         \\N|literal title|              0|\n",
            "|tt0000001|       3|Carmencita - span...|    HU|      \\N|imdbDisplay|           \\N|              0|\n",
            "+---------+--------+--------------------+------+--------+-----------+-------------+---------------+\n",
            "only showing top 3 rows\n",
            "\n",
            "+---------+---------+--------------------+--------------------+-------+---------+-------+--------------+--------------------+\n",
            "|   tconst|titleType|        primaryTitle|       originalTitle|isAdult|startYear|endYear|runtimeMinutes|              genres|\n",
            "+---------+---------+--------------------+--------------------+-------+---------+-------+--------------+--------------------+\n",
            "|tt0000001|    short|          Carmencita|          Carmencita|      0|     1894|     \\N|             1|   Documentary,Short|\n",
            "|tt0000002|    short|Le clown et ses c...|Le clown et ses c...|      0|     1892|     \\N|             5|     Animation,Short|\n",
            "|tt0000003|    short|      Pauvre Pierrot|      Pauvre Pierrot|      0|     1892|     \\N|             4|Animation,Comedy,...|\n",
            "+---------+---------+--------------------+--------------------+-------+---------+-------+--------------+--------------------+\n",
            "only showing top 3 rows\n",
            "\n",
            "+---------+---------+-------+\n",
            "|   tconst|directors|writers|\n",
            "+---------+---------+-------+\n",
            "|tt0000001|nm0005690|     \\N|\n",
            "|tt0000002|nm0721526|     \\N|\n",
            "|tt0000003|nm0721526|     \\N|\n",
            "+---------+---------+-------+\n",
            "only showing top 3 rows\n",
            "\n",
            "+---------+------------+------------+-------------+\n",
            "|   tconst|parentTconst|seasonNumber|episodeNumber|\n",
            "+---------+------------+------------+-------------+\n",
            "|tt0041951|   tt0041038|           1|            9|\n",
            "|tt0042816|   tt0989125|           1|           17|\n",
            "|tt0042889|   tt0989125|          \\N|           \\N|\n",
            "+---------+------------+------------+-------------+\n",
            "only showing top 3 rows\n",
            "\n",
            "+---------+--------+---------+---------------+--------------------+----------+\n",
            "|   tconst|ordering|   nconst|       category|                 job|characters|\n",
            "+---------+--------+---------+---------------+--------------------+----------+\n",
            "|tt0000001|       1|nm1588970|           self|                  \\N|  [\"Self\"]|\n",
            "|tt0000001|       2|nm0005690|       director|                  \\N|        \\N|\n",
            "|tt0000001|       3|nm0374658|cinematographer|director of photo...|        \\N|\n",
            "+---------+--------+---------+---------------+--------------------+----------+\n",
            "only showing top 3 rows\n",
            "\n",
            "+---------+-------------+--------+\n",
            "|   tconst|averageRating|numVotes|\n",
            "+---------+-------------+--------+\n",
            "|tt0000001|          5.7|    1924|\n",
            "|tt0000002|          5.8|     259|\n",
            "|tt0000003|          6.5|    1737|\n",
            "+---------+-------------+--------+\n",
            "only showing top 3 rows\n",
            "\n"
          ]
        }
      ]
    },
    {
      "cell_type": "markdown",
      "source": [
        "# Złączenie istotnych kolumn"
      ],
      "metadata": {
        "id": "ZZb5i_RrA-yP"
      }
    },
    {
      "cell_type": "markdown",
      "source": [
        "## Wybierzmy z tabel tylko istotne rekordy:\n",
        "- df_title_basic: wybierzmy tylko rekordy z primaryProfession zawierającym \"actor\" lub \"actress\",\n",
        "- df_title_principals: wybierzmy rekordy z category zawierającym \"actor\" lub \"actress\"."
      ],
      "metadata": {
        "id": "NKMlZ82RMD6M"
      }
    },
    {
      "cell_type": "code",
      "source": [
        "df_name_basics_selected = df_name_basics.filter(\"primaryProfession like '%actor%' or primaryProfession like '%actress%'\")\n",
        "df_title_principals_selected = df_title_principals.filter((df_title_principals.category == \"actor\") | (df_title_principals.category == \"actress\"))"
      ],
      "metadata": {
        "id": "31ldGYZGMFGQ"
      },
      "execution_count": 8,
      "outputs": []
    },
    {
      "cell_type": "markdown",
      "source": [
        "## Wybierzmy następujące kolumny z tabel:\n",
        "- df_title_basic:\n",
        "  - tconst (unikalny numer tytułu - potrzebne do złączenia tabel)\n",
        "  - titleType (rodzaj tytułu, np. film, serial - można porównywać podobieństwo aktorów na podstawie tego w jakich typach produkcji grali)\n",
        "  - originalTitle (tytuł produkcji - być może przyda się do analizy podobnych filmów)\n",
        "  - isAdult (czy produkcja jest dla dorosłych - można wykorzystać do porównywania aktorów na podstawie tego czy grają głównie w produkcjach dla dorosłych)\n",
        "  - startYear (data wypuszczenia produkcji - można wykorzystać do porównania epok filmów, w których grali aktorzy)\n",
        "  - endYear (data zakończenia serii, w innych przypadkach \\N - można wykorzystać do porównania epok filmów, w których grali aktorzy)\n",
        "  - genres (gatunki - może posłużyć do porównania aktorów na podstawie tego, że grali w produkcjach o podobnych gatunkach)\n",
        "\n",
        "- df_title_principals:\n",
        "  - tconst (unikalny numer tytułu - potrzebne do złączenia tabel)\n",
        "  - nconst (unikalny numer aktora - potrzebne do złączenia tabel)\n",
        "  - category (kategoria pracy (actor/actress) - może posłużyć do porównania aktorów na podstawie takiej samej płci)\n",
        "  - characters (postacie zagrane w produkcji - może posłużyć do porównania aktorów na podstawie podobnych granych postaci)\n",
        "\n",
        "- df_name_basics:\n",
        "  - nconst(unikalny numer aktora - potrzebne do złączenia tabel)\n",
        "  - primaryName (imię i nazwisko aktora - potrzebne do wyświetlania aktora lub do odnajdywania go w bazie po imieniu i nazwisku)\n",
        "  - knownForTitles (tytuły produkcji, z których znany jest aktor - może posłużyć do porównania aktorów na podstawie tych samych lub podobnych produkcji, z których są znani)"
      ],
      "metadata": {
        "id": "MGd5Hi-VBF9h"
      }
    },
    {
      "cell_type": "code",
      "source": [
        "df_title_basic_selected = df_title_basic.select([\"tconst\", \"titleType\", \"originalTitle\", \"isAdult\", \"startYear\", \"endYear\", \"genres\"])\n",
        "df_title_principals_selected = df_title_principals_selected.select([\"tconst\", \"nconst\", \"category\", \"characters\"])\n",
        "df_name_basics_selected = df_name_basics_selected.select([\"nconst\", \"primaryName\", \"knownForTitles\"])"
      ],
      "metadata": {
        "id": "OKWe9JSKBC5q"
      },
      "execution_count": 9,
      "outputs": []
    },
    {
      "cell_type": "markdown",
      "source": [
        "# Złączmy tabele df_name_basics, df_title_principals i df_title_basic"
      ],
      "metadata": {
        "id": "eMIHo59PBNtx"
      }
    },
    {
      "cell_type": "code",
      "source": [
        "print(\"df_name_basics_selected dataframe size: \", (df_name_basics_selected.count(), len(df_name_basics_selected.columns)))\n",
        "print(\"df_title_principals_selected dataframe size: \", (df_title_principals_selected.count(), len(df_title_principals_selected.columns)))\n",
        "print(\"df_title_basic_selected dataframe size: \", (df_title_basic_selected.count(), len(df_title_basic_selected.columns)))\n",
        "data = df_title_basic_selected.join(df_title_principals_selected, \"tconst\", \"right\")\n",
        "print(\"joined dataframe size: \", (data.count(), len(data.columns)))\n",
        "data = data.join(df_name_basics_selected, \"nconst\", \"inner\")\n",
        "print(\"joined dataframe size: \", (data.count(), len(data.columns)))"
      ],
      "metadata": {
        "id": "zMqqAJ7zBJWL",
        "outputId": "262e1167-5e6b-4343-f22a-6010385bc5b6",
        "colab": {
          "base_uri": "https://localhost:8080/"
        }
      },
      "execution_count": 10,
      "outputs": [
        {
          "output_type": "stream",
          "name": "stdout",
          "text": [
            "df_name_basics_selected dataframe size:  (4431583, 3)\n",
            "df_title_principals_selected dataframe size:  (20849266, 4)\n",
            "df_title_basic_selected dataframe size:  (9401453, 7)\n",
            "joined dataframe size:  (20849266, 10)\n",
            "joined dataframe size:  (20225136, 12)\n"
          ]
        }
      ]
    },
    {
      "cell_type": "markdown",
      "source": [
        "## Łączymy dane na temat jednego aktora w jeden rekord"
      ],
      "metadata": {
        "id": "Jbn8MLa0uXxM"
      }
    },
    {
      "cell_type": "code",
      "source": [
        "from pyspark.sql.functions import collect_list\n",
        "from pyspark.sql.functions import first\n",
        "from pyspark.sql.functions import array_distinct\n",
        "from pyspark.sql.functions import min\n",
        "from pyspark.sql.functions import max\n",
        "data = data.groupby('nconst').agg(collect_list('tconst').alias(\"tconst\"), collect_list('titleType').alias(\"titleType\"), collect_list('originalTitle').alias(\"originalTitle\"), collect_list('isAdult').alias(\"isAdult\"), min('startYear').alias(\"startYear\"), max('endYear').alias(\"endYear\"), collect_list('genres').alias(\"genres\"), first('category').alias(\"category\"), collect_list('characters').alias(\"characters\"), first('primaryName').alias(\"primaryName\"), first('knownForTitles').alias(\"knownForTitles\"))\n"
      ],
      "metadata": {
        "id": "eIYJsIOKVg5k"
      },
      "execution_count": 11,
      "outputs": []
    },
    {
      "cell_type": "markdown",
      "source": [
        "# Wybierzmy przykładowe wiersze z końcowego dataframe'u"
      ],
      "metadata": {
        "id": "hKXuX-JdE9ED"
      }
    },
    {
      "cell_type": "code",
      "source": [
        "sample = data.rdd.takeSample(False, 5)"
      ],
      "metadata": {
        "id": "bH43D49EE84F"
      },
      "execution_count": 12,
      "outputs": []
    },
    {
      "cell_type": "code",
      "source": [
        "import pandas as pd\n",
        "sample = pd.DataFrame(sample, columns = data.columns)\n",
        "sample"
      ],
      "metadata": {
        "id": "kW8-_TXYLo10",
        "colab": {
          "base_uri": "https://localhost:8080/",
          "height": 372
        },
        "outputId": "f53f31ac-86c9-4ec7-ef54-79adaa2addf4"
      },
      "execution_count": 13,
      "outputs": [
        {
          "output_type": "execute_result",
          "data": {
            "text/plain": [
              "       nconst                                             tconst  \\\n",
              "0  nm13800744                                       [tt21158520]   \n",
              "1   nm3717522                             [tt5285196, tt1555102]   \n",
              "2  nm11154244                           [tt15284326, tt15284606]   \n",
              "3   nm0208264                                        [tt0069191]   \n",
              "4   nm0519910  [tt1702576, tt1702577, tt1702575, tt0742060, t...   \n",
              "\n",
              "                                           titleType  \\\n",
              "0                                            [movie]   \n",
              "1                                 [tvEpisode, short]   \n",
              "2                                     [short, short]   \n",
              "3                                            [movie]   \n",
              "4  [video, video, video, tvEpisode, tvSeries, tvM...   \n",
              "\n",
              "                                       originalTitle  \\\n",
              "0                                  [Teaching Trauma]   \n",
              "1                      [Histoires d'Arno, The Dress]   \n",
              "2                            [Suono, Happy 3irthday]   \n",
              "3                                             [Roma]   \n",
              "4  [Pecado Sem Perdão, Pecados & Tentações, Pecad...   \n",
              "\n",
              "                       isAdult startYear endYear  \\\n",
              "0                          [0]      2021      \\N   \n",
              "1                       [0, 0]      2007      \\N   \n",
              "2                       [0, 0]      2020      \\N   \n",
              "3                          [0]      1972      \\N   \n",
              "4  [1, 1, 1, 0, 0, 0, 0, 0, 0]      1991      \\N   \n",
              "\n",
              "                                              genres category  \\\n",
              "0                                            [Drama]    actor   \n",
              "1                               [Music, Drama,Short]  actress   \n",
              "2                      [Drama,Short, Short,Thriller]    actor   \n",
              "3                                     [Comedy,Drama]  actress   \n",
              "4  [Adult, Adult, Adult, Thriller, Drama,Romance,...  actress   \n",
              "\n",
              "                                          characters       primaryName  \\\n",
              "0                                      [[\"Michael\"]]         Mike Gray   \n",
              "1                                [\\N, [\"The Woman\"]]  Céline Beigbeder   \n",
              "2                       [[\"Tristan\"], [\"Brother 1\"]]      Laurd Milian   \n",
              "3                           [[\"Princess Domitilla\"]]      Pia De Doses   \n",
              "4  [[\"Marlene\"], [\"Marlene\"], [\"Marlene\"], \\N, [\"...       Leila Lopes   \n",
              "\n",
              "                                knownForTitles  \n",
              "0                                   tt21158520  \n",
              "1                tt5092070,tt1555102,tt5493370  \n",
              "2  tt13694838,tt15284326,tt22177174,tt15284606  \n",
              "3      tt0042342,tt0032302,tt0034429,tt0069191  \n",
              "4      tt0149443,tt0138257,tt0140759,tt0289033  "
            ],
            "text/html": [
              "\n",
              "  <div id=\"df-8c27d30e-9d5a-4779-bea4-0e8438fe97ca\">\n",
              "    <div class=\"colab-df-container\">\n",
              "      <div>\n",
              "<style scoped>\n",
              "    .dataframe tbody tr th:only-of-type {\n",
              "        vertical-align: middle;\n",
              "    }\n",
              "\n",
              "    .dataframe tbody tr th {\n",
              "        vertical-align: top;\n",
              "    }\n",
              "\n",
              "    .dataframe thead th {\n",
              "        text-align: right;\n",
              "    }\n",
              "</style>\n",
              "<table border=\"1\" class=\"dataframe\">\n",
              "  <thead>\n",
              "    <tr style=\"text-align: right;\">\n",
              "      <th></th>\n",
              "      <th>nconst</th>\n",
              "      <th>tconst</th>\n",
              "      <th>titleType</th>\n",
              "      <th>originalTitle</th>\n",
              "      <th>isAdult</th>\n",
              "      <th>startYear</th>\n",
              "      <th>endYear</th>\n",
              "      <th>genres</th>\n",
              "      <th>category</th>\n",
              "      <th>characters</th>\n",
              "      <th>primaryName</th>\n",
              "      <th>knownForTitles</th>\n",
              "    </tr>\n",
              "  </thead>\n",
              "  <tbody>\n",
              "    <tr>\n",
              "      <th>0</th>\n",
              "      <td>nm13800744</td>\n",
              "      <td>[tt21158520]</td>\n",
              "      <td>[movie]</td>\n",
              "      <td>[Teaching Trauma]</td>\n",
              "      <td>[0]</td>\n",
              "      <td>2021</td>\n",
              "      <td>\\N</td>\n",
              "      <td>[Drama]</td>\n",
              "      <td>actor</td>\n",
              "      <td>[[\"Michael\"]]</td>\n",
              "      <td>Mike Gray</td>\n",
              "      <td>tt21158520</td>\n",
              "    </tr>\n",
              "    <tr>\n",
              "      <th>1</th>\n",
              "      <td>nm3717522</td>\n",
              "      <td>[tt5285196, tt1555102]</td>\n",
              "      <td>[tvEpisode, short]</td>\n",
              "      <td>[Histoires d'Arno, The Dress]</td>\n",
              "      <td>[0, 0]</td>\n",
              "      <td>2007</td>\n",
              "      <td>\\N</td>\n",
              "      <td>[Music, Drama,Short]</td>\n",
              "      <td>actress</td>\n",
              "      <td>[\\N, [\"The Woman\"]]</td>\n",
              "      <td>Céline Beigbeder</td>\n",
              "      <td>tt5092070,tt1555102,tt5493370</td>\n",
              "    </tr>\n",
              "    <tr>\n",
              "      <th>2</th>\n",
              "      <td>nm11154244</td>\n",
              "      <td>[tt15284326, tt15284606]</td>\n",
              "      <td>[short, short]</td>\n",
              "      <td>[Suono, Happy 3irthday]</td>\n",
              "      <td>[0, 0]</td>\n",
              "      <td>2020</td>\n",
              "      <td>\\N</td>\n",
              "      <td>[Drama,Short, Short,Thriller]</td>\n",
              "      <td>actor</td>\n",
              "      <td>[[\"Tristan\"], [\"Brother 1\"]]</td>\n",
              "      <td>Laurd Milian</td>\n",
              "      <td>tt13694838,tt15284326,tt22177174,tt15284606</td>\n",
              "    </tr>\n",
              "    <tr>\n",
              "      <th>3</th>\n",
              "      <td>nm0208264</td>\n",
              "      <td>[tt0069191]</td>\n",
              "      <td>[movie]</td>\n",
              "      <td>[Roma]</td>\n",
              "      <td>[0]</td>\n",
              "      <td>1972</td>\n",
              "      <td>\\N</td>\n",
              "      <td>[Comedy,Drama]</td>\n",
              "      <td>actress</td>\n",
              "      <td>[[\"Princess Domitilla\"]]</td>\n",
              "      <td>Pia De Doses</td>\n",
              "      <td>tt0042342,tt0032302,tt0034429,tt0069191</td>\n",
              "    </tr>\n",
              "    <tr>\n",
              "      <th>4</th>\n",
              "      <td>nm0519910</td>\n",
              "      <td>[tt1702576, tt1702577, tt1702575, tt0742060, t...</td>\n",
              "      <td>[video, video, video, tvEpisode, tvSeries, tvM...</td>\n",
              "      <td>[Pecado Sem Perdão, Pecados &amp; Tentações, Pecad...</td>\n",
              "      <td>[1, 1, 1, 0, 0, 0, 0, 0, 0]</td>\n",
              "      <td>1991</td>\n",
              "      <td>\\N</td>\n",
              "      <td>[Adult, Adult, Adult, Thriller, Drama,Romance,...</td>\n",
              "      <td>actress</td>\n",
              "      <td>[[\"Marlene\"], [\"Marlene\"], [\"Marlene\"], \\N, [\"...</td>\n",
              "      <td>Leila Lopes</td>\n",
              "      <td>tt0149443,tt0138257,tt0140759,tt0289033</td>\n",
              "    </tr>\n",
              "  </tbody>\n",
              "</table>\n",
              "</div>\n",
              "      <button class=\"colab-df-convert\" onclick=\"convertToInteractive('df-8c27d30e-9d5a-4779-bea4-0e8438fe97ca')\"\n",
              "              title=\"Convert this dataframe to an interactive table.\"\n",
              "              style=\"display:none;\">\n",
              "        \n",
              "  <svg xmlns=\"http://www.w3.org/2000/svg\" height=\"24px\"viewBox=\"0 0 24 24\"\n",
              "       width=\"24px\">\n",
              "    <path d=\"M0 0h24v24H0V0z\" fill=\"none\"/>\n",
              "    <path d=\"M18.56 5.44l.94 2.06.94-2.06 2.06-.94-2.06-.94-.94-2.06-.94 2.06-2.06.94zm-11 1L8.5 8.5l.94-2.06 2.06-.94-2.06-.94L8.5 2.5l-.94 2.06-2.06.94zm10 10l.94 2.06.94-2.06 2.06-.94-2.06-.94-.94-2.06-.94 2.06-2.06.94z\"/><path d=\"M17.41 7.96l-1.37-1.37c-.4-.4-.92-.59-1.43-.59-.52 0-1.04.2-1.43.59L10.3 9.45l-7.72 7.72c-.78.78-.78 2.05 0 2.83L4 21.41c.39.39.9.59 1.41.59.51 0 1.02-.2 1.41-.59l7.78-7.78 2.81-2.81c.8-.78.8-2.07 0-2.86zM5.41 20L4 18.59l7.72-7.72 1.47 1.35L5.41 20z\"/>\n",
              "  </svg>\n",
              "      </button>\n",
              "      \n",
              "  <style>\n",
              "    .colab-df-container {\n",
              "      display:flex;\n",
              "      flex-wrap:wrap;\n",
              "      gap: 12px;\n",
              "    }\n",
              "\n",
              "    .colab-df-convert {\n",
              "      background-color: #E8F0FE;\n",
              "      border: none;\n",
              "      border-radius: 50%;\n",
              "      cursor: pointer;\n",
              "      display: none;\n",
              "      fill: #1967D2;\n",
              "      height: 32px;\n",
              "      padding: 0 0 0 0;\n",
              "      width: 32px;\n",
              "    }\n",
              "\n",
              "    .colab-df-convert:hover {\n",
              "      background-color: #E2EBFA;\n",
              "      box-shadow: 0px 1px 2px rgba(60, 64, 67, 0.3), 0px 1px 3px 1px rgba(60, 64, 67, 0.15);\n",
              "      fill: #174EA6;\n",
              "    }\n",
              "\n",
              "    [theme=dark] .colab-df-convert {\n",
              "      background-color: #3B4455;\n",
              "      fill: #D2E3FC;\n",
              "    }\n",
              "\n",
              "    [theme=dark] .colab-df-convert:hover {\n",
              "      background-color: #434B5C;\n",
              "      box-shadow: 0px 1px 3px 1px rgba(0, 0, 0, 0.15);\n",
              "      filter: drop-shadow(0px 1px 2px rgba(0, 0, 0, 0.3));\n",
              "      fill: #FFFFFF;\n",
              "    }\n",
              "  </style>\n",
              "\n",
              "      <script>\n",
              "        const buttonEl =\n",
              "          document.querySelector('#df-8c27d30e-9d5a-4779-bea4-0e8438fe97ca button.colab-df-convert');\n",
              "        buttonEl.style.display =\n",
              "          google.colab.kernel.accessAllowed ? 'block' : 'none';\n",
              "\n",
              "        async function convertToInteractive(key) {\n",
              "          const element = document.querySelector('#df-8c27d30e-9d5a-4779-bea4-0e8438fe97ca');\n",
              "          const dataTable =\n",
              "            await google.colab.kernel.invokeFunction('convertToInteractive',\n",
              "                                                     [key], {});\n",
              "          if (!dataTable) return;\n",
              "\n",
              "          const docLinkHtml = 'Like what you see? Visit the ' +\n",
              "            '<a target=\"_blank\" href=https://colab.research.google.com/notebooks/data_table.ipynb>data table notebook</a>'\n",
              "            + ' to learn more about interactive tables.';\n",
              "          element.innerHTML = '';\n",
              "          dataTable['output_type'] = 'display_data';\n",
              "          await google.colab.output.renderOutput(dataTable, element);\n",
              "          const docLink = document.createElement('div');\n",
              "          docLink.innerHTML = docLinkHtml;\n",
              "          element.appendChild(docLink);\n",
              "        }\n",
              "      </script>\n",
              "    </div>\n",
              "  </div>\n",
              "  "
            ]
          },
          "metadata": {},
          "execution_count": 13
        }
      ]
    },
    {
      "cell_type": "markdown",
      "source": [
        "# Załadowanie nowych baz\n",
        "\n",
        "   **W celu załadowania nowych danych należy:**\n",
        "\n",
        "\n",
        "1. Pobrać token API:\n",
        "  * Wejść w *zespół Aktorzy* na teams\n",
        "   * Wybrać zakładkę *pliki*\n",
        "    * Pobrać plik *kaggle.json* - API\n",
        "2. Utworzyć plik na swoim dysku pod nazwą \"Big Data\"\n",
        "3. Wrzucić pobrane API na swój dysk\n",
        "4. Uruchomić kod :)\n",
        "\n",
        "\n"
      ],
      "metadata": {
        "id": "bfRM2_2Lcdoi"
      }
    },
    {
      "cell_type": "markdown",
      "source": [
        "## Wczytajmy bazę oskarów: \"Best Movies Watchlist\"\n"
      ],
      "metadata": {
        "id": "ybdfEcrqRZ0s"
      }
    },
    {
      "cell_type": "code",
      "source": [
        "from google.colab import drive\n",
        "drive.mount('/content/gdrive')\n",
        "\n",
        "#%cd /content/gdrive/MyDrive/Big Data/kaggle.json\n",
        "import os\n",
        "os.environ['KAGGLE_CONFIG_DIR'] = \"/content/gdrive/MyDrive/Big Data\"\n",
        "\n",
        "#from google.colab import drive\n",
        "#drive.mount('/content/drive')\n",
        "#random.seed(123456)\n",
        "#np.set_printoptions(precision=6, suppress=True)"
      ],
      "metadata": {
        "colab": {
          "base_uri": "https://localhost:8080/"
        },
        "id": "x6UtikJb8Ta-",
        "outputId": "d350300c-3db9-4a29-ff59-b73c3b9d82ab"
      },
      "execution_count": 15,
      "outputs": [
        {
          "output_type": "stream",
          "name": "stdout",
          "text": [
            "Mounted at /content/gdrive\n"
          ]
        }
      ]
    },
    {
      "cell_type": "code",
      "source": [
        "! pip install kaggle\n",
        "! mkdir ~/.kaggle #Utwórz katalog o nazwie „.kaggle”\n",
        "! cp kaggle.json ~/.kaggle/ # Skopiuj plik „kaggle.json” do tego nowego katalogu\n",
        "! chmod 600 ~/.kaggle/kaggle.json #Przydziel wymagane uprawnienia do tego pliku."
      ],
      "metadata": {
        "id": "F0Jbvbu9Usce",
        "colab": {
          "base_uri": "https://localhost:8080/"
        },
        "outputId": "e354189d-7515-43f5-abb6-6687ee8f32af"
      },
      "execution_count": 16,
      "outputs": [
        {
          "output_type": "stream",
          "name": "stdout",
          "text": [
            "Looking in indexes: https://pypi.org/simple, https://us-python.pkg.dev/colab-wheels/public/simple/\n",
            "Requirement already satisfied: kaggle in /usr/local/lib/python3.7/dist-packages (1.5.12)\n",
            "Requirement already satisfied: tqdm in /usr/local/lib/python3.7/dist-packages (from kaggle) (4.64.1)\n",
            "Requirement already satisfied: python-slugify in /usr/local/lib/python3.7/dist-packages (from kaggle) (6.1.2)\n",
            "Requirement already satisfied: python-dateutil in /usr/local/lib/python3.7/dist-packages (from kaggle) (2.8.2)\n",
            "Requirement already satisfied: urllib3 in /usr/local/lib/python3.7/dist-packages (from kaggle) (1.24.3)\n",
            "Requirement already satisfied: requests in /usr/local/lib/python3.7/dist-packages (from kaggle) (2.23.0)\n",
            "Requirement already satisfied: certifi in /usr/local/lib/python3.7/dist-packages (from kaggle) (2022.9.24)\n",
            "Requirement already satisfied: six>=1.10 in /usr/local/lib/python3.7/dist-packages (from kaggle) (1.15.0)\n",
            "Requirement already satisfied: text-unidecode>=1.3 in /usr/local/lib/python3.7/dist-packages (from python-slugify->kaggle) (1.3)\n",
            "Requirement already satisfied: chardet<4,>=3.0.2 in /usr/local/lib/python3.7/dist-packages (from requests->kaggle) (3.0.4)\n",
            "Requirement already satisfied: idna<3,>=2.5 in /usr/local/lib/python3.7/dist-packages (from requests->kaggle) (2.10)\n",
            "cp: cannot stat 'kaggle.json': No such file or directory\n",
            "chmod: cannot access '/root/.kaggle/kaggle.json': No such file or directory\n"
          ]
        }
      ]
    },
    {
      "cell_type": "code",
      "source": [
        "#import pandas as pd\n",
        "\n",
        "! kaggle datasets download unanimad/the-oscar-award #załadujmy dane\n",
        "! unzip the-oscar-award.zip #rozpakujmy z zip'a\n",
        "oscars=spark.read.option(\"header\",\"true\").csv('the_oscar_award.csv')\n",
        "#oscars=pd.read_csv('the_oscar_award.csv')\n",
        "oscars.show(5)\n"
      ],
      "metadata": {
        "id": "V8YLBAdzRiNF",
        "outputId": "fa63380a-4bfd-45b7-f4ed-b9adf965dd8a",
        "colab": {
          "base_uri": "https://localhost:8080/"
        }
      },
      "execution_count": 17,
      "outputs": [
        {
          "output_type": "stream",
          "name": "stdout",
          "text": [
            "Downloading the-oscar-award.zip to /content\n",
            "\r  0% 0.00/191k [00:00<?, ?B/s]\n",
            "\r100% 191k/191k [00:00<00:00, 57.8MB/s]\n",
            "Archive:  the-oscar-award.zip\n",
            "  inflating: the_oscar_award.csv     \n",
            "+---------+-------------+--------+--------+-------------------+----------------+------+\n",
            "|year_film|year_ceremony|ceremony|category|               name|            film|winner|\n",
            "+---------+-------------+--------+--------+-------------------+----------------+------+\n",
            "|     1927|         1928|       1|   ACTOR|Richard Barthelmess|       The Noose| False|\n",
            "|     1927|         1928|       1|   ACTOR|      Emil Jannings|The Last Command|  True|\n",
            "|     1927|         1928|       1| ACTRESS|     Louise Dresser| A Ship Comes In| False|\n",
            "|     1927|         1928|       1| ACTRESS|       Janet Gaynor|      7th Heaven|  True|\n",
            "|     1927|         1928|       1| ACTRESS|     Gloria Swanson|  Sadie Thompson| False|\n",
            "+---------+-------------+--------+--------+-------------------+----------------+------+\n",
            "only showing top 5 rows\n",
            "\n"
          ]
        }
      ]
    },
    {
      "cell_type": "markdown",
      "source": [
        "Main Data:\n",
        "* primaryName\t- aktor\n",
        "* originalTitle - nazwa filmu\n",
        "\n",
        "W nowej bazie oskarów:\n",
        "* name - aktor\n",
        "* film - film"
      ],
      "metadata": {
        "id": "mwsXXYSiYlGz"
      }
    },
    {
      "cell_type": "markdown",
      "source": [
        "## Wczytajmy bazę złotych globów: \"Golden Globe Awards, 1944 - 2020\""
      ],
      "metadata": {
        "id": "t5pYLeWGYf2D"
      }
    },
    {
      "cell_type": "code",
      "source": [
        "! kaggle datasets download unanimad/golden-globe-awards #załadujmy dane\n",
        "! unzip golden-globe-awards.zip #rozpakujmy z zip'a\n",
        "globe=spark.read.option(\"header\",\"true\").csv('golden_globe_awards.csv')\n",
        "globe.show(5)"
      ],
      "metadata": {
        "id": "zYqmIPFfZc1O",
        "colab": {
          "base_uri": "https://localhost:8080/"
        },
        "outputId": "1dfe742e-4399-4f46-f08e-e0fc1425ba15"
      },
      "execution_count": 18,
      "outputs": [
        {
          "output_type": "stream",
          "name": "stdout",
          "text": [
            "Downloading golden-globe-awards.zip to /content\n",
            "\r  0% 0.00/117k [00:00<?, ?B/s]\n",
            "\r100% 117k/117k [00:00<00:00, 40.7MB/s]\n",
            "Archive:  golden-globe-awards.zip\n",
            "  inflating: golden_globe_awards.csv  \n",
            "+---------+----------+--------+--------------------+--------------------+--------------------+----+\n",
            "|year_film|year_award|ceremony|            category|             nominee|                film| win|\n",
            "+---------+----------+--------+--------------------+--------------------+--------------------+----+\n",
            "|     1943|      1944|       1|Best Performance ...|      Katina Paxinou|For Whom The Bell...|True|\n",
            "|     1943|      1944|       1|Best Performance ...|       Akim Tamiroff|For Whom The Bell...|True|\n",
            "|     1943|      1944|       1|Best Director - M...|          Henry King|The Song Of Berna...|True|\n",
            "|     1943|      1944|       1|             Picture|The Song Of Berna...|                null|True|\n",
            "|     1943|      1944|       1|Actress In A Lead...|      Jennifer Jones|The Song Of Berna...|True|\n",
            "+---------+----------+--------+--------------------+--------------------+--------------------+----+\n",
            "only showing top 5 rows\n",
            "\n"
          ]
        }
      ]
    },
    {
      "cell_type": "markdown",
      "source": [
        "## Wczytajmy bazę złotych globów: \"Primetime Emmy Awards, 1949-2017\""
      ],
      "metadata": {
        "id": "bdL30IZKguHx"
      }
    },
    {
      "cell_type": "code",
      "source": [
        "! kaggle datasets download unanimad/emmy-awards #załadujmy dane\n",
        "! unzip emmy-awards.zip #rozpakujmy z zip'a\n",
        "emmy_awards_category=spark.read.option(\"header\",\"true\").csv('emmy_awards_categories.csv')\n",
        "emmy_awards_category.show(5)\n"
      ],
      "metadata": {
        "id": "5zQSh_Vjb-pB",
        "colab": {
          "base_uri": "https://localhost:8080/"
        },
        "outputId": "d6ad001c-eabf-4630-f367-9adf87066fb1"
      },
      "execution_count": 19,
      "outputs": [
        {
          "output_type": "stream",
          "name": "stdout",
          "text": [
            "Downloading emmy-awards.zip to /content\n",
            "\r  0% 0.00/904k [00:00<?, ?B/s]\n",
            "\r100% 904k/904k [00:00<00:00, 114MB/s]\n",
            "Archive:  emmy-awards.zip\n",
            "  inflating: emmy_awards_categories.csv  \n",
            "  inflating: the_emmy_awards.csv     \n",
            "+------------------+--------+----+\n",
            "|              name|category|role|\n",
            "+------------------+--------+----+\n",
            "|     Comedy Series|  Comedy|main|\n",
            "|        Lead Actor|  Comedy|main|\n",
            "|      Lead Actress|  Comedy|main|\n",
            "|  Supporting Actor|  Comedy|main|\n",
            "|Supporting Actress|  Comedy|main|\n",
            "+------------------+--------+----+\n",
            "only showing top 5 rows\n",
            "\n"
          ]
        }
      ]
    },
    {
      "cell_type": "code",
      "source": [
        "emmy_awards=spark.read.option(\"header\",\"true\").csv('the_emmy_awards.csv')\n",
        "emmy_awards.show(5)"
      ],
      "metadata": {
        "id": "wbFwUlrOES85",
        "colab": {
          "base_uri": "https://localhost:8080/"
        },
        "outputId": "b3b7a732-a0d3-4873-bb58-5ce3824336ed"
      },
      "execution_count": 20,
      "outputs": [
        {
          "output_type": "stream",
          "name": "stdout",
          "text": [
            "+---+----+--------------------+--------------------+--------------------+--------+--------------------+-----+\n",
            "| id|year|            category|             nominee|               staff| company|            producer|  win|\n",
            "+---+----+--------------------+--------------------+--------------------+--------+--------------------+-----+\n",
            "|  1|2019|Outstanding Chara...|        The Simpsons|Hank Azaria, as M...|     FOX|Gracie Films in a...|False|\n",
            "|  2|2019|Outstanding Chara...|          Family Guy|Alex Borstein, as...|     FOX|20th Century Fox ...|False|\n",
            "|  3|2019|Outstanding Chara...|When You Wish Upo...|Eric Jacobson, as...|     HBO|Sesame Street Wor...|False|\n",
            "|  4|2019|Outstanding Chara...|     F Is For Family|Kevin Michael Ric...| Netflix|Wild West Televis...|False|\n",
            "|  5|2019|Outstanding Produ...| Escape At Dannemora|Mark Ricker, Prod...|Showtime|Red Hour, Busyhan...|False|\n",
            "+---+----+--------------------+--------------------+--------------------+--------+--------------------+-----+\n",
            "only showing top 5 rows\n",
            "\n"
          ]
        }
      ]
    },
    {
      "cell_type": "markdown",
      "source": [
        "## Zaczytanie danych TMDB \n",
        "\n",
        "   informacje o aktorach i osobach pracujących przy produkcji filmów oraz budżetach, gatunkach, popularności, wytwórniach filmowych, oryginalnyh językach i tytułach\n"
      ],
      "metadata": {
        "id": "YCo8ZbWkNYa3"
      }
    },
    {
      "cell_type": "code",
      "source": [
        "#!kaggle kernels init -p tmdb/tmdb-movie-metadata #wygenerować metadane\n",
        "! kaggle datasets download tmdb/tmdb-movie-metadata #załadujmy dane\n",
        "! unzip tmdb-movie-metadata.zip\n",
        "tmdb_credits=spark.read.option(\"header\",\"true\").csv('tmdb_5000_credits.csv')\n",
        "tmdb_movies=spark.read.option(\"header\",\"true\").csv('tmdb_5000_movies.csv')"
      ],
      "metadata": {
        "id": "4mYC88isckMI",
        "outputId": "51581db6-1046-4387-9c32-d301892908e1",
        "colab": {
          "base_uri": "https://localhost:8080/"
        }
      },
      "execution_count": 21,
      "outputs": [
        {
          "output_type": "stream",
          "name": "stdout",
          "text": [
            "Downloading tmdb-movie-metadata.zip to /content\n",
            "\r  0% 0.00/8.89M [00:00<?, ?B/s]\n",
            "\r100% 8.89M/8.89M [00:00<00:00, 95.9MB/s]\n",
            "Archive:  tmdb-movie-metadata.zip\n",
            "  inflating: tmdb_5000_credits.csv   \n",
            "  inflating: tmdb_5000_movies.csv    \n"
          ]
        }
      ]
    },
    {
      "cell_type": "code",
      "source": [
        "tmdb_credits.show(5)"
      ],
      "metadata": {
        "id": "TxFl3Oc-t4iO",
        "outputId": "97c4d729-4ae7-4e76-a907-652dbb3764e6",
        "colab": {
          "base_uri": "https://localhost:8080/"
        }
      },
      "execution_count": 22,
      "outputs": [
        {
          "output_type": "stream",
          "name": "stdout",
          "text": [
            "+--------+--------------------+-------------------+--------------------+\n",
            "|movie_id|               title|               cast|                crew|\n",
            "+--------+--------------------+-------------------+--------------------+\n",
            "|   19995|              Avatar|\"[{\"\"cast_id\"\": 242| \"\"character\"\": \"...|\n",
            "|     285|Pirates of the Ca...|  \"[{\"\"cast_id\"\": 4| \"\"character\"\": \"...|\n",
            "|  206647|             Spectre|  \"[{\"\"cast_id\"\": 1| \"\"character\"\": \"...|\n",
            "|   49026|The Dark Knight R...|  \"[{\"\"cast_id\"\": 2| \"\"character\"\": \"...|\n",
            "|   49529|         John Carter|  \"[{\"\"cast_id\"\": 5| \"\"character\"\": \"...|\n",
            "+--------+--------------------+-------------------+--------------------+\n",
            "only showing top 5 rows\n",
            "\n"
          ]
        }
      ]
    },
    {
      "cell_type": "code",
      "source": [
        "tmdb_movies.show(5)"
      ],
      "metadata": {
        "id": "0tzNS-h6whRr",
        "outputId": "4b37845e-ba31-41f4-fef7-2807770b7718",
        "colab": {
          "base_uri": "https://localhost:8080/"
        }
      },
      "execution_count": 23,
      "outputs": [
        {
          "output_type": "stream",
          "name": "stdout",
          "text": [
            "+---------+-------------+--------------------+------------+--------------------+-----------------+--------------------+--------------------+--------------------+--------------------+--------------------+---------------+--------------------+--------------+--------------------+--------------+--------------------+---------------+--------------------+----------------+\n",
            "|   budget|       genres|            homepage|          id|            keywords|original_language|      original_title|            overview|          popularity|production_companies|production_countries|   release_date|             revenue|       runtime|    spoken_languages|        status|             tagline|          title|        vote_average|      vote_count|\n",
            "+---------+-------------+--------------------+------------+--------------------+-----------------+--------------------+--------------------+--------------------+--------------------+--------------------+---------------+--------------------+--------------+--------------------+--------------+--------------------+---------------+--------------------+----------------+\n",
            "|237000000|\"[{\"\"id\"\": 28| \"\"name\"\": \"\"Acti...| {\"\"id\"\": 12| \"\"name\"\": \"\"Adve...|      {\"\"id\"\": 14| \"\"name\"\": \"\"Fant...|        {\"\"id\"\": 878| \"\"name\"\": \"\"Scie...|http://www.avatar...|               19995|\"[{\"\"id\"\": 1463| \"\"name\"\": \"\"cult...| {\"\"id\"\": 2964| \"\"name\"\": \"\"futu...| {\"\"id\"\": 3386| \"\"name\"\": \"\"spac...|  {\"\"id\"\": 3388| \"\"name\"\": \"\"spac...|   {\"\"id\"\": 3679|\n",
            "|300000000|\"[{\"\"id\"\": 12| \"\"name\"\": \"\"Adve...| {\"\"id\"\": 14| \"\"name\"\": \"\"Fant...|      {\"\"id\"\": 28| \"\"name\"\": \"\"Acti...|http://disney.go....|                 285|      \"[{\"\"id\"\": 270| \"\"name\"\": \"\"ocea...|   {\"\"id\"\": 726| \"\"name\"\": \"\"drug...|  {\"\"id\"\": 911| \"\"name\"\": \"\"exot...| {\"\"id\"\": 1319| \"\"name\"\": \"\"east...|  {\"\"id\"\": 2038| \"\"name\"\": \"\"love...|   {\"\"id\"\": 2052|\n",
            "|245000000|\"[{\"\"id\"\": 28| \"\"name\"\": \"\"Acti...| {\"\"id\"\": 12| \"\"name\"\": \"\"Adve...|      {\"\"id\"\": 80| \"\"name\"\": \"\"Crim...|http://www.sonypi...|              206647|      \"[{\"\"id\"\": 470|  \"\"name\"\": \"\"spy\"\"}|   {\"\"id\"\": 818| \"\"name\"\": \"\"base...| {\"\"id\"\": 4289| \"\"name\"\": \"\"secr...| {\"\"id\"\": 9663| \"\"name\"\": \"\"sequ...| {\"\"id\"\": 14555|  \"\"name\"\": \"\"mi6\"\"}| {\"\"id\"\": 156095|\n",
            "|250000000|\"[{\"\"id\"\": 28| \"\"name\"\": \"\"Acti...| {\"\"id\"\": 80| \"\"name\"\": \"\"Crim...|      {\"\"id\"\": 18| \"\"name\"\": \"\"Dram...|         {\"\"id\"\": 53| \"\"name\"\": \"\"Thri...|http://www.thedar...|               49026| \"[{\"\"id\"\": 849| \"\"name\"\": \"\"dc c...|  {\"\"id\"\": 853| \"\"name\"\": \"\"crim...|  {\"\"id\"\": 949| \"\"name\"\": \"\"terr...|  {\"\"id\"\": 1308| \"\"name\"\": \"\"secr...|   {\"\"id\"\": 1437|\n",
            "|260000000|\"[{\"\"id\"\": 28| \"\"name\"\": \"\"Acti...| {\"\"id\"\": 12| \"\"name\"\": \"\"Adve...|     {\"\"id\"\": 878| \"\"name\"\": \"\"Scie...|http://movies.dis...|               49529|      \"[{\"\"id\"\": 818| \"\"name\"\": \"\"base...|   {\"\"id\"\": 839| \"\"name\"\": \"\"mars\"\"}| {\"\"id\"\": 1456| \"\"name\"\": \"\"meda...| {\"\"id\"\": 3801| \"\"name\"\": \"\"spac...|  {\"\"id\"\": 7376| \"\"name\"\": \"\"prin...|   {\"\"id\"\": 9951|\n",
            "+---------+-------------+--------------------+------------+--------------------+-----------------+--------------------+--------------------+--------------------+--------------------+--------------------+---------------+--------------------+--------------+--------------------+--------------+--------------------+---------------+--------------------+----------------+\n",
            "only showing top 5 rows\n",
            "\n"
          ]
        }
      ]
    },
    {
      "cell_type": "markdown",
      "source": [
        "# Połączmy dane na temat nagród z głównymi danymi"
      ],
      "metadata": {
        "id": "ZddcxS8Qs3rs"
      }
    },
    {
      "cell_type": "markdown",
      "source": [
        "Wybierzmy tylko rekordy z interesujących nas kategorii"
      ],
      "metadata": {
        "id": "UpOpwIgb6STf"
      }
    },
    {
      "cell_type": "code",
      "source": [
        "oscars_selected = oscars.filter((oscars.category.like('%ACTOR%')) | (oscars.category.like('%ACTRESS%')))\n",
        "globe_selected = globe.filter((globe.category.like('%Actor%')) | (globe.category.like('%Actress%')))"
      ],
      "metadata": {
        "id": "M-Cr8FMHutgF"
      },
      "execution_count": 24,
      "outputs": []
    },
    {
      "cell_type": "code",
      "source": [
        "actor_categories = ['Outstanding Lead Actor in a Comedy Series', 'Outstanding Lead Actor in a Drama Series', 'Outstanding Lead Actor in a Limited or Anthology Series or Movie', 'Outstanding Lead Actress in a Comedy Series', 'Outstanding Lead Actress in a Drama Series', 'Outstanding Lead Actress in a Limited or Anthology Series or Movie', 'Outstanding Supporting Actor in a Comedy Series', 'Outstanding Supporting Actor in a Drama Series', 'Outstanding Supporting Actor in a Limited or Anthology Series or Movie', 'Outstanding Supporting Actress in a Comedy Series', 'Outstanding Supporting Actress in a Drama Series', 'Outstanding Supporting Actress in a Limited or Anthology Series or Movie', 'Outstanding Character Voice-Over Performance', 'Outstanding Guest Actor in a Drama Series', 'Outstanding Guest Actor in a Comedy Series', 'Outstanding Guest Actress in a Drama Series', 'Outstanding Guest Actress in a Comedy Series', 'Outstanding Narrator', 'Outstanding Actor in a Short Form Comedy or Drama Series', 'Outstanding Actress in a Short Form Comedy or Drama Series', 'Best Specialty Act – Single or Group', 'Outstanding Voice-Over Performance', 'Outstanding Sports Personality', 'Most Outstanding Live Personality', 'Most Outstanding Kinescoped Personality']\n",
        "emmy_awards_selected = emmy_awards.filter(emmy_awards.category.isin(actor_categories))"
      ],
      "metadata": {
        "id": "Q9F_6I-5vbrG"
      },
      "execution_count": 25,
      "outputs": []
    },
    {
      "cell_type": "markdown",
      "source": [
        "Przygotujmy dane z tabeli emmy_awards_selected do połączenia (wybieramy tylko imię i nazwisko aktora z kolumny staff)"
      ],
      "metadata": {
        "id": "wGanPbjQ6Zag"
      }
    },
    {
      "cell_type": "code",
      "source": [
        "from pyspark.sql.functions import split, explode\n",
        "emmy_awards_selected = emmy_awards_selected.withColumn('staff',explode(split('staff',', ')))\n",
        "emmy_awards_selected = emmy_awards_selected.groupby('nominee', 'staff').agg(first('id').alias('id'), first('year').alias('year'), first('category').alias('category'), first('nominee').alias('nominee'), first('staff').alias('staff'), first('company').alias('company'), first('producer').alias('producer'), first('win').alias('win'))"
      ],
      "metadata": {
        "id": "QqDJ2N6mvGOI"
      },
      "execution_count": 26,
      "outputs": []
    },
    {
      "cell_type": "markdown",
      "source": [
        "Wybierzmy tylko kolumny, które nas interesują z danych na temat nagród"
      ],
      "metadata": {
        "id": "iuLLzZU46ugk"
      }
    },
    {
      "cell_type": "code",
      "source": [
        "oscars_selected = oscars.select([\"year_ceremony\", \"category\", \"name\", \"film\", \"winner\"])\n",
        "globe_selected = globe.select([\"year_award\", \"category\", \"nominee\", \"film\", \"win\"])\n",
        "emmy_awards_selected = emmy_awards.select([\"year\", \"category\", \"nominee\", \"staff\", \"company\", \"producer\", \"win\"])"
      ],
      "metadata": {
        "id": "-EKRLoDmuEdC"
      },
      "execution_count": 27,
      "outputs": []
    },
    {
      "cell_type": "markdown",
      "source": [
        "Zmieńmy nazwy kolumn, aby wiadomo było po połączeniu, któe dane odnoszą się do których nagród"
      ],
      "metadata": {
        "id": "NmdJiD0n60Ns"
      }
    },
    {
      "cell_type": "code",
      "source": [
        "oscars_selected = oscars_selected.withColumnRenamed(\"year_ceremony\",\"year_oscars\").withColumnRenamed(\"category\",\"category_oscars\").withColumnRenamed(\"film\",\"film_oscars\").withColumnRenamed(\"winner\",\"winner_oscars\")\n",
        "\n",
        "globe_selected = globe_selected.withColumnRenamed(\"year_award\",\"year_globes\").withColumnRenamed(\"category\",\"category_globes\").withColumnRenamed(\"film\",\"film_globes\").withColumnRenamed(\"win\",\"win_globes\")\n",
        "\n",
        "emmy_awards_selected = emmy_awards_selected.withColumnRenamed(\"year\",\"year_emmy\").withColumnRenamed(\"category\",\"category_emmy\").withColumnRenamed(\"nominee\",\"nominee_emmy\").withColumnRenamed(\"company\",\"company_emmy\").withColumnRenamed(\"producer\",\"producer_emmy\").withColumnRenamed(\"win\",\"win_emmy\")"
      ],
      "metadata": {
        "id": "ePSjnpCmtlBw"
      },
      "execution_count": 28,
      "outputs": []
    },
    {
      "cell_type": "markdown",
      "source": [
        "Złączmy dane dotyczące nagród z głównymi danymi"
      ],
      "metadata": {
        "id": "Go0nk2K66-U7"
      }
    },
    {
      "cell_type": "code",
      "source": [
        "print(\"data dataframe size: \", (data.count(), len(data.columns)))\n",
        "print(\"oscars_selected dataframe size: \", (oscars_selected.count(), len(oscars_selected.columns)))\n",
        "print(\"globe_selected dataframe size: \", (globe_selected.count(), len(globe_selected.columns)))\n",
        "print(\"emmy_awards_selected dataframe size: \", (emmy_awards_selected.count(), len(emmy_awards_selected.columns)))\n",
        "data = data.join(oscars_selected, data.primaryName == oscars_selected.name, \"left\")\n",
        "print(\"joined dataframe size: \", (data.count(), len(data.columns)))\n",
        "data = data.join(globe_selected, data.primaryName == globe_selected.nominee, \"left\")\n",
        "print(\"joined dataframe size: \", (data.count(), len(data.columns)))\n",
        "data = data.join(emmy_awards_selected, data.primaryName == emmy_awards_selected.staff, \"left\")\n",
        "print(\"joined dataframe size: \", (data.count(), len(data.columns)))"
      ],
      "metadata": {
        "id": "8Fex-lA_szpd",
        "outputId": "34351d60-8cbe-466c-d825-eeec7412e3c2",
        "colab": {
          "base_uri": "https://localhost:8080/"
        }
      },
      "execution_count": 29,
      "outputs": [
        {
          "output_type": "stream",
          "name": "stdout",
          "text": [
            "data dataframe size:  (2057627, 12)\n",
            "oscars_selected dataframe size:  (10395, 5)\n",
            "globe_selected dataframe size:  (7991, 5)\n",
            "emmy_awards_selected dataframe size:  (21506, 7)\n",
            "joined dataframe size:  (2060918, 17)\n",
            "joined dataframe size:  (2093383, 22)\n",
            "joined dataframe size:  (2093383, 29)\n"
          ]
        }
      ]
    },
    {
      "cell_type": "code",
      "source": [
        "data = data.groupby('nconst').agg(first('tconst').alias(\"tconst\"), first('titleType').alias(\"titleType\"), first('originalTitle').alias(\"originalTitle\"), first('isAdult').alias(\"isAdult\"), first('startYear').alias(\"startYear\"), first('endYear').alias(\"endYear\"), first('genres').alias(\"genres\"), first('category').alias(\"category\"), first('characters').alias(\"characters\"), first('primaryName').alias(\"primaryName\"), first('knownForTitles').alias(\"knownForTitles\"), array_distinct(collect_list('year_oscars')).alias(\"year_oscars\"), first('category_oscars').alias(\"category_oscars\"), array_distinct(collect_list('film_oscars')).alias(\"film_oscars\"), array_distinct(collect_list('winner_oscars')).alias(\"winner_oscars\"), array_distinct(collect_list('year_globes')).alias(\"year_globes\"), array_distinct(collect_list('category_globes')).alias(\"category_globes\"), array_distinct(collect_list('film_globes')).alias(\"film_globes\"), array_distinct(collect_list('win_globes')).alias(\"win_globes\"))"
      ],
      "metadata": {
        "id": "otH8qLYFvA_b"
      },
      "execution_count": 30,
      "outputs": []
    },
    {
      "cell_type": "markdown",
      "source": [
        "Pokażmy kilka przykłądowych wierszy ostatecznej tabeli"
      ],
      "metadata": {
        "id": "tTFxcetO7DRf"
      }
    },
    {
      "cell_type": "code",
      "source": [
        "sample = data.rdd.takeSample(False, 5)"
      ],
      "metadata": {
        "id": "tLXyB22Q6Jm0"
      },
      "execution_count": 31,
      "outputs": []
    },
    {
      "cell_type": "code",
      "source": [
        "sample = pd.DataFrame(sample, columns = data.columns)\n",
        "sample"
      ],
      "metadata": {
        "colab": {
          "base_uri": "https://localhost:8080/",
          "height": 444
        },
        "id": "OUbWzFL46N96",
        "outputId": "db254db9-3891-4410-ddea-50b7e0d4feca"
      },
      "execution_count": 32,
      "outputs": [
        {
          "output_type": "execute_result",
          "data": {
            "text/plain": [
              "      nconst                                             tconst  \\\n",
              "0  nm2059740                                        [tt0483418]   \n",
              "1  nm4204849                           [tt22044686, tt22258958]   \n",
              "2  nm6642339  [tt2374617, tt3848612, tt3848606, tt3848616, t...   \n",
              "3  nm5877847                                        [tt7319238]   \n",
              "4  nm1029587                                        [tt2059188]   \n",
              "\n",
              "                                           titleType  \\\n",
              "0                                            [short]   \n",
              "1                          [tvMiniSeries, tvEpisode]   \n",
              "2  [tvSeries, tvEpisode, tvEpisode, tvEpisode, tv...   \n",
              "3                                            [short]   \n",
              "4                                            [movie]   \n",
              "\n",
              "                                       originalTitle             isAdult  \\\n",
              "0                                 [Kiitos tanssista]                 [0]   \n",
              "1                     [Maid's Revenge, Episode #1.2]              [0, 0]   \n",
              "2  [Xtreme Waterparks, Getting Wet in Summer Camp...  [0, 0, 0, 0, 0, 0]   \n",
              "3                                       [Regression]                 [0]   \n",
              "4                                 [Bayan o pag-ibig]                 [0]   \n",
              "\n",
              "  startYear endYear                                             genres  \\\n",
              "0      2005      \\N                                     [Comedy,Short]   \n",
              "1      2022      \\N                                     [Drama, Drama]   \n",
              "2      2012      \\N  [Reality-TV, Reality-TV, Reality-TV, Reality-T...   \n",
              "3      2017      \\N                           [Mystery,Short,Thriller]   \n",
              "4      1951      \\N                                     [Action,Drama]   \n",
              "\n",
              "  category                                         characters  \\\n",
              "0  actress                                       [[\"Pirkko\"]]   \n",
              "1    actor                 [[\"General Liu\"], [\"General Liu\"]]   \n",
              "2    actor  [[\"Narrator\"], [\"Narrator\"], [\"Narrator\"], [\"N...   \n",
              "3    actor                                  [[\"The Miracle\"]]   \n",
              "4    actor                                               [\\N]   \n",
              "\n",
              "          primaryName                            knownForTitles year_oscars  \\\n",
              "0  Tanja Severikangas                                 tt0483418          []   \n",
              "1           Hu Xi Fan                      tt22044686,tt1463208          []   \n",
              "2        Scott Taylor                                 tt2374617          []   \n",
              "3      Jeremy Preston  tt3105662,tt18450678,tt2931148,tt3220528          []   \n",
              "4      Armando Garces   tt0370847,tt0791561,tt0376059,tt0359625          []   \n",
              "\n",
              "  category_oscars film_oscars winner_oscars year_globes category_globes  \\\n",
              "0            None          []            []          []              []   \n",
              "1            None          []            []          []              []   \n",
              "2            None          []            []          []              []   \n",
              "3            None          []            []          []              []   \n",
              "4            None          []            []          []              []   \n",
              "\n",
              "  film_globes win_globes  \n",
              "0          []         []  \n",
              "1          []         []  \n",
              "2          []         []  \n",
              "3          []         []  \n",
              "4          []         []  "
            ],
            "text/html": [
              "\n",
              "  <div id=\"df-c17ac71f-868f-493e-bff0-42b813c14cde\">\n",
              "    <div class=\"colab-df-container\">\n",
              "      <div>\n",
              "<style scoped>\n",
              "    .dataframe tbody tr th:only-of-type {\n",
              "        vertical-align: middle;\n",
              "    }\n",
              "\n",
              "    .dataframe tbody tr th {\n",
              "        vertical-align: top;\n",
              "    }\n",
              "\n",
              "    .dataframe thead th {\n",
              "        text-align: right;\n",
              "    }\n",
              "</style>\n",
              "<table border=\"1\" class=\"dataframe\">\n",
              "  <thead>\n",
              "    <tr style=\"text-align: right;\">\n",
              "      <th></th>\n",
              "      <th>nconst</th>\n",
              "      <th>tconst</th>\n",
              "      <th>titleType</th>\n",
              "      <th>originalTitle</th>\n",
              "      <th>isAdult</th>\n",
              "      <th>startYear</th>\n",
              "      <th>endYear</th>\n",
              "      <th>genres</th>\n",
              "      <th>category</th>\n",
              "      <th>characters</th>\n",
              "      <th>primaryName</th>\n",
              "      <th>knownForTitles</th>\n",
              "      <th>year_oscars</th>\n",
              "      <th>category_oscars</th>\n",
              "      <th>film_oscars</th>\n",
              "      <th>winner_oscars</th>\n",
              "      <th>year_globes</th>\n",
              "      <th>category_globes</th>\n",
              "      <th>film_globes</th>\n",
              "      <th>win_globes</th>\n",
              "    </tr>\n",
              "  </thead>\n",
              "  <tbody>\n",
              "    <tr>\n",
              "      <th>0</th>\n",
              "      <td>nm2059740</td>\n",
              "      <td>[tt0483418]</td>\n",
              "      <td>[short]</td>\n",
              "      <td>[Kiitos tanssista]</td>\n",
              "      <td>[0]</td>\n",
              "      <td>2005</td>\n",
              "      <td>\\N</td>\n",
              "      <td>[Comedy,Short]</td>\n",
              "      <td>actress</td>\n",
              "      <td>[[\"Pirkko\"]]</td>\n",
              "      <td>Tanja Severikangas</td>\n",
              "      <td>tt0483418</td>\n",
              "      <td>[]</td>\n",
              "      <td>None</td>\n",
              "      <td>[]</td>\n",
              "      <td>[]</td>\n",
              "      <td>[]</td>\n",
              "      <td>[]</td>\n",
              "      <td>[]</td>\n",
              "      <td>[]</td>\n",
              "    </tr>\n",
              "    <tr>\n",
              "      <th>1</th>\n",
              "      <td>nm4204849</td>\n",
              "      <td>[tt22044686, tt22258958]</td>\n",
              "      <td>[tvMiniSeries, tvEpisode]</td>\n",
              "      <td>[Maid's Revenge, Episode #1.2]</td>\n",
              "      <td>[0, 0]</td>\n",
              "      <td>2022</td>\n",
              "      <td>\\N</td>\n",
              "      <td>[Drama, Drama]</td>\n",
              "      <td>actor</td>\n",
              "      <td>[[\"General Liu\"], [\"General Liu\"]]</td>\n",
              "      <td>Hu Xi Fan</td>\n",
              "      <td>tt22044686,tt1463208</td>\n",
              "      <td>[]</td>\n",
              "      <td>None</td>\n",
              "      <td>[]</td>\n",
              "      <td>[]</td>\n",
              "      <td>[]</td>\n",
              "      <td>[]</td>\n",
              "      <td>[]</td>\n",
              "      <td>[]</td>\n",
              "    </tr>\n",
              "    <tr>\n",
              "      <th>2</th>\n",
              "      <td>nm6642339</td>\n",
              "      <td>[tt2374617, tt3848612, tt3848606, tt3848616, t...</td>\n",
              "      <td>[tvSeries, tvEpisode, tvEpisode, tvEpisode, tv...</td>\n",
              "      <td>[Xtreme Waterparks, Getting Wet in Summer Camp...</td>\n",
              "      <td>[0, 0, 0, 0, 0, 0]</td>\n",
              "      <td>2012</td>\n",
              "      <td>\\N</td>\n",
              "      <td>[Reality-TV, Reality-TV, Reality-TV, Reality-T...</td>\n",
              "      <td>actor</td>\n",
              "      <td>[[\"Narrator\"], [\"Narrator\"], [\"Narrator\"], [\"N...</td>\n",
              "      <td>Scott Taylor</td>\n",
              "      <td>tt2374617</td>\n",
              "      <td>[]</td>\n",
              "      <td>None</td>\n",
              "      <td>[]</td>\n",
              "      <td>[]</td>\n",
              "      <td>[]</td>\n",
              "      <td>[]</td>\n",
              "      <td>[]</td>\n",
              "      <td>[]</td>\n",
              "    </tr>\n",
              "    <tr>\n",
              "      <th>3</th>\n",
              "      <td>nm5877847</td>\n",
              "      <td>[tt7319238]</td>\n",
              "      <td>[short]</td>\n",
              "      <td>[Regression]</td>\n",
              "      <td>[0]</td>\n",
              "      <td>2017</td>\n",
              "      <td>\\N</td>\n",
              "      <td>[Mystery,Short,Thriller]</td>\n",
              "      <td>actor</td>\n",
              "      <td>[[\"The Miracle\"]]</td>\n",
              "      <td>Jeremy Preston</td>\n",
              "      <td>tt3105662,tt18450678,tt2931148,tt3220528</td>\n",
              "      <td>[]</td>\n",
              "      <td>None</td>\n",
              "      <td>[]</td>\n",
              "      <td>[]</td>\n",
              "      <td>[]</td>\n",
              "      <td>[]</td>\n",
              "      <td>[]</td>\n",
              "      <td>[]</td>\n",
              "    </tr>\n",
              "    <tr>\n",
              "      <th>4</th>\n",
              "      <td>nm1029587</td>\n",
              "      <td>[tt2059188]</td>\n",
              "      <td>[movie]</td>\n",
              "      <td>[Bayan o pag-ibig]</td>\n",
              "      <td>[0]</td>\n",
              "      <td>1951</td>\n",
              "      <td>\\N</td>\n",
              "      <td>[Action,Drama]</td>\n",
              "      <td>actor</td>\n",
              "      <td>[\\N]</td>\n",
              "      <td>Armando Garces</td>\n",
              "      <td>tt0370847,tt0791561,tt0376059,tt0359625</td>\n",
              "      <td>[]</td>\n",
              "      <td>None</td>\n",
              "      <td>[]</td>\n",
              "      <td>[]</td>\n",
              "      <td>[]</td>\n",
              "      <td>[]</td>\n",
              "      <td>[]</td>\n",
              "      <td>[]</td>\n",
              "    </tr>\n",
              "  </tbody>\n",
              "</table>\n",
              "</div>\n",
              "      <button class=\"colab-df-convert\" onclick=\"convertToInteractive('df-c17ac71f-868f-493e-bff0-42b813c14cde')\"\n",
              "              title=\"Convert this dataframe to an interactive table.\"\n",
              "              style=\"display:none;\">\n",
              "        \n",
              "  <svg xmlns=\"http://www.w3.org/2000/svg\" height=\"24px\"viewBox=\"0 0 24 24\"\n",
              "       width=\"24px\">\n",
              "    <path d=\"M0 0h24v24H0V0z\" fill=\"none\"/>\n",
              "    <path d=\"M18.56 5.44l.94 2.06.94-2.06 2.06-.94-2.06-.94-.94-2.06-.94 2.06-2.06.94zm-11 1L8.5 8.5l.94-2.06 2.06-.94-2.06-.94L8.5 2.5l-.94 2.06-2.06.94zm10 10l.94 2.06.94-2.06 2.06-.94-2.06-.94-.94-2.06-.94 2.06-2.06.94z\"/><path d=\"M17.41 7.96l-1.37-1.37c-.4-.4-.92-.59-1.43-.59-.52 0-1.04.2-1.43.59L10.3 9.45l-7.72 7.72c-.78.78-.78 2.05 0 2.83L4 21.41c.39.39.9.59 1.41.59.51 0 1.02-.2 1.41-.59l7.78-7.78 2.81-2.81c.8-.78.8-2.07 0-2.86zM5.41 20L4 18.59l7.72-7.72 1.47 1.35L5.41 20z\"/>\n",
              "  </svg>\n",
              "      </button>\n",
              "      \n",
              "  <style>\n",
              "    .colab-df-container {\n",
              "      display:flex;\n",
              "      flex-wrap:wrap;\n",
              "      gap: 12px;\n",
              "    }\n",
              "\n",
              "    .colab-df-convert {\n",
              "      background-color: #E8F0FE;\n",
              "      border: none;\n",
              "      border-radius: 50%;\n",
              "      cursor: pointer;\n",
              "      display: none;\n",
              "      fill: #1967D2;\n",
              "      height: 32px;\n",
              "      padding: 0 0 0 0;\n",
              "      width: 32px;\n",
              "    }\n",
              "\n",
              "    .colab-df-convert:hover {\n",
              "      background-color: #E2EBFA;\n",
              "      box-shadow: 0px 1px 2px rgba(60, 64, 67, 0.3), 0px 1px 3px 1px rgba(60, 64, 67, 0.15);\n",
              "      fill: #174EA6;\n",
              "    }\n",
              "\n",
              "    [theme=dark] .colab-df-convert {\n",
              "      background-color: #3B4455;\n",
              "      fill: #D2E3FC;\n",
              "    }\n",
              "\n",
              "    [theme=dark] .colab-df-convert:hover {\n",
              "      background-color: #434B5C;\n",
              "      box-shadow: 0px 1px 3px 1px rgba(0, 0, 0, 0.15);\n",
              "      filter: drop-shadow(0px 1px 2px rgba(0, 0, 0, 0.3));\n",
              "      fill: #FFFFFF;\n",
              "    }\n",
              "  </style>\n",
              "\n",
              "      <script>\n",
              "        const buttonEl =\n",
              "          document.querySelector('#df-c17ac71f-868f-493e-bff0-42b813c14cde button.colab-df-convert');\n",
              "        buttonEl.style.display =\n",
              "          google.colab.kernel.accessAllowed ? 'block' : 'none';\n",
              "\n",
              "        async function convertToInteractive(key) {\n",
              "          const element = document.querySelector('#df-c17ac71f-868f-493e-bff0-42b813c14cde');\n",
              "          const dataTable =\n",
              "            await google.colab.kernel.invokeFunction('convertToInteractive',\n",
              "                                                     [key], {});\n",
              "          if (!dataTable) return;\n",
              "\n",
              "          const docLinkHtml = 'Like what you see? Visit the ' +\n",
              "            '<a target=\"_blank\" href=https://colab.research.google.com/notebooks/data_table.ipynb>data table notebook</a>'\n",
              "            + ' to learn more about interactive tables.';\n",
              "          element.innerHTML = '';\n",
              "          dataTable['output_type'] = 'display_data';\n",
              "          await google.colab.output.renderOutput(dataTable, element);\n",
              "          const docLink = document.createElement('div');\n",
              "          docLink.innerHTML = docLinkHtml;\n",
              "          element.appendChild(docLink);\n",
              "        }\n",
              "      </script>\n",
              "    </div>\n",
              "  </div>\n",
              "  "
            ]
          },
          "metadata": {},
          "execution_count": 32
        }
      ]
    }
  ]
}