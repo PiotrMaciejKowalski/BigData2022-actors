{
  "nbformat": 4,
  "nbformat_minor": 0,
  "metadata": {
    "colab": {
      "provenance": [],
      "collapsed_sections": [
        "kgYZYlTutA0O",
        "or9x68JxXc10",
        "pPWxy5j_aEvo",
        "s-hzkKehxgnQ",
        "snoopt7lY71j"
      ],
      "include_colab_link": true
    },
    "kernelspec": {
      "name": "python3",
      "display_name": "Python 3"
    },
    "language_info": {
      "name": "python"
    }
  },
  "cells": [
    {
      "cell_type": "markdown",
      "metadata": {
        "id": "view-in-github",
        "colab_type": "text"
      },
      "source": [
        "<a href=\"https://colab.research.google.com/github/PiotrMaciejKowalski/BigData2022-actors/blob/Refactoring/colabs/Wczytanie_danych.ipynb\" target=\"_parent\"><img src=\"https://colab.research.google.com/assets/colab-badge.svg\" alt=\"Open In Colab\"/></a>"
      ]
    },
    {
      "cell_type": "markdown",
      "source": [
        "#Załadowanie repozytorium"
      ],
      "metadata": {
        "id": "q386pmSQW6zp"
      }
    },
    {
      "cell_type": "markdown",
      "source": [
        "##Załadowanie repozytorium"
      ],
      "metadata": {
        "id": "JmfdElJxWxzH"
      }
    },
    {
      "cell_type": "code",
      "source": [
        "!git clone https://github.com/PiotrMaciejKowalski/BigData2022-actors.git\n",
        "!mv /content/BigData2022-actors/* .\n",
        "!mv /content/BigData2022-actors/.* .\n",
        "!rmdir /content/BigData2022-actors/"
      ],
      "metadata": {
        "id": "2FiaOxxnWubg"
      },
      "execution_count": null,
      "outputs": []
    },
    {
      "cell_type": "code",
      "source": [
        "!git checkout Refactoring"
      ],
      "metadata": {
        "id": "kqTxirLuW044"
      },
      "execution_count": null,
      "outputs": []
    },
    {
      "cell_type": "markdown",
      "source": [
        "#Setup sparka"
      ],
      "metadata": {
        "id": "Vzb444kPW31g"
      }
    },
    {
      "cell_type": "markdown",
      "source": [
        "# Załadowanie nowych baz"
      ],
      "metadata": {
        "id": "tiwX_DUahRps"
      }
    },
    {
      "cell_type": "markdown",
      "source": [
        "##Setup sparka"
      ],
      "metadata": {
        "id": "Ny5PYKNbsHju"
      }
    },
    {
      "cell_type": "code",
      "source": [
        "!chmod +x setup_sparka.sh\n",
        "!./setup_sparka.sh"
      ],
      "metadata": {
        "id": "UxTbMYkeLrk6"
      },
      "execution_count": null,
      "outputs": []
    },
    {
      "cell_type": "code",
      "source": [
        "import pandas as pd\n",
        "from pyspark.sql.functions import split, explode, collect_list, first, array_distinct, min, max\n",
        "from google.colab import drive\n",
        "from lib.pyspark_init import create_spark_context, load_data"
      ],
      "metadata": {
        "id": "g_c507iBLsSW"
      },
      "execution_count": null,
      "outputs": []
    },
    {
      "cell_type": "code",
      "source": [
        "spark = create_spark_context()\n",
        "spark"
      ],
      "metadata": {
        "id": "1rwBnBMwW88n"
      },
      "execution_count": null,
      "outputs": []
    },
    {
      "cell_type": "markdown",
      "source": [
        "#Pobranie danych"
      ],
      "metadata": {
        "id": "p0l3OAblXJ2w"
      }
    },
    {
      "cell_type": "markdown",
      "source": [
        "##Import danych"
      ],
      "metadata": {
        "id": "kgYZYlTutA0O"
      }
    },
    {
      "cell_type": "code",
      "source": [
        "!chmod +x download_data.sh\n",
        "!./download_data.sh"
      ],
      "metadata": {
        "id": "SciXhN5JXONa"
      },
      "execution_count": null,
      "outputs": []
    },
    {
      "cell_type": "markdown",
      "source": [
        "#Wczytanie danych"
      ],
      "metadata": {
        "id": "pPWxy5j_aEvo"
      }
    },
    {
      "cell_type": "markdown",
      "source": [
        "##Wczytajmy dane z rozpakowanych plików"
      ],
      "metadata": {
        "id": "s-hzkKehxgnQ"
      }
    },
    {
      "cell_type": "markdown",
      "source": [
        "## Wybierzmy z tabel tylko istotne rekordy:\n",
        "- df_title_basic: wybierzmy tylko rekordy z primaryProfession zawierającym \"actor\" lub \"actress\",\n",
        "- df_title_principals: wybierzmy rekordy z category zawierającym \"actor\" lub \"actress\"."
      ],
      "metadata": {
        "id": "NKMlZ82RMD6M"
      }
    },
    {
      "cell_type": "markdown",
      "source": [
        "## Wybierzmy następujące kolumny z tabel:\n",
        "- df_title_basic:\n",
        "  - tconst (unikalny numer tytułu - potrzebne do złączenia tabel)\n",
        "  - titleType (rodzaj tytułu, np. film, serial - można porównywać podobieństwo aktorów na podstawie tego w jakich typach produkcji grali)\n",
        "  - originalTitle (tytuł produkcji - być może przyda się do analizy podobnych filmów)\n",
        "  - isAdult (czy produkcja jest dla dorosłych - można wykorzystać do porównywania aktorów na podstawie tego czy grają głównie w produkcjach dla dorosłych)\n",
        "  - startYear (data wypuszczenia produkcji - można wykorzystać do porównania epok filmów, w których grali aktorzy)\n",
        "  - endYear (data zakończenia serii, w innych przypadkach \\N - można wykorzystać do porównania epok filmów, w których grali aktorzy)\n",
        "  - genres (gatunki - może posłużyć do porównania aktorów na podstawie tego, że grali w produkcjach o podobnych gatunkach)\n",
        "\n",
        "- df_title_principals:\n",
        "  - tconst (unikalny numer tytułu - potrzebne do złączenia tabel)\n",
        "  - nconst (unikalny numer aktora - potrzebne do złączenia tabel)\n",
        "  - category (kategoria pracy (actor/actress) - może posłużyć do porównania aktorów na podstawie takiej samej płci)\n",
        "  - characters (postacie zagrane w produkcji - może posłużyć do porównania aktorów na podstawie podobnych granych postaci)\n",
        "\n",
        "- df_name_basics:\n",
        "  - nconst(unikalny numer aktora - potrzebne do złączenia tabel)\n",
        "  - primaryName (imię i nazwisko aktora - potrzebne do wyświetlania aktora lub do odnajdywania go w bazie po imieniu i nazwisku)\n",
        "  - knownForTitles (tytuły produkcji, z których znany jest aktor - może posłużyć do porównania aktorów na podstawie tych samych lub podobnych produkcji, z których są znani)"
      ],
      "metadata": {
        "id": "MGd5Hi-VBF9h"
      }
    },
    {
      "cell_type": "code",
      "source": [
        "%%time\n",
        "data = load_data(spark)\n",
        "data.show(3)"
      ],
      "metadata": {
        "id": "skegmFMQXpcA"
      },
      "execution_count": null,
      "outputs": []
    },
    {
      "cell_type": "markdown",
      "source": [
        "# Załadowanie nowych baz\n",
        "\n",
        "   **W celu załadowania nowych danych należy:**\n",
        "\n",
        "\n",
        "1. Pobrać token API:\n",
        "  * Wejść w *zespół Aktorzy* na teams\n",
        "   * Wybrać zakładkę *pliki*\n",
        "    * Pobrać plik *kaggle.json* - API\n",
        "2. Utworzyć plik na swoim dysku pod nazwą \"Big Data\"\n",
        "3. Wrzucić pobrane API na swój dysk\n",
        "4. Uruchomić kod :)\n",
        "\n",
        "\n"
      ],
      "metadata": {
        "id": "bfRM2_2Lcdoi"
      }
    },
    {
      "cell_type": "markdown",
      "source": [
        "## Wczytajmy bazę oskarów: \"Best Movies Watchlist\"\n"
      ],
      "metadata": {
        "id": "ybdfEcrqRZ0s"
      }
    },
    {
      "cell_type": "code",
      "source": [
        "drive.mount('/content/gdrive')\n",
        "\n",
        "#%cd /content/gdrive/MyDrive/Big Data/kaggle.json\n",
        "os.environ['KAGGLE_CONFIG_DIR'] = \"/content/gdrive/MyDrive/Big Data\"\n",
        "\n",
        "#from google.colab import drive\n",
        "#drive.mount('/content/drive')\n",
        "#random.seed(123456)\n",
        "#np.set_printoptions(precision=6, suppress=True)"
      ],
      "metadata": {
        "id": "x6UtikJb8Ta-"
      },
      "execution_count": null,
      "outputs": []
    },
    {
      "cell_type": "code",
      "source": [
        "! pip install kaggle\n",
        "! mkdir ~/.kaggle #Utwórz katalog o nazwie „.kaggle”\n",
        "! cp kaggle.json ~/.kaggle/ # Skopiuj plik „kaggle.json” do tego nowego katalogu\n",
        "! chmod 600 ~/.kaggle/kaggle.json #Przydziel wymagane uprawnienia do tego pliku."
      ],
      "metadata": {
        "id": "F0Jbvbu9Usce"
      },
      "execution_count": null,
      "outputs": []
    },
    {
      "cell_type": "code",
      "source": [
        "#import pandas as pd\n",
        "\n",
        "! kaggle datasets download unanimad/the-oscar-award #załadujmy dane\n",
        "! unzip the-oscar-award.zip #rozpakujmy z zip'a\n",
        "oscars=spark.read.option(\"header\",\"true\").csv('the_oscar_award.csv')\n",
        "#oscars=pd.read_csv('the_oscar_award.csv')\n",
        "oscars.show(5)\n"
      ],
      "metadata": {
        "id": "V8YLBAdzRiNF"
      },
      "execution_count": null,
      "outputs": []
    },
    {
      "cell_type": "markdown",
      "source": [
        "Main Data:\n",
        "* primaryName\t- aktor\n",
        "* originalTitle - nazwa filmu\n",
        "\n",
        "W nowej bazie oskarów:\n",
        "* name - aktor\n",
        "* film - film"
      ],
      "metadata": {
        "id": "mwsXXYSiYlGz"
      }
    },
    {
      "cell_type": "markdown",
      "source": [
        "## Wczytajmy bazę złotych globów: \"Golden Globe Awards, 1944 - 2020\""
      ],
      "metadata": {
        "id": "t5pYLeWGYf2D"
      }
    },
    {
      "cell_type": "code",
      "source": [
        "! kaggle datasets download unanimad/golden-globe-awards #załadujmy dane\n",
        "! unzip golden-globe-awards.zip #rozpakujmy z zip'a\n",
        "globe=spark.read.option(\"header\",\"true\").csv('golden_globe_awards.csv')\n",
        "globe.show(5)"
      ],
      "metadata": {
        "id": "zYqmIPFfZc1O"
      },
      "execution_count": null,
      "outputs": []
    },
    {
      "cell_type": "markdown",
      "source": [
        "## Wczytajmy bazę złotych globów: \"Primetime Emmy Awards, 1949-2017\""
      ],
      "metadata": {
        "id": "bdL30IZKguHx"
      }
    },
    {
      "cell_type": "code",
      "source": [
        "! kaggle datasets download unanimad/emmy-awards #załadujmy dane\n",
        "! unzip emmy-awards.zip #rozpakujmy z zip'a\n",
        "emmy_awards_category=spark.read.option(\"header\",\"true\").csv('emmy_awards_categories.csv')\n",
        "emmy_awards_category.show(5)\n"
      ],
      "metadata": {
        "id": "5zQSh_Vjb-pB"
      },
      "execution_count": null,
      "outputs": []
    },
    {
      "cell_type": "code",
      "source": [
        "emmy_awards=spark.read.option(\"header\",\"true\").csv('the_emmy_awards.csv')\n",
        "emmy_awards.show(5)"
      ],
      "metadata": {
        "id": "wbFwUlrOES85"
      },
      "execution_count": null,
      "outputs": []
    },
    {
      "cell_type": "markdown",
      "source": [
        "## Zaczytanie danych TMDB \n",
        "\n",
        "   informacje o aktorach i osobach pracujących przy produkcji filmów oraz budżetach, gatunkach, popularności, wytwórniach filmowych, oryginalnyh językach i tytułach\n"
      ],
      "metadata": {
        "id": "YCo8ZbWkNYa3"
      }
    },
    {
      "cell_type": "code",
      "source": [
        "#!kaggle kernels init -p tmdb/tmdb-movie-metadata #wygenerować metadane\n",
        "! kaggle datasets download tmdb/tmdb-movie-metadata #załadujmy dane\n",
        "! unzip tmdb-movie-metadata.zip\n",
        "tmdb_credits=spark.read.option(\"header\",\"true\").csv('tmdb_5000_credits.csv')\n",
        "tmdb_movies=spark.read.option(\"header\",\"true\").csv('tmdb_5000_movies.csv')"
      ],
      "metadata": {
        "id": "4mYC88isckMI"
      },
      "execution_count": null,
      "outputs": []
    },
    {
      "cell_type": "code",
      "source": [
        "tmdb_credits.show(5)"
      ],
      "metadata": {
        "id": "TxFl3Oc-t4iO"
      },
      "execution_count": null,
      "outputs": []
    },
    {
      "cell_type": "code",
      "source": [
        "tmdb_movies.show(5)"
      ],
      "metadata": {
        "id": "0tzNS-h6whRr"
      },
      "execution_count": null,
      "outputs": []
    },
    {
      "cell_type": "markdown",
      "source": [
        "# Połączmy dane na temat nagród z głównymi danymi"
      ],
      "metadata": {
        "id": "ZddcxS8Qs3rs"
      }
    },
    {
      "cell_type": "markdown",
      "source": [
        "Wybierzmy tylko rekordy z interesujących nas kategorii"
      ],
      "metadata": {
        "id": "UpOpwIgb6STf"
      }
    },
    {
      "cell_type": "code",
      "source": [
        "oscars_selected = oscars.filter((oscars.category.like('%ACTOR%')) | (oscars.category.like('%ACTRESS%')))\n",
        "globe_selected = globe.filter((globe.category.like('%Actor%')) | (globe.category.like('%Actress%')))"
      ],
      "metadata": {
        "id": "M-Cr8FMHutgF"
      },
      "execution_count": null,
      "outputs": []
    },
    {
      "cell_type": "code",
      "source": [
        "actor_categories = ['Outstanding Lead Actor in a Comedy Series', 'Outstanding Lead Actor in a Drama Series', 'Outstanding Lead Actor in a Limited or Anthology Series or Movie', 'Outstanding Lead Actress in a Comedy Series', 'Outstanding Lead Actress in a Drama Series', 'Outstanding Lead Actress in a Limited or Anthology Series or Movie', 'Outstanding Supporting Actor in a Comedy Series', 'Outstanding Supporting Actor in a Drama Series', 'Outstanding Supporting Actor in a Limited or Anthology Series or Movie', 'Outstanding Supporting Actress in a Comedy Series', 'Outstanding Supporting Actress in a Drama Series', 'Outstanding Supporting Actress in a Limited or Anthology Series or Movie', 'Outstanding Character Voice-Over Performance', 'Outstanding Guest Actor in a Drama Series', 'Outstanding Guest Actor in a Comedy Series', 'Outstanding Guest Actress in a Drama Series', 'Outstanding Guest Actress in a Comedy Series', 'Outstanding Narrator', 'Outstanding Actor in a Short Form Comedy or Drama Series', 'Outstanding Actress in a Short Form Comedy or Drama Series', 'Best Specialty Act – Single or Group', 'Outstanding Voice-Over Performance', 'Outstanding Sports Personality', 'Most Outstanding Live Personality', 'Most Outstanding Kinescoped Personality']\n",
        "emmy_awards_selected = emmy_awards.filter(emmy_awards.category.isin(actor_categories))"
      ],
      "metadata": {
        "id": "Q9F_6I-5vbrG"
      },
      "execution_count": null,
      "outputs": []
    },
    {
      "cell_type": "markdown",
      "source": [
        "Przygotujmy dane z tabeli emmy_awards_selected do połączenia (wybieramy tylko imię i nazwisko aktora z kolumny staff)"
      ],
      "metadata": {
        "id": "wGanPbjQ6Zag"
      }
    },
    {
      "cell_type": "code",
      "source": [
        "emmy_awards_selected = emmy_awards_selected.withColumn('staff',explode(split('staff',', ')))\n",
        "emmy_awards_selected = emmy_awards_selected.groupby('nominee', 'staff').agg(first('id').alias('id'), first('year').alias('year'), first('category').alias('category'), first('nominee').alias('nominee'), first('staff').alias('staff'), first('company').alias('company'), first('producer').alias('producer'), first('win').alias('win'))"
      ],
      "metadata": {
        "id": "QqDJ2N6mvGOI"
      },
      "execution_count": null,
      "outputs": []
    },
    {
      "cell_type": "markdown",
      "source": [
        "Wybierzmy tylko kolumny, które nas interesują z danych na temat nagród"
      ],
      "metadata": {
        "id": "iuLLzZU46ugk"
      }
    },
    {
      "cell_type": "code",
      "source": [
        "oscars_selected = oscars.select([\"year_ceremony\", \"category\", \"name\", \"film\", \"winner\"])\n",
        "globe_selected = globe.select([\"year_award\", \"category\", \"nominee\", \"film\", \"win\"])\n",
        "emmy_awards_selected = emmy_awards.select([\"year\", \"category\", \"nominee\", \"staff\", \"company\", \"producer\", \"win\"])"
      ],
      "metadata": {
        "id": "-EKRLoDmuEdC"
      },
      "execution_count": null,
      "outputs": []
    },
    {
      "cell_type": "markdown",
      "source": [
        "Zmieńmy nazwy kolumn, aby wiadomo było po połączeniu, któe dane odnoszą się do których nagród"
      ],
      "metadata": {
        "id": "NmdJiD0n60Ns"
      }
    },
    {
      "cell_type": "code",
      "source": [
        "oscars_selected = oscars_selected.withColumnRenamed(\"year_ceremony\",\"year_oscars\").withColumnRenamed(\"category\",\"category_oscars\").withColumnRenamed(\"film\",\"film_oscars\").withColumnRenamed(\"winner\",\"winner_oscars\")\n",
        "\n",
        "globe_selected = globe_selected.withColumnRenamed(\"year_award\",\"year_globes\").withColumnRenamed(\"category\",\"category_globes\").withColumnRenamed(\"film\",\"film_globes\").withColumnRenamed(\"win\",\"win_globes\")\n",
        "\n",
        "emmy_awards_selected = emmy_awards_selected.withColumnRenamed(\"year\",\"year_emmy\").withColumnRenamed(\"category\",\"category_emmy\").withColumnRenamed(\"nominee\",\"nominee_emmy\").withColumnRenamed(\"company\",\"company_emmy\").withColumnRenamed(\"producer\",\"producer_emmy\").withColumnRenamed(\"win\",\"win_emmy\")"
      ],
      "metadata": {
        "id": "ePSjnpCmtlBw"
      },
      "execution_count": null,
      "outputs": []
    },
    {
      "cell_type": "markdown",
      "source": [
        "Złączmy dane dotyczące nagród z głównymi danymi"
      ],
      "metadata": {
        "id": "Go0nk2K66-U7"
      }
    },
    {
      "cell_type": "code",
      "source": [
        "print(\"data dataframe size: \", (data.count(), len(data.columns)))\n",
        "print(\"oscars_selected dataframe size: \", (oscars_selected.count(), len(oscars_selected.columns)))\n",
        "print(\"globe_selected dataframe size: \", (globe_selected.count(), len(globe_selected.columns)))\n",
        "print(\"emmy_awards_selected dataframe size: \", (emmy_awards_selected.count(), len(emmy_awards_selected.columns)))\n",
        "data = data.join(oscars_selected, data.primaryName == oscars_selected.name, \"left\")\n",
        "print(\"joined dataframe size: \", (data.count(), len(data.columns)))\n",
        "data = data.join(globe_selected, data.primaryName == globe_selected.nominee, \"left\")\n",
        "print(\"joined dataframe size: \", (data.count(), len(data.columns)))\n",
        "data = data.join(emmy_awards_selected, data.primaryName == emmy_awards_selected.staff, \"left\")\n",
        "print(\"joined dataframe size: \", (data.count(), len(data.columns)))"
      ],
      "metadata": {
        "id": "8Fex-lA_szpd"
      },
      "execution_count": null,
      "outputs": []
    },
    {
      "cell_type": "code",
      "source": [
        "data = data.groupby('nconst').agg(first('tconst').alias(\"tconst\"), first('titleType').alias(\"titleType\"), first('originalTitle').alias(\"originalTitle\"), first('isAdult').alias(\"isAdult\"), first('startYear').alias(\"startYear\"), first('endYear').alias(\"endYear\"), first('genres').alias(\"genres\"), first('category').alias(\"category\"), first('characters').alias(\"characters\"), first('primaryName').alias(\"primaryName\"), first('knownForTitles').alias(\"knownForTitles\"), collect_list('year_oscars').alias(\"year_oscars\"), collect_list('category_oscars').alias(\"category_oscars\"), collect_list('film_oscars').alias(\"film_oscars\"), collect_list('winner_oscars').alias(\"winner_oscars\"), collect_list('year_globes').alias(\"year_globes\"), collect_list('category_globes').alias(\"category_globes\"), collect_list('film_globes').alias(\"film_globes\"), collect_list('win_globes').alias(\"win_globes\"), collect_list('year_emmy').alias(\"year_emmy\"), collect_list('category_emmy').alias(\"category_emmy\"), collect_list('nominee_emmy').alias(\"nominee_emmy\"), collect_list('company_emmy').alias(\"company_emmy\"), collect_list('producer_emmy').alias(\"producer_emmy\"), collect_list('win_emmy').alias(\"win_emmy\"))"
      ],
      "metadata": {
        "id": "otH8qLYFvA_b"
      },
      "execution_count": null,
      "outputs": []
    },
    {
      "cell_type": "markdown",
      "source": [
        "Pokażmy kilka przykłądowych wierszy ostatecznej tabeli"
      ],
      "metadata": {
        "id": "tTFxcetO7DRf"
      }
    },
    {
      "cell_type": "code",
      "source": [
        "sample = data.rdd.takeSample(False, 5)"
      ],
      "metadata": {
        "id": "tLXyB22Q6Jm0"
      },
      "execution_count": null,
      "outputs": []
    },
    {
      "cell_type": "code",
      "source": [
        "sample = pd.DataFrame(sample, columns = data.columns)\n",
        "sample"
      ],
      "metadata": {
        "id": "OUbWzFL46N96"
      },
      "execution_count": null,
      "outputs": []
    }
  ]
}