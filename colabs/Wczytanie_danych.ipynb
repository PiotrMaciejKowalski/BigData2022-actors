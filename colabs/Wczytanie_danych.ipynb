{
  "cells": [
    {
      "cell_type": "markdown",
      "metadata": {
        "colab_type": "text",
        "id": "view-in-github"
      },
      "source": [
        "<a href=\"https://colab.research.google.com/github/PiotrMaciejKowalski/BigData2022-actors/blob/Doda-now-kolumn---ilo-nagrd-dla-danego-aktora/colabs/Wczytanie_danych.ipynb\" target=\"_parent\"><img src=\"https://colab.research.google.com/assets/colab-badge.svg\" alt=\"Open In Colab\"/></a>"
      ]
    },
    {
      "cell_type": "code",
      "execution_count": null,
      "metadata": {
        "id": "9vAUDEUf4X1S"
      },
      "outputs": [],
      "source": [
        "from google.colab import drive\n",
        "drive.mount('/content/gdrive')"
      ]
    },
    {
      "cell_type": "code",
      "execution_count": null,
      "metadata": {
        "id": "2FiaOxxnWubg"
      },
      "outputs": [],
      "source": [
        "!git clone https://github.com/PiotrMaciejKowalski/BigData2022-actors.git\n",
        "!mv /content/BigData2022-actors/* .\n",
        "!mv /content/BigData2022-actors/.* .\n",
        "!rmdir /content/BigData2022-actors/"
      ]
    },
    {
      "cell_type": "code",
      "execution_count": null,
      "metadata": {
        "id": "kqTxirLuW044"
      },
      "outputs": [],
      "source": [
        "#!git checkout"
      ]
    },
    {
      "cell_type": "code",
      "execution_count": null,
      "metadata": {
        "id": "UxTbMYkeLrk6"
      },
      "outputs": [],
      "source": [
        "!chmod +x setup_sparka.sh\n",
        "!./setup_sparka.sh"
      ]
    },
    {
      "cell_type": "code",
      "execution_count": null,
      "metadata": {
        "id": "g_c507iBLsSW"
      },
      "outputs": [],
      "source": [
        "import pandas as pd\n",
        "from lib.pyspark_init import create_spark_context, load_data\n",
        "from lib.const import JOINED_DATA"
      ]
    },
    {
      "cell_type": "code",
      "execution_count": null,
      "metadata": {
        "id": "1rwBnBMwW88n"
      },
      "outputs": [],
      "source": [
        "spark = create_spark_context()\n",
        "spark"
      ]
    },
    {
      "cell_type": "code",
      "execution_count": null,
      "metadata": {
        "id": "SciXhN5JXONa"
      },
      "outputs": [],
      "source": [
        "!chmod +x download_data.sh\n",
        "!./download_data.sh"
      ]
    },
    {
      "cell_type": "code",
      "execution_count": null,
      "metadata": {
        "id": "skegmFMQXpcA"
      },
      "outputs": [],
      "source": [
        "%%time\n",
        "data = load_data(spark)\n",
        "data.show(3)"
      ]
    },
    {
      "cell_type": "code",
      "execution_count": null,
      "metadata": {
        "id": "MclMJsdy5k8N"
      },
      "outputs": [],
      "source": [
        "%%time\n",
        "data.write.parquet(JOINED_DATA)"
      ]
    },
    {
      "cell_type": "markdown",
      "metadata": {
        "id": "WiRv3OHhYfsX"
      },
      "source": [
        "# Dodanie kolumn z policzonymi zdobytymi nagrodami"
      ]
    },
    {
      "cell_type": "code",
      "execution_count": null,
      "metadata": {
        "id": "pm-vOCU2YfcY"
      },
      "outputs": [],
      "source": [
        "oscars_nominations = data.select(\"*\", explode(\"winner_oscars\").alias(\"exploded\"))\\\n",
        "    .groupBy(\"nconst\", \"winner_oscars\")\\\n",
        "    .agg(count(\"exploded\").alias(\"no_nominations_oscars\"))\\\n",
        "    .select([\"nconst\", \"no_nominations_oscars\"])\n",
        "\n",
        "oscars_win = data.select(\"*\", explode(\"winner_oscars\").alias(\"exploded\"))\\\n",
        "    .where(col(\"exploded\") == True)\\\n",
        "    .groupBy(\"nconst\", \"winner_oscars\")\\\n",
        "    .agg(count(\"exploded\").alias(\"no_oscars\"))\\\n",
        "    .select([\"nconst\", \"no_oscars\"])\n",
        "\n",
        "data = data.join(oscars_nominations, on=\"nconst\", how=\"left\")\n",
        "data = data.join(oscars_win, on=\"nconst\", how=\"left\")"
      ]
    },
    {
      "cell_type": "code",
      "execution_count": null,
      "metadata": {
        "id": "viwL8XINlnKD"
      },
      "outputs": [],
      "source": [
        "globes_nominations = data.select(\"*\", explode(\"win_globes\").alias(\"exploded\"))\\\n",
        "    .groupBy(\"nconst\", \"win_globes\")\\\n",
        "    .agg(count(\"exploded\").alias(\"no_nominations_globes\"))\\\n",
        "    .select([\"nconst\", \"no_nominations_globes\"])\n",
        "\n",
        "globes_win = data.select(\"*\", explode(\"win_globes\").alias(\"exploded\"))\\\n",
        "    .where(col(\"exploded\") == True)\\\n",
        "    .groupBy(\"nconst\", \"win_globes\")\\\n",
        "    .agg(count(\"exploded\").alias(\"no_globes\"))\\\n",
        "    .select([\"nconst\", \"no_globes\"])\n",
        "\n",
        "data = data.join(globes_nominations, on=\"nconst\", how=\"left\")    \n",
        "data = data.join(globes_win, on=\"nconst\", how=\"left\")"
      ]
    },
    {
      "cell_type": "code",
      "execution_count": null,
      "metadata": {
        "id": "LcEWyx6tmaEd"
      },
      "outputs": [],
      "source": [
        "emmy_nominations = data.select(\"*\", explode(\"win_emmy\").alias(\"exploded\"))\\\n",
        "    .groupBy(\"nconst\", \"win_emmy\")\\\n",
        "    .agg(count(\"exploded\").alias(\"no_nominations_emmy\"))\\\n",
        "    .select([\"nconst\", \"no_nominations_emmy\"])\n",
        "\n",
        "emmy_win = data.select(\"*\", explode(\"win_emmy\").alias(\"exploded\"))\\\n",
        "    .where(col(\"exploded\") == True)\\\n",
        "    .groupBy(\"nconst\", \"win_emmy\")\\\n",
        "    .agg(count(\"exploded\").alias(\"no_emmy\"))\\\n",
        "    .select([\"nconst\", \"no_emmy\"])\n",
        "\n",
        "data = data.join(emmy_nominations, on=\"nconst\", how=\"left\")    \n",
        "data = data.join(emmy_win, on=\"nconst\", how=\"left\")"
      ]
    },
    {
      "cell_type": "code",
      "execution_count": null,
      "metadata": {
        "id": "LwWsxa7DamdC"
      },
      "outputs": [],
      "source": [
        "data.show(10)"
      ]
    }
  ],
  "metadata": {
    "colab": {
      "collapsed_sections": [
        "kgYZYlTutA0O",
        "or9x68JxXc10",
        "pPWxy5j_aEvo",
        "s-hzkKehxgnQ",
        "snoopt7lY71j"
      ],
      "include_colab_link": true,
      "provenance": []
    },
    "kernelspec": {
      "display_name": "bigdata",
      "language": "python",
      "name": "python3"
    },
    "language_info": {
      "name": "python",
      "version": "3.9.15 (main, Nov 24 2022, 14:39:17) [MSC v.1916 64 bit (AMD64)]"
    },
    "vscode": {
      "interpreter": {
        "hash": "48c979fd48180f5f4c9aae27132342c912c55525dbeac0351eaff5bcccb74635"
      }
    }
  },
  "nbformat": 4,
  "nbformat_minor": 0
}
