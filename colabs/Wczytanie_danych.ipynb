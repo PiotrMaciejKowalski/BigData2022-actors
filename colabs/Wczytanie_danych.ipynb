{
  "nbformat": 4,
  "nbformat_minor": 0,
  "metadata": {
    "colab": {
      "provenance": [],
      "collapsed_sections": [
        "kgYZYlTutA0O",
        "or9x68JxXc10",
        "pPWxy5j_aEvo",
        "s-hzkKehxgnQ",
        "snoopt7lY71j"
      ],
      "include_colab_link": true
    },
    "kernelspec": {
      "name": "python3",
      "display_name": "Python 3"
    },
    "language_info": {
      "name": "python"
    }
  },
  "cells": [
    {
      "cell_type": "markdown",
      "metadata": {
        "id": "view-in-github",
        "colab_type": "text"
      },
      "source": [
        "<a href=\"https://colab.research.google.com/github/PiotrMaciejKowalski/BigData2022-actors/blob/Poczenie-baz-danych-nagrd-z-main-data/colabs/Wczytanie_danych.ipynb\" target=\"_parent\"><img src=\"https://colab.research.google.com/assets/colab-badge.svg\" alt=\"Open In Colab\"/></a>"
      ]
    },
    {
      "cell_type": "markdown",
      "source": [
        "#Setup sparka"
      ],
      "metadata": {
        "id": "Vzb444kPW31g"
      }
    },
    {
      "cell_type": "markdown",
      "source": [
        "# Załadowanie nowych baz"
      ],
      "metadata": {
        "id": "tiwX_DUahRps"
      }
    },
    {
      "cell_type": "markdown",
      "source": [
        "##Setup sparka"
      ],
      "metadata": {
        "id": "Ny5PYKNbsHju"
      }
    },
    {
      "cell_type": "code",
      "source": [
        "!pip install pyspark py4j\n",
        "!pip install -q findspark\n",
        "!apt-get install openjdk-8-jdk-headless -qq > /dev/null\n",
        "!wget ftp://ftp.ps.pl/pub/apache/spark/spark-3.3.1/spark-3.3.1-bin-hadoop2.tgz\n",
        "!tar xf spark-3.3.1-bin-hadoop2.tgz"
      ],
      "metadata": {
        "colab": {
          "base_uri": "https://localhost:8080/"
        },
        "id": "UxTbMYkeLrk6",
        "outputId": "fc949e7f-94c6-42ee-a4be-f29a7180fff2"
      },
      "execution_count": 1,
      "outputs": [
        {
          "output_type": "stream",
          "name": "stdout",
          "text": [
            "Looking in indexes: https://pypi.org/simple, https://us-python.pkg.dev/colab-wheels/public/simple/\n",
            "Requirement already satisfied: pyspark in /usr/local/lib/python3.7/dist-packages (3.3.1)\n",
            "Requirement already satisfied: py4j in /usr/local/lib/python3.7/dist-packages (0.10.9.5)\n",
            "--2022-11-27 19:45:37--  ftp://ftp.ps.pl/pub/apache/spark/spark-3.3.1/spark-3.3.1-bin-hadoop2.tgz\n",
            "           => ‘spark-3.3.1-bin-hadoop2.tgz.5’\n",
            "Resolving ftp.ps.pl (ftp.ps.pl)... 212.14.28.36, 2001:4c58:62:2::36\n",
            "Connecting to ftp.ps.pl (ftp.ps.pl)|212.14.28.36|:21... connected.\n",
            "Logging in as anonymous ... Logged in!\n",
            "==> SYST ... done.    ==> PWD ... done.\n",
            "==> TYPE I ... done.  ==> CWD (1) /pub/apache/spark/spark-3.3.1 ... done.\n",
            "==> SIZE spark-3.3.1-bin-hadoop2.tgz ... 274099817\n",
            "==> PASV ... done.    ==> RETR spark-3.3.1-bin-hadoop2.tgz ... done.\n",
            "Length: 274099817 (261M) (unauthoritative)\n",
            "\n",
            "spark-3.3.1-bin-had 100%[===================>] 261.40M  19.8MB/s    in 13s     \n",
            "\n",
            "2022-11-27 19:45:53 (19.9 MB/s) - ‘spark-3.3.1-bin-hadoop2.tgz.5’ saved [274099817]\n",
            "\n"
          ]
        }
      ]
    },
    {
      "cell_type": "code",
      "source": [
        "import pyspark\n",
        "import findspark\n",
        "from pyspark.sql import SparkSession\n",
        "import os"
      ],
      "metadata": {
        "id": "g_c507iBLsSW"
      },
      "execution_count": 2,
      "outputs": []
    },
    {
      "cell_type": "code",
      "source": [
        "os.environ[\"JAVA_HOME\"] = \"/usr/lib/jvm/java-8-openjdk-amd64\"\n",
        "os.environ[\"SPARK_HOME\"] = \"/content/spark-3.3.1-bin-hadoop2\"\n",
        "spark=SparkSession.builder.appName('Colab').getOrCreate()\n",
        "spark"
      ],
      "metadata": {
        "id": "1rwBnBMwW88n",
        "outputId": "4be99cce-e54a-4c04-c8fd-cc639a7d0342",
        "colab": {
          "base_uri": "https://localhost:8080/",
          "height": 219
        }
      },
      "execution_count": 3,
      "outputs": [
        {
          "output_type": "execute_result",
          "data": {
            "text/plain": [
              "<pyspark.sql.session.SparkSession at 0x7f4cd24b6810>"
            ],
            "text/html": [
              "\n",
              "            <div>\n",
              "                <p><b>SparkSession - in-memory</b></p>\n",
              "                \n",
              "        <div>\n",
              "            <p><b>SparkContext</b></p>\n",
              "\n",
              "            <p><a href=\"http://44b98850b1a6:4040\">Spark UI</a></p>\n",
              "\n",
              "            <dl>\n",
              "              <dt>Version</dt>\n",
              "                <dd><code>v3.3.1</code></dd>\n",
              "              <dt>Master</dt>\n",
              "                <dd><code>local[*]</code></dd>\n",
              "              <dt>AppName</dt>\n",
              "                <dd><code>Colab</code></dd>\n",
              "            </dl>\n",
              "        </div>\n",
              "        \n",
              "            </div>\n",
              "        "
            ]
          },
          "metadata": {},
          "execution_count": 3
        }
      ]
    },
    {
      "cell_type": "markdown",
      "source": [
        "#Pobranie danych"
      ],
      "metadata": {
        "id": "p0l3OAblXJ2w"
      }
    },
    {
      "cell_type": "markdown",
      "source": [
        "##Import danych"
      ],
      "metadata": {
        "id": "kgYZYlTutA0O"
      }
    },
    {
      "cell_type": "code",
      "source": [
        "!wget https://datasets.imdbws.com/name.basics.tsv.gz\n",
        "!wget https://datasets.imdbws.com/title.akas.tsv.gz\n",
        "!wget https://datasets.imdbws.com/title.basics.tsv.gz\n",
        "!wget https://datasets.imdbws.com/title.crew.tsv.gz\n",
        "!wget https://datasets.imdbws.com/title.episode.tsv.gz\n",
        "!wget https://datasets.imdbws.com/title.principals.tsv.gz\n",
        "!wget https://datasets.imdbws.com/title.ratings.tsv.gz"
      ],
      "metadata": {
        "id": "SciXhN5JXONa",
        "colab": {
          "base_uri": "https://localhost:8080/"
        },
        "outputId": "a37d9047-4665-458d-f5bd-620cafdc9cb3"
      },
      "execution_count": 4,
      "outputs": [
        {
          "output_type": "stream",
          "name": "stdout",
          "text": [
            "--2022-11-27 19:46:13--  https://datasets.imdbws.com/name.basics.tsv.gz\n",
            "Resolving datasets.imdbws.com (datasets.imdbws.com)... 13.249.98.35, 13.249.98.73, 13.249.98.61, ...\n",
            "Connecting to datasets.imdbws.com (datasets.imdbws.com)|13.249.98.35|:443... connected.\n",
            "HTTP request sent, awaiting response... 200 OK\n",
            "Length: 236951880 (226M) [binary/octet-stream]\n",
            "Saving to: ‘name.basics.tsv.gz.3’\n",
            "\n",
            "name.basics.tsv.gz. 100%[===================>] 225.97M  83.0MB/s    in 2.7s    \n",
            "\n",
            "2022-11-27 19:46:16 (83.0 MB/s) - ‘name.basics.tsv.gz.3’ saved [236951880/236951880]\n",
            "\n",
            "--2022-11-27 19:46:16--  https://datasets.imdbws.com/title.akas.tsv.gz\n",
            "Resolving datasets.imdbws.com (datasets.imdbws.com)... 13.249.98.35, 13.249.98.73, 13.249.98.61, ...\n",
            "Connecting to datasets.imdbws.com (datasets.imdbws.com)|13.249.98.35|:443... connected.\n",
            "HTTP request sent, awaiting response... 200 OK\n",
            "Length: 288759614 (275M) [binary/octet-stream]\n",
            "Saving to: ‘title.akas.tsv.gz.3’\n",
            "\n",
            "title.akas.tsv.gz.3 100%[===================>] 275.38M  86.5MB/s    in 3.5s    \n",
            "\n",
            "2022-11-27 19:46:20 (79.6 MB/s) - ‘title.akas.tsv.gz.3’ saved [288759614/288759614]\n",
            "\n",
            "--2022-11-27 19:46:20--  https://datasets.imdbws.com/title.basics.tsv.gz\n",
            "Resolving datasets.imdbws.com (datasets.imdbws.com)... 13.249.98.35, 13.249.98.73, 13.249.98.61, ...\n",
            "Connecting to datasets.imdbws.com (datasets.imdbws.com)|13.249.98.35|:443... connected.\n",
            "HTTP request sent, awaiting response... 200 OK\n",
            "Length: 164307694 (157M) [binary/octet-stream]\n",
            "Saving to: ‘title.basics.tsv.gz.3’\n",
            "\n",
            "title.basics.tsv.gz 100%[===================>] 156.70M  60.1MB/s    in 2.6s    \n",
            "\n",
            "2022-11-27 19:46:22 (60.1 MB/s) - ‘title.basics.tsv.gz.3’ saved [164307694/164307694]\n",
            "\n",
            "--2022-11-27 19:46:22--  https://datasets.imdbws.com/title.crew.tsv.gz\n",
            "Resolving datasets.imdbws.com (datasets.imdbws.com)... 13.249.98.35, 13.249.98.73, 13.249.98.61, ...\n",
            "Connecting to datasets.imdbws.com (datasets.imdbws.com)|13.249.98.35|:443... connected.\n",
            "HTTP request sent, awaiting response... 200 OK\n",
            "Length: 63078615 (60M) [binary/octet-stream]\n",
            "Saving to: ‘title.crew.tsv.gz.3’\n",
            "\n",
            "title.crew.tsv.gz.3 100%[===================>]  60.16M  38.5MB/s    in 1.6s    \n",
            "\n",
            "2022-11-27 19:46:24 (38.5 MB/s) - ‘title.crew.tsv.gz.3’ saved [63078615/63078615]\n",
            "\n",
            "--2022-11-27 19:46:24--  https://datasets.imdbws.com/title.episode.tsv.gz\n",
            "Resolving datasets.imdbws.com (datasets.imdbws.com)... 13.249.98.35, 13.249.98.73, 13.249.98.61, ...\n",
            "Connecting to datasets.imdbws.com (datasets.imdbws.com)|13.249.98.35|:443... connected.\n",
            "HTTP request sent, awaiting response... 200 OK\n",
            "Length: 38665784 (37M) [binary/octet-stream]\n",
            "Saving to: ‘title.episode.tsv.gz.3’\n",
            "\n",
            "title.episode.tsv.g 100%[===================>]  36.87M  37.1MB/s    in 1.0s    \n",
            "\n",
            "2022-11-27 19:46:25 (37.1 MB/s) - ‘title.episode.tsv.gz.3’ saved [38665784/38665784]\n",
            "\n",
            "--2022-11-27 19:46:25--  https://datasets.imdbws.com/title.principals.tsv.gz\n",
            "Resolving datasets.imdbws.com (datasets.imdbws.com)... 13.249.98.35, 13.249.98.73, 13.249.98.61, ...\n",
            "Connecting to datasets.imdbws.com (datasets.imdbws.com)|13.249.98.35|:443... connected.\n",
            "HTTP request sent, awaiting response... 200 OK\n",
            "Length: 418401318 (399M) [binary/octet-stream]\n",
            "Saving to: ‘title.principals.tsv.gz.3’\n",
            "\n",
            "title.principals.ts 100%[===================>] 399.02M  87.7MB/s    in 5.0s    \n",
            "\n",
            "2022-11-27 19:46:30 (80.2 MB/s) - ‘title.principals.tsv.gz.3’ saved [418401318/418401318]\n",
            "\n",
            "--2022-11-27 19:46:30--  https://datasets.imdbws.com/title.ratings.tsv.gz\n",
            "Resolving datasets.imdbws.com (datasets.imdbws.com)... 13.249.98.35, 13.249.98.73, 13.249.98.61, ...\n",
            "Connecting to datasets.imdbws.com (datasets.imdbws.com)|13.249.98.35|:443... connected.\n",
            "HTTP request sent, awaiting response... 200 OK\n",
            "Length: 6283704 (6.0M) [binary/octet-stream]\n",
            "Saving to: ‘title.ratings.tsv.gz.3’\n",
            "\n",
            "title.ratings.tsv.g 100%[===================>]   5.99M  11.3MB/s    in 0.5s    \n",
            "\n",
            "2022-11-27 19:46:31 (11.3 MB/s) - ‘title.ratings.tsv.gz.3’ saved [6283704/6283704]\n",
            "\n"
          ]
        }
      ]
    },
    {
      "cell_type": "markdown",
      "source": [
        "##Rozpakowanie danych"
      ],
      "metadata": {
        "id": "or9x68JxXc10"
      }
    },
    {
      "cell_type": "code",
      "source": [
        "!gzip -dc /content/name.basics.tsv.gz > name.basics.csv\n",
        "!gzip -dc /content/title.akas.tsv.gz > title.akas.csv\n",
        "!gzip -dc /content/title.basics.tsv.gz > title.basic.csv\n",
        "!gzip -dc /content/title.crew.tsv.gz > title.crew.csv\n",
        "!gzip -dc /content/title.episode.tsv.gz > title.episode.csv\n",
        "!gzip -dc /content/title.principals.tsv.gz > title.principals.csv\n",
        "!gzip -dc /content/title.ratings.tsv.gz > title.ratings.csv"
      ],
      "metadata": {
        "id": "IpXAjtV4XeKx"
      },
      "execution_count": 5,
      "outputs": []
    },
    {
      "cell_type": "markdown",
      "source": [
        "#Wczytanie danych"
      ],
      "metadata": {
        "id": "pPWxy5j_aEvo"
      }
    },
    {
      "cell_type": "markdown",
      "source": [
        "##Wczytajmy dane z rozpakowanych plików"
      ],
      "metadata": {
        "id": "s-hzkKehxgnQ"
      }
    },
    {
      "cell_type": "code",
      "source": [
        "df_name_basics=spark.read.option(\"header\", \"true\").option(\"delimiter\", \"\\t\").csv('name.basics.csv' ) \n",
        "df_title_akas=spark.read.option(\"header\",\"true\").option(\"delimiter\", \"\\t\").csv('title.akas.csv')\n",
        "df_title_basic=spark.read.option(\"header\",\"true\").option(\"delimiter\", \"\\t\").csv('title.basic.csv')\n",
        "df_title_crew=spark.read.option(\"header\",\"true\").option(\"delimiter\", \"\\t\").csv('title.crew.csv')\n",
        "df_title_episode=spark.read.option(\"header\",\"true\").option(\"delimiter\",\"\\t\").csv('title.episode.csv')\n",
        "df_title_principals=spark.read.option(\"header\",\"true\").option(\"delimiter\",\"\\t\").csv('title.principals.csv')\n",
        "df_title_ratings=spark.read.option(\"header\",\"true\").option(\"delimiter\",\"\\t\").csv('title.ratings.csv')"
      ],
      "metadata": {
        "id": "skegmFMQXpcA"
      },
      "execution_count": 6,
      "outputs": []
    },
    {
      "cell_type": "markdown",
      "source": [
        "##Wyświetlmy dane"
      ],
      "metadata": {
        "id": "snoopt7lY71j"
      }
    },
    {
      "cell_type": "code",
      "source": [
        "df_name_basics.show(3)\n",
        "df_title_akas.show(3)\n",
        "df_title_basic.show(3)\n",
        "df_title_crew.show(3)\n",
        "df_title_episode.show(3)\n",
        "df_title_principals.show(3)\n",
        "df_title_ratings.show(3)"
      ],
      "metadata": {
        "id": "BQItTCh9ZBht",
        "colab": {
          "base_uri": "https://localhost:8080/"
        },
        "outputId": "a589156f-1483-43ce-e8b8-ccd74f793349"
      },
      "execution_count": 7,
      "outputs": [
        {
          "output_type": "stream",
          "name": "stdout",
          "text": [
            "+---------+---------------+---------+---------+--------------------+--------------------+\n",
            "|   nconst|    primaryName|birthYear|deathYear|   primaryProfession|      knownForTitles|\n",
            "+---------+---------------+---------+---------+--------------------+--------------------+\n",
            "|nm0000001|   Fred Astaire|     1899|     1987|soundtrack,actor,...|tt0031983,tt00504...|\n",
            "|nm0000002|  Lauren Bacall|     1924|     2014|  actress,soundtrack|tt0038355,tt00373...|\n",
            "|nm0000003|Brigitte Bardot|     1934|       \\N|actress,soundtrac...|tt0054452,tt00573...|\n",
            "+---------+---------------+---------+---------+--------------------+--------------------+\n",
            "only showing top 3 rows\n",
            "\n",
            "+---------+--------+--------------------+------+--------+-----------+-------------+---------------+\n",
            "|  titleId|ordering|               title|region|language|      types|   attributes|isOriginalTitle|\n",
            "+---------+--------+--------------------+------+--------+-----------+-------------+---------------+\n",
            "|tt0000001|       1|          Карменсіта|    UA|      \\N|imdbDisplay|           \\N|              0|\n",
            "|tt0000001|       2|          Carmencita|    DE|      \\N|         \\N|literal title|              0|\n",
            "|tt0000001|       3|Carmencita - span...|    HU|      \\N|imdbDisplay|           \\N|              0|\n",
            "+---------+--------+--------------------+------+--------+-----------+-------------+---------------+\n",
            "only showing top 3 rows\n",
            "\n",
            "+---------+---------+--------------------+--------------------+-------+---------+-------+--------------+--------------------+\n",
            "|   tconst|titleType|        primaryTitle|       originalTitle|isAdult|startYear|endYear|runtimeMinutes|              genres|\n",
            "+---------+---------+--------------------+--------------------+-------+---------+-------+--------------+--------------------+\n",
            "|tt0000001|    short|          Carmencita|          Carmencita|      0|     1894|     \\N|             1|   Documentary,Short|\n",
            "|tt0000002|    short|Le clown et ses c...|Le clown et ses c...|      0|     1892|     \\N|             5|     Animation,Short|\n",
            "|tt0000003|    short|      Pauvre Pierrot|      Pauvre Pierrot|      0|     1892|     \\N|             4|Animation,Comedy,...|\n",
            "+---------+---------+--------------------+--------------------+-------+---------+-------+--------------+--------------------+\n",
            "only showing top 3 rows\n",
            "\n",
            "+---------+---------+-------+\n",
            "|   tconst|directors|writers|\n",
            "+---------+---------+-------+\n",
            "|tt0000001|nm0005690|     \\N|\n",
            "|tt0000002|nm0721526|     \\N|\n",
            "|tt0000003|nm0721526|     \\N|\n",
            "+---------+---------+-------+\n",
            "only showing top 3 rows\n",
            "\n",
            "+---------+------------+------------+-------------+\n",
            "|   tconst|parentTconst|seasonNumber|episodeNumber|\n",
            "+---------+------------+------------+-------------+\n",
            "|tt0041951|   tt0041038|           1|            9|\n",
            "|tt0042816|   tt0989125|           1|           17|\n",
            "|tt0042889|   tt0989125|          \\N|           \\N|\n",
            "+---------+------------+------------+-------------+\n",
            "only showing top 3 rows\n",
            "\n",
            "+---------+--------+---------+---------------+--------------------+----------+\n",
            "|   tconst|ordering|   nconst|       category|                 job|characters|\n",
            "+---------+--------+---------+---------------+--------------------+----------+\n",
            "|tt0000001|       1|nm1588970|           self|                  \\N|  [\"Self\"]|\n",
            "|tt0000001|       2|nm0005690|       director|                  \\N|        \\N|\n",
            "|tt0000001|       3|nm0374658|cinematographer|director of photo...|        \\N|\n",
            "+---------+--------+---------+---------------+--------------------+----------+\n",
            "only showing top 3 rows\n",
            "\n",
            "+---------+-------------+--------+\n",
            "|   tconst|averageRating|numVotes|\n",
            "+---------+-------------+--------+\n",
            "|tt0000001|          5.7|    1924|\n",
            "|tt0000002|          5.8|     259|\n",
            "|tt0000003|          6.5|    1737|\n",
            "+---------+-------------+--------+\n",
            "only showing top 3 rows\n",
            "\n"
          ]
        }
      ]
    },
    {
      "cell_type": "markdown",
      "source": [
        "# Złączenie istotnych kolumn"
      ],
      "metadata": {
        "id": "ZZb5i_RrA-yP"
      }
    },
    {
      "cell_type": "markdown",
      "source": [
        "## Wybierzmy z tabel tylko istotne rekordy:\n",
        "- df_title_basic: wybierzmy tylko rekordy z primaryProfession zawierającym \"actor\" lub \"actress\",\n",
        "- df_title_principals: wybierzmy rekordy z category zawierającym \"actor\" lub \"actress\"."
      ],
      "metadata": {
        "id": "NKMlZ82RMD6M"
      }
    },
    {
      "cell_type": "code",
      "source": [
        "df_name_basics_selected = df_name_basics.filter(\"primaryProfession like '%actor%' or primaryProfession like '%actress%'\")\n",
        "df_title_principals_selected = df_title_principals.filter((df_title_principals.category == \"actor\") | (df_title_principals.category == \"actress\"))"
      ],
      "metadata": {
        "id": "31ldGYZGMFGQ"
      },
      "execution_count": 8,
      "outputs": []
    },
    {
      "cell_type": "markdown",
      "source": [
        "## Wybierzmy następujące kolumny z tabel:\n",
        "- df_title_basic:\n",
        "  - tconst (unikalny numer tytułu - potrzebne do złączenia tabel)\n",
        "  - titleType (rodzaj tytułu, np. film, serial - można porównywać podobieństwo aktorów na podstawie tego w jakich typach produkcji grali)\n",
        "  - originalTitle (tytuł produkcji - być może przyda się do analizy podobnych filmów)\n",
        "  - isAdult (czy produkcja jest dla dorosłych - można wykorzystać do porównywania aktorów na podstawie tego czy grają głównie w produkcjach dla dorosłych)\n",
        "  - startYear (data wypuszczenia produkcji - można wykorzystać do porównania epok filmów, w których grali aktorzy)\n",
        "  - endYear (data zakończenia serii, w innych przypadkach \\N - można wykorzystać do porównania epok filmów, w których grali aktorzy)\n",
        "  - genres (gatunki - może posłużyć do porównania aktorów na podstawie tego, że grali w produkcjach o podobnych gatunkach)\n",
        "\n",
        "- df_title_principals:\n",
        "  - tconst (unikalny numer tytułu - potrzebne do złączenia tabel)\n",
        "  - nconst (unikalny numer aktora - potrzebne do złączenia tabel)\n",
        "  - category (kategoria pracy (actor/actress) - może posłużyć do porównania aktorów na podstawie takiej samej płci)\n",
        "  - characters (postacie zagrane w produkcji - może posłużyć do porównania aktorów na podstawie podobnych granych postaci)\n",
        "\n",
        "- df_name_basics:\n",
        "  - nconst(unikalny numer aktora - potrzebne do złączenia tabel)\n",
        "  - primaryName (imię i nazwisko aktora - potrzebne do wyświetlania aktora lub do odnajdywania go w bazie po imieniu i nazwisku)\n",
        "  - knownForTitles (tytuły produkcji, z których znany jest aktor - może posłużyć do porównania aktorów na podstawie tych samych lub podobnych produkcji, z których są znani)"
      ],
      "metadata": {
        "id": "MGd5Hi-VBF9h"
      }
    },
    {
      "cell_type": "code",
      "source": [
        "df_title_basic_selected = df_title_basic.select([\"tconst\", \"titleType\", \"originalTitle\", \"isAdult\", \"startYear\", \"endYear\", \"genres\"])\n",
        "df_title_principals_selected = df_title_principals_selected.select([\"tconst\", \"nconst\", \"category\", \"characters\"])\n",
        "df_name_basics_selected = df_name_basics_selected.select([\"nconst\", \"primaryName\", \"knownForTitles\"])"
      ],
      "metadata": {
        "id": "OKWe9JSKBC5q"
      },
      "execution_count": 9,
      "outputs": []
    },
    {
      "cell_type": "markdown",
      "source": [
        "# Złączmy tabele df_name_basics, df_title_principals i df_title_basic"
      ],
      "metadata": {
        "id": "eMIHo59PBNtx"
      }
    },
    {
      "cell_type": "code",
      "source": [
        "print(\"df_name_basics_selected dataframe size: \", (df_name_basics_selected.count(), len(df_name_basics_selected.columns)))\n",
        "print(\"df_title_principals_selected dataframe size: \", (df_title_principals_selected.count(), len(df_title_principals_selected.columns)))\n",
        "print(\"df_title_basic_selected dataframe size: \", (df_title_basic_selected.count(), len(df_title_basic_selected.columns)))\n",
        "data = df_title_basic_selected.join(df_title_principals_selected, \"tconst\", \"right\")\n",
        "print(\"joined dataframe size: \", (data.count(), len(data.columns)))\n",
        "data = data.join(df_name_basics_selected, \"nconst\", \"inner\")\n",
        "print(\"joined dataframe size: \", (data.count(), len(data.columns)))"
      ],
      "metadata": {
        "id": "zMqqAJ7zBJWL"
      },
      "execution_count": 50,
      "outputs": []
    },
    {
      "cell_type": "markdown",
      "source": [
        "## Łączymy dane na temat jednego aktora w jeden rekord"
      ],
      "metadata": {
        "id": "Jbn8MLa0uXxM"
      }
    },
    {
      "cell_type": "code",
      "source": [
        "from pyspark.sql.functions import collect_list\n",
        "from pyspark.sql.functions import first\n",
        "from pyspark.sql.functions import array_distinct\n",
        "from pyspark.sql.functions import min\n",
        "from pyspark.sql.functions import max\n",
        "data = data.groupby('nconst').agg(collect_list('tconst').alias(\"tconst\"), collect_list('titleType').alias(\"titleType\"), collect_list('originalTitle').alias(\"originalTitle\"), collect_list('isAdult').alias(\"isAdult\"), min('startYear').alias(\"startYear\"), max('endYear').alias(\"endYear\"), collect_list('genres').alias(\"genres\"), first('category').alias(\"category\"), collect_list('characters').alias(\"characters\"), first('primaryName').alias(\"primaryName\"), first('knownForTitles').alias(\"knownForTitles\"))\n"
      ],
      "metadata": {
        "id": "eIYJsIOKVg5k"
      },
      "execution_count": 51,
      "outputs": []
    },
    {
      "cell_type": "markdown",
      "source": [
        "# Wybierzmy przykładowe wiersze z końcowego dataframe'u"
      ],
      "metadata": {
        "id": "hKXuX-JdE9ED"
      }
    },
    {
      "cell_type": "code",
      "source": [
        "sample = data.rdd.takeSample(False, 5)"
      ],
      "metadata": {
        "id": "bH43D49EE84F"
      },
      "execution_count": 13,
      "outputs": []
    },
    {
      "cell_type": "code",
      "source": [
        "import pandas as pd\n",
        "sample = pd.DataFrame(sample, columns = data.columns)\n",
        "sample"
      ],
      "metadata": {
        "id": "kW8-_TXYLo10"
      },
      "execution_count": 14,
      "outputs": []
    },
    {
      "cell_type": "markdown",
      "source": [
        "# Załadowanie nowych baz\n",
        "\n",
        "   **W celu załadowania nowych danych należy:**\n",
        "\n",
        "\n",
        "1. Pobrać token API:\n",
        "  * Wejść w *zespół Aktorzy* na teams\n",
        "   * Wybrać zakładkę *pliki*\n",
        "    * Pobrać plik *kaggle.json* - API\n",
        "2. Utworzyć plik na swoim dysku pod nazwą \"Big Data\"\n",
        "3. Wrzucić pobrane API na swój dysk\n",
        "4. Uruchomić kod :)\n",
        "\n",
        "\n"
      ],
      "metadata": {
        "id": "bfRM2_2Lcdoi"
      }
    },
    {
      "cell_type": "markdown",
      "source": [
        "## Wczytajmy bazę oskarów: \"Best Movies Watchlist\"\n"
      ],
      "metadata": {
        "id": "ybdfEcrqRZ0s"
      }
    },
    {
      "cell_type": "code",
      "source": [
        "from google.colab import drive\n",
        "drive.mount('/content/gdrive')\n",
        "\n",
        "#%cd /content/gdrive/MyDrive/Big Data/kaggle.json\n",
        "import os\n",
        "os.environ['KAGGLE_CONFIG_DIR'] = \"/content/gdrive/MyDrive/Big Data\"\n",
        "\n",
        "#from google.colab import drive\n",
        "#drive.mount('/content/drive')\n",
        "#random.seed(123456)\n",
        "#np.set_printoptions(precision=6, suppress=True)"
      ],
      "metadata": {
        "colab": {
          "base_uri": "https://localhost:8080/"
        },
        "id": "x6UtikJb8Ta-",
        "outputId": "ae9f960c-4d42-4ca4-fc54-0abd37398490"
      },
      "execution_count": 15,
      "outputs": [
        {
          "output_type": "stream",
          "name": "stdout",
          "text": [
            "Drive already mounted at /content/gdrive; to attempt to forcibly remount, call drive.mount(\"/content/gdrive\", force_remount=True).\n"
          ]
        }
      ]
    },
    {
      "cell_type": "code",
      "source": [
        "! pip install kaggle\n",
        "! mkdir ~/.kaggle #Utwórz katalog o nazwie „.kaggle”\n",
        "! cp kaggle.json ~/.kaggle/ # Skopiuj plik „kaggle.json” do tego nowego katalogu\n",
        "! chmod 600 ~/.kaggle/kaggle.json #Przydziel wymagane uprawnienia do tego pliku."
      ],
      "metadata": {
        "id": "F0Jbvbu9Usce",
        "colab": {
          "base_uri": "https://localhost:8080/"
        },
        "outputId": "18770c2e-792f-4376-8b9b-556d30dbfd8d"
      },
      "execution_count": 16,
      "outputs": [
        {
          "output_type": "stream",
          "name": "stdout",
          "text": [
            "Looking in indexes: https://pypi.org/simple, https://us-python.pkg.dev/colab-wheels/public/simple/\n",
            "Requirement already satisfied: kaggle in /usr/local/lib/python3.7/dist-packages (1.5.12)\n",
            "Requirement already satisfied: python-dateutil in /usr/local/lib/python3.7/dist-packages (from kaggle) (2.8.2)\n",
            "Requirement already satisfied: python-slugify in /usr/local/lib/python3.7/dist-packages (from kaggle) (6.1.2)\n",
            "Requirement already satisfied: urllib3 in /usr/local/lib/python3.7/dist-packages (from kaggle) (1.24.3)\n",
            "Requirement already satisfied: tqdm in /usr/local/lib/python3.7/dist-packages (from kaggle) (4.64.1)\n",
            "Requirement already satisfied: requests in /usr/local/lib/python3.7/dist-packages (from kaggle) (2.23.0)\n",
            "Requirement already satisfied: six>=1.10 in /usr/local/lib/python3.7/dist-packages (from kaggle) (1.15.0)\n",
            "Requirement already satisfied: certifi in /usr/local/lib/python3.7/dist-packages (from kaggle) (2022.9.24)\n",
            "Requirement already satisfied: text-unidecode>=1.3 in /usr/local/lib/python3.7/dist-packages (from python-slugify->kaggle) (1.3)\n",
            "Requirement already satisfied: chardet<4,>=3.0.2 in /usr/local/lib/python3.7/dist-packages (from requests->kaggle) (3.0.4)\n",
            "Requirement already satisfied: idna<3,>=2.5 in /usr/local/lib/python3.7/dist-packages (from requests->kaggle) (2.10)\n",
            "mkdir: cannot create directory ‘/root/.kaggle’: File exists\n",
            "cp: cannot stat 'kaggle.json': No such file or directory\n",
            "chmod: cannot access '/root/.kaggle/kaggle.json': No such file or directory\n"
          ]
        }
      ]
    },
    {
      "cell_type": "code",
      "source": [
        "#import pandas as pd\n",
        "\n",
        "! kaggle datasets download unanimad/the-oscar-award #załadujmy dane\n",
        "! unzip the-oscar-award.zip #rozpakujmy z zip'a\n",
        "oscars=spark.read.option(\"header\",\"true\").csv('the_oscar_award.csv')\n",
        "#oscars=pd.read_csv('the_oscar_award.csv')\n",
        "oscars.show(5)\n"
      ],
      "metadata": {
        "id": "V8YLBAdzRiNF",
        "outputId": "216fd7b1-217d-434b-b331-44afb7fa23aa",
        "colab": {
          "base_uri": "https://localhost:8080/"
        }
      },
      "execution_count": 17,
      "outputs": [
        {
          "output_type": "stream",
          "name": "stdout",
          "text": [
            "the-oscar-award.zip: Skipping, found more recently modified local copy (use --force to force download)\n",
            "Archive:  the-oscar-award.zip\n",
            "replace the_oscar_award.csv? [y]es, [n]o, [A]ll, [N]one, [r]ename: y\n",
            "  inflating: the_oscar_award.csv     \n",
            "+---------+-------------+--------+--------+-------------------+----------------+------+\n",
            "|year_film|year_ceremony|ceremony|category|               name|            film|winner|\n",
            "+---------+-------------+--------+--------+-------------------+----------------+------+\n",
            "|     1927|         1928|       1|   ACTOR|Richard Barthelmess|       The Noose| False|\n",
            "|     1927|         1928|       1|   ACTOR|      Emil Jannings|The Last Command|  True|\n",
            "|     1927|         1928|       1| ACTRESS|     Louise Dresser| A Ship Comes In| False|\n",
            "|     1927|         1928|       1| ACTRESS|       Janet Gaynor|      7th Heaven|  True|\n",
            "|     1927|         1928|       1| ACTRESS|     Gloria Swanson|  Sadie Thompson| False|\n",
            "+---------+-------------+--------+--------+-------------------+----------------+------+\n",
            "only showing top 5 rows\n",
            "\n"
          ]
        }
      ]
    },
    {
      "cell_type": "markdown",
      "source": [
        "Main Data:\n",
        "* primaryName\t- aktor\n",
        "* originalTitle - nazwa filmu\n",
        "\n",
        "W nowej bazie oskarów:\n",
        "* name - aktor\n",
        "* film - film"
      ],
      "metadata": {
        "id": "mwsXXYSiYlGz"
      }
    },
    {
      "cell_type": "markdown",
      "source": [
        "## Wczytajmy bazę złotych globów: \"Golden Globe Awards, 1944 - 2020\""
      ],
      "metadata": {
        "id": "t5pYLeWGYf2D"
      }
    },
    {
      "cell_type": "code",
      "source": [
        "! kaggle datasets download unanimad/golden-globe-awards #załadujmy dane\n",
        "! unzip golden-globe-awards.zip #rozpakujmy z zip'a\n",
        "globe=spark.read.option(\"header\",\"true\").csv('golden_globe_awards.csv')\n",
        "globe.show(5)"
      ],
      "metadata": {
        "id": "zYqmIPFfZc1O",
        "colab": {
          "base_uri": "https://localhost:8080/"
        },
        "outputId": "4709b2c9-42bd-40e4-ae95-04bd82fb603d"
      },
      "execution_count": 18,
      "outputs": [
        {
          "output_type": "stream",
          "name": "stdout",
          "text": [
            "golden-globe-awards.zip: Skipping, found more recently modified local copy (use --force to force download)\n",
            "Archive:  golden-globe-awards.zip\n",
            "replace golden_globe_awards.csv? [y]es, [n]o, [A]ll, [N]one, [r]ename: y\n",
            "  inflating: golden_globe_awards.csv  \n",
            "+---------+----------+--------+--------------------+--------------------+--------------------+----+\n",
            "|year_film|year_award|ceremony|            category|             nominee|                film| win|\n",
            "+---------+----------+--------+--------------------+--------------------+--------------------+----+\n",
            "|     1943|      1944|       1|Best Performance ...|      Katina Paxinou|For Whom The Bell...|True|\n",
            "|     1943|      1944|       1|Best Performance ...|       Akim Tamiroff|For Whom The Bell...|True|\n",
            "|     1943|      1944|       1|Best Director - M...|          Henry King|The Song Of Berna...|True|\n",
            "|     1943|      1944|       1|             Picture|The Song Of Berna...|                null|True|\n",
            "|     1943|      1944|       1|Actress In A Lead...|      Jennifer Jones|The Song Of Berna...|True|\n",
            "+---------+----------+--------+--------------------+--------------------+--------------------+----+\n",
            "only showing top 5 rows\n",
            "\n"
          ]
        }
      ]
    },
    {
      "cell_type": "markdown",
      "source": [
        "## Wczytajmy bazę złotych globów: \"Primetime Emmy Awards, 1949-2017\""
      ],
      "metadata": {
        "id": "bdL30IZKguHx"
      }
    },
    {
      "cell_type": "code",
      "source": [
        "! kaggle datasets download unanimad/emmy-awards #załadujmy dane\n",
        "! unzip emmy-awards.zip #rozpakujmy z zip'a\n",
        "emmy_awards_category=spark.read.option(\"header\",\"true\").csv('emmy_awards_categories.csv')\n",
        "emmy_awards_category.show(5)\n"
      ],
      "metadata": {
        "id": "5zQSh_Vjb-pB",
        "colab": {
          "base_uri": "https://localhost:8080/"
        },
        "outputId": "f8d0618e-a76a-464f-826f-87d8859fb39d"
      },
      "execution_count": 19,
      "outputs": [
        {
          "output_type": "stream",
          "name": "stdout",
          "text": [
            "emmy-awards.zip: Skipping, found more recently modified local copy (use --force to force download)\n",
            "Archive:  emmy-awards.zip\n",
            "replace emmy_awards_categories.csv? [y]es, [n]o, [A]ll, [N]one, [r]ename: y\n",
            "  inflating: emmy_awards_categories.csv  \n",
            "replace the_emmy_awards.csv? [y]es, [n]o, [A]ll, [N]one, [r]ename: y\n",
            "  inflating: the_emmy_awards.csv     \n",
            "+------------------+--------+----+\n",
            "|              name|category|role|\n",
            "+------------------+--------+----+\n",
            "|     Comedy Series|  Comedy|main|\n",
            "|        Lead Actor|  Comedy|main|\n",
            "|      Lead Actress|  Comedy|main|\n",
            "|  Supporting Actor|  Comedy|main|\n",
            "|Supporting Actress|  Comedy|main|\n",
            "+------------------+--------+----+\n",
            "only showing top 5 rows\n",
            "\n"
          ]
        }
      ]
    },
    {
      "cell_type": "code",
      "source": [
        "emmy_awards=spark.read.option(\"header\",\"true\").csv('the_emmy_awards.csv')\n",
        "emmy_awards.show(5)"
      ],
      "metadata": {
        "id": "wbFwUlrOES85",
        "colab": {
          "base_uri": "https://localhost:8080/"
        },
        "outputId": "89c69655-6f66-4d4d-e650-6226967911e6"
      },
      "execution_count": 20,
      "outputs": [
        {
          "output_type": "stream",
          "name": "stdout",
          "text": [
            "+---+----+--------------------+--------------------+--------------------+--------+--------------------+-----+\n",
            "| id|year|            category|             nominee|               staff| company|            producer|  win|\n",
            "+---+----+--------------------+--------------------+--------------------+--------+--------------------+-----+\n",
            "|  1|2019|Outstanding Chara...|        The Simpsons|Hank Azaria, as M...|     FOX|Gracie Films in a...|False|\n",
            "|  2|2019|Outstanding Chara...|          Family Guy|Alex Borstein, as...|     FOX|20th Century Fox ...|False|\n",
            "|  3|2019|Outstanding Chara...|When You Wish Upo...|Eric Jacobson, as...|     HBO|Sesame Street Wor...|False|\n",
            "|  4|2019|Outstanding Chara...|     F Is For Family|Kevin Michael Ric...| Netflix|Wild West Televis...|False|\n",
            "|  5|2019|Outstanding Produ...| Escape At Dannemora|Mark Ricker, Prod...|Showtime|Red Hour, Busyhan...|False|\n",
            "+---+----+--------------------+--------------------+--------------------+--------+--------------------+-----+\n",
            "only showing top 5 rows\n",
            "\n"
          ]
        }
      ]
    },
    {
      "cell_type": "markdown",
      "source": [
        "## Zaczytanie danych TMDB \n",
        "\n",
        "   informacje o aktorach i osobach pracujących przy produkcji filmów oraz budżetach, gatunkach, popularności, wytwórniach filmowych, oryginalnyh językach i tytułach\n"
      ],
      "metadata": {
        "id": "YCo8ZbWkNYa3"
      }
    },
    {
      "cell_type": "code",
      "source": [
        "#!kaggle kernels init -p tmdb/tmdb-movie-metadata #wygenerować metadane\n",
        "! kaggle datasets download tmdb/tmdb-movie-metadata #załadujmy dane\n",
        "! unzip tmdb-movie-metadata.zip\n",
        "tmdb_credits=spark.read.option(\"header\",\"true\").csv('tmdb_5000_credits.csv')\n",
        "tmdb_movies=spark.read.option(\"header\",\"true\").csv('tmdb_5000_movies.csv')"
      ],
      "metadata": {
        "id": "4mYC88isckMI",
        "outputId": "38708903-0f34-42ad-a68f-07a4ebb640b4",
        "colab": {
          "base_uri": "https://localhost:8080/"
        }
      },
      "execution_count": 21,
      "outputs": [
        {
          "output_type": "stream",
          "name": "stdout",
          "text": [
            "tmdb-movie-metadata.zip: Skipping, found more recently modified local copy (use --force to force download)\n",
            "Archive:  tmdb-movie-metadata.zip\n",
            "replace tmdb_5000_credits.csv? [y]es, [n]o, [A]ll, [N]one, [r]ename: y\n",
            "  inflating: tmdb_5000_credits.csv   \n",
            "replace tmdb_5000_movies.csv? [y]es, [n]o, [A]ll, [N]one, [r]ename: y\n",
            "  inflating: tmdb_5000_movies.csv    \n"
          ]
        }
      ]
    },
    {
      "cell_type": "code",
      "source": [
        "tmdb_credits.show(5)"
      ],
      "metadata": {
        "id": "TxFl3Oc-t4iO",
        "outputId": "b8e12aac-0e4d-4d1b-84c2-254e07c41c8b",
        "colab": {
          "base_uri": "https://localhost:8080/"
        }
      },
      "execution_count": 22,
      "outputs": [
        {
          "output_type": "stream",
          "name": "stdout",
          "text": [
            "+--------+--------------------+-------------------+--------------------+\n",
            "|movie_id|               title|               cast|                crew|\n",
            "+--------+--------------------+-------------------+--------------------+\n",
            "|   19995|              Avatar|\"[{\"\"cast_id\"\": 242| \"\"character\"\": \"...|\n",
            "|     285|Pirates of the Ca...|  \"[{\"\"cast_id\"\": 4| \"\"character\"\": \"...|\n",
            "|  206647|             Spectre|  \"[{\"\"cast_id\"\": 1| \"\"character\"\": \"...|\n",
            "|   49026|The Dark Knight R...|  \"[{\"\"cast_id\"\": 2| \"\"character\"\": \"...|\n",
            "|   49529|         John Carter|  \"[{\"\"cast_id\"\": 5| \"\"character\"\": \"...|\n",
            "+--------+--------------------+-------------------+--------------------+\n",
            "only showing top 5 rows\n",
            "\n"
          ]
        }
      ]
    },
    {
      "cell_type": "code",
      "source": [
        "tmdb_movies.show(5)"
      ],
      "metadata": {
        "id": "0tzNS-h6whRr",
        "outputId": "43c5c914-cab1-4140-8bbe-4ba2b7aae3fb",
        "colab": {
          "base_uri": "https://localhost:8080/"
        }
      },
      "execution_count": 23,
      "outputs": [
        {
          "output_type": "stream",
          "name": "stdout",
          "text": [
            "+---------+-------------+--------------------+------------+--------------------+-----------------+--------------------+--------------------+--------------------+--------------------+--------------------+---------------+--------------------+--------------+--------------------+--------------+--------------------+---------------+--------------------+----------------+\n",
            "|   budget|       genres|            homepage|          id|            keywords|original_language|      original_title|            overview|          popularity|production_companies|production_countries|   release_date|             revenue|       runtime|    spoken_languages|        status|             tagline|          title|        vote_average|      vote_count|\n",
            "+---------+-------------+--------------------+------------+--------------------+-----------------+--------------------+--------------------+--------------------+--------------------+--------------------+---------------+--------------------+--------------+--------------------+--------------+--------------------+---------------+--------------------+----------------+\n",
            "|237000000|\"[{\"\"id\"\": 28| \"\"name\"\": \"\"Acti...| {\"\"id\"\": 12| \"\"name\"\": \"\"Adve...|      {\"\"id\"\": 14| \"\"name\"\": \"\"Fant...|        {\"\"id\"\": 878| \"\"name\"\": \"\"Scie...|http://www.avatar...|               19995|\"[{\"\"id\"\": 1463| \"\"name\"\": \"\"cult...| {\"\"id\"\": 2964| \"\"name\"\": \"\"futu...| {\"\"id\"\": 3386| \"\"name\"\": \"\"spac...|  {\"\"id\"\": 3388| \"\"name\"\": \"\"spac...|   {\"\"id\"\": 3679|\n",
            "|300000000|\"[{\"\"id\"\": 12| \"\"name\"\": \"\"Adve...| {\"\"id\"\": 14| \"\"name\"\": \"\"Fant...|      {\"\"id\"\": 28| \"\"name\"\": \"\"Acti...|http://disney.go....|                 285|      \"[{\"\"id\"\": 270| \"\"name\"\": \"\"ocea...|   {\"\"id\"\": 726| \"\"name\"\": \"\"drug...|  {\"\"id\"\": 911| \"\"name\"\": \"\"exot...| {\"\"id\"\": 1319| \"\"name\"\": \"\"east...|  {\"\"id\"\": 2038| \"\"name\"\": \"\"love...|   {\"\"id\"\": 2052|\n",
            "|245000000|\"[{\"\"id\"\": 28| \"\"name\"\": \"\"Acti...| {\"\"id\"\": 12| \"\"name\"\": \"\"Adve...|      {\"\"id\"\": 80| \"\"name\"\": \"\"Crim...|http://www.sonypi...|              206647|      \"[{\"\"id\"\": 470|  \"\"name\"\": \"\"spy\"\"}|   {\"\"id\"\": 818| \"\"name\"\": \"\"base...| {\"\"id\"\": 4289| \"\"name\"\": \"\"secr...| {\"\"id\"\": 9663| \"\"name\"\": \"\"sequ...| {\"\"id\"\": 14555|  \"\"name\"\": \"\"mi6\"\"}| {\"\"id\"\": 156095|\n",
            "|250000000|\"[{\"\"id\"\": 28| \"\"name\"\": \"\"Acti...| {\"\"id\"\": 80| \"\"name\"\": \"\"Crim...|      {\"\"id\"\": 18| \"\"name\"\": \"\"Dram...|         {\"\"id\"\": 53| \"\"name\"\": \"\"Thri...|http://www.thedar...|               49026| \"[{\"\"id\"\": 849| \"\"name\"\": \"\"dc c...|  {\"\"id\"\": 853| \"\"name\"\": \"\"crim...|  {\"\"id\"\": 949| \"\"name\"\": \"\"terr...|  {\"\"id\"\": 1308| \"\"name\"\": \"\"secr...|   {\"\"id\"\": 1437|\n",
            "|260000000|\"[{\"\"id\"\": 28| \"\"name\"\": \"\"Acti...| {\"\"id\"\": 12| \"\"name\"\": \"\"Adve...|     {\"\"id\"\": 878| \"\"name\"\": \"\"Scie...|http://movies.dis...|               49529|      \"[{\"\"id\"\": 818| \"\"name\"\": \"\"base...|   {\"\"id\"\": 839| \"\"name\"\": \"\"mars\"\"}| {\"\"id\"\": 1456| \"\"name\"\": \"\"meda...| {\"\"id\"\": 3801| \"\"name\"\": \"\"spac...|  {\"\"id\"\": 7376| \"\"name\"\": \"\"prin...|   {\"\"id\"\": 9951|\n",
            "+---------+-------------+--------------------+------------+--------------------+-----------------+--------------------+--------------------+--------------------+--------------------+--------------------+---------------+--------------------+--------------+--------------------+--------------+--------------------+---------------+--------------------+----------------+\n",
            "only showing top 5 rows\n",
            "\n"
          ]
        }
      ]
    },
    {
      "cell_type": "markdown",
      "source": [
        "# Połączmy dane na temat nagród z głównymi danymi"
      ],
      "metadata": {
        "id": "ZddcxS8Qs3rs"
      }
    },
    {
      "cell_type": "markdown",
      "source": [
        "Wybierzmy tylko rekordy z interesujących nas kategorii"
      ],
      "metadata": {
        "id": "UpOpwIgb6STf"
      }
    },
    {
      "cell_type": "code",
      "source": [
        "oscars_selected = oscars.filter((oscars.category.like('%ACTOR%')) | (oscars.category.like('%ACTRESS%')))\n",
        "globe_selected = globe.filter((globe.category.like('%Actor%')) | (globe.category.like('%Actress%')))"
      ],
      "metadata": {
        "id": "M-Cr8FMHutgF"
      },
      "execution_count": 24,
      "outputs": []
    },
    {
      "cell_type": "code",
      "source": [
        "actor_categories = ['Outstanding Lead Actor in a Comedy Series', 'Outstanding Lead Actor in a Drama Series', 'Outstanding Lead Actor in a Limited or Anthology Series or Movie', 'Outstanding Lead Actress in a Comedy Series', 'Outstanding Lead Actress in a Drama Series', 'Outstanding Lead Actress in a Limited or Anthology Series or Movie', 'Outstanding Supporting Actor in a Comedy Series', 'Outstanding Supporting Actor in a Drama Series', 'Outstanding Supporting Actor in a Limited or Anthology Series or Movie', 'Outstanding Supporting Actress in a Comedy Series', 'Outstanding Supporting Actress in a Drama Series', 'Outstanding Supporting Actress in a Limited or Anthology Series or Movie', 'Outstanding Character Voice-Over Performance', 'Outstanding Guest Actor in a Drama Series', 'Outstanding Guest Actor in a Comedy Series', 'Outstanding Guest Actress in a Drama Series', 'Outstanding Guest Actress in a Comedy Series', 'Outstanding Narrator', 'Outstanding Actor in a Short Form Comedy or Drama Series', 'Outstanding Actress in a Short Form Comedy or Drama Series', 'Best Specialty Act – Single or Group', 'Outstanding Voice-Over Performance', 'Outstanding Sports Personality', 'Most Outstanding Live Personality', 'Most Outstanding Kinescoped Personality']\n",
        "emmy_awards_selected = emmy_awards.filter(emmy_awards.category.isin(actor_categories))"
      ],
      "metadata": {
        "id": "Q9F_6I-5vbrG"
      },
      "execution_count": 45,
      "outputs": []
    },
    {
      "cell_type": "markdown",
      "source": [
        "Przygotujmy dane z tabeli emmy_awards_selected do połączenia (wybieramy tylko imię i nazwisko aktora z kolumny staff)"
      ],
      "metadata": {
        "id": "wGanPbjQ6Zag"
      }
    },
    {
      "cell_type": "code",
      "source": [
        "from pyspark.sql.functions import split, explode\n",
        "emmy_awards_selected = emmy_awards_selected.withColumn('staff',explode(split('staff',', ')))\n",
        "emmy_awards_selected = emmy_awards_selected.groupby('nominee', 'staff').agg(first('id').alias('id'), first('year').alias('year'), first('category').alias('category'), first('nominee').alias('nominee'), first('staff').alias('staff'), first('company').alias('company'), first('producer').alias('producer'), first('win').alias('win'))"
      ],
      "metadata": {
        "id": "QqDJ2N6mvGOI"
      },
      "execution_count": 47,
      "outputs": []
    },
    {
      "cell_type": "markdown",
      "source": [
        "Wybierzmy tylko kolumny, które nas interesują z danych na temat nagród"
      ],
      "metadata": {
        "id": "iuLLzZU46ugk"
      }
    },
    {
      "cell_type": "code",
      "source": [
        "oscars_selected = oscars.select([\"year_ceremony\", \"category\", \"name\", \"film\", \"winner\"])\n",
        "globe_selected = globe.select([\"year_award\", \"category\", \"nominee\", \"film\", \"win\"])\n",
        "emmy_awards_selected = emmy_awards.select([\"year\", \"category\", \"nominee\", \"staff\", \"company\", \"producer\", \"win\"])"
      ],
      "metadata": {
        "id": "-EKRLoDmuEdC"
      },
      "execution_count": 48,
      "outputs": []
    },
    {
      "cell_type": "markdown",
      "source": [
        "Zmieńmy nazwy kolumn, aby wiadomo było po połączeniu, któe dane odnoszą się do których nagród"
      ],
      "metadata": {
        "id": "NmdJiD0n60Ns"
      }
    },
    {
      "cell_type": "code",
      "source": [
        "oscars_selected = oscars_selected.withColumnRenamed(\"year_ceremony\",\"year_oscars\").withColumnRenamed(\"category\",\"category_oscars\").withColumnRenamed(\"film\",\"film_oscars\").withColumnRenamed(\"winner\",\"winner_oscars\")\n",
        "\n",
        "globe_selected = globe_selected.withColumnRenamed(\"year_award\",\"year_globes\").withColumnRenamed(\"category\",\"category_globes\").withColumnRenamed(\"film\",\"film_globes\").withColumnRenamed(\"win\",\"win_globes\")\n",
        "\n",
        "emmy_awards_selected = emmy_awards_selected.withColumnRenamed(\"year\",\"year_emmy\").withColumnRenamed(\"category\",\"category_emmy\").withColumnRenamed(\"nominee\",\"nominee_emmy\").withColumnRenamed(\"company\",\"company_emmy\").withColumnRenamed(\"producer\",\"producer_emmy\").withColumnRenamed(\"win\",\"win_emmy\")"
      ],
      "metadata": {
        "id": "ePSjnpCmtlBw"
      },
      "execution_count": 49,
      "outputs": []
    },
    {
      "cell_type": "markdown",
      "source": [
        "Złączmy dane dotyczące nagród z głównymi danymi"
      ],
      "metadata": {
        "id": "Go0nk2K66-U7"
      }
    },
    {
      "cell_type": "code",
      "source": [
        "print(\"data dataframe size: \", (data.count(), len(data.columns)))\n",
        "print(\"oscars_selected dataframe size: \", (oscars_selected.count(), len(oscars_selected.columns)))\n",
        "print(\"globe_selected dataframe size: \", (globe_selected.count(), len(globe_selected.columns)))\n",
        "print(\"emmy_awards_selected dataframe size: \", (emmy_awards_selected.count(), len(emmy_awards_selected.columns)))\n",
        "data = data.join(oscars_selected, data.primaryName == oscars_selected.name, \"left\")\n",
        "print(\"joined dataframe size: \", (data.count(), len(data.columns)))\n",
        "data = data.join(globe_selected, data.primaryName == globe_selected.nominee, \"left\")\n",
        "print(\"joined dataframe size: \", (data.count(), len(data.columns)))\n",
        "data = data.join(emmy_awards_selected, data.primaryName == emmy_awards_selected.staff, \"left\")\n",
        "print(\"joined dataframe size: \", (data.count(), len(data.columns)))"
      ],
      "metadata": {
        "id": "8Fex-lA_szpd"
      },
      "execution_count": 52,
      "outputs": []
    },
    {
      "cell_type": "code",
      "source": [
        "data = data.groupby('nconst').agg(first('tconst').alias(\"tconst\"), first('titleType').alias(\"titleType\"), first('originalTitle').alias(\"originalTitle\"), first('isAdult').alias(\"isAdult\"), first('startYear').alias(\"startYear\"), first('endYear').alias(\"endYear\"), first('genres').alias(\"genres\"), first('category').alias(\"category\"), first('characters').alias(\"characters\"), first('primaryName').alias(\"primaryName\"), first('knownForTitles').alias(\"knownForTitles\"), array_distinct(collect_list('year_oscars')).alias(\"year_oscars\"), first('category_oscars').alias(\"category_oscars\"), array_distinct(collect_list('film_oscars')).alias(\"film_oscars\"), array_distinct(collect_list('winner_oscars')).alias(\"winner_oscars\"), array_distinct(collect_list('year_globes')).alias(\"year_globes\"), array_distinct(collect_list('category_globes')).alias(\"category_globes\"), array_distinct(collect_list('film_globes')).alias(\"film_globes\"), array_distinct(collect_list('win_globes')).alias(\"win_globes\"))"
      ],
      "metadata": {
        "id": "otH8qLYFvA_b"
      },
      "execution_count": 53,
      "outputs": []
    },
    {
      "cell_type": "markdown",
      "source": [
        "Pokażmy kilka przykłądowych wierszy ostatecznej tabeli"
      ],
      "metadata": {
        "id": "tTFxcetO7DRf"
      }
    },
    {
      "cell_type": "code",
      "source": [
        "sample = data.rdd.takeSample(False, 5)"
      ],
      "metadata": {
        "id": "tLXyB22Q6Jm0"
      },
      "execution_count": null,
      "outputs": []
    },
    {
      "cell_type": "code",
      "source": [
        "sample = pd.DataFrame(sample, columns = data.columns)\n",
        "sample"
      ],
      "metadata": {
        "id": "OUbWzFL46N96"
      },
      "execution_count": null,
      "outputs": []
    }
  ]
}