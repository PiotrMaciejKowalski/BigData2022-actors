{
  "cells": [
    {
      "cell_type": "markdown",
      "metadata": {
        "id": "view-in-github",
        "colab_type": "text"
      },
      "source": [
        "<a href=\"https://colab.research.google.com/github/PiotrMaciejKowalski/BigData2022-actors/blob/Doda-now-kolumn---ilo-nagrd-dla-danego-aktora/colabs/Wczytanie_danych.ipynb\" target=\"_parent\"><img src=\"https://colab.research.google.com/assets/colab-badge.svg\" alt=\"Open In Colab\"/></a>"
      ]
    },
    {
      "cell_type": "code",
      "execution_count": null,
      "metadata": {
        "id": "9vAUDEUf4X1S"
      },
      "outputs": [],
      "source": [
        "from google.colab import drive\n",
        "drive.mount('/content/gdrive')"
      ]
    },
    {
      "cell_type": "code",
      "execution_count": null,
      "metadata": {
        "id": "2FiaOxxnWubg"
      },
      "outputs": [],
      "source": [
        "!git clone https://github.com/PiotrMaciejKowalski/BigData2022-actors.git\n",
        "!mv /content/BigData2022-actors/* .\n",
        "!mv /content/BigData2022-actors/.* .\n",
        "!rmdir /content/BigData2022-actors/"
      ]
    },
    {
      "cell_type": "code",
      "execution_count": null,
      "metadata": {
        "id": "kqTxirLuW044"
      },
      "outputs": [],
      "source": [
        "#!git checkout"
      ]
    },
    {
      "cell_type": "code",
      "execution_count": null,
      "metadata": {
        "id": "UxTbMYkeLrk6"
      },
      "outputs": [],
      "source": [
        "!chmod +x setup_sparka.sh\n",
        "!./setup_sparka.sh"
      ]
    },
    {
      "cell_type": "code",
      "execution_count": null,
      "metadata": {
        "id": "g_c507iBLsSW"
      },
      "outputs": [],
      "source": [
        "import pandas as pd\n",
        "from lib.pyspark_init import create_spark_context, load_data\n",
        "from lib.const import JOINED_DATA"
      ]
    },
    {
      "cell_type": "code",
      "execution_count": null,
      "metadata": {
        "id": "1rwBnBMwW88n"
      },
      "outputs": [],
      "source": [
        "spark = create_spark_context()\n",
        "spark"
      ]
    },
    {
      "cell_type": "code",
      "execution_count": null,
      "metadata": {
        "id": "SciXhN5JXONa"
      },
      "outputs": [],
      "source": [
        "!chmod +x download_data.sh\n",
        "!./download_data.sh"
      ]
    },
    {
      "cell_type": "code",
      "execution_count": null,
      "metadata": {
        "id": "skegmFMQXpcA"
      },
      "outputs": [],
      "source": [
        "%%time\n",
        "data = load_data(spark)\n",
        "data.show(3)"
      ]
    },
    {
      "cell_type": "code",
      "execution_count": null,
      "metadata": {
        "id": "MclMJsdy5k8N"
      },
      "outputs": [],
      "source": [
        "%%time\n",
        "data.write.parquet(JOINED_DATA)"
      ]
    }
  ],
  "metadata": {
    "colab": {
      "collapsed_sections": [
        "kgYZYlTutA0O",
        "or9x68JxXc10",
        "pPWxy5j_aEvo",
        "s-hzkKehxgnQ",
        "snoopt7lY71j"
      ],
      "provenance": [],
      "include_colab_link": true
    },
    "kernelspec": {
      "display_name": "bigdata",
      "language": "python",
      "name": "python3"
    },
    "language_info": {
      "name": "python",
      "version": "3.9.15 (main, Nov 24 2022, 14:39:17) [MSC v.1916 64 bit (AMD64)]"
    },
    "vscode": {
      "interpreter": {
        "hash": "48c979fd48180f5f4c9aae27132342c912c55525dbeac0351eaff5bcccb74635"
      }
    }
  },
  "nbformat": 4,
  "nbformat_minor": 0
}