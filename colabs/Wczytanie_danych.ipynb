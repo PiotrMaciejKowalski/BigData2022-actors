{
  "nbformat": 4,
  "nbformat_minor": 0,
  "metadata": {
    "colab": {
      "provenance": [],
      "collapsed_sections": [
        "kgYZYlTutA0O",
        "or9x68JxXc10",
        "pPWxy5j_aEvo",
        "s-hzkKehxgnQ",
        "snoopt7lY71j"
      ],
      "include_colab_link": true
    },
    "kernelspec": {
      "name": "python3",
      "display_name": "Python 3"
    },
    "language_info": {
      "name": "python"
    }
  },
  "cells": [
    {
      "cell_type": "markdown",
      "metadata": {
        "id": "view-in-github",
        "colab_type": "text"
      },
      "source": [
        "<a href=\"https://colab.research.google.com/github/PiotrMaciejKowalski/BigData2022-actors/blob/Poczenie-baz-danych-nagrd-z-main-data/colabs/Wczytanie_danych.ipynb\" target=\"_parent\"><img src=\"https://colab.research.google.com/assets/colab-badge.svg\" alt=\"Open In Colab\"/></a>"
      ]
    },
    {
      "cell_type": "markdown",
      "source": [
        "#Setup sparka"
      ],
      "metadata": {
        "id": "Vzb444kPW31g"
      }
    },
    {
      "cell_type": "markdown",
      "source": [
        "# Załadowanie nowych baz"
      ],
      "metadata": {
        "id": "tiwX_DUahRps"
      }
    },
    {
      "cell_type": "markdown",
      "source": [
        "##Setup sparka"
      ],
      "metadata": {
        "id": "Ny5PYKNbsHju"
      }
    },
    {
      "cell_type": "code",
      "source": [
        "!pip install pyspark py4j\n",
        "!pip install -q findspark\n",
        "!apt-get install openjdk-8-jdk-headless -qq > /dev/null\n",
        "!wget https://dlcdn.apache.org/spark/spark-3.3.1/spark-3.3.1-bin-hadoop2.tgz\n",
        "!tar xf spark-3.3.1-bin-hadoop2.tgz"
      ],
      "metadata": {
        "id": "UxTbMYkeLrk6"
      },
      "execution_count": null,
      "outputs": []
    },
    {
      "cell_type": "code",
      "source": [
        "import pyspark\n",
        "import findspark\n",
        "from pyspark.sql import SparkSession\n",
        "import os\n",
        "import pandas as pd\n",
        "from pyspark.sql.functions import split, explode, collect_list, first, array_distinct, min, max\n",
        "from google.colab import drive"
      ],
      "metadata": {
        "id": "g_c507iBLsSW"
      },
      "execution_count": null,
      "outputs": []
    },
    {
      "cell_type": "code",
      "source": [
        "os.environ[\"JAVA_HOME\"] = \"/usr/lib/jvm/java-8-openjdk-amd64\"\n",
        "os.environ[\"SPARK_HOME\"] = \"/content/spark-3.3.1-bin-hadoop2\"\n",
        "spark=SparkSession.builder.appName('Colab').getOrCreate()\n",
        "spark"
      ],
      "metadata": {
        "id": "1rwBnBMwW88n"
      },
      "execution_count": null,
      "outputs": []
    },
    {
      "cell_type": "markdown",
      "source": [
        "#Pobranie danych"
      ],
      "metadata": {
        "id": "p0l3OAblXJ2w"
      }
    },
    {
      "cell_type": "markdown",
      "source": [
        "##Import danych"
      ],
      "metadata": {
        "id": "kgYZYlTutA0O"
      }
    },
    {
      "cell_type": "code",
      "source": [
        "!wget https://datasets.imdbws.com/name.basics.tsv.gz\n",
        "!wget https://datasets.imdbws.com/title.akas.tsv.gz\n",
        "!wget https://datasets.imdbws.com/title.basics.tsv.gz\n",
        "!wget https://datasets.imdbws.com/title.crew.tsv.gz\n",
        "!wget https://datasets.imdbws.com/title.episode.tsv.gz\n",
        "!wget https://datasets.imdbws.com/title.principals.tsv.gz\n",
        "!wget https://datasets.imdbws.com/title.ratings.tsv.gz"
      ],
      "metadata": {
        "id": "SciXhN5JXONa"
      },
      "execution_count": null,
      "outputs": []
    },
    {
      "cell_type": "markdown",
      "source": [
        "##Rozpakowanie danych"
      ],
      "metadata": {
        "id": "or9x68JxXc10"
      }
    },
    {
      "cell_type": "code",
      "source": [
        "!gzip -dc /content/name.basics.tsv.gz > name.basics.csv\n",
        "!gzip -dc /content/title.akas.tsv.gz > title.akas.csv\n",
        "!gzip -dc /content/title.basics.tsv.gz > title.basic.csv\n",
        "!gzip -dc /content/title.crew.tsv.gz > title.crew.csv\n",
        "!gzip -dc /content/title.episode.tsv.gz > title.episode.csv\n",
        "!gzip -dc /content/title.principals.tsv.gz > title.principals.csv\n",
        "!gzip -dc /content/title.ratings.tsv.gz > title.ratings.csv"
      ],
      "metadata": {
        "id": "IpXAjtV4XeKx"
      },
      "execution_count": null,
      "outputs": []
    },
    {
      "cell_type": "markdown",
      "source": [
        "#Wczytanie danych"
      ],
      "metadata": {
        "id": "pPWxy5j_aEvo"
      }
    },
    {
      "cell_type": "markdown",
      "source": [
        "##Wczytajmy dane z rozpakowanych plików"
      ],
      "metadata": {
        "id": "s-hzkKehxgnQ"
      }
    },
    {
      "cell_type": "code",
      "source": [
        "df_name_basics=spark.read.option(\"header\", \"true\").option(\"delimiter\", \"\\t\").csv('name.basics.csv' ) \n",
        "df_title_akas=spark.read.option(\"header\",\"true\").option(\"delimiter\", \"\\t\").csv('title.akas.csv')\n",
        "df_title_basic=spark.read.option(\"header\",\"true\").option(\"delimiter\", \"\\t\").csv('title.basic.csv')\n",
        "df_title_crew=spark.read.option(\"header\",\"true\").option(\"delimiter\", \"\\t\").csv('title.crew.csv')\n",
        "df_title_episode=spark.read.option(\"header\",\"true\").option(\"delimiter\",\"\\t\").csv('title.episode.csv')\n",
        "df_title_principals=spark.read.option(\"header\",\"true\").option(\"delimiter\",\"\\t\").csv('title.principals.csv')\n",
        "df_title_ratings=spark.read.option(\"header\",\"true\").option(\"delimiter\",\"\\t\").csv('title.ratings.csv')"
      ],
      "metadata": {
        "id": "skegmFMQXpcA"
      },
      "execution_count": null,
      "outputs": []
    },
    {
      "cell_type": "markdown",
      "source": [
        "##Wyświetlmy dane"
      ],
      "metadata": {
        "id": "snoopt7lY71j"
      }
    },
    {
      "cell_type": "code",
      "source": [
        "df_name_basics.show(3)\n",
        "df_title_akas.show(3)\n",
        "df_title_basic.show(3)\n",
        "df_title_crew.show(3)\n",
        "df_title_episode.show(3)\n",
        "df_title_principals.show(3)\n",
        "df_title_ratings.show(3)"
      ],
      "metadata": {
        "id": "BQItTCh9ZBht"
      },
      "execution_count": null,
      "outputs": []
    },
    {
      "cell_type": "markdown",
      "source": [
        "# Złączenie istotnych kolumn"
      ],
      "metadata": {
        "id": "ZZb5i_RrA-yP"
      }
    },
    {
      "cell_type": "markdown",
      "source": [
        "## Wybierzmy z tabel tylko istotne rekordy:\n",
        "- df_title_basic: wybierzmy tylko rekordy z primaryProfession zawierającym \"actor\" lub \"actress\",\n",
        "- df_title_principals: wybierzmy rekordy z category zawierającym \"actor\" lub \"actress\"."
      ],
      "metadata": {
        "id": "NKMlZ82RMD6M"
      }
    },
    {
      "cell_type": "code",
      "source": [
        "df_name_basics_selected = df_name_basics.filter(\"primaryProfession like '%actor%' or primaryProfession like '%actress%'\")\n",
        "df_title_principals_selected = df_title_principals.filter((df_title_principals.category == \"actor\") | (df_title_principals.category == \"actress\"))"
      ],
      "metadata": {
        "id": "31ldGYZGMFGQ"
      },
      "execution_count": null,
      "outputs": []
    },
    {
      "cell_type": "markdown",
      "source": [
        "## Wybierzmy następujące kolumny z tabel:\n",
        "- df_title_basic:\n",
        "  - tconst (unikalny numer tytułu - potrzebne do złączenia tabel)\n",
        "  - titleType (rodzaj tytułu, np. film, serial - można porównywać podobieństwo aktorów na podstawie tego w jakich typach produkcji grali)\n",
        "  - originalTitle (tytuł produkcji - być może przyda się do analizy podobnych filmów)\n",
        "  - isAdult (czy produkcja jest dla dorosłych - można wykorzystać do porównywania aktorów na podstawie tego czy grają głównie w produkcjach dla dorosłych)\n",
        "  - startYear (data wypuszczenia produkcji - można wykorzystać do porównania epok filmów, w których grali aktorzy)\n",
        "  - endYear (data zakończenia serii, w innych przypadkach \\N - można wykorzystać do porównania epok filmów, w których grali aktorzy)\n",
        "  - genres (gatunki - może posłużyć do porównania aktorów na podstawie tego, że grali w produkcjach o podobnych gatunkach)\n",
        "\n",
        "- df_title_principals:\n",
        "  - tconst (unikalny numer tytułu - potrzebne do złączenia tabel)\n",
        "  - nconst (unikalny numer aktora - potrzebne do złączenia tabel)\n",
        "  - category (kategoria pracy (actor/actress) - może posłużyć do porównania aktorów na podstawie takiej samej płci)\n",
        "  - characters (postacie zagrane w produkcji - może posłużyć do porównania aktorów na podstawie podobnych granych postaci)\n",
        "\n",
        "- df_name_basics:\n",
        "  - nconst(unikalny numer aktora - potrzebne do złączenia tabel)\n",
        "  - primaryName (imię i nazwisko aktora - potrzebne do wyświetlania aktora lub do odnajdywania go w bazie po imieniu i nazwisku)\n",
        "  - knownForTitles (tytuły produkcji, z których znany jest aktor - może posłużyć do porównania aktorów na podstawie tych samych lub podobnych produkcji, z których są znani)"
      ],
      "metadata": {
        "id": "MGd5Hi-VBF9h"
      }
    },
    {
      "cell_type": "code",
      "source": [
        "df_title_basic_selected = df_title_basic.select([\"tconst\", \"titleType\", \"originalTitle\", \"isAdult\", \"startYear\", \"endYear\", \"genres\"])\n",
        "df_title_principals_selected = df_title_principals_selected.select([\"tconst\", \"nconst\", \"category\", \"characters\"])\n",
        "df_name_basics_selected = df_name_basics_selected.select([\"nconst\", \"primaryName\", \"knownForTitles\"])"
      ],
      "metadata": {
        "id": "OKWe9JSKBC5q"
      },
      "execution_count": null,
      "outputs": []
    },
    {
      "cell_type": "markdown",
      "source": [
        "# Złączmy tabele df_name_basics, df_title_principals i df_title_basic"
      ],
      "metadata": {
        "id": "eMIHo59PBNtx"
      }
    },
    {
      "cell_type": "code",
      "source": [
        "print(\"df_name_basics_selected dataframe size: \", (df_name_basics_selected.count(), len(df_name_basics_selected.columns)))\n",
        "print(\"df_title_principals_selected dataframe size: \", (df_title_principals_selected.count(), len(df_title_principals_selected.columns)))\n",
        "print(\"df_title_basic_selected dataframe size: \", (df_title_basic_selected.count(), len(df_title_basic_selected.columns)))\n",
        "data = df_title_basic_selected.join(df_title_principals_selected, \"tconst\", \"right\")\n",
        "print(\"joined dataframe size: \", (data.count(), len(data.columns)))\n",
        "data = data.join(df_name_basics_selected, \"nconst\", \"inner\")\n",
        "print(\"joined dataframe size: \", (data.count(), len(data.columns)))"
      ],
      "metadata": {
        "id": "zMqqAJ7zBJWL"
      },
      "execution_count": null,
      "outputs": []
    },
    {
      "cell_type": "markdown",
      "source": [
        "## Łączymy dane na temat jednego aktora w jeden rekord"
      ],
      "metadata": {
        "id": "Jbn8MLa0uXxM"
      }
    },
    {
      "cell_type": "code",
      "source": [
        "data = data.groupby('nconst').agg(collect_list('tconst').alias(\"tconst\"), collect_list('titleType').alias(\"titleType\"), collect_list('originalTitle').alias(\"originalTitle\"), collect_list('isAdult').alias(\"isAdult\"), min('startYear').alias(\"startYear\"), max('endYear').alias(\"endYear\"), collect_list('genres').alias(\"genres\"), first('category').alias(\"category\"), collect_list('characters').alias(\"characters\"), first('primaryName').alias(\"primaryName\"), first('knownForTitles').alias(\"knownForTitles\"))\n"
      ],
      "metadata": {
        "id": "eIYJsIOKVg5k"
      },
      "execution_count": null,
      "outputs": []
    },
    {
      "cell_type": "markdown",
      "source": [
        "## Łączymy dane na temat jednego aktora w jeden rekord"
      ],
      "metadata": {
        "id": "Jbn8MLa0uXxM"
      }
    },
    {
      "cell_type": "code",
      "source": [
        "data = data.groupby('nconst').agg(collect_list('tconst').alias(\"tconst\"), collect_list('titleType').alias(\"titleType\"), collect_list('originalTitle').alias(\"originalTitle\"), collect_list('isAdult').alias(\"isAdult\"), min('startYear').alias(\"startYear\"), max('endYear').alias(\"endYear\"), collect_list('genres').alias(\"genres\"), first('category').alias(\"category\"), collect_list('characters').alias(\"characters\"), first('primaryName').alias(\"primaryName\"), first('knownForTitles').alias(\"knownForTitles\"))\n"
      ],
      "metadata": {
        "id": "eIYJsIOKVg5k"
      },
      "execution_count": null,
      "outputs": []
    },
    {
      "cell_type": "markdown",
      "source": [
        "# Wybierzmy przykładowe wiersze z końcowego dataframe'u"
      ],
      "metadata": {
        "id": "hKXuX-JdE9ED"
      }
    },
    {
      "cell_type": "code",
      "source": [
        "sample = data.rdd.takeSample(False, 5)"
      ],
      "metadata": {
        "id": "bH43D49EE84F"
      },
      "execution_count": null,
      "outputs": []
    },
    {
      "cell_type": "code",
      "source": [
        "sample = pd.DataFrame(sample, columns = data.columns)\n",
        "sample"
      ],
      "metadata": {
        "id": "kW8-_TXYLo10",
        "colab": {
          "base_uri": "https://localhost:8080/"
        },
        "outputId": "765471aa-b833-4fe3-8154-0c2682780c7c"
      },
      "execution_count": null,
      "outputs": []
    },
    {
      "cell_type": "markdown",
      "source": [
        "# Załadowanie nowych baz\n",
        "\n",
        "   **W celu załadowania nowych danych należy:**\n",
        "\n",
        "\n",
        "1. Pobrać token API:\n",
        "  * Zalogować się na stronę *www.kaggle.com*\n",
        "  * Kliknąć \"Account\"\n",
        "  * Znaleźć zakładkę API i nacisnąć przycisk \"*Create New API Token*\" - w tym miejscu pobierany jest plik *kaggle.json* - API\n",
        "2. Utworzyć plik na swoim dysku pod nazwą \"Big Data\"\n",
        "3. Wrzucić pobrane API (plik *kaggle.json*) na swój dysk\n",
        "4. Uruchomić kod! :)\n",
        "\n",
        "\n"
      ],
      "metadata": {
        "id": "bfRM2_2Lcdoi"
      }
    },
    {
      "cell_type": "markdown",
      "source": [
        "## Wczytajmy bazę oskarów: \"Best Movies Watchlist\"\n"
      ],
      "metadata": {
        "id": "ybdfEcrqRZ0s"
      }
    },
    {
      "cell_type": "code",
      "source": [
        "drive.mount('/content/gdrive')\n",
        "os.environ['KAGGLE_CONFIG_DIR'] = \"/content/gdrive/MyDrive/Big Data\""
      ],
      "metadata": {
        "id": "x6UtikJb8Ta-",
        "colab": {
          "base_uri": "https://localhost:8080/"
        },
        "outputId": "d91c9330-40c5-4425-ed6b-536e1dc082ae"
      },
      "execution_count": null,
      "outputs": [
        {
          "output_type": "stream",
          "name": "stdout",
          "text": [
            "Mounted at /content/gdrive\n"
          ]
        }
      ]
    },
    {
      "cell_type": "code",
      "source": [
        "! pip install kaggle\n",
        "! mkdir ~/.kaggle \n",
        "! cp kaggle.json ~/.kaggle/\n",
        "! chmod 600 ~/.kaggle/kaggle.json"
      ],
      "metadata": {
        "id": "F0Jbvbu9Usce",
        "colab": {
          "base_uri": "https://localhost:8080/"
        },
        "outputId": "e35c5ae9-633f-46dc-d4dd-2a7a50870f2a"
      },
      "execution_count": null,
      "outputs": [
        {
          "output_type": "stream",
          "name": "stdout",
          "text": [
            "Looking in indexes: https://pypi.org/simple, https://us-python.pkg.dev/colab-wheels/public/simple/\n",
            "Requirement already satisfied: kaggle in /usr/local/lib/python3.8/dist-packages (1.5.12)\n",
            "Requirement already satisfied: tqdm in /usr/local/lib/python3.8/dist-packages (from kaggle) (4.64.1)\n",
            "Requirement already satisfied: urllib3 in /usr/local/lib/python3.8/dist-packages (from kaggle) (1.24.3)\n",
            "Requirement already satisfied: certifi in /usr/local/lib/python3.8/dist-packages (from kaggle) (2022.9.24)\n",
            "Requirement already satisfied: python-dateutil in /usr/local/lib/python3.8/dist-packages (from kaggle) (2.8.2)\n",
            "Requirement already satisfied: requests in /usr/local/lib/python3.8/dist-packages (from kaggle) (2.23.0)\n",
            "Requirement already satisfied: six>=1.10 in /usr/local/lib/python3.8/dist-packages (from kaggle) (1.15.0)\n",
            "Requirement already satisfied: python-slugify in /usr/local/lib/python3.8/dist-packages (from kaggle) (7.0.0)\n",
            "Requirement already satisfied: text-unidecode>=1.3 in /usr/local/lib/python3.8/dist-packages (from python-slugify->kaggle) (1.3)\n",
            "Requirement already satisfied: idna<3,>=2.5 in /usr/local/lib/python3.8/dist-packages (from requests->kaggle) (2.10)\n",
            "Requirement already satisfied: chardet<4,>=3.0.2 in /usr/local/lib/python3.8/dist-packages (from requests->kaggle) (3.0.4)\n",
            "cp: cannot stat 'kaggle.json': No such file or directory\n",
            "chmod: cannot access '/root/.kaggle/kaggle.json': No such file or directory\n"
          ]
        }
      ]
    },
    {
      "cell_type": "code",
      "source": [
        "! kaggle datasets download unanimad/the-oscar-award #załadujmy dane\n",
        "! unzip the-oscar-award.zip #rozpakujmy z zip'a\n",
        "oscars=spark.read.option(\"header\",\"true\").csv('the_oscar_award.csv')\n",
        "oscars.show(5)\n"
      ],
      "metadata": {
        "id": "V8YLBAdzRiNF",
        "colab": {
          "base_uri": "https://localhost:8080/"
        },
        "outputId": "8cae0373-8574-4e6c-cbeb-0caf55fc96af"
      },
      "execution_count": null,
      "outputs": [
        {
          "output_type": "stream",
          "name": "stdout",
          "text": [
            "Downloading the-oscar-award.zip to /content\n",
            "\r  0% 0.00/191k [00:00<?, ?B/s]\n",
            "\r100% 191k/191k [00:00<00:00, 11.4MB/s]\n",
            "Archive:  the-oscar-award.zip\n",
            "  inflating: the_oscar_award.csv     \n",
            "+---------+-------------+--------+--------+-------------------+----------------+------+\n",
            "|year_film|year_ceremony|ceremony|category|               name|            film|winner|\n",
            "+---------+-------------+--------+--------+-------------------+----------------+------+\n",
            "|     1927|         1928|       1|   ACTOR|Richard Barthelmess|       The Noose| False|\n",
            "|     1927|         1928|       1|   ACTOR|      Emil Jannings|The Last Command|  True|\n",
            "|     1927|         1928|       1| ACTRESS|     Louise Dresser| A Ship Comes In| False|\n",
            "|     1927|         1928|       1| ACTRESS|       Janet Gaynor|      7th Heaven|  True|\n",
            "|     1927|         1928|       1| ACTRESS|     Gloria Swanson|  Sadie Thompson| False|\n",
            "+---------+-------------+--------+--------+-------------------+----------------+------+\n",
            "only showing top 5 rows\n",
            "\n"
          ]
        }
      ]
    },
    {
      "cell_type": "markdown",
      "source": [
        "Main Data:\n",
        "* primaryName\t- aktor\n",
        "* originalTitle - nazwa filmu\n",
        "\n",
        "W nowej bazie oskarów:\n",
        "* name - aktor\n",
        "* film - film"
      ],
      "metadata": {
        "id": "mwsXXYSiYlGz"
      }
    },
    {
      "cell_type": "markdown",
      "source": [
        "## Wczytajmy bazę złotych globów: \"Golden Globe Awards, 1944 - 2020\""
      ],
      "metadata": {
        "id": "t5pYLeWGYf2D"
      }
    },
    {
      "cell_type": "code",
      "source": [
        "! kaggle datasets download unanimad/golden-globe-awards\n",
        "! unzip golden-globe-awards.zip\n",
        "globe=spark.read.option(\"header\",\"true\").csv('golden_globe_awards.csv')\n",
        "globe.show(5)"
      ],
      "metadata": {
        "id": "zYqmIPFfZc1O",
        "colab": {
          "base_uri": "https://localhost:8080/"
        },
        "outputId": "610798a6-8ef2-456a-c87f-6c56b8c7ae71"
      },
      "execution_count": null,
      "outputs": [
        {
          "output_type": "stream",
          "name": "stdout",
          "text": [
            "Downloading golden-globe-awards.zip to /content\n",
            "\r  0% 0.00/117k [00:00<?, ?B/s]\n",
            "\r100% 117k/117k [00:00<00:00, 41.7MB/s]\n",
            "Archive:  golden-globe-awards.zip\n",
            "  inflating: golden_globe_awards.csv  \n",
            "+---------+----------+--------+--------------------+--------------------+--------------------+----+\n",
            "|year_film|year_award|ceremony|            category|             nominee|                film| win|\n",
            "+---------+----------+--------+--------------------+--------------------+--------------------+----+\n",
            "|     1943|      1944|       1|Best Performance ...|      Katina Paxinou|For Whom The Bell...|True|\n",
            "|     1943|      1944|       1|Best Performance ...|       Akim Tamiroff|For Whom The Bell...|True|\n",
            "|     1943|      1944|       1|Best Director - M...|          Henry King|The Song Of Berna...|True|\n",
            "|     1943|      1944|       1|             Picture|The Song Of Berna...|                null|True|\n",
            "|     1943|      1944|       1|Actress In A Lead...|      Jennifer Jones|The Song Of Berna...|True|\n",
            "+---------+----------+--------+--------------------+--------------------+--------------------+----+\n",
            "only showing top 5 rows\n",
            "\n"
          ]
        }
      ]
    },
    {
      "cell_type": "markdown",
      "source": [
        "## Wczytajmy bazę złotych globów: \"Primetime Emmy Awards, 1949-2017\""
      ],
      "metadata": {
        "id": "bdL30IZKguHx"
      }
    },
    {
      "cell_type": "code",
      "source": [
        "! kaggle datasets download unanimad/emmy-awards\n",
        "! unzip emmy-awards.zip \n",
        "emmy_awards_category=spark.read.option(\"header\",\"true\").csv('emmy_awards_categories.csv')\n",
        "emmy_awards_category.show(5)\n"
      ],
      "metadata": {
        "id": "5zQSh_Vjb-pB",
        "colab": {
          "base_uri": "https://localhost:8080/"
        },
        "outputId": "7fd73b3a-9677-4325-cbc4-69d82edf374b"
      },
      "execution_count": null,
      "outputs": [
        {
          "output_type": "stream",
          "name": "stdout",
          "text": [
            "Downloading emmy-awards.zip to /content\n",
            "\r  0% 0.00/904k [00:00<?, ?B/s]\n",
            "\r100% 904k/904k [00:00<00:00, 45.2MB/s]\n",
            "Archive:  emmy-awards.zip\n",
            "  inflating: emmy_awards_categories.csv  \n",
            "  inflating: the_emmy_awards.csv     \n",
            "+------------------+--------+----+\n",
            "|              name|category|role|\n",
            "+------------------+--------+----+\n",
            "|     Comedy Series|  Comedy|main|\n",
            "|        Lead Actor|  Comedy|main|\n",
            "|      Lead Actress|  Comedy|main|\n",
            "|  Supporting Actor|  Comedy|main|\n",
            "|Supporting Actress|  Comedy|main|\n",
            "+------------------+--------+----+\n",
            "only showing top 5 rows\n",
            "\n"
          ]
        }
      ]
    },
    {
      "cell_type": "code",
      "source": [
        "emmy_awards=spark.read.option(\"header\",\"true\").csv('the_emmy_awards.csv')\n",
        "emmy_awards.show(5)"
      ],
      "metadata": {
        "id": "wbFwUlrOES85",
        "colab": {
          "base_uri": "https://localhost:8080/"
        },
        "outputId": "1faa66dd-f4c3-4f32-ef32-74a819795f81"
      },
      "execution_count": null,
      "outputs": [
        {
          "output_type": "stream",
          "name": "stdout",
          "text": [
            "+---+----+--------------------+--------------------+--------------------+--------+--------------------+-----+\n",
            "| id|year|            category|             nominee|               staff| company|            producer|  win|\n",
            "+---+----+--------------------+--------------------+--------------------+--------+--------------------+-----+\n",
            "|  1|2019|Outstanding Chara...|        The Simpsons|Hank Azaria, as M...|     FOX|Gracie Films in a...|False|\n",
            "|  2|2019|Outstanding Chara...|          Family Guy|Alex Borstein, as...|     FOX|20th Century Fox ...|False|\n",
            "|  3|2019|Outstanding Chara...|When You Wish Upo...|Eric Jacobson, as...|     HBO|Sesame Street Wor...|False|\n",
            "|  4|2019|Outstanding Chara...|     F Is For Family|Kevin Michael Ric...| Netflix|Wild West Televis...|False|\n",
            "|  5|2019|Outstanding Produ...| Escape At Dannemora|Mark Ricker, Prod...|Showtime|Red Hour, Busyhan...|False|\n",
            "+---+----+--------------------+--------------------+--------------------+--------+--------------------+-----+\n",
            "only showing top 5 rows\n",
            "\n"
          ]
        }
      ]
    },
    {
      "cell_type": "markdown",
      "source": [
        "## Zaczytanie danych TMDB \n",
        "\n",
        "   informacje o aktorach i osobach pracujących przy produkcji filmów oraz budżetach, gatunkach, popularności, wytwórniach filmowych, oryginalnyh językach i tytułach\n"
      ],
      "metadata": {
        "id": "YCo8ZbWkNYa3"
      }
    },
    {
      "cell_type": "code",
      "source": [
        "! kaggle datasets download tmdb/tmdb-movie-metadata\n",
        "! unzip tmdb-movie-metadata.zip\n",
        "tmdb_credits=spark.read.option(\"header\",\"true\").csv('tmdb_5000_credits.csv')\n",
        "tmdb_movies=spark.read.option(\"header\",\"true\").csv('tmdb_5000_movies.csv')"
      ],
      "metadata": {
        "id": "4mYC88isckMI",
        "colab": {
          "base_uri": "https://localhost:8080/"
        },
        "outputId": "5238dd39-5b6f-4af4-90e2-9db80249a080"
      },
      "execution_count": null,
      "outputs": [
        {
          "output_type": "stream",
          "name": "stdout",
          "text": [
            "Downloading tmdb-movie-metadata.zip to /content\n",
            "\r  0% 0.00/8.89M [00:00<?, ?B/s]\r 56% 5.00M/8.89M [00:00<00:00, 29.8MB/s]\n",
            "\r100% 8.89M/8.89M [00:00<00:00, 46.4MB/s]\n",
            "Archive:  tmdb-movie-metadata.zip\n",
            "  inflating: tmdb_5000_credits.csv   \n",
            "  inflating: tmdb_5000_movies.csv    \n"
          ]
        }
      ]
    },
    {
      "cell_type": "code",
      "source": [
        "tmdb_credits.show(5)"
      ],
      "metadata": {
        "id": "TxFl3Oc-t4iO",
        "colab": {
          "base_uri": "https://localhost:8080/"
        },
        "outputId": "1382b300-9552-40f7-ac33-51c0368e5865"
      },
      "execution_count": null,
      "outputs": [
        {
          "output_type": "stream",
          "name": "stdout",
          "text": [
            "+--------+--------------------+-------------------+--------------------+\n",
            "|movie_id|               title|               cast|                crew|\n",
            "+--------+--------------------+-------------------+--------------------+\n",
            "|   19995|              Avatar|\"[{\"\"cast_id\"\": 242| \"\"character\"\": \"...|\n",
            "|     285|Pirates of the Ca...|  \"[{\"\"cast_id\"\": 4| \"\"character\"\": \"...|\n",
            "|  206647|             Spectre|  \"[{\"\"cast_id\"\": 1| \"\"character\"\": \"...|\n",
            "|   49026|The Dark Knight R...|  \"[{\"\"cast_id\"\": 2| \"\"character\"\": \"...|\n",
            "|   49529|         John Carter|  \"[{\"\"cast_id\"\": 5| \"\"character\"\": \"...|\n",
            "+--------+--------------------+-------------------+--------------------+\n",
            "only showing top 5 rows\n",
            "\n"
          ]
        }
      ]
    },
    {
      "cell_type": "code",
      "source": [
        "tmdb_movies.show(5)"
      ],
      "metadata": {
        "id": "0tzNS-h6whRr"
      },
      "execution_count": null,
      "outputs": []
    },
    {
      "cell_type": "markdown",
      "source": [
        "# Połączmy dane na temat nagród z głównymi danymi"
      ],
      "metadata": {
        "id": "ZddcxS8Qs3rs"
      }
    },
    {
      "cell_type": "markdown",
      "source": [
        "Wybierzmy tylko rekordy z interesujących nas kategorii"
      ],
      "metadata": {
        "id": "UpOpwIgb6STf"
      }
    },
    {
      "cell_type": "code",
      "source": [
        "oscars_selected = oscars.filter((oscars.category.like('%ACTOR%')) | (oscars.category.like('%ACTRESS%')))\n",
        "globe_selected = globe.filter((globe.category.like('%Actor%')) | (globe.category.like('%Actress%')))"
      ],
      "metadata": {
        "id": "M-Cr8FMHutgF"
      },
      "execution_count": null,
      "outputs": []
    },
    {
      "cell_type": "code",
      "source": [
        "actor_categories = ['Outstanding Lead Actor in a Comedy Series', 'Outstanding Lead Actor in a Drama Series', 'Outstanding Lead Actor in a Limited or Anthology Series or Movie', 'Outstanding Lead Actress in a Comedy Series', 'Outstanding Lead Actress in a Drama Series', 'Outstanding Lead Actress in a Limited or Anthology Series or Movie', 'Outstanding Supporting Actor in a Comedy Series', 'Outstanding Supporting Actor in a Drama Series', 'Outstanding Supporting Actor in a Limited or Anthology Series or Movie', 'Outstanding Supporting Actress in a Comedy Series', 'Outstanding Supporting Actress in a Drama Series', 'Outstanding Supporting Actress in a Limited or Anthology Series or Movie', 'Outstanding Character Voice-Over Performance', 'Outstanding Guest Actor in a Drama Series', 'Outstanding Guest Actor in a Comedy Series', 'Outstanding Guest Actress in a Drama Series', 'Outstanding Guest Actress in a Comedy Series', 'Outstanding Narrator', 'Outstanding Actor in a Short Form Comedy or Drama Series', 'Outstanding Actress in a Short Form Comedy or Drama Series', 'Best Specialty Act – Single or Group', 'Outstanding Voice-Over Performance', 'Outstanding Sports Personality', 'Most Outstanding Live Personality', 'Most Outstanding Kinescoped Personality']\n",
        "emmy_awards_selected = emmy_awards.filter(emmy_awards.category.isin(actor_categories))"
      ],
      "metadata": {
        "id": "Q9F_6I-5vbrG"
      },
      "execution_count": null,
      "outputs": []
    },
    {
      "cell_type": "markdown",
      "source": [
        "Przygotujmy dane z tabeli emmy_awards_selected do połączenia (wybieramy tylko imię i nazwisko aktora z kolumny staff)"
      ],
      "metadata": {
        "id": "wGanPbjQ6Zag"
      }
    },
    {
      "cell_type": "code",
      "source": [
        "emmy_awards_selected = emmy_awards_selected.withColumn('staff',explode(split('staff',', ')))\n",
        "emmy_awards_selected = emmy_awards_selected.groupby('nominee', 'staff').agg(first('id').alias('id'), first('year').alias('year'), first('category').alias('category'), first('nominee').alias('nominee'), first('staff').alias('staff'), first('company').alias('company'), first('producer').alias('producer'), first('win').alias('win'))"
      ],
      "metadata": {
        "id": "QqDJ2N6mvGOI"
      },
      "execution_count": null,
      "outputs": []
    },
    {
      "cell_type": "markdown",
      "source": [
        "Wybierzmy tylko kolumny, które nas interesują z danych na temat nagród"
      ],
      "metadata": {
        "id": "iuLLzZU46ugk"
      }
    },
    {
      "cell_type": "code",
      "source": [
        "oscars_selected = oscars.select([\"year_ceremony\", \"category\", \"name\", \"film\", \"winner\"])\n",
        "globe_selected = globe.select([\"year_award\", \"category\", \"nominee\", \"film\", \"win\"])\n",
        "emmy_awards_selected = emmy_awards.select([\"year\", \"category\", \"nominee\", \"staff\", \"company\", \"producer\", \"win\"])"
      ],
      "metadata": {
        "id": "-EKRLoDmuEdC"
      },
      "execution_count": null,
      "outputs": []
    },
    {
      "cell_type": "markdown",
      "source": [
        "Zmieńmy nazwy kolumn, aby wiadomo było po połączeniu, któe dane odnoszą się do których nagród"
      ],
      "metadata": {
        "id": "NmdJiD0n60Ns"
      }
    },
    {
      "cell_type": "code",
      "source": [
        "oscars_selected = oscars_selected.withColumnRenamed(\"year_ceremony\",\"year_oscars\").withColumnRenamed(\"category\",\"category_oscars\").withColumnRenamed(\"film\",\"film_oscars\").withColumnRenamed(\"winner\",\"winner_oscars\")\n",
        "\n",
        "globe_selected = globe_selected.withColumnRenamed(\"year_award\",\"year_globes\").withColumnRenamed(\"category\",\"category_globes\").withColumnRenamed(\"film\",\"film_globes\").withColumnRenamed(\"win\",\"win_globes\")\n",
        "\n",
        "emmy_awards_selected = emmy_awards_selected.withColumnRenamed(\"year\",\"year_emmy\").withColumnRenamed(\"category\",\"category_emmy\").withColumnRenamed(\"nominee\",\"nominee_emmy\").withColumnRenamed(\"company\",\"company_emmy\").withColumnRenamed(\"producer\",\"producer_emmy\").withColumnRenamed(\"win\",\"win_emmy\")"
      ],
      "metadata": {
        "id": "ePSjnpCmtlBw"
      },
      "execution_count": null,
      "outputs": []
    },
    {
      "cell_type": "markdown",
      "source": [
        "Złączmy dane dotyczące nagród z głównymi danymi"
      ],
      "metadata": {
        "id": "Go0nk2K66-U7"
      }
    },
    {
      "cell_type": "code",
      "source": [
        "print(\"data dataframe size: \", (data.count(), len(data.columns)))\n",
        "print(\"oscars_selected dataframe size: \", (oscars_selected.count(), len(oscars_selected.columns)))\n",
        "print(\"globe_selected dataframe size: \", (globe_selected.count(), len(globe_selected.columns)))\n",
        "print(\"emmy_awards_selected dataframe size: \", (emmy_awards_selected.count(), len(emmy_awards_selected.columns)))\n",
        "data = data.join(oscars_selected, data.primaryName == oscars_selected.name, \"left\")\n",
        "print(\"joined dataframe size: \", (data.count(), len(data.columns)))\n",
        "data = data.join(globe_selected, data.primaryName == globe_selected.nominee, \"left\")\n",
        "print(\"joined dataframe size: \", (data.count(), len(data.columns)))\n",
        "data = data.join(emmy_awards_selected, data.primaryName == emmy_awards_selected.staff, \"left\")\n",
        "print(\"joined dataframe size: \", (data.count(), len(data.columns)))"
      ],
      "metadata": {
        "id": "8Fex-lA_szpd"
      },
      "execution_count": null,
      "outputs": []
    },
    {
      "cell_type": "code",
      "source": [
        "data = data.groupby('nconst').agg(first('tconst').alias(\"tconst\"), first('titleType').alias(\"titleType\"), first('originalTitle').alias(\"originalTitle\"), first('isAdult').alias(\"isAdult\"), first('startYear').alias(\"startYear\"), first('endYear').alias(\"endYear\"), first('genres').alias(\"genres\"), first('category').alias(\"category\"), first('characters').alias(\"characters\"), first('primaryName').alias(\"primaryName\"), first('knownForTitles').alias(\"knownForTitles\"), collect_list('year_oscars').alias(\"year_oscars\"), collect_list('category_oscars').alias(\"category_oscars\"), collect_list('film_oscars').alias(\"film_oscars\"), collect_list('winner_oscars').alias(\"winner_oscars\"), collect_list('year_globes').alias(\"year_globes\"), collect_list('category_globes').alias(\"category_globes\"), collect_list('film_globes').alias(\"film_globes\"), collect_list('win_globes').alias(\"win_globes\"), collect_list('year_emmy').alias(\"year_emmy\"), collect_list('category_emmy').alias(\"category_emmy\"), collect_list('nominee_emmy').alias(\"nominee_emmy\"), collect_list('company_emmy').alias(\"company_emmy\"), collect_list('producer_emmy').alias(\"producer_emmy\"), collect_list('win_emmy').alias(\"win_emmy\"))"
      ],
      "metadata": {
        "id": "otH8qLYFvA_b"
      },
      "execution_count": null,
      "outputs": []
    },
    {
      "cell_type": "markdown",
      "source": [
        "Pokażmy kilka przykłądowych wierszy ostatecznej tabeli"
      ],
      "metadata": {
        "id": "tTFxcetO7DRf"
      }
    },
    {
      "cell_type": "code",
      "source": [
        "sample = data.rdd.takeSample(False, 5)"
      ],
      "metadata": {
        "id": "tLXyB22Q6Jm0"
      },
      "execution_count": null,
      "outputs": []
    },
    {
      "cell_type": "code",
      "source": [
        "sample = pd.DataFrame(sample, columns = data.columns)\n",
        "sample"
      ],
      "metadata": {
        "id": "OUbWzFL46N96"
      },
      "execution_count": null,
      "outputs": []
    }
  ]
}