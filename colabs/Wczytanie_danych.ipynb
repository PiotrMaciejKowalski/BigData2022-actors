{
  "nbformat": 4,
  "nbformat_minor": 0,
  "metadata": {
    "colab": {
      "provenance": [],
      "collapsed_sections": [
        "kgYZYlTutA0O",
        "or9x68JxXc10",
        "pPWxy5j_aEvo",
        "s-hzkKehxgnQ",
        "snoopt7lY71j"
      ],
      "include_colab_link": true
    },
    "kernelspec": {
      "name": "python3",
      "display_name": "Python 3"
    },
    "language_info": {
      "name": "python"
    }
  },
  "cells": [
    {
      "cell_type": "markdown",
      "metadata": {
        "id": "view-in-github",
        "colab_type": "text"
      },
      "source": [
        "<a href=\"https://colab.research.google.com/github/PiotrMaciejKowalski/BigData2022-actors/blob/Dodanie-dat-filmw/colabs/Wczytanie_danych.ipynb\" target=\"_parent\"><img src=\"https://colab.research.google.com/assets/colab-badge.svg\" alt=\"Open In Colab\"/></a>"
      ]
    },
    {
      "cell_type": "markdown",
      "source": [
        "#Setup sparka"
      ],
      "metadata": {
        "id": "Vzb444kPW31g"
      }
    },
    {
      "cell_type": "markdown",
      "source": [
        "##Setup sparka"
      ],
      "metadata": {
        "id": "Ny5PYKNbsHju"
      }
    },
    {
      "cell_type": "code",
      "source": [
        "!pip install pyspark py4j\n",
        "!pip install -q findspark\n",
        "!apt-get install openjdk-8-jdk-headless -qq > /dev/null\n",
        "!wget ftp://ftp.ps.pl/pub/apache/spark/spark-3.3.1/spark-3.3.1-bin-hadoop2.tgz\n",
        "!tar xf spark-3.3.1-bin-hadoop2.tgz"
      ],
      "metadata": {
        "colab": {
          "base_uri": "https://localhost:8080/"
        },
        "id": "UxTbMYkeLrk6",
        "outputId": "622790a4-a698-4e0e-a4ac-7741e7c2aaf3"
      },
      "execution_count": 11,
      "outputs": [
        {
          "output_type": "stream",
          "name": "stdout",
          "text": [
            "Looking in indexes: https://pypi.org/simple, https://us-python.pkg.dev/colab-wheels/public/simple/\n",
            "Requirement already satisfied: pyspark in /usr/local/lib/python3.7/dist-packages (3.3.1)\n",
            "Requirement already satisfied: py4j in /usr/local/lib/python3.7/dist-packages (0.10.9.5)\n",
            "--2022-11-22 17:51:33--  ftp://ftp.ps.pl/pub/apache/spark/spark-3.3.1/spark-3.3.1-bin-hadoop2.tgz\n",
            "           => ‘spark-3.3.1-bin-hadoop2.tgz.1’\n",
            "Resolving ftp.ps.pl (ftp.ps.pl)... 212.14.28.36, 2001:4c58:62:2::36\n",
            "Connecting to ftp.ps.pl (ftp.ps.pl)|212.14.28.36|:21... connected.\n",
            "Logging in as anonymous ... Logged in!\n",
            "==> SYST ... done.    ==> PWD ... done.\n",
            "==> TYPE I ... done.  ==> CWD (1) /pub/apache/spark/spark-3.3.1 ... done.\n",
            "==> SIZE spark-3.3.1-bin-hadoop2.tgz ... 274099817\n",
            "==> PASV ... done.    ==> RETR spark-3.3.1-bin-hadoop2.tgz ... done.\n",
            "Length: 274099817 (261M) (unauthoritative)\n",
            "\n",
            "spark-3.3.1-bin-had 100%[===================>] 261.40M  22.5MB/s    in 12s     \n",
            "\n",
            "2022-11-22 17:51:48 (21.0 MB/s) - ‘spark-3.3.1-bin-hadoop2.tgz.1’ saved [274099817]\n",
            "\n"
          ]
        }
      ]
    },
    {
      "cell_type": "code",
      "source": [
        "import pyspark\n",
        "import findspark\n",
        "from pyspark.sql import SparkSession\n",
        "import os"
      ],
      "metadata": {
        "id": "g_c507iBLsSW"
      },
      "execution_count": 12,
      "outputs": []
    },
    {
      "cell_type": "code",
      "source": [
        "os.environ[\"JAVA_HOME\"] = \"/usr/lib/jvm/java-8-openjdk-amd64\"\n",
        "os.environ[\"SPARK_HOME\"] = \"/content/spark-3.3.1-bin-hadoop2\"\n",
        "spark=SparkSession.builder.appName('Colab').getOrCreate()\n",
        "spark"
      ],
      "metadata": {
        "id": "1rwBnBMwW88n",
        "outputId": "c55d2e44-5ec2-4a11-9c60-b3c85da71694",
        "colab": {
          "base_uri": "https://localhost:8080/",
          "height": 219
        }
      },
      "execution_count": 13,
      "outputs": [
        {
          "output_type": "execute_result",
          "data": {
            "text/plain": [
              "<pyspark.sql.session.SparkSession at 0x7f21b86e3990>"
            ],
            "text/html": [
              "\n",
              "            <div>\n",
              "                <p><b>SparkSession - in-memory</b></p>\n",
              "                \n",
              "        <div>\n",
              "            <p><b>SparkContext</b></p>\n",
              "\n",
              "            <p><a href=\"http://56f03680cc8a:4040\">Spark UI</a></p>\n",
              "\n",
              "            <dl>\n",
              "              <dt>Version</dt>\n",
              "                <dd><code>v3.3.1</code></dd>\n",
              "              <dt>Master</dt>\n",
              "                <dd><code>local[*]</code></dd>\n",
              "              <dt>AppName</dt>\n",
              "                <dd><code>Colab</code></dd>\n",
              "            </dl>\n",
              "        </div>\n",
              "        \n",
              "            </div>\n",
              "        "
            ]
          },
          "metadata": {},
          "execution_count": 13
        }
      ]
    },
    {
      "cell_type": "markdown",
      "source": [
        "#Pobranie danych"
      ],
      "metadata": {
        "id": "p0l3OAblXJ2w"
      }
    },
    {
      "cell_type": "markdown",
      "source": [
        "##Import danych"
      ],
      "metadata": {
        "id": "kgYZYlTutA0O"
      }
    },
    {
      "cell_type": "code",
      "source": [
        "!wget https://datasets.imdbws.com/name.basics.tsv.gz\n",
        "!wget https://datasets.imdbws.com/title.akas.tsv.gz\n",
        "!wget https://datasets.imdbws.com/title.basics.tsv.gz\n",
        "!wget https://datasets.imdbws.com/title.crew.tsv.gz\n",
        "!wget https://datasets.imdbws.com/title.episode.tsv.gz\n",
        "!wget https://datasets.imdbws.com/title.principals.tsv.gz\n",
        "!wget https://datasets.imdbws.com/title.ratings.tsv.gz"
      ],
      "metadata": {
        "id": "SciXhN5JXONa",
        "colab": {
          "base_uri": "https://localhost:8080/"
        },
        "outputId": "61ea36cc-9de2-4715-bd86-af2848ca849c"
      },
      "execution_count": 14,
      "outputs": [
        {
          "output_type": "stream",
          "name": "stdout",
          "text": [
            "--2022-11-22 17:51:53--  https://datasets.imdbws.com/name.basics.tsv.gz\n",
            "Resolving datasets.imdbws.com (datasets.imdbws.com)... 13.249.98.73, 13.249.98.61, 13.249.98.35, ...\n",
            "Connecting to datasets.imdbws.com (datasets.imdbws.com)|13.249.98.73|:443... connected.\n",
            "HTTP request sent, awaiting response... 200 OK\n",
            "Length: 236745635 (226M) [binary/octet-stream]\n",
            "Saving to: ‘name.basics.tsv.gz.1’\n",
            "\n",
            "name.basics.tsv.gz. 100%[===================>] 225.78M  86.0MB/s    in 2.6s    \n",
            "\n",
            "2022-11-22 17:51:56 (86.0 MB/s) - ‘name.basics.tsv.gz.1’ saved [236745635/236745635]\n",
            "\n",
            "--2022-11-22 17:51:56--  https://datasets.imdbws.com/title.akas.tsv.gz\n",
            "Resolving datasets.imdbws.com (datasets.imdbws.com)... 13.249.98.73, 13.249.98.61, 13.249.98.35, ...\n",
            "Connecting to datasets.imdbws.com (datasets.imdbws.com)|13.249.98.73|:443... connected.\n",
            "HTTP request sent, awaiting response... 200 OK\n",
            "Length: 288061886 (275M) [binary/octet-stream]\n",
            "Saving to: ‘title.akas.tsv.gz.1’\n",
            "\n",
            "title.akas.tsv.gz.1 100%[===================>] 274.72M  87.8MB/s    in 3.1s    \n",
            "\n",
            "2022-11-22 17:51:59 (87.8 MB/s) - ‘title.akas.tsv.gz.1’ saved [288061886/288061886]\n",
            "\n",
            "--2022-11-22 17:52:00--  https://datasets.imdbws.com/title.basics.tsv.gz\n",
            "Resolving datasets.imdbws.com (datasets.imdbws.com)... 13.249.98.73, 13.249.98.61, 13.249.98.35, ...\n",
            "Connecting to datasets.imdbws.com (datasets.imdbws.com)|13.249.98.73|:443... connected.\n",
            "HTTP request sent, awaiting response... 200 OK\n",
            "Length: 164109313 (157M) [binary/octet-stream]\n",
            "Saving to: ‘title.basics.tsv.gz.1’\n",
            "\n",
            "title.basics.tsv.gz 100%[===================>] 156.51M  58.0MB/s    in 2.7s    \n",
            "\n",
            "2022-11-22 17:52:02 (58.0 MB/s) - ‘title.basics.tsv.gz.1’ saved [164109313/164109313]\n",
            "\n",
            "--2022-11-22 17:52:02--  https://datasets.imdbws.com/title.crew.tsv.gz\n",
            "Resolving datasets.imdbws.com (datasets.imdbws.com)... 13.249.98.73, 13.249.98.61, 13.249.98.35, ...\n",
            "Connecting to datasets.imdbws.com (datasets.imdbws.com)|13.249.98.73|:443... connected.\n",
            "HTTP request sent, awaiting response... 200 OK\n",
            "Length: 62993529 (60M) [binary/octet-stream]\n",
            "Saving to: ‘title.crew.tsv.gz.1’\n",
            "\n",
            "title.crew.tsv.gz.1 100%[===================>]  60.08M  51.5MB/s    in 1.2s    \n",
            "\n",
            "2022-11-22 17:52:04 (51.5 MB/s) - ‘title.crew.tsv.gz.1’ saved [62993529/62993529]\n",
            "\n",
            "--2022-11-22 17:52:04--  https://datasets.imdbws.com/title.episode.tsv.gz\n",
            "Resolving datasets.imdbws.com (datasets.imdbws.com)... 13.249.98.73, 13.249.98.61, 13.249.98.35, ...\n",
            "Connecting to datasets.imdbws.com (datasets.imdbws.com)|13.249.98.73|:443... connected.\n",
            "HTTP request sent, awaiting response... 200 OK\n",
            "Length: 38599481 (37M) [binary/octet-stream]\n",
            "Saving to: ‘title.episode.tsv.gz.1’\n",
            "\n",
            "title.episode.tsv.g 100%[===================>]  36.81M  29.6MB/s    in 1.2s    \n",
            "\n",
            "2022-11-22 17:52:05 (29.6 MB/s) - ‘title.episode.tsv.gz.1’ saved [38599481/38599481]\n",
            "\n",
            "--2022-11-22 17:52:05--  https://datasets.imdbws.com/title.principals.tsv.gz\n",
            "Resolving datasets.imdbws.com (datasets.imdbws.com)... 13.249.98.73, 13.249.98.61, 13.249.98.35, ...\n",
            "Connecting to datasets.imdbws.com (datasets.imdbws.com)|13.249.98.73|:443... connected.\n",
            "HTTP request sent, awaiting response... 200 OK\n",
            "Length: 417996311 (399M) [binary/octet-stream]\n",
            "Saving to: ‘title.principals.tsv.gz.1’\n",
            "\n",
            "title.principals.ts 100%[===================>] 398.63M   126MB/s    in 4.0s    \n",
            "\n",
            "2022-11-22 17:52:09 (100 MB/s) - ‘title.principals.tsv.gz.1’ saved [417996311/417996311]\n",
            "\n",
            "--2022-11-22 17:52:09--  https://datasets.imdbws.com/title.ratings.tsv.gz\n",
            "Resolving datasets.imdbws.com (datasets.imdbws.com)... 13.249.98.73, 13.249.98.61, 13.249.98.35, ...\n",
            "Connecting to datasets.imdbws.com (datasets.imdbws.com)|13.249.98.73|:443... connected.\n",
            "HTTP request sent, awaiting response... 200 OK\n",
            "Length: 6276744 (6.0M) [binary/octet-stream]\n",
            "Saving to: ‘title.ratings.tsv.gz.1’\n",
            "\n",
            "title.ratings.tsv.g 100%[===================>]   5.99M  11.2MB/s    in 0.5s    \n",
            "\n",
            "2022-11-22 17:52:10 (11.2 MB/s) - ‘title.ratings.tsv.gz.1’ saved [6276744/6276744]\n",
            "\n"
          ]
        }
      ]
    },
    {
      "cell_type": "markdown",
      "source": [
        "##Rozpakowanie danych"
      ],
      "metadata": {
        "id": "or9x68JxXc10"
      }
    },
    {
      "cell_type": "code",
      "source": [
        "!gzip -dc /content/name.basics.tsv.gz > name.basics.csv\n",
        "!gzip -dc /content/title.akas.tsv.gz > title.akas.csv\n",
        "!gzip -dc /content/title.basics.tsv.gz > title.basic.csv\n",
        "!gzip -dc /content/title.crew.tsv.gz > title.crew.csv\n",
        "!gzip -dc /content/title.episode.tsv.gz > title.episode.csv\n",
        "!gzip -dc /content/title.principals.tsv.gz > title.principals.csv\n",
        "!gzip -dc /content/title.ratings.tsv.gz > title.ratings.csv"
      ],
      "metadata": {
        "id": "IpXAjtV4XeKx"
      },
      "execution_count": 15,
      "outputs": []
    },
    {
      "cell_type": "markdown",
      "source": [
        "#Wczytanie danych"
      ],
      "metadata": {
        "id": "pPWxy5j_aEvo"
      }
    },
    {
      "cell_type": "markdown",
      "source": [
        "##Wczytajmy dane z rozpakowanych plików"
      ],
      "metadata": {
        "id": "s-hzkKehxgnQ"
      }
    },
    {
      "cell_type": "code",
      "source": [
        "df_name_basics=spark.read.option(\"header\", \"true\").option(\"delimiter\", \"\\t\").csv('name.basics.csv' ) \n",
        "df_title_akas=spark.read.option(\"header\",\"true\").option(\"delimiter\", \"\\t\").csv('title.akas.csv')\n",
        "df_title_basic=spark.read.option(\"header\",\"true\").option(\"delimiter\", \"\\t\").csv('title.basic.csv')\n",
        "df_title_crew=spark.read.option(\"header\",\"true\").option(\"delimiter\", \"\\t\").csv('title.crew.csv')\n",
        "df_title_episode=spark.read.option(\"header\",\"true\").option(\"delimiter\",\"\\t\").csv('title.episode.csv')\n",
        "df_title_principals=spark.read.option(\"header\",\"true\").option(\"delimiter\",\"\\t\").csv('title.principals.csv')\n",
        "df_title_ratings=spark.read.option(\"header\",\"true\").option(\"delimiter\",\"\\t\").csv('title.ratings.csv')"
      ],
      "metadata": {
        "id": "skegmFMQXpcA"
      },
      "execution_count": 16,
      "outputs": []
    },
    {
      "cell_type": "markdown",
      "source": [
        "##Wyświetlmy dane"
      ],
      "metadata": {
        "id": "snoopt7lY71j"
      }
    },
    {
      "cell_type": "code",
      "source": [
        "df_name_basics.show(3)\n",
        "df_title_akas.show(3)\n",
        "df_title_basic.show(3)\n",
        "df_title_crew.show(3)\n",
        "df_title_episode.show(3)\n",
        "df_title_principals.show(3)\n",
        "df_title_ratings.show(3)"
      ],
      "metadata": {
        "id": "BQItTCh9ZBht",
        "colab": {
          "base_uri": "https://localhost:8080/"
        },
        "outputId": "57cadc0b-b57b-4cf7-b0b4-b0696e97d6b9"
      },
      "execution_count": 17,
      "outputs": [
        {
          "output_type": "stream",
          "name": "stdout",
          "text": [
            "+---------+---------------+---------+---------+--------------------+--------------------+\n",
            "|   nconst|    primaryName|birthYear|deathYear|   primaryProfession|      knownForTitles|\n",
            "+---------+---------------+---------+---------+--------------------+--------------------+\n",
            "|nm0000001|   Fred Astaire|     1899|     1987|soundtrack,actor,...|tt0050419,tt00319...|\n",
            "|nm0000002|  Lauren Bacall|     1924|     2014|  actress,soundtrack|tt0071877,tt00383...|\n",
            "|nm0000003|Brigitte Bardot|     1934|       \\N|actress,soundtrac...|tt0049189,tt00564...|\n",
            "+---------+---------------+---------+---------+--------------------+--------------------+\n",
            "only showing top 3 rows\n",
            "\n",
            "+---------+--------+--------------------+------+--------+-----------+-------------+---------------+\n",
            "|  titleId|ordering|               title|region|language|      types|   attributes|isOriginalTitle|\n",
            "+---------+--------+--------------------+------+--------+-----------+-------------+---------------+\n",
            "|tt0000001|       1|          Карменсіта|    UA|      \\N|imdbDisplay|           \\N|              0|\n",
            "|tt0000001|       2|          Carmencita|    DE|      \\N|         \\N|literal title|              0|\n",
            "|tt0000001|       3|Carmencita - span...|    HU|      \\N|imdbDisplay|           \\N|              0|\n",
            "+---------+--------+--------------------+------+--------+-----------+-------------+---------------+\n",
            "only showing top 3 rows\n",
            "\n",
            "+---------+---------+--------------------+--------------------+-------+---------+-------+--------------+--------------------+\n",
            "|   tconst|titleType|        primaryTitle|       originalTitle|isAdult|startYear|endYear|runtimeMinutes|              genres|\n",
            "+---------+---------+--------------------+--------------------+-------+---------+-------+--------------+--------------------+\n",
            "|tt0000001|    short|          Carmencita|          Carmencita|      0|     1894|     \\N|             1|   Documentary,Short|\n",
            "|tt0000002|    short|Le clown et ses c...|Le clown et ses c...|      0|     1892|     \\N|             5|     Animation,Short|\n",
            "|tt0000003|    short|      Pauvre Pierrot|      Pauvre Pierrot|      0|     1892|     \\N|             4|Animation,Comedy,...|\n",
            "+---------+---------+--------------------+--------------------+-------+---------+-------+--------------+--------------------+\n",
            "only showing top 3 rows\n",
            "\n",
            "+---------+---------+-------+\n",
            "|   tconst|directors|writers|\n",
            "+---------+---------+-------+\n",
            "|tt0000001|nm0005690|     \\N|\n",
            "|tt0000002|nm0721526|     \\N|\n",
            "|tt0000003|nm0721526|     \\N|\n",
            "+---------+---------+-------+\n",
            "only showing top 3 rows\n",
            "\n",
            "+---------+------------+------------+-------------+\n",
            "|   tconst|parentTconst|seasonNumber|episodeNumber|\n",
            "+---------+------------+------------+-------------+\n",
            "|tt0041951|   tt0041038|           1|            9|\n",
            "|tt0042816|   tt0989125|           1|           17|\n",
            "|tt0042889|   tt0989125|          \\N|           \\N|\n",
            "+---------+------------+------------+-------------+\n",
            "only showing top 3 rows\n",
            "\n",
            "+---------+--------+---------+---------------+--------------------+----------+\n",
            "|   tconst|ordering|   nconst|       category|                 job|characters|\n",
            "+---------+--------+---------+---------------+--------------------+----------+\n",
            "|tt0000001|       1|nm1588970|           self|                  \\N|  [\"Self\"]|\n",
            "|tt0000001|       2|nm0005690|       director|                  \\N|        \\N|\n",
            "|tt0000001|       3|nm0374658|cinematographer|director of photo...|        \\N|\n",
            "+---------+--------+---------+---------------+--------------------+----------+\n",
            "only showing top 3 rows\n",
            "\n",
            "+---------+-------------+--------+\n",
            "|   tconst|averageRating|numVotes|\n",
            "+---------+-------------+--------+\n",
            "|tt0000001|          5.7|    1923|\n",
            "|tt0000002|          5.8|     259|\n",
            "|tt0000003|          6.5|    1737|\n",
            "+---------+-------------+--------+\n",
            "only showing top 3 rows\n",
            "\n"
          ]
        }
      ]
    },
    {
      "cell_type": "markdown",
      "source": [
        "# Złączenie istotnych kolumn"
      ],
      "metadata": {
        "id": "ZZb5i_RrA-yP"
      }
    },
    {
      "cell_type": "markdown",
      "source": [
        "## Wybierzmy z tabel tylko istotne rekordy:\n",
        "- df_title_basic: wybierzmy tylko rekordy z primaryProfession zawierającym \"actor\" lub \"actress\",\n",
        "- df_title_principals: wybierzmy rekordy z category zawierającym \"actor\" lub \"actress\"."
      ],
      "metadata": {
        "id": "mOPxMS1SSjwx"
      }
    },
    {
      "cell_type": "code",
      "source": [
        "df_name_basics_selected = df_name_basics.filter(\"primaryProfession like '%actor%' or primaryProfession like '%actress%'\")\n",
        "df_title_principals_selected = df_title_principals.filter((df_title_principals.category == \"actor\") | (df_title_principals.category == \"actress\"))"
      ],
      "metadata": {
        "id": "XBkkrTckTe2B"
      },
      "execution_count": 18,
      "outputs": []
    },
    {
      "cell_type": "markdown",
      "source": [
        "## Wybierzmy następujące kolumny z tabel:\n",
        "- df_title_basic:\n",
        "  - tconst (unikalny numer tytułu - potrzebne do złączenia tabel)\n",
        "  - titleType (rodzaj tytułu, np. film, serial - można porównywać podobieństwo aktorów na podstawie tego w jakich typach produkcji grali)\n",
        "  - originalTitle (tytuł produkcji - być może przyda się do analizy podobnych filmów)\n",
        "  - isAdult (czy produkcja jest dla dorosłych - można wykorzystać do porównywania aktorów na podstawie tego czy grają głównie w produkcjach dla dorosłych)\n",
        "  - startYear (data wypuszczenia produkcji - można wykorzystać do porównania epok filmów, w których grali aktorzy)\n",
        "  - endYear (data zakończenia serii, w innych przypadkach \\N - można wykorzystać do porównania epok filmów, w których grali aktorzy)\n",
        "  - genres (gatunki - może posłużyć do porównania aktorów na podstawie tego, że grali w produkcjach o podobnych gatunkach)\n",
        "\n",
        "- df_title_principals:\n",
        "  - tconst (unikalny numer tytułu - potrzebne do złączenia tabel)\n",
        "  - nconst (unikalny numer aktora - potrzebne do złączenia tabel)\n",
        "  - category (kategoria pracy (actor/actress) - może posłużyć do porównania aktorów na podstawie takiej samej płci)\n",
        "  - characters (postacie zagrane w produkcji - może posłużyć do porównania aktorów na podstawie podobnych granych postaci)\n",
        "\n",
        "- df_name_basics:\n",
        "  - nconst(unikalny numer aktora - potrzebne do złączenia tabel)\n",
        "  - primaryName (imię i nazwisko aktora - potrzebne do wyświetlania aktora lub do odnajdywania go w bazie po imieniu i nazwisku)\n",
        "  - knownForTitles (tytuły produkcji, z których znany jest aktor - może posłużyć do porównania aktorów na podstawie tych samych lub podobnych produkcji, z których są znani)"
      ],
      "metadata": {
        "id": "MGd5Hi-VBF9h"
      }
    },
    {
      "cell_type": "code",
      "source": [
        "df_title_basic_selected = df_title_basic.select([\"tconst\", \"titleType\", \"originalTitle\", \"isAdult\", \"startYear\", \"endYear\", \"genres\"])\n",
        "df_title_principals_selected = df_title_principals_selected.select([\"tconst\", \"nconst\", \"category\", \"characters\"])\n",
        "df_name_basics_selected = df_name_basics_selected.select([\"nconst\", \"primaryName\", \"knownForTitles\"])"
      ],
      "metadata": {
        "id": "OKWe9JSKBC5q"
      },
      "execution_count": 19,
      "outputs": []
    },
    {
      "cell_type": "markdown",
      "source": [
        "# Złączmy tabele df_name_basics, df_title_principals i df_title_basic"
      ],
      "metadata": {
        "id": "eMIHo59PBNtx"
      }
    },
    {
      "cell_type": "code",
      "source": [
        "print(\"df_name_basics_selected dataframe size: \", (df_name_basics_selected.count(), len(df_name_basics_selected.columns)))\n",
        "print(\"df_title_principals_selected dataframe size: \", (df_title_principals_selected.count(), len(df_title_principals_selected.columns)))\n",
        "print(\"df_title_basic_selected dataframe size: \", (df_title_basic_selected.count(), len(df_title_basic_selected.columns)))\n",
        "data = df_title_basic_selected.join(df_title_principals_selected, \"tconst\", \"right\")\n",
        "print(\"joined dataframe size: \", (data.count(), len(data.columns)))\n",
        "data = data.join(df_name_basics_selected, \"nconst\", \"inner\")\n",
        "print(\"joined dataframe size: \", (data.count(), len(data.columns)))"
      ],
      "metadata": {
        "id": "zMqqAJ7zBJWL",
        "outputId": "5fd49616-895a-48df-932e-0852dab99eee",
        "colab": {
          "base_uri": "https://localhost:8080/"
        }
      },
      "execution_count": 20,
      "outputs": [
        {
          "output_type": "stream",
          "name": "stdout",
          "text": [
            "df_name_basics_selected dataframe size:  (4427662, 3)\n",
            "df_title_principals_selected dataframe size:  (20815083, 4)\n",
            "df_title_basic_selected dataframe size:  (9388564, 7)\n",
            "joined dataframe size:  (20815083, 10)\n",
            "joined dataframe size:  (20190789, 12)\n"
          ]
        }
      ]
    },
    {
      "cell_type": "markdown",
      "source": [
        "# Wybierzmy przykładowe wiersze z końcowego dataframe'u"
      ],
      "metadata": {
        "id": "hKXuX-JdE9ED"
      }
    },
    {
      "cell_type": "code",
      "source": [
        "sample = data.rdd.takeSample(False, 5)"
      ],
      "metadata": {
        "id": "bH43D49EE84F"
      },
      "execution_count": 21,
      "outputs": []
    },
    {
      "cell_type": "code",
      "source": [
        "import pandas as pd\n",
        "sample = pd.DataFrame(sample, columns = data.columns)\n",
        "sample"
      ],
      "metadata": {
        "id": "kW8-_TXYLo10",
        "outputId": "1efebffb-0380-4fc1-ef0c-0085e11b137e",
        "colab": {
          "base_uri": "https://localhost:8080/",
          "height": 337
        }
      },
      "execution_count": 22,
      "outputs": [
        {
          "output_type": "execute_result",
          "data": {
            "text/plain": [
              "      nconst      tconst  titleType               originalTitle isAdult  \\\n",
              "0  nm8057446  tt11506048  tvEpisode               Episode #1.60       0   \n",
              "1  nm0034498   tt4945096  tvEpisode  Tres vidas para una muerte       0   \n",
              "2  nm0293659   tt1212967  tvEpisode      Return of the Mole Man       0   \n",
              "3  nm0694742  tt10154630  tvEpisode        El secuestro de Iván       0   \n",
              "4  nm0073512   tt5785994  tvEpisode          Drömmen om scoopet       0   \n",
              "\n",
              "  startYear endYear                      genres category  \\\n",
              "0      2020      \\N               Drama,Romance  actress   \n",
              "1      1964      \\N                          \\N    actor   \n",
              "2      1967      \\N  Action,Adventure,Animation    actor   \n",
              "3      2019      \\N                     Romance    actor   \n",
              "4      1985      \\N                       Drama    actor   \n",
              "\n",
              "                          characters         primaryName  \\\n",
              "0                   [\"Jeong Joo-Ri\"]          Ga-rim Han   \n",
              "1                                 \\N     Alberto Argibay   \n",
              "2  [\"The Thing\",\"Benjamin J. Grimm\"]          Paul Frees   \n",
              "3                 [\"Diego Jáuregui\"]          Jorge Poza   \n",
              "4                        [\"Lennart\"]  Lars-Erik Berenett   \n",
              "\n",
              "                               knownForTitles  \n",
              "0  tt12929796,tt10808968,tt4846006,tt12035244  \n",
              "1     tt0291619,tt0498422,tt2270143,tt5252240  \n",
              "2     tt0046534,tt0053640,tt0084237,tt0056545  \n",
              "3     tt9104300,tt0296373,tt0266177,tt1195884  \n",
              "4     tt0094493,tt0096717,tt2071471,tt0208198  "
            ],
            "text/html": [
              "\n",
              "  <div id=\"df-863e75a5-1cac-4ab0-a45d-6d8ca46ef907\">\n",
              "    <div class=\"colab-df-container\">\n",
              "      <div>\n",
              "<style scoped>\n",
              "    .dataframe tbody tr th:only-of-type {\n",
              "        vertical-align: middle;\n",
              "    }\n",
              "\n",
              "    .dataframe tbody tr th {\n",
              "        vertical-align: top;\n",
              "    }\n",
              "\n",
              "    .dataframe thead th {\n",
              "        text-align: right;\n",
              "    }\n",
              "</style>\n",
              "<table border=\"1\" class=\"dataframe\">\n",
              "  <thead>\n",
              "    <tr style=\"text-align: right;\">\n",
              "      <th></th>\n",
              "      <th>nconst</th>\n",
              "      <th>tconst</th>\n",
              "      <th>titleType</th>\n",
              "      <th>originalTitle</th>\n",
              "      <th>isAdult</th>\n",
              "      <th>startYear</th>\n",
              "      <th>endYear</th>\n",
              "      <th>genres</th>\n",
              "      <th>category</th>\n",
              "      <th>characters</th>\n",
              "      <th>primaryName</th>\n",
              "      <th>knownForTitles</th>\n",
              "    </tr>\n",
              "  </thead>\n",
              "  <tbody>\n",
              "    <tr>\n",
              "      <th>0</th>\n",
              "      <td>nm8057446</td>\n",
              "      <td>tt11506048</td>\n",
              "      <td>tvEpisode</td>\n",
              "      <td>Episode #1.60</td>\n",
              "      <td>0</td>\n",
              "      <td>2020</td>\n",
              "      <td>\\N</td>\n",
              "      <td>Drama,Romance</td>\n",
              "      <td>actress</td>\n",
              "      <td>[\"Jeong Joo-Ri\"]</td>\n",
              "      <td>Ga-rim Han</td>\n",
              "      <td>tt12929796,tt10808968,tt4846006,tt12035244</td>\n",
              "    </tr>\n",
              "    <tr>\n",
              "      <th>1</th>\n",
              "      <td>nm0034498</td>\n",
              "      <td>tt4945096</td>\n",
              "      <td>tvEpisode</td>\n",
              "      <td>Tres vidas para una muerte</td>\n",
              "      <td>0</td>\n",
              "      <td>1964</td>\n",
              "      <td>\\N</td>\n",
              "      <td>\\N</td>\n",
              "      <td>actor</td>\n",
              "      <td>\\N</td>\n",
              "      <td>Alberto Argibay</td>\n",
              "      <td>tt0291619,tt0498422,tt2270143,tt5252240</td>\n",
              "    </tr>\n",
              "    <tr>\n",
              "      <th>2</th>\n",
              "      <td>nm0293659</td>\n",
              "      <td>tt1212967</td>\n",
              "      <td>tvEpisode</td>\n",
              "      <td>Return of the Mole Man</td>\n",
              "      <td>0</td>\n",
              "      <td>1967</td>\n",
              "      <td>\\N</td>\n",
              "      <td>Action,Adventure,Animation</td>\n",
              "      <td>actor</td>\n",
              "      <td>[\"The Thing\",\"Benjamin J. Grimm\"]</td>\n",
              "      <td>Paul Frees</td>\n",
              "      <td>tt0046534,tt0053640,tt0084237,tt0056545</td>\n",
              "    </tr>\n",
              "    <tr>\n",
              "      <th>3</th>\n",
              "      <td>nm0694742</td>\n",
              "      <td>tt10154630</td>\n",
              "      <td>tvEpisode</td>\n",
              "      <td>El secuestro de Iván</td>\n",
              "      <td>0</td>\n",
              "      <td>2019</td>\n",
              "      <td>\\N</td>\n",
              "      <td>Romance</td>\n",
              "      <td>actor</td>\n",
              "      <td>[\"Diego Jáuregui\"]</td>\n",
              "      <td>Jorge Poza</td>\n",
              "      <td>tt9104300,tt0296373,tt0266177,tt1195884</td>\n",
              "    </tr>\n",
              "    <tr>\n",
              "      <th>4</th>\n",
              "      <td>nm0073512</td>\n",
              "      <td>tt5785994</td>\n",
              "      <td>tvEpisode</td>\n",
              "      <td>Drömmen om scoopet</td>\n",
              "      <td>0</td>\n",
              "      <td>1985</td>\n",
              "      <td>\\N</td>\n",
              "      <td>Drama</td>\n",
              "      <td>actor</td>\n",
              "      <td>[\"Lennart\"]</td>\n",
              "      <td>Lars-Erik Berenett</td>\n",
              "      <td>tt0094493,tt0096717,tt2071471,tt0208198</td>\n",
              "    </tr>\n",
              "  </tbody>\n",
              "</table>\n",
              "</div>\n",
              "      <button class=\"colab-df-convert\" onclick=\"convertToInteractive('df-863e75a5-1cac-4ab0-a45d-6d8ca46ef907')\"\n",
              "              title=\"Convert this dataframe to an interactive table.\"\n",
              "              style=\"display:none;\">\n",
              "        \n",
              "  <svg xmlns=\"http://www.w3.org/2000/svg\" height=\"24px\"viewBox=\"0 0 24 24\"\n",
              "       width=\"24px\">\n",
              "    <path d=\"M0 0h24v24H0V0z\" fill=\"none\"/>\n",
              "    <path d=\"M18.56 5.44l.94 2.06.94-2.06 2.06-.94-2.06-.94-.94-2.06-.94 2.06-2.06.94zm-11 1L8.5 8.5l.94-2.06 2.06-.94-2.06-.94L8.5 2.5l-.94 2.06-2.06.94zm10 10l.94 2.06.94-2.06 2.06-.94-2.06-.94-.94-2.06-.94 2.06-2.06.94z\"/><path d=\"M17.41 7.96l-1.37-1.37c-.4-.4-.92-.59-1.43-.59-.52 0-1.04.2-1.43.59L10.3 9.45l-7.72 7.72c-.78.78-.78 2.05 0 2.83L4 21.41c.39.39.9.59 1.41.59.51 0 1.02-.2 1.41-.59l7.78-7.78 2.81-2.81c.8-.78.8-2.07 0-2.86zM5.41 20L4 18.59l7.72-7.72 1.47 1.35L5.41 20z\"/>\n",
              "  </svg>\n",
              "      </button>\n",
              "      \n",
              "  <style>\n",
              "    .colab-df-container {\n",
              "      display:flex;\n",
              "      flex-wrap:wrap;\n",
              "      gap: 12px;\n",
              "    }\n",
              "\n",
              "    .colab-df-convert {\n",
              "      background-color: #E8F0FE;\n",
              "      border: none;\n",
              "      border-radius: 50%;\n",
              "      cursor: pointer;\n",
              "      display: none;\n",
              "      fill: #1967D2;\n",
              "      height: 32px;\n",
              "      padding: 0 0 0 0;\n",
              "      width: 32px;\n",
              "    }\n",
              "\n",
              "    .colab-df-convert:hover {\n",
              "      background-color: #E2EBFA;\n",
              "      box-shadow: 0px 1px 2px rgba(60, 64, 67, 0.3), 0px 1px 3px 1px rgba(60, 64, 67, 0.15);\n",
              "      fill: #174EA6;\n",
              "    }\n",
              "\n",
              "    [theme=dark] .colab-df-convert {\n",
              "      background-color: #3B4455;\n",
              "      fill: #D2E3FC;\n",
              "    }\n",
              "\n",
              "    [theme=dark] .colab-df-convert:hover {\n",
              "      background-color: #434B5C;\n",
              "      box-shadow: 0px 1px 3px 1px rgba(0, 0, 0, 0.15);\n",
              "      filter: drop-shadow(0px 1px 2px rgba(0, 0, 0, 0.3));\n",
              "      fill: #FFFFFF;\n",
              "    }\n",
              "  </style>\n",
              "\n",
              "      <script>\n",
              "        const buttonEl =\n",
              "          document.querySelector('#df-863e75a5-1cac-4ab0-a45d-6d8ca46ef907 button.colab-df-convert');\n",
              "        buttonEl.style.display =\n",
              "          google.colab.kernel.accessAllowed ? 'block' : 'none';\n",
              "\n",
              "        async function convertToInteractive(key) {\n",
              "          const element = document.querySelector('#df-863e75a5-1cac-4ab0-a45d-6d8ca46ef907');\n",
              "          const dataTable =\n",
              "            await google.colab.kernel.invokeFunction('convertToInteractive',\n",
              "                                                     [key], {});\n",
              "          if (!dataTable) return;\n",
              "\n",
              "          const docLinkHtml = 'Like what you see? Visit the ' +\n",
              "            '<a target=\"_blank\" href=https://colab.research.google.com/notebooks/data_table.ipynb>data table notebook</a>'\n",
              "            + ' to learn more about interactive tables.';\n",
              "          element.innerHTML = '';\n",
              "          dataTable['output_type'] = 'display_data';\n",
              "          await google.colab.output.renderOutput(dataTable, element);\n",
              "          const docLink = document.createElement('div');\n",
              "          docLink.innerHTML = docLinkHtml;\n",
              "          element.appendChild(docLink);\n",
              "        }\n",
              "      </script>\n",
              "    </div>\n",
              "  </div>\n",
              "  "
            ]
          },
          "metadata": {},
          "execution_count": 22
        }
      ]
    }
  ]
}