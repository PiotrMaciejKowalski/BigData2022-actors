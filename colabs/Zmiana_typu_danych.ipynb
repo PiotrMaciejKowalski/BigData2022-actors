{
  "nbformat": 4,
  "nbformat_minor": 0,
  "metadata": {
    "colab": {
      "provenance": [],
      "collapsed_sections": [
        "p0l3OAblXJ2w",
        "pPWxy5j_aEvo",
        "1uOGkwaknuQa",
        "OSW3DAeZpZFY",
        "D9PGGakBply4",
        "S23oTly_ppJJ",
        "qohwDv1YryhF",
        "bbdtLyaC6E8e"
      ],
      "include_colab_link": true
    },
    "kernelspec": {
      "name": "python3",
      "display_name": "Python 3"
    },
    "language_info": {
      "name": "python"
    }
  },
  "cells": [
    {
      "cell_type": "markdown",
      "metadata": {
        "id": "view-in-github",
        "colab_type": "text"
      },
      "source": [
        "<a href=\"https://colab.research.google.com/github/PiotrMaciejKowalski/BigData2022-actors/blob/poprawa_danych/colabs/Zmiana_typu_danych.ipynb\" target=\"_parent\"><img src=\"https://colab.research.google.com/assets/colab-badge.svg\" alt=\"Open In Colab\"/></a>"
      ]
    },
    {
      "cell_type": "markdown",
      "source": [
        "#Setup sparka"
      ],
      "metadata": {
        "id": "Vzb444kPW31g"
      }
    },
    {
      "cell_type": "code",
      "source": [
        "!pip install pyspark py4j\n",
        "!pip install -q findspark\n",
        "!apt-get install openjdk-8-jdk-headless -qq > /dev/null\n",
        "!wget ftp://ftp.ps.pl/pub/apache/spark/spark-3.3.1/spark-3.3.1-bin-hadoop2.tgz\n",
        "!tar xf spark-3.3.1-bin-hadoop2.tgz"
      ],
      "metadata": {
        "colab": {
          "base_uri": "https://localhost:8080/"
        },
        "id": "UxTbMYkeLrk6",
        "outputId": "8b8971af-3101-4a6d-ffc4-70db263f77a7"
      },
      "execution_count": null,
      "outputs": [
        {
          "output_type": "stream",
          "name": "stdout",
          "text": [
            "Looking in indexes: https://pypi.org/simple, https://us-python.pkg.dev/colab-wheels/public/simple/\n",
            "Collecting pyspark\n",
            "  Downloading pyspark-3.3.1.tar.gz (281.4 MB)\n",
            "\u001b[K     |████████████████████████████████| 281.4 MB 39 kB/s \n",
            "\u001b[?25hCollecting py4j\n",
            "  Downloading py4j-0.10.9.7-py2.py3-none-any.whl (200 kB)\n",
            "\u001b[K     |████████████████████████████████| 200 kB 48.1 MB/s \n",
            "\u001b[?25h  Downloading py4j-0.10.9.5-py2.py3-none-any.whl (199 kB)\n",
            "\u001b[K     |████████████████████████████████| 199 kB 56.3 MB/s \n",
            "\u001b[?25hBuilding wheels for collected packages: pyspark\n",
            "  Building wheel for pyspark (setup.py) ... \u001b[?25l\u001b[?25hdone\n",
            "  Created wheel for pyspark: filename=pyspark-3.3.1-py2.py3-none-any.whl size=281845512 sha256=944b0faaee36fd48cbdefc1f9f9230d43cccf8f0d4c0c75a22494bebf0a03691\n",
            "  Stored in directory: /root/.cache/pip/wheels/42/59/f5/79a5bf931714dcd201b26025347785f087370a10a3329a899c\n",
            "Successfully built pyspark\n",
            "Installing collected packages: py4j, pyspark\n",
            "Successfully installed py4j-0.10.9.5 pyspark-3.3.1\n",
            "--2022-11-22 21:00:49--  ftp://ftp.ps.pl/pub/apache/spark/spark-3.3.1/spark-3.3.1-bin-hadoop2.tgz\n",
            "           => ‘spark-3.3.1-bin-hadoop2.tgz’\n",
            "Resolving ftp.ps.pl (ftp.ps.pl)... 212.14.28.36, 2001:4c58:62:2::36\n",
            "Connecting to ftp.ps.pl (ftp.ps.pl)|212.14.28.36|:21... connected.\n",
            "Logging in as anonymous ... Logged in!\n",
            "==> SYST ... done.    ==> PWD ... done.\n",
            "==> TYPE I ... done.  ==> CWD (1) /pub/apache/spark/spark-3.3.1 ... done.\n",
            "==> SIZE spark-3.3.1-bin-hadoop2.tgz ... 274099817\n",
            "==> PASV ... done.    ==> RETR spark-3.3.1-bin-hadoop2.tgz ... done.\n",
            "Length: 274099817 (261M) (unauthoritative)\n",
            "\n",
            "spark-3.3.1-bin-had 100%[===================>] 261.40M  26.1MB/s    in 11s     \n",
            "\n",
            "2022-11-22 21:01:02 (24.2 MB/s) - ‘spark-3.3.1-bin-hadoop2.tgz’ saved [274099817]\n",
            "\n"
          ]
        }
      ]
    },
    {
      "cell_type": "code",
      "source": [
        "import pyspark\n",
        "import findspark\n",
        "from pyspark.sql import SparkSession\n",
        "import os\n",
        "import pyspark.sql.functions as F\n",
        "import pyspark.sql.types as T\n",
        "from pyspark.sql.functions import split, colfrom pyspark.sql.types import StructType, StringType, IntegerType, BooleanType, FloatType, TimestampType, DateType, ArrayType, MapType\n",
        "from typing import List, Tuple, Dict, Any\n",
        "from pyspark.sql.types import StructType, StringType\n",
        "from pyspark.sql.functions import monotonically_increasing_id \n",
        "import numpy"
      ],
      "metadata": {
        "id": "g_c507iBLsSW"
      },
      "execution_count": null,
      "outputs": []
    },
    {
      "cell_type": "code",
      "source": [
        "os.environ[\"JAVA_HOME\"] = \"/usr/lib/jvm/java-8-openjdk-amd64\"\n",
        "os.environ[\"SPARK_HOME\"] = \"/content/spark-3.3.1-bin-hadoop2\"\n",
        "spark=SparkSession.builder.appName('Colab').getOrCreate()\n",
        "spark"
      ],
      "metadata": {
        "colab": {
          "base_uri": "https://localhost:8080/"
        },
        "id": "02S-cSUI7iqf",
        "outputId": "a5c23ed6-4c89-41d5-c6af-83021530a0ef"
      },
      "execution_count": null,
      "outputs": [
        {
          "output_type": "execute_result",
          "data": {
            "text/plain": [
              "<pyspark.sql.session.SparkSession at 0x7fcfbf502b90>"
            ],
            "text/html": [
              "\n",
              "            <div>\n",
              "                <p><b>SparkSession - in-memory</b></p>\n",
              "                \n",
              "        <div>\n",
              "            <p><b>SparkContext</b></p>\n",
              "\n",
              "            <p><a href=\"http://e6bc13fc811e:4040\">Spark UI</a></p>\n",
              "\n",
              "            <dl>\n",
              "              <dt>Version</dt>\n",
              "                <dd><code>v3.3.1</code></dd>\n",
              "              <dt>Master</dt>\n",
              "                <dd><code>local[*]</code></dd>\n",
              "              <dt>AppName</dt>\n",
              "                <dd><code>Colab</code></dd>\n",
              "            </dl>\n",
              "        </div>\n",
              "        \n",
              "            </div>\n",
              "        "
            ]
          },
          "metadata": {},
          "execution_count": 3
        }
      ]
    },
    {
      "cell_type": "markdown",
      "source": [
        "#Pobranie danych"
      ],
      "metadata": {
        "id": "p0l3OAblXJ2w"
      }
    },
    {
      "cell_type": "markdown",
      "source": [
        "##Import danych"
      ],
      "metadata": {
        "id": "kgYZYlTutA0O"
      }
    },
    {
      "cell_type": "code",
      "source": [
        "!wget https://datasets.imdbws.com/name.basics.tsv.gz\n",
        "!wget https://datasets.imdbws.com/title.akas.tsv.gz\n",
        "!wget https://datasets.imdbws.com/title.basics.tsv.gz\n",
        "!wget https://datasets.imdbws.com/title.crew.tsv.gz\n",
        "!wget https://datasets.imdbws.com/title.episode.tsv.gz\n",
        "!wget https://datasets.imdbws.com/title.principals.tsv.gz\n",
        "!wget https://datasets.imdbws.com/title.ratings.tsv.gz"
      ],
      "metadata": {
        "id": "SciXhN5JXONa",
        "colab": {
          "base_uri": "https://localhost:8080/"
        },
        "outputId": "008276e8-5186-408c-f0a6-45514657771e"
      },
      "execution_count": null,
      "outputs": [
        {
          "output_type": "stream",
          "name": "stdout",
          "text": [
            "--2022-11-22 21:01:21--  https://datasets.imdbws.com/name.basics.tsv.gz\n",
            "Resolving datasets.imdbws.com (datasets.imdbws.com)... 18.160.46.72, 18.160.46.120, 18.160.46.19, ...\n",
            "Connecting to datasets.imdbws.com (datasets.imdbws.com)|18.160.46.72|:443... connected.\n",
            "HTTP request sent, awaiting response... 200 OK\n",
            "Length: 236717394 (226M) [binary/octet-stream]\n",
            "Saving to: ‘name.basics.tsv.gz’\n",
            "\n",
            "name.basics.tsv.gz  100%[===================>] 225.75M   200MB/s    in 1.1s    \n",
            "\n",
            "2022-11-22 21:01:22 (200 MB/s) - ‘name.basics.tsv.gz’ saved [236717394/236717394]\n",
            "\n",
            "--2022-11-22 21:01:22--  https://datasets.imdbws.com/title.akas.tsv.gz\n",
            "Resolving datasets.imdbws.com (datasets.imdbws.com)... 18.160.46.72, 18.160.46.120, 18.160.46.19, ...\n",
            "Connecting to datasets.imdbws.com (datasets.imdbws.com)|18.160.46.72|:443... connected.\n",
            "HTTP request sent, awaiting response... 200 OK\n",
            "Length: 288061886 (275M) [binary/octet-stream]\n",
            "Saving to: ‘title.akas.tsv.gz’\n",
            "\n",
            "title.akas.tsv.gz   100%[===================>] 274.72M   156MB/s    in 1.8s    \n",
            "\n",
            "2022-11-22 21:01:24 (156 MB/s) - ‘title.akas.tsv.gz’ saved [288061886/288061886]\n",
            "\n",
            "--2022-11-22 21:01:24--  https://datasets.imdbws.com/title.basics.tsv.gz\n",
            "Resolving datasets.imdbws.com (datasets.imdbws.com)... 18.160.46.72, 18.160.46.120, 18.160.46.19, ...\n",
            "Connecting to datasets.imdbws.com (datasets.imdbws.com)|18.160.46.72|:443... connected.\n",
            "HTTP request sent, awaiting response... 200 OK\n",
            "Length: 164130653 (157M) [binary/octet-stream]\n",
            "Saving to: ‘title.basics.tsv.gz’\n",
            "\n",
            "title.basics.tsv.gz 100%[===================>] 156.53M   215MB/s    in 0.7s    \n",
            "\n",
            "2022-11-22 21:01:25 (215 MB/s) - ‘title.basics.tsv.gz’ saved [164130653/164130653]\n",
            "\n",
            "--2022-11-22 21:01:25--  https://datasets.imdbws.com/title.crew.tsv.gz\n",
            "Resolving datasets.imdbws.com (datasets.imdbws.com)... 18.160.46.72, 18.160.46.120, 18.160.46.19, ...\n",
            "Connecting to datasets.imdbws.com (datasets.imdbws.com)|18.160.46.72|:443... connected.\n",
            "HTTP request sent, awaiting response... 200 OK\n",
            "Length: 62988325 (60M) [binary/octet-stream]\n",
            "Saving to: ‘title.crew.tsv.gz’\n",
            "\n",
            "title.crew.tsv.gz   100%[===================>]  60.07M   100MB/s    in 0.6s    \n",
            "\n",
            "2022-11-22 21:01:26 (100 MB/s) - ‘title.crew.tsv.gz’ saved [62988325/62988325]\n",
            "\n",
            "--2022-11-22 21:01:26--  https://datasets.imdbws.com/title.episode.tsv.gz\n",
            "Resolving datasets.imdbws.com (datasets.imdbws.com)... 18.160.46.72, 18.160.46.120, 18.160.46.19, ...\n",
            "Connecting to datasets.imdbws.com (datasets.imdbws.com)|18.160.46.72|:443... connected.\n",
            "HTTP request sent, awaiting response... 200 OK\n",
            "Length: 38599481 (37M) [binary/octet-stream]\n",
            "Saving to: ‘title.episode.tsv.gz’\n",
            "\n",
            "title.episode.tsv.g 100%[===================>]  36.81M  90.7MB/s    in 0.4s    \n",
            "\n",
            "2022-11-22 21:01:26 (90.7 MB/s) - ‘title.episode.tsv.gz’ saved [38599481/38599481]\n",
            "\n",
            "--2022-11-22 21:01:26--  https://datasets.imdbws.com/title.principals.tsv.gz\n",
            "Resolving datasets.imdbws.com (datasets.imdbws.com)... 18.160.46.72, 18.160.46.120, 18.160.46.19, ...\n",
            "Connecting to datasets.imdbws.com (datasets.imdbws.com)|18.160.46.72|:443... connected.\n",
            "HTTP request sent, awaiting response... 200 OK\n",
            "Length: 417996311 (399M) [binary/octet-stream]\n",
            "Saving to: ‘title.principals.tsv.gz’\n",
            "\n",
            "title.principals.ts 100%[===================>] 398.63M   138MB/s    in 2.9s    \n",
            "\n",
            "2022-11-22 21:01:29 (138 MB/s) - ‘title.principals.tsv.gz’ saved [417996311/417996311]\n",
            "\n",
            "--2022-11-22 21:01:29--  https://datasets.imdbws.com/title.ratings.tsv.gz\n",
            "Resolving datasets.imdbws.com (datasets.imdbws.com)... 18.160.46.72, 18.160.46.120, 18.160.46.19, ...\n",
            "Connecting to datasets.imdbws.com (datasets.imdbws.com)|18.160.46.72|:443... connected.\n",
            "HTTP request sent, awaiting response... 200 OK\n",
            "Length: 6278157 (6.0M) [binary/octet-stream]\n",
            "Saving to: ‘title.ratings.tsv.gz’\n",
            "\n",
            "title.ratings.tsv.g 100%[===================>]   5.99M  --.-KB/s    in 0.07s   \n",
            "\n",
            "2022-11-22 21:01:29 (84.0 MB/s) - ‘title.ratings.tsv.gz’ saved [6278157/6278157]\n",
            "\n"
          ]
        }
      ]
    },
    {
      "cell_type": "markdown",
      "source": [
        "##Rozpakowanie danych"
      ],
      "metadata": {
        "id": "or9x68JxXc10"
      }
    },
    {
      "cell_type": "code",
      "source": [
        "!gzip -dc /content/name.basics.tsv.gz > name.basics.csv\n",
        "!gzip -dc /content/title.akas.tsv.gz > title.akas.csv\n",
        "!gzip -dc /content/title.basics.tsv.gz > title.basics.csv\n",
        "!gzip -dc /content/title.crew.tsv.gz > title.crew.csv\n",
        "!gzip -dc /content/title.episode.tsv.gz > title.episode.csv\n",
        "!gzip -dc /content/title.principals.tsv.gz > title.principals.csv\n",
        "!gzip -dc /content/title.ratings.tsv.gz > title.ratings.csv"
      ],
      "metadata": {
        "id": "IpXAjtV4XeKx"
      },
      "execution_count": null,
      "outputs": []
    },
    {
      "cell_type": "markdown",
      "source": [
        "#Wczytanie danych"
      ],
      "metadata": {
        "id": "pPWxy5j_aEvo"
      }
    },
    {
      "cell_type": "markdown",
      "source": [
        "##Ustalenie typów danych"
      ],
      "metadata": {
        "id": "tura9f9sGomh"
      }
    },
    {
      "cell_type": "code",
      "source": [
        "map_types = {\n",
        "    str : StringType(),\n",
        "    int : IntegerType(),\n",
        "    bool : BooleanType(),\n",
        "    float: FloatType(),\n",
        "    'timestamp' : TimestampType(),\n",
        "    'date' : DateType(),\n",
        "    List[str] : ArrayType(StringType()),\n",
        "    Tuple[str] : ArrayType(StringType()),\n",
        "    Dict[str, str] : MapType(StringType(), StringType())\n",
        "}"
      ],
      "metadata": {
        "id": "CqMSVkG6fFYK"
      },
      "execution_count": null,
      "outputs": []
    },
    {
      "cell_type": "code",
      "source": [
        "column_conf = {\n",
        "  'akas'  :  ['titleId','ordering','title','region','language','types','attributes','isOriginalTitle '], \n",
        "  'title_basics' : ['tconst','titleType','primaryTitle','originalTitle','isAdult','startYear','endYear','runtimeMinutes','genres'],\n",
        "  'crew' : ['tconst','directors','writers'],\n",
        "  'episode' : ['tconst','parentTconst','seasonNumber','episodeNumber'],\n",
        "  'principals' : ['tconst','ordering','nconst','category','job','characters'],\n",
        "  'ratings' : ['tconst','averageRating','numVotes'],\n",
        "  'name_basics' : ['nconst','primaryName','birthYear','deathYear','primaryProfession','knownForTitles']\n",
        "}\n",
        "column_type_collection = {\n",
        "    int : ['ordering', 'startYear', 'endYear', 'runtimeMinutes', 'seasonNumber', 'episodeNumber', 'numVotes', 'birthYear', 'deathYear' ],\n",
        "    str : ['titleId', 'title', 'region', 'language', 'types', 'attributes', 'tconst', 'titleType', 'primaryTitle', 'originalTitle', 'genres', 'directors', 'writers', 'parentTconst', 'category', 'job', 'characters', 'primaryName', 'primaryProfession', 'knownForTitles'],\n",
        "    bool : ['isOriginalTitle', 'isAdult' ],\n",
        "    float : ['averageRating']\n",
        "}"
      ],
      "metadata": {
        "id": "WOpkscfjxlf5"
      },
      "execution_count": null,
      "outputs": []
    },
    {
      "cell_type": "code",
      "source": [
        "def init_schema(conf, column_type_collection):\n",
        "  map = {}\n",
        "  for pole in conf:\n",
        "    for python_type, column_list in column_type_collection.items():\n",
        "      if pole in column_list:\n",
        "        map[pole] = map_types[python_type]\n",
        "  schemat= StructType()\n",
        "  for pole, typ in map.items():\n",
        "    schemat = schemat.add(pole, typ, True)\n",
        "  return schemat"
      ],
      "metadata": {
        "id": "5I3YkxQt1MhO"
      },
      "execution_count": null,
      "outputs": []
    },
    {
      "cell_type": "code",
      "source": [
        "Schematy=[schemat_title_akas, schemat_title_basics, schemat_title_crew, schemat_title_episode, schemat_title_principals,\n",
        "schemat_title_ratings, schemat_name_basics] = [ \n",
        "init_schema(column_conf[table], column_type_collection) \n",
        "  for table in ('akas', 'title_basics', 'crew', 'episode', 'principals', 'ratings', 'name_basics')]"
      ],
      "metadata": {
        "id": "QfCrAOetypQP"
      },
      "execution_count": null,
      "outputs": []
    },
    {
      "cell_type": "markdown",
      "source": [
        "##Wczytajmy dane z rozpakowanych plików"
      ],
      "metadata": {
        "id": "s-hzkKehxgnQ"
      }
    },
    {
      "cell_type": "code",
      "source": [
        "CSV=['title.akas.csv', 'title.basics.csv', 'title.crew.csv','title.episode.csv', 'title.principals.csv',\n",
        "'title.ratings.csv', 'name.basics.csv']"
      ],
      "metadata": {
        "id": "skegmFMQXpcA"
      },
      "execution_count": null,
      "outputs": []
    },
    {
      "cell_type": "code",
      "source": [
        "def upload(schemat, csv):\n",
        "  df=spark.read.option(\"header\",\"true\").option(\"delimiter\", \"\\t\").schema(schemat).csv(csv)\n",
        "  return df"
      ],
      "metadata": {
        "id": "lroZaGhN9ssF"
      },
      "execution_count": null,
      "outputs": []
    },
    {
      "cell_type": "code",
      "source": [
        "[df_title_akas, df_title_basics, df_title_crew, df_title_episode, df_title_principals,\n",
        "df_title_ratings, df_name_basics]=[\n",
        "upload(Schematy[i], CSV[i])\n",
        "  for i in range(7) \n",
        "]"
      ],
      "metadata": {
        "id": "lvA1h-JA-4gO"
      },
      "execution_count": null,
      "outputs": []
    },
    {
      "cell_type": "markdown",
      "source": [
        "##Wyświetlmy dane"
      ],
      "metadata": {
        "id": "snoopt7lY71j"
      }
    },
    {
      "cell_type": "code",
      "source": [
        "df_name_basics.show(3)\n",
        "df_title_akas.show(3)\n",
        "df_title_basics.show(3)\n",
        "df_title_crew.show(3)\n",
        "df_title_episode.show(3)\n",
        "df_title_principals.show(3)\n",
        "df_title_ratings.show(3)"
      ],
      "metadata": {
        "id": "BQItTCh9ZBht",
        "colab": {
          "base_uri": "https://localhost:8080/"
        },
        "outputId": "70f0f24b-74cc-4868-a444-c4b3e7bb7702"
      },
      "execution_count": null,
      "outputs": [
        {
          "output_type": "stream",
          "name": "stdout",
          "text": [
            "+-----------+---------+---------+-----------------+--------------------+\n",
            "|primaryName|birthYear|deathYear|primaryProfession|      knownForTitles|\n",
            "+-----------+---------+---------+-----------------+--------------------+\n",
            "|  nm0000001|     null|     1899|             1987|soundtrack,actor,...|\n",
            "|  nm0000002|     null|     1924|             2014|  actress,soundtrack|\n",
            "|  nm0000003|     null|     1934|               \\N|actress,soundtrac...|\n",
            "+-----------+---------+---------+-----------------+--------------------+\n",
            "only showing top 3 rows\n",
            "\n",
            "+---------+--------+--------------------+------+--------+-----------+-------------+\n",
            "|  titleId|ordering|               title|region|language|      types|   attributes|\n",
            "+---------+--------+--------------------+------+--------+-----------+-------------+\n",
            "|tt0000001|       1|          Карменсіта|    UA|      \\N|imdbDisplay|           \\N|\n",
            "|tt0000001|       2|          Carmencita|    DE|      \\N|         \\N|literal title|\n",
            "|tt0000001|       3|Carmencita - span...|    HU|      \\N|imdbDisplay|           \\N|\n",
            "+---------+--------+--------------------+------+--------+-----------+-------------+\n",
            "only showing top 3 rows\n",
            "\n",
            "+---------+---------+--------------------+--------------------+-------+---------+-------+--------------+--------------------+\n",
            "|   tconst|titleType|        primaryTitle|       originalTitle|isAdult|startYear|endYear|runtimeMinutes|              genres|\n",
            "+---------+---------+--------------------+--------------------+-------+---------+-------+--------------+--------------------+\n",
            "|tt0000001|    short|          Carmencita|          Carmencita|   null|     1894|   null|             1|   Documentary,Short|\n",
            "|tt0000002|    short|Le clown et ses c...|Le clown et ses c...|   null|     1892|   null|             5|     Animation,Short|\n",
            "|tt0000003|    short|      Pauvre Pierrot|      Pauvre Pierrot|   null|     1892|   null|             4|Animation,Comedy,...|\n",
            "+---------+---------+--------------------+--------------------+-------+---------+-------+--------------+--------------------+\n",
            "only showing top 3 rows\n",
            "\n",
            "+---------+---------+-------+\n",
            "|   tconst|directors|writers|\n",
            "+---------+---------+-------+\n",
            "|tt0000001|nm0005690|     \\N|\n",
            "|tt0000002|nm0721526|     \\N|\n",
            "|tt0000003|nm0721526|     \\N|\n",
            "+---------+---------+-------+\n",
            "only showing top 3 rows\n",
            "\n",
            "+---------+------------+------------+-------------+\n",
            "|   tconst|parentTconst|seasonNumber|episodeNumber|\n",
            "+---------+------------+------------+-------------+\n",
            "|tt0041951|   tt0041038|           1|            9|\n",
            "|tt0042816|   tt0989125|           1|           17|\n",
            "|tt0042889|   tt0989125|        null|         null|\n",
            "+---------+------------+------------+-------------+\n",
            "only showing top 3 rows\n",
            "\n",
            "+---------+--------+---------+---------------+--------------------+\n",
            "|   tconst|ordering| category|            job|          characters|\n",
            "+---------+--------+---------+---------------+--------------------+\n",
            "|tt0000001|       1|nm1588970|           self|                  \\N|\n",
            "|tt0000001|       2|nm0005690|       director|                  \\N|\n",
            "|tt0000001|       3|nm0374658|cinematographer|director of photo...|\n",
            "+---------+--------+---------+---------------+--------------------+\n",
            "only showing top 3 rows\n",
            "\n",
            "+---------+-------------+--------+\n",
            "|   tconst|averageRating|numVotes|\n",
            "+---------+-------------+--------+\n",
            "|tt0000001|          5.7|    1923|\n",
            "|tt0000002|          5.8|     259|\n",
            "|tt0000003|          6.5|    1737|\n",
            "+---------+-------------+--------+\n",
            "only showing top 3 rows\n",
            "\n"
          ]
        }
      ]
    },
    {
      "cell_type": "markdown",
      "source": [
        "#Zamiana string na array(string)"
      ],
      "metadata": {
        "id": "1uOGkwaknuQa"
      }
    },
    {
      "cell_type": "markdown",
      "source": [
        "Zmienimy następujące kolumny: z tabeli df_title_akas kolumny attributes, types;\n",
        "z tabeli df_title_basics kolumna genres;\n",
        "z tabeli df_name_basics kolumny primaryProfession, knownForTitles;\n",
        "z tabeli df_title_crew kolumny directors, writers.\n"
      ],
      "metadata": {
        "id": "eZUKeWjuzSl9"
      }
    },
    {
      "cell_type": "markdown",
      "source": [
        "##Stworzenie nowych, odrębnych kolumn typu array, z kolumn typu string określonych wyżej"
      ],
      "metadata": {
        "id": "_Q7BCwJ2koZv"
      }
    },
    {
      "cell_type": "code",
      "source": [
        "df_title_akas_types= df_title_akas.select(split(col(\"types\"),\",\").alias(\"types\"))\n",
        "df_title_akas_attributes= df_title_akas.select(split(col(\"attributes\"),\",\").alias(\"attributes\"))\n",
        "df_name_basics_primaryProfession= df_name_basics.select(split(col(\"primaryProfession\"),\",\").alias(\"primaryProfession\"))\n",
        "df_name_basics_knownForTitles= df_name_basics.select(split(col(\"knownForTitles\"),\",\").alias(\"knownForTitles\"))\n",
        "df_title_basics_genres=df_title_basics.select(split(col(\"genres\"),\",\").alias(\"genres\"))\n",
        "df_title_crew_directors=df_title_crew.select(split(col(\"directors\"),\",\").alias(\"directors\"))\n",
        "df_title_crew_writers=df_title_crew.select(split(col(\"writers\"),\",\").alias(\"writers\"))"
      ],
      "metadata": {
        "id": "sUE_PBRC2ng_"
      },
      "execution_count": null,
      "outputs": []
    },
    {
      "cell_type": "markdown",
      "source": [
        "##Zamieńmy pierwotne kolumny na nowe"
      ],
      "metadata": {
        "id": "KT28G6KNrw9P"
      }
    },
    {
      "cell_type": "markdown",
      "source": [
        "###usuńmy pierwotne kolumny z niewłaściwym typem danych"
      ],
      "metadata": {
        "id": "K_gCEnEWr-mu"
      }
    },
    {
      "cell_type": "code",
      "source": [
        "df_title_akas= df_title_akas.drop(\"types\")\n",
        "df_title_akas= df_title_akas.drop(\"attributes\")\n",
        "df_name_basics= df_name_basics.drop(\"primaryProfession\")\n",
        "df_name_basics= df_name_basics.drop(\"knownForTitles\")\n",
        "df_title_basics=df_title_basics.drop(\"genres\")\n",
        "df_title_crew=df_title_crew.drop(\"directors\")\n",
        "df_title_crew=df_title_crew.drop(\"writers\")"
      ],
      "metadata": {
        "id": "tyOoHonZrwNd"
      },
      "execution_count": null,
      "outputs": []
    },
    {
      "cell_type": "markdown",
      "source": [
        "###dodajmy kolumny ideksów do nowych (jednokolumnowych) tabel i tabel pierwotnych"
      ],
      "metadata": {
        "id": "sPeY3_PD11bz"
      }
    },
    {
      "cell_type": "markdown",
      "source": [
        "dodajmy kolumny indeksów do bazowych tabel"
      ],
      "metadata": {
        "id": "MIiVP-D23i_H"
      }
    },
    {
      "cell_type": "code",
      "source": [
        "df_title_akas=df_title_akas.select(\"*\").withColumn(\"id\", monotonically_increasing_id())\n",
        "df_name_basics=df_name_basics.select(\"*\").withColumn(\"id\", monotonically_increasing_id())\n",
        "df_title_basics=df_title_basics.select(\"*\").withColumn(\"id\", monotonically_increasing_id())\n",
        "df_title_crew= df_title_crew.select(\"*\").withColumn(\"id\", monotonically_increasing_id())"
      ],
      "metadata": {
        "id": "Gm6ACVCa25_X"
      },
      "execution_count": null,
      "outputs": []
    },
    {
      "cell_type": "markdown",
      "source": [
        "i do nowych, jednokolumnowych tabel"
      ],
      "metadata": {
        "id": "BYp1dfa65ClX"
      }
    },
    {
      "cell_type": "code",
      "source": [
        "df_title_akas_types=df_title_akas_types.select(\"*\").withColumn(\"id1\", monotonically_increasing_id())\n",
        "df_title_akas_attributes=df_title_akas_attributes.select(\"*\").withColumn(\"id2\", monotonically_increasing_id())\n",
        "df_name_basics_primaryProfession=df_name_basics_primaryProfession.select(\"*\").withColumn(\"id3\", monotonically_increasing_id())\n",
        "df_name_basics_knownForTitles=df_name_basics_knownForTitles.select(\"*\").withColumn(\"id4\", monotonically_increasing_id())\n",
        "df_title_basics_genres=df_title_basics_genres.select(\"*\").withColumn(\"id5\", monotonically_increasing_id())\n",
        "df_title_crew_directors=df_title_crew_directors.select(\"*\").withColumn(\"id6\", monotonically_increasing_id())\n",
        "df_title_crew_writers=df_title_crew_writers.select(\"*\").withColumn(\"id7\", monotonically_increasing_id())"
      ],
      "metadata": {
        "id": "er0LGEou4PsO"
      },
      "execution_count": null,
      "outputs": []
    },
    {
      "cell_type": "markdown",
      "source": [
        "###połączmy je odpowiednio na bazie numerów indeksu"
      ],
      "metadata": {
        "id": "OYHabuPr5g3u"
      }
    },
    {
      "cell_type": "code",
      "source": [
        "df_title_akas= df_title_akas.join(df_title_akas_types, col('id') == col('id1'), 'leftouter')\n",
        "df_title_akas= df_title_akas.join(df_title_akas_attributes, col('id') == col('id2'), 'leftouter')\n",
        "df_name_basics= df_name_basics.join(df_name_basics_primaryProfession, col('id') == col('id3'), 'leftouter')\n",
        "df_name_basics= df_name_basics.join(df_name_basics_knownForTitles, col('id') == col('id4'), 'leftouter')\n",
        "df_title_basics=df_title_basics.join(df_title_basics_genres, col('id') == col('id5'), 'leftouter')\n",
        "df_title_crew= df_title_crew.join(df_title_crew_directors, col('id') == col('id6'), 'leftouter')\n",
        "df_title_crew= df_title_crew.join(df_title_crew_writers, col('id') == col('id7'), 'leftouter')"
      ],
      "metadata": {
        "id": "wO3XHuje6aIS"
      },
      "execution_count": null,
      "outputs": []
    },
    {
      "cell_type": "markdown",
      "source": [
        "###usuńmy kolumny indeksów"
      ],
      "metadata": {
        "id": "yDlIC7WZ8Iel"
      }
    },
    {
      "cell_type": "code",
      "source": [
        "df_title_akas=df_title_akas.drop(\"id\").drop(\"id1\").drop(\"id2\")\n",
        "df_name_basics=df_name_basics.drop(\"id\").drop(\"id3\").drop(\"id4\")\n",
        "df_title_basics=df_title_basics.drop(\"id\").drop(\"id5\")\n",
        "df_title_crew=df_title_crew.drop(\"id\").drop(\"id6\").drop(\"id7\")"
      ],
      "metadata": {
        "id": "nMZn83J18fvq"
      },
      "execution_count": null,
      "outputs": []
    },
    {
      "cell_type": "markdown",
      "source": [
        "##Wyświetlmy dane"
      ],
      "metadata": {
        "id": "YrKcVxphCh2G"
      }
    },
    {
      "cell_type": "code",
      "source": [
        "df_name_basics.show(3)\n",
        "df_title_akas.show(3)\n",
        "df_title_basics.show(3)\n",
        "df_title_crew.show(3)\n",
        "df_title_episode.show(3)\n",
        "df_title_principals.show(3)\n",
        "df_title_ratings.show(3)"
      ],
      "metadata": {
        "colab": {
          "base_uri": "https://localhost:8080/"
        },
        "id": "HHXa_0Gq-GHP",
        "outputId": "7acd8b88-f426-4b55-dc12-361f064a507f"
      },
      "execution_count": null,
      "outputs": [
        {
          "output_type": "stream",
          "name": "stdout",
          "text": [
            "+-----------+---------+---------+-----------------+--------------------+\n",
            "|primaryName|birthYear|deathYear|primaryProfession|      knownForTitles|\n",
            "+-----------+---------+---------+-----------------+--------------------+\n",
            "|  nm0000001|     null|     1899|           [1987]|[soundtrack, acto...|\n",
            "| nm11224286|     null|     null|             [\\N]|             [actor]|\n",
            "| nm11224287|     null|     null|             [\\N]|             [actor]|\n",
            "+-----------+---------+---------+-----------------+--------------------+\n",
            "only showing top 3 rows\n",
            "\n",
            "+----------+--------+--------------------+------+--------+-------------+----------+\n",
            "|   titleId|ordering|               title|region|language|        types|attributes|\n",
            "+----------+--------+--------------------+------+--------+-------------+----------+\n",
            "| tt0000001|       1|          Карменсіта|    UA|      \\N|[imdbDisplay]|      [\\N]|\n",
            "| tt0676525|       3|Épisode datant du...|    FR|      fr|         [\\N]|      [\\N]|\n",
            "|tt13353856|       7|      Episodio #6.35|    ES|      es|         [\\N]|      [\\N]|\n",
            "+----------+--------+--------------------+------+--------+-------------+----------+\n",
            "only showing top 3 rows\n",
            "\n",
            "+----------+---------+-------------+-------------+-------+---------+-------+--------------+--------------------+\n",
            "|    tconst|titleType| primaryTitle|originalTitle|isAdult|startYear|endYear|runtimeMinutes|              genres|\n",
            "+----------+---------+-------------+-------------+-------+---------+-------+--------------+--------------------+\n",
            "| tt0000001|    short|   Carmencita|   Carmencita|   null|     1894|   null|             1|[Documentary, Short]|\n",
            "|tt11127784|tvEpisode|Episode #9.40|Episode #9.40|   null|     2019|   null|            21|       [Documentary]|\n",
            "|tt11127786|tvEpisode|Episode #9.41|Episode #9.41|   null|     2019|   null|            22|       [Documentary]|\n",
            "+----------+---------+-------------+-------------+-------+---------+-------+--------------+--------------------+\n",
            "only showing top 3 rows\n",
            "\n",
            "+----------+-----------+-------+\n",
            "|    tconst|  directors|writers|\n",
            "+----------+-----------+-------+\n",
            "| tt0000001|[nm0005690]|   [\\N]|\n",
            "|tt15403320|       [\\N]|   [\\N]|\n",
            "|tt15403322|       [\\N]|   [\\N]|\n",
            "+----------+-----------+-------+\n",
            "only showing top 3 rows\n",
            "\n",
            "+---------+------------+------------+-------------+\n",
            "|   tconst|parentTconst|seasonNumber|episodeNumber|\n",
            "+---------+------------+------------+-------------+\n",
            "|tt0041951|   tt0041038|           1|            9|\n",
            "|tt0042816|   tt0989125|           1|           17|\n",
            "|tt0042889|   tt0989125|        null|         null|\n",
            "+---------+------------+------------+-------------+\n",
            "only showing top 3 rows\n",
            "\n",
            "+---------+--------+---------+---------------+--------------------+\n",
            "|   tconst|ordering| category|            job|          characters|\n",
            "+---------+--------+---------+---------------+--------------------+\n",
            "|tt0000001|       1|nm1588970|           self|                  \\N|\n",
            "|tt0000001|       2|nm0005690|       director|                  \\N|\n",
            "|tt0000001|       3|nm0374658|cinematographer|director of photo...|\n",
            "+---------+--------+---------+---------------+--------------------+\n",
            "only showing top 3 rows\n",
            "\n",
            "+---------+-------------+--------+\n",
            "|   tconst|averageRating|numVotes|\n",
            "+---------+-------------+--------+\n",
            "|tt0000001|          5.7|    1923|\n",
            "|tt0000002|          5.8|     259|\n",
            "|tt0000003|          6.5|    1737|\n",
            "+---------+-------------+--------+\n",
            "only showing top 3 rows\n",
            "\n"
          ]
        }
      ]
    },
    {
      "cell_type": "markdown",
      "source": [
        "Wyświetlmy typy danych"
      ],
      "metadata": {
        "id": "Tgd7zzpqD083"
      }
    },
    {
      "cell_type": "code",
      "source": [
        "df_name_basics.printSchema()\n",
        "df_title_akas.printSchema()\n",
        "df_title_basics.printSchema()\n",
        "df_title_crew.printSchema()\n",
        "df_title_episode.printSchema()\n",
        "df_title_principals.printSchema()\n",
        "df_title_ratings.printSchema()"
      ],
      "metadata": {
        "colab": {
          "base_uri": "https://localhost:8080/"
        },
        "id": "14CzNprfDzzl",
        "outputId": "82c9a26c-fd66-4e5c-a99d-de3f9b182f6a"
      },
      "execution_count": null,
      "outputs": [
        {
          "output_type": "stream",
          "name": "stdout",
          "text": [
            "root\n",
            " |-- primaryName: string (nullable = true)\n",
            " |-- birthYear: integer (nullable = true)\n",
            " |-- deathYear: integer (nullable = true)\n",
            " |-- primaryProfession: array (nullable = true)\n",
            " |    |-- element: string (containsNull = false)\n",
            " |-- knownForTitles: array (nullable = true)\n",
            " |    |-- element: string (containsNull = false)\n",
            "\n",
            "root\n",
            " |-- titleId: string (nullable = true)\n",
            " |-- ordering: integer (nullable = true)\n",
            " |-- title: string (nullable = true)\n",
            " |-- region: string (nullable = true)\n",
            " |-- language: string (nullable = true)\n",
            " |-- types: array (nullable = true)\n",
            " |    |-- element: string (containsNull = false)\n",
            " |-- attributes: array (nullable = true)\n",
            " |    |-- element: string (containsNull = false)\n",
            "\n",
            "root\n",
            " |-- tconst: string (nullable = true)\n",
            " |-- titleType: string (nullable = true)\n",
            " |-- primaryTitle: string (nullable = true)\n",
            " |-- originalTitle: string (nullable = true)\n",
            " |-- isAdult: boolean (nullable = true)\n",
            " |-- startYear: integer (nullable = true)\n",
            " |-- endYear: integer (nullable = true)\n",
            " |-- runtimeMinutes: integer (nullable = true)\n",
            " |-- genres: array (nullable = true)\n",
            " |    |-- element: string (containsNull = false)\n",
            "\n",
            "root\n",
            " |-- tconst: string (nullable = true)\n",
            " |-- directors: array (nullable = true)\n",
            " |    |-- element: string (containsNull = false)\n",
            " |-- writers: array (nullable = true)\n",
            " |    |-- element: string (containsNull = false)\n",
            "\n",
            "root\n",
            " |-- tconst: string (nullable = true)\n",
            " |-- parentTconst: string (nullable = true)\n",
            " |-- seasonNumber: integer (nullable = true)\n",
            " |-- episodeNumber: integer (nullable = true)\n",
            "\n",
            "root\n",
            " |-- tconst: string (nullable = true)\n",
            " |-- ordering: integer (nullable = true)\n",
            " |-- category: string (nullable = true)\n",
            " |-- job: string (nullable = true)\n",
            " |-- characters: string (nullable = true)\n",
            "\n",
            "root\n",
            " |-- tconst: string (nullable = true)\n",
            " |-- averageRating: float (nullable = true)\n",
            " |-- numVotes: integer (nullable = true)\n",
            "\n"
          ]
        }
      ]
    },
    {
      "cell_type": "markdown",
      "source": [
        "#Usunięcie duplikatów"
      ],
      "metadata": {
        "id": "i49wO8BapbWS"
      }
    },
    {
      "cell_type": "code",
      "source": [
        "df_name_basics=df_name_basics.distinct()\n",
        "df_title_akas=df_title_akas.distinct()\n",
        "df_title_basics=df_title_basics.distinct()\n",
        "df_title_crew=df_title_crew.distinct()\n",
        "df_title_episode=df_title_episode.distinct()\n",
        "df_title_principals=df_title_principals.distinct()\n",
        "df_title_ratings=df_title_ratings.distinct()"
      ],
      "metadata": {
        "id": "IwhoeuIDphv_"
      },
      "execution_count": null,
      "outputs": []
    }
  ]
}