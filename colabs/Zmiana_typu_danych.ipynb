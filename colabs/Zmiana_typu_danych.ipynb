{
  "nbformat": 4,
  "nbformat_minor": 0,
  "metadata": {
    "colab": {
      "provenance": [],
      "collapsed_sections": [
        "p0l3OAblXJ2w",
        "pPWxy5j_aEvo",
        "1uOGkwaknuQa",
        "OSW3DAeZpZFY",
        "D9PGGakBply4",
        "S23oTly_ppJJ",
        "qohwDv1YryhF",
        "bbdtLyaC6E8e"
      ],
      "include_colab_link": true
    },
    "kernelspec": {
      "name": "python3",
      "display_name": "Python 3"
    },
    "language_info": {
      "name": "python"
    }
  },
  "cells": [
    {
      "cell_type": "markdown",
      "metadata": {
        "id": "view-in-github",
        "colab_type": "text"
      },
      "source": [
        "<a href=\"https://colab.research.google.com/github/PiotrMaciejKowalski/BigData2022-actors/blob/poprawa_danych/colabs/Zmiana_typu_danych.ipynb\" target=\"_parent\"><img src=\"https://colab.research.google.com/assets/colab-badge.svg\" alt=\"Open In Colab\"/></a>"
      ]
    },
    {
      "cell_type": "markdown",
      "source": [
        "#Setup sparka"
      ],
      "metadata": {
        "id": "Vzb444kPW31g"
      }
    },
    {
      "cell_type": "code",
      "source": [
        "!pip install pyspark py4j\n",
        "!pip install -q findspark\n",
        "!apt-get install openjdk-8-jdk-headless -qq > /dev/null\n",
        "!wget ftp://ftp.ps.pl/pub/apache/spark/spark-3.3.1/spark-3.3.1-bin-hadoop2.tgz\n",
        "!tar xf spark-3.3.1-bin-hadoop2.tgz"
      ],
      "metadata": {
        "colab": {
          "base_uri": "https://localhost:8080/"
        },
        "id": "UxTbMYkeLrk6",
        "outputId": "9217bb7c-0bd4-433e-c0ad-468003591387"
      },
      "execution_count": 1,
      "outputs": [
        {
          "output_type": "stream",
          "name": "stdout",
          "text": [
            "Looking in indexes: https://pypi.org/simple, https://us-python.pkg.dev/colab-wheels/public/simple/\n",
            "Collecting pyspark\n",
            "  Downloading pyspark-3.3.1.tar.gz (281.4 MB)\n",
            "\u001b[K     |████████████████████████████████| 281.4 MB 37 kB/s \n",
            "\u001b[?25hCollecting py4j\n",
            "  Downloading py4j-0.10.9.7-py2.py3-none-any.whl (200 kB)\n",
            "\u001b[K     |████████████████████████████████| 200 kB 37.5 MB/s \n",
            "\u001b[?25h  Downloading py4j-0.10.9.5-py2.py3-none-any.whl (199 kB)\n",
            "\u001b[K     |████████████████████████████████| 199 kB 54.5 MB/s \n",
            "\u001b[?25hBuilding wheels for collected packages: pyspark\n",
            "  Building wheel for pyspark (setup.py) ... \u001b[?25l\u001b[?25hdone\n",
            "  Created wheel for pyspark: filename=pyspark-3.3.1-py2.py3-none-any.whl size=281845513 sha256=5d10bf790140e4b24b1b62ef2a7fff405d6e1425810a2d6320b3a3d52851d26e\n",
            "  Stored in directory: /root/.cache/pip/wheels/42/59/f5/79a5bf931714dcd201b26025347785f087370a10a3329a899c\n",
            "Successfully built pyspark\n",
            "Installing collected packages: py4j, pyspark\n",
            "Successfully installed py4j-0.10.9.5 pyspark-3.3.1\n",
            "--2022-11-08 14:32:08--  ftp://ftp.ps.pl/pub/apache/spark/spark-3.3.1/spark-3.3.1-bin-hadoop2.tgz\n",
            "           => ‘spark-3.3.1-bin-hadoop2.tgz’\n",
            "Resolving ftp.ps.pl (ftp.ps.pl)... 212.14.28.36, 2001:4c58:62:2::36\n",
            "Connecting to ftp.ps.pl (ftp.ps.pl)|212.14.28.36|:21... connected.\n",
            "Logging in as anonymous ... Logged in!\n",
            "==> SYST ... done.    ==> PWD ... done.\n",
            "==> TYPE I ... done.  ==> CWD (1) /pub/apache/spark/spark-3.3.1 ... done.\n",
            "==> SIZE spark-3.3.1-bin-hadoop2.tgz ... 274099817\n",
            "==> PASV ... done.    ==> RETR spark-3.3.1-bin-hadoop2.tgz ... done.\n",
            "Length: 274099817 (261M) (unauthoritative)\n",
            "\n",
            "spark-3.3.1-bin-had 100%[===================>] 261.40M  15.4MB/s    in 18s     \n",
            "\n",
            "2022-11-08 14:32:28 (14.9 MB/s) - ‘spark-3.3.1-bin-hadoop2.tgz’ saved [274099817]\n",
            "\n"
          ]
        }
      ]
    },
    {
      "cell_type": "code",
      "source": [
        "import pyspark\n",
        "import findspark\n",
        "from pyspark.sql import SparkSession\n",
        "import os"
      ],
      "metadata": {
        "id": "g_c507iBLsSW"
      },
      "execution_count": 2,
      "outputs": []
    },
    {
      "cell_type": "code",
      "source": [
        "os.environ[\"JAVA_HOME\"] = \"/usr/lib/jvm/java-8-openjdk-amd64\"\n",
        "os.environ[\"SPARK_HOME\"] = \"/content/spark-3.3.1-bin-hadoop2\"\n",
        "spark=SparkSession.builder.appName('Colab').getOrCreate()\n",
        "spark"
      ],
      "metadata": {
        "colab": {
          "base_uri": "https://localhost:8080/",
          "height": 219
        },
        "id": "02S-cSUI7iqf",
        "outputId": "087c541f-7b35-4160-d062-96a625187681"
      },
      "execution_count": 3,
      "outputs": [
        {
          "output_type": "execute_result",
          "data": {
            "text/plain": [
              "<pyspark.sql.session.SparkSession at 0x7f3123fec850>"
            ],
            "text/html": [
              "\n",
              "            <div>\n",
              "                <p><b>SparkSession - in-memory</b></p>\n",
              "                \n",
              "        <div>\n",
              "            <p><b>SparkContext</b></p>\n",
              "\n",
              "            <p><a href=\"http://6eae7a761af2:4040\">Spark UI</a></p>\n",
              "\n",
              "            <dl>\n",
              "              <dt>Version</dt>\n",
              "                <dd><code>v3.3.1</code></dd>\n",
              "              <dt>Master</dt>\n",
              "                <dd><code>local[*]</code></dd>\n",
              "              <dt>AppName</dt>\n",
              "                <dd><code>Colab</code></dd>\n",
              "            </dl>\n",
              "        </div>\n",
              "        \n",
              "            </div>\n",
              "        "
            ]
          },
          "metadata": {},
          "execution_count": 3
        }
      ]
    },
    {
      "cell_type": "markdown",
      "source": [
        "#Pobranie danych"
      ],
      "metadata": {
        "id": "p0l3OAblXJ2w"
      }
    },
    {
      "cell_type": "markdown",
      "source": [
        "##Import danych"
      ],
      "metadata": {
        "id": "kgYZYlTutA0O"
      }
    },
    {
      "cell_type": "code",
      "source": [
        "!wget https://datasets.imdbws.com/name.basics.tsv.gz\n",
        "!wget https://datasets.imdbws.com/title.akas.tsv.gz\n",
        "!wget https://datasets.imdbws.com/title.basics.tsv.gz\n",
        "!wget https://datasets.imdbws.com/title.crew.tsv.gz\n",
        "!wget https://datasets.imdbws.com/title.episode.tsv.gz\n",
        "!wget https://datasets.imdbws.com/title.principals.tsv.gz\n",
        "!wget https://datasets.imdbws.com/title.ratings.tsv.gz"
      ],
      "metadata": {
        "id": "SciXhN5JXONa",
        "colab": {
          "base_uri": "https://localhost:8080/"
        },
        "outputId": "cb428641-e06b-4b2b-ac07-fdecb3d381f0"
      },
      "execution_count": 4,
      "outputs": [
        {
          "output_type": "stream",
          "name": "stdout",
          "text": [
            "--2022-11-08 14:32:42--  https://datasets.imdbws.com/name.basics.tsv.gz\n",
            "Resolving datasets.imdbws.com (datasets.imdbws.com)... 52.84.106.120, 52.84.106.38, 52.84.106.125, ...\n",
            "Connecting to datasets.imdbws.com (datasets.imdbws.com)|52.84.106.120|:443... connected.\n",
            "HTTP request sent, awaiting response... 200 OK\n",
            "Length: 236081246 (225M) [binary/octet-stream]\n",
            "Saving to: ‘name.basics.tsv.gz’\n",
            "\n",
            "name.basics.tsv.gz  100%[===================>] 225.14M  15.6MB/s    in 14s     \n",
            "\n",
            "2022-11-08 14:32:57 (16.3 MB/s) - ‘name.basics.tsv.gz’ saved [236081246/236081246]\n",
            "\n",
            "--2022-11-08 14:32:57--  https://datasets.imdbws.com/title.akas.tsv.gz\n",
            "Resolving datasets.imdbws.com (datasets.imdbws.com)... 52.84.106.120, 52.84.106.38, 52.84.106.125, ...\n",
            "Connecting to datasets.imdbws.com (datasets.imdbws.com)|52.84.106.120|:443... connected.\n",
            "HTTP request sent, awaiting response... 200 OK\n",
            "Length: 286852961 (274M) [binary/octet-stream]\n",
            "Saving to: ‘title.akas.tsv.gz’\n",
            "\n",
            "title.akas.tsv.gz   100%[===================>] 273.56M  14.8MB/s    in 18s     \n",
            "\n",
            "2022-11-08 14:33:15 (15.2 MB/s) - ‘title.akas.tsv.gz’ saved [286852961/286852961]\n",
            "\n",
            "--2022-11-08 14:33:15--  https://datasets.imdbws.com/title.basics.tsv.gz\n",
            "Resolving datasets.imdbws.com (datasets.imdbws.com)... 13.249.39.59, 13.249.39.96, 13.249.39.14, ...\n",
            "Connecting to datasets.imdbws.com (datasets.imdbws.com)|13.249.39.59|:443... connected.\n",
            "HTTP request sent, awaiting response... 200 OK\n",
            "Length: 163556936 (156M) [binary/octet-stream]\n",
            "Saving to: ‘title.basics.tsv.gz’\n",
            "\n",
            "title.basics.tsv.gz 100%[===================>] 155.98M  47.8MB/s    in 3.6s    \n",
            "\n",
            "2022-11-08 14:33:19 (43.2 MB/s) - ‘title.basics.tsv.gz’ saved [163556936/163556936]\n",
            "\n",
            "--2022-11-08 14:33:19--  https://datasets.imdbws.com/title.crew.tsv.gz\n",
            "Resolving datasets.imdbws.com (datasets.imdbws.com)... 13.249.39.59, 13.249.39.96, 13.249.39.14, ...\n",
            "Connecting to datasets.imdbws.com (datasets.imdbws.com)|13.249.39.59|:443... connected.\n",
            "HTTP request sent, awaiting response... 200 OK\n",
            "Length: 62785751 (60M) [binary/octet-stream]\n",
            "Saving to: ‘title.crew.tsv.gz’\n",
            "\n",
            "title.crew.tsv.gz   100%[===================>]  59.88M  32.3MB/s    in 1.9s    \n",
            "\n",
            "2022-11-08 14:33:22 (32.3 MB/s) - ‘title.crew.tsv.gz’ saved [62785751/62785751]\n",
            "\n",
            "--2022-11-08 14:33:22--  https://datasets.imdbws.com/title.episode.tsv.gz\n",
            "Resolving datasets.imdbws.com (datasets.imdbws.com)... 13.249.39.59, 13.249.39.96, 13.249.39.14, ...\n",
            "Connecting to datasets.imdbws.com (datasets.imdbws.com)|13.249.39.59|:443... connected.\n",
            "HTTP request sent, awaiting response... 200 OK\n",
            "Length: 38444787 (37M) [binary/octet-stream]\n",
            "Saving to: ‘title.episode.tsv.gz’\n",
            "\n",
            "title.episode.tsv.g 100%[===================>]  36.66M  32.6MB/s    in 1.1s    \n",
            "\n",
            "2022-11-08 14:33:23 (32.6 MB/s) - ‘title.episode.tsv.gz’ saved [38444787/38444787]\n",
            "\n",
            "--2022-11-08 14:33:23--  https://datasets.imdbws.com/title.principals.tsv.gz\n",
            "Resolving datasets.imdbws.com (datasets.imdbws.com)... 13.249.39.59, 13.249.39.96, 13.249.39.14, ...\n",
            "Connecting to datasets.imdbws.com (datasets.imdbws.com)|13.249.39.59|:443... connected.\n",
            "HTTP request sent, awaiting response... 200 OK\n",
            "Length: 416387132 (397M) [binary/octet-stream]\n",
            "Saving to: ‘title.principals.tsv.gz’\n",
            "\n",
            "title.principals.ts 100%[===================>] 397.10M  47.9MB/s    in 8.6s    \n",
            "\n",
            "2022-11-08 14:33:32 (45.9 MB/s) - ‘title.principals.tsv.gz’ saved [416387132/416387132]\n",
            "\n",
            "--2022-11-08 14:33:32--  https://datasets.imdbws.com/title.ratings.tsv.gz\n",
            "Resolving datasets.imdbws.com (datasets.imdbws.com)... 13.249.39.59, 13.249.39.96, 13.249.39.14, ...\n",
            "Connecting to datasets.imdbws.com (datasets.imdbws.com)|13.249.39.59|:443... connected.\n",
            "HTTP request sent, awaiting response... 200 OK\n",
            "Length: 6253717 (6.0M) [binary/octet-stream]\n",
            "Saving to: ‘title.ratings.tsv.gz’\n",
            "\n",
            "title.ratings.tsv.g 100%[===================>]   5.96M  12.6MB/s    in 0.5s    \n",
            "\n",
            "2022-11-08 14:33:33 (12.6 MB/s) - ‘title.ratings.tsv.gz’ saved [6253717/6253717]\n",
            "\n"
          ]
        }
      ]
    },
    {
      "cell_type": "markdown",
      "source": [
        "##Rozpakowanie danych"
      ],
      "metadata": {
        "id": "or9x68JxXc10"
      }
    },
    {
      "cell_type": "code",
      "source": [
        "!gzip -dc /content/name.basics.tsv.gz > name.basics.csv\n",
        "!gzip -dc /content/title.akas.tsv.gz > title.akas.csv\n",
        "!gzip -dc /content/title.basics.tsv.gz > title.basics.csv\n",
        "!gzip -dc /content/title.crew.tsv.gz > title.crew.csv\n",
        "!gzip -dc /content/title.episode.tsv.gz > title.episode.csv\n",
        "!gzip -dc /content/title.principals.tsv.gz > title.principals.csv\n",
        "!gzip -dc /content/title.ratings.tsv.gz > title.ratings.csv"
      ],
      "metadata": {
        "id": "IpXAjtV4XeKx"
      },
      "execution_count": 5,
      "outputs": []
    },
    {
      "cell_type": "markdown",
      "source": [
        "#Wczytanie danych"
      ],
      "metadata": {
        "id": "pPWxy5j_aEvo"
      }
    },
    {
      "cell_type": "markdown",
      "source": [
        "##Wczytajmy dane z rozpakowanych plików"
      ],
      "metadata": {
        "id": "s-hzkKehxgnQ"
      }
    },
    {
      "cell_type": "code",
      "source": [
        "df_name_basics=spark.read.option(\"header\", \"true\").option(\"delimiter\", \"\\t\").csv('name.basics.csv' ) \n",
        "df_title_akas=spark.read.option(\"header\",\"true\").option(\"delimiter\", \"\\t\").csv('title.akas.csv')\n",
        "df_title_basics=spark.read.option(\"header\",\"true\").option(\"delimiter\", \"\\t\").csv('title.basics.csv')\n",
        "df_title_crew=spark.read.option(\"header\",\"true\").option(\"delimiter\", \"\\t\").csv('title.crew.csv')\n",
        "df_title_episode=spark.read.option(\"header\",\"true\").option(\"delimiter\",\"\\t\").csv('title.episode.csv')\n",
        "df_title_principals=spark.read.option(\"header\",\"true\").option(\"delimiter\",\"\\t\").csv('title.principals.csv')\n",
        "df_title_ratings=spark.read.option(\"header\",\"true\").option(\"delimiter\",\"\\t\").csv('title.ratings.csv')"
      ],
      "metadata": {
        "id": "skegmFMQXpcA"
      },
      "execution_count": 6,
      "outputs": []
    },
    {
      "cell_type": "markdown",
      "source": [
        "##Wyświetlmy dane"
      ],
      "metadata": {
        "id": "snoopt7lY71j"
      }
    },
    {
      "cell_type": "code",
      "source": [
        "df_name_basics.show(3)\n",
        "df_title_akas.show(3)\n",
        "df_title_basics.show(3)\n",
        "df_title_crew.show(3)\n",
        "df_title_episode.show(3)\n",
        "df_title_principals.show(3)\n",
        "df_title_ratings.show(3)"
      ],
      "metadata": {
        "id": "BQItTCh9ZBht",
        "colab": {
          "base_uri": "https://localhost:8080/"
        },
        "outputId": "9b4730a2-5b13-40ab-9b1a-25b5718d6259"
      },
      "execution_count": 7,
      "outputs": [
        {
          "output_type": "stream",
          "name": "stdout",
          "text": [
            "+---------+---------------+---------+---------+--------------------+--------------------+\n",
            "|   nconst|    primaryName|birthYear|deathYear|   primaryProfession|      knownForTitles|\n",
            "+---------+---------------+---------+---------+--------------------+--------------------+\n",
            "|nm0000001|   Fred Astaire|     1899|     1987|soundtrack,actor,...|tt0053137,tt00319...|\n",
            "|nm0000002|  Lauren Bacall|     1924|     2014|  actress,soundtrack|tt0037382,tt01170...|\n",
            "|nm0000003|Brigitte Bardot|     1934|       \\N|actress,soundtrac...|tt0049189,tt00573...|\n",
            "+---------+---------------+---------+---------+--------------------+--------------------+\n",
            "only showing top 3 rows\n",
            "\n",
            "+---------+--------+--------------------+------+--------+-----------+-------------+---------------+\n",
            "|  titleId|ordering|               title|region|language|      types|   attributes|isOriginalTitle|\n",
            "+---------+--------+--------------------+------+--------+-----------+-------------+---------------+\n",
            "|tt0000001|       1|          Карменсіта|    UA|      \\N|imdbDisplay|           \\N|              0|\n",
            "|tt0000001|       2|          Carmencita|    DE|      \\N|         \\N|literal title|              0|\n",
            "|tt0000001|       3|Carmencita - span...|    HU|      \\N|imdbDisplay|           \\N|              0|\n",
            "+---------+--------+--------------------+------+--------+-----------+-------------+---------------+\n",
            "only showing top 3 rows\n",
            "\n",
            "+---------+---------+--------------------+--------------------+-------+---------+-------+--------------+--------------------+\n",
            "|   tconst|titleType|        primaryTitle|       originalTitle|isAdult|startYear|endYear|runtimeMinutes|              genres|\n",
            "+---------+---------+--------------------+--------------------+-------+---------+-------+--------------+--------------------+\n",
            "|tt0000001|    short|          Carmencita|          Carmencita|      0|     1894|     \\N|             1|   Documentary,Short|\n",
            "|tt0000002|    short|Le clown et ses c...|Le clown et ses c...|      0|     1892|     \\N|             5|     Animation,Short|\n",
            "|tt0000003|    short|      Pauvre Pierrot|      Pauvre Pierrot|      0|     1892|     \\N|             4|Animation,Comedy,...|\n",
            "+---------+---------+--------------------+--------------------+-------+---------+-------+--------------+--------------------+\n",
            "only showing top 3 rows\n",
            "\n",
            "+---------+---------+-------+\n",
            "|   tconst|directors|writers|\n",
            "+---------+---------+-------+\n",
            "|tt0000001|nm0005690|     \\N|\n",
            "|tt0000002|nm0721526|     \\N|\n",
            "|tt0000003|nm0721526|     \\N|\n",
            "+---------+---------+-------+\n",
            "only showing top 3 rows\n",
            "\n",
            "+---------+------------+------------+-------------+\n",
            "|   tconst|parentTconst|seasonNumber|episodeNumber|\n",
            "+---------+------------+------------+-------------+\n",
            "|tt0041951|   tt0041038|           1|            9|\n",
            "|tt0042816|   tt0989125|           1|           17|\n",
            "|tt0042889|   tt0989125|          \\N|           \\N|\n",
            "+---------+------------+------------+-------------+\n",
            "only showing top 3 rows\n",
            "\n",
            "+---------+--------+---------+---------------+--------------------+----------+\n",
            "|   tconst|ordering|   nconst|       category|                 job|characters|\n",
            "+---------+--------+---------+---------------+--------------------+----------+\n",
            "|tt0000001|       1|nm1588970|           self|                  \\N|  [\"Self\"]|\n",
            "|tt0000001|       2|nm0005690|       director|                  \\N|        \\N|\n",
            "|tt0000001|       3|nm0374658|cinematographer|director of photo...|        \\N|\n",
            "+---------+--------+---------+---------------+--------------------+----------+\n",
            "only showing top 3 rows\n",
            "\n",
            "+---------+-------------+--------+\n",
            "|   tconst|averageRating|numVotes|\n",
            "+---------+-------------+--------+\n",
            "|tt0000001|          5.7|    1922|\n",
            "|tt0000002|          5.8|     259|\n",
            "|tt0000003|          6.5|    1733|\n",
            "+---------+-------------+--------+\n",
            "only showing top 3 rows\n",
            "\n"
          ]
        }
      ]
    },
    {
      "cell_type": "markdown",
      "source": [
        "#Dostosowanie typu danych"
      ],
      "metadata": {
        "id": "1uOGkwaknuQa"
      }
    },
    {
      "cell_type": "markdown",
      "source": [
        "##Sprawdźmy aktualne typy danych"
      ],
      "metadata": {
        "id": "OSW3DAeZpZFY"
      }
    },
    {
      "cell_type": "code",
      "source": [
        "df_name_basics.printSchema()\n",
        "df_title_akas.printSchema()\n",
        "df_title_basics.printSchema()\n",
        "df_title_crew.printSchema()\n",
        "df_title_episode.printSchema()\n",
        "df_title_principals.printSchema()\n",
        "df_title_ratings.printSchema()"
      ],
      "metadata": {
        "colab": {
          "base_uri": "https://localhost:8080/"
        },
        "id": "f4AuvPjUntvY",
        "outputId": "33e03614-a620-4789-cdc8-1f00097045d0"
      },
      "execution_count": 8,
      "outputs": [
        {
          "output_type": "stream",
          "name": "stdout",
          "text": [
            "root\n",
            " |-- nconst: string (nullable = true)\n",
            " |-- primaryName: string (nullable = true)\n",
            " |-- birthYear: string (nullable = true)\n",
            " |-- deathYear: string (nullable = true)\n",
            " |-- primaryProfession: string (nullable = true)\n",
            " |-- knownForTitles: string (nullable = true)\n",
            "\n",
            "root\n",
            " |-- titleId: string (nullable = true)\n",
            " |-- ordering: string (nullable = true)\n",
            " |-- title: string (nullable = true)\n",
            " |-- region: string (nullable = true)\n",
            " |-- language: string (nullable = true)\n",
            " |-- types: string (nullable = true)\n",
            " |-- attributes: string (nullable = true)\n",
            " |-- isOriginalTitle: string (nullable = true)\n",
            "\n",
            "root\n",
            " |-- tconst: string (nullable = true)\n",
            " |-- titleType: string (nullable = true)\n",
            " |-- primaryTitle: string (nullable = true)\n",
            " |-- originalTitle: string (nullable = true)\n",
            " |-- isAdult: string (nullable = true)\n",
            " |-- startYear: string (nullable = true)\n",
            " |-- endYear: string (nullable = true)\n",
            " |-- runtimeMinutes: string (nullable = true)\n",
            " |-- genres: string (nullable = true)\n",
            "\n",
            "root\n",
            " |-- tconst: string (nullable = true)\n",
            " |-- directors: string (nullable = true)\n",
            " |-- writers: string (nullable = true)\n",
            "\n",
            "root\n",
            " |-- tconst: string (nullable = true)\n",
            " |-- parentTconst: string (nullable = true)\n",
            " |-- seasonNumber: string (nullable = true)\n",
            " |-- episodeNumber: string (nullable = true)\n",
            "\n",
            "root\n",
            " |-- tconst: string (nullable = true)\n",
            " |-- ordering: string (nullable = true)\n",
            " |-- nconst: string (nullable = true)\n",
            " |-- category: string (nullable = true)\n",
            " |-- job: string (nullable = true)\n",
            " |-- characters: string (nullable = true)\n",
            "\n",
            "root\n",
            " |-- tconst: string (nullable = true)\n",
            " |-- averageRating: string (nullable = true)\n",
            " |-- numVotes: string (nullable = true)\n",
            "\n"
          ]
        }
      ]
    },
    {
      "cell_type": "markdown",
      "source": [
        "wszystkie dane domyślnie są typu string"
      ],
      "metadata": {
        "id": "pww200YEpg_v"
      }
    },
    {
      "cell_type": "markdown",
      "source": [
        "##Zmiana typów danych"
      ],
      "metadata": {
        "id": "D9PGGakBply4"
      }
    },
    {
      "cell_type": "markdown",
      "source": [
        "Typy danych zmienimy zgodnie z opisem danych https://www.imdb.com/interfaces/ "
      ],
      "metadata": {
        "id": "UxdR4u2Rs5Gq"
      }
    },
    {
      "cell_type": "code",
      "source": [
        "from pyspark.sql.types import StringType, ArrayType, IntegerType, BooleanType, DoubleType, DateType"
      ],
      "metadata": {
        "id": "quGXyxwLrEzD"
      },
      "execution_count": 9,
      "outputs": []
    },
    {
      "cell_type": "markdown",
      "source": [
        "###zmiana string na integer"
      ],
      "metadata": {
        "id": "S23oTly_ppJJ"
      }
    },
    {
      "cell_type": "markdown",
      "source": [
        "Typu integer powinny być: z tabeli df_title_akas dane z kolumny ordering; z tabeli df_title_principals dane z kolumny ordering, z tabeli df_title_episode dane z kolumn seasonNumber i episodeNumber, z tabeli df_title_ratings dane z kolumny numVotes, z df_title_basics kolumna runtimeMinutes. Mamy także dane w formacie YYYY, określające rok, je również zmienimy na integer: z tabeli df_title_basics kolumny startYear, endYear; z tabeli df_name_basics kolumny birthYear, deathYear."
      ],
      "metadata": {
        "id": "H9AJ4lubsUQ_"
      }
    },
    {
      "cell_type": "code",
      "source": [
        "df_title_akas = df_title_akas.withColumn(\"ordering\", df_title_akas[\"ordering\"].cast(IntegerType()))\n",
        "df_title_principals = df_title_principals.withColumn(\"ordering\", df_title_principals[\"ordering\"].cast(IntegerType()))\n",
        "df_title_ratings = df_title_ratings.withColumn(\"numVotes\", df_title_ratings[\"numVotes\"].cast(IntegerType()))\n",
        "df_title_episode = df_title_episode.withColumn(\"seasonNumber\", df_title_episode[\"seasonNumber\"].cast(IntegerType())).withColumn(\"episodeNumber\", df_title_episode[\"episodeNumber\"].cast(IntegerType()))\n",
        "df_title_basics = df_title_basics.withColumn(\"startYear\", df_title_basics[\"startYear\"].cast(IntegerType())).withColumn(\"endYear\", df_title_basics[\"endYear\"].cast(IntegerType())).withColumn(\"runtimeMinutes\", df_title_basics[\"runtimeMinutes\"].cast(IntegerType()))\n",
        "df_name_basics = df_name_basics.withColumn(\"birthYear\", df_name_basics[\"birthYear\"].cast(IntegerType())).withColumn(\"deathYear\", df_name_basics[\"deathYear\"].cast(IntegerType()))"
      ],
      "metadata": {
        "id": "ZbZN6wA2ps67"
      },
      "execution_count": 45,
      "outputs": []
    },
    {
      "cell_type": "markdown",
      "source": [
        "###zamiana string na boolean"
      ],
      "metadata": {
        "id": "qohwDv1YryhF"
      }
    },
    {
      "cell_type": "markdown",
      "source": [
        "Zmienimy z tabeli df_title_akas kolumnę isOriginalTitle oraz\n",
        "z tabeli df_title_basics kolumnę isAdult"
      ],
      "metadata": {
        "id": "62QDII2MuhHk"
      }
    },
    {
      "cell_type": "code",
      "source": [
        "df_title_akas = df_title_akas.withColumn(\"isOriginalTitle\", df_title_akas[\"isOriginalTitle\"].cast(BooleanType()))\n",
        "df_title_basics = df_title_basics.withColumn(\"isAdult\", df_title_basics[\"isAdult\"].cast(BooleanType()))"
      ],
      "metadata": {
        "id": "W8nHZd3Mr1Ub"
      },
      "execution_count": 16,
      "outputs": []
    },
    {
      "cell_type": "markdown",
      "source": [
        "###zamiana string na Double"
      ],
      "metadata": {
        "id": "bbdtLyaC6E8e"
      }
    },
    {
      "cell_type": "markdown",
      "source": [
        "df_title_ratings averageRating "
      ],
      "metadata": {
        "id": "MbSqgx0N6I2e"
      }
    },
    {
      "cell_type": "code",
      "source": [
        "df_title_ratings = df_title_ratings.withColumn(\"averageRating\", df_title_ratings[\"averageRating\"].cast(DoubleType()))"
      ],
      "metadata": {
        "id": "W54iuEhp6KGo"
      },
      "execution_count": 19,
      "outputs": []
    },
    {
      "cell_type": "markdown",
      "source": [
        "###zamiana string na array(string)"
      ],
      "metadata": {
        "id": "VMbV4zwNyza4"
      }
    },
    {
      "cell_type": "code",
      "source": [
        "import pyspark.sql.functions as F\n",
        "import pyspark.sql.types as T\n",
        "from pyspark.sql.functions import split, col"
      ],
      "metadata": {
        "id": "k_vQ4Oj_Ruui"
      },
      "execution_count": 22,
      "outputs": []
    },
    {
      "cell_type": "code",
      "source": [
        "#df_title_akas = df_title_akas.withColumn(\"types\", df_title_akas[\"types\"].cast(ArrayType()))"
      ],
      "metadata": {
        "id": "UynkQJ_VlELP"
      },
      "execution_count": 21,
      "outputs": []
    },
    {
      "cell_type": "markdown",
      "source": [
        "Zmienimy następujące kolumny: z tabeli df_title_akas kolumny attributes, types;\n",
        "z tabeli df_title_basics kolumna genres;\n",
        "z tabeli df_name_basics kolumny primaryProfession, knownForTitles;\n",
        "z tabeli df_title_crew kolumny directors, writers.\n"
      ],
      "metadata": {
        "id": "eZUKeWjuzSl9"
      }
    },
    {
      "cell_type": "markdown",
      "source": [
        "####Stworzenie nowych, odrębnych kolumn typu array, z kolumn typu string określonych wyżej"
      ],
      "metadata": {
        "id": "_Q7BCwJ2koZv"
      }
    },
    {
      "cell_type": "code",
      "source": [
        "df_title_akas_types= df_title_akas.select(split(col(\"types\"),\",\").alias(\"types\"))\n",
        "df_title_akas_attributes= df_title_akas.select(split(col(\"attributes\"),\",\").alias(\"attributes\"))\n",
        "df_name_basics_primaryProfession= df_name_basics.select(split(col(\"primaryProfession\"),\",\").alias(\"primaryProfession\"))\n",
        "df_name_basics_knownForTitles= df_name_basics.select(split(col(\"knownForTitles\"),\",\").alias(\"knownForTitles\"))\n",
        "df_title_basics_genres=df_title_basics.select(split(col(\"genres\"),\",\").alias(\"genres\"))\n",
        "df_title_crew_directors=df_title_crew.select(split(col(\"directors\"),\",\").alias(\"directors\"))\n",
        "df_title_crew_writers=df_title_crew.select(split(col(\"writers\"),\",\").alias(\"writers\"))"
      ],
      "metadata": {
        "id": "sUE_PBRC2ng_"
      },
      "execution_count": 36,
      "outputs": []
    },
    {
      "cell_type": "markdown",
      "source": [
        "wyświetlmy ich typy danych"
      ],
      "metadata": {
        "id": "RjiaxnjCvqxb"
      }
    },
    {
      "cell_type": "code",
      "source": [
        "df_title_akas_types.printSchema()\n",
        "df_title_akas_attributes.printSchema()\n",
        "df_name_basics_primaryProfession.printSchema()\n",
        "df_name_basics_knownForTitles.printSchema()\n",
        "df_title_basics_genres.printSchema()\n",
        "df_title_crew_directors.printSchema()\n",
        "df_title_crew_writers.printSchema()"
      ],
      "metadata": {
        "colab": {
          "base_uri": "https://localhost:8080/"
        },
        "id": "S7g9k6CBv2u5",
        "outputId": "23878777-7584-4290-e877-7a2a9fbd4c96"
      },
      "execution_count": 37,
      "outputs": [
        {
          "output_type": "stream",
          "name": "stdout",
          "text": [
            "root\n",
            " |-- types: array (nullable = true)\n",
            " |    |-- element: string (containsNull = false)\n",
            "\n",
            "root\n",
            " |-- attributes: array (nullable = true)\n",
            " |    |-- element: string (containsNull = false)\n",
            "\n",
            "root\n",
            " |-- primaryProfession: array (nullable = true)\n",
            " |    |-- element: string (containsNull = false)\n",
            "\n",
            "root\n",
            " |-- knownForTitles: array (nullable = true)\n",
            " |    |-- element: string (containsNull = false)\n",
            "\n",
            "root\n",
            " |-- genres: array (nullable = true)\n",
            " |    |-- element: string (containsNull = false)\n",
            "\n",
            "root\n",
            " |-- directors: array (nullable = true)\n",
            " |    |-- element: string (containsNull = false)\n",
            "\n",
            "root\n",
            " |-- writers: array (nullable = true)\n",
            " |    |-- element: string (containsNull = false)\n",
            "\n"
          ]
        }
      ]
    },
    {
      "cell_type": "markdown",
      "source": [
        "####Zamieńmy pierwotne kolumny na nowe"
      ],
      "metadata": {
        "id": "KT28G6KNrw9P"
      }
    },
    {
      "cell_type": "markdown",
      "source": [
        "#####usuńmy pierwotne kolumny z niewłaściwym typem danych"
      ],
      "metadata": {
        "id": "K_gCEnEWr-mu"
      }
    },
    {
      "cell_type": "code",
      "source": [
        "df_title_akas= df_title_akas.drop(\"types\")\n",
        "df_title_akas= df_title_akas.drop(\"attributes\")\n",
        "df_name_basics= df_name_basics.drop(\"primaryProfession\")\n",
        "df_name_basics= df_name_basics.drop(\"knownForTitles\")\n",
        "df_title_basics=df_title_basics.drop(\"genres\")\n",
        "df_title_crew=df_title_crew.drop(\"directors\")\n",
        "df_title_crew=df_title_crew.drop(\"writers\")"
      ],
      "metadata": {
        "id": "tyOoHonZrwNd"
      },
      "execution_count": 39,
      "outputs": []
    },
    {
      "cell_type": "markdown",
      "source": [
        "#####dodajmy kolumny ideksów do nowych (jednokolumnowych) tabel i tabel pierwotnych"
      ],
      "metadata": {
        "id": "sPeY3_PD11bz"
      }
    },
    {
      "cell_type": "code",
      "source": [
        "from pyspark.sql.functions import monotonically_increasing_id "
      ],
      "metadata": {
        "id": "E0KvYwPX2tQT"
      },
      "execution_count": 48,
      "outputs": []
    },
    {
      "cell_type": "markdown",
      "source": [
        "dodajmy kolumny indeksów do bazowych tabel"
      ],
      "metadata": {
        "id": "MIiVP-D23i_H"
      }
    },
    {
      "cell_type": "code",
      "source": [
        "df_title_akas=df_title_akas.select(\"*\").withColumn(\"id\", monotonically_increasing_id())\n",
        "df_name_basics=df_name_basics.select(\"*\").withColumn(\"id\", monotonically_increasing_id())\n",
        "df_title_basics=df_title_basics.select(\"*\").withColumn(\"id\", monotonically_increasing_id())\n",
        "df_title_crew= df_title_crew.select(\"*\").withColumn(\"id\", monotonically_increasing_id())"
      ],
      "metadata": {
        "id": "Gm6ACVCa25_X"
      },
      "execution_count": 49,
      "outputs": []
    },
    {
      "cell_type": "markdown",
      "source": [
        "i do nowych, jednokolumnowych tabel"
      ],
      "metadata": {
        "id": "BYp1dfa65ClX"
      }
    },
    {
      "cell_type": "code",
      "source": [
        "df_title_akas_types=df_title_akas_types.select(\"*\").withColumn(\"id1\", monotonically_increasing_id())\n",
        "df_title_akas_attributes=df_title_akas_attributes.select(\"*\").withColumn(\"id2\", monotonically_increasing_id())\n",
        "df_name_basics_primaryProfession=df_name_basics_primaryProfession.select(\"*\").withColumn(\"id3\", monotonically_increasing_id())\n",
        "df_name_basics_knownForTitles=df_name_basics_knownForTitles.select(\"*\").withColumn(\"id4\", monotonically_increasing_id())\n",
        "df_title_basics_genres=df_title_basics_genres.select(\"*\").withColumn(\"id5\", monotonically_increasing_id())\n",
        "df_title_crew_directors=df_title_crew_directors.select(\"*\").withColumn(\"id6\", monotonically_increasing_id())\n",
        "df_title_crew_writers=df_title_crew_writers.select(\"*\").withColumn(\"id7\", monotonically_increasing_id())"
      ],
      "metadata": {
        "id": "er0LGEou4PsO"
      },
      "execution_count": 51,
      "outputs": []
    },
    {
      "cell_type": "markdown",
      "source": [
        "#####połączmy je odpowiednio na bazie numerów indeksu"
      ],
      "metadata": {
        "id": "OYHabuPr5g3u"
      }
    },
    {
      "cell_type": "code",
      "source": [
        "df_title_akas= df_title_akas.join(df_title_akas_types, col('id') == col('id1'), 'leftouter')\n",
        "df_title_akas= df_title_akas.join(df_title_akas_attributes, col('id') == col('id2'), 'leftouter')\n",
        "df_name_basics= df_name_basics.join(df_name_basics_primaryProfession, col('id') == col('id3'), 'leftouter')\n",
        "df_name_basics= df_name_basics.join(df_name_basics_knownForTitles, col('id') == col('id4'), 'leftouter')\n",
        "df_title_basics=df_title_basics.join(df_title_basics_genres, col('id') == col('id5'), 'leftouter')\n",
        "df_title_crew= df_title_crew.join(df_title_crew_directors, col('id') == col('id6'), 'leftouter')\n",
        "df_title_crew= df_title_crew.join(df_title_crew_writers, col('id') == col('id7'), 'leftouter')"
      ],
      "metadata": {
        "id": "wO3XHuje6aIS"
      },
      "execution_count": 55,
      "outputs": []
    },
    {
      "cell_type": "markdown",
      "source": [
        "#####usuńmy kolumny indeksów"
      ],
      "metadata": {
        "id": "yDlIC7WZ8Iel"
      }
    },
    {
      "cell_type": "code",
      "source": [
        "df_title_akas=df_title_akas.drop(\"id\").drop(\"id1\").drop(\"id2\")\n",
        "df_name_basics=df_name_basics.drop(\"id\").drop(\"id3\").drop(\"id4\")\n",
        "df_title_basics=df_title_basics.drop(\"id\").drop(\"id5\")\n",
        "df_title_crew=df_title_crew.drop(\"id\").drop(\"id6\").drop(\"id7\")"
      ],
      "metadata": {
        "id": "nMZn83J18fvq"
      },
      "execution_count": 67,
      "outputs": []
    },
    {
      "cell_type": "markdown",
      "source": [
        "##Wyświetlmy dane"
      ],
      "metadata": {
        "id": "YrKcVxphCh2G"
      }
    },
    {
      "cell_type": "code",
      "source": [
        "df_name_basics.show(3)\n",
        "df_title_akas.show(3)\n",
        "df_title_basics.show(3)\n",
        "df_title_crew.show(3)\n",
        "df_title_episode.show(3)\n",
        "df_title_principals.show(3)\n",
        "df_title_ratings.show(3)"
      ],
      "metadata": {
        "colab": {
          "base_uri": "https://localhost:8080/"
        },
        "id": "HHXa_0Gq-GHP",
        "outputId": "b4a914c4-fc0a-4c95-cf57-f3c74b9c9411"
      },
      "execution_count": 69,
      "outputs": [
        {
          "output_type": "stream",
          "name": "stdout",
          "text": [
            "+----------+----------------+---------+---------+--------------------+--------------------+\n",
            "|    nconst|     primaryName|birthYear|deathYear|   primaryProfession|      knownForTitles|\n",
            "+----------+----------------+---------+---------+--------------------+--------------------+\n",
            "| nm0000001|    Fred Astaire|     1899|     1987|[soundtrack, acto...|[tt0053137, tt003...|\n",
            "|nm11225060|  Dystinkt Beats|     null|     null|          [composer]|                [\\N]|\n",
            "| nm5925068|Ian Kosmaczewski|     null|     null|[camera_departmen...|[tt3132106, tt606...|\n",
            "+----------+----------------+---------+---------+--------------------+--------------------+\n",
            "only showing top 3 rows\n",
            "\n",
            "+----------+--------+---------------+------+--------+---------------+-------------+----------+\n",
            "|   titleId|ordering|          title|region|language|isOriginalTitle|        types|attributes|\n",
            "+----------+--------+---------------+------+--------+---------------+-------------+----------+\n",
            "| tt0000001|       1|     Карменсіта|    UA|      \\N|          false|[imdbDisplay]|      [\\N]|\n",
            "| tt0678687|       7| Episódio #4.35|    PT|      pt|          false|         [\\N]|      [\\N]|\n",
            "|tt13357032|       2|Belbo the Clown|    US|      \\N|          false|[imdbDisplay]|      [\\N]|\n",
            "+----------+--------+---------------+------+--------+---------------+-------------+----------+\n",
            "only showing top 3 rows\n",
            "\n",
            "+----------+---------+------------+-------------+-------+---------+-------+--------------+--------------------+\n",
            "|    tconst|titleType|primaryTitle|originalTitle|isAdult|startYear|endYear|runtimeMinutes|              genres|\n",
            "+----------+---------+------------+-------------+-------+---------+-------+--------------+--------------------+\n",
            "| tt0000001|    short|  Carmencita|   Carmencita|  false|     1894|   null|             1|[Documentary, Short]|\n",
            "|tt11128402|tvEpisode| Le poivrier|  Le poivrier|  false|     2019|   null|          null|            [Family]|\n",
            "|tt11128404|tvEpisode|Episode #1.6| Episode #1.6|  false|     1983|   null|          null|[Crime, Drama, Th...|\n",
            "+----------+---------+------------+-------------+-------+---------+-------+--------------+--------------------+\n",
            "only showing top 3 rows\n",
            "\n",
            "+----------+--------------------+-------+\n",
            "|    tconst|           directors|writers|\n",
            "+----------+--------------------+-------+\n",
            "| tt0000001|         [nm0005690]|   [\\N]|\n",
            "|tt15406440|[nm11227024, nm12...|   [\\N]|\n",
            "|tt15406442|                [\\N]|   [\\N]|\n",
            "+----------+--------------------+-------+\n",
            "only showing top 3 rows\n",
            "\n",
            "+---------+------------+------------+-------------+\n",
            "|   tconst|parentTconst|seasonNumber|episodeNumber|\n",
            "+---------+------------+------------+-------------+\n",
            "|tt0041951|   tt0041038|           1|            9|\n",
            "|tt0042816|   tt0989125|           1|           17|\n",
            "|tt0042889|   tt0989125|        null|         null|\n",
            "+---------+------------+------------+-------------+\n",
            "only showing top 3 rows\n",
            "\n",
            "+---------+--------+---------+---------------+--------------------+----------+\n",
            "|   tconst|ordering|   nconst|       category|                 job|characters|\n",
            "+---------+--------+---------+---------------+--------------------+----------+\n",
            "|tt0000001|       1|nm1588970|           self|                  \\N|  [\"Self\"]|\n",
            "|tt0000001|       2|nm0005690|       director|                  \\N|        \\N|\n",
            "|tt0000001|       3|nm0374658|cinematographer|director of photo...|        \\N|\n",
            "+---------+--------+---------+---------------+--------------------+----------+\n",
            "only showing top 3 rows\n",
            "\n",
            "+---------+-------------+--------+\n",
            "|   tconst|averageRating|numVotes|\n",
            "+---------+-------------+--------+\n",
            "|tt0000001|          5.7|    1922|\n",
            "|tt0000002|          5.8|     259|\n",
            "|tt0000003|          6.5|    1733|\n",
            "+---------+-------------+--------+\n",
            "only showing top 3 rows\n",
            "\n"
          ]
        }
      ]
    },
    {
      "cell_type": "markdown",
      "source": [
        "Wyświetlmy typy danych"
      ],
      "metadata": {
        "id": "Tgd7zzpqD083"
      }
    },
    {
      "cell_type": "code",
      "source": [
        "df_name_basics.printSchema()\n",
        "df_title_akas.printSchema()\n",
        "df_title_basics.printSchema()\n",
        "df_title_crew.printSchema()\n",
        "df_title_episode.printSchema()\n",
        "df_title_principals.printSchema()\n",
        "df_title_ratings.printSchema()"
      ],
      "metadata": {
        "colab": {
          "base_uri": "https://localhost:8080/"
        },
        "id": "14CzNprfDzzl",
        "outputId": "792a8a6d-c146-44b4-acea-bb9d1925ff4e"
      },
      "execution_count": 70,
      "outputs": [
        {
          "output_type": "stream",
          "name": "stdout",
          "text": [
            "root\n",
            " |-- nconst: string (nullable = true)\n",
            " |-- primaryName: string (nullable = true)\n",
            " |-- birthYear: integer (nullable = true)\n",
            " |-- deathYear: integer (nullable = true)\n",
            " |-- primaryProfession: array (nullable = true)\n",
            " |    |-- element: string (containsNull = false)\n",
            " |-- knownForTitles: array (nullable = true)\n",
            " |    |-- element: string (containsNull = false)\n",
            "\n",
            "root\n",
            " |-- titleId: string (nullable = true)\n",
            " |-- ordering: integer (nullable = true)\n",
            " |-- title: string (nullable = true)\n",
            " |-- region: string (nullable = true)\n",
            " |-- language: string (nullable = true)\n",
            " |-- isOriginalTitle: boolean (nullable = true)\n",
            " |-- types: array (nullable = true)\n",
            " |    |-- element: string (containsNull = false)\n",
            " |-- attributes: array (nullable = true)\n",
            " |    |-- element: string (containsNull = false)\n",
            "\n",
            "root\n",
            " |-- tconst: string (nullable = true)\n",
            " |-- titleType: string (nullable = true)\n",
            " |-- primaryTitle: string (nullable = true)\n",
            " |-- originalTitle: string (nullable = true)\n",
            " |-- isAdult: boolean (nullable = true)\n",
            " |-- startYear: integer (nullable = true)\n",
            " |-- endYear: integer (nullable = true)\n",
            " |-- runtimeMinutes: integer (nullable = true)\n",
            " |-- genres: array (nullable = true)\n",
            " |    |-- element: string (containsNull = false)\n",
            "\n",
            "root\n",
            " |-- tconst: string (nullable = true)\n",
            " |-- directors: array (nullable = true)\n",
            " |    |-- element: string (containsNull = false)\n",
            " |-- writers: array (nullable = true)\n",
            " |    |-- element: string (containsNull = false)\n",
            "\n",
            "root\n",
            " |-- tconst: string (nullable = true)\n",
            " |-- parentTconst: string (nullable = true)\n",
            " |-- seasonNumber: integer (nullable = true)\n",
            " |-- episodeNumber: integer (nullable = true)\n",
            "\n",
            "root\n",
            " |-- tconst: string (nullable = true)\n",
            " |-- ordering: integer (nullable = true)\n",
            " |-- nconst: string (nullable = true)\n",
            " |-- category: string (nullable = true)\n",
            " |-- job: string (nullable = true)\n",
            " |-- characters: string (nullable = true)\n",
            "\n",
            "root\n",
            " |-- tconst: string (nullable = true)\n",
            " |-- averageRating: double (nullable = true)\n",
            " |-- numVotes: integer (nullable = true)\n",
            "\n"
          ]
        }
      ]
    }
  ]
}
