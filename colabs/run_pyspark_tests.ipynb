{
  "nbformat": 4,
  "nbformat_minor": 0,
  "metadata": {
    "colab": {
      "provenance": [],
      "authorship_tag": "ABX9TyNdpi0hLv8L8g+CB80A5wcl",
      "include_colab_link": true
    },
    "kernelspec": {
      "name": "python3",
      "display_name": "Python 3"
    },
    "language_info": {
      "name": "python"
    }
  },
  "cells": [
    {
      "cell_type": "markdown",
      "metadata": {
        "id": "view-in-github",
        "colab_type": "text"
      },
      "source": [
        "<a href=\"https://colab.research.google.com/github/PiotrMaciejKowalski/BigData2022-actors/blob/add_test_for_top_genre/colabs/run_pyspark_tests.ipynb\" target=\"_parent\"><img src=\"https://colab.research.google.com/assets/colab-badge.svg\" alt=\"Open In Colab\"/></a>"
      ]
    },
    {
      "cell_type": "code",
      "execution_count": null,
      "metadata": {
        "id": "GA9ZmsZi_U6S"
      },
      "outputs": [],
      "source": [
        "from google.colab import drive\n",
        "drive.mount('/content/gdrive')"
      ]
    },
    {
      "cell_type": "code",
      "source": [
        "!git clone https://github.com/PiotrMaciejKowalski/BigData2022-actors.git\n",
        "!mv /content/BigData2022-actors/* .\n",
        "!mv /content/BigData2022-actors/.* .\n",
        "!rmdir /content/BigData2022-actors/"
      ],
      "metadata": {
        "id": "haSOhJxx_ZJb"
      },
      "execution_count": null,
      "outputs": []
    },
    {
      "cell_type": "code",
      "source": [
        "# !git checkout <branch>"
      ],
      "metadata": {
        "id": "VUwUcwif_ajR"
      },
      "execution_count": null,
      "outputs": []
    },
    {
      "cell_type": "code",
      "source": [
        "!chmod +x setup_sparka.sh\n",
        "!./setup_sparka.sh"
      ],
      "metadata": {
        "id": "xlbg_HHu_dcb"
      },
      "execution_count": null,
      "outputs": []
    },
    {
      "cell_type": "code",
      "source": [
        "!pytest spark_tests/ -s"
      ],
      "metadata": {
        "id": "iHonMqtm_fDj"
      },
      "execution_count": null,
      "outputs": []
    }
  ]
}