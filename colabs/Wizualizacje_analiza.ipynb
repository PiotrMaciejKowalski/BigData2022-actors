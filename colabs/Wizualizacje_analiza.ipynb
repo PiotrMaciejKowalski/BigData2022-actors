{
  "nbformat": 4,
  "nbformat_minor": 0,
  "metadata": {
    "colab": {
      "provenance": [],
      "include_colab_link": true
    },
    "kernelspec": {
      "name": "python3",
      "display_name": "Python 3"
    },
    "language_info": {
      "name": "python"
    }
  },
  "cells": [
    {
      "cell_type": "markdown",
      "metadata": {
        "id": "view-in-github",
        "colab_type": "text"
      },
      "source": [
        "<a href=\"https://colab.research.google.com/github/PiotrMaciejKowalski/BigData2022-actors/blob/CU-30u4v4d_Analiza-wizualizacja/colabs/Wizualizacje_analiza.ipynb\" target=\"_parent\"><img src=\"https://colab.research.google.com/assets/colab-badge.svg\" alt=\"Open In Colab\"/></a>"
      ]
    },
    {
      "cell_type": "code",
      "execution_count": 1,
      "metadata": {
        "id": "V8-nE3oH58P6",
        "outputId": "774d3d98-5914-41a8-9b3c-6dba4940c9bd",
        "colab": {
          "base_uri": "https://localhost:8080/"
        }
      },
      "outputs": [
        {
          "output_type": "stream",
          "name": "stdout",
          "text": [
            "Mounted at /content/gdrive\n"
          ]
        }
      ],
      "source": [
        "from google.colab import drive\n",
        "drive.mount('/content/gdrive')"
      ]
    },
    {
      "cell_type": "code",
      "source": [
        "!git clone https://github.com/PiotrMaciejKowalski/BigData2022-actors.git\n",
        "!mv /content/BigData2022-actors/* .\n",
        "!mv /content/BigData2022-actors/.* .\n",
        "!rmdir /content/BigData2022-actors/"
      ],
      "metadata": {
        "id": "CJDl9hKq623W",
        "outputId": "3f16c70b-729f-4460-eeeb-1801d2c3ba52",
        "colab": {
          "base_uri": "https://localhost:8080/"
        }
      },
      "execution_count": 2,
      "outputs": [
        {
          "output_type": "stream",
          "name": "stdout",
          "text": [
            "Cloning into 'BigData2022-actors'...\n",
            "remote: Enumerating objects: 711, done.\u001b[K\n",
            "remote: Counting objects: 100% (195/195), done.\u001b[K\n",
            "remote: Compressing objects: 100% (147/147), done.\u001b[K\n",
            "remote: Total 711 (delta 118), reused 59 (delta 48), pack-reused 516\u001b[K\n",
            "Receiving objects: 100% (711/711), 5.77 MiB | 26.14 MiB/s, done.\n",
            "Resolving deltas: 100% (358/358), done.\n",
            "mv: cannot move '/content/BigData2022-actors/.' to './.': Device or resource busy\n",
            "mv: cannot move '/content/BigData2022-actors/..' to './..': Device or resource busy\n"
          ]
        }
      ]
    },
    {
      "cell_type": "code",
      "source": [
        "!git checkout Refactoring"
      ],
      "metadata": {
        "id": "byTOVMAl67xS",
        "outputId": "784ba02c-59c1-447b-8374-fe422d36c272",
        "colab": {
          "base_uri": "https://localhost:8080/"
        }
      },
      "execution_count": 6,
      "outputs": [
        {
          "output_type": "stream",
          "name": "stdout",
          "text": [
            "Branch 'Refactoring' set up to track remote branch 'Refactoring' from 'origin'.\n",
            "Switched to a new branch 'Refactoring'\n"
          ]
        }
      ]
    },
    {
      "cell_type": "code",
      "source": [
        "!chmod +x setup_sparka.sh\n",
        "!./setup_sparka.sh"
      ],
      "metadata": {
        "id": "60AJd6gh69of",
        "outputId": "82635ed2-63ce-4ee7-b070-ca62b2dbae16",
        "colab": {
          "base_uri": "https://localhost:8080/"
        }
      },
      "execution_count": 7,
      "outputs": [
        {
          "output_type": "stream",
          "name": "stdout",
          "text": [
            "Looking in indexes: https://pypi.org/simple, https://us-python.pkg.dev/colab-wheels/public/simple/\n",
            "Collecting pyspark\n",
            "  Downloading pyspark-3.3.1.tar.gz (281.4 MB)\n",
            "\u001b[K     |████████████████████████████████| 281.4 MB 41 kB/s \n",
            "\u001b[?25hCollecting py4j\n",
            "  Downloading py4j-0.10.9.7-py2.py3-none-any.whl (200 kB)\n",
            "\u001b[K     |████████████████████████████████| 200 kB 32.6 MB/s \n",
            "\u001b[?25h  Downloading py4j-0.10.9.5-py2.py3-none-any.whl (199 kB)\n",
            "\u001b[K     |████████████████████████████████| 199 kB 13.7 MB/s \n",
            "\u001b[?25hBuilding wheels for collected packages: pyspark\n",
            "  Building wheel for pyspark (setup.py) ... \u001b[?25l\u001b[?25hdone\n",
            "  Created wheel for pyspark: filename=pyspark-3.3.1-py2.py3-none-any.whl size=281845512 sha256=0a1475f2d0aa5e1fe51af3e14097837a6098a6f3729dd27e056e735f5edf21e0\n",
            "  Stored in directory: /root/.cache/pip/wheels/43/dc/11/ec201cd671da62fa9c5cc77078235e40722170ceba231d7598\n",
            "Successfully built pyspark\n",
            "Installing collected packages: py4j, pyspark\n",
            "Successfully installed py4j-0.10.9.5 pyspark-3.3.1\n",
            "--2022-12-13 19:42:45--  https://dlcdn.apache.org/spark/spark-3.3.1/spark-3.3.1-bin-hadoop2.tgz\n",
            "Resolving dlcdn.apache.org (dlcdn.apache.org)... 151.101.2.132, 2a04:4e42::644\n",
            "Connecting to dlcdn.apache.org (dlcdn.apache.org)|151.101.2.132|:443... connected.\n",
            "HTTP request sent, awaiting response... 200 OK\n",
            "Length: 274099817 (261M) [application/x-gzip]\n",
            "Saving to: ‘spark-3.3.1-bin-hadoop2.tgz’\n",
            "\n",
            "spark-3.3.1-bin-had 100%[===================>] 261.40M   210MB/s    in 1.2s    \n",
            "\n",
            "2022-12-13 19:42:47 (210 MB/s) - ‘spark-3.3.1-bin-hadoop2.tgz’ saved [274099817/274099817]\n",
            "\n"
          ]
        }
      ]
    },
    {
      "cell_type": "code",
      "source": [
        "from lib.pyspark_init import create_spark_context, add_kaggle_data\n",
        "from lib.const import JOINED_DATA, DATA_WITH_AWARDS"
      ],
      "metadata": {
        "id": "PygzVIzT7CdG"
      },
      "execution_count": 8,
      "outputs": []
    },
    {
      "cell_type": "code",
      "source": [
        "spark = create_spark_context()\n",
        "spark"
      ],
      "metadata": {
        "id": "4oAFq__N7FYz",
        "outputId": "f6df3ace-523d-4036-d597-d7ee2a8296ba",
        "colab": {
          "base_uri": "https://localhost:8080/",
          "height": 219
        }
      },
      "execution_count": 9,
      "outputs": [
        {
          "output_type": "execute_result",
          "data": {
            "text/plain": [
              "<pyspark.sql.session.SparkSession at 0x7f7d606127f0>"
            ],
            "text/html": [
              "\n",
              "            <div>\n",
              "                <p><b>SparkSession - in-memory</b></p>\n",
              "                \n",
              "        <div>\n",
              "            <p><b>SparkContext</b></p>\n",
              "\n",
              "            <p><a href=\"http://1a5e5d471b27:4040\">Spark UI</a></p>\n",
              "\n",
              "            <dl>\n",
              "              <dt>Version</dt>\n",
              "                <dd><code>v3.3.1</code></dd>\n",
              "              <dt>Master</dt>\n",
              "                <dd><code>local[*]</code></dd>\n",
              "              <dt>AppName</dt>\n",
              "                <dd><code>Colab</code></dd>\n",
              "            </dl>\n",
              "        </div>\n",
              "        \n",
              "            </div>\n",
              "        "
            ]
          },
          "metadata": {},
          "execution_count": 9
        }
      ]
    },
    {
      "cell_type": "code",
      "source": [
        "%%time\n",
        "data = spark.read.parquet(JOINED_DATA)\n",
        "data.show()"
      ],
      "metadata": {
        "id": "kQchKy8Y7HjW",
        "outputId": "bf36f7ba-e52c-4d97-9f5d-63ed6ebe2a6a",
        "colab": {
          "base_uri": "https://localhost:8080/"
        }
      },
      "execution_count": 10,
      "outputs": [
        {
          "output_type": "stream",
          "name": "stdout",
          "text": [
            "+---------+--------------------+--------------------+--------------------+--------------------+---------+-------+--------------------+--------+--------------------+--------------------+--------------------+\n",
            "|   nconst|              tconst|           titleType|       originalTitle|             isAdult|startYear|endYear|              genres|category|          characters|         primaryName|      knownForTitles|\n",
            "+---------+--------------------+--------------------+--------------------+--------------------+---------+-------+--------------------+--------+--------------------+--------------------+--------------------+\n",
            "|nm0000017|[tt0021156, tt001...|[movie, movie, mo...|[Morocco, Gefahre...|[0, 0, 0, 0, 0, 0...|     1919|     \\N|[Drama,Romance, C...| actress|[[\"Mademoiselle A...|    Marlene Dietrich|tt0051201,tt00211...|\n",
            "|nm0000051|[tt0028417, tt002...|[movie, movie, mo...|[Troubled Waters,...|[0, 0, 0, 0, 0, 0...|     1935|     \\N|[Crime,Mystery, C...|   actor|[[\"John Merriman\"...|         James Mason|tt0047522,tt00531...|\n",
            "|nm0000149|[tt0070611, tt078...|[tvEpisode, tvEpi...|[Rookie of the Ye...|[0, 0, 0, 0, 0, 0...|     1969|     \\N|[Adventure,Comedy...| actress|[[\"Sharon Lee\"], ...|        Jodie Foster|tt0075314,tt01029...|\n",
            "|nm0000156|[tt0275140, tt009...|[tvSeries, movie,...|[Law & Order: Cri...|[0, 0, 0, 0, 0, 0...|     1977|     \\N|[Crime,Drama,Myst...|   actor|[[\"Detective Zack...|       Jeff Goldblum|tt0116629,tt00910...|\n",
            "|nm0000205|[tt0295238, tt044...|[movie, movie, mo...|[Personal Velocit...|[0, 0, 0, 0, 0, 0...|     1991|     \\N|[Drama,Romance, A...| actress|[[\"Greta Herskowi...|        Parker Posey|tt0348150,tt03590...|\n",
            "|nm0000249|[tt0268808, tt011...|[tvMiniSeries, mo...|[Founding Fathers...|[0, 0, 0, 0, 0, 0...|     1972|     \\N|[Documentary,Hist...|   actor|[[\"John Adams\"], ...|         James Woods|tt0086541,tt01192...|\n",
            "|nm0000262|[tt0086374, tt009...|[movie, movie, mo...|[Strange Invaders...|[0, 0, 0, 0, 0, 0...|     1976|     \\N|[Horror,Mystery,S...| actress|[[\"Betty Walker\"]...|         Nancy Allen|tt0093870,tt00806...|\n",
            "|nm0000281|[tt0111909, tt009...|[tvSeries, movie,...|[Can't Hurry Love...|[0, 0, 0, 0, 0, 0...|     1974|     \\N|[Comedy, Comedy,D...|   actor|[[\"Matt\"], [\"Mari...|          Scott Baio|tt0367279,tt02816...|\n",
            "|nm0000283|[tt0095142, tt010...|[tvMovie, movie, ...|[A Father's Homec...|[0, 0, 0, 0, 0, 0...|     1987|     \\N|[Adventure,Drama,...| actress|[[\"Nurse Pitzer\"]...|        Brenda Bakke|tt0107144,tt01194...|\n",
            "|nm0000305|[tt0029421, tt002...|[short, short, sh...|[Porky and Gabby,...|[0, 0, 0, 0, 0, 0...|     1930|     \\N|[Animation,Comedy...|   actor|[[\"Porky Pig\",\"Ga...|           Mel Blanc|tt0303804,tt00949...|\n",
            "|nm0000307|[tt1049536, tt009...|[tvEpisode, tvEpi...|[The Way to Satti...|[0, 0, 0, 0, 0, 0...|     1985|     \\N|[Family,Fantasy, ...| actress|[[\"Storyteller\"],...|Helena Bonham Carter|tt0408236,tt01375...|\n",
            "|nm0000348|[tt0044970, tt005...|[movie, movie, mo...|[No Room for the ...|[0, 0, 0, 0, 0, 0...|     1949|     \\N|[Comedy, Drama,Fi...|   actor|[[\"Alvah Morrell\"...|         Tony Curtis|tt0051036,tt00543...|\n",
            "|nm0000398|[tt0078856, tt005...|[movie, tvSeries,...|[Beyond the Posei...|[0, 0, 0, 0, 0, 0...|     1965|     \\N|[Action,Adventure...| actress|[[\"Celeste Whitma...|         Sally Field|tt0098384,tt00767...|\n",
            "|nm0000409|[tt0114099, tt104...|[movie, tvEpisode...|[The Passion of D...|[0, 0, 0, 0, 0, 0...|     1991|     \\N|[Drama,Mystery,Th...|   actor|[[\"Darkly Noon\"],...|      Brendan Fraser|tt0120616,tt02091...|\n",
            "|nm0000483|[tt0098122, tt009...|[movie, movie, mo...|[Love Dream, To K...|[0, 0, 0, 0, 0, 0...|     1984|     \\N|[Drama,Fantasy,Ro...|   actor|[[\"Menrou\"], [\"Fa...| Christopher Lambert|tt0106950,tt01138...|\n",
            "|nm0000588|[tt0129866, tt013...|[tvMovie, short, ...|[The Defenders: P...|[0, 0, 0, 0, 0, 0...|     1984|     \\N|[Crime,Drama, Com...| actress|[[\"M.J. Preston\"]...|     Martha Plimpton|tt0098067,tt00915...|\n",
            "|nm0000593|[tt0113865, tt068...|[movie, tvEpisode...|[Mrs. Munck, The ...|[0, 0, 0, 0, 0, 0...|     1983|     \\N|[Comedy,Drama, Ac...| actress|[[\"Young Rose\"], ...|       Kelly Preston|tt0185183,tt02867...|\n",
            "|nm0000609|[tt0279331, tt109...|[movie, movie, tv...|[Dark Blue, The G...|[0, 0, 0, 0, 0, 0...|     1988|     \\N|[Crime,Drama,Thri...|   actor|[[\"Arthur Holland...|         Ving Rhames|tt0120755,tt03179...|\n",
            "|nm0000646|[tt0539159, tt053...|[tvEpisode, tvEpi...|[Angel Flight, An...|[0, 0, 0, 0, 0, 0...|     1974|     \\N|[Action,Adventure...| actress|[[\"Kelly Garrett\"...|        Jaclyn Smith|tt0065374,tt00812...|\n",
            "|nm0000651|[tt15161988, tt00...|[tvEpisode, movie...|[The Caretaker, P...|[0, 0, 0, 0, 0, 0...|     1972|     \\N|[Adventure,Drama,...| actress|[[\"Irene York\"], ...|        Sissy Spacek|tt1454029,tt00742...|\n",
            "+---------+--------------------+--------------------+--------------------+--------------------+---------+-------+--------------------+--------+--------------------+--------------------+--------------------+\n",
            "only showing top 20 rows\n",
            "\n",
            "CPU times: user 105 ms, sys: 21.2 ms, total: 126 ms\n",
            "Wall time: 14.9 s\n"
          ]
        }
      ]
    },
    {
      "cell_type": "code",
      "source": [
        "data.createOrReplaceTempView('data')"
      ],
      "metadata": {
        "id": "prjTh2uOGEfK"
      },
      "execution_count": 12,
      "outputs": []
    },
    {
      "cell_type": "code",
      "source": [
        "spark.sql('select* from data').show()\n",
        "spark.sql(\"\"\"select min(startYear), max(endYear) from data\"\"\").show()"
      ],
      "metadata": {
        "id": "U4-25ggjELCG",
        "outputId": "c35ff598-c1b5-4e49-c29b-64824ac07553",
        "colab": {
          "base_uri": "https://localhost:8080/"
        }
      },
      "execution_count": 14,
      "outputs": [
        {
          "output_type": "stream",
          "name": "stdout",
          "text": [
            "+---------+--------------------+--------------------+--------------------+--------------------+---------+-------+--------------------+--------+--------------------+--------------------+--------------------+\n",
            "|   nconst|              tconst|           titleType|       originalTitle|             isAdult|startYear|endYear|              genres|category|          characters|         primaryName|      knownForTitles|\n",
            "+---------+--------------------+--------------------+--------------------+--------------------+---------+-------+--------------------+--------+--------------------+--------------------+--------------------+\n",
            "|nm0000017|[tt0021156, tt001...|[movie, movie, mo...|[Morocco, Gefahre...|[0, 0, 0, 0, 0, 0...|     1919|     \\N|[Drama,Romance, C...| actress|[[\"Mademoiselle A...|    Marlene Dietrich|tt0051201,tt00211...|\n",
            "|nm0000051|[tt0028417, tt002...|[movie, movie, mo...|[Troubled Waters,...|[0, 0, 0, 0, 0, 0...|     1935|     \\N|[Crime,Mystery, C...|   actor|[[\"John Merriman\"...|         James Mason|tt0047522,tt00531...|\n",
            "|nm0000149|[tt0070611, tt078...|[tvEpisode, tvEpi...|[Rookie of the Ye...|[0, 0, 0, 0, 0, 0...|     1969|     \\N|[Adventure,Comedy...| actress|[[\"Sharon Lee\"], ...|        Jodie Foster|tt0075314,tt01029...|\n",
            "|nm0000156|[tt0275140, tt009...|[tvSeries, movie,...|[Law & Order: Cri...|[0, 0, 0, 0, 0, 0...|     1977|     \\N|[Crime,Drama,Myst...|   actor|[[\"Detective Zack...|       Jeff Goldblum|tt0116629,tt00910...|\n",
            "|nm0000205|[tt0295238, tt044...|[movie, movie, mo...|[Personal Velocit...|[0, 0, 0, 0, 0, 0...|     1991|     \\N|[Drama,Romance, A...| actress|[[\"Greta Herskowi...|        Parker Posey|tt0348150,tt03590...|\n",
            "|nm0000249|[tt0268808, tt011...|[tvMiniSeries, mo...|[Founding Fathers...|[0, 0, 0, 0, 0, 0...|     1972|     \\N|[Documentary,Hist...|   actor|[[\"John Adams\"], ...|         James Woods|tt0086541,tt01192...|\n",
            "|nm0000262|[tt0086374, tt009...|[movie, movie, mo...|[Strange Invaders...|[0, 0, 0, 0, 0, 0...|     1976|     \\N|[Horror,Mystery,S...| actress|[[\"Betty Walker\"]...|         Nancy Allen|tt0093870,tt00806...|\n",
            "|nm0000281|[tt0111909, tt009...|[tvSeries, movie,...|[Can't Hurry Love...|[0, 0, 0, 0, 0, 0...|     1974|     \\N|[Comedy, Comedy,D...|   actor|[[\"Matt\"], [\"Mari...|          Scott Baio|tt0367279,tt02816...|\n",
            "|nm0000283|[tt0095142, tt010...|[tvMovie, movie, ...|[A Father's Homec...|[0, 0, 0, 0, 0, 0...|     1987|     \\N|[Adventure,Drama,...| actress|[[\"Nurse Pitzer\"]...|        Brenda Bakke|tt0107144,tt01194...|\n",
            "|nm0000305|[tt0029421, tt002...|[short, short, sh...|[Porky and Gabby,...|[0, 0, 0, 0, 0, 0...|     1930|     \\N|[Animation,Comedy...|   actor|[[\"Porky Pig\",\"Ga...|           Mel Blanc|tt0303804,tt00949...|\n",
            "|nm0000307|[tt1049536, tt009...|[tvEpisode, tvEpi...|[The Way to Satti...|[0, 0, 0, 0, 0, 0...|     1985|     \\N|[Family,Fantasy, ...| actress|[[\"Storyteller\"],...|Helena Bonham Carter|tt0408236,tt01375...|\n",
            "|nm0000348|[tt0044970, tt005...|[movie, movie, mo...|[No Room for the ...|[0, 0, 0, 0, 0, 0...|     1949|     \\N|[Comedy, Drama,Fi...|   actor|[[\"Alvah Morrell\"...|         Tony Curtis|tt0051036,tt00543...|\n",
            "|nm0000398|[tt0078856, tt005...|[movie, tvSeries,...|[Beyond the Posei...|[0, 0, 0, 0, 0, 0...|     1965|     \\N|[Action,Adventure...| actress|[[\"Celeste Whitma...|         Sally Field|tt0098384,tt00767...|\n",
            "|nm0000409|[tt0114099, tt104...|[movie, tvEpisode...|[The Passion of D...|[0, 0, 0, 0, 0, 0...|     1991|     \\N|[Drama,Mystery,Th...|   actor|[[\"Darkly Noon\"],...|      Brendan Fraser|tt0120616,tt02091...|\n",
            "|nm0000483|[tt0098122, tt009...|[movie, movie, mo...|[Love Dream, To K...|[0, 0, 0, 0, 0, 0...|     1984|     \\N|[Drama,Fantasy,Ro...|   actor|[[\"Menrou\"], [\"Fa...| Christopher Lambert|tt0106950,tt01138...|\n",
            "|nm0000588|[tt0129866, tt013...|[tvMovie, short, ...|[The Defenders: P...|[0, 0, 0, 0, 0, 0...|     1984|     \\N|[Crime,Drama, Com...| actress|[[\"M.J. Preston\"]...|     Martha Plimpton|tt0098067,tt00915...|\n",
            "|nm0000593|[tt0113865, tt068...|[movie, tvEpisode...|[Mrs. Munck, The ...|[0, 0, 0, 0, 0, 0...|     1983|     \\N|[Comedy,Drama, Ac...| actress|[[\"Young Rose\"], ...|       Kelly Preston|tt0185183,tt02867...|\n",
            "|nm0000609|[tt0279331, tt109...|[movie, movie, tv...|[Dark Blue, The G...|[0, 0, 0, 0, 0, 0...|     1988|     \\N|[Crime,Drama,Thri...|   actor|[[\"Arthur Holland...|         Ving Rhames|tt0120755,tt03179...|\n",
            "|nm0000646|[tt0539159, tt053...|[tvEpisode, tvEpi...|[Angel Flight, An...|[0, 0, 0, 0, 0, 0...|     1974|     \\N|[Action,Adventure...| actress|[[\"Kelly Garrett\"...|        Jaclyn Smith|tt0065374,tt00812...|\n",
            "|nm0000651|[tt15161988, tt00...|[tvEpisode, movie...|[The Caretaker, P...|[0, 0, 0, 0, 0, 0...|     1972|     \\N|[Adventure,Drama,...| actress|[[\"Irene York\"], ...|        Sissy Spacek|tt1454029,tt00742...|\n",
            "+---------+--------------------+--------------------+--------------------+--------------------+---------+-------+--------------------+--------+--------------------+--------------------+--------------------+\n",
            "only showing top 20 rows\n",
            "\n",
            "+--------------+------------+\n",
            "|min(startYear)|max(endYear)|\n",
            "+--------------+------------+\n",
            "|          1890|          \\N|\n",
            "+--------------+------------+\n",
            "\n"
          ]
        }
      ]
    },
    {
      "cell_type": "code",
      "source": [
        "spark.sql(\"\"\"select* from data where startYear = 0004\"\"\").show()"
      ],
      "metadata": {
        "id": "FUTsam3jEXS7",
        "outputId": "fa0673dd-96a0-4bc5-847b-bd50b99e3d80",
        "colab": {
          "base_uri": "https://localhost:8080/"
        }
      },
      "execution_count": 16,
      "outputs": [
        {
          "output_type": "stream",
          "name": "stdout",
          "text": [
            "+------+------+---------+-------------+-------+---------+-------+------+--------+----------+-----------+--------------+\n",
            "|nconst|tconst|titleType|originalTitle|isAdult|startYear|endYear|genres|category|characters|primaryName|knownForTitles|\n",
            "+------+------+---------+-------------+-------+---------+-------+------+--------+----------+-----------+--------------+\n",
            "+------+------+---------+-------------+-------+---------+-------+------+--------+----------+-----------+--------------+\n",
            "\n"
          ]
        }
      ]
    },
    {
      "cell_type": "code",
      "source": [
        "Appearances = spark.sql(\"\"\"SELECT (LENGTH(knownForTitles) - LENGTH(REPLACE(knownForTitles,\",\",\"\")) + 1) AS CounterknownForTitles, count(*) as ilu_aktorow from data group by CounterknownForTitles\"\"\").toPandas()\n",
        "Appearances"
      ],
      "metadata": {
        "id": "xsVTHtm9Enqc",
        "outputId": "b4da203a-4b5c-4ca2-b394-2713039041f8",
        "colab": {
          "base_uri": "https://localhost:8080/",
          "height": 206
        }
      },
      "execution_count": 17,
      "outputs": [
        {
          "output_type": "execute_result",
          "data": {
            "text/plain": [
              "   CounterknownForTitles  ilu_aktorow\n",
              "0                      1       893831\n",
              "1                      3       167390\n",
              "2                      5            6\n",
              "3                      4       732232\n",
              "4                      2       269695"
            ],
            "text/html": [
              "\n",
              "  <div id=\"df-bc15d268-a8e2-41e2-967c-9885390782f8\">\n",
              "    <div class=\"colab-df-container\">\n",
              "      <div>\n",
              "<style scoped>\n",
              "    .dataframe tbody tr th:only-of-type {\n",
              "        vertical-align: middle;\n",
              "    }\n",
              "\n",
              "    .dataframe tbody tr th {\n",
              "        vertical-align: top;\n",
              "    }\n",
              "\n",
              "    .dataframe thead th {\n",
              "        text-align: right;\n",
              "    }\n",
              "</style>\n",
              "<table border=\"1\" class=\"dataframe\">\n",
              "  <thead>\n",
              "    <tr style=\"text-align: right;\">\n",
              "      <th></th>\n",
              "      <th>CounterknownForTitles</th>\n",
              "      <th>ilu_aktorow</th>\n",
              "    </tr>\n",
              "  </thead>\n",
              "  <tbody>\n",
              "    <tr>\n",
              "      <th>0</th>\n",
              "      <td>1</td>\n",
              "      <td>893831</td>\n",
              "    </tr>\n",
              "    <tr>\n",
              "      <th>1</th>\n",
              "      <td>3</td>\n",
              "      <td>167390</td>\n",
              "    </tr>\n",
              "    <tr>\n",
              "      <th>2</th>\n",
              "      <td>5</td>\n",
              "      <td>6</td>\n",
              "    </tr>\n",
              "    <tr>\n",
              "      <th>3</th>\n",
              "      <td>4</td>\n",
              "      <td>732232</td>\n",
              "    </tr>\n",
              "    <tr>\n",
              "      <th>4</th>\n",
              "      <td>2</td>\n",
              "      <td>269695</td>\n",
              "    </tr>\n",
              "  </tbody>\n",
              "</table>\n",
              "</div>\n",
              "      <button class=\"colab-df-convert\" onclick=\"convertToInteractive('df-bc15d268-a8e2-41e2-967c-9885390782f8')\"\n",
              "              title=\"Convert this dataframe to an interactive table.\"\n",
              "              style=\"display:none;\">\n",
              "        \n",
              "  <svg xmlns=\"http://www.w3.org/2000/svg\" height=\"24px\"viewBox=\"0 0 24 24\"\n",
              "       width=\"24px\">\n",
              "    <path d=\"M0 0h24v24H0V0z\" fill=\"none\"/>\n",
              "    <path d=\"M18.56 5.44l.94 2.06.94-2.06 2.06-.94-2.06-.94-.94-2.06-.94 2.06-2.06.94zm-11 1L8.5 8.5l.94-2.06 2.06-.94-2.06-.94L8.5 2.5l-.94 2.06-2.06.94zm10 10l.94 2.06.94-2.06 2.06-.94-2.06-.94-.94-2.06-.94 2.06-2.06.94z\"/><path d=\"M17.41 7.96l-1.37-1.37c-.4-.4-.92-.59-1.43-.59-.52 0-1.04.2-1.43.59L10.3 9.45l-7.72 7.72c-.78.78-.78 2.05 0 2.83L4 21.41c.39.39.9.59 1.41.59.51 0 1.02-.2 1.41-.59l7.78-7.78 2.81-2.81c.8-.78.8-2.07 0-2.86zM5.41 20L4 18.59l7.72-7.72 1.47 1.35L5.41 20z\"/>\n",
              "  </svg>\n",
              "      </button>\n",
              "      \n",
              "  <style>\n",
              "    .colab-df-container {\n",
              "      display:flex;\n",
              "      flex-wrap:wrap;\n",
              "      gap: 12px;\n",
              "    }\n",
              "\n",
              "    .colab-df-convert {\n",
              "      background-color: #E8F0FE;\n",
              "      border: none;\n",
              "      border-radius: 50%;\n",
              "      cursor: pointer;\n",
              "      display: none;\n",
              "      fill: #1967D2;\n",
              "      height: 32px;\n",
              "      padding: 0 0 0 0;\n",
              "      width: 32px;\n",
              "    }\n",
              "\n",
              "    .colab-df-convert:hover {\n",
              "      background-color: #E2EBFA;\n",
              "      box-shadow: 0px 1px 2px rgba(60, 64, 67, 0.3), 0px 1px 3px 1px rgba(60, 64, 67, 0.15);\n",
              "      fill: #174EA6;\n",
              "    }\n",
              "\n",
              "    [theme=dark] .colab-df-convert {\n",
              "      background-color: #3B4455;\n",
              "      fill: #D2E3FC;\n",
              "    }\n",
              "\n",
              "    [theme=dark] .colab-df-convert:hover {\n",
              "      background-color: #434B5C;\n",
              "      box-shadow: 0px 1px 3px 1px rgba(0, 0, 0, 0.15);\n",
              "      filter: drop-shadow(0px 1px 2px rgba(0, 0, 0, 0.3));\n",
              "      fill: #FFFFFF;\n",
              "    }\n",
              "  </style>\n",
              "\n",
              "      <script>\n",
              "        const buttonEl =\n",
              "          document.querySelector('#df-bc15d268-a8e2-41e2-967c-9885390782f8 button.colab-df-convert');\n",
              "        buttonEl.style.display =\n",
              "          google.colab.kernel.accessAllowed ? 'block' : 'none';\n",
              "\n",
              "        async function convertToInteractive(key) {\n",
              "          const element = document.querySelector('#df-bc15d268-a8e2-41e2-967c-9885390782f8');\n",
              "          const dataTable =\n",
              "            await google.colab.kernel.invokeFunction('convertToInteractive',\n",
              "                                                     [key], {});\n",
              "          if (!dataTable) return;\n",
              "\n",
              "          const docLinkHtml = 'Like what you see? Visit the ' +\n",
              "            '<a target=\"_blank\" href=https://colab.research.google.com/notebooks/data_table.ipynb>data table notebook</a>'\n",
              "            + ' to learn more about interactive tables.';\n",
              "          element.innerHTML = '';\n",
              "          dataTable['output_type'] = 'display_data';\n",
              "          await google.colab.output.renderOutput(dataTable, element);\n",
              "          const docLink = document.createElement('div');\n",
              "          docLink.innerHTML = docLinkHtml;\n",
              "          element.appendChild(docLink);\n",
              "        }\n",
              "      </script>\n",
              "    </div>\n",
              "  </div>\n",
              "  "
            ]
          },
          "metadata": {},
          "execution_count": 17
        }
      ]
    },
    {
      "cell_type": "code",
      "source": [
        "Null_counter_table = spark.sql(\"\"\"SELECT count(*) as nulls_category from data where category is null\"\"\").toPandas()\n",
        "Null_counter_table"
      ],
      "metadata": {
        "id": "AsNg8LlDE7Fv",
        "outputId": "59fa6211-f90c-45d6-d1fc-592196a81b28",
        "colab": {
          "base_uri": "https://localhost:8080/",
          "height": 81
        }
      },
      "execution_count": 19,
      "outputs": [
        {
          "output_type": "execute_result",
          "data": {
            "text/plain": [
              "   nulls_category\n",
              "0               0"
            ],
            "text/html": [
              "\n",
              "  <div id=\"df-db8ec1ff-038f-49e6-b752-fccde7306b58\">\n",
              "    <div class=\"colab-df-container\">\n",
              "      <div>\n",
              "<style scoped>\n",
              "    .dataframe tbody tr th:only-of-type {\n",
              "        vertical-align: middle;\n",
              "    }\n",
              "\n",
              "    .dataframe tbody tr th {\n",
              "        vertical-align: top;\n",
              "    }\n",
              "\n",
              "    .dataframe thead th {\n",
              "        text-align: right;\n",
              "    }\n",
              "</style>\n",
              "<table border=\"1\" class=\"dataframe\">\n",
              "  <thead>\n",
              "    <tr style=\"text-align: right;\">\n",
              "      <th></th>\n",
              "      <th>nulls_category</th>\n",
              "    </tr>\n",
              "  </thead>\n",
              "  <tbody>\n",
              "    <tr>\n",
              "      <th>0</th>\n",
              "      <td>0</td>\n",
              "    </tr>\n",
              "  </tbody>\n",
              "</table>\n",
              "</div>\n",
              "      <button class=\"colab-df-convert\" onclick=\"convertToInteractive('df-db8ec1ff-038f-49e6-b752-fccde7306b58')\"\n",
              "              title=\"Convert this dataframe to an interactive table.\"\n",
              "              style=\"display:none;\">\n",
              "        \n",
              "  <svg xmlns=\"http://www.w3.org/2000/svg\" height=\"24px\"viewBox=\"0 0 24 24\"\n",
              "       width=\"24px\">\n",
              "    <path d=\"M0 0h24v24H0V0z\" fill=\"none\"/>\n",
              "    <path d=\"M18.56 5.44l.94 2.06.94-2.06 2.06-.94-2.06-.94-.94-2.06-.94 2.06-2.06.94zm-11 1L8.5 8.5l.94-2.06 2.06-.94-2.06-.94L8.5 2.5l-.94 2.06-2.06.94zm10 10l.94 2.06.94-2.06 2.06-.94-2.06-.94-.94-2.06-.94 2.06-2.06.94z\"/><path d=\"M17.41 7.96l-1.37-1.37c-.4-.4-.92-.59-1.43-.59-.52 0-1.04.2-1.43.59L10.3 9.45l-7.72 7.72c-.78.78-.78 2.05 0 2.83L4 21.41c.39.39.9.59 1.41.59.51 0 1.02-.2 1.41-.59l7.78-7.78 2.81-2.81c.8-.78.8-2.07 0-2.86zM5.41 20L4 18.59l7.72-7.72 1.47 1.35L5.41 20z\"/>\n",
              "  </svg>\n",
              "      </button>\n",
              "      \n",
              "  <style>\n",
              "    .colab-df-container {\n",
              "      display:flex;\n",
              "      flex-wrap:wrap;\n",
              "      gap: 12px;\n",
              "    }\n",
              "\n",
              "    .colab-df-convert {\n",
              "      background-color: #E8F0FE;\n",
              "      border: none;\n",
              "      border-radius: 50%;\n",
              "      cursor: pointer;\n",
              "      display: none;\n",
              "      fill: #1967D2;\n",
              "      height: 32px;\n",
              "      padding: 0 0 0 0;\n",
              "      width: 32px;\n",
              "    }\n",
              "\n",
              "    .colab-df-convert:hover {\n",
              "      background-color: #E2EBFA;\n",
              "      box-shadow: 0px 1px 2px rgba(60, 64, 67, 0.3), 0px 1px 3px 1px rgba(60, 64, 67, 0.15);\n",
              "      fill: #174EA6;\n",
              "    }\n",
              "\n",
              "    [theme=dark] .colab-df-convert {\n",
              "      background-color: #3B4455;\n",
              "      fill: #D2E3FC;\n",
              "    }\n",
              "\n",
              "    [theme=dark] .colab-df-convert:hover {\n",
              "      background-color: #434B5C;\n",
              "      box-shadow: 0px 1px 3px 1px rgba(0, 0, 0, 0.15);\n",
              "      filter: drop-shadow(0px 1px 2px rgba(0, 0, 0, 0.3));\n",
              "      fill: #FFFFFF;\n",
              "    }\n",
              "  </style>\n",
              "\n",
              "      <script>\n",
              "        const buttonEl =\n",
              "          document.querySelector('#df-db8ec1ff-038f-49e6-b752-fccde7306b58 button.colab-df-convert');\n",
              "        buttonEl.style.display =\n",
              "          google.colab.kernel.accessAllowed ? 'block' : 'none';\n",
              "\n",
              "        async function convertToInteractive(key) {\n",
              "          const element = document.querySelector('#df-db8ec1ff-038f-49e6-b752-fccde7306b58');\n",
              "          const dataTable =\n",
              "            await google.colab.kernel.invokeFunction('convertToInteractive',\n",
              "                                                     [key], {});\n",
              "          if (!dataTable) return;\n",
              "\n",
              "          const docLinkHtml = 'Like what you see? Visit the ' +\n",
              "            '<a target=\"_blank\" href=https://colab.research.google.com/notebooks/data_table.ipynb>data table notebook</a>'\n",
              "            + ' to learn more about interactive tables.';\n",
              "          element.innerHTML = '';\n",
              "          dataTable['output_type'] = 'display_data';\n",
              "          await google.colab.output.renderOutput(dataTable, element);\n",
              "          const docLink = document.createElement('div');\n",
              "          docLink.innerHTML = docLinkHtml;\n",
              "          element.appendChild(docLink);\n",
              "        }\n",
              "      </script>\n",
              "    </div>\n",
              "  </div>\n",
              "  "
            ]
          },
          "metadata": {},
          "execution_count": 19
        }
      ]
    }
  ]
}