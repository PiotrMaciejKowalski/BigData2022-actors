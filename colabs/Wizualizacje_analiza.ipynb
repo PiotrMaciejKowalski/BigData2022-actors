{
  "nbformat": 4,
  "nbformat_minor": 0,
  "metadata": {
    "colab": {
      "provenance": [],
      "include_colab_link": true
    },
    "kernelspec": {
      "name": "python3",
      "display_name": "Python 3"
    },
    "language_info": {
      "name": "python"
    }
  },
  "cells": [
    {
      "cell_type": "markdown",
      "metadata": {
        "id": "view-in-github",
        "colab_type": "text"
      },
      "source": [
        "<a href=\"https://colab.research.google.com/github/PiotrMaciejKowalski/BigData2022-actors/blob/CU-30u4v4d_Analiza-wizualizacja/colabs/Wizualizacje_analiza.ipynb\" target=\"_parent\"><img src=\"https://colab.research.google.com/assets/colab-badge.svg\" alt=\"Open In Colab\"/></a>"
      ]
    },
    {
      "cell_type": "markdown",
      "source": [
        "#Przekopiowane linijki potrzebne do wczytania danych"
      ],
      "metadata": {
        "id": "kU5VeqUYHDW3"
      }
    },
    {
      "cell_type": "code",
      "execution_count": 1,
      "metadata": {
        "id": "V8-nE3oH58P6",
        "outputId": "a4495f07-0d4f-48bb-bb18-92d29f29f6f2",
        "colab": {
          "base_uri": "https://localhost:8080/"
        }
      },
      "outputs": [
        {
          "output_type": "stream",
          "name": "stdout",
          "text": [
            "Mounted at /content/gdrive\n"
          ]
        }
      ],
      "source": [
        "from google.colab import drive\n",
        "drive.mount('/content/gdrive')"
      ]
    },
    {
      "cell_type": "code",
      "source": [
        "!git clone https://github.com/PiotrMaciejKowalski/BigData2022-actors.git\n",
        "!mv /content/BigData2022-actors/* .\n",
        "!mv /content/BigData2022-actors/.* .\n",
        "!rmdir /content/BigData2022-actors/"
      ],
      "metadata": {
        "id": "CJDl9hKq623W",
        "outputId": "9784e901-9c50-4c4f-818e-eb2b59fe8f65",
        "colab": {
          "base_uri": "https://localhost:8080/"
        }
      },
      "execution_count": 2,
      "outputs": [
        {
          "output_type": "stream",
          "name": "stdout",
          "text": [
            "Cloning into 'BigData2022-actors'...\n",
            "remote: Enumerating objects: 1208, done.\u001b[K\n",
            "remote: Counting objects: 100% (427/427), done.\u001b[K\n",
            "remote: Compressing objects: 100% (192/192), done.\u001b[K\n",
            "remote: Total 1208 (delta 337), reused 250 (delta 235), pack-reused 781\u001b[K\n",
            "Receiving objects: 100% (1208/1208), 5.89 MiB | 26.43 MiB/s, done.\n",
            "Resolving deltas: 100% (685/685), done.\n",
            "mv: cannot move '/content/BigData2022-actors/.' to './.': Device or resource busy\n",
            "mv: cannot move '/content/BigData2022-actors/..' to './..': Device or resource busy\n"
          ]
        }
      ]
    },
    {
      "cell_type": "code",
      "source": [
        "!git checkout Refactoring"
      ],
      "metadata": {
        "id": "byTOVMAl67xS",
        "outputId": "8d7e3219-7cbd-4cc9-da90-48833ab48193",
        "colab": {
          "base_uri": "https://localhost:8080/"
        }
      },
      "execution_count": 3,
      "outputs": [
        {
          "output_type": "stream",
          "name": "stdout",
          "text": [
            "error: pathspec 'Refactoring' did not match any file(s) known to git.\n"
          ]
        }
      ]
    },
    {
      "cell_type": "code",
      "source": [
        "!chmod +x setup_sparka.sh\n",
        "!./setup_sparka.sh"
      ],
      "metadata": {
        "id": "60AJd6gh69of",
        "outputId": "e54aaebb-1f66-48ea-8e2b-7a26d2e865f3",
        "colab": {
          "base_uri": "https://localhost:8080/"
        }
      },
      "execution_count": 4,
      "outputs": [
        {
          "output_type": "stream",
          "name": "stdout",
          "text": [
            "Looking in indexes: https://pypi.org/simple, https://us-python.pkg.dev/colab-wheels/public/simple/\n",
            "Collecting pyspark\n",
            "  Downloading pyspark-3.3.1.tar.gz (281.4 MB)\n",
            "\u001b[K     |████████████████████████████████| 281.4 MB 39 kB/s \n",
            "\u001b[?25hCollecting py4j\n",
            "  Downloading py4j-0.10.9.7-py2.py3-none-any.whl (200 kB)\n",
            "\u001b[K     |████████████████████████████████| 200 kB 53.2 MB/s \n",
            "\u001b[?25h  Downloading py4j-0.10.9.5-py2.py3-none-any.whl (199 kB)\n",
            "\u001b[K     |████████████████████████████████| 199 kB 12.6 MB/s \n",
            "\u001b[?25hBuilding wheels for collected packages: pyspark\n",
            "  Building wheel for pyspark (setup.py) ... \u001b[?25l\u001b[?25hdone\n",
            "  Created wheel for pyspark: filename=pyspark-3.3.1-py2.py3-none-any.whl size=281845512 sha256=4924afba0f4b41bc9536a094d75ce017bf95ce07b2b16a71bcb0eb9a9f460266\n",
            "  Stored in directory: /root/.cache/pip/wheels/43/dc/11/ec201cd671da62fa9c5cc77078235e40722170ceba231d7598\n",
            "Successfully built pyspark\n",
            "Installing collected packages: py4j, pyspark\n",
            "Successfully installed py4j-0.10.9.5 pyspark-3.3.1\n",
            "--2022-12-19 23:51:48--  https://dlcdn.apache.org/spark/spark-3.3.1/spark-3.3.1-bin-hadoop2.tgz\n",
            "Resolving dlcdn.apache.org (dlcdn.apache.org)... 151.101.2.132, 2a04:4e42::644\n",
            "Connecting to dlcdn.apache.org (dlcdn.apache.org)|151.101.2.132|:443... connected.\n",
            "HTTP request sent, awaiting response... 200 OK\n",
            "Length: 274099817 (261M) [application/x-gzip]\n",
            "Saving to: ‘spark-3.3.1-bin-hadoop2.tgz’\n",
            "\n",
            "spark-3.3.1-bin-had 100%[===================>] 261.40M   202MB/s    in 1.3s    \n",
            "\n",
            "2022-12-19 23:51:49 (202 MB/s) - ‘spark-3.3.1-bin-hadoop2.tgz’ saved [274099817/274099817]\n",
            "\n"
          ]
        }
      ]
    },
    {
      "cell_type": "code",
      "source": [
        "import pandas as pd\n",
        "from lib.pyspark_init import create_spark_context, add_kaggle_data"
      ],
      "metadata": {
        "id": "QVP5StabyYom"
      },
      "execution_count": 5,
      "outputs": []
    },
    {
      "cell_type": "code",
      "source": [
        "spark = create_spark_context()\n",
        "spark"
      ],
      "metadata": {
        "id": "4oAFq__N7FYz",
        "outputId": "d63e12ee-ceeb-42bf-85ea-184d9d652235",
        "colab": {
          "base_uri": "https://localhost:8080/",
          "height": 219
        }
      },
      "execution_count": 6,
      "outputs": [
        {
          "output_type": "execute_result",
          "data": {
            "text/plain": [
              "<pyspark.sql.session.SparkSession at 0x7f9d21779c40>"
            ],
            "text/html": [
              "\n",
              "            <div>\n",
              "                <p><b>SparkSession - in-memory</b></p>\n",
              "                \n",
              "        <div>\n",
              "            <p><b>SparkContext</b></p>\n",
              "\n",
              "            <p><a href=\"http://5920ffb805d9:4040\">Spark UI</a></p>\n",
              "\n",
              "            <dl>\n",
              "              <dt>Version</dt>\n",
              "                <dd><code>v3.3.1</code></dd>\n",
              "              <dt>Master</dt>\n",
              "                <dd><code>local[*]</code></dd>\n",
              "              <dt>AppName</dt>\n",
              "                <dd><code>Colab</code></dd>\n",
              "            </dl>\n",
              "        </div>\n",
              "        \n",
              "            </div>\n",
              "        "
            ]
          },
          "metadata": {},
          "execution_count": 6
        }
      ]
    },
    {
      "cell_type": "code",
      "source": [
        "!chmod +x download_data.sh\n",
        "!./download_data.sh"
      ],
      "metadata": {
        "colab": {
          "base_uri": "https://localhost:8080/"
        },
        "id": "jCuclle90TN0",
        "outputId": "567e9d4e-6502-448a-d9ce-165df34c71df"
      },
      "execution_count": 8,
      "outputs": [
        {
          "output_type": "stream",
          "name": "stdout",
          "text": [
            "--2022-12-19 23:56:26--  https://datasets.imdbws.com/name.basics.tsv.gz\n",
            "Resolving datasets.imdbws.com (datasets.imdbws.com)... 13.249.98.91, 13.249.98.35, 13.249.98.73, ...\n",
            "Connecting to datasets.imdbws.com (datasets.imdbws.com)|13.249.98.91|:443... connected.\n",
            "HTTP request sent, awaiting response... 200 OK\n",
            "Length: 238074758 (227M) [binary/octet-stream]\n",
            "Saving to: ‘name.basics.tsv.gz’\n",
            "\n",
            "name.basics.tsv.gz  100%[===================>] 227.04M   131MB/s    in 1.7s    \n",
            "\n",
            "2022-12-19 23:56:28 (131 MB/s) - ‘name.basics.tsv.gz’ saved [238074758/238074758]\n",
            "\n",
            "--2022-12-19 23:56:28--  https://datasets.imdbws.com/title.akas.tsv.gz\n",
            "Resolving datasets.imdbws.com (datasets.imdbws.com)... 13.249.98.91, 13.249.98.35, 13.249.98.73, ...\n",
            "Connecting to datasets.imdbws.com (datasets.imdbws.com)|13.249.98.91|:443... connected.\n",
            "HTTP request sent, awaiting response... 200 OK\n",
            "Length: 291123172 (278M) [binary/octet-stream]\n",
            "Saving to: ‘title.akas.tsv.gz’\n",
            "\n",
            "title.akas.tsv.gz   100%[===================>] 277.64M   127MB/s    in 2.2s    \n",
            "\n",
            "2022-12-19 23:56:30 (127 MB/s) - ‘title.akas.tsv.gz’ saved [291123172/291123172]\n",
            "\n",
            "--2022-12-19 23:56:30--  https://datasets.imdbws.com/title.basics.tsv.gz\n",
            "Resolving datasets.imdbws.com (datasets.imdbws.com)... 13.249.98.91, 13.249.98.35, 13.249.98.73, ...\n",
            "Connecting to datasets.imdbws.com (datasets.imdbws.com)|13.249.98.91|:443... connected.\n",
            "HTTP request sent, awaiting response... 200 OK\n",
            "Length: 165332736 (158M) [binary/octet-stream]\n",
            "Saving to: ‘title.basics.tsv.gz’\n",
            "\n",
            "title.basics.tsv.gz 100%[===================>] 157.67M   130MB/s    in 1.2s    \n",
            "\n",
            "2022-12-19 23:56:31 (130 MB/s) - ‘title.basics.tsv.gz’ saved [165332736/165332736]\n",
            "\n",
            "--2022-12-19 23:56:31--  https://datasets.imdbws.com/title.crew.tsv.gz\n",
            "Resolving datasets.imdbws.com (datasets.imdbws.com)... 13.249.98.91, 13.249.98.35, 13.249.98.73, ...\n",
            "Connecting to datasets.imdbws.com (datasets.imdbws.com)|13.249.98.91|:443... connected.\n",
            "HTTP request sent, awaiting response... 200 OK\n",
            "Length: 63431150 (60M) [binary/octet-stream]\n",
            "Saving to: ‘title.crew.tsv.gz’\n",
            "\n",
            "title.crew.tsv.gz   100%[===================>]  60.49M   116MB/s    in 0.5s    \n",
            "\n",
            "2022-12-19 23:56:32 (116 MB/s) - ‘title.crew.tsv.gz’ saved [63431150/63431150]\n",
            "\n",
            "--2022-12-19 23:56:32--  https://datasets.imdbws.com/title.episode.tsv.gz\n",
            "Resolving datasets.imdbws.com (datasets.imdbws.com)... 13.249.98.91, 13.249.98.35, 13.249.98.73, ...\n",
            "Connecting to datasets.imdbws.com (datasets.imdbws.com)|13.249.98.91|:443... connected.\n",
            "HTTP request sent, awaiting response... 200 OK\n",
            "Length: 38942292 (37M) [binary/octet-stream]\n",
            "Saving to: ‘title.episode.tsv.gz’\n",
            "\n",
            "title.episode.tsv.g 100%[===================>]  37.14M  92.4MB/s    in 0.4s    \n",
            "\n",
            "2022-12-19 23:56:32 (92.4 MB/s) - ‘title.episode.tsv.gz’ saved [38942292/38942292]\n",
            "\n",
            "--2022-12-19 23:56:32--  https://datasets.imdbws.com/title.principals.tsv.gz\n",
            "Resolving datasets.imdbws.com (datasets.imdbws.com)... 13.249.98.91, 13.249.98.35, 13.249.98.73, ...\n",
            "Connecting to datasets.imdbws.com (datasets.imdbws.com)|13.249.98.91|:443... connected.\n",
            "HTTP request sent, awaiting response... 200 OK\n",
            "Length: 421270963 (402M) [binary/octet-stream]\n",
            "Saving to: ‘title.principals.tsv.gz’\n",
            "\n",
            "title.principals.ts 100%[===================>] 401.75M   136MB/s    in 3.0s    \n",
            "\n",
            "2022-12-19 23:56:35 (136 MB/s) - ‘title.principals.tsv.gz’ saved [421270963/421270963]\n",
            "\n",
            "--2022-12-19 23:56:35--  https://datasets.imdbws.com/title.ratings.tsv.gz\n",
            "Resolving datasets.imdbws.com (datasets.imdbws.com)... 13.249.98.91, 13.249.98.35, 13.249.98.73, ...\n",
            "Connecting to datasets.imdbws.com (datasets.imdbws.com)|13.249.98.91|:443... connected.\n",
            "HTTP request sent, awaiting response... 200 OK\n",
            "Length: 6317649 (6.0M) [binary/octet-stream]\n",
            "Saving to: ‘title.ratings.tsv.gz’\n",
            "\n",
            "title.ratings.tsv.g 100%[===================>]   6.02M  40.1MB/s    in 0.2s    \n",
            "\n",
            "2022-12-19 23:56:36 (40.1 MB/s) - ‘title.ratings.tsv.gz’ saved [6317649/6317649]\n",
            "\n"
          ]
        }
      ]
    },
    {
      "cell_type": "code",
      "source": [
        "df_title_basic = (\n",
        "        spark.read.option(\"header\", \"true\")\n",
        "        .option(\"delimiter\", \"\\t\")\n",
        "        .csv(\"title.basic.csv\")\n",
        "    )"
      ],
      "metadata": {
        "id": "ehWveGKsyCY-"
      },
      "execution_count": 9,
      "outputs": []
    },
    {
      "cell_type": "code",
      "source": [
        "df_title_basic.createOrReplaceTempView('df_title_basic')"
      ],
      "metadata": {
        "id": "prjTh2uOGEfK"
      },
      "execution_count": 90,
      "outputs": []
    },
    {
      "cell_type": "markdown",
      "source": [
        "#Wizualizacje - wykresy i posortowane tabele"
      ],
      "metadata": {
        "id": "EmtgFpIhHvFB"
      }
    },
    {
      "cell_type": "code",
      "source": [
        "Appearances = spark.sql(\"\"\"SELECT (LENGTH(knownForTitles) - LENGTH(REPLACE(knownForTitles,\",\",\"\")) + 1) AS CounterknownForTitles, count(*) as ilu_aktorow from df_title_basic group by CounterknownForTitles\"\"\").toPandas()\n",
        "Appearances"
      ],
      "metadata": {
        "id": "xsVTHtm9Enqc",
        "outputId": "c8764cd7-6582-499e-8cf5-2a8d0e506093",
        "colab": {
          "base_uri": "https://localhost:8080/",
          "height": 432
        }
      },
      "execution_count": 91,
      "outputs": [
        {
          "output_type": "error",
          "ename": "AnalysisException",
          "evalue": "ignored",
          "traceback": [
            "\u001b[0;31m---------------------------------------------------------------------------\u001b[0m",
            "\u001b[0;31mAnalysisException\u001b[0m                         Traceback (most recent call last)",
            "\u001b[0;32m<ipython-input-91-9eb0d4cbb885>\u001b[0m in \u001b[0;36m<module>\u001b[0;34m\u001b[0m\n\u001b[0;32m----> 1\u001b[0;31m \u001b[0mAppearances\u001b[0m \u001b[0;34m=\u001b[0m \u001b[0mspark\u001b[0m\u001b[0;34m.\u001b[0m\u001b[0msql\u001b[0m\u001b[0;34m(\u001b[0m\u001b[0;34m\"\"\"SELECT (LENGTH(knownForTitles) - LENGTH(REPLACE(knownForTitles,\",\",\"\")) + 1) AS CounterknownForTitles, count(*) as ilu_aktorow from df_title_basic group by CounterknownForTitles\"\"\"\u001b[0m\u001b[0;34m)\u001b[0m\u001b[0;34m.\u001b[0m\u001b[0mtoPandas\u001b[0m\u001b[0;34m(\u001b[0m\u001b[0;34m)\u001b[0m\u001b[0;34m\u001b[0m\u001b[0;34m\u001b[0m\u001b[0m\n\u001b[0m\u001b[1;32m      2\u001b[0m \u001b[0mAppearances\u001b[0m\u001b[0;34m\u001b[0m\u001b[0;34m\u001b[0m\u001b[0m\n",
            "\u001b[0;32m/usr/local/lib/python3.8/dist-packages/pyspark/sql/session.py\u001b[0m in \u001b[0;36msql\u001b[0;34m(self, sqlQuery, **kwargs)\u001b[0m\n\u001b[1;32m   1032\u001b[0m             \u001b[0msqlQuery\u001b[0m \u001b[0;34m=\u001b[0m \u001b[0mformatter\u001b[0m\u001b[0;34m.\u001b[0m\u001b[0mformat\u001b[0m\u001b[0;34m(\u001b[0m\u001b[0msqlQuery\u001b[0m\u001b[0;34m,\u001b[0m \u001b[0;34m**\u001b[0m\u001b[0mkwargs\u001b[0m\u001b[0;34m)\u001b[0m\u001b[0;34m\u001b[0m\u001b[0;34m\u001b[0m\u001b[0m\n\u001b[1;32m   1033\u001b[0m         \u001b[0;32mtry\u001b[0m\u001b[0;34m:\u001b[0m\u001b[0;34m\u001b[0m\u001b[0;34m\u001b[0m\u001b[0m\n\u001b[0;32m-> 1034\u001b[0;31m             \u001b[0;32mreturn\u001b[0m \u001b[0mDataFrame\u001b[0m\u001b[0;34m(\u001b[0m\u001b[0mself\u001b[0m\u001b[0;34m.\u001b[0m\u001b[0m_jsparkSession\u001b[0m\u001b[0;34m.\u001b[0m\u001b[0msql\u001b[0m\u001b[0;34m(\u001b[0m\u001b[0msqlQuery\u001b[0m\u001b[0;34m)\u001b[0m\u001b[0;34m,\u001b[0m \u001b[0mself\u001b[0m\u001b[0;34m)\u001b[0m\u001b[0;34m\u001b[0m\u001b[0;34m\u001b[0m\u001b[0m\n\u001b[0m\u001b[1;32m   1035\u001b[0m         \u001b[0;32mfinally\u001b[0m\u001b[0;34m:\u001b[0m\u001b[0;34m\u001b[0m\u001b[0;34m\u001b[0m\u001b[0m\n\u001b[1;32m   1036\u001b[0m             \u001b[0;32mif\u001b[0m \u001b[0mlen\u001b[0m\u001b[0;34m(\u001b[0m\u001b[0mkwargs\u001b[0m\u001b[0;34m)\u001b[0m \u001b[0;34m>\u001b[0m \u001b[0;36m0\u001b[0m\u001b[0;34m:\u001b[0m\u001b[0;34m\u001b[0m\u001b[0;34m\u001b[0m\u001b[0m\n",
            "\u001b[0;32m/usr/local/lib/python3.8/dist-packages/py4j/java_gateway.py\u001b[0m in \u001b[0;36m__call__\u001b[0;34m(self, *args)\u001b[0m\n\u001b[1;32m   1319\u001b[0m \u001b[0;34m\u001b[0m\u001b[0m\n\u001b[1;32m   1320\u001b[0m         \u001b[0manswer\u001b[0m \u001b[0;34m=\u001b[0m \u001b[0mself\u001b[0m\u001b[0;34m.\u001b[0m\u001b[0mgateway_client\u001b[0m\u001b[0;34m.\u001b[0m\u001b[0msend_command\u001b[0m\u001b[0;34m(\u001b[0m\u001b[0mcommand\u001b[0m\u001b[0;34m)\u001b[0m\u001b[0;34m\u001b[0m\u001b[0;34m\u001b[0m\u001b[0m\n\u001b[0;32m-> 1321\u001b[0;31m         return_value = get_return_value(\n\u001b[0m\u001b[1;32m   1322\u001b[0m             answer, self.gateway_client, self.target_id, self.name)\n\u001b[1;32m   1323\u001b[0m \u001b[0;34m\u001b[0m\u001b[0m\n",
            "\u001b[0;32m/usr/local/lib/python3.8/dist-packages/pyspark/sql/utils.py\u001b[0m in \u001b[0;36mdeco\u001b[0;34m(*a, **kw)\u001b[0m\n\u001b[1;32m    194\u001b[0m                 \u001b[0;31m# Hide where the exception came from that shows a non-Pythonic\u001b[0m\u001b[0;34m\u001b[0m\u001b[0;34m\u001b[0m\u001b[0;34m\u001b[0m\u001b[0m\n\u001b[1;32m    195\u001b[0m                 \u001b[0;31m# JVM exception message.\u001b[0m\u001b[0;34m\u001b[0m\u001b[0;34m\u001b[0m\u001b[0;34m\u001b[0m\u001b[0m\n\u001b[0;32m--> 196\u001b[0;31m                 \u001b[0;32mraise\u001b[0m \u001b[0mconverted\u001b[0m \u001b[0;32mfrom\u001b[0m \u001b[0;32mNone\u001b[0m\u001b[0;34m\u001b[0m\u001b[0;34m\u001b[0m\u001b[0m\n\u001b[0m\u001b[1;32m    197\u001b[0m             \u001b[0;32melse\u001b[0m\u001b[0;34m:\u001b[0m\u001b[0;34m\u001b[0m\u001b[0;34m\u001b[0m\u001b[0m\n\u001b[1;32m    198\u001b[0m                 \u001b[0;32mraise\u001b[0m\u001b[0;34m\u001b[0m\u001b[0;34m\u001b[0m\u001b[0m\n",
            "\u001b[0;31mAnalysisException\u001b[0m: Column 'knownForTitles' does not exist. Did you mean one of the following? [df_title_basic.genres, df_title_basic.tconst, df_title_basic.endYear, df_title_basic.isAdult, df_title_basic.titleType, df_title_basic.startYear, df_title_basic.originalTitle, df_title_basic.primaryTitle, df_title_basic.runtimeMinutes]; line 1 pos 15;\n'Aggregate ['CounterknownForTitles], [(('LENGTH('knownForTitles) - 'LENGTH('REPLACE('knownForTitles, ,, ))) + 1) AS CounterknownForTitles#229, count(1) AS ilu_aktorow#230L]\n+- SubqueryAlias df_title_basic\n   +- View (`df_title_basic`, [tconst#17,titleType#18,primaryTitle#19,originalTitle#20,isAdult#21,startYear#22,endYear#23,runtimeMinutes#24,genres#25])\n      +- Relation [tconst#17,titleType#18,primaryTitle#19,originalTitle#20,isAdult#21,startYear#22,endYear#23,runtimeMinutes#24,genres#25] csv\n"
          ]
        }
      ]
    },
    {
      "cell_type": "markdown",
      "source": [
        "Kolumna \"startYear\":\n",
        "wartości są z przedziału [1874,2029] oraz nulle, których jest 1 266 394. W oczy rzuca się wykładniczy charakter wzrostu liczby produkcji wraz z upływem czasu, żeby w 2021 osiągnąć peak liczebności produkcji rzędu 440 548.\n",
        "Zniknęły takie anomalie jak wartości startYear = 0004."
      ],
      "metadata": {
        "id": "id99CJ5WH4Q3"
      }
    },
    {
      "cell_type": "code",
      "source": [
        "#spark.sql(\"\"\"SELECT startYear, count(*) as liczba_wystapien from df_title_basic group by startYear\"\"\").show(100)\n",
        "temp1 = spark.sql(\"\"\"SELECT startYear, count(*) as liczba_wystapien from df_title_basic where startYear<2031 group by startYear order by startYear asc\"\"\").toPandas()\n"
      ],
      "metadata": {
        "id": "LRsdqchXpIwp"
      },
      "execution_count": 93,
      "outputs": []
    },
    {
      "cell_type": "code",
      "source": [
        "temp1"
      ],
      "metadata": {
        "colab": {
          "base_uri": "https://localhost:8080/",
          "height": 424
        },
        "id": "TrA_zFMSwT6Y",
        "outputId": "f7632a4e-4c3f-4c97-e25a-681acd106d62"
      },
      "execution_count": 94,
      "outputs": [
        {
          "output_type": "execute_result",
          "data": {
            "text/plain": [
              "    startYear  liczba_wystapien\n",
              "0        1874                 1\n",
              "1        1877                 4\n",
              "2        1878                 2\n",
              "3        1881                 2\n",
              "4        1882                 2\n",
              "..        ...               ...\n",
              "145      2025               144\n",
              "146      2026                43\n",
              "147      2027                15\n",
              "148      2028                 7\n",
              "149      2029                 4\n",
              "\n",
              "[150 rows x 2 columns]"
            ],
            "text/html": [
              "\n",
              "  <div id=\"df-a5f1e428-229a-4a92-b12f-7e988daa5a16\">\n",
              "    <div class=\"colab-df-container\">\n",
              "      <div>\n",
              "<style scoped>\n",
              "    .dataframe tbody tr th:only-of-type {\n",
              "        vertical-align: middle;\n",
              "    }\n",
              "\n",
              "    .dataframe tbody tr th {\n",
              "        vertical-align: top;\n",
              "    }\n",
              "\n",
              "    .dataframe thead th {\n",
              "        text-align: right;\n",
              "    }\n",
              "</style>\n",
              "<table border=\"1\" class=\"dataframe\">\n",
              "  <thead>\n",
              "    <tr style=\"text-align: right;\">\n",
              "      <th></th>\n",
              "      <th>startYear</th>\n",
              "      <th>liczba_wystapien</th>\n",
              "    </tr>\n",
              "  </thead>\n",
              "  <tbody>\n",
              "    <tr>\n",
              "      <th>0</th>\n",
              "      <td>1874</td>\n",
              "      <td>1</td>\n",
              "    </tr>\n",
              "    <tr>\n",
              "      <th>1</th>\n",
              "      <td>1877</td>\n",
              "      <td>4</td>\n",
              "    </tr>\n",
              "    <tr>\n",
              "      <th>2</th>\n",
              "      <td>1878</td>\n",
              "      <td>2</td>\n",
              "    </tr>\n",
              "    <tr>\n",
              "      <th>3</th>\n",
              "      <td>1881</td>\n",
              "      <td>2</td>\n",
              "    </tr>\n",
              "    <tr>\n",
              "      <th>4</th>\n",
              "      <td>1882</td>\n",
              "      <td>2</td>\n",
              "    </tr>\n",
              "    <tr>\n",
              "      <th>...</th>\n",
              "      <td>...</td>\n",
              "      <td>...</td>\n",
              "    </tr>\n",
              "    <tr>\n",
              "      <th>145</th>\n",
              "      <td>2025</td>\n",
              "      <td>144</td>\n",
              "    </tr>\n",
              "    <tr>\n",
              "      <th>146</th>\n",
              "      <td>2026</td>\n",
              "      <td>43</td>\n",
              "    </tr>\n",
              "    <tr>\n",
              "      <th>147</th>\n",
              "      <td>2027</td>\n",
              "      <td>15</td>\n",
              "    </tr>\n",
              "    <tr>\n",
              "      <th>148</th>\n",
              "      <td>2028</td>\n",
              "      <td>7</td>\n",
              "    </tr>\n",
              "    <tr>\n",
              "      <th>149</th>\n",
              "      <td>2029</td>\n",
              "      <td>4</td>\n",
              "    </tr>\n",
              "  </tbody>\n",
              "</table>\n",
              "<p>150 rows × 2 columns</p>\n",
              "</div>\n",
              "      <button class=\"colab-df-convert\" onclick=\"convertToInteractive('df-a5f1e428-229a-4a92-b12f-7e988daa5a16')\"\n",
              "              title=\"Convert this dataframe to an interactive table.\"\n",
              "              style=\"display:none;\">\n",
              "        \n",
              "  <svg xmlns=\"http://www.w3.org/2000/svg\" height=\"24px\"viewBox=\"0 0 24 24\"\n",
              "       width=\"24px\">\n",
              "    <path d=\"M0 0h24v24H0V0z\" fill=\"none\"/>\n",
              "    <path d=\"M18.56 5.44l.94 2.06.94-2.06 2.06-.94-2.06-.94-.94-2.06-.94 2.06-2.06.94zm-11 1L8.5 8.5l.94-2.06 2.06-.94-2.06-.94L8.5 2.5l-.94 2.06-2.06.94zm10 10l.94 2.06.94-2.06 2.06-.94-2.06-.94-.94-2.06-.94 2.06-2.06.94z\"/><path d=\"M17.41 7.96l-1.37-1.37c-.4-.4-.92-.59-1.43-.59-.52 0-1.04.2-1.43.59L10.3 9.45l-7.72 7.72c-.78.78-.78 2.05 0 2.83L4 21.41c.39.39.9.59 1.41.59.51 0 1.02-.2 1.41-.59l7.78-7.78 2.81-2.81c.8-.78.8-2.07 0-2.86zM5.41 20L4 18.59l7.72-7.72 1.47 1.35L5.41 20z\"/>\n",
              "  </svg>\n",
              "      </button>\n",
              "      \n",
              "  <style>\n",
              "    .colab-df-container {\n",
              "      display:flex;\n",
              "      flex-wrap:wrap;\n",
              "      gap: 12px;\n",
              "    }\n",
              "\n",
              "    .colab-df-convert {\n",
              "      background-color: #E8F0FE;\n",
              "      border: none;\n",
              "      border-radius: 50%;\n",
              "      cursor: pointer;\n",
              "      display: none;\n",
              "      fill: #1967D2;\n",
              "      height: 32px;\n",
              "      padding: 0 0 0 0;\n",
              "      width: 32px;\n",
              "    }\n",
              "\n",
              "    .colab-df-convert:hover {\n",
              "      background-color: #E2EBFA;\n",
              "      box-shadow: 0px 1px 2px rgba(60, 64, 67, 0.3), 0px 1px 3px 1px rgba(60, 64, 67, 0.15);\n",
              "      fill: #174EA6;\n",
              "    }\n",
              "\n",
              "    [theme=dark] .colab-df-convert {\n",
              "      background-color: #3B4455;\n",
              "      fill: #D2E3FC;\n",
              "    }\n",
              "\n",
              "    [theme=dark] .colab-df-convert:hover {\n",
              "      background-color: #434B5C;\n",
              "      box-shadow: 0px 1px 3px 1px rgba(0, 0, 0, 0.15);\n",
              "      filter: drop-shadow(0px 1px 2px rgba(0, 0, 0, 0.3));\n",
              "      fill: #FFFFFF;\n",
              "    }\n",
              "  </style>\n",
              "\n",
              "      <script>\n",
              "        const buttonEl =\n",
              "          document.querySelector('#df-a5f1e428-229a-4a92-b12f-7e988daa5a16 button.colab-df-convert');\n",
              "        buttonEl.style.display =\n",
              "          google.colab.kernel.accessAllowed ? 'block' : 'none';\n",
              "\n",
              "        async function convertToInteractive(key) {\n",
              "          const element = document.querySelector('#df-a5f1e428-229a-4a92-b12f-7e988daa5a16');\n",
              "          const dataTable =\n",
              "            await google.colab.kernel.invokeFunction('convertToInteractive',\n",
              "                                                     [key], {});\n",
              "          if (!dataTable) return;\n",
              "\n",
              "          const docLinkHtml = 'Like what you see? Visit the ' +\n",
              "            '<a target=\"_blank\" href=https://colab.research.google.com/notebooks/data_table.ipynb>data table notebook</a>'\n",
              "            + ' to learn more about interactive tables.';\n",
              "          element.innerHTML = '';\n",
              "          dataTable['output_type'] = 'display_data';\n",
              "          await google.colab.output.renderOutput(dataTable, element);\n",
              "          const docLink = document.createElement('div');\n",
              "          docLink.innerHTML = docLinkHtml;\n",
              "          element.appendChild(docLink);\n",
              "        }\n",
              "      </script>\n",
              "    </div>\n",
              "  </div>\n",
              "  "
            ]
          },
          "metadata": {},
          "execution_count": 94
        }
      ]
    },
    {
      "cell_type": "code",
      "source": [
        "temp1 = spark.sql(\"\"\"SELECT startYear, count(*) as liczba_wystapien from df_title_basic group by startYear order by startYear asc\"\"\").show(151)"
      ],
      "metadata": {
        "colab": {
          "base_uri": "https://localhost:8080/"
        },
        "id": "pidPmICEATga",
        "outputId": "e5acfc31-b420-49cc-b033-fe2334ef07d6"
      },
      "execution_count": 68,
      "outputs": [
        {
          "output_type": "stream",
          "name": "stdout",
          "text": [
            "+---------+----------------+\n",
            "|startYear|liczba_wystapien|\n",
            "+---------+----------------+\n",
            "|     1874|               1|\n",
            "|     1877|               4|\n",
            "|     1878|               2|\n",
            "|     1881|               2|\n",
            "|     1882|               2|\n",
            "|     1883|               1|\n",
            "|     1885|               1|\n",
            "|     1887|              45|\n",
            "|     1888|               5|\n",
            "|     1889|               2|\n",
            "|     1890|               6|\n",
            "|     1891|              10|\n",
            "|     1892|               9|\n",
            "|     1893|               3|\n",
            "|     1894|              99|\n",
            "|     1895|             115|\n",
            "|     1896|             852|\n",
            "|     1897|            1356|\n",
            "|     1898|            1796|\n",
            "|     1899|            1820|\n",
            "|     1900|            1862|\n",
            "|     1901|            1769|\n",
            "|     1902|            1811|\n",
            "|     1903|            2676|\n",
            "|     1904|            1837|\n",
            "|     1905|            1705|\n",
            "|     1906|            1858|\n",
            "|     1907|            2490|\n",
            "|     1908|            4300|\n",
            "|     1909|            5438|\n",
            "|     1910|            6419|\n",
            "|     1911|            7747|\n",
            "|     1912|            8710|\n",
            "|     1913|            9768|\n",
            "|     1914|            9362|\n",
            "|     1915|            8579|\n",
            "|     1916|            7090|\n",
            "|     1917|            5640|\n",
            "|     1918|            4754|\n",
            "|     1919|            4220|\n",
            "|     1920|            4569|\n",
            "|     1921|            4273|\n",
            "|     1922|            3665|\n",
            "|     1923|            3073|\n",
            "|     1924|            3160|\n",
            "|     1925|            3476|\n",
            "|     1926|            3462|\n",
            "|     1927|            3600|\n",
            "|     1928|            3583|\n",
            "|     1929|            3773|\n",
            "|     1930|            3268|\n",
            "|     1931|            3337|\n",
            "|     1932|            3123|\n",
            "|     1933|            2956|\n",
            "|     1934|            3006|\n",
            "|     1935|            2921|\n",
            "|     1936|            3370|\n",
            "|     1937|            3601|\n",
            "|     1938|            3420|\n",
            "|     1939|            3056|\n",
            "|     1940|            2685|\n",
            "|     1941|            2513|\n",
            "|     1942|            2422|\n",
            "|     1943|            2210|\n",
            "|     1944|            2053|\n",
            "|     1945|            2066|\n",
            "|     1946|            2635|\n",
            "|     1947|            3014|\n",
            "|     1948|            3827|\n",
            "|     1949|            5138|\n",
            "|     1950|            7550|\n",
            "|     1951|            9294|\n",
            "|     1952|            9918|\n",
            "|     1953|            9987|\n",
            "|     1954|           12452|\n",
            "|     1955|           13160|\n",
            "|     1956|           13142|\n",
            "|     1957|           14766|\n",
            "|     1958|           15770|\n",
            "|     1959|           16102|\n",
            "|     1960|           17717|\n",
            "|     1961|           18039|\n",
            "|     1962|           18148|\n",
            "|     1963|           20591|\n",
            "|     1964|           22218|\n",
            "|     1965|           25699|\n",
            "|     1966|           27094|\n",
            "|     1967|           28408|\n",
            "|     1968|           27100|\n",
            "|     1969|           30859|\n",
            "|     1970|           30869|\n",
            "|     1971|           31870|\n",
            "|     1972|           31709|\n",
            "|     1973|           32502|\n",
            "|     1974|           31212|\n",
            "|     1975|           31478|\n",
            "|     1976|           31246|\n",
            "|     1977|           30790|\n",
            "|     1978|           31436|\n",
            "|     1979|           31537|\n",
            "|     1980|           32788|\n",
            "|     1981|           32439|\n",
            "|     1982|           35544|\n",
            "|     1983|           36633|\n",
            "|     1984|           38188|\n",
            "|     1985|           39968|\n",
            "|     1986|           40011|\n",
            "|     1987|           42671|\n",
            "|     1988|           41355|\n",
            "|     1989|           45279|\n",
            "|     1990|           48255|\n",
            "|     1991|           50099|\n",
            "|     1992|           52019|\n",
            "|     1993|           56292|\n",
            "|     1994|           60651|\n",
            "|     1995|           68271|\n",
            "|     1996|           72204|\n",
            "|     1997|           77389|\n",
            "|     1998|           86705|\n",
            "|     1999|           91616|\n",
            "|     2000|           94785|\n",
            "|     2001|          104126|\n",
            "|     2002|          107938|\n",
            "|     2003|          120183|\n",
            "|     2004|          138162|\n",
            "|     2005|          152787|\n",
            "|     2006|          170186|\n",
            "|     2007|          189803|\n",
            "|     2008|          204554|\n",
            "|     2009|          216324|\n",
            "|     2010|          247539|\n",
            "|     2011|          278405|\n",
            "|     2012|          315895|\n",
            "|     2013|          339281|\n",
            "|     2014|          359513|\n",
            "|     2015|          377933|\n",
            "|     2016|          400314|\n",
            "|     2017|          422300|\n",
            "|     2018|          425855|\n",
            "|     2019|          415219|\n",
            "|     2020|          389803|\n",
            "|     2021|          440548|\n",
            "|     2022|          343274|\n",
            "|     2023|           13105|\n",
            "|     2024|             602|\n",
            "|     2025|             144|\n",
            "|     2026|              43|\n",
            "|     2027|              15|\n",
            "|     2028|               7|\n",
            "|     2029|               4|\n",
            "|       \\N|         1266394|\n",
            "+---------+----------------+\n",
            "\n"
          ]
        }
      ]
    },
    {
      "cell_type": "code",
      "source": [
        "plt.bar(temp1.startYear, temp1.liczba_wystapien, width = 2)\n",
        "plt.xticks(temp1.startYear[::5], rotation='vertical')\n",
        "plt.show()"
      ],
      "metadata": {
        "colab": {
          "base_uri": "https://localhost:8080/",
          "height": 281
        },
        "id": "wjYG98sg4uYF",
        "outputId": "0571bdb8-fb07-4298-d931-258c2581928d"
      },
      "execution_count": 95,
      "outputs": [
        {
          "output_type": "display_data",
          "data": {
            "text/plain": [
              "<Figure size 432x288 with 1 Axes>"
            ],
            "image/png": "[encoded data removed]"
          },
          "metadata": {
            "needs_background": "light"
          }
        }
      ]
    },
    {
      "cell_type": "markdown",
      "source": [
        "Kolumna \"endYear\":\n",
        "wartości są z przedziału [1906,2030] oraz nulle, których jest 9 357 477, czyli mniej więcej 8 razy więcej niż nulli w startYear.\n",
        "Liczba nulli sugeruje z góry liczbę nadal tworzonych produkcji jakiegolwiek rodzaju. "
      ],
      "metadata": {
        "id": "ooseZWZAK1KQ"
      }
    },
    {
      "cell_type": "code",
      "source": [
        "temp2 = spark.sql(\"\"\"SELECT endYear, count(*) as liczba_wystapien from df_title_basic where endYear<2031 group by endYear order by endYear asc\"\"\").toPandas()\n"
      ],
      "metadata": {
        "id": "0F8628dgAieo"
      },
      "execution_count": 83,
      "outputs": []
    },
    {
      "cell_type": "code",
      "source": [
        "spark.sql(\"\"\"SELECT endYear, count(*) as liczba_wystapien from df_title_basic group by endYear order by endYear asc\"\"\").toPandas()\n",
        "#nulli jest 9357447"
      ],
      "metadata": {
        "colab": {
          "base_uri": "https://localhost:8080/",
          "height": 424
        },
        "id": "VnjhYQBkCwGt",
        "outputId": "b2f9cac4-6fdc-4a29-d4de-b1ec8a0e1691"
      },
      "execution_count": 88,
      "outputs": [
        {
          "output_type": "execute_result",
          "data": {
            "text/plain": [
              "   endYear  liczba_wystapien\n",
              "0     1906                 1\n",
              "1     1925                 1\n",
              "2     1932                11\n",
              "3     1933                 2\n",
              "4     1934                 1\n",
              "..     ...               ...\n",
              "92    2026                 3\n",
              "93    2027                 2\n",
              "94    2028                 1\n",
              "95    2030                 1\n",
              "96      \\N           9357447\n",
              "\n",
              "[97 rows x 2 columns]"
            ],
            "text/html": [
              "\n",
              "  <div id=\"df-2fd79ee5-dac3-453d-9bcf-69293a4677b4\">\n",
              "    <div class=\"colab-df-container\">\n",
              "      <div>\n",
              "<style scoped>\n",
              "    .dataframe tbody tr th:only-of-type {\n",
              "        vertical-align: middle;\n",
              "    }\n",
              "\n",
              "    .dataframe tbody tr th {\n",
              "        vertical-align: top;\n",
              "    }\n",
              "\n",
              "    .dataframe thead th {\n",
              "        text-align: right;\n",
              "    }\n",
              "</style>\n",
              "<table border=\"1\" class=\"dataframe\">\n",
              "  <thead>\n",
              "    <tr style=\"text-align: right;\">\n",
              "      <th></th>\n",
              "      <th>endYear</th>\n",
              "      <th>liczba_wystapien</th>\n",
              "    </tr>\n",
              "  </thead>\n",
              "  <tbody>\n",
              "    <tr>\n",
              "      <th>0</th>\n",
              "      <td>1906</td>\n",
              "      <td>1</td>\n",
              "    </tr>\n",
              "    <tr>\n",
              "      <th>1</th>\n",
              "      <td>1925</td>\n",
              "      <td>1</td>\n",
              "    </tr>\n",
              "    <tr>\n",
              "      <th>2</th>\n",
              "      <td>1932</td>\n",
              "      <td>11</td>\n",
              "    </tr>\n",
              "    <tr>\n",
              "      <th>3</th>\n",
              "      <td>1933</td>\n",
              "      <td>2</td>\n",
              "    </tr>\n",
              "    <tr>\n",
              "      <th>4</th>\n",
              "      <td>1934</td>\n",
              "      <td>1</td>\n",
              "    </tr>\n",
              "    <tr>\n",
              "      <th>...</th>\n",
              "      <td>...</td>\n",
              "      <td>...</td>\n",
              "    </tr>\n",
              "    <tr>\n",
              "      <th>92</th>\n",
              "      <td>2026</td>\n",
              "      <td>3</td>\n",
              "    </tr>\n",
              "    <tr>\n",
              "      <th>93</th>\n",
              "      <td>2027</td>\n",
              "      <td>2</td>\n",
              "    </tr>\n",
              "    <tr>\n",
              "      <th>94</th>\n",
              "      <td>2028</td>\n",
              "      <td>1</td>\n",
              "    </tr>\n",
              "    <tr>\n",
              "      <th>95</th>\n",
              "      <td>2030</td>\n",
              "      <td>1</td>\n",
              "    </tr>\n",
              "    <tr>\n",
              "      <th>96</th>\n",
              "      <td>\\N</td>\n",
              "      <td>9357447</td>\n",
              "    </tr>\n",
              "  </tbody>\n",
              "</table>\n",
              "<p>97 rows × 2 columns</p>\n",
              "</div>\n",
              "      <button class=\"colab-df-convert\" onclick=\"convertToInteractive('df-2fd79ee5-dac3-453d-9bcf-69293a4677b4')\"\n",
              "              title=\"Convert this dataframe to an interactive table.\"\n",
              "              style=\"display:none;\">\n",
              "        \n",
              "  <svg xmlns=\"http://www.w3.org/2000/svg\" height=\"24px\"viewBox=\"0 0 24 24\"\n",
              "       width=\"24px\">\n",
              "    <path d=\"M0 0h24v24H0V0z\" fill=\"none\"/>\n",
              "    <path d=\"M18.56 5.44l.94 2.06.94-2.06 2.06-.94-2.06-.94-.94-2.06-.94 2.06-2.06.94zm-11 1L8.5 8.5l.94-2.06 2.06-.94-2.06-.94L8.5 2.5l-.94 2.06-2.06.94zm10 10l.94 2.06.94-2.06 2.06-.94-2.06-.94-.94-2.06-.94 2.06-2.06.94z\"/><path d=\"M17.41 7.96l-1.37-1.37c-.4-.4-.92-.59-1.43-.59-.52 0-1.04.2-1.43.59L10.3 9.45l-7.72 7.72c-.78.78-.78 2.05 0 2.83L4 21.41c.39.39.9.59 1.41.59.51 0 1.02-.2 1.41-.59l7.78-7.78 2.81-2.81c.8-.78.8-2.07 0-2.86zM5.41 20L4 18.59l7.72-7.72 1.47 1.35L5.41 20z\"/>\n",
              "  </svg>\n",
              "      </button>\n",
              "      \n",
              "  <style>\n",
              "    .colab-df-container {\n",
              "      display:flex;\n",
              "      flex-wrap:wrap;\n",
              "      gap: 12px;\n",
              "    }\n",
              "\n",
              "    .colab-df-convert {\n",
              "      background-color: #E8F0FE;\n",
              "      border: none;\n",
              "      border-radius: 50%;\n",
              "      cursor: pointer;\n",
              "      display: none;\n",
              "      fill: #1967D2;\n",
              "      height: 32px;\n",
              "      padding: 0 0 0 0;\n",
              "      width: 32px;\n",
              "    }\n",
              "\n",
              "    .colab-df-convert:hover {\n",
              "      background-color: #E2EBFA;\n",
              "      box-shadow: 0px 1px 2px rgba(60, 64, 67, 0.3), 0px 1px 3px 1px rgba(60, 64, 67, 0.15);\n",
              "      fill: #174EA6;\n",
              "    }\n",
              "\n",
              "    [theme=dark] .colab-df-convert {\n",
              "      background-color: #3B4455;\n",
              "      fill: #D2E3FC;\n",
              "    }\n",
              "\n",
              "    [theme=dark] .colab-df-convert:hover {\n",
              "      background-color: #434B5C;\n",
              "      box-shadow: 0px 1px 3px 1px rgba(0, 0, 0, 0.15);\n",
              "      filter: drop-shadow(0px 1px 2px rgba(0, 0, 0, 0.3));\n",
              "      fill: #FFFFFF;\n",
              "    }\n",
              "  </style>\n",
              "\n",
              "      <script>\n",
              "        const buttonEl =\n",
              "          document.querySelector('#df-2fd79ee5-dac3-453d-9bcf-69293a4677b4 button.colab-df-convert');\n",
              "        buttonEl.style.display =\n",
              "          google.colab.kernel.accessAllowed ? 'block' : 'none';\n",
              "\n",
              "        async function convertToInteractive(key) {\n",
              "          const element = document.querySelector('#df-2fd79ee5-dac3-453d-9bcf-69293a4677b4');\n",
              "          const dataTable =\n",
              "            await google.colab.kernel.invokeFunction('convertToInteractive',\n",
              "                                                     [key], {});\n",
              "          if (!dataTable) return;\n",
              "\n",
              "          const docLinkHtml = 'Like what you see? Visit the ' +\n",
              "            '<a target=\"_blank\" href=https://colab.research.google.com/notebooks/data_table.ipynb>data table notebook</a>'\n",
              "            + ' to learn more about interactive tables.';\n",
              "          element.innerHTML = '';\n",
              "          dataTable['output_type'] = 'display_data';\n",
              "          await google.colab.output.renderOutput(dataTable, element);\n",
              "          const docLink = document.createElement('div');\n",
              "          docLink.innerHTML = docLinkHtml;\n",
              "          element.appendChild(docLink);\n",
              "        }\n",
              "      </script>\n",
              "    </div>\n",
              "  </div>\n",
              "  "
            ]
          },
          "metadata": {},
          "execution_count": 88
        }
      ]
    },
    {
      "cell_type": "code",
      "source": [
        "temp2"
      ],
      "metadata": {
        "colab": {
          "base_uri": "https://localhost:8080/",
          "height": 424
        },
        "id": "BTbVHaLvBEod",
        "outputId": "4123f67a-32b4-4e89-d7d2-076d5573bdb2"
      },
      "execution_count": 84,
      "outputs": [
        {
          "output_type": "execute_result",
          "data": {
            "text/plain": [
              "   endYear  liczba_wystapien\n",
              "0     1906                 1\n",
              "1     1925                 1\n",
              "2     1932                11\n",
              "3     1933                 2\n",
              "4     1934                 1\n",
              "..     ...               ...\n",
              "91    2025                 7\n",
              "92    2026                 3\n",
              "93    2027                 2\n",
              "94    2028                 1\n",
              "95    2030                 1\n",
              "\n",
              "[96 rows x 2 columns]"
            ],
            "text/html": [
              "\n",
              "  <div id=\"df-f7af22f2-b6d1-40ee-86e2-c84dda8c42ef\">\n",
              "    <div class=\"colab-df-container\">\n",
              "      <div>\n",
              "<style scoped>\n",
              "    .dataframe tbody tr th:only-of-type {\n",
              "        vertical-align: middle;\n",
              "    }\n",
              "\n",
              "    .dataframe tbody tr th {\n",
              "        vertical-align: top;\n",
              "    }\n",
              "\n",
              "    .dataframe thead th {\n",
              "        text-align: right;\n",
              "    }\n",
              "</style>\n",
              "<table border=\"1\" class=\"dataframe\">\n",
              "  <thead>\n",
              "    <tr style=\"text-align: right;\">\n",
              "      <th></th>\n",
              "      <th>endYear</th>\n",
              "      <th>liczba_wystapien</th>\n",
              "    </tr>\n",
              "  </thead>\n",
              "  <tbody>\n",
              "    <tr>\n",
              "      <th>0</th>\n",
              "      <td>1906</td>\n",
              "      <td>1</td>\n",
              "    </tr>\n",
              "    <tr>\n",
              "      <th>1</th>\n",
              "      <td>1925</td>\n",
              "      <td>1</td>\n",
              "    </tr>\n",
              "    <tr>\n",
              "      <th>2</th>\n",
              "      <td>1932</td>\n",
              "      <td>11</td>\n",
              "    </tr>\n",
              "    <tr>\n",
              "      <th>3</th>\n",
              "      <td>1933</td>\n",
              "      <td>2</td>\n",
              "    </tr>\n",
              "    <tr>\n",
              "      <th>4</th>\n",
              "      <td>1934</td>\n",
              "      <td>1</td>\n",
              "    </tr>\n",
              "    <tr>\n",
              "      <th>...</th>\n",
              "      <td>...</td>\n",
              "      <td>...</td>\n",
              "    </tr>\n",
              "    <tr>\n",
              "      <th>91</th>\n",
              "      <td>2025</td>\n",
              "      <td>7</td>\n",
              "    </tr>\n",
              "    <tr>\n",
              "      <th>92</th>\n",
              "      <td>2026</td>\n",
              "      <td>3</td>\n",
              "    </tr>\n",
              "    <tr>\n",
              "      <th>93</th>\n",
              "      <td>2027</td>\n",
              "      <td>2</td>\n",
              "    </tr>\n",
              "    <tr>\n",
              "      <th>94</th>\n",
              "      <td>2028</td>\n",
              "      <td>1</td>\n",
              "    </tr>\n",
              "    <tr>\n",
              "      <th>95</th>\n",
              "      <td>2030</td>\n",
              "      <td>1</td>\n",
              "    </tr>\n",
              "  </tbody>\n",
              "</table>\n",
              "<p>96 rows × 2 columns</p>\n",
              "</div>\n",
              "      <button class=\"colab-df-convert\" onclick=\"convertToInteractive('df-f7af22f2-b6d1-40ee-86e2-c84dda8c42ef')\"\n",
              "              title=\"Convert this dataframe to an interactive table.\"\n",
              "              style=\"display:none;\">\n",
              "        \n",
              "  <svg xmlns=\"http://www.w3.org/2000/svg\" height=\"24px\"viewBox=\"0 0 24 24\"\n",
              "       width=\"24px\">\n",
              "    <path d=\"M0 0h24v24H0V0z\" fill=\"none\"/>\n",
              "    <path d=\"M18.56 5.44l.94 2.06.94-2.06 2.06-.94-2.06-.94-.94-2.06-.94 2.06-2.06.94zm-11 1L8.5 8.5l.94-2.06 2.06-.94-2.06-.94L8.5 2.5l-.94 2.06-2.06.94zm10 10l.94 2.06.94-2.06 2.06-.94-2.06-.94-.94-2.06-.94 2.06-2.06.94z\"/><path d=\"M17.41 7.96l-1.37-1.37c-.4-.4-.92-.59-1.43-.59-.52 0-1.04.2-1.43.59L10.3 9.45l-7.72 7.72c-.78.78-.78 2.05 0 2.83L4 21.41c.39.39.9.59 1.41.59.51 0 1.02-.2 1.41-.59l7.78-7.78 2.81-2.81c.8-.78.8-2.07 0-2.86zM5.41 20L4 18.59l7.72-7.72 1.47 1.35L5.41 20z\"/>\n",
              "  </svg>\n",
              "      </button>\n",
              "      \n",
              "  <style>\n",
              "    .colab-df-container {\n",
              "      display:flex;\n",
              "      flex-wrap:wrap;\n",
              "      gap: 12px;\n",
              "    }\n",
              "\n",
              "    .colab-df-convert {\n",
              "      background-color: #E8F0FE;\n",
              "      border: none;\n",
              "      border-radius: 50%;\n",
              "      cursor: pointer;\n",
              "      display: none;\n",
              "      fill: #1967D2;\n",
              "      height: 32px;\n",
              "      padding: 0 0 0 0;\n",
              "      width: 32px;\n",
              "    }\n",
              "\n",
              "    .colab-df-convert:hover {\n",
              "      background-color: #E2EBFA;\n",
              "      box-shadow: 0px 1px 2px rgba(60, 64, 67, 0.3), 0px 1px 3px 1px rgba(60, 64, 67, 0.15);\n",
              "      fill: #174EA6;\n",
              "    }\n",
              "\n",
              "    [theme=dark] .colab-df-convert {\n",
              "      background-color: #3B4455;\n",
              "      fill: #D2E3FC;\n",
              "    }\n",
              "\n",
              "    [theme=dark] .colab-df-convert:hover {\n",
              "      background-color: #434B5C;\n",
              "      box-shadow: 0px 1px 3px 1px rgba(0, 0, 0, 0.15);\n",
              "      filter: drop-shadow(0px 1px 2px rgba(0, 0, 0, 0.3));\n",
              "      fill: #FFFFFF;\n",
              "    }\n",
              "  </style>\n",
              "\n",
              "      <script>\n",
              "        const buttonEl =\n",
              "          document.querySelector('#df-f7af22f2-b6d1-40ee-86e2-c84dda8c42ef button.colab-df-convert');\n",
              "        buttonEl.style.display =\n",
              "          google.colab.kernel.accessAllowed ? 'block' : 'none';\n",
              "\n",
              "        async function convertToInteractive(key) {\n",
              "          const element = document.querySelector('#df-f7af22f2-b6d1-40ee-86e2-c84dda8c42ef');\n",
              "          const dataTable =\n",
              "            await google.colab.kernel.invokeFunction('convertToInteractive',\n",
              "                                                     [key], {});\n",
              "          if (!dataTable) return;\n",
              "\n",
              "          const docLinkHtml = 'Like what you see? Visit the ' +\n",
              "            '<a target=\"_blank\" href=https://colab.research.google.com/notebooks/data_table.ipynb>data table notebook</a>'\n",
              "            + ' to learn more about interactive tables.';\n",
              "          element.innerHTML = '';\n",
              "          dataTable['output_type'] = 'display_data';\n",
              "          await google.colab.output.renderOutput(dataTable, element);\n",
              "          const docLink = document.createElement('div');\n",
              "          docLink.innerHTML = docLinkHtml;\n",
              "          element.appendChild(docLink);\n",
              "        }\n",
              "      </script>\n",
              "    </div>\n",
              "  </div>\n",
              "  "
            ]
          },
          "metadata": {},
          "execution_count": 84
        }
      ]
    },
    {
      "cell_type": "code",
      "source": [
        "plt.bar(temp2.endYear, temp2.liczba_wystapien, width = 5)\n",
        "plt.xticks(temp2.endYear[::5], rotation='vertical')\n",
        "plt.show()\n"
      ],
      "metadata": {
        "colab": {
          "base_uri": "https://localhost:8080/",
          "height": 281
        },
        "id": "UCp--zSxBUWi",
        "outputId": "eada9c8b-1bd7-4ea2-8672-5ea934007f83"
      },
      "execution_count": 97,
      "outputs": [
        {
          "output_type": "display_data",
          "data": {
            "text/plain": [
              "<Figure size 432x288 with 1 Axes>"
            ],
            "image/png": "[encoded data removed]"
          },
          "metadata": {
            "needs_background": "light"
          }
        }
      ]
    }
  ]
}