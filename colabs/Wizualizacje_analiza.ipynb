{
  "nbformat": 4,
  "nbformat_minor": 0,
  "metadata": {
    "colab": {
      "provenance": [],
      "collapsed_sections": [
        "kgYZYlTutA0O",
        "or9x68JxXc10",
        "pPWxy5j_aEvo",
        "s-hzkKehxgnQ",
        "snoopt7lY71j"
      ],
      "include_colab_link": true
    },
    "kernelspec": {
      "name": "python3",
      "display_name": "Python 3"
    },
    "language_info": {
      "name": "python"
    }
  },
  "cells": [
    {
      "cell_type": "markdown",
      "metadata": {
        "id": "view-in-github",
        "colab_type": "text"
      },
      "source": [
        "<a href=\"https://colab.research.google.com/github/PiotrMaciejKowalski/BigData2022-actors/blob/CU-30u4v4d_Analiza-wizualizacja/colabs/Wizualizacje_analiza.ipynb\" target=\"_parent\"><img src=\"https://colab.research.google.com/assets/colab-badge.svg\" alt=\"Open In Colab\"/></a>"
      ]
    },
    {
      "cell_type": "markdown",
      "source": [
        "#Załadowanie repozytorium"
      ],
      "metadata": {
        "id": "lO5bbY2iww-u"
      }
    },
    {
      "cell_type": "markdown",
      "source": [
        "##Załadowanie repozytorium"
      ],
      "metadata": {
        "id": "inq92uX-w20K"
      }
    },
    {
      "cell_type": "code",
      "source": [
        "!git clone https://github.com/PiotrMaciejKowalski/BigData2022-actors.git"
      ],
      "metadata": {
        "id": "5EkoqzLSw4Li"
      },
      "execution_count": null,
      "outputs": []
    },
    {
      "cell_type": "code",
      "source": [
        "!mv /content/BigData2022-actors/* ."
      ],
      "metadata": {
        "id": "oJ9FbM-k2oOC"
      },
      "execution_count": null,
      "outputs": []
    },
    {
      "cell_type": "markdown",
      "source": [
        "##Testujemy dostępność metod z katalogu tests"
      ],
      "metadata": {
        "id": "-zuhXzW3mDFT"
      }
    },
    {
      "cell_type": "code",
      "source": [
        "from tests.simple_test import *"
      ],
      "metadata": {
        "id": "y6vpCNKgmJ40"
      },
      "execution_count": null,
      "outputs": []
    },
    {
      "cell_type": "code",
      "source": [
        "test_check_if_pytest_works()"
      ],
      "metadata": {
        "id": "WIE7bXmu0ZCF"
      },
      "execution_count": null,
      "outputs": []
    },
    {
      "cell_type": "markdown",
      "source": [
        "#Setup sparka"
      ],
      "metadata": {
        "id": "Vzb444kPW31g"
      }
    },
    {
      "cell_type": "markdown",
      "source": [
        "##Setup sparka"
      ],
      "metadata": {
        "id": "Ny5PYKNbsHju"
      }
    },
    {
      "cell_type": "code",
      "source": [
        "!pip install pyspark py4j\n",
        "!pip install -q findspark\n",
        "!apt-get install openjdk-8-jdk-headless -qq > /dev/null\n",
        "!wget ftp://ftp.ps.pl/pub/apache/spark/spark-3.3.1/spark-3.3.1-bin-hadoop2.tgz\n",
        "!tar xf spark-3.3.1-bin-hadoop2.tgz"
      ],
      "metadata": {
        "id": "UxTbMYkeLrk6"
      },
      "execution_count": null,
      "outputs": []
    },
    {
      "cell_type": "code",
      "source": [
        "import pyspark\n",
        "import findspark\n",
        "from pyspark.sql import SparkSession\n",
        "import os"
      ],
      "metadata": {
        "id": "g_c507iBLsSW"
      },
      "execution_count": null,
      "outputs": []
    },
    {
      "cell_type": "code",
      "source": [
        "os.environ[\"JAVA_HOME\"] = \"/usr/lib/jvm/java-8-openjdk-amd64\"\n",
        "os.environ[\"SPARK_HOME\"] = \"/content/spark-3.3.1-bin-hadoop2\"\n",
        "spark=SparkSession.builder.appName('Colab').getOrCreate()\n",
        "spark"
      ],
      "metadata": {
        "id": "1rwBnBMwW88n"
      },
      "execution_count": null,
      "outputs": []
    },
    {
      "cell_type": "markdown",
      "source": [
        "#Pobranie danych"
      ],
      "metadata": {
        "id": "p0l3OAblXJ2w"
      }
    },
    {
      "cell_type": "markdown",
      "source": [
        "##Import danych"
      ],
      "metadata": {
        "id": "kgYZYlTutA0O"
      }
    },
    {
      "cell_type": "code",
      "source": [
        "!wget https://datasets.imdbws.com/name.basics.tsv.gz\n",
        "!wget https://datasets.imdbws.com/title.akas.tsv.gz\n",
        "!wget https://datasets.imdbws.com/title.basics.tsv.gz\n",
        "!wget https://datasets.imdbws.com/title.crew.tsv.gz\n",
        "!wget https://datasets.imdbws.com/title.episode.tsv.gz\n",
        "!wget https://datasets.imdbws.com/title.principals.tsv.gz\n",
        "!wget https://datasets.imdbws.com/title.ratings.tsv.gz"
      ],
      "metadata": {
        "id": "SciXhN5JXONa"
      },
      "execution_count": null,
      "outputs": []
    },
    {
      "cell_type": "markdown",
      "source": [
        "##Rozpakowanie danych"
      ],
      "metadata": {
        "id": "or9x68JxXc10"
      }
    },
    {
      "cell_type": "code",
      "source": [
        "!gzip -dc /content/name.basics.tsv.gz > name.basics.csv\n",
        "!gzip -dc /content/title.akas.tsv.gz > title.akas.csv\n",
        "!gzip -dc /content/title.basics.tsv.gz > title.basic.csv\n",
        "!gzip -dc /content/title.crew.tsv.gz > title.crew.csv\n",
        "!gzip -dc /content/title.episode.tsv.gz > title.episode.csv\n",
        "!gzip -dc /content/title.principals.tsv.gz > title.principals.csv\n",
        "!gzip -dc /content/title.ratings.tsv.gz > title.ratings.csv"
      ],
      "metadata": {
        "id": "IpXAjtV4XeKx"
      },
      "execution_count": null,
      "outputs": []
    },
    {
      "cell_type": "markdown",
      "source": [
        "#Wczytanie danych"
      ],
      "metadata": {
        "id": "pPWxy5j_aEvo"
      }
    },
    {
      "cell_type": "markdown",
      "source": [
        "##Wczytajmy dane z rozpakowanych plików"
      ],
      "metadata": {
        "id": "s-hzkKehxgnQ"
      }
    },
    {
      "cell_type": "code",
      "source": [
        "df_name_basics=spark.read.option(\"header\", \"true\").option(\"delimiter\", \"\\t\").csv('name.basics.csv' ) \n",
        "df_title_akas=spark.read.option(\"header\",\"true\").option(\"delimiter\", \"\\t\").csv('title.akas.csv')\n",
        "df_title_basic=spark.read.option(\"header\",\"true\").option(\"delimiter\", \"\\t\").csv('title.basic.csv')\n",
        "df_title_crew=spark.read.option(\"header\",\"true\").option(\"delimiter\", \"\\t\").csv('title.crew.csv')\n",
        "df_title_episode=spark.read.option(\"header\",\"true\").option(\"delimiter\",\"\\t\").csv('title.episode.csv')\n",
        "df_title_principals=spark.read.option(\"header\",\"true\").option(\"delimiter\",\"\\t\").csv('title.principals.csv')\n",
        "df_title_ratings=spark.read.option(\"header\",\"true\").option(\"delimiter\",\"\\t\").csv('title.ratings.csv')"
      ],
      "metadata": {
        "id": "skegmFMQXpcA"
      },
      "execution_count": null,
      "outputs": []
    },
    {
      "cell_type": "markdown",
      "source": [
        "##Wyświetlmy dane"
      ],
      "metadata": {
        "id": "snoopt7lY71j"
      }
    },
    {
      "cell_type": "code",
      "source": [
        "df_name_basics.show(3)\n",
        "df_title_akas.show(3)\n",
        "df_title_basic.show(3)\n",
        "df_title_crew.show(3)\n",
        "df_title_episode.show(3)\n",
        "df_title_principals.show(3)\n",
        "df_title_ratings.show(3)"
      ],
      "metadata": {
        "id": "BQItTCh9ZBht"
      },
      "execution_count": null,
      "outputs": []
    },
    {
      "cell_type": "markdown",
      "source": [
        "# Złączenie istotnych kolumn"
      ],
      "metadata": {
        "id": "ZZb5i_RrA-yP"
      }
    },
    {
      "cell_type": "markdown",
      "source": [
        "## Wybierzmy z tabel tylko istotne rekordy:\n",
        "- df_title_basic: wybierzmy tylko rekordy z primaryProfession zawierającym \"actor\" lub \"actress\",\n",
        "- df_title_principals: wybierzmy rekordy z category zawierającym \"actor\" lub \"actress\"."
      ],
      "metadata": {
        "id": "ZaBM97M37rXr"
      }
    },
    {
      "cell_type": "code",
      "source": [
        "df_name_basics_selected = df_name_basics.filter(\"primaryProfession like '%actor%' or primaryProfession like '%actress%'\")\n",
        "df_title_principals_selected = df_title_principals.filter((df_title_principals.category == \"actor\") | (df_title_principals.category == \"actress\"))"
      ],
      "metadata": {
        "id": "eEMsHamK7tuu"
      },
      "execution_count": null,
      "outputs": []
    },
    {
      "cell_type": "markdown",
      "source": [
        "## Wybierzmy następujące kolumny z tabel:\n",
        "- df_title_basic:\n",
        "  - tconst (unikalny numer tytułu - potrzebne do złączenia tabel)\n",
        "  - titleType (rodzaj tytułu, np. film, serial - można porównywać podobieństwo aktorów na podstawie tego w jakich typach produkcji grali)\n",
        "  - originalTitle (tytuł produkcji - być może przyda się do analizy podobnych filmów)\n",
        "  - isAdult (czy produkcja jest dla dorosłych - można wykorzystać do porównywania aktorów na podstawie tego czy grają głównie w produkcjach dla dorosłych)\n",
        "  - startYear (data wypuszczenia produkcji - można wykorzystać do porównania epok filmów, w których grali aktorzy)\n",
        "  - endYear (data zakończenia serii, w innych przypadkach \\N - można wykorzystać do porównania epok filmów, w których grali aktorzy)\n",
        "  - genres (gatunki - może posłużyć do porównania aktorów na podstawie tego, że grali w produkcjach o podobnych gatunkach)\n",
        "\n",
        "- df_title_principals:\n",
        "  - tconst (unikalny numer tytułu - potrzebne do złączenia tabel)\n",
        "  - nconst (unikalny numer aktora - potrzebne do złączenia tabel)\n",
        "  - category (kategoria pracy (actor/actress) - może posłużyć do porównania aktorów na podstawie takiej samej płci)\n",
        "  - characters (postacie zagrane w produkcji - może posłużyć do porównania aktorów na podstawie podobnych granych postaci)\n",
        "\n",
        "- df_name_basics:\n",
        "  - nconst(unikalny numer aktora - potrzebne do złączenia tabel)\n",
        "  - primaryName (imię i nazwisko aktora - potrzebne do wyświetlania aktora lub do odnajdywania go w bazie po imieniu i nazwisku)\n",
        "  - knownForTitles (tytuły produkcji, z których znany jest aktor - może posłużyć do porównania aktorów na podstawie tych samych lub podobnych produkcji, z których są znani)"
      ],
      "metadata": {
        "id": "MGd5Hi-VBF9h"
      }
    },
    {
      "cell_type": "code",
      "source": [
        "df_title_basic_selected = df_title_basic.select([\"tconst\", \"titleType\", \"originalTitle\", \"isAdult\", \"startYear\", \"endYear\", \"genres\"])\n",
        "df_title_principals_selected = df_title_principals_selected.select([\"tconst\", \"nconst\", \"category\", \"characters\"])\n",
        "df_name_basics_selected = df_name_basics_selected.select([\"nconst\", \"primaryName\", \"knownForTitles\"])"
      ],
      "metadata": {
        "id": "OKWe9JSKBC5q"
      },
      "execution_count": null,
      "outputs": []
    },
    {
      "cell_type": "markdown",
      "source": [
        "# Złączmy tabele df_name_basics, df_title_principals i df_title_basic"
      ],
      "metadata": {
        "id": "eMIHo59PBNtx"
      }
    },
    {
      "cell_type": "code",
      "source": [
        "print(\"df_name_basics_selected dataframe size: \", (df_name_basics_selected.count(), len(df_name_basics_selected.columns)))\n",
        "print(\"df_title_principals_selected dataframe size: \", (df_title_principals_selected.count(), len(df_title_principals_selected.columns)))\n",
        "print(\"df_title_basic_selected dataframe size: \", (df_title_basic_selected.count(), len(df_title_basic_selected.columns)))\n",
        "data = df_title_basic_selected.join(df_title_principals_selected, \"tconst\", \"right\")\n",
        "print(\"joined dataframe size: \", (data.count(), len(data.columns)))\n",
        "data = data.join(df_name_basics_selected, \"nconst\", \"inner\")\n",
        "print(\"joined dataframe size: \", (data.count(), len(data.columns)))"
      ],
      "metadata": {
        "id": "zMqqAJ7zBJWL"
      },
      "execution_count": null,
      "outputs": []
    },
    {
      "cell_type": "markdown",
      "source": [
        "# Wybierzmy przykładowe wiersze z końcowego dataframe'u"
      ],
      "metadata": {
        "id": "hKXuX-JdE9ED"
      }
    },
    {
      "cell_type": "code",
      "source": [
        "sample = data.rdd.takeSample(False, 5)"
      ],
      "metadata": {
        "id": "bH43D49EE84F"
      },
      "execution_count": null,
      "outputs": []
    },
    {
      "cell_type": "code",
      "source": [
        "import pandas as pd\n",
        "sample = pd.DataFrame(sample, columns = data.columns)\n",
        "sample"
      ],
      "metadata": {
        "id": "kW8-_TXYLo10"
      },
      "execution_count": null,
      "outputs": []
    }
  ]
}