{
  "nbformat": 4,
  "nbformat_minor": 0,
  "metadata": {
    "colab": {
      "provenance": [],
      "include_colab_link": true
    },
    "kernelspec": {
      "name": "python3",
      "display_name": "Python 3"
    },
    "language_info": {
      "name": "python"
    }
  },
  "cells": [
    {
      "cell_type": "markdown",
      "metadata": {
        "id": "view-in-github",
        "colab_type": "text"
      },
      "source": [
        "<a href=\"https://colab.research.google.com/github/PiotrMaciejKowalski/BigData2022-actors/blob/Warto%C5%9Bci_odstaj%C4%85ce/colabs/Namierzanie_outlayersow.ipynb\" target=\"_parent\"><img src=\"https://colab.research.google.com/assets/colab-badge.svg\" alt=\"Open In Colab\"/></a>"
      ]
    },
    {
      "cell_type": "markdown",
      "source": [
        "#Potrzebne rzeczy do wczytania datasetu"
      ],
      "metadata": {
        "id": "N6n0LjaDM0zU"
      }
    },
    {
      "cell_type": "code",
      "execution_count": 1,
      "metadata": {
        "id": "V8-nE3oH58P6",
        "outputId": "da52b9fb-6b78-4a7a-aa31-8af682209ae5",
        "colab": {
          "base_uri": "https://localhost:8080/"
        }
      },
      "outputs": [
        {
          "output_type": "stream",
          "name": "stdout",
          "text": [
            "Mounted at /content/gdrive\n"
          ]
        }
      ],
      "source": [
        "from google.colab import drive\n",
        "drive.mount('/content/gdrive')"
      ]
    },
    {
      "cell_type": "code",
      "source": [
        "!git clone https://github.com/PiotrMaciejKowalski/BigData2022-actors.git\n",
        "!mv /content/BigData2022-actors/* .\n",
        "!mv /content/BigData2022-actors/.* .\n",
        "!rmdir /content/BigData2022-actors/"
      ],
      "metadata": {
        "id": "CJDl9hKq623W",
        "outputId": "f95d91ad-52e6-46a7-a3bf-cd0f4a582e23",
        "colab": {
          "base_uri": "https://localhost:8080/"
        }
      },
      "execution_count": 2,
      "outputs": [
        {
          "output_type": "stream",
          "name": "stdout",
          "text": [
            "Cloning into 'BigData2022-actors'...\n",
            "remote: Enumerating objects: 1610, done.\u001b[K\n",
            "remote: Counting objects: 100% (389/389), done.\u001b[K\n",
            "remote: Compressing objects: 100% (166/166), done.\u001b[K\n",
            "remote: Total 1610 (delta 286), reused 306 (delta 223), pack-reused 1221\u001b[K\n",
            "Receiving objects: 100% (1610/1610), 6.02 MiB | 12.69 MiB/s, done.\n",
            "Resolving deltas: 100% (972/972), done.\n",
            "mv: cannot move '/content/BigData2022-actors/.' to './.': Device or resource busy\n",
            "mv: cannot move '/content/BigData2022-actors/..' to './..': Device or resource busy\n"
          ]
        }
      ]
    },
    {
      "cell_type": "code",
      "source": [
        "!git checkout Wartości_odstające"
      ],
      "metadata": {
        "id": "byTOVMAl67xS",
        "outputId": "9fbba1cf-f797-4d9a-d88c-7e21977203cf",
        "colab": {
          "base_uri": "https://localhost:8080/"
        }
      },
      "execution_count": 3,
      "outputs": [
        {
          "output_type": "stream",
          "name": "stdout",
          "text": [
            "Branch 'Wartości_odstające' set up to track remote branch 'Wartości_odstające' from 'origin'.\n",
            "Switched to a new branch 'Wartości_odstające'\n"
          ]
        }
      ]
    },
    {
      "cell_type": "code",
      "source": [
        "!chmod +x setup_sparka.sh\n",
        "!./setup_sparka.sh"
      ],
      "metadata": {
        "id": "60AJd6gh69of",
        "outputId": "c607f07c-ac10-48b7-b84e-ad4f829516b3",
        "colab": {
          "base_uri": "https://localhost:8080/"
        }
      },
      "execution_count": 4,
      "outputs": [
        {
          "output_type": "stream",
          "name": "stdout",
          "text": [
            "Looking in indexes: https://pypi.org/simple, https://us-python.pkg.dev/colab-wheels/public/simple/\n",
            "Collecting pyspark\n",
            "  Downloading pyspark-3.3.1.tar.gz (281.4 MB)\n",
            "\u001b[2K     \u001b[90m━━━━━━━━━━━━━━━━━━━━━━━━━━━━━━━━━━━━━━━\u001b[0m \u001b[32m281.4/281.4 MB\u001b[0m \u001b[31m4.6 MB/s\u001b[0m eta \u001b[36m0:00:00\u001b[0m\n",
            "\u001b[?25h  Preparing metadata (setup.py) ... \u001b[?25l\u001b[?25hdone\n",
            "Collecting py4j\n",
            "  Downloading py4j-0.10.9.7-py2.py3-none-any.whl (200 kB)\n",
            "\u001b[2K     \u001b[90m━━━━━━━━━━━━━━━━━━━━━━━━━━━━━━━━━━━━━━\u001b[0m \u001b[32m200.5/200.5 KB\u001b[0m \u001b[31m22.2 MB/s\u001b[0m eta \u001b[36m0:00:00\u001b[0m\n",
            "\u001b[?25h  Downloading py4j-0.10.9.5-py2.py3-none-any.whl (199 kB)\n",
            "\u001b[2K     \u001b[90m━━━━━━━━━━━━━━━━━━━━━━━━━━━━━━━━━━━━━━\u001b[0m \u001b[32m199.7/199.7 KB\u001b[0m \u001b[31m24.9 MB/s\u001b[0m eta \u001b[36m0:00:00\u001b[0m\n",
            "\u001b[?25hBuilding wheels for collected packages: pyspark\n",
            "  Building wheel for pyspark (setup.py) ... \u001b[?25l\u001b[?25hdone\n",
            "  Created wheel for pyspark: filename=pyspark-3.3.1-py2.py3-none-any.whl size=281845512 sha256=1dadd0241feeed46d1e251db213721799c4fdddd5bed55f342f20540ecbc7e24\n",
            "  Stored in directory: /root/.cache/pip/wheels/43/dc/11/ec201cd671da62fa9c5cc77078235e40722170ceba231d7598\n",
            "Successfully built pyspark\n",
            "Installing collected packages: py4j, pyspark\n",
            "Successfully installed py4j-0.10.9.5 pyspark-3.3.1\n",
            "--2023-01-17 13:51:59--  https://dlcdn.apache.org/spark/spark-3.3.1/spark-3.3.1-bin-hadoop2.tgz\n",
            "Resolving dlcdn.apache.org (dlcdn.apache.org)... 151.101.2.132, 2a04:4e42::644\n",
            "Connecting to dlcdn.apache.org (dlcdn.apache.org)|151.101.2.132|:443... connected.\n",
            "HTTP request sent, awaiting response... 200 OK\n",
            "Length: 274099817 (261M) [application/x-gzip]\n",
            "Saving to: ‘spark-3.3.1-bin-hadoop2.tgz’\n",
            "\n",
            "spark-3.3.1-bin-had 100%[===================>] 261.40M   277MB/s    in 0.9s    \n",
            "\n",
            "2023-01-17 13:52:01 (277 MB/s) - ‘spark-3.3.1-bin-hadoop2.tgz’ saved [274099817/274099817]\n",
            "\n"
          ]
        }
      ]
    },
    {
      "cell_type": "code",
      "source": [
        "from lib.pyspark_init import create_spark_context, add_kaggle_data\n",
        "from lib.const import JOINED_DATA, DATA_WITH_AWARDS"
      ],
      "metadata": {
        "id": "PygzVIzT7CdG"
      },
      "execution_count": 5,
      "outputs": []
    },
    {
      "cell_type": "code",
      "source": [
        "spark = create_spark_context()\n",
        "spark"
      ],
      "metadata": {
        "id": "4oAFq__N7FYz",
        "outputId": "d0be2a06-de4d-4135-876a-172f20bee438",
        "colab": {
          "base_uri": "https://localhost:8080/",
          "height": 219
        }
      },
      "execution_count": 6,
      "outputs": [
        {
          "output_type": "execute_result",
          "data": {
            "text/plain": [
              "<pyspark.sql.session.SparkSession at 0x7f133bad9b50>"
            ],
            "text/html": [
              "\n",
              "            <div>\n",
              "                <p><b>SparkSession - in-memory</b></p>\n",
              "                \n",
              "        <div>\n",
              "            <p><b>SparkContext</b></p>\n",
              "\n",
              "            <p><a href=\"http://8ad8fee23f11:4040\">Spark UI</a></p>\n",
              "\n",
              "            <dl>\n",
              "              <dt>Version</dt>\n",
              "                <dd><code>v3.3.1</code></dd>\n",
              "              <dt>Master</dt>\n",
              "                <dd><code>local[*]</code></dd>\n",
              "              <dt>AppName</dt>\n",
              "                <dd><code>Colab</code></dd>\n",
              "            </dl>\n",
              "        </div>\n",
              "        \n",
              "            </div>\n",
              "        "
            ]
          },
          "metadata": {},
          "execution_count": 6
        }
      ]
    },
    {
      "cell_type": "code",
      "source": [
        "%%time\n",
        "data = spark.read.parquet(JOINED_DATA)\n",
        "data.show(60)"
      ],
      "metadata": {
        "id": "kQchKy8Y7HjW",
        "outputId": "4ffbec99-f998-4a08-b605-4745575139a6",
        "colab": {
          "base_uri": "https://localhost:8080/"
        }
      },
      "execution_count": 7,
      "outputs": [
        {
          "output_type": "stream",
          "name": "stdout",
          "text": [
            "+---------+--------------------+--------------------+--------------------+--------------------+---------+-------+--------------------+--------+--------------------+--------------------+--------------------+\n",
            "|   nconst|              tconst|           titleType|       originalTitle|             isAdult|startYear|endYear|              genres|category|          characters|         primaryName|      knownForTitles|\n",
            "+---------+--------------------+--------------------+--------------------+--------------------+---------+-------+--------------------+--------+--------------------+--------------------+--------------------+\n",
            "|nm0000034|[tt0032636, tt003...|[movie, movie, mo...|[Invisible Stripe...|[0, 0, 0, 0, 0, 0...|     1939|     \\N|[Action, Crime, D...|   actor|[[\"Tim Taylor\"], ...|      William Holden|tt0043014,tt00463...|\n",
            "|nm0000068|[tt0038613, tt002...|[movie, movie, mo...|[Home, Sweet Homi...|[0, 0, 0, 0, 0, 0...|     1931|     \\N|[Adventure, Comed...|   actor|[[\"Lt. Bill Smith...|      Randolph Scott|tt0029284,tt00269...|\n",
            "|nm0000081|[tt0933591, tt550...|[tvEpisode, tvEpi...|[Uncle Harry's Vi...|[0, 0, 0, 0, 0, 0...|     1949|     \\N|[Comedy, Drama, D...| actress|[[\"Ann Morrison\"]...|        Natalie Wood|tt0057263,tt00556...|\n",
            "|nm0000119|[tt0105793, tt063...|[movie, tvEpisode...|[Wayne's World, S...|[0, 0, 0, 0, 0, 0...|     1985|     \\N|[Comedy, Music, A...| actress|[[\"Cassandra\"], [...|         Tia Carrere|tt0105793,tt02758...|\n",
            "|nm0000202|[tt0401997, tt131...|[movie, tvSpecial...|[Breach, Big Sky,...|[0, 0, 0, 0, 0, 0...|     1993|     \\N|[Biography, Crime...|   actor|[[\"Eric O'Neill\"]...|      Ryan Phillippe|tt0375679,tt01391...|\n",
            "|nm0000210|[tt5390080, tt011...|[tvMovie, movie, ...|[ADX, Michael Col...|[0, 0, 0, 0, 0, 0...|     1988|     \\N|[Drama, Biography...| actress|[\\N, [\"Kitty Kier...|       Julia Roberts|tt0100405,tt03765...|\n",
            "|nm0000212|[tt0110099, tt132...|[movie, tvSeries,...|[I.Q., Der Kabel ...|[0, 0, 0, 0, 0, 0...|     1982|     \\N|[Comedy, Romance,...| actress|[[\"Catherine Boyd...|            Meg Ryan|tt0108160,tt01206...|\n",
            "|nm0000335|[tt0211181, tt010...|[movie, tvMovie, ...|[102 Dalmatians, ...|[0, 0, 0, 0, 0, 0...|     1975|     \\N|[Adventure, Comed...| actress|[[\"Cruella de Vil...|         Glenn Close|tt0094947,tt00930...|\n",
            "|nm0000391|[tt1340782, tt216...|[movie, tvEpisode...|[The Liar, Die an...|[0, 0, 0, 0, 0, 0...|     1982|     \\N|[Comedy, Drama, R...|   actor|[[\"Humphrey Biffe...|      Rupert Everett|tt0119738,tt01225...|\n",
            "|nm0000449|[tt0699212, tt028...|[tvEpisode, movie...|[Crossed Out, Rid...|[0, 0, 0, 0, 0, 0...|     1995|     \\N|[Action, Adventur...| actress|[[\"Cassie McBain\"...|  Natasha Henstridge|tt0190138,tt01145...|\n",
            "|nm0000512|[tt0116606, tt011...|[movie, movie, mo...|[If Lucy Fell, Si...|     [0, 0, 0, 0, 0]|     1994|     \\N|[Comedy, Romance,...| actress|[[\"Jane Lindquist...|     Elle Macpherson|tt0119051,tt01170...|\n",
            "|nm0000539|[tt0526228, tt069...|[tvEpisode, tvEpi...|[Feat of Clay, Th...|[0, 0, 0, 0, 0, 0...|     1995|     \\N|[Action, Adventur...| actress|[[\"Barbara Gordon...|          Dina Meyer|tt0253754,tt01134...|\n",
            "|nm0000598|[tt0331468, tt010...|[movie, movie, tv...|[Cold Creek Manor...|[0, 0, 0, 0, 0, 0...|     1978|     \\N|[Drama, Mystery, ...|   actor|[[\"Cooper Tilson\"...|        Dennis Quaid|tt0319262,tt02978...|\n",
            "|nm0000603|[tt0085107, tt008...|[tvMiniSeries, mo...|[Wagner, The Bost...|[0, 0, 0, 0, 0, 0...|     1958|     \\N|[Biography, Drama...| actress|[[\"Cosima von Bul...|    Vanessa Redgrave|tt0783233,tt13726...|\n",
            "|nm0000668|[tt8623904, tt010...|[movie, tvMovie, ...|[Last Christmas, ...|[0, 0, 0, 0, 0, 0...|     1982|     \\N|[Comedy, Drama, F...| actress|[[\"Petra\"], [\"Mar...|       Emma Thompson|tt2140373,tt03143...|\n",
            "|nm0000680|[tt0156976, tt024...|[tvMovie, tvSerie...|[Chasing Destiny,...|[0, 0, 0, 0, 0, 0...|     1991|     \\N|[Comedy, Drama, M...|   actor|[[\"Bobby Moritz\"]...|     Casper Van Dien|tt0120856,tt01202...|\n",
            "|nm0000696|[tt0667976, tt010...|[tvEpisode, movie...|[The Light Brigad...|[0, 0, 0, 0, 0, 0...|     1982|     \\N|[Drama, Fantasy, ...|   actor|[[\"Cadet\"], [\"Kip...|         Wil Wheaton|tt0103112,tt00924...|\n",
            "|nm0000717|[tt19866974, tt05...|[video, tvEpisode...|[StrangerSmart, P...|[0, 0, 0, 0, 0, 0...|     1978|     \\N|[Short, Comedy, S...|   actor|[\\N, [\"Kareem Abd...| Kareem Abdul-Jabbar|tt0089155,tt00803...|\n",
            "|nm0000751|[tt0119501, tt009...|[tvMovie, movie, ...|[Last Stand at Sa...|[0, 0, 0, 0, 0, 0...|     1987|     \\N|[Action, Drama, W...| actress|[[\"Martha Cable\"]...|           Suzy Amis|tt0120338,tt01148...|\n",
            "|nm0000924|[tt0642166, tt063...|[tvEpisode, tvEpi...|[Once More, with ...|[0, 0, 0, 0, 0, 0...|     1988|     \\N|[Comedy, Drama, A...| actress|[[\"Isabel\"], [\"Se...|   Elizabeth Berkley|tt0114436,tt02565...|\n",
            "|nm0000970|[tt0251886, tt010...|[tvMovie, tvSerie...|[Mystery Magical ...|[0, 0, 0, 0, 0, 0...|     1984|     \\N|[Family, Mystery,...|   actor|[[\"Jonathan\"], [\"...|    Jonathan Brandis|tt0104670,tt01002...|\n",
            "|nm0000999|[tt0693614, tt056...|[tvEpisode, tvEpi...|[All the Hard You...|[0, 0, 0, 0, 0, 0...|     1951|     \\N|[Drama, Comedy, D...|   actor|[[\"Joe Roganyan\"]...|         Red Buttons|tt0056059,tt00691...|\n",
            "|nm0001007|[tt0096001, tt006...|[tvEpisode, movie...|[Rock 'n' Roll Mo...|[0, 0, 0, 0, 0, 0...|     1958|     \\N|[Adventure, Drama...| actress|[[\"Annie Hackett\"...|         Dyan Cannon|tt0077663,tt00641...|\n",
            "|nm0001018|[tt5912078, tt007...|[tvEpisode, movie...|[The Linchpin, Ar...|[0, 0, 0, 0, 0, 0...|     1972|     \\N|[Drama, Thriller,...|   actor|[[\"President Conr...|     Keith Carradine|tt0073440,tt04098...|\n",
            "|nm0001046|[tt0055977, tt005...|[movie, movie, mo...|[The Fast Lady, D...|[0, 0, 0, 0, 0, 0...|     1961|     \\N|[Comedy, Drama, R...| actress|[[\"Claire Chingfo...|      Julie Christie|tt0060390,tt04917...|\n",
            "|nm0001131|[tt0091048, tt012...|[tvEpisode, movie...|[A Fighting Choic...|[0, 0, 0, 0, 0, 0...|     1986|     \\N|[Adventure, Drama...|   actor|[[\"Kellin Taylor\"...|     Patrick Dempsey|tt0413573,tt04617...|\n",
            "|nm0001159|[tt0062656, tt006...|[movie, movie, mo...|[Amanti, The Thom...|[0, 0, 0, 0, 0, 0...|     1966|     \\N|[Drama, Romance, ...| actress|[[\"Julia\"], [\"Vic...|        Faye Dunaway|tt0061418,tt00713...|\n",
            "|nm0001387|[tt0610939, tt176...|[tvEpisode, tvEpi...|[Down Memory Lane...|[0, 0, 0, 0, 0, 0...|     1988|     \\N|[Action, Adventur...| actress|[[\"Ogress\"], \\N, ...|       Kathy Ireland|tt0107659,tt01025...|\n",
            "|nm0001428|[tt0066132, tt006...|[movie, movie, mo...|[Nella stretta mo...|[0, 0, 0, 0, 0, 0...|     1961|     \\N|[Horror, Crime, D...|   actor|[[\"Edgar Allan Po...|        Klaus Kinski|tt0068182,tt00796...|\n",
            "|nm0001467|[tt0180093, tt011...|[movie, movie, mo...|[Requiem for a Dr...|[0, 0, 0, 0, 0, 0...|     1992|     \\N|[Drama, Drama, Ro...|   actor|[[\"Harry Goldfarb...|          Jared Leto|tt1386697,tt11214...|\n",
            "|nm0001478|[tt0592583, tt007...|[tvEpisode, tvMin...|[Here's Looking a...|[0, 0, 0, 0, 0, 0...|     1945|     \\N|[Adventure, Comed...| actress|[[\"Alice Davidson...|       June Lockhart|tt0039230,tt00389...|\n",
            "|nm0001498|[tt0117381, tt034...|[movie, video, tv...|[Primal Fear, Atl...|[0, 0, 0, 0, 0, 0...|     1982|     \\N|[Crime, Drama, My...|   actor|[[\"Shaughnessy\"],...|        John Mahoney|tt0093565,tt08171...|\n",
            "|nm0001512|[tt0096754, tt009...|[movie, movie, tv...|[The Abyss, The J...|[0, 0, 0, 0, 0, 0...|     1983|     \\N|[Adventure, Drama...| actress|[[\"Lindsey Brigma...|Mary Elizabeth Ma...|tt0102798,tt00967...|\n",
            "|nm0001546|[tt0642812, tt011...|[tvEpisode, tvMov...|[Don't Break the ...|[0, 0, 0, 0, 0, 0...|     1959|     \\N|[Comedy, Drama, C...| actress|[[\"Mary Richards\"...|    Mary Tyler Moore|tt0065314,tt00812...|\n",
            "|nm0001549|[tt1349047, tt046...|[tvEpisode, tvMov...|[Mid-Wife Crisis,...|[0, 0, 0, 0, 0, 0...|     1952|     \\N|[Comedy, Comedy, ...| actress|[[\"Violet Newstea...|         Rita Moreno|tt0055614,tt00494...|\n",
            "|nm0001557|[tt0106455, tt011...|[movie, movie, mo...|[Boiling Point, T...|[0, 0, 0, 0, 0, 0...|     1987|     \\N|[Action, Crime, D...|   actor|[[\"Ronnie\"], [\"Cl...|     Viggo Mortensen|tt0167261,tt35539...|\n",
            "|nm0001610|[tt1447168, tt013...|[tvEpisode, tvMov...|[All About My Mom...|[0, 0, 0, 0, 0, 0...|     1986|     \\N|[Comedy, Crime, D...| actress|[[\"Celia Hodes\"],...|   Elizabeth Perkins|tt5555260,tt04391...|\n",
            "|nm0001658|[tt0206045, tt007...|[tvMovie, tvSerie...|[Intertect, Lanig...|[0, 0, 0, 0, 0, 0...|     1960|     \\N|[Adventure, Crime...|   actor|[[\"Blake Holliste...|         Robert Reed|tt0075485,tt00755...|\n",
            "|nm0001664|[tt0102992, tt073...|[tvMovie, tvEpiso...|[Strangers, Das B...|[0, 0, 0, 0, 0, 0...|     1979|     \\N|[Drama, Romance, ...|   actor|[[\"Bernard (segme...|         James Remar|           tt0420896|\n",
            "|nm0001716|[tt0346645, tt092...|  [short, tvEpisode]|[Boy and Bicycle,...|              [0, 0]|     1965|     \\N|[Drama, Short, Bi...|   actor|   [[\"The Boy\"], \\N]|          Tony Scott|tt0108399,tt01162...|\n",
            "|nm0001745|[tt15825188, tt00...|[movie, tvMiniSer...|[What Remains, Vi...|[0, 0, 0, 0, 0, 0...|     1968|     \\N|[Crime, Drama, Dr...|   actor|[\\N, [\"Gregers We...|   Stellan Skarsgård|tt0118607,tt19373...|\n",
            "|nm0001818|[tt0271812, tt118...|[tvMovie, movie, ...|[Tagteam, Woodsho...|[0, 0, 0, 0, 0, 0...|     1981|     \\N|[Action, Crime, D...|   actor|[[\"Bobby Youngblo...|       Jesse Ventura|tt0093894,tt01186...|\n",
            "|nm0001886|[tt0069837, tt008...|[movie, movie, mo...|[Campa carogna......|[0, 0, 0, 0, 0, 0...|     1964|     \\N|[Adventure, Comed...|   actor|[[\"Lieutenant Jun...|         Howard Ross|tt0070023,tt00612...|\n",
            "|nm0001922|[tt0078614, tt002...|[tvMiniSeries, mo...|[The French Atlan...|[0, 0, 0, 0, 0, 0...|     1931|     \\N|[Adventure, Drama...|   actor|[[\"Chief Jean-Cla...|  Jean-Pierre Aumont|tt0228319,tt00460...|\n",
            "|nm0001957|[tt0081849, tt004...|[tvSeries, short,...|[Darkroom, The St...|[0, 0, 0, 0, 0, 0...|     1946|     \\N|[Fantasy, Horror,...|   actor|[[\"Dr. John Micha...|       Lloyd Bochner|tt0057015,tt00621...|\n",
            "|nm0001973|[tt3896246, tt100...|[video, tvMovie, ...|[Safety in Paradi...|     [0, 0, 0, 0, 0]|     1981|     \\N|[Short, Documenta...| actress|[[\"Sports Illustr...|   Christie Brinkley|tt0120434,tt01034...|\n",
            "|nm0002087|[tt0112382, tt008...|[tvMovie, movie, ...|[Anything for Joh...|[0, 0, 0, 0, 0, 0...|     1982|     \\N|[Documentary, Dra...|   actor|[\\N, [\"Joe\"], [\"S...|       Samuel Fuller|tt0046187,tt00440...|\n",
            "|nm0002093|[tt0031845, tt166...|[movie, short, mo...|[Remember?, Inasm...|[0, 0, 0, 0, 0, 0...|     1934|     \\N|[Comedy, Romance,...| actress|[[\"Linda Bronson\"...|        Greer Garson|tt0035093,tt00313...|\n",
            "|nm0002100|[tt0430224, tt207...|[movie, movie, tv...|[L'enfer, Quand t...|[0, 0, 0, 0, 0, 0...|     1991|     \\N|[Drama, Comedy, D...| actress|[[\"Anne\"], [\"Elis...|       Marie Gillain|tt0115478,tt01024...|\n",
            "|nm0002108|[tt0717437, tt004...|[tvEpisode, movie...|[Depart in Peace,...|[0, 0, 0, 0, 0, 0...|     1944|     \\N|[Comedy, Drama, H...| actress|[[\"Gladys\"], [\"Pr...|      Gloria Grahame|tt0044391,tt00425...|\n",
            "|nm0002180|[tt4159474, tt635...|[movie, tvEpisode...|[Furio Scarpelli:...|[0, 0, 0, 0, 0, 0...|     1978|     \\N|[Documentary, Dra...| actress|[\\N, [\"Ottilia\"],...| Francesca Archibugi|tt0095633,tt12610...|\n",
            "|nm0002369|[tt0612759, tt022...|[tvEpisode, tvMov...|[The Funeral Is o...|[0, 0, 0, 0, 0, 0...|     1954|     \\N|[Action, Adventur...|   actor|[[\"Col. Waldebroo...|       John Williams|tt0046912,tt00474...|\n",
            "|nm0002436|[tt0551545, tt025...|[tvEpisode, movie...|[Babe Magnet, Ame...|[0, 0, 0, 0, 0, 0...|     1999|     \\N|[Comedy, Comedy, ...| actress|[[\"Tiffany Sherwo...|   Shannon Elizabeth|tt0314331,tt01636...|\n",
            "|nm0002588|[tt2196449, tt008...|[tvEpisode, movie...|[Aflevering 21, A...|[0, 0, 0, 0, 0, 0...|     1966|     \\N|[Drama, Comedy, D...|   actor|[[\"Hans Maasland\"...|        Glenn Saxson|tt0061582,tt01884...|\n",
            "|nm0002725|         [tt1550667]|             [movie]|       [Tom's Phone]|                 [0]|     2009|     \\N|            [Comedy]|   actor|           [[\"Tom\"]]|         Eric Yellin|tt12611178,tt0411...|\n",
            "|nm0002792|         [tt0244734]|           [tvMovie]|     [The Professor]|                 [0]|     1958|     \\N|    [Horror, Sci-Fi]|   actor|  [[\"The Werewolf\"]]|         Doug Hobart|tt0065727,tt00716...|\n",
            "|nm0003037|[tt0218895, tt089...|[tvMovie, tvEpisode]|[Commedia: Cookin...|              [0, 0]|     1998|     \\N|[\\N, Crime, Docum...|   actor|[[\"Sergio\"], [\"Fr...|         Egidio Tari|tt1694893,tt31482...|\n",
            "|nm0003073|[tt5866118, tt937...|[movie, movie, tv...|[Arno: Dancing In...|[0, 0, 0, 0, 0, 0...|     1987|     \\N|[Documentary, Mus...|   actor|[\\N, \\N, \\N, [\"Ar...|                Arno|tt0953318,tt34564...|\n",
            "|nm0003096|[tt0211423, tt022...|[movie, movie, tv...|[House of the Gen...|           [0, 0, 0]|     2000|     \\N| [Drama, \\N, Family]| actress|[[\"Liza Kharacter...|     Jennifer Harris|tt0377263,tt02114...|\n",
            "|nm0003159|[tt0153615, tt015...|      [movie, short]|[W le donne, Il b...|              [0, 0]|     1951|     \\N|[Comedy, Musical,...|   actor|[[\"Captain Lucian...|    Luciano Fineschi|tt0153511,tt01386...|\n",
            "+---------+--------------------+--------------------+--------------------+--------------------+---------+-------+--------------------+--------+--------------------+--------------------+--------------------+\n",
            "only showing top 60 rows\n",
            "\n",
            "CPU times: user 93.1 ms, sys: 9.3 ms, total: 102 ms\n",
            "Wall time: 16.2 s\n"
          ]
        }
      ]
    },
    {
      "cell_type": "code",
      "source": [
        "data.createOrReplaceTempView(\"data\");"
      ],
      "metadata": {
        "id": "8DwUFZZ4hl-w"
      },
      "execution_count": 8,
      "outputs": []
    },
    {
      "cell_type": "markdown",
      "source": [
        "#Sprawdzanie duplikatow w kolumnach 'nconst' oraz 'primaryName':"
      ],
      "metadata": {
        "id": "iOOT86RpS7Iu"
      }
    },
    {
      "cell_type": "code",
      "source": [
        "spark.sql(\"\"\"select COUNT( DISTINCT nconst)as IDs, COUNT(nconst) as l_aktorow\n",
        "FROM data\"\"\").show()"
      ],
      "metadata": {
        "id": "KrcipOW2pu2C",
        "outputId": "183bc256-a673-4d9b-a428-9dd5ba004f30",
        "colab": {
          "base_uri": "https://localhost:8080/"
        }
      },
      "execution_count": 9,
      "outputs": [
        {
          "output_type": "stream",
          "name": "stdout",
          "text": [
            "+-------+---------+\n",
            "|    IDs|l_aktorow|\n",
            "+-------+---------+\n",
            "|2013276|  2013276|\n",
            "+-------+---------+\n",
            "\n"
          ]
        }
      ]
    },
    {
      "cell_type": "markdown",
      "source": [
        "Wniosek - nie ma duplikatów ID aktorow.\n",
        "\n",
        "To samo dla pozostałych kolumn:"
      ],
      "metadata": {
        "id": "zsEG3M4RTTl4"
      }
    },
    {
      "cell_type": "code",
      "source": [
        "spark.sql(\"\"\"select COUNT( DISTINCT category) as category, COUNT( DISTINCT primaryName) as primaryName, COUNT(primaryName) as l_wystapien\n",
        "FROM data\"\"\").show()"
      ],
      "metadata": {
        "id": "EBhxcXVbwR3P",
        "outputId": "4762d6f9-8e71-4631-ec48-e4ed7cf802d1",
        "colab": {
          "base_uri": "https://localhost:8080/"
        }
      },
      "execution_count": 10,
      "outputs": [
        {
          "output_type": "stream",
          "name": "stdout",
          "text": [
            "+--------+-----------+-----------+\n",
            "|category|primaryName|l_wystapien|\n",
            "+--------+-----------+-----------+\n",
            "|       2|    1806848|    2013276|\n",
            "+--------+-----------+-----------+\n",
            "\n"
          ]
        }
      ]
    },
    {
      "cell_type": "code",
      "source": [
        "spark.sql(\"\"\"SELECT primaryName, COUNT(*) as l_wystapien\n",
        "FROM data\n",
        "GROUP BY primaryName\n",
        "HAVING COUNT(*) > 1\n",
        "ORDER BY l_wystapien DESC\"\"\").show(150)"
      ],
      "metadata": {
        "id": "r9KvL5yJuHvs",
        "outputId": "d23ba2a3-bccf-48b0-c4e7-917fe4c9c22c",
        "colab": {
          "base_uri": "https://localhost:8080/"
        }
      },
      "execution_count": 11,
      "outputs": [
        {
          "output_type": "stream",
          "name": "stdout",
          "text": [
            "+---------------+-----------+\n",
            "|    primaryName|l_wystapien|\n",
            "+---------------+-----------+\n",
            "|           Alex|        120|\n",
            "|           Anna|        113|\n",
            "|          Angel|         95|\n",
            "|        Sabrina|         84|\n",
            "|          Maria|         84|\n",
            "|         Nicole|         80|\n",
            "|        Jessica|         78|\n",
            "|       Michelle|         78|\n",
            "|         Monica|         77|\n",
            "|            Eva|         77|\n",
            "|         Sandra|         73|\n",
            "|          Jenny|         72|\n",
            "|           Mike|         72|\n",
            "|        Vanessa|         71|\n",
            "|          David|         69|\n",
            "|          Chris|         68|\n",
            "|           Lisa|         67|\n",
            "|        Jasmine|         66|\n",
            "|        Claudia|         65|\n",
            "|          Amber|         64|\n",
            "|          Julia|         63|\n",
            "|         Andrea|         62|\n",
            "|         Daniel|         61|\n",
            "|           Gina|         61|\n",
            "|         Carmen|         60|\n",
            "|          James|         60|\n",
            "|           Lola|         60|\n",
            "|          Nikki|         59|\n",
            "|       Samantha|         58|\n",
            "|        Charlie|         58|\n",
            "|           John|         58|\n",
            "|       Victoria|         58|\n",
            "|          Linda|         58|\n",
            "|            Max|         57|\n",
            "|          Diana|         56|\n",
            "|          Laura|         56|\n",
            "|        Tiffany|         56|\n",
            "|          Kelly|         56|\n",
            "|          Sarah|         55|\n",
            "|          Cindy|         55|\n",
            "|       Angelina|         55|\n",
            "|           Nina|         54|\n",
            "|        Natasha|         54|\n",
            "|       Jennifer|         54|\n",
            "|      Christina|         53|\n",
            "|        Melissa|         53|\n",
            "|          Bella|         53|\n",
            "|         Ashley|         53|\n",
            "|          Candy|         52|\n",
            "|           Tony|         52|\n",
            "|          Kitty|         52|\n",
            "|           Jana|         52|\n",
            "|           Tina|         52|\n",
            "|          Jason|         52|\n",
            "|           Tara|         51|\n",
            "|        Michael|         51|\n",
            "|           Lucy|         51|\n",
            "|           Nick|         51|\n",
            "|         Bianca|         50|\n",
            "|           Mary|         50|\n",
            "|       Danielle|         50|\n",
            "|         Angela|         50|\n",
            "|      Alexandra|         50|\n",
            "|           Sara|         50|\n",
            "|         Rachel|         50|\n",
            "|         Monika|         49|\n",
            "|            Kim|         49|\n",
            "|            Sam|         49|\n",
            "|            Jay|         49|\n",
            "|        Melanie|         49|\n",
            "|        Crystal|         48|\n",
            "|         Alexis|         48|\n",
            "|         Thomas|         48|\n",
            "|            Mia|         47|\n",
            "|          Sasha|         47|\n",
            "|           Jack|         47|\n",
            "|          Peter|         46|\n",
            "|        Natalie|         46|\n",
            "|          Erika|         46|\n",
            "|        Barbara|         44|\n",
            "|      Stephanie|         44|\n",
            "|         Amanda|         44|\n",
            "|           Jane|         43|\n",
            "|Michael Johnson|         43|\n",
            "|           Josh|         43|\n",
            "|          Anita|         43|\n",
            "|          Sandy|         42|\n",
            "|    David Brown|         42|\n",
            "|         Karina|         42|\n",
            "|           Jake|         42|\n",
            "|          Rahul|         42|\n",
            "|           Jade|         41|\n",
            "|           Rita|         41|\n",
            "|          Marco|         41|\n",
            "|          Mandy|         41|\n",
            "|           Paul|         41|\n",
            "|       Patricia|         40|\n",
            "|          Jamie|         40|\n",
            "|        Monique|         39|\n",
            "|         Ginger|         39|\n",
            "|          Marie|         39|\n",
            "|           Dave|         39|\n",
            "|            Joe|         38|\n",
            "|          Karen|         38|\n",
            "|            Amy|         38|\n",
            "|        Heather|         38|\n",
            "|          Heidi|         38|\n",
            "|  Michael Davis|         37|\n",
            "|           Lena|         37|\n",
            "|         Pamela|         37|\n",
            "|          Alice|         37|\n",
            "|  Chris Johnson|         37|\n",
            "|         Jordan|         37|\n",
            "|          Kevin|         37|\n",
            "|          Daisy|         37|\n",
            "|       Veronica|         36|\n",
            "|          Naomi|         36|\n",
            "|         Simone|         36|\n",
            "|         Sophia|         36|\n",
            "|         Lauren|         36|\n",
            "|         Justin|         36|\n",
            "|            Tom|         36|\n",
            "|          Chloe|         36|\n",
            "|         Johnny|         36|\n",
            "|           Eric|         36|\n",
            "|           Mona|         35|\n",
            "|           Roxy|         35|\n",
            "|           Emma|         35|\n",
            "|          Tanya|         35|\n",
            "|         Sophie|         35|\n",
            "|    Chris Brown|         35|\n",
            "|          Angie|         35|\n",
            "|           Lana|         35|\n",
            "|           Maya|         35|\n",
            "|          Honey|         35|\n",
            "|          Petra|         35|\n",
            "|           Kate|         34|\n",
            "|        Martina|         34|\n",
            "|         Morgan|         34|\n",
            "|          Steve|         34|\n",
            "|          Vicky|         34|\n",
            "|        Anthony|         34|\n",
            "|          Bruno|         34|\n",
            "|         Taylor|         34|\n",
            "|          Sunny|         34|\n",
            "|          Betty|         34|\n",
            "|           Mark|         34|\n",
            "|            Ben|         34|\n",
            "|         Bailey|         33|\n",
            "|          Frank|         33|\n",
            "+---------------+-----------+\n",
            "only showing top 150 rows\n",
            "\n"
          ]
        }
      ]
    },
    {
      "cell_type": "markdown",
      "source": [
        "Widzimy dużo powtórzeń. Wyciągnijmy jak wygladają wiersze z primaryName = 'Alex'"
      ],
      "metadata": {
        "id": "-uTGormSThqz"
      }
    },
    {
      "cell_type": "code",
      "source": [
        "spark.sql(\"\"\"SELECT * from data where primaryName = 'Alex'\"\"\").show(50)"
      ],
      "metadata": {
        "id": "cxM9S_iJ_PQm",
        "outputId": "3332a508-0fb0-47f0-b18b-85951b8c7cbc",
        "colab": {
          "base_uri": "https://localhost:8080/"
        }
      },
      "execution_count": 12,
      "outputs": [
        {
          "output_type": "stream",
          "name": "stdout",
          "text": [
            "+----------+--------------------+--------------------+--------------------+--------------------+---------+-------+--------------------+--------+--------------------+-----------+--------------------+\n",
            "|    nconst|              tconst|           titleType|       originalTitle|             isAdult|startYear|endYear|              genres|category|          characters|primaryName|      knownForTitles|\n",
            "+----------+--------------------+--------------------+--------------------+--------------------+---------+-------+--------------------+--------+--------------------+-----------+--------------------+\n",
            "|nm11906448|[tt15214950, tt14...|[tvEpisode, tvEpi...|[If Ores Grew On ...|           [0, 0, 0]|     2014|     \\N|[Action, Adventur...|   actor|[[\"Futurian Robot...|       Alex|          tt14187980|\n",
            "| nm8820071|         [tt6590612]|         [tvEpisode]|[Clowns ohne Gren...|                 [0]|     2015|     \\N|            [Comedy]|   actor|[[\"Clown (Clowns ...|       Alex|           tt3137534|\n",
            "| nm8972400|         [tt6857440]|         [tvEpisode]| [Mean Girls Part 2]|                 [1]|     2017|     \\N|             [Adult]|   actor|                [\\N]|       Alex|           tt6473028|\n",
            "|nm11022590|        [tt10991024]|         [tvEpisode]|     [THE TAKEOVER!]|                 [0]|     2011|     \\N|            [Comedy]|   actor|                [\\N]|       Alex|                  \\N|\n",
            "| nm1341449|         [tt0358664]|             [video]|[Red Assed Lap Da...|                 [1]|     2002|     \\N|                [\\N]| actress|                [\\N]|       Alex|           tt0358664|\n",
            "| nm7589368|         [tt3273474]|             [video]|       [Dare Dorm 4]|                 [1]|     2010|     \\N|             [Adult]|   actor|                [\\N]|       Alex|           tt3273474|\n",
            "| nm8437363|         [tt6061572]|             [video]|      [The Au Pairs]|                 [1]|     2014|     \\N|    [Adult, Romance]| actress|          [[\"Alex\"]]|       Alex|           tt6061572|\n",
            "| nm2417289|         [tt0889189]|             [video]|   [Game Room Spank]|                 [1]|     2005|     \\N|             [Adult]| actress|                [\\N]|       Alex| tt0853160,tt0889189|\n",
            "|nm11756012|         [tt6346216]|         [tvEpisode]|          [Flamingo]|                 [1]|     2012|     \\N|             [Adult]|   actor|                [\\N]|       Alex|           tt6137286|\n",
            "|nm12259668|[tt16744940, tt21...|[tvEpisode, tvEpi...|[Vikkstar and the...|[0, 0, 0, 0, 0, 0...|     2019|     \\N|[Action, Adventur...|   actor|[[\"Technoblade\"],...|       Alex|tt14726182,tt1390...|\n",
            "| nm2093564|         [tt0488669]|             [video]|       [Well Suited]|                 [1]|     2003|     \\N|             [Adult]|   actor|                [\\N]|       Alex|           tt0488669|\n",
            "| nm2853466|        [tt12784128]|         [tvEpisode]|       [Alex's Solo]|                 [1]|     2011|     \\N|             [Adult]|   actor|                [\\N]|       Alex|tt6352530,tt12778...|\n",
            "| nm7520304|         [tt4943332]|             [video]|  [TIMJack Volume 3]|                 [1]|     2015|     \\N|             [Adult]|   actor|                [\\N]|       Alex|           tt4943332|\n",
            "| nm8743504|[tt1904917, tt647...|[video, video, vi...|[Her First MILF 1...|           [1, 1, 1]|     2010|     \\N|[Adult, Adult, Ad...| actress|        [\\N, \\N, \\N]|       Alex|tt22876100,tt1904...|\n",
            "| nm3592097|         [tt1295065]|             [movie]|[A Esperança Está...|                 [0]|     2009|     \\N|             [Drama]|   actor|[[\"Miúdo no bairr...|       Alex|           tt1295065|\n",
            "| nm8632630|         [tt6317188]|         [tvEpisode]|[Klara & Alex in:...|                 [1]|     2016|     \\N|             [Adult]| actress|                [\\N]|       Alex|           tt5989698|\n",
            "| nm9096441|         [tt7075258]|         [tvEpisode]|     [Smiling Faces]|                 [1]|     2002|     \\N|             [Adult]|   actor|                [\\N]|       Alex|           tt6610786|\n",
            "| nm9147804|         [tt7164532]|             [video]|[Sex Thick & Chun...|                 [1]|     1997|     \\N|             [Adult]|   actor|                [\\N]|       Alex|           tt7164532|\n",
            "|nm11341144|        [tt11764586]|             [movie]|[This is (not) an...|                 [0]|     2020|     \\N|            [Comedy]|   actor| [[\"Not (an) Alex\"]]|       Alex|                  \\N|\n",
            "| nm8908102|         [tt6753904]|             [video]|[The Great Detent...|                 [0]|     2012|     \\N|[Comedy, Family, ...|   actor|       [[\"Student\"]]|       Alex|           tt6753904|\n",
            "| nm9466616|        [tt12660738]|         [tvEpisode]| [O Golpe - Parte 1]|                 [1]|     2014|     \\N|             [Adult]|   actor|                [\\N]|       Alex|tt12655098,tt7712170|\n",
            "|nm11560617|        [tt12278880]|         [tvEpisode]|  [Czech Hunter 133]|                 [1]|     2014|     \\N|             [Adult]|   actor|                [\\N]|       Alex|           tt4598086|\n",
            "|nm12067646|        [tt14734304]|         [tvEpisode]|[Teen Wakes Up, G...|                 [1]|     2020|     \\N|             [Adult]|   actor|                [\\N]|       Alex|          tt11865742|\n",
            "|nm13237424|        [tt16550252]|         [tvEpisode]|[Der verfickte Be...|                 [1]|     2019|     \\N|             [Adult]|   actor|                [\\N]|       Alex|           tt7755316|\n",
            "|nm11288224|        [tt11644858]|          [tvSeries]|[Diamond Dealers ...|                 [0]|     2020|     \\N|             [Drama]|   actor|       [[\"Rudeboy\"]]|       Alex|                  \\N|\n",
            "|nm11529964|[tt13556488, tt13...|[tvEpisode, tvEpi...|[Daddy Weekend Re...|              [1, 1]|     2010|     \\N|      [Adult, Adult]|   actor|            [\\N, \\N]|       Alex|                  \\N|\n",
            "|nm11608727|[tt12386590, tt14...|[tvEpisode, tvSpe...|[Alex, Manspreadi...|              [1, 0]|     2005|     \\N|[Adult, Documentary]| actress| [\\N, [\"Druckerin\"]]|       Alex|tt6268790,tt14412810|\n",
            "|nm13423180|[tt18297638, tt18...|[tvEpisode, tvEpi...|[Kimberly Rides A...|[1, 1, 1, 1, 1, 1...|     2016|     \\N|[Adult, Adult, Ad...|   actor|[\\N, \\N, \\N, \\N, ...|       Alex|          tt11126150|\n",
            "| nm1530844|[tt0445452, tt039...|      [video, video]|[Hustler: Anal In...|              [1, 1]|     2002|     \\N|      [Adult, Adult]|   actor|            [\\N, \\N]|       Alex|tt0396226,tt04454...|\n",
            "| nm2825594|         [tt1134559]|             [video]|     [Chicago Squid]|                 [1]|     2000|     \\N|             [Adult]|   actor|                [\\N]|       Alex|           tt1134559|\n",
            "| nm9894608|         [tt8528652]|         [tvEpisode]|              [Alex]|                 [1]|     2002|     \\N|             [Adult]| actress|                [\\N]|       Alex|           tt6268790|\n",
            "|nm10012289|[tt8767922, tt153...|      [short, movie]|[The Last Wish, T...|              [0, 0]|     2019|     \\N|[Drama, Short, Ac...|   actor|[[\"Raj Friend (ma...|       Alex|           tt8767922|\n",
            "|nm13259809|[tt16756990, tt16...|[tvEpisode, tvEpi...|[Bathroom Bitch, ...|              [1, 1]|     2014|     \\N|[Adult, Short, Ad...|   actor|            [\\N, \\N]|       Alex|                  \\N|\n",
            "| nm1914490|         [tt0458808]|             [video]|       [Lesbo 101 3]|                 [1]|     2004|     \\N|             [Adult]| actress|                [\\N]|       Alex|           tt0458808|\n",
            "| nm5325177|         [tt2456760]|             [video]|[Auditions 27: Mi...|                 [1]|     2008|     \\N|             [Adult]|   actor|                [\\N]|       Alex|           tt2456760|\n",
            "| nm1015910|[tt0413478, tt012...|[video, video, vi...|[Wet Teens 4, Wil...|[1, 1, 1, 1, 1, 1...|     1992|     \\N|[Adult, Adult, Ad...|   actor|[\\N, \\N, \\N, \\N, ...|       Alex|tt1086849,tt04222...|\n",
            "| nm2400063|         [tt0871997]|             [video]|[His First Facial...|                 [1]|     2006|     \\N|             [Adult]|   actor|                [\\N]|       Alex|           tt0871997|\n",
            "| nm4547831|         [tt1995500]|             [short]|[Zombie Surge-Swe...|                 [0]|     2011|     \\N|     [Action, Short]|   actor|          [[\"Alex\"]]|       Alex|           tt1995500|\n",
            "| nm5394334|[tt2545100, tt254...|[video, video, vi...|[Ekpaidevontas ti...|           [1, 1, 1]|     2007|     \\N|[Adult, Adult, Ad...|   actor|        [\\N, \\N, \\N]|       Alex|tt2545126,tt25451...|\n",
            "| nm8959855|         [tt6416676]|             [movie]|        [Em chua 18]|                 [0]|     2017|     \\N|[Comedy, Drama, R...|   actor|          [[\"Dung\"]]|       Alex|           tt6416676|\n",
            "|nm11504318|[tt12379294, tt12...|[tvEpisode, tvEpi...|[Unprepared To Be...|[0, 0, 0, 0, 0, 0...|     2013|     \\N|[Animation, Anima...|   actor|[[\"Controlly\"], [...|       Alex|          tt12158838|\n",
            "|nm11569792|        [tt12299404]|             [short]|      [The Knocking]|                 [0]|     2019|     \\N|     [Horror, Short]| actress|        [[\"Angela\"]]|       Alex|          tt12299404|\n",
            "|nm10849871|        [tt10666404]|             [short]|[Toy Story 4: For...|                 [0]|     2019|     \\N|[Animation, Comed...|   actor|    [[\"Teen Woody\"]]|       Alex|          tt10666404|\n",
            "|nm11104529|        [tt11225356]|             [movie]|[Relaxxxed 8: Poo...|                 [1]|     2016|     \\N|             [Adult]|   actor|                [\\N]|       Alex|                  \\N|\n",
            "|nm11541643|        [tt12239426]|         [tvEpisode]|              [Alex]|                 [1]|     2004|     \\N|             [Adult]| actress|                [\\N]|       Alex|           tt6268790|\n",
            "| nm4281504|         [tt0250555]|             [movie]|      [Macho Grande]|                 [1]|     1977|     \\N|             [Adult]|   actor|                [\\N]|       Alex|           tt0250555|\n",
            "| nm4634756|         [tt4317586]|             [movie]|[Pollachi Mappillai]|                 [0]|     2010|     \\N|             [Drama]|   actor|                [\\N]|       Alex| tt1657293,tt4317586|\n",
            "| nm9514824|         [tt0407477]|             [video]|    [101 Men Part 4]|                 [1]|     1998|     \\N|             [Adult]|   actor|                [\\N]|       Alex|                  \\N|\n",
            "|nm10050206|[tt8847502, tt155...|[tvEpisode, tvSer...|[Spying on Autumn...|              [0, 0]|     2018|     \\N|[Comedy, Short, C...|   actor|      [[\"Alex\"], \\N]|       Alex|           tt6982604|\n",
            "|nm12011252|[tt15091672, tt17...|[video, video, vi...|[Big Clits Big Li...|           [1, 1, 1]|     2010|     \\N|[Adult, Adult, Ad...| actress|[\\N, \\N, [\"Female...|       Alex|tt17518146,tt1509...|\n",
            "+----------+--------------------+--------------------+--------------------+--------------------+---------+-------+--------------------+--------+--------------------+-----------+--------------------+\n",
            "only showing top 50 rows\n",
            "\n"
          ]
        }
      ]
    },
    {
      "cell_type": "code",
      "source": [
        "from pyspark.ml.feature import StringIndexer, OneHotEncoder, CountVectorizer\n",
        "from pyspark.ml.stat import Summarizer\n",
        "from pyspark.sql.functions import split, col\n",
        "from pyspark.sql import DataFrame, SparkSession\n",
        "from typing import List, Literal\n",
        "import pandas as pd"
      ],
      "metadata": {
        "id": "p9sG36E67Nq9"
      },
      "execution_count": 54,
      "outputs": []
    },
    {
      "cell_type": "markdown",
      "source": [
        "#Spróbujemy zliczyć ile jest różnych typów filmów i spróbujemy zobaczyć czy są takie np. występujące bardzo mało razy"
      ],
      "metadata": {
        "id": "Ce9SSRX_UIrM"
      }
    },
    {
      "cell_type": "code",
      "source": [
        "def count_vectorizer(\n",
        "    df: DataFrame,\n",
        "    column: str,\n",
        "    drop_cols: bool = True\n",
        ") -> DataFrame:\n",
        "    cv = CountVectorizer(inputCol=column, outputCol=column + \"_vec\").fit(df)\n",
        "    result = (\n",
        "        cv\n",
        "        \n",
        "        .transform(df)\n",
        "\n",
        "    )\n",
        "    # print(cv.explainParams())\n",
        "\n",
        "    if drop_cols:\n",
        "        result = result.drop(column)\n",
        "\n",
        "    return result, cv"
      ],
      "metadata": {
        "id": "xSXGsn8b6xcs"
      },
      "execution_count": 51,
      "outputs": []
    },
    {
      "cell_type": "markdown",
      "source": [
        "Zliczymy liczbe roznych wartosci w kolumnie 'titleType'"
      ],
      "metadata": {
        "id": "2HoyFV0VUh7Y"
      }
    },
    {
      "cell_type": "code",
      "source": [
        "test, cv = count_vectorizer(data, 'titleType', False)\n",
        "test.show(10)"
      ],
      "metadata": {
        "id": "QhaU3vrI_N3M",
        "outputId": "b337e6a5-8249-4042-c973-7b7c1a589c9c",
        "colab": {
          "base_uri": "https://localhost:8080/"
        }
      },
      "execution_count": 43,
      "outputs": [
        {
          "output_type": "stream",
          "name": "stdout",
          "text": [
            "+---------+--------------------+--------------------+--------------------+--------------------+---------+-------+--------------------+--------+--------------------+------------------+--------------------+--------------------+\n",
            "|   nconst|              tconst|           titleType|       originalTitle|             isAdult|startYear|endYear|              genres|category|          characters|       primaryName|      knownForTitles|       titleType_vec|\n",
            "+---------+--------------------+--------------------+--------------------+--------------------+---------+-------+--------------------+--------+--------------------+------------------+--------------------+--------------------+\n",
            "|nm0000034|[tt0032636, tt003...|[movie, movie, mo...|[Invisible Stripe...|[0, 0, 0, 0, 0, 0...|     1939|     \\N|[Action, Crime, D...|   actor|[[\"Tim Taylor\"], ...|    William Holden|tt0043014,tt00463...|(11,[1,2,5],[1.0,...|\n",
            "|nm0000068|[tt0038613, tt002...|[movie, movie, mo...|[Home, Sweet Homi...|[0, 0, 0, 0, 0, 0...|     1931|     \\N|[Adventure, Comed...|   actor|[[\"Lt. Bill Smith...|    Randolph Scott|tt0029284,tt00269...|     (11,[2],[91.0])|\n",
            "|nm0000081|[tt0933591, tt550...|[tvEpisode, tvEpi...|[Uncle Harry's Vi...|[0, 0, 0, 0, 0, 0...|     1949|     \\N|[Comedy, Drama, D...| actress|[[\"Ann Morrison\"]...|      Natalie Wood|tt0057263,tt00556...|(11,[0,2,3,5,6],[...|\n",
            "|nm0000119|[tt0105793, tt063...|[movie, tvEpisode...|[Wayne's World, S...|[0, 0, 0, 0, 0, 0...|     1985|     \\N|[Comedy, Music, A...| actress|[[\"Cassandra\"], [...|       Tia Carrere|tt0105793,tt02758...|(11,[0,1,2,3,4,5,...|\n",
            "|nm0000202|[tt0401997, tt131...|[movie, tvSpecial...|[Breach, Big Sky,...|[0, 0, 0, 0, 0, 0...|     1993|     \\N|[Biography, Crime...|   actor|[[\"Eric O'Neill\"]...|    Ryan Phillippe|tt0375679,tt01391...|(11,[0,1,2,3,5,8]...|\n",
            "|nm0000210|[tt5390080, tt011...|[tvMovie, movie, ...|[ADX, Michael Col...|[0, 0, 0, 0, 0, 0...|     1988|     \\N|[Drama, Biography...| actress|[\\N, [\"Kitty Kier...|     Julia Roberts|tt0100405,tt03765...|(11,[0,1,2,3,5,6]...|\n",
            "|nm0000212|[tt0110099, tt132...|[movie, tvSeries,...|[I.Q., Der Kabel ...|[0, 0, 0, 0, 0, 0...|     1982|     \\N|[Comedy, Romance,...| actress|[[\"Catherine Boyd...|          Meg Ryan|tt0108160,tt01206...|(11,[0,2,3,4,7],[...|\n",
            "|nm0000335|[tt0211181, tt010...|[movie, tvMovie, ...|[102 Dalmatians, ...|[0, 0, 0, 0, 0, 0...|     1975|     \\N|[Adventure, Comed...| actress|[[\"Cruella de Vil...|       Glenn Close|tt0094947,tt00930...|(11,[0,1,2,3,4,5]...|\n",
            "|nm0000391|[tt1340782, tt216...|[movie, tvEpisode...|[The Liar, Die an...|[0, 0, 0, 0, 0, 0...|     1982|     \\N|[Comedy, Drama, R...|   actor|[[\"Humphrey Biffe...|    Rupert Everett|tt0119738,tt01225...|(11,[0,1,2,3,5,6]...|\n",
            "|nm0000449|[tt0699212, tt028...|[tvEpisode, movie...|[Crossed Out, Rid...|[0, 0, 0, 0, 0, 0...|     1995|     \\N|[Action, Adventur...| actress|[[\"Cassie McBain\"...|Natasha Henstridge|tt0190138,tt01145...|(11,[0,2,3,4,5,6,...|\n",
            "+---------+--------------------+--------------------+--------------------+--------------------+---------+-------+--------------------+--------+--------------------+------------------+--------------------+--------------------+\n",
            "only showing top 10 rows\n",
            "\n"
          ]
        }
      ]
    },
    {
      "cell_type": "markdown",
      "source": [
        "Takie sa rozne wartosci w kolumnie 'titleType'"
      ],
      "metadata": {
        "id": "0RiPBs79VN_4"
      }
    },
    {
      "cell_type": "code",
      "source": [
        "cv.vocabulary"
      ],
      "metadata": {
        "id": "veBdJtGOJZ_X",
        "outputId": "78482174-6965-490c-b7dd-3f3e48620c39",
        "colab": {
          "base_uri": "https://localhost:8080/"
        }
      },
      "execution_count": 44,
      "outputs": [
        {
          "output_type": "execute_result",
          "data": {
            "text/plain": [
              "['tvEpisode',\n",
              " 'short',\n",
              " 'movie',\n",
              " 'tvSeries',\n",
              " 'video',\n",
              " 'tvMovie',\n",
              " 'tvMiniSeries',\n",
              " 'videoGame',\n",
              " 'tvSpecial',\n",
              " 'tvShort',\n",
              " 'tvPilot']"
            ]
          },
          "metadata": {},
          "execution_count": 44
        }
      ]
    },
    {
      "cell_type": "code",
      "source": [
        "test.agg(Summarizer.sum(test.titleType_vec)).collect()"
      ],
      "metadata": {
        "id": "zDA6JCIuCCM-",
        "outputId": "61d0eb10-bf69-4476-bb6d-5d43498fa5da",
        "colab": {
          "base_uri": "https://localhost:8080/"
        }
      },
      "execution_count": 45,
      "outputs": [
        {
          "output_type": "execute_result",
          "data": {
            "text/plain": [
              "[Row(sum(titleType_vec)=DenseVector([13952207.0, 1886196.0, 1836075.0, 815491.0, 808665.0, 379648.0, 182005.0, 53797.0, 27172.0, 17391.0, 1.0]))]"
            ]
          },
          "metadata": {},
          "execution_count": 45
        }
      ]
    },
    {
      "cell_type": "markdown",
      "source": [
        "Natomiast taka jest licznosc wystapien danej wartosci\n",
        "na przyklad tvEpisode wystepuje 13952207 razy, natomiast tvPilot tylko 1 raz"
      ],
      "metadata": {
        "id": "eF53vuDdVdbb"
      }
    },
    {
      "cell_type": "markdown",
      "source": [
        "Zrobimy tak samo z kolumna genres"
      ],
      "metadata": {
        "id": "ZUstqS8QVf6B"
      }
    },
    {
      "cell_type": "code",
      "source": [
        "test2, cv2 = count_vectorizer(data, 'genres', False)\n",
        "test2.show(10)"
      ],
      "metadata": {
        "id": "5FwBSp4CFplq",
        "outputId": "8ec776bb-c5f7-4b61-9362-39a079d3dfa8",
        "colab": {
          "base_uri": "https://localhost:8080/"
        }
      },
      "execution_count": 47,
      "outputs": [
        {
          "output_type": "stream",
          "name": "stdout",
          "text": [
            "+---------+--------------------+--------------------+--------------------+--------------------+---------+-------+--------------------+--------+--------------------+------------------+--------------------+--------------------+\n",
            "|   nconst|              tconst|           titleType|       originalTitle|             isAdult|startYear|endYear|              genres|category|          characters|       primaryName|      knownForTitles|          genres_vec|\n",
            "+---------+--------------------+--------------------+--------------------+--------------------+---------+-------+--------------------+--------+--------------------+------------------+--------------------+--------------------+\n",
            "|nm0000034|[tt0032636, tt003...|[movie, movie, mo...|[Invisible Stripe...|[0, 0, 0, 0, 0, 0...|     1939|     \\N|[Action, Crime, D...|   actor|[[\"Tim Taylor\"], ...|    William Holden|tt0043014,tt00463...|(30,[0,1,2,3,4,5,...|\n",
            "|nm0000068|[tt0038613, tt002...|[movie, movie, mo...|[Home, Sweet Homi...|[0, 0, 0, 0, 0, 0...|     1931|     \\N|[Adventure, Comed...|   actor|[[\"Lt. Bill Smith...|    Randolph Scott|tt0029284,tt00269...|(30,[0,1,2,4,5,6,...|\n",
            "|nm0000081|[tt0933591, tt550...|[tvEpisode, tvEpi...|[Uncle Harry's Vi...|[0, 0, 0, 0, 0, 0...|     1949|     \\N|[Comedy, Drama, D...| actress|[[\"Ann Morrison\"]...|      Natalie Wood|tt0057263,tt00556...|(30,[0,1,2,4,5,6,...|\n",
            "|nm0000119|[tt0105793, tt063...|[movie, tvEpisode...|[Wayne's World, S...|[0, 0, 0, 0, 0, 0...|     1985|     \\N|[Comedy, Music, A...| actress|[[\"Cassandra\"], [...|       Tia Carrere|tt0105793,tt02758...|(30,[0,1,2,3,4,5,...|\n",
            "|nm0000202|[tt0401997, tt131...|[movie, tvSpecial...|[Breach, Big Sky,...|[0, 0, 0, 0, 0, 0...|     1993|     \\N|[Biography, Crime...|   actor|[[\"Eric O'Neill\"]...|    Ryan Phillippe|tt0375679,tt01391...|(30,[0,1,2,3,5,6,...|\n",
            "|nm0000210|[tt5390080, tt011...|[tvMovie, movie, ...|[ADX, Michael Col...|[0, 0, 0, 0, 0, 0...|     1988|     \\N|[Drama, Biography...| actress|[\\N, [\"Kitty Kier...|     Julia Roberts|tt0100405,tt03765...|(30,[0,1,2,3,4,5,...|\n",
            "|nm0000212|[tt0110099, tt132...|[movie, tvSeries,...|[I.Q., Der Kabel ...|[0, 0, 0, 0, 0, 0...|     1982|     \\N|[Comedy, Romance,...| actress|[[\"Catherine Boyd...|          Meg Ryan|tt0108160,tt01206...|(30,[0,1,2,3,4,5,...|\n",
            "|nm0000335|[tt0211181, tt010...|[movie, tvMovie, ...|[102 Dalmatians, ...|[0, 0, 0, 0, 0, 0...|     1975|     \\N|[Adventure, Comed...| actress|[[\"Cruella de Vil...|       Glenn Close|tt0094947,tt00930...|(30,[0,1,2,3,4,5,...|\n",
            "|nm0000391|[tt1340782, tt216...|[movie, tvEpisode...|[The Liar, Die an...|[0, 0, 0, 0, 0, 0...|     1982|     \\N|[Comedy, Drama, R...|   actor|[[\"Humphrey Biffe...|    Rupert Everett|tt0119738,tt01225...|(30,[0,1,2,3,4,5,...|\n",
            "|nm0000449|[tt0699212, tt028...|[tvEpisode, movie...|[Crossed Out, Rid...|[0, 0, 0, 0, 0, 0...|     1995|     \\N|[Action, Adventur...| actress|[[\"Cassie McBain\"...|Natasha Henstridge|tt0190138,tt01145...|(30,[0,1,2,4,5,6,...|\n",
            "+---------+--------------------+--------------------+--------------------+--------------------+---------+-------+--------------------+--------+--------------------+------------------+--------------------+--------------------+\n",
            "only showing top 10 rows\n",
            "\n"
          ]
        }
      ]
    },
    {
      "cell_type": "markdown",
      "source": [
        "Wystepujace gatunki filmow:"
      ],
      "metadata": {
        "id": "rfGhQe_MVn0m"
      }
    },
    {
      "cell_type": "code",
      "source": [
        "cv2.vocabulary"
      ],
      "metadata": {
        "id": "VRLW862OLmfI",
        "outputId": "a4b6f9f0-1dd0-4612-94f3-6f2ee60c87b1",
        "colab": {
          "base_uri": "https://localhost:8080/"
        }
      },
      "execution_count": 49,
      "outputs": [
        {
          "output_type": "execute_result",
          "data": {
            "text/plain": [
              "['Drama',\n",
              " 'Comedy',\n",
              " 'Romance',\n",
              " 'Short',\n",
              " 'Family',\n",
              " 'Action',\n",
              " 'Crime',\n",
              " 'Animation',\n",
              " 'Adventure',\n",
              " 'Adult',\n",
              " '\\\\N',\n",
              " 'Mystery',\n",
              " 'Fantasy',\n",
              " 'Thriller',\n",
              " 'Horror',\n",
              " 'Music',\n",
              " 'Sci-Fi',\n",
              " 'History',\n",
              " 'Sport',\n",
              " 'Musical',\n",
              " 'Documentary',\n",
              " 'Reality-TV',\n",
              " 'Talk-Show',\n",
              " 'Biography',\n",
              " 'Game-Show',\n",
              " 'Western',\n",
              " 'War',\n",
              " 'News',\n",
              " 'Film-Noir',\n",
              " 'Experimental']"
            ]
          },
          "metadata": {},
          "execution_count": 49
        }
      ]
    },
    {
      "cell_type": "code",
      "source": [
        "test2.agg(Summarizer.sum(test2.genres_vec)).collect()"
      ],
      "metadata": {
        "id": "qcPX2DwaF4lX",
        "outputId": "060c2bcf-96ba-4a63-a5ae-7fe7122f6a00",
        "colab": {
          "base_uri": "https://localhost:8080/"
        }
      },
      "execution_count": 50,
      "outputs": [
        {
          "output_type": "execute_result",
          "data": {
            "text/plain": [
              "[Row(sum(genres_vec)=DenseVector([10032628.0, 5428396.0, 3574737.0, 2010200.0, 1637228.0, 1389743.0, 1357986.0, 1235449.0, 1218350.0, 896974.0, 783927.0, 664492.0, 625766.0, 545531.0, 473951.0, 331356.0, 323977.0, 287105.0, 208100.0, 204688.0, 200566.0, 172832.0, 164502.0, 155775.0, 128129.0, 112340.0, 99353.0, 75490.0, 3539.0, 2.0]))]"
            ]
          },
          "metadata": {},
          "execution_count": 50
        }
      ]
    },
    {
      "cell_type": "markdown",
      "source": [
        "Analogicznie odczytujemy, ze np. gatunek 'Film-Noir' wystapil 3539 razy, natomiast \\\\N byl przypisany 783927 razy"
      ],
      "metadata": {
        "id": "RQkHLnbzVvWV"
      }
    },
    {
      "cell_type": "markdown",
      "source": [
        "Pytanie: co robimy z najrzadziej wystepujacymi wartosciami i od jakiej liczby wystapien?"
      ],
      "metadata": {
        "id": "Hl4YMGhZXrXV"
      }
    }
  ]
}