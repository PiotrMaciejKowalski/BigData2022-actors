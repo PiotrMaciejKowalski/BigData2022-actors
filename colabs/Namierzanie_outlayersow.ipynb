{
  "nbformat": 4,
  "nbformat_minor": 0,
  "metadata": {
    "colab": {
      "provenance": [],
      "include_colab_link": true
    },
    "kernelspec": {
      "name": "python3",
      "display_name": "Python 3"
    },
    "language_info": {
      "name": "python"
    }
  },
  "cells": [
    {
      "cell_type": "markdown",
      "metadata": {
        "id": "view-in-github",
        "colab_type": "text"
      },
      "source": [
        "<a href=\"https://colab.research.google.com/github/PiotrMaciejKowalski/BigData2022-actors/blob/Warto%C5%9Bci_odstaj%C4%85ce/colabs/Namierzanie_outlayersow.ipynb\" target=\"_parent\"><img src=\"https://colab.research.google.com/assets/colab-badge.svg\" alt=\"Open In Colab\"/></a>"
      ]
    },
    {
      "cell_type": "code",
      "execution_count": 1,
      "metadata": {
        "id": "V8-nE3oH58P6",
        "outputId": "8c912e28-4398-4103-babb-9f8f38932b5d",
        "colab": {
          "base_uri": "https://localhost:8080/"
        }
      },
      "outputs": [
        {
          "output_type": "stream",
          "name": "stdout",
          "text": [
            "Mounted at /content/gdrive\n"
          ]
        }
      ],
      "source": [
        "from google.colab import drive\n",
        "drive.mount('/content/gdrive')"
      ]
    },
    {
      "cell_type": "code",
      "source": [
        "!git clone https://github.com/PiotrMaciejKowalski/BigData2022-actors.git\n",
        "!mv /content/BigData2022-actors/* .\n",
        "!mv /content/BigData2022-actors/.* .\n",
        "!rmdir /content/BigData2022-actors/"
      ],
      "metadata": {
        "id": "CJDl9hKq623W",
        "outputId": "d4818015-0b91-482e-f89a-235b908a036a",
        "colab": {
          "base_uri": "https://localhost:8080/"
        }
      },
      "execution_count": 2,
      "outputs": [
        {
          "output_type": "stream",
          "name": "stdout",
          "text": [
            "Cloning into 'BigData2022-actors'...\n",
            "remote: Enumerating objects: 1565, done.\u001b[K\n",
            "remote: Counting objects: 100% (258/258), done.\u001b[K\n",
            "remote: Compressing objects: 100% (145/145), done.\u001b[K\n",
            "remote: Total 1565 (delta 179), reused 169 (delta 113), pack-reused 1307\u001b[K\n",
            "Receiving objects: 100% (1565/1565), 6.00 MiB | 26.38 MiB/s, done.\n",
            "Resolving deltas: 100% (946/946), done.\n",
            "mv: cannot move '/content/BigData2022-actors/.' to './.': Device or resource busy\n",
            "mv: cannot move '/content/BigData2022-actors/..' to './..': Device or resource busy\n"
          ]
        }
      ]
    },
    {
      "cell_type": "code",
      "source": [
        "!git checkout Wartości_odstające"
      ],
      "metadata": {
        "id": "byTOVMAl67xS",
        "outputId": "fa406877-1ea0-4c41-bdec-7fe0c0dfea86",
        "colab": {
          "base_uri": "https://localhost:8080/"
        }
      },
      "execution_count": 3,
      "outputs": [
        {
          "output_type": "stream",
          "name": "stdout",
          "text": [
            "Branch 'Wartości_odstające' set up to track remote branch 'Wartości_odstające' from 'origin'.\n",
            "Switched to a new branch 'Wartości_odstające'\n"
          ]
        }
      ]
    },
    {
      "cell_type": "code",
      "source": [
        "!chmod +x setup_sparka.sh\n",
        "!./setup_sparka.sh"
      ],
      "metadata": {
        "id": "60AJd6gh69of",
        "outputId": "61a69bd9-d861-4099-999d-f88884b1799b",
        "colab": {
          "base_uri": "https://localhost:8080/"
        }
      },
      "execution_count": 4,
      "outputs": [
        {
          "output_type": "stream",
          "name": "stdout",
          "text": [
            "Looking in indexes: https://pypi.org/simple, https://us-python.pkg.dev/colab-wheels/public/simple/\n",
            "Collecting pyspark\n",
            "  Downloading pyspark-3.3.1.tar.gz (281.4 MB)\n",
            "\u001b[2K     \u001b[90m━━━━━━━━━━━━━━━━━━━━━━━━━━━━━━━━━━━━━━━\u001b[0m \u001b[32m281.4/281.4 MB\u001b[0m \u001b[31m3.9 MB/s\u001b[0m eta \u001b[36m0:00:00\u001b[0m\n",
            "\u001b[?25h  Preparing metadata (setup.py) ... \u001b[?25l\u001b[?25hdone\n",
            "Collecting py4j\n",
            "  Downloading py4j-0.10.9.7-py2.py3-none-any.whl (200 kB)\n",
            "\u001b[2K     \u001b[90m━━━━━━━━━━━━━━━━━━━━━━━━━━━━━━━━━━━━━━\u001b[0m \u001b[32m200.5/200.5 KB\u001b[0m \u001b[31m14.1 MB/s\u001b[0m eta \u001b[36m0:00:00\u001b[0m\n",
            "\u001b[?25h  Downloading py4j-0.10.9.5-py2.py3-none-any.whl (199 kB)\n",
            "\u001b[2K     \u001b[90m━━━━━━━━━━━━━━━━━━━━━━━━━━━━━━━━━━━━━━\u001b[0m \u001b[32m199.7/199.7 KB\u001b[0m \u001b[31m18.4 MB/s\u001b[0m eta \u001b[36m0:00:00\u001b[0m\n",
            "\u001b[?25hBuilding wheels for collected packages: pyspark\n",
            "  Building wheel for pyspark (setup.py) ... \u001b[?25l\u001b[?25hdone\n",
            "  Created wheel for pyspark: filename=pyspark-3.3.1-py2.py3-none-any.whl size=281845512 sha256=019895abb00c5b22341c762d6b4eef3850a27692cfe6b656e2a152b69338d376\n",
            "  Stored in directory: /root/.cache/pip/wheels/43/dc/11/ec201cd671da62fa9c5cc77078235e40722170ceba231d7598\n",
            "Successfully built pyspark\n",
            "Installing collected packages: py4j, pyspark\n",
            "Successfully installed py4j-0.10.9.5 pyspark-3.3.1\n",
            "--2023-01-14 14:07:05--  https://dlcdn.apache.org/spark/spark-3.3.1/spark-3.3.1-bin-hadoop2.tgz\n",
            "Resolving dlcdn.apache.org (dlcdn.apache.org)... 151.101.2.132, 2a04:4e42::644\n",
            "Connecting to dlcdn.apache.org (dlcdn.apache.org)|151.101.2.132|:443... connected.\n",
            "HTTP request sent, awaiting response... 200 OK\n",
            "Length: 274099817 (261M) [application/x-gzip]\n",
            "Saving to: ‘spark-3.3.1-bin-hadoop2.tgz’\n",
            "\n",
            "spark-3.3.1-bin-had 100%[===================>] 261.40M   189MB/s    in 1.4s    \n",
            "\n",
            "2023-01-14 14:07:06 (189 MB/s) - ‘spark-3.3.1-bin-hadoop2.tgz’ saved [274099817/274099817]\n",
            "\n"
          ]
        }
      ]
    },
    {
      "cell_type": "code",
      "source": [
        "from lib.pyspark_init import create_spark_context, add_kaggle_data\n",
        "from lib.const import JOINED_DATA, DATA_WITH_AWARDS"
      ],
      "metadata": {
        "id": "PygzVIzT7CdG"
      },
      "execution_count": 5,
      "outputs": []
    },
    {
      "cell_type": "code",
      "source": [
        "spark = create_spark_context()\n",
        "spark"
      ],
      "metadata": {
        "id": "4oAFq__N7FYz",
        "outputId": "2845fb78-eb16-447a-e13f-858c01f94913",
        "colab": {
          "base_uri": "https://localhost:8080/",
          "height": 219
        }
      },
      "execution_count": 6,
      "outputs": [
        {
          "output_type": "execute_result",
          "data": {
            "text/plain": [
              "<pyspark.sql.session.SparkSession at 0x7f8cf143f160>"
            ],
            "text/html": [
              "\n",
              "            <div>\n",
              "                <p><b>SparkSession - in-memory</b></p>\n",
              "                \n",
              "        <div>\n",
              "            <p><b>SparkContext</b></p>\n",
              "\n",
              "            <p><a href=\"http://9e1216ee826f:4040\">Spark UI</a></p>\n",
              "\n",
              "            <dl>\n",
              "              <dt>Version</dt>\n",
              "                <dd><code>v3.3.1</code></dd>\n",
              "              <dt>Master</dt>\n",
              "                <dd><code>local[*]</code></dd>\n",
              "              <dt>AppName</dt>\n",
              "                <dd><code>Colab</code></dd>\n",
              "            </dl>\n",
              "        </div>\n",
              "        \n",
              "            </div>\n",
              "        "
            ]
          },
          "metadata": {},
          "execution_count": 6
        }
      ]
    },
    {
      "cell_type": "code",
      "source": [
        "%%time\n",
        "data = spark.read.parquet(JOINED_DATA)\n",
        "data.show(100)"
      ],
      "metadata": {
        "id": "kQchKy8Y7HjW",
        "outputId": "442656a0-7c89-45df-fc1d-c56a78642f1f",
        "colab": {
          "base_uri": "https://localhost:8080/"
        }
      },
      "execution_count": 34,
      "outputs": [
        {
          "output_type": "stream",
          "name": "stdout",
          "text": [
            "+---------+--------------------+--------------------+--------------------+--------------------+---------+-------+--------------------+--------+--------------------+--------------------+--------------------+\n",
            "|   nconst|              tconst|           titleType|       originalTitle|             isAdult|startYear|endYear|              genres|category|          characters|         primaryName|      knownForTitles|\n",
            "+---------+--------------------+--------------------+--------------------+--------------------+---------+-------+--------------------+--------+--------------------+--------------------+--------------------+\n",
            "|nm0000034|[tt0032636, tt003...|[movie, movie, mo...|[Invisible Stripe...|[0, 0, 0, 0, 0, 0...|     1939|     \\N|[Action, Crime, D...|   actor|[[\"Tim Taylor\"], ...|      William Holden|tt0043014,tt00463...|\n",
            "|nm0000068|[tt0038613, tt002...|[movie, movie, mo...|[Home, Sweet Homi...|[0, 0, 0, 0, 0, 0...|     1931|     \\N|[Adventure, Comed...|   actor|[[\"Lt. Bill Smith...|      Randolph Scott|tt0029284,tt00269...|\n",
            "|nm0000081|[tt0933591, tt550...|[tvEpisode, tvEpi...|[Uncle Harry's Vi...|[0, 0, 0, 0, 0, 0...|     1949|     \\N|[Comedy, Drama, D...| actress|[[\"Ann Morrison\"]...|        Natalie Wood|tt0057263,tt00556...|\n",
            "|nm0000119|[tt0105793, tt063...|[movie, tvEpisode...|[Wayne's World, S...|[0, 0, 0, 0, 0, 0...|     1985|     \\N|[Comedy, Music, A...| actress|[[\"Cassandra\"], [...|         Tia Carrere|tt0105793,tt02758...|\n",
            "|nm0000202|[tt0401997, tt131...|[movie, tvSpecial...|[Breach, Big Sky,...|[0, 0, 0, 0, 0, 0...|     1993|     \\N|[Biography, Crime...|   actor|[[\"Eric O'Neill\"]...|      Ryan Phillippe|tt0375679,tt01391...|\n",
            "|nm0000210|[tt5390080, tt011...|[tvMovie, movie, ...|[ADX, Michael Col...|[0, 0, 0, 0, 0, 0...|     1988|     \\N|[Drama, Biography...| actress|[\\N, [\"Kitty Kier...|       Julia Roberts|tt0100405,tt03765...|\n",
            "|nm0000212|[tt0110099, tt132...|[movie, tvSeries,...|[I.Q., Der Kabel ...|[0, 0, 0, 0, 0, 0...|     1982|     \\N|[Comedy, Romance,...| actress|[[\"Catherine Boyd...|            Meg Ryan|tt0108160,tt01206...|\n",
            "|nm0000335|[tt0211181, tt010...|[movie, tvMovie, ...|[102 Dalmatians, ...|[0, 0, 0, 0, 0, 0...|     1975|     \\N|[Adventure, Comed...| actress|[[\"Cruella de Vil...|         Glenn Close|tt0094947,tt00930...|\n",
            "|nm0000391|[tt1340782, tt216...|[movie, tvEpisode...|[The Liar, Die an...|[0, 0, 0, 0, 0, 0...|     1982|     \\N|[Comedy, Drama, R...|   actor|[[\"Humphrey Biffe...|      Rupert Everett|tt0119738,tt01225...|\n",
            "|nm0000449|[tt0699212, tt028...|[tvEpisode, movie...|[Crossed Out, Rid...|[0, 0, 0, 0, 0, 0...|     1995|     \\N|[Action, Adventur...| actress|[[\"Cassie McBain\"...|  Natasha Henstridge|tt0190138,tt01145...|\n",
            "|nm0000512|[tt0116606, tt011...|[movie, movie, mo...|[If Lucy Fell, Si...|     [0, 0, 0, 0, 0]|     1994|     \\N|[Comedy, Romance,...| actress|[[\"Jane Lindquist...|     Elle Macpherson|tt0119051,tt01170...|\n",
            "|nm0000539|[tt0526228, tt069...|[tvEpisode, tvEpi...|[Feat of Clay, Th...|[0, 0, 0, 0, 0, 0...|     1995|     \\N|[Action, Adventur...| actress|[[\"Barbara Gordon...|          Dina Meyer|tt0253754,tt01134...|\n",
            "|nm0000598|[tt0331468, tt010...|[movie, movie, tv...|[Cold Creek Manor...|[0, 0, 0, 0, 0, 0...|     1978|     \\N|[Drama, Mystery, ...|   actor|[[\"Cooper Tilson\"...|        Dennis Quaid|tt0319262,tt02978...|\n",
            "|nm0000603|[tt0085107, tt008...|[tvMiniSeries, mo...|[Wagner, The Bost...|[0, 0, 0, 0, 0, 0...|     1958|     \\N|[Biography, Drama...| actress|[[\"Cosima von Bul...|    Vanessa Redgrave|tt0783233,tt13726...|\n",
            "|nm0000668|[tt8623904, tt010...|[movie, tvMovie, ...|[Last Christmas, ...|[0, 0, 0, 0, 0, 0...|     1982|     \\N|[Comedy, Drama, F...| actress|[[\"Petra\"], [\"Mar...|       Emma Thompson|tt2140373,tt03143...|\n",
            "|nm0000680|[tt0156976, tt024...|[tvMovie, tvSerie...|[Chasing Destiny,...|[0, 0, 0, 0, 0, 0...|     1991|     \\N|[Comedy, Drama, M...|   actor|[[\"Bobby Moritz\"]...|     Casper Van Dien|tt0120856,tt01202...|\n",
            "|nm0000696|[tt0667976, tt010...|[tvEpisode, movie...|[The Light Brigad...|[0, 0, 0, 0, 0, 0...|     1982|     \\N|[Drama, Fantasy, ...|   actor|[[\"Cadet\"], [\"Kip...|         Wil Wheaton|tt0103112,tt00924...|\n",
            "|nm0000717|[tt19866974, tt05...|[video, tvEpisode...|[StrangerSmart, P...|[0, 0, 0, 0, 0, 0...|     1978|     \\N|[Short, Comedy, S...|   actor|[\\N, [\"Kareem Abd...| Kareem Abdul-Jabbar|tt0089155,tt00803...|\n",
            "|nm0000751|[tt0119501, tt009...|[tvMovie, movie, ...|[Last Stand at Sa...|[0, 0, 0, 0, 0, 0...|     1987|     \\N|[Action, Drama, W...| actress|[[\"Martha Cable\"]...|           Suzy Amis|tt0120338,tt01148...|\n",
            "|nm0000924|[tt0642166, tt063...|[tvEpisode, tvEpi...|[Once More, with ...|[0, 0, 0, 0, 0, 0...|     1988|     \\N|[Comedy, Drama, A...| actress|[[\"Isabel\"], [\"Se...|   Elizabeth Berkley|tt0114436,tt02565...|\n",
            "|nm0000970|[tt0251886, tt010...|[tvMovie, tvSerie...|[Mystery Magical ...|[0, 0, 0, 0, 0, 0...|     1984|     \\N|[Family, Mystery,...|   actor|[[\"Jonathan\"], [\"...|    Jonathan Brandis|tt0104670,tt01002...|\n",
            "|nm0000999|[tt0693614, tt056...|[tvEpisode, tvEpi...|[All the Hard You...|[0, 0, 0, 0, 0, 0...|     1951|     \\N|[Drama, Comedy, D...|   actor|[[\"Joe Roganyan\"]...|         Red Buttons|tt0056059,tt00691...|\n",
            "|nm0001007|[tt0096001, tt006...|[tvEpisode, movie...|[Rock 'n' Roll Mo...|[0, 0, 0, 0, 0, 0...|     1958|     \\N|[Adventure, Drama...| actress|[[\"Annie Hackett\"...|         Dyan Cannon|tt0077663,tt00641...|\n",
            "|nm0001018|[tt5912078, tt007...|[tvEpisode, movie...|[The Linchpin, Ar...|[0, 0, 0, 0, 0, 0...|     1972|     \\N|[Drama, Thriller,...|   actor|[[\"President Conr...|     Keith Carradine|tt0073440,tt04098...|\n",
            "|nm0001046|[tt0055977, tt005...|[movie, movie, mo...|[The Fast Lady, D...|[0, 0, 0, 0, 0, 0...|     1961|     \\N|[Comedy, Drama, R...| actress|[[\"Claire Chingfo...|      Julie Christie|tt0060390,tt04917...|\n",
            "|nm0001131|[tt0091048, tt012...|[tvEpisode, movie...|[A Fighting Choic...|[0, 0, 0, 0, 0, 0...|     1986|     \\N|[Adventure, Drama...|   actor|[[\"Kellin Taylor\"...|     Patrick Dempsey|tt0413573,tt04617...|\n",
            "|nm0001159|[tt0062656, tt006...|[movie, movie, mo...|[Amanti, The Thom...|[0, 0, 0, 0, 0, 0...|     1966|     \\N|[Drama, Romance, ...| actress|[[\"Julia\"], [\"Vic...|        Faye Dunaway|tt0061418,tt00713...|\n",
            "|nm0001387|[tt0610939, tt176...|[tvEpisode, tvEpi...|[Down Memory Lane...|[0, 0, 0, 0, 0, 0...|     1988|     \\N|[Action, Adventur...| actress|[[\"Ogress\"], \\N, ...|       Kathy Ireland|tt0107659,tt01025...|\n",
            "|nm0001428|[tt0066132, tt006...|[movie, movie, mo...|[Nella stretta mo...|[0, 0, 0, 0, 0, 0...|     1961|     \\N|[Horror, Crime, D...|   actor|[[\"Edgar Allan Po...|        Klaus Kinski|tt0068182,tt00796...|\n",
            "|nm0001467|[tt0180093, tt011...|[movie, movie, mo...|[Requiem for a Dr...|[0, 0, 0, 0, 0, 0...|     1992|     \\N|[Drama, Drama, Ro...|   actor|[[\"Harry Goldfarb...|          Jared Leto|tt1386697,tt11214...|\n",
            "|nm0001478|[tt0592583, tt007...|[tvEpisode, tvMin...|[Here's Looking a...|[0, 0, 0, 0, 0, 0...|     1945|     \\N|[Adventure, Comed...| actress|[[\"Alice Davidson...|       June Lockhart|tt0039230,tt00389...|\n",
            "|nm0001498|[tt0117381, tt034...|[movie, video, tv...|[Primal Fear, Atl...|[0, 0, 0, 0, 0, 0...|     1982|     \\N|[Crime, Drama, My...|   actor|[[\"Shaughnessy\"],...|        John Mahoney|tt0093565,tt08171...|\n",
            "|nm0001512|[tt0096754, tt009...|[movie, movie, tv...|[The Abyss, The J...|[0, 0, 0, 0, 0, 0...|     1983|     \\N|[Adventure, Drama...| actress|[[\"Lindsey Brigma...|Mary Elizabeth Ma...|tt0102798,tt00967...|\n",
            "|nm0001546|[tt0642812, tt011...|[tvEpisode, tvMov...|[Don't Break the ...|[0, 0, 0, 0, 0, 0...|     1959|     \\N|[Comedy, Drama, C...| actress|[[\"Mary Richards\"...|    Mary Tyler Moore|tt0065314,tt00812...|\n",
            "|nm0001549|[tt1349047, tt046...|[tvEpisode, tvMov...|[Mid-Wife Crisis,...|[0, 0, 0, 0, 0, 0...|     1952|     \\N|[Comedy, Comedy, ...| actress|[[\"Violet Newstea...|         Rita Moreno|tt0055614,tt00494...|\n",
            "|nm0001557|[tt0106455, tt011...|[movie, movie, mo...|[Boiling Point, T...|[0, 0, 0, 0, 0, 0...|     1987|     \\N|[Action, Crime, D...|   actor|[[\"Ronnie\"], [\"Cl...|     Viggo Mortensen|tt0167261,tt35539...|\n",
            "|nm0001610|[tt1447168, tt013...|[tvEpisode, tvMov...|[All About My Mom...|[0, 0, 0, 0, 0, 0...|     1986|     \\N|[Comedy, Crime, D...| actress|[[\"Celia Hodes\"],...|   Elizabeth Perkins|tt5555260,tt04391...|\n",
            "|nm0001658|[tt0206045, tt007...|[tvMovie, tvSerie...|[Intertect, Lanig...|[0, 0, 0, 0, 0, 0...|     1960|     \\N|[Adventure, Crime...|   actor|[[\"Blake Holliste...|         Robert Reed|tt0075485,tt00755...|\n",
            "|nm0001664|[tt0102992, tt073...|[tvMovie, tvEpiso...|[Strangers, Das B...|[0, 0, 0, 0, 0, 0...|     1979|     \\N|[Drama, Romance, ...|   actor|[[\"Bernard (segme...|         James Remar|           tt0420896|\n",
            "|nm0001716|[tt0346645, tt092...|  [short, tvEpisode]|[Boy and Bicycle,...|              [0, 0]|     1965|     \\N|[Drama, Short, Bi...|   actor|   [[\"The Boy\"], \\N]|          Tony Scott|tt0108399,tt01162...|\n",
            "|nm0001745|[tt15825188, tt00...|[movie, tvMiniSer...|[What Remains, Vi...|[0, 0, 0, 0, 0, 0...|     1968|     \\N|[Crime, Drama, Dr...|   actor|[\\N, [\"Gregers We...|   Stellan Skarsgård|tt0118607,tt19373...|\n",
            "|nm0001818|[tt0271812, tt118...|[tvMovie, movie, ...|[Tagteam, Woodsho...|[0, 0, 0, 0, 0, 0...|     1981|     \\N|[Action, Crime, D...|   actor|[[\"Bobby Youngblo...|       Jesse Ventura|tt0093894,tt01186...|\n",
            "|nm0001886|[tt0069837, tt008...|[movie, movie, mo...|[Campa carogna......|[0, 0, 0, 0, 0, 0...|     1964|     \\N|[Adventure, Comed...|   actor|[[\"Lieutenant Jun...|         Howard Ross|tt0070023,tt00612...|\n",
            "|nm0001922|[tt0078614, tt002...|[tvMiniSeries, mo...|[The French Atlan...|[0, 0, 0, 0, 0, 0...|     1931|     \\N|[Adventure, Drama...|   actor|[[\"Chief Jean-Cla...|  Jean-Pierre Aumont|tt0228319,tt00460...|\n",
            "|nm0001957|[tt0081849, tt004...|[tvSeries, short,...|[Darkroom, The St...|[0, 0, 0, 0, 0, 0...|     1946|     \\N|[Fantasy, Horror,...|   actor|[[\"Dr. John Micha...|       Lloyd Bochner|tt0057015,tt00621...|\n",
            "|nm0001973|[tt3896246, tt100...|[video, tvMovie, ...|[Safety in Paradi...|     [0, 0, 0, 0, 0]|     1981|     \\N|[Short, Documenta...| actress|[[\"Sports Illustr...|   Christie Brinkley|tt0120434,tt01034...|\n",
            "|nm0002087|[tt0112382, tt008...|[tvMovie, movie, ...|[Anything for Joh...|[0, 0, 0, 0, 0, 0...|     1982|     \\N|[Documentary, Dra...|   actor|[\\N, [\"Joe\"], [\"S...|       Samuel Fuller|tt0046187,tt00440...|\n",
            "|nm0002093|[tt0031845, tt166...|[movie, short, mo...|[Remember?, Inasm...|[0, 0, 0, 0, 0, 0...|     1934|     \\N|[Comedy, Romance,...| actress|[[\"Linda Bronson\"...|        Greer Garson|tt0035093,tt00313...|\n",
            "|nm0002100|[tt0430224, tt207...|[movie, movie, tv...|[L'enfer, Quand t...|[0, 0, 0, 0, 0, 0...|     1991|     \\N|[Drama, Comedy, D...| actress|[[\"Anne\"], [\"Elis...|       Marie Gillain|tt0115478,tt01024...|\n",
            "|nm0002108|[tt0717437, tt004...|[tvEpisode, movie...|[Depart in Peace,...|[0, 0, 0, 0, 0, 0...|     1944|     \\N|[Comedy, Drama, H...| actress|[[\"Gladys\"], [\"Pr...|      Gloria Grahame|tt0044391,tt00425...|\n",
            "|nm0002180|[tt4159474, tt635...|[movie, tvEpisode...|[Furio Scarpelli:...|[0, 0, 0, 0, 0, 0...|     1978|     \\N|[Documentary, Dra...| actress|[\\N, [\"Ottilia\"],...| Francesca Archibugi|tt0095633,tt12610...|\n",
            "|nm0002369|[tt0612759, tt022...|[tvEpisode, tvMov...|[The Funeral Is o...|[0, 0, 0, 0, 0, 0...|     1954|     \\N|[Action, Adventur...|   actor|[[\"Col. Waldebroo...|       John Williams|tt0046912,tt00474...|\n",
            "|nm0002436|[tt0551545, tt025...|[tvEpisode, movie...|[Babe Magnet, Ame...|[0, 0, 0, 0, 0, 0...|     1999|     \\N|[Comedy, Comedy, ...| actress|[[\"Tiffany Sherwo...|   Shannon Elizabeth|tt0314331,tt01636...|\n",
            "|nm0002588|[tt2196449, tt008...|[tvEpisode, movie...|[Aflevering 21, A...|[0, 0, 0, 0, 0, 0...|     1966|     \\N|[Drama, Comedy, D...|   actor|[[\"Hans Maasland\"...|        Glenn Saxson|tt0061582,tt01884...|\n",
            "|nm0002725|         [tt1550667]|             [movie]|       [Tom's Phone]|                 [0]|     2009|     \\N|            [Comedy]|   actor|           [[\"Tom\"]]|         Eric Yellin|tt12611178,tt0411...|\n",
            "|nm0002792|         [tt0244734]|           [tvMovie]|     [The Professor]|                 [0]|     1958|     \\N|    [Horror, Sci-Fi]|   actor|  [[\"The Werewolf\"]]|         Doug Hobart|tt0065727,tt00716...|\n",
            "|nm0003037|[tt0218895, tt089...|[tvMovie, tvEpisode]|[Commedia: Cookin...|              [0, 0]|     1998|     \\N|[\\N, Crime, Docum...|   actor|[[\"Sergio\"], [\"Fr...|         Egidio Tari|tt1694893,tt31482...|\n",
            "|nm0003073|[tt5866118, tt937...|[movie, movie, tv...|[Arno: Dancing In...|[0, 0, 0, 0, 0, 0...|     1987|     \\N|[Documentary, Mus...|   actor|[\\N, \\N, \\N, [\"Ar...|                Arno|tt0953318,tt34564...|\n",
            "|nm0003096|[tt0211423, tt022...|[movie, movie, tv...|[House of the Gen...|           [0, 0, 0]|     2000|     \\N| [Drama, \\N, Family]| actress|[[\"Liza Kharacter...|     Jennifer Harris|tt0377263,tt02114...|\n",
            "|nm0003159|[tt0153615, tt015...|      [movie, short]|[W le donne, Il b...|              [0, 0]|     1951|     \\N|[Comedy, Musical,...|   actor|[[\"Captain Lucian...|    Luciano Fineschi|tt0153511,tt01386...|\n",
            "|nm0003858|         [tt0307129]|             [short]|[The Man with No ...|                 [0]|     2001|     \\N|[Sci-Fi, Short, W...|   actor|      [[\"Stranger\"]]|         Mel Stewart|tt0246108,tt03071...|\n",
            "|nm0004146|[tt0158431, tt085...|[tvMiniSeries, tv...|[Siunattu hulluus...|[0, 0, 0, 0, 0, 0...|     1969|     \\N|[Comedy, Drama, C...|   actor|[[\"Ananias 'Ana' ...|    Mikko Nousiainen|tt0120427,tt01241...|\n",
            "|nm0004286|[tt0788824, tt219...|[tvEpisode, video...|[I Ain't Goin' to...|[0, 0, 0, 0, 0, 0...|     1991|     \\N|[Crime, Drama, Th...|   actor|[[\"Jack \\\"Bump\\\" ...| Clifton Collins Jr.|tt0181865,tt07963...|\n",
            "|nm0004292|[tt0035963, tt005...|[movie, movie, mo...|[Hamari Baat, Ek ...|[0, 0, 0, 0, 0, 0...|     1943|     \\N|[\\N, Comedy, Dram...|   actor|[\\N, [\"Shekhar\"],...|          Raj Kapoor|tt0066070,tt00585...|\n",
            "|nm0004387|[tt0249289, tt024...|[tvSeries, movie,...|[Don Rotten, Lett...|           [0, 0, 0]|     1992|     \\N| [\\N, \\N, Animation]| actress|[[\"Anna\",\"Julius\"...|        Helmi Sirkiä|tt0249289,tt02471...|\n",
            "|nm0004462|[tt0062633, tt004...|[movie, movie, mo...|[Un homme à abatt...|[0, 0, 0, 0, 0, 0...|     1955|     \\N|[Drama, Thriller,...|   actor|[[\"Raphael\"], [\"Y...|Jean-Louis Trinti...|tt0065571,tt16026...|\n",
            "|nm0004517|[tt0567003, tt011...|[tvEpisode, movie...|[Research and Des...|[0, 0, 0, 0, 0, 0...|     1980|     \\N|[Adventure, Anima...|   actor|[[\"Eric Duckman\"]...|     Jason Alexander|tt0116583,tt01065...|\n",
            "|nm0004645|[tt0129992, tt011...|[movie, tvMovie, ...|[High Voltage, If...|[0, 0, 0, 0, 0, 0...|     1990|     \\N|[Action, Crime, T...|   actor|[[\"Johnny Clay\"],...|  Antonio Sabato Jr.|tt0329589,tt13366...|\n",
            "|nm0004769|[tt11924842, tt14...|[short, video, tv...|[Jimmy's Story, S...|[0, 0, 0, 0, 0, 0...|     1957|     \\N|[Short, Animation...|   actor|[\\N, [\"Shepherd\"]...|           Pat Boone|tt0102266,tt03481...|\n",
            "|nm0004831|[tt0118829, tt073...|[movie, tvEpisode...|[Cats Don't Dance...|[0, 0, 0, 0, 0, 0...|     1956|     \\N|[Animation, Comed...| actress|[[\"Sawyer\"], [\"Me...|        Natalie Cole|tt0100405,tt03167...|\n",
            "|nm0004849|[tt1950116, tt442...|[tvSpecial, movie...|[Crosby-Nash Live...|[0, 0, 0, 0, 0, 0...|     1965|     \\N|[Music, Documenta...|   actor|[\\N, \\N, \\N, [\"Si...|        David Crosby|tt0101393,tt19501...|\n",
            "|nm0004913|[tt0246928, tt062...|[tvMovie, tvEpiso...|[Siempre piel can...|[0, 0, 0, 0, 0, 0...|     1971|     \\N|[\\N, Adventure, D...|   actor|[[\"Singer\"], [\"Jo...|      José Feliciano|tt0203009,tt00782...|\n",
            "|nm0004975|[tt4921708, tt208...|[movie, movie, tv...|[Cardboard Boxer,...|[0, 0, 0, 0, 0, 0...|     2001|     \\N|[Drama, Action, C...| actress|[[\"Den Mother\"], ...|           Macy Gray|tt0421054,tt01396...|\n",
            "|nm0005085|[tt0552445, tt014...|[tvEpisode, movie...|[Episode dated 2 ...|[0, 0, 0, 0, 0, 0...|     1994|     \\N|[Comedy, News, Ta...|   actor|[\\N, [\"Banyon\"], ...|       Jamie Kennedy|tt0328099,tt01200...|\n",
            "|nm0005146|        [tt22073084]|         [tvEpisode]|      [Episode #5.7]|                 [0]|     2022|     \\N|         [Talk-Show]| actress|                [\\N]|         Lisa Leslie|tt0115101,tt16210...|\n",
            "|nm0005152|[tt0146390, tt065...|[tvMiniSeries, tv...|[Secrets, A Seat ...|[0, 0, 0, 0, 0, 0...|     1965|     \\N|[Drama, Action, C...| actress|[[\"Olivia Owens\"]...|        Peggy Lipton|tt0119925,tt00989...|\n",
            "|nm0005233|[tt0578654, tt027...|[tvEpisode, movie...|[And to All a Goo...|[0, 0, 0, 0, 0, 0...|     1996|     \\N|[Drama, Romance, ...| actress|[[\"Elena Tyler\"],...|        Tangi Miller|tt0455612,tt01342...|\n",
            "|nm0005252|         [tt0244718]|             [short]|              [Pool]|                 [0]|     1995|     \\N|             [Short]| actress|     [[\"Debutante\"]]|      Catherine Moss|           tt0244718|\n",
            "|nm0005276|[tt1336916, tt423...|[tvEpisode, tvEpi...|[Sink or Swim, Pa...|[0, 0, 0, 0, 0, 0...|     1991|     \\N|[Comedy, Biograph...|   actor|[[\"Adrian Peterma...|     Jack Noseworthy|tt2815030,tt01062...|\n",
            "|nm0005280|[tt1098047, tt010...|[tvEpisode, movie...|[The Prowler, Ano...|[0, 0, 0, 0, 0, 0...|     1991|     \\N|[Comedy, Comedy, ...| actress|[[\"Lorraine Popow...|     Rosie O'Donnell|tt0120855,tt01046...|\n",
            "|nm0005313|[tt0285175, tt228...|[movie, video, mo...|[Havoc, Sweetest ...|[0, 0, 0, 0, 0, 0...|     2001|     \\N|[Crime, Drama, Mu...| actress|[[\"Emily\"], \\N, [...|      Bijou Phillips|tt0498353,tt02421...|\n",
            "|nm0005314|[tt0452567, tt584...|[tvSeries, tvSeri...|[Strictly Sex wit...|[0, 0, 0, 0, 0, 0...|     2004|     \\N|[\\N, Documentary,...|   actor|[[\"Host\"], [\"Medi...|         Drew Pinsky|tt0363282,tt11147...|\n",
            "|nm0005335|[tt0738601, tt073...|[tvEpisode, tvEpi...|[Magnificent Val,...|[0, 0, 0, 0, 0, 0...|     1998|     \\N|[Action, Comedy, ...| actress|[[\"Nikki Franco\"]...|     Natalie Raitano|tt0816263,tt04460...|\n",
            "|nm0005410|[tt1268733, tt226...|[tvEpisode, tvEpi...|[A Holiday Surpri...|           [0, 0, 0]|     1996|     \\N|[Talk-Show, Comed...|   actor|[\\N, [\"Musical Gu...|        Brian Setzer|tt0093378,tt01104...|\n",
            "|nm0005450|[tt2871776, tt011...|[movie, movie, mo...|[Shou Hu Zhe Sen ...|[0, 0, 0, 0, 0, 0...|     1990|     \\N|[Adventure, Anima...|   actor|[[\"Boss Cain\"], [...|         David Spade|tt0245686,tt01146...|\n",
            "|nm0005499|[tt0076301, tt063...|[movie, tvEpisode...|[The Late Show, U...|[0, 0, 0, 0, 0, 0...|     1967|     \\N|[Comedy, Mystery,...| actress|[[\"Margo Sterling...|         Lily Tomlin|tt4270516,tt00868...|\n",
            "|nm0005514|[tt0601263, tt067...|[tvEpisode, tvEpi...|[Down South, Epis...|[0, 0, 0, 0, 0, 0...|     1983|     \\N|[Comedy, Crime, M...| actress|[[\"Maddy\",\"Madele...| Kim Johnston Ulrich|tt0460681,tt01929...|\n",
            "|nm0005543|[tt9032562, tt065...|[tvMovie, tvEpiso...|[Homegrown Christ...|[0, 0, 0, 0, 0, 0...|     2000|     \\N|[Romance, Action,...|   actor|[[\"Carter Allen\"]...|      Victor Webster|tt6143796,tt09862...|\n",
            "|nm0005547|[tt0596925, tt100...|[tvEpisode, tvEpi...|[Pilot, Celebrity...|[0, 0, 0, 0, 0, 0...|     1994|     \\N|[Comedy, Sport, C...| actress|[[\"Lee Emory\"], [...| Alexandra Wentworth|tt0151804,tt12304...|\n",
            "|nm0005555|[tt1961313, tt151...|[movie, movie, tv...|[Faultline, Uncor...|[0, 0, 0, 0, 0, 0...|     1984|     \\N|[Documentary, Dra...| actress|[[\"Anna\"], [\"Kitt...|        Anna Wilding|tt1961313,tt16279...|\n",
            "|nm0005883|         [tt1552661]|             [movie]|    [Dante Spinotti]|                 [0]|     1993|     \\N|       [Documentary]|   actor|                [\\N]|      Dante Spinotti|tt0113277,tt01403...|\n",
            "|nm0006198|         [tt0466476]|             [video]|[Queen: The Works...|                 [0]|     1984|     \\N|             [Music]|   actor|   [[\"Lead Vocals\"]]|     Freddie Mercury|tt0203009,tt00807...|\n",
            "|nm0006489|[tt0177860, tt016...|[movie, movie, mo...|[Im pokoryaetsya ...|[0, 0, 0, 0, 0, 0...|     1956|     \\N|[Drama, Comedy, C...|   actor|[[\"Aleksey Kolchi...|    Nikolay Rybnikov|tt0059884,tt01346...|\n",
            "|nm0006766|[tt6929026, tt082...|[tvEpisode, tvEpi...|[Shutdown Part 2,...|[0, 0, 0, 0, 0, 0...|     1992|     \\N|[Action, Drama, C...|   actor|[[\"Dr. Daniel Fer...|        Deepak Verma|tt2249786,tt18083...|\n",
            "|nm0006945|[tt2159067, tt010...|[tvEpisode, tvEpi...|[Episode #1.2, Ap...|[0, 0, 0, 0, 0, 0...|     1979|     \\N|[Drama, Thriller,...|   actor|[[\"Altenburg\"], [...|       Helmut Berger|tt0100244,tt08069...|\n",
            "|nm0006977|         [tt1430892]|         [tvEpisode]|[The Dangerous Ai...|                 [0]|     1970|     \\N|             [Drama]|   actor|   [[\"David Clark\"]]|      Chris Connolly| tt0053510,tt0092066|\n",
            "|nm0007108|[tt0836739, tt043...|[tvSeries, tvSeri...|[Wall Street Jour...|     [0, 0, 0, 0, 0]|     1990|     \\N|[Reality-TV, Docu...| actress|[[\"Program Host\"]...|        Robin Dorian|tt0112112,tt02609...|\n",
            "|nm0007150|[tt0608668, tt073...|[tvEpisode, tvEpi...|[Women Write Stor...|[0, 0, 0, 0, 0, 0...|     1961|     \\N|[Comedy, Drama, D...|   actor|[[\"Dixon Carter F...|     Charles Siebert|tt0077355,tt01122...|\n",
            "|nm0007306|[tt0032089, tt002...|[movie, movie, mo...|[Valfångare, En g...|  [0, 0, 0, 0, 0, 0]|     1917|     \\N|[Drama, Drama, Co...|   actor|[[\"Jensen Sr.\"], ...|          Hauk Aabel|tt0024194,tt00185...|\n",
            "|nm0007333|         [tt9130232]|             [short]|              [Pure]|                 [0]|     2018|     \\N|      [Drama, Short]| actress|         [[\"Susan\"]]|       Laura Aagaard| tt0247993,tt9130232|\n",
            "+---------+--------------------+--------------------+--------------------+--------------------+---------+-------+--------------------+--------+--------------------+--------------------+--------------------+\n",
            "only showing top 100 rows\n",
            "\n",
            "CPU times: user 9.29 ms, sys: 3.01 ms, total: 12.3 ms\n",
            "Wall time: 811 ms\n"
          ]
        }
      ]
    },
    {
      "cell_type": "code",
      "source": [
        "data.createOrReplaceTempView(\"data\");"
      ],
      "metadata": {
        "id": "8DwUFZZ4hl-w"
      },
      "execution_count": 12,
      "outputs": []
    },
    {
      "cell_type": "code",
      "source": [
        "spark.sql(\"\"\"select COUNT( DISTINCT nconst)as IDs, COUNT(nconst) as l_aktorow\n",
        "FROM data\"\"\").show()\n",
        "#wniosek - nie ma duplikatów"
      ],
      "metadata": {
        "id": "KrcipOW2pu2C",
        "outputId": "13a3f846-0853-423c-ceb6-1f2e1820a16b",
        "colab": {
          "base_uri": "https://localhost:8080/"
        }
      },
      "execution_count": 26,
      "outputs": [
        {
          "output_type": "stream",
          "name": "stdout",
          "text": [
            "+-------+---------+\n",
            "|    IDs|l_aktorow|\n",
            "+-------+---------+\n",
            "|2013276|  2013276|\n",
            "+-------+---------+\n",
            "\n"
          ]
        }
      ]
    },
    {
      "cell_type": "code",
      "source": [
        "#To samo dla pozostałych kolumn\n",
        "spark.sql(\"\"\"select COUNT( DISTINCT category) as category, COUNT( DISTINCT primaryName) as primaryName, COUNT(primaryName) as l_wystapien\n",
        "FROM data\"\"\").show()"
      ],
      "metadata": {
        "id": "EBhxcXVbwR3P",
        "outputId": "80fd4e4e-39bc-45a0-90e4-99fc0859f73c",
        "colab": {
          "base_uri": "https://localhost:8080/"
        }
      },
      "execution_count": 35,
      "outputs": [
        {
          "output_type": "stream",
          "name": "stdout",
          "text": [
            "+--------+-----------+-----------+\n",
            "|category|primaryName|l_wystapien|\n",
            "+--------+-----------+-----------+\n",
            "|       2|    1806848|    2013276|\n",
            "+--------+-----------+-----------+\n",
            "\n"
          ]
        }
      ]
    },
    {
      "cell_type": "code",
      "source": [
        "spark.sql(\"\"\"SELECT primaryName, COUNT(*) as l_wystapien\n",
        "FROM data\n",
        "GROUP BY primaryName\n",
        "HAVING COUNT(*) > 1\n",
        "ORDER BY l_wystapien DESC\"\"\").show(150)"
      ],
      "metadata": {
        "id": "r9KvL5yJuHvs",
        "outputId": "3813a9a8-9767-4257-8075-f4740543eef2",
        "colab": {
          "base_uri": "https://localhost:8080/"
        }
      },
      "execution_count": 49,
      "outputs": [
        {
          "output_type": "stream",
          "name": "stdout",
          "text": [
            "+---------------+-----------+\n",
            "|    primaryName|l_wystapien|\n",
            "+---------------+-----------+\n",
            "|           Alex|        120|\n",
            "|           Anna|        113|\n",
            "|          Angel|         95|\n",
            "|          Maria|         84|\n",
            "|        Sabrina|         84|\n",
            "|         Nicole|         80|\n",
            "|        Jessica|         78|\n",
            "|       Michelle|         78|\n",
            "|            Eva|         77|\n",
            "|         Monica|         77|\n",
            "|         Sandra|         73|\n",
            "|          Jenny|         72|\n",
            "|           Mike|         72|\n",
            "|        Vanessa|         71|\n",
            "|          David|         69|\n",
            "|          Chris|         68|\n",
            "|           Lisa|         67|\n",
            "|        Jasmine|         66|\n",
            "|        Claudia|         65|\n",
            "|          Amber|         64|\n",
            "|          Julia|         63|\n",
            "|         Andrea|         62|\n",
            "|         Daniel|         61|\n",
            "|           Gina|         61|\n",
            "|          James|         60|\n",
            "|           Lola|         60|\n",
            "|         Carmen|         60|\n",
            "|          Nikki|         59|\n",
            "|       Samantha|         58|\n",
            "|        Charlie|         58|\n",
            "|           John|         58|\n",
            "|       Victoria|         58|\n",
            "|          Linda|         58|\n",
            "|            Max|         57|\n",
            "|        Tiffany|         56|\n",
            "|          Laura|         56|\n",
            "|          Kelly|         56|\n",
            "|          Diana|         56|\n",
            "|          Cindy|         55|\n",
            "|          Sarah|         55|\n",
            "|       Angelina|         55|\n",
            "|        Natasha|         54|\n",
            "|           Nina|         54|\n",
            "|       Jennifer|         54|\n",
            "|          Bella|         53|\n",
            "|        Melissa|         53|\n",
            "|      Christina|         53|\n",
            "|         Ashley|         53|\n",
            "|          Jason|         52|\n",
            "|           Tony|         52|\n",
            "|           Jana|         52|\n",
            "|           Tina|         52|\n",
            "|          Kitty|         52|\n",
            "|          Candy|         52|\n",
            "|           Tara|         51|\n",
            "|           Lucy|         51|\n",
            "|        Michael|         51|\n",
            "|           Nick|         51|\n",
            "|         Rachel|         50|\n",
            "|      Alexandra|         50|\n",
            "|           Sara|         50|\n",
            "|         Bianca|         50|\n",
            "|         Angela|         50|\n",
            "|       Danielle|         50|\n",
            "|           Mary|         50|\n",
            "|         Monika|         49|\n",
            "|            Kim|         49|\n",
            "|            Sam|         49|\n",
            "|        Melanie|         49|\n",
            "|            Jay|         49|\n",
            "|         Thomas|         48|\n",
            "|        Crystal|         48|\n",
            "|         Alexis|         48|\n",
            "|          Sasha|         47|\n",
            "|            Mia|         47|\n",
            "|           Jack|         47|\n",
            "|          Peter|         46|\n",
            "|          Erika|         46|\n",
            "|        Natalie|         46|\n",
            "|         Amanda|         44|\n",
            "|      Stephanie|         44|\n",
            "|        Barbara|         44|\n",
            "|          Anita|         43|\n",
            "|Michael Johnson|         43|\n",
            "|           Jane|         43|\n",
            "|           Josh|         43|\n",
            "|          Rahul|         42|\n",
            "|    David Brown|         42|\n",
            "|         Karina|         42|\n",
            "|           Jake|         42|\n",
            "|          Sandy|         42|\n",
            "|           Paul|         41|\n",
            "|          Mandy|         41|\n",
            "|           Jade|         41|\n",
            "|           Rita|         41|\n",
            "|          Marco|         41|\n",
            "|          Jamie|         40|\n",
            "|       Patricia|         40|\n",
            "|           Dave|         39|\n",
            "|          Marie|         39|\n",
            "|        Monique|         39|\n",
            "|         Ginger|         39|\n",
            "|            Joe|         38|\n",
            "|          Karen|         38|\n",
            "|          Heidi|         38|\n",
            "|            Amy|         38|\n",
            "|        Heather|         38|\n",
            "|          Daisy|         37|\n",
            "|          Alice|         37|\n",
            "|  Michael Davis|         37|\n",
            "|         Jordan|         37|\n",
            "|          Kevin|         37|\n",
            "|         Pamela|         37|\n",
            "|  Chris Johnson|         37|\n",
            "|           Lena|         37|\n",
            "|          Naomi|         36|\n",
            "|         Justin|         36|\n",
            "|          Chloe|         36|\n",
            "|         Johnny|         36|\n",
            "|       Veronica|         36|\n",
            "|         Lauren|         36|\n",
            "|            Tom|         36|\n",
            "|           Eric|         36|\n",
            "|         Sophia|         36|\n",
            "|         Simone|         36|\n",
            "|         Sophie|         35|\n",
            "|           Emma|         35|\n",
            "|           Roxy|         35|\n",
            "|           Mona|         35|\n",
            "|          Honey|         35|\n",
            "|           Maya|         35|\n",
            "|    Chris Brown|         35|\n",
            "|          Tanya|         35|\n",
            "|          Angie|         35|\n",
            "|           Lana|         35|\n",
            "|          Petra|         35|\n",
            "|         Taylor|         34|\n",
            "|          Bruno|         34|\n",
            "|            Ben|         34|\n",
            "|           Mark|         34|\n",
            "|        Martina|         34|\n",
            "|          Sunny|         34|\n",
            "|        Anthony|         34|\n",
            "|          Betty|         34|\n",
            "|           Kate|         34|\n",
            "|          Vicky|         34|\n",
            "|          Steve|         34|\n",
            "|         Morgan|         34|\n",
            "|    James Smith|         33|\n",
            "|         Claire|         33|\n",
            "+---------------+-----------+\n",
            "only showing top 150 rows\n",
            "\n"
          ]
        }
      ]
    },
    {
      "cell_type": "code",
      "source": [
        "spark.sql(\"\"\"SELECT * from data where primaryName = 'Alex'\"\"\").show(50)"
      ],
      "metadata": {
        "id": "cxM9S_iJ_PQm",
        "outputId": "16af7e34-439b-4b55-ec73-9a984f8c0428",
        "colab": {
          "base_uri": "https://localhost:8080/"
        }
      },
      "execution_count": 47,
      "outputs": [
        {
          "output_type": "stream",
          "name": "stdout",
          "text": [
            "+----------+--------------------+--------------------+--------------------+--------------------+---------+-------+--------------------+--------+--------------------+-----------+--------------------+\n",
            "|    nconst|              tconst|           titleType|       originalTitle|             isAdult|startYear|endYear|              genres|category|          characters|primaryName|      knownForTitles|\n",
            "+----------+--------------------+--------------------+--------------------+--------------------+---------+-------+--------------------+--------+--------------------+-----------+--------------------+\n",
            "|nm11906448|[tt15214950, tt14...|[tvEpisode, tvEpi...|[If Ores Grew On ...|           [0, 0, 0]|     2014|     \\N|[Action, Adventur...|   actor|[[\"Futurian Robot...|       Alex|          tt14187980|\n",
            "| nm8820071|         [tt6590612]|         [tvEpisode]|[Clowns ohne Gren...|                 [0]|     2015|     \\N|            [Comedy]|   actor|[[\"Clown (Clowns ...|       Alex|           tt3137534|\n",
            "| nm8972400|         [tt6857440]|         [tvEpisode]| [Mean Girls Part 2]|                 [1]|     2017|     \\N|             [Adult]|   actor|                [\\N]|       Alex|           tt6473028|\n",
            "|nm11022590|        [tt10991024]|         [tvEpisode]|     [THE TAKEOVER!]|                 [0]|     2011|     \\N|            [Comedy]|   actor|                [\\N]|       Alex|                  \\N|\n",
            "| nm1341449|         [tt0358664]|             [video]|[Red Assed Lap Da...|                 [1]|     2002|     \\N|                [\\N]| actress|                [\\N]|       Alex|           tt0358664|\n",
            "| nm7589368|         [tt3273474]|             [video]|       [Dare Dorm 4]|                 [1]|     2010|     \\N|             [Adult]|   actor|                [\\N]|       Alex|           tt3273474|\n",
            "| nm8437363|         [tt6061572]|             [video]|      [The Au Pairs]|                 [1]|     2014|     \\N|    [Adult, Romance]| actress|          [[\"Alex\"]]|       Alex|           tt6061572|\n",
            "| nm2417289|         [tt0889189]|             [video]|   [Game Room Spank]|                 [1]|     2005|     \\N|             [Adult]| actress|                [\\N]|       Alex| tt0853160,tt0889189|\n",
            "|nm11756012|         [tt6346216]|         [tvEpisode]|          [Flamingo]|                 [1]|     2012|     \\N|             [Adult]|   actor|                [\\N]|       Alex|           tt6137286|\n",
            "|nm12259668|[tt16744940, tt21...|[tvEpisode, tvEpi...|[Vikkstar and the...|[0, 0, 0, 0, 0, 0...|     2019|     \\N|[Action, Adventur...|   actor|[[\"Technoblade\"],...|       Alex|tt14726182,tt1390...|\n",
            "| nm2093564|         [tt0488669]|             [video]|       [Well Suited]|                 [1]|     2003|     \\N|             [Adult]|   actor|                [\\N]|       Alex|           tt0488669|\n",
            "| nm2853466|        [tt12784128]|         [tvEpisode]|       [Alex's Solo]|                 [1]|     2011|     \\N|             [Adult]|   actor|                [\\N]|       Alex|tt6352530,tt12778...|\n",
            "| nm7520304|         [tt4943332]|             [video]|  [TIMJack Volume 3]|                 [1]|     2015|     \\N|             [Adult]|   actor|                [\\N]|       Alex|           tt4943332|\n",
            "| nm8743504|[tt1904917, tt647...|[video, video, vi...|[Her First MILF 1...|           [1, 1, 1]|     2010|     \\N|[Adult, Adult, Ad...| actress|        [\\N, \\N, \\N]|       Alex|tt22876100,tt1904...|\n",
            "| nm3592097|         [tt1295065]|             [movie]|[A Esperança Está...|                 [0]|     2009|     \\N|             [Drama]|   actor|[[\"Miúdo no bairr...|       Alex|           tt1295065|\n",
            "| nm8632630|         [tt6317188]|         [tvEpisode]|[Klara & Alex in:...|                 [1]|     2016|     \\N|             [Adult]| actress|                [\\N]|       Alex|           tt5989698|\n",
            "| nm9096441|         [tt7075258]|         [tvEpisode]|     [Smiling Faces]|                 [1]|     2002|     \\N|             [Adult]|   actor|                [\\N]|       Alex|           tt6610786|\n",
            "| nm9147804|         [tt7164532]|             [video]|[Sex Thick & Chun...|                 [1]|     1997|     \\N|             [Adult]|   actor|                [\\N]|       Alex|           tt7164532|\n",
            "|nm11341144|        [tt11764586]|             [movie]|[This is (not) an...|                 [0]|     2020|     \\N|            [Comedy]|   actor| [[\"Not (an) Alex\"]]|       Alex|                  \\N|\n",
            "| nm8908102|         [tt6753904]|             [video]|[The Great Detent...|                 [0]|     2012|     \\N|[Comedy, Family, ...|   actor|       [[\"Student\"]]|       Alex|           tt6753904|\n",
            "| nm9466616|        [tt12660738]|         [tvEpisode]| [O Golpe - Parte 1]|                 [1]|     2014|     \\N|             [Adult]|   actor|                [\\N]|       Alex|tt12655098,tt7712170|\n",
            "|nm11560617|        [tt12278880]|         [tvEpisode]|  [Czech Hunter 133]|                 [1]|     2014|     \\N|             [Adult]|   actor|                [\\N]|       Alex|           tt4598086|\n",
            "|nm12067646|        [tt14734304]|         [tvEpisode]|[Teen Wakes Up, G...|                 [1]|     2020|     \\N|             [Adult]|   actor|                [\\N]|       Alex|          tt11865742|\n",
            "|nm13237424|        [tt16550252]|         [tvEpisode]|[Der verfickte Be...|                 [1]|     2019|     \\N|             [Adult]|   actor|                [\\N]|       Alex|           tt7755316|\n",
            "|nm11288224|        [tt11644858]|          [tvSeries]|[Diamond Dealers ...|                 [0]|     2020|     \\N|             [Drama]|   actor|       [[\"Rudeboy\"]]|       Alex|                  \\N|\n",
            "|nm11529964|[tt13556488, tt13...|[tvEpisode, tvEpi...|[Daddy Weekend Re...|              [1, 1]|     2010|     \\N|      [Adult, Adult]|   actor|            [\\N, \\N]|       Alex|                  \\N|\n",
            "|nm11608727|[tt12386590, tt14...|[tvEpisode, tvSpe...|[Alex, Manspreadi...|              [1, 0]|     2005|     \\N|[Adult, Documentary]| actress| [\\N, [\"Druckerin\"]]|       Alex|tt6268790,tt14412810|\n",
            "|nm13423180|[tt18297638, tt18...|[tvEpisode, tvEpi...|[Kimberly Rides A...|[1, 1, 1, 1, 1, 1...|     2016|     \\N|[Adult, Adult, Ad...|   actor|[\\N, \\N, \\N, \\N, ...|       Alex|          tt11126150|\n",
            "| nm1530844|[tt0445452, tt039...|      [video, video]|[Hustler: Anal In...|              [1, 1]|     2002|     \\N|      [Adult, Adult]|   actor|            [\\N, \\N]|       Alex|tt0396226,tt04454...|\n",
            "| nm2825594|         [tt1134559]|             [video]|     [Chicago Squid]|                 [1]|     2000|     \\N|             [Adult]|   actor|                [\\N]|       Alex|           tt1134559|\n",
            "| nm9894608|         [tt8528652]|         [tvEpisode]|              [Alex]|                 [1]|     2002|     \\N|             [Adult]| actress|                [\\N]|       Alex|           tt6268790|\n",
            "|nm10012289|[tt8767922, tt153...|      [short, movie]|[The Last Wish, T...|              [0, 0]|     2019|     \\N|[Drama, Short, Ac...|   actor|[[\"Raj Friend (ma...|       Alex|           tt8767922|\n",
            "|nm13259809|[tt16756990, tt16...|[tvEpisode, tvEpi...|[Bathroom Bitch, ...|              [1, 1]|     2014|     \\N|[Adult, Short, Ad...|   actor|            [\\N, \\N]|       Alex|                  \\N|\n",
            "| nm1914490|         [tt0458808]|             [video]|       [Lesbo 101 3]|                 [1]|     2004|     \\N|             [Adult]| actress|                [\\N]|       Alex|           tt0458808|\n",
            "| nm5325177|         [tt2456760]|             [video]|[Auditions 27: Mi...|                 [1]|     2008|     \\N|             [Adult]|   actor|                [\\N]|       Alex|           tt2456760|\n",
            "| nm1015910|[tt0413478, tt012...|[video, video, vi...|[Wet Teens 4, Wil...|[1, 1, 1, 1, 1, 1...|     1992|     \\N|[Adult, Adult, Ad...|   actor|[\\N, \\N, \\N, \\N, ...|       Alex|tt1086849,tt04222...|\n",
            "| nm2400063|         [tt0871997]|             [video]|[His First Facial...|                 [1]|     2006|     \\N|             [Adult]|   actor|                [\\N]|       Alex|           tt0871997|\n",
            "| nm4547831|         [tt1995500]|             [short]|[Zombie Surge-Swe...|                 [0]|     2011|     \\N|     [Action, Short]|   actor|          [[\"Alex\"]]|       Alex|           tt1995500|\n",
            "| nm5394334|[tt2545100, tt254...|[video, video, vi...|[Ekpaidevontas ti...|           [1, 1, 1]|     2007|     \\N|[Adult, Adult, Ad...|   actor|        [\\N, \\N, \\N]|       Alex|tt2545126,tt25451...|\n",
            "| nm8959855|         [tt6416676]|             [movie]|        [Em chua 18]|                 [0]|     2017|     \\N|[Comedy, Drama, R...|   actor|          [[\"Dung\"]]|       Alex|           tt6416676|\n",
            "|nm11504318|[tt12379294, tt12...|[tvEpisode, tvEpi...|[Unprepared To Be...|[0, 0, 0, 0, 0, 0...|     2013|     \\N|[Animation, Anima...|   actor|[[\"Controlly\"], [...|       Alex|          tt12158838|\n",
            "|nm11569792|        [tt12299404]|             [short]|      [The Knocking]|                 [0]|     2019|     \\N|     [Horror, Short]| actress|        [[\"Angela\"]]|       Alex|          tt12299404|\n",
            "|nm10849871|        [tt10666404]|             [short]|[Toy Story 4: For...|                 [0]|     2019|     \\N|[Animation, Comed...|   actor|    [[\"Teen Woody\"]]|       Alex|          tt10666404|\n",
            "|nm11104529|        [tt11225356]|             [movie]|[Relaxxxed 8: Poo...|                 [1]|     2016|     \\N|             [Adult]|   actor|                [\\N]|       Alex|                  \\N|\n",
            "|nm11541643|        [tt12239426]|         [tvEpisode]|              [Alex]|                 [1]|     2004|     \\N|             [Adult]| actress|                [\\N]|       Alex|           tt6268790|\n",
            "| nm4281504|         [tt0250555]|             [movie]|      [Macho Grande]|                 [1]|     1977|     \\N|             [Adult]|   actor|                [\\N]|       Alex|           tt0250555|\n",
            "| nm4634756|         [tt4317586]|             [movie]|[Pollachi Mappillai]|                 [0]|     2010|     \\N|             [Drama]|   actor|                [\\N]|       Alex| tt1657293,tt4317586|\n",
            "| nm9514824|         [tt0407477]|             [video]|    [101 Men Part 4]|                 [1]|     1998|     \\N|             [Adult]|   actor|                [\\N]|       Alex|                  \\N|\n",
            "|nm10050206|[tt8847502, tt155...|[tvEpisode, tvSer...|[Spying on Autumn...|              [0, 0]|     2018|     \\N|[Comedy, Short, C...|   actor|      [[\"Alex\"], \\N]|       Alex|           tt6982604|\n",
            "|nm12011252|[tt15091672, tt17...|[video, video, vi...|[Big Clits Big Li...|           [1, 1, 1]|     2010|     \\N|[Adult, Adult, Ad...| actress|[\\N, \\N, [\"Female...|       Alex|tt17518146,tt1509...|\n",
            "+----------+--------------------+--------------------+--------------------+--------------------+---------+-------+--------------------+--------+--------------------+-----------+--------------------+\n",
            "only showing top 50 rows\n",
            "\n"
          ]
        }
      ]
    }
  ]
}