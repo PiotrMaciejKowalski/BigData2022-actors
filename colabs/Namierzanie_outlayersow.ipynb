{
  "nbformat": 4,
  "nbformat_minor": 0,
  "metadata": {
    "colab": {
      "provenance": [],
      "include_colab_link": true
    },
    "kernelspec": {
      "name": "python3",
      "display_name": "Python 3"
    },
    "language_info": {
      "name": "python"
    }
  },
  "cells": [
    {
      "cell_type": "markdown",
      "metadata": {
        "id": "view-in-github",
        "colab_type": "text"
      },
      "source": [
        "<a href=\"https://colab.research.google.com/github/PiotrMaciejKowalski/BigData2022-actors/blob/Warto%C5%9Bci_odstaj%C4%85ce/colabs/Namierzanie_outlayersow.ipynb\" target=\"_parent\"><img src=\"https://colab.research.google.com/assets/colab-badge.svg\" alt=\"Open In Colab\"/></a>"
      ]
    },
    {
      "cell_type": "code",
      "execution_count": 1,
      "metadata": {
        "id": "V8-nE3oH58P6",
        "outputId": "e80ddb3f-b327-47ab-b5ea-48903a8a682f",
        "colab": {
          "base_uri": "https://localhost:8080/"
        }
      },
      "outputs": [
        {
          "output_type": "stream",
          "name": "stdout",
          "text": [
            "Mounted at /content/gdrive\n"
          ]
        }
      ],
      "source": [
        "from google.colab import drive\n",
        "drive.mount('/content/gdrive')"
      ]
    },
    {
      "cell_type": "code",
      "source": [
        "!git clone https://github.com/PiotrMaciejKowalski/BigData2022-actors.git\n",
        "!mv /content/BigData2022-actors/* .\n",
        "!mv /content/BigData2022-actors/.* .\n",
        "!rmdir /content/BigData2022-actors/"
      ],
      "metadata": {
        "id": "CJDl9hKq623W",
        "outputId": "fe16c369-f9e5-48c5-e323-87b4bc7cff53",
        "colab": {
          "base_uri": "https://localhost:8080/"
        }
      },
      "execution_count": 2,
      "outputs": [
        {
          "output_type": "stream",
          "name": "stdout",
          "text": [
            "Cloning into 'BigData2022-actors'...\n",
            "remote: Enumerating objects: 1561, done.\u001b[K\n",
            "remote: Counting objects: 100% (254/254), done.\u001b[K\n",
            "remote: Compressing objects: 100% (147/147), done.\u001b[K\n",
            "remote: Total 1561 (delta 176), reused 161 (delta 107), pack-reused 1307\u001b[K\n",
            "Receiving objects: 100% (1561/1561), 5.99 MiB | 27.03 MiB/s, done.\n",
            "Resolving deltas: 100% (945/945), done.\n",
            "mv: cannot move '/content/BigData2022-actors/.' to './.': Device or resource busy\n",
            "mv: cannot move '/content/BigData2022-actors/..' to './..': Device or resource busy\n"
          ]
        }
      ]
    },
    {
      "cell_type": "code",
      "source": [
        "!git checkout Wartości_odstające"
      ],
      "metadata": {
        "id": "byTOVMAl67xS",
        "outputId": "33c1e1c5-0c40-48ee-cfb2-60fee54fdd59",
        "colab": {
          "base_uri": "https://localhost:8080/"
        }
      },
      "execution_count": 3,
      "outputs": [
        {
          "output_type": "stream",
          "name": "stdout",
          "text": [
            "Branch 'Wartości_odstające' set up to track remote branch 'Wartości_odstające' from 'origin'.\n",
            "Switched to a new branch 'Wartości_odstające'\n"
          ]
        }
      ]
    },
    {
      "cell_type": "code",
      "source": [
        "!chmod +x setup_sparka.sh\n",
        "!./setup_sparka.sh"
      ],
      "metadata": {
        "id": "60AJd6gh69of",
        "outputId": "07d5c4a6-c385-459a-921f-33427e3825ee",
        "colab": {
          "base_uri": "https://localhost:8080/"
        }
      },
      "execution_count": 4,
      "outputs": [
        {
          "output_type": "stream",
          "name": "stdout",
          "text": [
            "Looking in indexes: https://pypi.org/simple, https://us-python.pkg.dev/colab-wheels/public/simple/\n",
            "Collecting pyspark\n",
            "  Downloading pyspark-3.3.1.tar.gz (281.4 MB)\n",
            "\u001b[2K     \u001b[90m━━━━━━━━━━━━━━━━━━━━━━━━━━━━━━━━━━━━━━━\u001b[0m \u001b[32m281.4/281.4 MB\u001b[0m \u001b[31m4.0 MB/s\u001b[0m eta \u001b[36m0:00:00\u001b[0m\n",
            "\u001b[?25h  Preparing metadata (setup.py) ... \u001b[?25l\u001b[?25hdone\n",
            "Collecting py4j\n",
            "  Downloading py4j-0.10.9.7-py2.py3-none-any.whl (200 kB)\n",
            "\u001b[2K     \u001b[90m━━━━━━━━━━━━━━━━━━━━━━━━━━━━━━━━━━━━━━\u001b[0m \u001b[32m200.5/200.5 KB\u001b[0m \u001b[31m18.8 MB/s\u001b[0m eta \u001b[36m0:00:00\u001b[0m\n",
            "\u001b[?25h  Downloading py4j-0.10.9.5-py2.py3-none-any.whl (199 kB)\n",
            "\u001b[2K     \u001b[90m━━━━━━━━━━━━━━━━━━━━━━━━━━━━━━━━━━━━━━\u001b[0m \u001b[32m199.7/199.7 KB\u001b[0m \u001b[31m18.1 MB/s\u001b[0m eta \u001b[36m0:00:00\u001b[0m\n",
            "\u001b[?25hBuilding wheels for collected packages: pyspark\n",
            "  Building wheel for pyspark (setup.py) ... \u001b[?25l\u001b[?25hdone\n",
            "  Created wheel for pyspark: filename=pyspark-3.3.1-py2.py3-none-any.whl size=281845512 sha256=030b9cbf37c65f7871a387861c3ec4f8070d71970f326271150748eff7fb379e\n",
            "  Stored in directory: /root/.cache/pip/wheels/43/dc/11/ec201cd671da62fa9c5cc77078235e40722170ceba231d7598\n",
            "Successfully built pyspark\n",
            "Installing collected packages: py4j, pyspark\n",
            "Successfully installed py4j-0.10.9.5 pyspark-3.3.1\n",
            "--2023-01-14 13:49:27--  https://dlcdn.apache.org/spark/spark-3.3.1/spark-3.3.1-bin-hadoop2.tgz\n",
            "Resolving dlcdn.apache.org (dlcdn.apache.org)... 151.101.2.132, 2a04:4e42::644\n",
            "Connecting to dlcdn.apache.org (dlcdn.apache.org)|151.101.2.132|:443... connected.\n",
            "HTTP request sent, awaiting response... 200 OK\n",
            "Length: 274099817 (261M) [application/x-gzip]\n",
            "Saving to: ‘spark-3.3.1-bin-hadoop2.tgz’\n",
            "\n",
            "spark-3.3.1-bin-had 100%[===================>] 261.40M   202MB/s    in 1.3s    \n",
            "\n",
            "2023-01-14 13:49:28 (202 MB/s) - ‘spark-3.3.1-bin-hadoop2.tgz’ saved [274099817/274099817]\n",
            "\n"
          ]
        }
      ]
    },
    {
      "cell_type": "code",
      "source": [
        "from lib.pyspark_init import create_spark_context, add_kaggle_data\n",
        "from lib.const import JOINED_DATA, DATA_WITH_AWARDS"
      ],
      "metadata": {
        "id": "PygzVIzT7CdG"
      },
      "execution_count": 5,
      "outputs": []
    },
    {
      "cell_type": "code",
      "source": [
        "spark = create_spark_context()\n",
        "spark"
      ],
      "metadata": {
        "id": "4oAFq__N7FYz",
        "outputId": "e3118b61-a8ed-4031-8171-0a57334a47e9",
        "colab": {
          "base_uri": "https://localhost:8080/",
          "height": 219
        }
      },
      "execution_count": 6,
      "outputs": [
        {
          "output_type": "execute_result",
          "data": {
            "text/plain": [
              "<pyspark.sql.session.SparkSession at 0x7fd15aa28160>"
            ],
            "text/html": [
              "\n",
              "            <div>\n",
              "                <p><b>SparkSession - in-memory</b></p>\n",
              "                \n",
              "        <div>\n",
              "            <p><b>SparkContext</b></p>\n",
              "\n",
              "            <p><a href=\"http://19fa2eec2a3d:4040\">Spark UI</a></p>\n",
              "\n",
              "            <dl>\n",
              "              <dt>Version</dt>\n",
              "                <dd><code>v3.3.1</code></dd>\n",
              "              <dt>Master</dt>\n",
              "                <dd><code>local[*]</code></dd>\n",
              "              <dt>AppName</dt>\n",
              "                <dd><code>Colab</code></dd>\n",
              "            </dl>\n",
              "        </div>\n",
              "        \n",
              "            </div>\n",
              "        "
            ]
          },
          "metadata": {},
          "execution_count": 6
        }
      ]
    },
    {
      "cell_type": "code",
      "source": [
        "%%time\n",
        "data = spark.read.parquet(JOINED_DATA)\n",
        "data.show()"
      ],
      "metadata": {
        "id": "kQchKy8Y7HjW",
        "outputId": "8a2bf986-7960-4fd1-f04f-5553674c7660",
        "colab": {
          "base_uri": "https://localhost:8080/"
        }
      },
      "execution_count": 7,
      "outputs": [
        {
          "output_type": "stream",
          "name": "stdout",
          "text": [
            "+---------+--------------------+--------------------+--------------------+--------------------+---------+-------+--------------------+--------+--------------------+-------------------+--------------------+\n",
            "|   nconst|              tconst|           titleType|       originalTitle|             isAdult|startYear|endYear|              genres|category|          characters|        primaryName|      knownForTitles|\n",
            "+---------+--------------------+--------------------+--------------------+--------------------+---------+-------+--------------------+--------+--------------------+-------------------+--------------------+\n",
            "|nm0000034|[tt0032636, tt003...|[movie, movie, mo...|[Invisible Stripe...|[0, 0, 0, 0, 0, 0...|     1939|     \\N|[Action, Crime, D...|   actor|[[\"Tim Taylor\"], ...|     William Holden|tt0043014,tt00463...|\n",
            "|nm0000068|[tt0038613, tt002...|[movie, movie, mo...|[Home, Sweet Homi...|[0, 0, 0, 0, 0, 0...|     1931|     \\N|[Adventure, Comed...|   actor|[[\"Lt. Bill Smith...|     Randolph Scott|tt0029284,tt00269...|\n",
            "|nm0000081|[tt0933591, tt550...|[tvEpisode, tvEpi...|[Uncle Harry's Vi...|[0, 0, 0, 0, 0, 0...|     1949|     \\N|[Comedy, Drama, D...| actress|[[\"Ann Morrison\"]...|       Natalie Wood|tt0057263,tt00556...|\n",
            "|nm0000119|[tt0105793, tt063...|[movie, tvEpisode...|[Wayne's World, S...|[0, 0, 0, 0, 0, 0...|     1985|     \\N|[Comedy, Music, A...| actress|[[\"Cassandra\"], [...|        Tia Carrere|tt0105793,tt02758...|\n",
            "|nm0000202|[tt0401997, tt131...|[movie, tvSpecial...|[Breach, Big Sky,...|[0, 0, 0, 0, 0, 0...|     1993|     \\N|[Biography, Crime...|   actor|[[\"Eric O'Neill\"]...|     Ryan Phillippe|tt0375679,tt01391...|\n",
            "|nm0000210|[tt5390080, tt011...|[tvMovie, movie, ...|[ADX, Michael Col...|[0, 0, 0, 0, 0, 0...|     1988|     \\N|[Drama, Biography...| actress|[\\N, [\"Kitty Kier...|      Julia Roberts|tt0100405,tt03765...|\n",
            "|nm0000212|[tt0110099, tt132...|[movie, tvSeries,...|[I.Q., Der Kabel ...|[0, 0, 0, 0, 0, 0...|     1982|     \\N|[Comedy, Romance,...| actress|[[\"Catherine Boyd...|           Meg Ryan|tt0108160,tt01206...|\n",
            "|nm0000335|[tt0211181, tt010...|[movie, tvMovie, ...|[102 Dalmatians, ...|[0, 0, 0, 0, 0, 0...|     1975|     \\N|[Adventure, Comed...| actress|[[\"Cruella de Vil...|        Glenn Close|tt0094947,tt00930...|\n",
            "|nm0000391|[tt1340782, tt216...|[movie, tvEpisode...|[The Liar, Die an...|[0, 0, 0, 0, 0, 0...|     1982|     \\N|[Comedy, Drama, R...|   actor|[[\"Humphrey Biffe...|     Rupert Everett|tt0119738,tt01225...|\n",
            "|nm0000449|[tt0699212, tt028...|[tvEpisode, movie...|[Crossed Out, Rid...|[0, 0, 0, 0, 0, 0...|     1995|     \\N|[Action, Adventur...| actress|[[\"Cassie McBain\"...| Natasha Henstridge|tt0190138,tt01145...|\n",
            "|nm0000512|[tt0116606, tt011...|[movie, movie, mo...|[If Lucy Fell, Si...|     [0, 0, 0, 0, 0]|     1994|     \\N|[Comedy, Romance,...| actress|[[\"Jane Lindquist...|    Elle Macpherson|tt0119051,tt01170...|\n",
            "|nm0000539|[tt0526228, tt069...|[tvEpisode, tvEpi...|[Feat of Clay, Th...|[0, 0, 0, 0, 0, 0...|     1995|     \\N|[Action, Adventur...| actress|[[\"Barbara Gordon...|         Dina Meyer|tt0253754,tt01134...|\n",
            "|nm0000598|[tt0331468, tt010...|[movie, movie, tv...|[Cold Creek Manor...|[0, 0, 0, 0, 0, 0...|     1978|     \\N|[Drama, Mystery, ...|   actor|[[\"Cooper Tilson\"...|       Dennis Quaid|tt0319262,tt02978...|\n",
            "|nm0000603|[tt0085107, tt008...|[tvMiniSeries, mo...|[Wagner, The Bost...|[0, 0, 0, 0, 0, 0...|     1958|     \\N|[Biography, Drama...| actress|[[\"Cosima von Bul...|   Vanessa Redgrave|tt0783233,tt13726...|\n",
            "|nm0000668|[tt8623904, tt010...|[movie, tvMovie, ...|[Last Christmas, ...|[0, 0, 0, 0, 0, 0...|     1982|     \\N|[Comedy, Drama, F...| actress|[[\"Petra\"], [\"Mar...|      Emma Thompson|tt2140373,tt03143...|\n",
            "|nm0000680|[tt0156976, tt024...|[tvMovie, tvSerie...|[Chasing Destiny,...|[0, 0, 0, 0, 0, 0...|     1991|     \\N|[Comedy, Drama, M...|   actor|[[\"Bobby Moritz\"]...|    Casper Van Dien|tt0120856,tt01202...|\n",
            "|nm0000696|[tt0667976, tt010...|[tvEpisode, movie...|[The Light Brigad...|[0, 0, 0, 0, 0, 0...|     1982|     \\N|[Drama, Fantasy, ...|   actor|[[\"Cadet\"], [\"Kip...|        Wil Wheaton|tt0103112,tt00924...|\n",
            "|nm0000717|[tt19866974, tt05...|[video, tvEpisode...|[StrangerSmart, P...|[0, 0, 0, 0, 0, 0...|     1978|     \\N|[Short, Comedy, S...|   actor|[\\N, [\"Kareem Abd...|Kareem Abdul-Jabbar|tt0089155,tt00803...|\n",
            "|nm0000751|[tt0119501, tt009...|[tvMovie, movie, ...|[Last Stand at Sa...|[0, 0, 0, 0, 0, 0...|     1987|     \\N|[Action, Drama, W...| actress|[[\"Martha Cable\"]...|          Suzy Amis|tt0120338,tt01148...|\n",
            "|nm0000924|[tt0642166, tt063...|[tvEpisode, tvEpi...|[Once More, with ...|[0, 0, 0, 0, 0, 0...|     1988|     \\N|[Comedy, Drama, A...| actress|[[\"Isabel\"], [\"Se...|  Elizabeth Berkley|tt0114436,tt02565...|\n",
            "+---------+--------------------+--------------------+--------------------+--------------------+---------+-------+--------------------+--------+--------------------+-------------------+--------------------+\n",
            "only showing top 20 rows\n",
            "\n",
            "CPU times: user 101 ms, sys: 12.1 ms, total: 114 ms\n",
            "Wall time: 13.7 s\n"
          ]
        }
      ]
    },
    {
      "cell_type": "code",
      "source": [
        "spark.sql(\"\"\"SELECT* from data\"\"\").show()"
      ],
      "metadata": {
        "id": "8DwUFZZ4hl-w",
        "outputId": "1b61b60f-05c5-4ec2-94e3-aa5bb01dc5a3",
        "colab": {
          "base_uri": "https://localhost:8080/",
          "height": 345
        }
      },
      "execution_count": 10,
      "outputs": [
        {
          "output_type": "error",
          "ename": "AnalysisException",
          "evalue": "ignored",
          "traceback": [
            "\u001b[0;31m---------------------------------------------------------------------------\u001b[0m",
            "\u001b[0;31mAnalysisException\u001b[0m                         Traceback (most recent call last)",
            "\u001b[0;32m<ipython-input-10-8891d779593d>\u001b[0m in \u001b[0;36m<module>\u001b[0;34m\u001b[0m\n\u001b[0;32m----> 1\u001b[0;31m \u001b[0mspark\u001b[0m\u001b[0;34m.\u001b[0m\u001b[0msql\u001b[0m\u001b[0;34m(\u001b[0m\u001b[0;34m\"\"\"SELECT* from data\"\"\"\u001b[0m\u001b[0;34m)\u001b[0m\u001b[0;34m.\u001b[0m\u001b[0mshow\u001b[0m\u001b[0;34m(\u001b[0m\u001b[0;34m)\u001b[0m\u001b[0;34m\u001b[0m\u001b[0;34m\u001b[0m\u001b[0m\n\u001b[0m",
            "\u001b[0;32m/usr/local/lib/python3.8/dist-packages/pyspark/sql/session.py\u001b[0m in \u001b[0;36msql\u001b[0;34m(self, sqlQuery, **kwargs)\u001b[0m\n\u001b[1;32m   1032\u001b[0m             \u001b[0msqlQuery\u001b[0m \u001b[0;34m=\u001b[0m \u001b[0mformatter\u001b[0m\u001b[0;34m.\u001b[0m\u001b[0mformat\u001b[0m\u001b[0;34m(\u001b[0m\u001b[0msqlQuery\u001b[0m\u001b[0;34m,\u001b[0m \u001b[0;34m**\u001b[0m\u001b[0mkwargs\u001b[0m\u001b[0;34m)\u001b[0m\u001b[0;34m\u001b[0m\u001b[0;34m\u001b[0m\u001b[0m\n\u001b[1;32m   1033\u001b[0m         \u001b[0;32mtry\u001b[0m\u001b[0;34m:\u001b[0m\u001b[0;34m\u001b[0m\u001b[0;34m\u001b[0m\u001b[0m\n\u001b[0;32m-> 1034\u001b[0;31m             \u001b[0;32mreturn\u001b[0m \u001b[0mDataFrame\u001b[0m\u001b[0;34m(\u001b[0m\u001b[0mself\u001b[0m\u001b[0;34m.\u001b[0m\u001b[0m_jsparkSession\u001b[0m\u001b[0;34m.\u001b[0m\u001b[0msql\u001b[0m\u001b[0;34m(\u001b[0m\u001b[0msqlQuery\u001b[0m\u001b[0;34m)\u001b[0m\u001b[0;34m,\u001b[0m \u001b[0mself\u001b[0m\u001b[0;34m)\u001b[0m\u001b[0;34m\u001b[0m\u001b[0;34m\u001b[0m\u001b[0m\n\u001b[0m\u001b[1;32m   1035\u001b[0m         \u001b[0;32mfinally\u001b[0m\u001b[0;34m:\u001b[0m\u001b[0;34m\u001b[0m\u001b[0;34m\u001b[0m\u001b[0m\n\u001b[1;32m   1036\u001b[0m             \u001b[0;32mif\u001b[0m \u001b[0mlen\u001b[0m\u001b[0;34m(\u001b[0m\u001b[0mkwargs\u001b[0m\u001b[0;34m)\u001b[0m \u001b[0;34m>\u001b[0m \u001b[0;36m0\u001b[0m\u001b[0;34m:\u001b[0m\u001b[0;34m\u001b[0m\u001b[0;34m\u001b[0m\u001b[0m\n",
            "\u001b[0;32m/usr/local/lib/python3.8/dist-packages/py4j/java_gateway.py\u001b[0m in \u001b[0;36m__call__\u001b[0;34m(self, *args)\u001b[0m\n\u001b[1;32m   1319\u001b[0m \u001b[0;34m\u001b[0m\u001b[0m\n\u001b[1;32m   1320\u001b[0m         \u001b[0manswer\u001b[0m \u001b[0;34m=\u001b[0m \u001b[0mself\u001b[0m\u001b[0;34m.\u001b[0m\u001b[0mgateway_client\u001b[0m\u001b[0;34m.\u001b[0m\u001b[0msend_command\u001b[0m\u001b[0;34m(\u001b[0m\u001b[0mcommand\u001b[0m\u001b[0;34m)\u001b[0m\u001b[0;34m\u001b[0m\u001b[0;34m\u001b[0m\u001b[0m\n\u001b[0;32m-> 1321\u001b[0;31m         return_value = get_return_value(\n\u001b[0m\u001b[1;32m   1322\u001b[0m             answer, self.gateway_client, self.target_id, self.name)\n\u001b[1;32m   1323\u001b[0m \u001b[0;34m\u001b[0m\u001b[0m\n",
            "\u001b[0;32m/usr/local/lib/python3.8/dist-packages/pyspark/sql/utils.py\u001b[0m in \u001b[0;36mdeco\u001b[0;34m(*a, **kw)\u001b[0m\n\u001b[1;32m    194\u001b[0m                 \u001b[0;31m# Hide where the exception came from that shows a non-Pythonic\u001b[0m\u001b[0;34m\u001b[0m\u001b[0;34m\u001b[0m\u001b[0;34m\u001b[0m\u001b[0m\n\u001b[1;32m    195\u001b[0m                 \u001b[0;31m# JVM exception message.\u001b[0m\u001b[0;34m\u001b[0m\u001b[0;34m\u001b[0m\u001b[0;34m\u001b[0m\u001b[0m\n\u001b[0;32m--> 196\u001b[0;31m                 \u001b[0;32mraise\u001b[0m \u001b[0mconverted\u001b[0m \u001b[0;32mfrom\u001b[0m \u001b[0;32mNone\u001b[0m\u001b[0;34m\u001b[0m\u001b[0;34m\u001b[0m\u001b[0m\n\u001b[0m\u001b[1;32m    197\u001b[0m             \u001b[0;32melse\u001b[0m\u001b[0;34m:\u001b[0m\u001b[0;34m\u001b[0m\u001b[0;34m\u001b[0m\u001b[0m\n\u001b[1;32m    198\u001b[0m                 \u001b[0;32mraise\u001b[0m\u001b[0;34m\u001b[0m\u001b[0;34m\u001b[0m\u001b[0m\n",
            "\u001b[0;31mAnalysisException\u001b[0m: Table or view not found: data; line 1 pos 13;\n'Project [*]\n+- 'UnresolvedRelation [data], [], false\n"
          ]
        }
      ]
    }
  ]
}