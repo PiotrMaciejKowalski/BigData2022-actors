{
  "nbformat": 4,
  "nbformat_minor": 0,
  "metadata": {
    "colab": {
      "provenance": [],
      "collapsed_sections": [],
      "authorship_tag": "ABX9TyNbugTS4IJOjdedL3tiHaok",
      "include_colab_link": true
    },
    "kernelspec": {
      "name": "python3",
      "display_name": "Python 3"
    },
    "language_info": {
      "name": "python"
    }
  },
  "cells": [
    {
      "cell_type": "markdown",
      "metadata": {
        "id": "view-in-github",
        "colab_type": "text"
      },
      "source": [
        "<a href=\"https://colab.research.google.com/github/PiotrMaciejKowalski/BigData2022-actors/blob/colabs/Wczytanie_danych2.ipynb\" target=\"_parent\"><img src=\"https://colab.research.google.com/assets/colab-badge.svg\" alt=\"Open In Colab\"/></a>"
      ]
    },
    {
      "cell_type": "markdown",
      "source": [
        "Setup spark:"
      ],
      "metadata": {
        "id": "Vzb444kPW31g"
      }
    },
    {
      "cell_type": "code",
      "source": [
        "!pip install pyspark py4j\n",
        "import pyspark"
      ],
      "metadata": {
        "colab": {
          "base_uri": "https://localhost:8080/"
        },
        "id": "1rwBnBMwW88n",
        "outputId": "24721f0b-feda-4352-a928-cede24a1b46e"
      },
      "execution_count": null,
      "outputs": [
        {
          "output_type": "stream",
          "name": "stdout",
          "text": [
            "Looking in indexes: https://pypi.org/simple, https://us-python.pkg.dev/colab-wheels/public/simple/\n",
            "Requirement already satisfied: pyspark in /usr/local/lib/python3.7/dist-packages (3.3.1)\n",
            "Requirement already satisfied: py4j in /usr/local/lib/python3.7/dist-packages (0.10.9.5)\n"
          ]
        }
      ]
    },
    {
      "cell_type": "code",
      "source": [
        "!apt-get install openjdk-8-jdk-headless -qq > /dev/null\n",
        "!wget -q ftp.ps.pl/pub/apache/spark/spark-3.1.2/spark-3.1.2-bin-hadoop2.7.tgz\n",
        "!tar xf spark-3.1.2-bin-hadoop2.7.tgz\n",
        "import os\n",
        "os.environ[\"JAVA_HOME\"] = \"/usr/lib/jvm/java-8-openjdk-amd64\"\n",
        "os.environ[\"SPARK_HOME\"] = \"/content/spark-3.1.2-bin-hadoop2.7\"\n",
        "!pip install -q findspark\n",
        "\n",
        "import findspark"
      ],
      "metadata": {
        "colab": {
          "base_uri": "https://localhost:8080/"
        },
        "id": "l6ryxQHa9ZSF",
        "outputId": "a89a56d5-2c70-4080-d1b2-77d1dc941db3"
      },
      "execution_count": null,
      "outputs": [
        {
          "output_type": "stream",
          "name": "stdout",
          "text": [
            "tar: spark-3.1.2-bin-hadoop2.7.tgz: Cannot open: No such file or directory\n",
            "tar: Error is not recoverable: exiting now\n"
          ]
        }
      ]
    },
    {
      "cell_type": "code",
      "source": [
        "from pyspark.sql import SparkSession\n",
        "spark = SparkSession.builder\\\n",
        "        .master(\"local\")\\\n",
        "        .appName(\"Colab\")\\\n",
        "        .config('spark.ui.port', '4050')\\\n",
        "        .getOrCreate()"
      ],
      "metadata": {
        "id": "qmF54HAM9d0V",
        "colab": {
          "base_uri": "https://localhost:8080/",
          "height": 380
        },
        "outputId": "e53533bc-db58-4e95-871c-799c778621f3"
      },
      "execution_count": null,
      "outputs": [
        {
          "output_type": "error",
          "ename": "FileNotFoundError",
          "evalue": "ignored",
          "traceback": [
            "\u001b[0;31m---------------------------------------------------------------------------\u001b[0m",
            "\u001b[0;31mFileNotFoundError\u001b[0m                         Traceback (most recent call last)",
            "\u001b[0;32m<ipython-input-16-87df969ab705>\u001b[0m in \u001b[0;36m<module>\u001b[0;34m\u001b[0m\n\u001b[1;32m      3\u001b[0m         \u001b[0;34m.\u001b[0m\u001b[0mmaster\u001b[0m\u001b[0;34m(\u001b[0m\u001b[0;34m\"local\"\u001b[0m\u001b[0;34m)\u001b[0m\u001b[0;31m\\\u001b[0m\u001b[0;34m\u001b[0m\u001b[0;34m\u001b[0m\u001b[0m\n\u001b[1;32m      4\u001b[0m         \u001b[0;34m.\u001b[0m\u001b[0mappName\u001b[0m\u001b[0;34m(\u001b[0m\u001b[0;34m\"Colab\"\u001b[0m\u001b[0;34m)\u001b[0m\u001b[0;31m\\\u001b[0m\u001b[0;34m\u001b[0m\u001b[0;34m\u001b[0m\u001b[0m\n\u001b[0;32m----> 5\u001b[0;31m         \u001b[0;34m.\u001b[0m\u001b[0mconfig\u001b[0m\u001b[0;34m(\u001b[0m\u001b[0;34m'spark.ui.port'\u001b[0m\u001b[0;34m,\u001b[0m \u001b[0;34m'4050'\u001b[0m\u001b[0;34m)\u001b[0m\u001b[0;31m\\\u001b[0m\u001b[0;34m\u001b[0m\u001b[0;34m\u001b[0m\u001b[0m\n\u001b[0m\u001b[1;32m      6\u001b[0m         \u001b[0;34m.\u001b[0m\u001b[0mgetOrCreate\u001b[0m\u001b[0;34m(\u001b[0m\u001b[0;34m)\u001b[0m\u001b[0;34m\u001b[0m\u001b[0;34m\u001b[0m\u001b[0m\n",
            "\u001b[0;32m/usr/local/lib/python3.7/dist-packages/pyspark/sql/session.py\u001b[0m in \u001b[0;36mgetOrCreate\u001b[0;34m(self)\u001b[0m\n\u001b[1;32m    267\u001b[0m                         \u001b[0msparkConf\u001b[0m\u001b[0;34m.\u001b[0m\u001b[0mset\u001b[0m\u001b[0;34m(\u001b[0m\u001b[0mkey\u001b[0m\u001b[0;34m,\u001b[0m \u001b[0mvalue\u001b[0m\u001b[0;34m)\u001b[0m\u001b[0;34m\u001b[0m\u001b[0;34m\u001b[0m\u001b[0m\n\u001b[1;32m    268\u001b[0m                     \u001b[0;31m# This SparkContext may be an existing one.\u001b[0m\u001b[0;34m\u001b[0m\u001b[0;34m\u001b[0m\u001b[0;34m\u001b[0m\u001b[0m\n\u001b[0;32m--> 269\u001b[0;31m                     \u001b[0msc\u001b[0m \u001b[0;34m=\u001b[0m \u001b[0mSparkContext\u001b[0m\u001b[0;34m.\u001b[0m\u001b[0mgetOrCreate\u001b[0m\u001b[0;34m(\u001b[0m\u001b[0msparkConf\u001b[0m\u001b[0;34m)\u001b[0m\u001b[0;34m\u001b[0m\u001b[0;34m\u001b[0m\u001b[0m\n\u001b[0m\u001b[1;32m    270\u001b[0m                     \u001b[0;31m# Do not update `SparkConf` for existing `SparkContext`, as it's shared\u001b[0m\u001b[0;34m\u001b[0m\u001b[0;34m\u001b[0m\u001b[0;34m\u001b[0m\u001b[0m\n\u001b[1;32m    271\u001b[0m                     \u001b[0;31m# by all sessions.\u001b[0m\u001b[0;34m\u001b[0m\u001b[0;34m\u001b[0m\u001b[0;34m\u001b[0m\u001b[0m\n",
            "\u001b[0;32m/usr/local/lib/python3.7/dist-packages/pyspark/context.py\u001b[0m in \u001b[0;36mgetOrCreate\u001b[0;34m(cls, conf)\u001b[0m\n\u001b[1;32m    481\u001b[0m         \u001b[0;32mwith\u001b[0m \u001b[0mSparkContext\u001b[0m\u001b[0;34m.\u001b[0m\u001b[0m_lock\u001b[0m\u001b[0;34m:\u001b[0m\u001b[0;34m\u001b[0m\u001b[0;34m\u001b[0m\u001b[0m\n\u001b[1;32m    482\u001b[0m             \u001b[0;32mif\u001b[0m \u001b[0mSparkContext\u001b[0m\u001b[0;34m.\u001b[0m\u001b[0m_active_spark_context\u001b[0m \u001b[0;32mis\u001b[0m \u001b[0;32mNone\u001b[0m\u001b[0;34m:\u001b[0m\u001b[0;34m\u001b[0m\u001b[0;34m\u001b[0m\u001b[0m\n\u001b[0;32m--> 483\u001b[0;31m                 \u001b[0mSparkContext\u001b[0m\u001b[0;34m(\u001b[0m\u001b[0mconf\u001b[0m\u001b[0;34m=\u001b[0m\u001b[0mconf\u001b[0m \u001b[0;32mor\u001b[0m \u001b[0mSparkConf\u001b[0m\u001b[0;34m(\u001b[0m\u001b[0;34m)\u001b[0m\u001b[0;34m)\u001b[0m\u001b[0;34m\u001b[0m\u001b[0;34m\u001b[0m\u001b[0m\n\u001b[0m\u001b[1;32m    484\u001b[0m             \u001b[0;32massert\u001b[0m \u001b[0mSparkContext\u001b[0m\u001b[0;34m.\u001b[0m\u001b[0m_active_spark_context\u001b[0m \u001b[0;32mis\u001b[0m \u001b[0;32mnot\u001b[0m \u001b[0;32mNone\u001b[0m\u001b[0;34m\u001b[0m\u001b[0;34m\u001b[0m\u001b[0m\n\u001b[1;32m    485\u001b[0m             \u001b[0;32mreturn\u001b[0m \u001b[0mSparkContext\u001b[0m\u001b[0;34m.\u001b[0m\u001b[0m_active_spark_context\u001b[0m\u001b[0;34m\u001b[0m\u001b[0;34m\u001b[0m\u001b[0m\n",
            "\u001b[0;32m/usr/local/lib/python3.7/dist-packages/pyspark/context.py\u001b[0m in \u001b[0;36m__init__\u001b[0;34m(self, master, appName, sparkHome, pyFiles, environment, batchSize, serializer, conf, gateway, jsc, profiler_cls, udf_profiler_cls)\u001b[0m\n\u001b[1;32m    193\u001b[0m             )\n\u001b[1;32m    194\u001b[0m \u001b[0;34m\u001b[0m\u001b[0m\n\u001b[0;32m--> 195\u001b[0;31m         \u001b[0mSparkContext\u001b[0m\u001b[0;34m.\u001b[0m\u001b[0m_ensure_initialized\u001b[0m\u001b[0;34m(\u001b[0m\u001b[0mself\u001b[0m\u001b[0;34m,\u001b[0m \u001b[0mgateway\u001b[0m\u001b[0;34m=\u001b[0m\u001b[0mgateway\u001b[0m\u001b[0;34m,\u001b[0m \u001b[0mconf\u001b[0m\u001b[0;34m=\u001b[0m\u001b[0mconf\u001b[0m\u001b[0;34m)\u001b[0m\u001b[0;34m\u001b[0m\u001b[0;34m\u001b[0m\u001b[0m\n\u001b[0m\u001b[1;32m    196\u001b[0m         \u001b[0;32mtry\u001b[0m\u001b[0;34m:\u001b[0m\u001b[0;34m\u001b[0m\u001b[0;34m\u001b[0m\u001b[0m\n\u001b[1;32m    197\u001b[0m             self._do_init(\n",
            "\u001b[0;32m/usr/local/lib/python3.7/dist-packages/pyspark/context.py\u001b[0m in \u001b[0;36m_ensure_initialized\u001b[0;34m(cls, instance, gateway, conf)\u001b[0m\n\u001b[1;32m    415\u001b[0m         \u001b[0;32mwith\u001b[0m \u001b[0mSparkContext\u001b[0m\u001b[0;34m.\u001b[0m\u001b[0m_lock\u001b[0m\u001b[0;34m:\u001b[0m\u001b[0;34m\u001b[0m\u001b[0;34m\u001b[0m\u001b[0m\n\u001b[1;32m    416\u001b[0m             \u001b[0;32mif\u001b[0m \u001b[0;32mnot\u001b[0m \u001b[0mSparkContext\u001b[0m\u001b[0;34m.\u001b[0m\u001b[0m_gateway\u001b[0m\u001b[0;34m:\u001b[0m\u001b[0;34m\u001b[0m\u001b[0;34m\u001b[0m\u001b[0m\n\u001b[0;32m--> 417\u001b[0;31m                 \u001b[0mSparkContext\u001b[0m\u001b[0;34m.\u001b[0m\u001b[0m_gateway\u001b[0m \u001b[0;34m=\u001b[0m \u001b[0mgateway\u001b[0m \u001b[0;32mor\u001b[0m \u001b[0mlaunch_gateway\u001b[0m\u001b[0;34m(\u001b[0m\u001b[0mconf\u001b[0m\u001b[0;34m)\u001b[0m\u001b[0;34m\u001b[0m\u001b[0;34m\u001b[0m\u001b[0m\n\u001b[0m\u001b[1;32m    418\u001b[0m                 \u001b[0mSparkContext\u001b[0m\u001b[0;34m.\u001b[0m\u001b[0m_jvm\u001b[0m \u001b[0;34m=\u001b[0m \u001b[0mSparkContext\u001b[0m\u001b[0;34m.\u001b[0m\u001b[0m_gateway\u001b[0m\u001b[0;34m.\u001b[0m\u001b[0mjvm\u001b[0m\u001b[0;34m\u001b[0m\u001b[0;34m\u001b[0m\u001b[0m\n\u001b[1;32m    419\u001b[0m \u001b[0;34m\u001b[0m\u001b[0m\n",
            "\u001b[0;32m/usr/local/lib/python3.7/dist-packages/pyspark/java_gateway.py\u001b[0m in \u001b[0;36mlaunch_gateway\u001b[0;34m(conf, popen_kwargs)\u001b[0m\n\u001b[1;32m     94\u001b[0m \u001b[0;34m\u001b[0m\u001b[0m\n\u001b[1;32m     95\u001b[0m                 \u001b[0mpopen_kwargs\u001b[0m\u001b[0;34m[\u001b[0m\u001b[0;34m\"preexec_fn\"\u001b[0m\u001b[0;34m]\u001b[0m \u001b[0;34m=\u001b[0m \u001b[0mpreexec_func\u001b[0m\u001b[0;34m\u001b[0m\u001b[0;34m\u001b[0m\u001b[0m\n\u001b[0;32m---> 96\u001b[0;31m                 \u001b[0mproc\u001b[0m \u001b[0;34m=\u001b[0m \u001b[0mPopen\u001b[0m\u001b[0;34m(\u001b[0m\u001b[0mcommand\u001b[0m\u001b[0;34m,\u001b[0m \u001b[0;34m**\u001b[0m\u001b[0mpopen_kwargs\u001b[0m\u001b[0;34m)\u001b[0m\u001b[0;34m\u001b[0m\u001b[0;34m\u001b[0m\u001b[0m\n\u001b[0m\u001b[1;32m     97\u001b[0m             \u001b[0;32melse\u001b[0m\u001b[0;34m:\u001b[0m\u001b[0;34m\u001b[0m\u001b[0;34m\u001b[0m\u001b[0m\n\u001b[1;32m     98\u001b[0m                 \u001b[0;31m# preexec_fn not supported on Windows\u001b[0m\u001b[0;34m\u001b[0m\u001b[0;34m\u001b[0m\u001b[0;34m\u001b[0m\u001b[0m\n",
            "\u001b[0;32m/usr/lib/python3.7/subprocess.py\u001b[0m in \u001b[0;36m__init__\u001b[0;34m(self, args, bufsize, executable, stdin, stdout, stderr, preexec_fn, close_fds, shell, cwd, env, universal_newlines, startupinfo, creationflags, restore_signals, start_new_session, pass_fds, encoding, errors, text)\u001b[0m\n\u001b[1;32m    798\u001b[0m                                 \u001b[0mc2pread\u001b[0m\u001b[0;34m,\u001b[0m \u001b[0mc2pwrite\u001b[0m\u001b[0;34m,\u001b[0m\u001b[0;34m\u001b[0m\u001b[0;34m\u001b[0m\u001b[0m\n\u001b[1;32m    799\u001b[0m                                 \u001b[0merrread\u001b[0m\u001b[0;34m,\u001b[0m \u001b[0merrwrite\u001b[0m\u001b[0;34m,\u001b[0m\u001b[0;34m\u001b[0m\u001b[0;34m\u001b[0m\u001b[0m\n\u001b[0;32m--> 800\u001b[0;31m                                 restore_signals, start_new_session)\n\u001b[0m\u001b[1;32m    801\u001b[0m         \u001b[0;32mexcept\u001b[0m\u001b[0;34m:\u001b[0m\u001b[0;34m\u001b[0m\u001b[0;34m\u001b[0m\u001b[0m\n\u001b[1;32m    802\u001b[0m             \u001b[0;31m# Cleanup if the child failed starting.\u001b[0m\u001b[0;34m\u001b[0m\u001b[0;34m\u001b[0m\u001b[0;34m\u001b[0m\u001b[0m\n",
            "\u001b[0;32m/usr/lib/python3.7/subprocess.py\u001b[0m in \u001b[0;36m_execute_child\u001b[0;34m(self, args, executable, preexec_fn, close_fds, pass_fds, cwd, env, startupinfo, creationflags, shell, p2cread, p2cwrite, c2pread, c2pwrite, errread, errwrite, restore_signals, start_new_session)\u001b[0m\n\u001b[1;32m   1549\u001b[0m                         \u001b[0;32mif\u001b[0m \u001b[0merrno_num\u001b[0m \u001b[0;34m==\u001b[0m \u001b[0merrno\u001b[0m\u001b[0;34m.\u001b[0m\u001b[0mENOENT\u001b[0m\u001b[0;34m:\u001b[0m\u001b[0;34m\u001b[0m\u001b[0;34m\u001b[0m\u001b[0m\n\u001b[1;32m   1550\u001b[0m                             \u001b[0merr_msg\u001b[0m \u001b[0;34m+=\u001b[0m \u001b[0;34m': '\u001b[0m \u001b[0;34m+\u001b[0m \u001b[0mrepr\u001b[0m\u001b[0;34m(\u001b[0m\u001b[0merr_filename\u001b[0m\u001b[0;34m)\u001b[0m\u001b[0;34m\u001b[0m\u001b[0;34m\u001b[0m\u001b[0m\n\u001b[0;32m-> 1551\u001b[0;31m                     \u001b[0;32mraise\u001b[0m \u001b[0mchild_exception_type\u001b[0m\u001b[0;34m(\u001b[0m\u001b[0merrno_num\u001b[0m\u001b[0;34m,\u001b[0m \u001b[0merr_msg\u001b[0m\u001b[0;34m,\u001b[0m \u001b[0merr_filename\u001b[0m\u001b[0;34m)\u001b[0m\u001b[0;34m\u001b[0m\u001b[0;34m\u001b[0m\u001b[0m\n\u001b[0m\u001b[1;32m   1552\u001b[0m                 \u001b[0;32mraise\u001b[0m \u001b[0mchild_exception_type\u001b[0m\u001b[0;34m(\u001b[0m\u001b[0merr_msg\u001b[0m\u001b[0;34m)\u001b[0m\u001b[0;34m\u001b[0m\u001b[0;34m\u001b[0m\u001b[0m\n\u001b[1;32m   1553\u001b[0m \u001b[0;34m\u001b[0m\u001b[0m\n",
            "\u001b[0;31mFileNotFoundError\u001b[0m: [Errno 2] No such file or directory: '/content/spark-3.1.2-bin-hadoop2.7/./bin/spark-submit': '/content/spark-3.1.2-bin-hadoop2.7/./bin/spark-submit'"
          ]
        }
      ]
    },
    {
      "cell_type": "markdown",
      "source": [
        "Import danych:"
      ],
      "metadata": {
        "id": "p0l3OAblXJ2w"
      }
    },
    {
      "cell_type": "code",
      "source": [
        "!wget https://datasets.imdbws.com/name.basics.tsv.gz\n",
        "!wget https://datasets.imdbws.com/title.akas.tsv.gz\n",
        "!wget https://datasets.imdbws.com/title.basics.tsv.gz\n",
        "!wget https://datasets.imdbws.com/title.crew.tsv.gz\n",
        "!wget https://datasets.imdbws.com/title.episode.tsv.gz\n",
        "!wget https://datasets.imdbws.com/title.principals.tsv.gz\n",
        "!wget https://datasets.imdbws.com/title.ratings.tsv.gz"
      ],
      "metadata": {
        "colab": {
          "base_uri": "https://localhost:8080/"
        },
        "id": "SciXhN5JXONa",
        "outputId": "0eccbceb-8bdb-4ea4-a2f9-b661ad490170"
      },
      "execution_count": null,
      "outputs": [
        {
          "output_type": "stream",
          "name": "stdout",
          "text": [
            "--2022-10-29 18:27:41--  https://datasets.imdbws.com/name.basics.tsv.gz\n",
            "Resolving datasets.imdbws.com (datasets.imdbws.com)... 13.224.2.40, 13.224.2.111, 13.224.2.93, ...\n",
            "Connecting to datasets.imdbws.com (datasets.imdbws.com)|13.224.2.40|:443... connected.\n",
            "HTTP request sent, awaiting response... 200 OK\n",
            "Length: 235615858 (225M) [binary/octet-stream]\n",
            "Saving to: ‘name.basics.tsv.gz.1’\n",
            "\n",
            "name.basics.tsv.gz. 100%[===================>] 224.70M   145MB/s    in 1.5s    \n",
            "\n",
            "2022-10-29 18:27:43 (145 MB/s) - ‘name.basics.tsv.gz.1’ saved [235615858/235615858]\n",
            "\n",
            "--2022-10-29 18:27:43--  https://datasets.imdbws.com/title.akas.tsv.gz\n",
            "Resolving datasets.imdbws.com (datasets.imdbws.com)... 13.224.2.40, 13.224.2.111, 13.224.2.93, ...\n",
            "Connecting to datasets.imdbws.com (datasets.imdbws.com)|13.224.2.40|:443... connected.\n",
            "HTTP request sent, awaiting response... 200 OK\n",
            "Length: 285986872 (273M) [binary/octet-stream]\n",
            "Saving to: ‘title.akas.tsv.gz.1’\n",
            "\n",
            "title.akas.tsv.gz.1 100%[===================>] 272.74M  40.2MB/s    in 6.2s    \n",
            "\n",
            "2022-10-29 18:27:49 (43.7 MB/s) - ‘title.akas.tsv.gz.1’ saved [285986872/285986872]\n",
            "\n",
            "--2022-10-29 18:27:49--  https://datasets.imdbws.com/title.basics.tsv.gz\n",
            "Resolving datasets.imdbws.com (datasets.imdbws.com)... 13.224.2.40, 13.224.2.111, 13.224.2.93, ...\n",
            "Connecting to datasets.imdbws.com (datasets.imdbws.com)|13.224.2.40|:443... connected.\n",
            "HTTP request sent, awaiting response... 200 OK\n",
            "Length: 163098861 (156M) [binary/octet-stream]\n",
            "Saving to: ‘title.basics.tsv.gz.1’\n",
            "\n",
            "title.basics.tsv.gz 100%[===================>] 155.54M  42.1MB/s    in 3.8s    \n",
            "\n",
            "2022-10-29 18:27:53 (40.7 MB/s) - ‘title.basics.tsv.gz.1’ saved [163098861/163098861]\n",
            "\n",
            "--2022-10-29 18:27:53--  https://datasets.imdbws.com/title.crew.tsv.gz\n",
            "Resolving datasets.imdbws.com (datasets.imdbws.com)... 13.224.2.40, 13.224.2.111, 13.224.2.93, ...\n",
            "Connecting to datasets.imdbws.com (datasets.imdbws.com)|13.224.2.40|:443... connected.\n",
            "HTTP request sent, awaiting response... 200 OK\n",
            "Length: 62596851 (60M) [binary/octet-stream]\n",
            "Saving to: ‘title.crew.tsv.gz.1’\n",
            "\n",
            "title.crew.tsv.gz.1 100%[===================>]  59.70M  67.1MB/s    in 0.9s    \n",
            "\n",
            "2022-10-29 18:27:54 (67.1 MB/s) - ‘title.crew.tsv.gz.1’ saved [62596851/62596851]\n",
            "\n",
            "--2022-10-29 18:27:54--  https://datasets.imdbws.com/title.episode.tsv.gz\n",
            "Resolving datasets.imdbws.com (datasets.imdbws.com)... 13.224.2.40, 13.224.2.111, 13.224.2.93, ...\n",
            "Connecting to datasets.imdbws.com (datasets.imdbws.com)|13.224.2.40|:443... connected.\n",
            "HTTP request sent, awaiting response... 200 OK\n",
            "Length: 38316710 (37M) [binary/octet-stream]\n",
            "Saving to: ‘title.episode.tsv.gz.1’\n",
            "\n",
            "title.episode.tsv.g 100%[===================>]  36.54M  31.9MB/s    in 1.1s    \n",
            "\n",
            "2022-10-29 18:27:55 (31.9 MB/s) - ‘title.episode.tsv.gz.1’ saved [38316710/38316710]\n",
            "\n",
            "--2022-10-29 18:27:56--  https://datasets.imdbws.com/title.principals.tsv.gz\n",
            "Resolving datasets.imdbws.com (datasets.imdbws.com)... 13.224.2.40, 13.224.2.111, 13.224.2.93, ...\n",
            "Connecting to datasets.imdbws.com (datasets.imdbws.com)|13.224.2.40|:443... connected.\n",
            "HTTP request sent, awaiting response... 200 OK\n",
            "Length: 415246585 (396M) [binary/octet-stream]\n",
            "Saving to: ‘title.principals.tsv.gz.1’\n",
            "\n",
            "title.principals.ts 100%[===================>] 396.01M  45.3MB/s    in 9.8s    \n",
            "\n",
            "2022-10-29 18:28:05 (40.6 MB/s) - ‘title.principals.tsv.gz.1’ saved [415246585/415246585]\n",
            "\n",
            "--2022-10-29 18:28:05--  https://datasets.imdbws.com/title.ratings.tsv.gz\n",
            "Resolving datasets.imdbws.com (datasets.imdbws.com)... 13.224.2.40, 13.224.2.111, 13.224.2.93, ...\n",
            "Connecting to datasets.imdbws.com (datasets.imdbws.com)|13.224.2.40|:443... connected.\n",
            "HTTP request sent, awaiting response... 200 OK\n",
            "Length: 6238103 (5.9M) [binary/octet-stream]\n",
            "Saving to: ‘title.ratings.tsv.gz.1’\n",
            "\n",
            "title.ratings.tsv.g 100%[===================>]   5.95M  --.-KB/s    in 0.07s   \n",
            "\n",
            "2022-10-29 18:28:06 (87.7 MB/s) - ‘title.ratings.tsv.gz.1’ saved [6238103/6238103]\n",
            "\n"
          ]
        }
      ]
    },
    {
      "cell_type": "markdown",
      "source": [
        "Rozpakowanie danych:"
      ],
      "metadata": {
        "id": "or9x68JxXc10"
      }
    },
    {
      "cell_type": "code",
      "source": [
        "!gzip -dc /content/name.basics.tsv.gz > name.basics.csv\n",
        "!gzip -dc /content/title.akas.tsv.gz > title.akas.csv\n",
        "!gzip -dc /content/title.basics.tsv.gz > title.basic.csv\n",
        "!gzip -dc /content/title.crew.tsv.gz > title.crew.csv\n",
        "!gzip -dc /content/title.episode.tsv.gz > title.episode.csv\n",
        "!gzip -dc /content/title.principals.tsv.gz > title.principals.csv\n",
        "!gzip -dc /content/title.ratings.tsv.gz > title.ratings.csv"
      ],
      "metadata": {
        "id": "IpXAjtV4XeKx"
      },
      "execution_count": null,
      "outputs": []
    },
    {
      "cell_type": "markdown",
      "source": [
        "Wczytanie danych:"
      ],
      "metadata": {
        "id": "pPWxy5j_aEvo"
      }
    },
    {
      "cell_type": "code",
      "source": [
        "df_name_basics=spark.read.option(\"header\", \"true\").option(\"delimiter\", \"\\t\").csv('name.basics.csv' ) \n",
        "df_title_akas=spark.read.option(\"header\",\"true\").option(\"delimiter\", \"\\t\").csv('title.akas.csv')\n",
        "df_title_basic=spark.read.option(\"header\",\"true\").option(\"delimiter\", \"\\t\").csv('title.basic.csv')\n",
        "df_title_crew=spark.read.option(\"header\",\"true\").option(\"delimiter\", \"\\t\").csv('title.crew.csv')\n",
        "df_title_episode=spark.read.option(\"header\",\"true\").option(\"delimiter\",\"\\t\").csv('title.episode.csv')\n",
        "df_title_principals=spark.read.option(\"header\",\"true\").option(\"delimiter\",\"\\t\").csv('title.principals.csv')\n",
        "df_title_ratings=spark.read.option(\"header\",\"true\").option(\"delimiter\",\"\\t\").csv('title.ratings.csv')"
      ],
      "metadata": {
        "id": "skegmFMQXpcA"
      },
      "execution_count": null,
      "outputs": []
    },
    {
      "cell_type": "markdown",
      "source": [
        "Zobaczmy dane:"
      ],
      "metadata": {
        "id": "snoopt7lY71j"
      }
    },
    {
      "cell_type": "code",
      "source": [
        "df_name_basics.show()\n",
        "df_title_akas.show()\n",
        "df_title_basic.show()\n",
        "df_title_crew.show()\n",
        "df_title_episode.show()\n",
        "df_title_principals.show()\n",
        "df_title_ratings.show()"
      ],
      "metadata": {
        "colab": {
          "base_uri": "https://localhost:8080/"
        },
        "id": "BQItTCh9ZBht",
        "outputId": "5294f52d-9189-4801-bf9a-c9240b09e292"
      },
      "execution_count": null,
      "outputs": [
        {
          "output_type": "stream",
          "name": "stdout",
          "text": [
            "+---------+-------------------+---------+---------+--------------------+--------------------+\n",
            "|   nconst|        primaryName|birthYear|deathYear|   primaryProfession|      knownForTitles|\n",
            "+---------+-------------------+---------+---------+--------------------+--------------------+\n",
            "|nm0000001|       Fred Astaire|     1899|     1987|soundtrack,actor,...|tt0031983,tt00723...|\n",
            "|nm0000002|      Lauren Bacall|     1924|     2014|  actress,soundtrack|tt0038355,tt00373...|\n",
            "|nm0000003|    Brigitte Bardot|     1934|       \\N|actress,soundtrac...|tt0054452,tt00564...|\n",
            "|nm0000004|       John Belushi|     1949|     1982|actor,soundtrack,...|tt0080455,tt00725...|\n",
            "|nm0000005|     Ingmar Bergman|     1918|     2007|writer,director,a...|tt0060827,tt00839...|\n",
            "|nm0000006|     Ingrid Bergman|     1915|     1982|actress,soundtrac...|tt0077711,tt00381...|\n",
            "|nm0000007|    Humphrey Bogart|     1899|     1957|actor,soundtrack,...|tt0034583,tt00432...|\n",
            "|nm0000008|      Marlon Brando|     1924|     2004|actor,soundtrack,...|tt0078788,tt00472...|\n",
            "|nm0000009|     Richard Burton|     1925|     1984|actor,soundtrack,...|tt0061184,tt00878...|\n",
            "|nm0000010|       James Cagney|     1899|     1986|actor,soundtrack,...|tt0031867,tt00420...|\n",
            "|nm0000011|        Gary Cooper|     1901|     1961|actor,soundtrack,...|tt0035896,tt00447...|\n",
            "|nm0000012|        Bette Davis|     1908|     1989|actress,soundtrac...|tt0035140,tt00566...|\n",
            "|nm0000013|          Doris Day|     1922|     2019|soundtrack,actres...|tt0053172,tt00494...|\n",
            "|nm0000014|Olivia de Havilland|     1916|     2020|  actress,soundtrack|tt0041452,tt00298...|\n",
            "|nm0000015|         James Dean|     1931|     1955| actor,miscellaneous|tt0048545,tt00492...|\n",
            "|nm0000016|    Georges Delerue|     1925|     1992|composer,soundtra...|tt8847712,tt00699...|\n",
            "|nm0000017|   Marlene Dietrich|     1901|     1992|soundtrack,actres...|tt0021156,tt00523...|\n",
            "|nm0000018|       Kirk Douglas|     1916|     2020|actor,producer,so...|tt0054331,tt00494...|\n",
            "|nm0000019|   Federico Fellini|     1920|     1993|writer,director,a...|tt0056801,tt00507...|\n",
            "|nm0000020|        Henry Fonda|     1905|     1982|actor,producer,so...|tt0082846,tt00500...|\n",
            "+---------+-------------------+---------+---------+--------------------+--------------------+\n",
            "only showing top 20 rows\n",
            "\n",
            "+---------+--------+--------------------+------+--------+-----------+--------------------+---------------+\n",
            "|  titleId|ordering|               title|region|language|      types|          attributes|isOriginalTitle|\n",
            "+---------+--------+--------------------+------+--------+-----------+--------------------+---------------+\n",
            "|tt0000001|       1|          Карменсіта|    UA|      \\N|imdbDisplay|                  \\N|              0|\n",
            "|tt0000001|       2|          Carmencita|    DE|      \\N|         \\N|       literal title|              0|\n",
            "|tt0000001|       3|Carmencita - span...|    HU|      \\N|imdbDisplay|                  \\N|              0|\n",
            "|tt0000001|       4|          Καρμενσίτα|    GR|      \\N|imdbDisplay|                  \\N|              0|\n",
            "|tt0000001|       5|          Карменсита|    RU|      \\N|imdbDisplay|                  \\N|              0|\n",
            "|tt0000001|       6|          Carmencita|    US|      \\N|imdbDisplay|                  \\N|              0|\n",
            "|tt0000001|       7|          Carmencita|    \\N|      \\N|   original|                  \\N|              1|\n",
            "|tt0000001|       8|      カルメンチータ|    JP|      ja|imdbDisplay|                  \\N|              0|\n",
            "|tt0000002|       1|Le clown et ses c...|    \\N|      \\N|   original|                  \\N|              1|\n",
            "|tt0000002|       2|Le clown et ses c...|    FR|      \\N|imdbDisplay|                  \\N|              0|\n",
            "|tt0000002|       3|   A bohóc és kutyái|    HU|      \\N|imdbDisplay|                  \\N|              0|\n",
            "|tt0000002|       4|Der Clown und sei...|    DE|      \\N|         \\N|       literal title|              0|\n",
            "|tt0000002|       5|Clovnul si cainii...|    RO|      \\N|imdbDisplay|                  \\N|              0|\n",
            "|tt0000002|       6|  Клоун и его собаки|    RU|      \\N|imdbDisplay|                  \\N|              0|\n",
            "|tt0000002|       7|The Clown and His...|    US|      \\N|         \\N|literal English t...|              0|\n",
            "|tt0000002|       8|          道化師と犬|    JP|      ja|imdbDisplay|                  \\N|              0|\n",
            "|tt0000003|       1|    Sarmanul Pierrot|    RO|      \\N|imdbDisplay|                  \\N|              0|\n",
            "|tt0000003|       2|     Szegény Pierrot|    HU|      \\N|imdbDisplay|                  \\N|              0|\n",
            "|tt0000003|       3|        哀れなピエロ|    JP|      ja|imdbDisplay|                  \\N|              0|\n",
            "|tt0000003|       4|        Бідний П'єро|    UA|      \\N|imdbDisplay|                  \\N|              0|\n",
            "+---------+--------+--------------------+------+--------+-----------+--------------------+---------------+\n",
            "only showing top 20 rows\n",
            "\n",
            "+---------+---------+--------------------+--------------------+-------+---------+-------+--------------+--------------------+\n",
            "|   tconst|titleType|        primaryTitle|       originalTitle|isAdult|startYear|endYear|runtimeMinutes|              genres|\n",
            "+---------+---------+--------------------+--------------------+-------+---------+-------+--------------+--------------------+\n",
            "|tt0000001|    short|          Carmencita|          Carmencita|      0|     1894|     \\N|             1|   Documentary,Short|\n",
            "|tt0000002|    short|Le clown et ses c...|Le clown et ses c...|      0|     1892|     \\N|             5|     Animation,Short|\n",
            "|tt0000003|    short|      Pauvre Pierrot|      Pauvre Pierrot|      0|     1892|     \\N|             4|Animation,Comedy,...|\n",
            "|tt0000004|    short|         Un bon bock|         Un bon bock|      0|     1892|     \\N|            12|     Animation,Short|\n",
            "|tt0000005|    short|    Blacksmith Scene|    Blacksmith Scene|      0|     1893|     \\N|             1|        Comedy,Short|\n",
            "|tt0000006|    short|   Chinese Opium Den|   Chinese Opium Den|      0|     1894|     \\N|             1|               Short|\n",
            "|tt0000007|    short|Corbett and Court...|Corbett and Court...|      0|     1894|     \\N|             1|         Short,Sport|\n",
            "|tt0000008|    short|Edison Kinetoscop...|Edison Kinetoscop...|      0|     1894|     \\N|             1|   Documentary,Short|\n",
            "|tt0000009|    movie|          Miss Jerry|          Miss Jerry|      0|     1894|     \\N|            45|             Romance|\n",
            "|tt0000010|    short| Leaving the Factory|La sortie de l'us...|      0|     1895|     \\N|             1|   Documentary,Short|\n",
            "|tt0000011|    short|Akrobatisches Pot...|Akrobatisches Pot...|      0|     1895|     \\N|             1|   Documentary,Short|\n",
            "|tt0000012|    short|The Arrival of a ...|L'arrivée d'un tr...|      0|     1896|     \\N|             1|   Documentary,Short|\n",
            "|tt0000013|    short|The Photographica...|Le débarquement d...|      0|     1895|     \\N|             1|   Documentary,Short|\n",
            "|tt0000014|    short| The Waterer Watered|   L'arroseur arrosé|      0|     1895|     \\N|             1|        Comedy,Short|\n",
            "|tt0000015|    short| Autour d'une cabine| Autour d'une cabine|      0|     1894|     \\N|             2|     Animation,Short|\n",
            "|tt0000016|    short|Boat Leaving the ...|Barque sortant du...|      0|     1895|     \\N|             1|   Documentary,Short|\n",
            "|tt0000017|    short|Italienischer Bau...|Italienischer Bau...|      0|     1895|     \\N|             1|   Documentary,Short|\n",
            "|tt0000018|    short|Das boxende Känguruh|Das boxende Känguruh|      0|     1895|     \\N|             1|               Short|\n",
            "|tt0000019|    short|    The Clown Barber|    The Clown Barber|      0|     1898|     \\N|            \\N|        Comedy,Short|\n",
            "|tt0000020|    short|      The Derby 1895|      The Derby 1895|      0|     1895|     \\N|             1|Documentary,Short...|\n",
            "+---------+---------+--------------------+--------------------+-------+---------+-------+--------------+--------------------+\n",
            "only showing top 20 rows\n",
            "\n",
            "+---------+-------------------+---------+\n",
            "|   tconst|          directors|  writers|\n",
            "+---------+-------------------+---------+\n",
            "|tt0000001|          nm0005690|       \\N|\n",
            "|tt0000002|          nm0721526|       \\N|\n",
            "|tt0000003|          nm0721526|       \\N|\n",
            "|tt0000004|          nm0721526|       \\N|\n",
            "|tt0000005|          nm0005690|       \\N|\n",
            "|tt0000006|          nm0005690|       \\N|\n",
            "|tt0000007|nm0005690,nm0374658|       \\N|\n",
            "|tt0000008|          nm0005690|       \\N|\n",
            "|tt0000009|          nm0085156|nm0085156|\n",
            "|tt0000010|          nm0525910|       \\N|\n",
            "|tt0000011|          nm0804434|       \\N|\n",
            "|tt0000012|nm0525908,nm0525910|       \\N|\n",
            "|tt0000013|          nm0525910|       \\N|\n",
            "|tt0000014|          nm0525910|       \\N|\n",
            "|tt0000015|          nm0721526|       \\N|\n",
            "|tt0000016|          nm0525910|       \\N|\n",
            "|tt0000017|nm0804434,nm1587194|       \\N|\n",
            "|tt0000018|          nm0804434|       \\N|\n",
            "|tt0000019|          nm0932055|       \\N|\n",
            "|tt0000020|          nm0010291|       \\N|\n",
            "+---------+-------------------+---------+\n",
            "only showing top 20 rows\n",
            "\n",
            "+---------+------------+------------+-------------+\n",
            "|   tconst|parentTconst|seasonNumber|episodeNumber|\n",
            "+---------+------------+------------+-------------+\n",
            "|tt0041951|   tt0041038|           1|            9|\n",
            "|tt0042816|   tt0989125|           1|           17|\n",
            "|tt0042889|   tt0989125|          \\N|           \\N|\n",
            "|tt0043426|   tt0040051|           3|           42|\n",
            "|tt0043631|   tt0989125|           2|           16|\n",
            "|tt0043693|   tt0989125|           2|            8|\n",
            "|tt0043710|   tt0989125|           3|            3|\n",
            "|tt0044093|   tt0959862|           1|            6|\n",
            "|tt0044668|   tt0044243|           2|           16|\n",
            "|tt0044901|   tt0989125|           3|           46|\n",
            "|tt0045519|   tt0989125|           4|           11|\n",
            "|tt0045960|   tt0044284|           2|            3|\n",
            "|tt0046135|   tt0989125|           4|            5|\n",
            "|tt0046150|   tt0341798|          \\N|           \\N|\n",
            "|tt0046855|   tt0046643|           1|            4|\n",
            "|tt0046864|   tt0989125|           5|           20|\n",
            "|tt0047810|   tt0914702|           3|           36|\n",
            "|tt0047852|   tt0047745|           1|           15|\n",
            "|tt0047858|   tt0046637|           2|            9|\n",
            "|tt0047961|   tt0989125|           6|            5|\n",
            "+---------+------------+------------+-------------+\n",
            "only showing top 20 rows\n",
            "\n",
            "+---------+--------+---------+---------------+--------------------+--------------+\n",
            "|   tconst|ordering|   nconst|       category|                 job|    characters|\n",
            "+---------+--------+---------+---------------+--------------------+--------------+\n",
            "|tt0000001|       1|nm1588970|           self|                  \\N|      [\"Self\"]|\n",
            "|tt0000001|       2|nm0005690|       director|                  \\N|            \\N|\n",
            "|tt0000001|       3|nm0374658|cinematographer|director of photo...|            \\N|\n",
            "|tt0000002|       1|nm0721526|       director|                  \\N|            \\N|\n",
            "|tt0000002|       2|nm1335271|       composer|                  \\N|            \\N|\n",
            "|tt0000003|       1|nm0721526|       director|                  \\N|            \\N|\n",
            "|tt0000003|       2|nm1770680|       producer|            producer|            \\N|\n",
            "|tt0000003|       3|nm1335271|       composer|                  \\N|            \\N|\n",
            "|tt0000003|       4|nm5442200|         editor|                  \\N|            \\N|\n",
            "|tt0000004|       1|nm0721526|       director|                  \\N|            \\N|\n",
            "|tt0000004|       2|nm1335271|       composer|                  \\N|            \\N|\n",
            "|tt0000005|       1|nm0443482|          actor|                  \\N|[\"Blacksmith\"]|\n",
            "|tt0000005|       2|nm0653042|          actor|                  \\N| [\"Assistant\"]|\n",
            "|tt0000005|       3|nm0005690|       director|                  \\N|            \\N|\n",
            "|tt0000005|       4|nm0249379|       producer|            producer|            \\N|\n",
            "|tt0000006|       1|nm0005690|       director|                  \\N|            \\N|\n",
            "|tt0000007|       1|nm0179163|          actor|                  \\N|            \\N|\n",
            "|tt0000007|       2|nm0183947|          actor|                  \\N|            \\N|\n",
            "|tt0000007|       3|nm0005690|       director|                  \\N|            \\N|\n",
            "|tt0000007|       4|nm0374658|       director|                  \\N|            \\N|\n",
            "+---------+--------+---------+---------------+--------------------+--------------+\n",
            "only showing top 20 rows\n",
            "\n",
            "+---------+-------------+--------+\n",
            "|   tconst|averageRating|numVotes|\n",
            "+---------+-------------+--------+\n",
            "|tt0000001|          5.7|    1920|\n",
            "|tt0000002|          5.8|     260|\n",
            "|tt0000003|          6.5|    1728|\n",
            "|tt0000004|          5.6|     174|\n",
            "|tt0000005|          6.2|    2542|\n",
            "|tt0000006|          5.1|     175|\n",
            "|tt0000007|          5.4|     797|\n",
            "|tt0000008|          5.4|    2064|\n",
            "|tt0000009|          5.2|     200|\n",
            "|tt0000010|          6.9|    6955|\n",
            "|tt0000011|          5.3|     356|\n",
            "|tt0000012|          7.4|   11925|\n",
            "|tt0000013|          5.7|    1836|\n",
            "|tt0000014|          7.1|    5351|\n",
            "|tt0000015|          6.2|    1025|\n",
            "|tt0000016|          5.9|    1450|\n",
            "|tt0000017|          4.6|     317|\n",
            "|tt0000018|          5.3|     582|\n",
            "|tt0000019|          5.1|      31|\n",
            "|tt0000020|          4.8|     348|\n",
            "+---------+-------------+--------+\n",
            "only showing top 20 rows\n",
            "\n"
          ]
        }
      ]
    }
  ]
}