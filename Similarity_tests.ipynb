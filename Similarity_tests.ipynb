{
  "nbformat": 4,
  "nbformat_minor": 0,
  "metadata": {
    "colab": {
      "provenance": [],
      "authorship_tag": "ABX9TyMN6x8k43ZUy16VousbapmO",
      "include_colab_link": true
    },
    "kernelspec": {
      "name": "python3",
      "display_name": "Python 3"
    },
    "language_info": {
      "name": "python"
    }
  },
  "cells": [
    {
      "cell_type": "markdown",
      "metadata": {
        "id": "view-in-github",
        "colab_type": "text"
      },
      "source": [
        "<a href=\"https://colab.research.google.com/github/PiotrMaciejKowalski/BigData2022-actors/blob/Wyjanienie-modelu---analiza-bdw/Similarity_tests.ipynb\" target=\"_parent\"><img src=\"https://colab.research.google.com/assets/colab-badge.svg\" alt=\"Open In Colab\"/></a>"
      ]
    },
    {
      "cell_type": "code",
      "execution_count": 1,
      "metadata": {
        "colab": {
          "base_uri": "https://localhost:8080/"
        },
        "id": "DUjhhU73FnVz",
        "outputId": "00403fd4-1190-4418-f498-287b4a1205ed"
      },
      "outputs": [
        {
          "output_type": "stream",
          "name": "stdout",
          "text": [
            "Mounted at /content/gdrive\n"
          ]
        }
      ],
      "source": [
        "from google.colab import drive\n",
        "drive.mount('/content/gdrive')"
      ]
    },
    {
      "cell_type": "code",
      "source": [
        "!git clone https://github.com/PiotrMaciejKowalski/BigData2022-actors.git\n",
        "!mv /content/BigData2022-actors/* .\n",
        "!mv /content/BigData2022-actors/.* .\n",
        "!rmdir /content/BigData2022-actors/"
      ],
      "metadata": {
        "colab": {
          "base_uri": "https://localhost:8080/"
        },
        "id": "RsNaC_WnFtrT",
        "outputId": "b0fe2b2b-15bf-4438-f9e4-5cd67621f575"
      },
      "execution_count": 2,
      "outputs": [
        {
          "output_type": "stream",
          "name": "stdout",
          "text": [
            "Cloning into 'BigData2022-actors'...\n",
            "remote: Enumerating objects: 1821, done.\u001b[K\n",
            "remote: Counting objects: 100% (1821/1821), done.\u001b[K\n",
            "remote: Compressing objects: 100% (796/796), done.\u001b[K\n",
            "remote: Total 1821 (delta 1132), reused 1657 (delta 1006), pack-reused 0\u001b[K\n",
            "Receiving objects: 100% (1821/1821), 6.08 MiB | 22.46 MiB/s, done.\n",
            "Resolving deltas: 100% (1132/1132), done.\n",
            "mv: cannot move '/content/BigData2022-actors/.' to './.': Device or resource busy\n",
            "mv: cannot move '/content/BigData2022-actors/..' to './..': Device or resource busy\n"
          ]
        }
      ]
    },
    {
      "cell_type": "code",
      "source": [
        "!git checkout Wyjanienie-modelu---analiza-bdw"
      ],
      "metadata": {
        "colab": {
          "base_uri": "https://localhost:8080/"
        },
        "id": "pUQ7CPOuFtoc",
        "outputId": "94bfc29e-8c67-40ab-c979-b805c93d9fb0"
      },
      "execution_count": 3,
      "outputs": [
        {
          "output_type": "stream",
          "name": "stdout",
          "text": [
            "Branch 'Wyjanienie-modelu---analiza-bdw' set up to track remote branch 'Wyjanienie-modelu---analiza-bdw' from 'origin'.\n",
            "Switched to a new branch 'Wyjanienie-modelu---analiza-bdw'\n"
          ]
        }
      ]
    },
    {
      "cell_type": "code",
      "source": [
        "!chmod +x setup_sparka.sh\n",
        "!./setup_sparka.sh"
      ],
      "metadata": {
        "colab": {
          "base_uri": "https://localhost:8080/"
        },
        "id": "SXoA0zhxFtl3",
        "outputId": "b751791c-823a-491a-c391-8bb52bdbd4b8"
      },
      "execution_count": 4,
      "outputs": [
        {
          "output_type": "stream",
          "name": "stdout",
          "text": [
            "Looking in indexes: https://pypi.org/simple, https://us-python.pkg.dev/colab-wheels/public/simple/\n",
            "Collecting pyspark\n",
            "  Downloading pyspark-3.3.1.tar.gz (281.4 MB)\n",
            "\u001b[2K     \u001b[90m━━━━━━━━━━━━━━━━━━━━━━━━━━━━━━━━━━━━━━━\u001b[0m \u001b[32m281.4/281.4 MB\u001b[0m \u001b[31m4.6 MB/s\u001b[0m eta \u001b[36m0:00:00\u001b[0m\n",
            "\u001b[?25h  Preparing metadata (setup.py) ... \u001b[?25l\u001b[?25hdone\n",
            "Collecting py4j\n",
            "  Downloading py4j-0.10.9.7-py2.py3-none-any.whl (200 kB)\n",
            "\u001b[2K     \u001b[90m━━━━━━━━━━━━━━━━━━━━━━━━━━━━━━━━━━━━━━\u001b[0m \u001b[32m200.5/200.5 KB\u001b[0m \u001b[31m21.3 MB/s\u001b[0m eta \u001b[36m0:00:00\u001b[0m\n",
            "\u001b[?25h  Downloading py4j-0.10.9.5-py2.py3-none-any.whl (199 kB)\n",
            "\u001b[2K     \u001b[90m━━━━━━━━━━━━━━━━━━━━━━━━━━━━━━━━━━━━━━\u001b[0m \u001b[32m199.7/199.7 KB\u001b[0m \u001b[31m18.9 MB/s\u001b[0m eta \u001b[36m0:00:00\u001b[0m\n",
            "\u001b[?25hBuilding wheels for collected packages: pyspark\n",
            "  Building wheel for pyspark (setup.py) ... \u001b[?25l\u001b[?25hdone\n",
            "  Created wheel for pyspark: filename=pyspark-3.3.1-py2.py3-none-any.whl size=281845512 sha256=956dd979bbc0ce4f4dbcf9d3b2f5359ea68132fe6bbce97152d2d250993a288b\n",
            "  Stored in directory: /root/.cache/pip/wheels/43/dc/11/ec201cd671da62fa9c5cc77078235e40722170ceba231d7598\n",
            "Successfully built pyspark\n",
            "Installing collected packages: py4j, pyspark\n",
            "Successfully installed py4j-0.10.9.5 pyspark-3.3.1\n",
            "--2023-01-22 15:10:00--  https://dlcdn.apache.org/spark/spark-3.3.1/spark-3.3.1-bin-hadoop2.tgz\n",
            "Resolving dlcdn.apache.org (dlcdn.apache.org)... 151.101.2.132, 2a04:4e42::644\n",
            "Connecting to dlcdn.apache.org (dlcdn.apache.org)|151.101.2.132|:443... connected.\n",
            "HTTP request sent, awaiting response... 200 OK\n",
            "Length: 274099817 (261M) [application/x-gzip]\n",
            "Saving to: ‘spark-3.3.1-bin-hadoop2.tgz’\n",
            "\n",
            "spark-3.3.1-bin-had 100%[===================>] 261.40M   261MB/s    in 1.0s    \n",
            "\n",
            "2023-01-22 15:10:13 (261 MB/s) - ‘spark-3.3.1-bin-hadoop2.tgz’ saved [274099817/274099817]\n",
            "\n"
          ]
        }
      ]
    },
    {
      "cell_type": "code",
      "source": [
        "import pandas as pd\n",
        "from lib.pyspark_init import create_spark_context\n",
        "import lib.similarity_utils\n",
        "from lib.const import TRAIN_DATA, VALIDATE_DATA, SIMILARITY_VALUES"
      ],
      "metadata": {
        "id": "N_8U8CC6FtjZ"
      },
      "execution_count": 5,
      "outputs": []
    },
    {
      "cell_type": "code",
      "source": [
        "spark = create_spark_context()\n",
        "spark"
      ],
      "metadata": {
        "colab": {
          "base_uri": "https://localhost:8080/",
          "height": 219
        },
        "id": "lcVIAEWVFtgS",
        "outputId": "6126e975-4794-4891-b2a3-e6af329cb7f3"
      },
      "execution_count": 6,
      "outputs": [
        {
          "output_type": "execute_result",
          "data": {
            "text/plain": [
              "<pyspark.sql.session.SparkSession at 0x7f5651761af0>"
            ],
            "text/html": [
              "\n",
              "            <div>\n",
              "                <p><b>SparkSession - in-memory</b></p>\n",
              "                \n",
              "        <div>\n",
              "            <p><b>SparkContext</b></p>\n",
              "\n",
              "            <p><a href=\"http://77fee8606241:4040\">Spark UI</a></p>\n",
              "\n",
              "            <dl>\n",
              "              <dt>Version</dt>\n",
              "                <dd><code>v3.3.1</code></dd>\n",
              "              <dt>Master</dt>\n",
              "                <dd><code>local[*]</code></dd>\n",
              "              <dt>AppName</dt>\n",
              "                <dd><code>Colab</code></dd>\n",
              "            </dl>\n",
              "        </div>\n",
              "        \n",
              "            </div>\n",
              "        "
            ]
          },
          "metadata": {},
          "execution_count": 6
        }
      ]
    },
    {
      "cell_type": "code",
      "source": [
        "!chmod +x download_data.sh\n",
        "!./download_data.sh"
      ],
      "metadata": {
        "colab": {
          "base_uri": "https://localhost:8080/"
        },
        "id": "gox_kjndGAsr",
        "outputId": "1f19aff7-9ef3-4a24-a8f9-fe419b342c31"
      },
      "execution_count": 7,
      "outputs": [
        {
          "output_type": "stream",
          "name": "stdout",
          "text": [
            "--2023-01-22 15:16:17--  https://datasets.imdbws.com/name.basics.tsv.gz\n",
            "Resolving datasets.imdbws.com (datasets.imdbws.com)... 13.224.2.116, 13.224.2.111, 13.224.2.93, ...\n",
            "Connecting to datasets.imdbws.com (datasets.imdbws.com)|13.224.2.116|:443... connected.\n",
            "HTTP request sent, awaiting response... 200 OK\n",
            "Length: 239771823 (229M) [binary/octet-stream]\n",
            "Saving to: ‘name.basics.tsv.gz’\n",
            "\n",
            "name.basics.tsv.gz  100%[===================>] 228.66M  66.5MB/s    in 3.4s    \n",
            "\n",
            "2023-01-22 15:16:20 (66.9 MB/s) - ‘name.basics.tsv.gz’ saved [239771823/239771823]\n",
            "\n",
            "--2023-01-22 15:16:20--  https://datasets.imdbws.com/title.akas.tsv.gz\n",
            "Resolving datasets.imdbws.com (datasets.imdbws.com)... 13.224.2.116, 13.224.2.111, 13.224.2.93, ...\n",
            "Connecting to datasets.imdbws.com (datasets.imdbws.com)|13.224.2.116|:443... connected.\n",
            "HTTP request sent, awaiting response... 200 OK\n",
            "Length: 294377872 (281M) [binary/octet-stream]\n",
            "Saving to: ‘title.akas.tsv.gz’\n",
            "\n",
            "title.akas.tsv.gz   100%[===================>] 280.74M  60.4MB/s    in 4.6s    \n",
            "\n",
            "2023-01-22 15:16:25 (61.0 MB/s) - ‘title.akas.tsv.gz’ saved [294377872/294377872]\n",
            "\n",
            "--2023-01-22 15:16:25--  https://datasets.imdbws.com/title.basics.tsv.gz\n",
            "Resolving datasets.imdbws.com (datasets.imdbws.com)... 13.224.2.116, 13.224.2.111, 13.224.2.93, ...\n",
            "Connecting to datasets.imdbws.com (datasets.imdbws.com)|13.224.2.116|:443... connected.\n",
            "HTTP request sent, awaiting response... 200 OK\n",
            "Length: 166882816 (159M) [binary/octet-stream]\n",
            "Saving to: ‘title.basics.tsv.gz’\n",
            "\n",
            "title.basics.tsv.gz 100%[===================>] 159.15M  62.7MB/s    in 2.5s    \n",
            "\n",
            "2023-01-22 15:16:27 (62.7 MB/s) - ‘title.basics.tsv.gz’ saved [166882816/166882816]\n",
            "\n",
            "--2023-01-22 15:16:28--  https://datasets.imdbws.com/title.crew.tsv.gz\n",
            "Resolving datasets.imdbws.com (datasets.imdbws.com)... 13.224.2.116, 13.224.2.111, 13.224.2.93, ...\n",
            "Connecting to datasets.imdbws.com (datasets.imdbws.com)|13.224.2.116|:443... connected.\n",
            "HTTP request sent, awaiting response... 200 OK\n",
            "Length: 63996127 (61M) [binary/octet-stream]\n",
            "Saving to: ‘title.crew.tsv.gz’\n",
            "\n",
            "title.crew.tsv.gz   100%[===================>]  61.03M  89.8MB/s    in 0.7s    \n",
            "\n",
            "2023-01-22 15:16:28 (89.8 MB/s) - ‘title.crew.tsv.gz’ saved [63996127/63996127]\n",
            "\n",
            "--2023-01-22 15:16:28--  https://datasets.imdbws.com/title.episode.tsv.gz\n",
            "Resolving datasets.imdbws.com (datasets.imdbws.com)... 13.224.2.116, 13.224.2.111, 13.224.2.93, ...\n",
            "Connecting to datasets.imdbws.com (datasets.imdbws.com)|13.224.2.116|:443... connected.\n",
            "HTTP request sent, awaiting response... 200 OK\n",
            "Length: 39404173 (38M) [binary/octet-stream]\n",
            "Saving to: ‘title.episode.tsv.gz’\n",
            "\n",
            "title.episode.tsv.g 100%[===================>]  37.58M  91.3MB/s    in 0.4s    \n",
            "\n",
            "2023-01-22 15:16:29 (91.3 MB/s) - ‘title.episode.tsv.gz’ saved [39404173/39404173]\n",
            "\n",
            "--2023-01-22 15:16:29--  https://datasets.imdbws.com/title.principals.tsv.gz\n",
            "Resolving datasets.imdbws.com (datasets.imdbws.com)... 13.224.2.116, 13.224.2.111, 13.224.2.93, ...\n",
            "Connecting to datasets.imdbws.com (datasets.imdbws.com)|13.224.2.116|:443... connected.\n",
            "HTTP request sent, awaiting response... 200 OK\n",
            "Length: 424856462 (405M) [binary/octet-stream]\n",
            "Saving to: ‘title.principals.tsv.gz’\n",
            "\n",
            "title.principals.ts 100%[===================>] 405.17M   225MB/s    in 1.8s    \n",
            "\n",
            "2023-01-22 15:16:31 (225 MB/s) - ‘title.principals.tsv.gz’ saved [424856462/424856462]\n",
            "\n",
            "--2023-01-22 15:16:31--  https://datasets.imdbws.com/title.ratings.tsv.gz\n",
            "Resolving datasets.imdbws.com (datasets.imdbws.com)... 13.224.2.116, 13.224.2.111, 13.224.2.93, ...\n",
            "Connecting to datasets.imdbws.com (datasets.imdbws.com)|13.224.2.116|:443... connected.\n",
            "HTTP request sent, awaiting response... 200 OK\n",
            "Length: 6378252 (6.1M) [binary/octet-stream]\n",
            "Saving to: ‘title.ratings.tsv.gz’\n",
            "\n",
            "title.ratings.tsv.g 100%[===================>]   6.08M  --.-KB/s    in 0.1s    \n",
            "\n",
            "2023-01-22 15:16:31 (54.4 MB/s) - ‘title.ratings.tsv.gz’ saved [6378252/6378252]\n",
            "\n"
          ]
        }
      ]
    },
    {
      "cell_type": "code",
      "source": [
        "%%time\n",
        "train_data = pd.read_parquet(TRAIN_DATA)\n",
        "validate_data = pd.read_parquet(VALIDATE_DATA)"
      ],
      "metadata": {
        "id": "AMzXW0oIGAqT"
      },
      "execution_count": null,
      "outputs": []
    },
    {
      "cell_type": "markdown",
      "source": [
        "Wyciągnięcie pierwszego aktora"
      ],
      "metadata": {
        "id": "Oum5fGAmGpzt"
      }
    },
    {
      "cell_type": "code",
      "source": [
        "aktor1 = \"Natalie Portman\""
      ],
      "metadata": {
        "id": "4E_wuUsfIfVM"
      },
      "execution_count": null,
      "outputs": []
    },
    {
      "cell_type": "code",
      "source": [
        "if train_data[train_data['primaryName'] == actor1]:\n",
        "    aktor1_data = find_actor(train_data,  train_data[train_data['primaryName'] == actor1]['nconst'])\n",
        "    print(aktor1_data)\n",
        "elif validate_data[validate_data['primaryName'] == actor1]:\n",
        "    aktor1_data = find_actor(validate_data,  validate_data[validate_data['primaryName'] == actor1]['nconst'])\n",
        "    print(aktor1_data)\n",
        "else:\n",
        "    print(\"Aktora nie ma w danych treningowych i walidacyjnych. Wybierz innego aktora.\")"
      ],
      "metadata": {
        "id": "_-6MnsD1GpOl"
      },
      "execution_count": null,
      "outputs": []
    },
    {
      "cell_type": "markdown",
      "source": [
        "Wyciągnięcie drugiego aktora"
      ],
      "metadata": {
        "id": "1dQlAEbFGtx6"
      }
    },
    {
      "cell_type": "code",
      "source": [
        "aktor2 = \"Keira Knightley\""
      ],
      "metadata": {
        "id": "dklhZoNLIjtS"
      },
      "execution_count": null,
      "outputs": []
    },
    {
      "cell_type": "code",
      "source": [
        "if train_data[train_data['primaryName'] == actor2]:\n",
        "    aktor2_data = find_actor(train_data,  train_data[train_data['primaryName'] == actor2]['nconst'])\n",
        "    print(aktor2_data)\n",
        "elif validate_data[validate_data['primaryName'] == actor2]:\n",
        "    aktor2_data = find_actor(validate_data,  validate_data[validate_data['primaryName'] == actor2]['nconst'])\n",
        "    print(aktor2_data)\n",
        "else:\n",
        "    print(\"Aktora nie ma w danych treningowych i walidacyjnych. Wybierz innego aktora.\")"
      ],
      "metadata": {
        "id": "7aTh_u8jGAnf"
      },
      "execution_count": null,
      "outputs": []
    },
    {
      "cell_type": "markdown",
      "source": [
        "Wyniki similarity dla tych dwóch aktorów"
      ],
      "metadata": {
        "id": "LeI3mWFKG3g2"
      }
    },
    {
      "cell_type": "code",
      "source": [
        "similarity_value = similarity(aktor1_data, aktor2_data)\n",
        "print(\"Wartość similarity dla \", aktor1, \" i \", aktor2, \" wynosi: \", similarity_value)"
      ],
      "metadata": {
        "id": "aNvJ9tJ7G3Vm"
      },
      "execution_count": null,
      "outputs": []
    },
    {
      "cell_type": "markdown",
      "source": [
        "Zapisanie porównywanych par aktorów wraz wartością similarity do pliku na Google Drive."
      ],
      "metadata": {
        "id": "e54O__BxMmIL"
      }
    },
    {
      "cell_type": "code",
      "source": [
        "file_object = open(SIMILARITY_VALUES, 'a')\n",
        "file_object.write(aktor1, \", \", aktor2, \", similarity value: \", similarity_value, \"\\n\")\n",
        "file_object.close()"
      ],
      "metadata": {
        "id": "1kiDzvZKLj3R"
      },
      "execution_count": null,
      "outputs": []
    },
    {
      "cell_type": "markdown",
      "source": [
        "Zapisanie wniosków, jeśli wyszło coś ciekawego"
      ],
      "metadata": {
        "id": "DrpSBC63Gxcu"
      }
    },
    {
      "cell_type": "markdown",
      "source": [],
      "metadata": {
        "id": "vcI8pg7TMkS4"
      }
    }
  ]
}