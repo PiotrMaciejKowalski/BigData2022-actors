{
  "nbformat": 4,
  "nbformat_minor": 0,
  "metadata": {
    "colab": {
      "provenance": [],
      "authorship_tag": "ABX9TyNRij+nGgJxSENHlD9bgK5V",
      "include_colab_link": true
    },
    "kernelspec": {
      "name": "python3",
      "display_name": "Python 3"
    },
    "language_info": {
      "name": "python"
    }
  },
  "cells": [
    {
      "cell_type": "markdown",
      "metadata": {
        "id": "view-in-github",
        "colab_type": "text"
      },
      "source": [
        "<a href=\"https://colab.research.google.com/github/PiotrMaciejKowalski/BigData2022-actors/blob/Wyjanienie-modelu---analiza-bdw/Similarity_tests.ipynb\" target=\"_parent\"><img src=\"https://colab.research.google.com/assets/colab-badge.svg\" alt=\"Open In Colab\"/></a>"
      ]
    },
    {
      "cell_type": "code",
      "execution_count": 1,
      "metadata": {
        "colab": {
          "base_uri": "https://localhost:8080/"
        },
        "id": "DUjhhU73FnVz",
        "outputId": "200a8589-f5e6-4d22-fff1-82fe782594d1"
      },
      "outputs": [
        {
          "output_type": "stream",
          "name": "stdout",
          "text": [
            "Mounted at /content/gdrive\n"
          ]
        }
      ],
      "source": [
        "from google.colab import drive\n",
        "drive.mount('/content/gdrive')"
      ]
    },
    {
      "cell_type": "code",
      "source": [
        "!git clone https://github.com/PiotrMaciejKowalski/BigData2022-actors.git\n",
        "!mv /content/BigData2022-actors/* .\n",
        "!mv /content/BigData2022-actors/.* .\n",
        "!rmdir /content/BigData2022-actors/"
      ],
      "metadata": {
        "colab": {
          "base_uri": "https://localhost:8080/"
        },
        "id": "RsNaC_WnFtrT",
        "outputId": "c9637859-5ac4-413b-b814-8200c169f244"
      },
      "execution_count": 2,
      "outputs": [
        {
          "output_type": "stream",
          "name": "stdout",
          "text": [
            "Cloning into 'BigData2022-actors'...\n",
            "remote: Enumerating objects: 1672, done.\u001b[K\n",
            "remote: Counting objects: 100% (451/451), done.\u001b[K\n",
            "remote: Compressing objects: 100% (228/228), done.\u001b[K\n",
            "remote: Total 1672 (delta 331), reused 305 (delta 223), pack-reused 1221\u001b[K\n",
            "Receiving objects: 100% (1672/1672), 6.05 MiB | 6.07 MiB/s, done.\n",
            "Resolving deltas: 100% (1017/1017), done.\n",
            "mv: cannot move '/content/BigData2022-actors/.' to './.': Device or resource busy\n",
            "mv: cannot move '/content/BigData2022-actors/..' to './..': Device or resource busy\n"
          ]
        }
      ]
    },
    {
      "cell_type": "code",
      "source": [
        "!git checkout Wyjanienie-modelu---analiza-bdw"
      ],
      "metadata": {
        "colab": {
          "base_uri": "https://localhost:8080/"
        },
        "id": "pUQ7CPOuFtoc",
        "outputId": "dddbcf10-0161-47ab-f3bf-fa9a3643c9af"
      },
      "execution_count": 3,
      "outputs": [
        {
          "output_type": "stream",
          "name": "stdout",
          "text": [
            "Branch 'Wyjanienie-modelu---analiza-bdw' set up to track remote branch 'Wyjanienie-modelu---analiza-bdw' from 'origin'.\n",
            "Switched to a new branch 'Wyjanienie-modelu---analiza-bdw'\n"
          ]
        }
      ]
    },
    {
      "cell_type": "code",
      "source": [
        "!chmod +x setup_sparka.sh\n",
        "!./setup_sparka.sh"
      ],
      "metadata": {
        "colab": {
          "base_uri": "https://localhost:8080/"
        },
        "id": "SXoA0zhxFtl3",
        "outputId": "16857db4-16e7-46b9-d36f-0df675b13788"
      },
      "execution_count": 4,
      "outputs": [
        {
          "output_type": "stream",
          "name": "stdout",
          "text": [
            "Looking in indexes: https://pypi.org/simple, https://us-python.pkg.dev/colab-wheels/public/simple/\n",
            "Collecting pyspark\n",
            "  Downloading pyspark-3.3.1.tar.gz (281.4 MB)\n",
            "\u001b[2K     \u001b[90m━━━━━━━━━━━━━━━━━━━━━━━━━━━━━━━━━━━━━━━\u001b[0m \u001b[32m281.4/281.4 MB\u001b[0m \u001b[31m4.1 MB/s\u001b[0m eta \u001b[36m0:00:00\u001b[0m\n",
            "\u001b[?25h  Preparing metadata (setup.py) ... \u001b[?25l\u001b[?25hdone\n",
            "Collecting py4j\n",
            "  Downloading py4j-0.10.9.7-py2.py3-none-any.whl (200 kB)\n",
            "\u001b[2K     \u001b[90m━━━━━━━━━━━━━━━━━━━━━━━━━━━━━━━━━━━━━━\u001b[0m \u001b[32m200.5/200.5 KB\u001b[0m \u001b[31m20.6 MB/s\u001b[0m eta \u001b[36m0:00:00\u001b[0m\n",
            "\u001b[?25h  Downloading py4j-0.10.9.5-py2.py3-none-any.whl (199 kB)\n",
            "\u001b[2K     \u001b[90m━━━━━━━━━━━━━━━━━━━━━━━━━━━━━━━━━━━━━━\u001b[0m \u001b[32m199.7/199.7 KB\u001b[0m \u001b[31m19.4 MB/s\u001b[0m eta \u001b[36m0:00:00\u001b[0m\n",
            "\u001b[?25hBuilding wheels for collected packages: pyspark\n",
            "  Building wheel for pyspark (setup.py) ... \u001b[?25l\u001b[?25hdone\n",
            "  Created wheel for pyspark: filename=pyspark-3.3.1-py2.py3-none-any.whl size=281845512 sha256=a57d3d05134b45517afbc52c7f94a9f5ae7708e6de8458f8365a6c9428d9c1ea\n",
            "  Stored in directory: /root/.cache/pip/wheels/43/dc/11/ec201cd671da62fa9c5cc77078235e40722170ceba231d7598\n",
            "Successfully built pyspark\n",
            "Installing collected packages: py4j, pyspark\n",
            "Successfully installed py4j-0.10.9.5 pyspark-3.3.1\n",
            "--2023-01-21 10:17:18--  https://dlcdn.apache.org/spark/spark-3.3.1/spark-3.3.1-bin-hadoop2.tgz\n",
            "Resolving dlcdn.apache.org (dlcdn.apache.org)... 151.101.2.132, 2a04:4e42::644\n",
            "Connecting to dlcdn.apache.org (dlcdn.apache.org)|151.101.2.132|:443... connected.\n",
            "HTTP request sent, awaiting response... 200 OK\n",
            "Length: 274099817 (261M) [application/x-gzip]\n",
            "Saving to: ‘spark-3.3.1-bin-hadoop2.tgz’\n",
            "\n",
            "spark-3.3.1-bin-had 100%[===================>] 261.40M   206MB/s    in 1.3s    \n",
            "\n",
            "2023-01-21 10:17:27 (206 MB/s) - ‘spark-3.3.1-bin-hadoop2.tgz’ saved [274099817/274099817]\n",
            "\n"
          ]
        }
      ]
    },
    {
      "cell_type": "code",
      "source": [
        "import pandas as pd\n",
        "from lib.pyspark_init import create_spark_context\n",
        "from lib.similarity_utils import similarity, find_actor\n",
        "from lib.const import TRAIN_DATA, VALIDATE_DATA, SIMILARITY_VALUES"
      ],
      "metadata": {
        "id": "N_8U8CC6FtjZ"
      },
      "execution_count": 6,
      "outputs": []
    },
    {
      "cell_type": "code",
      "source": [
        "spark = create_spark_context()\n",
        "spark"
      ],
      "metadata": {
        "colab": {
          "base_uri": "https://localhost:8080/",
          "height": 219
        },
        "id": "lcVIAEWVFtgS",
        "outputId": "2abe3722-467d-4e0b-d361-cb412ed94196"
      },
      "execution_count": 7,
      "outputs": [
        {
          "output_type": "execute_result",
          "data": {
            "text/plain": [
              "<pyspark.sql.session.SparkSession at 0x7fccb2eee340>"
            ],
            "text/html": [
              "\n",
              "            <div>\n",
              "                <p><b>SparkSession - in-memory</b></p>\n",
              "                \n",
              "        <div>\n",
              "            <p><b>SparkContext</b></p>\n",
              "\n",
              "            <p><a href=\"http://edbaacefb575:4040\">Spark UI</a></p>\n",
              "\n",
              "            <dl>\n",
              "              <dt>Version</dt>\n",
              "                <dd><code>v3.3.1</code></dd>\n",
              "              <dt>Master</dt>\n",
              "                <dd><code>local[*]</code></dd>\n",
              "              <dt>AppName</dt>\n",
              "                <dd><code>Colab</code></dd>\n",
              "            </dl>\n",
              "        </div>\n",
              "        \n",
              "            </div>\n",
              "        "
            ]
          },
          "metadata": {},
          "execution_count": 7
        }
      ]
    },
    {
      "cell_type": "code",
      "source": [
        "!chmod +x download_data.sh\n",
        "!./download_data.sh"
      ],
      "metadata": {
        "colab": {
          "base_uri": "https://localhost:8080/"
        },
        "id": "gox_kjndGAsr",
        "outputId": "96c6b565-3715-4ad8-9668-9f5d0d9be419"
      },
      "execution_count": 8,
      "outputs": [
        {
          "output_type": "stream",
          "name": "stdout",
          "text": [
            "--2023-01-21 10:21:30--  https://datasets.imdbws.com/name.basics.tsv.gz\n",
            "Resolving datasets.imdbws.com (datasets.imdbws.com)... 13.249.98.61, 13.249.98.73, 13.249.98.91, ...\n",
            "Connecting to datasets.imdbws.com (datasets.imdbws.com)|13.249.98.61|:443... connected.\n",
            "HTTP request sent, awaiting response... 200 OK\n",
            "Length: 239732866 (229M) [binary/octet-stream]\n",
            "Saving to: ‘name.basics.tsv.gz’\n",
            "\n",
            "name.basics.tsv.gz  100%[===================>] 228.63M  36.2MB/s    in 6.2s    \n",
            "\n",
            "2023-01-21 10:21:37 (37.2 MB/s) - ‘name.basics.tsv.gz’ saved [239732866/239732866]\n",
            "\n",
            "--2023-01-21 10:21:37--  https://datasets.imdbws.com/title.akas.tsv.gz\n",
            "Resolving datasets.imdbws.com (datasets.imdbws.com)... 13.249.98.61, 13.249.98.73, 13.249.98.91, ...\n",
            "Connecting to datasets.imdbws.com (datasets.imdbws.com)|13.249.98.61|:443... connected.\n",
            "HTTP request sent, awaiting response... 200 OK\n",
            "Length: 294282805 (281M) [binary/octet-stream]\n",
            "Saving to: ‘title.akas.tsv.gz’\n",
            "\n",
            "title.akas.tsv.gz   100%[===================>] 280.65M  39.6MB/s    in 7.2s    \n",
            "\n",
            "2023-01-21 10:21:44 (38.9 MB/s) - ‘title.akas.tsv.gz’ saved [294282805/294282805]\n",
            "\n",
            "--2023-01-21 10:21:44--  https://datasets.imdbws.com/title.basics.tsv.gz\n",
            "Resolving datasets.imdbws.com (datasets.imdbws.com)... 13.249.98.61, 13.249.98.73, 13.249.98.91, ...\n",
            "Connecting to datasets.imdbws.com (datasets.imdbws.com)|13.249.98.61|:443... connected.\n",
            "HTTP request sent, awaiting response... 200 OK\n",
            "Length: 166824407 (159M) [binary/octet-stream]\n",
            "Saving to: ‘title.basics.tsv.gz’\n",
            "\n",
            "title.basics.tsv.gz 100%[===================>] 159.10M  75.7MB/s    in 2.1s    \n",
            "\n",
            "2023-01-21 10:21:46 (75.7 MB/s) - ‘title.basics.tsv.gz’ saved [166824407/166824407]\n",
            "\n",
            "--2023-01-21 10:21:46--  https://datasets.imdbws.com/title.crew.tsv.gz\n",
            "Resolving datasets.imdbws.com (datasets.imdbws.com)... 13.249.98.61, 13.249.98.73, 13.249.98.91, ...\n",
            "Connecting to datasets.imdbws.com (datasets.imdbws.com)|13.249.98.61|:443... connected.\n",
            "HTTP request sent, awaiting response... 200 OK\n",
            "Length: 63952837 (61M) [binary/octet-stream]\n",
            "Saving to: ‘title.crew.tsv.gz’\n",
            "\n",
            "title.crew.tsv.gz   100%[===================>]  60.99M  42.0MB/s    in 1.5s    \n",
            "\n",
            "2023-01-21 10:21:48 (42.0 MB/s) - ‘title.crew.tsv.gz’ saved [63952837/63952837]\n",
            "\n",
            "--2023-01-21 10:21:48--  https://datasets.imdbws.com/title.episode.tsv.gz\n",
            "Resolving datasets.imdbws.com (datasets.imdbws.com)... 13.249.98.61, 13.249.98.73, 13.249.98.91, ...\n",
            "Connecting to datasets.imdbws.com (datasets.imdbws.com)|13.249.98.61|:443... connected.\n",
            "HTTP request sent, awaiting response... 200 OK\n",
            "Length: 39386007 (38M) [binary/octet-stream]\n",
            "Saving to: ‘title.episode.tsv.gz’\n",
            "\n",
            "title.episode.tsv.g 100%[===================>]  37.56M  26.0MB/s    in 1.4s    \n",
            "\n",
            "2023-01-21 10:21:50 (26.0 MB/s) - ‘title.episode.tsv.gz’ saved [39386007/39386007]\n",
            "\n",
            "--2023-01-21 10:21:50--  https://datasets.imdbws.com/title.principals.tsv.gz\n",
            "Resolving datasets.imdbws.com (datasets.imdbws.com)... 13.249.98.61, 13.249.98.73, 13.249.98.91, ...\n",
            "Connecting to datasets.imdbws.com (datasets.imdbws.com)|13.249.98.61|:443... connected.\n",
            "HTTP request sent, awaiting response... 200 OK\n",
            "Length: 424739138 (405M) [binary/octet-stream]\n",
            "Saving to: ‘title.principals.tsv.gz’\n",
            "\n",
            "title.principals.ts 100%[===================>] 405.06M  39.7MB/s    in 9.9s    \n",
            "\n",
            "2023-01-21 10:22:00 (41.0 MB/s) - ‘title.principals.tsv.gz’ saved [424739138/424739138]\n",
            "\n",
            "--2023-01-21 10:22:00--  https://datasets.imdbws.com/title.ratings.tsv.gz\n",
            "Resolving datasets.imdbws.com (datasets.imdbws.com)... 13.249.98.73, 13.249.98.35, 13.249.98.91, ...\n",
            "Connecting to datasets.imdbws.com (datasets.imdbws.com)|13.249.98.73|:443... connected.\n",
            "HTTP request sent, awaiting response... 200 OK\n",
            "Length: 6377109 (6.1M) [binary/octet-stream]\n",
            "Saving to: ‘title.ratings.tsv.gz’\n",
            "\n",
            "title.ratings.tsv.g 100%[===================>]   6.08M  7.84MB/s    in 0.8s    \n",
            "\n",
            "2023-01-21 10:22:01 (7.84 MB/s) - ‘title.ratings.tsv.gz’ saved [6377109/6377109]\n",
            "\n"
          ]
        }
      ]
    },
    {
      "cell_type": "code",
      "source": [
        "%%time\n",
        "train_data = pd.read_parquet(TRAIN_DATA)\n",
        "validate_data = pd.read_parquet(VALIDATE_DATA)"
      ],
      "metadata": {
        "colab": {
          "base_uri": "https://localhost:8080/"
        },
        "id": "AMzXW0oIGAqT",
        "outputId": "69639a2c-c9d5-43f8-a03b-404c7347d17c"
      },
      "execution_count": 9,
      "outputs": [
        {
          "output_type": "stream",
          "name": "stdout",
          "text": [
            "CPU times: user 69.3 ms, sys: 8.84 ms, total: 78.1 ms\n",
            "Wall time: 10 s\n"
          ]
        }
      ]
    },
    {
      "cell_type": "markdown",
      "source": [
        "Wyciągnięcie pierwszego aktora"
      ],
      "metadata": {
        "id": "Oum5fGAmGpzt"
      }
    },
    {
      "cell_type": "code",
      "source": [
        "aktor1 = \"Natalie Portman\""
      ],
      "metadata": {
        "id": "4E_wuUsfIfVM"
      },
      "execution_count": 10,
      "outputs": []
    },
    {
      "cell_type": "code",
      "source": [
        "if train_data.filter(train_data.primaryName == aktor1):\n",
        "    aktor1_data = find_actor(train_data.filter(train_data.primaryName == aktor1))\n",
        "    print(aktor1_data)\n",
        "elif validate_data.filter(validate_data.primaryName == aktor1):\n",
        "    aktor1_data = find_actor(validate_data.filter(validate_data.primaryName == aktor1))\n",
        "    print(aktor1_data)\n",
        "else:\n",
        "    print(\"Aktora nie ma w danych treningowych i walidacyjnych. Wybierz innego aktora.\")"
      ],
      "metadata": {
        "colab": {
          "base_uri": "https://localhost:8080/",
          "height": 235
        },
        "id": "_-6MnsD1GpOl",
        "outputId": "0563da09-16cd-4a1e-9425-a4185fa26936"
      },
      "execution_count": 11,
      "outputs": [
        {
          "output_type": "error",
          "ename": "NameError",
          "evalue": "ignored",
          "traceback": [
            "\u001b[0;31m---------------------------------------------------------------------------\u001b[0m",
            "\u001b[0;31mNameError\u001b[0m                                 Traceback (most recent call last)",
            "\u001b[0;32m<ipython-input-11-84432efc4956>\u001b[0m in \u001b[0;36m<module>\u001b[0;34m\u001b[0m\n\u001b[1;32m      1\u001b[0m \u001b[0;32mif\u001b[0m \u001b[0mtrain_data\u001b[0m\u001b[0;34m.\u001b[0m\u001b[0mfilter\u001b[0m\u001b[0;34m(\u001b[0m\u001b[0mtrain_data\u001b[0m\u001b[0;34m.\u001b[0m\u001b[0mprimaryName\u001b[0m \u001b[0;34m==\u001b[0m \u001b[0maktor1\u001b[0m\u001b[0;34m)\u001b[0m\u001b[0;34m:\u001b[0m\u001b[0;34m\u001b[0m\u001b[0;34m\u001b[0m\u001b[0m\n\u001b[0;32m----> 2\u001b[0;31m     \u001b[0maktor1_data\u001b[0m \u001b[0;34m=\u001b[0m \u001b[0mprepare_pandas_row\u001b[0m\u001b[0;34m(\u001b[0m\u001b[0mtrain_data\u001b[0m\u001b[0;34m.\u001b[0m\u001b[0mfilter\u001b[0m\u001b[0;34m(\u001b[0m\u001b[0mtrain_data\u001b[0m\u001b[0;34m.\u001b[0m\u001b[0mprimaryName\u001b[0m \u001b[0;34m==\u001b[0m \u001b[0maktor1\u001b[0m\u001b[0;34m)\u001b[0m\u001b[0;34m)\u001b[0m\u001b[0;34m\u001b[0m\u001b[0;34m\u001b[0m\u001b[0m\n\u001b[0m\u001b[1;32m      3\u001b[0m     \u001b[0mprint\u001b[0m\u001b[0;34m(\u001b[0m\u001b[0maktor1_data\u001b[0m\u001b[0;34m)\u001b[0m\u001b[0;34m\u001b[0m\u001b[0;34m\u001b[0m\u001b[0m\n\u001b[1;32m      4\u001b[0m \u001b[0;32melif\u001b[0m \u001b[0mvalidate_data\u001b[0m\u001b[0;34m.\u001b[0m\u001b[0mfilter\u001b[0m\u001b[0;34m(\u001b[0m\u001b[0mvalidate_data\u001b[0m\u001b[0;34m.\u001b[0m\u001b[0mprimaryName\u001b[0m \u001b[0;34m==\u001b[0m \u001b[0maktor1\u001b[0m\u001b[0;34m)\u001b[0m\u001b[0;34m:\u001b[0m\u001b[0;34m\u001b[0m\u001b[0;34m\u001b[0m\u001b[0m\n\u001b[1;32m      5\u001b[0m     \u001b[0maktor1_data\u001b[0m \u001b[0;34m=\u001b[0m \u001b[0mprepare_pandas_row\u001b[0m\u001b[0;34m(\u001b[0m\u001b[0mvalidate_data\u001b[0m\u001b[0;34m.\u001b[0m\u001b[0mfilter\u001b[0m\u001b[0;34m(\u001b[0m\u001b[0mvalidate_data\u001b[0m\u001b[0;34m.\u001b[0m\u001b[0mprimaryName\u001b[0m \u001b[0;34m==\u001b[0m \u001b[0maktor1\u001b[0m\u001b[0;34m)\u001b[0m\u001b[0;34m)\u001b[0m\u001b[0;34m\u001b[0m\u001b[0;34m\u001b[0m\u001b[0m\n",
            "\u001b[0;31mNameError\u001b[0m: name 'prepare_pandas_row' is not defined"
          ]
        }
      ]
    },
    {
      "cell_type": "markdown",
      "source": [
        "Wyciągnięcie drugiego aktora"
      ],
      "metadata": {
        "id": "1dQlAEbFGtx6"
      }
    },
    {
      "cell_type": "code",
      "source": [
        "aktor2 = \"Keira Knightley\""
      ],
      "metadata": {
        "id": "dklhZoNLIjtS"
      },
      "execution_count": null,
      "outputs": []
    },
    {
      "cell_type": "code",
      "source": [
        "if train_data.filter(train_data.primaryName == aktor2):\n",
        "    aktor2_data = prepare_pandas_row(train_data.filter(train_data.primaryName == aktor2))\n",
        "    print(aktor2_data)\n",
        "elif validate_data.filter(validate_data.primaryName == aktor2):\n",
        "    aktor2_data = prepare_pandas_row(validate_data.filter(validate_data.primaryName == aktor2))\n",
        "    print(aktor2_data)\n",
        "else:\n",
        "    print(\"Aktora nie ma w danych treningowych i walidacyjnych. Wybierz innego aktora.\")"
      ],
      "metadata": {
        "id": "7aTh_u8jGAnf"
      },
      "execution_count": null,
      "outputs": []
    },
    {
      "cell_type": "markdown",
      "source": [
        "Wyniki similarity dla tych dwóch aktorów"
      ],
      "metadata": {
        "id": "LeI3mWFKG3g2"
      }
    },
    {
      "cell_type": "code",
      "source": [
        "similarity_value = similarity(aktor1_data, aktor2_data)\n",
        "print(\"Wartość similarity dla \", aktor1, \" i \", aktor2, \" wynosi: \", similarity_value)"
      ],
      "metadata": {
        "id": "aNvJ9tJ7G3Vm"
      },
      "execution_count": null,
      "outputs": []
    },
    {
      "cell_type": "markdown",
      "source": [
        "Zapisanie porównywanych par aktorów wraz wartością similarity do pliku na Google Drive."
      ],
      "metadata": {
        "id": "e54O__BxMmIL"
      }
    },
    {
      "cell_type": "code",
      "source": [
        "file_object = open(SIMILARITY_VALUES, 'a')\n",
        "file_object.write(aktor1, \", \", aktor2, \", similarity value: \", similarity_value, \"\\n\")\n",
        "file_object.close()"
      ],
      "metadata": {
        "id": "1kiDzvZKLj3R"
      },
      "execution_count": null,
      "outputs": []
    },
    {
      "cell_type": "markdown",
      "source": [
        "Zapisanie wniosków, jeśli wyszło coś ciekawego"
      ],
      "metadata": {
        "id": "DrpSBC63Gxcu"
      }
    },
    {
      "cell_type": "markdown",
      "source": [],
      "metadata": {
        "id": "vcI8pg7TMkS4"
      }
    }
  ]
}