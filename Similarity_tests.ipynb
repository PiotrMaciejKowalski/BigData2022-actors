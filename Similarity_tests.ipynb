{
  "nbformat": 4,
  "nbformat_minor": 0,
  "metadata": {
    "colab": {
      "provenance": [],
      "authorship_tag": "ABX9TyOEJFhDhXvqAxfna1JA0c58",
      "include_colab_link": true
    },
    "kernelspec": {
      "name": "python3",
      "display_name": "Python 3"
    },
    "language_info": {
      "name": "python"
    }
  },
  "cells": [
    {
      "cell_type": "markdown",
      "metadata": {
        "id": "view-in-github",
        "colab_type": "text"
      },
      "source": [
        "<a href=\"https://colab.research.google.com/github/PiotrMaciejKowalski/BigData2022-actors/blob/Wyjanienie-modelu---analiza-bdw/Similarity_tests.ipynb\" target=\"_parent\"><img src=\"https://colab.research.google.com/assets/colab-badge.svg\" alt=\"Open In Colab\"/></a>"
      ]
    },
    {
      "cell_type": "code",
      "execution_count": 1,
      "metadata": {
        "colab": {
          "base_uri": "https://localhost:8080/"
        },
        "id": "DUjhhU73FnVz",
        "outputId": "c1d8846d-5ec7-4d2e-d46f-059a8dbcf4ab"
      },
      "outputs": [
        {
          "output_type": "stream",
          "name": "stdout",
          "text": [
            "Mounted at /content/gdrive\n"
          ]
        }
      ],
      "source": [
        "from google.colab import drive\n",
        "drive.mount('/content/gdrive')"
      ]
    },
    {
      "cell_type": "code",
      "source": [
        "!git clone https://github.com/PiotrMaciejKowalski/BigData2022-actors.git\n",
        "!mv /content/BigData2022-actors/* .\n",
        "!mv /content/BigData2022-actors/.* .\n",
        "!rmdir /content/BigData2022-actors/"
      ],
      "metadata": {
        "colab": {
          "base_uri": "https://localhost:8080/"
        },
        "id": "RsNaC_WnFtrT",
        "outputId": "2ed7295b-495e-4411-d837-263b4636b3f6"
      },
      "execution_count": 2,
      "outputs": [
        {
          "output_type": "stream",
          "name": "stdout",
          "text": [
            "Cloning into 'BigData2022-actors'...\n",
            "remote: Enumerating objects: 1829, done.\u001b[K\n",
            "remote: Counting objects: 100% (1829/1829), done.\u001b[K\n",
            "remote: Compressing objects: 100% (804/804), done.\u001b[K\n",
            "remote: Total 1829 (delta 1135), reused 1657 (delta 1006), pack-reused 0\u001b[K\n",
            "Receiving objects: 100% (1829/1829), 6.08 MiB | 10.31 MiB/s, done.\n",
            "Resolving deltas: 100% (1135/1135), done.\n",
            "mv: cannot move '/content/BigData2022-actors/.' to './.': Device or resource busy\n",
            "mv: cannot move '/content/BigData2022-actors/..' to './..': Device or resource busy\n"
          ]
        }
      ]
    },
    {
      "cell_type": "code",
      "source": [
        "!git checkout Wyjanienie-modelu---analiza-bdw"
      ],
      "metadata": {
        "colab": {
          "base_uri": "https://localhost:8080/"
        },
        "id": "pUQ7CPOuFtoc",
        "outputId": "7abd12bc-baca-4e71-9552-8cf337eb40d6"
      },
      "execution_count": 3,
      "outputs": [
        {
          "output_type": "stream",
          "name": "stdout",
          "text": [
            "Branch 'Wyjanienie-modelu---analiza-bdw' set up to track remote branch 'Wyjanienie-modelu---analiza-bdw' from 'origin'.\n",
            "Switched to a new branch 'Wyjanienie-modelu---analiza-bdw'\n"
          ]
        }
      ]
    },
    {
      "cell_type": "code",
      "source": [
        "!chmod +x setup_sparka.sh\n",
        "!./setup_sparka.sh"
      ],
      "metadata": {
        "colab": {
          "base_uri": "https://localhost:8080/"
        },
        "id": "SXoA0zhxFtl3",
        "outputId": "d4db00d6-8a31-49ca-d409-3780fb36c809"
      },
      "execution_count": 4,
      "outputs": [
        {
          "output_type": "stream",
          "name": "stdout",
          "text": [
            "Looking in indexes: https://pypi.org/simple, https://us-python.pkg.dev/colab-wheels/public/simple/\n",
            "Collecting pyspark\n",
            "  Downloading pyspark-3.3.1.tar.gz (281.4 MB)\n",
            "\u001b[2K     \u001b[90m━━━━━━━━━━━━━━━━━━━━━━━━━━━━━━━━━━━━━━━\u001b[0m \u001b[32m281.4/281.4 MB\u001b[0m \u001b[31m5.4 MB/s\u001b[0m eta \u001b[36m0:00:00\u001b[0m\n",
            "\u001b[?25h  Preparing metadata (setup.py) ... \u001b[?25l\u001b[?25hdone\n",
            "Collecting py4j\n",
            "  Downloading py4j-0.10.9.7-py2.py3-none-any.whl (200 kB)\n",
            "\u001b[2K     \u001b[90m━━━━━━━━━━━━━━━━━━━━━━━━━━━━━━━━━━━━━━\u001b[0m \u001b[32m200.5/200.5 KB\u001b[0m \u001b[31m21.8 MB/s\u001b[0m eta \u001b[36m0:00:00\u001b[0m\n",
            "\u001b[?25h  Downloading py4j-0.10.9.5-py2.py3-none-any.whl (199 kB)\n",
            "\u001b[2K     \u001b[90m━━━━━━━━━━━━━━━━━━━━━━━━━━━━━━━━━━━━━━\u001b[0m \u001b[32m199.7/199.7 KB\u001b[0m \u001b[31m21.8 MB/s\u001b[0m eta \u001b[36m0:00:00\u001b[0m\n",
            "\u001b[?25hBuilding wheels for collected packages: pyspark\n",
            "  Building wheel for pyspark (setup.py) ... \u001b[?25l\u001b[?25hdone\n",
            "  Created wheel for pyspark: filename=pyspark-3.3.1-py2.py3-none-any.whl size=281845512 sha256=65b40ff9eda5c0c1cb525e377c4f5570863989f5bd159ef25ac00d314e8f6643\n",
            "  Stored in directory: /root/.cache/pip/wheels/43/dc/11/ec201cd671da62fa9c5cc77078235e40722170ceba231d7598\n",
            "Successfully built pyspark\n",
            "Installing collected packages: py4j, pyspark\n",
            "Successfully installed py4j-0.10.9.5 pyspark-3.3.1\n",
            "--2023-01-22 16:11:46--  https://dlcdn.apache.org/spark/spark-3.3.1/spark-3.3.1-bin-hadoop2.tgz\n",
            "Resolving dlcdn.apache.org (dlcdn.apache.org)... 151.101.2.132, 2a04:4e42::644\n",
            "Connecting to dlcdn.apache.org (dlcdn.apache.org)|151.101.2.132|:443... connected.\n",
            "HTTP request sent, awaiting response... 200 OK\n",
            "Length: 274099817 (261M) [application/x-gzip]\n",
            "Saving to: ‘spark-3.3.1-bin-hadoop2.tgz’\n",
            "\n",
            "spark-3.3.1-bin-had 100%[===================>] 261.40M   314MB/s    in 0.8s    \n",
            "\n",
            "2023-01-22 16:11:47 (314 MB/s) - ‘spark-3.3.1-bin-hadoop2.tgz’ saved [274099817/274099817]\n",
            "\n"
          ]
        }
      ]
    },
    {
      "cell_type": "code",
      "source": [
        "import pandas as pd\n",
        "from lib.pyspark_init import create_spark_context\n",
        "from lib.similarity_utils import *\n",
        "from lib.const import TRAIN_DATA, VALIDATE_DATA, SIMILARITY_VALUES, RANKINGS"
      ],
      "metadata": {
        "id": "N_8U8CC6FtjZ"
      },
      "execution_count": 12,
      "outputs": []
    },
    {
      "cell_type": "code",
      "source": [
        "spark = create_spark_context()\n",
        "spark"
      ],
      "metadata": {
        "colab": {
          "base_uri": "https://localhost:8080/",
          "height": 219
        },
        "id": "lcVIAEWVFtgS",
        "outputId": "a8ba4540-2324-4f30-81b4-8df067a9e06f"
      },
      "execution_count": 6,
      "outputs": [
        {
          "output_type": "execute_result",
          "data": {
            "text/plain": [
              "<pyspark.sql.session.SparkSession at 0x7fae28394040>"
            ],
            "text/html": [
              "\n",
              "            <div>\n",
              "                <p><b>SparkSession - in-memory</b></p>\n",
              "                \n",
              "        <div>\n",
              "            <p><b>SparkContext</b></p>\n",
              "\n",
              "            <p><a href=\"http://31d0a7a49118:4040\">Spark UI</a></p>\n",
              "\n",
              "            <dl>\n",
              "              <dt>Version</dt>\n",
              "                <dd><code>v3.3.1</code></dd>\n",
              "              <dt>Master</dt>\n",
              "                <dd><code>local[*]</code></dd>\n",
              "              <dt>AppName</dt>\n",
              "                <dd><code>Colab</code></dd>\n",
              "            </dl>\n",
              "        </div>\n",
              "        \n",
              "            </div>\n",
              "        "
            ]
          },
          "metadata": {},
          "execution_count": 6
        }
      ]
    },
    {
      "cell_type": "code",
      "source": [
        "!chmod +x download_data.sh\n",
        "!./download_data.sh"
      ],
      "metadata": {
        "colab": {
          "base_uri": "https://localhost:8080/"
        },
        "id": "gox_kjndGAsr",
        "outputId": "0f118e87-bce3-4a23-afd5-3ba49782d33f"
      },
      "execution_count": 7,
      "outputs": [
        {
          "output_type": "stream",
          "name": "stdout",
          "text": [
            "--2023-01-22 16:11:58--  https://datasets.imdbws.com/name.basics.tsv.gz\n",
            "Resolving datasets.imdbws.com (datasets.imdbws.com)... 65.9.86.88, 65.9.86.16, 65.9.86.82, ...\n",
            "Connecting to datasets.imdbws.com (datasets.imdbws.com)|65.9.86.88|:443... connected.\n",
            "HTTP request sent, awaiting response... 200 OK\n",
            "Length: 239771823 (229M) [binary/octet-stream]\n",
            "Saving to: ‘name.basics.tsv.gz’\n",
            "\n",
            "name.basics.tsv.gz  100%[===================>] 228.66M  87.5MB/s    in 2.6s    \n",
            "\n",
            "2023-01-22 16:12:01 (87.5 MB/s) - ‘name.basics.tsv.gz’ saved [239771823/239771823]\n",
            "\n",
            "--2023-01-22 16:12:01--  https://datasets.imdbws.com/title.akas.tsv.gz\n",
            "Resolving datasets.imdbws.com (datasets.imdbws.com)... 65.9.86.88, 65.9.86.16, 65.9.86.82, ...\n",
            "Connecting to datasets.imdbws.com (datasets.imdbws.com)|65.9.86.88|:443... connected.\n",
            "HTTP request sent, awaiting response... 200 OK\n",
            "Length: 294377872 (281M) [binary/octet-stream]\n",
            "Saving to: ‘title.akas.tsv.gz’\n",
            "\n",
            "title.akas.tsv.gz   100%[===================>] 280.74M  76.2MB/s    in 3.7s    \n",
            "\n",
            "2023-01-22 16:12:05 (76.3 MB/s) - ‘title.akas.tsv.gz’ saved [294377872/294377872]\n",
            "\n",
            "--2023-01-22 16:12:05--  https://datasets.imdbws.com/title.basics.tsv.gz\n",
            "Resolving datasets.imdbws.com (datasets.imdbws.com)... 65.9.86.88, 65.9.86.16, 65.9.86.82, ...\n",
            "Connecting to datasets.imdbws.com (datasets.imdbws.com)|65.9.86.88|:443... connected.\n",
            "HTTP request sent, awaiting response... 200 OK\n",
            "Length: 166882816 (159M) [binary/octet-stream]\n",
            "Saving to: ‘title.basics.tsv.gz’\n",
            "\n",
            "title.basics.tsv.gz 100%[===================>] 159.15M  32.4MB/s    in 4.6s    \n",
            "\n",
            "2023-01-22 16:12:09 (34.3 MB/s) - ‘title.basics.tsv.gz’ saved [166882816/166882816]\n",
            "\n",
            "--2023-01-22 16:12:09--  https://datasets.imdbws.com/title.crew.tsv.gz\n",
            "Resolving datasets.imdbws.com (datasets.imdbws.com)... 65.9.86.88, 65.9.86.16, 65.9.86.82, ...\n",
            "Connecting to datasets.imdbws.com (datasets.imdbws.com)|65.9.86.88|:443... connected.\n",
            "HTTP request sent, awaiting response... 200 OK\n",
            "Length: 63996127 (61M) [binary/octet-stream]\n",
            "Saving to: ‘title.crew.tsv.gz’\n",
            "\n",
            "title.crew.tsv.gz   100%[===================>]  61.03M   103MB/s    in 0.6s    \n",
            "\n",
            "2023-01-22 16:12:10 (103 MB/s) - ‘title.crew.tsv.gz’ saved [63996127/63996127]\n",
            "\n",
            "--2023-01-22 16:12:10--  https://datasets.imdbws.com/title.episode.tsv.gz\n",
            "Resolving datasets.imdbws.com (datasets.imdbws.com)... 65.9.86.88, 65.9.86.16, 65.9.86.82, ...\n",
            "Connecting to datasets.imdbws.com (datasets.imdbws.com)|65.9.86.88|:443... connected.\n",
            "HTTP request sent, awaiting response... 200 OK\n",
            "Length: 39404173 (38M) [binary/octet-stream]\n",
            "Saving to: ‘title.episode.tsv.gz’\n",
            "\n",
            "title.episode.tsv.g 100%[===================>]  37.58M  95.0MB/s    in 0.4s    \n",
            "\n",
            "2023-01-22 16:12:10 (95.0 MB/s) - ‘title.episode.tsv.gz’ saved [39404173/39404173]\n",
            "\n",
            "--2023-01-22 16:12:10--  https://datasets.imdbws.com/title.principals.tsv.gz\n",
            "Resolving datasets.imdbws.com (datasets.imdbws.com)... 65.9.86.88, 65.9.86.16, 65.9.86.82, ...\n",
            "Connecting to datasets.imdbws.com (datasets.imdbws.com)|65.9.86.88|:443... connected.\n",
            "HTTP request sent, awaiting response... 200 OK\n",
            "Length: 424856462 (405M) [binary/octet-stream]\n",
            "Saving to: ‘title.principals.tsv.gz’\n",
            "\n",
            "title.principals.ts 100%[===================>] 405.17M  39.4MB/s    in 10s     \n",
            "\n",
            "2023-01-22 16:12:21 (39.8 MB/s) - ‘title.principals.tsv.gz’ saved [424856462/424856462]\n",
            "\n",
            "--2023-01-22 16:12:21--  https://datasets.imdbws.com/title.ratings.tsv.gz\n",
            "Resolving datasets.imdbws.com (datasets.imdbws.com)... 65.9.86.88, 65.9.86.16, 65.9.86.82, ...\n",
            "Connecting to datasets.imdbws.com (datasets.imdbws.com)|65.9.86.88|:443... connected.\n",
            "HTTP request sent, awaiting response... 200 OK\n",
            "Length: 6378252 (6.1M) [binary/octet-stream]\n",
            "Saving to: ‘title.ratings.tsv.gz’\n",
            "\n",
            "title.ratings.tsv.g 100%[===================>]   6.08M  --.-KB/s    in 0.1s    \n",
            "\n",
            "2023-01-22 16:12:21 (53.7 MB/s) - ‘title.ratings.tsv.gz’ saved [6378252/6378252]\n",
            "\n"
          ]
        }
      ]
    },
    {
      "cell_type": "code",
      "source": [
        "%%time\n",
        "train_data = pd.read_parquet(TRAIN_DATA, columns=[\"nconst\", \"tconst\", \"titleType\", \"genres\", \"category\", \"primaryName\", \"knownForTitles\", \"average_films_rating_norm\", \"genres_code\", \"types_code\"])\n",
        "validate_data = pd.read_parquet(VALIDATE_DATA, columns=[\"nconst\", \"tconst\", \"titleType\", \"genres\", \"category\", \"primaryName\", \"knownForTitles\", \"average_films_rating_norm\", \"genres_code\", \"types_code\"])"
      ],
      "metadata": {
        "colab": {
          "base_uri": "https://localhost:8080/"
        },
        "id": "AMzXW0oIGAqT",
        "outputId": "9d1e336e-4ce8-47ed-b5a3-9fe2364f011a"
      },
      "execution_count": 8,
      "outputs": [
        {
          "output_type": "stream",
          "name": "stdout",
          "text": [
            "CPU times: user 29.8 s, sys: 4.87 s, total: 34.7 s\n",
            "Wall time: 43.3 s\n"
          ]
        }
      ]
    },
    {
      "cell_type": "markdown",
      "source": [
        "# Porównywanie dwóch aktorów"
      ],
      "metadata": {
        "id": "r8q5uNEDV57T"
      }
    },
    {
      "cell_type": "markdown",
      "source": [
        "Wyciągnięcie pierwszego aktora"
      ],
      "metadata": {
        "id": "Oum5fGAmGpzt"
      }
    },
    {
      "cell_type": "code",
      "source": [
        "actor1 = \"Natalie Portman\""
      ],
      "metadata": {
        "id": "4E_wuUsfIfVM"
      },
      "execution_count": 9,
      "outputs": []
    },
    {
      "cell_type": "code",
      "source": [
        "if (train_data['primaryName'] == actor1).any():\n",
        "    actor1_data = find_actor(train_data,  train_data[train_data['primaryName'] == actor1].iloc[0]['nconst'])\n",
        "    display(pd.DataFrame(actor1_data))\n",
        "    actor1_data = prepare_pandas_row(actor1_data)\n",
        "elif (validate_data['primaryName'] == actor1).any():\n",
        "    actor1_data = find_actor(validate_data,  validate_data[validate_data['primaryName'] == actor1].iloc[0]['nconst'])\n",
        "    display(pd.DataFrame(actor1_data))\n",
        "    actor1_data = prepare_pandas_row(actor1_data)\n",
        "else:\n",
        "    print(\"Aktora nie ma w danych treningowych i walidacyjnych. Wybierz innego aktora.\")"
      ],
      "metadata": {
        "colab": {
          "base_uri": "https://localhost:8080/",
          "height": 363
        },
        "id": "_-6MnsD1GpOl",
        "outputId": "9b988589-ba1b-4d82-e48b-6c975a4ad3cc"
      },
      "execution_count": 30,
      "outputs": [
        {
          "output_type": "display_data",
          "data": {
            "text/plain": [
              "                                                                      337799\n",
              "nconst                                                             nm0000204\n",
              "tconst                     [tt0121766, tt1032825, tt8918080, tt1094249, t...\n",
              "titleType                  [movie, movie, video, short, short, movie, mov...\n",
              "genres                     [Action, Adventure, Fantasy, Drama, Short, Dra...\n",
              "category                                                             actress\n",
              "primaryName                                                  Natalie Portman\n",
              "knownForTitles                  [tt0947798, tt0376541, tt0110413, tt0434409]\n",
              "average_films_rating_norm                                              0.666\n",
              "genres_code                [1, 1, 1, 1, 1, 1, 1, 0, 1, 1, 0, 0, 1, 1, 0, ...\n",
              "types_code                                 [0, 1, 0, 1, 1, 0, 1, 0, 0, 1, 0]"
            ],
            "text/html": [
              "\n",
              "  <div id=\"df-223d711a-b463-43bc-86a8-342e75707002\">\n",
              "    <div class=\"colab-df-container\">\n",
              "      <div>\n",
              "<style scoped>\n",
              "    .dataframe tbody tr th:only-of-type {\n",
              "        vertical-align: middle;\n",
              "    }\n",
              "\n",
              "    .dataframe tbody tr th {\n",
              "        vertical-align: top;\n",
              "    }\n",
              "\n",
              "    .dataframe thead th {\n",
              "        text-align: right;\n",
              "    }\n",
              "</style>\n",
              "<table border=\"1\" class=\"dataframe\">\n",
              "  <thead>\n",
              "    <tr style=\"text-align: right;\">\n",
              "      <th></th>\n",
              "      <th>337799</th>\n",
              "    </tr>\n",
              "  </thead>\n",
              "  <tbody>\n",
              "    <tr>\n",
              "      <th>nconst</th>\n",
              "      <td>nm0000204</td>\n",
              "    </tr>\n",
              "    <tr>\n",
              "      <th>tconst</th>\n",
              "      <td>[tt0121766, tt1032825, tt8918080, tt1094249, t...</td>\n",
              "    </tr>\n",
              "    <tr>\n",
              "      <th>titleType</th>\n",
              "      <td>[movie, movie, video, short, short, movie, mov...</td>\n",
              "    </tr>\n",
              "    <tr>\n",
              "      <th>genres</th>\n",
              "      <td>[Action, Adventure, Fantasy, Drama, Short, Dra...</td>\n",
              "    </tr>\n",
              "    <tr>\n",
              "      <th>category</th>\n",
              "      <td>actress</td>\n",
              "    </tr>\n",
              "    <tr>\n",
              "      <th>primaryName</th>\n",
              "      <td>Natalie Portman</td>\n",
              "    </tr>\n",
              "    <tr>\n",
              "      <th>knownForTitles</th>\n",
              "      <td>[tt0947798, tt0376541, tt0110413, tt0434409]</td>\n",
              "    </tr>\n",
              "    <tr>\n",
              "      <th>average_films_rating_norm</th>\n",
              "      <td>0.666</td>\n",
              "    </tr>\n",
              "    <tr>\n",
              "      <th>genres_code</th>\n",
              "      <td>[1, 1, 1, 1, 1, 1, 1, 0, 1, 1, 0, 0, 1, 1, 0, ...</td>\n",
              "    </tr>\n",
              "    <tr>\n",
              "      <th>types_code</th>\n",
              "      <td>[0, 1, 0, 1, 1, 0, 1, 0, 0, 1, 0]</td>\n",
              "    </tr>\n",
              "  </tbody>\n",
              "</table>\n",
              "</div>\n",
              "      <button class=\"colab-df-convert\" onclick=\"convertToInteractive('df-223d711a-b463-43bc-86a8-342e75707002')\"\n",
              "              title=\"Convert this dataframe to an interactive table.\"\n",
              "              style=\"display:none;\">\n",
              "        \n",
              "  <svg xmlns=\"http://www.w3.org/2000/svg\" height=\"24px\"viewBox=\"0 0 24 24\"\n",
              "       width=\"24px\">\n",
              "    <path d=\"M0 0h24v24H0V0z\" fill=\"none\"/>\n",
              "    <path d=\"M18.56 5.44l.94 2.06.94-2.06 2.06-.94-2.06-.94-.94-2.06-.94 2.06-2.06.94zm-11 1L8.5 8.5l.94-2.06 2.06-.94-2.06-.94L8.5 2.5l-.94 2.06-2.06.94zm10 10l.94 2.06.94-2.06 2.06-.94-2.06-.94-.94-2.06-.94 2.06-2.06.94z\"/><path d=\"M17.41 7.96l-1.37-1.37c-.4-.4-.92-.59-1.43-.59-.52 0-1.04.2-1.43.59L10.3 9.45l-7.72 7.72c-.78.78-.78 2.05 0 2.83L4 21.41c.39.39.9.59 1.41.59.51 0 1.02-.2 1.41-.59l7.78-7.78 2.81-2.81c.8-.78.8-2.07 0-2.86zM5.41 20L4 18.59l7.72-7.72 1.47 1.35L5.41 20z\"/>\n",
              "  </svg>\n",
              "      </button>\n",
              "      \n",
              "  <style>\n",
              "    .colab-df-container {\n",
              "      display:flex;\n",
              "      flex-wrap:wrap;\n",
              "      gap: 12px;\n",
              "    }\n",
              "\n",
              "    .colab-df-convert {\n",
              "      background-color: #E8F0FE;\n",
              "      border: none;\n",
              "      border-radius: 50%;\n",
              "      cursor: pointer;\n",
              "      display: none;\n",
              "      fill: #1967D2;\n",
              "      height: 32px;\n",
              "      padding: 0 0 0 0;\n",
              "      width: 32px;\n",
              "    }\n",
              "\n",
              "    .colab-df-convert:hover {\n",
              "      background-color: #E2EBFA;\n",
              "      box-shadow: 0px 1px 2px rgba(60, 64, 67, 0.3), 0px 1px 3px 1px rgba(60, 64, 67, 0.15);\n",
              "      fill: #174EA6;\n",
              "    }\n",
              "\n",
              "    [theme=dark] .colab-df-convert {\n",
              "      background-color: #3B4455;\n",
              "      fill: #D2E3FC;\n",
              "    }\n",
              "\n",
              "    [theme=dark] .colab-df-convert:hover {\n",
              "      background-color: #434B5C;\n",
              "      box-shadow: 0px 1px 3px 1px rgba(0, 0, 0, 0.15);\n",
              "      filter: drop-shadow(0px 1px 2px rgba(0, 0, 0, 0.3));\n",
              "      fill: #FFFFFF;\n",
              "    }\n",
              "  </style>\n",
              "\n",
              "      <script>\n",
              "        const buttonEl =\n",
              "          document.querySelector('#df-223d711a-b463-43bc-86a8-342e75707002 button.colab-df-convert');\n",
              "        buttonEl.style.display =\n",
              "          google.colab.kernel.accessAllowed ? 'block' : 'none';\n",
              "\n",
              "        async function convertToInteractive(key) {\n",
              "          const element = document.querySelector('#df-223d711a-b463-43bc-86a8-342e75707002');\n",
              "          const dataTable =\n",
              "            await google.colab.kernel.invokeFunction('convertToInteractive',\n",
              "                                                     [key], {});\n",
              "          if (!dataTable) return;\n",
              "\n",
              "          const docLinkHtml = 'Like what you see? Visit the ' +\n",
              "            '<a target=\"_blank\" href=https://colab.research.google.com/notebooks/data_table.ipynb>data table notebook</a>'\n",
              "            + ' to learn more about interactive tables.';\n",
              "          element.innerHTML = '';\n",
              "          dataTable['output_type'] = 'display_data';\n",
              "          await google.colab.output.renderOutput(dataTable, element);\n",
              "          const docLink = document.createElement('div');\n",
              "          docLink.innerHTML = docLinkHtml;\n",
              "          element.appendChild(docLink);\n",
              "        }\n",
              "      </script>\n",
              "    </div>\n",
              "  </div>\n",
              "  "
            ]
          },
          "metadata": {}
        }
      ]
    },
    {
      "cell_type": "markdown",
      "source": [
        "Wyciągnięcie drugiego aktora"
      ],
      "metadata": {
        "id": "1dQlAEbFGtx6"
      }
    },
    {
      "cell_type": "code",
      "source": [
        "actor2 = \"Keira Knightley\""
      ],
      "metadata": {
        "id": "dklhZoNLIjtS"
      },
      "execution_count": 25,
      "outputs": []
    },
    {
      "cell_type": "code",
      "source": [
        "if (train_data['primaryName'] == actor2).any():\n",
        "    actor2_data = find_actor(train_data,  train_data[train_data['primaryName'] == actor2].iloc[0]['nconst'])\n",
        "    display(pd.DataFrame(actor2_data))\n",
        "    actor2_data = prepare_pandas_row(actor2_data)\n",
        "elif (validate_data['primaryName'] == actor2).any():\n",
        "    actor2_data = find_actor(validate_data,  validate_data[validate_data['primaryName'] == actor2].iloc[0]['nconst'])\n",
        "    display(pd.DataFrame(actor2_data))\n",
        "    actor2_data = prepare_pandas_row(actor2_data)\n",
        "else:\n",
        "    print(\"Aktora nie ma w danych treningowych i walidacyjnych. Wybierz innego aktora.\")"
      ],
      "metadata": {
        "colab": {
          "base_uri": "https://localhost:8080/",
          "height": 363
        },
        "id": "7aTh_u8jGAnf",
        "outputId": "eb607b86-141c-4a02-b58a-b9b4ac81728e"
      },
      "execution_count": 31,
      "outputs": [
        {
          "output_type": "display_data",
          "data": {
            "text/plain": [
              "                                                                      993366\n",
              "nconst                                                             nm0461136\n",
              "tconst                     [tt0368925, tt0366627, tt0409997, tt1307068, t...\n",
              "titleType                  [videoGame, movie, video, movie, movie, movie,...\n",
              "genres                     [Adventure, Fantasy, Drama, Fantasy, Mystery, ...\n",
              "category                                                             actress\n",
              "primaryName                                                  Keira Knightley\n",
              "knownForTitles                  [tt0325980, tt2084970, tt0783233, tt0414387]\n",
              "average_films_rating_norm                                              0.648\n",
              "genres_code                [1, 1, 1, 1, 1, 1, 1, 0, 1, 1, 0, 0, 1, 1, 0, ...\n",
              "types_code                                 [1, 1, 1, 1, 1, 0, 1, 1, 1, 1, 0]"
            ],
            "text/html": [
              "\n",
              "  <div id=\"df-c968a596-3fce-4a22-9354-174274d9627c\">\n",
              "    <div class=\"colab-df-container\">\n",
              "      <div>\n",
              "<style scoped>\n",
              "    .dataframe tbody tr th:only-of-type {\n",
              "        vertical-align: middle;\n",
              "    }\n",
              "\n",
              "    .dataframe tbody tr th {\n",
              "        vertical-align: top;\n",
              "    }\n",
              "\n",
              "    .dataframe thead th {\n",
              "        text-align: right;\n",
              "    }\n",
              "</style>\n",
              "<table border=\"1\" class=\"dataframe\">\n",
              "  <thead>\n",
              "    <tr style=\"text-align: right;\">\n",
              "      <th></th>\n",
              "      <th>993366</th>\n",
              "    </tr>\n",
              "  </thead>\n",
              "  <tbody>\n",
              "    <tr>\n",
              "      <th>nconst</th>\n",
              "      <td>nm0461136</td>\n",
              "    </tr>\n",
              "    <tr>\n",
              "      <th>tconst</th>\n",
              "      <td>[tt0368925, tt0366627, tt0409997, tt1307068, t...</td>\n",
              "    </tr>\n",
              "    <tr>\n",
              "      <th>titleType</th>\n",
              "      <td>[videoGame, movie, video, movie, movie, movie,...</td>\n",
              "    </tr>\n",
              "    <tr>\n",
              "      <th>genres</th>\n",
              "      <td>[Adventure, Fantasy, Drama, Fantasy, Mystery, ...</td>\n",
              "    </tr>\n",
              "    <tr>\n",
              "      <th>category</th>\n",
              "      <td>actress</td>\n",
              "    </tr>\n",
              "    <tr>\n",
              "      <th>primaryName</th>\n",
              "      <td>Keira Knightley</td>\n",
              "    </tr>\n",
              "    <tr>\n",
              "      <th>knownForTitles</th>\n",
              "      <td>[tt0325980, tt2084970, tt0783233, tt0414387]</td>\n",
              "    </tr>\n",
              "    <tr>\n",
              "      <th>average_films_rating_norm</th>\n",
              "      <td>0.648</td>\n",
              "    </tr>\n",
              "    <tr>\n",
              "      <th>genres_code</th>\n",
              "      <td>[1, 1, 1, 1, 1, 1, 1, 0, 1, 1, 0, 0, 1, 1, 0, ...</td>\n",
              "    </tr>\n",
              "    <tr>\n",
              "      <th>types_code</th>\n",
              "      <td>[1, 1, 1, 1, 1, 0, 1, 1, 1, 1, 0]</td>\n",
              "    </tr>\n",
              "  </tbody>\n",
              "</table>\n",
              "</div>\n",
              "      <button class=\"colab-df-convert\" onclick=\"convertToInteractive('df-c968a596-3fce-4a22-9354-174274d9627c')\"\n",
              "              title=\"Convert this dataframe to an interactive table.\"\n",
              "              style=\"display:none;\">\n",
              "        \n",
              "  <svg xmlns=\"http://www.w3.org/2000/svg\" height=\"24px\"viewBox=\"0 0 24 24\"\n",
              "       width=\"24px\">\n",
              "    <path d=\"M0 0h24v24H0V0z\" fill=\"none\"/>\n",
              "    <path d=\"M18.56 5.44l.94 2.06.94-2.06 2.06-.94-2.06-.94-.94-2.06-.94 2.06-2.06.94zm-11 1L8.5 8.5l.94-2.06 2.06-.94-2.06-.94L8.5 2.5l-.94 2.06-2.06.94zm10 10l.94 2.06.94-2.06 2.06-.94-2.06-.94-.94-2.06-.94 2.06-2.06.94z\"/><path d=\"M17.41 7.96l-1.37-1.37c-.4-.4-.92-.59-1.43-.59-.52 0-1.04.2-1.43.59L10.3 9.45l-7.72 7.72c-.78.78-.78 2.05 0 2.83L4 21.41c.39.39.9.59 1.41.59.51 0 1.02-.2 1.41-.59l7.78-7.78 2.81-2.81c.8-.78.8-2.07 0-2.86zM5.41 20L4 18.59l7.72-7.72 1.47 1.35L5.41 20z\"/>\n",
              "  </svg>\n",
              "      </button>\n",
              "      \n",
              "  <style>\n",
              "    .colab-df-container {\n",
              "      display:flex;\n",
              "      flex-wrap:wrap;\n",
              "      gap: 12px;\n",
              "    }\n",
              "\n",
              "    .colab-df-convert {\n",
              "      background-color: #E8F0FE;\n",
              "      border: none;\n",
              "      border-radius: 50%;\n",
              "      cursor: pointer;\n",
              "      display: none;\n",
              "      fill: #1967D2;\n",
              "      height: 32px;\n",
              "      padding: 0 0 0 0;\n",
              "      width: 32px;\n",
              "    }\n",
              "\n",
              "    .colab-df-convert:hover {\n",
              "      background-color: #E2EBFA;\n",
              "      box-shadow: 0px 1px 2px rgba(60, 64, 67, 0.3), 0px 1px 3px 1px rgba(60, 64, 67, 0.15);\n",
              "      fill: #174EA6;\n",
              "    }\n",
              "\n",
              "    [theme=dark] .colab-df-convert {\n",
              "      background-color: #3B4455;\n",
              "      fill: #D2E3FC;\n",
              "    }\n",
              "\n",
              "    [theme=dark] .colab-df-convert:hover {\n",
              "      background-color: #434B5C;\n",
              "      box-shadow: 0px 1px 3px 1px rgba(0, 0, 0, 0.15);\n",
              "      filter: drop-shadow(0px 1px 2px rgba(0, 0, 0, 0.3));\n",
              "      fill: #FFFFFF;\n",
              "    }\n",
              "  </style>\n",
              "\n",
              "      <script>\n",
              "        const buttonEl =\n",
              "          document.querySelector('#df-c968a596-3fce-4a22-9354-174274d9627c button.colab-df-convert');\n",
              "        buttonEl.style.display =\n",
              "          google.colab.kernel.accessAllowed ? 'block' : 'none';\n",
              "\n",
              "        async function convertToInteractive(key) {\n",
              "          const element = document.querySelector('#df-c968a596-3fce-4a22-9354-174274d9627c');\n",
              "          const dataTable =\n",
              "            await google.colab.kernel.invokeFunction('convertToInteractive',\n",
              "                                                     [key], {});\n",
              "          if (!dataTable) return;\n",
              "\n",
              "          const docLinkHtml = 'Like what you see? Visit the ' +\n",
              "            '<a target=\"_blank\" href=https://colab.research.google.com/notebooks/data_table.ipynb>data table notebook</a>'\n",
              "            + ' to learn more about interactive tables.';\n",
              "          element.innerHTML = '';\n",
              "          dataTable['output_type'] = 'display_data';\n",
              "          await google.colab.output.renderOutput(dataTable, element);\n",
              "          const docLink = document.createElement('div');\n",
              "          docLink.innerHTML = docLinkHtml;\n",
              "          element.appendChild(docLink);\n",
              "        }\n",
              "      </script>\n",
              "    </div>\n",
              "  </div>\n",
              "  "
            ]
          },
          "metadata": {}
        }
      ]
    },
    {
      "cell_type": "markdown",
      "source": [
        "Wyniki similarity dla tych dwóch aktorów"
      ],
      "metadata": {
        "id": "LeI3mWFKG3g2"
      }
    },
    {
      "cell_type": "code",
      "source": [
        "similarity_value = similarity(actor1_data, actor2_data, True)\n",
        "print(\"Wartość similarity dla \", actor1, \" i \", actor2, \" wynosi: \", similarity_value)"
      ],
      "metadata": {
        "colab": {
          "base_uri": "https://localhost:8080/"
        },
        "id": "aNvJ9tJ7G3Vm",
        "outputId": "b405121b-7321-46ba-f474-5c30b699bc53"
      },
      "execution_count": 33,
      "outputs": [
        {
          "output_type": "stream",
          "name": "stdout",
          "text": [
            "Wartość similarity dla  Natalie Portman  i  Keira Knightley  wynosi:  0.16222222222222227\n"
          ]
        }
      ]
    },
    {
      "cell_type": "markdown",
      "source": [
        "Zapisanie porównywanych par aktorów wraz wartością similarity do pliku na Google Drive."
      ],
      "metadata": {
        "id": "e54O__BxMmIL"
      }
    },
    {
      "cell_type": "code",
      "source": [
        "file_object = open(SIMILARITY_VALUES, 'a')\n",
        "text = \"{}, {}, similarity value: {}\\n\".format(actor1, actor2, similarity_value)\n",
        "file_object.write(text)\n",
        "file_object.close()"
      ],
      "metadata": {
        "id": "1kiDzvZKLj3R"
      },
      "execution_count": 37,
      "outputs": []
    },
    {
      "cell_type": "markdown",
      "source": [
        "Zapisanie wniosków, jeśli wyszło coś ciekawego"
      ],
      "metadata": {
        "id": "DrpSBC63Gxcu"
      }
    },
    {
      "cell_type": "markdown",
      "source": [],
      "metadata": {
        "id": "vcI8pg7TMkS4"
      }
    },
    {
      "cell_type": "markdown",
      "source": [
        "# Ranking najbardziej podobnych aktoró do podanego"
      ],
      "metadata": {
        "id": "izniBDUMV4Qj"
      }
    },
    {
      "cell_type": "markdown",
      "source": [
        "Wyciągnięcie aktora"
      ],
      "metadata": {
        "id": "u7xVnBSMWBPy"
      }
    },
    {
      "cell_type": "code",
      "source": [
        "actor = \"Natalie Portman\""
      ],
      "metadata": {
        "id": "V5aRg8HNWAZu"
      },
      "execution_count": 38,
      "outputs": []
    },
    {
      "cell_type": "code",
      "source": [
        "if (train_data['primaryName'] == actor).any():\n",
        "    actor_data = find_actor(train_data,  train_data[train_data['primaryName'] == actor].iloc[0]['nconst'])\n",
        "    display(pd.DataFrame(actor_data))\n",
        "    actor_id = actor_data['nconst']\n",
        "elif (validate_data['primaryName'] == actor).any():\n",
        "    actor_data = find_actor(validate_data,  validate_data[validate_data['primaryName'] == actor].iloc[0]['nconst'])\n",
        "    display(pd.DataFrame(actor_data))\n",
        "    actor_id = actor_data['nconst']\n",
        "else:\n",
        "    print(\"Aktora nie ma w danych treningowych i walidacyjnych. Wybierz innego aktora.\")"
      ],
      "metadata": {
        "colab": {
          "base_uri": "https://localhost:8080/",
          "height": 363
        },
        "id": "jXtCIWWnWJbb",
        "outputId": "2b2768be-6f67-4f0d-eb81-c8c7103dcb94"
      },
      "execution_count": 43,
      "outputs": [
        {
          "output_type": "display_data",
          "data": {
            "text/plain": [
              "                                                                      337799\n",
              "nconst                                                             nm0000204\n",
              "tconst                     [tt0121766, tt1032825, tt8918080, tt1094249, t...\n",
              "titleType                  [movie, movie, video, short, short, movie, mov...\n",
              "genres                     [Action, Adventure, Fantasy, Drama, Short, Dra...\n",
              "category                                                             actress\n",
              "primaryName                                                  Natalie Portman\n",
              "knownForTitles                  [tt0947798, tt0376541, tt0110413, tt0434409]\n",
              "average_films_rating_norm                                              0.666\n",
              "genres_code                [1, 1, 1, 1, 1, 1, 1, 0, 1, 1, 0, 0, 1, 1, 0, ...\n",
              "types_code                                 [0, 1, 0, 1, 1, 0, 1, 0, 0, 1, 0]"
            ],
            "text/html": [
              "\n",
              "  <div id=\"df-ee033509-80bd-4f4d-9b2e-81caf18c54e1\">\n",
              "    <div class=\"colab-df-container\">\n",
              "      <div>\n",
              "<style scoped>\n",
              "    .dataframe tbody tr th:only-of-type {\n",
              "        vertical-align: middle;\n",
              "    }\n",
              "\n",
              "    .dataframe tbody tr th {\n",
              "        vertical-align: top;\n",
              "    }\n",
              "\n",
              "    .dataframe thead th {\n",
              "        text-align: right;\n",
              "    }\n",
              "</style>\n",
              "<table border=\"1\" class=\"dataframe\">\n",
              "  <thead>\n",
              "    <tr style=\"text-align: right;\">\n",
              "      <th></th>\n",
              "      <th>337799</th>\n",
              "    </tr>\n",
              "  </thead>\n",
              "  <tbody>\n",
              "    <tr>\n",
              "      <th>nconst</th>\n",
              "      <td>nm0000204</td>\n",
              "    </tr>\n",
              "    <tr>\n",
              "      <th>tconst</th>\n",
              "      <td>[tt0121766, tt1032825, tt8918080, tt1094249, t...</td>\n",
              "    </tr>\n",
              "    <tr>\n",
              "      <th>titleType</th>\n",
              "      <td>[movie, movie, video, short, short, movie, mov...</td>\n",
              "    </tr>\n",
              "    <tr>\n",
              "      <th>genres</th>\n",
              "      <td>[Action, Adventure, Fantasy, Drama, Short, Dra...</td>\n",
              "    </tr>\n",
              "    <tr>\n",
              "      <th>category</th>\n",
              "      <td>actress</td>\n",
              "    </tr>\n",
              "    <tr>\n",
              "      <th>primaryName</th>\n",
              "      <td>Natalie Portman</td>\n",
              "    </tr>\n",
              "    <tr>\n",
              "      <th>knownForTitles</th>\n",
              "      <td>[tt0947798, tt0376541, tt0110413, tt0434409]</td>\n",
              "    </tr>\n",
              "    <tr>\n",
              "      <th>average_films_rating_norm</th>\n",
              "      <td>0.666</td>\n",
              "    </tr>\n",
              "    <tr>\n",
              "      <th>genres_code</th>\n",
              "      <td>[1, 1, 1, 1, 1, 1, 1, 0, 1, 1, 0, 0, 1, 1, 0, ...</td>\n",
              "    </tr>\n",
              "    <tr>\n",
              "      <th>types_code</th>\n",
              "      <td>[0, 1, 0, 1, 1, 0, 1, 0, 0, 1, 0]</td>\n",
              "    </tr>\n",
              "  </tbody>\n",
              "</table>\n",
              "</div>\n",
              "      <button class=\"colab-df-convert\" onclick=\"convertToInteractive('df-ee033509-80bd-4f4d-9b2e-81caf18c54e1')\"\n",
              "              title=\"Convert this dataframe to an interactive table.\"\n",
              "              style=\"display:none;\">\n",
              "        \n",
              "  <svg xmlns=\"http://www.w3.org/2000/svg\" height=\"24px\"viewBox=\"0 0 24 24\"\n",
              "       width=\"24px\">\n",
              "    <path d=\"M0 0h24v24H0V0z\" fill=\"none\"/>\n",
              "    <path d=\"M18.56 5.44l.94 2.06.94-2.06 2.06-.94-2.06-.94-.94-2.06-.94 2.06-2.06.94zm-11 1L8.5 8.5l.94-2.06 2.06-.94-2.06-.94L8.5 2.5l-.94 2.06-2.06.94zm10 10l.94 2.06.94-2.06 2.06-.94-2.06-.94-.94-2.06-.94 2.06-2.06.94z\"/><path d=\"M17.41 7.96l-1.37-1.37c-.4-.4-.92-.59-1.43-.59-.52 0-1.04.2-1.43.59L10.3 9.45l-7.72 7.72c-.78.78-.78 2.05 0 2.83L4 21.41c.39.39.9.59 1.41.59.51 0 1.02-.2 1.41-.59l7.78-7.78 2.81-2.81c.8-.78.8-2.07 0-2.86zM5.41 20L4 18.59l7.72-7.72 1.47 1.35L5.41 20z\"/>\n",
              "  </svg>\n",
              "      </button>\n",
              "      \n",
              "  <style>\n",
              "    .colab-df-container {\n",
              "      display:flex;\n",
              "      flex-wrap:wrap;\n",
              "      gap: 12px;\n",
              "    }\n",
              "\n",
              "    .colab-df-convert {\n",
              "      background-color: #E8F0FE;\n",
              "      border: none;\n",
              "      border-radius: 50%;\n",
              "      cursor: pointer;\n",
              "      display: none;\n",
              "      fill: #1967D2;\n",
              "      height: 32px;\n",
              "      padding: 0 0 0 0;\n",
              "      width: 32px;\n",
              "    }\n",
              "\n",
              "    .colab-df-convert:hover {\n",
              "      background-color: #E2EBFA;\n",
              "      box-shadow: 0px 1px 2px rgba(60, 64, 67, 0.3), 0px 1px 3px 1px rgba(60, 64, 67, 0.15);\n",
              "      fill: #174EA6;\n",
              "    }\n",
              "\n",
              "    [theme=dark] .colab-df-convert {\n",
              "      background-color: #3B4455;\n",
              "      fill: #D2E3FC;\n",
              "    }\n",
              "\n",
              "    [theme=dark] .colab-df-convert:hover {\n",
              "      background-color: #434B5C;\n",
              "      box-shadow: 0px 1px 3px 1px rgba(0, 0, 0, 0.15);\n",
              "      filter: drop-shadow(0px 1px 2px rgba(0, 0, 0, 0.3));\n",
              "      fill: #FFFFFF;\n",
              "    }\n",
              "  </style>\n",
              "\n",
              "      <script>\n",
              "        const buttonEl =\n",
              "          document.querySelector('#df-ee033509-80bd-4f4d-9b2e-81caf18c54e1 button.colab-df-convert');\n",
              "        buttonEl.style.display =\n",
              "          google.colab.kernel.accessAllowed ? 'block' : 'none';\n",
              "\n",
              "        async function convertToInteractive(key) {\n",
              "          const element = document.querySelector('#df-ee033509-80bd-4f4d-9b2e-81caf18c54e1');\n",
              "          const dataTable =\n",
              "            await google.colab.kernel.invokeFunction('convertToInteractive',\n",
              "                                                     [key], {});\n",
              "          if (!dataTable) return;\n",
              "\n",
              "          const docLinkHtml = 'Like what you see? Visit the ' +\n",
              "            '<a target=\"_blank\" href=https://colab.research.google.com/notebooks/data_table.ipynb>data table notebook</a>'\n",
              "            + ' to learn more about interactive tables.';\n",
              "          element.innerHTML = '';\n",
              "          dataTable['output_type'] = 'display_data';\n",
              "          await google.colab.output.renderOutput(dataTable, element);\n",
              "          const docLink = document.createElement('div');\n",
              "          docLink.innerHTML = docLinkHtml;\n",
              "          element.appendChild(docLink);\n",
              "        }\n",
              "      </script>\n",
              "    </div>\n",
              "  </div>\n",
              "  "
            ]
          },
          "metadata": {}
        }
      ]
    },
    {
      "cell_type": "markdown",
      "source": [
        "Ranking 3 najbardziej podobnych aktorów do podanego powyżej"
      ],
      "metadata": {
        "id": "Bd56WluvWTXD"
      }
    },
    {
      "cell_type": "code",
      "source": [
        "if (train_data['primaryName'] == actor).any():\n",
        "    ranking = get_ranking(train_data, actor_id, 3, True)\n",
        "    ranking_names = replace_ids_with_names(train_data, ranking, True)\n",
        "elif (validate_data['primaryName'] == actor).any():\n",
        "    ranking = get_ranking(validate_data, actor_id, 3, True)\n",
        "    ranking_names = replace_ids_with_names(validate_data, ranking, True)\n",
        "print(ranking_names)"
      ],
      "metadata": {
        "colab": {
          "base_uri": "https://localhost:8080/",
          "height": 235
        },
        "id": "esrraEQAWYlC",
        "outputId": "df42a0fb-b924-4f84-d12e-bb01449c10fa"
      },
      "execution_count": 46,
      "outputs": [
        {
          "output_type": "error",
          "ename": "TypeError",
          "evalue": "ignored",
          "traceback": [
            "\u001b[0;31m---------------------------------------------------------------------------\u001b[0m",
            "\u001b[0;31mTypeError\u001b[0m                                 Traceback (most recent call last)",
            "\u001b[0;32m<ipython-input-46-4efa4f9a80c9>\u001b[0m in \u001b[0;36m<module>\u001b[0;34m\u001b[0m\n\u001b[1;32m      1\u001b[0m \u001b[0;32mif\u001b[0m \u001b[0;34m(\u001b[0m\u001b[0mtrain_data\u001b[0m\u001b[0;34m[\u001b[0m\u001b[0;34m'primaryName'\u001b[0m\u001b[0;34m]\u001b[0m \u001b[0;34m==\u001b[0m \u001b[0mactor\u001b[0m\u001b[0;34m)\u001b[0m\u001b[0;34m.\u001b[0m\u001b[0many\u001b[0m\u001b[0;34m(\u001b[0m\u001b[0;34m)\u001b[0m\u001b[0;34m:\u001b[0m\u001b[0;34m\u001b[0m\u001b[0;34m\u001b[0m\u001b[0m\n\u001b[1;32m      2\u001b[0m     \u001b[0mranking\u001b[0m \u001b[0;34m=\u001b[0m \u001b[0mget_ranking\u001b[0m\u001b[0;34m(\u001b[0m\u001b[0mtrain_data\u001b[0m\u001b[0;34m,\u001b[0m \u001b[0mactor_id\u001b[0m\u001b[0;34m,\u001b[0m \u001b[0;36m3\u001b[0m\u001b[0;34m,\u001b[0m \u001b[0;32mTrue\u001b[0m\u001b[0;34m)\u001b[0m\u001b[0;34m\u001b[0m\u001b[0;34m\u001b[0m\u001b[0m\n\u001b[0;32m----> 3\u001b[0;31m     \u001b[0mranking_names\u001b[0m \u001b[0;34m=\u001b[0m \u001b[0mreplace_ids_with_names\u001b[0m\u001b[0;34m(\u001b[0m\u001b[0mtrain_data\u001b[0m\u001b[0;34m,\u001b[0m \u001b[0mranking\u001b[0m\u001b[0;34m,\u001b[0m \u001b[0;32mTrue\u001b[0m\u001b[0;34m)\u001b[0m\u001b[0;34m\u001b[0m\u001b[0;34m\u001b[0m\u001b[0m\n\u001b[0m\u001b[1;32m      4\u001b[0m \u001b[0;32melif\u001b[0m \u001b[0;34m(\u001b[0m\u001b[0mvalidate_data\u001b[0m\u001b[0;34m[\u001b[0m\u001b[0;34m'primaryName'\u001b[0m\u001b[0;34m]\u001b[0m \u001b[0;34m==\u001b[0m \u001b[0mactor\u001b[0m\u001b[0;34m)\u001b[0m\u001b[0;34m.\u001b[0m\u001b[0many\u001b[0m\u001b[0;34m(\u001b[0m\u001b[0;34m)\u001b[0m\u001b[0;34m:\u001b[0m\u001b[0;34m\u001b[0m\u001b[0;34m\u001b[0m\u001b[0m\n\u001b[1;32m      5\u001b[0m     \u001b[0mranking\u001b[0m \u001b[0;34m=\u001b[0m \u001b[0mget_ranking\u001b[0m\u001b[0;34m(\u001b[0m\u001b[0mvalidate_data\u001b[0m\u001b[0;34m,\u001b[0m \u001b[0mactor_id\u001b[0m\u001b[0;34m,\u001b[0m \u001b[0;36m3\u001b[0m\u001b[0;34m,\u001b[0m \u001b[0;32mTrue\u001b[0m\u001b[0;34m)\u001b[0m\u001b[0;34m\u001b[0m\u001b[0;34m\u001b[0m\u001b[0m\n",
            "\u001b[0;31mTypeError\u001b[0m: replace_ids_with_names() takes 2 positional arguments but 3 were given"
          ]
        }
      ]
    },
    {
      "cell_type": "markdown",
      "source": [
        "Zapisanie do pliku"
      ],
      "metadata": {
        "id": "qto0Fzp5fRqy"
      }
    },
    {
      "cell_type": "code",
      "source": [
        "file_object = open(RANKINGS, 'a')\n",
        "text = \"{}, Najbardziej podobni: {}\\n\".format(actor, ranking_names)\n",
        "file_object.write(text)\n",
        "file_object.close()"
      ],
      "metadata": {
        "id": "CoyrUJHkfRY1"
      },
      "execution_count": null,
      "outputs": []
    }
  ]
}