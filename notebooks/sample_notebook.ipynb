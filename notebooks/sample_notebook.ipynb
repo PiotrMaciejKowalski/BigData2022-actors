{
 "cells": [
  {
   "cell_type": "code",
   "execution_count": 1,
   "metadata": {},
   "outputs": [],
   "source": [
    "import os\n",
    "\n",
    "while 'notebooks' in os.getcwd():\n",
    "    os.chdir(\"../\")"
   ]
  },
  {
   "cell_type": "markdown",
   "metadata": {},
   "source": [
    "# Opis notatnika\n",
    "\n",
    "Dobrze napisać na początku po co istnieje ten notatnik i co dodaje do projektu. \n",
    "\n",
    "Notatnik który reprezentuje jakąś część przetwarzania powinno się zapisywać do repo po wykonaniu `Clear Output of All Cells` by nie wykazywać w PR nieistotnych zmian. Ale czasem zapisuje się notatniki z outputem i wtedy traktuje się je jako końcowe raporty."
   ]
  },
  {
   "cell_type": "code",
   "execution_count": null,
   "metadata": {},
   "outputs": [],
   "source": [
    "# Wszystkie importy na początku \n",
    "# pozwala to pilnować zależności w projekcie\n",
    "# kolejność importów \n",
    "# - od bibliotek o dużej ogólności\n",
    "# - poprzez zależności do cudzych projektów \n",
    "# - do własnych plików z lib/"
   ]
  },
  {
   "cell_type": "markdown",
   "metadata": {},
   "source": [
    "TODO: usunąć ten notatnik, gdy pojawi się faktyczny notatnik dotyczący projektu"
   ]
  }
 ],
 "metadata": {
  "kernelspec": {
   "display_name": "Python 3.11.0 64-bit",
   "language": "python",
   "name": "python3"
  },
  "language_info": {
   "codemirror_mode": {
    "name": "ipython",
    "version": 3
   },
   "file_extension": ".py",
   "mimetype": "text/x-python",
   "name": "python",
   "nbconvert_exporter": "python",
   "pygments_lexer": "ipython3",
   "version": "3.11.0"
  },
  "orig_nbformat": 4,
  "vscode": {
   "interpreter": {
    "hash": "a995ee2689a86f51e9b6c8d486f5f37602c71c091cf2c9f4f00a2719ed505f52"
   }
  }
 },
 "nbformat": 4,
 "nbformat_minor": 2
}
