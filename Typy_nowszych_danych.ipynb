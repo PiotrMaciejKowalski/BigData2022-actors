{
  "cells": [
    {
      "cell_type": "markdown",
      "metadata": {
        "id": "view-in-github",
        "colab_type": "text"
      },
      "source": [
        "<a href=\"https://colab.research.google.com/github/PiotrMaciejKowalski/BigData2022-actors/blob/typy-nowszych-danych/Typy_nowszych_danych.ipynb\" target=\"_parent\"><img src=\"https://colab.research.google.com/assets/colab-badge.svg\" alt=\"Open In Colab\"/></a>"
      ]
    },
    {
      "cell_type": "markdown",
      "metadata": {
        "id": "Vzb444kPW31g"
      },
      "source": [
        "#Aktualny setup sparka"
      ]
    },
    {
      "cell_type": "code",
      "execution_count": 1,
      "metadata": {
        "colab": {
          "base_uri": "https://localhost:8080/"
        },
        "id": "UxTbMYkeLrk6",
        "outputId": "cd454d27-656b-4923-cd92-c87210e3d4de"
      },
      "outputs": [
        {
          "output_type": "stream",
          "name": "stdout",
          "text": [
            "Looking in indexes: https://pypi.org/simple, https://us-python.pkg.dev/colab-wheels/public/simple/\n",
            "Collecting pyspark\n",
            "  Downloading pyspark-3.3.1.tar.gz (281.4 MB)\n",
            "\u001b[K     |████████████████████████████████| 281.4 MB 57 kB/s \n",
            "\u001b[?25hCollecting py4j\n",
            "  Downloading py4j-0.10.9.7-py2.py3-none-any.whl (200 kB)\n",
            "\u001b[K     |████████████████████████████████| 200 kB 84.4 MB/s \n",
            "\u001b[?25h  Downloading py4j-0.10.9.5-py2.py3-none-any.whl (199 kB)\n",
            "\u001b[K     |████████████████████████████████| 199 kB 21.5 MB/s \n",
            "\u001b[?25hBuilding wheels for collected packages: pyspark\n",
            "  Building wheel for pyspark (setup.py) ... \u001b[?25l\u001b[?25hdone\n",
            "  Created wheel for pyspark: filename=pyspark-3.3.1-py2.py3-none-any.whl size=281845512 sha256=d0c960021c53d561503ff4a95462bb078962333b43fcd511a9b4858e65228808\n",
            "  Stored in directory: /root/.cache/pip/wheels/43/dc/11/ec201cd671da62fa9c5cc77078235e40722170ceba231d7598\n",
            "Successfully built pyspark\n",
            "Installing collected packages: py4j, pyspark\n",
            "Successfully installed py4j-0.10.9.5 pyspark-3.3.1\n",
            "--2022-12-14 20:33:57--  https://dlcdn.apache.org/spark/spark-3.3.1/spark-3.3.1-bin-hadoop2.tgz\n",
            "Resolving dlcdn.apache.org (dlcdn.apache.org)... 151.101.2.132, 2a04:4e42::644\n",
            "Connecting to dlcdn.apache.org (dlcdn.apache.org)|151.101.2.132|:443... connected.\n",
            "HTTP request sent, awaiting response... 200 OK\n",
            "Length: 274099817 (261M) [application/x-gzip]\n",
            "Saving to: ‘spark-3.3.1-bin-hadoop2.tgz’\n",
            "\n",
            "spark-3.3.1-bin-had 100%[===================>] 261.40M   337MB/s    in 0.8s    \n",
            "\n",
            "2022-12-14 20:33:58 (337 MB/s) - ‘spark-3.3.1-bin-hadoop2.tgz’ saved [274099817/274099817]\n",
            "\n"
          ]
        }
      ],
      "source": [
        "!pip install pyspark py4j\n",
        "!pip install -q findspark\n",
        "!apt-get install openjdk-8-jdk-headless -qq > /dev/null\n",
        "!wget https://dlcdn.apache.org/spark/spark-3.3.1/spark-3.3.1-bin-hadoop2.tgz\n",
        "!tar xf spark-3.3.1-bin-hadoop2.tgz"
      ]
    },
    {
      "cell_type": "code",
      "execution_count": 2,
      "metadata": {
        "id": "g_c507iBLsSW"
      },
      "outputs": [],
      "source": [
        "import pyspark\n",
        "import findspark\n",
        "from pyspark.sql import SparkSession\n",
        "import os\n",
        "import pyspark.sql.functions as F\n",
        "import pyspark.sql.types as T\n",
        "from pyspark.sql.functions import split, col, monotonically_increasing_id, when\n",
        "from pyspark.sql.types import StructType, StringType, IntegerType, BooleanType, FloatType, TimestampType, DateType, ArrayType, MapType\n",
        "from typing import List, Tuple, Dict, Any\n",
        "import numpy\n",
        "from google.colab import drive"
      ]
    },
    {
      "cell_type": "code",
      "execution_count": 3,
      "metadata": {
        "id": "Eiska15v0dHd"
      },
      "outputs": [],
      "source": [
        "os.environ[\"JAVA_HOME\"] = \"/usr/lib/jvm/java-8-openjdk-amd64\"\n",
        "os.environ[\"SPARK_HOME\"] = \"/content/spark-3.3.1-bin-hadoop2\""
      ]
    },
    {
      "cell_type": "code",
      "execution_count": 4,
      "metadata": {
        "colab": {
          "base_uri": "https://localhost:8080/",
          "height": 222
        },
        "id": "DuZV298G6QU3",
        "outputId": "ea4c63f6-9a20-4344-de06-b8464f06aeda"
      },
      "outputs": [
        {
          "output_type": "execute_result",
          "data": {
            "text/plain": [
              "<pyspark.sql.session.SparkSession at 0x7fbafcc6a670>"
            ],
            "text/html": [
              "\n",
              "            <div>\n",
              "                <p><b>SparkSession - in-memory</b></p>\n",
              "                \n",
              "        <div>\n",
              "            <p><b>SparkContext</b></p>\n",
              "\n",
              "            <p><a href=\"http://006914f2636d:4040\">Spark UI</a></p>\n",
              "\n",
              "            <dl>\n",
              "              <dt>Version</dt>\n",
              "                <dd><code>v3.3.1</code></dd>\n",
              "              <dt>Master</dt>\n",
              "                <dd><code>local[*]</code></dd>\n",
              "              <dt>AppName</dt>\n",
              "                <dd><code>Colab</code></dd>\n",
              "            </dl>\n",
              "        </div>\n",
              "        \n",
              "            </div>\n",
              "        "
            ]
          },
          "metadata": {},
          "execution_count": 4
        }
      ],
      "source": [
        "spark=SparkSession.builder.appName('Colab').getOrCreate()\n",
        "spark"
      ]
    },
    {
      "cell_type": "markdown",
      "metadata": {
        "id": "p0l3OAblXJ2w"
      },
      "source": [
        "#Pobranie danych"
      ]
    },
    {
      "cell_type": "code",
      "source": [
        "! pip install kaggle\n",
        "! mkdir ~/.kaggle \n",
        "! cp kaggle.json ~/.kaggle/\n",
        "! chmod 600 ~/.kaggle/kaggle.json"
      ],
      "metadata": {
        "colab": {
          "base_uri": "https://localhost:8080/"
        },
        "id": "nt-m-sV8r46v",
        "outputId": "709cdb15-0fd5-47b4-a3fa-69b9d179db33"
      },
      "execution_count": 5,
      "outputs": [
        {
          "output_type": "stream",
          "name": "stdout",
          "text": [
            "Looking in indexes: https://pypi.org/simple, https://us-python.pkg.dev/colab-wheels/public/simple/\n",
            "Requirement already satisfied: kaggle in /usr/local/lib/python3.8/dist-packages (1.5.12)\n",
            "Requirement already satisfied: certifi in /usr/local/lib/python3.8/dist-packages (from kaggle) (2022.9.24)\n",
            "Requirement already satisfied: urllib3 in /usr/local/lib/python3.8/dist-packages (from kaggle) (1.24.3)\n",
            "Requirement already satisfied: python-dateutil in /usr/local/lib/python3.8/dist-packages (from kaggle) (2.8.2)\n",
            "Requirement already satisfied: python-slugify in /usr/local/lib/python3.8/dist-packages (from kaggle) (7.0.0)\n",
            "Requirement already satisfied: six>=1.10 in /usr/local/lib/python3.8/dist-packages (from kaggle) (1.15.0)\n",
            "Requirement already satisfied: tqdm in /usr/local/lib/python3.8/dist-packages (from kaggle) (4.64.1)\n",
            "Requirement already satisfied: requests in /usr/local/lib/python3.8/dist-packages (from kaggle) (2.23.0)\n",
            "Requirement already satisfied: text-unidecode>=1.3 in /usr/local/lib/python3.8/dist-packages (from python-slugify->kaggle) (1.3)\n",
            "Requirement already satisfied: idna<3,>=2.5 in /usr/local/lib/python3.8/dist-packages (from requests->kaggle) (2.10)\n",
            "Requirement already satisfied: chardet<4,>=3.0.2 in /usr/local/lib/python3.8/dist-packages (from requests->kaggle) (3.0.4)\n",
            "cp: cannot stat 'kaggle.json': No such file or directory\n",
            "chmod: cannot access '/root/.kaggle/kaggle.json': No such file or directory\n"
          ]
        }
      ]
    },
    {
      "cell_type": "markdown",
      "metadata": {
        "id": "kgYZYlTutA0O"
      },
      "source": [
        "##Import danych"
      ]
    },
    {
      "cell_type": "code",
      "execution_count": 6,
      "metadata": {
        "colab": {
          "base_uri": "https://localhost:8080/"
        },
        "id": "SciXhN5JXONa",
        "outputId": "a0e43308-10b0-4b66-8d23-629a751e42f9"
      },
      "outputs": [
        {
          "output_type": "stream",
          "name": "stdout",
          "text": [
            "--2022-12-14 20:34:09--  https://datasets.imdbws.com/name.basics.tsv.gz\n",
            "Resolving datasets.imdbws.com (datasets.imdbws.com)... 13.249.39.96, 13.249.39.59, 13.249.39.82, ...\n",
            "Connecting to datasets.imdbws.com (datasets.imdbws.com)|13.249.39.96|:443... connected.\n",
            "HTTP request sent, awaiting response... 200 OK\n",
            "Length: 237820761 (227M) [binary/octet-stream]\n",
            "Saving to: ‘name.basics.tsv.gz’\n",
            "\n",
            "name.basics.tsv.gz  100%[===================>] 226.80M  80.3MB/s    in 2.8s    \n",
            "\n",
            "2022-12-14 20:34:12 (80.3 MB/s) - ‘name.basics.tsv.gz’ saved [237820761/237820761]\n",
            "\n",
            "--2022-12-14 20:34:12--  https://datasets.imdbws.com/title.akas.tsv.gz\n",
            "Resolving datasets.imdbws.com (datasets.imdbws.com)... 13.249.39.96, 13.249.39.59, 13.249.39.82, ...\n",
            "Connecting to datasets.imdbws.com (datasets.imdbws.com)|13.249.39.96|:443... connected.\n",
            "HTTP request sent, awaiting response... 200 OK\n",
            "Length: 290768499 (277M) [binary/octet-stream]\n",
            "Saving to: ‘title.akas.tsv.gz’\n",
            "\n",
            "title.akas.tsv.gz   100%[===================>] 277.30M  34.5MB/s    in 8.0s    \n",
            "\n",
            "2022-12-14 20:34:20 (34.8 MB/s) - ‘title.akas.tsv.gz’ saved [290768499/290768499]\n",
            "\n",
            "--2022-12-14 20:34:20--  https://datasets.imdbws.com/title.basics.tsv.gz\n",
            "Resolving datasets.imdbws.com (datasets.imdbws.com)... 13.249.39.96, 13.249.39.59, 13.249.39.82, ...\n",
            "Connecting to datasets.imdbws.com (datasets.imdbws.com)|13.249.39.96|:443... connected.\n",
            "HTTP request sent, awaiting response... 200 OK\n",
            "Length: 165086692 (157M) [binary/octet-stream]\n",
            "Saving to: ‘title.basics.tsv.gz’\n",
            "\n",
            "title.basics.tsv.gz 100%[===================>] 157.44M  84.8MB/s    in 1.9s    \n",
            "\n",
            "2022-12-14 20:34:22 (84.8 MB/s) - ‘title.basics.tsv.gz’ saved [165086692/165086692]\n",
            "\n",
            "--2022-12-14 20:34:22--  https://datasets.imdbws.com/title.crew.tsv.gz\n",
            "Resolving datasets.imdbws.com (datasets.imdbws.com)... 13.249.39.96, 13.249.39.59, 13.249.39.82, ...\n",
            "Connecting to datasets.imdbws.com (datasets.imdbws.com)|13.249.39.96|:443... connected.\n",
            "HTTP request sent, awaiting response... 200 OK\n",
            "Length: 63359235 (60M) [binary/octet-stream]\n",
            "Saving to: ‘title.crew.tsv.gz’\n",
            "\n",
            "title.crew.tsv.gz   100%[===================>]  60.42M  37.4MB/s    in 1.6s    \n",
            "\n",
            "2022-12-14 20:34:24 (37.4 MB/s) - ‘title.crew.tsv.gz’ saved [63359235/63359235]\n",
            "\n",
            "--2022-12-14 20:34:24--  https://datasets.imdbws.com/title.episode.tsv.gz\n",
            "Resolving datasets.imdbws.com (datasets.imdbws.com)... 13.249.39.96, 13.249.39.59, 13.249.39.82, ...\n",
            "Connecting to datasets.imdbws.com (datasets.imdbws.com)|13.249.39.96|:443... connected.\n",
            "HTTP request sent, awaiting response... 200 OK\n",
            "Length: 38892771 (37M) [binary/octet-stream]\n",
            "Saving to: ‘title.episode.tsv.gz’\n",
            "\n",
            "title.episode.tsv.g 100%[===================>]  37.09M  49.1MB/s    in 0.8s    \n",
            "\n",
            "2022-12-14 20:34:25 (49.1 MB/s) - ‘title.episode.tsv.gz’ saved [38892771/38892771]\n",
            "\n",
            "--2022-12-14 20:34:25--  https://datasets.imdbws.com/title.principals.tsv.gz\n",
            "Resolving datasets.imdbws.com (datasets.imdbws.com)... 13.249.39.96, 13.249.39.59, 13.249.39.82, ...\n",
            "Connecting to datasets.imdbws.com (datasets.imdbws.com)|13.249.39.96|:443... connected.\n",
            "HTTP request sent, awaiting response... 200 OK\n",
            "Length: 420685812 (401M) [binary/octet-stream]\n",
            "Saving to: ‘title.principals.tsv.gz’\n",
            "\n",
            "title.principals.ts 100%[===================>] 401.20M  31.3MB/s    in 12s     \n",
            "\n",
            "2022-12-14 20:34:37 (34.5 MB/s) - ‘title.principals.tsv.gz’ saved [420685812/420685812]\n",
            "\n",
            "--2022-12-14 20:34:37--  https://datasets.imdbws.com/title.ratings.tsv.gz\n",
            "Resolving datasets.imdbws.com (datasets.imdbws.com)... 13.249.39.96, 13.249.39.59, 13.249.39.82, ...\n",
            "Connecting to datasets.imdbws.com (datasets.imdbws.com)|13.249.39.96|:443... connected.\n",
            "HTTP request sent, awaiting response... 200 OK\n",
            "Length: 6312007 (6.0M) [binary/octet-stream]\n",
            "Saving to: ‘title.ratings.tsv.gz’\n",
            "\n",
            "title.ratings.tsv.g 100%[===================>]   6.02M  --.-KB/s    in 0.07s   \n",
            "\n",
            "2022-12-14 20:34:37 (82.0 MB/s) - ‘title.ratings.tsv.gz’ saved [6312007/6312007]\n",
            "\n"
          ]
        }
      ],
      "source": [
        "!wget https://datasets.imdbws.com/name.basics.tsv.gz\n",
        "!wget https://datasets.imdbws.com/title.akas.tsv.gz\n",
        "!wget https://datasets.imdbws.com/title.basics.tsv.gz\n",
        "!wget https://datasets.imdbws.com/title.crew.tsv.gz\n",
        "!wget https://datasets.imdbws.com/title.episode.tsv.gz\n",
        "!wget https://datasets.imdbws.com/title.principals.tsv.gz\n",
        "!wget https://datasets.imdbws.com/title.ratings.tsv.gz"
      ]
    },
    {
      "cell_type": "code",
      "source": [
        "! kaggle datasets download unanimad/the-oscar-award\n",
        "! kaggle datasets download unanimad/golden-globe-awards\n",
        "! kaggle datasets download unanimad/emmy-awards\n",
        "! kaggle datasets download tmdb/tmdb-movie-metadata"
      ],
      "metadata": {
        "colab": {
          "base_uri": "https://localhost:8080/"
        },
        "id": "pBxiUCh4r-KI",
        "outputId": "65e3940c-559b-4273-a7f8-452d24a603a2"
      },
      "execution_count": 7,
      "outputs": [
        {
          "output_type": "stream",
          "name": "stdout",
          "text": [
            "Traceback (most recent call last):\n",
            "  File \"/usr/local/bin/kaggle\", line 5, in <module>\n",
            "    from kaggle.cli import main\n",
            "  File \"/usr/local/lib/python3.8/dist-packages/kaggle/__init__.py\", line 23, in <module>\n",
            "    api.authenticate()\n",
            "  File \"/usr/local/lib/python3.8/dist-packages/kaggle/api/kaggle_api_extended.py\", line 164, in authenticate\n",
            "    raise IOError('Could not find {}. Make sure it\\'s located in'\n",
            "OSError: Could not find kaggle.json. Make sure it's located in /root/.kaggle. Or use the environment method.\n",
            "Traceback (most recent call last):\n",
            "  File \"/usr/local/bin/kaggle\", line 5, in <module>\n",
            "    from kaggle.cli import main\n",
            "  File \"/usr/local/lib/python3.8/dist-packages/kaggle/__init__.py\", line 23, in <module>\n",
            "    api.authenticate()\n",
            "  File \"/usr/local/lib/python3.8/dist-packages/kaggle/api/kaggle_api_extended.py\", line 164, in authenticate\n",
            "    raise IOError('Could not find {}. Make sure it\\'s located in'\n",
            "OSError: Could not find kaggle.json. Make sure it's located in /root/.kaggle. Or use the environment method.\n",
            "Traceback (most recent call last):\n",
            "  File \"/usr/local/bin/kaggle\", line 5, in <module>\n",
            "    from kaggle.cli import main\n",
            "  File \"/usr/local/lib/python3.8/dist-packages/kaggle/__init__.py\", line 23, in <module>\n",
            "    api.authenticate()\n",
            "  File \"/usr/local/lib/python3.8/dist-packages/kaggle/api/kaggle_api_extended.py\", line 164, in authenticate\n",
            "    raise IOError('Could not find {}. Make sure it\\'s located in'\n",
            "OSError: Could not find kaggle.json. Make sure it's located in /root/.kaggle. Or use the environment method.\n",
            "Traceback (most recent call last):\n",
            "  File \"/usr/local/bin/kaggle\", line 5, in <module>\n",
            "    from kaggle.cli import main\n",
            "  File \"/usr/local/lib/python3.8/dist-packages/kaggle/__init__.py\", line 23, in <module>\n",
            "    api.authenticate()\n",
            "  File \"/usr/local/lib/python3.8/dist-packages/kaggle/api/kaggle_api_extended.py\", line 164, in authenticate\n",
            "    raise IOError('Could not find {}. Make sure it\\'s located in'\n",
            "OSError: Could not find kaggle.json. Make sure it's located in /root/.kaggle. Or use the environment method.\n"
          ]
        }
      ]
    },
    {
      "cell_type": "markdown",
      "metadata": {
        "id": "or9x68JxXc10"
      },
      "source": [
        "##Rozpakowanie danych"
      ]
    },
    {
      "cell_type": "code",
      "execution_count": 8,
      "metadata": {
        "id": "IpXAjtV4XeKx"
      },
      "outputs": [],
      "source": [
        "!gzip -dc /content/name.basics.tsv.gz > name.basics.csv\n",
        "!gzip -dc /content/title.akas.tsv.gz > title.akas.csv\n",
        "!gzip -dc /content/title.basics.tsv.gz > title.basics.csv\n",
        "!gzip -dc /content/title.crew.tsv.gz > title.crew.csv\n",
        "!gzip -dc /content/title.episode.tsv.gz > title.episode.csv\n",
        "!gzip -dc /content/title.principals.tsv.gz > title.principals.csv\n",
        "!gzip -dc /content/title.ratings.tsv.gz > title.ratings.csv"
      ]
    },
    {
      "cell_type": "code",
      "source": [
        "! unzip the-oscar-award.zip\n",
        "! unzip golden-globe-awards.zip\n",
        "! unzip emmy-awards.zip \n",
        "! unzip tmdb-movie-metadata.zip"
      ],
      "metadata": {
        "colab": {
          "base_uri": "https://localhost:8080/"
        },
        "id": "2u57ZnbTsB1E",
        "outputId": "98495914-172e-4811-daf4-30355bf761b4"
      },
      "execution_count": 9,
      "outputs": [
        {
          "output_type": "stream",
          "name": "stdout",
          "text": [
            "unzip:  cannot find or open the-oscar-award.zip, the-oscar-award.zip.zip or the-oscar-award.zip.ZIP.\n",
            "unzip:  cannot find or open golden-globe-awards.zip, golden-globe-awards.zip.zip or golden-globe-awards.zip.ZIP.\n",
            "unzip:  cannot find or open emmy-awards.zip, emmy-awards.zip.zip or emmy-awards.zip.ZIP.\n",
            "unzip:  cannot find or open tmdb-movie-metadata.zip, tmdb-movie-metadata.zip.zip or tmdb-movie-metadata.zip.ZIP.\n"
          ]
        }
      ]
    },
    {
      "cell_type": "markdown",
      "metadata": {
        "id": "pPWxy5j_aEvo"
      },
      "source": [
        "#Wczytanie danych"
      ]
    },
    {
      "cell_type": "markdown",
      "metadata": {
        "id": "tura9f9sGomh"
      },
      "source": [
        "##Ustalenie typów danych"
      ]
    },
    {
      "cell_type": "code",
      "execution_count": 10,
      "metadata": {
        "id": "CqMSVkG6fFYK"
      },
      "outputs": [],
      "source": [
        "map_types = {\n",
        "    str : StringType(),\n",
        "    int : IntegerType(),\n",
        "    bool : BooleanType(),\n",
        "    float: FloatType(),\n",
        "    'timestamp' : TimestampType(),\n",
        "    'date' : DateType(),\n",
        "    List[str] : ArrayType(StringType()),\n",
        "    Tuple[str] : ArrayType(StringType()),\n",
        "    Dict[str, str] : MapType(StringType(), StringType())\n",
        "}"
      ]
    },
    {
      "cell_type": "code",
      "execution_count": 11,
      "metadata": {
        "id": "WOpkscfjxlf5"
      },
      "outputs": [],
      "source": [
        "column_conf = {\n",
        "  'akas'  :  ['titleId','ordering','title','region','language','types','attributes','isOriginalTitle'], \n",
        "  'title_basics' : ['tconst','titleType','primaryTitle','originalTitle','isAdult','startYear','endYear','runtimeMinutes','genres'],\n",
        "  'crew' : ['tconst','directors','writers'],\n",
        "  'episode' : ['tconst','parentTconst','seasonNumber','episodeNumber'],\n",
        "  'principals' : ['tconst','ordering','nconst','category','job','characters'],\n",
        "  'ratings' : ['tconst','averageRating','numVotes'],\n",
        "  'name_basics' : ['nconst','primaryName','birthYear','deathYear','primaryProfession','knownForTitles'],\n",
        "  'oscars': ['year_film', 'year_ceremony', 'ceremony', 'category', 'name', 'film', 'winner'],\n",
        "  'globe':['year_film', 'year_award', 'ceremony', 'category', 'nominee', 'film', 'win'],\n",
        "  'emmy_awards_category': ['name', 'category', 'role'],\n",
        "  'emmy_awards': ['id', 'year', 'category', 'nominee', 'staff', 'company', 'producer', 'win'],\n",
        "  'tmdb_credits': ['movie_id', 'title', 'cast', 'crew'],\n",
        "  'tmdb_movies':['budget', 'genres', 'homepage', 'id', 'keywords', 'original_language', 'original_title', 'overview',\\\n",
        "                 'popularity', 'production_companies','production_countries', 'release_date', 'revenue', 'runtime', 'spoken_languages', \\\n",
        "                 'status', 'tagline', 'title', 'vote_average', 'vote_count']\n",
        "}\n",
        "column_type_collection = {\n",
        "    int : ['ordering', 'startYear', 'endYear', 'runtimeMinutes', 'seasonNumber', 'episodeNumber', 'numVotes', 'birthYear', 'deathYear', \\\n",
        "           'year_film', 'year_award', 'ceremony', 'year_film', 'year_ceremony', 'ceremony', 'year', 'movie_id', 'budget', \\\n",
        "            'isOriginalTitle', 'isAdult'],\n",
        "    str : ['titleId', 'title', 'region', 'language', 'types', 'attributes', 'tconst', 'titleType', 'primaryTitle', 'originalTitle', 'genres', \\\n",
        "           'directors', 'writers', 'parentTconst', 'category', 'job', 'characters', 'primaryName', 'primaryProfession', 'knownForTitles', \\\n",
        "           'category', 'nominee', 'film', 'category', 'name', 'film', 'role', 'original_language', 'original_title', 'overview', 'staff', \\\n",
        "           'company', 'producer', 'title', 'cast', 'crew', 'genres', 'keywords', 'production_companies', 'production_countries', 'homepage',\\\n",
        "           'spoken_languages', 'status', 'tagline', 'id', 'popularity', 'release_date', 'revenue', 'runtime', 'vote_average', 'vote_count'],\n",
        "    bool : ['win', 'winner'],\n",
        "    float : ['averageRating'],\n",
        "    'date': []\n",
        "}"
      ]
    },
    {
      "cell_type": "code",
      "execution_count": 12,
      "metadata": {
        "id": "5I3YkxQt1MhO"
      },
      "outputs": [],
      "source": [
        "def init_schema(conf, column_type_collection):\n",
        "  map = {}\n",
        "  for pole in conf:\n",
        "    for python_type, column_list in column_type_collection.items():\n",
        "      if pole in column_list:\n",
        "        map[pole] = map_types[python_type]\n",
        "  schemat= StructType()\n",
        "  for pole, typ in map.items():\n",
        "    schemat = schemat.add(pole, typ, True)\n",
        "  return schemat"
      ]
    },
    {
      "cell_type": "code",
      "execution_count": 13,
      "metadata": {
        "id": "QfCrAOetypQP"
      },
      "outputs": [],
      "source": [
        "Schematy=[schemat_title_akas, schemat_title_basics, schemat_title_crew, schemat_title_episode, schemat_title_principals,\n",
        "schemat_title_ratings, schemat_name_basics, schemat_oscars, schemat_globe, schemat_emmy_awards_category, schemat_emmy_awards, schemat_tmdb_credits, schemat_tmdb_movies] = [ \n",
        "init_schema(column_conf[table], column_type_collection) \n",
        "  for table in ('akas', 'title_basics', 'crew', 'episode', 'principals', 'ratings', 'name_basics', 'oscars', 'globe', 'emmy_awards_category', 'emmy_awards', 'tmdb_credits', 'tmdb_movies')]"
      ]
    },
    {
      "cell_type": "markdown",
      "metadata": {
        "id": "s-hzkKehxgnQ"
      },
      "source": [
        "##Wczytajmy dane"
      ]
    },
    {
      "cell_type": "code",
      "execution_count": 14,
      "metadata": {
        "id": "skegmFMQXpcA"
      },
      "outputs": [],
      "source": [
        "CSV=['title.akas.csv', 'title.basics.csv', 'title.crew.csv','title.episode.csv', 'title.principals.csv',\n",
        "'title.ratings.csv', 'name.basics.csv', 'the_oscar_award.csv', 'golden_globe_awards.csv', 'emmy_awards_categories.csv', 'the_emmy_awards.csv', 'tmdb_5000_credits.csv', 'tmdb_5000_movies.csv']"
      ]
    },
    {
      "cell_type": "code",
      "execution_count": 15,
      "metadata": {
        "id": "lroZaGhN9ssF"
      },
      "outputs": [],
      "source": [
        "def upload(schemat, csv):\n",
        "  df=spark.read.option(\"header\",\"true\").option(\"delimiter\", \"\\t\").schema(schemat).csv(csv)\n",
        "  return df\n",
        "  \n",
        "def upload2(schemat, csv):\n",
        "  df=spark.read.option(\"header\",\"true\").schema(schemat).csv(csv)\n",
        "  return df"
      ]
    },
    {
      "cell_type": "code",
      "execution_count": 16,
      "metadata": {
        "id": "lvA1h-JA-4gO"
      },
      "outputs": [],
      "source": [
        "[df_title_akas, df_title_basics, df_title_crew, df_title_episode, df_title_principals,\n",
        "df_title_ratings, df_name_basics]=[\n",
        "upload(Schematy[i], CSV[i])\n",
        "  for i in range(7) \n",
        "]"
      ]
    },
    {
      "cell_type": "code",
      "source": [
        "[oscars, globe, emmy_awards_category, emmy_awards, tmdb_credits, tmdb_movies]=[\n",
        "upload2(Schematy[7+i], CSV[7+i])\n",
        "  for i in range(6) \n",
        "]"
      ],
      "metadata": {
        "id": "WNlhwqkKFAk6"
      },
      "execution_count": 17,
      "outputs": []
    },
    {
      "cell_type": "markdown",
      "metadata": {
        "id": "djz8LQmBCYSi"
      },
      "source": [
        "#Zamiana \"\\\\N\" na null"
      ]
    },
    {
      "cell_type": "code",
      "source": [
        "for column in ['primaryProfession', 'knownForTitles']:\n",
        "  df_name_basics = df_name_basics.withColumn(column, when(df_name_basics[column] == \"\\\\N\", None).otherwise(df_name_basics[column]))\n",
        "\n",
        "for column in ['title', 'region', 'language', 'types', 'attributes']:\n",
        "  df_title_akas = df_title_akas.withColumn(column, when(df_title_akas[column] == \"\\\\N\", None).otherwise(df_title_akas[column]))\n",
        "\n",
        "for column in ['titleType', 'primaryTitle', 'originalTitle', 'genres']:\n",
        "  df_title_basics = df_title_basics.withColumn(column, when(df_title_basics[column] == \"\\\\N\", None).otherwise(df_title_basics[column]))\n",
        "\n",
        "for column in ['directors', 'writers']:\n",
        "  df_title_crew = df_title_crew.withColumn(column, when(df_title_crew[column] == \"\\\\N\", None).otherwise(df_title_crew[column]))\n",
        "\n",
        "df_title_episode=df_title_episode.withColumn('parentTconst', when(df_title_episode['parentTconst'] == \"\\\\N\", None).otherwise(df_title_episode['parentTconst']))\n",
        "\n",
        "for column in ['ordering', 'category', 'job', 'characters']:\n",
        "  df_title_principals = df_title_principals.withColumn(column, when(df_title_principals[column] == \"\\\\N\", None).otherwise(df_title_principals[column]))"
      ],
      "metadata": {
        "id": "c3UFvE_pKdr7"
      },
      "execution_count": 18,
      "outputs": []
    },
    {
      "cell_type": "markdown",
      "metadata": {
        "id": "1uOGkwaknuQa"
      },
      "source": [
        "#Zamiana string na array(string) i \"0\"/\"1\" na bool"
      ]
    },
    {
      "cell_type": "code",
      "source": [
        "df_title_akas = df_title_akas.withColumn(\"isOriginalTitle\", df_title_akas[\"isOriginalTitle\"].cast(BooleanType()))\n",
        "df_title_basics = df_title_basics.withColumn(\"isAdult\", df_title_basics[\"isAdult\"].cast(BooleanType()))"
      ],
      "metadata": {
        "id": "Ybzpqhy7LdB0"
      },
      "execution_count": 19,
      "outputs": []
    },
    {
      "cell_type": "markdown",
      "metadata": {
        "id": "eZUKeWjuzSl9"
      },
      "source": [
        "Zmienimy na array następujące kolumny: z tabeli df_title_akas kolumny attributes, types;\n",
        "z tabeli df_title_basics kolumna genres;\n",
        "z tabeli df_name_basics kolumny primaryProfession, knownForTitles;\n",
        "z tabeli df_title_crew kolumny directors, writers.\n"
      ]
    },
    {
      "cell_type": "markdown",
      "metadata": {
        "id": "_Q7BCwJ2koZv"
      },
      "source": [
        "##Stworzenie nowych, odrębnych kolumn typu array, z kolumn typu string określonych wyżej"
      ]
    },
    {
      "cell_type": "code",
      "execution_count": 20,
      "metadata": {
        "id": "sUE_PBRC2ng_"
      },
      "outputs": [],
      "source": [
        "df_title_akas_types= df_title_akas.select(split(col(\"types\"),\",\").alias(\"types\"))\n",
        "df_title_akas_attributes= df_title_akas.select(split(col(\"attributes\"),\",\").alias(\"attributes\"))\n",
        "df_name_basics_primaryProfession= df_name_basics.select(split(col(\"primaryProfession\"),\",\").alias(\"primaryProfession\"))\n",
        "df_name_basics_knownForTitles= df_name_basics.select(split(col(\"knownForTitles\"),\",\").alias(\"knownForTitles\"))\n",
        "df_title_basics_genres=df_title_basics.select(split(col(\"genres\"),\",\").alias(\"genres\"))\n",
        "df_title_crew_directors=df_title_crew.select(split(col(\"directors\"),\",\").alias(\"directors\"))\n",
        "df_title_crew_writers=df_title_crew.select(split(col(\"writers\"),\",\").alias(\"writers\"))"
      ]
    },
    {
      "cell_type": "code",
      "source": [
        "emmy_awards_staff=emmy_awards.select(split(col(\"staff\"),\";\").alias(\"staff\"))\n",
        "emmy_awards_producer=emmy_awards.select(split(col(\"producer\"),\";\").alias(\"producer\"))"
      ],
      "metadata": {
        "id": "YDz3w9INNftc"
      },
      "execution_count": 21,
      "outputs": []
    },
    {
      "cell_type": "markdown",
      "metadata": {
        "id": "KT28G6KNrw9P"
      },
      "source": [
        "##Zamieńmy pierwotne kolumny na nowe"
      ]
    },
    {
      "cell_type": "markdown",
      "metadata": {
        "id": "K_gCEnEWr-mu"
      },
      "source": [
        "###usuńmy pierwotne kolumny z niewłaściwym typem danych"
      ]
    },
    {
      "cell_type": "code",
      "execution_count": 22,
      "metadata": {
        "id": "tyOoHonZrwNd"
      },
      "outputs": [],
      "source": [
        "df_title_akas= df_title_akas.drop(\"types\")\n",
        "df_title_akas= df_title_akas.drop(\"attributes\")\n",
        "df_name_basics= df_name_basics.drop(\"primaryProfession\")\n",
        "df_name_basics= df_name_basics.drop(\"knownForTitles\")\n",
        "df_title_basics=df_title_basics.drop(\"genres\")\n",
        "df_title_crew=df_title_crew.drop(\"directors\")\n",
        "df_title_crew=df_title_crew.drop(\"writers\")"
      ]
    },
    {
      "cell_type": "code",
      "source": [
        "emmy_awards=emmy_awards.drop(\"staff\")\n",
        "emmy_awards=emmy_awards.drop(\"producer\")"
      ],
      "metadata": {
        "id": "EtyOylqrO2jz"
      },
      "execution_count": 23,
      "outputs": []
    },
    {
      "cell_type": "markdown",
      "metadata": {
        "id": "sPeY3_PD11bz"
      },
      "source": [
        "###dodajmy kolumny ideksów do nowych (jednokolumnowych) tabel i tabel pierwotnych"
      ]
    },
    {
      "cell_type": "markdown",
      "metadata": {
        "id": "MIiVP-D23i_H"
      },
      "source": [
        "dodajmy kolumny indeksów do bazowych tabel"
      ]
    },
    {
      "cell_type": "code",
      "execution_count": 24,
      "metadata": {
        "id": "Gm6ACVCa25_X"
      },
      "outputs": [],
      "source": [
        "df_title_akas=df_title_akas.select(\"*\").withColumn(\"id\", monotonically_increasing_id())\n",
        "df_name_basics=df_name_basics.select(\"*\").withColumn(\"id\", monotonically_increasing_id())\n",
        "df_title_basics=df_title_basics.select(\"*\").withColumn(\"id\", monotonically_increasing_id())\n",
        "df_title_crew= df_title_crew.select(\"*\").withColumn(\"id\", monotonically_increasing_id())"
      ]
    },
    {
      "cell_type": "code",
      "source": [
        "emmy_awards=emmy_awards.select(\"*\").withColumn(\"id\", monotonically_increasing_id())"
      ],
      "metadata": {
        "id": "7YoDgB3BTOvx"
      },
      "execution_count": 25,
      "outputs": []
    },
    {
      "cell_type": "markdown",
      "metadata": {
        "id": "BYp1dfa65ClX"
      },
      "source": [
        "i do nowych, jednokolumnowych tabel"
      ]
    },
    {
      "cell_type": "code",
      "execution_count": 26,
      "metadata": {
        "id": "er0LGEou4PsO"
      },
      "outputs": [],
      "source": [
        "df_title_akas_types=df_title_akas_types.select(\"*\").withColumn(\"id1\", monotonically_increasing_id())\n",
        "df_title_akas_attributes=df_title_akas_attributes.select(\"*\").withColumn(\"id2\", monotonically_increasing_id())\n",
        "df_name_basics_primaryProfession=df_name_basics_primaryProfession.select(\"*\").withColumn(\"id3\", monotonically_increasing_id())\n",
        "df_name_basics_knownForTitles=df_name_basics_knownForTitles.select(\"*\").withColumn(\"id4\", monotonically_increasing_id())\n",
        "df_title_basics_genres=df_title_basics_genres.select(\"*\").withColumn(\"id5\", monotonically_increasing_id())\n",
        "df_title_crew_directors=df_title_crew_directors.select(\"*\").withColumn(\"id6\", monotonically_increasing_id())\n",
        "df_title_crew_writers=df_title_crew_writers.select(\"*\").withColumn(\"id7\", monotonically_increasing_id())"
      ]
    },
    {
      "cell_type": "code",
      "source": [
        "emmy_awards_staff=emmy_awards_staff.select(\"*\").withColumn(\"id8\", monotonically_increasing_id())\n",
        "emmy_awards_producer=emmy_awards_producer.select(\"*\").withColumn(\"id9\", monotonically_increasing_id())"
      ],
      "metadata": {
        "id": "VN01LRaLTYS9"
      },
      "execution_count": 27,
      "outputs": []
    },
    {
      "cell_type": "markdown",
      "metadata": {
        "id": "OYHabuPr5g3u"
      },
      "source": [
        "###połączmy je odpowiednio na bazie numerów indeksu"
      ]
    },
    {
      "cell_type": "code",
      "execution_count": 28,
      "metadata": {
        "id": "wO3XHuje6aIS"
      },
      "outputs": [],
      "source": [
        "df_title_akas= df_title_akas.join(df_title_akas_types, col('id') == col('id1'), 'leftouter')\n",
        "df_title_akas= df_title_akas.join(df_title_akas_attributes, col('id') == col('id2'), 'leftouter')\n",
        "df_name_basics= df_name_basics.join(df_name_basics_primaryProfession, col('id') == col('id3'), 'leftouter')\n",
        "df_name_basics= df_name_basics.join(df_name_basics_knownForTitles, col('id') == col('id4'), 'leftouter')\n",
        "df_title_basics=df_title_basics.join(df_title_basics_genres, col('id') == col('id5'), 'leftouter')\n",
        "df_title_crew= df_title_crew.join(df_title_crew_directors, col('id') == col('id6'), 'leftouter')\n",
        "df_title_crew= df_title_crew.join(df_title_crew_writers, col('id') == col('id7'), 'leftouter')"
      ]
    },
    {
      "cell_type": "code",
      "source": [
        "emmy_awards=emmy_awards.join(emmy_awards_staff, col('id') == col('id8'), 'leftouter')\n",
        "emmy_awards=emmy_awards.join(emmy_awards_producer, col('id') == col('id9'), 'leftouter')"
      ],
      "metadata": {
        "id": "wBBPXhR3BW4-"
      },
      "execution_count": 29,
      "outputs": []
    },
    {
      "cell_type": "markdown",
      "metadata": {
        "id": "yDlIC7WZ8Iel"
      },
      "source": [
        "###usuńmy kolumny indeksów"
      ]
    },
    {
      "cell_type": "code",
      "execution_count": 30,
      "metadata": {
        "id": "nMZn83J18fvq"
      },
      "outputs": [],
      "source": [
        "df_title_akas=df_title_akas.drop(\"id\").drop(\"id1\").drop(\"id2\")\n",
        "df_name_basics=df_name_basics.drop(\"id\").drop(\"id3\").drop(\"id4\")\n",
        "df_title_basics=df_title_basics.drop(\"id\").drop(\"id5\")\n",
        "df_title_crew=df_title_crew.drop(\"id\").drop(\"id6\").drop(\"id7\")"
      ]
    },
    {
      "cell_type": "code",
      "source": [
        "emmy_awards=emmy_awards.drop(\"id\").drop(\"id8\").drop(\"id9\")"
      ],
      "metadata": {
        "id": "Oh-rCnZMBlOn"
      },
      "execution_count": 31,
      "outputs": []
    },
    {
      "cell_type": "markdown",
      "metadata": {
        "id": "i49wO8BapbWS"
      },
      "source": [
        "#Usunięcie duplikatów"
      ]
    },
    {
      "cell_type": "code",
      "execution_count": 32,
      "metadata": {
        "id": "IwhoeuIDphv_"
      },
      "outputs": [],
      "source": [
        "Data=[df_title_akas, df_title_basics, df_title_crew, df_title_episode, df_title_principals, \\\n",
        "           df_title_ratings, df_name_basics, oscars, globe, emmy_awards_category, emmy_awards, tmdb_credits, tmdb_movies]\n",
        "for df in Data:\n",
        "  df=df.distinct()"
      ]
    },
    {
      "cell_type": "markdown",
      "metadata": {
        "id": "9YRXOpTYRFjw"
      },
      "source": [
        "#Wyświetlmy dane"
      ]
    },
    {
      "cell_type": "code",
      "execution_count": 33,
      "metadata": {
        "colab": {
          "base_uri": "https://localhost:8080/"
        },
        "id": "HHXa_0Gq-GHP",
        "outputId": "979f69c5-5a2c-4376-e5c9-f5cc26e75b1a"
      },
      "outputs": [
        {
          "output_type": "stream",
          "name": "stdout",
          "text": [
            "+---------+--------+---------------+------+--------+---------------+-------------+----------+\n",
            "|  titleId|ordering|          title|region|language|isOriginalTitle|        types|attributes|\n",
            "+---------+--------+---------------+------+--------+---------------+-------------+----------+\n",
            "|tt0000001|       1|     Карменсіта|    UA|    null|          false|[imdbDisplay]|      null|\n",
            "|tt0670946|       6|Épisode #1.1149|    FR|      fr|          false|         null|      null|\n",
            "|tt1334523|       4|  Heart of Time|   XWW|      en|          false|         null|      null|\n",
            "+---------+--------+---------------+------+--------+---------------+-------------+----------+\n",
            "only showing top 3 rows\n",
            "\n",
            "+----------+---------+--------------------+--------------------+-------+---------+-------+--------------+--------------------+\n",
            "|    tconst|titleType|        primaryTitle|       originalTitle|isAdult|startYear|endYear|runtimeMinutes|              genres|\n",
            "+----------+---------+--------------------+--------------------+-------+---------+-------+--------------+--------------------+\n",
            "| tt0000001|    short|          Carmencita|          Carmencita|  false|     1894|   null|             1|[Documentary, Short]|\n",
            "|tt11127806|tvEpisode|Episode dated 25 ...|Episode dated 25 ...|  false|     1968|   null|          null|       [Documentary]|\n",
            "|tt11127808|tvEpisode|La Guadeloupe (Av...|La Guadeloupe (Av...|  false|     2014|   null|          null|       [Documentary]|\n",
            "+----------+---------+--------------------+--------------------+-------+---------+-------+--------------+--------------------+\n",
            "only showing top 3 rows\n",
            "\n",
            "+----------+-----------+--------------------+\n",
            "|    tconst|  directors|             writers|\n",
            "+----------+-----------+--------------------+\n",
            "| tt0000001|[nm0005690]|                null|\n",
            "|tt15398606|       null|[nm1181872, nm128...|\n",
            "| tt0000002|[nm0721526]|                null|\n",
            "+----------+-----------+--------------------+\n",
            "only showing top 3 rows\n",
            "\n",
            "+---------+------------+------------+-------------+\n",
            "|   tconst|parentTconst|seasonNumber|episodeNumber|\n",
            "+---------+------------+------------+-------------+\n",
            "|tt0041951|   tt0041038|           1|            9|\n",
            "|tt0042816|   tt0989125|           1|           17|\n",
            "|tt0042889|   tt0989125|        null|         null|\n",
            "+---------+------------+------------+-------------+\n",
            "only showing top 3 rows\n",
            "\n",
            "+---------+--------+---------+---------------+--------------------+\n",
            "|   tconst|ordering| category|            job|          characters|\n",
            "+---------+--------+---------+---------------+--------------------+\n",
            "|tt0000001|       1|nm1588970|           self|                null|\n",
            "|tt0000001|       2|nm0005690|       director|                null|\n",
            "|tt0000001|       3|nm0374658|cinematographer|director of photo...|\n",
            "+---------+--------+---------+---------------+--------------------+\n",
            "only showing top 3 rows\n",
            "\n",
            "+---------+-------------+--------+\n",
            "|   tconst|averageRating|numVotes|\n",
            "+---------+-------------+--------+\n",
            "|tt0000001|          5.7|    1925|\n",
            "|tt0000002|          5.8|     261|\n",
            "|tt0000003|          6.5|    1741|\n",
            "+---------+-------------+--------+\n",
            "only showing top 3 rows\n",
            "\n",
            "+-----------+---------+---------+-----------------+--------------------+\n",
            "|primaryName|birthYear|deathYear|primaryProfession|      knownForTitles|\n",
            "+-----------+---------+---------+-----------------+--------------------+\n",
            "|  nm0000001|     null|     1899|           [1987]|[soundtrack, acto...|\n",
            "| nm11222699|     null|     null|             null|             [actor]|\n",
            "|  nm1122269|     null|     null|             null|           [actress]|\n",
            "+-----------+---------+---------+-----------------+--------------------+\n",
            "only showing top 3 rows\n",
            "\n",
            "+---------+-------------+--------+--------+-------------------+----------------+------+\n",
            "|year_film|year_ceremony|ceremony|category|               name|            film|winner|\n",
            "+---------+-------------+--------+--------+-------------------+----------------+------+\n",
            "|     1927|         1928|       1|   ACTOR|Richard Barthelmess|       The Noose| false|\n",
            "|     1927|         1928|       1|   ACTOR|      Emil Jannings|The Last Command|  true|\n",
            "|     1927|         1928|       1| ACTRESS|     Louise Dresser| A Ship Comes In| false|\n",
            "+---------+-------------+--------+--------+-------------------+----------------+------+\n",
            "only showing top 3 rows\n",
            "\n",
            "+---------+----------+--------+--------------------+--------------+--------------------+----+\n",
            "|year_film|year_award|ceremony|            category|       nominee|                film| win|\n",
            "+---------+----------+--------+--------------------+--------------+--------------------+----+\n",
            "|     1943|      1944|       1|Best Performance ...|Katina Paxinou|For Whom The Bell...|true|\n",
            "|     1943|      1944|       1|Best Performance ...| Akim Tamiroff|For Whom The Bell...|true|\n",
            "|     1943|      1944|       1|Best Director - M...|    Henry King|The Song Of Berna...|true|\n",
            "+---------+----------+--------+--------------------+--------------+--------------------+----+\n",
            "only showing top 3 rows\n",
            "\n",
            "+-------------+--------+----+\n",
            "|         name|category|role|\n",
            "+-------------+--------+----+\n",
            "|Comedy Series|  Comedy|main|\n",
            "|   Lead Actor|  Comedy|main|\n",
            "| Lead Actress|  Comedy|main|\n",
            "+-------------+--------+----+\n",
            "only showing top 3 rows\n",
            "\n",
            "+----+--------------------+--------------------+-------+-----+--------------------+--------------------+\n",
            "|year|            category|             nominee|company|  win|               staff|            producer|\n",
            "+----+--------------------+--------------------+-------+-----+--------------------+--------------------+\n",
            "|2019|Outstanding Chara...|        The Simpsons|    FOX|false|[Hank Azaria, as ...|[Gracie Films in ...|\n",
            "|2019|Outstanding Chara...|          Family Guy|    FOX|false|[Alex Borstein, a...|[20th Century Fox...|\n",
            "|2019|Outstanding Chara...|When You Wish Upo...|    HBO|false|[Eric Jacobson, a...|[Sesame Street Wo...|\n",
            "+----+--------------------+--------------------+-------+-----+--------------------+--------------------+\n",
            "only showing top 3 rows\n",
            "\n",
            "+--------+--------------------+-------------------+--------------------+\n",
            "|movie_id|               title|               cast|                crew|\n",
            "+--------+--------------------+-------------------+--------------------+\n",
            "|   19995|              Avatar|\"[{\"\"cast_id\"\": 242| \"\"character\"\": \"...|\n",
            "|     285|Pirates of the Ca...|  \"[{\"\"cast_id\"\": 4| \"\"character\"\": \"...|\n",
            "|  206647|             Spectre|  \"[{\"\"cast_id\"\": 1| \"\"character\"\": \"...|\n",
            "+--------+--------------------+-------------------+--------------------+\n",
            "only showing top 3 rows\n",
            "\n",
            "+---------+-------------+--------------------+------------+--------------------+-----------------+--------------------+--------------------+--------------------+--------------------+--------------------+---------------+--------------------+--------------+--------------------+--------------+--------------------+---------------+--------------------+----------------+\n",
            "|   budget|       genres|            homepage|          id|            keywords|original_language|      original_title|            overview|          popularity|production_companies|production_countries|   release_date|             revenue|       runtime|    spoken_languages|        status|             tagline|          title|        vote_average|      vote_count|\n",
            "+---------+-------------+--------------------+------------+--------------------+-----------------+--------------------+--------------------+--------------------+--------------------+--------------------+---------------+--------------------+--------------+--------------------+--------------+--------------------+---------------+--------------------+----------------+\n",
            "|237000000|\"[{\"\"id\"\": 28| \"\"name\"\": \"\"Acti...| {\"\"id\"\": 12| \"\"name\"\": \"\"Adve...|      {\"\"id\"\": 14| \"\"name\"\": \"\"Fant...|        {\"\"id\"\": 878| \"\"name\"\": \"\"Scie...|http://www.avatar...|               19995|\"[{\"\"id\"\": 1463| \"\"name\"\": \"\"cult...| {\"\"id\"\": 2964| \"\"name\"\": \"\"futu...| {\"\"id\"\": 3386| \"\"name\"\": \"\"spac...|  {\"\"id\"\": 3388| \"\"name\"\": \"\"spac...|   {\"\"id\"\": 3679|\n",
            "|300000000|\"[{\"\"id\"\": 12| \"\"name\"\": \"\"Adve...| {\"\"id\"\": 14| \"\"name\"\": \"\"Fant...|      {\"\"id\"\": 28| \"\"name\"\": \"\"Acti...|http://disney.go....|                 285|      \"[{\"\"id\"\": 270| \"\"name\"\": \"\"ocea...|   {\"\"id\"\": 726| \"\"name\"\": \"\"drug...|  {\"\"id\"\": 911| \"\"name\"\": \"\"exot...| {\"\"id\"\": 1319| \"\"name\"\": \"\"east...|  {\"\"id\"\": 2038| \"\"name\"\": \"\"love...|   {\"\"id\"\": 2052|\n",
            "|245000000|\"[{\"\"id\"\": 28| \"\"name\"\": \"\"Acti...| {\"\"id\"\": 12| \"\"name\"\": \"\"Adve...|      {\"\"id\"\": 80| \"\"name\"\": \"\"Crim...|http://www.sonypi...|              206647|      \"[{\"\"id\"\": 470|  \"\"name\"\": \"\"spy\"\"}|   {\"\"id\"\": 818| \"\"name\"\": \"\"base...| {\"\"id\"\": 4289| \"\"name\"\": \"\"secr...| {\"\"id\"\": 9663| \"\"name\"\": \"\"sequ...| {\"\"id\"\": 14555|  \"\"name\"\": \"\"mi6\"\"}| {\"\"id\"\": 156095|\n",
            "+---------+-------------+--------------------+------------+--------------------+-----------------+--------------------+--------------------+--------------------+--------------------+--------------------+---------------+--------------------+--------------+--------------------+--------------+--------------------+---------------+--------------------+----------------+\n",
            "only showing top 3 rows\n",
            "\n"
          ]
        }
      ],
      "source": [
        "for df in Data:\n",
        "  df.show(3)"
      ]
    },
    {
      "cell_type": "code",
      "source": [
        "for df in Data:\n",
        "  df.printSchema()"
      ],
      "metadata": {
        "colab": {
          "base_uri": "https://localhost:8080/"
        },
        "id": "p0A_t5TiCiFk",
        "outputId": "52566135-53d2-4a78-cb46-6173cc563d70"
      },
      "execution_count": 34,
      "outputs": [
        {
          "output_type": "stream",
          "name": "stdout",
          "text": [
            "root\n",
            " |-- titleId: string (nullable = true)\n",
            " |-- ordering: integer (nullable = true)\n",
            " |-- title: string (nullable = true)\n",
            " |-- region: string (nullable = true)\n",
            " |-- language: string (nullable = true)\n",
            " |-- isOriginalTitle: boolean (nullable = true)\n",
            " |-- types: array (nullable = true)\n",
            " |    |-- element: string (containsNull = false)\n",
            " |-- attributes: array (nullable = true)\n",
            " |    |-- element: string (containsNull = false)\n",
            "\n",
            "root\n",
            " |-- tconst: string (nullable = true)\n",
            " |-- titleType: string (nullable = true)\n",
            " |-- primaryTitle: string (nullable = true)\n",
            " |-- originalTitle: string (nullable = true)\n",
            " |-- isAdult: boolean (nullable = true)\n",
            " |-- startYear: integer (nullable = true)\n",
            " |-- endYear: integer (nullable = true)\n",
            " |-- runtimeMinutes: integer (nullable = true)\n",
            " |-- genres: array (nullable = true)\n",
            " |    |-- element: string (containsNull = false)\n",
            "\n",
            "root\n",
            " |-- tconst: string (nullable = true)\n",
            " |-- directors: array (nullable = true)\n",
            " |    |-- element: string (containsNull = false)\n",
            " |-- writers: array (nullable = true)\n",
            " |    |-- element: string (containsNull = false)\n",
            "\n",
            "root\n",
            " |-- tconst: string (nullable = true)\n",
            " |-- parentTconst: string (nullable = true)\n",
            " |-- seasonNumber: integer (nullable = true)\n",
            " |-- episodeNumber: integer (nullable = true)\n",
            "\n",
            "root\n",
            " |-- tconst: string (nullable = true)\n",
            " |-- ordering: integer (nullable = true)\n",
            " |-- category: string (nullable = true)\n",
            " |-- job: string (nullable = true)\n",
            " |-- characters: string (nullable = true)\n",
            "\n",
            "root\n",
            " |-- tconst: string (nullable = true)\n",
            " |-- averageRating: float (nullable = true)\n",
            " |-- numVotes: integer (nullable = true)\n",
            "\n",
            "root\n",
            " |-- primaryName: string (nullable = true)\n",
            " |-- birthYear: integer (nullable = true)\n",
            " |-- deathYear: integer (nullable = true)\n",
            " |-- primaryProfession: array (nullable = true)\n",
            " |    |-- element: string (containsNull = false)\n",
            " |-- knownForTitles: array (nullable = true)\n",
            " |    |-- element: string (containsNull = false)\n",
            "\n",
            "root\n",
            " |-- year_film: integer (nullable = true)\n",
            " |-- year_ceremony: integer (nullable = true)\n",
            " |-- ceremony: integer (nullable = true)\n",
            " |-- category: string (nullable = true)\n",
            " |-- name: string (nullable = true)\n",
            " |-- film: string (nullable = true)\n",
            " |-- winner: boolean (nullable = true)\n",
            "\n",
            "root\n",
            " |-- year_film: integer (nullable = true)\n",
            " |-- year_award: integer (nullable = true)\n",
            " |-- ceremony: integer (nullable = true)\n",
            " |-- category: string (nullable = true)\n",
            " |-- nominee: string (nullable = true)\n",
            " |-- film: string (nullable = true)\n",
            " |-- win: boolean (nullable = true)\n",
            "\n",
            "root\n",
            " |-- name: string (nullable = true)\n",
            " |-- category: string (nullable = true)\n",
            " |-- role: string (nullable = true)\n",
            "\n",
            "root\n",
            " |-- year: integer (nullable = true)\n",
            " |-- category: string (nullable = true)\n",
            " |-- nominee: string (nullable = true)\n",
            " |-- company: string (nullable = true)\n",
            " |-- win: boolean (nullable = true)\n",
            " |-- staff: array (nullable = true)\n",
            " |    |-- element: string (containsNull = false)\n",
            " |-- producer: array (nullable = true)\n",
            " |    |-- element: string (containsNull = false)\n",
            "\n",
            "root\n",
            " |-- movie_id: integer (nullable = true)\n",
            " |-- title: string (nullable = true)\n",
            " |-- cast: string (nullable = true)\n",
            " |-- crew: string (nullable = true)\n",
            "\n",
            "root\n",
            " |-- budget: integer (nullable = true)\n",
            " |-- genres: string (nullable = true)\n",
            " |-- homepage: string (nullable = true)\n",
            " |-- id: string (nullable = true)\n",
            " |-- keywords: string (nullable = true)\n",
            " |-- original_language: string (nullable = true)\n",
            " |-- original_title: string (nullable = true)\n",
            " |-- overview: string (nullable = true)\n",
            " |-- popularity: string (nullable = true)\n",
            " |-- production_companies: string (nullable = true)\n",
            " |-- production_countries: string (nullable = true)\n",
            " |-- release_date: string (nullable = true)\n",
            " |-- revenue: string (nullable = true)\n",
            " |-- runtime: string (nullable = true)\n",
            " |-- spoken_languages: string (nullable = true)\n",
            " |-- status: string (nullable = true)\n",
            " |-- tagline: string (nullable = true)\n",
            " |-- title: string (nullable = true)\n",
            " |-- vote_average: string (nullable = true)\n",
            " |-- vote_count: string (nullable = true)\n",
            "\n"
          ]
        }
      ]
    }
  ],
  "metadata": {
    "colab": {
      "collapsed_sections": [
        "p0l3OAblXJ2w",
        "pPWxy5j_aEvo",
        "1uOGkwaknuQa",
        "i49wO8BapbWS"
      ],
      "provenance": [],
      "include_colab_link": true
    },
    "kernelspec": {
      "display_name": "Python 3",
      "name": "python3"
    },
    "language_info": {
      "name": "python"
    }
  },
  "nbformat": 4,
  "nbformat_minor": 0
}