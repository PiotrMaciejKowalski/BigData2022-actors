{
  "nbformat": 4,
  "nbformat_minor": 0,
  "metadata": {
    "colab": {
      "provenance": [],
      "include_colab_link": true
    },
    "kernelspec": {
      "name": "python3",
      "display_name": "Python 3"
    },
    "language_info": {
      "name": "python"
    }
  },
  "cells": [
    {
      "cell_type": "markdown",
      "metadata": {
        "id": "view-in-github",
        "colab_type": "text"
      },
      "source": [
        "<a href=\"https://colab.research.google.com/github/PiotrMaciejKowalski/BigData2022-actors/blob/Testowanie_aktor%C3%B3w/Testy_podobie%C5%84stwa.ipynb\" target=\"_parent\"><img src=\"https://colab.research.google.com/assets/colab-badge.svg\" alt=\"Open In Colab\"/></a>"
      ]
    },
    {
      "cell_type": "code",
      "execution_count": 1,
      "metadata": {
        "colab": {
          "base_uri": "https://localhost:8080/"
        },
        "id": "Sily_gPgoSU8",
        "outputId": "ce1180fe-c101-4934-bb6d-5d851c967f0d"
      },
      "outputs": [
        {
          "output_type": "stream",
          "name": "stdout",
          "text": [
            "Mounted at /content/gdrive\n"
          ]
        }
      ],
      "source": [
        "from google.colab import drive\n",
        "drive.mount('/content/gdrive')"
      ]
    },
    {
      "cell_type": "code",
      "source": [
        "!git clone https://github.com/PiotrMaciejKowalski/BigData2022-actors.git\n",
        "!mv /content/BigData2022-actors/* .\n",
        "!mv /content/BigData2022-actors/.* .\n",
        "!rmdir /content/BigData2022-actors/"
      ],
      "metadata": {
        "colab": {
          "base_uri": "https://localhost:8080/"
        },
        "id": "2KJR6jVdpXaf",
        "outputId": "0ed22141-9287-482b-f3b3-1fc1907f81a1"
      },
      "execution_count": 2,
      "outputs": [
        {
          "output_type": "stream",
          "name": "stdout",
          "text": [
            "Cloning into 'BigData2022-actors'...\n",
            "remote: Enumerating objects: 1983, done.\u001b[K\n",
            "remote: Counting objects: 100% (604/604), done.\u001b[K\n",
            "remote: Compressing objects: 100% (226/226), done.\u001b[K\n",
            "remote: Total 1983 (delta 506), reused 432 (delta 377), pack-reused 1379\u001b[K\n",
            "Receiving objects: 100% (1983/1983), 6.14 MiB | 29.80 MiB/s, done.\n",
            "Resolving deltas: 100% (1238/1238), done.\n",
            "mv: cannot move '/content/BigData2022-actors/.' to './.': Device or resource busy\n",
            "mv: cannot move '/content/BigData2022-actors/..' to './..': Device or resource busy\n"
          ]
        }
      ]
    },
    {
      "cell_type": "code",
      "source": [
        "import pandas as pd\n",
        "from lib.similarity_utils import *\n",
        "from lib.const import TRAIN_DATA, VALIDATE_DATA, SIMILARITY_VALUES, RANKINGS"
      ],
      "metadata": {
        "id": "aj3TmYMMpeq8"
      },
      "execution_count": 3,
      "outputs": []
    },
    {
      "cell_type": "code",
      "source": [
        "%%time\n",
        "train_data = pd.read_parquet(TRAIN_DATA, columns=[\"nconst\", \"tconst\", \"category\", \"primaryName\", \"knownForTitles\",\n",
        "                                                  \"no_nominations_oscars_norm\", \"no_nominations_globes_norm\",\n",
        "                                                  \"no_nominations_emmy_norm\", \"no_films_norm\",\n",
        "                                                  \"average_films_rating_norm\", \"genres_code\", \"types_code\"])\n",
        "validate_data = pd.read_parquet(VALIDATE_DATA, columns=[\"nconst\", \"tconst\", \"category\", \"primaryName\", \"knownForTitles\",\n",
        "                                                  \"no_nominations_oscars_norm\", \"no_nominations_globes_norm\",\n",
        "                                                  \"no_nominations_emmy_norm\", \"no_films_norm\",\n",
        "                                                  \"average_films_rating_norm\", \"genres_code\", \"types_code\"])"
      ],
      "metadata": {
        "colab": {
          "base_uri": "https://localhost:8080/"
        },
        "id": "m7jbcM3tphAB",
        "outputId": "bcb51785-a046-4632-dcaf-38369a7b0867"
      },
      "execution_count": 7,
      "outputs": [
        {
          "output_type": "stream",
          "name": "stdout",
          "text": [
            "CPU times: user 31.4 s, sys: 7.78 s, total: 39.2 s\n",
            "Wall time: 55.9 s\n"
          ]
        }
      ]
    },
    {
      "cell_type": "code",
      "source": [
        "Dumbledore1 = \"nm0001354\""
      ],
      "metadata": {
        "id": "tL1lwURPpjIj"
      },
      "execution_count": null,
      "outputs": []
    },
    {
      "cell_type": "code",
      "source": [
        "Dumbledore1_data = find_actor_two_datasets(train_data, validate_data, Dumbledore1)"
      ],
      "metadata": {
        "colab": {
          "base_uri": "https://localhost:8080/",
          "height": 425
        },
        "id": "8gCoxVWqtGiP",
        "outputId": "47998edd-9c21-4a4d-cc0e-ef823f947433"
      },
      "execution_count": null,
      "outputs": [
        {
          "output_type": "display_data",
          "data": {
            "text/plain": [
              "                                                                       337803\n",
              "nconst                                                              nm0001354\n",
              "tconst                      [tt0114117, tt0325703, tt1346961, tt15210882, ...\n",
              "category                                                                actor\n",
              "primaryName                                                      Ciarán Hinds\n",
              "knownForTitles                  [tt1201607, tt1596365, tt1340800, tt12789558]\n",
              "no_nominations_oscars_norm                                                0.0\n",
              "no_nominations_globes_norm                                                0.0\n",
              "no_nominations_emmy_norm                                                  0.5\n",
              "no_films_norm                                                           0.009\n",
              "average_films_rating_norm                                               0.704\n",
              "genres_code                 [1, 1, 1, 1, 1, 1, 1, 0, 1, 1, 0, 0, 1, 1, 0, ...\n",
              "types_code                                  [1, 1, 1, 1, 1, 0, 1, 0, 0, 1, 0]"
            ],
            "text/html": [
              "\n",
              "  <div id=\"df-2fe0227d-5395-4fc1-a14f-10f5485f87af\">\n",
              "    <div class=\"colab-df-container\">\n",
              "      <div>\n",
              "<style scoped>\n",
              "    .dataframe tbody tr th:only-of-type {\n",
              "        vertical-align: middle;\n",
              "    }\n",
              "\n",
              "    .dataframe tbody tr th {\n",
              "        vertical-align: top;\n",
              "    }\n",
              "\n",
              "    .dataframe thead th {\n",
              "        text-align: right;\n",
              "    }\n",
              "</style>\n",
              "<table border=\"1\" class=\"dataframe\">\n",
              "  <thead>\n",
              "    <tr style=\"text-align: right;\">\n",
              "      <th></th>\n",
              "      <th>337803</th>\n",
              "    </tr>\n",
              "  </thead>\n",
              "  <tbody>\n",
              "    <tr>\n",
              "      <th>nconst</th>\n",
              "      <td>nm0001354</td>\n",
              "    </tr>\n",
              "    <tr>\n",
              "      <th>tconst</th>\n",
              "      <td>[tt0114117, tt0325703, tt1346961, tt15210882, ...</td>\n",
              "    </tr>\n",
              "    <tr>\n",
              "      <th>category</th>\n",
              "      <td>actor</td>\n",
              "    </tr>\n",
              "    <tr>\n",
              "      <th>primaryName</th>\n",
              "      <td>Ciarán Hinds</td>\n",
              "    </tr>\n",
              "    <tr>\n",
              "      <th>knownForTitles</th>\n",
              "      <td>[tt1201607, tt1596365, tt1340800, tt12789558]</td>\n",
              "    </tr>\n",
              "    <tr>\n",
              "      <th>no_nominations_oscars_norm</th>\n",
              "      <td>0.0</td>\n",
              "    </tr>\n",
              "    <tr>\n",
              "      <th>no_nominations_globes_norm</th>\n",
              "      <td>0.0</td>\n",
              "    </tr>\n",
              "    <tr>\n",
              "      <th>no_nominations_emmy_norm</th>\n",
              "      <td>0.5</td>\n",
              "    </tr>\n",
              "    <tr>\n",
              "      <th>no_films_norm</th>\n",
              "      <td>0.009</td>\n",
              "    </tr>\n",
              "    <tr>\n",
              "      <th>average_films_rating_norm</th>\n",
              "      <td>0.704</td>\n",
              "    </tr>\n",
              "    <tr>\n",
              "      <th>genres_code</th>\n",
              "      <td>[1, 1, 1, 1, 1, 1, 1, 0, 1, 1, 0, 0, 1, 1, 0, ...</td>\n",
              "    </tr>\n",
              "    <tr>\n",
              "      <th>types_code</th>\n",
              "      <td>[1, 1, 1, 1, 1, 0, 1, 0, 0, 1, 0]</td>\n",
              "    </tr>\n",
              "  </tbody>\n",
              "</table>\n",
              "</div>\n",
              "      <button class=\"colab-df-convert\" onclick=\"convertToInteractive('df-2fe0227d-5395-4fc1-a14f-10f5485f87af')\"\n",
              "              title=\"Convert this dataframe to an interactive table.\"\n",
              "              style=\"display:none;\">\n",
              "        \n",
              "  <svg xmlns=\"http://www.w3.org/2000/svg\" height=\"24px\"viewBox=\"0 0 24 24\"\n",
              "       width=\"24px\">\n",
              "    <path d=\"M0 0h24v24H0V0z\" fill=\"none\"/>\n",
              "    <path d=\"M18.56 5.44l.94 2.06.94-2.06 2.06-.94-2.06-.94-.94-2.06-.94 2.06-2.06.94zm-11 1L8.5 8.5l.94-2.06 2.06-.94-2.06-.94L8.5 2.5l-.94 2.06-2.06.94zm10 10l.94 2.06.94-2.06 2.06-.94-2.06-.94-.94-2.06-.94 2.06-2.06.94z\"/><path d=\"M17.41 7.96l-1.37-1.37c-.4-.4-.92-.59-1.43-.59-.52 0-1.04.2-1.43.59L10.3 9.45l-7.72 7.72c-.78.78-.78 2.05 0 2.83L4 21.41c.39.39.9.59 1.41.59.51 0 1.02-.2 1.41-.59l7.78-7.78 2.81-2.81c.8-.78.8-2.07 0-2.86zM5.41 20L4 18.59l7.72-7.72 1.47 1.35L5.41 20z\"/>\n",
              "  </svg>\n",
              "      </button>\n",
              "      \n",
              "  <style>\n",
              "    .colab-df-container {\n",
              "      display:flex;\n",
              "      flex-wrap:wrap;\n",
              "      gap: 12px;\n",
              "    }\n",
              "\n",
              "    .colab-df-convert {\n",
              "      background-color: #E8F0FE;\n",
              "      border: none;\n",
              "      border-radius: 50%;\n",
              "      cursor: pointer;\n",
              "      display: none;\n",
              "      fill: #1967D2;\n",
              "      height: 32px;\n",
              "      padding: 0 0 0 0;\n",
              "      width: 32px;\n",
              "    }\n",
              "\n",
              "    .colab-df-convert:hover {\n",
              "      background-color: #E2EBFA;\n",
              "      box-shadow: 0px 1px 2px rgba(60, 64, 67, 0.3), 0px 1px 3px 1px rgba(60, 64, 67, 0.15);\n",
              "      fill: #174EA6;\n",
              "    }\n",
              "\n",
              "    [theme=dark] .colab-df-convert {\n",
              "      background-color: #3B4455;\n",
              "      fill: #D2E3FC;\n",
              "    }\n",
              "\n",
              "    [theme=dark] .colab-df-convert:hover {\n",
              "      background-color: #434B5C;\n",
              "      box-shadow: 0px 1px 3px 1px rgba(0, 0, 0, 0.15);\n",
              "      filter: drop-shadow(0px 1px 2px rgba(0, 0, 0, 0.3));\n",
              "      fill: #FFFFFF;\n",
              "    }\n",
              "  </style>\n",
              "\n",
              "      <script>\n",
              "        const buttonEl =\n",
              "          document.querySelector('#df-2fe0227d-5395-4fc1-a14f-10f5485f87af button.colab-df-convert');\n",
              "        buttonEl.style.display =\n",
              "          google.colab.kernel.accessAllowed ? 'block' : 'none';\n",
              "\n",
              "        async function convertToInteractive(key) {\n",
              "          const element = document.querySelector('#df-2fe0227d-5395-4fc1-a14f-10f5485f87af');\n",
              "          const dataTable =\n",
              "            await google.colab.kernel.invokeFunction('convertToInteractive',\n",
              "                                                     [key], {});\n",
              "          if (!dataTable) return;\n",
              "\n",
              "          const docLinkHtml = 'Like what you see? Visit the ' +\n",
              "            '<a target=\"_blank\" href=https://colab.research.google.com/notebooks/data_table.ipynb>data table notebook</a>'\n",
              "            + ' to learn more about interactive tables.';\n",
              "          element.innerHTML = '';\n",
              "          dataTable['output_type'] = 'display_data';\n",
              "          await google.colab.output.renderOutput(dataTable, element);\n",
              "          const docLink = document.createElement('div');\n",
              "          docLink.innerHTML = docLinkHtml;\n",
              "          element.appendChild(docLink);\n",
              "        }\n",
              "      </script>\n",
              "    </div>\n",
              "  </div>\n",
              "  "
            ]
          },
          "metadata": {}
        }
      ]
    },
    {
      "cell_type": "code",
      "source": [
        "Dumbledore2 = \"nm0002091\""
      ],
      "metadata": {
        "id": "DUyaa5Wdsc80"
      },
      "execution_count": null,
      "outputs": []
    },
    {
      "cell_type": "code",
      "source": [
        "Dumbledore2_data = find_actor_two_datasets(train_data, validate_data, Dumbledore2)"
      ],
      "metadata": {
        "colab": {
          "base_uri": "https://localhost:8080/",
          "height": 425
        },
        "id": "hmZPztN9wE6Z",
        "outputId": "0330b140-cc3a-45ee-ba19-4bf448ade3a4"
      },
      "execution_count": null,
      "outputs": [
        {
          "output_type": "display_data",
          "data": {
            "text/plain": [
              "                                                                       207959\n",
              "nconst                                                              nm0002091\n",
              "tconst                      [tt0375912, tt0530347, tt0639862, tt0706492, t...\n",
              "category                                                                actor\n",
              "primaryName                                                    Michael Gambon\n",
              "knownForTitles                   [tt1504320, tt0097108, tt0280707, tt0417741]\n",
              "no_nominations_oscars_norm                                                0.0\n",
              "no_nominations_globes_norm                                              0.043\n",
              "no_nominations_emmy_norm                                                  0.5\n",
              "no_films_norm                                                           0.016\n",
              "average_films_rating_norm                                               0.728\n",
              "genres_code                 [1, 1, 1, 1, 1, 1, 1, 0, 1, 1, 0, 0, 1, 1, 0, ...\n",
              "types_code                                  [1, 1, 1, 1, 1, 0, 1, 1, 1, 1, 0]"
            ],
            "text/html": [
              "\n",
              "  <div id=\"df-4ae01300-04ac-4a3c-8224-f37611e02e01\">\n",
              "    <div class=\"colab-df-container\">\n",
              "      <div>\n",
              "<style scoped>\n",
              "    .dataframe tbody tr th:only-of-type {\n",
              "        vertical-align: middle;\n",
              "    }\n",
              "\n",
              "    .dataframe tbody tr th {\n",
              "        vertical-align: top;\n",
              "    }\n",
              "\n",
              "    .dataframe thead th {\n",
              "        text-align: right;\n",
              "    }\n",
              "</style>\n",
              "<table border=\"1\" class=\"dataframe\">\n",
              "  <thead>\n",
              "    <tr style=\"text-align: right;\">\n",
              "      <th></th>\n",
              "      <th>207959</th>\n",
              "    </tr>\n",
              "  </thead>\n",
              "  <tbody>\n",
              "    <tr>\n",
              "      <th>nconst</th>\n",
              "      <td>nm0002091</td>\n",
              "    </tr>\n",
              "    <tr>\n",
              "      <th>tconst</th>\n",
              "      <td>[tt0375912, tt0530347, tt0639862, tt0706492, t...</td>\n",
              "    </tr>\n",
              "    <tr>\n",
              "      <th>category</th>\n",
              "      <td>actor</td>\n",
              "    </tr>\n",
              "    <tr>\n",
              "      <th>primaryName</th>\n",
              "      <td>Michael Gambon</td>\n",
              "    </tr>\n",
              "    <tr>\n",
              "      <th>knownForTitles</th>\n",
              "      <td>[tt1504320, tt0097108, tt0280707, tt0417741]</td>\n",
              "    </tr>\n",
              "    <tr>\n",
              "      <th>no_nominations_oscars_norm</th>\n",
              "      <td>0.0</td>\n",
              "    </tr>\n",
              "    <tr>\n",
              "      <th>no_nominations_globes_norm</th>\n",
              "      <td>0.043</td>\n",
              "    </tr>\n",
              "    <tr>\n",
              "      <th>no_nominations_emmy_norm</th>\n",
              "      <td>0.5</td>\n",
              "    </tr>\n",
              "    <tr>\n",
              "      <th>no_films_norm</th>\n",
              "      <td>0.016</td>\n",
              "    </tr>\n",
              "    <tr>\n",
              "      <th>average_films_rating_norm</th>\n",
              "      <td>0.728</td>\n",
              "    </tr>\n",
              "    <tr>\n",
              "      <th>genres_code</th>\n",
              "      <td>[1, 1, 1, 1, 1, 1, 1, 0, 1, 1, 0, 0, 1, 1, 0, ...</td>\n",
              "    </tr>\n",
              "    <tr>\n",
              "      <th>types_code</th>\n",
              "      <td>[1, 1, 1, 1, 1, 0, 1, 1, 1, 1, 0]</td>\n",
              "    </tr>\n",
              "  </tbody>\n",
              "</table>\n",
              "</div>\n",
              "      <button class=\"colab-df-convert\" onclick=\"convertToInteractive('df-4ae01300-04ac-4a3c-8224-f37611e02e01')\"\n",
              "              title=\"Convert this dataframe to an interactive table.\"\n",
              "              style=\"display:none;\">\n",
              "        \n",
              "  <svg xmlns=\"http://www.w3.org/2000/svg\" height=\"24px\"viewBox=\"0 0 24 24\"\n",
              "       width=\"24px\">\n",
              "    <path d=\"M0 0h24v24H0V0z\" fill=\"none\"/>\n",
              "    <path d=\"M18.56 5.44l.94 2.06.94-2.06 2.06-.94-2.06-.94-.94-2.06-.94 2.06-2.06.94zm-11 1L8.5 8.5l.94-2.06 2.06-.94-2.06-.94L8.5 2.5l-.94 2.06-2.06.94zm10 10l.94 2.06.94-2.06 2.06-.94-2.06-.94-.94-2.06-.94 2.06-2.06.94z\"/><path d=\"M17.41 7.96l-1.37-1.37c-.4-.4-.92-.59-1.43-.59-.52 0-1.04.2-1.43.59L10.3 9.45l-7.72 7.72c-.78.78-.78 2.05 0 2.83L4 21.41c.39.39.9.59 1.41.59.51 0 1.02-.2 1.41-.59l7.78-7.78 2.81-2.81c.8-.78.8-2.07 0-2.86zM5.41 20L4 18.59l7.72-7.72 1.47 1.35L5.41 20z\"/>\n",
              "  </svg>\n",
              "      </button>\n",
              "      \n",
              "  <style>\n",
              "    .colab-df-container {\n",
              "      display:flex;\n",
              "      flex-wrap:wrap;\n",
              "      gap: 12px;\n",
              "    }\n",
              "\n",
              "    .colab-df-convert {\n",
              "      background-color: #E8F0FE;\n",
              "      border: none;\n",
              "      border-radius: 50%;\n",
              "      cursor: pointer;\n",
              "      display: none;\n",
              "      fill: #1967D2;\n",
              "      height: 32px;\n",
              "      padding: 0 0 0 0;\n",
              "      width: 32px;\n",
              "    }\n",
              "\n",
              "    .colab-df-convert:hover {\n",
              "      background-color: #E2EBFA;\n",
              "      box-shadow: 0px 1px 2px rgba(60, 64, 67, 0.3), 0px 1px 3px 1px rgba(60, 64, 67, 0.15);\n",
              "      fill: #174EA6;\n",
              "    }\n",
              "\n",
              "    [theme=dark] .colab-df-convert {\n",
              "      background-color: #3B4455;\n",
              "      fill: #D2E3FC;\n",
              "    }\n",
              "\n",
              "    [theme=dark] .colab-df-convert:hover {\n",
              "      background-color: #434B5C;\n",
              "      box-shadow: 0px 1px 3px 1px rgba(0, 0, 0, 0.15);\n",
              "      filter: drop-shadow(0px 1px 2px rgba(0, 0, 0, 0.3));\n",
              "      fill: #FFFFFF;\n",
              "    }\n",
              "  </style>\n",
              "\n",
              "      <script>\n",
              "        const buttonEl =\n",
              "          document.querySelector('#df-4ae01300-04ac-4a3c-8224-f37611e02e01 button.colab-df-convert');\n",
              "        buttonEl.style.display =\n",
              "          google.colab.kernel.accessAllowed ? 'block' : 'none';\n",
              "\n",
              "        async function convertToInteractive(key) {\n",
              "          const element = document.querySelector('#df-4ae01300-04ac-4a3c-8224-f37611e02e01');\n",
              "          const dataTable =\n",
              "            await google.colab.kernel.invokeFunction('convertToInteractive',\n",
              "                                                     [key], {});\n",
              "          if (!dataTable) return;\n",
              "\n",
              "          const docLinkHtml = 'Like what you see? Visit the ' +\n",
              "            '<a target=\"_blank\" href=https://colab.research.google.com/notebooks/data_table.ipynb>data table notebook</a>'\n",
              "            + ' to learn more about interactive tables.';\n",
              "          element.innerHTML = '';\n",
              "          dataTable['output_type'] = 'display_data';\n",
              "          await google.colab.output.renderOutput(dataTable, element);\n",
              "          const docLink = document.createElement('div');\n",
              "          docLink.innerHTML = docLinkHtml;\n",
              "          element.appendChild(docLink);\n",
              "        }\n",
              "      </script>\n",
              "    </div>\n",
              "  </div>\n",
              "  "
            ]
          },
          "metadata": {}
        }
      ]
    },
    {
      "cell_type": "code",
      "source": [
        "similarity_value = similarity_new(Dumbledore1_data, Dumbledore2_data, True)\n",
        "print(\"Wartość similarity dla \", Dumbledore1_data[3], \" i \", Dumbledore2_data[3], \" wynosi: \", similarity_value)"
      ],
      "metadata": {
        "colab": {
          "base_uri": "https://localhost:8080/"
        },
        "id": "GyTE3mlTw4-x",
        "outputId": "734a7cd4-a72d-4e3a-e4da-b754d63a9f6c"
      },
      "execution_count": null,
      "outputs": [
        {
          "output_type": "stream",
          "name": "stdout",
          "text": [
            "Wartość similarity dla  Ciarán Hinds  i  Michael Gambon  wynosi:  0.22323040752351075\n"
          ]
        }
      ]
    },
    {
      "cell_type": "code",
      "source": [
        "file_object = open(SIMILARITY_VALUES, 'a')\n",
        "text = \"{}, {}, similarity value: {}\\n\".format(Dumbledore1_data[3], Dumbledore2_data[3], similarity_value)\n",
        "file_object.write(text)\n",
        "file_object.close()"
      ],
      "metadata": {
        "id": "AKKpgxgfxf8o"
      },
      "execution_count": null,
      "outputs": []
    },
    {
      "cell_type": "markdown",
      "source": [
        "Zostali porównani aktorzy, którzy w filmie \"Harry Potter\" byli braćmi. Similarity wyszło dodatnie "
      ],
      "metadata": {
        "id": "n19txjrTzkc_"
      }
    },
    {
      "cell_type": "markdown",
      "source": [
        "Sprawdźmy co wyjdzie, gdy porównamy aktorów przeciwnych płci, ale grających w tym samym filmie - weźmiemy Emmę Watson oraz Ciarana Hindsa."
      ],
      "metadata": {
        "id": "945YK2I_IJmB"
      }
    },
    {
      "cell_type": "code",
      "source": [
        "Emma_Watson = \"nm0914612\""
      ],
      "metadata": {
        "id": "QdOpBlJTIeXX"
      },
      "execution_count": null,
      "outputs": []
    },
    {
      "cell_type": "code",
      "source": [
        "Emma_Watson_data = find_actor_two_datasets(train_data, validate_data, Emma_Watson)"
      ],
      "metadata": {
        "colab": {
          "base_uri": "https://localhost:8080/",
          "height": 425
        },
        "id": "5Q2krpNyI30H",
        "outputId": "f1630325-b6df-4dd3-b359-9c26c2d174d8"
      },
      "execution_count": null,
      "outputs": [
        {
          "output_type": "display_data",
          "data": {
            "text/plain": [
              "                                                                      1242106\n",
              "nconst                                                              nm0914612\n",
              "tconst                      [tt1083845, tt3281548, tt0417741, tt1659337, t...\n",
              "category                                                              actress\n",
              "primaryName                                                       Emma Watson\n",
              "knownForTitles                   [tt2132285, tt0241527, tt2771200, tt1659337]\n",
              "no_nominations_oscars_norm                                                0.0\n",
              "no_nominations_globes_norm                                                0.0\n",
              "no_nominations_emmy_norm                                                  0.5\n",
              "no_films_norm                                                           0.002\n",
              "average_films_rating_norm                                               0.702\n",
              "genres_code                 [1, 1, 1, 1, 1, 0, 0, 0, 1, 1, 0, 0, 1, 0, 0, ...\n",
              "types_code                                  [0, 0, 1, 1, 1, 0, 0, 0, 0, 1, 0]"
            ],
            "text/html": [
              "\n",
              "  <div id=\"df-824b6b0d-017c-49a6-8570-232887fcd27f\">\n",
              "    <div class=\"colab-df-container\">\n",
              "      <div>\n",
              "<style scoped>\n",
              "    .dataframe tbody tr th:only-of-type {\n",
              "        vertical-align: middle;\n",
              "    }\n",
              "\n",
              "    .dataframe tbody tr th {\n",
              "        vertical-align: top;\n",
              "    }\n",
              "\n",
              "    .dataframe thead th {\n",
              "        text-align: right;\n",
              "    }\n",
              "</style>\n",
              "<table border=\"1\" class=\"dataframe\">\n",
              "  <thead>\n",
              "    <tr style=\"text-align: right;\">\n",
              "      <th></th>\n",
              "      <th>1242106</th>\n",
              "    </tr>\n",
              "  </thead>\n",
              "  <tbody>\n",
              "    <tr>\n",
              "      <th>nconst</th>\n",
              "      <td>nm0914612</td>\n",
              "    </tr>\n",
              "    <tr>\n",
              "      <th>tconst</th>\n",
              "      <td>[tt1083845, tt3281548, tt0417741, tt1659337, t...</td>\n",
              "    </tr>\n",
              "    <tr>\n",
              "      <th>category</th>\n",
              "      <td>actress</td>\n",
              "    </tr>\n",
              "    <tr>\n",
              "      <th>primaryName</th>\n",
              "      <td>Emma Watson</td>\n",
              "    </tr>\n",
              "    <tr>\n",
              "      <th>knownForTitles</th>\n",
              "      <td>[tt2132285, tt0241527, tt2771200, tt1659337]</td>\n",
              "    </tr>\n",
              "    <tr>\n",
              "      <th>no_nominations_oscars_norm</th>\n",
              "      <td>0.0</td>\n",
              "    </tr>\n",
              "    <tr>\n",
              "      <th>no_nominations_globes_norm</th>\n",
              "      <td>0.0</td>\n",
              "    </tr>\n",
              "    <tr>\n",
              "      <th>no_nominations_emmy_norm</th>\n",
              "      <td>0.5</td>\n",
              "    </tr>\n",
              "    <tr>\n",
              "      <th>no_films_norm</th>\n",
              "      <td>0.002</td>\n",
              "    </tr>\n",
              "    <tr>\n",
              "      <th>average_films_rating_norm</th>\n",
              "      <td>0.702</td>\n",
              "    </tr>\n",
              "    <tr>\n",
              "      <th>genres_code</th>\n",
              "      <td>[1, 1, 1, 1, 1, 0, 0, 0, 1, 1, 0, 0, 1, 0, 0, ...</td>\n",
              "    </tr>\n",
              "    <tr>\n",
              "      <th>types_code</th>\n",
              "      <td>[0, 0, 1, 1, 1, 0, 0, 0, 0, 1, 0]</td>\n",
              "    </tr>\n",
              "  </tbody>\n",
              "</table>\n",
              "</div>\n",
              "      <button class=\"colab-df-convert\" onclick=\"convertToInteractive('df-824b6b0d-017c-49a6-8570-232887fcd27f')\"\n",
              "              title=\"Convert this dataframe to an interactive table.\"\n",
              "              style=\"display:none;\">\n",
              "        \n",
              "  <svg xmlns=\"http://www.w3.org/2000/svg\" height=\"24px\"viewBox=\"0 0 24 24\"\n",
              "       width=\"24px\">\n",
              "    <path d=\"M0 0h24v24H0V0z\" fill=\"none\"/>\n",
              "    <path d=\"M18.56 5.44l.94 2.06.94-2.06 2.06-.94-2.06-.94-.94-2.06-.94 2.06-2.06.94zm-11 1L8.5 8.5l.94-2.06 2.06-.94-2.06-.94L8.5 2.5l-.94 2.06-2.06.94zm10 10l.94 2.06.94-2.06 2.06-.94-2.06-.94-.94-2.06-.94 2.06-2.06.94z\"/><path d=\"M17.41 7.96l-1.37-1.37c-.4-.4-.92-.59-1.43-.59-.52 0-1.04.2-1.43.59L10.3 9.45l-7.72 7.72c-.78.78-.78 2.05 0 2.83L4 21.41c.39.39.9.59 1.41.59.51 0 1.02-.2 1.41-.59l7.78-7.78 2.81-2.81c.8-.78.8-2.07 0-2.86zM5.41 20L4 18.59l7.72-7.72 1.47 1.35L5.41 20z\"/>\n",
              "  </svg>\n",
              "      </button>\n",
              "      \n",
              "  <style>\n",
              "    .colab-df-container {\n",
              "      display:flex;\n",
              "      flex-wrap:wrap;\n",
              "      gap: 12px;\n",
              "    }\n",
              "\n",
              "    .colab-df-convert {\n",
              "      background-color: #E8F0FE;\n",
              "      border: none;\n",
              "      border-radius: 50%;\n",
              "      cursor: pointer;\n",
              "      display: none;\n",
              "      fill: #1967D2;\n",
              "      height: 32px;\n",
              "      padding: 0 0 0 0;\n",
              "      width: 32px;\n",
              "    }\n",
              "\n",
              "    .colab-df-convert:hover {\n",
              "      background-color: #E2EBFA;\n",
              "      box-shadow: 0px 1px 2px rgba(60, 64, 67, 0.3), 0px 1px 3px 1px rgba(60, 64, 67, 0.15);\n",
              "      fill: #174EA6;\n",
              "    }\n",
              "\n",
              "    [theme=dark] .colab-df-convert {\n",
              "      background-color: #3B4455;\n",
              "      fill: #D2E3FC;\n",
              "    }\n",
              "\n",
              "    [theme=dark] .colab-df-convert:hover {\n",
              "      background-color: #434B5C;\n",
              "      box-shadow: 0px 1px 3px 1px rgba(0, 0, 0, 0.15);\n",
              "      filter: drop-shadow(0px 1px 2px rgba(0, 0, 0, 0.3));\n",
              "      fill: #FFFFFF;\n",
              "    }\n",
              "  </style>\n",
              "\n",
              "      <script>\n",
              "        const buttonEl =\n",
              "          document.querySelector('#df-824b6b0d-017c-49a6-8570-232887fcd27f button.colab-df-convert');\n",
              "        buttonEl.style.display =\n",
              "          google.colab.kernel.accessAllowed ? 'block' : 'none';\n",
              "\n",
              "        async function convertToInteractive(key) {\n",
              "          const element = document.querySelector('#df-824b6b0d-017c-49a6-8570-232887fcd27f');\n",
              "          const dataTable =\n",
              "            await google.colab.kernel.invokeFunction('convertToInteractive',\n",
              "                                                     [key], {});\n",
              "          if (!dataTable) return;\n",
              "\n",
              "          const docLinkHtml = 'Like what you see? Visit the ' +\n",
              "            '<a target=\"_blank\" href=https://colab.research.google.com/notebooks/data_table.ipynb>data table notebook</a>'\n",
              "            + ' to learn more about interactive tables.';\n",
              "          element.innerHTML = '';\n",
              "          dataTable['output_type'] = 'display_data';\n",
              "          await google.colab.output.renderOutput(dataTable, element);\n",
              "          const docLink = document.createElement('div');\n",
              "          docLink.innerHTML = docLinkHtml;\n",
              "          element.appendChild(docLink);\n",
              "        }\n",
              "      </script>\n",
              "    </div>\n",
              "  </div>\n",
              "  "
            ]
          },
          "metadata": {}
        }
      ]
    },
    {
      "cell_type": "code",
      "source": [
        "similarity_value2 = similarity_new(Dumbledore2_data, Emma_Watson_data, True)\n",
        "print(\"Wartość similarity dla \", Dumbledore2_data[3], \" i \", Emma_Watson_data[3], \" wynosi: \", similarity_value2)"
      ],
      "metadata": {
        "colab": {
          "base_uri": "https://localhost:8080/"
        },
        "id": "y93lzC9xIml0",
        "outputId": "7b773b9e-9d5d-4cff-a465-87e727e1ed70"
      },
      "execution_count": null,
      "outputs": [
        {
          "output_type": "stream",
          "name": "stdout",
          "text": [
            "Wartość similarity dla  Michael Gambon  i  Emma Watson  wynosi:  0.07299110945932852\n"
          ]
        }
      ]
    },
    {
      "cell_type": "markdown",
      "source": [
        "Wyszła nam ciekawa rzecz. Mianowicie dodatnie podobieństwo mężczyzny 82 letniego oraz 32 letniej kobiety."
      ],
      "metadata": {
        "id": "xzzTdL5zMh83"
      }
    },
    {
      "cell_type": "code",
      "source": [
        "file_object = open(SIMILARITY_VALUES, 'a')\n",
        "text = \"{}, {}, similarity value: {}\\n\".format(Emma_Watson_data[3], Dumbledore2_data[3], similarity_value2)\n",
        "file_object.write(text)\n",
        "file_object.close()"
      ],
      "metadata": {
        "id": "UEsTI_-9xvDA"
      },
      "execution_count": null,
      "outputs": []
    },
    {
      "cell_type": "code",
      "source": [
        "similarity_value3 = similarity_new(Dumbledore1_data, Emma_Watson_data, True)\n",
        "print(\"Wartość similarity dla \", Dumbledore1_data[3], \" i \", Emma_Watson_data[3], \" wynosi: \", similarity_value3)"
      ],
      "metadata": {
        "colab": {
          "base_uri": "https://localhost:8080/"
        },
        "id": "i4LETpMCQV0_",
        "outputId": "db4831cb-1f2d-4d63-9750-7ad4fd5ee6e4"
      },
      "execution_count": null,
      "outputs": [
        {
          "output_type": "stream",
          "name": "stdout",
          "text": [
            "Wartość similarity dla  Ciarán Hinds  i  Emma Watson  wynosi:  0.12356802507836995\n"
          ]
        }
      ]
    },
    {
      "cell_type": "code",
      "source": [
        "file_object = open(SIMILARITY_VALUES, 'a')\n",
        "text = \"{}, {}, similarity value: {}\\n\".format(Emma_Watson_data[3], Dumbledore1_data[3], similarity_value3)\n",
        "file_object.write(text)\n",
        "file_object.close()"
      ],
      "metadata": {
        "id": "hzbxKH-pyq7a"
      },
      "execution_count": null,
      "outputs": []
    },
    {
      "cell_type": "markdown",
      "source": [
        "Dla aktorów grających Albusa Dumbledore'a i Hermionę Granger wyszło trochę większe. Podejrzewam, że ma to związek z tym, że cała ta trójka generalnie ma podobne wartości kolumn z wyjątkiem Emma[no_nominations_globes_norm] = Albus[to samo] = 0, podczas gdy Aberforth ma tam wartość 0,043. Ratingi mają bardzo podobne w okolicach niskich 7,xx."
      ],
      "metadata": {
        "id": "wOK6KU9PyH7C"
      }
    },
    {
      "cell_type": "markdown",
      "source": [
        "Sprawdzimy teraz co się pokaże, kiedy wezmę tę samą płeć, ale różny wiek i różne filmy, w których grały. Np. Emma Watson i Jennifer Aniston."
      ],
      "metadata": {
        "id": "l759gkKzQ8If"
      }
    },
    {
      "cell_type": "code",
      "source": [
        "Jennifer_Aniston = \"nm0000098\""
      ],
      "metadata": {
        "id": "er3BGclrQ7Bg"
      },
      "execution_count": null,
      "outputs": []
    },
    {
      "cell_type": "code",
      "source": [
        "Jennifer_Aniston_data = find_actor_two_datasets(train_data, validate_data, Jennifer_Aniston)"
      ],
      "metadata": {
        "colab": {
          "base_uri": "https://localhost:8080/",
          "height": 425
        },
        "id": "A4Uc3ptoROP-",
        "outputId": "b7b2a6ec-1744-43d0-e07b-7f329950f721"
      },
      "execution_count": null,
      "outputs": [
        {
          "output_type": "display_data",
          "data": {
            "text/plain": [
              "                                                                       834000\n",
              "nconst                                                              nm0000098\n",
              "tconst                      [tt0569285, tt0578935, tt0583456, tt0583435, t...\n",
              "category                                                              actress\n",
              "primaryName                                                  Jennifer Aniston\n",
              "knownForTitles                   [tt1564367, tt3442006, tt0108778, tt1723121]\n",
              "no_nominations_oscars_norm                                                0.0\n",
              "no_nominations_globes_norm                                              0.174\n",
              "no_nominations_emmy_norm                                                  0.5\n",
              "no_films_norm                                                           0.033\n",
              "average_films_rating_norm                                               0.787\n",
              "genres_code                 [1, 1, 1, 1, 1, 0, 1, 0, 1, 1, 0, 0, 1, 0, 0, ...\n",
              "types_code                                  [1, 0, 1, 1, 1, 1, 1, 1, 0, 1, 0]"
            ],
            "text/html": [
              "\n",
              "  <div id=\"df-909dff85-443e-4ec9-ae52-9662c933a9f1\">\n",
              "    <div class=\"colab-df-container\">\n",
              "      <div>\n",
              "<style scoped>\n",
              "    .dataframe tbody tr th:only-of-type {\n",
              "        vertical-align: middle;\n",
              "    }\n",
              "\n",
              "    .dataframe tbody tr th {\n",
              "        vertical-align: top;\n",
              "    }\n",
              "\n",
              "    .dataframe thead th {\n",
              "        text-align: right;\n",
              "    }\n",
              "</style>\n",
              "<table border=\"1\" class=\"dataframe\">\n",
              "  <thead>\n",
              "    <tr style=\"text-align: right;\">\n",
              "      <th></th>\n",
              "      <th>834000</th>\n",
              "    </tr>\n",
              "  </thead>\n",
              "  <tbody>\n",
              "    <tr>\n",
              "      <th>nconst</th>\n",
              "      <td>nm0000098</td>\n",
              "    </tr>\n",
              "    <tr>\n",
              "      <th>tconst</th>\n",
              "      <td>[tt0569285, tt0578935, tt0583456, tt0583435, t...</td>\n",
              "    </tr>\n",
              "    <tr>\n",
              "      <th>category</th>\n",
              "      <td>actress</td>\n",
              "    </tr>\n",
              "    <tr>\n",
              "      <th>primaryName</th>\n",
              "      <td>Jennifer Aniston</td>\n",
              "    </tr>\n",
              "    <tr>\n",
              "      <th>knownForTitles</th>\n",
              "      <td>[tt1564367, tt3442006, tt0108778, tt1723121]</td>\n",
              "    </tr>\n",
              "    <tr>\n",
              "      <th>no_nominations_oscars_norm</th>\n",
              "      <td>0.0</td>\n",
              "    </tr>\n",
              "    <tr>\n",
              "      <th>no_nominations_globes_norm</th>\n",
              "      <td>0.174</td>\n",
              "    </tr>\n",
              "    <tr>\n",
              "      <th>no_nominations_emmy_norm</th>\n",
              "      <td>0.5</td>\n",
              "    </tr>\n",
              "    <tr>\n",
              "      <th>no_films_norm</th>\n",
              "      <td>0.033</td>\n",
              "    </tr>\n",
              "    <tr>\n",
              "      <th>average_films_rating_norm</th>\n",
              "      <td>0.787</td>\n",
              "    </tr>\n",
              "    <tr>\n",
              "      <th>genres_code</th>\n",
              "      <td>[1, 1, 1, 1, 1, 0, 1, 0, 1, 1, 0, 0, 1, 0, 0, ...</td>\n",
              "    </tr>\n",
              "    <tr>\n",
              "      <th>types_code</th>\n",
              "      <td>[1, 0, 1, 1, 1, 1, 1, 1, 0, 1, 0]</td>\n",
              "    </tr>\n",
              "  </tbody>\n",
              "</table>\n",
              "</div>\n",
              "      <button class=\"colab-df-convert\" onclick=\"convertToInteractive('df-909dff85-443e-4ec9-ae52-9662c933a9f1')\"\n",
              "              title=\"Convert this dataframe to an interactive table.\"\n",
              "              style=\"display:none;\">\n",
              "        \n",
              "  <svg xmlns=\"http://www.w3.org/2000/svg\" height=\"24px\"viewBox=\"0 0 24 24\"\n",
              "       width=\"24px\">\n",
              "    <path d=\"M0 0h24v24H0V0z\" fill=\"none\"/>\n",
              "    <path d=\"M18.56 5.44l.94 2.06.94-2.06 2.06-.94-2.06-.94-.94-2.06-.94 2.06-2.06.94zm-11 1L8.5 8.5l.94-2.06 2.06-.94-2.06-.94L8.5 2.5l-.94 2.06-2.06.94zm10 10l.94 2.06.94-2.06 2.06-.94-2.06-.94-.94-2.06-.94 2.06-2.06.94z\"/><path d=\"M17.41 7.96l-1.37-1.37c-.4-.4-.92-.59-1.43-.59-.52 0-1.04.2-1.43.59L10.3 9.45l-7.72 7.72c-.78.78-.78 2.05 0 2.83L4 21.41c.39.39.9.59 1.41.59.51 0 1.02-.2 1.41-.59l7.78-7.78 2.81-2.81c.8-.78.8-2.07 0-2.86zM5.41 20L4 18.59l7.72-7.72 1.47 1.35L5.41 20z\"/>\n",
              "  </svg>\n",
              "      </button>\n",
              "      \n",
              "  <style>\n",
              "    .colab-df-container {\n",
              "      display:flex;\n",
              "      flex-wrap:wrap;\n",
              "      gap: 12px;\n",
              "    }\n",
              "\n",
              "    .colab-df-convert {\n",
              "      background-color: #E8F0FE;\n",
              "      border: none;\n",
              "      border-radius: 50%;\n",
              "      cursor: pointer;\n",
              "      display: none;\n",
              "      fill: #1967D2;\n",
              "      height: 32px;\n",
              "      padding: 0 0 0 0;\n",
              "      width: 32px;\n",
              "    }\n",
              "\n",
              "    .colab-df-convert:hover {\n",
              "      background-color: #E2EBFA;\n",
              "      box-shadow: 0px 1px 2px rgba(60, 64, 67, 0.3), 0px 1px 3px 1px rgba(60, 64, 67, 0.15);\n",
              "      fill: #174EA6;\n",
              "    }\n",
              "\n",
              "    [theme=dark] .colab-df-convert {\n",
              "      background-color: #3B4455;\n",
              "      fill: #D2E3FC;\n",
              "    }\n",
              "\n",
              "    [theme=dark] .colab-df-convert:hover {\n",
              "      background-color: #434B5C;\n",
              "      box-shadow: 0px 1px 3px 1px rgba(0, 0, 0, 0.15);\n",
              "      filter: drop-shadow(0px 1px 2px rgba(0, 0, 0, 0.3));\n",
              "      fill: #FFFFFF;\n",
              "    }\n",
              "  </style>\n",
              "\n",
              "      <script>\n",
              "        const buttonEl =\n",
              "          document.querySelector('#df-909dff85-443e-4ec9-ae52-9662c933a9f1 button.colab-df-convert');\n",
              "        buttonEl.style.display =\n",
              "          google.colab.kernel.accessAllowed ? 'block' : 'none';\n",
              "\n",
              "        async function convertToInteractive(key) {\n",
              "          const element = document.querySelector('#df-909dff85-443e-4ec9-ae52-9662c933a9f1');\n",
              "          const dataTable =\n",
              "            await google.colab.kernel.invokeFunction('convertToInteractive',\n",
              "                                                     [key], {});\n",
              "          if (!dataTable) return;\n",
              "\n",
              "          const docLinkHtml = 'Like what you see? Visit the ' +\n",
              "            '<a target=\"_blank\" href=https://colab.research.google.com/notebooks/data_table.ipynb>data table notebook</a>'\n",
              "            + ' to learn more about interactive tables.';\n",
              "          element.innerHTML = '';\n",
              "          dataTable['output_type'] = 'display_data';\n",
              "          await google.colab.output.renderOutput(dataTable, element);\n",
              "          const docLink = document.createElement('div');\n",
              "          docLink.innerHTML = docLinkHtml;\n",
              "          element.appendChild(docLink);\n",
              "        }\n",
              "      </script>\n",
              "    </div>\n",
              "  </div>\n",
              "  "
            ]
          },
          "metadata": {}
        }
      ]
    },
    {
      "cell_type": "code",
      "source": [
        "similarity_value4 = similarity_new(Jennifer_Aniston_data, Emma_Watson_data, True)\n",
        "print(\"Wartość similarity dla \", Jennifer_Aniston_data[3], \" i \", Emma_Watson_data[3], \" wynosi: \", similarity_value4)"
      ],
      "metadata": {
        "colab": {
          "base_uri": "https://localhost:8080/"
        },
        "id": "dhd1OXg1RmZM",
        "outputId": "364cc449-9747-43ef-ef60-2bf4c03344ae"
      },
      "execution_count": null,
      "outputs": [
        {
          "output_type": "stream",
          "name": "stdout",
          "text": [
            "Wartość similarity dla  Jennifer Aniston  i  Emma Watson  wynosi:  0.12886012539184954\n"
          ]
        }
      ]
    },
    {
      "cell_type": "code",
      "source": [
        "file_object = open(SIMILARITY_VALUES, 'a')\n",
        "text = \"{}, {}, similarity value: {}\\n\".format(Emma_Watson_data[3], Jennifer_Aniston_data[3], similarity_value4)\n",
        "file_object.write(text)\n",
        "file_object.close()"
      ],
      "metadata": {
        "id": "hyB8IIhDz6OO"
      },
      "execution_count": null,
      "outputs": []
    },
    {
      "cell_type": "markdown",
      "source": [
        "Na koniec weźmiemy aktora z dużą liczbą nominacji do nagród i aktora z samymi zerami na tych polach. Postaramy się znaleźć ujemne podobieństwo, mając podejrzenie, że kolumny z nominacjami mocniej wpływają na wynik."
      ],
      "metadata": {
        "id": "L3dZabia0O9p"
      }
    },
    {
      "cell_type": "code",
      "source": [
        "Daniel_DayLewis = \"nm0000358\""
      ],
      "metadata": {
        "id": "DusWwf_p0MWc"
      },
      "execution_count": null,
      "outputs": []
    },
    {
      "cell_type": "code",
      "source": [
        "Daniel_DayLewis_data = find_actor_two_datasets(train_data, validate_data, Daniel_DayLewis)"
      ],
      "metadata": {
        "id": "_JyK3edM0dCH",
        "outputId": "4ea75002-626d-4357-9cd8-f41828d33cb3",
        "colab": {
          "base_uri": "https://localhost:8080/",
          "height": 425
        }
      },
      "execution_count": null,
      "outputs": [
        {
          "output_type": "display_data",
          "data": {
            "text/plain": [
              "                                                                       535864\n",
              "nconst                                                              nm0000358\n",
              "tconst                      [tt0096166, tt1258341, tt0357110, tt0084097, t...\n",
              "category                                                                actor\n",
              "primaryName                                                  Daniel Day-Lewis\n",
              "knownForTitles                   [tt0443272, tt0469494, tt0217505, tt0104691]\n",
              "no_nominations_oscars_norm                                              0.114\n",
              "no_nominations_globes_norm                                              0.348\n",
              "no_nominations_emmy_norm                                                  0.5\n",
              "no_films_norm                                                           0.003\n",
              "average_films_rating_norm                                               0.709\n",
              "genres_code                 [1, 1, 0, 1, 1, 1, 1, 0, 0, 0, 0, 0, 1, 0, 0, ...\n",
              "types_code                                  [1, 1, 1, 1, 1, 0, 1, 0, 0, 1, 0]"
            ],
            "text/html": [
              "\n",
              "  <div id=\"df-a22e6d38-2212-4224-88da-881f7a16ced6\">\n",
              "    <div class=\"colab-df-container\">\n",
              "      <div>\n",
              "<style scoped>\n",
              "    .dataframe tbody tr th:only-of-type {\n",
              "        vertical-align: middle;\n",
              "    }\n",
              "\n",
              "    .dataframe tbody tr th {\n",
              "        vertical-align: top;\n",
              "    }\n",
              "\n",
              "    .dataframe thead th {\n",
              "        text-align: right;\n",
              "    }\n",
              "</style>\n",
              "<table border=\"1\" class=\"dataframe\">\n",
              "  <thead>\n",
              "    <tr style=\"text-align: right;\">\n",
              "      <th></th>\n",
              "      <th>535864</th>\n",
              "    </tr>\n",
              "  </thead>\n",
              "  <tbody>\n",
              "    <tr>\n",
              "      <th>nconst</th>\n",
              "      <td>nm0000358</td>\n",
              "    </tr>\n",
              "    <tr>\n",
              "      <th>tconst</th>\n",
              "      <td>[tt0096166, tt1258341, tt0357110, tt0084097, t...</td>\n",
              "    </tr>\n",
              "    <tr>\n",
              "      <th>category</th>\n",
              "      <td>actor</td>\n",
              "    </tr>\n",
              "    <tr>\n",
              "      <th>primaryName</th>\n",
              "      <td>Daniel Day-Lewis</td>\n",
              "    </tr>\n",
              "    <tr>\n",
              "      <th>knownForTitles</th>\n",
              "      <td>[tt0443272, tt0469494, tt0217505, tt0104691]</td>\n",
              "    </tr>\n",
              "    <tr>\n",
              "      <th>no_nominations_oscars_norm</th>\n",
              "      <td>0.114</td>\n",
              "    </tr>\n",
              "    <tr>\n",
              "      <th>no_nominations_globes_norm</th>\n",
              "      <td>0.348</td>\n",
              "    </tr>\n",
              "    <tr>\n",
              "      <th>no_nominations_emmy_norm</th>\n",
              "      <td>0.5</td>\n",
              "    </tr>\n",
              "    <tr>\n",
              "      <th>no_films_norm</th>\n",
              "      <td>0.003</td>\n",
              "    </tr>\n",
              "    <tr>\n",
              "      <th>average_films_rating_norm</th>\n",
              "      <td>0.709</td>\n",
              "    </tr>\n",
              "    <tr>\n",
              "      <th>genres_code</th>\n",
              "      <td>[1, 1, 0, 1, 1, 1, 1, 0, 0, 0, 0, 0, 1, 0, 0, ...</td>\n",
              "    </tr>\n",
              "    <tr>\n",
              "      <th>types_code</th>\n",
              "      <td>[1, 1, 1, 1, 1, 0, 1, 0, 0, 1, 0]</td>\n",
              "    </tr>\n",
              "  </tbody>\n",
              "</table>\n",
              "</div>\n",
              "      <button class=\"colab-df-convert\" onclick=\"convertToInteractive('df-a22e6d38-2212-4224-88da-881f7a16ced6')\"\n",
              "              title=\"Convert this dataframe to an interactive table.\"\n",
              "              style=\"display:none;\">\n",
              "        \n",
              "  <svg xmlns=\"http://www.w3.org/2000/svg\" height=\"24px\"viewBox=\"0 0 24 24\"\n",
              "       width=\"24px\">\n",
              "    <path d=\"M0 0h24v24H0V0z\" fill=\"none\"/>\n",
              "    <path d=\"M18.56 5.44l.94 2.06.94-2.06 2.06-.94-2.06-.94-.94-2.06-.94 2.06-2.06.94zm-11 1L8.5 8.5l.94-2.06 2.06-.94-2.06-.94L8.5 2.5l-.94 2.06-2.06.94zm10 10l.94 2.06.94-2.06 2.06-.94-2.06-.94-.94-2.06-.94 2.06-2.06.94z\"/><path d=\"M17.41 7.96l-1.37-1.37c-.4-.4-.92-.59-1.43-.59-.52 0-1.04.2-1.43.59L10.3 9.45l-7.72 7.72c-.78.78-.78 2.05 0 2.83L4 21.41c.39.39.9.59 1.41.59.51 0 1.02-.2 1.41-.59l7.78-7.78 2.81-2.81c.8-.78.8-2.07 0-2.86zM5.41 20L4 18.59l7.72-7.72 1.47 1.35L5.41 20z\"/>\n",
              "  </svg>\n",
              "      </button>\n",
              "      \n",
              "  <style>\n",
              "    .colab-df-container {\n",
              "      display:flex;\n",
              "      flex-wrap:wrap;\n",
              "      gap: 12px;\n",
              "    }\n",
              "\n",
              "    .colab-df-convert {\n",
              "      background-color: #E8F0FE;\n",
              "      border: none;\n",
              "      border-radius: 50%;\n",
              "      cursor: pointer;\n",
              "      display: none;\n",
              "      fill: #1967D2;\n",
              "      height: 32px;\n",
              "      padding: 0 0 0 0;\n",
              "      width: 32px;\n",
              "    }\n",
              "\n",
              "    .colab-df-convert:hover {\n",
              "      background-color: #E2EBFA;\n",
              "      box-shadow: 0px 1px 2px rgba(60, 64, 67, 0.3), 0px 1px 3px 1px rgba(60, 64, 67, 0.15);\n",
              "      fill: #174EA6;\n",
              "    }\n",
              "\n",
              "    [theme=dark] .colab-df-convert {\n",
              "      background-color: #3B4455;\n",
              "      fill: #D2E3FC;\n",
              "    }\n",
              "\n",
              "    [theme=dark] .colab-df-convert:hover {\n",
              "      background-color: #434B5C;\n",
              "      box-shadow: 0px 1px 3px 1px rgba(0, 0, 0, 0.15);\n",
              "      filter: drop-shadow(0px 1px 2px rgba(0, 0, 0, 0.3));\n",
              "      fill: #FFFFFF;\n",
              "    }\n",
              "  </style>\n",
              "\n",
              "      <script>\n",
              "        const buttonEl =\n",
              "          document.querySelector('#df-a22e6d38-2212-4224-88da-881f7a16ced6 button.colab-df-convert');\n",
              "        buttonEl.style.display =\n",
              "          google.colab.kernel.accessAllowed ? 'block' : 'none';\n",
              "\n",
              "        async function convertToInteractive(key) {\n",
              "          const element = document.querySelector('#df-a22e6d38-2212-4224-88da-881f7a16ced6');\n",
              "          const dataTable =\n",
              "            await google.colab.kernel.invokeFunction('convertToInteractive',\n",
              "                                                     [key], {});\n",
              "          if (!dataTable) return;\n",
              "\n",
              "          const docLinkHtml = 'Like what you see? Visit the ' +\n",
              "            '<a target=\"_blank\" href=https://colab.research.google.com/notebooks/data_table.ipynb>data table notebook</a>'\n",
              "            + ' to learn more about interactive tables.';\n",
              "          element.innerHTML = '';\n",
              "          dataTable['output_type'] = 'display_data';\n",
              "          await google.colab.output.renderOutput(dataTable, element);\n",
              "          const docLink = document.createElement('div');\n",
              "          docLink.innerHTML = docLinkHtml;\n",
              "          element.appendChild(docLink);\n",
              "        }\n",
              "      </script>\n",
              "    </div>\n",
              "  </div>\n",
              "  "
            ]
          },
          "metadata": {}
        }
      ]
    },
    {
      "cell_type": "code",
      "source": [
        "Leszek_Zukowski = \"nm3191238\""
      ],
      "metadata": {
        "id": "8zQNqcFf0mu8"
      },
      "execution_count": null,
      "outputs": []
    },
    {
      "cell_type": "code",
      "source": [
        "Leszek_Zukowski_data = find_actor_two_datasets(train_data, validate_data, Leszek_Zukowski)"
      ],
      "metadata": {
        "id": "4dKOmClG0yth",
        "outputId": "956e2185-1634-4975-b17d-55d368fc7f0f",
        "colab": {
          "base_uri": "https://localhost:8080/",
          "height": 425
        }
      },
      "execution_count": null,
      "outputs": [
        {
          "output_type": "display_data",
          "data": {
            "text/plain": [
              "                                                                      1741413\n",
              "nconst                                                              nm3191238\n",
              "tconst                      [tt1645935, tt11530728, tt18256306, tt8265674,...\n",
              "category                                                                actor\n",
              "primaryName                                                   Leszek Zukowski\n",
              "knownForTitles                   [tt1443335, tt0434680, tt0182607, tt0386946]\n",
              "no_nominations_oscars_norm                                                0.0\n",
              "no_nominations_globes_norm                                                0.0\n",
              "no_nominations_emmy_norm                                                  0.5\n",
              "no_films_norm                                                             0.0\n",
              "average_films_rating_norm                                                 0.0\n",
              "genres_code                 [0, 1, 0, 0, 1, 0, 0, 0, 0, 0, 0, 0, 0, 0, 0, ...\n",
              "types_code                                  [1, 0, 0, 1, 0, 0, 0, 0, 0, 1, 0]"
            ],
            "text/html": [
              "\n",
              "  <div id=\"df-eb25278a-15cb-422e-a0ec-76788d63957e\">\n",
              "    <div class=\"colab-df-container\">\n",
              "      <div>\n",
              "<style scoped>\n",
              "    .dataframe tbody tr th:only-of-type {\n",
              "        vertical-align: middle;\n",
              "    }\n",
              "\n",
              "    .dataframe tbody tr th {\n",
              "        vertical-align: top;\n",
              "    }\n",
              "\n",
              "    .dataframe thead th {\n",
              "        text-align: right;\n",
              "    }\n",
              "</style>\n",
              "<table border=\"1\" class=\"dataframe\">\n",
              "  <thead>\n",
              "    <tr style=\"text-align: right;\">\n",
              "      <th></th>\n",
              "      <th>1741413</th>\n",
              "    </tr>\n",
              "  </thead>\n",
              "  <tbody>\n",
              "    <tr>\n",
              "      <th>nconst</th>\n",
              "      <td>nm3191238</td>\n",
              "    </tr>\n",
              "    <tr>\n",
              "      <th>tconst</th>\n",
              "      <td>[tt1645935, tt11530728, tt18256306, tt8265674,...</td>\n",
              "    </tr>\n",
              "    <tr>\n",
              "      <th>category</th>\n",
              "      <td>actor</td>\n",
              "    </tr>\n",
              "    <tr>\n",
              "      <th>primaryName</th>\n",
              "      <td>Leszek Zukowski</td>\n",
              "    </tr>\n",
              "    <tr>\n",
              "      <th>knownForTitles</th>\n",
              "      <td>[tt1443335, tt0434680, tt0182607, tt0386946]</td>\n",
              "    </tr>\n",
              "    <tr>\n",
              "      <th>no_nominations_oscars_norm</th>\n",
              "      <td>0.0</td>\n",
              "    </tr>\n",
              "    <tr>\n",
              "      <th>no_nominations_globes_norm</th>\n",
              "      <td>0.0</td>\n",
              "    </tr>\n",
              "    <tr>\n",
              "      <th>no_nominations_emmy_norm</th>\n",
              "      <td>0.5</td>\n",
              "    </tr>\n",
              "    <tr>\n",
              "      <th>no_films_norm</th>\n",
              "      <td>0.0</td>\n",
              "    </tr>\n",
              "    <tr>\n",
              "      <th>average_films_rating_norm</th>\n",
              "      <td>0.0</td>\n",
              "    </tr>\n",
              "    <tr>\n",
              "      <th>genres_code</th>\n",
              "      <td>[0, 1, 0, 0, 1, 0, 0, 0, 0, 0, 0, 0, 0, 0, 0, ...</td>\n",
              "    </tr>\n",
              "    <tr>\n",
              "      <th>types_code</th>\n",
              "      <td>[1, 0, 0, 1, 0, 0, 0, 0, 0, 1, 0]</td>\n",
              "    </tr>\n",
              "  </tbody>\n",
              "</table>\n",
              "</div>\n",
              "      <button class=\"colab-df-convert\" onclick=\"convertToInteractive('df-eb25278a-15cb-422e-a0ec-76788d63957e')\"\n",
              "              title=\"Convert this dataframe to an interactive table.\"\n",
              "              style=\"display:none;\">\n",
              "        \n",
              "  <svg xmlns=\"http://www.w3.org/2000/svg\" height=\"24px\"viewBox=\"0 0 24 24\"\n",
              "       width=\"24px\">\n",
              "    <path d=\"M0 0h24v24H0V0z\" fill=\"none\"/>\n",
              "    <path d=\"M18.56 5.44l.94 2.06.94-2.06 2.06-.94-2.06-.94-.94-2.06-.94 2.06-2.06.94zm-11 1L8.5 8.5l.94-2.06 2.06-.94-2.06-.94L8.5 2.5l-.94 2.06-2.06.94zm10 10l.94 2.06.94-2.06 2.06-.94-2.06-.94-.94-2.06-.94 2.06-2.06.94z\"/><path d=\"M17.41 7.96l-1.37-1.37c-.4-.4-.92-.59-1.43-.59-.52 0-1.04.2-1.43.59L10.3 9.45l-7.72 7.72c-.78.78-.78 2.05 0 2.83L4 21.41c.39.39.9.59 1.41.59.51 0 1.02-.2 1.41-.59l7.78-7.78 2.81-2.81c.8-.78.8-2.07 0-2.86zM5.41 20L4 18.59l7.72-7.72 1.47 1.35L5.41 20z\"/>\n",
              "  </svg>\n",
              "      </button>\n",
              "      \n",
              "  <style>\n",
              "    .colab-df-container {\n",
              "      display:flex;\n",
              "      flex-wrap:wrap;\n",
              "      gap: 12px;\n",
              "    }\n",
              "\n",
              "    .colab-df-convert {\n",
              "      background-color: #E8F0FE;\n",
              "      border: none;\n",
              "      border-radius: 50%;\n",
              "      cursor: pointer;\n",
              "      display: none;\n",
              "      fill: #1967D2;\n",
              "      height: 32px;\n",
              "      padding: 0 0 0 0;\n",
              "      width: 32px;\n",
              "    }\n",
              "\n",
              "    .colab-df-convert:hover {\n",
              "      background-color: #E2EBFA;\n",
              "      box-shadow: 0px 1px 2px rgba(60, 64, 67, 0.3), 0px 1px 3px 1px rgba(60, 64, 67, 0.15);\n",
              "      fill: #174EA6;\n",
              "    }\n",
              "\n",
              "    [theme=dark] .colab-df-convert {\n",
              "      background-color: #3B4455;\n",
              "      fill: #D2E3FC;\n",
              "    }\n",
              "\n",
              "    [theme=dark] .colab-df-convert:hover {\n",
              "      background-color: #434B5C;\n",
              "      box-shadow: 0px 1px 3px 1px rgba(0, 0, 0, 0.15);\n",
              "      filter: drop-shadow(0px 1px 2px rgba(0, 0, 0, 0.3));\n",
              "      fill: #FFFFFF;\n",
              "    }\n",
              "  </style>\n",
              "\n",
              "      <script>\n",
              "        const buttonEl =\n",
              "          document.querySelector('#df-eb25278a-15cb-422e-a0ec-76788d63957e button.colab-df-convert');\n",
              "        buttonEl.style.display =\n",
              "          google.colab.kernel.accessAllowed ? 'block' : 'none';\n",
              "\n",
              "        async function convertToInteractive(key) {\n",
              "          const element = document.querySelector('#df-eb25278a-15cb-422e-a0ec-76788d63957e');\n",
              "          const dataTable =\n",
              "            await google.colab.kernel.invokeFunction('convertToInteractive',\n",
              "                                                     [key], {});\n",
              "          if (!dataTable) return;\n",
              "\n",
              "          const docLinkHtml = 'Like what you see? Visit the ' +\n",
              "            '<a target=\"_blank\" href=https://colab.research.google.com/notebooks/data_table.ipynb>data table notebook</a>'\n",
              "            + ' to learn more about interactive tables.';\n",
              "          element.innerHTML = '';\n",
              "          dataTable['output_type'] = 'display_data';\n",
              "          await google.colab.output.renderOutput(dataTable, element);\n",
              "          const docLink = document.createElement('div');\n",
              "          docLink.innerHTML = docLinkHtml;\n",
              "          element.appendChild(docLink);\n",
              "        }\n",
              "      </script>\n",
              "    </div>\n",
              "  </div>\n",
              "  "
            ]
          },
          "metadata": {}
        }
      ]
    },
    {
      "cell_type": "code",
      "source": [
        "similarity_value5 = similarity_new(Daniel_DayLewis_data, Leszek_Zukowski_data, True)\n",
        "print(\"Wartość similarity dla \", Daniel_DayLewis_data[3], \" i \", Leszek_Zukowski_data[3], \" wynosi: \", similarity_value5)"
      ],
      "metadata": {
        "id": "5FDAtHpI1tyH",
        "outputId": "5f57a0ea-a382-4e98-ab95-986a8ebbb4a8",
        "colab": {
          "base_uri": "https://localhost:8080/"
        }
      },
      "execution_count": null,
      "outputs": [
        {
          "output_type": "stream",
          "name": "stdout",
          "text": [
            "Wartość similarity dla  Daniel Day-Lewis  i  Leszek Zukowski  wynosi:  -0.09566401253918488\n"
          ]
        }
      ]
    },
    {
      "cell_type": "markdown",
      "source": [
        "Wyszło nam pierwszy raz ujemne podobieństwo."
      ],
      "metadata": {
        "id": "tgwYdkP32A_J"
      }
    },
    {
      "cell_type": "code",
      "source": [
        "file_object = open(SIMILARITY_VALUES, 'a')\n",
        "text = \"{}, {}, similarity value: {}\\n\".format(Daniel_DayLewis_data[3], Leszek_Zukowski_data[3], similarity_value5)\n",
        "file_object.write(text)\n",
        "file_object.close()"
      ],
      "metadata": {
        "id": "HTzULwwv2i-U"
      },
      "execution_count": null,
      "outputs": []
    },
    {
      "cell_type": "markdown",
      "source": [
        "#Podobieństwa w aktorów grających Jamesa Bonda"
      ],
      "metadata": {
        "id": "FNKIJBL292Yx"
      }
    },
    {
      "cell_type": "code",
      "source": [
        "JamesBond1 = \"nm0000125\" #Sean Connery"
      ],
      "metadata": {
        "id": "xViqKe399D9f"
      },
      "execution_count": null,
      "outputs": []
    },
    {
      "cell_type": "code",
      "source": [
        "JamesBond1_data = find_actor_two_datasets(train_data, validate_data, JamesBond1)"
      ],
      "metadata": {
        "id": "-eVvhxNv68RX",
        "outputId": "25a698f5-0b60-4da1-eb55-b8ed546340d4",
        "colab": {
          "base_uri": "https://localhost:8080/",
          "height": 426
        }
      },
      "execution_count": null,
      "outputs": [
        {
          "output_type": "display_data",
          "data": {
            "text/plain": [
              "                                                                       972939\n",
              "nconst                                                              nm0000125\n",
              "tconst                      [tt0086006, tt0063592, tt0066767, tt0066995, t...\n",
              "category                                                                actor\n",
              "primaryName                                                      Sean Connery\n",
              "knownForTitles                   [tt0117500, tt0059800, tt0055928, tt0094226]\n",
              "no_nominations_oscars_norm                                              0.023\n",
              "no_nominations_globes_norm                                              0.174\n",
              "no_nominations_emmy_norm                                                  0.5\n",
              "no_films_norm                                                           0.008\n",
              "average_films_rating_norm                                               0.665\n",
              "genres_code                 [1, 1, 1, 1, 1, 1, 1, 0, 1, 1, 1, 0, 1, 1, 0, ...\n",
              "types_code                                  [1, 0, 1, 1, 1, 1, 0, 1, 0, 1, 0]"
            ],
            "text/html": [
              "\n",
              "  <div id=\"df-f25dcbc9-0a51-49a4-8417-dbc248c26701\">\n",
              "    <div class=\"colab-df-container\">\n",
              "      <div>\n",
              "<style scoped>\n",
              "    .dataframe tbody tr th:only-of-type {\n",
              "        vertical-align: middle;\n",
              "    }\n",
              "\n",
              "    .dataframe tbody tr th {\n",
              "        vertical-align: top;\n",
              "    }\n",
              "\n",
              "    .dataframe thead th {\n",
              "        text-align: right;\n",
              "    }\n",
              "</style>\n",
              "<table border=\"1\" class=\"dataframe\">\n",
              "  <thead>\n",
              "    <tr style=\"text-align: right;\">\n",
              "      <th></th>\n",
              "      <th>972939</th>\n",
              "    </tr>\n",
              "  </thead>\n",
              "  <tbody>\n",
              "    <tr>\n",
              "      <th>nconst</th>\n",
              "      <td>nm0000125</td>\n",
              "    </tr>\n",
              "    <tr>\n",
              "      <th>tconst</th>\n",
              "      <td>[tt0086006, tt0063592, tt0066767, tt0066995, t...</td>\n",
              "    </tr>\n",
              "    <tr>\n",
              "      <th>category</th>\n",
              "      <td>actor</td>\n",
              "    </tr>\n",
              "    <tr>\n",
              "      <th>primaryName</th>\n",
              "      <td>Sean Connery</td>\n",
              "    </tr>\n",
              "    <tr>\n",
              "      <th>knownForTitles</th>\n",
              "      <td>[tt0117500, tt0059800, tt0055928, tt0094226]</td>\n",
              "    </tr>\n",
              "    <tr>\n",
              "      <th>no_nominations_oscars_norm</th>\n",
              "      <td>0.023</td>\n",
              "    </tr>\n",
              "    <tr>\n",
              "      <th>no_nominations_globes_norm</th>\n",
              "      <td>0.174</td>\n",
              "    </tr>\n",
              "    <tr>\n",
              "      <th>no_nominations_emmy_norm</th>\n",
              "      <td>0.5</td>\n",
              "    </tr>\n",
              "    <tr>\n",
              "      <th>no_films_norm</th>\n",
              "      <td>0.008</td>\n",
              "    </tr>\n",
              "    <tr>\n",
              "      <th>average_films_rating_norm</th>\n",
              "      <td>0.665</td>\n",
              "    </tr>\n",
              "    <tr>\n",
              "      <th>genres_code</th>\n",
              "      <td>[1, 1, 1, 1, 1, 1, 1, 0, 1, 1, 1, 0, 1, 1, 0, ...</td>\n",
              "    </tr>\n",
              "    <tr>\n",
              "      <th>types_code</th>\n",
              "      <td>[1, 0, 1, 1, 1, 1, 0, 1, 0, 1, 0]</td>\n",
              "    </tr>\n",
              "  </tbody>\n",
              "</table>\n",
              "</div>\n",
              "      <button class=\"colab-df-convert\" onclick=\"convertToInteractive('df-f25dcbc9-0a51-49a4-8417-dbc248c26701')\"\n",
              "              title=\"Convert this dataframe to an interactive table.\"\n",
              "              style=\"display:none;\">\n",
              "        \n",
              "  <svg xmlns=\"http://www.w3.org/2000/svg\" height=\"24px\"viewBox=\"0 0 24 24\"\n",
              "       width=\"24px\">\n",
              "    <path d=\"M0 0h24v24H0V0z\" fill=\"none\"/>\n",
              "    <path d=\"M18.56 5.44l.94 2.06.94-2.06 2.06-.94-2.06-.94-.94-2.06-.94 2.06-2.06.94zm-11 1L8.5 8.5l.94-2.06 2.06-.94-2.06-.94L8.5 2.5l-.94 2.06-2.06.94zm10 10l.94 2.06.94-2.06 2.06-.94-2.06-.94-.94-2.06-.94 2.06-2.06.94z\"/><path d=\"M17.41 7.96l-1.37-1.37c-.4-.4-.92-.59-1.43-.59-.52 0-1.04.2-1.43.59L10.3 9.45l-7.72 7.72c-.78.78-.78 2.05 0 2.83L4 21.41c.39.39.9.59 1.41.59.51 0 1.02-.2 1.41-.59l7.78-7.78 2.81-2.81c.8-.78.8-2.07 0-2.86zM5.41 20L4 18.59l7.72-7.72 1.47 1.35L5.41 20z\"/>\n",
              "  </svg>\n",
              "      </button>\n",
              "      \n",
              "  <style>\n",
              "    .colab-df-container {\n",
              "      display:flex;\n",
              "      flex-wrap:wrap;\n",
              "      gap: 12px;\n",
              "    }\n",
              "\n",
              "    .colab-df-convert {\n",
              "      background-color: #E8F0FE;\n",
              "      border: none;\n",
              "      border-radius: 50%;\n",
              "      cursor: pointer;\n",
              "      display: none;\n",
              "      fill: #1967D2;\n",
              "      height: 32px;\n",
              "      padding: 0 0 0 0;\n",
              "      width: 32px;\n",
              "    }\n",
              "\n",
              "    .colab-df-convert:hover {\n",
              "      background-color: #E2EBFA;\n",
              "      box-shadow: 0px 1px 2px rgba(60, 64, 67, 0.3), 0px 1px 3px 1px rgba(60, 64, 67, 0.15);\n",
              "      fill: #174EA6;\n",
              "    }\n",
              "\n",
              "    [theme=dark] .colab-df-convert {\n",
              "      background-color: #3B4455;\n",
              "      fill: #D2E3FC;\n",
              "    }\n",
              "\n",
              "    [theme=dark] .colab-df-convert:hover {\n",
              "      background-color: #434B5C;\n",
              "      box-shadow: 0px 1px 3px 1px rgba(0, 0, 0, 0.15);\n",
              "      filter: drop-shadow(0px 1px 2px rgba(0, 0, 0, 0.3));\n",
              "      fill: #FFFFFF;\n",
              "    }\n",
              "  </style>\n",
              "\n",
              "      <script>\n",
              "        const buttonEl =\n",
              "          document.querySelector('#df-f25dcbc9-0a51-49a4-8417-dbc248c26701 button.colab-df-convert');\n",
              "        buttonEl.style.display =\n",
              "          google.colab.kernel.accessAllowed ? 'block' : 'none';\n",
              "\n",
              "        async function convertToInteractive(key) {\n",
              "          const element = document.querySelector('#df-f25dcbc9-0a51-49a4-8417-dbc248c26701');\n",
              "          const dataTable =\n",
              "            await google.colab.kernel.invokeFunction('convertToInteractive',\n",
              "                                                     [key], {});\n",
              "          if (!dataTable) return;\n",
              "\n",
              "          const docLinkHtml = 'Like what you see? Visit the ' +\n",
              "            '<a target=\"_blank\" href=https://colab.research.google.com/notebooks/data_table.ipynb>data table notebook</a>'\n",
              "            + ' to learn more about interactive tables.';\n",
              "          element.innerHTML = '';\n",
              "          dataTable['output_type'] = 'display_data';\n",
              "          await google.colab.output.renderOutput(dataTable, element);\n",
              "          const docLink = document.createElement('div');\n",
              "          docLink.innerHTML = docLinkHtml;\n",
              "          element.appendChild(docLink);\n",
              "        }\n",
              "      </script>\n",
              "    </div>\n",
              "  </div>\n",
              "  "
            ]
          },
          "metadata": {}
        }
      ]
    },
    {
      "cell_type": "code",
      "source": [
        "if JamesBond1 in list(train_data['nconst']):\n",
        "    ids, values = similarity_one_vs_all_new(train_data, JamesBond1_data, True)\n",
        "    ids, values = select_top_similiar(ids, values, 3)\n",
        "    names = replace_ids_with_names(train_data, ids, 3)\n",
        "elif JamesBond1 in list(validate_data['nconst']):\n",
        "    ids, values = similarity_one_vs_all_new(validate_data, JamesBond1_data, True)\n",
        "    ids, values = select_top_similiar(ids, values, 3)\n",
        "    names = replace_ids_with_names(validate_data, ids, 3)\n",
        "ranking = print_top_similiar(JamesBond1_data[3], names, values)"
      ],
      "metadata": {
        "id": "-xV6CRKVBmVC",
        "outputId": "d0cc42d0-1e06-42fd-8803-863f1f9f4f30",
        "colab": {
          "base_uri": "https://localhost:8080/"
        }
      },
      "execution_count": null,
      "outputs": [
        {
          "output_type": "stream",
          "name": "stdout",
          "text": [
            "Najbardziej podobnymi do Sean Connery aktorami/aktorkami są w kolejności:\n",
            "  - Bob Hope z similarity równym: 0.286\n",
            "  - Jeff Bridges z similarity równym: 0.272\n",
            "  - Bing Crosby z similarity równym: 0.259\n"
          ]
        }
      ]
    },
    {
      "cell_type": "code",
      "source": [
        "file_object = open(RANKINGS, 'a')\n",
        "text = \"Najbardziej podobni do {}:\\n- {}, similarity: {}\\n- {}, similarity: {}\\n- {}, similarity: {}\\n\".format(JamesBond1[3], names[0], values[0], names[1], values[1], names[2], values[2])\n",
        "file_object.write(text)\n",
        "file_object.close()"
      ],
      "metadata": {
        "id": "7cqgViDcDjp7"
      },
      "execution_count": null,
      "outputs": []
    },
    {
      "cell_type": "code",
      "source": [
        "JamesBond2 = \"nm0493872\" #George Lazebny"
      ],
      "metadata": {
        "id": "sjLguh2b-8hG"
      },
      "execution_count": null,
      "outputs": []
    },
    {
      "cell_type": "code",
      "source": [
        "JamesBond2_data = find_actor_two_datasets(train_data, validate_data, JamesBond2)"
      ],
      "metadata": {
        "id": "FWYVzGPT_M7t",
        "outputId": "419259b9-7e63-4512-a25e-e401ae217e2e",
        "colab": {
          "base_uri": "https://localhost:8080/",
          "height": 426
        }
      },
      "execution_count": null,
      "outputs": [
        {
          "output_type": "display_data",
          "data": {
            "text/plain": [
              "                                                                        10576\n",
              "nconst                                                              nm0493872\n",
              "tconst                      [tt12471922, tt9222588, tt0076257, tt0104184, ...\n",
              "category                                                                actor\n",
              "primaryName                                                    George Lazenby\n",
              "knownForTitles                   [tt0107007, tt0064757, tt0308937, tt0073343]\n",
              "no_nominations_oscars_norm                                                0.0\n",
              "no_nominations_globes_norm                                              0.043\n",
              "no_nominations_emmy_norm                                                  0.5\n",
              "no_films_norm                                                           0.004\n",
              "average_films_rating_norm                                               0.597\n",
              "genres_code                 [1, 1, 1, 1, 1, 1, 0, 0, 1, 1, 0, 0, 0, 1, 0, ...\n",
              "types_code                                  [0, 0, 1, 1, 1, 0, 0, 1, 0, 0, 0]"
            ],
            "text/html": [
              "\n",
              "  <div id=\"df-f6c5c4c4-6e69-4fb0-93a9-2aacdc08dbf1\">\n",
              "    <div class=\"colab-df-container\">\n",
              "      <div>\n",
              "<style scoped>\n",
              "    .dataframe tbody tr th:only-of-type {\n",
              "        vertical-align: middle;\n",
              "    }\n",
              "\n",
              "    .dataframe tbody tr th {\n",
              "        vertical-align: top;\n",
              "    }\n",
              "\n",
              "    .dataframe thead th {\n",
              "        text-align: right;\n",
              "    }\n",
              "</style>\n",
              "<table border=\"1\" class=\"dataframe\">\n",
              "  <thead>\n",
              "    <tr style=\"text-align: right;\">\n",
              "      <th></th>\n",
              "      <th>10576</th>\n",
              "    </tr>\n",
              "  </thead>\n",
              "  <tbody>\n",
              "    <tr>\n",
              "      <th>nconst</th>\n",
              "      <td>nm0493872</td>\n",
              "    </tr>\n",
              "    <tr>\n",
              "      <th>tconst</th>\n",
              "      <td>[tt12471922, tt9222588, tt0076257, tt0104184, ...</td>\n",
              "    </tr>\n",
              "    <tr>\n",
              "      <th>category</th>\n",
              "      <td>actor</td>\n",
              "    </tr>\n",
              "    <tr>\n",
              "      <th>primaryName</th>\n",
              "      <td>George Lazenby</td>\n",
              "    </tr>\n",
              "    <tr>\n",
              "      <th>knownForTitles</th>\n",
              "      <td>[tt0107007, tt0064757, tt0308937, tt0073343]</td>\n",
              "    </tr>\n",
              "    <tr>\n",
              "      <th>no_nominations_oscars_norm</th>\n",
              "      <td>0.0</td>\n",
              "    </tr>\n",
              "    <tr>\n",
              "      <th>no_nominations_globes_norm</th>\n",
              "      <td>0.043</td>\n",
              "    </tr>\n",
              "    <tr>\n",
              "      <th>no_nominations_emmy_norm</th>\n",
              "      <td>0.5</td>\n",
              "    </tr>\n",
              "    <tr>\n",
              "      <th>no_films_norm</th>\n",
              "      <td>0.004</td>\n",
              "    </tr>\n",
              "    <tr>\n",
              "      <th>average_films_rating_norm</th>\n",
              "      <td>0.597</td>\n",
              "    </tr>\n",
              "    <tr>\n",
              "      <th>genres_code</th>\n",
              "      <td>[1, 1, 1, 1, 1, 1, 0, 0, 1, 1, 0, 0, 0, 1, 0, ...</td>\n",
              "    </tr>\n",
              "    <tr>\n",
              "      <th>types_code</th>\n",
              "      <td>[0, 0, 1, 1, 1, 0, 0, 1, 0, 0, 0]</td>\n",
              "    </tr>\n",
              "  </tbody>\n",
              "</table>\n",
              "</div>\n",
              "      <button class=\"colab-df-convert\" onclick=\"convertToInteractive('df-f6c5c4c4-6e69-4fb0-93a9-2aacdc08dbf1')\"\n",
              "              title=\"Convert this dataframe to an interactive table.\"\n",
              "              style=\"display:none;\">\n",
              "        \n",
              "  <svg xmlns=\"http://www.w3.org/2000/svg\" height=\"24px\"viewBox=\"0 0 24 24\"\n",
              "       width=\"24px\">\n",
              "    <path d=\"M0 0h24v24H0V0z\" fill=\"none\"/>\n",
              "    <path d=\"M18.56 5.44l.94 2.06.94-2.06 2.06-.94-2.06-.94-.94-2.06-.94 2.06-2.06.94zm-11 1L8.5 8.5l.94-2.06 2.06-.94-2.06-.94L8.5 2.5l-.94 2.06-2.06.94zm10 10l.94 2.06.94-2.06 2.06-.94-2.06-.94-.94-2.06-.94 2.06-2.06.94z\"/><path d=\"M17.41 7.96l-1.37-1.37c-.4-.4-.92-.59-1.43-.59-.52 0-1.04.2-1.43.59L10.3 9.45l-7.72 7.72c-.78.78-.78 2.05 0 2.83L4 21.41c.39.39.9.59 1.41.59.51 0 1.02-.2 1.41-.59l7.78-7.78 2.81-2.81c.8-.78.8-2.07 0-2.86zM5.41 20L4 18.59l7.72-7.72 1.47 1.35L5.41 20z\"/>\n",
              "  </svg>\n",
              "      </button>\n",
              "      \n",
              "  <style>\n",
              "    .colab-df-container {\n",
              "      display:flex;\n",
              "      flex-wrap:wrap;\n",
              "      gap: 12px;\n",
              "    }\n",
              "\n",
              "    .colab-df-convert {\n",
              "      background-color: #E8F0FE;\n",
              "      border: none;\n",
              "      border-radius: 50%;\n",
              "      cursor: pointer;\n",
              "      display: none;\n",
              "      fill: #1967D2;\n",
              "      height: 32px;\n",
              "      padding: 0 0 0 0;\n",
              "      width: 32px;\n",
              "    }\n",
              "\n",
              "    .colab-df-convert:hover {\n",
              "      background-color: #E2EBFA;\n",
              "      box-shadow: 0px 1px 2px rgba(60, 64, 67, 0.3), 0px 1px 3px 1px rgba(60, 64, 67, 0.15);\n",
              "      fill: #174EA6;\n",
              "    }\n",
              "\n",
              "    [theme=dark] .colab-df-convert {\n",
              "      background-color: #3B4455;\n",
              "      fill: #D2E3FC;\n",
              "    }\n",
              "\n",
              "    [theme=dark] .colab-df-convert:hover {\n",
              "      background-color: #434B5C;\n",
              "      box-shadow: 0px 1px 3px 1px rgba(0, 0, 0, 0.15);\n",
              "      filter: drop-shadow(0px 1px 2px rgba(0, 0, 0, 0.3));\n",
              "      fill: #FFFFFF;\n",
              "    }\n",
              "  </style>\n",
              "\n",
              "      <script>\n",
              "        const buttonEl =\n",
              "          document.querySelector('#df-f6c5c4c4-6e69-4fb0-93a9-2aacdc08dbf1 button.colab-df-convert');\n",
              "        buttonEl.style.display =\n",
              "          google.colab.kernel.accessAllowed ? 'block' : 'none';\n",
              "\n",
              "        async function convertToInteractive(key) {\n",
              "          const element = document.querySelector('#df-f6c5c4c4-6e69-4fb0-93a9-2aacdc08dbf1');\n",
              "          const dataTable =\n",
              "            await google.colab.kernel.invokeFunction('convertToInteractive',\n",
              "                                                     [key], {});\n",
              "          if (!dataTable) return;\n",
              "\n",
              "          const docLinkHtml = 'Like what you see? Visit the ' +\n",
              "            '<a target=\"_blank\" href=https://colab.research.google.com/notebooks/data_table.ipynb>data table notebook</a>'\n",
              "            + ' to learn more about interactive tables.';\n",
              "          element.innerHTML = '';\n",
              "          dataTable['output_type'] = 'display_data';\n",
              "          await google.colab.output.renderOutput(dataTable, element);\n",
              "          const docLink = document.createElement('div');\n",
              "          docLink.innerHTML = docLinkHtml;\n",
              "          element.appendChild(docLink);\n",
              "        }\n",
              "      </script>\n",
              "    </div>\n",
              "  </div>\n",
              "  "
            ]
          },
          "metadata": {}
        }
      ]
    },
    {
      "cell_type": "code",
      "source": [
        "if JamesBond2 in list(train_data['nconst']):\n",
        "    ids, values = similarity_one_vs_all_new(train_data, JamesBond2_data, True)\n",
        "    ids, values = select_top_similiar(ids, values, 3)\n",
        "    names = replace_ids_with_names(train_data, ids, 3)\n",
        "elif JamesBond2 in list(validate_data['nconst']):\n",
        "    ids, values = similarity_one_vs_all_new(validate_data, JamesBond2_data, True)\n",
        "    ids, values = select_top_similiar(ids, values, 3)\n",
        "    names = replace_ids_with_names(validate_data, ids, 3)\n",
        "ranking = print_top_similiar(JamesBond2_data[3], names, values)"
      ],
      "metadata": {
        "id": "GAPUx_oqCA0S",
        "outputId": "e1dd049e-5a85-4111-ad89-f456eb2d0d72",
        "colab": {
          "base_uri": "https://localhost:8080/"
        }
      },
      "execution_count": null,
      "outputs": [
        {
          "output_type": "stream",
          "name": "stdout",
          "text": [
            "Najbardziej podobnymi do George Lazenby aktorami/aktorkami są w kolejności:\n",
            "  - Royce D. Applegate z similarity równym: 0.275\n",
            "  - Seth Adkins z similarity równym: 0.252\n",
            "  - Toralv Maurstad z similarity równym: 0.252\n"
          ]
        }
      ]
    },
    {
      "cell_type": "code",
      "source": [
        "file_object = open(RANKINGS, 'a')\n",
        "text = \"Najbardziej podobni do {}:\\n- {}, similarity: {}\\n- {}, similarity: {}\\n- {}, similarity: {}\\n\".format(JamesBond2[3], names[0], values[0], names[1], values[1], names[2], values[2])\n",
        "file_object.write(text)\n",
        "file_object.close()"
      ],
      "metadata": {
        "id": "s4M9t9jmKsw6"
      },
      "execution_count": null,
      "outputs": []
    },
    {
      "cell_type": "code",
      "source": [
        "similarity_value = similarity_new(JamesBond2_data, JamesBond1_data, True)\n",
        "print(\"Wartość similarity dla \", JamesBond2_data[3], \" i \", JamesBond1_data[3], \" wynosi: \", similarity_value)\n",
        "    "
      ],
      "metadata": {
        "id": "892k0bLd-Jqo",
        "outputId": "9ada6f5b-11c4-4d31-8861-002771f8e15e",
        "colab": {
          "base_uri": "https://localhost:8080/"
        }
      },
      "execution_count": null,
      "outputs": [
        {
          "output_type": "stream",
          "name": "stdout",
          "text": [
            "Wartość similarity dla  George Lazenby  i  Sean Connery  wynosi:  0.09581905956112857\n"
          ]
        }
      ]
    },
    {
      "cell_type": "code",
      "source": [
        "file_object = open(SIMILARITY_VALUES, 'a')\n",
        "text = \"{}, {}, similarity value: {}\\n\".format(JamesBond2_data[3], JamesBond1_data[3], similarity_value)\n",
        "file_object.write(text)\n",
        "file_object.close()\n",
        "     \n"
      ],
      "metadata": {
        "id": "fdHiC5mC-7V5"
      },
      "execution_count": null,
      "outputs": []
    },
    {
      "cell_type": "code",
      "source": [
        "JamesBond3 = \"nm0000549\" #Roger Moore"
      ],
      "metadata": {
        "id": "-9JmlDo4_9Xs"
      },
      "execution_count": null,
      "outputs": []
    },
    {
      "cell_type": "code",
      "source": [
        "JamesBond3_data = find_actor_two_datasets(train_data, validate_data, JamesBond3)"
      ],
      "metadata": {
        "id": "YeLkeNyLAZIP",
        "outputId": "47bc728d-4e4a-4a68-ff62-fdf2db3a9f3e",
        "colab": {
          "base_uri": "https://localhost:8080/",
          "height": 426
        }
      },
      "execution_count": null,
      "outputs": [
        {
          "output_type": "display_data",
          "data": {
            "text/plain": [
              "                                                                       744755\n",
              "nconst                                                              nm0000549\n",
              "tconst                      [tt0051286, tt0066521, tt0070328, tt0438032, t...\n",
              "category                                                                actor\n",
              "primaryName                                                       Roger Moore\n",
              "knownForTitles                   [tt0079574, tt0070328, tt0082398, tt0076752]\n",
              "no_nominations_oscars_norm                                                0.0\n",
              "no_nominations_globes_norm                                              0.043\n",
              "no_nominations_emmy_norm                                                  0.5\n",
              "no_films_norm                                                            0.03\n",
              "average_films_rating_norm                                               0.709\n",
              "genres_code                 [1, 1, 1, 1, 1, 1, 1, 1, 1, 1, 0, 0, 1, 1, 0, ...\n",
              "types_code                                  [1, 0, 1, 1, 1, 1, 1, 1, 0, 1, 0]"
            ],
            "text/html": [
              "\n",
              "  <div id=\"df-a5c41017-0edf-4903-866a-ec563e8d506c\">\n",
              "    <div class=\"colab-df-container\">\n",
              "      <div>\n",
              "<style scoped>\n",
              "    .dataframe tbody tr th:only-of-type {\n",
              "        vertical-align: middle;\n",
              "    }\n",
              "\n",
              "    .dataframe tbody tr th {\n",
              "        vertical-align: top;\n",
              "    }\n",
              "\n",
              "    .dataframe thead th {\n",
              "        text-align: right;\n",
              "    }\n",
              "</style>\n",
              "<table border=\"1\" class=\"dataframe\">\n",
              "  <thead>\n",
              "    <tr style=\"text-align: right;\">\n",
              "      <th></th>\n",
              "      <th>744755</th>\n",
              "    </tr>\n",
              "  </thead>\n",
              "  <tbody>\n",
              "    <tr>\n",
              "      <th>nconst</th>\n",
              "      <td>nm0000549</td>\n",
              "    </tr>\n",
              "    <tr>\n",
              "      <th>tconst</th>\n",
              "      <td>[tt0051286, tt0066521, tt0070328, tt0438032, t...</td>\n",
              "    </tr>\n",
              "    <tr>\n",
              "      <th>category</th>\n",
              "      <td>actor</td>\n",
              "    </tr>\n",
              "    <tr>\n",
              "      <th>primaryName</th>\n",
              "      <td>Roger Moore</td>\n",
              "    </tr>\n",
              "    <tr>\n",
              "      <th>knownForTitles</th>\n",
              "      <td>[tt0079574, tt0070328, tt0082398, tt0076752]</td>\n",
              "    </tr>\n",
              "    <tr>\n",
              "      <th>no_nominations_oscars_norm</th>\n",
              "      <td>0.0</td>\n",
              "    </tr>\n",
              "    <tr>\n",
              "      <th>no_nominations_globes_norm</th>\n",
              "      <td>0.043</td>\n",
              "    </tr>\n",
              "    <tr>\n",
              "      <th>no_nominations_emmy_norm</th>\n",
              "      <td>0.5</td>\n",
              "    </tr>\n",
              "    <tr>\n",
              "      <th>no_films_norm</th>\n",
              "      <td>0.03</td>\n",
              "    </tr>\n",
              "    <tr>\n",
              "      <th>average_films_rating_norm</th>\n",
              "      <td>0.709</td>\n",
              "    </tr>\n",
              "    <tr>\n",
              "      <th>genres_code</th>\n",
              "      <td>[1, 1, 1, 1, 1, 1, 1, 1, 1, 1, 0, 0, 1, 1, 0, ...</td>\n",
              "    </tr>\n",
              "    <tr>\n",
              "      <th>types_code</th>\n",
              "      <td>[1, 0, 1, 1, 1, 1, 1, 1, 0, 1, 0]</td>\n",
              "    </tr>\n",
              "  </tbody>\n",
              "</table>\n",
              "</div>\n",
              "      <button class=\"colab-df-convert\" onclick=\"convertToInteractive('df-a5c41017-0edf-4903-866a-ec563e8d506c')\"\n",
              "              title=\"Convert this dataframe to an interactive table.\"\n",
              "              style=\"display:none;\">\n",
              "        \n",
              "  <svg xmlns=\"http://www.w3.org/2000/svg\" height=\"24px\"viewBox=\"0 0 24 24\"\n",
              "       width=\"24px\">\n",
              "    <path d=\"M0 0h24v24H0V0z\" fill=\"none\"/>\n",
              "    <path d=\"M18.56 5.44l.94 2.06.94-2.06 2.06-.94-2.06-.94-.94-2.06-.94 2.06-2.06.94zm-11 1L8.5 8.5l.94-2.06 2.06-.94-2.06-.94L8.5 2.5l-.94 2.06-2.06.94zm10 10l.94 2.06.94-2.06 2.06-.94-2.06-.94-.94-2.06-.94 2.06-2.06.94z\"/><path d=\"M17.41 7.96l-1.37-1.37c-.4-.4-.92-.59-1.43-.59-.52 0-1.04.2-1.43.59L10.3 9.45l-7.72 7.72c-.78.78-.78 2.05 0 2.83L4 21.41c.39.39.9.59 1.41.59.51 0 1.02-.2 1.41-.59l7.78-7.78 2.81-2.81c.8-.78.8-2.07 0-2.86zM5.41 20L4 18.59l7.72-7.72 1.47 1.35L5.41 20z\"/>\n",
              "  </svg>\n",
              "      </button>\n",
              "      \n",
              "  <style>\n",
              "    .colab-df-container {\n",
              "      display:flex;\n",
              "      flex-wrap:wrap;\n",
              "      gap: 12px;\n",
              "    }\n",
              "\n",
              "    .colab-df-convert {\n",
              "      background-color: #E8F0FE;\n",
              "      border: none;\n",
              "      border-radius: 50%;\n",
              "      cursor: pointer;\n",
              "      display: none;\n",
              "      fill: #1967D2;\n",
              "      height: 32px;\n",
              "      padding: 0 0 0 0;\n",
              "      width: 32px;\n",
              "    }\n",
              "\n",
              "    .colab-df-convert:hover {\n",
              "      background-color: #E2EBFA;\n",
              "      box-shadow: 0px 1px 2px rgba(60, 64, 67, 0.3), 0px 1px 3px 1px rgba(60, 64, 67, 0.15);\n",
              "      fill: #174EA6;\n",
              "    }\n",
              "\n",
              "    [theme=dark] .colab-df-convert {\n",
              "      background-color: #3B4455;\n",
              "      fill: #D2E3FC;\n",
              "    }\n",
              "\n",
              "    [theme=dark] .colab-df-convert:hover {\n",
              "      background-color: #434B5C;\n",
              "      box-shadow: 0px 1px 3px 1px rgba(0, 0, 0, 0.15);\n",
              "      filter: drop-shadow(0px 1px 2px rgba(0, 0, 0, 0.3));\n",
              "      fill: #FFFFFF;\n",
              "    }\n",
              "  </style>\n",
              "\n",
              "      <script>\n",
              "        const buttonEl =\n",
              "          document.querySelector('#df-a5c41017-0edf-4903-866a-ec563e8d506c button.colab-df-convert');\n",
              "        buttonEl.style.display =\n",
              "          google.colab.kernel.accessAllowed ? 'block' : 'none';\n",
              "\n",
              "        async function convertToInteractive(key) {\n",
              "          const element = document.querySelector('#df-a5c41017-0edf-4903-866a-ec563e8d506c');\n",
              "          const dataTable =\n",
              "            await google.colab.kernel.invokeFunction('convertToInteractive',\n",
              "                                                     [key], {});\n",
              "          if (!dataTable) return;\n",
              "\n",
              "          const docLinkHtml = 'Like what you see? Visit the ' +\n",
              "            '<a target=\"_blank\" href=https://colab.research.google.com/notebooks/data_table.ipynb>data table notebook</a>'\n",
              "            + ' to learn more about interactive tables.';\n",
              "          element.innerHTML = '';\n",
              "          dataTable['output_type'] = 'display_data';\n",
              "          await google.colab.output.renderOutput(dataTable, element);\n",
              "          const docLink = document.createElement('div');\n",
              "          docLink.innerHTML = docLinkHtml;\n",
              "          element.appendChild(docLink);\n",
              "        }\n",
              "      </script>\n",
              "    </div>\n",
              "  </div>\n",
              "  "
            ]
          },
          "metadata": {}
        }
      ]
    },
    {
      "cell_type": "code",
      "source": [
        "if JamesBond3 in list(train_data['nconst']):\n",
        "    ids, values = similarity_one_vs_all_new(train_data, JamesBond3_data, True)\n",
        "    ids, values = select_top_similiar(ids, values, 3)\n",
        "    names = replace_ids_with_names(train_data, ids, 3)\n",
        "elif JamesBond3 in list(validate_data['nconst']):\n",
        "    ids, values = similarity_one_vs_all_new(validate_data, JamesBond3_data, True)\n",
        "    ids, values = select_top_similiar(ids, values, 3)\n",
        "    names = replace_ids_with_names(validate_data, ids, 3)\n",
        "ranking = print_top_similiar(JamesBond3_data[3], names, values)"
      ],
      "metadata": {
        "id": "lkWjouhNCK7R",
        "outputId": "3628fb00-5e0b-4a3e-a05f-87bdb12f2ae2",
        "colab": {
          "base_uri": "https://localhost:8080/"
        }
      },
      "execution_count": null,
      "outputs": [
        {
          "output_type": "stream",
          "name": "stdout",
          "text": [
            "Najbardziej podobnymi do Roger Moore aktorami/aktorkami są w kolejności:\n",
            "  - Geoffrey Keen z similarity równym: 0.3\n",
            "  - William Shatner z similarity równym: 0.293\n",
            "  - Hulk Hogan z similarity równym: 0.278\n"
          ]
        }
      ]
    },
    {
      "cell_type": "code",
      "source": [
        "file_object = open(RANKINGS, 'a')\n",
        "text = \"Najbardziej podobni do {}:\\n- {}, similarity: {}\\n- {}, similarity: {}\\n- {}, similarity: {}\\n\".format(JamesBond3[3], names[0], values[0], names[1], values[1], names[2], values[2])\n",
        "file_object.write(text)\n",
        "file_object.close()"
      ],
      "metadata": {
        "id": "oCG46QQgLLLT"
      },
      "execution_count": null,
      "outputs": []
    },
    {
      "cell_type": "code",
      "source": [
        "similarity_value = similarity_new(JamesBond3_data, JamesBond1_data, True)\n",
        "print(\"Wartość similarity dla \", JamesBond3_data[3], \" i \", JamesBond1_data[3], \" wynosi: \", similarity_value)"
      ],
      "metadata": {
        "id": "jYOvC8pKAl4S",
        "outputId": "c911820a-e66d-4b78-c49d-f2d9e534cc09",
        "colab": {
          "base_uri": "https://localhost:8080/"
        }
      },
      "execution_count": null,
      "outputs": [
        {
          "output_type": "stream",
          "name": "stdout",
          "text": [
            "Wartość similarity dla  Roger Moore  i  Sean Connery  wynosi:  0.22469830721003126\n"
          ]
        }
      ]
    },
    {
      "cell_type": "code",
      "source": [
        "file_object = open(SIMILARITY_VALUES, 'a')\n",
        "text = \"{}, {}, similarity value: {}\\n\".format(JamesBond3_data[3], JamesBond1_data[3], similarity_value)\n",
        "file_object.write(text)\n",
        "file_object.close()"
      ],
      "metadata": {
        "id": "NuXKBYILA7R6"
      },
      "execution_count": null,
      "outputs": []
    },
    {
      "cell_type": "code",
      "source": [
        "similarity_value = similarity_new(JamesBond3_data, JamesBond2_data, True)\n",
        "print(\"Wartość similarity dla \", JamesBond3_data[3], \" i \", JamesBond2_data[3], \" wynosi: \", similarity_value)"
      ],
      "metadata": {
        "id": "HoWmoe4YAs_6",
        "outputId": "c68d76da-bbf9-4953-91a5-a35c791bdec0",
        "colab": {
          "base_uri": "https://localhost:8080/"
        }
      },
      "execution_count": null,
      "outputs": [
        {
          "output_type": "stream",
          "name": "stdout",
          "text": [
            "Wartość similarity dla  Roger Moore  i  George Lazenby  wynosi:  0.10244564263322875\n"
          ]
        }
      ]
    },
    {
      "cell_type": "code",
      "source": [
        "file_object = open(SIMILARITY_VALUES, 'a')\n",
        "text = \"{}, {}, similarity value: {}\\n\".format(JamesBond3_data[3], JamesBond2_data[3], similarity_value)\n",
        "file_object.write(text)\n",
        "file_object.close()"
      ],
      "metadata": {
        "id": "8VX46wuAA7uL"
      },
      "execution_count": null,
      "outputs": []
    },
    {
      "cell_type": "code",
      "source": [
        "JamesBond4 = \"nm0001096\""
      ],
      "metadata": {
        "id": "HHJEukFyBRpf"
      },
      "execution_count": null,
      "outputs": []
    },
    {
      "cell_type": "code",
      "source": [
        "JamesBond4_data = find_actor_two_datasets(train_data, validate_data, JamesBond4)"
      ],
      "metadata": {
        "id": "-gPCi2sdCv_-",
        "outputId": "5fcf8ef7-5ef2-4927-a3db-0b7e327509d0",
        "colab": {
          "base_uri": "https://localhost:8080/",
          "height": 426
        }
      },
      "execution_count": null,
      "outputs": [
        {
          "output_type": "display_data",
          "data": {
            "text/plain": [
              "                                                                      1587567\n",
              "nconst                                                              nm0001096\n",
              "tconst                      [tt0073530, tt0195165, tt11986814, tt1250466, ...\n",
              "category                                                                actor\n",
              "primaryName                                                    Timothy Dalton\n",
              "knownForTitles                   [tt0097742, tt0425112, tt0080745, tt0093428]\n",
              "no_nominations_oscars_norm                                                0.0\n",
              "no_nominations_globes_norm                                                0.0\n",
              "no_nominations_emmy_norm                                                  0.5\n",
              "no_films_norm                                                            0.01\n",
              "average_films_rating_norm                                               0.744\n",
              "genres_code                 [1, 1, 1, 1, 1, 0, 1, 0, 1, 1, 0, 0, 1, 1, 0, ...\n",
              "types_code                                  [1, 1, 1, 1, 1, 0, 1, 1, 0, 0, 0]"
            ],
            "text/html": [
              "\n",
              "  <div id=\"df-71ca1792-6750-4e73-8632-c71bad60d155\">\n",
              "    <div class=\"colab-df-container\">\n",
              "      <div>\n",
              "<style scoped>\n",
              "    .dataframe tbody tr th:only-of-type {\n",
              "        vertical-align: middle;\n",
              "    }\n",
              "\n",
              "    .dataframe tbody tr th {\n",
              "        vertical-align: top;\n",
              "    }\n",
              "\n",
              "    .dataframe thead th {\n",
              "        text-align: right;\n",
              "    }\n",
              "</style>\n",
              "<table border=\"1\" class=\"dataframe\">\n",
              "  <thead>\n",
              "    <tr style=\"text-align: right;\">\n",
              "      <th></th>\n",
              "      <th>1587567</th>\n",
              "    </tr>\n",
              "  </thead>\n",
              "  <tbody>\n",
              "    <tr>\n",
              "      <th>nconst</th>\n",
              "      <td>nm0001096</td>\n",
              "    </tr>\n",
              "    <tr>\n",
              "      <th>tconst</th>\n",
              "      <td>[tt0073530, tt0195165, tt11986814, tt1250466, ...</td>\n",
              "    </tr>\n",
              "    <tr>\n",
              "      <th>category</th>\n",
              "      <td>actor</td>\n",
              "    </tr>\n",
              "    <tr>\n",
              "      <th>primaryName</th>\n",
              "      <td>Timothy Dalton</td>\n",
              "    </tr>\n",
              "    <tr>\n",
              "      <th>knownForTitles</th>\n",
              "      <td>[tt0097742, tt0425112, tt0080745, tt0093428]</td>\n",
              "    </tr>\n",
              "    <tr>\n",
              "      <th>no_nominations_oscars_norm</th>\n",
              "      <td>0.0</td>\n",
              "    </tr>\n",
              "    <tr>\n",
              "      <th>no_nominations_globes_norm</th>\n",
              "      <td>0.0</td>\n",
              "    </tr>\n",
              "    <tr>\n",
              "      <th>no_nominations_emmy_norm</th>\n",
              "      <td>0.5</td>\n",
              "    </tr>\n",
              "    <tr>\n",
              "      <th>no_films_norm</th>\n",
              "      <td>0.01</td>\n",
              "    </tr>\n",
              "    <tr>\n",
              "      <th>average_films_rating_norm</th>\n",
              "      <td>0.744</td>\n",
              "    </tr>\n",
              "    <tr>\n",
              "      <th>genres_code</th>\n",
              "      <td>[1, 1, 1, 1, 1, 0, 1, 0, 1, 1, 0, 0, 1, 1, 0, ...</td>\n",
              "    </tr>\n",
              "    <tr>\n",
              "      <th>types_code</th>\n",
              "      <td>[1, 1, 1, 1, 1, 0, 1, 1, 0, 0, 0]</td>\n",
              "    </tr>\n",
              "  </tbody>\n",
              "</table>\n",
              "</div>\n",
              "      <button class=\"colab-df-convert\" onclick=\"convertToInteractive('df-71ca1792-6750-4e73-8632-c71bad60d155')\"\n",
              "              title=\"Convert this dataframe to an interactive table.\"\n",
              "              style=\"display:none;\">\n",
              "        \n",
              "  <svg xmlns=\"http://www.w3.org/2000/svg\" height=\"24px\"viewBox=\"0 0 24 24\"\n",
              "       width=\"24px\">\n",
              "    <path d=\"M0 0h24v24H0V0z\" fill=\"none\"/>\n",
              "    <path d=\"M18.56 5.44l.94 2.06.94-2.06 2.06-.94-2.06-.94-.94-2.06-.94 2.06-2.06.94zm-11 1L8.5 8.5l.94-2.06 2.06-.94-2.06-.94L8.5 2.5l-.94 2.06-2.06.94zm10 10l.94 2.06.94-2.06 2.06-.94-2.06-.94-.94-2.06-.94 2.06-2.06.94z\"/><path d=\"M17.41 7.96l-1.37-1.37c-.4-.4-.92-.59-1.43-.59-.52 0-1.04.2-1.43.59L10.3 9.45l-7.72 7.72c-.78.78-.78 2.05 0 2.83L4 21.41c.39.39.9.59 1.41.59.51 0 1.02-.2 1.41-.59l7.78-7.78 2.81-2.81c.8-.78.8-2.07 0-2.86zM5.41 20L4 18.59l7.72-7.72 1.47 1.35L5.41 20z\"/>\n",
              "  </svg>\n",
              "      </button>\n",
              "      \n",
              "  <style>\n",
              "    .colab-df-container {\n",
              "      display:flex;\n",
              "      flex-wrap:wrap;\n",
              "      gap: 12px;\n",
              "    }\n",
              "\n",
              "    .colab-df-convert {\n",
              "      background-color: #E8F0FE;\n",
              "      border: none;\n",
              "      border-radius: 50%;\n",
              "      cursor: pointer;\n",
              "      display: none;\n",
              "      fill: #1967D2;\n",
              "      height: 32px;\n",
              "      padding: 0 0 0 0;\n",
              "      width: 32px;\n",
              "    }\n",
              "\n",
              "    .colab-df-convert:hover {\n",
              "      background-color: #E2EBFA;\n",
              "      box-shadow: 0px 1px 2px rgba(60, 64, 67, 0.3), 0px 1px 3px 1px rgba(60, 64, 67, 0.15);\n",
              "      fill: #174EA6;\n",
              "    }\n",
              "\n",
              "    [theme=dark] .colab-df-convert {\n",
              "      background-color: #3B4455;\n",
              "      fill: #D2E3FC;\n",
              "    }\n",
              "\n",
              "    [theme=dark] .colab-df-convert:hover {\n",
              "      background-color: #434B5C;\n",
              "      box-shadow: 0px 1px 3px 1px rgba(0, 0, 0, 0.15);\n",
              "      filter: drop-shadow(0px 1px 2px rgba(0, 0, 0, 0.3));\n",
              "      fill: #FFFFFF;\n",
              "    }\n",
              "  </style>\n",
              "\n",
              "      <script>\n",
              "        const buttonEl =\n",
              "          document.querySelector('#df-71ca1792-6750-4e73-8632-c71bad60d155 button.colab-df-convert');\n",
              "        buttonEl.style.display =\n",
              "          google.colab.kernel.accessAllowed ? 'block' : 'none';\n",
              "\n",
              "        async function convertToInteractive(key) {\n",
              "          const element = document.querySelector('#df-71ca1792-6750-4e73-8632-c71bad60d155');\n",
              "          const dataTable =\n",
              "            await google.colab.kernel.invokeFunction('convertToInteractive',\n",
              "                                                     [key], {});\n",
              "          if (!dataTable) return;\n",
              "\n",
              "          const docLinkHtml = 'Like what you see? Visit the ' +\n",
              "            '<a target=\"_blank\" href=https://colab.research.google.com/notebooks/data_table.ipynb>data table notebook</a>'\n",
              "            + ' to learn more about interactive tables.';\n",
              "          element.innerHTML = '';\n",
              "          dataTable['output_type'] = 'display_data';\n",
              "          await google.colab.output.renderOutput(dataTable, element);\n",
              "          const docLink = document.createElement('div');\n",
              "          docLink.innerHTML = docLinkHtml;\n",
              "          element.appendChild(docLink);\n",
              "        }\n",
              "      </script>\n",
              "    </div>\n",
              "  </div>\n",
              "  "
            ]
          },
          "metadata": {}
        }
      ]
    },
    {
      "cell_type": "code",
      "source": [
        "if JamesBond4 in list(train_data['nconst']):\n",
        "    ids, values = similarity_one_vs_all_new(train_data, JamesBond4_data, True)\n",
        "    ids, values = select_top_similiar(ids, values, 3)\n",
        "    names = replace_ids_with_names(train_data, ids, 3)\n",
        "elif JamesBond4 in list(validate_data['nconst']):\n",
        "    ids, values = similarity_one_vs_all_new(validate_data, JamesBond4_data, True)\n",
        "    ids, values = select_top_similiar(ids, values, 3)\n",
        "    names = replace_ids_with_names(validate_data, ids, 3)\n",
        "ranking = print_top_similiar(JamesBond4_data[3], names, values)"
      ],
      "metadata": {
        "id": "HPNrYVMwLeHA",
        "outputId": "9b192441-2fa6-4054-e0f1-9334643757b9",
        "colab": {
          "base_uri": "https://localhost:8080/"
        }
      },
      "execution_count": null,
      "outputs": [
        {
          "output_type": "stream",
          "name": "stdout",
          "text": [
            "Najbardziej podobnymi do Timothy Dalton aktorami/aktorkami są w kolejności:\n",
            "  - Christopher Neame z similarity równym: 0.332\n",
            "  - Nadim Sawalha z similarity równym: 0.328\n",
            "  - Rory Kinnear z similarity równym: 0.319\n"
          ]
        }
      ]
    },
    {
      "cell_type": "code",
      "source": [
        "file_object = open(RANKINGS, 'a')\n",
        "text = \"Najbardziej podobni do {}:\\n- {}, similarity: {}\\n- {}, similarity: {}\\n- {}, similarity: {}\\n\".format(JamesBond4[3], names[0], values[0], names[1], values[1], names[2], values[2])\n",
        "file_object.write(text)\n",
        "file_object.close()"
      ],
      "metadata": {
        "id": "xKhmUjotfkBI"
      },
      "execution_count": null,
      "outputs": []
    },
    {
      "cell_type": "code",
      "source": [
        "similarity_value = similarity_new(JamesBond4_data, JamesBond1_data, True)\n",
        "print(\"Wartość similarity dla \", JamesBond4_data[3], \" i \", JamesBond1_data[3], \" wynosi: \", similarity_value)"
      ],
      "metadata": {
        "id": "ODbuu-TvErYk",
        "outputId": "4422ec24-ee6f-4ae7-97e0-43c4d61d5ac7",
        "colab": {
          "base_uri": "https://localhost:8080/"
        }
      },
      "execution_count": null,
      "outputs": [
        {
          "output_type": "stream",
          "name": "stdout",
          "text": [
            "Wartość similarity dla  Timothy Dalton  i  Sean Connery  wynosi:  0.10496564263322883\n"
          ]
        }
      ]
    },
    {
      "cell_type": "code",
      "source": [
        "file_object = open(SIMILARITY_VALUES, 'a')\n",
        "text = \"{}, {}, similarity value: {}\\n\".format(JamesBond4_data[3], JamesBond1_data[3], similarity_value)\n",
        "file_object.write(text)\n",
        "file_object.close()"
      ],
      "metadata": {
        "id": "CAmy6clZfT0e"
      },
      "execution_count": null,
      "outputs": []
    },
    {
      "cell_type": "code",
      "source": [
        "similarity_value = similarity_new(JamesBond4_data, JamesBond2_data, True)\n",
        "print(\"Wartość similarity dla \", JamesBond4_data[3], \" i \", JamesBond2_data[3], \" wynosi: \", similarity_value)"
      ],
      "metadata": {
        "id": "BYew1Q5kEzLT",
        "outputId": "bf7876bd-e4b4-4104-9948-fc71b91aa277",
        "colab": {
          "base_uri": "https://localhost:8080/"
        }
      },
      "execution_count": null,
      "outputs": [
        {
          "output_type": "stream",
          "name": "stdout",
          "text": [
            "Wartość similarity dla  Timothy Dalton  i  George Lazenby  wynosi:  0.15387285266457673\n"
          ]
        }
      ]
    },
    {
      "cell_type": "code",
      "source": [
        "file_object = open(SIMILARITY_VALUES, 'a')\n",
        "text = \"{}, {}, similarity value: {}\\n\".format(JamesBond4_data[3], JamesBond2_data[3], similarity_value)\n",
        "file_object.write(text)\n",
        "file_object.close()"
      ],
      "metadata": {
        "id": "Uv83uBnMfXxN"
      },
      "execution_count": null,
      "outputs": []
    },
    {
      "cell_type": "code",
      "source": [
        "similarity_value = similarity_new(JamesBond4_data, JamesBond3_data, True)\n",
        "print(\"Wartość similarity dla \", JamesBond4_data[3], \" i \", JamesBond3_data[3], \" wynosi: \", similarity_value)"
      ],
      "metadata": {
        "id": "afJ0P86jE3_3",
        "outputId": "968681fc-22b8-411e-8282-c0ee222ca9a3",
        "colab": {
          "base_uri": "https://localhost:8080/"
        }
      },
      "execution_count": null,
      "outputs": [
        {
          "output_type": "stream",
          "name": "stdout",
          "text": [
            "Wartość similarity dla  Timothy Dalton  i  Roger Moore  wynosi:  0.1485983699059561\n"
          ]
        }
      ]
    },
    {
      "cell_type": "code",
      "source": [
        "file_object = open(SIMILARITY_VALUES, 'a')\n",
        "text = \"{}, {}, similarity value: {}\\n\".format(JamesBond4_data[3], JamesBond3_data[3], similarity_value)\n",
        "file_object.write(text)\n",
        "file_object.close()"
      ],
      "metadata": {
        "id": "fKXyaIAUfe3R"
      },
      "execution_count": null,
      "outputs": []
    },
    {
      "cell_type": "code",
      "source": [
        "JamesBond5 = \"nm0000112\""
      ],
      "metadata": {
        "id": "kUKU4hHgFTp2"
      },
      "execution_count": null,
      "outputs": []
    },
    {
      "cell_type": "code",
      "source": [
        "JamesBond5_data = find_actor_two_datasets(train_data, validate_data, JamesBond5)"
      ],
      "metadata": {
        "id": "CFDax2QdFck9",
        "outputId": "4385d76f-ed69-4dc6-affa-9b3a6f8e52dd",
        "colab": {
          "base_uri": "https://localhost:8080/",
          "height": 426
        }
      },
      "execution_count": null,
      "outputs": [
        {
          "output_type": "display_data",
          "data": {
            "text/plain": [
              "                                                                       466834\n",
              "nconst                                                              nm0000112\n",
              "tconst                      [tt0120347, tt0128239, tt0684830, tt0684869, t...\n",
              "category                                                                actor\n",
              "primaryName                                                    Pierce Brosnan\n",
              "knownForTitles                   [tt0155267, tt0120347, tt0143145, tt0795421]\n",
              "no_nominations_oscars_norm                                                0.0\n",
              "no_nominations_globes_norm                                              0.087\n",
              "no_nominations_emmy_norm                                                  0.5\n",
              "no_films_norm                                                            0.02\n",
              "average_films_rating_norm                                               0.714\n",
              "genres_code                 [1, 1, 1, 1, 1, 1, 1, 0, 1, 1, 0, 0, 1, 1, 0, ...\n",
              "types_code                                  [1, 1, 1, 1, 1, 0, 1, 1, 0, 1, 0]"
            ],
            "text/html": [
              "\n",
              "  <div id=\"df-212636c8-8c36-4242-8c70-2aa0e4c89180\">\n",
              "    <div class=\"colab-df-container\">\n",
              "      <div>\n",
              "<style scoped>\n",
              "    .dataframe tbody tr th:only-of-type {\n",
              "        vertical-align: middle;\n",
              "    }\n",
              "\n",
              "    .dataframe tbody tr th {\n",
              "        vertical-align: top;\n",
              "    }\n",
              "\n",
              "    .dataframe thead th {\n",
              "        text-align: right;\n",
              "    }\n",
              "</style>\n",
              "<table border=\"1\" class=\"dataframe\">\n",
              "  <thead>\n",
              "    <tr style=\"text-align: right;\">\n",
              "      <th></th>\n",
              "      <th>466834</th>\n",
              "    </tr>\n",
              "  </thead>\n",
              "  <tbody>\n",
              "    <tr>\n",
              "      <th>nconst</th>\n",
              "      <td>nm0000112</td>\n",
              "    </tr>\n",
              "    <tr>\n",
              "      <th>tconst</th>\n",
              "      <td>[tt0120347, tt0128239, tt0684830, tt0684869, t...</td>\n",
              "    </tr>\n",
              "    <tr>\n",
              "      <th>category</th>\n",
              "      <td>actor</td>\n",
              "    </tr>\n",
              "    <tr>\n",
              "      <th>primaryName</th>\n",
              "      <td>Pierce Brosnan</td>\n",
              "    </tr>\n",
              "    <tr>\n",
              "      <th>knownForTitles</th>\n",
              "      <td>[tt0155267, tt0120347, tt0143145, tt0795421]</td>\n",
              "    </tr>\n",
              "    <tr>\n",
              "      <th>no_nominations_oscars_norm</th>\n",
              "      <td>0.0</td>\n",
              "    </tr>\n",
              "    <tr>\n",
              "      <th>no_nominations_globes_norm</th>\n",
              "      <td>0.087</td>\n",
              "    </tr>\n",
              "    <tr>\n",
              "      <th>no_nominations_emmy_norm</th>\n",
              "      <td>0.5</td>\n",
              "    </tr>\n",
              "    <tr>\n",
              "      <th>no_films_norm</th>\n",
              "      <td>0.02</td>\n",
              "    </tr>\n",
              "    <tr>\n",
              "      <th>average_films_rating_norm</th>\n",
              "      <td>0.714</td>\n",
              "    </tr>\n",
              "    <tr>\n",
              "      <th>genres_code</th>\n",
              "      <td>[1, 1, 1, 1, 1, 1, 1, 0, 1, 1, 0, 0, 1, 1, 0, ...</td>\n",
              "    </tr>\n",
              "    <tr>\n",
              "      <th>types_code</th>\n",
              "      <td>[1, 1, 1, 1, 1, 0, 1, 1, 0, 1, 0]</td>\n",
              "    </tr>\n",
              "  </tbody>\n",
              "</table>\n",
              "</div>\n",
              "      <button class=\"colab-df-convert\" onclick=\"convertToInteractive('df-212636c8-8c36-4242-8c70-2aa0e4c89180')\"\n",
              "              title=\"Convert this dataframe to an interactive table.\"\n",
              "              style=\"display:none;\">\n",
              "        \n",
              "  <svg xmlns=\"http://www.w3.org/2000/svg\" height=\"24px\"viewBox=\"0 0 24 24\"\n",
              "       width=\"24px\">\n",
              "    <path d=\"M0 0h24v24H0V0z\" fill=\"none\"/>\n",
              "    <path d=\"M18.56 5.44l.94 2.06.94-2.06 2.06-.94-2.06-.94-.94-2.06-.94 2.06-2.06.94zm-11 1L8.5 8.5l.94-2.06 2.06-.94-2.06-.94L8.5 2.5l-.94 2.06-2.06.94zm10 10l.94 2.06.94-2.06 2.06-.94-2.06-.94-.94-2.06-.94 2.06-2.06.94z\"/><path d=\"M17.41 7.96l-1.37-1.37c-.4-.4-.92-.59-1.43-.59-.52 0-1.04.2-1.43.59L10.3 9.45l-7.72 7.72c-.78.78-.78 2.05 0 2.83L4 21.41c.39.39.9.59 1.41.59.51 0 1.02-.2 1.41-.59l7.78-7.78 2.81-2.81c.8-.78.8-2.07 0-2.86zM5.41 20L4 18.59l7.72-7.72 1.47 1.35L5.41 20z\"/>\n",
              "  </svg>\n",
              "      </button>\n",
              "      \n",
              "  <style>\n",
              "    .colab-df-container {\n",
              "      display:flex;\n",
              "      flex-wrap:wrap;\n",
              "      gap: 12px;\n",
              "    }\n",
              "\n",
              "    .colab-df-convert {\n",
              "      background-color: #E8F0FE;\n",
              "      border: none;\n",
              "      border-radius: 50%;\n",
              "      cursor: pointer;\n",
              "      display: none;\n",
              "      fill: #1967D2;\n",
              "      height: 32px;\n",
              "      padding: 0 0 0 0;\n",
              "      width: 32px;\n",
              "    }\n",
              "\n",
              "    .colab-df-convert:hover {\n",
              "      background-color: #E2EBFA;\n",
              "      box-shadow: 0px 1px 2px rgba(60, 64, 67, 0.3), 0px 1px 3px 1px rgba(60, 64, 67, 0.15);\n",
              "      fill: #174EA6;\n",
              "    }\n",
              "\n",
              "    [theme=dark] .colab-df-convert {\n",
              "      background-color: #3B4455;\n",
              "      fill: #D2E3FC;\n",
              "    }\n",
              "\n",
              "    [theme=dark] .colab-df-convert:hover {\n",
              "      background-color: #434B5C;\n",
              "      box-shadow: 0px 1px 3px 1px rgba(0, 0, 0, 0.15);\n",
              "      filter: drop-shadow(0px 1px 2px rgba(0, 0, 0, 0.3));\n",
              "      fill: #FFFFFF;\n",
              "    }\n",
              "  </style>\n",
              "\n",
              "      <script>\n",
              "        const buttonEl =\n",
              "          document.querySelector('#df-212636c8-8c36-4242-8c70-2aa0e4c89180 button.colab-df-convert');\n",
              "        buttonEl.style.display =\n",
              "          google.colab.kernel.accessAllowed ? 'block' : 'none';\n",
              "\n",
              "        async function convertToInteractive(key) {\n",
              "          const element = document.querySelector('#df-212636c8-8c36-4242-8c70-2aa0e4c89180');\n",
              "          const dataTable =\n",
              "            await google.colab.kernel.invokeFunction('convertToInteractive',\n",
              "                                                     [key], {});\n",
              "          if (!dataTable) return;\n",
              "\n",
              "          const docLinkHtml = 'Like what you see? Visit the ' +\n",
              "            '<a target=\"_blank\" href=https://colab.research.google.com/notebooks/data_table.ipynb>data table notebook</a>'\n",
              "            + ' to learn more about interactive tables.';\n",
              "          element.innerHTML = '';\n",
              "          dataTable['output_type'] = 'display_data';\n",
              "          await google.colab.output.renderOutput(dataTable, element);\n",
              "          const docLink = document.createElement('div');\n",
              "          docLink.innerHTML = docLinkHtml;\n",
              "          element.appendChild(docLink);\n",
              "        }\n",
              "      </script>\n",
              "    </div>\n",
              "  </div>\n",
              "  "
            ]
          },
          "metadata": {}
        }
      ]
    },
    {
      "cell_type": "code",
      "source": [
        "if JamesBond5 in list(train_data['nconst']):\n",
        "    ids, values = similarity_one_vs_all_new(train_data, JamesBond5_data, True)\n",
        "    ids, values = select_top_similiar(ids, values, 3)\n",
        "    names = replace_ids_with_names(train_data, ids, 3)\n",
        "elif JamesBond5 in list(validate_data['nconst']):\n",
        "    ids, values = similarity_one_vs_all_new(validate_data, JamesBond5_data, True)\n",
        "    ids, values = select_top_similiar(ids, values, 3)\n",
        "    names = replace_ids_with_names(validate_data, ids, 3)\n",
        "ranking = print_top_similiar(JamesBond5_data[3], names, values)"
      ],
      "metadata": {
        "id": "Ogmg_qJDGC8p"
      },
      "execution_count": null,
      "outputs": []
    },
    {
      "cell_type": "code",
      "source": [
        "file_object = open(RANKINGS, 'a')\n",
        "text = \"Najbardziej podobni do {}:\\n- {}, similarity: {}\\n- {}, similarity: {}\\n- {}, similarity: {}\\n\".format(JamesBond5[3], names[0], values[0], names[1], values[1], names[2], values[2])\n",
        "file_object.write(text)\n",
        "file_object.close()"
      ],
      "metadata": {
        "id": "6YcfFXrqf6aa"
      },
      "execution_count": null,
      "outputs": []
    },
    {
      "cell_type": "code",
      "source": [
        "similarity_value = similarity_new(JamesBond5_data, JamesBond1_data, True)\n",
        "print(\"Wartość similarity dla \", JamesBond5_data[3], \" i \", JamesBond1_data[3], \" wynosi: \", similarity_value)"
      ],
      "metadata": {
        "id": "8DirIES-FiK7",
        "outputId": "ba17d1d2-6b54-4946-df81-10086abff58c",
        "colab": {
          "base_uri": "https://localhost:8080/"
        }
      },
      "execution_count": null,
      "outputs": [
        {
          "output_type": "stream",
          "name": "stdout",
          "text": [
            "Wartość similarity dla  Pierce Brosnan  i  Sean Connery  wynosi:  0.17389285266457688\n"
          ]
        }
      ]
    },
    {
      "cell_type": "code",
      "source": [
        "file_object = open(SIMILARITY_VALUES, 'a')\n",
        "text = \"{}, {}, similarity value: {}\\n\".format(JamesBond5_data[3], JamesBond1_data[3], similarity_value)\n",
        "file_object.write(text)\n",
        "file_object.close()"
      ],
      "metadata": {
        "id": "J2g9UN0jgZN0"
      },
      "execution_count": null,
      "outputs": []
    },
    {
      "cell_type": "code",
      "source": [
        "similarity_value = similarity_new(JamesBond5_data, JamesBond2_data, True)\n",
        "print(\"Wartość similarity dla \", JamesBond5_data[3], \" i \", JamesBond2_data[3], \" wynosi: \", similarity_value)"
      ],
      "metadata": {
        "id": "4QxbrEL4Fy8g",
        "outputId": "2758c3c0-2a00-4063-f84c-a15b1a8ac85c",
        "colab": {
          "base_uri": "https://localhost:8080/"
        }
      },
      "execution_count": null,
      "outputs": [
        {
          "output_type": "stream",
          "name": "stdout",
          "text": [
            "Wartość similarity dla  Pierce Brosnan  i  George Lazenby  wynosi:  0.12159529780564249\n"
          ]
        }
      ]
    },
    {
      "cell_type": "code",
      "source": [
        "file_object = open(SIMILARITY_VALUES, 'a')\n",
        "text = \"{}, {}, similarity value: {}\\n\".format(JamesBond5_data[3], JamesBond2_data[3], similarity_value)\n",
        "file_object.write(text)\n",
        "file_object.close()"
      ],
      "metadata": {
        "id": "6pAyuJdtgeSl"
      },
      "execution_count": null,
      "outputs": []
    },
    {
      "cell_type": "code",
      "source": [
        "similarity_value = similarity_new(JamesBond5_data, JamesBond3_data, True)\n",
        "print(\"Wartość similarity dla \", JamesBond5_data[3], \" i \", JamesBond3_data[3], \" wynosi: \", similarity_value)"
      ],
      "metadata": {
        "id": "9VivuhqyF2L_",
        "outputId": "647d55ba-aaf1-40b4-dfd2-0d6fdc12c460",
        "colab": {
          "base_uri": "https://localhost:8080/"
        }
      },
      "execution_count": null,
      "outputs": [
        {
          "output_type": "stream",
          "name": "stdout",
          "text": [
            "Wartość similarity dla  Pierce Brosnan  i  Roger Moore  wynosi:  0.2170455799373041\n"
          ]
        }
      ]
    },
    {
      "cell_type": "code",
      "source": [
        "file_object = open(SIMILARITY_VALUES, 'a')\n",
        "text = \"{}, {}, similarity value: {}\\n\".format(JamesBond5_data[3], JamesBond3_data[3], similarity_value)\n",
        "file_object.write(text)\n",
        "file_object.close()"
      ],
      "metadata": {
        "id": "fMMBhKmPggWD"
      },
      "execution_count": null,
      "outputs": []
    },
    {
      "cell_type": "code",
      "source": [
        "similarity_value = similarity_new(JamesBond5_data, JamesBond4_data, True)\n",
        "print(\"Wartość similarity dla \", JamesBond5_data[3], \" i \", JamesBond4_data[3], \" wynosi: \", similarity_value)"
      ],
      "metadata": {
        "id": "5xHIaMNNF6ew",
        "outputId": "b4ec2f5b-1e64-462c-9ce4-703eb7f5902c",
        "colab": {
          "base_uri": "https://localhost:8080/"
        }
      },
      "execution_count": null,
      "outputs": [
        {
          "output_type": "stream",
          "name": "stdout",
          "text": [
            "Wartość similarity dla  Pierce Brosnan  i  Timothy Dalton  wynosi:  0.2662727899686521\n"
          ]
        }
      ]
    },
    {
      "cell_type": "code",
      "source": [
        "file_object = open(SIMILARITY_VALUES, 'a')\n",
        "text = \"{}, {}, similarity value: {}\\n\".format(JamesBond5_data[3], JamesBond4_data[3], similarity_value)\n",
        "file_object.write(text)\n",
        "file_object.close()"
      ],
      "metadata": {
        "id": "dkaLoczGgjBi"
      },
      "execution_count": null,
      "outputs": []
    },
    {
      "cell_type": "code",
      "source": [
        "JamesBond6 = \"nm0185819\""
      ],
      "metadata": {
        "id": "XZT55U3aGA02"
      },
      "execution_count": null,
      "outputs": []
    },
    {
      "cell_type": "code",
      "source": [
        "JamesBond6_data = find_actor_two_datasets(train_data, validate_data, JamesBond6)"
      ],
      "metadata": {
        "id": "zJyr9kt-HJVK",
        "outputId": "464fcdf7-0bd5-492b-93f0-79ba36dc4d95",
        "colab": {
          "base_uri": "https://localhost:8080/",
          "height": 426
        }
      },
      "execution_count": null,
      "outputs": [
        {
          "output_type": "display_data",
          "data": {
            "text/plain": [
              "                                                                      1756395\n",
              "nconst                                                              nm0185819\n",
              "tconst                      [tt0161010, tt0366627, tt0375912, tt0386741, t...\n",
              "category                                                                actor\n",
              "primaryName                                                      Daniel Craig\n",
              "knownForTitles                   [tt2382320, tt1074638, tt0381061, tt2379713]\n",
              "no_nominations_oscars_norm                                                0.0\n",
              "no_nominations_globes_norm                                              0.043\n",
              "no_nominations_emmy_norm                                                  0.5\n",
              "no_films_norm                                                           0.007\n",
              "average_films_rating_norm                                                0.68\n",
              "genres_code                 [1, 1, 1, 1, 1, 1, 1, 0, 1, 1, 0, 0, 1, 1, 0, ...\n",
              "types_code                                  [1, 1, 1, 1, 1, 1, 1, 1, 0, 1, 0]"
            ],
            "text/html": [
              "\n",
              "  <div id=\"df-519f9d38-a60f-4634-961a-615a279394a8\">\n",
              "    <div class=\"colab-df-container\">\n",
              "      <div>\n",
              "<style scoped>\n",
              "    .dataframe tbody tr th:only-of-type {\n",
              "        vertical-align: middle;\n",
              "    }\n",
              "\n",
              "    .dataframe tbody tr th {\n",
              "        vertical-align: top;\n",
              "    }\n",
              "\n",
              "    .dataframe thead th {\n",
              "        text-align: right;\n",
              "    }\n",
              "</style>\n",
              "<table border=\"1\" class=\"dataframe\">\n",
              "  <thead>\n",
              "    <tr style=\"text-align: right;\">\n",
              "      <th></th>\n",
              "      <th>1756395</th>\n",
              "    </tr>\n",
              "  </thead>\n",
              "  <tbody>\n",
              "    <tr>\n",
              "      <th>nconst</th>\n",
              "      <td>nm0185819</td>\n",
              "    </tr>\n",
              "    <tr>\n",
              "      <th>tconst</th>\n",
              "      <td>[tt0161010, tt0366627, tt0375912, tt0386741, t...</td>\n",
              "    </tr>\n",
              "    <tr>\n",
              "      <th>category</th>\n",
              "      <td>actor</td>\n",
              "    </tr>\n",
              "    <tr>\n",
              "      <th>primaryName</th>\n",
              "      <td>Daniel Craig</td>\n",
              "    </tr>\n",
              "    <tr>\n",
              "      <th>knownForTitles</th>\n",
              "      <td>[tt2382320, tt1074638, tt0381061, tt2379713]</td>\n",
              "    </tr>\n",
              "    <tr>\n",
              "      <th>no_nominations_oscars_norm</th>\n",
              "      <td>0.0</td>\n",
              "    </tr>\n",
              "    <tr>\n",
              "      <th>no_nominations_globes_norm</th>\n",
              "      <td>0.043</td>\n",
              "    </tr>\n",
              "    <tr>\n",
              "      <th>no_nominations_emmy_norm</th>\n",
              "      <td>0.5</td>\n",
              "    </tr>\n",
              "    <tr>\n",
              "      <th>no_films_norm</th>\n",
              "      <td>0.007</td>\n",
              "    </tr>\n",
              "    <tr>\n",
              "      <th>average_films_rating_norm</th>\n",
              "      <td>0.68</td>\n",
              "    </tr>\n",
              "    <tr>\n",
              "      <th>genres_code</th>\n",
              "      <td>[1, 1, 1, 1, 1, 1, 1, 0, 1, 1, 0, 0, 1, 1, 0, ...</td>\n",
              "    </tr>\n",
              "    <tr>\n",
              "      <th>types_code</th>\n",
              "      <td>[1, 1, 1, 1, 1, 1, 1, 1, 0, 1, 0]</td>\n",
              "    </tr>\n",
              "  </tbody>\n",
              "</table>\n",
              "</div>\n",
              "      <button class=\"colab-df-convert\" onclick=\"convertToInteractive('df-519f9d38-a60f-4634-961a-615a279394a8')\"\n",
              "              title=\"Convert this dataframe to an interactive table.\"\n",
              "              style=\"display:none;\">\n",
              "        \n",
              "  <svg xmlns=\"http://www.w3.org/2000/svg\" height=\"24px\"viewBox=\"0 0 24 24\"\n",
              "       width=\"24px\">\n",
              "    <path d=\"M0 0h24v24H0V0z\" fill=\"none\"/>\n",
              "    <path d=\"M18.56 5.44l.94 2.06.94-2.06 2.06-.94-2.06-.94-.94-2.06-.94 2.06-2.06.94zm-11 1L8.5 8.5l.94-2.06 2.06-.94-2.06-.94L8.5 2.5l-.94 2.06-2.06.94zm10 10l.94 2.06.94-2.06 2.06-.94-2.06-.94-.94-2.06-.94 2.06-2.06.94z\"/><path d=\"M17.41 7.96l-1.37-1.37c-.4-.4-.92-.59-1.43-.59-.52 0-1.04.2-1.43.59L10.3 9.45l-7.72 7.72c-.78.78-.78 2.05 0 2.83L4 21.41c.39.39.9.59 1.41.59.51 0 1.02-.2 1.41-.59l7.78-7.78 2.81-2.81c.8-.78.8-2.07 0-2.86zM5.41 20L4 18.59l7.72-7.72 1.47 1.35L5.41 20z\"/>\n",
              "  </svg>\n",
              "      </button>\n",
              "      \n",
              "  <style>\n",
              "    .colab-df-container {\n",
              "      display:flex;\n",
              "      flex-wrap:wrap;\n",
              "      gap: 12px;\n",
              "    }\n",
              "\n",
              "    .colab-df-convert {\n",
              "      background-color: #E8F0FE;\n",
              "      border: none;\n",
              "      border-radius: 50%;\n",
              "      cursor: pointer;\n",
              "      display: none;\n",
              "      fill: #1967D2;\n",
              "      height: 32px;\n",
              "      padding: 0 0 0 0;\n",
              "      width: 32px;\n",
              "    }\n",
              "\n",
              "    .colab-df-convert:hover {\n",
              "      background-color: #E2EBFA;\n",
              "      box-shadow: 0px 1px 2px rgba(60, 64, 67, 0.3), 0px 1px 3px 1px rgba(60, 64, 67, 0.15);\n",
              "      fill: #174EA6;\n",
              "    }\n",
              "\n",
              "    [theme=dark] .colab-df-convert {\n",
              "      background-color: #3B4455;\n",
              "      fill: #D2E3FC;\n",
              "    }\n",
              "\n",
              "    [theme=dark] .colab-df-convert:hover {\n",
              "      background-color: #434B5C;\n",
              "      box-shadow: 0px 1px 3px 1px rgba(0, 0, 0, 0.15);\n",
              "      filter: drop-shadow(0px 1px 2px rgba(0, 0, 0, 0.3));\n",
              "      fill: #FFFFFF;\n",
              "    }\n",
              "  </style>\n",
              "\n",
              "      <script>\n",
              "        const buttonEl =\n",
              "          document.querySelector('#df-519f9d38-a60f-4634-961a-615a279394a8 button.colab-df-convert');\n",
              "        buttonEl.style.display =\n",
              "          google.colab.kernel.accessAllowed ? 'block' : 'none';\n",
              "\n",
              "        async function convertToInteractive(key) {\n",
              "          const element = document.querySelector('#df-519f9d38-a60f-4634-961a-615a279394a8');\n",
              "          const dataTable =\n",
              "            await google.colab.kernel.invokeFunction('convertToInteractive',\n",
              "                                                     [key], {});\n",
              "          if (!dataTable) return;\n",
              "\n",
              "          const docLinkHtml = 'Like what you see? Visit the ' +\n",
              "            '<a target=\"_blank\" href=https://colab.research.google.com/notebooks/data_table.ipynb>data table notebook</a>'\n",
              "            + ' to learn more about interactive tables.';\n",
              "          element.innerHTML = '';\n",
              "          dataTable['output_type'] = 'display_data';\n",
              "          await google.colab.output.renderOutput(dataTable, element);\n",
              "          const docLink = document.createElement('div');\n",
              "          docLink.innerHTML = docLinkHtml;\n",
              "          element.appendChild(docLink);\n",
              "        }\n",
              "      </script>\n",
              "    </div>\n",
              "  </div>\n",
              "  "
            ]
          },
          "metadata": {}
        }
      ]
    },
    {
      "cell_type": "code",
      "source": [
        "if JamesBond6 in list(train_data['nconst']):\n",
        "    ids, values = similarity_one_vs_all_new(train_data, JamesBond6_data, True)\n",
        "    ids, values = select_top_similiar(ids, values, 3)\n",
        "    names = replace_ids_with_names(train_data, ids, 3)\n",
        "elif JamesBond6 in list(validate_data['nconst']):\n",
        "    ids, values = similarity_one_vs_all_new(validate_data, JamesBond6_data, True)\n",
        "    ids, values = select_top_similiar(ids, values, 3)\n",
        "    names = replace_ids_with_names(validate_data, ids, 3)\n",
        "ranking = print_top_similiar(JamesBond6_data[3], names, values)"
      ],
      "metadata": {
        "id": "tjw2FUI_HtvC",
        "outputId": "1f2ba72a-3d07-4a52-b28f-e50f8addce3f",
        "colab": {
          "base_uri": "https://localhost:8080/"
        }
      },
      "execution_count": null,
      "outputs": [
        {
          "output_type": "stream",
          "name": "stdout",
          "text": [
            "Najbardziej podobnymi do Daniel Craig aktorami/aktorkami są w kolejności:\n",
            "  - Sam Elliott z similarity równym: 0.306\n",
            "  - Michael York z similarity równym: 0.304\n",
            "  - Dan Aykroyd z similarity równym: 0.303\n"
          ]
        }
      ]
    },
    {
      "cell_type": "code",
      "source": [
        "file_object = open(RANKINGS, 'a')\n",
        "text = \"Najbardziej podobni do {}:\\n- {}, similarity: {}\\n- {}, similarity: {}\\n- {}, similarity: {}\\n\".format(JamesBond6[3], names[0], values[0], names[1], values[1], names[2], values[2])\n",
        "file_object.write(text)\n",
        "file_object.close()"
      ],
      "metadata": {
        "id": "43Mtatb4g08Z"
      },
      "execution_count": null,
      "outputs": []
    },
    {
      "cell_type": "code",
      "source": [
        "similarity_value = similarity_new(JamesBond6_data, JamesBond1_data, True)\n",
        "print(\"Wartość similarity dla \", JamesBond6_data[3], \" i \", JamesBond1_data[3], \" wynosi: \", similarity_value)"
      ],
      "metadata": {
        "id": "ml6vVorOHU4H",
        "outputId": "7e952e06-3ffd-42c1-dd0b-de0d4b26a6c7",
        "colab": {
          "base_uri": "https://localhost:8080/"
        }
      },
      "execution_count": null,
      "outputs": [
        {
          "output_type": "stream",
          "name": "stdout",
          "text": [
            "Wartość similarity dla  Daniel Craig  i  Sean Connery  wynosi:  0.21000557993730418\n"
          ]
        }
      ]
    },
    {
      "cell_type": "code",
      "source": [
        "file_object = open(SIMILARITY_VALUES, 'a')\n",
        "text = \"{}, {}, similarity value: {}\\n\".format(JamesBond6_data[3], JamesBond1_data[3], similarity_value)\n",
        "file_object.write(text)\n",
        "file_object.close()"
      ],
      "metadata": {
        "id": "gSwPIemZhGCD"
      },
      "execution_count": null,
      "outputs": []
    },
    {
      "cell_type": "code",
      "source": [
        "similarity_value = similarity_new(JamesBond6_data, JamesBond2_data, True)\n",
        "print(\"Wartość similarity dla \", JamesBond6_data[3], \" i \", JamesBond2_data[3], \" wynosi: \", similarity_value)"
      ],
      "metadata": {
        "id": "ndfwIkbiHUsE",
        "outputId": "acb851ce-cc01-4667-8cd7-3dbb859eaa1e",
        "colab": {
          "base_uri": "https://localhost:8080/"
        }
      },
      "execution_count": null,
      "outputs": [
        {
          "output_type": "stream",
          "name": "stdout",
          "text": [
            "Wartość similarity dla  Daniel Craig  i  George Lazenby  wynosi:  0.10892257053291532\n"
          ]
        }
      ]
    },
    {
      "cell_type": "code",
      "source": [
        "file_object = open(SIMILARITY_VALUES, 'a')\n",
        "text = \"{}, {}, similarity value: {}\\n\".format(JamesBond6_data[3], JamesBond2_data[3], similarity_value)\n",
        "file_object.write(text)\n",
        "file_object.close()"
      ],
      "metadata": {
        "id": "AZ2UssovhGeA"
      },
      "execution_count": null,
      "outputs": []
    },
    {
      "cell_type": "code",
      "source": [
        "similarity_value = similarity_new(JamesBond6_data, JamesBond3_data, True)\n",
        "print(\"Wartość similarity dla \", JamesBond6_data[3], \" i \", JamesBond3_data[3], \" wynosi: \", similarity_value)"
      ],
      "metadata": {
        "id": "It1l2b1MHd8n",
        "outputId": "f2425613-3e14-4f54-b0f4-e887e4cbf712",
        "colab": {
          "base_uri": "https://localhost:8080/"
        }
      },
      "execution_count": null,
      "outputs": [
        {
          "output_type": "stream",
          "name": "stdout",
          "text": [
            "Wartość similarity dla  Daniel Craig  i  Roger Moore  wynosi:  0.2592955190575079\n"
          ]
        }
      ]
    },
    {
      "cell_type": "code",
      "source": [
        "file_object = open(SIMILARITY_VALUES, 'a')\n",
        "text = \"{}, {}, similarity value: {}\\n\".format(JamesBond6_data[3], JamesBond3_data[3], similarity_value)\n",
        "file_object.write(text)\n",
        "file_object.close()"
      ],
      "metadata": {
        "id": "-8tpXcmdhG2M"
      },
      "execution_count": null,
      "outputs": []
    },
    {
      "cell_type": "code",
      "source": [
        "similarity_value = similarity_new(JamesBond6_data, JamesBond4_data, True)\n",
        "print(\"Wartość similarity dla \", JamesBond6_data[3], \" i \", JamesBond4_data[3], \" wynosi: \", similarity_value)"
      ],
      "metadata": {
        "id": "UHN92HS3Hgzp",
        "outputId": "7068d646-2979-489e-ab5e-5940c3584488",
        "colab": {
          "base_uri": "https://localhost:8080/"
        }
      },
      "execution_count": null,
      "outputs": [
        {
          "output_type": "stream",
          "name": "stdout",
          "text": [
            "Wartość similarity dla  Daniel Craig  i  Timothy Dalton  wynosi:  0.21379040752351086\n"
          ]
        }
      ]
    },
    {
      "cell_type": "code",
      "source": [
        "file_object = open(SIMILARITY_VALUES, 'a')\n",
        "text = \"{}, {}, similarity value: {}\\n\".format(JamesBond6_data[3], JamesBond4_data[3], similarity_value)\n",
        "file_object.write(text)\n",
        "file_object.close()"
      ],
      "metadata": {
        "id": "LcWy_fa8hHRB"
      },
      "execution_count": null,
      "outputs": []
    },
    {
      "cell_type": "code",
      "source": [
        "similarity_value = similarity_new(JamesBond6_data, JamesBond5_data, True)\n",
        "print(\"Wartość similarity dla \", JamesBond6_data[3], \" i \", JamesBond5_data[3], \" wynosi: \", similarity_value)"
      ],
      "metadata": {
        "id": "u8nCCsDAHlHn",
        "outputId": "f29d832f-9295-4b81-dc61-76395d512114",
        "colab": {
          "base_uri": "https://localhost:8080/"
        }
      },
      "execution_count": null,
      "outputs": [
        {
          "output_type": "stream",
          "name": "stdout",
          "text": [
            "Wartość similarity dla  Daniel Craig  i  Pierce Brosnan  wynosi:  0.2567479623824451\n"
          ]
        }
      ]
    },
    {
      "cell_type": "code",
      "source": [
        "file_object = open(SIMILARITY_VALUES, 'a')\n",
        "text = \"{}, {}, similarity value: {}\\n\".format(JamesBond6_data[3], JamesBond5_data[3], similarity_value)\n",
        "file_object.write(text)\n",
        "file_object.close()"
      ],
      "metadata": {
        "id": "aeXzIXRChH8G"
      },
      "execution_count": null,
      "outputs": []
    },
    {
      "cell_type": "markdown",
      "source": [
        "#Dubbing tych samych postaci"
      ],
      "metadata": {
        "id": "Hk7yaNlYhger"
      }
    },
    {
      "cell_type": "code",
      "source": [
        "Donkey1 = \"nm0000552\""
      ],
      "metadata": {
        "id": "Mo14xVCghn2m"
      },
      "execution_count": null,
      "outputs": []
    },
    {
      "cell_type": "code",
      "source": [
        "Donkey1_data = find_actor_two_datasets(train_data, validate_data, Donkey1)"
      ],
      "metadata": {
        "id": "rJjdZEz5h-BH",
        "outputId": "57155e7f-bde9-43d4-9774-e261a57ba47b",
        "colab": {
          "base_uri": "https://localhost:8080/",
          "height": 426
        }
      },
      "execution_count": null,
      "outputs": [
        {
          "output_type": "display_data",
          "data": {
            "text/plain": [
              "                                                                      1042369\n",
              "nconst                                                              nm0000552\n",
              "tconst                      [tt0842425, tt0873257, tt0360985, tt0477051, t...\n",
              "category                                                                actor\n",
              "primaryName                                                      Eddie Murphy\n",
              "knownForTitles                   [tt0094898, tt0117218, tt0126029, tt0443489]\n",
              "no_nominations_oscars_norm                                              0.023\n",
              "no_nominations_globes_norm                                              0.261\n",
              "no_nominations_emmy_norm                                                  0.5\n",
              "no_films_norm                                                           0.008\n",
              "average_films_rating_norm                                               0.648\n",
              "genres_code                 [1, 1, 0, 1, 1, 1, 0, 0, 1, 1, 0, 0, 0, 0, 0, ...\n",
              "types_code                                  [1, 0, 0, 1, 1, 0, 1, 0, 1, 1, 0]"
            ],
            "text/html": [
              "\n",
              "  <div id=\"df-87d38232-c4b0-4115-babe-bba534bc3263\">\n",
              "    <div class=\"colab-df-container\">\n",
              "      <div>\n",
              "<style scoped>\n",
              "    .dataframe tbody tr th:only-of-type {\n",
              "        vertical-align: middle;\n",
              "    }\n",
              "\n",
              "    .dataframe tbody tr th {\n",
              "        vertical-align: top;\n",
              "    }\n",
              "\n",
              "    .dataframe thead th {\n",
              "        text-align: right;\n",
              "    }\n",
              "</style>\n",
              "<table border=\"1\" class=\"dataframe\">\n",
              "  <thead>\n",
              "    <tr style=\"text-align: right;\">\n",
              "      <th></th>\n",
              "      <th>1042369</th>\n",
              "    </tr>\n",
              "  </thead>\n",
              "  <tbody>\n",
              "    <tr>\n",
              "      <th>nconst</th>\n",
              "      <td>nm0000552</td>\n",
              "    </tr>\n",
              "    <tr>\n",
              "      <th>tconst</th>\n",
              "      <td>[tt0842425, tt0873257, tt0360985, tt0477051, t...</td>\n",
              "    </tr>\n",
              "    <tr>\n",
              "      <th>category</th>\n",
              "      <td>actor</td>\n",
              "    </tr>\n",
              "    <tr>\n",
              "      <th>primaryName</th>\n",
              "      <td>Eddie Murphy</td>\n",
              "    </tr>\n",
              "    <tr>\n",
              "      <th>knownForTitles</th>\n",
              "      <td>[tt0094898, tt0117218, tt0126029, tt0443489]</td>\n",
              "    </tr>\n",
              "    <tr>\n",
              "      <th>no_nominations_oscars_norm</th>\n",
              "      <td>0.023</td>\n",
              "    </tr>\n",
              "    <tr>\n",
              "      <th>no_nominations_globes_norm</th>\n",
              "      <td>0.261</td>\n",
              "    </tr>\n",
              "    <tr>\n",
              "      <th>no_nominations_emmy_norm</th>\n",
              "      <td>0.5</td>\n",
              "    </tr>\n",
              "    <tr>\n",
              "      <th>no_films_norm</th>\n",
              "      <td>0.008</td>\n",
              "    </tr>\n",
              "    <tr>\n",
              "      <th>average_films_rating_norm</th>\n",
              "      <td>0.648</td>\n",
              "    </tr>\n",
              "    <tr>\n",
              "      <th>genres_code</th>\n",
              "      <td>[1, 1, 0, 1, 1, 1, 0, 0, 1, 1, 0, 0, 0, 0, 0, ...</td>\n",
              "    </tr>\n",
              "    <tr>\n",
              "      <th>types_code</th>\n",
              "      <td>[1, 0, 0, 1, 1, 0, 1, 0, 1, 1, 0]</td>\n",
              "    </tr>\n",
              "  </tbody>\n",
              "</table>\n",
              "</div>\n",
              "      <button class=\"colab-df-convert\" onclick=\"convertToInteractive('df-87d38232-c4b0-4115-babe-bba534bc3263')\"\n",
              "              title=\"Convert this dataframe to an interactive table.\"\n",
              "              style=\"display:none;\">\n",
              "        \n",
              "  <svg xmlns=\"http://www.w3.org/2000/svg\" height=\"24px\"viewBox=\"0 0 24 24\"\n",
              "       width=\"24px\">\n",
              "    <path d=\"M0 0h24v24H0V0z\" fill=\"none\"/>\n",
              "    <path d=\"M18.56 5.44l.94 2.06.94-2.06 2.06-.94-2.06-.94-.94-2.06-.94 2.06-2.06.94zm-11 1L8.5 8.5l.94-2.06 2.06-.94-2.06-.94L8.5 2.5l-.94 2.06-2.06.94zm10 10l.94 2.06.94-2.06 2.06-.94-2.06-.94-.94-2.06-.94 2.06-2.06.94z\"/><path d=\"M17.41 7.96l-1.37-1.37c-.4-.4-.92-.59-1.43-.59-.52 0-1.04.2-1.43.59L10.3 9.45l-7.72 7.72c-.78.78-.78 2.05 0 2.83L4 21.41c.39.39.9.59 1.41.59.51 0 1.02-.2 1.41-.59l7.78-7.78 2.81-2.81c.8-.78.8-2.07 0-2.86zM5.41 20L4 18.59l7.72-7.72 1.47 1.35L5.41 20z\"/>\n",
              "  </svg>\n",
              "      </button>\n",
              "      \n",
              "  <style>\n",
              "    .colab-df-container {\n",
              "      display:flex;\n",
              "      flex-wrap:wrap;\n",
              "      gap: 12px;\n",
              "    }\n",
              "\n",
              "    .colab-df-convert {\n",
              "      background-color: #E8F0FE;\n",
              "      border: none;\n",
              "      border-radius: 50%;\n",
              "      cursor: pointer;\n",
              "      display: none;\n",
              "      fill: #1967D2;\n",
              "      height: 32px;\n",
              "      padding: 0 0 0 0;\n",
              "      width: 32px;\n",
              "    }\n",
              "\n",
              "    .colab-df-convert:hover {\n",
              "      background-color: #E2EBFA;\n",
              "      box-shadow: 0px 1px 2px rgba(60, 64, 67, 0.3), 0px 1px 3px 1px rgba(60, 64, 67, 0.15);\n",
              "      fill: #174EA6;\n",
              "    }\n",
              "\n",
              "    [theme=dark] .colab-df-convert {\n",
              "      background-color: #3B4455;\n",
              "      fill: #D2E3FC;\n",
              "    }\n",
              "\n",
              "    [theme=dark] .colab-df-convert:hover {\n",
              "      background-color: #434B5C;\n",
              "      box-shadow: 0px 1px 3px 1px rgba(0, 0, 0, 0.15);\n",
              "      filter: drop-shadow(0px 1px 2px rgba(0, 0, 0, 0.3));\n",
              "      fill: #FFFFFF;\n",
              "    }\n",
              "  </style>\n",
              "\n",
              "      <script>\n",
              "        const buttonEl =\n",
              "          document.querySelector('#df-87d38232-c4b0-4115-babe-bba534bc3263 button.colab-df-convert');\n",
              "        buttonEl.style.display =\n",
              "          google.colab.kernel.accessAllowed ? 'block' : 'none';\n",
              "\n",
              "        async function convertToInteractive(key) {\n",
              "          const element = document.querySelector('#df-87d38232-c4b0-4115-babe-bba534bc3263');\n",
              "          const dataTable =\n",
              "            await google.colab.kernel.invokeFunction('convertToInteractive',\n",
              "                                                     [key], {});\n",
              "          if (!dataTable) return;\n",
              "\n",
              "          const docLinkHtml = 'Like what you see? Visit the ' +\n",
              "            '<a target=\"_blank\" href=https://colab.research.google.com/notebooks/data_table.ipynb>data table notebook</a>'\n",
              "            + ' to learn more about interactive tables.';\n",
              "          element.innerHTML = '';\n",
              "          dataTable['output_type'] = 'display_data';\n",
              "          await google.colab.output.renderOutput(dataTable, element);\n",
              "          const docLink = document.createElement('div');\n",
              "          docLink.innerHTML = docLinkHtml;\n",
              "          element.appendChild(docLink);\n",
              "        }\n",
              "      </script>\n",
              "    </div>\n",
              "  </div>\n",
              "  "
            ]
          },
          "metadata": {}
        }
      ]
    },
    {
      "cell_type": "code",
      "source": [
        "if Donkey1 in list(train_data['nconst']):\n",
        "    ids, values = similarity_one_vs_all_new(train_data, Donkey1_data, True)\n",
        "    ids, values = select_top_similiar(ids, values, 3)\n",
        "    names = replace_ids_with_names(train_data, ids, 3)\n",
        "elif Donkey1 in list(validate_data['nconst']):\n",
        "    ids, values = similarity_one_vs_all_new(validate_data, Donkey1_data, True)\n",
        "    ids, values = select_top_similiar(ids, values, 3)\n",
        "    names = replace_ids_with_names(validate_data, ids, 3)\n",
        "ranking = print_top_similiar(Donkey1_data[3], names, values)"
      ],
      "metadata": {
        "id": "sdbmHggzie3J",
        "outputId": "74e27a5b-8084-468b-826d-907cd3a2eca9",
        "colab": {
          "base_uri": "https://localhost:8080/"
        }
      },
      "execution_count": null,
      "outputs": [
        {
          "output_type": "stream",
          "name": "stdout",
          "text": [
            "Najbardziej podobnymi do Eddie Murphy aktorami/aktorkami są w kolejności:\n",
            "  - Nacho Vigalondo z similarity równym: 0.248\n",
            "  - Kit DeZolt z similarity równym: 0.247\n",
            "  - P.J. Brown z similarity równym: 0.242\n"
          ]
        }
      ]
    },
    {
      "cell_type": "code",
      "source": [
        "file_object = open(RANKINGS, 'a')\n",
        "text = \"Najbardziej podobni do {}:\\n- {}, similarity: {}\\n- {}, similarity: {}\\n- {}, similarity: {}\\n\".format(Donkey1[3], names[0], values[0], names[1], values[1], names[2], values[2])\n",
        "file_object.write(text)\n",
        "file_object.close()"
      ],
      "metadata": {
        "id": "crNFkrKTiqXp"
      },
      "execution_count": null,
      "outputs": []
    },
    {
      "cell_type": "code",
      "source": [
        "Donkey2 = \"nm0836136\""
      ],
      "metadata": {
        "id": "2vwAC0Fmi0qW"
      },
      "execution_count": null,
      "outputs": []
    },
    {
      "cell_type": "code",
      "source": [
        "Donkey2_data = find_actor_two_datasets(train_data, validate_data, Donkey2)"
      ],
      "metadata": {
        "id": "Bgpcs5XBjJlW",
        "outputId": "b2453ac2-2353-4477-f0ec-3711c24eb895",
        "colab": {
          "base_uri": "https://localhost:8080/",
          "height": 426
        }
      },
      "execution_count": null,
      "outputs": [
        {
          "output_type": "display_data",
          "data": {
            "text/plain": [
              "                                                                      1410031\n",
              "nconst                                                              nm0836136\n",
              "tconst                      [tt0091096, tt0250103, tt0380636, tt0209445, t...\n",
              "category                                                                actor\n",
              "primaryName                                                       Jerzy Stuhr\n",
              "knownForTitles                   [tt0246593, tt0209445, tt0078763, tt0123889]\n",
              "no_nominations_oscars_norm                                                0.0\n",
              "no_nominations_globes_norm                                                0.0\n",
              "no_nominations_emmy_norm                                                  0.5\n",
              "no_films_norm                                                           0.005\n",
              "average_films_rating_norm                                               0.667\n",
              "genres_code                 [1, 1, 1, 1, 1, 0, 0, 0, 1, 1, 0, 0, 1, 1, 0, ...\n",
              "types_code                                  [1, 0, 1, 1, 1, 0, 1, 0, 0, 1, 0]"
            ],
            "text/html": [
              "\n",
              "  <div id=\"df-5a6a7091-ac73-4acf-87ee-fa1f9d2b6735\">\n",
              "    <div class=\"colab-df-container\">\n",
              "      <div>\n",
              "<style scoped>\n",
              "    .dataframe tbody tr th:only-of-type {\n",
              "        vertical-align: middle;\n",
              "    }\n",
              "\n",
              "    .dataframe tbody tr th {\n",
              "        vertical-align: top;\n",
              "    }\n",
              "\n",
              "    .dataframe thead th {\n",
              "        text-align: right;\n",
              "    }\n",
              "</style>\n",
              "<table border=\"1\" class=\"dataframe\">\n",
              "  <thead>\n",
              "    <tr style=\"text-align: right;\">\n",
              "      <th></th>\n",
              "      <th>1410031</th>\n",
              "    </tr>\n",
              "  </thead>\n",
              "  <tbody>\n",
              "    <tr>\n",
              "      <th>nconst</th>\n",
              "      <td>nm0836136</td>\n",
              "    </tr>\n",
              "    <tr>\n",
              "      <th>tconst</th>\n",
              "      <td>[tt0091096, tt0250103, tt0380636, tt0209445, t...</td>\n",
              "    </tr>\n",
              "    <tr>\n",
              "      <th>category</th>\n",
              "      <td>actor</td>\n",
              "    </tr>\n",
              "    <tr>\n",
              "      <th>primaryName</th>\n",
              "      <td>Jerzy Stuhr</td>\n",
              "    </tr>\n",
              "    <tr>\n",
              "      <th>knownForTitles</th>\n",
              "      <td>[tt0246593, tt0209445, tt0078763, tt0123889]</td>\n",
              "    </tr>\n",
              "    <tr>\n",
              "      <th>no_nominations_oscars_norm</th>\n",
              "      <td>0.0</td>\n",
              "    </tr>\n",
              "    <tr>\n",
              "      <th>no_nominations_globes_norm</th>\n",
              "      <td>0.0</td>\n",
              "    </tr>\n",
              "    <tr>\n",
              "      <th>no_nominations_emmy_norm</th>\n",
              "      <td>0.5</td>\n",
              "    </tr>\n",
              "    <tr>\n",
              "      <th>no_films_norm</th>\n",
              "      <td>0.005</td>\n",
              "    </tr>\n",
              "    <tr>\n",
              "      <th>average_films_rating_norm</th>\n",
              "      <td>0.667</td>\n",
              "    </tr>\n",
              "    <tr>\n",
              "      <th>genres_code</th>\n",
              "      <td>[1, 1, 1, 1, 1, 0, 0, 0, 1, 1, 0, 0, 1, 1, 0, ...</td>\n",
              "    </tr>\n",
              "    <tr>\n",
              "      <th>types_code</th>\n",
              "      <td>[1, 0, 1, 1, 1, 0, 1, 0, 0, 1, 0]</td>\n",
              "    </tr>\n",
              "  </tbody>\n",
              "</table>\n",
              "</div>\n",
              "      <button class=\"colab-df-convert\" onclick=\"convertToInteractive('df-5a6a7091-ac73-4acf-87ee-fa1f9d2b6735')\"\n",
              "              title=\"Convert this dataframe to an interactive table.\"\n",
              "              style=\"display:none;\">\n",
              "        \n",
              "  <svg xmlns=\"http://www.w3.org/2000/svg\" height=\"24px\"viewBox=\"0 0 24 24\"\n",
              "       width=\"24px\">\n",
              "    <path d=\"M0 0h24v24H0V0z\" fill=\"none\"/>\n",
              "    <path d=\"M18.56 5.44l.94 2.06.94-2.06 2.06-.94-2.06-.94-.94-2.06-.94 2.06-2.06.94zm-11 1L8.5 8.5l.94-2.06 2.06-.94-2.06-.94L8.5 2.5l-.94 2.06-2.06.94zm10 10l.94 2.06.94-2.06 2.06-.94-2.06-.94-.94-2.06-.94 2.06-2.06.94z\"/><path d=\"M17.41 7.96l-1.37-1.37c-.4-.4-.92-.59-1.43-.59-.52 0-1.04.2-1.43.59L10.3 9.45l-7.72 7.72c-.78.78-.78 2.05 0 2.83L4 21.41c.39.39.9.59 1.41.59.51 0 1.02-.2 1.41-.59l7.78-7.78 2.81-2.81c.8-.78.8-2.07 0-2.86zM5.41 20L4 18.59l7.72-7.72 1.47 1.35L5.41 20z\"/>\n",
              "  </svg>\n",
              "      </button>\n",
              "      \n",
              "  <style>\n",
              "    .colab-df-container {\n",
              "      display:flex;\n",
              "      flex-wrap:wrap;\n",
              "      gap: 12px;\n",
              "    }\n",
              "\n",
              "    .colab-df-convert {\n",
              "      background-color: #E8F0FE;\n",
              "      border: none;\n",
              "      border-radius: 50%;\n",
              "      cursor: pointer;\n",
              "      display: none;\n",
              "      fill: #1967D2;\n",
              "      height: 32px;\n",
              "      padding: 0 0 0 0;\n",
              "      width: 32px;\n",
              "    }\n",
              "\n",
              "    .colab-df-convert:hover {\n",
              "      background-color: #E2EBFA;\n",
              "      box-shadow: 0px 1px 2px rgba(60, 64, 67, 0.3), 0px 1px 3px 1px rgba(60, 64, 67, 0.15);\n",
              "      fill: #174EA6;\n",
              "    }\n",
              "\n",
              "    [theme=dark] .colab-df-convert {\n",
              "      background-color: #3B4455;\n",
              "      fill: #D2E3FC;\n",
              "    }\n",
              "\n",
              "    [theme=dark] .colab-df-convert:hover {\n",
              "      background-color: #434B5C;\n",
              "      box-shadow: 0px 1px 3px 1px rgba(0, 0, 0, 0.15);\n",
              "      filter: drop-shadow(0px 1px 2px rgba(0, 0, 0, 0.3));\n",
              "      fill: #FFFFFF;\n",
              "    }\n",
              "  </style>\n",
              "\n",
              "      <script>\n",
              "        const buttonEl =\n",
              "          document.querySelector('#df-5a6a7091-ac73-4acf-87ee-fa1f9d2b6735 button.colab-df-convert');\n",
              "        buttonEl.style.display =\n",
              "          google.colab.kernel.accessAllowed ? 'block' : 'none';\n",
              "\n",
              "        async function convertToInteractive(key) {\n",
              "          const element = document.querySelector('#df-5a6a7091-ac73-4acf-87ee-fa1f9d2b6735');\n",
              "          const dataTable =\n",
              "            await google.colab.kernel.invokeFunction('convertToInteractive',\n",
              "                                                     [key], {});\n",
              "          if (!dataTable) return;\n",
              "\n",
              "          const docLinkHtml = 'Like what you see? Visit the ' +\n",
              "            '<a target=\"_blank\" href=https://colab.research.google.com/notebooks/data_table.ipynb>data table notebook</a>'\n",
              "            + ' to learn more about interactive tables.';\n",
              "          element.innerHTML = '';\n",
              "          dataTable['output_type'] = 'display_data';\n",
              "          await google.colab.output.renderOutput(dataTable, element);\n",
              "          const docLink = document.createElement('div');\n",
              "          docLink.innerHTML = docLinkHtml;\n",
              "          element.appendChild(docLink);\n",
              "        }\n",
              "      </script>\n",
              "    </div>\n",
              "  </div>\n",
              "  "
            ]
          },
          "metadata": {}
        }
      ]
    },
    {
      "cell_type": "code",
      "source": [
        "if Donkey2 in list(train_data['nconst']):\n",
        "    ids, values = similarity_one_vs_all_new(train_data, Donkey2_data, True)\n",
        "    ids, values = select_top_similiar(ids, values, 3)\n",
        "    names = replace_ids_with_names(train_data, ids, 3)\n",
        "elif Donkey2 in list(validate_data['nconst']):\n",
        "    ids, values = similarity_one_vs_all_new(validate_data, Donkey2_data, True)\n",
        "    ids, values = select_top_similiar(ids, values, 3)\n",
        "    names = replace_ids_with_names(validate_data, ids, 3)\n",
        "ranking = print_top_similiar(Donkey2_data[3], names, values)"
      ],
      "metadata": {
        "id": "wxIiU7KdjWdn",
        "outputId": "04032a4e-c012-4383-8446-6d9fae313e3d",
        "colab": {
          "base_uri": "https://localhost:8080/"
        }
      },
      "execution_count": null,
      "outputs": [
        {
          "output_type": "stream",
          "name": "stdout",
          "text": [
            "Najbardziej podobnymi do Jerzy Stuhr aktorami/aktorkami są w kolejności:\n",
            "  - Leslie Carlson z similarity równym: 0.324\n",
            "  - R. Keith Harris z similarity równym: 0.32\n",
            "  - Peter MacNicol z similarity równym: 0.32\n"
          ]
        }
      ]
    },
    {
      "cell_type": "code",
      "source": [
        "file_object = open(RANKINGS, 'a')\n",
        "text = \"Najbardziej podobni do {}:\\n- {}, similarity: {}\\n- {}, similarity: {}\\n- {}, similarity: {}\\n\".format(Donkey2[3], names[0], values[0], names[1], values[1], names[2], values[2])\n",
        "file_object.write(text)\n",
        "file_object.close()"
      ],
      "metadata": {
        "id": "bvpzu8szjgdx"
      },
      "execution_count": null,
      "outputs": []
    },
    {
      "cell_type": "code",
      "source": [
        "similarity_value = similarity_new(Donkey2_data, Donkey1_data, True)\n",
        "print(\"Wartość similarity dla \", Donkey2_data[3], \" i \", Donkey1_data[3], \" wynosi: \", similarity_value)"
      ],
      "metadata": {
        "id": "H2obt2JPjtaI",
        "outputId": "18b37aec-7439-4596-c4c3-b80322d05760",
        "colab": {
          "base_uri": "https://localhost:8080/"
        }
      },
      "execution_count": null,
      "outputs": [
        {
          "output_type": "stream",
          "name": "stdout",
          "text": [
            "Wartość similarity dla  Jerzy Stuhr  i  Eddie Murphy  wynosi:  0.17999592476489035\n"
          ]
        }
      ]
    },
    {
      "cell_type": "code",
      "source": [
        "file_object = open(SIMILARITY_VALUES, 'a')\n",
        "text = \"{}, {}, similarity value: {}\\n\".format(Donkey2_data[3], Donkey1_data[3], similarity_value)\n",
        "file_object.write(text)\n",
        "file_object.close()"
      ],
      "metadata": {
        "id": "wFgmuGSaj5On"
      },
      "execution_count": null,
      "outputs": []
    },
    {
      "cell_type": "code",
      "source": [
        "Mufasa1 = \"nm0000469\""
      ],
      "metadata": {
        "id": "cdKtBixqkBjg"
      },
      "execution_count": null,
      "outputs": []
    },
    {
      "cell_type": "code",
      "source": [
        "Mufasa1_data = find_actor_two_datasets(train_data, validate_data, Mufasa1)"
      ],
      "metadata": {
        "id": "GT7n2QuLldG3",
        "outputId": "a15f6492-64b4-4e2e-d2dd-f4c9f9bf86e0",
        "colab": {
          "base_uri": "https://localhost:8080/",
          "height": 426
        }
      },
      "execution_count": null,
      "outputs": [
        {
          "output_type": "display_data",
          "data": {
            "text/plain": [
              "                                                                      1131662\n",
              "nconst                                                              nm0000469\n",
              "tconst                      [tt0082212, tt0092534, tt0104215, tt0110357, t...\n",
              "category                                                                actor\n",
              "primaryName                                                  James Earl Jones\n",
              "knownForTitles                   [tt0094898, tt0099810, tt3748528, tt6105098]\n",
              "no_nominations_oscars_norm                                              0.023\n",
              "no_nominations_globes_norm                                              0.217\n",
              "no_nominations_emmy_norm                                                  0.5\n",
              "no_films_norm                                                           0.019\n",
              "average_films_rating_norm                                               0.681\n",
              "genres_code                 [1, 1, 1, 1, 1, 1, 1, 0, 1, 1, 0, 0, 1, 1, 0, ...\n",
              "types_code                                  [1, 1, 1, 1, 1, 1, 1, 1, 0, 1, 0]"
            ],
            "text/html": [
              "\n",
              "  <div id=\"df-84ff2e5d-64fa-4192-be6f-5fdd43db7663\">\n",
              "    <div class=\"colab-df-container\">\n",
              "      <div>\n",
              "<style scoped>\n",
              "    .dataframe tbody tr th:only-of-type {\n",
              "        vertical-align: middle;\n",
              "    }\n",
              "\n",
              "    .dataframe tbody tr th {\n",
              "        vertical-align: top;\n",
              "    }\n",
              "\n",
              "    .dataframe thead th {\n",
              "        text-align: right;\n",
              "    }\n",
              "</style>\n",
              "<table border=\"1\" class=\"dataframe\">\n",
              "  <thead>\n",
              "    <tr style=\"text-align: right;\">\n",
              "      <th></th>\n",
              "      <th>1131662</th>\n",
              "    </tr>\n",
              "  </thead>\n",
              "  <tbody>\n",
              "    <tr>\n",
              "      <th>nconst</th>\n",
              "      <td>nm0000469</td>\n",
              "    </tr>\n",
              "    <tr>\n",
              "      <th>tconst</th>\n",
              "      <td>[tt0082212, tt0092534, tt0104215, tt0110357, t...</td>\n",
              "    </tr>\n",
              "    <tr>\n",
              "      <th>category</th>\n",
              "      <td>actor</td>\n",
              "    </tr>\n",
              "    <tr>\n",
              "      <th>primaryName</th>\n",
              "      <td>James Earl Jones</td>\n",
              "    </tr>\n",
              "    <tr>\n",
              "      <th>knownForTitles</th>\n",
              "      <td>[tt0094898, tt0099810, tt3748528, tt6105098]</td>\n",
              "    </tr>\n",
              "    <tr>\n",
              "      <th>no_nominations_oscars_norm</th>\n",
              "      <td>0.023</td>\n",
              "    </tr>\n",
              "    <tr>\n",
              "      <th>no_nominations_globes_norm</th>\n",
              "      <td>0.217</td>\n",
              "    </tr>\n",
              "    <tr>\n",
              "      <th>no_nominations_emmy_norm</th>\n",
              "      <td>0.5</td>\n",
              "    </tr>\n",
              "    <tr>\n",
              "      <th>no_films_norm</th>\n",
              "      <td>0.019</td>\n",
              "    </tr>\n",
              "    <tr>\n",
              "      <th>average_films_rating_norm</th>\n",
              "      <td>0.681</td>\n",
              "    </tr>\n",
              "    <tr>\n",
              "      <th>genres_code</th>\n",
              "      <td>[1, 1, 1, 1, 1, 1, 1, 0, 1, 1, 0, 0, 1, 1, 0, ...</td>\n",
              "    </tr>\n",
              "    <tr>\n",
              "      <th>types_code</th>\n",
              "      <td>[1, 1, 1, 1, 1, 1, 1, 1, 0, 1, 0]</td>\n",
              "    </tr>\n",
              "  </tbody>\n",
              "</table>\n",
              "</div>\n",
              "      <button class=\"colab-df-convert\" onclick=\"convertToInteractive('df-84ff2e5d-64fa-4192-be6f-5fdd43db7663')\"\n",
              "              title=\"Convert this dataframe to an interactive table.\"\n",
              "              style=\"display:none;\">\n",
              "        \n",
              "  <svg xmlns=\"http://www.w3.org/2000/svg\" height=\"24px\"viewBox=\"0 0 24 24\"\n",
              "       width=\"24px\">\n",
              "    <path d=\"M0 0h24v24H0V0z\" fill=\"none\"/>\n",
              "    <path d=\"M18.56 5.44l.94 2.06.94-2.06 2.06-.94-2.06-.94-.94-2.06-.94 2.06-2.06.94zm-11 1L8.5 8.5l.94-2.06 2.06-.94-2.06-.94L8.5 2.5l-.94 2.06-2.06.94zm10 10l.94 2.06.94-2.06 2.06-.94-2.06-.94-.94-2.06-.94 2.06-2.06.94z\"/><path d=\"M17.41 7.96l-1.37-1.37c-.4-.4-.92-.59-1.43-.59-.52 0-1.04.2-1.43.59L10.3 9.45l-7.72 7.72c-.78.78-.78 2.05 0 2.83L4 21.41c.39.39.9.59 1.41.59.51 0 1.02-.2 1.41-.59l7.78-7.78 2.81-2.81c.8-.78.8-2.07 0-2.86zM5.41 20L4 18.59l7.72-7.72 1.47 1.35L5.41 20z\"/>\n",
              "  </svg>\n",
              "      </button>\n",
              "      \n",
              "  <style>\n",
              "    .colab-df-container {\n",
              "      display:flex;\n",
              "      flex-wrap:wrap;\n",
              "      gap: 12px;\n",
              "    }\n",
              "\n",
              "    .colab-df-convert {\n",
              "      background-color: #E8F0FE;\n",
              "      border: none;\n",
              "      border-radius: 50%;\n",
              "      cursor: pointer;\n",
              "      display: none;\n",
              "      fill: #1967D2;\n",
              "      height: 32px;\n",
              "      padding: 0 0 0 0;\n",
              "      width: 32px;\n",
              "    }\n",
              "\n",
              "    .colab-df-convert:hover {\n",
              "      background-color: #E2EBFA;\n",
              "      box-shadow: 0px 1px 2px rgba(60, 64, 67, 0.3), 0px 1px 3px 1px rgba(60, 64, 67, 0.15);\n",
              "      fill: #174EA6;\n",
              "    }\n",
              "\n",
              "    [theme=dark] .colab-df-convert {\n",
              "      background-color: #3B4455;\n",
              "      fill: #D2E3FC;\n",
              "    }\n",
              "\n",
              "    [theme=dark] .colab-df-convert:hover {\n",
              "      background-color: #434B5C;\n",
              "      box-shadow: 0px 1px 3px 1px rgba(0, 0, 0, 0.15);\n",
              "      filter: drop-shadow(0px 1px 2px rgba(0, 0, 0, 0.3));\n",
              "      fill: #FFFFFF;\n",
              "    }\n",
              "  </style>\n",
              "\n",
              "      <script>\n",
              "        const buttonEl =\n",
              "          document.querySelector('#df-84ff2e5d-64fa-4192-be6f-5fdd43db7663 button.colab-df-convert');\n",
              "        buttonEl.style.display =\n",
              "          google.colab.kernel.accessAllowed ? 'block' : 'none';\n",
              "\n",
              "        async function convertToInteractive(key) {\n",
              "          const element = document.querySelector('#df-84ff2e5d-64fa-4192-be6f-5fdd43db7663');\n",
              "          const dataTable =\n",
              "            await google.colab.kernel.invokeFunction('convertToInteractive',\n",
              "                                                     [key], {});\n",
              "          if (!dataTable) return;\n",
              "\n",
              "          const docLinkHtml = 'Like what you see? Visit the ' +\n",
              "            '<a target=\"_blank\" href=https://colab.research.google.com/notebooks/data_table.ipynb>data table notebook</a>'\n",
              "            + ' to learn more about interactive tables.';\n",
              "          element.innerHTML = '';\n",
              "          dataTable['output_type'] = 'display_data';\n",
              "          await google.colab.output.renderOutput(dataTable, element);\n",
              "          const docLink = document.createElement('div');\n",
              "          docLink.innerHTML = docLinkHtml;\n",
              "          element.appendChild(docLink);\n",
              "        }\n",
              "      </script>\n",
              "    </div>\n",
              "  </div>\n",
              "  "
            ]
          },
          "metadata": {}
        }
      ]
    },
    {
      "cell_type": "code",
      "source": [
        "if Mufasa1 in list(train_data['nconst']):\n",
        "    ids, values = similarity_one_vs_all_new(train_data, Mufasa1_data, True)\n",
        "    ids, values = select_top_similiar(ids, values, 3)\n",
        "    names = replace_ids_with_names(train_data, ids, 3)\n",
        "elif Mufasa1 in list(validate_data['nconst']):\n",
        "    ids, values = similarity_one_vs_all_new(validate_data, Mufasa1_data, True)\n",
        "    ids, values = select_top_similiar(ids, values, 3)\n",
        "    names = replace_ids_with_names(validate_data, ids, 3)\n",
        "ranking = print_top_similiar(Mufasa1_data[3], names, values)"
      ],
      "metadata": {
        "id": "3_vkhoh0m3lp",
        "outputId": "c1d3579b-e2ae-4dba-fa92-79e56729a552",
        "colab": {
          "base_uri": "https://localhost:8080/"
        }
      },
      "execution_count": null,
      "outputs": [
        {
          "output_type": "stream",
          "name": "stdout",
          "text": [
            "Najbardziej podobnymi do James Earl Jones aktorami/aktorkami są w kolejności:\n",
            "  - Jimmy Smits z similarity równym: 0.302\n",
            "  - Alec Baldwin z similarity równym: 0.302\n",
            "  - Ed Harris z similarity równym: 0.299\n"
          ]
        }
      ]
    },
    {
      "cell_type": "code",
      "source": [
        "file_object = open(RANKINGS, 'a')\n",
        "text = \"Najbardziej podobni do {}:\\n- {}, similarity: {}\\n- {}, similarity: {}\\n- {}, similarity: {}\\n\".format(Mufasa1[3], names[0], values[0], names[1], values[1], names[2], values[2])\n",
        "file_object.write(text)\n",
        "file_object.close()"
      ],
      "metadata": {
        "id": "bsTJ1RH_nGT6"
      },
      "execution_count": null,
      "outputs": []
    },
    {
      "cell_type": "code",
      "source": [
        "Mufasa2 = \"nm0953975\""
      ],
      "metadata": {
        "id": "6wYwmBDxnVnE"
      },
      "execution_count": null,
      "outputs": []
    },
    {
      "cell_type": "code",
      "source": [
        "Mufasa2_data = find_actor_two_datasets(train_data, validate_data, Mufasa2)"
      ],
      "metadata": {
        "id": "jTWc6kwPnimf",
        "outputId": "7ac72f75-46f5-42dc-8cb8-2511f980bd3e",
        "colab": {
          "base_uri": "https://localhost:8080/",
          "height": 426
        }
      },
      "execution_count": null,
      "outputs": [
        {
          "output_type": "display_data",
          "data": {
            "text/plain": [
              "                                                                       259073\n",
              "nconst                                                              nm0953975\n",
              "tconst                      [tt0551824, tt0965545, tt10395818, tt14330772,...\n",
              "category                                                                actor\n",
              "primaryName                                                  Wiktor Zborowski\n",
              "knownForTitles                   [tt0102242, tt0343292, tt0173562, tt0128378]\n",
              "no_nominations_oscars_norm                                                0.0\n",
              "no_nominations_globes_norm                                                0.0\n",
              "no_nominations_emmy_norm                                                  0.5\n",
              "no_films_norm                                                           0.004\n",
              "average_films_rating_norm                                                0.58\n",
              "genres_code                 [1, 0, 0, 1, 1, 1, 0, 0, 0, 1, 0, 0, 1, 1, 0, ...\n",
              "types_code                                  [1, 1, 0, 1, 1, 0, 1, 0, 0, 1, 0]"
            ],
            "text/html": [
              "\n",
              "  <div id=\"df-bd5e2ea3-2bc6-470e-b391-a63509f5aa86\">\n",
              "    <div class=\"colab-df-container\">\n",
              "      <div>\n",
              "<style scoped>\n",
              "    .dataframe tbody tr th:only-of-type {\n",
              "        vertical-align: middle;\n",
              "    }\n",
              "\n",
              "    .dataframe tbody tr th {\n",
              "        vertical-align: top;\n",
              "    }\n",
              "\n",
              "    .dataframe thead th {\n",
              "        text-align: right;\n",
              "    }\n",
              "</style>\n",
              "<table border=\"1\" class=\"dataframe\">\n",
              "  <thead>\n",
              "    <tr style=\"text-align: right;\">\n",
              "      <th></th>\n",
              "      <th>259073</th>\n",
              "    </tr>\n",
              "  </thead>\n",
              "  <tbody>\n",
              "    <tr>\n",
              "      <th>nconst</th>\n",
              "      <td>nm0953975</td>\n",
              "    </tr>\n",
              "    <tr>\n",
              "      <th>tconst</th>\n",
              "      <td>[tt0551824, tt0965545, tt10395818, tt14330772,...</td>\n",
              "    </tr>\n",
              "    <tr>\n",
              "      <th>category</th>\n",
              "      <td>actor</td>\n",
              "    </tr>\n",
              "    <tr>\n",
              "      <th>primaryName</th>\n",
              "      <td>Wiktor Zborowski</td>\n",
              "    </tr>\n",
              "    <tr>\n",
              "      <th>knownForTitles</th>\n",
              "      <td>[tt0102242, tt0343292, tt0173562, tt0128378]</td>\n",
              "    </tr>\n",
              "    <tr>\n",
              "      <th>no_nominations_oscars_norm</th>\n",
              "      <td>0.0</td>\n",
              "    </tr>\n",
              "    <tr>\n",
              "      <th>no_nominations_globes_norm</th>\n",
              "      <td>0.0</td>\n",
              "    </tr>\n",
              "    <tr>\n",
              "      <th>no_nominations_emmy_norm</th>\n",
              "      <td>0.5</td>\n",
              "    </tr>\n",
              "    <tr>\n",
              "      <th>no_films_norm</th>\n",
              "      <td>0.004</td>\n",
              "    </tr>\n",
              "    <tr>\n",
              "      <th>average_films_rating_norm</th>\n",
              "      <td>0.58</td>\n",
              "    </tr>\n",
              "    <tr>\n",
              "      <th>genres_code</th>\n",
              "      <td>[1, 0, 0, 1, 1, 1, 0, 0, 0, 1, 0, 0, 1, 1, 0, ...</td>\n",
              "    </tr>\n",
              "    <tr>\n",
              "      <th>types_code</th>\n",
              "      <td>[1, 1, 0, 1, 1, 0, 1, 0, 0, 1, 0]</td>\n",
              "    </tr>\n",
              "  </tbody>\n",
              "</table>\n",
              "</div>\n",
              "      <button class=\"colab-df-convert\" onclick=\"convertToInteractive('df-bd5e2ea3-2bc6-470e-b391-a63509f5aa86')\"\n",
              "              title=\"Convert this dataframe to an interactive table.\"\n",
              "              style=\"display:none;\">\n",
              "        \n",
              "  <svg xmlns=\"http://www.w3.org/2000/svg\" height=\"24px\"viewBox=\"0 0 24 24\"\n",
              "       width=\"24px\">\n",
              "    <path d=\"M0 0h24v24H0V0z\" fill=\"none\"/>\n",
              "    <path d=\"M18.56 5.44l.94 2.06.94-2.06 2.06-.94-2.06-.94-.94-2.06-.94 2.06-2.06.94zm-11 1L8.5 8.5l.94-2.06 2.06-.94-2.06-.94L8.5 2.5l-.94 2.06-2.06.94zm10 10l.94 2.06.94-2.06 2.06-.94-2.06-.94-.94-2.06-.94 2.06-2.06.94z\"/><path d=\"M17.41 7.96l-1.37-1.37c-.4-.4-.92-.59-1.43-.59-.52 0-1.04.2-1.43.59L10.3 9.45l-7.72 7.72c-.78.78-.78 2.05 0 2.83L4 21.41c.39.39.9.59 1.41.59.51 0 1.02-.2 1.41-.59l7.78-7.78 2.81-2.81c.8-.78.8-2.07 0-2.86zM5.41 20L4 18.59l7.72-7.72 1.47 1.35L5.41 20z\"/>\n",
              "  </svg>\n",
              "      </button>\n",
              "      \n",
              "  <style>\n",
              "    .colab-df-container {\n",
              "      display:flex;\n",
              "      flex-wrap:wrap;\n",
              "      gap: 12px;\n",
              "    }\n",
              "\n",
              "    .colab-df-convert {\n",
              "      background-color: #E8F0FE;\n",
              "      border: none;\n",
              "      border-radius: 50%;\n",
              "      cursor: pointer;\n",
              "      display: none;\n",
              "      fill: #1967D2;\n",
              "      height: 32px;\n",
              "      padding: 0 0 0 0;\n",
              "      width: 32px;\n",
              "    }\n",
              "\n",
              "    .colab-df-convert:hover {\n",
              "      background-color: #E2EBFA;\n",
              "      box-shadow: 0px 1px 2px rgba(60, 64, 67, 0.3), 0px 1px 3px 1px rgba(60, 64, 67, 0.15);\n",
              "      fill: #174EA6;\n",
              "    }\n",
              "\n",
              "    [theme=dark] .colab-df-convert {\n",
              "      background-color: #3B4455;\n",
              "      fill: #D2E3FC;\n",
              "    }\n",
              "\n",
              "    [theme=dark] .colab-df-convert:hover {\n",
              "      background-color: #434B5C;\n",
              "      box-shadow: 0px 1px 3px 1px rgba(0, 0, 0, 0.15);\n",
              "      filter: drop-shadow(0px 1px 2px rgba(0, 0, 0, 0.3));\n",
              "      fill: #FFFFFF;\n",
              "    }\n",
              "  </style>\n",
              "\n",
              "      <script>\n",
              "        const buttonEl =\n",
              "          document.querySelector('#df-bd5e2ea3-2bc6-470e-b391-a63509f5aa86 button.colab-df-convert');\n",
              "        buttonEl.style.display =\n",
              "          google.colab.kernel.accessAllowed ? 'block' : 'none';\n",
              "\n",
              "        async function convertToInteractive(key) {\n",
              "          const element = document.querySelector('#df-bd5e2ea3-2bc6-470e-b391-a63509f5aa86');\n",
              "          const dataTable =\n",
              "            await google.colab.kernel.invokeFunction('convertToInteractive',\n",
              "                                                     [key], {});\n",
              "          if (!dataTable) return;\n",
              "\n",
              "          const docLinkHtml = 'Like what you see? Visit the ' +\n",
              "            '<a target=\"_blank\" href=https://colab.research.google.com/notebooks/data_table.ipynb>data table notebook</a>'\n",
              "            + ' to learn more about interactive tables.';\n",
              "          element.innerHTML = '';\n",
              "          dataTable['output_type'] = 'display_data';\n",
              "          await google.colab.output.renderOutput(dataTable, element);\n",
              "          const docLink = document.createElement('div');\n",
              "          docLink.innerHTML = docLinkHtml;\n",
              "          element.appendChild(docLink);\n",
              "        }\n",
              "      </script>\n",
              "    </div>\n",
              "  </div>\n",
              "  "
            ]
          },
          "metadata": {}
        }
      ]
    },
    {
      "cell_type": "code",
      "source": [
        "if Mufasa2 in list(train_data['nconst']):\n",
        "    ids, values = similarity_one_vs_all_new(train_data, Mufasa2_data, True)\n",
        "    ids, values = select_top_similiar(ids, values, 3)\n",
        "    names = replace_ids_with_names(train_data, ids, 3)\n",
        "elif Mufasa2 in list(validate_data['nconst']):\n",
        "    ids, values = similarity_one_vs_all_new(validate_data, Mufasa2_data, True)\n",
        "    ids, values = select_top_similiar(ids, values, 3)\n",
        "    names = replace_ids_with_names(validate_data, ids, 3)\n",
        "ranking = print_top_similiar(Mufasa2_data[3], names, values)"
      ],
      "metadata": {
        "id": "6eAuVUoZnndK",
        "outputId": "3c078cc1-46e9-47cd-cf68-4f32482ab0fa",
        "colab": {
          "base_uri": "https://localhost:8080/"
        }
      },
      "execution_count": null,
      "outputs": [
        {
          "output_type": "stream",
          "name": "stdout",
          "text": [
            "Najbardziej podobnymi do Wiktor Zborowski aktorami/aktorkami są w kolejności:\n",
            "  - Ryszard Jablonski z similarity równym: 0.292\n",
            "  - Maciej Stuhr z similarity równym: 0.289\n",
            "  - Gustaw Lutkiewicz z similarity równym: 0.284\n"
          ]
        }
      ]
    },
    {
      "cell_type": "code",
      "source": [
        "file_object = open(RANKINGS, 'a')\n",
        "text = \"Najbardziej podobni do {}:\\n- {}, similarity: {}\\n- {}, similarity: {}\\n- {}, similarity: {}\\n\".format(Mufasa2[3], names[0], values[0], names[1], values[1], names[2], values[2])\n",
        "file_object.write(text)\n",
        "file_object.close()"
      ],
      "metadata": {
        "id": "PNzqu9-Dn1Z7"
      },
      "execution_count": null,
      "outputs": []
    },
    {
      "cell_type": "code",
      "source": [
        "similarity_value = similarity_new(Mufasa2_data, Mufasa1_data, True)\n",
        "print(\"Wartość similarity dla \", Mufasa2_data[3], \" i \", Mufasa1_data[3], \" wynosi: \", similarity_value)"
      ],
      "metadata": {
        "id": "ao5rOP3on7MI",
        "outputId": "15afb9cb-427d-4adf-dc02-7312c94e3b76",
        "colab": {
          "base_uri": "https://localhost:8080/"
        }
      },
      "execution_count": null,
      "outputs": [
        {
          "output_type": "stream",
          "name": "stdout",
          "text": [
            "Wartość similarity dla  Wiktor Zborowski  i  James Earl Jones  wynosi:  0.10012871473354235\n"
          ]
        }
      ]
    },
    {
      "cell_type": "code",
      "source": [
        "file_object = open(SIMILARITY_VALUES, 'a')\n",
        "text = \"{}, {}, similarity value: {}\\n\".format(Mufasa2_data[3], Mufasa1_data[3], similarity_value)\n",
        "file_object.write(text)\n",
        "file_object.close()"
      ],
      "metadata": {
        "id": "H5bMW4xUoUbK"
      },
      "execution_count": null,
      "outputs": []
    },
    {
      "cell_type": "markdown",
      "source": [
        "#Znani z filmów walki"
      ],
      "metadata": {
        "id": "eeH_r0G8oiz5"
      }
    },
    {
      "cell_type": "code",
      "source": [
        "Bruce_Lee = \"nm0000045\""
      ],
      "metadata": {
        "id": "y6qrKQnjom1z"
      },
      "execution_count": 14,
      "outputs": []
    },
    {
      "cell_type": "code",
      "source": [
        "Bruce_Lee_data = find_actor_two_datasets(train_data, validate_data, Bruce_Lee)"
      ],
      "metadata": {
        "id": "1DgoXHNOoyTW",
        "outputId": "c9772e68-8b14-4ab8-c17b-03e9118ba314",
        "colab": {
          "base_uri": "https://localhost:8080/",
          "height": 426
        }
      },
      "execution_count": 15,
      "outputs": [
        {
          "output_type": "display_data",
          "data": {
            "text/plain": [
              "                                                                      1746144\n",
              "nconst                                                              nm0000045\n",
              "tconst                      [tt0066681, tt0193289, tt0592818, tt0592819, t...\n",
              "category                                                                actor\n",
              "primaryName                                                         Bruce Lee\n",
              "knownForTitles                   [tt0070034, tt0068767, tt0067824, tt0068935]\n",
              "no_nominations_oscars_norm                                                0.0\n",
              "no_nominations_globes_norm                                                0.0\n",
              "no_nominations_emmy_norm                                                  0.5\n",
              "no_films_norm                                                           0.004\n",
              "average_films_rating_norm                                               0.723\n",
              "genres_code                 [1, 1, 0, 1, 1, 0, 0, 0, 1, 0, 0, 0, 0, 0, 0, ...\n",
              "types_code                                  [1, 0, 0, 1, 1, 0, 0, 0, 0, 0, 0]"
            ],
            "text/html": [
              "\n",
              "  <div id=\"df-6057974c-e3c0-4bc1-978b-dc96644f805e\">\n",
              "    <div class=\"colab-df-container\">\n",
              "      <div>\n",
              "<style scoped>\n",
              "    .dataframe tbody tr th:only-of-type {\n",
              "        vertical-align: middle;\n",
              "    }\n",
              "\n",
              "    .dataframe tbody tr th {\n",
              "        vertical-align: top;\n",
              "    }\n",
              "\n",
              "    .dataframe thead th {\n",
              "        text-align: right;\n",
              "    }\n",
              "</style>\n",
              "<table border=\"1\" class=\"dataframe\">\n",
              "  <thead>\n",
              "    <tr style=\"text-align: right;\">\n",
              "      <th></th>\n",
              "      <th>1746144</th>\n",
              "    </tr>\n",
              "  </thead>\n",
              "  <tbody>\n",
              "    <tr>\n",
              "      <th>nconst</th>\n",
              "      <td>nm0000045</td>\n",
              "    </tr>\n",
              "    <tr>\n",
              "      <th>tconst</th>\n",
              "      <td>[tt0066681, tt0193289, tt0592818, tt0592819, t...</td>\n",
              "    </tr>\n",
              "    <tr>\n",
              "      <th>category</th>\n",
              "      <td>actor</td>\n",
              "    </tr>\n",
              "    <tr>\n",
              "      <th>primaryName</th>\n",
              "      <td>Bruce Lee</td>\n",
              "    </tr>\n",
              "    <tr>\n",
              "      <th>knownForTitles</th>\n",
              "      <td>[tt0070034, tt0068767, tt0067824, tt0068935]</td>\n",
              "    </tr>\n",
              "    <tr>\n",
              "      <th>no_nominations_oscars_norm</th>\n",
              "      <td>0.0</td>\n",
              "    </tr>\n",
              "    <tr>\n",
              "      <th>no_nominations_globes_norm</th>\n",
              "      <td>0.0</td>\n",
              "    </tr>\n",
              "    <tr>\n",
              "      <th>no_nominations_emmy_norm</th>\n",
              "      <td>0.5</td>\n",
              "    </tr>\n",
              "    <tr>\n",
              "      <th>no_films_norm</th>\n",
              "      <td>0.004</td>\n",
              "    </tr>\n",
              "    <tr>\n",
              "      <th>average_films_rating_norm</th>\n",
              "      <td>0.723</td>\n",
              "    </tr>\n",
              "    <tr>\n",
              "      <th>genres_code</th>\n",
              "      <td>[1, 1, 0, 1, 1, 0, 0, 0, 1, 0, 0, 0, 0, 0, 0, ...</td>\n",
              "    </tr>\n",
              "    <tr>\n",
              "      <th>types_code</th>\n",
              "      <td>[1, 0, 0, 1, 1, 0, 0, 0, 0, 0, 0]</td>\n",
              "    </tr>\n",
              "  </tbody>\n",
              "</table>\n",
              "</div>\n",
              "      <button class=\"colab-df-convert\" onclick=\"convertToInteractive('df-6057974c-e3c0-4bc1-978b-dc96644f805e')\"\n",
              "              title=\"Convert this dataframe to an interactive table.\"\n",
              "              style=\"display:none;\">\n",
              "        \n",
              "  <svg xmlns=\"http://www.w3.org/2000/svg\" height=\"24px\"viewBox=\"0 0 24 24\"\n",
              "       width=\"24px\">\n",
              "    <path d=\"M0 0h24v24H0V0z\" fill=\"none\"/>\n",
              "    <path d=\"M18.56 5.44l.94 2.06.94-2.06 2.06-.94-2.06-.94-.94-2.06-.94 2.06-2.06.94zm-11 1L8.5 8.5l.94-2.06 2.06-.94-2.06-.94L8.5 2.5l-.94 2.06-2.06.94zm10 10l.94 2.06.94-2.06 2.06-.94-2.06-.94-.94-2.06-.94 2.06-2.06.94z\"/><path d=\"M17.41 7.96l-1.37-1.37c-.4-.4-.92-.59-1.43-.59-.52 0-1.04.2-1.43.59L10.3 9.45l-7.72 7.72c-.78.78-.78 2.05 0 2.83L4 21.41c.39.39.9.59 1.41.59.51 0 1.02-.2 1.41-.59l7.78-7.78 2.81-2.81c.8-.78.8-2.07 0-2.86zM5.41 20L4 18.59l7.72-7.72 1.47 1.35L5.41 20z\"/>\n",
              "  </svg>\n",
              "      </button>\n",
              "      \n",
              "  <style>\n",
              "    .colab-df-container {\n",
              "      display:flex;\n",
              "      flex-wrap:wrap;\n",
              "      gap: 12px;\n",
              "    }\n",
              "\n",
              "    .colab-df-convert {\n",
              "      background-color: #E8F0FE;\n",
              "      border: none;\n",
              "      border-radius: 50%;\n",
              "      cursor: pointer;\n",
              "      display: none;\n",
              "      fill: #1967D2;\n",
              "      height: 32px;\n",
              "      padding: 0 0 0 0;\n",
              "      width: 32px;\n",
              "    }\n",
              "\n",
              "    .colab-df-convert:hover {\n",
              "      background-color: #E2EBFA;\n",
              "      box-shadow: 0px 1px 2px rgba(60, 64, 67, 0.3), 0px 1px 3px 1px rgba(60, 64, 67, 0.15);\n",
              "      fill: #174EA6;\n",
              "    }\n",
              "\n",
              "    [theme=dark] .colab-df-convert {\n",
              "      background-color: #3B4455;\n",
              "      fill: #D2E3FC;\n",
              "    }\n",
              "\n",
              "    [theme=dark] .colab-df-convert:hover {\n",
              "      background-color: #434B5C;\n",
              "      box-shadow: 0px 1px 3px 1px rgba(0, 0, 0, 0.15);\n",
              "      filter: drop-shadow(0px 1px 2px rgba(0, 0, 0, 0.3));\n",
              "      fill: #FFFFFF;\n",
              "    }\n",
              "  </style>\n",
              "\n",
              "      <script>\n",
              "        const buttonEl =\n",
              "          document.querySelector('#df-6057974c-e3c0-4bc1-978b-dc96644f805e button.colab-df-convert');\n",
              "        buttonEl.style.display =\n",
              "          google.colab.kernel.accessAllowed ? 'block' : 'none';\n",
              "\n",
              "        async function convertToInteractive(key) {\n",
              "          const element = document.querySelector('#df-6057974c-e3c0-4bc1-978b-dc96644f805e');\n",
              "          const dataTable =\n",
              "            await google.colab.kernel.invokeFunction('convertToInteractive',\n",
              "                                                     [key], {});\n",
              "          if (!dataTable) return;\n",
              "\n",
              "          const docLinkHtml = 'Like what you see? Visit the ' +\n",
              "            '<a target=\"_blank\" href=https://colab.research.google.com/notebooks/data_table.ipynb>data table notebook</a>'\n",
              "            + ' to learn more about interactive tables.';\n",
              "          element.innerHTML = '';\n",
              "          dataTable['output_type'] = 'display_data';\n",
              "          await google.colab.output.renderOutput(dataTable, element);\n",
              "          const docLink = document.createElement('div');\n",
              "          docLink.innerHTML = docLinkHtml;\n",
              "          element.appendChild(docLink);\n",
              "        }\n",
              "      </script>\n",
              "    </div>\n",
              "  </div>\n",
              "  "
            ]
          },
          "metadata": {}
        }
      ]
    },
    {
      "cell_type": "code",
      "source": [
        "if Bruce_Lee in list(train_data['nconst']):\n",
        "    ids, values = similarity_one_vs_all_new(train_data, Bruce_Lee_data, True)\n",
        "    ids, values = select_top_similiar(ids, values, 3)\n",
        "    names = replace_ids_with_names(train_data, ids, 3)\n",
        "elif Bruce_Lee in list(validate_data['nconst']):\n",
        "    ids, values = similarity_one_vs_all_new(validate_data, Bruce_Lee_data, True)\n",
        "    ids, values = select_top_similiar(ids, values, 3)\n",
        "    names = replace_ids_with_names(validate_data, ids, 3)\n",
        "ranking = print_top_similiar(Bruce_Lee_data[3], names, values)"
      ],
      "metadata": {
        "id": "Wj_Fhp52o87O",
        "outputId": "058234a3-be19-4bdf-a792-392bb15602fa",
        "colab": {
          "base_uri": "https://localhost:8080/"
        }
      },
      "execution_count": null,
      "outputs": [
        {
          "output_type": "stream",
          "name": "stdout",
          "text": [
            "Najbardziej podobnymi do Bruce Lee aktorami/aktorkami są w kolejności:\n",
            "  - Wende Wagner z similarity równym: 0.437\n",
            "  - Lloyd Gough z similarity równym: 0.369\n",
            "  - Nora Miao z similarity równym: 0.355\n"
          ]
        }
      ]
    },
    {
      "cell_type": "code",
      "source": [
        "file_object = open(RANKINGS, 'a')\n",
        "text = \"Najbardziej podobni do {}:\\n- {}, similarity: {}\\n- {}, similarity: {}\\n- {}, similarity: {}\\n\".format(Bruce_Lee[3], names[0], values[0], names[1], values[1], names[2], values[2])\n",
        "file_object.write(text)\n",
        "file_object.close()"
      ],
      "metadata": {
        "id": "CcOaFVw8pT2g"
      },
      "execution_count": null,
      "outputs": []
    },
    {
      "cell_type": "code",
      "source": [
        "Chuck_Norris = \"nm0001569\""
      ],
      "metadata": {
        "id": "gipQ5SQNpeTX"
      },
      "execution_count": 12,
      "outputs": []
    },
    {
      "cell_type": "code",
      "source": [
        "Chuck_Norris_data = find_actor_two_datasets(train_data, validate_data, Chuck_Norris)"
      ],
      "metadata": {
        "id": "U9qknhOPpq9N",
        "outputId": "d8258616-8885-45a2-ed20-95e3749307ad",
        "colab": {
          "base_uri": "https://localhost:8080/",
          "height": 426
        }
      },
      "execution_count": 13,
      "outputs": [
        {
          "output_type": "display_data",
          "data": {
            "text/plain": [
              "                                                                      1161115\n",
              "nconst                                                              nm0001569\n",
              "tconst                      [tt0082350, tt0743439, tt0743456, tt0743468, t...\n",
              "category                                                                actor\n",
              "primaryName                                                      Chuck Norris\n",
              "knownForTitles                   [tt0068935, tt0089348, tt1764651, tt0106168]\n",
              "no_nominations_oscars_norm                                                0.0\n",
              "no_nominations_globes_norm                                                0.0\n",
              "no_nominations_emmy_norm                                                  0.5\n",
              "no_films_norm                                                           0.022\n",
              "average_films_rating_norm                                               0.698\n",
              "genres_code                 [1, 1, 1, 1, 1, 1, 1, 1, 1, 1, 0, 1, 0, 0, 0, ...\n",
              "types_code                                  [1, 0, 1, 1, 1, 1, 1, 0, 0, 0, 0]"
            ],
            "text/html": [
              "\n",
              "  <div id=\"df-be59549c-da46-4e25-ae86-bf8e8fa73aac\">\n",
              "    <div class=\"colab-df-container\">\n",
              "      <div>\n",
              "<style scoped>\n",
              "    .dataframe tbody tr th:only-of-type {\n",
              "        vertical-align: middle;\n",
              "    }\n",
              "\n",
              "    .dataframe tbody tr th {\n",
              "        vertical-align: top;\n",
              "    }\n",
              "\n",
              "    .dataframe thead th {\n",
              "        text-align: right;\n",
              "    }\n",
              "</style>\n",
              "<table border=\"1\" class=\"dataframe\">\n",
              "  <thead>\n",
              "    <tr style=\"text-align: right;\">\n",
              "      <th></th>\n",
              "      <th>1161115</th>\n",
              "    </tr>\n",
              "  </thead>\n",
              "  <tbody>\n",
              "    <tr>\n",
              "      <th>nconst</th>\n",
              "      <td>nm0001569</td>\n",
              "    </tr>\n",
              "    <tr>\n",
              "      <th>tconst</th>\n",
              "      <td>[tt0082350, tt0743439, tt0743456, tt0743468, t...</td>\n",
              "    </tr>\n",
              "    <tr>\n",
              "      <th>category</th>\n",
              "      <td>actor</td>\n",
              "    </tr>\n",
              "    <tr>\n",
              "      <th>primaryName</th>\n",
              "      <td>Chuck Norris</td>\n",
              "    </tr>\n",
              "    <tr>\n",
              "      <th>knownForTitles</th>\n",
              "      <td>[tt0068935, tt0089348, tt1764651, tt0106168]</td>\n",
              "    </tr>\n",
              "    <tr>\n",
              "      <th>no_nominations_oscars_norm</th>\n",
              "      <td>0.0</td>\n",
              "    </tr>\n",
              "    <tr>\n",
              "      <th>no_nominations_globes_norm</th>\n",
              "      <td>0.0</td>\n",
              "    </tr>\n",
              "    <tr>\n",
              "      <th>no_nominations_emmy_norm</th>\n",
              "      <td>0.5</td>\n",
              "    </tr>\n",
              "    <tr>\n",
              "      <th>no_films_norm</th>\n",
              "      <td>0.022</td>\n",
              "    </tr>\n",
              "    <tr>\n",
              "      <th>average_films_rating_norm</th>\n",
              "      <td>0.698</td>\n",
              "    </tr>\n",
              "    <tr>\n",
              "      <th>genres_code</th>\n",
              "      <td>[1, 1, 1, 1, 1, 1, 1, 1, 1, 1, 0, 1, 0, 0, 0, ...</td>\n",
              "    </tr>\n",
              "    <tr>\n",
              "      <th>types_code</th>\n",
              "      <td>[1, 0, 1, 1, 1, 1, 1, 0, 0, 0, 0]</td>\n",
              "    </tr>\n",
              "  </tbody>\n",
              "</table>\n",
              "</div>\n",
              "      <button class=\"colab-df-convert\" onclick=\"convertToInteractive('df-be59549c-da46-4e25-ae86-bf8e8fa73aac')\"\n",
              "              title=\"Convert this dataframe to an interactive table.\"\n",
              "              style=\"display:none;\">\n",
              "        \n",
              "  <svg xmlns=\"http://www.w3.org/2000/svg\" height=\"24px\"viewBox=\"0 0 24 24\"\n",
              "       width=\"24px\">\n",
              "    <path d=\"M0 0h24v24H0V0z\" fill=\"none\"/>\n",
              "    <path d=\"M18.56 5.44l.94 2.06.94-2.06 2.06-.94-2.06-.94-.94-2.06-.94 2.06-2.06.94zm-11 1L8.5 8.5l.94-2.06 2.06-.94-2.06-.94L8.5 2.5l-.94 2.06-2.06.94zm10 10l.94 2.06.94-2.06 2.06-.94-2.06-.94-.94-2.06-.94 2.06-2.06.94z\"/><path d=\"M17.41 7.96l-1.37-1.37c-.4-.4-.92-.59-1.43-.59-.52 0-1.04.2-1.43.59L10.3 9.45l-7.72 7.72c-.78.78-.78 2.05 0 2.83L4 21.41c.39.39.9.59 1.41.59.51 0 1.02-.2 1.41-.59l7.78-7.78 2.81-2.81c.8-.78.8-2.07 0-2.86zM5.41 20L4 18.59l7.72-7.72 1.47 1.35L5.41 20z\"/>\n",
              "  </svg>\n",
              "      </button>\n",
              "      \n",
              "  <style>\n",
              "    .colab-df-container {\n",
              "      display:flex;\n",
              "      flex-wrap:wrap;\n",
              "      gap: 12px;\n",
              "    }\n",
              "\n",
              "    .colab-df-convert {\n",
              "      background-color: #E8F0FE;\n",
              "      border: none;\n",
              "      border-radius: 50%;\n",
              "      cursor: pointer;\n",
              "      display: none;\n",
              "      fill: #1967D2;\n",
              "      height: 32px;\n",
              "      padding: 0 0 0 0;\n",
              "      width: 32px;\n",
              "    }\n",
              "\n",
              "    .colab-df-convert:hover {\n",
              "      background-color: #E2EBFA;\n",
              "      box-shadow: 0px 1px 2px rgba(60, 64, 67, 0.3), 0px 1px 3px 1px rgba(60, 64, 67, 0.15);\n",
              "      fill: #174EA6;\n",
              "    }\n",
              "\n",
              "    [theme=dark] .colab-df-convert {\n",
              "      background-color: #3B4455;\n",
              "      fill: #D2E3FC;\n",
              "    }\n",
              "\n",
              "    [theme=dark] .colab-df-convert:hover {\n",
              "      background-color: #434B5C;\n",
              "      box-shadow: 0px 1px 3px 1px rgba(0, 0, 0, 0.15);\n",
              "      filter: drop-shadow(0px 1px 2px rgba(0, 0, 0, 0.3));\n",
              "      fill: #FFFFFF;\n",
              "    }\n",
              "  </style>\n",
              "\n",
              "      <script>\n",
              "        const buttonEl =\n",
              "          document.querySelector('#df-be59549c-da46-4e25-ae86-bf8e8fa73aac button.colab-df-convert');\n",
              "        buttonEl.style.display =\n",
              "          google.colab.kernel.accessAllowed ? 'block' : 'none';\n",
              "\n",
              "        async function convertToInteractive(key) {\n",
              "          const element = document.querySelector('#df-be59549c-da46-4e25-ae86-bf8e8fa73aac');\n",
              "          const dataTable =\n",
              "            await google.colab.kernel.invokeFunction('convertToInteractive',\n",
              "                                                     [key], {});\n",
              "          if (!dataTable) return;\n",
              "\n",
              "          const docLinkHtml = 'Like what you see? Visit the ' +\n",
              "            '<a target=\"_blank\" href=https://colab.research.google.com/notebooks/data_table.ipynb>data table notebook</a>'\n",
              "            + ' to learn more about interactive tables.';\n",
              "          element.innerHTML = '';\n",
              "          dataTable['output_type'] = 'display_data';\n",
              "          await google.colab.output.renderOutput(dataTable, element);\n",
              "          const docLink = document.createElement('div');\n",
              "          docLink.innerHTML = docLinkHtml;\n",
              "          element.appendChild(docLink);\n",
              "        }\n",
              "      </script>\n",
              "    </div>\n",
              "  </div>\n",
              "  "
            ]
          },
          "metadata": {}
        }
      ]
    },
    {
      "cell_type": "code",
      "source": [
        "if Chuck_Norris in list(train_data['nconst']):\n",
        "    ids, values = similarity_one_vs_all_new(train_data, Chuck_Norris_data, True)\n",
        "    ids, values = select_top_similiar(ids, values, 3)\n",
        "    names = replace_ids_with_names(train_data, ids, 3)\n",
        "elif Chuck_Norris in list(validate_data['nconst']):\n",
        "    ids, values = similarity_one_vs_all_new(validate_data, Chuck_Norris_data, True)\n",
        "    ids, values = select_top_similiar(ids, values, 3)\n",
        "    names = replace_ids_with_names(validate_data, ids, 3)\n",
        "ranking = print_top_similiar(Chuck_Norris_data[3], names, values)"
      ],
      "metadata": {
        "id": "AGNiraIupzK_",
        "outputId": "d21857ac-16c0-4b6b-acdd-cb4506a8d88f",
        "colab": {
          "base_uri": "https://localhost:8080/"
        }
      },
      "execution_count": null,
      "outputs": [
        {
          "output_type": "stream",
          "name": "stdout",
          "text": [
            "Najbardziej podobnymi do Chuck Norris aktorami/aktorkami są w kolejności:\n",
            "  - Sheree J. Wilson z similarity równym: 0.446\n",
            "  - Noble Willingham z similarity równym: 0.442\n",
            "  - Clarence Gilyard Jr. z similarity równym: 0.434\n"
          ]
        }
      ]
    },
    {
      "cell_type": "code",
      "source": [
        "file_object = open(RANKINGS, 'a')\n",
        "text = \"Najbardziej podobni do {}:\\n- {}, similarity: {}\\n- {}, similarity: {}\\n- {}, similarity: {}\\n\".format(Chuck_Norris[3], names[0], values[0], names[1], values[1], names[2], values[2])\n",
        "file_object.write(text)\n",
        "file_object.close()"
      ],
      "metadata": {
        "id": "SsrxpFZKqDaJ"
      },
      "execution_count": null,
      "outputs": []
    },
    {
      "cell_type": "code",
      "source": [
        "similarity_value = similarity_new(Chuck_Norris_data, Bruce_Lee_data, True)\n",
        "print(\"Wartość similarity dla \", Chuck_Norris_data[3], \" i \",Bruce_Lee_data[3], \" wynosi: \", similarity_value)"
      ],
      "metadata": {
        "id": "tSLZwPvRqJv8",
        "outputId": "676d362e-38d1-41ba-cc5e-0a473c54af48",
        "colab": {
          "base_uri": "https://localhost:8080/"
        }
      },
      "execution_count": null,
      "outputs": [
        {
          "output_type": "stream",
          "name": "stdout",
          "text": [
            "Wartość similarity dla  Chuck Norris  i  Bruce Lee  wynosi:  0.1928297984773848\n"
          ]
        }
      ]
    },
    {
      "cell_type": "code",
      "source": [
        "file_object = open(SIMILARITY_VALUES, 'a')\n",
        "text = \"{}, {}, similarity value: {}\\n\".format(Chuck_Norris_data[3], Bruce_Lee_data[3], similarity_value)\n",
        "file_object.write(text)\n",
        "file_object.close()"
      ],
      "metadata": {
        "id": "cV_f6fU3qdX1"
      },
      "execution_count": null,
      "outputs": []
    },
    {
      "cell_type": "code",
      "source": [
        "Steven_Seagal = \"nm0000219\""
      ],
      "metadata": {
        "id": "Wa9FSZA__hGs"
      },
      "execution_count": 5,
      "outputs": []
    },
    {
      "cell_type": "code",
      "source": [
        "Steven_Seagal_data = find_actor_two_datasets(train_data, validate_data, Steven_Seagal)"
      ],
      "metadata": {
        "id": "U28uQ99g_tzC",
        "outputId": "b1314565-f166-4f20-bf7b-9674a58da2a3",
        "colab": {
          "base_uri": "https://localhost:8080/",
          "height": 426
        }
      },
      "execution_count": 8,
      "outputs": [
        {
          "output_type": "display_data",
          "data": {
            "text/plain": [
              "                                                                      1865382\n",
              "nconst                                                              nm0000219\n",
              "tconst                      [tt0119123, tt0493424, tt1227177, tt3503840, t...\n",
              "category                                                                actor\n",
              "primaryName                                                     Steven Seagal\n",
              "knownForTitles                   [tt0105690, tt0242445, tt0110725, tt0094602]\n",
              "no_nominations_oscars_norm                                                0.0\n",
              "no_nominations_globes_norm                                                0.0\n",
              "no_nominations_emmy_norm                                                  0.5\n",
              "no_films_norm                                                           0.007\n",
              "average_films_rating_norm                                               0.468\n",
              "genres_code                 [1, 0, 1, 1, 1, 1, 0, 0, 0, 1, 0, 0, 0, 0, 0, ...\n",
              "types_code                                  [1, 0, 0, 1, 1, 0, 1, 0, 0, 1, 0]"
            ],
            "text/html": [
              "\n",
              "  <div id=\"df-74576f5a-a028-4588-8e86-9b9cd304d2d1\">\n",
              "    <div class=\"colab-df-container\">\n",
              "      <div>\n",
              "<style scoped>\n",
              "    .dataframe tbody tr th:only-of-type {\n",
              "        vertical-align: middle;\n",
              "    }\n",
              "\n",
              "    .dataframe tbody tr th {\n",
              "        vertical-align: top;\n",
              "    }\n",
              "\n",
              "    .dataframe thead th {\n",
              "        text-align: right;\n",
              "    }\n",
              "</style>\n",
              "<table border=\"1\" class=\"dataframe\">\n",
              "  <thead>\n",
              "    <tr style=\"text-align: right;\">\n",
              "      <th></th>\n",
              "      <th>1865382</th>\n",
              "    </tr>\n",
              "  </thead>\n",
              "  <tbody>\n",
              "    <tr>\n",
              "      <th>nconst</th>\n",
              "      <td>nm0000219</td>\n",
              "    </tr>\n",
              "    <tr>\n",
              "      <th>tconst</th>\n",
              "      <td>[tt0119123, tt0493424, tt1227177, tt3503840, t...</td>\n",
              "    </tr>\n",
              "    <tr>\n",
              "      <th>category</th>\n",
              "      <td>actor</td>\n",
              "    </tr>\n",
              "    <tr>\n",
              "      <th>primaryName</th>\n",
              "      <td>Steven Seagal</td>\n",
              "    </tr>\n",
              "    <tr>\n",
              "      <th>knownForTitles</th>\n",
              "      <td>[tt0105690, tt0242445, tt0110725, tt0094602]</td>\n",
              "    </tr>\n",
              "    <tr>\n",
              "      <th>no_nominations_oscars_norm</th>\n",
              "      <td>0.0</td>\n",
              "    </tr>\n",
              "    <tr>\n",
              "      <th>no_nominations_globes_norm</th>\n",
              "      <td>0.0</td>\n",
              "    </tr>\n",
              "    <tr>\n",
              "      <th>no_nominations_emmy_norm</th>\n",
              "      <td>0.5</td>\n",
              "    </tr>\n",
              "    <tr>\n",
              "      <th>no_films_norm</th>\n",
              "      <td>0.007</td>\n",
              "    </tr>\n",
              "    <tr>\n",
              "      <th>average_films_rating_norm</th>\n",
              "      <td>0.468</td>\n",
              "    </tr>\n",
              "    <tr>\n",
              "      <th>genres_code</th>\n",
              "      <td>[1, 0, 1, 1, 1, 1, 0, 0, 0, 1, 0, 0, 0, 0, 0, ...</td>\n",
              "    </tr>\n",
              "    <tr>\n",
              "      <th>types_code</th>\n",
              "      <td>[1, 0, 0, 1, 1, 0, 1, 0, 0, 1, 0]</td>\n",
              "    </tr>\n",
              "  </tbody>\n",
              "</table>\n",
              "</div>\n",
              "      <button class=\"colab-df-convert\" onclick=\"convertToInteractive('df-74576f5a-a028-4588-8e86-9b9cd304d2d1')\"\n",
              "              title=\"Convert this dataframe to an interactive table.\"\n",
              "              style=\"display:none;\">\n",
              "        \n",
              "  <svg xmlns=\"http://www.w3.org/2000/svg\" height=\"24px\"viewBox=\"0 0 24 24\"\n",
              "       width=\"24px\">\n",
              "    <path d=\"M0 0h24v24H0V0z\" fill=\"none\"/>\n",
              "    <path d=\"M18.56 5.44l.94 2.06.94-2.06 2.06-.94-2.06-.94-.94-2.06-.94 2.06-2.06.94zm-11 1L8.5 8.5l.94-2.06 2.06-.94-2.06-.94L8.5 2.5l-.94 2.06-2.06.94zm10 10l.94 2.06.94-2.06 2.06-.94-2.06-.94-.94-2.06-.94 2.06-2.06.94z\"/><path d=\"M17.41 7.96l-1.37-1.37c-.4-.4-.92-.59-1.43-.59-.52 0-1.04.2-1.43.59L10.3 9.45l-7.72 7.72c-.78.78-.78 2.05 0 2.83L4 21.41c.39.39.9.59 1.41.59.51 0 1.02-.2 1.41-.59l7.78-7.78 2.81-2.81c.8-.78.8-2.07 0-2.86zM5.41 20L4 18.59l7.72-7.72 1.47 1.35L5.41 20z\"/>\n",
              "  </svg>\n",
              "      </button>\n",
              "      \n",
              "  <style>\n",
              "    .colab-df-container {\n",
              "      display:flex;\n",
              "      flex-wrap:wrap;\n",
              "      gap: 12px;\n",
              "    }\n",
              "\n",
              "    .colab-df-convert {\n",
              "      background-color: #E8F0FE;\n",
              "      border: none;\n",
              "      border-radius: 50%;\n",
              "      cursor: pointer;\n",
              "      display: none;\n",
              "      fill: #1967D2;\n",
              "      height: 32px;\n",
              "      padding: 0 0 0 0;\n",
              "      width: 32px;\n",
              "    }\n",
              "\n",
              "    .colab-df-convert:hover {\n",
              "      background-color: #E2EBFA;\n",
              "      box-shadow: 0px 1px 2px rgba(60, 64, 67, 0.3), 0px 1px 3px 1px rgba(60, 64, 67, 0.15);\n",
              "      fill: #174EA6;\n",
              "    }\n",
              "\n",
              "    [theme=dark] .colab-df-convert {\n",
              "      background-color: #3B4455;\n",
              "      fill: #D2E3FC;\n",
              "    }\n",
              "\n",
              "    [theme=dark] .colab-df-convert:hover {\n",
              "      background-color: #434B5C;\n",
              "      box-shadow: 0px 1px 3px 1px rgba(0, 0, 0, 0.15);\n",
              "      filter: drop-shadow(0px 1px 2px rgba(0, 0, 0, 0.3));\n",
              "      fill: #FFFFFF;\n",
              "    }\n",
              "  </style>\n",
              "\n",
              "      <script>\n",
              "        const buttonEl =\n",
              "          document.querySelector('#df-74576f5a-a028-4588-8e86-9b9cd304d2d1 button.colab-df-convert');\n",
              "        buttonEl.style.display =\n",
              "          google.colab.kernel.accessAllowed ? 'block' : 'none';\n",
              "\n",
              "        async function convertToInteractive(key) {\n",
              "          const element = document.querySelector('#df-74576f5a-a028-4588-8e86-9b9cd304d2d1');\n",
              "          const dataTable =\n",
              "            await google.colab.kernel.invokeFunction('convertToInteractive',\n",
              "                                                     [key], {});\n",
              "          if (!dataTable) return;\n",
              "\n",
              "          const docLinkHtml = 'Like what you see? Visit the ' +\n",
              "            '<a target=\"_blank\" href=https://colab.research.google.com/notebooks/data_table.ipynb>data table notebook</a>'\n",
              "            + ' to learn more about interactive tables.';\n",
              "          element.innerHTML = '';\n",
              "          dataTable['output_type'] = 'display_data';\n",
              "          await google.colab.output.renderOutput(dataTable, element);\n",
              "          const docLink = document.createElement('div');\n",
              "          docLink.innerHTML = docLinkHtml;\n",
              "          element.appendChild(docLink);\n",
              "        }\n",
              "      </script>\n",
              "    </div>\n",
              "  </div>\n",
              "  "
            ]
          },
          "metadata": {}
        }
      ]
    },
    {
      "cell_type": "code",
      "source": [
        "if Steven_Seagal in list(train_data['nconst']):\n",
        "    ids, values = similarity_one_vs_all_new(train_data, Steven_Seagal_data, True)\n",
        "    ids, values = select_top_similiar(ids, values, 3)\n",
        "    names = replace_ids_with_names(train_data, ids, 3)\n",
        "elif Steven_Seagal in list(validate_data['nconst']):\n",
        "    ids, values = similarity_one_vs_all_new(validate_data, Steven_Seagal_data, True)\n",
        "    ids, values = select_top_similiar(ids, values, 3)\n",
        "    names = replace_ids_with_names(validate_data, ids, 3)\n",
        "ranking = print_top_similiar(Steven_Seagal_data[3], names, values)"
      ],
      "metadata": {
        "id": "yYCDW1_9_5Z5",
        "outputId": "9da332db-4927-4089-a4a5-dad8645f01ea",
        "colab": {
          "base_uri": "https://localhost:8080/"
        }
      },
      "execution_count": 9,
      "outputs": [
        {
          "output_type": "stream",
          "name": "stdout",
          "text": [
            "Najbardziej podobnymi do Steven Seagal aktorami/aktorkami są w kolejności:\n",
            "  - Al Galvez z similarity równym: 0.304\n",
            "  - Andrew Bryniarski z similarity równym: 0.3\n",
            "  - Ryan Bijan z similarity równym: 0.295\n"
          ]
        }
      ]
    },
    {
      "cell_type": "code",
      "source": [
        "file_object = open(RANKINGS, 'a')\n",
        "text = \"Najbardziej podobni do {}:\\n- {}, similarity: {}\\n- {}, similarity: {}\\n- {}, similarity: {}\\n\".format(Steven_Seagal[3], names[0], values[0], names[1], values[1], names[2], values[2])\n",
        "file_object.write(text)\n",
        "file_object.close()"
      ],
      "metadata": {
        "id": "k_qyntaiAKxj"
      },
      "execution_count": 10,
      "outputs": []
    },
    {
      "cell_type": "code",
      "source": [
        "similarity_value = similarity_new(Steven_Seagal_data, Bruce_Lee_data, True)\n",
        "print(\"Wartość similarity dla \", Steven_Seagal_data[3], \" i \",Bruce_Lee_data[3], \" wynosi: \", similarity_value)"
      ],
      "metadata": {
        "id": "Wz75NmbaAYmr",
        "outputId": "61e62694-adbe-4869-c904-e7328a4c50b8",
        "colab": {
          "base_uri": "https://localhost:8080/"
        }
      },
      "execution_count": 16,
      "outputs": [
        {
          "output_type": "stream",
          "name": "stdout",
          "text": [
            "Wartość similarity dla  Steven Seagal  i  Bruce Lee  wynosi:  0.1356759247648902\n"
          ]
        }
      ]
    },
    {
      "cell_type": "code",
      "source": [
        "file_object = open(SIMILARITY_VALUES, 'a')\n",
        "text = \"{}, {}, similarity value: {}\\n\".format(Steven_Seagal_data[3], Bruce_Lee_data[3], similarity_value)\n",
        "file_object.write(text)\n",
        "file_object.close()"
      ],
      "metadata": {
        "id": "Xx_QnfNpAmXT"
      },
      "execution_count": 17,
      "outputs": []
    },
    {
      "cell_type": "code",
      "source": [
        "similarity_value = similarity_new(Steven_Seagal_data, Chuck_Norris_data, True)\n",
        "print(\"Wartość similarity dla \", Steven_Seagal_data[3], \" i \",Chuck_Norris_data[3], \" wynosi: \", similarity_value)"
      ],
      "metadata": {
        "id": "PHOKkyXvAri2",
        "outputId": "81390f08-fefb-4b10-dc85-c8372ccd5bf2",
        "colab": {
          "base_uri": "https://localhost:8080/"
        }
      },
      "execution_count": 18,
      "outputs": [
        {
          "output_type": "stream",
          "name": "stdout",
          "text": [
            "Wartość similarity dla  Steven Seagal  i  Chuck Norris  wynosi:  0.10167836990595602\n"
          ]
        }
      ]
    },
    {
      "cell_type": "code",
      "source": [
        "file_object = open(SIMILARITY_VALUES, 'a')\n",
        "text = \"{}, {}, similarity value: {}\\n\".format(Steven_Seagal_data[3], Chuck_Norris_data[3], similarity_value)\n",
        "file_object.write(text)\n",
        "file_object.close()"
      ],
      "metadata": {
        "id": "2BMt-r4vAylG"
      },
      "execution_count": 19,
      "outputs": []
    },
    {
      "cell_type": "code",
      "source": [
        "Van_Damme = \"nm0000241\""
      ],
      "metadata": {
        "id": "H6qb65YEA3l6"
      },
      "execution_count": 21,
      "outputs": []
    },
    {
      "cell_type": "code",
      "source": [
        "Van_Damme_data = find_actor_two_datasets(train_data, validate_data, Van_Damme)"
      ],
      "metadata": {
        "id": "5T1aQ-MTBT3z",
        "outputId": "14aa1104-1887-4255-f3e0-377bdcfbc759",
        "colab": {
          "base_uri": "https://localhost:8080/",
          "height": 426
        }
      },
      "execution_count": 22,
      "outputs": [
        {
          "output_type": "display_data",
          "data": {
            "text/plain": [
              "                                                                      1686546\n",
              "nconst                                                              nm0000241\n",
              "tconst                      [tt0097659, tt1975249, tt0764643, tt0119013, t...\n",
              "category                                                                actor\n",
              "primaryName                                             Jean-Claude Van Damme\n",
              "knownForTitles                   [tt0101764, tt0097659, tt1130988, tt0119013]\n",
              "no_nominations_oscars_norm                                                0.0\n",
              "no_nominations_globes_norm                                                0.0\n",
              "no_nominations_emmy_norm                                                  0.5\n",
              "no_films_norm                                                           0.006\n",
              "average_films_rating_norm                                                0.58\n",
              "genres_code                 [1, 1, 1, 1, 1, 1, 1, 0, 0, 0, 0, 0, 0, 1, 0, ...\n",
              "types_code                                  [0, 1, 1, 1, 1, 0, 1, 1, 0, 1, 0]"
            ],
            "text/html": [
              "\n",
              "  <div id=\"df-e03a119d-9431-4e5c-a30f-fb4ab476e679\">\n",
              "    <div class=\"colab-df-container\">\n",
              "      <div>\n",
              "<style scoped>\n",
              "    .dataframe tbody tr th:only-of-type {\n",
              "        vertical-align: middle;\n",
              "    }\n",
              "\n",
              "    .dataframe tbody tr th {\n",
              "        vertical-align: top;\n",
              "    }\n",
              "\n",
              "    .dataframe thead th {\n",
              "        text-align: right;\n",
              "    }\n",
              "</style>\n",
              "<table border=\"1\" class=\"dataframe\">\n",
              "  <thead>\n",
              "    <tr style=\"text-align: right;\">\n",
              "      <th></th>\n",
              "      <th>1686546</th>\n",
              "    </tr>\n",
              "  </thead>\n",
              "  <tbody>\n",
              "    <tr>\n",
              "      <th>nconst</th>\n",
              "      <td>nm0000241</td>\n",
              "    </tr>\n",
              "    <tr>\n",
              "      <th>tconst</th>\n",
              "      <td>[tt0097659, tt1975249, tt0764643, tt0119013, t...</td>\n",
              "    </tr>\n",
              "    <tr>\n",
              "      <th>category</th>\n",
              "      <td>actor</td>\n",
              "    </tr>\n",
              "    <tr>\n",
              "      <th>primaryName</th>\n",
              "      <td>Jean-Claude Van Damme</td>\n",
              "    </tr>\n",
              "    <tr>\n",
              "      <th>knownForTitles</th>\n",
              "      <td>[tt0101764, tt0097659, tt1130988, tt0119013]</td>\n",
              "    </tr>\n",
              "    <tr>\n",
              "      <th>no_nominations_oscars_norm</th>\n",
              "      <td>0.0</td>\n",
              "    </tr>\n",
              "    <tr>\n",
              "      <th>no_nominations_globes_norm</th>\n",
              "      <td>0.0</td>\n",
              "    </tr>\n",
              "    <tr>\n",
              "      <th>no_nominations_emmy_norm</th>\n",
              "      <td>0.5</td>\n",
              "    </tr>\n",
              "    <tr>\n",
              "      <th>no_films_norm</th>\n",
              "      <td>0.006</td>\n",
              "    </tr>\n",
              "    <tr>\n",
              "      <th>average_films_rating_norm</th>\n",
              "      <td>0.58</td>\n",
              "    </tr>\n",
              "    <tr>\n",
              "      <th>genres_code</th>\n",
              "      <td>[1, 1, 1, 1, 1, 1, 1, 0, 0, 0, 0, 0, 0, 1, 0, ...</td>\n",
              "    </tr>\n",
              "    <tr>\n",
              "      <th>types_code</th>\n",
              "      <td>[0, 1, 1, 1, 1, 0, 1, 1, 0, 1, 0]</td>\n",
              "    </tr>\n",
              "  </tbody>\n",
              "</table>\n",
              "</div>\n",
              "      <button class=\"colab-df-convert\" onclick=\"convertToInteractive('df-e03a119d-9431-4e5c-a30f-fb4ab476e679')\"\n",
              "              title=\"Convert this dataframe to an interactive table.\"\n",
              "              style=\"display:none;\">\n",
              "        \n",
              "  <svg xmlns=\"http://www.w3.org/2000/svg\" height=\"24px\"viewBox=\"0 0 24 24\"\n",
              "       width=\"24px\">\n",
              "    <path d=\"M0 0h24v24H0V0z\" fill=\"none\"/>\n",
              "    <path d=\"M18.56 5.44l.94 2.06.94-2.06 2.06-.94-2.06-.94-.94-2.06-.94 2.06-2.06.94zm-11 1L8.5 8.5l.94-2.06 2.06-.94-2.06-.94L8.5 2.5l-.94 2.06-2.06.94zm10 10l.94 2.06.94-2.06 2.06-.94-2.06-.94-.94-2.06-.94 2.06-2.06.94z\"/><path d=\"M17.41 7.96l-1.37-1.37c-.4-.4-.92-.59-1.43-.59-.52 0-1.04.2-1.43.59L10.3 9.45l-7.72 7.72c-.78.78-.78 2.05 0 2.83L4 21.41c.39.39.9.59 1.41.59.51 0 1.02-.2 1.41-.59l7.78-7.78 2.81-2.81c.8-.78.8-2.07 0-2.86zM5.41 20L4 18.59l7.72-7.72 1.47 1.35L5.41 20z\"/>\n",
              "  </svg>\n",
              "      </button>\n",
              "      \n",
              "  <style>\n",
              "    .colab-df-container {\n",
              "      display:flex;\n",
              "      flex-wrap:wrap;\n",
              "      gap: 12px;\n",
              "    }\n",
              "\n",
              "    .colab-df-convert {\n",
              "      background-color: #E8F0FE;\n",
              "      border: none;\n",
              "      border-radius: 50%;\n",
              "      cursor: pointer;\n",
              "      display: none;\n",
              "      fill: #1967D2;\n",
              "      height: 32px;\n",
              "      padding: 0 0 0 0;\n",
              "      width: 32px;\n",
              "    }\n",
              "\n",
              "    .colab-df-convert:hover {\n",
              "      background-color: #E2EBFA;\n",
              "      box-shadow: 0px 1px 2px rgba(60, 64, 67, 0.3), 0px 1px 3px 1px rgba(60, 64, 67, 0.15);\n",
              "      fill: #174EA6;\n",
              "    }\n",
              "\n",
              "    [theme=dark] .colab-df-convert {\n",
              "      background-color: #3B4455;\n",
              "      fill: #D2E3FC;\n",
              "    }\n",
              "\n",
              "    [theme=dark] .colab-df-convert:hover {\n",
              "      background-color: #434B5C;\n",
              "      box-shadow: 0px 1px 3px 1px rgba(0, 0, 0, 0.15);\n",
              "      filter: drop-shadow(0px 1px 2px rgba(0, 0, 0, 0.3));\n",
              "      fill: #FFFFFF;\n",
              "    }\n",
              "  </style>\n",
              "\n",
              "      <script>\n",
              "        const buttonEl =\n",
              "          document.querySelector('#df-e03a119d-9431-4e5c-a30f-fb4ab476e679 button.colab-df-convert');\n",
              "        buttonEl.style.display =\n",
              "          google.colab.kernel.accessAllowed ? 'block' : 'none';\n",
              "\n",
              "        async function convertToInteractive(key) {\n",
              "          const element = document.querySelector('#df-e03a119d-9431-4e5c-a30f-fb4ab476e679');\n",
              "          const dataTable =\n",
              "            await google.colab.kernel.invokeFunction('convertToInteractive',\n",
              "                                                     [key], {});\n",
              "          if (!dataTable) return;\n",
              "\n",
              "          const docLinkHtml = 'Like what you see? Visit the ' +\n",
              "            '<a target=\"_blank\" href=https://colab.research.google.com/notebooks/data_table.ipynb>data table notebook</a>'\n",
              "            + ' to learn more about interactive tables.';\n",
              "          element.innerHTML = '';\n",
              "          dataTable['output_type'] = 'display_data';\n",
              "          await google.colab.output.renderOutput(dataTable, element);\n",
              "          const docLink = document.createElement('div');\n",
              "          docLink.innerHTML = docLinkHtml;\n",
              "          element.appendChild(docLink);\n",
              "        }\n",
              "      </script>\n",
              "    </div>\n",
              "  </div>\n",
              "  "
            ]
          },
          "metadata": {}
        }
      ]
    },
    {
      "cell_type": "code",
      "source": [
        "if Van_Damme in list(train_data['nconst']):\n",
        "    ids, values = similarity_one_vs_all_new(train_data, Van_Damme_data, True)\n",
        "    ids, values = select_top_similiar(ids, values, 3)\n",
        "    names = replace_ids_with_names(train_data, ids, 3)\n",
        "elif Van_Damme in list(validate_data['nconst']):\n",
        "    ids, values = similarity_one_vs_all_new(validate_data, Van_Damme_data, True)\n",
        "    ids, values = select_top_similiar(ids, values, 3)\n",
        "    names = replace_ids_with_names(validate_data, ids, 3)\n",
        "ranking = print_top_similiar(Van_Damme_data[3], names, values)"
      ],
      "metadata": {
        "id": "sAHbp9y9BoI8",
        "outputId": "c5767179-a757-48e2-aac0-3ee7ca97fd37",
        "colab": {
          "base_uri": "https://localhost:8080/"
        }
      },
      "execution_count": 23,
      "outputs": [
        {
          "output_type": "stream",
          "name": "stdout",
          "text": [
            "Najbardziej podobnymi do Jean-Claude Van Damme aktorami/aktorkami są w kolejności:\n",
            "  - Emile Hirsch z similarity równym: 0.299\n",
            "  - Ryan McCluskey z similarity równym: 0.275\n",
            "  - Raul Julia z similarity równym: 0.274\n"
          ]
        }
      ]
    },
    {
      "cell_type": "code",
      "source": [
        "file_object = open(RANKINGS, 'a')\n",
        "text = \"Najbardziej podobni do {}:\\n- {}, similarity: {}\\n- {}, similarity: {}\\n- {}, similarity: {}\\n\".format(Van_Damme[3], names[0], values[0], names[1], values[1], names[2], values[2])\n",
        "file_object.write(text)\n",
        "file_object.close()"
      ],
      "metadata": {
        "id": "LpqMLDsdBz0-"
      },
      "execution_count": 24,
      "outputs": []
    },
    {
      "cell_type": "code",
      "source": [
        "similarity_value = similarity_new(Van_Damme_data, Bruce_Lee_data, True)\n",
        "print(\"Wartość similarity dla \", Van_Damme_data[3], \" i \",Bruce_Lee_data[3], \" wynosi: \", similarity_value)"
      ],
      "metadata": {
        "id": "1Tdznu10B6Fv",
        "outputId": "daa672f8-b201-44d5-d823-229437b86a4f",
        "colab": {
          "base_uri": "https://localhost:8080/"
        }
      },
      "execution_count": 25,
      "outputs": [
        {
          "output_type": "stream",
          "name": "stdout",
          "text": [
            "Wartość similarity dla  Jean-Claude Van Damme  i  Bruce Lee  wynosi:  0.014565705329153689\n"
          ]
        }
      ]
    },
    {
      "cell_type": "code",
      "source": [
        "file_object = open(SIMILARITY_VALUES, 'a')\n",
        "text = \"{}, {}, similarity value: {}\\n\".format(Van_Damme_data[3], Bruce_Lee_data[3], similarity_value)\n",
        "file_object.write(text)\n",
        "file_object.close()"
      ],
      "metadata": {
        "id": "Sm_Ps8ouB-PA"
      },
      "execution_count": 26,
      "outputs": []
    },
    {
      "cell_type": "code",
      "source": [
        "similarity_value = similarity_new(Van_Damme_data, Chuck_Norris_data, True)\n",
        "print(\"Wartość similarity dla \", Van_Damme_data[3], \" i \",Chuck_Norris_data[3], \" wynosi: \", similarity_value)"
      ],
      "metadata": {
        "id": "RirMr41QB-Ap",
        "outputId": "64d45ab0-8252-40f6-f526-254323fb9af5",
        "colab": {
          "base_uri": "https://localhost:8080/"
        }
      },
      "execution_count": 31,
      "outputs": [
        {
          "output_type": "stream",
          "name": "stdout",
          "text": [
            "Wartość similarity dla  Jean-Claude Van Damme  i  Chuck Norris  wynosi:  0.07601291536050159\n"
          ]
        }
      ]
    },
    {
      "cell_type": "code",
      "source": [
        "file_object = open(SIMILARITY_VALUES, 'a')\n",
        "text = \"{}, {}, similarity value: {}\\n\".format(Van_Damme_data[3], Chuck_Norris_data[3], similarity_value)\n",
        "file_object.write(text)\n",
        "file_object.close()"
      ],
      "metadata": {
        "id": "mTAxC3wGB9yU"
      },
      "execution_count": 32,
      "outputs": []
    },
    {
      "cell_type": "code",
      "source": [
        "similarity_value = similarity_new(Van_Damme_data, Steven_Seagal_data, True)\n",
        "print(\"Wartość similarity dla \", Van_Damme_data[3], \" i \",Steven_Seagal_data[3], \" wynosi: \", similarity_value)"
      ],
      "metadata": {
        "id": "epnctboFCtrM",
        "outputId": "ac205490-0b32-4cb6-a2c4-2b775c10573e",
        "colab": {
          "base_uri": "https://localhost:8080/"
        }
      },
      "execution_count": 33,
      "outputs": [
        {
          "output_type": "stream",
          "name": "stdout",
          "text": [
            "Wartość similarity dla  Jean-Claude Van Damme  i  Steven Seagal  wynosi:  0.11879047021943556\n"
          ]
        }
      ]
    },
    {
      "cell_type": "code",
      "source": [
        "file_object = open(SIMILARITY_VALUES, 'a')\n",
        "text = \"{}, {}, similarity value: {}\\n\".format(Van_Damme_data[3], Steven_Seagal_data[3], similarity_value)\n",
        "file_object.write(text)\n",
        "file_object.close()"
      ],
      "metadata": {
        "id": "MZkxDSVDCd3r"
      },
      "execution_count": 34,
      "outputs": []
    },
    {
      "cell_type": "code",
      "source": [
        "Jackie_Chan = \"nm0000329\""
      ],
      "metadata": {
        "id": "IEMXWL7aDAXr"
      },
      "execution_count": 35,
      "outputs": []
    },
    {
      "cell_type": "code",
      "source": [
        "Jackie_Chan_data = find_actor_two_datasets(train_data, validate_data, Jackie_Chan)"
      ],
      "metadata": {
        "id": "3YBQ_YiNDSYF",
        "outputId": "77966709-2457-4089-9632-8844aa5d75db",
        "colab": {
          "base_uri": "https://localhost:8080/",
          "height": 426
        }
      },
      "execution_count": 36,
      "outputs": [
        {
          "output_type": "display_data",
          "data": {
            "text/plain": [
              "                                                                      1766015\n",
              "nconst                                                              nm0000329\n",
              "tconst                      [tt0081499, tt0114126, tt0120812, tt21692408, ...\n",
              "category                                                                actor\n",
              "primaryName                                                       Jackie Chan\n",
              "knownForTitles                   [tt0266915, tt0127357, tt0120812, tt0089374]\n",
              "no_nominations_oscars_norm                                                0.0\n",
              "no_nominations_globes_norm                                                0.0\n",
              "no_nominations_emmy_norm                                                  0.5\n",
              "no_films_norm                                                           0.009\n",
              "average_films_rating_norm                                               0.612\n",
              "genres_code                 [1, 1, 1, 1, 1, 1, 1, 0, 1, 1, 0, 0, 1, 0, 0, ...\n",
              "types_code                                  [1, 0, 0, 1, 1, 1, 1, 1, 0, 1, 0]"
            ],
            "text/html": [
              "\n",
              "  <div id=\"df-946405a7-de18-4a3c-9c20-1d7f928ac96e\">\n",
              "    <div class=\"colab-df-container\">\n",
              "      <div>\n",
              "<style scoped>\n",
              "    .dataframe tbody tr th:only-of-type {\n",
              "        vertical-align: middle;\n",
              "    }\n",
              "\n",
              "    .dataframe tbody tr th {\n",
              "        vertical-align: top;\n",
              "    }\n",
              "\n",
              "    .dataframe thead th {\n",
              "        text-align: right;\n",
              "    }\n",
              "</style>\n",
              "<table border=\"1\" class=\"dataframe\">\n",
              "  <thead>\n",
              "    <tr style=\"text-align: right;\">\n",
              "      <th></th>\n",
              "      <th>1766015</th>\n",
              "    </tr>\n",
              "  </thead>\n",
              "  <tbody>\n",
              "    <tr>\n",
              "      <th>nconst</th>\n",
              "      <td>nm0000329</td>\n",
              "    </tr>\n",
              "    <tr>\n",
              "      <th>tconst</th>\n",
              "      <td>[tt0081499, tt0114126, tt0120812, tt21692408, ...</td>\n",
              "    </tr>\n",
              "    <tr>\n",
              "      <th>category</th>\n",
              "      <td>actor</td>\n",
              "    </tr>\n",
              "    <tr>\n",
              "      <th>primaryName</th>\n",
              "      <td>Jackie Chan</td>\n",
              "    </tr>\n",
              "    <tr>\n",
              "      <th>knownForTitles</th>\n",
              "      <td>[tt0266915, tt0127357, tt0120812, tt0089374]</td>\n",
              "    </tr>\n",
              "    <tr>\n",
              "      <th>no_nominations_oscars_norm</th>\n",
              "      <td>0.0</td>\n",
              "    </tr>\n",
              "    <tr>\n",
              "      <th>no_nominations_globes_norm</th>\n",
              "      <td>0.0</td>\n",
              "    </tr>\n",
              "    <tr>\n",
              "      <th>no_nominations_emmy_norm</th>\n",
              "      <td>0.5</td>\n",
              "    </tr>\n",
              "    <tr>\n",
              "      <th>no_films_norm</th>\n",
              "      <td>0.009</td>\n",
              "    </tr>\n",
              "    <tr>\n",
              "      <th>average_films_rating_norm</th>\n",
              "      <td>0.612</td>\n",
              "    </tr>\n",
              "    <tr>\n",
              "      <th>genres_code</th>\n",
              "      <td>[1, 1, 1, 1, 1, 1, 1, 0, 1, 1, 0, 0, 1, 0, 0, ...</td>\n",
              "    </tr>\n",
              "    <tr>\n",
              "      <th>types_code</th>\n",
              "      <td>[1, 0, 0, 1, 1, 1, 1, 1, 0, 1, 0]</td>\n",
              "    </tr>\n",
              "  </tbody>\n",
              "</table>\n",
              "</div>\n",
              "      <button class=\"colab-df-convert\" onclick=\"convertToInteractive('df-946405a7-de18-4a3c-9c20-1d7f928ac96e')\"\n",
              "              title=\"Convert this dataframe to an interactive table.\"\n",
              "              style=\"display:none;\">\n",
              "        \n",
              "  <svg xmlns=\"http://www.w3.org/2000/svg\" height=\"24px\"viewBox=\"0 0 24 24\"\n",
              "       width=\"24px\">\n",
              "    <path d=\"M0 0h24v24H0V0z\" fill=\"none\"/>\n",
              "    <path d=\"M18.56 5.44l.94 2.06.94-2.06 2.06-.94-2.06-.94-.94-2.06-.94 2.06-2.06.94zm-11 1L8.5 8.5l.94-2.06 2.06-.94-2.06-.94L8.5 2.5l-.94 2.06-2.06.94zm10 10l.94 2.06.94-2.06 2.06-.94-2.06-.94-.94-2.06-.94 2.06-2.06.94z\"/><path d=\"M17.41 7.96l-1.37-1.37c-.4-.4-.92-.59-1.43-.59-.52 0-1.04.2-1.43.59L10.3 9.45l-7.72 7.72c-.78.78-.78 2.05 0 2.83L4 21.41c.39.39.9.59 1.41.59.51 0 1.02-.2 1.41-.59l7.78-7.78 2.81-2.81c.8-.78.8-2.07 0-2.86zM5.41 20L4 18.59l7.72-7.72 1.47 1.35L5.41 20z\"/>\n",
              "  </svg>\n",
              "      </button>\n",
              "      \n",
              "  <style>\n",
              "    .colab-df-container {\n",
              "      display:flex;\n",
              "      flex-wrap:wrap;\n",
              "      gap: 12px;\n",
              "    }\n",
              "\n",
              "    .colab-df-convert {\n",
              "      background-color: #E8F0FE;\n",
              "      border: none;\n",
              "      border-radius: 50%;\n",
              "      cursor: pointer;\n",
              "      display: none;\n",
              "      fill: #1967D2;\n",
              "      height: 32px;\n",
              "      padding: 0 0 0 0;\n",
              "      width: 32px;\n",
              "    }\n",
              "\n",
              "    .colab-df-convert:hover {\n",
              "      background-color: #E2EBFA;\n",
              "      box-shadow: 0px 1px 2px rgba(60, 64, 67, 0.3), 0px 1px 3px 1px rgba(60, 64, 67, 0.15);\n",
              "      fill: #174EA6;\n",
              "    }\n",
              "\n",
              "    [theme=dark] .colab-df-convert {\n",
              "      background-color: #3B4455;\n",
              "      fill: #D2E3FC;\n",
              "    }\n",
              "\n",
              "    [theme=dark] .colab-df-convert:hover {\n",
              "      background-color: #434B5C;\n",
              "      box-shadow: 0px 1px 3px 1px rgba(0, 0, 0, 0.15);\n",
              "      filter: drop-shadow(0px 1px 2px rgba(0, 0, 0, 0.3));\n",
              "      fill: #FFFFFF;\n",
              "    }\n",
              "  </style>\n",
              "\n",
              "      <script>\n",
              "        const buttonEl =\n",
              "          document.querySelector('#df-946405a7-de18-4a3c-9c20-1d7f928ac96e button.colab-df-convert');\n",
              "        buttonEl.style.display =\n",
              "          google.colab.kernel.accessAllowed ? 'block' : 'none';\n",
              "\n",
              "        async function convertToInteractive(key) {\n",
              "          const element = document.querySelector('#df-946405a7-de18-4a3c-9c20-1d7f928ac96e');\n",
              "          const dataTable =\n",
              "            await google.colab.kernel.invokeFunction('convertToInteractive',\n",
              "                                                     [key], {});\n",
              "          if (!dataTable) return;\n",
              "\n",
              "          const docLinkHtml = 'Like what you see? Visit the ' +\n",
              "            '<a target=\"_blank\" href=https://colab.research.google.com/notebooks/data_table.ipynb>data table notebook</a>'\n",
              "            + ' to learn more about interactive tables.';\n",
              "          element.innerHTML = '';\n",
              "          dataTable['output_type'] = 'display_data';\n",
              "          await google.colab.output.renderOutput(dataTable, element);\n",
              "          const docLink = document.createElement('div');\n",
              "          docLink.innerHTML = docLinkHtml;\n",
              "          element.appendChild(docLink);\n",
              "        }\n",
              "      </script>\n",
              "    </div>\n",
              "  </div>\n",
              "  "
            ]
          },
          "metadata": {}
        }
      ]
    },
    {
      "cell_type": "code",
      "source": [
        "if Jackie_Chan in list(train_data['nconst']):\n",
        "    ids, values = similarity_one_vs_all_new(train_data, Jackie_Chan_data, True)\n",
        "    ids, values = select_top_similiar(ids, values, 3)\n",
        "    names = replace_ids_with_names(train_data, ids, 3)\n",
        "elif Jackie_Chan in list(validate_data['nconst']):\n",
        "    ids, values = similarity_one_vs_all_new(validate_data, Jackie_Chan_data, True)\n",
        "    ids, values = select_top_similiar(ids, values, 3)\n",
        "    names = replace_ids_with_names(validate_data, ids, 3)\n",
        "ranking = print_top_similiar(Jackie_Chan_data[3], names, values)"
      ],
      "metadata": {
        "id": "uff4Joe3Da5b",
        "outputId": "47862b36-426d-4d79-c581-5b128638191d",
        "colab": {
          "base_uri": "https://localhost:8080/"
        }
      },
      "execution_count": 37,
      "outputs": [
        {
          "output_type": "stream",
          "name": "stdout",
          "text": [
            "Najbardziej podobnymi do Jackie Chan aktorami/aktorkami są w kolejności:\n",
            "  - Henry Rollins z similarity równym: 0.263\n",
            "  - Michael Daniel Cassady z similarity równym: 0.262\n",
            "  - Ice Cube z similarity równym: 0.256\n"
          ]
        }
      ]
    },
    {
      "cell_type": "code",
      "source": [
        "file_object = open(RANKINGS, 'a')\n",
        "text = \"Najbardziej podobni do {}:\\n- {}, similarity: {}\\n- {}, similarity: {}\\n- {}, similarity: {}\\n\".format(Jackie_Chan[3], names[0], values[0], names[1], values[1], names[2], values[2])\n",
        "file_object.write(text)\n",
        "file_object.close()"
      ],
      "metadata": {
        "id": "7FjIvicbDvnz"
      },
      "execution_count": 38,
      "outputs": []
    },
    {
      "cell_type": "code",
      "source": [
        "similarity_value = similarity_new(Jackie_Chan_data, Bruce_Lee_data, True)\n",
        "print(\"Wartość similarity dla \", Jackie_Chan_data[3], \" i \",Bruce_Lee_data[3], \" wynosi: \", similarity_value)"
      ],
      "metadata": {
        "id": "VTghQ7y_D2e8",
        "outputId": "0364eba6-0256-433a-e341-0d5d6cadeb89",
        "colab": {
          "base_uri": "https://localhost:8080/"
        }
      },
      "execution_count": 39,
      "outputs": [
        {
          "output_type": "stream",
          "name": "stdout",
          "text": [
            "Wartość similarity dla  Jackie Chan  i  Bruce Lee  wynosi:  0.0974008150470218\n"
          ]
        }
      ]
    },
    {
      "cell_type": "code",
      "source": [
        "file_object = open(SIMILARITY_VALUES, 'a')\n",
        "text = \"{}, {}, similarity value: {}\\n\".format(Jackie_Chan_data[3], Bruce_Lee_data[3], similarity_value)\n",
        "file_object.write(text)\n",
        "file_object.close()"
      ],
      "metadata": {
        "id": "h8FuLGpsD_kz"
      },
      "execution_count": 40,
      "outputs": []
    },
    {
      "cell_type": "code",
      "source": [
        "similarity_value = similarity_new(Jackie_Chan_data, Chuck_Norris_data, True)\n",
        "print(\"Wartość similarity dla \", Jackie_Chan_data[3], \" i \",Chuck_Norris_data[3], \" wynosi: \", similarity_value)"
      ],
      "metadata": {
        "id": "3hqLDLkQECmx",
        "outputId": "787e8691-457a-4783-b509-2537b5151e56",
        "colab": {
          "base_uri": "https://localhost:8080/"
        }
      },
      "execution_count": 42,
      "outputs": [
        {
          "output_type": "stream",
          "name": "stdout",
          "text": [
            "Wartość similarity dla  Jackie Chan  i  Chuck Norris  wynosi:  0.1395983699059562\n"
          ]
        }
      ]
    },
    {
      "cell_type": "code",
      "source": [
        "file_object = open(SIMILARITY_VALUES, 'a')\n",
        "text = \"{}, {}, similarity value: {}\\n\".format(Jackie_Chan_data[3], Chuck_Norris_data[3], similarity_value)\n",
        "file_object.write(text)\n",
        "file_object.close()"
      ],
      "metadata": {
        "id": "zuYev-KJEDQJ"
      },
      "execution_count": 43,
      "outputs": []
    },
    {
      "cell_type": "code",
      "source": [
        "similarity_value = similarity_new(Jackie_Chan_data, Steven_Seagal_data, True)\n",
        "print(\"Wartość similarity dla \", Jackie_Chan_data[3], \" i \",Steven_Seagal_data[3], \" wynosi: \", similarity_value)"
      ],
      "metadata": {
        "id": "UU1fqB2OENpr",
        "outputId": "db8bede4-d181-450c-824c-29dae1e4baae",
        "colab": {
          "base_uri": "https://localhost:8080/"
        }
      },
      "execution_count": 44,
      "outputs": [
        {
          "output_type": "stream",
          "name": "stdout",
          "text": [
            "Wartość similarity dla  Jackie Chan  i  Steven Seagal  wynosi:  0.16477592476489034\n"
          ]
        }
      ]
    },
    {
      "cell_type": "code",
      "source": [
        "file_object = open(SIMILARITY_VALUES, 'a')\n",
        "text = \"{}, {}, similarity value: {}\\n\".format(Jackie_Chan_data[3], Steven_Seagal_data[3], similarity_value)\n",
        "file_object.write(text)\n",
        "file_object.close()"
      ],
      "metadata": {
        "id": "F4tR5JSpEZHc"
      },
      "execution_count": 45,
      "outputs": []
    },
    {
      "cell_type": "code",
      "source": [
        "similarity_value = similarity_new(Jackie_Chan_data, Van_Damme_data, True)\n",
        "print(\"Wartość similarity dla \", Jackie_Chan_data[3], \" i \",Van_Damme_data[3], \" wynosi: \", similarity_value)"
      ],
      "metadata": {
        "id": "x9y2aSsBEba-",
        "outputId": "be8bd961-9e45-4630-9d64-303c5ea8339a",
        "colab": {
          "base_uri": "https://localhost:8080/"
        }
      },
      "execution_count": 46,
      "outputs": [
        {
          "output_type": "stream",
          "name": "stdout",
          "text": [
            "Wartość similarity dla  Jackie Chan  i  Jean-Claude Van Damme  wynosi:  0.13911047021943568\n"
          ]
        }
      ]
    },
    {
      "cell_type": "code",
      "source": [
        "file_object = open(SIMILARITY_VALUES, 'a')\n",
        "text = \"{}, {}, similarity value: {}\\n\".format(Jackie_Chan_data[3], Van_Damme_data[3], similarity_value)\n",
        "file_object.write(text)\n",
        "file_object.close()"
      ],
      "metadata": {
        "id": "V_KGYop_E1CZ"
      },
      "execution_count": 47,
      "outputs": []
    },
    {
      "cell_type": "markdown",
      "source": [
        "#Jak to wygląda u kinowych twardzieli?"
      ],
      "metadata": {
        "id": "um3YAlNhFDc1"
      }
    },
    {
      "cell_type": "code",
      "source": [
        "Stallone = \"nm0000230\""
      ],
      "metadata": {
        "id": "tr6q_8GCFJlv"
      },
      "execution_count": 48,
      "outputs": []
    },
    {
      "cell_type": "code",
      "source": [
        "Stallone_data = find_actor_two_datasets(train_data, validate_data, Stallone)"
      ],
      "metadata": {
        "id": "7e6KsYWzGR5F",
        "outputId": "33f688fb-aa70-4e11-c79c-a49ef1eb02f7",
        "colab": {
          "base_uri": "https://localhost:8080/",
          "height": 426
        }
      },
      "execution_count": 49,
      "outputs": [
        {
          "output_type": "display_data",
          "data": {
            "text/plain": [
              "                                                                      1865383\n",
              "nconst                                                              nm0000230\n",
              "tconst                      [tt0083284, tt0132245, tt0160184, tt1308729, t...\n",
              "category                                                                actor\n",
              "primaryName                                                Sylvester Stallone\n",
              "knownForTitles                   [tt0089927, tt3076658, tt0084602, tt0075148]\n",
              "no_nominations_oscars_norm                                              0.068\n",
              "no_nominations_globes_norm                                               0.13\n",
              "no_nominations_emmy_norm                                                  0.5\n",
              "no_films_norm                                                           0.008\n",
              "average_films_rating_norm                                               0.646\n",
              "genres_code                 [1, 1, 1, 1, 1, 1, 1, 1, 0, 1, 1, 1, 0, 1, 0, ...\n",
              "types_code                                  [1, 0, 0, 1, 1, 0, 1, 1, 0, 1, 0]"
            ],
            "text/html": [
              "\n",
              "  <div id=\"df-270f8464-54d1-4ac0-965e-e1bd67ae79e2\">\n",
              "    <div class=\"colab-df-container\">\n",
              "      <div>\n",
              "<style scoped>\n",
              "    .dataframe tbody tr th:only-of-type {\n",
              "        vertical-align: middle;\n",
              "    }\n",
              "\n",
              "    .dataframe tbody tr th {\n",
              "        vertical-align: top;\n",
              "    }\n",
              "\n",
              "    .dataframe thead th {\n",
              "        text-align: right;\n",
              "    }\n",
              "</style>\n",
              "<table border=\"1\" class=\"dataframe\">\n",
              "  <thead>\n",
              "    <tr style=\"text-align: right;\">\n",
              "      <th></th>\n",
              "      <th>1865383</th>\n",
              "    </tr>\n",
              "  </thead>\n",
              "  <tbody>\n",
              "    <tr>\n",
              "      <th>nconst</th>\n",
              "      <td>nm0000230</td>\n",
              "    </tr>\n",
              "    <tr>\n",
              "      <th>tconst</th>\n",
              "      <td>[tt0083284, tt0132245, tt0160184, tt1308729, t...</td>\n",
              "    </tr>\n",
              "    <tr>\n",
              "      <th>category</th>\n",
              "      <td>actor</td>\n",
              "    </tr>\n",
              "    <tr>\n",
              "      <th>primaryName</th>\n",
              "      <td>Sylvester Stallone</td>\n",
              "    </tr>\n",
              "    <tr>\n",
              "      <th>knownForTitles</th>\n",
              "      <td>[tt0089927, tt3076658, tt0084602, tt0075148]</td>\n",
              "    </tr>\n",
              "    <tr>\n",
              "      <th>no_nominations_oscars_norm</th>\n",
              "      <td>0.068</td>\n",
              "    </tr>\n",
              "    <tr>\n",
              "      <th>no_nominations_globes_norm</th>\n",
              "      <td>0.13</td>\n",
              "    </tr>\n",
              "    <tr>\n",
              "      <th>no_nominations_emmy_norm</th>\n",
              "      <td>0.5</td>\n",
              "    </tr>\n",
              "    <tr>\n",
              "      <th>no_films_norm</th>\n",
              "      <td>0.008</td>\n",
              "    </tr>\n",
              "    <tr>\n",
              "      <th>average_films_rating_norm</th>\n",
              "      <td>0.646</td>\n",
              "    </tr>\n",
              "    <tr>\n",
              "      <th>genres_code</th>\n",
              "      <td>[1, 1, 1, 1, 1, 1, 1, 1, 0, 1, 1, 1, 0, 1, 0, ...</td>\n",
              "    </tr>\n",
              "    <tr>\n",
              "      <th>types_code</th>\n",
              "      <td>[1, 0, 0, 1, 1, 0, 1, 1, 0, 1, 0]</td>\n",
              "    </tr>\n",
              "  </tbody>\n",
              "</table>\n",
              "</div>\n",
              "      <button class=\"colab-df-convert\" onclick=\"convertToInteractive('df-270f8464-54d1-4ac0-965e-e1bd67ae79e2')\"\n",
              "              title=\"Convert this dataframe to an interactive table.\"\n",
              "              style=\"display:none;\">\n",
              "        \n",
              "  <svg xmlns=\"http://www.w3.org/2000/svg\" height=\"24px\"viewBox=\"0 0 24 24\"\n",
              "       width=\"24px\">\n",
              "    <path d=\"M0 0h24v24H0V0z\" fill=\"none\"/>\n",
              "    <path d=\"M18.56 5.44l.94 2.06.94-2.06 2.06-.94-2.06-.94-.94-2.06-.94 2.06-2.06.94zm-11 1L8.5 8.5l.94-2.06 2.06-.94-2.06-.94L8.5 2.5l-.94 2.06-2.06.94zm10 10l.94 2.06.94-2.06 2.06-.94-2.06-.94-.94-2.06-.94 2.06-2.06.94z\"/><path d=\"M17.41 7.96l-1.37-1.37c-.4-.4-.92-.59-1.43-.59-.52 0-1.04.2-1.43.59L10.3 9.45l-7.72 7.72c-.78.78-.78 2.05 0 2.83L4 21.41c.39.39.9.59 1.41.59.51 0 1.02-.2 1.41-.59l7.78-7.78 2.81-2.81c.8-.78.8-2.07 0-2.86zM5.41 20L4 18.59l7.72-7.72 1.47 1.35L5.41 20z\"/>\n",
              "  </svg>\n",
              "      </button>\n",
              "      \n",
              "  <style>\n",
              "    .colab-df-container {\n",
              "      display:flex;\n",
              "      flex-wrap:wrap;\n",
              "      gap: 12px;\n",
              "    }\n",
              "\n",
              "    .colab-df-convert {\n",
              "      background-color: #E8F0FE;\n",
              "      border: none;\n",
              "      border-radius: 50%;\n",
              "      cursor: pointer;\n",
              "      display: none;\n",
              "      fill: #1967D2;\n",
              "      height: 32px;\n",
              "      padding: 0 0 0 0;\n",
              "      width: 32px;\n",
              "    }\n",
              "\n",
              "    .colab-df-convert:hover {\n",
              "      background-color: #E2EBFA;\n",
              "      box-shadow: 0px 1px 2px rgba(60, 64, 67, 0.3), 0px 1px 3px 1px rgba(60, 64, 67, 0.15);\n",
              "      fill: #174EA6;\n",
              "    }\n",
              "\n",
              "    [theme=dark] .colab-df-convert {\n",
              "      background-color: #3B4455;\n",
              "      fill: #D2E3FC;\n",
              "    }\n",
              "\n",
              "    [theme=dark] .colab-df-convert:hover {\n",
              "      background-color: #434B5C;\n",
              "      box-shadow: 0px 1px 3px 1px rgba(0, 0, 0, 0.15);\n",
              "      filter: drop-shadow(0px 1px 2px rgba(0, 0, 0, 0.3));\n",
              "      fill: #FFFFFF;\n",
              "    }\n",
              "  </style>\n",
              "\n",
              "      <script>\n",
              "        const buttonEl =\n",
              "          document.querySelector('#df-270f8464-54d1-4ac0-965e-e1bd67ae79e2 button.colab-df-convert');\n",
              "        buttonEl.style.display =\n",
              "          google.colab.kernel.accessAllowed ? 'block' : 'none';\n",
              "\n",
              "        async function convertToInteractive(key) {\n",
              "          const element = document.querySelector('#df-270f8464-54d1-4ac0-965e-e1bd67ae79e2');\n",
              "          const dataTable =\n",
              "            await google.colab.kernel.invokeFunction('convertToInteractive',\n",
              "                                                     [key], {});\n",
              "          if (!dataTable) return;\n",
              "\n",
              "          const docLinkHtml = 'Like what you see? Visit the ' +\n",
              "            '<a target=\"_blank\" href=https://colab.research.google.com/notebooks/data_table.ipynb>data table notebook</a>'\n",
              "            + ' to learn more about interactive tables.';\n",
              "          element.innerHTML = '';\n",
              "          dataTable['output_type'] = 'display_data';\n",
              "          await google.colab.output.renderOutput(dataTable, element);\n",
              "          const docLink = document.createElement('div');\n",
              "          docLink.innerHTML = docLinkHtml;\n",
              "          element.appendChild(docLink);\n",
              "        }\n",
              "      </script>\n",
              "    </div>\n",
              "  </div>\n",
              "  "
            ]
          },
          "metadata": {}
        }
      ]
    },
    {
      "cell_type": "code",
      "source": [
        "if Stallone in list(train_data['nconst']):\n",
        "    ids, values = similarity_one_vs_all_new(train_data, Stallone_data, True)\n",
        "    ids, values = select_top_similiar(ids, values, 3)\n",
        "    names = replace_ids_with_names(train_data, ids, 3)\n",
        "elif Stallone in list(validate_data['nconst']):\n",
        "    ids, values = similarity_one_vs_all_new(validate_data, Stallone_data, True)\n",
        "    ids, values = select_top_similiar(ids, values, 3)\n",
        "    names = replace_ids_with_names(validate_data, ids, 3)\n",
        "ranking = print_top_similiar(Stallone_data[3], names, values)"
      ],
      "metadata": {
        "id": "vehccOV1GVgl",
        "outputId": "f854ccc7-2e63-4709-a6fb-da8ad9bfe353",
        "colab": {
          "base_uri": "https://localhost:8080/"
        }
      },
      "execution_count": 50,
      "outputs": [
        {
          "output_type": "stream",
          "name": "stdout",
          "text": [
            "Najbardziej podobnymi do Sylvester Stallone aktorami/aktorkami są w kolejności:\n",
            "  - Michael B. Jordan z similarity równym: 0.26\n",
            "  - Adam Behr z similarity równym: 0.25\n",
            "  - Bruce Willis z similarity równym: 0.246\n"
          ]
        }
      ]
    },
    {
      "cell_type": "code",
      "source": [
        "file_object = open(RANKINGS, 'a')\n",
        "text = \"Najbardziej podobni do {}:\\n- {}, similarity: {}\\n- {}, similarity: {}\\n- {}, similarity: {}\\n\".format(Stallone[3], names[0], values[0], names[1], values[1], names[2], values[2])\n",
        "file_object.write(text)\n",
        "file_object.close()"
      ],
      "metadata": {
        "id": "pRSbP6LqGgcJ"
      },
      "execution_count": 51,
      "outputs": []
    },
    {
      "cell_type": "code",
      "source": [
        "Bruce_Willis = \"nm0000246\""
      ],
      "metadata": {
        "id": "ED6t4z7qGlOd"
      },
      "execution_count": 55,
      "outputs": []
    },
    {
      "cell_type": "code",
      "source": [
        "Bruce_Willis_data = find_actor_two_datasets(train_data, validate_data, Bruce_Willis)"
      ],
      "metadata": {
        "id": "J5dSfXYhGxr7",
        "outputId": "83c708e5-be91-492d-e5d8-e61ed7941437",
        "colab": {
          "base_uri": "https://localhost:8080/",
          "height": 426
        }
      },
      "execution_count": 56,
      "outputs": [
        {
          "output_type": "display_data",
          "data": {
            "text/plain": [
              "                                                                       257799\n",
              "nconst                                                              nm0000246\n",
              "tconst                      [tt0096193, tt0251114, tt0314353, tt0401792, t...\n",
              "category                                                                actor\n",
              "primaryName                                                      Bruce Willis\n",
              "knownForTitles                   [tt0095016, tt0110912, tt0088571, tt0167404]\n",
              "no_nominations_oscars_norm                                                0.0\n",
              "no_nominations_globes_norm                                              0.174\n",
              "no_nominations_emmy_norm                                                  0.5\n",
              "no_films_norm                                                            0.02\n",
              "average_films_rating_norm                                               0.625\n",
              "genres_code                 [1, 1, 1, 1, 1, 1, 1, 0, 1, 1, 0, 0, 0, 1, 0, ...\n",
              "types_code                                  [1, 0, 1, 1, 1, 0, 1, 1, 0, 1, 0]"
            ],
            "text/html": [
              "\n",
              "  <div id=\"df-2f6ed026-b3a0-485d-9c7a-dfe5b004de18\">\n",
              "    <div class=\"colab-df-container\">\n",
              "      <div>\n",
              "<style scoped>\n",
              "    .dataframe tbody tr th:only-of-type {\n",
              "        vertical-align: middle;\n",
              "    }\n",
              "\n",
              "    .dataframe tbody tr th {\n",
              "        vertical-align: top;\n",
              "    }\n",
              "\n",
              "    .dataframe thead th {\n",
              "        text-align: right;\n",
              "    }\n",
              "</style>\n",
              "<table border=\"1\" class=\"dataframe\">\n",
              "  <thead>\n",
              "    <tr style=\"text-align: right;\">\n",
              "      <th></th>\n",
              "      <th>257799</th>\n",
              "    </tr>\n",
              "  </thead>\n",
              "  <tbody>\n",
              "    <tr>\n",
              "      <th>nconst</th>\n",
              "      <td>nm0000246</td>\n",
              "    </tr>\n",
              "    <tr>\n",
              "      <th>tconst</th>\n",
              "      <td>[tt0096193, tt0251114, tt0314353, tt0401792, t...</td>\n",
              "    </tr>\n",
              "    <tr>\n",
              "      <th>category</th>\n",
              "      <td>actor</td>\n",
              "    </tr>\n",
              "    <tr>\n",
              "      <th>primaryName</th>\n",
              "      <td>Bruce Willis</td>\n",
              "    </tr>\n",
              "    <tr>\n",
              "      <th>knownForTitles</th>\n",
              "      <td>[tt0095016, tt0110912, tt0088571, tt0167404]</td>\n",
              "    </tr>\n",
              "    <tr>\n",
              "      <th>no_nominations_oscars_norm</th>\n",
              "      <td>0.0</td>\n",
              "    </tr>\n",
              "    <tr>\n",
              "      <th>no_nominations_globes_norm</th>\n",
              "      <td>0.174</td>\n",
              "    </tr>\n",
              "    <tr>\n",
              "      <th>no_nominations_emmy_norm</th>\n",
              "      <td>0.5</td>\n",
              "    </tr>\n",
              "    <tr>\n",
              "      <th>no_films_norm</th>\n",
              "      <td>0.02</td>\n",
              "    </tr>\n",
              "    <tr>\n",
              "      <th>average_films_rating_norm</th>\n",
              "      <td>0.625</td>\n",
              "    </tr>\n",
              "    <tr>\n",
              "      <th>genres_code</th>\n",
              "      <td>[1, 1, 1, 1, 1, 1, 1, 0, 1, 1, 0, 0, 0, 1, 0, ...</td>\n",
              "    </tr>\n",
              "    <tr>\n",
              "      <th>types_code</th>\n",
              "      <td>[1, 0, 1, 1, 1, 0, 1, 1, 0, 1, 0]</td>\n",
              "    </tr>\n",
              "  </tbody>\n",
              "</table>\n",
              "</div>\n",
              "      <button class=\"colab-df-convert\" onclick=\"convertToInteractive('df-2f6ed026-b3a0-485d-9c7a-dfe5b004de18')\"\n",
              "              title=\"Convert this dataframe to an interactive table.\"\n",
              "              style=\"display:none;\">\n",
              "        \n",
              "  <svg xmlns=\"http://www.w3.org/2000/svg\" height=\"24px\"viewBox=\"0 0 24 24\"\n",
              "       width=\"24px\">\n",
              "    <path d=\"M0 0h24v24H0V0z\" fill=\"none\"/>\n",
              "    <path d=\"M18.56 5.44l.94 2.06.94-2.06 2.06-.94-2.06-.94-.94-2.06-.94 2.06-2.06.94zm-11 1L8.5 8.5l.94-2.06 2.06-.94-2.06-.94L8.5 2.5l-.94 2.06-2.06.94zm10 10l.94 2.06.94-2.06 2.06-.94-2.06-.94-.94-2.06-.94 2.06-2.06.94z\"/><path d=\"M17.41 7.96l-1.37-1.37c-.4-.4-.92-.59-1.43-.59-.52 0-1.04.2-1.43.59L10.3 9.45l-7.72 7.72c-.78.78-.78 2.05 0 2.83L4 21.41c.39.39.9.59 1.41.59.51 0 1.02-.2 1.41-.59l7.78-7.78 2.81-2.81c.8-.78.8-2.07 0-2.86zM5.41 20L4 18.59l7.72-7.72 1.47 1.35L5.41 20z\"/>\n",
              "  </svg>\n",
              "      </button>\n",
              "      \n",
              "  <style>\n",
              "    .colab-df-container {\n",
              "      display:flex;\n",
              "      flex-wrap:wrap;\n",
              "      gap: 12px;\n",
              "    }\n",
              "\n",
              "    .colab-df-convert {\n",
              "      background-color: #E8F0FE;\n",
              "      border: none;\n",
              "      border-radius: 50%;\n",
              "      cursor: pointer;\n",
              "      display: none;\n",
              "      fill: #1967D2;\n",
              "      height: 32px;\n",
              "      padding: 0 0 0 0;\n",
              "      width: 32px;\n",
              "    }\n",
              "\n",
              "    .colab-df-convert:hover {\n",
              "      background-color: #E2EBFA;\n",
              "      box-shadow: 0px 1px 2px rgba(60, 64, 67, 0.3), 0px 1px 3px 1px rgba(60, 64, 67, 0.15);\n",
              "      fill: #174EA6;\n",
              "    }\n",
              "\n",
              "    [theme=dark] .colab-df-convert {\n",
              "      background-color: #3B4455;\n",
              "      fill: #D2E3FC;\n",
              "    }\n",
              "\n",
              "    [theme=dark] .colab-df-convert:hover {\n",
              "      background-color: #434B5C;\n",
              "      box-shadow: 0px 1px 3px 1px rgba(0, 0, 0, 0.15);\n",
              "      filter: drop-shadow(0px 1px 2px rgba(0, 0, 0, 0.3));\n",
              "      fill: #FFFFFF;\n",
              "    }\n",
              "  </style>\n",
              "\n",
              "      <script>\n",
              "        const buttonEl =\n",
              "          document.querySelector('#df-2f6ed026-b3a0-485d-9c7a-dfe5b004de18 button.colab-df-convert');\n",
              "        buttonEl.style.display =\n",
              "          google.colab.kernel.accessAllowed ? 'block' : 'none';\n",
              "\n",
              "        async function convertToInteractive(key) {\n",
              "          const element = document.querySelector('#df-2f6ed026-b3a0-485d-9c7a-dfe5b004de18');\n",
              "          const dataTable =\n",
              "            await google.colab.kernel.invokeFunction('convertToInteractive',\n",
              "                                                     [key], {});\n",
              "          if (!dataTable) return;\n",
              "\n",
              "          const docLinkHtml = 'Like what you see? Visit the ' +\n",
              "            '<a target=\"_blank\" href=https://colab.research.google.com/notebooks/data_table.ipynb>data table notebook</a>'\n",
              "            + ' to learn more about interactive tables.';\n",
              "          element.innerHTML = '';\n",
              "          dataTable['output_type'] = 'display_data';\n",
              "          await google.colab.output.renderOutput(dataTable, element);\n",
              "          const docLink = document.createElement('div');\n",
              "          docLink.innerHTML = docLinkHtml;\n",
              "          element.appendChild(docLink);\n",
              "        }\n",
              "      </script>\n",
              "    </div>\n",
              "  </div>\n",
              "  "
            ]
          },
          "metadata": {}
        }
      ]
    },
    {
      "cell_type": "code",
      "source": [
        "if Bruce_Willis in list(train_data['nconst']):\n",
        "    ids, values = similarity_one_vs_all_new(train_data, Bruce_Willis_data, True)\n",
        "    ids, values = select_top_similiar(ids, values, 3)\n",
        "    names = replace_ids_with_names(train_data, ids, 3)\n",
        "elif Bruce_Willis in list(validate_data['nconst']):\n",
        "    ids, values = similarity_one_vs_all_new(validate_data, Bruce_Willis_data, True)\n",
        "    ids, values = select_top_similiar(ids, values, 3)\n",
        "    names = replace_ids_with_names(validate_data, ids, 3)\n",
        "ranking = print_top_similiar(Bruce_Willis_data[3], names, values)"
      ],
      "metadata": {
        "id": "WtvE_72bG3Xx",
        "outputId": "a43589e9-fbf8-423d-fd11-433660083d9e",
        "colab": {
          "base_uri": "https://localhost:8080/"
        }
      },
      "execution_count": 57,
      "outputs": [
        {
          "output_type": "stream",
          "name": "stdout",
          "text": [
            "Najbardziej podobnymi do Bruce Willis aktorami/aktorkami są w kolejności:\n",
            "  - Ving Rhames z similarity równym: 0.326\n",
            "  - Richard Roundtree z similarity równym: 0.318\n",
            "  - Jack Carter z similarity równym: 0.294\n"
          ]
        }
      ]
    },
    {
      "cell_type": "code",
      "source": [
        "file_object = open(RANKINGS, 'a')\n",
        "text = \"Najbardziej podobni do {}:\\n- {}, similarity: {}\\n- {}, similarity: {}\\n- {}, similarity: {}\\n\".format(Bruce_Willis[3], names[0], values[0], names[1], values[1], names[2], values[2])\n",
        "file_object.write(text)\n",
        "file_object.close()"
      ],
      "metadata": {
        "id": "s5FnKQILHGUC"
      },
      "execution_count": 58,
      "outputs": []
    },
    {
      "cell_type": "code",
      "source": [
        "similarity_value = similarity_new(Bruce_Willis_data, Stallone_data, True)\n",
        "print(\"Wartość similarity dla \", Bruce_Willis_data[3], \" i \",Stallone_data[3], \" wynosi: \", similarity_value)"
      ],
      "metadata": {
        "id": "P5-EJezMHGrO",
        "outputId": "03c1b9c9-80e9-44ef-af53-1fcacb1c99cf",
        "colab": {
          "base_uri": "https://localhost:8080/"
        }
      },
      "execution_count": 59,
      "outputs": [
        {
          "output_type": "stream",
          "name": "stdout",
          "text": [
            "Wartość similarity dla  Bruce Willis  i  Sylvester Stallone  wynosi:  0.2459431347962382\n"
          ]
        }
      ]
    },
    {
      "cell_type": "code",
      "source": [
        "file_object = open(SIMILARITY_VALUES, 'a')\n",
        "text = \"{}, {}, similarity value: {}\\n\".format(Bruce_Willis_data[3], Stallone_data[3], similarity_value)\n",
        "file_object.write(text)\n",
        "file_object.close()"
      ],
      "metadata": {
        "id": "Y6a3S5ByHKBI"
      },
      "execution_count": 60,
      "outputs": []
    },
    {
      "cell_type": "code",
      "source": [
        "Schwarzenegger = \"nm0000216\""
      ],
      "metadata": {
        "id": "eN1wt5XvHt3s"
      },
      "execution_count": 61,
      "outputs": []
    },
    {
      "cell_type": "code",
      "source": [
        "Schwarzenegger_data = find_actor_two_datasets(train_data, validate_data, Schwarzenegger)"
      ],
      "metadata": {
        "id": "rdUWN4oVH5x0",
        "outputId": "bee3e164-9e63-4f94-f3fc-ef6bd8799fb2",
        "colab": {
          "base_uri": "https://localhost:8080/",
          "height": 426
        }
      },
      "execution_count": 62,
      "outputs": [
        {
          "output_type": "display_data",
          "data": {
            "text/plain": [
              "                                                                      1617324\n",
              "nconst                                                              nm0000216\n",
              "tconst                      [tt0233469, tt0364056, tt0711516, tt15739442, ...\n",
              "category                                                                actor\n",
              "primaryName                                             Arnold Schwarzenegger\n",
              "knownForTitles                   [tt0216216, tt0088247, tt0103064, tt0107362]\n",
              "no_nominations_oscars_norm                                                0.0\n",
              "no_nominations_globes_norm                                              0.087\n",
              "no_nominations_emmy_norm                                                  0.5\n",
              "no_films_norm                                                           0.009\n",
              "average_films_rating_norm                                               0.671\n",
              "genres_code                 [1, 1, 1, 1, 1, 0, 1, 1, 1, 1, 0, 0, 1, 1, 0, ...\n",
              "types_code                                  [1, 1, 1, 1, 1, 0, 1, 1, 0, 1, 0]"
            ],
            "text/html": [
              "\n",
              "  <div id=\"df-e24fe596-0327-4d14-bdc0-e2bfbb0c55f6\">\n",
              "    <div class=\"colab-df-container\">\n",
              "      <div>\n",
              "<style scoped>\n",
              "    .dataframe tbody tr th:only-of-type {\n",
              "        vertical-align: middle;\n",
              "    }\n",
              "\n",
              "    .dataframe tbody tr th {\n",
              "        vertical-align: top;\n",
              "    }\n",
              "\n",
              "    .dataframe thead th {\n",
              "        text-align: right;\n",
              "    }\n",
              "</style>\n",
              "<table border=\"1\" class=\"dataframe\">\n",
              "  <thead>\n",
              "    <tr style=\"text-align: right;\">\n",
              "      <th></th>\n",
              "      <th>1617324</th>\n",
              "    </tr>\n",
              "  </thead>\n",
              "  <tbody>\n",
              "    <tr>\n",
              "      <th>nconst</th>\n",
              "      <td>nm0000216</td>\n",
              "    </tr>\n",
              "    <tr>\n",
              "      <th>tconst</th>\n",
              "      <td>[tt0233469, tt0364056, tt0711516, tt15739442, ...</td>\n",
              "    </tr>\n",
              "    <tr>\n",
              "      <th>category</th>\n",
              "      <td>actor</td>\n",
              "    </tr>\n",
              "    <tr>\n",
              "      <th>primaryName</th>\n",
              "      <td>Arnold Schwarzenegger</td>\n",
              "    </tr>\n",
              "    <tr>\n",
              "      <th>knownForTitles</th>\n",
              "      <td>[tt0216216, tt0088247, tt0103064, tt0107362]</td>\n",
              "    </tr>\n",
              "    <tr>\n",
              "      <th>no_nominations_oscars_norm</th>\n",
              "      <td>0.0</td>\n",
              "    </tr>\n",
              "    <tr>\n",
              "      <th>no_nominations_globes_norm</th>\n",
              "      <td>0.087</td>\n",
              "    </tr>\n",
              "    <tr>\n",
              "      <th>no_nominations_emmy_norm</th>\n",
              "      <td>0.5</td>\n",
              "    </tr>\n",
              "    <tr>\n",
              "      <th>no_films_norm</th>\n",
              "      <td>0.009</td>\n",
              "    </tr>\n",
              "    <tr>\n",
              "      <th>average_films_rating_norm</th>\n",
              "      <td>0.671</td>\n",
              "    </tr>\n",
              "    <tr>\n",
              "      <th>genres_code</th>\n",
              "      <td>[1, 1, 1, 1, 1, 0, 1, 1, 1, 1, 0, 0, 1, 1, 0, ...</td>\n",
              "    </tr>\n",
              "    <tr>\n",
              "      <th>types_code</th>\n",
              "      <td>[1, 1, 1, 1, 1, 0, 1, 1, 0, 1, 0]</td>\n",
              "    </tr>\n",
              "  </tbody>\n",
              "</table>\n",
              "</div>\n",
              "      <button class=\"colab-df-convert\" onclick=\"convertToInteractive('df-e24fe596-0327-4d14-bdc0-e2bfbb0c55f6')\"\n",
              "              title=\"Convert this dataframe to an interactive table.\"\n",
              "              style=\"display:none;\">\n",
              "        \n",
              "  <svg xmlns=\"http://www.w3.org/2000/svg\" height=\"24px\"viewBox=\"0 0 24 24\"\n",
              "       width=\"24px\">\n",
              "    <path d=\"M0 0h24v24H0V0z\" fill=\"none\"/>\n",
              "    <path d=\"M18.56 5.44l.94 2.06.94-2.06 2.06-.94-2.06-.94-.94-2.06-.94 2.06-2.06.94zm-11 1L8.5 8.5l.94-2.06 2.06-.94-2.06-.94L8.5 2.5l-.94 2.06-2.06.94zm10 10l.94 2.06.94-2.06 2.06-.94-2.06-.94-.94-2.06-.94 2.06-2.06.94z\"/><path d=\"M17.41 7.96l-1.37-1.37c-.4-.4-.92-.59-1.43-.59-.52 0-1.04.2-1.43.59L10.3 9.45l-7.72 7.72c-.78.78-.78 2.05 0 2.83L4 21.41c.39.39.9.59 1.41.59.51 0 1.02-.2 1.41-.59l7.78-7.78 2.81-2.81c.8-.78.8-2.07 0-2.86zM5.41 20L4 18.59l7.72-7.72 1.47 1.35L5.41 20z\"/>\n",
              "  </svg>\n",
              "      </button>\n",
              "      \n",
              "  <style>\n",
              "    .colab-df-container {\n",
              "      display:flex;\n",
              "      flex-wrap:wrap;\n",
              "      gap: 12px;\n",
              "    }\n",
              "\n",
              "    .colab-df-convert {\n",
              "      background-color: #E8F0FE;\n",
              "      border: none;\n",
              "      border-radius: 50%;\n",
              "      cursor: pointer;\n",
              "      display: none;\n",
              "      fill: #1967D2;\n",
              "      height: 32px;\n",
              "      padding: 0 0 0 0;\n",
              "      width: 32px;\n",
              "    }\n",
              "\n",
              "    .colab-df-convert:hover {\n",
              "      background-color: #E2EBFA;\n",
              "      box-shadow: 0px 1px 2px rgba(60, 64, 67, 0.3), 0px 1px 3px 1px rgba(60, 64, 67, 0.15);\n",
              "      fill: #174EA6;\n",
              "    }\n",
              "\n",
              "    [theme=dark] .colab-df-convert {\n",
              "      background-color: #3B4455;\n",
              "      fill: #D2E3FC;\n",
              "    }\n",
              "\n",
              "    [theme=dark] .colab-df-convert:hover {\n",
              "      background-color: #434B5C;\n",
              "      box-shadow: 0px 1px 3px 1px rgba(0, 0, 0, 0.15);\n",
              "      filter: drop-shadow(0px 1px 2px rgba(0, 0, 0, 0.3));\n",
              "      fill: #FFFFFF;\n",
              "    }\n",
              "  </style>\n",
              "\n",
              "      <script>\n",
              "        const buttonEl =\n",
              "          document.querySelector('#df-e24fe596-0327-4d14-bdc0-e2bfbb0c55f6 button.colab-df-convert');\n",
              "        buttonEl.style.display =\n",
              "          google.colab.kernel.accessAllowed ? 'block' : 'none';\n",
              "\n",
              "        async function convertToInteractive(key) {\n",
              "          const element = document.querySelector('#df-e24fe596-0327-4d14-bdc0-e2bfbb0c55f6');\n",
              "          const dataTable =\n",
              "            await google.colab.kernel.invokeFunction('convertToInteractive',\n",
              "                                                     [key], {});\n",
              "          if (!dataTable) return;\n",
              "\n",
              "          const docLinkHtml = 'Like what you see? Visit the ' +\n",
              "            '<a target=\"_blank\" href=https://colab.research.google.com/notebooks/data_table.ipynb>data table notebook</a>'\n",
              "            + ' to learn more about interactive tables.';\n",
              "          element.innerHTML = '';\n",
              "          dataTable['output_type'] = 'display_data';\n",
              "          await google.colab.output.renderOutput(dataTable, element);\n",
              "          const docLink = document.createElement('div');\n",
              "          docLink.innerHTML = docLinkHtml;\n",
              "          element.appendChild(docLink);\n",
              "        }\n",
              "      </script>\n",
              "    </div>\n",
              "  </div>\n",
              "  "
            ]
          },
          "metadata": {}
        }
      ]
    },
    {
      "cell_type": "code",
      "source": [
        "if Schwarzenegger in list(train_data['nconst']):\n",
        "    ids, values = similarity_one_vs_all_new(train_data, Schwarzenegger_data, True)\n",
        "    ids, values = select_top_similiar(ids, values, 3)\n",
        "    names = replace_ids_with_names(train_data, ids, 3)\n",
        "elif Schwarzenegger in list(validate_data['nconst']):\n",
        "    ids, values = similarity_one_vs_all_new(validate_data, Schwarzenegger_data, True)\n",
        "    ids, values = select_top_similiar(ids, values, 3)\n",
        "    names = replace_ids_with_names(validate_data, ids, 3)\n",
        "ranking = print_top_similiar(Schwarzenegger_data[3], names, values)"
      ],
      "metadata": {
        "id": "6AUbm2YqIfGh",
        "outputId": "c252c1b9-1f33-48e5-c237-2614ee227675",
        "colab": {
          "base_uri": "https://localhost:8080/"
        }
      },
      "execution_count": 63,
      "outputs": [
        {
          "output_type": "stream",
          "name": "stdout",
          "text": [
            "Najbardziej podobnymi do Arnold Schwarzenegger aktorami/aktorkami są w kolejności:\n",
            "  - Robert Patrick z similarity równym: 0.353\n",
            "  - Joe Pantoliano z similarity równym: 0.322\n",
            "  - Charles Dance z similarity równym: 0.317\n"
          ]
        }
      ]
    },
    {
      "cell_type": "code",
      "source": [
        "file_object = open(RANKINGS, 'a')\n",
        "text = \"Najbardziej podobni do {}:\\n- {}, similarity: {}\\n- {}, similarity: {}\\n- {}, similarity: {}\\n\".format(Schwarzenegger[3], names[0], values[0], names[1], values[1], names[2], values[2])\n",
        "file_object.write(text)\n",
        "file_object.close()"
      ],
      "metadata": {
        "id": "hHz24aywIoL6"
      },
      "execution_count": 64,
      "outputs": []
    },
    {
      "cell_type": "code",
      "source": [
        "similarity_value = similarity_new(Schwarzenegger_data, Stallone_data, True)\n",
        "print(\"Wartość similarity dla \", Schwarzenegger_data[3], \" i \",Stallone_data[3], \" wynosi: \", similarity_value)"
      ],
      "metadata": {
        "id": "wXgLZst5Itcv",
        "outputId": "3dab96b9-695b-4bc0-9086-cc7db164d95e",
        "colab": {
          "base_uri": "https://localhost:8080/"
        }
      },
      "execution_count": 65,
      "outputs": [
        {
          "output_type": "stream",
          "name": "stdout",
          "text": [
            "Wartość similarity dla  Arnold Schwarzenegger  i  Sylvester Stallone  wynosi:  0.1914123268812924\n"
          ]
        }
      ]
    },
    {
      "cell_type": "code",
      "source": [
        "file_object = open(SIMILARITY_VALUES, 'a')\n",
        "text = \"{}, {}, similarity value: {}\\n\".format(Schwarzenegger_data[3], Stallone_data[3], similarity_value)\n",
        "file_object.write(text)\n",
        "file_object.close()"
      ],
      "metadata": {
        "id": "mdmNq8GbIyHN"
      },
      "execution_count": 66,
      "outputs": []
    },
    {
      "cell_type": "code",
      "source": [
        "similarity_value = similarity_new(Schwarzenegger_data, Bruce_Willis_data, True)\n",
        "print(\"Wartość similarity dla \", Schwarzenegger_data[3], \" i \",Bruce_Willis_data[3], \" wynosi: \", similarity_value)"
      ],
      "metadata": {
        "id": "j1MHdbRII5g1",
        "outputId": "09904e5f-6ab6-49fd-fc4c-e2d2fa30c54c",
        "colab": {
          "base_uri": "https://localhost:8080/"
        }
      },
      "execution_count": 67,
      "outputs": [
        {
          "output_type": "stream",
          "name": "stdout",
          "text": [
            "Wartość similarity dla  Arnold Schwarzenegger  i  Bruce Willis  wynosi:  0.24118313479623832\n"
          ]
        }
      ]
    },
    {
      "cell_type": "code",
      "source": [
        "file_object = open(SIMILARITY_VALUES, 'a')\n",
        "text = \"{}, {}, similarity value: {}\\n\".format(Schwarzenegger_data[3], Bruce_Willis_data[3], similarity_value)\n",
        "file_object.write(text)\n",
        "file_object.close()"
      ],
      "metadata": {
        "id": "xzkpvZskI6uN"
      },
      "execution_count": 68,
      "outputs": []
    },
    {
      "cell_type": "code",
      "source": [
        "Mel_Gibson = \"nm0000154\""
      ],
      "metadata": {
        "id": "859ouTAVJLUt"
      },
      "execution_count": 69,
      "outputs": []
    },
    {
      "cell_type": "code",
      "source": [
        "Mel_Gibson_data = find_actor_two_datasets(train_data, validate_data, Mel_Gibson)"
      ],
      "metadata": {
        "id": "dSX6SzPqJ0FX",
        "outputId": "161d768b-6cfb-4363-b6a9-a985e0a7d659",
        "colab": {
          "base_uri": "https://localhost:8080/",
          "height": 426
        }
      },
      "execution_count": 70,
      "outputs": [
        {
          "output_type": "display_data",
          "data": {
            "text/plain": [
              "                                                                      1656781\n",
              "nconst                                                              nm0000154\n",
              "tconst                      [tt1321860, tt5657846, tt0087751, tt0104291, t...\n",
              "category                                                                actor\n",
              "primaryName                                                        Mel Gibson\n",
              "knownForTitles                   [tt0118883, tt0117438, tt0112573, tt0104714]\n",
              "no_nominations_oscars_norm                                              0.045\n",
              "no_nominations_globes_norm                                              0.174\n",
              "no_nominations_emmy_norm                                                  0.5\n",
              "no_films_norm                                                           0.007\n",
              "average_films_rating_norm                                               0.638\n",
              "genres_code                 [1, 1, 1, 1, 1, 1, 1, 0, 0, 1, 0, 0, 1, 1, 0, ...\n",
              "types_code                                  [1, 1, 1, 1, 1, 0, 1, 0, 1, 1, 0]"
            ],
            "text/html": [
              "\n",
              "  <div id=\"df-aeb0fc73-6e4d-495f-9728-b96cb3083b45\">\n",
              "    <div class=\"colab-df-container\">\n",
              "      <div>\n",
              "<style scoped>\n",
              "    .dataframe tbody tr th:only-of-type {\n",
              "        vertical-align: middle;\n",
              "    }\n",
              "\n",
              "    .dataframe tbody tr th {\n",
              "        vertical-align: top;\n",
              "    }\n",
              "\n",
              "    .dataframe thead th {\n",
              "        text-align: right;\n",
              "    }\n",
              "</style>\n",
              "<table border=\"1\" class=\"dataframe\">\n",
              "  <thead>\n",
              "    <tr style=\"text-align: right;\">\n",
              "      <th></th>\n",
              "      <th>1656781</th>\n",
              "    </tr>\n",
              "  </thead>\n",
              "  <tbody>\n",
              "    <tr>\n",
              "      <th>nconst</th>\n",
              "      <td>nm0000154</td>\n",
              "    </tr>\n",
              "    <tr>\n",
              "      <th>tconst</th>\n",
              "      <td>[tt1321860, tt5657846, tt0087751, tt0104291, t...</td>\n",
              "    </tr>\n",
              "    <tr>\n",
              "      <th>category</th>\n",
              "      <td>actor</td>\n",
              "    </tr>\n",
              "    <tr>\n",
              "      <th>primaryName</th>\n",
              "      <td>Mel Gibson</td>\n",
              "    </tr>\n",
              "    <tr>\n",
              "      <th>knownForTitles</th>\n",
              "      <td>[tt0118883, tt0117438, tt0112573, tt0104714]</td>\n",
              "    </tr>\n",
              "    <tr>\n",
              "      <th>no_nominations_oscars_norm</th>\n",
              "      <td>0.045</td>\n",
              "    </tr>\n",
              "    <tr>\n",
              "      <th>no_nominations_globes_norm</th>\n",
              "      <td>0.174</td>\n",
              "    </tr>\n",
              "    <tr>\n",
              "      <th>no_nominations_emmy_norm</th>\n",
              "      <td>0.5</td>\n",
              "    </tr>\n",
              "    <tr>\n",
              "      <th>no_films_norm</th>\n",
              "      <td>0.007</td>\n",
              "    </tr>\n",
              "    <tr>\n",
              "      <th>average_films_rating_norm</th>\n",
              "      <td>0.638</td>\n",
              "    </tr>\n",
              "    <tr>\n",
              "      <th>genres_code</th>\n",
              "      <td>[1, 1, 1, 1, 1, 1, 1, 0, 0, 1, 0, 0, 1, 1, 0, ...</td>\n",
              "    </tr>\n",
              "    <tr>\n",
              "      <th>types_code</th>\n",
              "      <td>[1, 1, 1, 1, 1, 0, 1, 0, 1, 1, 0]</td>\n",
              "    </tr>\n",
              "  </tbody>\n",
              "</table>\n",
              "</div>\n",
              "      <button class=\"colab-df-convert\" onclick=\"convertToInteractive('df-aeb0fc73-6e4d-495f-9728-b96cb3083b45')\"\n",
              "              title=\"Convert this dataframe to an interactive table.\"\n",
              "              style=\"display:none;\">\n",
              "        \n",
              "  <svg xmlns=\"http://www.w3.org/2000/svg\" height=\"24px\"viewBox=\"0 0 24 24\"\n",
              "       width=\"24px\">\n",
              "    <path d=\"M0 0h24v24H0V0z\" fill=\"none\"/>\n",
              "    <path d=\"M18.56 5.44l.94 2.06.94-2.06 2.06-.94-2.06-.94-.94-2.06-.94 2.06-2.06.94zm-11 1L8.5 8.5l.94-2.06 2.06-.94-2.06-.94L8.5 2.5l-.94 2.06-2.06.94zm10 10l.94 2.06.94-2.06 2.06-.94-2.06-.94-.94-2.06-.94 2.06-2.06.94z\"/><path d=\"M17.41 7.96l-1.37-1.37c-.4-.4-.92-.59-1.43-.59-.52 0-1.04.2-1.43.59L10.3 9.45l-7.72 7.72c-.78.78-.78 2.05 0 2.83L4 21.41c.39.39.9.59 1.41.59.51 0 1.02-.2 1.41-.59l7.78-7.78 2.81-2.81c.8-.78.8-2.07 0-2.86zM5.41 20L4 18.59l7.72-7.72 1.47 1.35L5.41 20z\"/>\n",
              "  </svg>\n",
              "      </button>\n",
              "      \n",
              "  <style>\n",
              "    .colab-df-container {\n",
              "      display:flex;\n",
              "      flex-wrap:wrap;\n",
              "      gap: 12px;\n",
              "    }\n",
              "\n",
              "    .colab-df-convert {\n",
              "      background-color: #E8F0FE;\n",
              "      border: none;\n",
              "      border-radius: 50%;\n",
              "      cursor: pointer;\n",
              "      display: none;\n",
              "      fill: #1967D2;\n",
              "      height: 32px;\n",
              "      padding: 0 0 0 0;\n",
              "      width: 32px;\n",
              "    }\n",
              "\n",
              "    .colab-df-convert:hover {\n",
              "      background-color: #E2EBFA;\n",
              "      box-shadow: 0px 1px 2px rgba(60, 64, 67, 0.3), 0px 1px 3px 1px rgba(60, 64, 67, 0.15);\n",
              "      fill: #174EA6;\n",
              "    }\n",
              "\n",
              "    [theme=dark] .colab-df-convert {\n",
              "      background-color: #3B4455;\n",
              "      fill: #D2E3FC;\n",
              "    }\n",
              "\n",
              "    [theme=dark] .colab-df-convert:hover {\n",
              "      background-color: #434B5C;\n",
              "      box-shadow: 0px 1px 3px 1px rgba(0, 0, 0, 0.15);\n",
              "      filter: drop-shadow(0px 1px 2px rgba(0, 0, 0, 0.3));\n",
              "      fill: #FFFFFF;\n",
              "    }\n",
              "  </style>\n",
              "\n",
              "      <script>\n",
              "        const buttonEl =\n",
              "          document.querySelector('#df-aeb0fc73-6e4d-495f-9728-b96cb3083b45 button.colab-df-convert');\n",
              "        buttonEl.style.display =\n",
              "          google.colab.kernel.accessAllowed ? 'block' : 'none';\n",
              "\n",
              "        async function convertToInteractive(key) {\n",
              "          const element = document.querySelector('#df-aeb0fc73-6e4d-495f-9728-b96cb3083b45');\n",
              "          const dataTable =\n",
              "            await google.colab.kernel.invokeFunction('convertToInteractive',\n",
              "                                                     [key], {});\n",
              "          if (!dataTable) return;\n",
              "\n",
              "          const docLinkHtml = 'Like what you see? Visit the ' +\n",
              "            '<a target=\"_blank\" href=https://colab.research.google.com/notebooks/data_table.ipynb>data table notebook</a>'\n",
              "            + ' to learn more about interactive tables.';\n",
              "          element.innerHTML = '';\n",
              "          dataTable['output_type'] = 'display_data';\n",
              "          await google.colab.output.renderOutput(dataTable, element);\n",
              "          const docLink = document.createElement('div');\n",
              "          docLink.innerHTML = docLinkHtml;\n",
              "          element.appendChild(docLink);\n",
              "        }\n",
              "      </script>\n",
              "    </div>\n",
              "  </div>\n",
              "  "
            ]
          },
          "metadata": {}
        }
      ]
    },
    {
      "cell_type": "code",
      "source": [
        "if Mel_Gibson in list(train_data['nconst']):\n",
        "    ids, values = similarity_one_vs_all_new(train_data, Mel_Gibson_data, True)\n",
        "    ids, values = select_top_similiar(ids, values, 3)\n",
        "    names = replace_ids_with_names(train_data, ids, 3)\n",
        "elif Mel_Gibson in list(validate_data['nconst']):\n",
        "    ids, values = similarity_one_vs_all_new(validate_data, Mel_Gibson_data, True)\n",
        "    ids, values = select_top_similiar(ids, values, 3)\n",
        "    names = replace_ids_with_names(validate_data, ids, 3)\n",
        "ranking = print_top_similiar(Mel_Gibson_data[3], names, values)"
      ],
      "metadata": {
        "id": "RHG30mwkJ6Yx",
        "outputId": "c3510e38-d8cc-4f64-927d-7e58e251805f",
        "colab": {
          "base_uri": "https://localhost:8080/"
        }
      },
      "execution_count": 71,
      "outputs": [
        {
          "output_type": "stream",
          "name": "stdout",
          "text": [
            "Najbardziej podobnymi do Mel Gibson aktorami/aktorkami są w kolejności:\n",
            "  - Armen Dzhigarkhanyan z similarity równym: 0.291\n",
            "  - Angus Macfadyen z similarity równym: 0.286\n",
            "  - David Fox z similarity równym: 0.284\n"
          ]
        }
      ]
    },
    {
      "cell_type": "code",
      "source": [
        "file_object = open(RANKINGS, 'a')\n",
        "text = \"Najbardziej podobni do {}:\\n- {}, similarity: {}\\n- {}, similarity: {}\\n- {}, similarity: {}\\n\".format(Mel_Gibson[3], names[0], values[0], names[1], values[1], names[2], values[2])\n",
        "file_object.write(text)\n",
        "file_object.close()"
      ],
      "metadata": {
        "id": "fzwNwWpgKKCj"
      },
      "execution_count": 72,
      "outputs": []
    },
    {
      "cell_type": "code",
      "source": [
        "similarity_value = similarity_new(Mel_Gibson_data, Stallone_data, True)\n",
        "print(\"Wartość similarity dla \", Mel_Gibson_data[3], \" i \",Stallone_data[3], \" wynosi: \", similarity_value)"
      ],
      "metadata": {
        "id": "FW87r8qmKP7l",
        "outputId": "dea05b72-a76f-41ff-ebb1-60267754d172",
        "colab": {
          "base_uri": "https://localhost:8080/"
        }
      },
      "execution_count": 73,
      "outputs": [
        {
          "output_type": "stream",
          "name": "stdout",
          "text": [
            "Wartość similarity dla  Mel Gibson  i  Sylvester Stallone  wynosi:  0.15215529780564263\n"
          ]
        }
      ]
    },
    {
      "cell_type": "code",
      "source": [
        "file_object = open(SIMILARITY_VALUES, 'a')\n",
        "text = \"{}, {}, similarity value: {}\\n\".format(Mel_Gibson_data[3], Stallone_data[3], similarity_value)\n",
        "file_object.write(text)\n",
        "file_object.close()"
      ],
      "metadata": {
        "id": "jmvEEYiaKYdk"
      },
      "execution_count": 74,
      "outputs": []
    },
    {
      "cell_type": "code",
      "source": [
        "similarity_value = similarity_new(Mel_Gibson_data, Bruce_Willis_data, True)\n",
        "print(\"Wartość similarity dla \", Mel_Gibson_data[3], \" i \",Bruce_Willis_data[3], \" wynosi: \", similarity_value)"
      ],
      "metadata": {
        "id": "sMQPncSBKd0b",
        "outputId": "ee5c9db0-b1de-4704-a284-c395922a8bc5",
        "colab": {
          "base_uri": "https://localhost:8080/"
        }
      },
      "execution_count": 75,
      "outputs": [
        {
          "output_type": "stream",
          "name": "stdout",
          "text": [
            "Wartość similarity dla  Mel Gibson  i  Bruce Willis  wynosi:  0.1869128526645767\n"
          ]
        }
      ]
    },
    {
      "cell_type": "code",
      "source": [
        "file_object = open(SIMILARITY_VALUES, 'a')\n",
        "text = \"{}, {}, similarity value: {}\\n\".format(Mel_Gibson_data[3], Bruce_Willis_data[3], similarity_value)\n",
        "file_object.write(text)\n",
        "file_object.close()"
      ],
      "metadata": {
        "id": "uK5Zr3arKhVx"
      },
      "execution_count": 76,
      "outputs": []
    },
    {
      "cell_type": "code",
      "source": [
        "similarity_value = similarity_new(Mel_Gibson_data, Schwarzenegger_data, True)\n",
        "print(\"Wartość similarity dla \", Mel_Gibson_data[3], \" i \",Schwarzenegger_data[3], \" wynosi: \", similarity_value)"
      ],
      "metadata": {
        "id": "Qs9MsYmaKk7Y",
        "outputId": "6bfaa74d-a5c1-482b-822b-3dbb91781d75",
        "colab": {
          "base_uri": "https://localhost:8080/"
        }
      },
      "execution_count": 77,
      "outputs": [
        {
          "output_type": "stream",
          "name": "stdout",
          "text": [
            "Wartość similarity dla  Mel Gibson  i  Arnold Schwarzenegger  wynosi:  0.1960607523510971\n"
          ]
        }
      ]
    },
    {
      "cell_type": "code",
      "source": [
        "file_object = open(SIMILARITY_VALUES, 'a')\n",
        "text = \"{}, {}, similarity value: {}\\n\".format(Mel_Gibson_data[3], Schwarzenegger_data[3], similarity_value)\n",
        "file_object.write(text)\n",
        "file_object.close()"
      ],
      "metadata": {
        "id": "X5Lc5mGwKnlr"
      },
      "execution_count": 78,
      "outputs": []
    },
    {
      "cell_type": "markdown",
      "source": [
        "#Spróbójmy sprawdzić aktorów którzy wydają nam się bardzo rózni od siebie"
      ],
      "metadata": {
        "id": "gwAGSAsSLC5u"
      }
    },
    {
      "cell_type": "code",
      "source": [
        "Rowan_Atkinson = \"nm0000100\""
      ],
      "metadata": {
        "id": "OMMCma7RKwPa"
      },
      "execution_count": 79,
      "outputs": []
    },
    {
      "cell_type": "code",
      "source": [
        "Rowan_Atkinson_data = find_actor_two_datasets(train_data, validate_data, Rowan_Atkinson)"
      ],
      "metadata": {
        "id": "Q1R7WpLzLa13",
        "outputId": "cb3fdf7f-925c-4ae9-d9d9-4f445808d16a",
        "colab": {
          "base_uri": "https://localhost:8080/",
          "height": 426
        }
      },
      "execution_count": 80,
      "outputs": [
        {
          "output_type": "display_data",
          "data": {
            "text/plain": [
              "                                                                        19755\n",
              "nconst                                                              nm0000100\n",
              "tconst                      [tt0211388, tt0651849, tt0717561, tt0720766, t...\n",
              "category                                                                actor\n",
              "primaryName                                                    Rowan Atkinson\n",
              "knownForTitles                   [tt1634122, tt0274166, tt0118689, tt0110357]\n",
              "no_nominations_oscars_norm                                                0.0\n",
              "no_nominations_globes_norm                                                0.0\n",
              "no_nominations_emmy_norm                                                  0.5\n",
              "no_films_norm                                                           0.029\n",
              "average_films_rating_norm                                               0.733\n",
              "genres_code                 [1, 1, 0, 1, 1, 1, 1, 1, 1, 1, 1, 0, 1, 1, 0, ...\n",
              "types_code                                  [1, 0, 1, 1, 1, 1, 1, 1, 1, 1, 0]"
            ],
            "text/html": [
              "\n",
              "  <div id=\"df-0de039e8-63d8-4426-bc73-24abbe0a4d53\">\n",
              "    <div class=\"colab-df-container\">\n",
              "      <div>\n",
              "<style scoped>\n",
              "    .dataframe tbody tr th:only-of-type {\n",
              "        vertical-align: middle;\n",
              "    }\n",
              "\n",
              "    .dataframe tbody tr th {\n",
              "        vertical-align: top;\n",
              "    }\n",
              "\n",
              "    .dataframe thead th {\n",
              "        text-align: right;\n",
              "    }\n",
              "</style>\n",
              "<table border=\"1\" class=\"dataframe\">\n",
              "  <thead>\n",
              "    <tr style=\"text-align: right;\">\n",
              "      <th></th>\n",
              "      <th>19755</th>\n",
              "    </tr>\n",
              "  </thead>\n",
              "  <tbody>\n",
              "    <tr>\n",
              "      <th>nconst</th>\n",
              "      <td>nm0000100</td>\n",
              "    </tr>\n",
              "    <tr>\n",
              "      <th>tconst</th>\n",
              "      <td>[tt0211388, tt0651849, tt0717561, tt0720766, t...</td>\n",
              "    </tr>\n",
              "    <tr>\n",
              "      <th>category</th>\n",
              "      <td>actor</td>\n",
              "    </tr>\n",
              "    <tr>\n",
              "      <th>primaryName</th>\n",
              "      <td>Rowan Atkinson</td>\n",
              "    </tr>\n",
              "    <tr>\n",
              "      <th>knownForTitles</th>\n",
              "      <td>[tt1634122, tt0274166, tt0118689, tt0110357]</td>\n",
              "    </tr>\n",
              "    <tr>\n",
              "      <th>no_nominations_oscars_norm</th>\n",
              "      <td>0.0</td>\n",
              "    </tr>\n",
              "    <tr>\n",
              "      <th>no_nominations_globes_norm</th>\n",
              "      <td>0.0</td>\n",
              "    </tr>\n",
              "    <tr>\n",
              "      <th>no_nominations_emmy_norm</th>\n",
              "      <td>0.5</td>\n",
              "    </tr>\n",
              "    <tr>\n",
              "      <th>no_films_norm</th>\n",
              "      <td>0.029</td>\n",
              "    </tr>\n",
              "    <tr>\n",
              "      <th>average_films_rating_norm</th>\n",
              "      <td>0.733</td>\n",
              "    </tr>\n",
              "    <tr>\n",
              "      <th>genres_code</th>\n",
              "      <td>[1, 1, 0, 1, 1, 1, 1, 1, 1, 1, 1, 0, 1, 1, 0, ...</td>\n",
              "    </tr>\n",
              "    <tr>\n",
              "      <th>types_code</th>\n",
              "      <td>[1, 0, 1, 1, 1, 1, 1, 1, 1, 1, 0]</td>\n",
              "    </tr>\n",
              "  </tbody>\n",
              "</table>\n",
              "</div>\n",
              "      <button class=\"colab-df-convert\" onclick=\"convertToInteractive('df-0de039e8-63d8-4426-bc73-24abbe0a4d53')\"\n",
              "              title=\"Convert this dataframe to an interactive table.\"\n",
              "              style=\"display:none;\">\n",
              "        \n",
              "  <svg xmlns=\"http://www.w3.org/2000/svg\" height=\"24px\"viewBox=\"0 0 24 24\"\n",
              "       width=\"24px\">\n",
              "    <path d=\"M0 0h24v24H0V0z\" fill=\"none\"/>\n",
              "    <path d=\"M18.56 5.44l.94 2.06.94-2.06 2.06-.94-2.06-.94-.94-2.06-.94 2.06-2.06.94zm-11 1L8.5 8.5l.94-2.06 2.06-.94-2.06-.94L8.5 2.5l-.94 2.06-2.06.94zm10 10l.94 2.06.94-2.06 2.06-.94-2.06-.94-.94-2.06-.94 2.06-2.06.94z\"/><path d=\"M17.41 7.96l-1.37-1.37c-.4-.4-.92-.59-1.43-.59-.52 0-1.04.2-1.43.59L10.3 9.45l-7.72 7.72c-.78.78-.78 2.05 0 2.83L4 21.41c.39.39.9.59 1.41.59.51 0 1.02-.2 1.41-.59l7.78-7.78 2.81-2.81c.8-.78.8-2.07 0-2.86zM5.41 20L4 18.59l7.72-7.72 1.47 1.35L5.41 20z\"/>\n",
              "  </svg>\n",
              "      </button>\n",
              "      \n",
              "  <style>\n",
              "    .colab-df-container {\n",
              "      display:flex;\n",
              "      flex-wrap:wrap;\n",
              "      gap: 12px;\n",
              "    }\n",
              "\n",
              "    .colab-df-convert {\n",
              "      background-color: #E8F0FE;\n",
              "      border: none;\n",
              "      border-radius: 50%;\n",
              "      cursor: pointer;\n",
              "      display: none;\n",
              "      fill: #1967D2;\n",
              "      height: 32px;\n",
              "      padding: 0 0 0 0;\n",
              "      width: 32px;\n",
              "    }\n",
              "\n",
              "    .colab-df-convert:hover {\n",
              "      background-color: #E2EBFA;\n",
              "      box-shadow: 0px 1px 2px rgba(60, 64, 67, 0.3), 0px 1px 3px 1px rgba(60, 64, 67, 0.15);\n",
              "      fill: #174EA6;\n",
              "    }\n",
              "\n",
              "    [theme=dark] .colab-df-convert {\n",
              "      background-color: #3B4455;\n",
              "      fill: #D2E3FC;\n",
              "    }\n",
              "\n",
              "    [theme=dark] .colab-df-convert:hover {\n",
              "      background-color: #434B5C;\n",
              "      box-shadow: 0px 1px 3px 1px rgba(0, 0, 0, 0.15);\n",
              "      filter: drop-shadow(0px 1px 2px rgba(0, 0, 0, 0.3));\n",
              "      fill: #FFFFFF;\n",
              "    }\n",
              "  </style>\n",
              "\n",
              "      <script>\n",
              "        const buttonEl =\n",
              "          document.querySelector('#df-0de039e8-63d8-4426-bc73-24abbe0a4d53 button.colab-df-convert');\n",
              "        buttonEl.style.display =\n",
              "          google.colab.kernel.accessAllowed ? 'block' : 'none';\n",
              "\n",
              "        async function convertToInteractive(key) {\n",
              "          const element = document.querySelector('#df-0de039e8-63d8-4426-bc73-24abbe0a4d53');\n",
              "          const dataTable =\n",
              "            await google.colab.kernel.invokeFunction('convertToInteractive',\n",
              "                                                     [key], {});\n",
              "          if (!dataTable) return;\n",
              "\n",
              "          const docLinkHtml = 'Like what you see? Visit the ' +\n",
              "            '<a target=\"_blank\" href=https://colab.research.google.com/notebooks/data_table.ipynb>data table notebook</a>'\n",
              "            + ' to learn more about interactive tables.';\n",
              "          element.innerHTML = '';\n",
              "          dataTable['output_type'] = 'display_data';\n",
              "          await google.colab.output.renderOutput(dataTable, element);\n",
              "          const docLink = document.createElement('div');\n",
              "          docLink.innerHTML = docLinkHtml;\n",
              "          element.appendChild(docLink);\n",
              "        }\n",
              "      </script>\n",
              "    </div>\n",
              "  </div>\n",
              "  "
            ]
          },
          "metadata": {}
        }
      ]
    },
    {
      "cell_type": "code",
      "source": [
        "if Rowan_Atkinson in list(train_data['nconst']):\n",
        "    ids, values = similarity_one_vs_all_new(train_data, Rowan_Atkinson_data, True)\n",
        "    ids, values = select_top_similiar(ids, values, 3)\n",
        "    names = replace_ids_with_names(train_data, ids, 3)\n",
        "elif Rowan_Atkinson in list(validate_data['nconst']):\n",
        "    ids, values = similarity_one_vs_all_new(validate_data, Rowan_Atkinson_data, True)\n",
        "    ids, values = select_top_similiar(ids, values, 3)\n",
        "    names = replace_ids_with_names(validate_data, ids, 3)\n",
        "ranking = print_top_similiar(Rowan_Atkinson_data[3], names, values)"
      ],
      "metadata": {
        "id": "b1FZ6gL4LfE0",
        "outputId": "fea06b78-2501-4a3b-81c6-8d00c07c2160",
        "colab": {
          "base_uri": "https://localhost:8080/"
        }
      },
      "execution_count": 81,
      "outputs": [
        {
          "output_type": "stream",
          "name": "stdout",
          "text": [
            "Najbardziej podobnymi do Rowan Atkinson aktorami/aktorkami są w kolejności:\n",
            "  - Hank Azaria z similarity równym: 0.284\n",
            "  - Alexander Armstrong z similarity równym: 0.275\n",
            "  - Chris Parnell z similarity równym: 0.269\n"
          ]
        }
      ]
    },
    {
      "cell_type": "code",
      "source": [
        "file_object = open(RANKINGS, 'a')\n",
        "text = \"Najbardziej podobni do {}:\\n- {}, similarity: {}\\n- {}, similarity: {}\\n- {}, similarity: {}\\n\".format(Rowan_Atkinson[3], names[0], values[0], names[1], values[1], names[2], values[2])\n",
        "file_object.write(text)\n",
        "file_object.close()"
      ],
      "metadata": {
        "id": "yDScxV1wLrB1"
      },
      "execution_count": 82,
      "outputs": []
    },
    {
      "cell_type": "code",
      "source": [
        "similarity_value = similarity_new(Rowan_Atkinson_data, Stallone_data, True)\n",
        "print(\"Wartość similarity dla \", Rowan_Atkinson_data[3], \" i \",Stallone_data[3], \" wynosi: \", similarity_value)"
      ],
      "metadata": {
        "id": "a34FyXwPLvD4",
        "outputId": "47e79114-af2b-466d-8652-2a6d8c281a47",
        "colab": {
          "base_uri": "https://localhost:8080/"
        }
      },
      "execution_count": 83,
      "outputs": [
        {
          "output_type": "stream",
          "name": "stdout",
          "text": [
            "Wartość similarity dla  Rowan Atkinson  i  Sylvester Stallone  wynosi:  0.16691768025078368\n"
          ]
        }
      ]
    },
    {
      "cell_type": "code",
      "source": [
        "file_object = open(SIMILARITY_VALUES, 'a')\n",
        "text = \"{}, {}, similarity value: {}\\n\".format(Rowan_Atkinson_data[3], Stallone_data[3], similarity_value)\n",
        "file_object.write(text)\n",
        "file_object.close()"
      ],
      "metadata": {
        "id": "TsVJn8D0L6vX"
      },
      "execution_count": 84,
      "outputs": []
    },
    {
      "cell_type": "code",
      "source": [
        "Karolak = \"nm0439878\""
      ],
      "metadata": {
        "id": "HGqhhxmUL7B6"
      },
      "execution_count": 85,
      "outputs": []
    },
    {
      "cell_type": "code",
      "source": [
        "Karolak_data = find_actor_two_datasets(train_data, validate_data, Karolak)"
      ],
      "metadata": {
        "id": "bmxBXBdKMIFT",
        "outputId": "3fcbfb8b-8393-4c3b-a3f6-3c59f977abf1",
        "colab": {
          "base_uri": "https://localhost:8080/",
          "height": 426
        }
      },
      "execution_count": 86,
      "outputs": [
        {
          "output_type": "display_data",
          "data": {
            "text/plain": [
              "                                                                      1697128\n",
              "nconst                                                              nm0439878\n",
              "tconst                      [tt0919717, tt0960079, tt0963452, tt0965545, t...\n",
              "category                                                                actor\n",
              "primaryName                                                    Tomasz Karolak\n",
              "knownForTitles                   [tt0466515, tt1291634, tt1194263, tt1199743]\n",
              "no_nominations_oscars_norm                                                0.0\n",
              "no_nominations_globes_norm                                                0.0\n",
              "no_nominations_emmy_norm                                                  0.5\n",
              "no_films_norm                                                           0.052\n",
              "average_films_rating_norm                                               0.505\n",
              "genres_code                 [1, 1, 1, 0, 1, 1, 0, 0, 0, 0, 0, 0, 0, 0, 0, ...\n",
              "types_code                                  [1, 0, 1, 1, 1, 0, 1, 0, 0, 1, 0]"
            ],
            "text/html": [
              "\n",
              "  <div id=\"df-69408727-1e1f-4e3f-846f-bfabe5ca70ae\">\n",
              "    <div class=\"colab-df-container\">\n",
              "      <div>\n",
              "<style scoped>\n",
              "    .dataframe tbody tr th:only-of-type {\n",
              "        vertical-align: middle;\n",
              "    }\n",
              "\n",
              "    .dataframe tbody tr th {\n",
              "        vertical-align: top;\n",
              "    }\n",
              "\n",
              "    .dataframe thead th {\n",
              "        text-align: right;\n",
              "    }\n",
              "</style>\n",
              "<table border=\"1\" class=\"dataframe\">\n",
              "  <thead>\n",
              "    <tr style=\"text-align: right;\">\n",
              "      <th></th>\n",
              "      <th>1697128</th>\n",
              "    </tr>\n",
              "  </thead>\n",
              "  <tbody>\n",
              "    <tr>\n",
              "      <th>nconst</th>\n",
              "      <td>nm0439878</td>\n",
              "    </tr>\n",
              "    <tr>\n",
              "      <th>tconst</th>\n",
              "      <td>[tt0919717, tt0960079, tt0963452, tt0965545, t...</td>\n",
              "    </tr>\n",
              "    <tr>\n",
              "      <th>category</th>\n",
              "      <td>actor</td>\n",
              "    </tr>\n",
              "    <tr>\n",
              "      <th>primaryName</th>\n",
              "      <td>Tomasz Karolak</td>\n",
              "    </tr>\n",
              "    <tr>\n",
              "      <th>knownForTitles</th>\n",
              "      <td>[tt0466515, tt1291634, tt1194263, tt1199743]</td>\n",
              "    </tr>\n",
              "    <tr>\n",
              "      <th>no_nominations_oscars_norm</th>\n",
              "      <td>0.0</td>\n",
              "    </tr>\n",
              "    <tr>\n",
              "      <th>no_nominations_globes_norm</th>\n",
              "      <td>0.0</td>\n",
              "    </tr>\n",
              "    <tr>\n",
              "      <th>no_nominations_emmy_norm</th>\n",
              "      <td>0.5</td>\n",
              "    </tr>\n",
              "    <tr>\n",
              "      <th>no_films_norm</th>\n",
              "      <td>0.052</td>\n",
              "    </tr>\n",
              "    <tr>\n",
              "      <th>average_films_rating_norm</th>\n",
              "      <td>0.505</td>\n",
              "    </tr>\n",
              "    <tr>\n",
              "      <th>genres_code</th>\n",
              "      <td>[1, 1, 1, 0, 1, 1, 0, 0, 0, 0, 0, 0, 0, 0, 0, ...</td>\n",
              "    </tr>\n",
              "    <tr>\n",
              "      <th>types_code</th>\n",
              "      <td>[1, 0, 1, 1, 1, 0, 1, 0, 0, 1, 0]</td>\n",
              "    </tr>\n",
              "  </tbody>\n",
              "</table>\n",
              "</div>\n",
              "      <button class=\"colab-df-convert\" onclick=\"convertToInteractive('df-69408727-1e1f-4e3f-846f-bfabe5ca70ae')\"\n",
              "              title=\"Convert this dataframe to an interactive table.\"\n",
              "              style=\"display:none;\">\n",
              "        \n",
              "  <svg xmlns=\"http://www.w3.org/2000/svg\" height=\"24px\"viewBox=\"0 0 24 24\"\n",
              "       width=\"24px\">\n",
              "    <path d=\"M0 0h24v24H0V0z\" fill=\"none\"/>\n",
              "    <path d=\"M18.56 5.44l.94 2.06.94-2.06 2.06-.94-2.06-.94-.94-2.06-.94 2.06-2.06.94zm-11 1L8.5 8.5l.94-2.06 2.06-.94-2.06-.94L8.5 2.5l-.94 2.06-2.06.94zm10 10l.94 2.06.94-2.06 2.06-.94-2.06-.94-.94-2.06-.94 2.06-2.06.94z\"/><path d=\"M17.41 7.96l-1.37-1.37c-.4-.4-.92-.59-1.43-.59-.52 0-1.04.2-1.43.59L10.3 9.45l-7.72 7.72c-.78.78-.78 2.05 0 2.83L4 21.41c.39.39.9.59 1.41.59.51 0 1.02-.2 1.41-.59l7.78-7.78 2.81-2.81c.8-.78.8-2.07 0-2.86zM5.41 20L4 18.59l7.72-7.72 1.47 1.35L5.41 20z\"/>\n",
              "  </svg>\n",
              "      </button>\n",
              "      \n",
              "  <style>\n",
              "    .colab-df-container {\n",
              "      display:flex;\n",
              "      flex-wrap:wrap;\n",
              "      gap: 12px;\n",
              "    }\n",
              "\n",
              "    .colab-df-convert {\n",
              "      background-color: #E8F0FE;\n",
              "      border: none;\n",
              "      border-radius: 50%;\n",
              "      cursor: pointer;\n",
              "      display: none;\n",
              "      fill: #1967D2;\n",
              "      height: 32px;\n",
              "      padding: 0 0 0 0;\n",
              "      width: 32px;\n",
              "    }\n",
              "\n",
              "    .colab-df-convert:hover {\n",
              "      background-color: #E2EBFA;\n",
              "      box-shadow: 0px 1px 2px rgba(60, 64, 67, 0.3), 0px 1px 3px 1px rgba(60, 64, 67, 0.15);\n",
              "      fill: #174EA6;\n",
              "    }\n",
              "\n",
              "    [theme=dark] .colab-df-convert {\n",
              "      background-color: #3B4455;\n",
              "      fill: #D2E3FC;\n",
              "    }\n",
              "\n",
              "    [theme=dark] .colab-df-convert:hover {\n",
              "      background-color: #434B5C;\n",
              "      box-shadow: 0px 1px 3px 1px rgba(0, 0, 0, 0.15);\n",
              "      filter: drop-shadow(0px 1px 2px rgba(0, 0, 0, 0.3));\n",
              "      fill: #FFFFFF;\n",
              "    }\n",
              "  </style>\n",
              "\n",
              "      <script>\n",
              "        const buttonEl =\n",
              "          document.querySelector('#df-69408727-1e1f-4e3f-846f-bfabe5ca70ae button.colab-df-convert');\n",
              "        buttonEl.style.display =\n",
              "          google.colab.kernel.accessAllowed ? 'block' : 'none';\n",
              "\n",
              "        async function convertToInteractive(key) {\n",
              "          const element = document.querySelector('#df-69408727-1e1f-4e3f-846f-bfabe5ca70ae');\n",
              "          const dataTable =\n",
              "            await google.colab.kernel.invokeFunction('convertToInteractive',\n",
              "                                                     [key], {});\n",
              "          if (!dataTable) return;\n",
              "\n",
              "          const docLinkHtml = 'Like what you see? Visit the ' +\n",
              "            '<a target=\"_blank\" href=https://colab.research.google.com/notebooks/data_table.ipynb>data table notebook</a>'\n",
              "            + ' to learn more about interactive tables.';\n",
              "          element.innerHTML = '';\n",
              "          dataTable['output_type'] = 'display_data';\n",
              "          await google.colab.output.renderOutput(dataTable, element);\n",
              "          const docLink = document.createElement('div');\n",
              "          docLink.innerHTML = docLinkHtml;\n",
              "          element.appendChild(docLink);\n",
              "        }\n",
              "      </script>\n",
              "    </div>\n",
              "  </div>\n",
              "  "
            ]
          },
          "metadata": {}
        }
      ]
    },
    {
      "cell_type": "code",
      "source": [
        "if Karolak in list(train_data['nconst']):\n",
        "    ids, values = similarity_one_vs_all_new(train_data, Karolak_data, True)\n",
        "    ids, values = select_top_similiar(ids, values, 3)\n",
        "    names = replace_ids_with_names(train_data, ids, 3)\n",
        "elif Karolak in list(validate_data['nconst']):\n",
        "    ids, values = similarity_one_vs_all_new(validate_data, Karolak_data, True)\n",
        "    ids, values = select_top_similiar(ids, values, 3)\n",
        "    names = replace_ids_with_names(validate_data, ids, 3)\n",
        "ranking = print_top_similiar(Karolak_data[3], names, values)"
      ],
      "metadata": {
        "id": "N8MYLvm-MUqd",
        "outputId": "dedcb534-570f-4ac3-ebc2-7bd0fbdb7dbe",
        "colab": {
          "base_uri": "https://localhost:8080/"
        }
      },
      "execution_count": 87,
      "outputs": [
        {
          "output_type": "stream",
          "name": "stdout",
          "text": [
            "Najbardziej podobnymi do Tomasz Karolak aktorami/aktorkami są w kolejności:\n",
            "  - Jacek Braciak z similarity równym: 0.333\n",
            "  - Kostas Halkias z similarity równym: 0.299\n",
            "  - Athinodoros Prousalis z similarity równym: 0.298\n"
          ]
        }
      ]
    },
    {
      "cell_type": "code",
      "source": [
        "file_object = open(RANKINGS, 'a')\n",
        "text = \"Najbardziej podobni do {}:\\n- {}, similarity: {}\\n- {}, similarity: {}\\n- {}, similarity: {}\\n\".format(Karolak[3], names[0], values[0], names[1], values[1], names[2], values[2])\n",
        "file_object.write(text)\n",
        "file_object.close()"
      ],
      "metadata": {
        "id": "6W_LMgkUMkhm",
        "outputId": "09e03a94-ae76-4d3f-b3f5-514ae73ecda4",
        "colab": {
          "base_uri": "https://localhost:8080/"
        }
      },
      "execution_count": 88,
      "outputs": [
        {
          "output_type": "stream",
          "name": "stdout",
          "text": [
            "Wartość similarity dla  4  i  Arnold Schwarzenegger  wynosi:  0.08192695924764881\n"
          ]
        }
      ]
    },
    {
      "cell_type": "code",
      "source": [
        "similarity_value = similarity_new(Karolak_data, Schwarzenegger_data, True)\n",
        "print(\"Wartość similarity dla \", Karolak_data[3], \" i \",Schwarzenegger_data[3], \" wynosi: \", similarity_value)"
      ],
      "metadata": {
        "id": "UqJwnB6LOuRq",
        "outputId": "2c1b13dc-6ffa-4f97-e143-766fda6ada2e",
        "colab": {
          "base_uri": "https://localhost:8080/"
        }
      },
      "execution_count": 99,
      "outputs": [
        {
          "output_type": "stream",
          "name": "stdout",
          "text": [
            "Wartość similarity dla  Tomasz Karolak  i  Arnold Schwarzenegger  wynosi:  0.08192695924764881\n"
          ]
        }
      ]
    },
    {
      "cell_type": "code",
      "source": [
        "file_object = open(SIMILARITY_VALUES, 'a')\n",
        "text = \"{}, {}, similarity value: {}\\n\".format(Karolak_data[3], Schwarzenegger_data[3], similarity_value)\n",
        "file_object.write(text)\n",
        "file_object.close()"
      ],
      "metadata": {
        "id": "lGewLCmgMxqn"
      },
      "execution_count": 89,
      "outputs": []
    },
    {
      "cell_type": "code",
      "source": [
        "Bartosz_Zukowski = \"nm0958546\""
      ],
      "metadata": {
        "id": "Bd6h_52gNGO7"
      },
      "execution_count": 96,
      "outputs": []
    },
    {
      "cell_type": "code",
      "source": [
        "Bartosz_Zukowski_data = find_actor_two_datasets(train_data, validate_data, Bartosz_Zukowski)"
      ],
      "metadata": {
        "id": "AEEdw4rDNJZX",
        "outputId": "5e255937-9f5a-48dd-cc30-933a90b5f64d",
        "colab": {
          "base_uri": "https://localhost:8080/",
          "height": 426
        }
      },
      "execution_count": 97,
      "outputs": [
        {
          "output_type": "display_data",
          "data": {
            "text/plain": [
              "                                                                       130211\n",
              "nconst                                                              nm0958546\n",
              "tconst                      [tt1068541, tt1072694, tt10822596, tt10822650,...\n",
              "category                                                                actor\n",
              "primaryName                                                  Bartosz Zukowski\n",
              "knownForTitles                   [tt0117198, tt0117808, tt1091981, tt1485698]\n",
              "no_nominations_oscars_norm                                                0.0\n",
              "no_nominations_globes_norm                                                0.0\n",
              "no_nominations_emmy_norm                                                  0.5\n",
              "no_films_norm                                                           0.048\n",
              "average_films_rating_norm                                               0.697\n",
              "genres_code                 [1, 1, 0, 0, 1, 0, 0, 0, 0, 0, 0, 0, 0, 0, 0, ...\n",
              "types_code                                  [1, 0, 0, 1, 1, 0, 0, 0, 0, 0, 0]"
            ],
            "text/html": [
              "\n",
              "  <div id=\"df-2f3b9e3e-37c9-4479-baf6-deac4bdf4a9e\">\n",
              "    <div class=\"colab-df-container\">\n",
              "      <div>\n",
              "<style scoped>\n",
              "    .dataframe tbody tr th:only-of-type {\n",
              "        vertical-align: middle;\n",
              "    }\n",
              "\n",
              "    .dataframe tbody tr th {\n",
              "        vertical-align: top;\n",
              "    }\n",
              "\n",
              "    .dataframe thead th {\n",
              "        text-align: right;\n",
              "    }\n",
              "</style>\n",
              "<table border=\"1\" class=\"dataframe\">\n",
              "  <thead>\n",
              "    <tr style=\"text-align: right;\">\n",
              "      <th></th>\n",
              "      <th>130211</th>\n",
              "    </tr>\n",
              "  </thead>\n",
              "  <tbody>\n",
              "    <tr>\n",
              "      <th>nconst</th>\n",
              "      <td>nm0958546</td>\n",
              "    </tr>\n",
              "    <tr>\n",
              "      <th>tconst</th>\n",
              "      <td>[tt1068541, tt1072694, tt10822596, tt10822650,...</td>\n",
              "    </tr>\n",
              "    <tr>\n",
              "      <th>category</th>\n",
              "      <td>actor</td>\n",
              "    </tr>\n",
              "    <tr>\n",
              "      <th>primaryName</th>\n",
              "      <td>Bartosz Zukowski</td>\n",
              "    </tr>\n",
              "    <tr>\n",
              "      <th>knownForTitles</th>\n",
              "      <td>[tt0117198, tt0117808, tt1091981, tt1485698]</td>\n",
              "    </tr>\n",
              "    <tr>\n",
              "      <th>no_nominations_oscars_norm</th>\n",
              "      <td>0.0</td>\n",
              "    </tr>\n",
              "    <tr>\n",
              "      <th>no_nominations_globes_norm</th>\n",
              "      <td>0.0</td>\n",
              "    </tr>\n",
              "    <tr>\n",
              "      <th>no_nominations_emmy_norm</th>\n",
              "      <td>0.5</td>\n",
              "    </tr>\n",
              "    <tr>\n",
              "      <th>no_films_norm</th>\n",
              "      <td>0.048</td>\n",
              "    </tr>\n",
              "    <tr>\n",
              "      <th>average_films_rating_norm</th>\n",
              "      <td>0.697</td>\n",
              "    </tr>\n",
              "    <tr>\n",
              "      <th>genres_code</th>\n",
              "      <td>[1, 1, 0, 0, 1, 0, 0, 0, 0, 0, 0, 0, 0, 0, 0, ...</td>\n",
              "    </tr>\n",
              "    <tr>\n",
              "      <th>types_code</th>\n",
              "      <td>[1, 0, 0, 1, 1, 0, 0, 0, 0, 0, 0]</td>\n",
              "    </tr>\n",
              "  </tbody>\n",
              "</table>\n",
              "</div>\n",
              "      <button class=\"colab-df-convert\" onclick=\"convertToInteractive('df-2f3b9e3e-37c9-4479-baf6-deac4bdf4a9e')\"\n",
              "              title=\"Convert this dataframe to an interactive table.\"\n",
              "              style=\"display:none;\">\n",
              "        \n",
              "  <svg xmlns=\"http://www.w3.org/2000/svg\" height=\"24px\"viewBox=\"0 0 24 24\"\n",
              "       width=\"24px\">\n",
              "    <path d=\"M0 0h24v24H0V0z\" fill=\"none\"/>\n",
              "    <path d=\"M18.56 5.44l.94 2.06.94-2.06 2.06-.94-2.06-.94-.94-2.06-.94 2.06-2.06.94zm-11 1L8.5 8.5l.94-2.06 2.06-.94-2.06-.94L8.5 2.5l-.94 2.06-2.06.94zm10 10l.94 2.06.94-2.06 2.06-.94-2.06-.94-.94-2.06-.94 2.06-2.06.94z\"/><path d=\"M17.41 7.96l-1.37-1.37c-.4-.4-.92-.59-1.43-.59-.52 0-1.04.2-1.43.59L10.3 9.45l-7.72 7.72c-.78.78-.78 2.05 0 2.83L4 21.41c.39.39.9.59 1.41.59.51 0 1.02-.2 1.41-.59l7.78-7.78 2.81-2.81c.8-.78.8-2.07 0-2.86zM5.41 20L4 18.59l7.72-7.72 1.47 1.35L5.41 20z\"/>\n",
              "  </svg>\n",
              "      </button>\n",
              "      \n",
              "  <style>\n",
              "    .colab-df-container {\n",
              "      display:flex;\n",
              "      flex-wrap:wrap;\n",
              "      gap: 12px;\n",
              "    }\n",
              "\n",
              "    .colab-df-convert {\n",
              "      background-color: #E8F0FE;\n",
              "      border: none;\n",
              "      border-radius: 50%;\n",
              "      cursor: pointer;\n",
              "      display: none;\n",
              "      fill: #1967D2;\n",
              "      height: 32px;\n",
              "      padding: 0 0 0 0;\n",
              "      width: 32px;\n",
              "    }\n",
              "\n",
              "    .colab-df-convert:hover {\n",
              "      background-color: #E2EBFA;\n",
              "      box-shadow: 0px 1px 2px rgba(60, 64, 67, 0.3), 0px 1px 3px 1px rgba(60, 64, 67, 0.15);\n",
              "      fill: #174EA6;\n",
              "    }\n",
              "\n",
              "    [theme=dark] .colab-df-convert {\n",
              "      background-color: #3B4455;\n",
              "      fill: #D2E3FC;\n",
              "    }\n",
              "\n",
              "    [theme=dark] .colab-df-convert:hover {\n",
              "      background-color: #434B5C;\n",
              "      box-shadow: 0px 1px 3px 1px rgba(0, 0, 0, 0.15);\n",
              "      filter: drop-shadow(0px 1px 2px rgba(0, 0, 0, 0.3));\n",
              "      fill: #FFFFFF;\n",
              "    }\n",
              "  </style>\n",
              "\n",
              "      <script>\n",
              "        const buttonEl =\n",
              "          document.querySelector('#df-2f3b9e3e-37c9-4479-baf6-deac4bdf4a9e button.colab-df-convert');\n",
              "        buttonEl.style.display =\n",
              "          google.colab.kernel.accessAllowed ? 'block' : 'none';\n",
              "\n",
              "        async function convertToInteractive(key) {\n",
              "          const element = document.querySelector('#df-2f3b9e3e-37c9-4479-baf6-deac4bdf4a9e');\n",
              "          const dataTable =\n",
              "            await google.colab.kernel.invokeFunction('convertToInteractive',\n",
              "                                                     [key], {});\n",
              "          if (!dataTable) return;\n",
              "\n",
              "          const docLinkHtml = 'Like what you see? Visit the ' +\n",
              "            '<a target=\"_blank\" href=https://colab.research.google.com/notebooks/data_table.ipynb>data table notebook</a>'\n",
              "            + ' to learn more about interactive tables.';\n",
              "          element.innerHTML = '';\n",
              "          dataTable['output_type'] = 'display_data';\n",
              "          await google.colab.output.renderOutput(dataTable, element);\n",
              "          const docLink = document.createElement('div');\n",
              "          docLink.innerHTML = docLinkHtml;\n",
              "          element.appendChild(docLink);\n",
              "        }\n",
              "      </script>\n",
              "    </div>\n",
              "  </div>\n",
              "  "
            ]
          },
          "metadata": {}
        }
      ]
    },
    {
      "cell_type": "code",
      "source": [
        "if Bartosz_Zukowski in list(train_data['nconst']):\n",
        "    ids, values = similarity_one_vs_all_new(train_data, Bartosz_Zukowski_data, True)\n",
        "    ids, values = select_top_similiar(ids, values, 3)\n",
        "    names = replace_ids_with_names(train_data, ids, 3)\n",
        "elif Bartosz_Zukowski in list(validate_data['nconst']):\n",
        "    ids, values = similarity_one_vs_all_new(validate_data, Bartosz_Zukowski_data, True)\n",
        "    ids, values = select_top_similiar(ids, values, 3)\n",
        "    names = replace_ids_with_names(validate_data, ids, 3)\n",
        "ranking = print_top_similiar(Bartosz_Zukowski_data[3], names, values)"
      ],
      "metadata": {
        "id": "sylURtg4NO9D",
        "outputId": "d9d34c66-0d63-453a-8e52-7985c25b944f",
        "colab": {
          "base_uri": "https://localhost:8080/"
        }
      },
      "execution_count": 98,
      "outputs": [
        {
          "output_type": "stream",
          "name": "stdout",
          "text": [
            "Najbardziej podobnymi do Bartosz Zukowski aktorami/aktorkami są w kolejności:\n",
            "  - Marzena Kipiel-Sztuka z similarity równym: 0.609\n",
            "  - Barbara Mularczyk z similarity równym: 0.561\n",
            "  - Andrzej Grabowski z similarity równym: 0.394\n"
          ]
        }
      ]
    },
    {
      "cell_type": "code",
      "source": [
        "file_object = open(RANKINGS, 'a')\n",
        "text = \"Najbardziej podobni do {}:\\n- {}, similarity: {}\\n- {}, similarity: {}\\n- {}, similarity: {}\\n\".format(Bartosz_Zukowski[3], names[0], values[0], names[1], values[1], names[2], values[2])\n",
        "file_object.write(text)\n",
        "file_object.close()"
      ],
      "metadata": {
        "id": "2wC5s0tlOy89"
      },
      "execution_count": null,
      "outputs": []
    },
    {
      "cell_type": "code",
      "source": [
        "similarity_value = similarity_new(Bartosz_Zukowski_data, Schwarzenegger_data, True)\n",
        "print(\"Wartość similarity dla \", Bartosz_Zukowski_data[3], \" i \",Schwarzenegger_data[3], \" wynosi: \", similarity_value)"
      ],
      "metadata": {
        "id": "2FRGAXgTNWlA",
        "outputId": "c9a9e7d2-aa26-4ad1-b28b-4c4e929313f8",
        "colab": {
          "base_uri": "https://localhost:8080/"
        }
      },
      "execution_count": 101,
      "outputs": [
        {
          "output_type": "stream",
          "name": "stdout",
          "text": [
            "Wartość similarity dla  9  i  Arnold Schwarzenegger  wynosi:  0.016779122257053247\n"
          ]
        }
      ]
    },
    {
      "cell_type": "code",
      "source": [
        "file_object = open(SIMILARITY_VALUES, 'a')\n",
        "text = \"{}, {}, similarity value: {}\\n\".format(Bartosz_Zukowski_data[3], Schwarzenegger_data[3], similarity_value)\n",
        "file_object.write(text)\n",
        "file_object.close()"
      ],
      "metadata": {
        "id": "0WRtpegZPIOP"
      },
      "execution_count": 102,
      "outputs": []
    },
    {
      "cell_type": "code",
      "source": [
        "Whoopi_Goldberg = \"nm0000155\""
      ],
      "metadata": {
        "id": "UOZpLNBTP6zw"
      },
      "execution_count": 104,
      "outputs": []
    },
    {
      "cell_type": "code",
      "source": [
        "Whoopi_Goldberg_data = find_actor_two_datasets(train_data, validate_data, Whoopi_Goldberg)"
      ],
      "metadata": {
        "id": "X6P4x5XFQED3",
        "outputId": "144ad884-728f-45c6-8e1f-07adef29b0a3",
        "colab": {
          "base_uri": "https://localhost:8080/",
          "height": 426
        }
      },
      "execution_count": 105,
      "outputs": [
        {
          "output_type": "display_data",
          "data": {
            "text/plain": [
              "                                                                       397376\n",
              "nconst                                                              nm0000155\n",
              "tconst                      [tt0088939, tt0110357, tt0747901, tt0747908, t...\n",
              "category                                                              actress\n",
              "primaryName                                                   Whoopi Goldberg\n",
              "knownForTitles                   [tt0108147, tt0088939, tt0099653, tt0105417]\n",
              "no_nominations_oscars_norm                                              0.045\n",
              "no_nominations_globes_norm                                               0.13\n",
              "no_nominations_emmy_norm                                                  0.5\n",
              "no_films_norm                                                           0.019\n",
              "average_films_rating_norm                                               0.676\n",
              "genres_code                 [1, 1, 1, 1, 1, 0, 1, 0, 1, 1, 0, 0, 1, 0, 0, ...\n",
              "types_code                                  [1, 1, 1, 1, 1, 1, 1, 0, 0, 1, 0]"
            ],
            "text/html": [
              "\n",
              "  <div id=\"df-84b24c24-ec20-45b4-81e9-3de0f26b1121\">\n",
              "    <div class=\"colab-df-container\">\n",
              "      <div>\n",
              "<style scoped>\n",
              "    .dataframe tbody tr th:only-of-type {\n",
              "        vertical-align: middle;\n",
              "    }\n",
              "\n",
              "    .dataframe tbody tr th {\n",
              "        vertical-align: top;\n",
              "    }\n",
              "\n",
              "    .dataframe thead th {\n",
              "        text-align: right;\n",
              "    }\n",
              "</style>\n",
              "<table border=\"1\" class=\"dataframe\">\n",
              "  <thead>\n",
              "    <tr style=\"text-align: right;\">\n",
              "      <th></th>\n",
              "      <th>397376</th>\n",
              "    </tr>\n",
              "  </thead>\n",
              "  <tbody>\n",
              "    <tr>\n",
              "      <th>nconst</th>\n",
              "      <td>nm0000155</td>\n",
              "    </tr>\n",
              "    <tr>\n",
              "      <th>tconst</th>\n",
              "      <td>[tt0088939, tt0110357, tt0747901, tt0747908, t...</td>\n",
              "    </tr>\n",
              "    <tr>\n",
              "      <th>category</th>\n",
              "      <td>actress</td>\n",
              "    </tr>\n",
              "    <tr>\n",
              "      <th>primaryName</th>\n",
              "      <td>Whoopi Goldberg</td>\n",
              "    </tr>\n",
              "    <tr>\n",
              "      <th>knownForTitles</th>\n",
              "      <td>[tt0108147, tt0088939, tt0099653, tt0105417]</td>\n",
              "    </tr>\n",
              "    <tr>\n",
              "      <th>no_nominations_oscars_norm</th>\n",
              "      <td>0.045</td>\n",
              "    </tr>\n",
              "    <tr>\n",
              "      <th>no_nominations_globes_norm</th>\n",
              "      <td>0.13</td>\n",
              "    </tr>\n",
              "    <tr>\n",
              "      <th>no_nominations_emmy_norm</th>\n",
              "      <td>0.5</td>\n",
              "    </tr>\n",
              "    <tr>\n",
              "      <th>no_films_norm</th>\n",
              "      <td>0.019</td>\n",
              "    </tr>\n",
              "    <tr>\n",
              "      <th>average_films_rating_norm</th>\n",
              "      <td>0.676</td>\n",
              "    </tr>\n",
              "    <tr>\n",
              "      <th>genres_code</th>\n",
              "      <td>[1, 1, 1, 1, 1, 0, 1, 0, 1, 1, 0, 0, 1, 0, 0, ...</td>\n",
              "    </tr>\n",
              "    <tr>\n",
              "      <th>types_code</th>\n",
              "      <td>[1, 1, 1, 1, 1, 1, 1, 0, 0, 1, 0]</td>\n",
              "    </tr>\n",
              "  </tbody>\n",
              "</table>\n",
              "</div>\n",
              "      <button class=\"colab-df-convert\" onclick=\"convertToInteractive('df-84b24c24-ec20-45b4-81e9-3de0f26b1121')\"\n",
              "              title=\"Convert this dataframe to an interactive table.\"\n",
              "              style=\"display:none;\">\n",
              "        \n",
              "  <svg xmlns=\"http://www.w3.org/2000/svg\" height=\"24px\"viewBox=\"0 0 24 24\"\n",
              "       width=\"24px\">\n",
              "    <path d=\"M0 0h24v24H0V0z\" fill=\"none\"/>\n",
              "    <path d=\"M18.56 5.44l.94 2.06.94-2.06 2.06-.94-2.06-.94-.94-2.06-.94 2.06-2.06.94zm-11 1L8.5 8.5l.94-2.06 2.06-.94-2.06-.94L8.5 2.5l-.94 2.06-2.06.94zm10 10l.94 2.06.94-2.06 2.06-.94-2.06-.94-.94-2.06-.94 2.06-2.06.94z\"/><path d=\"M17.41 7.96l-1.37-1.37c-.4-.4-.92-.59-1.43-.59-.52 0-1.04.2-1.43.59L10.3 9.45l-7.72 7.72c-.78.78-.78 2.05 0 2.83L4 21.41c.39.39.9.59 1.41.59.51 0 1.02-.2 1.41-.59l7.78-7.78 2.81-2.81c.8-.78.8-2.07 0-2.86zM5.41 20L4 18.59l7.72-7.72 1.47 1.35L5.41 20z\"/>\n",
              "  </svg>\n",
              "      </button>\n",
              "      \n",
              "  <style>\n",
              "    .colab-df-container {\n",
              "      display:flex;\n",
              "      flex-wrap:wrap;\n",
              "      gap: 12px;\n",
              "    }\n",
              "\n",
              "    .colab-df-convert {\n",
              "      background-color: #E8F0FE;\n",
              "      border: none;\n",
              "      border-radius: 50%;\n",
              "      cursor: pointer;\n",
              "      display: none;\n",
              "      fill: #1967D2;\n",
              "      height: 32px;\n",
              "      padding: 0 0 0 0;\n",
              "      width: 32px;\n",
              "    }\n",
              "\n",
              "    .colab-df-convert:hover {\n",
              "      background-color: #E2EBFA;\n",
              "      box-shadow: 0px 1px 2px rgba(60, 64, 67, 0.3), 0px 1px 3px 1px rgba(60, 64, 67, 0.15);\n",
              "      fill: #174EA6;\n",
              "    }\n",
              "\n",
              "    [theme=dark] .colab-df-convert {\n",
              "      background-color: #3B4455;\n",
              "      fill: #D2E3FC;\n",
              "    }\n",
              "\n",
              "    [theme=dark] .colab-df-convert:hover {\n",
              "      background-color: #434B5C;\n",
              "      box-shadow: 0px 1px 3px 1px rgba(0, 0, 0, 0.15);\n",
              "      filter: drop-shadow(0px 1px 2px rgba(0, 0, 0, 0.3));\n",
              "      fill: #FFFFFF;\n",
              "    }\n",
              "  </style>\n",
              "\n",
              "      <script>\n",
              "        const buttonEl =\n",
              "          document.querySelector('#df-84b24c24-ec20-45b4-81e9-3de0f26b1121 button.colab-df-convert');\n",
              "        buttonEl.style.display =\n",
              "          google.colab.kernel.accessAllowed ? 'block' : 'none';\n",
              "\n",
              "        async function convertToInteractive(key) {\n",
              "          const element = document.querySelector('#df-84b24c24-ec20-45b4-81e9-3de0f26b1121');\n",
              "          const dataTable =\n",
              "            await google.colab.kernel.invokeFunction('convertToInteractive',\n",
              "                                                     [key], {});\n",
              "          if (!dataTable) return;\n",
              "\n",
              "          const docLinkHtml = 'Like what you see? Visit the ' +\n",
              "            '<a target=\"_blank\" href=https://colab.research.google.com/notebooks/data_table.ipynb>data table notebook</a>'\n",
              "            + ' to learn more about interactive tables.';\n",
              "          element.innerHTML = '';\n",
              "          dataTable['output_type'] = 'display_data';\n",
              "          await google.colab.output.renderOutput(dataTable, element);\n",
              "          const docLink = document.createElement('div');\n",
              "          docLink.innerHTML = docLinkHtml;\n",
              "          element.appendChild(docLink);\n",
              "        }\n",
              "      </script>\n",
              "    </div>\n",
              "  </div>\n",
              "  "
            ]
          },
          "metadata": {}
        }
      ]
    },
    {
      "cell_type": "code",
      "source": [
        "if Whoopi_Goldberg in list(train_data['nconst']):\n",
        "    ids, values = similarity_one_vs_all_new(train_data, Whoopi_Goldberg_data, True)\n",
        "    ids, values = select_top_similiar(ids, values, 3)\n",
        "    names = replace_ids_with_names(train_data, ids, 3)\n",
        "elif Whoopi_Goldberg in list(validate_data['nconst']):\n",
        "    ids, values = similarity_one_vs_all_new(validate_data, Whoopi_Goldberg_data, True)\n",
        "    ids, values = select_top_similiar(ids, values, 3)\n",
        "    names = replace_ids_with_names(validate_data, ids, 3)\n",
        "ranking = print_top_similiar(Whoopi_Goldberg_data[3], names, values)"
      ],
      "metadata": {
        "id": "fOupI0uXQICY",
        "outputId": "df53e93b-7765-4157-a969-ad6922362c2a",
        "colab": {
          "base_uri": "https://localhost:8080/"
        }
      },
      "execution_count": 106,
      "outputs": [
        {
          "output_type": "stream",
          "name": "stdout",
          "text": [
            "Najbardziej podobnymi do Whoopi Goldberg aktorami/aktorkami są w kolejności:\n",
            "  - Kathy Najimy z similarity równym: 0.31\n",
            "  - Elizabeth Ashley z similarity równym: 0.309\n",
            "  - Vanessa Williams z similarity równym: 0.299\n"
          ]
        }
      ]
    },
    {
      "cell_type": "code",
      "source": [
        "file_object = open(RANKINGS, 'a')\n",
        "text = \"Najbardziej podobni do {}:\\n- {}, similarity: {}\\n- {}, similarity: {}\\n- {}, similarity: {}\\n\".format(Whoopi_Goldberg[3], names[0], values[0], names[1], values[1], names[2], values[2])\n",
        "file_object.write(text)\n",
        "file_object.close()"
      ],
      "metadata": {
        "id": "zsk-nuNaQQHe"
      },
      "execution_count": 107,
      "outputs": []
    },
    {
      "cell_type": "code",
      "source": [
        "similarity_value = similarity_new(Whoopi_Goldberg_data, Bartosz_Zukowski_data, True)\n",
        "print(\"Wartość similarity dla \", Whoopi_Goldberg_data[3], \" i \",Bartosz_Zukowski_data[3], \" wynosi: \", similarity_value)"
      ],
      "metadata": {
        "id": "CBVWRfd8QbrN",
        "outputId": "4607c175-fc7b-4f62-bfa8-2bb57fbb4697",
        "colab": {
          "base_uri": "https://localhost:8080/"
        }
      },
      "execution_count": 108,
      "outputs": [
        {
          "output_type": "stream",
          "name": "stdout",
          "text": [
            "Wartość similarity dla  Whoopi Goldberg  i  Bartosz Zukowski  wynosi:  -0.05514570532915353\n"
          ]
        }
      ]
    }
  ]
}