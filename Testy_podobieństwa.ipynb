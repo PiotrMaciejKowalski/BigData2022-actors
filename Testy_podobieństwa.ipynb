{
  "nbformat": 4,
  "nbformat_minor": 0,
  "metadata": {
    "colab": {
      "provenance": [],
      "include_colab_link": true
    },
    "kernelspec": {
      "name": "python3",
      "display_name": "Python 3"
    },
    "language_info": {
      "name": "python"
    }
  },
  "cells": [
    {
      "cell_type": "markdown",
      "metadata": {
        "id": "view-in-github",
        "colab_type": "text"
      },
      "source": [
        "<a href=\"https://colab.research.google.com/github/PiotrMaciejKowalski/BigData2022-actors/blob/Testowanie_aktor%C3%B3w/Testy_podobie%C5%84stwa.ipynb\" target=\"_parent\"><img src=\"https://colab.research.google.com/assets/colab-badge.svg\" alt=\"Open In Colab\"/></a>"
      ]
    },
    {
      "cell_type": "code",
      "execution_count": 51,
      "metadata": {
        "colab": {
          "base_uri": "https://localhost:8080/"
        },
        "id": "Sily_gPgoSU8",
        "outputId": "9c1d46bb-454d-4be4-ea88-4a800925409f"
      },
      "outputs": [
        {
          "output_type": "stream",
          "name": "stdout",
          "text": [
            "Drive already mounted at /content/gdrive; to attempt to forcibly remount, call drive.mount(\"/content/gdrive\", force_remount=True).\n"
          ]
        }
      ],
      "source": [
        "from google.colab import drive\n",
        "drive.mount('/content/gdrive')"
      ]
    },
    {
      "cell_type": "code",
      "source": [
        "!git clone https://github.com/PiotrMaciejKowalski/BigData2022-actors.git\n",
        "!mv /content/BigData2022-actors/* .\n",
        "!mv /content/BigData2022-actors/.* .\n",
        "!rmdir /content/BigData2022-actors/"
      ],
      "metadata": {
        "colab": {
          "base_uri": "https://localhost:8080/"
        },
        "id": "2KJR6jVdpXaf",
        "outputId": "b9378e67-feff-4fdd-c5ba-07fb846868c6"
      },
      "execution_count": 52,
      "outputs": [
        {
          "output_type": "stream",
          "name": "stdout",
          "text": [
            "Cloning into 'BigData2022-actors'...\n",
            "remote: Enumerating objects: 1977, done.\u001b[K\n",
            "remote: Counting objects: 100% (598/598), done.\u001b[K\n",
            "remote: Compressing objects: 100% (220/220), done.\u001b[K\n",
            "remote: Total 1977 (delta 503), reused 432 (delta 377), pack-reused 1379\u001b[K\n",
            "Receiving objects: 100% (1977/1977), 6.13 MiB | 13.76 MiB/s, done.\n",
            "Resolving deltas: 100% (1235/1235), done.\n",
            "mv: cannot move '/content/BigData2022-actors/colabs' to './colabs': Directory not empty\n",
            "mv: cannot move '/content/BigData2022-actors/data' to './data': Directory not empty\n",
            "mv: cannot move '/content/BigData2022-actors/docs' to './docs': Directory not empty\n",
            "mv: cannot move '/content/BigData2022-actors/lib' to './lib': Directory not empty\n",
            "mv: cannot move '/content/BigData2022-actors/notebooks' to './notebooks': Directory not empty\n",
            "mv: cannot move '/content/BigData2022-actors/Rozklady_start' to './Rozklady_start': Directory not empty\n",
            "mv: cannot move '/content/BigData2022-actors/stripped' to './stripped': Directory not empty\n",
            "mv: cannot move '/content/BigData2022-actors/tests' to './tests': Directory not empty\n",
            "mv: cannot move '/content/BigData2022-actors/tutorials' to './tutorials': Directory not empty\n",
            "mv: cannot move '/content/BigData2022-actors/.' to './.': Device or resource busy\n",
            "mv: cannot move '/content/BigData2022-actors/..' to './..': Device or resource busy\n",
            "mv: cannot move '/content/BigData2022-actors/.git' to './.git': Directory not empty\n",
            "rmdir: failed to remove '/content/BigData2022-actors/': Directory not empty\n"
          ]
        }
      ]
    },
    {
      "cell_type": "code",
      "source": [
        "!git checkout Testowanie_aktorów"
      ],
      "metadata": {
        "colab": {
          "base_uri": "https://localhost:8080/"
        },
        "id": "vyHlBSENpZLu",
        "outputId": "97bda674-5d83-418a-e311-6998f061241d"
      },
      "execution_count": 4,
      "outputs": [
        {
          "output_type": "stream",
          "name": "stdout",
          "text": [
            "Branch 'Testowanie_aktorów' set up to track remote branch 'Testowanie_aktorów' from 'origin'.\n",
            "Switched to a new branch 'Testowanie_aktorów'\n"
          ]
        }
      ]
    },
    {
      "cell_type": "code",
      "source": [
        "import pandas as pd\n",
        "from lib.similarity_utils import *\n",
        "from lib.const import TRAIN_DATA, VALIDATE_DATA, SIMILARITY_VALUES, RANKINGS"
      ],
      "metadata": {
        "id": "aj3TmYMMpeq8"
      },
      "execution_count": 5,
      "outputs": []
    },
    {
      "cell_type": "code",
      "source": [
        "%%time\n",
        "train_data = pd.read_parquet(TRAIN_DATA, columns=[\"nconst\", \"tconst\", \"category\", \"primaryName\", \"knownForTitles\",\n",
        "                                                  \"no_nominations_oscars_norm\", \"no_nominations_globes_norm\",\n",
        "                                                  \"no_nominations_emmy_norm\", \"no_films_norm\",\n",
        "                                                  \"average_films_rating_norm\", \"genres_code\", \"types_code\"])\n",
        "validate_data = pd.read_parquet(VALIDATE_DATA, columns=[\"nconst\", \"tconst\", \"category\", \"primaryName\", \"knownForTitles\",\n",
        "                                                  \"no_nominations_oscars_norm\", \"no_nominations_globes_norm\",\n",
        "                                                  \"no_nominations_emmy_norm\", \"no_films_norm\",\n",
        "                                                  \"average_films_rating_norm\", \"genres_code\", \"types_code\"])"
      ],
      "metadata": {
        "colab": {
          "base_uri": "https://localhost:8080/"
        },
        "id": "m7jbcM3tphAB",
        "outputId": "36da9f28-7145-43a2-86a6-b223320a12fc"
      },
      "execution_count": 53,
      "outputs": [
        {
          "output_type": "stream",
          "name": "stdout",
          "text": [
            "CPU times: user 40.3 s, sys: 13.1 s, total: 53.4 s\n",
            "Wall time: 51.1 s\n"
          ]
        }
      ]
    },
    {
      "cell_type": "code",
      "source": [
        "Dumbledore1 = \"nm0001354\""
      ],
      "metadata": {
        "id": "tL1lwURPpjIj"
      },
      "execution_count": 54,
      "outputs": []
    },
    {
      "cell_type": "code",
      "source": [
        "Dumbledore1_data = find_actor_two_datasets(train_data, validate_data, Dumbledore1)"
      ],
      "metadata": {
        "colab": {
          "base_uri": "https://localhost:8080/",
          "height": 425
        },
        "id": "8gCoxVWqtGiP",
        "outputId": "3ae6371c-3b9a-4675-ce2b-1b72d6eaaded"
      },
      "execution_count": null,
      "outputs": [
        {
          "output_type": "display_data",
          "data": {
            "text/plain": [
              "                                                                       337803\n",
              "nconst                                                              nm0001354\n",
              "tconst                      [tt0114117, tt0325703, tt1346961, tt15210882, ...\n",
              "category                                                                actor\n",
              "primaryName                                                      Ciarán Hinds\n",
              "knownForTitles                  [tt1201607, tt1596365, tt1340800, tt12789558]\n",
              "no_nominations_oscars_norm                                                0.0\n",
              "no_nominations_globes_norm                                                0.0\n",
              "no_nominations_emmy_norm                                                  0.5\n",
              "no_films_norm                                                           0.009\n",
              "average_films_rating_norm                                               0.704\n",
              "genres_code                 [1, 1, 1, 1, 1, 1, 1, 0, 1, 1, 0, 0, 1, 1, 0, ...\n",
              "types_code                                  [1, 1, 1, 1, 1, 0, 1, 0, 0, 1, 0]"
            ],
            "text/html": [
              "\n",
              "  <div id=\"df-437f8dcd-9662-4d8f-8b43-2fb9a1de713e\">\n",
              "    <div class=\"colab-df-container\">\n",
              "      <div>\n",
              "<style scoped>\n",
              "    .dataframe tbody tr th:only-of-type {\n",
              "        vertical-align: middle;\n",
              "    }\n",
              "\n",
              "    .dataframe tbody tr th {\n",
              "        vertical-align: top;\n",
              "    }\n",
              "\n",
              "    .dataframe thead th {\n",
              "        text-align: right;\n",
              "    }\n",
              "</style>\n",
              "<table border=\"1\" class=\"dataframe\">\n",
              "  <thead>\n",
              "    <tr style=\"text-align: right;\">\n",
              "      <th></th>\n",
              "      <th>337803</th>\n",
              "    </tr>\n",
              "  </thead>\n",
              "  <tbody>\n",
              "    <tr>\n",
              "      <th>nconst</th>\n",
              "      <td>nm0001354</td>\n",
              "    </tr>\n",
              "    <tr>\n",
              "      <th>tconst</th>\n",
              "      <td>[tt0114117, tt0325703, tt1346961, tt15210882, ...</td>\n",
              "    </tr>\n",
              "    <tr>\n",
              "      <th>category</th>\n",
              "      <td>actor</td>\n",
              "    </tr>\n",
              "    <tr>\n",
              "      <th>primaryName</th>\n",
              "      <td>Ciarán Hinds</td>\n",
              "    </tr>\n",
              "    <tr>\n",
              "      <th>knownForTitles</th>\n",
              "      <td>[tt1201607, tt1596365, tt1340800, tt12789558]</td>\n",
              "    </tr>\n",
              "    <tr>\n",
              "      <th>no_nominations_oscars_norm</th>\n",
              "      <td>0.0</td>\n",
              "    </tr>\n",
              "    <tr>\n",
              "      <th>no_nominations_globes_norm</th>\n",
              "      <td>0.0</td>\n",
              "    </tr>\n",
              "    <tr>\n",
              "      <th>no_nominations_emmy_norm</th>\n",
              "      <td>0.5</td>\n",
              "    </tr>\n",
              "    <tr>\n",
              "      <th>no_films_norm</th>\n",
              "      <td>0.009</td>\n",
              "    </tr>\n",
              "    <tr>\n",
              "      <th>average_films_rating_norm</th>\n",
              "      <td>0.704</td>\n",
              "    </tr>\n",
              "    <tr>\n",
              "      <th>genres_code</th>\n",
              "      <td>[1, 1, 1, 1, 1, 1, 1, 0, 1, 1, 0, 0, 1, 1, 0, ...</td>\n",
              "    </tr>\n",
              "    <tr>\n",
              "      <th>types_code</th>\n",
              "      <td>[1, 1, 1, 1, 1, 0, 1, 0, 0, 1, 0]</td>\n",
              "    </tr>\n",
              "  </tbody>\n",
              "</table>\n",
              "</div>\n",
              "      <button class=\"colab-df-convert\" onclick=\"convertToInteractive('df-437f8dcd-9662-4d8f-8b43-2fb9a1de713e')\"\n",
              "              title=\"Convert this dataframe to an interactive table.\"\n",
              "              style=\"display:none;\">\n",
              "        \n",
              "  <svg xmlns=\"http://www.w3.org/2000/svg\" height=\"24px\"viewBox=\"0 0 24 24\"\n",
              "       width=\"24px\">\n",
              "    <path d=\"M0 0h24v24H0V0z\" fill=\"none\"/>\n",
              "    <path d=\"M18.56 5.44l.94 2.06.94-2.06 2.06-.94-2.06-.94-.94-2.06-.94 2.06-2.06.94zm-11 1L8.5 8.5l.94-2.06 2.06-.94-2.06-.94L8.5 2.5l-.94 2.06-2.06.94zm10 10l.94 2.06.94-2.06 2.06-.94-2.06-.94-.94-2.06-.94 2.06-2.06.94z\"/><path d=\"M17.41 7.96l-1.37-1.37c-.4-.4-.92-.59-1.43-.59-.52 0-1.04.2-1.43.59L10.3 9.45l-7.72 7.72c-.78.78-.78 2.05 0 2.83L4 21.41c.39.39.9.59 1.41.59.51 0 1.02-.2 1.41-.59l7.78-7.78 2.81-2.81c.8-.78.8-2.07 0-2.86zM5.41 20L4 18.59l7.72-7.72 1.47 1.35L5.41 20z\"/>\n",
              "  </svg>\n",
              "      </button>\n",
              "      \n",
              "  <style>\n",
              "    .colab-df-container {\n",
              "      display:flex;\n",
              "      flex-wrap:wrap;\n",
              "      gap: 12px;\n",
              "    }\n",
              "\n",
              "    .colab-df-convert {\n",
              "      background-color: #E8F0FE;\n",
              "      border: none;\n",
              "      border-radius: 50%;\n",
              "      cursor: pointer;\n",
              "      display: none;\n",
              "      fill: #1967D2;\n",
              "      height: 32px;\n",
              "      padding: 0 0 0 0;\n",
              "      width: 32px;\n",
              "    }\n",
              "\n",
              "    .colab-df-convert:hover {\n",
              "      background-color: #E2EBFA;\n",
              "      box-shadow: 0px 1px 2px rgba(60, 64, 67, 0.3), 0px 1px 3px 1px rgba(60, 64, 67, 0.15);\n",
              "      fill: #174EA6;\n",
              "    }\n",
              "\n",
              "    [theme=dark] .colab-df-convert {\n",
              "      background-color: #3B4455;\n",
              "      fill: #D2E3FC;\n",
              "    }\n",
              "\n",
              "    [theme=dark] .colab-df-convert:hover {\n",
              "      background-color: #434B5C;\n",
              "      box-shadow: 0px 1px 3px 1px rgba(0, 0, 0, 0.15);\n",
              "      filter: drop-shadow(0px 1px 2px rgba(0, 0, 0, 0.3));\n",
              "      fill: #FFFFFF;\n",
              "    }\n",
              "  </style>\n",
              "\n",
              "      <script>\n",
              "        const buttonEl =\n",
              "          document.querySelector('#df-437f8dcd-9662-4d8f-8b43-2fb9a1de713e button.colab-df-convert');\n",
              "        buttonEl.style.display =\n",
              "          google.colab.kernel.accessAllowed ? 'block' : 'none';\n",
              "\n",
              "        async function convertToInteractive(key) {\n",
              "          const element = document.querySelector('#df-437f8dcd-9662-4d8f-8b43-2fb9a1de713e');\n",
              "          const dataTable =\n",
              "            await google.colab.kernel.invokeFunction('convertToInteractive',\n",
              "                                                     [key], {});\n",
              "          if (!dataTable) return;\n",
              "\n",
              "          const docLinkHtml = 'Like what you see? Visit the ' +\n",
              "            '<a target=\"_blank\" href=https://colab.research.google.com/notebooks/data_table.ipynb>data table notebook</a>'\n",
              "            + ' to learn more about interactive tables.';\n",
              "          element.innerHTML = '';\n",
              "          dataTable['output_type'] = 'display_data';\n",
              "          await google.colab.output.renderOutput(dataTable, element);\n",
              "          const docLink = document.createElement('div');\n",
              "          docLink.innerHTML = docLinkHtml;\n",
              "          element.appendChild(docLink);\n",
              "        }\n",
              "      </script>\n",
              "    </div>\n",
              "  </div>\n",
              "  "
            ]
          },
          "metadata": {}
        }
      ]
    },
    {
      "cell_type": "code",
      "source": [
        "Dumbledore2 = \"nm0002091\""
      ],
      "metadata": {
        "id": "DUyaa5Wdsc80"
      },
      "execution_count": null,
      "outputs": []
    },
    {
      "cell_type": "code",
      "source": [
        "Dumbledore2_data = find_actor_two_datasets(train_data, validate_data, Dumbledore2)"
      ],
      "metadata": {
        "colab": {
          "base_uri": "https://localhost:8080/",
          "height": 425
        },
        "id": "hmZPztN9wE6Z",
        "outputId": "cc49aea8-481c-4020-d0e3-65978d99ba3a"
      },
      "execution_count": null,
      "outputs": [
        {
          "output_type": "display_data",
          "data": {
            "text/plain": [
              "                                                                       207959\n",
              "nconst                                                              nm0002091\n",
              "tconst                      [tt0375912, tt0530347, tt0639862, tt0706492, t...\n",
              "category                                                                actor\n",
              "primaryName                                                    Michael Gambon\n",
              "knownForTitles                   [tt1504320, tt0097108, tt0280707, tt0417741]\n",
              "no_nominations_oscars_norm                                                0.0\n",
              "no_nominations_globes_norm                                              0.043\n",
              "no_nominations_emmy_norm                                                  0.5\n",
              "no_films_norm                                                           0.016\n",
              "average_films_rating_norm                                               0.728\n",
              "genres_code                 [1, 1, 1, 1, 1, 1, 1, 0, 1, 1, 0, 0, 1, 1, 0, ...\n",
              "types_code                                  [1, 1, 1, 1, 1, 0, 1, 1, 1, 1, 0]"
            ],
            "text/html": [
              "\n",
              "  <div id=\"df-5a9c8036-91e0-44c9-84cf-8076252a9f52\">\n",
              "    <div class=\"colab-df-container\">\n",
              "      <div>\n",
              "<style scoped>\n",
              "    .dataframe tbody tr th:only-of-type {\n",
              "        vertical-align: middle;\n",
              "    }\n",
              "\n",
              "    .dataframe tbody tr th {\n",
              "        vertical-align: top;\n",
              "    }\n",
              "\n",
              "    .dataframe thead th {\n",
              "        text-align: right;\n",
              "    }\n",
              "</style>\n",
              "<table border=\"1\" class=\"dataframe\">\n",
              "  <thead>\n",
              "    <tr style=\"text-align: right;\">\n",
              "      <th></th>\n",
              "      <th>207959</th>\n",
              "    </tr>\n",
              "  </thead>\n",
              "  <tbody>\n",
              "    <tr>\n",
              "      <th>nconst</th>\n",
              "      <td>nm0002091</td>\n",
              "    </tr>\n",
              "    <tr>\n",
              "      <th>tconst</th>\n",
              "      <td>[tt0375912, tt0530347, tt0639862, tt0706492, t...</td>\n",
              "    </tr>\n",
              "    <tr>\n",
              "      <th>category</th>\n",
              "      <td>actor</td>\n",
              "    </tr>\n",
              "    <tr>\n",
              "      <th>primaryName</th>\n",
              "      <td>Michael Gambon</td>\n",
              "    </tr>\n",
              "    <tr>\n",
              "      <th>knownForTitles</th>\n",
              "      <td>[tt1504320, tt0097108, tt0280707, tt0417741]</td>\n",
              "    </tr>\n",
              "    <tr>\n",
              "      <th>no_nominations_oscars_norm</th>\n",
              "      <td>0.0</td>\n",
              "    </tr>\n",
              "    <tr>\n",
              "      <th>no_nominations_globes_norm</th>\n",
              "      <td>0.043</td>\n",
              "    </tr>\n",
              "    <tr>\n",
              "      <th>no_nominations_emmy_norm</th>\n",
              "      <td>0.5</td>\n",
              "    </tr>\n",
              "    <tr>\n",
              "      <th>no_films_norm</th>\n",
              "      <td>0.016</td>\n",
              "    </tr>\n",
              "    <tr>\n",
              "      <th>average_films_rating_norm</th>\n",
              "      <td>0.728</td>\n",
              "    </tr>\n",
              "    <tr>\n",
              "      <th>genres_code</th>\n",
              "      <td>[1, 1, 1, 1, 1, 1, 1, 0, 1, 1, 0, 0, 1, 1, 0, ...</td>\n",
              "    </tr>\n",
              "    <tr>\n",
              "      <th>types_code</th>\n",
              "      <td>[1, 1, 1, 1, 1, 0, 1, 1, 1, 1, 0]</td>\n",
              "    </tr>\n",
              "  </tbody>\n",
              "</table>\n",
              "</div>\n",
              "      <button class=\"colab-df-convert\" onclick=\"convertToInteractive('df-5a9c8036-91e0-44c9-84cf-8076252a9f52')\"\n",
              "              title=\"Convert this dataframe to an interactive table.\"\n",
              "              style=\"display:none;\">\n",
              "        \n",
              "  <svg xmlns=\"http://www.w3.org/2000/svg\" height=\"24px\"viewBox=\"0 0 24 24\"\n",
              "       width=\"24px\">\n",
              "    <path d=\"M0 0h24v24H0V0z\" fill=\"none\"/>\n",
              "    <path d=\"M18.56 5.44l.94 2.06.94-2.06 2.06-.94-2.06-.94-.94-2.06-.94 2.06-2.06.94zm-11 1L8.5 8.5l.94-2.06 2.06-.94-2.06-.94L8.5 2.5l-.94 2.06-2.06.94zm10 10l.94 2.06.94-2.06 2.06-.94-2.06-.94-.94-2.06-.94 2.06-2.06.94z\"/><path d=\"M17.41 7.96l-1.37-1.37c-.4-.4-.92-.59-1.43-.59-.52 0-1.04.2-1.43.59L10.3 9.45l-7.72 7.72c-.78.78-.78 2.05 0 2.83L4 21.41c.39.39.9.59 1.41.59.51 0 1.02-.2 1.41-.59l7.78-7.78 2.81-2.81c.8-.78.8-2.07 0-2.86zM5.41 20L4 18.59l7.72-7.72 1.47 1.35L5.41 20z\"/>\n",
              "  </svg>\n",
              "      </button>\n",
              "      \n",
              "  <style>\n",
              "    .colab-df-container {\n",
              "      display:flex;\n",
              "      flex-wrap:wrap;\n",
              "      gap: 12px;\n",
              "    }\n",
              "\n",
              "    .colab-df-convert {\n",
              "      background-color: #E8F0FE;\n",
              "      border: none;\n",
              "      border-radius: 50%;\n",
              "      cursor: pointer;\n",
              "      display: none;\n",
              "      fill: #1967D2;\n",
              "      height: 32px;\n",
              "      padding: 0 0 0 0;\n",
              "      width: 32px;\n",
              "    }\n",
              "\n",
              "    .colab-df-convert:hover {\n",
              "      background-color: #E2EBFA;\n",
              "      box-shadow: 0px 1px 2px rgba(60, 64, 67, 0.3), 0px 1px 3px 1px rgba(60, 64, 67, 0.15);\n",
              "      fill: #174EA6;\n",
              "    }\n",
              "\n",
              "    [theme=dark] .colab-df-convert {\n",
              "      background-color: #3B4455;\n",
              "      fill: #D2E3FC;\n",
              "    }\n",
              "\n",
              "    [theme=dark] .colab-df-convert:hover {\n",
              "      background-color: #434B5C;\n",
              "      box-shadow: 0px 1px 3px 1px rgba(0, 0, 0, 0.15);\n",
              "      filter: drop-shadow(0px 1px 2px rgba(0, 0, 0, 0.3));\n",
              "      fill: #FFFFFF;\n",
              "    }\n",
              "  </style>\n",
              "\n",
              "      <script>\n",
              "        const buttonEl =\n",
              "          document.querySelector('#df-5a9c8036-91e0-44c9-84cf-8076252a9f52 button.colab-df-convert');\n",
              "        buttonEl.style.display =\n",
              "          google.colab.kernel.accessAllowed ? 'block' : 'none';\n",
              "\n",
              "        async function convertToInteractive(key) {\n",
              "          const element = document.querySelector('#df-5a9c8036-91e0-44c9-84cf-8076252a9f52');\n",
              "          const dataTable =\n",
              "            await google.colab.kernel.invokeFunction('convertToInteractive',\n",
              "                                                     [key], {});\n",
              "          if (!dataTable) return;\n",
              "\n",
              "          const docLinkHtml = 'Like what you see? Visit the ' +\n",
              "            '<a target=\"_blank\" href=https://colab.research.google.com/notebooks/data_table.ipynb>data table notebook</a>'\n",
              "            + ' to learn more about interactive tables.';\n",
              "          element.innerHTML = '';\n",
              "          dataTable['output_type'] = 'display_data';\n",
              "          await google.colab.output.renderOutput(dataTable, element);\n",
              "          const docLink = document.createElement('div');\n",
              "          docLink.innerHTML = docLinkHtml;\n",
              "          element.appendChild(docLink);\n",
              "        }\n",
              "      </script>\n",
              "    </div>\n",
              "  </div>\n",
              "  "
            ]
          },
          "metadata": {}
        }
      ]
    },
    {
      "cell_type": "code",
      "source": [
        "similarity_value = similarity_new(Dumbledore1_data, Dumbledore2_data, True)\n",
        "print(\"Wartość similarity dla \", Dumbledore1_data[3], \" i \", Dumbledore2_data[3], \" wynosi: \", similarity_value)"
      ],
      "metadata": {
        "colab": {
          "base_uri": "https://localhost:8080/"
        },
        "id": "GyTE3mlTw4-x",
        "outputId": "734a7cd4-a72d-4e3a-e4da-b754d63a9f6c"
      },
      "execution_count": null,
      "outputs": [
        {
          "output_type": "stream",
          "name": "stdout",
          "text": [
            "Wartość similarity dla  Ciarán Hinds  i  Michael Gambon  wynosi:  0.22323040752351075\n"
          ]
        }
      ]
    },
    {
      "cell_type": "code",
      "source": [
        "file_object = open(SIMILARITY_VALUES, 'a')\n",
        "text = \"{}, {}, similarity value: {}\\n\".format(Dumbledore1_data[3], Dumbledore2_data[3], similarity_value)\n",
        "file_object.write(text)\n",
        "file_object.close()"
      ],
      "metadata": {
        "id": "AKKpgxgfxf8o"
      },
      "execution_count": null,
      "outputs": []
    },
    {
      "cell_type": "markdown",
      "source": [
        "Zostali porównani aktorzy, którzy w filmie \"Harry Potter\" byli braćmi. Similarity wyszło dodatnie "
      ],
      "metadata": {
        "id": "n19txjrTzkc_"
      }
    },
    {
      "cell_type": "markdown",
      "source": [
        "Sprawdźmy co wyjdzie, gdy porównamy aktorów przeciwnych płci, ale grających w tym samym filmie - weźmiemy Emmę Watson oraz Ciarana Hindsa."
      ],
      "metadata": {
        "id": "945YK2I_IJmB"
      }
    },
    {
      "cell_type": "code",
      "source": [
        "Emma_Watson = \"nm0914612\""
      ],
      "metadata": {
        "id": "QdOpBlJTIeXX"
      },
      "execution_count": null,
      "outputs": []
    },
    {
      "cell_type": "code",
      "source": [
        "Emma_Watson_data = find_actor_two_datasets(train_data, validate_data, Emma_Watson)"
      ],
      "metadata": {
        "colab": {
          "base_uri": "https://localhost:8080/",
          "height": 425
        },
        "id": "5Q2krpNyI30H",
        "outputId": "5f9ca2e1-44be-4c62-cf97-10de52ccfb3d"
      },
      "execution_count": null,
      "outputs": [
        {
          "output_type": "display_data",
          "data": {
            "text/plain": [
              "                                                                      1242106\n",
              "nconst                                                              nm0914612\n",
              "tconst                      [tt1083845, tt3281548, tt0417741, tt1659337, t...\n",
              "category                                                              actress\n",
              "primaryName                                                       Emma Watson\n",
              "knownForTitles                   [tt2132285, tt0241527, tt2771200, tt1659337]\n",
              "no_nominations_oscars_norm                                                0.0\n",
              "no_nominations_globes_norm                                                0.0\n",
              "no_nominations_emmy_norm                                                  0.5\n",
              "no_films_norm                                                           0.002\n",
              "average_films_rating_norm                                               0.702\n",
              "genres_code                 [1, 1, 1, 1, 1, 0, 0, 0, 1, 1, 0, 0, 1, 0, 0, ...\n",
              "types_code                                  [0, 0, 1, 1, 1, 0, 0, 0, 0, 1, 0]"
            ],
            "text/html": [
              "\n",
              "  <div id=\"df-68a6ae43-1bb9-4929-aa2b-11fafc6e708c\">\n",
              "    <div class=\"colab-df-container\">\n",
              "      <div>\n",
              "<style scoped>\n",
              "    .dataframe tbody tr th:only-of-type {\n",
              "        vertical-align: middle;\n",
              "    }\n",
              "\n",
              "    .dataframe tbody tr th {\n",
              "        vertical-align: top;\n",
              "    }\n",
              "\n",
              "    .dataframe thead th {\n",
              "        text-align: right;\n",
              "    }\n",
              "</style>\n",
              "<table border=\"1\" class=\"dataframe\">\n",
              "  <thead>\n",
              "    <tr style=\"text-align: right;\">\n",
              "      <th></th>\n",
              "      <th>1242106</th>\n",
              "    </tr>\n",
              "  </thead>\n",
              "  <tbody>\n",
              "    <tr>\n",
              "      <th>nconst</th>\n",
              "      <td>nm0914612</td>\n",
              "    </tr>\n",
              "    <tr>\n",
              "      <th>tconst</th>\n",
              "      <td>[tt1083845, tt3281548, tt0417741, tt1659337, t...</td>\n",
              "    </tr>\n",
              "    <tr>\n",
              "      <th>category</th>\n",
              "      <td>actress</td>\n",
              "    </tr>\n",
              "    <tr>\n",
              "      <th>primaryName</th>\n",
              "      <td>Emma Watson</td>\n",
              "    </tr>\n",
              "    <tr>\n",
              "      <th>knownForTitles</th>\n",
              "      <td>[tt2132285, tt0241527, tt2771200, tt1659337]</td>\n",
              "    </tr>\n",
              "    <tr>\n",
              "      <th>no_nominations_oscars_norm</th>\n",
              "      <td>0.0</td>\n",
              "    </tr>\n",
              "    <tr>\n",
              "      <th>no_nominations_globes_norm</th>\n",
              "      <td>0.0</td>\n",
              "    </tr>\n",
              "    <tr>\n",
              "      <th>no_nominations_emmy_norm</th>\n",
              "      <td>0.5</td>\n",
              "    </tr>\n",
              "    <tr>\n",
              "      <th>no_films_norm</th>\n",
              "      <td>0.002</td>\n",
              "    </tr>\n",
              "    <tr>\n",
              "      <th>average_films_rating_norm</th>\n",
              "      <td>0.702</td>\n",
              "    </tr>\n",
              "    <tr>\n",
              "      <th>genres_code</th>\n",
              "      <td>[1, 1, 1, 1, 1, 0, 0, 0, 1, 1, 0, 0, 1, 0, 0, ...</td>\n",
              "    </tr>\n",
              "    <tr>\n",
              "      <th>types_code</th>\n",
              "      <td>[0, 0, 1, 1, 1, 0, 0, 0, 0, 1, 0]</td>\n",
              "    </tr>\n",
              "  </tbody>\n",
              "</table>\n",
              "</div>\n",
              "      <button class=\"colab-df-convert\" onclick=\"convertToInteractive('df-68a6ae43-1bb9-4929-aa2b-11fafc6e708c')\"\n",
              "              title=\"Convert this dataframe to an interactive table.\"\n",
              "              style=\"display:none;\">\n",
              "        \n",
              "  <svg xmlns=\"http://www.w3.org/2000/svg\" height=\"24px\"viewBox=\"0 0 24 24\"\n",
              "       width=\"24px\">\n",
              "    <path d=\"M0 0h24v24H0V0z\" fill=\"none\"/>\n",
              "    <path d=\"M18.56 5.44l.94 2.06.94-2.06 2.06-.94-2.06-.94-.94-2.06-.94 2.06-2.06.94zm-11 1L8.5 8.5l.94-2.06 2.06-.94-2.06-.94L8.5 2.5l-.94 2.06-2.06.94zm10 10l.94 2.06.94-2.06 2.06-.94-2.06-.94-.94-2.06-.94 2.06-2.06.94z\"/><path d=\"M17.41 7.96l-1.37-1.37c-.4-.4-.92-.59-1.43-.59-.52 0-1.04.2-1.43.59L10.3 9.45l-7.72 7.72c-.78.78-.78 2.05 0 2.83L4 21.41c.39.39.9.59 1.41.59.51 0 1.02-.2 1.41-.59l7.78-7.78 2.81-2.81c.8-.78.8-2.07 0-2.86zM5.41 20L4 18.59l7.72-7.72 1.47 1.35L5.41 20z\"/>\n",
              "  </svg>\n",
              "      </button>\n",
              "      \n",
              "  <style>\n",
              "    .colab-df-container {\n",
              "      display:flex;\n",
              "      flex-wrap:wrap;\n",
              "      gap: 12px;\n",
              "    }\n",
              "\n",
              "    .colab-df-convert {\n",
              "      background-color: #E8F0FE;\n",
              "      border: none;\n",
              "      border-radius: 50%;\n",
              "      cursor: pointer;\n",
              "      display: none;\n",
              "      fill: #1967D2;\n",
              "      height: 32px;\n",
              "      padding: 0 0 0 0;\n",
              "      width: 32px;\n",
              "    }\n",
              "\n",
              "    .colab-df-convert:hover {\n",
              "      background-color: #E2EBFA;\n",
              "      box-shadow: 0px 1px 2px rgba(60, 64, 67, 0.3), 0px 1px 3px 1px rgba(60, 64, 67, 0.15);\n",
              "      fill: #174EA6;\n",
              "    }\n",
              "\n",
              "    [theme=dark] .colab-df-convert {\n",
              "      background-color: #3B4455;\n",
              "      fill: #D2E3FC;\n",
              "    }\n",
              "\n",
              "    [theme=dark] .colab-df-convert:hover {\n",
              "      background-color: #434B5C;\n",
              "      box-shadow: 0px 1px 3px 1px rgba(0, 0, 0, 0.15);\n",
              "      filter: drop-shadow(0px 1px 2px rgba(0, 0, 0, 0.3));\n",
              "      fill: #FFFFFF;\n",
              "    }\n",
              "  </style>\n",
              "\n",
              "      <script>\n",
              "        const buttonEl =\n",
              "          document.querySelector('#df-68a6ae43-1bb9-4929-aa2b-11fafc6e708c button.colab-df-convert');\n",
              "        buttonEl.style.display =\n",
              "          google.colab.kernel.accessAllowed ? 'block' : 'none';\n",
              "\n",
              "        async function convertToInteractive(key) {\n",
              "          const element = document.querySelector('#df-68a6ae43-1bb9-4929-aa2b-11fafc6e708c');\n",
              "          const dataTable =\n",
              "            await google.colab.kernel.invokeFunction('convertToInteractive',\n",
              "                                                     [key], {});\n",
              "          if (!dataTable) return;\n",
              "\n",
              "          const docLinkHtml = 'Like what you see? Visit the ' +\n",
              "            '<a target=\"_blank\" href=https://colab.research.google.com/notebooks/data_table.ipynb>data table notebook</a>'\n",
              "            + ' to learn more about interactive tables.';\n",
              "          element.innerHTML = '';\n",
              "          dataTable['output_type'] = 'display_data';\n",
              "          await google.colab.output.renderOutput(dataTable, element);\n",
              "          const docLink = document.createElement('div');\n",
              "          docLink.innerHTML = docLinkHtml;\n",
              "          element.appendChild(docLink);\n",
              "        }\n",
              "      </script>\n",
              "    </div>\n",
              "  </div>\n",
              "  "
            ]
          },
          "metadata": {}
        }
      ]
    },
    {
      "cell_type": "code",
      "source": [
        "similarity_value2 = similarity_new(Dumbledore2_data, Emma_Watson_data, True)\n",
        "print(\"Wartość similarity dla \", Dumbledore2_data[3], \" i \", Emma_Watson_data[3], \" wynosi: \", similarity_value)"
      ],
      "metadata": {
        "colab": {
          "base_uri": "https://localhost:8080/"
        },
        "id": "y93lzC9xIml0",
        "outputId": "55e791df-2e43-4bc4-bb76-b5bfbc64dacd"
      },
      "execution_count": null,
      "outputs": [
        {
          "output_type": "stream",
          "name": "stdout",
          "text": [
            "Wartość similarity dla  Michael Gambon  i  Emma Watson  wynosi:  0.22323040752351075\n"
          ]
        }
      ]
    },
    {
      "cell_type": "markdown",
      "source": [],
      "metadata": {
        "id": "xzzTdL5zMh83"
      }
    },
    {
      "cell_type": "code",
      "source": [
        "similarity_value3 = similarity_new(Dumbledore1_data, Emma_Watson_data, True)\n",
        "print(\"Wartość similarity dla \", Dumbledore1_data[3], \" i \", Emma_Watson_data[3], \" wynosi: \", similarity_value)"
      ],
      "metadata": {
        "colab": {
          "base_uri": "https://localhost:8080/"
        },
        "id": "i4LETpMCQV0_",
        "outputId": "a90e3f85-8e9d-4328-9536-4fca10e3cf4c"
      },
      "execution_count": null,
      "outputs": [
        {
          "output_type": "stream",
          "name": "stdout",
          "text": [
            "Wartość similarity dla  Ciarán Hinds  i  Emma Watson  wynosi:  0.22323040752351075\n"
          ]
        }
      ]
    },
    {
      "cell_type": "markdown",
      "source": [
        "Sprawdzimy teraz co się pokaże, kiedy wezmę tę samą płeć, ale różny wiek i różne filmy, w których grały. Np. Emma Watson i Jennifer Aniston."
      ],
      "metadata": {
        "id": "l759gkKzQ8If"
      }
    },
    {
      "cell_type": "code",
      "source": [
        "Jennifer_Aniston = \"nm0000098\""
      ],
      "metadata": {
        "id": "er3BGclrQ7Bg"
      },
      "execution_count": null,
      "outputs": []
    },
    {
      "cell_type": "code",
      "source": [
        "Jennifer_Aniston_data = find_actor_two_datasets(train_data, validate_data, Jennifer_Aniston)"
      ],
      "metadata": {
        "colab": {
          "base_uri": "https://localhost:8080/",
          "height": 425
        },
        "id": "A4Uc3ptoROP-",
        "outputId": "d870de96-8c22-4c5b-e3dc-75af6f2f2102"
      },
      "execution_count": null,
      "outputs": [
        {
          "output_type": "display_data",
          "data": {
            "text/plain": [
              "                                                                       834000\n",
              "nconst                                                              nm0000098\n",
              "tconst                      [tt0569285, tt0578935, tt0583456, tt0583435, t...\n",
              "category                                                              actress\n",
              "primaryName                                                  Jennifer Aniston\n",
              "knownForTitles                   [tt1564367, tt3442006, tt0108778, tt1723121]\n",
              "no_nominations_oscars_norm                                                0.0\n",
              "no_nominations_globes_norm                                              0.174\n",
              "no_nominations_emmy_norm                                                  0.5\n",
              "no_films_norm                                                           0.033\n",
              "average_films_rating_norm                                               0.787\n",
              "genres_code                 [1, 1, 1, 1, 1, 0, 1, 0, 1, 1, 0, 0, 1, 0, 0, ...\n",
              "types_code                                  [1, 0, 1, 1, 1, 1, 1, 1, 0, 1, 0]"
            ],
            "text/html": [
              "\n",
              "  <div id=\"df-2a5beb8d-13de-4992-b997-c89e3fcabcbe\">\n",
              "    <div class=\"colab-df-container\">\n",
              "      <div>\n",
              "<style scoped>\n",
              "    .dataframe tbody tr th:only-of-type {\n",
              "        vertical-align: middle;\n",
              "    }\n",
              "\n",
              "    .dataframe tbody tr th {\n",
              "        vertical-align: top;\n",
              "    }\n",
              "\n",
              "    .dataframe thead th {\n",
              "        text-align: right;\n",
              "    }\n",
              "</style>\n",
              "<table border=\"1\" class=\"dataframe\">\n",
              "  <thead>\n",
              "    <tr style=\"text-align: right;\">\n",
              "      <th></th>\n",
              "      <th>834000</th>\n",
              "    </tr>\n",
              "  </thead>\n",
              "  <tbody>\n",
              "    <tr>\n",
              "      <th>nconst</th>\n",
              "      <td>nm0000098</td>\n",
              "    </tr>\n",
              "    <tr>\n",
              "      <th>tconst</th>\n",
              "      <td>[tt0569285, tt0578935, tt0583456, tt0583435, t...</td>\n",
              "    </tr>\n",
              "    <tr>\n",
              "      <th>category</th>\n",
              "      <td>actress</td>\n",
              "    </tr>\n",
              "    <tr>\n",
              "      <th>primaryName</th>\n",
              "      <td>Jennifer Aniston</td>\n",
              "    </tr>\n",
              "    <tr>\n",
              "      <th>knownForTitles</th>\n",
              "      <td>[tt1564367, tt3442006, tt0108778, tt1723121]</td>\n",
              "    </tr>\n",
              "    <tr>\n",
              "      <th>no_nominations_oscars_norm</th>\n",
              "      <td>0.0</td>\n",
              "    </tr>\n",
              "    <tr>\n",
              "      <th>no_nominations_globes_norm</th>\n",
              "      <td>0.174</td>\n",
              "    </tr>\n",
              "    <tr>\n",
              "      <th>no_nominations_emmy_norm</th>\n",
              "      <td>0.5</td>\n",
              "    </tr>\n",
              "    <tr>\n",
              "      <th>no_films_norm</th>\n",
              "      <td>0.033</td>\n",
              "    </tr>\n",
              "    <tr>\n",
              "      <th>average_films_rating_norm</th>\n",
              "      <td>0.787</td>\n",
              "    </tr>\n",
              "    <tr>\n",
              "      <th>genres_code</th>\n",
              "      <td>[1, 1, 1, 1, 1, 0, 1, 0, 1, 1, 0, 0, 1, 0, 0, ...</td>\n",
              "    </tr>\n",
              "    <tr>\n",
              "      <th>types_code</th>\n",
              "      <td>[1, 0, 1, 1, 1, 1, 1, 1, 0, 1, 0]</td>\n",
              "    </tr>\n",
              "  </tbody>\n",
              "</table>\n",
              "</div>\n",
              "      <button class=\"colab-df-convert\" onclick=\"convertToInteractive('df-2a5beb8d-13de-4992-b997-c89e3fcabcbe')\"\n",
              "              title=\"Convert this dataframe to an interactive table.\"\n",
              "              style=\"display:none;\">\n",
              "        \n",
              "  <svg xmlns=\"http://www.w3.org/2000/svg\" height=\"24px\"viewBox=\"0 0 24 24\"\n",
              "       width=\"24px\">\n",
              "    <path d=\"M0 0h24v24H0V0z\" fill=\"none\"/>\n",
              "    <path d=\"M18.56 5.44l.94 2.06.94-2.06 2.06-.94-2.06-.94-.94-2.06-.94 2.06-2.06.94zm-11 1L8.5 8.5l.94-2.06 2.06-.94-2.06-.94L8.5 2.5l-.94 2.06-2.06.94zm10 10l.94 2.06.94-2.06 2.06-.94-2.06-.94-.94-2.06-.94 2.06-2.06.94z\"/><path d=\"M17.41 7.96l-1.37-1.37c-.4-.4-.92-.59-1.43-.59-.52 0-1.04.2-1.43.59L10.3 9.45l-7.72 7.72c-.78.78-.78 2.05 0 2.83L4 21.41c.39.39.9.59 1.41.59.51 0 1.02-.2 1.41-.59l7.78-7.78 2.81-2.81c.8-.78.8-2.07 0-2.86zM5.41 20L4 18.59l7.72-7.72 1.47 1.35L5.41 20z\"/>\n",
              "  </svg>\n",
              "      </button>\n",
              "      \n",
              "  <style>\n",
              "    .colab-df-container {\n",
              "      display:flex;\n",
              "      flex-wrap:wrap;\n",
              "      gap: 12px;\n",
              "    }\n",
              "\n",
              "    .colab-df-convert {\n",
              "      background-color: #E8F0FE;\n",
              "      border: none;\n",
              "      border-radius: 50%;\n",
              "      cursor: pointer;\n",
              "      display: none;\n",
              "      fill: #1967D2;\n",
              "      height: 32px;\n",
              "      padding: 0 0 0 0;\n",
              "      width: 32px;\n",
              "    }\n",
              "\n",
              "    .colab-df-convert:hover {\n",
              "      background-color: #E2EBFA;\n",
              "      box-shadow: 0px 1px 2px rgba(60, 64, 67, 0.3), 0px 1px 3px 1px rgba(60, 64, 67, 0.15);\n",
              "      fill: #174EA6;\n",
              "    }\n",
              "\n",
              "    [theme=dark] .colab-df-convert {\n",
              "      background-color: #3B4455;\n",
              "      fill: #D2E3FC;\n",
              "    }\n",
              "\n",
              "    [theme=dark] .colab-df-convert:hover {\n",
              "      background-color: #434B5C;\n",
              "      box-shadow: 0px 1px 3px 1px rgba(0, 0, 0, 0.15);\n",
              "      filter: drop-shadow(0px 1px 2px rgba(0, 0, 0, 0.3));\n",
              "      fill: #FFFFFF;\n",
              "    }\n",
              "  </style>\n",
              "\n",
              "      <script>\n",
              "        const buttonEl =\n",
              "          document.querySelector('#df-2a5beb8d-13de-4992-b997-c89e3fcabcbe button.colab-df-convert');\n",
              "        buttonEl.style.display =\n",
              "          google.colab.kernel.accessAllowed ? 'block' : 'none';\n",
              "\n",
              "        async function convertToInteractive(key) {\n",
              "          const element = document.querySelector('#df-2a5beb8d-13de-4992-b997-c89e3fcabcbe');\n",
              "          const dataTable =\n",
              "            await google.colab.kernel.invokeFunction('convertToInteractive',\n",
              "                                                     [key], {});\n",
              "          if (!dataTable) return;\n",
              "\n",
              "          const docLinkHtml = 'Like what you see? Visit the ' +\n",
              "            '<a target=\"_blank\" href=https://colab.research.google.com/notebooks/data_table.ipynb>data table notebook</a>'\n",
              "            + ' to learn more about interactive tables.';\n",
              "          element.innerHTML = '';\n",
              "          dataTable['output_type'] = 'display_data';\n",
              "          await google.colab.output.renderOutput(dataTable, element);\n",
              "          const docLink = document.createElement('div');\n",
              "          docLink.innerHTML = docLinkHtml;\n",
              "          element.appendChild(docLink);\n",
              "        }\n",
              "      </script>\n",
              "    </div>\n",
              "  </div>\n",
              "  "
            ]
          },
          "metadata": {}
        }
      ]
    },
    {
      "cell_type": "code",
      "source": [
        "similarity_value4 = similarity_new(Jennifer_Aniston_data, Emma_Watson_data, True)\n",
        "print(\"Wartość similarity dla \", Jennifer_Aniston_data[3], \" i \", Emma_Watson_data[3], \" wynosi: \", similarity_value)"
      ],
      "metadata": {
        "colab": {
          "base_uri": "https://localhost:8080/"
        },
        "id": "dhd1OXg1RmZM",
        "outputId": "f5934413-99ef-405b-9685-3321cf502a1c"
      },
      "execution_count": null,
      "outputs": [
        {
          "output_type": "stream",
          "name": "stdout",
          "text": [
            "Wartość similarity dla  Jennifer Aniston  i  Emma Watson  wynosi:  0.22323040752351075\n"
          ]
        }
      ]
    },
    {
      "cell_type": "markdown",
      "source": [
        "Dostaliśmy 4 raz tę samą liczbę - generalnie przypał, nie mogę znaleźć interesującego wyniku w modelu."
      ],
      "metadata": {
        "id": "go8WuhbSSRCj"
      }
    },
    {
      "cell_type": "markdown",
      "source": [
        "#Podobieństwa w aktorów grających Jamesa Bonda"
      ],
      "metadata": {
        "id": "FNKIJBL292Yx"
      }
    },
    {
      "cell_type": "code",
      "source": [
        "JamesBond1 = \"nm0000125\" #Sean Connery"
      ],
      "metadata": {
        "id": "xViqKe399D9f"
      },
      "execution_count": 55,
      "outputs": []
    },
    {
      "cell_type": "code",
      "source": [
        "JamesBond1_data = find_actor_two_datasets(train_data, validate_data, JamesBond1)"
      ],
      "metadata": {
        "id": "-eVvhxNv68RX",
        "outputId": "25a698f5-0b60-4da1-eb55-b8ed546340d4",
        "colab": {
          "base_uri": "https://localhost:8080/",
          "height": 426
        }
      },
      "execution_count": 56,
      "outputs": [
        {
          "output_type": "display_data",
          "data": {
            "text/plain": [
              "                                                                       972939\n",
              "nconst                                                              nm0000125\n",
              "tconst                      [tt0086006, tt0063592, tt0066767, tt0066995, t...\n",
              "category                                                                actor\n",
              "primaryName                                                      Sean Connery\n",
              "knownForTitles                   [tt0117500, tt0059800, tt0055928, tt0094226]\n",
              "no_nominations_oscars_norm                                              0.023\n",
              "no_nominations_globes_norm                                              0.174\n",
              "no_nominations_emmy_norm                                                  0.5\n",
              "no_films_norm                                                           0.008\n",
              "average_films_rating_norm                                               0.665\n",
              "genres_code                 [1, 1, 1, 1, 1, 1, 1, 0, 1, 1, 1, 0, 1, 1, 0, ...\n",
              "types_code                                  [1, 0, 1, 1, 1, 1, 0, 1, 0, 1, 0]"
            ],
            "text/html": [
              "\n",
              "  <div id=\"df-f25dcbc9-0a51-49a4-8417-dbc248c26701\">\n",
              "    <div class=\"colab-df-container\">\n",
              "      <div>\n",
              "<style scoped>\n",
              "    .dataframe tbody tr th:only-of-type {\n",
              "        vertical-align: middle;\n",
              "    }\n",
              "\n",
              "    .dataframe tbody tr th {\n",
              "        vertical-align: top;\n",
              "    }\n",
              "\n",
              "    .dataframe thead th {\n",
              "        text-align: right;\n",
              "    }\n",
              "</style>\n",
              "<table border=\"1\" class=\"dataframe\">\n",
              "  <thead>\n",
              "    <tr style=\"text-align: right;\">\n",
              "      <th></th>\n",
              "      <th>972939</th>\n",
              "    </tr>\n",
              "  </thead>\n",
              "  <tbody>\n",
              "    <tr>\n",
              "      <th>nconst</th>\n",
              "      <td>nm0000125</td>\n",
              "    </tr>\n",
              "    <tr>\n",
              "      <th>tconst</th>\n",
              "      <td>[tt0086006, tt0063592, tt0066767, tt0066995, t...</td>\n",
              "    </tr>\n",
              "    <tr>\n",
              "      <th>category</th>\n",
              "      <td>actor</td>\n",
              "    </tr>\n",
              "    <tr>\n",
              "      <th>primaryName</th>\n",
              "      <td>Sean Connery</td>\n",
              "    </tr>\n",
              "    <tr>\n",
              "      <th>knownForTitles</th>\n",
              "      <td>[tt0117500, tt0059800, tt0055928, tt0094226]</td>\n",
              "    </tr>\n",
              "    <tr>\n",
              "      <th>no_nominations_oscars_norm</th>\n",
              "      <td>0.023</td>\n",
              "    </tr>\n",
              "    <tr>\n",
              "      <th>no_nominations_globes_norm</th>\n",
              "      <td>0.174</td>\n",
              "    </tr>\n",
              "    <tr>\n",
              "      <th>no_nominations_emmy_norm</th>\n",
              "      <td>0.5</td>\n",
              "    </tr>\n",
              "    <tr>\n",
              "      <th>no_films_norm</th>\n",
              "      <td>0.008</td>\n",
              "    </tr>\n",
              "    <tr>\n",
              "      <th>average_films_rating_norm</th>\n",
              "      <td>0.665</td>\n",
              "    </tr>\n",
              "    <tr>\n",
              "      <th>genres_code</th>\n",
              "      <td>[1, 1, 1, 1, 1, 1, 1, 0, 1, 1, 1, 0, 1, 1, 0, ...</td>\n",
              "    </tr>\n",
              "    <tr>\n",
              "      <th>types_code</th>\n",
              "      <td>[1, 0, 1, 1, 1, 1, 0, 1, 0, 1, 0]</td>\n",
              "    </tr>\n",
              "  </tbody>\n",
              "</table>\n",
              "</div>\n",
              "      <button class=\"colab-df-convert\" onclick=\"convertToInteractive('df-f25dcbc9-0a51-49a4-8417-dbc248c26701')\"\n",
              "              title=\"Convert this dataframe to an interactive table.\"\n",
              "              style=\"display:none;\">\n",
              "        \n",
              "  <svg xmlns=\"http://www.w3.org/2000/svg\" height=\"24px\"viewBox=\"0 0 24 24\"\n",
              "       width=\"24px\">\n",
              "    <path d=\"M0 0h24v24H0V0z\" fill=\"none\"/>\n",
              "    <path d=\"M18.56 5.44l.94 2.06.94-2.06 2.06-.94-2.06-.94-.94-2.06-.94 2.06-2.06.94zm-11 1L8.5 8.5l.94-2.06 2.06-.94-2.06-.94L8.5 2.5l-.94 2.06-2.06.94zm10 10l.94 2.06.94-2.06 2.06-.94-2.06-.94-.94-2.06-.94 2.06-2.06.94z\"/><path d=\"M17.41 7.96l-1.37-1.37c-.4-.4-.92-.59-1.43-.59-.52 0-1.04.2-1.43.59L10.3 9.45l-7.72 7.72c-.78.78-.78 2.05 0 2.83L4 21.41c.39.39.9.59 1.41.59.51 0 1.02-.2 1.41-.59l7.78-7.78 2.81-2.81c.8-.78.8-2.07 0-2.86zM5.41 20L4 18.59l7.72-7.72 1.47 1.35L5.41 20z\"/>\n",
              "  </svg>\n",
              "      </button>\n",
              "      \n",
              "  <style>\n",
              "    .colab-df-container {\n",
              "      display:flex;\n",
              "      flex-wrap:wrap;\n",
              "      gap: 12px;\n",
              "    }\n",
              "\n",
              "    .colab-df-convert {\n",
              "      background-color: #E8F0FE;\n",
              "      border: none;\n",
              "      border-radius: 50%;\n",
              "      cursor: pointer;\n",
              "      display: none;\n",
              "      fill: #1967D2;\n",
              "      height: 32px;\n",
              "      padding: 0 0 0 0;\n",
              "      width: 32px;\n",
              "    }\n",
              "\n",
              "    .colab-df-convert:hover {\n",
              "      background-color: #E2EBFA;\n",
              "      box-shadow: 0px 1px 2px rgba(60, 64, 67, 0.3), 0px 1px 3px 1px rgba(60, 64, 67, 0.15);\n",
              "      fill: #174EA6;\n",
              "    }\n",
              "\n",
              "    [theme=dark] .colab-df-convert {\n",
              "      background-color: #3B4455;\n",
              "      fill: #D2E3FC;\n",
              "    }\n",
              "\n",
              "    [theme=dark] .colab-df-convert:hover {\n",
              "      background-color: #434B5C;\n",
              "      box-shadow: 0px 1px 3px 1px rgba(0, 0, 0, 0.15);\n",
              "      filter: drop-shadow(0px 1px 2px rgba(0, 0, 0, 0.3));\n",
              "      fill: #FFFFFF;\n",
              "    }\n",
              "  </style>\n",
              "\n",
              "      <script>\n",
              "        const buttonEl =\n",
              "          document.querySelector('#df-f25dcbc9-0a51-49a4-8417-dbc248c26701 button.colab-df-convert');\n",
              "        buttonEl.style.display =\n",
              "          google.colab.kernel.accessAllowed ? 'block' : 'none';\n",
              "\n",
              "        async function convertToInteractive(key) {\n",
              "          const element = document.querySelector('#df-f25dcbc9-0a51-49a4-8417-dbc248c26701');\n",
              "          const dataTable =\n",
              "            await google.colab.kernel.invokeFunction('convertToInteractive',\n",
              "                                                     [key], {});\n",
              "          if (!dataTable) return;\n",
              "\n",
              "          const docLinkHtml = 'Like what you see? Visit the ' +\n",
              "            '<a target=\"_blank\" href=https://colab.research.google.com/notebooks/data_table.ipynb>data table notebook</a>'\n",
              "            + ' to learn more about interactive tables.';\n",
              "          element.innerHTML = '';\n",
              "          dataTable['output_type'] = 'display_data';\n",
              "          await google.colab.output.renderOutput(dataTable, element);\n",
              "          const docLink = document.createElement('div');\n",
              "          docLink.innerHTML = docLinkHtml;\n",
              "          element.appendChild(docLink);\n",
              "        }\n",
              "      </script>\n",
              "    </div>\n",
              "  </div>\n",
              "  "
            ]
          },
          "metadata": {}
        }
      ]
    },
    {
      "cell_type": "code",
      "source": [
        "if JamesBond1 in list(train_data['nconst']):\n",
        "    ids, values = similarity_one_vs_all_new(train_data, JamesBond1_data, True)\n",
        "    ids, values = select_top_similiar(ids, values, 3)\n",
        "    names = replace_ids_with_names(train_data, ids, 3)\n",
        "elif JamesBond1 in list(validate_data['nconst']):\n",
        "    ids, values = similarity_one_vs_all_new(validate_data, JamesBond1_data, True)\n",
        "    ids, values = select_top_similiar(ids, values, 3)\n",
        "    names = replace_ids_with_names(validate_data, ids, 3)\n",
        "ranking = print_top_similiar(JamesBond1_data[3], names, values)"
      ],
      "metadata": {
        "id": "-xV6CRKVBmVC",
        "outputId": "d0cc42d0-1e06-42fd-8803-863f1f9f4f30",
        "colab": {
          "base_uri": "https://localhost:8080/"
        }
      },
      "execution_count": 59,
      "outputs": [
        {
          "output_type": "stream",
          "name": "stdout",
          "text": [
            "Najbardziej podobnymi do Sean Connery aktorami/aktorkami są w kolejności:\n",
            "  - Bob Hope z similarity równym: 0.286\n",
            "  - Jeff Bridges z similarity równym: 0.272\n",
            "  - Bing Crosby z similarity równym: 0.259\n"
          ]
        }
      ]
    },
    {
      "cell_type": "code",
      "source": [
        "file_object = open(RANKINGS, 'a')\n",
        "text = \"Najbardziej podobni do {}:\\n- {}, similarity: {}\\n- {}, similarity: {}\\n- {}, similarity: {}\\n\".format(JamesBond1[3], names[0], values[0], names[1], values[1], names[2], values[2])\n",
        "file_object.write(text)\n",
        "file_object.close()"
      ],
      "metadata": {
        "id": "7cqgViDcDjp7"
      },
      "execution_count": 60,
      "outputs": []
    },
    {
      "cell_type": "code",
      "source": [
        "JamesBond2 = \"nm0493872\" #George Lazebny"
      ],
      "metadata": {
        "id": "sjLguh2b-8hG"
      },
      "execution_count": 61,
      "outputs": []
    },
    {
      "cell_type": "code",
      "source": [
        "JamesBond2_data = find_actor_two_datasets(train_data, validate_data, JamesBond2)"
      ],
      "metadata": {
        "id": "FWYVzGPT_M7t",
        "outputId": "419259b9-7e63-4512-a25e-e401ae217e2e",
        "colab": {
          "base_uri": "https://localhost:8080/",
          "height": 426
        }
      },
      "execution_count": 62,
      "outputs": [
        {
          "output_type": "display_data",
          "data": {
            "text/plain": [
              "                                                                        10576\n",
              "nconst                                                              nm0493872\n",
              "tconst                      [tt12471922, tt9222588, tt0076257, tt0104184, ...\n",
              "category                                                                actor\n",
              "primaryName                                                    George Lazenby\n",
              "knownForTitles                   [tt0107007, tt0064757, tt0308937, tt0073343]\n",
              "no_nominations_oscars_norm                                                0.0\n",
              "no_nominations_globes_norm                                              0.043\n",
              "no_nominations_emmy_norm                                                  0.5\n",
              "no_films_norm                                                           0.004\n",
              "average_films_rating_norm                                               0.597\n",
              "genres_code                 [1, 1, 1, 1, 1, 1, 0, 0, 1, 1, 0, 0, 0, 1, 0, ...\n",
              "types_code                                  [0, 0, 1, 1, 1, 0, 0, 1, 0, 0, 0]"
            ],
            "text/html": [
              "\n",
              "  <div id=\"df-f6c5c4c4-6e69-4fb0-93a9-2aacdc08dbf1\">\n",
              "    <div class=\"colab-df-container\">\n",
              "      <div>\n",
              "<style scoped>\n",
              "    .dataframe tbody tr th:only-of-type {\n",
              "        vertical-align: middle;\n",
              "    }\n",
              "\n",
              "    .dataframe tbody tr th {\n",
              "        vertical-align: top;\n",
              "    }\n",
              "\n",
              "    .dataframe thead th {\n",
              "        text-align: right;\n",
              "    }\n",
              "</style>\n",
              "<table border=\"1\" class=\"dataframe\">\n",
              "  <thead>\n",
              "    <tr style=\"text-align: right;\">\n",
              "      <th></th>\n",
              "      <th>10576</th>\n",
              "    </tr>\n",
              "  </thead>\n",
              "  <tbody>\n",
              "    <tr>\n",
              "      <th>nconst</th>\n",
              "      <td>nm0493872</td>\n",
              "    </tr>\n",
              "    <tr>\n",
              "      <th>tconst</th>\n",
              "      <td>[tt12471922, tt9222588, tt0076257, tt0104184, ...</td>\n",
              "    </tr>\n",
              "    <tr>\n",
              "      <th>category</th>\n",
              "      <td>actor</td>\n",
              "    </tr>\n",
              "    <tr>\n",
              "      <th>primaryName</th>\n",
              "      <td>George Lazenby</td>\n",
              "    </tr>\n",
              "    <tr>\n",
              "      <th>knownForTitles</th>\n",
              "      <td>[tt0107007, tt0064757, tt0308937, tt0073343]</td>\n",
              "    </tr>\n",
              "    <tr>\n",
              "      <th>no_nominations_oscars_norm</th>\n",
              "      <td>0.0</td>\n",
              "    </tr>\n",
              "    <tr>\n",
              "      <th>no_nominations_globes_norm</th>\n",
              "      <td>0.043</td>\n",
              "    </tr>\n",
              "    <tr>\n",
              "      <th>no_nominations_emmy_norm</th>\n",
              "      <td>0.5</td>\n",
              "    </tr>\n",
              "    <tr>\n",
              "      <th>no_films_norm</th>\n",
              "      <td>0.004</td>\n",
              "    </tr>\n",
              "    <tr>\n",
              "      <th>average_films_rating_norm</th>\n",
              "      <td>0.597</td>\n",
              "    </tr>\n",
              "    <tr>\n",
              "      <th>genres_code</th>\n",
              "      <td>[1, 1, 1, 1, 1, 1, 0, 0, 1, 1, 0, 0, 0, 1, 0, ...</td>\n",
              "    </tr>\n",
              "    <tr>\n",
              "      <th>types_code</th>\n",
              "      <td>[0, 0, 1, 1, 1, 0, 0, 1, 0, 0, 0]</td>\n",
              "    </tr>\n",
              "  </tbody>\n",
              "</table>\n",
              "</div>\n",
              "      <button class=\"colab-df-convert\" onclick=\"convertToInteractive('df-f6c5c4c4-6e69-4fb0-93a9-2aacdc08dbf1')\"\n",
              "              title=\"Convert this dataframe to an interactive table.\"\n",
              "              style=\"display:none;\">\n",
              "        \n",
              "  <svg xmlns=\"http://www.w3.org/2000/svg\" height=\"24px\"viewBox=\"0 0 24 24\"\n",
              "       width=\"24px\">\n",
              "    <path d=\"M0 0h24v24H0V0z\" fill=\"none\"/>\n",
              "    <path d=\"M18.56 5.44l.94 2.06.94-2.06 2.06-.94-2.06-.94-.94-2.06-.94 2.06-2.06.94zm-11 1L8.5 8.5l.94-2.06 2.06-.94-2.06-.94L8.5 2.5l-.94 2.06-2.06.94zm10 10l.94 2.06.94-2.06 2.06-.94-2.06-.94-.94-2.06-.94 2.06-2.06.94z\"/><path d=\"M17.41 7.96l-1.37-1.37c-.4-.4-.92-.59-1.43-.59-.52 0-1.04.2-1.43.59L10.3 9.45l-7.72 7.72c-.78.78-.78 2.05 0 2.83L4 21.41c.39.39.9.59 1.41.59.51 0 1.02-.2 1.41-.59l7.78-7.78 2.81-2.81c.8-.78.8-2.07 0-2.86zM5.41 20L4 18.59l7.72-7.72 1.47 1.35L5.41 20z\"/>\n",
              "  </svg>\n",
              "      </button>\n",
              "      \n",
              "  <style>\n",
              "    .colab-df-container {\n",
              "      display:flex;\n",
              "      flex-wrap:wrap;\n",
              "      gap: 12px;\n",
              "    }\n",
              "\n",
              "    .colab-df-convert {\n",
              "      background-color: #E8F0FE;\n",
              "      border: none;\n",
              "      border-radius: 50%;\n",
              "      cursor: pointer;\n",
              "      display: none;\n",
              "      fill: #1967D2;\n",
              "      height: 32px;\n",
              "      padding: 0 0 0 0;\n",
              "      width: 32px;\n",
              "    }\n",
              "\n",
              "    .colab-df-convert:hover {\n",
              "      background-color: #E2EBFA;\n",
              "      box-shadow: 0px 1px 2px rgba(60, 64, 67, 0.3), 0px 1px 3px 1px rgba(60, 64, 67, 0.15);\n",
              "      fill: #174EA6;\n",
              "    }\n",
              "\n",
              "    [theme=dark] .colab-df-convert {\n",
              "      background-color: #3B4455;\n",
              "      fill: #D2E3FC;\n",
              "    }\n",
              "\n",
              "    [theme=dark] .colab-df-convert:hover {\n",
              "      background-color: #434B5C;\n",
              "      box-shadow: 0px 1px 3px 1px rgba(0, 0, 0, 0.15);\n",
              "      filter: drop-shadow(0px 1px 2px rgba(0, 0, 0, 0.3));\n",
              "      fill: #FFFFFF;\n",
              "    }\n",
              "  </style>\n",
              "\n",
              "      <script>\n",
              "        const buttonEl =\n",
              "          document.querySelector('#df-f6c5c4c4-6e69-4fb0-93a9-2aacdc08dbf1 button.colab-df-convert');\n",
              "        buttonEl.style.display =\n",
              "          google.colab.kernel.accessAllowed ? 'block' : 'none';\n",
              "\n",
              "        async function convertToInteractive(key) {\n",
              "          const element = document.querySelector('#df-f6c5c4c4-6e69-4fb0-93a9-2aacdc08dbf1');\n",
              "          const dataTable =\n",
              "            await google.colab.kernel.invokeFunction('convertToInteractive',\n",
              "                                                     [key], {});\n",
              "          if (!dataTable) return;\n",
              "\n",
              "          const docLinkHtml = 'Like what you see? Visit the ' +\n",
              "            '<a target=\"_blank\" href=https://colab.research.google.com/notebooks/data_table.ipynb>data table notebook</a>'\n",
              "            + ' to learn more about interactive tables.';\n",
              "          element.innerHTML = '';\n",
              "          dataTable['output_type'] = 'display_data';\n",
              "          await google.colab.output.renderOutput(dataTable, element);\n",
              "          const docLink = document.createElement('div');\n",
              "          docLink.innerHTML = docLinkHtml;\n",
              "          element.appendChild(docLink);\n",
              "        }\n",
              "      </script>\n",
              "    </div>\n",
              "  </div>\n",
              "  "
            ]
          },
          "metadata": {}
        }
      ]
    },
    {
      "cell_type": "code",
      "source": [
        "if JamesBond2 in list(train_data['nconst']):\n",
        "    ids, values = similarity_one_vs_all_new(train_data, JamesBond2_data, True)\n",
        "    ids, values = select_top_similiar(ids, values, 3)\n",
        "    names = replace_ids_with_names(train_data, ids, 3)\n",
        "elif JamesBond2 in list(validate_data['nconst']):\n",
        "    ids, values = similarity_one_vs_all_new(validate_data, JamesBond2_data, True)\n",
        "    ids, values = select_top_similiar(ids, values, 3)\n",
        "    names = replace_ids_with_names(validate_data, ids, 3)\n",
        "ranking = print_top_similiar(JamesBond2_data[3], names, values)"
      ],
      "metadata": {
        "id": "GAPUx_oqCA0S",
        "outputId": "e1dd049e-5a85-4111-ad89-f456eb2d0d72",
        "colab": {
          "base_uri": "https://localhost:8080/"
        }
      },
      "execution_count": 63,
      "outputs": [
        {
          "output_type": "stream",
          "name": "stdout",
          "text": [
            "Najbardziej podobnymi do George Lazenby aktorami/aktorkami są w kolejności:\n",
            "  - Royce D. Applegate z similarity równym: 0.275\n",
            "  - Seth Adkins z similarity równym: 0.252\n",
            "  - Toralv Maurstad z similarity równym: 0.252\n"
          ]
        }
      ]
    },
    {
      "cell_type": "code",
      "source": [
        "file_object = open(RANKINGS, 'a')\n",
        "text = \"Najbardziej podobni do {}:\\n- {}, similarity: {}\\n- {}, similarity: {}\\n- {}, similarity: {}\\n\".format(JamesBond2[3], names[0], values[0], names[1], values[1], names[2], values[2])\n",
        "file_object.write(text)\n",
        "file_object.close()"
      ],
      "metadata": {
        "id": "s4M9t9jmKsw6"
      },
      "execution_count": 64,
      "outputs": []
    },
    {
      "cell_type": "code",
      "source": [
        "similarity_value = similarity_new(JamesBond2_data, JamesBond1_data, True)\n",
        "print(\"Wartość similarity dla \", JamesBond2_data[3], \" i \", JamesBond1_data[3], \" wynosi: \", similarity_value)\n",
        "    "
      ],
      "metadata": {
        "id": "892k0bLd-Jqo",
        "outputId": "9ada6f5b-11c4-4d31-8861-002771f8e15e",
        "colab": {
          "base_uri": "https://localhost:8080/"
        }
      },
      "execution_count": 65,
      "outputs": [
        {
          "output_type": "stream",
          "name": "stdout",
          "text": [
            "Wartość similarity dla  George Lazenby  i  Sean Connery  wynosi:  0.09581905956112857\n"
          ]
        }
      ]
    },
    {
      "cell_type": "code",
      "source": [
        "file_object = open(SIMILARITY_VALUES, 'a')\n",
        "text = \"{}, {}, similarity value: {}\\n\".format(JamesBond2_data[3], JamesBond1_data[3], similarity_value)\n",
        "file_object.write(text)\n",
        "file_object.close()\n",
        "     \n"
      ],
      "metadata": {
        "id": "fdHiC5mC-7V5"
      },
      "execution_count": 66,
      "outputs": []
    },
    {
      "cell_type": "code",
      "source": [
        "JamesBond3 = \"nm0000549\" #Roger Moore"
      ],
      "metadata": {
        "id": "-9JmlDo4_9Xs"
      },
      "execution_count": 67,
      "outputs": []
    },
    {
      "cell_type": "code",
      "source": [
        "JamesBond3_data = find_actor_two_datasets(train_data, validate_data, JamesBond3)"
      ],
      "metadata": {
        "id": "YeLkeNyLAZIP",
        "outputId": "47bc728d-4e4a-4a68-ff62-fdf2db3a9f3e",
        "colab": {
          "base_uri": "https://localhost:8080/",
          "height": 426
        }
      },
      "execution_count": 68,
      "outputs": [
        {
          "output_type": "display_data",
          "data": {
            "text/plain": [
              "                                                                       744755\n",
              "nconst                                                              nm0000549\n",
              "tconst                      [tt0051286, tt0066521, tt0070328, tt0438032, t...\n",
              "category                                                                actor\n",
              "primaryName                                                       Roger Moore\n",
              "knownForTitles                   [tt0079574, tt0070328, tt0082398, tt0076752]\n",
              "no_nominations_oscars_norm                                                0.0\n",
              "no_nominations_globes_norm                                              0.043\n",
              "no_nominations_emmy_norm                                                  0.5\n",
              "no_films_norm                                                            0.03\n",
              "average_films_rating_norm                                               0.709\n",
              "genres_code                 [1, 1, 1, 1, 1, 1, 1, 1, 1, 1, 0, 0, 1, 1, 0, ...\n",
              "types_code                                  [1, 0, 1, 1, 1, 1, 1, 1, 0, 1, 0]"
            ],
            "text/html": [
              "\n",
              "  <div id=\"df-a5c41017-0edf-4903-866a-ec563e8d506c\">\n",
              "    <div class=\"colab-df-container\">\n",
              "      <div>\n",
              "<style scoped>\n",
              "    .dataframe tbody tr th:only-of-type {\n",
              "        vertical-align: middle;\n",
              "    }\n",
              "\n",
              "    .dataframe tbody tr th {\n",
              "        vertical-align: top;\n",
              "    }\n",
              "\n",
              "    .dataframe thead th {\n",
              "        text-align: right;\n",
              "    }\n",
              "</style>\n",
              "<table border=\"1\" class=\"dataframe\">\n",
              "  <thead>\n",
              "    <tr style=\"text-align: right;\">\n",
              "      <th></th>\n",
              "      <th>744755</th>\n",
              "    </tr>\n",
              "  </thead>\n",
              "  <tbody>\n",
              "    <tr>\n",
              "      <th>nconst</th>\n",
              "      <td>nm0000549</td>\n",
              "    </tr>\n",
              "    <tr>\n",
              "      <th>tconst</th>\n",
              "      <td>[tt0051286, tt0066521, tt0070328, tt0438032, t...</td>\n",
              "    </tr>\n",
              "    <tr>\n",
              "      <th>category</th>\n",
              "      <td>actor</td>\n",
              "    </tr>\n",
              "    <tr>\n",
              "      <th>primaryName</th>\n",
              "      <td>Roger Moore</td>\n",
              "    </tr>\n",
              "    <tr>\n",
              "      <th>knownForTitles</th>\n",
              "      <td>[tt0079574, tt0070328, tt0082398, tt0076752]</td>\n",
              "    </tr>\n",
              "    <tr>\n",
              "      <th>no_nominations_oscars_norm</th>\n",
              "      <td>0.0</td>\n",
              "    </tr>\n",
              "    <tr>\n",
              "      <th>no_nominations_globes_norm</th>\n",
              "      <td>0.043</td>\n",
              "    </tr>\n",
              "    <tr>\n",
              "      <th>no_nominations_emmy_norm</th>\n",
              "      <td>0.5</td>\n",
              "    </tr>\n",
              "    <tr>\n",
              "      <th>no_films_norm</th>\n",
              "      <td>0.03</td>\n",
              "    </tr>\n",
              "    <tr>\n",
              "      <th>average_films_rating_norm</th>\n",
              "      <td>0.709</td>\n",
              "    </tr>\n",
              "    <tr>\n",
              "      <th>genres_code</th>\n",
              "      <td>[1, 1, 1, 1, 1, 1, 1, 1, 1, 1, 0, 0, 1, 1, 0, ...</td>\n",
              "    </tr>\n",
              "    <tr>\n",
              "      <th>types_code</th>\n",
              "      <td>[1, 0, 1, 1, 1, 1, 1, 1, 0, 1, 0]</td>\n",
              "    </tr>\n",
              "  </tbody>\n",
              "</table>\n",
              "</div>\n",
              "      <button class=\"colab-df-convert\" onclick=\"convertToInteractive('df-a5c41017-0edf-4903-866a-ec563e8d506c')\"\n",
              "              title=\"Convert this dataframe to an interactive table.\"\n",
              "              style=\"display:none;\">\n",
              "        \n",
              "  <svg xmlns=\"http://www.w3.org/2000/svg\" height=\"24px\"viewBox=\"0 0 24 24\"\n",
              "       width=\"24px\">\n",
              "    <path d=\"M0 0h24v24H0V0z\" fill=\"none\"/>\n",
              "    <path d=\"M18.56 5.44l.94 2.06.94-2.06 2.06-.94-2.06-.94-.94-2.06-.94 2.06-2.06.94zm-11 1L8.5 8.5l.94-2.06 2.06-.94-2.06-.94L8.5 2.5l-.94 2.06-2.06.94zm10 10l.94 2.06.94-2.06 2.06-.94-2.06-.94-.94-2.06-.94 2.06-2.06.94z\"/><path d=\"M17.41 7.96l-1.37-1.37c-.4-.4-.92-.59-1.43-.59-.52 0-1.04.2-1.43.59L10.3 9.45l-7.72 7.72c-.78.78-.78 2.05 0 2.83L4 21.41c.39.39.9.59 1.41.59.51 0 1.02-.2 1.41-.59l7.78-7.78 2.81-2.81c.8-.78.8-2.07 0-2.86zM5.41 20L4 18.59l7.72-7.72 1.47 1.35L5.41 20z\"/>\n",
              "  </svg>\n",
              "      </button>\n",
              "      \n",
              "  <style>\n",
              "    .colab-df-container {\n",
              "      display:flex;\n",
              "      flex-wrap:wrap;\n",
              "      gap: 12px;\n",
              "    }\n",
              "\n",
              "    .colab-df-convert {\n",
              "      background-color: #E8F0FE;\n",
              "      border: none;\n",
              "      border-radius: 50%;\n",
              "      cursor: pointer;\n",
              "      display: none;\n",
              "      fill: #1967D2;\n",
              "      height: 32px;\n",
              "      padding: 0 0 0 0;\n",
              "      width: 32px;\n",
              "    }\n",
              "\n",
              "    .colab-df-convert:hover {\n",
              "      background-color: #E2EBFA;\n",
              "      box-shadow: 0px 1px 2px rgba(60, 64, 67, 0.3), 0px 1px 3px 1px rgba(60, 64, 67, 0.15);\n",
              "      fill: #174EA6;\n",
              "    }\n",
              "\n",
              "    [theme=dark] .colab-df-convert {\n",
              "      background-color: #3B4455;\n",
              "      fill: #D2E3FC;\n",
              "    }\n",
              "\n",
              "    [theme=dark] .colab-df-convert:hover {\n",
              "      background-color: #434B5C;\n",
              "      box-shadow: 0px 1px 3px 1px rgba(0, 0, 0, 0.15);\n",
              "      filter: drop-shadow(0px 1px 2px rgba(0, 0, 0, 0.3));\n",
              "      fill: #FFFFFF;\n",
              "    }\n",
              "  </style>\n",
              "\n",
              "      <script>\n",
              "        const buttonEl =\n",
              "          document.querySelector('#df-a5c41017-0edf-4903-866a-ec563e8d506c button.colab-df-convert');\n",
              "        buttonEl.style.display =\n",
              "          google.colab.kernel.accessAllowed ? 'block' : 'none';\n",
              "\n",
              "        async function convertToInteractive(key) {\n",
              "          const element = document.querySelector('#df-a5c41017-0edf-4903-866a-ec563e8d506c');\n",
              "          const dataTable =\n",
              "            await google.colab.kernel.invokeFunction('convertToInteractive',\n",
              "                                                     [key], {});\n",
              "          if (!dataTable) return;\n",
              "\n",
              "          const docLinkHtml = 'Like what you see? Visit the ' +\n",
              "            '<a target=\"_blank\" href=https://colab.research.google.com/notebooks/data_table.ipynb>data table notebook</a>'\n",
              "            + ' to learn more about interactive tables.';\n",
              "          element.innerHTML = '';\n",
              "          dataTable['output_type'] = 'display_data';\n",
              "          await google.colab.output.renderOutput(dataTable, element);\n",
              "          const docLink = document.createElement('div');\n",
              "          docLink.innerHTML = docLinkHtml;\n",
              "          element.appendChild(docLink);\n",
              "        }\n",
              "      </script>\n",
              "    </div>\n",
              "  </div>\n",
              "  "
            ]
          },
          "metadata": {}
        }
      ]
    },
    {
      "cell_type": "code",
      "source": [
        "if JamesBond3 in list(train_data['nconst']):\n",
        "    ids, values = similarity_one_vs_all_new(train_data, JamesBond3_data, True)\n",
        "    ids, values = select_top_similiar(ids, values, 3)\n",
        "    names = replace_ids_with_names(train_data, ids, 3)\n",
        "elif JamesBond3 in list(validate_data['nconst']):\n",
        "    ids, values = similarity_one_vs_all_new(validate_data, JamesBond3_data, True)\n",
        "    ids, values = select_top_similiar(ids, values, 3)\n",
        "    names = replace_ids_with_names(validate_data, ids, 3)\n",
        "ranking = print_top_similiar(JamesBond3_data[3], names, values)"
      ],
      "metadata": {
        "id": "lkWjouhNCK7R",
        "outputId": "3628fb00-5e0b-4a3e-a05f-87bdb12f2ae2",
        "colab": {
          "base_uri": "https://localhost:8080/"
        }
      },
      "execution_count": 69,
      "outputs": [
        {
          "output_type": "stream",
          "name": "stdout",
          "text": [
            "Najbardziej podobnymi do Roger Moore aktorami/aktorkami są w kolejności:\n",
            "  - Geoffrey Keen z similarity równym: 0.3\n",
            "  - William Shatner z similarity równym: 0.293\n",
            "  - Hulk Hogan z similarity równym: 0.278\n"
          ]
        }
      ]
    },
    {
      "cell_type": "code",
      "source": [
        "file_object = open(RANKINGS, 'a')\n",
        "text = \"Najbardziej podobni do {}:\\n- {}, similarity: {}\\n- {}, similarity: {}\\n- {}, similarity: {}\\n\".format(JamesBond3[3], names[0], values[0], names[1], values[1], names[2], values[2])\n",
        "file_object.write(text)\n",
        "file_object.close()"
      ],
      "metadata": {
        "id": "oCG46QQgLLLT"
      },
      "execution_count": 70,
      "outputs": []
    },
    {
      "cell_type": "code",
      "source": [
        "similarity_value = similarity_new(JamesBond3_data, JamesBond1_data, True)\n",
        "print(\"Wartość similarity dla \", JamesBond3_data[3], \" i \", JamesBond1_data[3], \" wynosi: \", similarity_value)"
      ],
      "metadata": {
        "id": "jYOvC8pKAl4S",
        "outputId": "c911820a-e66d-4b78-c49d-f2d9e534cc09",
        "colab": {
          "base_uri": "https://localhost:8080/"
        }
      },
      "execution_count": 71,
      "outputs": [
        {
          "output_type": "stream",
          "name": "stdout",
          "text": [
            "Wartość similarity dla  Roger Moore  i  Sean Connery  wynosi:  0.22469830721003126\n"
          ]
        }
      ]
    },
    {
      "cell_type": "code",
      "source": [
        "file_object = open(SIMILARITY_VALUES, 'a')\n",
        "text = \"{}, {}, similarity value: {}\\n\".format(JamesBond3_data[3], JamesBond1_data[3], similarity_value)\n",
        "file_object.write(text)\n",
        "file_object.close()"
      ],
      "metadata": {
        "id": "NuXKBYILA7R6"
      },
      "execution_count": 72,
      "outputs": []
    },
    {
      "cell_type": "code",
      "source": [
        "similarity_value = similarity_new(JamesBond3_data, JamesBond2_data, True)\n",
        "print(\"Wartość similarity dla \", JamesBond3_data[3], \" i \", JamesBond2_data[3], \" wynosi: \", similarity_value)"
      ],
      "metadata": {
        "id": "HoWmoe4YAs_6",
        "outputId": "c68d76da-bbf9-4953-91a5-a35c791bdec0",
        "colab": {
          "base_uri": "https://localhost:8080/"
        }
      },
      "execution_count": 73,
      "outputs": [
        {
          "output_type": "stream",
          "name": "stdout",
          "text": [
            "Wartość similarity dla  Roger Moore  i  George Lazenby  wynosi:  0.10244564263322875\n"
          ]
        }
      ]
    },
    {
      "cell_type": "code",
      "source": [
        "file_object = open(SIMILARITY_VALUES, 'a')\n",
        "text = \"{}, {}, similarity value: {}\\n\".format(JamesBond3_data[3], JamesBond2_data[3], similarity_value)\n",
        "file_object.write(text)\n",
        "file_object.close()"
      ],
      "metadata": {
        "id": "8VX46wuAA7uL"
      },
      "execution_count": 74,
      "outputs": []
    },
    {
      "cell_type": "code",
      "source": [
        "JamesBond4 = \"nm0001096\""
      ],
      "metadata": {
        "id": "HHJEukFyBRpf"
      },
      "execution_count": 75,
      "outputs": []
    },
    {
      "cell_type": "code",
      "source": [
        "JamesBond4_data = find_actor_two_datasets(train_data, validate_data, JamesBond4)"
      ],
      "metadata": {
        "id": "-gPCi2sdCv_-",
        "outputId": "5fcf8ef7-5ef2-4927-a3db-0b7e327509d0",
        "colab": {
          "base_uri": "https://localhost:8080/",
          "height": 426
        }
      },
      "execution_count": 76,
      "outputs": [
        {
          "output_type": "display_data",
          "data": {
            "text/plain": [
              "                                                                      1587567\n",
              "nconst                                                              nm0001096\n",
              "tconst                      [tt0073530, tt0195165, tt11986814, tt1250466, ...\n",
              "category                                                                actor\n",
              "primaryName                                                    Timothy Dalton\n",
              "knownForTitles                   [tt0097742, tt0425112, tt0080745, tt0093428]\n",
              "no_nominations_oscars_norm                                                0.0\n",
              "no_nominations_globes_norm                                                0.0\n",
              "no_nominations_emmy_norm                                                  0.5\n",
              "no_films_norm                                                            0.01\n",
              "average_films_rating_norm                                               0.744\n",
              "genres_code                 [1, 1, 1, 1, 1, 0, 1, 0, 1, 1, 0, 0, 1, 1, 0, ...\n",
              "types_code                                  [1, 1, 1, 1, 1, 0, 1, 1, 0, 0, 0]"
            ],
            "text/html": [
              "\n",
              "  <div id=\"df-71ca1792-6750-4e73-8632-c71bad60d155\">\n",
              "    <div class=\"colab-df-container\">\n",
              "      <div>\n",
              "<style scoped>\n",
              "    .dataframe tbody tr th:only-of-type {\n",
              "        vertical-align: middle;\n",
              "    }\n",
              "\n",
              "    .dataframe tbody tr th {\n",
              "        vertical-align: top;\n",
              "    }\n",
              "\n",
              "    .dataframe thead th {\n",
              "        text-align: right;\n",
              "    }\n",
              "</style>\n",
              "<table border=\"1\" class=\"dataframe\">\n",
              "  <thead>\n",
              "    <tr style=\"text-align: right;\">\n",
              "      <th></th>\n",
              "      <th>1587567</th>\n",
              "    </tr>\n",
              "  </thead>\n",
              "  <tbody>\n",
              "    <tr>\n",
              "      <th>nconst</th>\n",
              "      <td>nm0001096</td>\n",
              "    </tr>\n",
              "    <tr>\n",
              "      <th>tconst</th>\n",
              "      <td>[tt0073530, tt0195165, tt11986814, tt1250466, ...</td>\n",
              "    </tr>\n",
              "    <tr>\n",
              "      <th>category</th>\n",
              "      <td>actor</td>\n",
              "    </tr>\n",
              "    <tr>\n",
              "      <th>primaryName</th>\n",
              "      <td>Timothy Dalton</td>\n",
              "    </tr>\n",
              "    <tr>\n",
              "      <th>knownForTitles</th>\n",
              "      <td>[tt0097742, tt0425112, tt0080745, tt0093428]</td>\n",
              "    </tr>\n",
              "    <tr>\n",
              "      <th>no_nominations_oscars_norm</th>\n",
              "      <td>0.0</td>\n",
              "    </tr>\n",
              "    <tr>\n",
              "      <th>no_nominations_globes_norm</th>\n",
              "      <td>0.0</td>\n",
              "    </tr>\n",
              "    <tr>\n",
              "      <th>no_nominations_emmy_norm</th>\n",
              "      <td>0.5</td>\n",
              "    </tr>\n",
              "    <tr>\n",
              "      <th>no_films_norm</th>\n",
              "      <td>0.01</td>\n",
              "    </tr>\n",
              "    <tr>\n",
              "      <th>average_films_rating_norm</th>\n",
              "      <td>0.744</td>\n",
              "    </tr>\n",
              "    <tr>\n",
              "      <th>genres_code</th>\n",
              "      <td>[1, 1, 1, 1, 1, 0, 1, 0, 1, 1, 0, 0, 1, 1, 0, ...</td>\n",
              "    </tr>\n",
              "    <tr>\n",
              "      <th>types_code</th>\n",
              "      <td>[1, 1, 1, 1, 1, 0, 1, 1, 0, 0, 0]</td>\n",
              "    </tr>\n",
              "  </tbody>\n",
              "</table>\n",
              "</div>\n",
              "      <button class=\"colab-df-convert\" onclick=\"convertToInteractive('df-71ca1792-6750-4e73-8632-c71bad60d155')\"\n",
              "              title=\"Convert this dataframe to an interactive table.\"\n",
              "              style=\"display:none;\">\n",
              "        \n",
              "  <svg xmlns=\"http://www.w3.org/2000/svg\" height=\"24px\"viewBox=\"0 0 24 24\"\n",
              "       width=\"24px\">\n",
              "    <path d=\"M0 0h24v24H0V0z\" fill=\"none\"/>\n",
              "    <path d=\"M18.56 5.44l.94 2.06.94-2.06 2.06-.94-2.06-.94-.94-2.06-.94 2.06-2.06.94zm-11 1L8.5 8.5l.94-2.06 2.06-.94-2.06-.94L8.5 2.5l-.94 2.06-2.06.94zm10 10l.94 2.06.94-2.06 2.06-.94-2.06-.94-.94-2.06-.94 2.06-2.06.94z\"/><path d=\"M17.41 7.96l-1.37-1.37c-.4-.4-.92-.59-1.43-.59-.52 0-1.04.2-1.43.59L10.3 9.45l-7.72 7.72c-.78.78-.78 2.05 0 2.83L4 21.41c.39.39.9.59 1.41.59.51 0 1.02-.2 1.41-.59l7.78-7.78 2.81-2.81c.8-.78.8-2.07 0-2.86zM5.41 20L4 18.59l7.72-7.72 1.47 1.35L5.41 20z\"/>\n",
              "  </svg>\n",
              "      </button>\n",
              "      \n",
              "  <style>\n",
              "    .colab-df-container {\n",
              "      display:flex;\n",
              "      flex-wrap:wrap;\n",
              "      gap: 12px;\n",
              "    }\n",
              "\n",
              "    .colab-df-convert {\n",
              "      background-color: #E8F0FE;\n",
              "      border: none;\n",
              "      border-radius: 50%;\n",
              "      cursor: pointer;\n",
              "      display: none;\n",
              "      fill: #1967D2;\n",
              "      height: 32px;\n",
              "      padding: 0 0 0 0;\n",
              "      width: 32px;\n",
              "    }\n",
              "\n",
              "    .colab-df-convert:hover {\n",
              "      background-color: #E2EBFA;\n",
              "      box-shadow: 0px 1px 2px rgba(60, 64, 67, 0.3), 0px 1px 3px 1px rgba(60, 64, 67, 0.15);\n",
              "      fill: #174EA6;\n",
              "    }\n",
              "\n",
              "    [theme=dark] .colab-df-convert {\n",
              "      background-color: #3B4455;\n",
              "      fill: #D2E3FC;\n",
              "    }\n",
              "\n",
              "    [theme=dark] .colab-df-convert:hover {\n",
              "      background-color: #434B5C;\n",
              "      box-shadow: 0px 1px 3px 1px rgba(0, 0, 0, 0.15);\n",
              "      filter: drop-shadow(0px 1px 2px rgba(0, 0, 0, 0.3));\n",
              "      fill: #FFFFFF;\n",
              "    }\n",
              "  </style>\n",
              "\n",
              "      <script>\n",
              "        const buttonEl =\n",
              "          document.querySelector('#df-71ca1792-6750-4e73-8632-c71bad60d155 button.colab-df-convert');\n",
              "        buttonEl.style.display =\n",
              "          google.colab.kernel.accessAllowed ? 'block' : 'none';\n",
              "\n",
              "        async function convertToInteractive(key) {\n",
              "          const element = document.querySelector('#df-71ca1792-6750-4e73-8632-c71bad60d155');\n",
              "          const dataTable =\n",
              "            await google.colab.kernel.invokeFunction('convertToInteractive',\n",
              "                                                     [key], {});\n",
              "          if (!dataTable) return;\n",
              "\n",
              "          const docLinkHtml = 'Like what you see? Visit the ' +\n",
              "            '<a target=\"_blank\" href=https://colab.research.google.com/notebooks/data_table.ipynb>data table notebook</a>'\n",
              "            + ' to learn more about interactive tables.';\n",
              "          element.innerHTML = '';\n",
              "          dataTable['output_type'] = 'display_data';\n",
              "          await google.colab.output.renderOutput(dataTable, element);\n",
              "          const docLink = document.createElement('div');\n",
              "          docLink.innerHTML = docLinkHtml;\n",
              "          element.appendChild(docLink);\n",
              "        }\n",
              "      </script>\n",
              "    </div>\n",
              "  </div>\n",
              "  "
            ]
          },
          "metadata": {}
        }
      ]
    },
    {
      "cell_type": "code",
      "source": [
        "if JamesBond4 in list(train_data['nconst']):\n",
        "    ids, values = similarity_one_vs_all_new(train_data, JamesBond4_data, True)\n",
        "    ids, values = select_top_similiar(ids, values, 3)\n",
        "    names = replace_ids_with_names(train_data, ids, 3)\n",
        "elif JamesBond4 in list(validate_data['nconst']):\n",
        "    ids, values = similarity_one_vs_all_new(validate_data, JamesBond4_data, True)\n",
        "    ids, values = select_top_similiar(ids, values, 3)\n",
        "    names = replace_ids_with_names(validate_data, ids, 3)\n",
        "ranking = print_top_similiar(JamesBond4_data[3], names, values)"
      ],
      "metadata": {
        "id": "HPNrYVMwLeHA",
        "outputId": "9b192441-2fa6-4054-e0f1-9334643757b9",
        "colab": {
          "base_uri": "https://localhost:8080/"
        }
      },
      "execution_count": 77,
      "outputs": [
        {
          "output_type": "stream",
          "name": "stdout",
          "text": [
            "Najbardziej podobnymi do Timothy Dalton aktorami/aktorkami są w kolejności:\n",
            "  - Christopher Neame z similarity równym: 0.332\n",
            "  - Nadim Sawalha z similarity równym: 0.328\n",
            "  - Rory Kinnear z similarity równym: 0.319\n"
          ]
        }
      ]
    },
    {
      "cell_type": "code",
      "source": [
        "file_object = open(RANKINGS, 'a')\n",
        "text = \"Najbardziej podobni do {}:\\n- {}, similarity: {}\\n- {}, similarity: {}\\n- {}, similarity: {}\\n\".format(JamesBond4[3], names[0], values[0], names[1], values[1], names[2], values[2])\n",
        "file_object.write(text)\n",
        "file_object.close()"
      ],
      "metadata": {
        "id": "xKhmUjotfkBI"
      },
      "execution_count": 78,
      "outputs": []
    },
    {
      "cell_type": "code",
      "source": [
        "similarity_value = similarity_new(JamesBond4_data, JamesBond1_data, True)\n",
        "print(\"Wartość similarity dla \", JamesBond4_data[3], \" i \", JamesBond1_data[3], \" wynosi: \", similarity_value)"
      ],
      "metadata": {
        "id": "ODbuu-TvErYk",
        "outputId": "4422ec24-ee6f-4ae7-97e0-43c4d61d5ac7",
        "colab": {
          "base_uri": "https://localhost:8080/"
        }
      },
      "execution_count": 79,
      "outputs": [
        {
          "output_type": "stream",
          "name": "stdout",
          "text": [
            "Wartość similarity dla  Timothy Dalton  i  Sean Connery  wynosi:  0.10496564263322883\n"
          ]
        }
      ]
    },
    {
      "cell_type": "code",
      "source": [
        "file_object = open(SIMILARITY_VALUES, 'a')\n",
        "text = \"{}, {}, similarity value: {}\\n\".format(JamesBond4_data[3], JamesBond1_data[3], similarity_value)\n",
        "file_object.write(text)\n",
        "file_object.close()"
      ],
      "metadata": {
        "id": "CAmy6clZfT0e"
      },
      "execution_count": 80,
      "outputs": []
    },
    {
      "cell_type": "code",
      "source": [
        "similarity_value = similarity_new(JamesBond4_data, JamesBond2_data, True)\n",
        "print(\"Wartość similarity dla \", JamesBond4_data[3], \" i \", JamesBond2_data[3], \" wynosi: \", similarity_value)"
      ],
      "metadata": {
        "id": "BYew1Q5kEzLT",
        "outputId": "bf7876bd-e4b4-4104-9948-fc71b91aa277",
        "colab": {
          "base_uri": "https://localhost:8080/"
        }
      },
      "execution_count": 81,
      "outputs": [
        {
          "output_type": "stream",
          "name": "stdout",
          "text": [
            "Wartość similarity dla  Timothy Dalton  i  George Lazenby  wynosi:  0.15387285266457673\n"
          ]
        }
      ]
    },
    {
      "cell_type": "code",
      "source": [
        "file_object = open(SIMILARITY_VALUES, 'a')\n",
        "text = \"{}, {}, similarity value: {}\\n\".format(JamesBond4_data[3], JamesBond2_data[3], similarity_value)\n",
        "file_object.write(text)\n",
        "file_object.close()"
      ],
      "metadata": {
        "id": "Uv83uBnMfXxN"
      },
      "execution_count": 82,
      "outputs": []
    },
    {
      "cell_type": "code",
      "source": [
        "similarity_value = similarity_new(JamesBond4_data, JamesBond3_data, True)\n",
        "print(\"Wartość similarity dla \", JamesBond4_data[3], \" i \", JamesBond3_data[3], \" wynosi: \", similarity_value)"
      ],
      "metadata": {
        "id": "afJ0P86jE3_3",
        "outputId": "968681fc-22b8-411e-8282-c0ee222ca9a3",
        "colab": {
          "base_uri": "https://localhost:8080/"
        }
      },
      "execution_count": 83,
      "outputs": [
        {
          "output_type": "stream",
          "name": "stdout",
          "text": [
            "Wartość similarity dla  Timothy Dalton  i  Roger Moore  wynosi:  0.1485983699059561\n"
          ]
        }
      ]
    },
    {
      "cell_type": "code",
      "source": [
        "file_object = open(SIMILARITY_VALUES, 'a')\n",
        "text = \"{}, {}, similarity value: {}\\n\".format(JamesBond4_data[3], JamesBond3_data[3], similarity_value)\n",
        "file_object.write(text)\n",
        "file_object.close()"
      ],
      "metadata": {
        "id": "fKXyaIAUfe3R"
      },
      "execution_count": 84,
      "outputs": []
    },
    {
      "cell_type": "code",
      "source": [
        "JamesBond5 = \"nm0000112\""
      ],
      "metadata": {
        "id": "kUKU4hHgFTp2"
      },
      "execution_count": 85,
      "outputs": []
    },
    {
      "cell_type": "code",
      "source": [
        "JamesBond5_data = find_actor_two_datasets(train_data, validate_data, JamesBond5)"
      ],
      "metadata": {
        "id": "CFDax2QdFck9",
        "outputId": "4385d76f-ed69-4dc6-affa-9b3a6f8e52dd",
        "colab": {
          "base_uri": "https://localhost:8080/",
          "height": 426
        }
      },
      "execution_count": 86,
      "outputs": [
        {
          "output_type": "display_data",
          "data": {
            "text/plain": [
              "                                                                       466834\n",
              "nconst                                                              nm0000112\n",
              "tconst                      [tt0120347, tt0128239, tt0684830, tt0684869, t...\n",
              "category                                                                actor\n",
              "primaryName                                                    Pierce Brosnan\n",
              "knownForTitles                   [tt0155267, tt0120347, tt0143145, tt0795421]\n",
              "no_nominations_oscars_norm                                                0.0\n",
              "no_nominations_globes_norm                                              0.087\n",
              "no_nominations_emmy_norm                                                  0.5\n",
              "no_films_norm                                                            0.02\n",
              "average_films_rating_norm                                               0.714\n",
              "genres_code                 [1, 1, 1, 1, 1, 1, 1, 0, 1, 1, 0, 0, 1, 1, 0, ...\n",
              "types_code                                  [1, 1, 1, 1, 1, 0, 1, 1, 0, 1, 0]"
            ],
            "text/html": [
              "\n",
              "  <div id=\"df-212636c8-8c36-4242-8c70-2aa0e4c89180\">\n",
              "    <div class=\"colab-df-container\">\n",
              "      <div>\n",
              "<style scoped>\n",
              "    .dataframe tbody tr th:only-of-type {\n",
              "        vertical-align: middle;\n",
              "    }\n",
              "\n",
              "    .dataframe tbody tr th {\n",
              "        vertical-align: top;\n",
              "    }\n",
              "\n",
              "    .dataframe thead th {\n",
              "        text-align: right;\n",
              "    }\n",
              "</style>\n",
              "<table border=\"1\" class=\"dataframe\">\n",
              "  <thead>\n",
              "    <tr style=\"text-align: right;\">\n",
              "      <th></th>\n",
              "      <th>466834</th>\n",
              "    </tr>\n",
              "  </thead>\n",
              "  <tbody>\n",
              "    <tr>\n",
              "      <th>nconst</th>\n",
              "      <td>nm0000112</td>\n",
              "    </tr>\n",
              "    <tr>\n",
              "      <th>tconst</th>\n",
              "      <td>[tt0120347, tt0128239, tt0684830, tt0684869, t...</td>\n",
              "    </tr>\n",
              "    <tr>\n",
              "      <th>category</th>\n",
              "      <td>actor</td>\n",
              "    </tr>\n",
              "    <tr>\n",
              "      <th>primaryName</th>\n",
              "      <td>Pierce Brosnan</td>\n",
              "    </tr>\n",
              "    <tr>\n",
              "      <th>knownForTitles</th>\n",
              "      <td>[tt0155267, tt0120347, tt0143145, tt0795421]</td>\n",
              "    </tr>\n",
              "    <tr>\n",
              "      <th>no_nominations_oscars_norm</th>\n",
              "      <td>0.0</td>\n",
              "    </tr>\n",
              "    <tr>\n",
              "      <th>no_nominations_globes_norm</th>\n",
              "      <td>0.087</td>\n",
              "    </tr>\n",
              "    <tr>\n",
              "      <th>no_nominations_emmy_norm</th>\n",
              "      <td>0.5</td>\n",
              "    </tr>\n",
              "    <tr>\n",
              "      <th>no_films_norm</th>\n",
              "      <td>0.02</td>\n",
              "    </tr>\n",
              "    <tr>\n",
              "      <th>average_films_rating_norm</th>\n",
              "      <td>0.714</td>\n",
              "    </tr>\n",
              "    <tr>\n",
              "      <th>genres_code</th>\n",
              "      <td>[1, 1, 1, 1, 1, 1, 1, 0, 1, 1, 0, 0, 1, 1, 0, ...</td>\n",
              "    </tr>\n",
              "    <tr>\n",
              "      <th>types_code</th>\n",
              "      <td>[1, 1, 1, 1, 1, 0, 1, 1, 0, 1, 0]</td>\n",
              "    </tr>\n",
              "  </tbody>\n",
              "</table>\n",
              "</div>\n",
              "      <button class=\"colab-df-convert\" onclick=\"convertToInteractive('df-212636c8-8c36-4242-8c70-2aa0e4c89180')\"\n",
              "              title=\"Convert this dataframe to an interactive table.\"\n",
              "              style=\"display:none;\">\n",
              "        \n",
              "  <svg xmlns=\"http://www.w3.org/2000/svg\" height=\"24px\"viewBox=\"0 0 24 24\"\n",
              "       width=\"24px\">\n",
              "    <path d=\"M0 0h24v24H0V0z\" fill=\"none\"/>\n",
              "    <path d=\"M18.56 5.44l.94 2.06.94-2.06 2.06-.94-2.06-.94-.94-2.06-.94 2.06-2.06.94zm-11 1L8.5 8.5l.94-2.06 2.06-.94-2.06-.94L8.5 2.5l-.94 2.06-2.06.94zm10 10l.94 2.06.94-2.06 2.06-.94-2.06-.94-.94-2.06-.94 2.06-2.06.94z\"/><path d=\"M17.41 7.96l-1.37-1.37c-.4-.4-.92-.59-1.43-.59-.52 0-1.04.2-1.43.59L10.3 9.45l-7.72 7.72c-.78.78-.78 2.05 0 2.83L4 21.41c.39.39.9.59 1.41.59.51 0 1.02-.2 1.41-.59l7.78-7.78 2.81-2.81c.8-.78.8-2.07 0-2.86zM5.41 20L4 18.59l7.72-7.72 1.47 1.35L5.41 20z\"/>\n",
              "  </svg>\n",
              "      </button>\n",
              "      \n",
              "  <style>\n",
              "    .colab-df-container {\n",
              "      display:flex;\n",
              "      flex-wrap:wrap;\n",
              "      gap: 12px;\n",
              "    }\n",
              "\n",
              "    .colab-df-convert {\n",
              "      background-color: #E8F0FE;\n",
              "      border: none;\n",
              "      border-radius: 50%;\n",
              "      cursor: pointer;\n",
              "      display: none;\n",
              "      fill: #1967D2;\n",
              "      height: 32px;\n",
              "      padding: 0 0 0 0;\n",
              "      width: 32px;\n",
              "    }\n",
              "\n",
              "    .colab-df-convert:hover {\n",
              "      background-color: #E2EBFA;\n",
              "      box-shadow: 0px 1px 2px rgba(60, 64, 67, 0.3), 0px 1px 3px 1px rgba(60, 64, 67, 0.15);\n",
              "      fill: #174EA6;\n",
              "    }\n",
              "\n",
              "    [theme=dark] .colab-df-convert {\n",
              "      background-color: #3B4455;\n",
              "      fill: #D2E3FC;\n",
              "    }\n",
              "\n",
              "    [theme=dark] .colab-df-convert:hover {\n",
              "      background-color: #434B5C;\n",
              "      box-shadow: 0px 1px 3px 1px rgba(0, 0, 0, 0.15);\n",
              "      filter: drop-shadow(0px 1px 2px rgba(0, 0, 0, 0.3));\n",
              "      fill: #FFFFFF;\n",
              "    }\n",
              "  </style>\n",
              "\n",
              "      <script>\n",
              "        const buttonEl =\n",
              "          document.querySelector('#df-212636c8-8c36-4242-8c70-2aa0e4c89180 button.colab-df-convert');\n",
              "        buttonEl.style.display =\n",
              "          google.colab.kernel.accessAllowed ? 'block' : 'none';\n",
              "\n",
              "        async function convertToInteractive(key) {\n",
              "          const element = document.querySelector('#df-212636c8-8c36-4242-8c70-2aa0e4c89180');\n",
              "          const dataTable =\n",
              "            await google.colab.kernel.invokeFunction('convertToInteractive',\n",
              "                                                     [key], {});\n",
              "          if (!dataTable) return;\n",
              "\n",
              "          const docLinkHtml = 'Like what you see? Visit the ' +\n",
              "            '<a target=\"_blank\" href=https://colab.research.google.com/notebooks/data_table.ipynb>data table notebook</a>'\n",
              "            + ' to learn more about interactive tables.';\n",
              "          element.innerHTML = '';\n",
              "          dataTable['output_type'] = 'display_data';\n",
              "          await google.colab.output.renderOutput(dataTable, element);\n",
              "          const docLink = document.createElement('div');\n",
              "          docLink.innerHTML = docLinkHtml;\n",
              "          element.appendChild(docLink);\n",
              "        }\n",
              "      </script>\n",
              "    </div>\n",
              "  </div>\n",
              "  "
            ]
          },
          "metadata": {}
        }
      ]
    },
    {
      "cell_type": "code",
      "source": [
        "if JamesBond5 in list(train_data['nconst']):\n",
        "    ids, values = similarity_one_vs_all_new(train_data, JamesBond5_data, True)\n",
        "    ids, values = select_top_similiar(ids, values, 3)\n",
        "    names = replace_ids_with_names(train_data, ids, 3)\n",
        "elif JamesBond5 in list(validate_data['nconst']):\n",
        "    ids, values = similarity_one_vs_all_new(validate_data, JamesBond5_data, True)\n",
        "    ids, values = select_top_similiar(ids, values, 3)\n",
        "    names = replace_ids_with_names(validate_data, ids, 3)\n",
        "ranking = print_top_similiar(JamesBond5_data[3], names, values)"
      ],
      "metadata": {
        "id": "Ogmg_qJDGC8p"
      },
      "execution_count": null,
      "outputs": []
    },
    {
      "cell_type": "code",
      "source": [
        "file_object = open(RANKINGS, 'a')\n",
        "text = \"Najbardziej podobni do {}:\\n- {}, similarity: {}\\n- {}, similarity: {}\\n- {}, similarity: {}\\n\".format(JamesBond5[3], names[0], values[0], names[1], values[1], names[2], values[2])\n",
        "file_object.write(text)\n",
        "file_object.close()"
      ],
      "metadata": {
        "id": "6YcfFXrqf6aa"
      },
      "execution_count": 89,
      "outputs": []
    },
    {
      "cell_type": "code",
      "source": [
        "similarity_value = similarity_new(JamesBond5_data, JamesBond1_data, True)\n",
        "print(\"Wartość similarity dla \", JamesBond5_data[3], \" i \", JamesBond1_data[3], \" wynosi: \", similarity_value)"
      ],
      "metadata": {
        "id": "8DirIES-FiK7",
        "outputId": "ba17d1d2-6b54-4946-df81-10086abff58c",
        "colab": {
          "base_uri": "https://localhost:8080/"
        }
      },
      "execution_count": 90,
      "outputs": [
        {
          "output_type": "stream",
          "name": "stdout",
          "text": [
            "Wartość similarity dla  Pierce Brosnan  i  Sean Connery  wynosi:  0.17389285266457688\n"
          ]
        }
      ]
    },
    {
      "cell_type": "code",
      "source": [
        "file_object = open(SIMILARITY_VALUES, 'a')\n",
        "text = \"{}, {}, similarity value: {}\\n\".format(JamesBond5_data[3], JamesBond1_data[3], similarity_value)\n",
        "file_object.write(text)\n",
        "file_object.close()"
      ],
      "metadata": {
        "id": "J2g9UN0jgZN0"
      },
      "execution_count": 91,
      "outputs": []
    },
    {
      "cell_type": "code",
      "source": [
        "similarity_value = similarity_new(JamesBond5_data, JamesBond2_data, True)\n",
        "print(\"Wartość similarity dla \", JamesBond5_data[3], \" i \", JamesBond2_data[3], \" wynosi: \", similarity_value)"
      ],
      "metadata": {
        "id": "4QxbrEL4Fy8g",
        "outputId": "2758c3c0-2a00-4063-f84c-a15b1a8ac85c",
        "colab": {
          "base_uri": "https://localhost:8080/"
        }
      },
      "execution_count": 92,
      "outputs": [
        {
          "output_type": "stream",
          "name": "stdout",
          "text": [
            "Wartość similarity dla  Pierce Brosnan  i  George Lazenby  wynosi:  0.12159529780564249\n"
          ]
        }
      ]
    },
    {
      "cell_type": "code",
      "source": [
        "file_object = open(SIMILARITY_VALUES, 'a')\n",
        "text = \"{}, {}, similarity value: {}\\n\".format(JamesBond5_data[3], JamesBond2_data[3], similarity_value)\n",
        "file_object.write(text)\n",
        "file_object.close()"
      ],
      "metadata": {
        "id": "6pAyuJdtgeSl"
      },
      "execution_count": 93,
      "outputs": []
    },
    {
      "cell_type": "code",
      "source": [
        "similarity_value = similarity_new(JamesBond5_data, JamesBond3_data, True)\n",
        "print(\"Wartość similarity dla \", JamesBond5_data[3], \" i \", JamesBond3_data[3], \" wynosi: \", similarity_value)"
      ],
      "metadata": {
        "id": "9VivuhqyF2L_",
        "outputId": "647d55ba-aaf1-40b4-dfd2-0d6fdc12c460",
        "colab": {
          "base_uri": "https://localhost:8080/"
        }
      },
      "execution_count": 94,
      "outputs": [
        {
          "output_type": "stream",
          "name": "stdout",
          "text": [
            "Wartość similarity dla  Pierce Brosnan  i  Roger Moore  wynosi:  0.2170455799373041\n"
          ]
        }
      ]
    },
    {
      "cell_type": "code",
      "source": [
        "file_object = open(SIMILARITY_VALUES, 'a')\n",
        "text = \"{}, {}, similarity value: {}\\n\".format(JamesBond5_data[3], JamesBond3_data[3], similarity_value)\n",
        "file_object.write(text)\n",
        "file_object.close()"
      ],
      "metadata": {
        "id": "fMMBhKmPggWD"
      },
      "execution_count": 95,
      "outputs": []
    },
    {
      "cell_type": "code",
      "source": [
        "similarity_value = similarity_new(JamesBond5_data, JamesBond4_data, True)\n",
        "print(\"Wartość similarity dla \", JamesBond5_data[3], \" i \", JamesBond4_data[3], \" wynosi: \", similarity_value)"
      ],
      "metadata": {
        "id": "5xHIaMNNF6ew",
        "outputId": "b4ec2f5b-1e64-462c-9ce4-703eb7f5902c",
        "colab": {
          "base_uri": "https://localhost:8080/"
        }
      },
      "execution_count": 96,
      "outputs": [
        {
          "output_type": "stream",
          "name": "stdout",
          "text": [
            "Wartość similarity dla  Pierce Brosnan  i  Timothy Dalton  wynosi:  0.2662727899686521\n"
          ]
        }
      ]
    },
    {
      "cell_type": "code",
      "source": [
        "file_object = open(SIMILARITY_VALUES, 'a')\n",
        "text = \"{}, {}, similarity value: {}\\n\".format(JamesBond5_data[3], JamesBond4_data[3], similarity_value)\n",
        "file_object.write(text)\n",
        "file_object.close()"
      ],
      "metadata": {
        "id": "dkaLoczGgjBi"
      },
      "execution_count": 97,
      "outputs": []
    },
    {
      "cell_type": "code",
      "source": [
        "JamesBond6 = \"nm0185819\""
      ],
      "metadata": {
        "id": "XZT55U3aGA02"
      },
      "execution_count": 98,
      "outputs": []
    },
    {
      "cell_type": "code",
      "source": [
        "JamesBond6_data = find_actor_two_datasets(train_data, validate_data, JamesBond6)"
      ],
      "metadata": {
        "id": "zJyr9kt-HJVK",
        "outputId": "464fcdf7-0bd5-492b-93f0-79ba36dc4d95",
        "colab": {
          "base_uri": "https://localhost:8080/",
          "height": 426
        }
      },
      "execution_count": 99,
      "outputs": [
        {
          "output_type": "display_data",
          "data": {
            "text/plain": [
              "                                                                      1756395\n",
              "nconst                                                              nm0185819\n",
              "tconst                      [tt0161010, tt0366627, tt0375912, tt0386741, t...\n",
              "category                                                                actor\n",
              "primaryName                                                      Daniel Craig\n",
              "knownForTitles                   [tt2382320, tt1074638, tt0381061, tt2379713]\n",
              "no_nominations_oscars_norm                                                0.0\n",
              "no_nominations_globes_norm                                              0.043\n",
              "no_nominations_emmy_norm                                                  0.5\n",
              "no_films_norm                                                           0.007\n",
              "average_films_rating_norm                                                0.68\n",
              "genres_code                 [1, 1, 1, 1, 1, 1, 1, 0, 1, 1, 0, 0, 1, 1, 0, ...\n",
              "types_code                                  [1, 1, 1, 1, 1, 1, 1, 1, 0, 1, 0]"
            ],
            "text/html": [
              "\n",
              "  <div id=\"df-519f9d38-a60f-4634-961a-615a279394a8\">\n",
              "    <div class=\"colab-df-container\">\n",
              "      <div>\n",
              "<style scoped>\n",
              "    .dataframe tbody tr th:only-of-type {\n",
              "        vertical-align: middle;\n",
              "    }\n",
              "\n",
              "    .dataframe tbody tr th {\n",
              "        vertical-align: top;\n",
              "    }\n",
              "\n",
              "    .dataframe thead th {\n",
              "        text-align: right;\n",
              "    }\n",
              "</style>\n",
              "<table border=\"1\" class=\"dataframe\">\n",
              "  <thead>\n",
              "    <tr style=\"text-align: right;\">\n",
              "      <th></th>\n",
              "      <th>1756395</th>\n",
              "    </tr>\n",
              "  </thead>\n",
              "  <tbody>\n",
              "    <tr>\n",
              "      <th>nconst</th>\n",
              "      <td>nm0185819</td>\n",
              "    </tr>\n",
              "    <tr>\n",
              "      <th>tconst</th>\n",
              "      <td>[tt0161010, tt0366627, tt0375912, tt0386741, t...</td>\n",
              "    </tr>\n",
              "    <tr>\n",
              "      <th>category</th>\n",
              "      <td>actor</td>\n",
              "    </tr>\n",
              "    <tr>\n",
              "      <th>primaryName</th>\n",
              "      <td>Daniel Craig</td>\n",
              "    </tr>\n",
              "    <tr>\n",
              "      <th>knownForTitles</th>\n",
              "      <td>[tt2382320, tt1074638, tt0381061, tt2379713]</td>\n",
              "    </tr>\n",
              "    <tr>\n",
              "      <th>no_nominations_oscars_norm</th>\n",
              "      <td>0.0</td>\n",
              "    </tr>\n",
              "    <tr>\n",
              "      <th>no_nominations_globes_norm</th>\n",
              "      <td>0.043</td>\n",
              "    </tr>\n",
              "    <tr>\n",
              "      <th>no_nominations_emmy_norm</th>\n",
              "      <td>0.5</td>\n",
              "    </tr>\n",
              "    <tr>\n",
              "      <th>no_films_norm</th>\n",
              "      <td>0.007</td>\n",
              "    </tr>\n",
              "    <tr>\n",
              "      <th>average_films_rating_norm</th>\n",
              "      <td>0.68</td>\n",
              "    </tr>\n",
              "    <tr>\n",
              "      <th>genres_code</th>\n",
              "      <td>[1, 1, 1, 1, 1, 1, 1, 0, 1, 1, 0, 0, 1, 1, 0, ...</td>\n",
              "    </tr>\n",
              "    <tr>\n",
              "      <th>types_code</th>\n",
              "      <td>[1, 1, 1, 1, 1, 1, 1, 1, 0, 1, 0]</td>\n",
              "    </tr>\n",
              "  </tbody>\n",
              "</table>\n",
              "</div>\n",
              "      <button class=\"colab-df-convert\" onclick=\"convertToInteractive('df-519f9d38-a60f-4634-961a-615a279394a8')\"\n",
              "              title=\"Convert this dataframe to an interactive table.\"\n",
              "              style=\"display:none;\">\n",
              "        \n",
              "  <svg xmlns=\"http://www.w3.org/2000/svg\" height=\"24px\"viewBox=\"0 0 24 24\"\n",
              "       width=\"24px\">\n",
              "    <path d=\"M0 0h24v24H0V0z\" fill=\"none\"/>\n",
              "    <path d=\"M18.56 5.44l.94 2.06.94-2.06 2.06-.94-2.06-.94-.94-2.06-.94 2.06-2.06.94zm-11 1L8.5 8.5l.94-2.06 2.06-.94-2.06-.94L8.5 2.5l-.94 2.06-2.06.94zm10 10l.94 2.06.94-2.06 2.06-.94-2.06-.94-.94-2.06-.94 2.06-2.06.94z\"/><path d=\"M17.41 7.96l-1.37-1.37c-.4-.4-.92-.59-1.43-.59-.52 0-1.04.2-1.43.59L10.3 9.45l-7.72 7.72c-.78.78-.78 2.05 0 2.83L4 21.41c.39.39.9.59 1.41.59.51 0 1.02-.2 1.41-.59l7.78-7.78 2.81-2.81c.8-.78.8-2.07 0-2.86zM5.41 20L4 18.59l7.72-7.72 1.47 1.35L5.41 20z\"/>\n",
              "  </svg>\n",
              "      </button>\n",
              "      \n",
              "  <style>\n",
              "    .colab-df-container {\n",
              "      display:flex;\n",
              "      flex-wrap:wrap;\n",
              "      gap: 12px;\n",
              "    }\n",
              "\n",
              "    .colab-df-convert {\n",
              "      background-color: #E8F0FE;\n",
              "      border: none;\n",
              "      border-radius: 50%;\n",
              "      cursor: pointer;\n",
              "      display: none;\n",
              "      fill: #1967D2;\n",
              "      height: 32px;\n",
              "      padding: 0 0 0 0;\n",
              "      width: 32px;\n",
              "    }\n",
              "\n",
              "    .colab-df-convert:hover {\n",
              "      background-color: #E2EBFA;\n",
              "      box-shadow: 0px 1px 2px rgba(60, 64, 67, 0.3), 0px 1px 3px 1px rgba(60, 64, 67, 0.15);\n",
              "      fill: #174EA6;\n",
              "    }\n",
              "\n",
              "    [theme=dark] .colab-df-convert {\n",
              "      background-color: #3B4455;\n",
              "      fill: #D2E3FC;\n",
              "    }\n",
              "\n",
              "    [theme=dark] .colab-df-convert:hover {\n",
              "      background-color: #434B5C;\n",
              "      box-shadow: 0px 1px 3px 1px rgba(0, 0, 0, 0.15);\n",
              "      filter: drop-shadow(0px 1px 2px rgba(0, 0, 0, 0.3));\n",
              "      fill: #FFFFFF;\n",
              "    }\n",
              "  </style>\n",
              "\n",
              "      <script>\n",
              "        const buttonEl =\n",
              "          document.querySelector('#df-519f9d38-a60f-4634-961a-615a279394a8 button.colab-df-convert');\n",
              "        buttonEl.style.display =\n",
              "          google.colab.kernel.accessAllowed ? 'block' : 'none';\n",
              "\n",
              "        async function convertToInteractive(key) {\n",
              "          const element = document.querySelector('#df-519f9d38-a60f-4634-961a-615a279394a8');\n",
              "          const dataTable =\n",
              "            await google.colab.kernel.invokeFunction('convertToInteractive',\n",
              "                                                     [key], {});\n",
              "          if (!dataTable) return;\n",
              "\n",
              "          const docLinkHtml = 'Like what you see? Visit the ' +\n",
              "            '<a target=\"_blank\" href=https://colab.research.google.com/notebooks/data_table.ipynb>data table notebook</a>'\n",
              "            + ' to learn more about interactive tables.';\n",
              "          element.innerHTML = '';\n",
              "          dataTable['output_type'] = 'display_data';\n",
              "          await google.colab.output.renderOutput(dataTable, element);\n",
              "          const docLink = document.createElement('div');\n",
              "          docLink.innerHTML = docLinkHtml;\n",
              "          element.appendChild(docLink);\n",
              "        }\n",
              "      </script>\n",
              "    </div>\n",
              "  </div>\n",
              "  "
            ]
          },
          "metadata": {}
        }
      ]
    },
    {
      "cell_type": "code",
      "source": [
        "if JamesBond6 in list(train_data['nconst']):\n",
        "    ids, values = similarity_one_vs_all_new(train_data, JamesBond6_data, True)\n",
        "    ids, values = select_top_similiar(ids, values, 3)\n",
        "    names = replace_ids_with_names(train_data, ids, 3)\n",
        "elif JamesBond6 in list(validate_data['nconst']):\n",
        "    ids, values = similarity_one_vs_all_new(validate_data, JamesBond6_data, True)\n",
        "    ids, values = select_top_similiar(ids, values, 3)\n",
        "    names = replace_ids_with_names(validate_data, ids, 3)\n",
        "ranking = print_top_similiar(JamesBond6_data[3], names, values)"
      ],
      "metadata": {
        "id": "tjw2FUI_HtvC",
        "outputId": "1f2ba72a-3d07-4a52-b28f-e50f8addce3f",
        "colab": {
          "base_uri": "https://localhost:8080/"
        }
      },
      "execution_count": 100,
      "outputs": [
        {
          "output_type": "stream",
          "name": "stdout",
          "text": [
            "Najbardziej podobnymi do Daniel Craig aktorami/aktorkami są w kolejności:\n",
            "  - Sam Elliott z similarity równym: 0.306\n",
            "  - Michael York z similarity równym: 0.304\n",
            "  - Dan Aykroyd z similarity równym: 0.303\n"
          ]
        }
      ]
    },
    {
      "cell_type": "code",
      "source": [
        "file_object = open(RANKINGS, 'a')\n",
        "text = \"Najbardziej podobni do {}:\\n- {}, similarity: {}\\n- {}, similarity: {}\\n- {}, similarity: {}\\n\".format(JamesBond6[3], names[0], values[0], names[1], values[1], names[2], values[2])\n",
        "file_object.write(text)\n",
        "file_object.close()"
      ],
      "metadata": {
        "id": "43Mtatb4g08Z"
      },
      "execution_count": 101,
      "outputs": []
    },
    {
      "cell_type": "code",
      "source": [
        "similarity_value = similarity_new(JamesBond6_data, JamesBond1_data, True)\n",
        "print(\"Wartość similarity dla \", JamesBond6_data[3], \" i \", JamesBond1_data[3], \" wynosi: \", similarity_value)"
      ],
      "metadata": {
        "id": "ml6vVorOHU4H",
        "outputId": "7e952e06-3ffd-42c1-dd0b-de0d4b26a6c7",
        "colab": {
          "base_uri": "https://localhost:8080/"
        }
      },
      "execution_count": 102,
      "outputs": [
        {
          "output_type": "stream",
          "name": "stdout",
          "text": [
            "Wartość similarity dla  Daniel Craig  i  Sean Connery  wynosi:  0.21000557993730418\n"
          ]
        }
      ]
    },
    {
      "cell_type": "code",
      "source": [
        "file_object = open(SIMILARITY_VALUES, 'a')\n",
        "text = \"{}, {}, similarity value: {}\\n\".format(JamesBond6_data[3], JamesBond1_data[3], similarity_value)\n",
        "file_object.write(text)\n",
        "file_object.close()"
      ],
      "metadata": {
        "id": "gSwPIemZhGCD"
      },
      "execution_count": 103,
      "outputs": []
    },
    {
      "cell_type": "code",
      "source": [
        "similarity_value = similarity_new(JamesBond6_data, JamesBond2_data, True)\n",
        "print(\"Wartość similarity dla \", JamesBond6_data[3], \" i \", JamesBond2_data[3], \" wynosi: \", similarity_value)"
      ],
      "metadata": {
        "id": "ndfwIkbiHUsE",
        "outputId": "acb851ce-cc01-4667-8cd7-3dbb859eaa1e",
        "colab": {
          "base_uri": "https://localhost:8080/"
        }
      },
      "execution_count": 104,
      "outputs": [
        {
          "output_type": "stream",
          "name": "stdout",
          "text": [
            "Wartość similarity dla  Daniel Craig  i  George Lazenby  wynosi:  0.10892257053291532\n"
          ]
        }
      ]
    },
    {
      "cell_type": "code",
      "source": [
        "file_object = open(SIMILARITY_VALUES, 'a')\n",
        "text = \"{}, {}, similarity value: {}\\n\".format(JamesBond6_data[3], JamesBond2_data[3], similarity_value)\n",
        "file_object.write(text)\n",
        "file_object.close()"
      ],
      "metadata": {
        "id": "AZ2UssovhGeA"
      },
      "execution_count": 105,
      "outputs": []
    },
    {
      "cell_type": "code",
      "source": [
        "similarity_value = similarity_new(JamesBond6_data, JamesBond3_data, True)\n",
        "print(\"Wartość similarity dla \", JamesBond6_data[3], \" i \", JamesBond3_data[3], \" wynosi: \", similarity_value)"
      ],
      "metadata": {
        "id": "It1l2b1MHd8n",
        "outputId": "f2425613-3e14-4f54-b0f4-e887e4cbf712",
        "colab": {
          "base_uri": "https://localhost:8080/"
        }
      },
      "execution_count": 106,
      "outputs": [
        {
          "output_type": "stream",
          "name": "stdout",
          "text": [
            "Wartość similarity dla  Daniel Craig  i  Roger Moore  wynosi:  0.2592955190575079\n"
          ]
        }
      ]
    },
    {
      "cell_type": "code",
      "source": [
        "file_object = open(SIMILARITY_VALUES, 'a')\n",
        "text = \"{}, {}, similarity value: {}\\n\".format(JamesBond6_data[3], JamesBond3_data[3], similarity_value)\n",
        "file_object.write(text)\n",
        "file_object.close()"
      ],
      "metadata": {
        "id": "-8tpXcmdhG2M"
      },
      "execution_count": 107,
      "outputs": []
    },
    {
      "cell_type": "code",
      "source": [
        "similarity_value = similarity_new(JamesBond6_data, JamesBond4_data, True)\n",
        "print(\"Wartość similarity dla \", JamesBond6_data[3], \" i \", JamesBond4_data[3], \" wynosi: \", similarity_value)"
      ],
      "metadata": {
        "id": "UHN92HS3Hgzp",
        "outputId": "7068d646-2979-489e-ab5e-5940c3584488",
        "colab": {
          "base_uri": "https://localhost:8080/"
        }
      },
      "execution_count": 108,
      "outputs": [
        {
          "output_type": "stream",
          "name": "stdout",
          "text": [
            "Wartość similarity dla  Daniel Craig  i  Timothy Dalton  wynosi:  0.21379040752351086\n"
          ]
        }
      ]
    },
    {
      "cell_type": "code",
      "source": [
        "file_object = open(SIMILARITY_VALUES, 'a')\n",
        "text = \"{}, {}, similarity value: {}\\n\".format(JamesBond6_data[3], JamesBond4_data[3], similarity_value)\n",
        "file_object.write(text)\n",
        "file_object.close()"
      ],
      "metadata": {
        "id": "LcWy_fa8hHRB"
      },
      "execution_count": 109,
      "outputs": []
    },
    {
      "cell_type": "code",
      "source": [
        "similarity_value = similarity_new(JamesBond6_data, JamesBond5_data, True)\n",
        "print(\"Wartość similarity dla \", JamesBond6_data[3], \" i \", JamesBond5_data[3], \" wynosi: \", similarity_value)"
      ],
      "metadata": {
        "id": "u8nCCsDAHlHn",
        "outputId": "f29d832f-9295-4b81-dc61-76395d512114",
        "colab": {
          "base_uri": "https://localhost:8080/"
        }
      },
      "execution_count": 110,
      "outputs": [
        {
          "output_type": "stream",
          "name": "stdout",
          "text": [
            "Wartość similarity dla  Daniel Craig  i  Pierce Brosnan  wynosi:  0.2567479623824451\n"
          ]
        }
      ]
    },
    {
      "cell_type": "code",
      "source": [
        "file_object = open(SIMILARITY_VALUES, 'a')\n",
        "text = \"{}, {}, similarity value: {}\\n\".format(JamesBond6_data[3], JamesBond5_data[3], similarity_value)\n",
        "file_object.write(text)\n",
        "file_object.close()"
      ],
      "metadata": {
        "id": "aeXzIXRChH8G"
      },
      "execution_count": 111,
      "outputs": []
    },
    {
      "cell_type": "markdown",
      "source": [
        "#Dubbing tych samych postaci"
      ],
      "metadata": {
        "id": "Hk7yaNlYhger"
      }
    },
    {
      "cell_type": "code",
      "source": [
        "Donkey1 = \"nm0000552\""
      ],
      "metadata": {
        "id": "Mo14xVCghn2m"
      },
      "execution_count": 112,
      "outputs": []
    },
    {
      "cell_type": "code",
      "source": [
        "Donkey1_data = find_actor_two_datasets(train_data, validate_data, Donkey1)"
      ],
      "metadata": {
        "id": "rJjdZEz5h-BH",
        "outputId": "57155e7f-bde9-43d4-9774-e261a57ba47b",
        "colab": {
          "base_uri": "https://localhost:8080/",
          "height": 426
        }
      },
      "execution_count": 113,
      "outputs": [
        {
          "output_type": "display_data",
          "data": {
            "text/plain": [
              "                                                                      1042369\n",
              "nconst                                                              nm0000552\n",
              "tconst                      [tt0842425, tt0873257, tt0360985, tt0477051, t...\n",
              "category                                                                actor\n",
              "primaryName                                                      Eddie Murphy\n",
              "knownForTitles                   [tt0094898, tt0117218, tt0126029, tt0443489]\n",
              "no_nominations_oscars_norm                                              0.023\n",
              "no_nominations_globes_norm                                              0.261\n",
              "no_nominations_emmy_norm                                                  0.5\n",
              "no_films_norm                                                           0.008\n",
              "average_films_rating_norm                                               0.648\n",
              "genres_code                 [1, 1, 0, 1, 1, 1, 0, 0, 1, 1, 0, 0, 0, 0, 0, ...\n",
              "types_code                                  [1, 0, 0, 1, 1, 0, 1, 0, 1, 1, 0]"
            ],
            "text/html": [
              "\n",
              "  <div id=\"df-87d38232-c4b0-4115-babe-bba534bc3263\">\n",
              "    <div class=\"colab-df-container\">\n",
              "      <div>\n",
              "<style scoped>\n",
              "    .dataframe tbody tr th:only-of-type {\n",
              "        vertical-align: middle;\n",
              "    }\n",
              "\n",
              "    .dataframe tbody tr th {\n",
              "        vertical-align: top;\n",
              "    }\n",
              "\n",
              "    .dataframe thead th {\n",
              "        text-align: right;\n",
              "    }\n",
              "</style>\n",
              "<table border=\"1\" class=\"dataframe\">\n",
              "  <thead>\n",
              "    <tr style=\"text-align: right;\">\n",
              "      <th></th>\n",
              "      <th>1042369</th>\n",
              "    </tr>\n",
              "  </thead>\n",
              "  <tbody>\n",
              "    <tr>\n",
              "      <th>nconst</th>\n",
              "      <td>nm0000552</td>\n",
              "    </tr>\n",
              "    <tr>\n",
              "      <th>tconst</th>\n",
              "      <td>[tt0842425, tt0873257, tt0360985, tt0477051, t...</td>\n",
              "    </tr>\n",
              "    <tr>\n",
              "      <th>category</th>\n",
              "      <td>actor</td>\n",
              "    </tr>\n",
              "    <tr>\n",
              "      <th>primaryName</th>\n",
              "      <td>Eddie Murphy</td>\n",
              "    </tr>\n",
              "    <tr>\n",
              "      <th>knownForTitles</th>\n",
              "      <td>[tt0094898, tt0117218, tt0126029, tt0443489]</td>\n",
              "    </tr>\n",
              "    <tr>\n",
              "      <th>no_nominations_oscars_norm</th>\n",
              "      <td>0.023</td>\n",
              "    </tr>\n",
              "    <tr>\n",
              "      <th>no_nominations_globes_norm</th>\n",
              "      <td>0.261</td>\n",
              "    </tr>\n",
              "    <tr>\n",
              "      <th>no_nominations_emmy_norm</th>\n",
              "      <td>0.5</td>\n",
              "    </tr>\n",
              "    <tr>\n",
              "      <th>no_films_norm</th>\n",
              "      <td>0.008</td>\n",
              "    </tr>\n",
              "    <tr>\n",
              "      <th>average_films_rating_norm</th>\n",
              "      <td>0.648</td>\n",
              "    </tr>\n",
              "    <tr>\n",
              "      <th>genres_code</th>\n",
              "      <td>[1, 1, 0, 1, 1, 1, 0, 0, 1, 1, 0, 0, 0, 0, 0, ...</td>\n",
              "    </tr>\n",
              "    <tr>\n",
              "      <th>types_code</th>\n",
              "      <td>[1, 0, 0, 1, 1, 0, 1, 0, 1, 1, 0]</td>\n",
              "    </tr>\n",
              "  </tbody>\n",
              "</table>\n",
              "</div>\n",
              "      <button class=\"colab-df-convert\" onclick=\"convertToInteractive('df-87d38232-c4b0-4115-babe-bba534bc3263')\"\n",
              "              title=\"Convert this dataframe to an interactive table.\"\n",
              "              style=\"display:none;\">\n",
              "        \n",
              "  <svg xmlns=\"http://www.w3.org/2000/svg\" height=\"24px\"viewBox=\"0 0 24 24\"\n",
              "       width=\"24px\">\n",
              "    <path d=\"M0 0h24v24H0V0z\" fill=\"none\"/>\n",
              "    <path d=\"M18.56 5.44l.94 2.06.94-2.06 2.06-.94-2.06-.94-.94-2.06-.94 2.06-2.06.94zm-11 1L8.5 8.5l.94-2.06 2.06-.94-2.06-.94L8.5 2.5l-.94 2.06-2.06.94zm10 10l.94 2.06.94-2.06 2.06-.94-2.06-.94-.94-2.06-.94 2.06-2.06.94z\"/><path d=\"M17.41 7.96l-1.37-1.37c-.4-.4-.92-.59-1.43-.59-.52 0-1.04.2-1.43.59L10.3 9.45l-7.72 7.72c-.78.78-.78 2.05 0 2.83L4 21.41c.39.39.9.59 1.41.59.51 0 1.02-.2 1.41-.59l7.78-7.78 2.81-2.81c.8-.78.8-2.07 0-2.86zM5.41 20L4 18.59l7.72-7.72 1.47 1.35L5.41 20z\"/>\n",
              "  </svg>\n",
              "      </button>\n",
              "      \n",
              "  <style>\n",
              "    .colab-df-container {\n",
              "      display:flex;\n",
              "      flex-wrap:wrap;\n",
              "      gap: 12px;\n",
              "    }\n",
              "\n",
              "    .colab-df-convert {\n",
              "      background-color: #E8F0FE;\n",
              "      border: none;\n",
              "      border-radius: 50%;\n",
              "      cursor: pointer;\n",
              "      display: none;\n",
              "      fill: #1967D2;\n",
              "      height: 32px;\n",
              "      padding: 0 0 0 0;\n",
              "      width: 32px;\n",
              "    }\n",
              "\n",
              "    .colab-df-convert:hover {\n",
              "      background-color: #E2EBFA;\n",
              "      box-shadow: 0px 1px 2px rgba(60, 64, 67, 0.3), 0px 1px 3px 1px rgba(60, 64, 67, 0.15);\n",
              "      fill: #174EA6;\n",
              "    }\n",
              "\n",
              "    [theme=dark] .colab-df-convert {\n",
              "      background-color: #3B4455;\n",
              "      fill: #D2E3FC;\n",
              "    }\n",
              "\n",
              "    [theme=dark] .colab-df-convert:hover {\n",
              "      background-color: #434B5C;\n",
              "      box-shadow: 0px 1px 3px 1px rgba(0, 0, 0, 0.15);\n",
              "      filter: drop-shadow(0px 1px 2px rgba(0, 0, 0, 0.3));\n",
              "      fill: #FFFFFF;\n",
              "    }\n",
              "  </style>\n",
              "\n",
              "      <script>\n",
              "        const buttonEl =\n",
              "          document.querySelector('#df-87d38232-c4b0-4115-babe-bba534bc3263 button.colab-df-convert');\n",
              "        buttonEl.style.display =\n",
              "          google.colab.kernel.accessAllowed ? 'block' : 'none';\n",
              "\n",
              "        async function convertToInteractive(key) {\n",
              "          const element = document.querySelector('#df-87d38232-c4b0-4115-babe-bba534bc3263');\n",
              "          const dataTable =\n",
              "            await google.colab.kernel.invokeFunction('convertToInteractive',\n",
              "                                                     [key], {});\n",
              "          if (!dataTable) return;\n",
              "\n",
              "          const docLinkHtml = 'Like what you see? Visit the ' +\n",
              "            '<a target=\"_blank\" href=https://colab.research.google.com/notebooks/data_table.ipynb>data table notebook</a>'\n",
              "            + ' to learn more about interactive tables.';\n",
              "          element.innerHTML = '';\n",
              "          dataTable['output_type'] = 'display_data';\n",
              "          await google.colab.output.renderOutput(dataTable, element);\n",
              "          const docLink = document.createElement('div');\n",
              "          docLink.innerHTML = docLinkHtml;\n",
              "          element.appendChild(docLink);\n",
              "        }\n",
              "      </script>\n",
              "    </div>\n",
              "  </div>\n",
              "  "
            ]
          },
          "metadata": {}
        }
      ]
    },
    {
      "cell_type": "code",
      "source": [
        "if Donkey1 in list(train_data['nconst']):\n",
        "    ids, values = similarity_one_vs_all_new(train_data, Donkey1_data, True)\n",
        "    ids, values = select_top_similiar(ids, values, 3)\n",
        "    names = replace_ids_with_names(train_data, ids, 3)\n",
        "elif Donkey1 in list(validate_data['nconst']):\n",
        "    ids, values = similarity_one_vs_all_new(validate_data, Donkey1_data, True)\n",
        "    ids, values = select_top_similiar(ids, values, 3)\n",
        "    names = replace_ids_with_names(validate_data, ids, 3)\n",
        "ranking = print_top_similiar(Donkey1_data[3], names, values)"
      ],
      "metadata": {
        "id": "sdbmHggzie3J",
        "outputId": "74e27a5b-8084-468b-826d-907cd3a2eca9",
        "colab": {
          "base_uri": "https://localhost:8080/"
        }
      },
      "execution_count": 114,
      "outputs": [
        {
          "output_type": "stream",
          "name": "stdout",
          "text": [
            "Najbardziej podobnymi do Eddie Murphy aktorami/aktorkami są w kolejności:\n",
            "  - Nacho Vigalondo z similarity równym: 0.248\n",
            "  - Kit DeZolt z similarity równym: 0.247\n",
            "  - P.J. Brown z similarity równym: 0.242\n"
          ]
        }
      ]
    },
    {
      "cell_type": "code",
      "source": [
        "file_object = open(RANKINGS, 'a')\n",
        "text = \"Najbardziej podobni do {}:\\n- {}, similarity: {}\\n- {}, similarity: {}\\n- {}, similarity: {}\\n\".format(Donkey1[3], names[0], values[0], names[1], values[1], names[2], values[2])\n",
        "file_object.write(text)\n",
        "file_object.close()"
      ],
      "metadata": {
        "id": "crNFkrKTiqXp"
      },
      "execution_count": 115,
      "outputs": []
    },
    {
      "cell_type": "code",
      "source": [
        "Donkey2 = \"nm0836136\""
      ],
      "metadata": {
        "id": "2vwAC0Fmi0qW"
      },
      "execution_count": 116,
      "outputs": []
    },
    {
      "cell_type": "code",
      "source": [
        "Donkey2_data = find_actor_two_datasets(train_data, validate_data, Donkey2)"
      ],
      "metadata": {
        "id": "Bgpcs5XBjJlW",
        "outputId": "b2453ac2-2353-4477-f0ec-3711c24eb895",
        "colab": {
          "base_uri": "https://localhost:8080/",
          "height": 426
        }
      },
      "execution_count": 117,
      "outputs": [
        {
          "output_type": "display_data",
          "data": {
            "text/plain": [
              "                                                                      1410031\n",
              "nconst                                                              nm0836136\n",
              "tconst                      [tt0091096, tt0250103, tt0380636, tt0209445, t...\n",
              "category                                                                actor\n",
              "primaryName                                                       Jerzy Stuhr\n",
              "knownForTitles                   [tt0246593, tt0209445, tt0078763, tt0123889]\n",
              "no_nominations_oscars_norm                                                0.0\n",
              "no_nominations_globes_norm                                                0.0\n",
              "no_nominations_emmy_norm                                                  0.5\n",
              "no_films_norm                                                           0.005\n",
              "average_films_rating_norm                                               0.667\n",
              "genres_code                 [1, 1, 1, 1, 1, 0, 0, 0, 1, 1, 0, 0, 1, 1, 0, ...\n",
              "types_code                                  [1, 0, 1, 1, 1, 0, 1, 0, 0, 1, 0]"
            ],
            "text/html": [
              "\n",
              "  <div id=\"df-5a6a7091-ac73-4acf-87ee-fa1f9d2b6735\">\n",
              "    <div class=\"colab-df-container\">\n",
              "      <div>\n",
              "<style scoped>\n",
              "    .dataframe tbody tr th:only-of-type {\n",
              "        vertical-align: middle;\n",
              "    }\n",
              "\n",
              "    .dataframe tbody tr th {\n",
              "        vertical-align: top;\n",
              "    }\n",
              "\n",
              "    .dataframe thead th {\n",
              "        text-align: right;\n",
              "    }\n",
              "</style>\n",
              "<table border=\"1\" class=\"dataframe\">\n",
              "  <thead>\n",
              "    <tr style=\"text-align: right;\">\n",
              "      <th></th>\n",
              "      <th>1410031</th>\n",
              "    </tr>\n",
              "  </thead>\n",
              "  <tbody>\n",
              "    <tr>\n",
              "      <th>nconst</th>\n",
              "      <td>nm0836136</td>\n",
              "    </tr>\n",
              "    <tr>\n",
              "      <th>tconst</th>\n",
              "      <td>[tt0091096, tt0250103, tt0380636, tt0209445, t...</td>\n",
              "    </tr>\n",
              "    <tr>\n",
              "      <th>category</th>\n",
              "      <td>actor</td>\n",
              "    </tr>\n",
              "    <tr>\n",
              "      <th>primaryName</th>\n",
              "      <td>Jerzy Stuhr</td>\n",
              "    </tr>\n",
              "    <tr>\n",
              "      <th>knownForTitles</th>\n",
              "      <td>[tt0246593, tt0209445, tt0078763, tt0123889]</td>\n",
              "    </tr>\n",
              "    <tr>\n",
              "      <th>no_nominations_oscars_norm</th>\n",
              "      <td>0.0</td>\n",
              "    </tr>\n",
              "    <tr>\n",
              "      <th>no_nominations_globes_norm</th>\n",
              "      <td>0.0</td>\n",
              "    </tr>\n",
              "    <tr>\n",
              "      <th>no_nominations_emmy_norm</th>\n",
              "      <td>0.5</td>\n",
              "    </tr>\n",
              "    <tr>\n",
              "      <th>no_films_norm</th>\n",
              "      <td>0.005</td>\n",
              "    </tr>\n",
              "    <tr>\n",
              "      <th>average_films_rating_norm</th>\n",
              "      <td>0.667</td>\n",
              "    </tr>\n",
              "    <tr>\n",
              "      <th>genres_code</th>\n",
              "      <td>[1, 1, 1, 1, 1, 0, 0, 0, 1, 1, 0, 0, 1, 1, 0, ...</td>\n",
              "    </tr>\n",
              "    <tr>\n",
              "      <th>types_code</th>\n",
              "      <td>[1, 0, 1, 1, 1, 0, 1, 0, 0, 1, 0]</td>\n",
              "    </tr>\n",
              "  </tbody>\n",
              "</table>\n",
              "</div>\n",
              "      <button class=\"colab-df-convert\" onclick=\"convertToInteractive('df-5a6a7091-ac73-4acf-87ee-fa1f9d2b6735')\"\n",
              "              title=\"Convert this dataframe to an interactive table.\"\n",
              "              style=\"display:none;\">\n",
              "        \n",
              "  <svg xmlns=\"http://www.w3.org/2000/svg\" height=\"24px\"viewBox=\"0 0 24 24\"\n",
              "       width=\"24px\">\n",
              "    <path d=\"M0 0h24v24H0V0z\" fill=\"none\"/>\n",
              "    <path d=\"M18.56 5.44l.94 2.06.94-2.06 2.06-.94-2.06-.94-.94-2.06-.94 2.06-2.06.94zm-11 1L8.5 8.5l.94-2.06 2.06-.94-2.06-.94L8.5 2.5l-.94 2.06-2.06.94zm10 10l.94 2.06.94-2.06 2.06-.94-2.06-.94-.94-2.06-.94 2.06-2.06.94z\"/><path d=\"M17.41 7.96l-1.37-1.37c-.4-.4-.92-.59-1.43-.59-.52 0-1.04.2-1.43.59L10.3 9.45l-7.72 7.72c-.78.78-.78 2.05 0 2.83L4 21.41c.39.39.9.59 1.41.59.51 0 1.02-.2 1.41-.59l7.78-7.78 2.81-2.81c.8-.78.8-2.07 0-2.86zM5.41 20L4 18.59l7.72-7.72 1.47 1.35L5.41 20z\"/>\n",
              "  </svg>\n",
              "      </button>\n",
              "      \n",
              "  <style>\n",
              "    .colab-df-container {\n",
              "      display:flex;\n",
              "      flex-wrap:wrap;\n",
              "      gap: 12px;\n",
              "    }\n",
              "\n",
              "    .colab-df-convert {\n",
              "      background-color: #E8F0FE;\n",
              "      border: none;\n",
              "      border-radius: 50%;\n",
              "      cursor: pointer;\n",
              "      display: none;\n",
              "      fill: #1967D2;\n",
              "      height: 32px;\n",
              "      padding: 0 0 0 0;\n",
              "      width: 32px;\n",
              "    }\n",
              "\n",
              "    .colab-df-convert:hover {\n",
              "      background-color: #E2EBFA;\n",
              "      box-shadow: 0px 1px 2px rgba(60, 64, 67, 0.3), 0px 1px 3px 1px rgba(60, 64, 67, 0.15);\n",
              "      fill: #174EA6;\n",
              "    }\n",
              "\n",
              "    [theme=dark] .colab-df-convert {\n",
              "      background-color: #3B4455;\n",
              "      fill: #D2E3FC;\n",
              "    }\n",
              "\n",
              "    [theme=dark] .colab-df-convert:hover {\n",
              "      background-color: #434B5C;\n",
              "      box-shadow: 0px 1px 3px 1px rgba(0, 0, 0, 0.15);\n",
              "      filter: drop-shadow(0px 1px 2px rgba(0, 0, 0, 0.3));\n",
              "      fill: #FFFFFF;\n",
              "    }\n",
              "  </style>\n",
              "\n",
              "      <script>\n",
              "        const buttonEl =\n",
              "          document.querySelector('#df-5a6a7091-ac73-4acf-87ee-fa1f9d2b6735 button.colab-df-convert');\n",
              "        buttonEl.style.display =\n",
              "          google.colab.kernel.accessAllowed ? 'block' : 'none';\n",
              "\n",
              "        async function convertToInteractive(key) {\n",
              "          const element = document.querySelector('#df-5a6a7091-ac73-4acf-87ee-fa1f9d2b6735');\n",
              "          const dataTable =\n",
              "            await google.colab.kernel.invokeFunction('convertToInteractive',\n",
              "                                                     [key], {});\n",
              "          if (!dataTable) return;\n",
              "\n",
              "          const docLinkHtml = 'Like what you see? Visit the ' +\n",
              "            '<a target=\"_blank\" href=https://colab.research.google.com/notebooks/data_table.ipynb>data table notebook</a>'\n",
              "            + ' to learn more about interactive tables.';\n",
              "          element.innerHTML = '';\n",
              "          dataTable['output_type'] = 'display_data';\n",
              "          await google.colab.output.renderOutput(dataTable, element);\n",
              "          const docLink = document.createElement('div');\n",
              "          docLink.innerHTML = docLinkHtml;\n",
              "          element.appendChild(docLink);\n",
              "        }\n",
              "      </script>\n",
              "    </div>\n",
              "  </div>\n",
              "  "
            ]
          },
          "metadata": {}
        }
      ]
    },
    {
      "cell_type": "code",
      "source": [
        "if Donkey2 in list(train_data['nconst']):\n",
        "    ids, values = similarity_one_vs_all_new(train_data, Donkey2_data, True)\n",
        "    ids, values = select_top_similiar(ids, values, 3)\n",
        "    names = replace_ids_with_names(train_data, ids, 3)\n",
        "elif Donkey2 in list(validate_data['nconst']):\n",
        "    ids, values = similarity_one_vs_all_new(validate_data, Donkey2_data, True)\n",
        "    ids, values = select_top_similiar(ids, values, 3)\n",
        "    names = replace_ids_with_names(validate_data, ids, 3)\n",
        "ranking = print_top_similiar(Donkey2_data[3], names, values)"
      ],
      "metadata": {
        "id": "wxIiU7KdjWdn",
        "outputId": "04032a4e-c012-4383-8446-6d9fae313e3d",
        "colab": {
          "base_uri": "https://localhost:8080/"
        }
      },
      "execution_count": 118,
      "outputs": [
        {
          "output_type": "stream",
          "name": "stdout",
          "text": [
            "Najbardziej podobnymi do Jerzy Stuhr aktorami/aktorkami są w kolejności:\n",
            "  - Leslie Carlson z similarity równym: 0.324\n",
            "  - R. Keith Harris z similarity równym: 0.32\n",
            "  - Peter MacNicol z similarity równym: 0.32\n"
          ]
        }
      ]
    },
    {
      "cell_type": "code",
      "source": [
        "file_object = open(RANKINGS, 'a')\n",
        "text = \"Najbardziej podobni do {}:\\n- {}, similarity: {}\\n- {}, similarity: {}\\n- {}, similarity: {}\\n\".format(Donkey2[3], names[0], values[0], names[1], values[1], names[2], values[2])\n",
        "file_object.write(text)\n",
        "file_object.close()"
      ],
      "metadata": {
        "id": "bvpzu8szjgdx"
      },
      "execution_count": 119,
      "outputs": []
    },
    {
      "cell_type": "code",
      "source": [
        "similarity_value = similarity_new(Donkey2_data, Donkey1_data, True)\n",
        "print(\"Wartość similarity dla \", Donkey2_data[3], \" i \", Donkey1_data[3], \" wynosi: \", similarity_value)"
      ],
      "metadata": {
        "id": "H2obt2JPjtaI",
        "outputId": "18b37aec-7439-4596-c4c3-b80322d05760",
        "colab": {
          "base_uri": "https://localhost:8080/"
        }
      },
      "execution_count": 120,
      "outputs": [
        {
          "output_type": "stream",
          "name": "stdout",
          "text": [
            "Wartość similarity dla  Jerzy Stuhr  i  Eddie Murphy  wynosi:  0.17999592476489035\n"
          ]
        }
      ]
    },
    {
      "cell_type": "code",
      "source": [
        "file_object = open(SIMILARITY_VALUES, 'a')\n",
        "text = \"{}, {}, similarity value: {}\\n\".format(Donkey2_data[3], Donkey1_data[3], similarity_value)\n",
        "file_object.write(text)\n",
        "file_object.close()"
      ],
      "metadata": {
        "id": "wFgmuGSaj5On"
      },
      "execution_count": 121,
      "outputs": []
    },
    {
      "cell_type": "code",
      "source": [
        "Mufasa1 = \"nm0000469\""
      ],
      "metadata": {
        "id": "cdKtBixqkBjg"
      },
      "execution_count": 128,
      "outputs": []
    },
    {
      "cell_type": "code",
      "source": [
        "Mufasa1_data = find_actor_two_datasets(train_data, validate_data, Mufasa1)"
      ],
      "metadata": {
        "id": "GT7n2QuLldG3",
        "outputId": "a15f6492-64b4-4e2e-d2dd-f4c9f9bf86e0",
        "colab": {
          "base_uri": "https://localhost:8080/",
          "height": 426
        }
      },
      "execution_count": 129,
      "outputs": [
        {
          "output_type": "display_data",
          "data": {
            "text/plain": [
              "                                                                      1131662\n",
              "nconst                                                              nm0000469\n",
              "tconst                      [tt0082212, tt0092534, tt0104215, tt0110357, t...\n",
              "category                                                                actor\n",
              "primaryName                                                  James Earl Jones\n",
              "knownForTitles                   [tt0094898, tt0099810, tt3748528, tt6105098]\n",
              "no_nominations_oscars_norm                                              0.023\n",
              "no_nominations_globes_norm                                              0.217\n",
              "no_nominations_emmy_norm                                                  0.5\n",
              "no_films_norm                                                           0.019\n",
              "average_films_rating_norm                                               0.681\n",
              "genres_code                 [1, 1, 1, 1, 1, 1, 1, 0, 1, 1, 0, 0, 1, 1, 0, ...\n",
              "types_code                                  [1, 1, 1, 1, 1, 1, 1, 1, 0, 1, 0]"
            ],
            "text/html": [
              "\n",
              "  <div id=\"df-84ff2e5d-64fa-4192-be6f-5fdd43db7663\">\n",
              "    <div class=\"colab-df-container\">\n",
              "      <div>\n",
              "<style scoped>\n",
              "    .dataframe tbody tr th:only-of-type {\n",
              "        vertical-align: middle;\n",
              "    }\n",
              "\n",
              "    .dataframe tbody tr th {\n",
              "        vertical-align: top;\n",
              "    }\n",
              "\n",
              "    .dataframe thead th {\n",
              "        text-align: right;\n",
              "    }\n",
              "</style>\n",
              "<table border=\"1\" class=\"dataframe\">\n",
              "  <thead>\n",
              "    <tr style=\"text-align: right;\">\n",
              "      <th></th>\n",
              "      <th>1131662</th>\n",
              "    </tr>\n",
              "  </thead>\n",
              "  <tbody>\n",
              "    <tr>\n",
              "      <th>nconst</th>\n",
              "      <td>nm0000469</td>\n",
              "    </tr>\n",
              "    <tr>\n",
              "      <th>tconst</th>\n",
              "      <td>[tt0082212, tt0092534, tt0104215, tt0110357, t...</td>\n",
              "    </tr>\n",
              "    <tr>\n",
              "      <th>category</th>\n",
              "      <td>actor</td>\n",
              "    </tr>\n",
              "    <tr>\n",
              "      <th>primaryName</th>\n",
              "      <td>James Earl Jones</td>\n",
              "    </tr>\n",
              "    <tr>\n",
              "      <th>knownForTitles</th>\n",
              "      <td>[tt0094898, tt0099810, tt3748528, tt6105098]</td>\n",
              "    </tr>\n",
              "    <tr>\n",
              "      <th>no_nominations_oscars_norm</th>\n",
              "      <td>0.023</td>\n",
              "    </tr>\n",
              "    <tr>\n",
              "      <th>no_nominations_globes_norm</th>\n",
              "      <td>0.217</td>\n",
              "    </tr>\n",
              "    <tr>\n",
              "      <th>no_nominations_emmy_norm</th>\n",
              "      <td>0.5</td>\n",
              "    </tr>\n",
              "    <tr>\n",
              "      <th>no_films_norm</th>\n",
              "      <td>0.019</td>\n",
              "    </tr>\n",
              "    <tr>\n",
              "      <th>average_films_rating_norm</th>\n",
              "      <td>0.681</td>\n",
              "    </tr>\n",
              "    <tr>\n",
              "      <th>genres_code</th>\n",
              "      <td>[1, 1, 1, 1, 1, 1, 1, 0, 1, 1, 0, 0, 1, 1, 0, ...</td>\n",
              "    </tr>\n",
              "    <tr>\n",
              "      <th>types_code</th>\n",
              "      <td>[1, 1, 1, 1, 1, 1, 1, 1, 0, 1, 0]</td>\n",
              "    </tr>\n",
              "  </tbody>\n",
              "</table>\n",
              "</div>\n",
              "      <button class=\"colab-df-convert\" onclick=\"convertToInteractive('df-84ff2e5d-64fa-4192-be6f-5fdd43db7663')\"\n",
              "              title=\"Convert this dataframe to an interactive table.\"\n",
              "              style=\"display:none;\">\n",
              "        \n",
              "  <svg xmlns=\"http://www.w3.org/2000/svg\" height=\"24px\"viewBox=\"0 0 24 24\"\n",
              "       width=\"24px\">\n",
              "    <path d=\"M0 0h24v24H0V0z\" fill=\"none\"/>\n",
              "    <path d=\"M18.56 5.44l.94 2.06.94-2.06 2.06-.94-2.06-.94-.94-2.06-.94 2.06-2.06.94zm-11 1L8.5 8.5l.94-2.06 2.06-.94-2.06-.94L8.5 2.5l-.94 2.06-2.06.94zm10 10l.94 2.06.94-2.06 2.06-.94-2.06-.94-.94-2.06-.94 2.06-2.06.94z\"/><path d=\"M17.41 7.96l-1.37-1.37c-.4-.4-.92-.59-1.43-.59-.52 0-1.04.2-1.43.59L10.3 9.45l-7.72 7.72c-.78.78-.78 2.05 0 2.83L4 21.41c.39.39.9.59 1.41.59.51 0 1.02-.2 1.41-.59l7.78-7.78 2.81-2.81c.8-.78.8-2.07 0-2.86zM5.41 20L4 18.59l7.72-7.72 1.47 1.35L5.41 20z\"/>\n",
              "  </svg>\n",
              "      </button>\n",
              "      \n",
              "  <style>\n",
              "    .colab-df-container {\n",
              "      display:flex;\n",
              "      flex-wrap:wrap;\n",
              "      gap: 12px;\n",
              "    }\n",
              "\n",
              "    .colab-df-convert {\n",
              "      background-color: #E8F0FE;\n",
              "      border: none;\n",
              "      border-radius: 50%;\n",
              "      cursor: pointer;\n",
              "      display: none;\n",
              "      fill: #1967D2;\n",
              "      height: 32px;\n",
              "      padding: 0 0 0 0;\n",
              "      width: 32px;\n",
              "    }\n",
              "\n",
              "    .colab-df-convert:hover {\n",
              "      background-color: #E2EBFA;\n",
              "      box-shadow: 0px 1px 2px rgba(60, 64, 67, 0.3), 0px 1px 3px 1px rgba(60, 64, 67, 0.15);\n",
              "      fill: #174EA6;\n",
              "    }\n",
              "\n",
              "    [theme=dark] .colab-df-convert {\n",
              "      background-color: #3B4455;\n",
              "      fill: #D2E3FC;\n",
              "    }\n",
              "\n",
              "    [theme=dark] .colab-df-convert:hover {\n",
              "      background-color: #434B5C;\n",
              "      box-shadow: 0px 1px 3px 1px rgba(0, 0, 0, 0.15);\n",
              "      filter: drop-shadow(0px 1px 2px rgba(0, 0, 0, 0.3));\n",
              "      fill: #FFFFFF;\n",
              "    }\n",
              "  </style>\n",
              "\n",
              "      <script>\n",
              "        const buttonEl =\n",
              "          document.querySelector('#df-84ff2e5d-64fa-4192-be6f-5fdd43db7663 button.colab-df-convert');\n",
              "        buttonEl.style.display =\n",
              "          google.colab.kernel.accessAllowed ? 'block' : 'none';\n",
              "\n",
              "        async function convertToInteractive(key) {\n",
              "          const element = document.querySelector('#df-84ff2e5d-64fa-4192-be6f-5fdd43db7663');\n",
              "          const dataTable =\n",
              "            await google.colab.kernel.invokeFunction('convertToInteractive',\n",
              "                                                     [key], {});\n",
              "          if (!dataTable) return;\n",
              "\n",
              "          const docLinkHtml = 'Like what you see? Visit the ' +\n",
              "            '<a target=\"_blank\" href=https://colab.research.google.com/notebooks/data_table.ipynb>data table notebook</a>'\n",
              "            + ' to learn more about interactive tables.';\n",
              "          element.innerHTML = '';\n",
              "          dataTable['output_type'] = 'display_data';\n",
              "          await google.colab.output.renderOutput(dataTable, element);\n",
              "          const docLink = document.createElement('div');\n",
              "          docLink.innerHTML = docLinkHtml;\n",
              "          element.appendChild(docLink);\n",
              "        }\n",
              "      </script>\n",
              "    </div>\n",
              "  </div>\n",
              "  "
            ]
          },
          "metadata": {}
        }
      ]
    },
    {
      "cell_type": "code",
      "source": [
        "if Mufasa1 in list(train_data['nconst']):\n",
        "    ids, values = similarity_one_vs_all_new(train_data, Mufasa1_data, True)\n",
        "    ids, values = select_top_similiar(ids, values, 3)\n",
        "    names = replace_ids_with_names(train_data, ids, 3)\n",
        "elif Mufasa1 in list(validate_data['nconst']):\n",
        "    ids, values = similarity_one_vs_all_new(validate_data, Mufasa1_data, True)\n",
        "    ids, values = select_top_similiar(ids, values, 3)\n",
        "    names = replace_ids_with_names(validate_data, ids, 3)\n",
        "ranking = print_top_similiar(Mufasa1_data[3], names, values)"
      ],
      "metadata": {
        "id": "3_vkhoh0m3lp",
        "outputId": "c1d3579b-e2ae-4dba-fa92-79e56729a552",
        "colab": {
          "base_uri": "https://localhost:8080/"
        }
      },
      "execution_count": 130,
      "outputs": [
        {
          "output_type": "stream",
          "name": "stdout",
          "text": [
            "Najbardziej podobnymi do James Earl Jones aktorami/aktorkami są w kolejności:\n",
            "  - Jimmy Smits z similarity równym: 0.302\n",
            "  - Alec Baldwin z similarity równym: 0.302\n",
            "  - Ed Harris z similarity równym: 0.299\n"
          ]
        }
      ]
    },
    {
      "cell_type": "code",
      "source": [
        "file_object = open(RANKINGS, 'a')\n",
        "text = \"Najbardziej podobni do {}:\\n- {}, similarity: {}\\n- {}, similarity: {}\\n- {}, similarity: {}\\n\".format(Mufasa1[3], names[0], values[0], names[1], values[1], names[2], values[2])\n",
        "file_object.write(text)\n",
        "file_object.close()"
      ],
      "metadata": {
        "id": "bsTJ1RH_nGT6"
      },
      "execution_count": 131,
      "outputs": []
    },
    {
      "cell_type": "code",
      "source": [
        "Mufasa2 = \"nm0953975\""
      ],
      "metadata": {
        "id": "6wYwmBDxnVnE"
      },
      "execution_count": 132,
      "outputs": []
    },
    {
      "cell_type": "code",
      "source": [
        "Mufasa2_data = find_actor_two_datasets(train_data, validate_data, Mufasa2)"
      ],
      "metadata": {
        "id": "jTWc6kwPnimf",
        "outputId": "7ac72f75-46f5-42dc-8cb8-2511f980bd3e",
        "colab": {
          "base_uri": "https://localhost:8080/",
          "height": 426
        }
      },
      "execution_count": 133,
      "outputs": [
        {
          "output_type": "display_data",
          "data": {
            "text/plain": [
              "                                                                       259073\n",
              "nconst                                                              nm0953975\n",
              "tconst                      [tt0551824, tt0965545, tt10395818, tt14330772,...\n",
              "category                                                                actor\n",
              "primaryName                                                  Wiktor Zborowski\n",
              "knownForTitles                   [tt0102242, tt0343292, tt0173562, tt0128378]\n",
              "no_nominations_oscars_norm                                                0.0\n",
              "no_nominations_globes_norm                                                0.0\n",
              "no_nominations_emmy_norm                                                  0.5\n",
              "no_films_norm                                                           0.004\n",
              "average_films_rating_norm                                                0.58\n",
              "genres_code                 [1, 0, 0, 1, 1, 1, 0, 0, 0, 1, 0, 0, 1, 1, 0, ...\n",
              "types_code                                  [1, 1, 0, 1, 1, 0, 1, 0, 0, 1, 0]"
            ],
            "text/html": [
              "\n",
              "  <div id=\"df-bd5e2ea3-2bc6-470e-b391-a63509f5aa86\">\n",
              "    <div class=\"colab-df-container\">\n",
              "      <div>\n",
              "<style scoped>\n",
              "    .dataframe tbody tr th:only-of-type {\n",
              "        vertical-align: middle;\n",
              "    }\n",
              "\n",
              "    .dataframe tbody tr th {\n",
              "        vertical-align: top;\n",
              "    }\n",
              "\n",
              "    .dataframe thead th {\n",
              "        text-align: right;\n",
              "    }\n",
              "</style>\n",
              "<table border=\"1\" class=\"dataframe\">\n",
              "  <thead>\n",
              "    <tr style=\"text-align: right;\">\n",
              "      <th></th>\n",
              "      <th>259073</th>\n",
              "    </tr>\n",
              "  </thead>\n",
              "  <tbody>\n",
              "    <tr>\n",
              "      <th>nconst</th>\n",
              "      <td>nm0953975</td>\n",
              "    </tr>\n",
              "    <tr>\n",
              "      <th>tconst</th>\n",
              "      <td>[tt0551824, tt0965545, tt10395818, tt14330772,...</td>\n",
              "    </tr>\n",
              "    <tr>\n",
              "      <th>category</th>\n",
              "      <td>actor</td>\n",
              "    </tr>\n",
              "    <tr>\n",
              "      <th>primaryName</th>\n",
              "      <td>Wiktor Zborowski</td>\n",
              "    </tr>\n",
              "    <tr>\n",
              "      <th>knownForTitles</th>\n",
              "      <td>[tt0102242, tt0343292, tt0173562, tt0128378]</td>\n",
              "    </tr>\n",
              "    <tr>\n",
              "      <th>no_nominations_oscars_norm</th>\n",
              "      <td>0.0</td>\n",
              "    </tr>\n",
              "    <tr>\n",
              "      <th>no_nominations_globes_norm</th>\n",
              "      <td>0.0</td>\n",
              "    </tr>\n",
              "    <tr>\n",
              "      <th>no_nominations_emmy_norm</th>\n",
              "      <td>0.5</td>\n",
              "    </tr>\n",
              "    <tr>\n",
              "      <th>no_films_norm</th>\n",
              "      <td>0.004</td>\n",
              "    </tr>\n",
              "    <tr>\n",
              "      <th>average_films_rating_norm</th>\n",
              "      <td>0.58</td>\n",
              "    </tr>\n",
              "    <tr>\n",
              "      <th>genres_code</th>\n",
              "      <td>[1, 0, 0, 1, 1, 1, 0, 0, 0, 1, 0, 0, 1, 1, 0, ...</td>\n",
              "    </tr>\n",
              "    <tr>\n",
              "      <th>types_code</th>\n",
              "      <td>[1, 1, 0, 1, 1, 0, 1, 0, 0, 1, 0]</td>\n",
              "    </tr>\n",
              "  </tbody>\n",
              "</table>\n",
              "</div>\n",
              "      <button class=\"colab-df-convert\" onclick=\"convertToInteractive('df-bd5e2ea3-2bc6-470e-b391-a63509f5aa86')\"\n",
              "              title=\"Convert this dataframe to an interactive table.\"\n",
              "              style=\"display:none;\">\n",
              "        \n",
              "  <svg xmlns=\"http://www.w3.org/2000/svg\" height=\"24px\"viewBox=\"0 0 24 24\"\n",
              "       width=\"24px\">\n",
              "    <path d=\"M0 0h24v24H0V0z\" fill=\"none\"/>\n",
              "    <path d=\"M18.56 5.44l.94 2.06.94-2.06 2.06-.94-2.06-.94-.94-2.06-.94 2.06-2.06.94zm-11 1L8.5 8.5l.94-2.06 2.06-.94-2.06-.94L8.5 2.5l-.94 2.06-2.06.94zm10 10l.94 2.06.94-2.06 2.06-.94-2.06-.94-.94-2.06-.94 2.06-2.06.94z\"/><path d=\"M17.41 7.96l-1.37-1.37c-.4-.4-.92-.59-1.43-.59-.52 0-1.04.2-1.43.59L10.3 9.45l-7.72 7.72c-.78.78-.78 2.05 0 2.83L4 21.41c.39.39.9.59 1.41.59.51 0 1.02-.2 1.41-.59l7.78-7.78 2.81-2.81c.8-.78.8-2.07 0-2.86zM5.41 20L4 18.59l7.72-7.72 1.47 1.35L5.41 20z\"/>\n",
              "  </svg>\n",
              "      </button>\n",
              "      \n",
              "  <style>\n",
              "    .colab-df-container {\n",
              "      display:flex;\n",
              "      flex-wrap:wrap;\n",
              "      gap: 12px;\n",
              "    }\n",
              "\n",
              "    .colab-df-convert {\n",
              "      background-color: #E8F0FE;\n",
              "      border: none;\n",
              "      border-radius: 50%;\n",
              "      cursor: pointer;\n",
              "      display: none;\n",
              "      fill: #1967D2;\n",
              "      height: 32px;\n",
              "      padding: 0 0 0 0;\n",
              "      width: 32px;\n",
              "    }\n",
              "\n",
              "    .colab-df-convert:hover {\n",
              "      background-color: #E2EBFA;\n",
              "      box-shadow: 0px 1px 2px rgba(60, 64, 67, 0.3), 0px 1px 3px 1px rgba(60, 64, 67, 0.15);\n",
              "      fill: #174EA6;\n",
              "    }\n",
              "\n",
              "    [theme=dark] .colab-df-convert {\n",
              "      background-color: #3B4455;\n",
              "      fill: #D2E3FC;\n",
              "    }\n",
              "\n",
              "    [theme=dark] .colab-df-convert:hover {\n",
              "      background-color: #434B5C;\n",
              "      box-shadow: 0px 1px 3px 1px rgba(0, 0, 0, 0.15);\n",
              "      filter: drop-shadow(0px 1px 2px rgba(0, 0, 0, 0.3));\n",
              "      fill: #FFFFFF;\n",
              "    }\n",
              "  </style>\n",
              "\n",
              "      <script>\n",
              "        const buttonEl =\n",
              "          document.querySelector('#df-bd5e2ea3-2bc6-470e-b391-a63509f5aa86 button.colab-df-convert');\n",
              "        buttonEl.style.display =\n",
              "          google.colab.kernel.accessAllowed ? 'block' : 'none';\n",
              "\n",
              "        async function convertToInteractive(key) {\n",
              "          const element = document.querySelector('#df-bd5e2ea3-2bc6-470e-b391-a63509f5aa86');\n",
              "          const dataTable =\n",
              "            await google.colab.kernel.invokeFunction('convertToInteractive',\n",
              "                                                     [key], {});\n",
              "          if (!dataTable) return;\n",
              "\n",
              "          const docLinkHtml = 'Like what you see? Visit the ' +\n",
              "            '<a target=\"_blank\" href=https://colab.research.google.com/notebooks/data_table.ipynb>data table notebook</a>'\n",
              "            + ' to learn more about interactive tables.';\n",
              "          element.innerHTML = '';\n",
              "          dataTable['output_type'] = 'display_data';\n",
              "          await google.colab.output.renderOutput(dataTable, element);\n",
              "          const docLink = document.createElement('div');\n",
              "          docLink.innerHTML = docLinkHtml;\n",
              "          element.appendChild(docLink);\n",
              "        }\n",
              "      </script>\n",
              "    </div>\n",
              "  </div>\n",
              "  "
            ]
          },
          "metadata": {}
        }
      ]
    },
    {
      "cell_type": "code",
      "source": [
        "if Mufasa2 in list(train_data['nconst']):\n",
        "    ids, values = similarity_one_vs_all_new(train_data, Mufasa2_data, True)\n",
        "    ids, values = select_top_similiar(ids, values, 3)\n",
        "    names = replace_ids_with_names(train_data, ids, 3)\n",
        "elif Mufasa2 in list(validate_data['nconst']):\n",
        "    ids, values = similarity_one_vs_all_new(validate_data, Mufasa2_data, True)\n",
        "    ids, values = select_top_similiar(ids, values, 3)\n",
        "    names = replace_ids_with_names(validate_data, ids, 3)\n",
        "ranking = print_top_similiar(Mufasa2_data[3], names, values)"
      ],
      "metadata": {
        "id": "6eAuVUoZnndK",
        "outputId": "3c078cc1-46e9-47cd-cf68-4f32482ab0fa",
        "colab": {
          "base_uri": "https://localhost:8080/"
        }
      },
      "execution_count": 134,
      "outputs": [
        {
          "output_type": "stream",
          "name": "stdout",
          "text": [
            "Najbardziej podobnymi do Wiktor Zborowski aktorami/aktorkami są w kolejności:\n",
            "  - Ryszard Jablonski z similarity równym: 0.292\n",
            "  - Maciej Stuhr z similarity równym: 0.289\n",
            "  - Gustaw Lutkiewicz z similarity równym: 0.284\n"
          ]
        }
      ]
    },
    {
      "cell_type": "code",
      "source": [
        "file_object = open(RANKINGS, 'a')\n",
        "text = \"Najbardziej podobni do {}:\\n- {}, similarity: {}\\n- {}, similarity: {}\\n- {}, similarity: {}\\n\".format(Mufasa2[3], names[0], values[0], names[1], values[1], names[2], values[2])\n",
        "file_object.write(text)\n",
        "file_object.close()"
      ],
      "metadata": {
        "id": "PNzqu9-Dn1Z7"
      },
      "execution_count": 135,
      "outputs": []
    },
    {
      "cell_type": "code",
      "source": [
        "similarity_value = similarity_new(Mufasa2_data, Mufasa1_data, True)\n",
        "print(\"Wartość similarity dla \", Mufasa2_data[3], \" i \", Mufasa1_data[3], \" wynosi: \", similarity_value)"
      ],
      "metadata": {
        "id": "ao5rOP3on7MI",
        "outputId": "15afb9cb-427d-4adf-dc02-7312c94e3b76",
        "colab": {
          "base_uri": "https://localhost:8080/"
        }
      },
      "execution_count": 136,
      "outputs": [
        {
          "output_type": "stream",
          "name": "stdout",
          "text": [
            "Wartość similarity dla  Wiktor Zborowski  i  James Earl Jones  wynosi:  0.10012871473354235\n"
          ]
        }
      ]
    },
    {
      "cell_type": "code",
      "source": [
        "file_object = open(SIMILARITY_VALUES, 'a')\n",
        "text = \"{}, {}, similarity value: {}\\n\".format(Mufasa2_data[3], Mufasa1_data[3], similarity_value)\n",
        "file_object.write(text)\n",
        "file_object.close()"
      ],
      "metadata": {
        "id": "H5bMW4xUoUbK"
      },
      "execution_count": 137,
      "outputs": []
    },
    {
      "cell_type": "markdown",
      "source": [
        "#Znani z filmów walki"
      ],
      "metadata": {
        "id": "eeH_r0G8oiz5"
      }
    },
    {
      "cell_type": "code",
      "source": [
        "Bruce_Lee = \"nm0000045\""
      ],
      "metadata": {
        "id": "y6qrKQnjom1z"
      },
      "execution_count": 138,
      "outputs": []
    },
    {
      "cell_type": "code",
      "source": [
        "Bruce_Lee_data = find_actor_two_datasets(train_data, validate_data, Bruce_Lee)"
      ],
      "metadata": {
        "id": "1DgoXHNOoyTW",
        "outputId": "f7459c6a-bd86-4d90-995f-a9cdf5b34c98",
        "colab": {
          "base_uri": "https://localhost:8080/",
          "height": 426
        }
      },
      "execution_count": 139,
      "outputs": [
        {
          "output_type": "display_data",
          "data": {
            "text/plain": [
              "                                                                      1746144\n",
              "nconst                                                              nm0000045\n",
              "tconst                      [tt0066681, tt0193289, tt0592818, tt0592819, t...\n",
              "category                                                                actor\n",
              "primaryName                                                         Bruce Lee\n",
              "knownForTitles                   [tt0070034, tt0068767, tt0067824, tt0068935]\n",
              "no_nominations_oscars_norm                                                0.0\n",
              "no_nominations_globes_norm                                                0.0\n",
              "no_nominations_emmy_norm                                                  0.5\n",
              "no_films_norm                                                           0.004\n",
              "average_films_rating_norm                                               0.723\n",
              "genres_code                 [1, 1, 0, 1, 1, 0, 0, 0, 1, 0, 0, 0, 0, 0, 0, ...\n",
              "types_code                                  [1, 0, 0, 1, 1, 0, 0, 0, 0, 0, 0]"
            ],
            "text/html": [
              "\n",
              "  <div id=\"df-1e0e0ae5-a9ed-496b-87ae-c49f80060703\">\n",
              "    <div class=\"colab-df-container\">\n",
              "      <div>\n",
              "<style scoped>\n",
              "    .dataframe tbody tr th:only-of-type {\n",
              "        vertical-align: middle;\n",
              "    }\n",
              "\n",
              "    .dataframe tbody tr th {\n",
              "        vertical-align: top;\n",
              "    }\n",
              "\n",
              "    .dataframe thead th {\n",
              "        text-align: right;\n",
              "    }\n",
              "</style>\n",
              "<table border=\"1\" class=\"dataframe\">\n",
              "  <thead>\n",
              "    <tr style=\"text-align: right;\">\n",
              "      <th></th>\n",
              "      <th>1746144</th>\n",
              "    </tr>\n",
              "  </thead>\n",
              "  <tbody>\n",
              "    <tr>\n",
              "      <th>nconst</th>\n",
              "      <td>nm0000045</td>\n",
              "    </tr>\n",
              "    <tr>\n",
              "      <th>tconst</th>\n",
              "      <td>[tt0066681, tt0193289, tt0592818, tt0592819, t...</td>\n",
              "    </tr>\n",
              "    <tr>\n",
              "      <th>category</th>\n",
              "      <td>actor</td>\n",
              "    </tr>\n",
              "    <tr>\n",
              "      <th>primaryName</th>\n",
              "      <td>Bruce Lee</td>\n",
              "    </tr>\n",
              "    <tr>\n",
              "      <th>knownForTitles</th>\n",
              "      <td>[tt0070034, tt0068767, tt0067824, tt0068935]</td>\n",
              "    </tr>\n",
              "    <tr>\n",
              "      <th>no_nominations_oscars_norm</th>\n",
              "      <td>0.0</td>\n",
              "    </tr>\n",
              "    <tr>\n",
              "      <th>no_nominations_globes_norm</th>\n",
              "      <td>0.0</td>\n",
              "    </tr>\n",
              "    <tr>\n",
              "      <th>no_nominations_emmy_norm</th>\n",
              "      <td>0.5</td>\n",
              "    </tr>\n",
              "    <tr>\n",
              "      <th>no_films_norm</th>\n",
              "      <td>0.004</td>\n",
              "    </tr>\n",
              "    <tr>\n",
              "      <th>average_films_rating_norm</th>\n",
              "      <td>0.723</td>\n",
              "    </tr>\n",
              "    <tr>\n",
              "      <th>genres_code</th>\n",
              "      <td>[1, 1, 0, 1, 1, 0, 0, 0, 1, 0, 0, 0, 0, 0, 0, ...</td>\n",
              "    </tr>\n",
              "    <tr>\n",
              "      <th>types_code</th>\n",
              "      <td>[1, 0, 0, 1, 1, 0, 0, 0, 0, 0, 0]</td>\n",
              "    </tr>\n",
              "  </tbody>\n",
              "</table>\n",
              "</div>\n",
              "      <button class=\"colab-df-convert\" onclick=\"convertToInteractive('df-1e0e0ae5-a9ed-496b-87ae-c49f80060703')\"\n",
              "              title=\"Convert this dataframe to an interactive table.\"\n",
              "              style=\"display:none;\">\n",
              "        \n",
              "  <svg xmlns=\"http://www.w3.org/2000/svg\" height=\"24px\"viewBox=\"0 0 24 24\"\n",
              "       width=\"24px\">\n",
              "    <path d=\"M0 0h24v24H0V0z\" fill=\"none\"/>\n",
              "    <path d=\"M18.56 5.44l.94 2.06.94-2.06 2.06-.94-2.06-.94-.94-2.06-.94 2.06-2.06.94zm-11 1L8.5 8.5l.94-2.06 2.06-.94-2.06-.94L8.5 2.5l-.94 2.06-2.06.94zm10 10l.94 2.06.94-2.06 2.06-.94-2.06-.94-.94-2.06-.94 2.06-2.06.94z\"/><path d=\"M17.41 7.96l-1.37-1.37c-.4-.4-.92-.59-1.43-.59-.52 0-1.04.2-1.43.59L10.3 9.45l-7.72 7.72c-.78.78-.78 2.05 0 2.83L4 21.41c.39.39.9.59 1.41.59.51 0 1.02-.2 1.41-.59l7.78-7.78 2.81-2.81c.8-.78.8-2.07 0-2.86zM5.41 20L4 18.59l7.72-7.72 1.47 1.35L5.41 20z\"/>\n",
              "  </svg>\n",
              "      </button>\n",
              "      \n",
              "  <style>\n",
              "    .colab-df-container {\n",
              "      display:flex;\n",
              "      flex-wrap:wrap;\n",
              "      gap: 12px;\n",
              "    }\n",
              "\n",
              "    .colab-df-convert {\n",
              "      background-color: #E8F0FE;\n",
              "      border: none;\n",
              "      border-radius: 50%;\n",
              "      cursor: pointer;\n",
              "      display: none;\n",
              "      fill: #1967D2;\n",
              "      height: 32px;\n",
              "      padding: 0 0 0 0;\n",
              "      width: 32px;\n",
              "    }\n",
              "\n",
              "    .colab-df-convert:hover {\n",
              "      background-color: #E2EBFA;\n",
              "      box-shadow: 0px 1px 2px rgba(60, 64, 67, 0.3), 0px 1px 3px 1px rgba(60, 64, 67, 0.15);\n",
              "      fill: #174EA6;\n",
              "    }\n",
              "\n",
              "    [theme=dark] .colab-df-convert {\n",
              "      background-color: #3B4455;\n",
              "      fill: #D2E3FC;\n",
              "    }\n",
              "\n",
              "    [theme=dark] .colab-df-convert:hover {\n",
              "      background-color: #434B5C;\n",
              "      box-shadow: 0px 1px 3px 1px rgba(0, 0, 0, 0.15);\n",
              "      filter: drop-shadow(0px 1px 2px rgba(0, 0, 0, 0.3));\n",
              "      fill: #FFFFFF;\n",
              "    }\n",
              "  </style>\n",
              "\n",
              "      <script>\n",
              "        const buttonEl =\n",
              "          document.querySelector('#df-1e0e0ae5-a9ed-496b-87ae-c49f80060703 button.colab-df-convert');\n",
              "        buttonEl.style.display =\n",
              "          google.colab.kernel.accessAllowed ? 'block' : 'none';\n",
              "\n",
              "        async function convertToInteractive(key) {\n",
              "          const element = document.querySelector('#df-1e0e0ae5-a9ed-496b-87ae-c49f80060703');\n",
              "          const dataTable =\n",
              "            await google.colab.kernel.invokeFunction('convertToInteractive',\n",
              "                                                     [key], {});\n",
              "          if (!dataTable) return;\n",
              "\n",
              "          const docLinkHtml = 'Like what you see? Visit the ' +\n",
              "            '<a target=\"_blank\" href=https://colab.research.google.com/notebooks/data_table.ipynb>data table notebook</a>'\n",
              "            + ' to learn more about interactive tables.';\n",
              "          element.innerHTML = '';\n",
              "          dataTable['output_type'] = 'display_data';\n",
              "          await google.colab.output.renderOutput(dataTable, element);\n",
              "          const docLink = document.createElement('div');\n",
              "          docLink.innerHTML = docLinkHtml;\n",
              "          element.appendChild(docLink);\n",
              "        }\n",
              "      </script>\n",
              "    </div>\n",
              "  </div>\n",
              "  "
            ]
          },
          "metadata": {}
        }
      ]
    },
    {
      "cell_type": "code",
      "source": [
        "if Bruce_Lee in list(train_data['nconst']):\n",
        "    ids, values = similarity_one_vs_all_new(train_data, Bruce_Lee_data, True)\n",
        "    ids, values = select_top_similiar(ids, values, 3)\n",
        "    names = replace_ids_with_names(train_data, ids, 3)\n",
        "elif Bruce_Lee in list(validate_data['nconst']):\n",
        "    ids, values = similarity_one_vs_all_new(validate_data, Bruce_Lee_data, True)\n",
        "    ids, values = select_top_similiar(ids, values, 3)\n",
        "    names = replace_ids_with_names(validate_data, ids, 3)\n",
        "ranking = print_top_similiar(Bruce_Lee_data[3], names, values)"
      ],
      "metadata": {
        "id": "Wj_Fhp52o87O",
        "outputId": "058234a3-be19-4bdf-a792-392bb15602fa",
        "colab": {
          "base_uri": "https://localhost:8080/"
        }
      },
      "execution_count": 140,
      "outputs": [
        {
          "output_type": "stream",
          "name": "stdout",
          "text": [
            "Najbardziej podobnymi do Bruce Lee aktorami/aktorkami są w kolejności:\n",
            "  - Wende Wagner z similarity równym: 0.437\n",
            "  - Lloyd Gough z similarity równym: 0.369\n",
            "  - Nora Miao z similarity równym: 0.355\n"
          ]
        }
      ]
    },
    {
      "cell_type": "code",
      "source": [
        "file_object = open(RANKINGS, 'a')\n",
        "text = \"Najbardziej podobni do {}:\\n- {}, similarity: {}\\n- {}, similarity: {}\\n- {}, similarity: {}\\n\".format(Bruce_Lee[3], names[0], values[0], names[1], values[1], names[2], values[2])\n",
        "file_object.write(text)\n",
        "file_object.close()"
      ],
      "metadata": {
        "id": "CcOaFVw8pT2g"
      },
      "execution_count": 141,
      "outputs": []
    },
    {
      "cell_type": "code",
      "source": [
        "Chuck_Norris = \"nm0001569\""
      ],
      "metadata": {
        "id": "gipQ5SQNpeTX"
      },
      "execution_count": 142,
      "outputs": []
    },
    {
      "cell_type": "code",
      "source": [
        "Chuck_Norris_data = find_actor_two_datasets(train_data, validate_data, Chuck_Norris)"
      ],
      "metadata": {
        "id": "U9qknhOPpq9N",
        "outputId": "4c91753f-ebcb-450c-9e83-955ba3b36429",
        "colab": {
          "base_uri": "https://localhost:8080/",
          "height": 426
        }
      },
      "execution_count": 143,
      "outputs": [
        {
          "output_type": "display_data",
          "data": {
            "text/plain": [
              "                                                                      1161115\n",
              "nconst                                                              nm0001569\n",
              "tconst                      [tt0082350, tt0743439, tt0743456, tt0743468, t...\n",
              "category                                                                actor\n",
              "primaryName                                                      Chuck Norris\n",
              "knownForTitles                   [tt0068935, tt0089348, tt1764651, tt0106168]\n",
              "no_nominations_oscars_norm                                                0.0\n",
              "no_nominations_globes_norm                                                0.0\n",
              "no_nominations_emmy_norm                                                  0.5\n",
              "no_films_norm                                                           0.022\n",
              "average_films_rating_norm                                               0.698\n",
              "genres_code                 [1, 1, 1, 1, 1, 1, 1, 1, 1, 1, 0, 1, 0, 0, 0, ...\n",
              "types_code                                  [1, 0, 1, 1, 1, 1, 1, 0, 0, 0, 0]"
            ],
            "text/html": [
              "\n",
              "  <div id=\"df-e4626b99-9f76-41da-9f41-27b75ec414bf\">\n",
              "    <div class=\"colab-df-container\">\n",
              "      <div>\n",
              "<style scoped>\n",
              "    .dataframe tbody tr th:only-of-type {\n",
              "        vertical-align: middle;\n",
              "    }\n",
              "\n",
              "    .dataframe tbody tr th {\n",
              "        vertical-align: top;\n",
              "    }\n",
              "\n",
              "    .dataframe thead th {\n",
              "        text-align: right;\n",
              "    }\n",
              "</style>\n",
              "<table border=\"1\" class=\"dataframe\">\n",
              "  <thead>\n",
              "    <tr style=\"text-align: right;\">\n",
              "      <th></th>\n",
              "      <th>1161115</th>\n",
              "    </tr>\n",
              "  </thead>\n",
              "  <tbody>\n",
              "    <tr>\n",
              "      <th>nconst</th>\n",
              "      <td>nm0001569</td>\n",
              "    </tr>\n",
              "    <tr>\n",
              "      <th>tconst</th>\n",
              "      <td>[tt0082350, tt0743439, tt0743456, tt0743468, t...</td>\n",
              "    </tr>\n",
              "    <tr>\n",
              "      <th>category</th>\n",
              "      <td>actor</td>\n",
              "    </tr>\n",
              "    <tr>\n",
              "      <th>primaryName</th>\n",
              "      <td>Chuck Norris</td>\n",
              "    </tr>\n",
              "    <tr>\n",
              "      <th>knownForTitles</th>\n",
              "      <td>[tt0068935, tt0089348, tt1764651, tt0106168]</td>\n",
              "    </tr>\n",
              "    <tr>\n",
              "      <th>no_nominations_oscars_norm</th>\n",
              "      <td>0.0</td>\n",
              "    </tr>\n",
              "    <tr>\n",
              "      <th>no_nominations_globes_norm</th>\n",
              "      <td>0.0</td>\n",
              "    </tr>\n",
              "    <tr>\n",
              "      <th>no_nominations_emmy_norm</th>\n",
              "      <td>0.5</td>\n",
              "    </tr>\n",
              "    <tr>\n",
              "      <th>no_films_norm</th>\n",
              "      <td>0.022</td>\n",
              "    </tr>\n",
              "    <tr>\n",
              "      <th>average_films_rating_norm</th>\n",
              "      <td>0.698</td>\n",
              "    </tr>\n",
              "    <tr>\n",
              "      <th>genres_code</th>\n",
              "      <td>[1, 1, 1, 1, 1, 1, 1, 1, 1, 1, 0, 1, 0, 0, 0, ...</td>\n",
              "    </tr>\n",
              "    <tr>\n",
              "      <th>types_code</th>\n",
              "      <td>[1, 0, 1, 1, 1, 1, 1, 0, 0, 0, 0]</td>\n",
              "    </tr>\n",
              "  </tbody>\n",
              "</table>\n",
              "</div>\n",
              "      <button class=\"colab-df-convert\" onclick=\"convertToInteractive('df-e4626b99-9f76-41da-9f41-27b75ec414bf')\"\n",
              "              title=\"Convert this dataframe to an interactive table.\"\n",
              "              style=\"display:none;\">\n",
              "        \n",
              "  <svg xmlns=\"http://www.w3.org/2000/svg\" height=\"24px\"viewBox=\"0 0 24 24\"\n",
              "       width=\"24px\">\n",
              "    <path d=\"M0 0h24v24H0V0z\" fill=\"none\"/>\n",
              "    <path d=\"M18.56 5.44l.94 2.06.94-2.06 2.06-.94-2.06-.94-.94-2.06-.94 2.06-2.06.94zm-11 1L8.5 8.5l.94-2.06 2.06-.94-2.06-.94L8.5 2.5l-.94 2.06-2.06.94zm10 10l.94 2.06.94-2.06 2.06-.94-2.06-.94-.94-2.06-.94 2.06-2.06.94z\"/><path d=\"M17.41 7.96l-1.37-1.37c-.4-.4-.92-.59-1.43-.59-.52 0-1.04.2-1.43.59L10.3 9.45l-7.72 7.72c-.78.78-.78 2.05 0 2.83L4 21.41c.39.39.9.59 1.41.59.51 0 1.02-.2 1.41-.59l7.78-7.78 2.81-2.81c.8-.78.8-2.07 0-2.86zM5.41 20L4 18.59l7.72-7.72 1.47 1.35L5.41 20z\"/>\n",
              "  </svg>\n",
              "      </button>\n",
              "      \n",
              "  <style>\n",
              "    .colab-df-container {\n",
              "      display:flex;\n",
              "      flex-wrap:wrap;\n",
              "      gap: 12px;\n",
              "    }\n",
              "\n",
              "    .colab-df-convert {\n",
              "      background-color: #E8F0FE;\n",
              "      border: none;\n",
              "      border-radius: 50%;\n",
              "      cursor: pointer;\n",
              "      display: none;\n",
              "      fill: #1967D2;\n",
              "      height: 32px;\n",
              "      padding: 0 0 0 0;\n",
              "      width: 32px;\n",
              "    }\n",
              "\n",
              "    .colab-df-convert:hover {\n",
              "      background-color: #E2EBFA;\n",
              "      box-shadow: 0px 1px 2px rgba(60, 64, 67, 0.3), 0px 1px 3px 1px rgba(60, 64, 67, 0.15);\n",
              "      fill: #174EA6;\n",
              "    }\n",
              "\n",
              "    [theme=dark] .colab-df-convert {\n",
              "      background-color: #3B4455;\n",
              "      fill: #D2E3FC;\n",
              "    }\n",
              "\n",
              "    [theme=dark] .colab-df-convert:hover {\n",
              "      background-color: #434B5C;\n",
              "      box-shadow: 0px 1px 3px 1px rgba(0, 0, 0, 0.15);\n",
              "      filter: drop-shadow(0px 1px 2px rgba(0, 0, 0, 0.3));\n",
              "      fill: #FFFFFF;\n",
              "    }\n",
              "  </style>\n",
              "\n",
              "      <script>\n",
              "        const buttonEl =\n",
              "          document.querySelector('#df-e4626b99-9f76-41da-9f41-27b75ec414bf button.colab-df-convert');\n",
              "        buttonEl.style.display =\n",
              "          google.colab.kernel.accessAllowed ? 'block' : 'none';\n",
              "\n",
              "        async function convertToInteractive(key) {\n",
              "          const element = document.querySelector('#df-e4626b99-9f76-41da-9f41-27b75ec414bf');\n",
              "          const dataTable =\n",
              "            await google.colab.kernel.invokeFunction('convertToInteractive',\n",
              "                                                     [key], {});\n",
              "          if (!dataTable) return;\n",
              "\n",
              "          const docLinkHtml = 'Like what you see? Visit the ' +\n",
              "            '<a target=\"_blank\" href=https://colab.research.google.com/notebooks/data_table.ipynb>data table notebook</a>'\n",
              "            + ' to learn more about interactive tables.';\n",
              "          element.innerHTML = '';\n",
              "          dataTable['output_type'] = 'display_data';\n",
              "          await google.colab.output.renderOutput(dataTable, element);\n",
              "          const docLink = document.createElement('div');\n",
              "          docLink.innerHTML = docLinkHtml;\n",
              "          element.appendChild(docLink);\n",
              "        }\n",
              "      </script>\n",
              "    </div>\n",
              "  </div>\n",
              "  "
            ]
          },
          "metadata": {}
        }
      ]
    },
    {
      "cell_type": "code",
      "source": [
        "if Chuck_Norris in list(train_data['nconst']):\n",
        "    ids, values = similarity_one_vs_all_new(train_data, Chuck_Norris_data, True)\n",
        "    ids, values = select_top_similiar(ids, values, 3)\n",
        "    names = replace_ids_with_names(train_data, ids, 3)\n",
        "elif Chuck_Norris in list(validate_data['nconst']):\n",
        "    ids, values = similarity_one_vs_all_new(validate_data, Chuck_Norris_data, True)\n",
        "    ids, values = select_top_similiar(ids, values, 3)\n",
        "    names = replace_ids_with_names(validate_data, ids, 3)\n",
        "ranking = print_top_similiar(Chuck_Norris_data[3], names, values)"
      ],
      "metadata": {
        "id": "AGNiraIupzK_",
        "outputId": "d21857ac-16c0-4b6b-acdd-cb4506a8d88f",
        "colab": {
          "base_uri": "https://localhost:8080/"
        }
      },
      "execution_count": 144,
      "outputs": [
        {
          "output_type": "stream",
          "name": "stdout",
          "text": [
            "Najbardziej podobnymi do Chuck Norris aktorami/aktorkami są w kolejności:\n",
            "  - Sheree J. Wilson z similarity równym: 0.446\n",
            "  - Noble Willingham z similarity równym: 0.442\n",
            "  - Clarence Gilyard Jr. z similarity równym: 0.434\n"
          ]
        }
      ]
    },
    {
      "cell_type": "code",
      "source": [
        "file_object = open(RANKINGS, 'a')\n",
        "text = \"Najbardziej podobni do {}:\\n- {}, similarity: {}\\n- {}, similarity: {}\\n- {}, similarity: {}\\n\".format(Chuck_Norris[3], names[0], values[0], names[1], values[1], names[2], values[2])\n",
        "file_object.write(text)\n",
        "file_object.close()"
      ],
      "metadata": {
        "id": "SsrxpFZKqDaJ"
      },
      "execution_count": 145,
      "outputs": []
    },
    {
      "cell_type": "code",
      "source": [
        "similarity_value = similarity_new(Chuck_Norris_data, Bruce_Lee_data, True)\n",
        "print(\"Wartość similarity dla \", Chuck_Norris_data[3], \" i \",Bruce_Lee_data[3], \" wynosi: \", similarity_value)"
      ],
      "metadata": {
        "id": "tSLZwPvRqJv8",
        "outputId": "676d362e-38d1-41ba-cc5e-0a473c54af48",
        "colab": {
          "base_uri": "https://localhost:8080/"
        }
      },
      "execution_count": 146,
      "outputs": [
        {
          "output_type": "stream",
          "name": "stdout",
          "text": [
            "Wartość similarity dla  Chuck Norris  i  Bruce Lee  wynosi:  0.1928297984773848\n"
          ]
        }
      ]
    },
    {
      "cell_type": "code",
      "source": [
        "file_object = open(SIMILARITY_VALUES, 'a')\n",
        "text = \"{}, {}, similarity value: {}\\n\".format(Chuck_Norris_data[3], Bruce_Lee_data[3], similarity_value)\n",
        "file_object.write(text)\n",
        "file_object.close()"
      ],
      "metadata": {
        "id": "cV_f6fU3qdX1"
      },
      "execution_count": 147,
      "outputs": []
    }
  ]
}