{
  "nbformat": 4,
  "nbformat_minor": 0,
  "metadata": {
    "colab": {
      "provenance": [],
      "authorship_tag": "ABX9TyNCMoGB4ll6JPiNPuKiOolf",
      "include_colab_link": true
    },
    "kernelspec": {
      "name": "python3",
      "display_name": "Python 3"
    },
    "language_info": {
      "name": "python"
    }
  },
  "cells": [
    {
      "cell_type": "markdown",
      "metadata": {
        "id": "view-in-github",
        "colab_type": "text"
      },
      "source": [
        "<a href=\"https://colab.research.google.com/github/PiotrMaciejKowalski/BigData2022-actors/blob/pobieranie_zdj%C4%99%C4%87/colabs%5Cpobieranie_zdj%C4%99%C4%87_z_URL.ipynb\" target=\"_parent\"><img src=\"https://colab.research.google.com/assets/colab-badge.svg\" alt=\"Open In Colab\"/></a>"
      ]
    },
    {
      "cell_type": "code",
      "source": [
        "from google.colab import drive\n",
        "drive.mount('/content/gdrive')"
      ],
      "metadata": {
        "id": "3jvD4dUeSPFN",
        "outputId": "ebe3264e-65ec-4c07-eddd-7f921762c866",
        "colab": {
          "base_uri": "https://localhost:8080/"
        }
      },
      "execution_count": 24,
      "outputs": [
        {
          "output_type": "stream",
          "name": "stdout",
          "text": [
            "Drive already mounted at /content/gdrive; to attempt to forcibly remount, call drive.mount(\"/content/gdrive\", force_remount=True).\n"
          ]
        }
      ]
    },
    {
      "cell_type": "code",
      "source": [
        "!git clone https://github.com/PiotrMaciejKowalski/BigData2022-actors.git\n",
        "!mv /content/BigData2022-actors/* .\n",
        "!mv /content/BigData2022-actors/.* .\n",
        "!rmdir /content/BigData2022-actors/"
      ],
      "metadata": {
        "id": "TJ2XniTm_Imu",
        "outputId": "94766893-28d9-435b-e7cc-19cb99c62e47",
        "colab": {
          "base_uri": "https://localhost:8080/"
        }
      },
      "execution_count": 25,
      "outputs": [
        {
          "output_type": "stream",
          "name": "stdout",
          "text": [
            "Cloning into 'BigData2022-actors'...\n",
            "remote: Enumerating objects: 1696, done.\u001b[K\n",
            "remote: Counting objects: 100% (475/475), done.\u001b[K\n",
            "remote: Compressing objects: 100% (250/250), done.\u001b[K\n",
            "remote: Total 1696 (delta 345), reused 308 (delta 225), pack-reused 1221\u001b[K\n",
            "Receiving objects: 100% (1696/1696), 6.06 MiB | 21.04 MiB/s, done.\n",
            "Resolving deltas: 100% (1031/1031), done.\n",
            "mv: cannot move '/content/BigData2022-actors/colabs' to './colabs': Directory not empty\n",
            "mv: cannot move '/content/BigData2022-actors/data' to './data': Directory not empty\n",
            "mv: cannot move '/content/BigData2022-actors/docs' to './docs': Directory not empty\n",
            "mv: cannot move '/content/BigData2022-actors/lib' to './lib': Directory not empty\n",
            "mv: cannot move '/content/BigData2022-actors/notebooks' to './notebooks': Directory not empty\n",
            "mv: cannot move '/content/BigData2022-actors/tests' to './tests': Directory not empty\n",
            "mv: cannot move '/content/BigData2022-actors/tutorials' to './tutorials': Directory not empty\n",
            "mv: cannot move '/content/BigData2022-actors/.' to './.': Device or resource busy\n",
            "mv: cannot move '/content/BigData2022-actors/..' to './..': Device or resource busy\n",
            "mv: cannot move '/content/BigData2022-actors/.git' to './.git': Directory not empty\n",
            "rmdir: failed to remove '/content/BigData2022-actors/': Directory not empty\n"
          ]
        }
      ]
    },
    {
      "cell_type": "code",
      "source": [
        "!chmod +x setup_sparka.sh\n",
        "!./setup_sparka.sh"
      ],
      "metadata": {
        "id": "g1jJlgp0_Mc1",
        "outputId": "d4fddd83-e0fa-41c0-e99a-5c946f037a94",
        "colab": {
          "base_uri": "https://localhost:8080/"
        }
      },
      "execution_count": 26,
      "outputs": [
        {
          "output_type": "stream",
          "name": "stdout",
          "text": [
            "Looking in indexes: https://pypi.org/simple, https://us-python.pkg.dev/colab-wheels/public/simple/\n",
            "Requirement already satisfied: pyspark in /usr/local/lib/python3.8/dist-packages (3.3.1)\n",
            "Requirement already satisfied: py4j in /usr/local/lib/python3.8/dist-packages (0.10.9.5)\n",
            "--2023-01-21 16:31:53--  https://dlcdn.apache.org/spark/spark-3.3.1/spark-3.3.1-bin-hadoop2.tgz\n",
            "Resolving dlcdn.apache.org (dlcdn.apache.org)... 151.101.2.132, 2a04:4e42::644\n",
            "Connecting to dlcdn.apache.org (dlcdn.apache.org)|151.101.2.132|:443... connected.\n",
            "HTTP request sent, awaiting response... 200 OK\n",
            "Length: 274099817 (261M) [application/x-gzip]\n",
            "Saving to: ‘spark-3.3.1-bin-hadoop2.tgz.1’\n",
            "\n",
            "spark-3.3.1-bin-had 100%[===================>] 261.40M   184MB/s    in 1.4s    \n",
            "\n",
            "2023-01-21 16:31:55 (184 MB/s) - ‘spark-3.3.1-bin-hadoop2.tgz.1’ saved [274099817/274099817]\n",
            "\n"
          ]
        }
      ]
    },
    {
      "cell_type": "code",
      "execution_count": 27,
      "metadata": {
        "id": "8Vr3rumQ_t9i",
        "outputId": "f8139320-0045-456b-bd1e-277fe8acfe34",
        "colab": {
          "base_uri": "https://localhost:8080/"
        }
      },
      "outputs": [
        {
          "output_type": "stream",
          "name": "stdout",
          "text": [
            "Looking in indexes: https://pypi.org/simple, https://us-python.pkg.dev/colab-wheels/public/simple/\n",
            "Requirement already satisfied: requests in /usr/local/lib/python3.8/dist-packages (2.25.1)\n",
            "Requirement already satisfied: chardet<5,>=3.0.2 in /usr/local/lib/python3.8/dist-packages (from requests) (4.0.0)\n",
            "Requirement already satisfied: idna<3,>=2.5 in /usr/local/lib/python3.8/dist-packages (from requests) (2.10)\n",
            "Requirement already satisfied: certifi>=2017.4.17 in /usr/local/lib/python3.8/dist-packages (from requests) (2022.12.7)\n",
            "Requirement already satisfied: urllib3<1.27,>=1.21.1 in /usr/local/lib/python3.8/dist-packages (from requests) (1.24.3)\n"
          ]
        }
      ],
      "source": [
        "!pip install requests"
      ]
    },
    {
      "cell_type": "code",
      "source": [
        "#!git checkout pobieranie_zdjęć"
      ],
      "metadata": {
        "id": "MikJbF0ZK0Nc",
        "outputId": "9fda28fb-acbd-4af7-b5fe-e7d7f8d4d712",
        "colab": {
          "base_uri": "https://localhost:8080/"
        }
      },
      "execution_count": 33,
      "outputs": [
        {
          "output_type": "stream",
          "name": "stdout",
          "text": [
            "M\tCODEOWNERS\n",
            "M\tsetup_sparka.sh\n",
            "Already on 'pobieranie_zdjęć'\n",
            "Your branch is up to date with 'origin/pobieranie_zdjęć'.\n"
          ]
        }
      ]
    },
    {
      "cell_type": "code",
      "source": [
        "from pyspark.sql.types import StructType, StructField, StringType, IntegerType\n",
        "import requests\n",
        "import numpy as np\n",
        "import cv2\n",
        "from lib.pyspark_init import create_spark_context"
      ],
      "metadata": {
        "id": "0pDRD8D-QNAc",
        "colab": {
          "base_uri": "https://localhost:8080/",
          "height": 135
        },
        "outputId": "2325f8a8-3e61-4189-f8c9-fc0cf2566597"
      },
      "execution_count": 55,
      "outputs": [
        {
          "output_type": "error",
          "ename": "SyntaxError",
          "evalue": "ignored",
          "traceback": [
            "\u001b[0;36m  File \u001b[0;32m\"<ipython-input-55-9c9fd1e2e9aa>\"\u001b[0;36m, line \u001b[0;32m6\u001b[0m\n\u001b[0;31m    from ../lib/saving_img import save_download, df_save_download\u001b[0m\n\u001b[0m           ^\u001b[0m\n\u001b[0;31mSyntaxError\u001b[0m\u001b[0;31m:\u001b[0m invalid syntax\n"
          ]
        }
      ]
    },
    {
      "cell_type": "code",
      "source": [
        "spark = create_spark_context()"
      ],
      "metadata": {
        "id": "0CA-6YyzR1Hw"
      },
      "execution_count": null,
      "outputs": []
    },
    {
      "cell_type": "markdown",
      "source": [
        "test:"
      ],
      "metadata": {
        "id": "aTfThpRkG1D4"
      }
    },
    {
      "cell_type": "code",
      "source": [
        "dataframe = [(\"Lucas\",\"https://images.unsplash.com/photo-1508921912186-1d1a45ebb3c1?ixlib=rb-4.0.3&ixid=MnwxMjA3fDB8MHxzZWFyY2h8Mnx8cGhvdG98ZW58MHx8MHx8&w=1000&q=80\",\"Smith\",\"36636\",\"M\",3000),\n",
        "    (\"Elijah\",\"https://www.paperlessmovement.com/wp-content/uploads/2019/09/o2dvsv2pnhe.jpg\",\"\",\"40288\",\"M\",4000),\n",
        "    (\"Emma\",\"https://mymodernmet.com/wp/wp-content/uploads/2019/12/photos-of-indonesia-rarindra-prakarsa-4.jpg\",\"Williams\",\"42114\",\"F\",4000),\n",
        "    (\"Sophia\",\"https://live-production.wcms.abc-cdn.net.au/50749be1153e1907d7e1208fc96432f8?impolicy=wcms_crop_resize&cropH=844&cropW=1500&xPos=0&yPos=0&width=862&height=485\",\"Jones\",\"39192\",\"F\",4000),\n",
        "    (\"Mia\",\"https://media.wired.com/photos/62ccbecc4847c5414f1e3dc9/3:2/w_1280%2Cc_limit/Light-Photo-Video-Like-a-Pro-Gear-GettyImages-142009824.jpg\",\"Brown\",\"\",\"F\",-1)\n",
        "  ]\n",
        "\n",
        "schema = StructType([ \\\n",
        "    StructField(\"name\",StringType(),True), \\\n",
        "    StructField(\"url\",StringType(),True), \\\n",
        "    StructField(\"lastname\",StringType(),True), \\\n",
        "    StructField(\"id\", StringType(), True), \\\n",
        "    StructField(\"gender\", StringType(), True), \\\n",
        "    StructField(\"salary\", IntegerType(), True) \\\n",
        "  ])\n",
        " \n",
        "df = spark.createDataFrame(data=dataframe,schema=schema)"
      ],
      "metadata": {
        "id": "gB-0gIYCQy2H"
      },
      "execution_count": null,
      "outputs": []
    },
    {
      "cell_type": "code",
      "source": [
        "df_save_download(df, 1, 0, '/content/gdrive/MyDrive/bigdataaktorzy/ImgData')"
      ],
      "metadata": {
        "id": "PhCcri8KHBXM"
      },
      "execution_count": null,
      "outputs": []
    }
  ]
}